{
 "cells": [
  {
   "cell_type": "markdown",
   "metadata": {},
   "source": [
    "File specifically for stuff that I am taking off website but do not want to delete. "
   ]
  },
  {
   "cell_type": "markdown",
   "metadata": {},
   "source": [
    "## How the Ocean Helps Us\n",
    "**2a. Beach Attendance**\n",
    "[Source](https://catalog.data.gov/dataset/swimming-beach-attendance)\n",
    "\n",
    "- This data set covers the beach attendance in the state of New York\n",
    "- Extraction Method: Exporting as CSV\n",
    "- Link to Cleaned Data: [Here](data/01-modified-data/cleandata2a.csv)\n",
    "\n",
    "\n",
    "![ ](images/data2.png){width=50%}\n",
    "\n",
    "**2b. Employment in Ocean Sectors**\n",
    "[Source](https://opdgig.dos.ny.gov/datasets/e25794dc9cab4fe8bd40d76a18c80f66/explore?showTable=true)\n",
    "\n",
    "- This data illustrates 2013 ocean economy employment (number of jobs) for Northeast coastal counties, which comprise of 33 counties from Maine to New York.\n",
    "- Extraction Method: Exporting as CSV\n",
    "\n",
    "![ ](images/data10.png){width=50%}\n"
   ]
  }
 ],
 "metadata": {
  "language_info": {
   "name": "python"
  }
 },
 "nbformat": 4,
 "nbformat_minor": 2
}

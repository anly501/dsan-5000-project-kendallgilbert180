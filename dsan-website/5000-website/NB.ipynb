{
 "cells": [
  {
   "cell_type": "markdown",
   "metadata": {},
   "source": [
    "---\n",
    "title: \"Naive Bayes Overview\"\n",
    "format: html\n",
    "bibliography: project_reference.bib\n",
    "---"
   ]
  },
  {
   "cell_type": "markdown",
   "metadata": {},
   "source": [
    "## Introduction to Naive Bayes?\n",
    "\n",
    "Naive Bayes classification is a supervised machine learning algorithm used for classification tasks. This form of machine learning is based on the Bayes Theorem. \n",
    "\n",
    "Using Bayes theorem, we can find the probability of A happening, given that B has occurred. \n",
    "\n",
    "The Naive Bayes algorithm has the ability to predict the probability of a particular class or label based on observed features or attributes. \n",
    "\n",
    "Naive Bayes is called \"naive\" because it is assumed that the features are conditionally independent given the class label. Naive Bayes assumes that the presence or absence of one feature is unrelated to the presence or absence of other features. Simply put, the features are **independent** of eachother. \n",
    "\n",
    "Naive Bayes assumes that each feature/variable of the same class makes a independant and equal contribution  to the outcome.\n",
    "\n",
    "There are different variants of Naive Bayes and each is used for different circumstances. The different variants include Gaussian, Multinomial and Bernoulli. Gaussian assumes that the features in the dataset follow a normal distribution. It is typically used in NLP or sentiment analysis. Multinomial is used for discrete data and could be used for modeling text classification. Finally, Bernoulli is used when the data is binary or boolean.\n",
    "\n",
    "## Naive Bayes for my Project\n",
    "\n",
    "I will complete Naive Bayes on text data as well as record data. \n",
    "\n",
    "For record data, I am going to explore the probability of percentage of ocean policy based off of the features marine protected area (MPA), fishing exports, aquaculture production, environment-technology inventions, and policy instruments. I will use the variant **Guassian** as the features follow a (somewhat) normal distribution. To learn about and view Naive Bayes with record data navigate to the nav bar and click on \"Naive Bayes Record Data.\"\n",
    "\n",
    "For text data, I will use Naive Bayes on text data collected from the reddit API. I collected posts regarding ocean and plastic pollution. Thesse posts are classified into news, worldnews, travel, science and technology. To see Naive Bayes with text data navigate to the nav bar and click on \"Naive Bayes Text Data.\""
   ]
  },
  {
   "cell_type": "markdown",
   "metadata": {},
   "source": [
    "## Preparing Data for Naive Bayes\n",
    "\n",
    "Data needs to be separated into training, validation and testing sets.\n",
    "\n",
    "*Why is data split into training, validation and testing sets?*\n",
    "\n",
    "**Training Set:** This is the portion of the dataset used to train your machine learning model. The model learns patterns, relationships, and the underlying structure of the data from the training set.\n",
    "\n",
    "**Testing Set:** The testing set is used to evaluate the model's performance after it has been trained. It serves as an independent dataset to assess how well the model generalizes to unseen data. The testing set can estimate the model's accuracy, precision, recall, F1-score, etc.\n",
    "\n",
    "**Validation Set:** The validation set is used for model selection and hyperparameter tuning. It allows you to experiment with different model architectures, hyperparameters, and techniques to optimize your model's performance. You assess the model's performance on the validation set and make adjustments as needed.\n",
    "\n",
    "To learn more about training, testing and validation sets click [here](https://en.wikipedia.org/wiki/Training,_validation,_and_test_data_sets)."
   ]
  }
 ],
 "metadata": {
  "language_info": {
   "name": "python"
  },
  "orig_nbformat": 4
 },
 "nbformat": 4,
 "nbformat_minor": 2
}

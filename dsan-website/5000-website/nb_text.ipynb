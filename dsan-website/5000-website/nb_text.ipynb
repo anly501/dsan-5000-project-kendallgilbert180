{
 "cells": [
  {
   "cell_type": "markdown",
   "metadata": {},
   "source": [
    "## Naive Bayes - Text Data\n",
    "\n",
    "Within this tab I am running a naive bayes algorithm on text data extracted from reddit. The ultimate goal of this is to train a model to explore whether reddit posts regarding ocean sustainability and plastic pollution are good indicators of what sub reddit class they come from. \n",
    "\n",
    "The goal of this model is to help researchers gain insights into the prevalence of discussions related to ocean sustainability and plastic pollution across various subreddits as well as track trends and changes in the discussions related to ocean sustainability and plastic pollution over time.\n",
    "\n",
    "### Prepping Data\n",
    "\n",
    "Within the code chunk below I imported the text data gathered from the reddit api and cleaned it. I specifically removed punctuation, numbers and converted it all to lowercase. "
   ]
  },
  {
   "cell_type": "code",
   "execution_count": 1,
   "metadata": {},
   "outputs": [],
   "source": [
    "#| code-fold: true\n",
    "import pandas as pd\n",
    "import string\n",
    "text_data = pd.read_csv('/Users/kendallgilbert/dsan-5000-project-kendallgilbert180/dsan-website/5000-website/codes/01-data-gathering/reddit_data_final.csv')\n",
    "def remove_punctuation_and_numbers(text):\n",
    "    for punctuation in string.punctuation:\n",
    "        text = text.replace(punctuation, '')\n",
    "    text = ''.join(char for char in text if not char.isdigit())\n",
    "    text = text.lower()\n",
    "    return text\n",
    "text_data['Title'] = text_data['Title'].apply(remove_punctuation_and_numbers)"
   ]
  },
  {
   "cell_type": "markdown",
   "metadata": {},
   "source": [
    "Next, I encoded the subreddit column in order to prep the data for accurate modeling. The far right column is the encoded column. For example, the news class is encoded as 0. "
   ]
  },
  {
   "cell_type": "code",
   "execution_count": 2,
   "metadata": {},
   "outputs": [
    {
     "data": {
      "text/html": [
       "<div>\n",
       "<style scoped>\n",
       "    .dataframe tbody tr th:only-of-type {\n",
       "        vertical-align: middle;\n",
       "    }\n",
       "\n",
       "    .dataframe tbody tr th {\n",
       "        vertical-align: top;\n",
       "    }\n",
       "\n",
       "    .dataframe thead th {\n",
       "        text-align: right;\n",
       "    }\n",
       "</style>\n",
       "<table border=\"1\" class=\"dataframe\">\n",
       "  <thead>\n",
       "    <tr style=\"text-align: right;\">\n",
       "      <th></th>\n",
       "      <th>Subreddit</th>\n",
       "      <th>Title</th>\n",
       "      <th>Subreddit_encoded</th>\n",
       "    </tr>\n",
       "  </thead>\n",
       "  <tbody>\n",
       "    <tr>\n",
       "      <th>0</th>\n",
       "      <td>news</td>\n",
       "      <td>garbage patch clean up group deploys huge devi...</td>\n",
       "      <td>0</td>\n",
       "    </tr>\n",
       "    <tr>\n",
       "      <th>1</th>\n",
       "      <td>news</td>\n",
       "      <td>ocean cleanup starts harvesting plastic from t...</td>\n",
       "      <td>0</td>\n",
       "    </tr>\n",
       "    <tr>\n",
       "      <th>2</th>\n",
       "      <td>news</td>\n",
       "      <td>ocean cleanup device successfully collects pla...</td>\n",
       "      <td>0</td>\n",
       "    </tr>\n",
       "    <tr>\n",
       "      <th>3</th>\n",
       "      <td>news</td>\n",
       "      <td>pope francis urges action on endless fields of...</td>\n",
       "      <td>0</td>\n",
       "    </tr>\n",
       "    <tr>\n",
       "      <th>4</th>\n",
       "      <td>news</td>\n",
       "      <td>pacific ocean garbage patch is immense plastic...</td>\n",
       "      <td>0</td>\n",
       "    </tr>\n",
       "  </tbody>\n",
       "</table>\n",
       "</div>"
      ],
      "text/plain": [
       "  Subreddit                                              Title  \\\n",
       "0      news  garbage patch clean up group deploys huge devi...   \n",
       "1      news  ocean cleanup starts harvesting plastic from t...   \n",
       "2      news  ocean cleanup device successfully collects pla...   \n",
       "3      news  pope francis urges action on endless fields of...   \n",
       "4      news  pacific ocean garbage patch is immense plastic...   \n",
       "\n",
       "   Subreddit_encoded  \n",
       "0                  0  \n",
       "1                  0  \n",
       "2                  0  \n",
       "3                  0  \n",
       "4                  0  "
      ]
     },
     "execution_count": 2,
     "metadata": {},
     "output_type": "execute_result"
    }
   ],
   "source": [
    "#| code-fold: true\n",
    "from sklearn.feature_extraction.text import TfidfVectorizer\n",
    "from sklearn.preprocessing import LabelEncoder\n",
    "\n",
    "# Encode the 'Subreddit' column\n",
    "label_encoder = LabelEncoder()\n",
    "text_data['Subreddit_encoded'] = label_encoder.fit_transform(text_data['Subreddit'])\n",
    "text_data.head(5)"
   ]
  },
  {
   "cell_type": "markdown",
   "metadata": {},
   "source": [
    "**Class Encoded Values**"
   ]
  },
  {
   "cell_type": "code",
   "execution_count": 3,
   "metadata": {},
   "outputs": [
    {
     "name": "stdout",
     "output_type": "stream",
     "text": [
      "Class: news, Encoded Value: 0\n",
      "Class: science, Encoded Value: 1\n",
      "Class: technology, Encoded Value: 2\n",
      "Class: travel, Encoded Value: 3\n",
      "Class: worldnews, Encoded Value: 4\n"
     ]
    }
   ],
   "source": [
    "#| code-fold: true\n",
    "class_labels = label_encoder.classes_\n",
    "encoded_values = label_encoder.transform(class_labels)\n",
    "for label, value in zip(class_labels, encoded_values):\n",
    "    print(f\"Class: {label}, Encoded Value: {value}\")"
   ]
  },
  {
   "cell_type": "markdown",
   "metadata": {},
   "source": [
    "## Vectorization\n",
    "\n",
    "Next, I applied the TF-IDF vectorization to the text data in the 'Title' column. This converted the text data into a numerical format based on the TF-IDF values for each word or term. I used this resource [here](https://towardsdatascience.com/text-vectorization-term-frequency-inverse-document-frequency-tfidf-5a3f9604da6d) to help me better understand this concept. "
   ]
  },
  {
   "cell_type": "code",
   "execution_count": 4,
   "metadata": {},
   "outputs": [
    {
     "data": {
      "text/html": [
       "<div>\n",
       "<style scoped>\n",
       "    .dataframe tbody tr th:only-of-type {\n",
       "        vertical-align: middle;\n",
       "    }\n",
       "\n",
       "    .dataframe tbody tr th {\n",
       "        vertical-align: top;\n",
       "    }\n",
       "\n",
       "    .dataframe thead th {\n",
       "        text-align: right;\n",
       "    }\n",
       "</style>\n",
       "<table border=\"1\" class=\"dataframe\">\n",
       "  <thead>\n",
       "    <tr style=\"text-align: right;\">\n",
       "      <th></th>\n",
       "      <th>Subreddit</th>\n",
       "      <th>Title</th>\n",
       "      <th>Subreddit_encoded</th>\n",
       "      <th>able</th>\n",
       "      <th>about</th>\n",
       "      <th>above</th>\n",
       "      <th>abundant</th>\n",
       "      <th>abyssal</th>\n",
       "      <th>academies</th>\n",
       "      <th>academy</th>\n",
       "      <th>...</th>\n",
       "      <th>yet</th>\n",
       "      <th>yoerger</th>\n",
       "      <th>you</th>\n",
       "      <th>young</th>\n",
       "      <th>yr</th>\n",
       "      <th>yrs</th>\n",
       "      <th>zealand</th>\n",
       "      <th>zero</th>\n",
       "      <th>zones</th>\n",
       "      <th>zooplankton</th>\n",
       "    </tr>\n",
       "  </thead>\n",
       "  <tbody>\n",
       "    <tr>\n",
       "      <th>494</th>\n",
       "      <td>travel</td>\n",
       "      <td>if traveling to the dominican republic stay aw...</td>\n",
       "      <td>3</td>\n",
       "      <td>0.0</td>\n",
       "      <td>0.000000</td>\n",
       "      <td>0.0</td>\n",
       "      <td>0.0</td>\n",
       "      <td>0.0</td>\n",
       "      <td>0.0</td>\n",
       "      <td>0.0</td>\n",
       "      <td>...</td>\n",
       "      <td>0.0</td>\n",
       "      <td>0.0</td>\n",
       "      <td>0.0</td>\n",
       "      <td>0.0</td>\n",
       "      <td>0.0</td>\n",
       "      <td>0.0</td>\n",
       "      <td>0.0</td>\n",
       "      <td>0.0</td>\n",
       "      <td>0.0</td>\n",
       "      <td>0.0</td>\n",
       "    </tr>\n",
       "    <tr>\n",
       "      <th>495</th>\n",
       "      <td>travel</td>\n",
       "      <td>trip summary to olympic national park washington</td>\n",
       "      <td>3</td>\n",
       "      <td>0.0</td>\n",
       "      <td>0.000000</td>\n",
       "      <td>0.0</td>\n",
       "      <td>0.0</td>\n",
       "      <td>0.0</td>\n",
       "      <td>0.0</td>\n",
       "      <td>0.0</td>\n",
       "      <td>...</td>\n",
       "      <td>0.0</td>\n",
       "      <td>0.0</td>\n",
       "      <td>0.0</td>\n",
       "      <td>0.0</td>\n",
       "      <td>0.0</td>\n",
       "      <td>0.0</td>\n",
       "      <td>0.0</td>\n",
       "      <td>0.0</td>\n",
       "      <td>0.0</td>\n",
       "      <td>0.0</td>\n",
       "    </tr>\n",
       "    <tr>\n",
       "      <th>496</th>\n",
       "      <td>travel</td>\n",
       "      <td>honeymoon review – dive trip to philippines  h...</td>\n",
       "      <td>3</td>\n",
       "      <td>0.0</td>\n",
       "      <td>0.000000</td>\n",
       "      <td>0.0</td>\n",
       "      <td>0.0</td>\n",
       "      <td>0.0</td>\n",
       "      <td>0.0</td>\n",
       "      <td>0.0</td>\n",
       "      <td>...</td>\n",
       "      <td>0.0</td>\n",
       "      <td>0.0</td>\n",
       "      <td>0.0</td>\n",
       "      <td>0.0</td>\n",
       "      <td>0.0</td>\n",
       "      <td>0.0</td>\n",
       "      <td>0.0</td>\n",
       "      <td>0.0</td>\n",
       "      <td>0.0</td>\n",
       "      <td>0.0</td>\n",
       "    </tr>\n",
       "    <tr>\n",
       "      <th>497</th>\n",
       "      <td>travel</td>\n",
       "      <td>best place to see plastic island or waste</td>\n",
       "      <td>3</td>\n",
       "      <td>0.0</td>\n",
       "      <td>0.000000</td>\n",
       "      <td>0.0</td>\n",
       "      <td>0.0</td>\n",
       "      <td>0.0</td>\n",
       "      <td>0.0</td>\n",
       "      <td>0.0</td>\n",
       "      <td>...</td>\n",
       "      <td>0.0</td>\n",
       "      <td>0.0</td>\n",
       "      <td>0.0</td>\n",
       "      <td>0.0</td>\n",
       "      <td>0.0</td>\n",
       "      <td>0.0</td>\n",
       "      <td>0.0</td>\n",
       "      <td>0.0</td>\n",
       "      <td>0.0</td>\n",
       "      <td>0.0</td>\n",
       "    </tr>\n",
       "    <tr>\n",
       "      <th>498</th>\n",
       "      <td>travel</td>\n",
       "      <td>i am going on vacation on my own this month an...</td>\n",
       "      <td>3</td>\n",
       "      <td>0.0</td>\n",
       "      <td>0.175084</td>\n",
       "      <td>0.0</td>\n",
       "      <td>0.0</td>\n",
       "      <td>0.0</td>\n",
       "      <td>0.0</td>\n",
       "      <td>0.0</td>\n",
       "      <td>...</td>\n",
       "      <td>0.0</td>\n",
       "      <td>0.0</td>\n",
       "      <td>0.0</td>\n",
       "      <td>0.0</td>\n",
       "      <td>0.0</td>\n",
       "      <td>0.0</td>\n",
       "      <td>0.0</td>\n",
       "      <td>0.0</td>\n",
       "      <td>0.0</td>\n",
       "      <td>0.0</td>\n",
       "    </tr>\n",
       "  </tbody>\n",
       "</table>\n",
       "<p>5 rows × 2434 columns</p>\n",
       "</div>"
      ],
      "text/plain": [
       "    Subreddit                                              Title  \\\n",
       "494    travel  if traveling to the dominican republic stay aw...   \n",
       "495    travel   trip summary to olympic national park washington   \n",
       "496    travel  honeymoon review – dive trip to philippines  h...   \n",
       "497    travel          best place to see plastic island or waste   \n",
       "498    travel  i am going on vacation on my own this month an...   \n",
       "\n",
       "     Subreddit_encoded  able     about  above  abundant  abyssal  academies  \\\n",
       "494                  3   0.0  0.000000    0.0       0.0      0.0        0.0   \n",
       "495                  3   0.0  0.000000    0.0       0.0      0.0        0.0   \n",
       "496                  3   0.0  0.000000    0.0       0.0      0.0        0.0   \n",
       "497                  3   0.0  0.000000    0.0       0.0      0.0        0.0   \n",
       "498                  3   0.0  0.175084    0.0       0.0      0.0        0.0   \n",
       "\n",
       "     academy  ...  yet  yoerger  you  young   yr  yrs  zealand  zero  zones  \\\n",
       "494      0.0  ...  0.0      0.0  0.0    0.0  0.0  0.0      0.0   0.0    0.0   \n",
       "495      0.0  ...  0.0      0.0  0.0    0.0  0.0  0.0      0.0   0.0    0.0   \n",
       "496      0.0  ...  0.0      0.0  0.0    0.0  0.0  0.0      0.0   0.0    0.0   \n",
       "497      0.0  ...  0.0      0.0  0.0    0.0  0.0  0.0      0.0   0.0    0.0   \n",
       "498      0.0  ...  0.0      0.0  0.0    0.0  0.0  0.0      0.0   0.0    0.0   \n",
       "\n",
       "     zooplankton  \n",
       "494          0.0  \n",
       "495          0.0  \n",
       "496          0.0  \n",
       "497          0.0  \n",
       "498          0.0  \n",
       "\n",
       "[5 rows x 2434 columns]"
      ]
     },
     "execution_count": 4,
     "metadata": {},
     "output_type": "execute_result"
    }
   ],
   "source": [
    "#| code-fold: true\n",
    "from sklearn.feature_extraction.text import TfidfVectorizer\n",
    "from sklearn.preprocessing import LabelEncoder\n",
    "\n",
    "# Fit and transform the title column to get TF-IDF features\n",
    "tfidf_vectorizer = TfidfVectorizer()\n",
    "tfidf_features = tfidf_vectorizer.fit_transform(text_data['Title'])\n",
    "\n",
    "# Create a DataFrame from the TF-IDF features\n",
    "tfidf_df = pd.DataFrame(data=tfidf_features.toarray(), columns=tfidf_vectorizer.get_feature_names_out())\n",
    "\n",
    "# Combine the TF-IDF DataFrame with the original DataFrame\n",
    "result_df = pd.concat([text_data, tfidf_df], axis=1)\n",
    "result_df.tail(5)"
   ]
  },
  {
   "cell_type": "markdown",
   "metadata": {},
   "source": [
    "### Splitting Data into Feature and Target Variables\n",
    "\n",
    "This process is the same as what I completed with the record data. I split the dataset into feature and target variables. The target variable is the subreddits (technology, news, worldnews, science, travel)."
   ]
  },
  {
   "cell_type": "code",
   "execution_count": 5,
   "metadata": {},
   "outputs": [],
   "source": [
    "#| code-fold: true\n",
    "\n",
    "from sklearn.model_selection import train_test_split\n",
    "from sklearn.naive_bayes import MultinomialNB\n",
    "from sklearn.metrics import accuracy_score, classification_report\n",
    "\n",
    "# Split the data into features (X) and target (y)\n",
    "X = result_df.drop(['Subreddit', 'Subreddit_encoded', 'Title'], axis=1)  # Features\n",
    "y = result_df['Subreddit_encoded']  # Target\n",
    "\n",
    "# Split the data into a training set and a testing set\n",
    "X_train, X_test, y_train, y_test = train_test_split(X, y, test_size=0.5, random_state=42)"
   ]
  },
  {
   "cell_type": "markdown",
   "metadata": {},
   "source": [
    "## Training and Evaluating Model\n",
    "\n",
    "Now I will train and evaulate the model. I will evaluate the model by looking at the training and testing accuracy and f1 scores. \n",
    "\n",
    "**Accuracy:** A performance metric used to evaluate the accuracy of a machine learning model on a test dataset\n",
    "\n",
    "**F1:** Combines precision and recall. F1 = 2 × (Precision+Recall) / (Precision×Recall)"
   ]
  },
  {
   "cell_type": "code",
   "execution_count": 6,
   "metadata": {},
   "outputs": [
    {
     "name": "stdout",
     "output_type": "stream",
     "text": [
      "Training Accuracy: 0.75\n",
      "Training F1 Score: 0.68\n",
      "Testing Accuracy: 0.46\n",
      "Testing F1 Score: 0.33\n"
     ]
    },
    {
     "data": {
      "text/plain": [
       "<matplotlib.legend.Legend at 0x16e7dec50>"
      ]
     },
     "execution_count": 6,
     "metadata": {},
     "output_type": "execute_result"
    },
    {
     "data": {
      "image/png": "[encoded data removed]",
      "text/plain": [
       "<Figure size 640x480 with 1 Axes>"
      ]
     },
     "metadata": {},
     "output_type": "display_data"
    }
   ],
   "source": [
    "#| code-fold: true\n",
    "from sklearn.metrics import accuracy_score, f1_score\n",
    "import numpy as np\n",
    "import matplotlib.pyplot as plt\n",
    "\n",
    "# Initialize and train a Multinomial Naive Bayes classifier on the training data\n",
    "nb_classifier = MultinomialNB()\n",
    "nb_classifier.fit(X_train, y_train)\n",
    "\n",
    "# Make predictions on the training data\n",
    "y_train_pred = nb_classifier.predict(X_train)\n",
    "train_accuracy = accuracy_score(y_train, y_train_pred)\n",
    "train_f1 = f1_score(y_train, y_train_pred, average='weighted')\n",
    "\n",
    "# Make predictions on the testing data\n",
    "y_test_pred = nb_classifier.predict(X_test)\n",
    "test_accuracy = accuracy_score(y_test, y_test_pred)\n",
    "test_f1 = f1_score(y_test, y_test_pred, average='weighted')\n",
    "\n",
    "print(f'Training Accuracy: {train_accuracy:.2f}')\n",
    "print(f'Training F1 Score: {train_f1:.2f}')\n",
    "print(f'Testing Accuracy: {test_accuracy:.2f}')\n",
    "print(f'Testing F1 Score: {test_f1:.2f}')\n",
    "\n",
    "# Creating bar graph\n",
    "labels = ['Training', 'Testing']\n",
    "accuracies = [train_accuracy, test_accuracy]\n",
    "width = 0.35\n",
    "x = np.arange(len(labels))\n",
    "plt.bar(x, accuracies, width, label='Accuracy')\n",
    "plt.xlabel('Data')\n",
    "plt.ylabel('Accuracy')\n",
    "plt.title('Training and Testing Accuracies')\n",
    "plt.xticks(x, labels)\n",
    "plt.legend()\n"
   ]
  },
  {
   "cell_type": "markdown",
   "metadata": {},
   "source": [
    "Immediately, it is understood that the training accuracy is way higher than the testing accuracy. In an attempt to fix this feature selection must be completed. \n",
    "\n",
    "## Feature Selection \n",
    "\n",
    "I tried many feature selection techniques and none were improoving the accuracy score. Below you can see my attempt at using a chi squared test to analyze the independence between variables to find the \"best\" features. Rather than aimlessly continuing to try different feature selection methods I took a deep dive into what the current model was doing well. I did this through a confusion matrix. "
   ]
  },
  {
   "cell_type": "code",
   "execution_count": 10,
   "metadata": {},
   "outputs": [
    {
     "name": "stdout",
     "output_type": "stream",
     "text": [
      "Training Accuracy with Feature Selection: 0.73\n",
      "Training F1 Score with Feature Selection: 0.67\n",
      "Testing Accuracy with Feature Selection: 0.44\n",
      "Testing F1 Score with Feature Selection: 0.31\n"
     ]
    }
   ],
   "source": [
    "#| code-fold: true\n",
    "from sklearn.feature_selection import SelectKBest, chi2\n",
    "k = 690\n",
    "feature_selector = SelectKBest(score_func=chi2, k=k)\n",
    "\n",
    "# Fit the feature selector on the training data and transform the data\n",
    "X_train_selected = feature_selector.fit_transform(X_train, y_train)\n",
    "X_test_selected = feature_selector.transform(X_test)\n",
    "nb_classifier = MultinomialNB()\n",
    "nb_classifier.fit(X_train_selected, y_train)\n",
    "y_train_pred = nb_classifier.predict(X_train_selected)\n",
    "train_accuracy = accuracy_score(y_train, y_train_pred)\n",
    "train_f1 = f1_score(y_train, y_train_pred, average='weighted')\n",
    "y_test_pred = nb_classifier.predict(X_test_selected)\n",
    "test_accuracy = accuracy_score(y_test, y_test_pred)\n",
    "test_f1 = f1_score(y_test, y_test_pred, average='weighted')\n",
    "\n",
    "print(f'Training Accuracy with Feature Selection: {train_accuracy:.2f}')\n",
    "print(f'Training F1 Score with Feature Selection: {train_f1:.2f}')\n",
    "print(f'Testing Accuracy with Feature Selection: {test_accuracy:.2f}')\n",
    "print(f'Testing F1 Score with Feature Selection: {test_f1:.2f}')\n"
   ]
  },
  {
   "cell_type": "markdown",
   "metadata": {},
   "source": [
    "## Confusion Matrices\n",
    "\n",
    "Below I have created two different confusion matrices. "
   ]
  },
  {
   "cell_type": "code",
   "execution_count": 15,
   "metadata": {},
   "outputs": [
    {
     "data": {
      "text/plain": [
       "<matplotlib.legend.Legend at 0x1712a9d50>"
      ]
     },
     "execution_count": 15,
     "metadata": {},
     "output_type": "execute_result"
    },
    {
     "data": {
      "image/png": "[encoded data removed]",
      "text/plain": [
       "<Figure size 800x600 with 2 Axes>"
      ]
     },
     "metadata": {},
     "output_type": "display_data"
    },
    {
     "data": {
      "image/png": "[encoded data removed]",
      "text/plain": [
       "<Figure size 800x600 with 1 Axes>"
      ]
     },
     "metadata": {},
     "output_type": "display_data"
    }
   ],
   "source": [
    "#| code-fold: true\n",
    "from sklearn.metrics import confusion_matrix\n",
    "import seaborn as sns\n",
    "import matplotlib.pyplot as plt\n",
    "import pandas as pd\n",
    "y_test_pred = nb_classifier.predict(X_test_selected)\n",
    "conf_matrix = confusion_matrix(y_test, y_test_pred)\n",
    "class_labels = [\"Class 1\", \"Class 2\", \"Class 3\", \"Class 4\", \"Class 5\"]\n",
    "plt.figure(figsize=(8, 6))\n",
    "sns.heatmap(conf_matrix, annot=True, fmt='d', cmap='Blues', xticklabels=class_labels, yticklabels=class_labels)\n",
    "plt.xlabel('Predicted')\n",
    "plt.ylabel('Actual')\n",
    "plt.title('Confusion Matrix')\n",
    "conf_matrix = confusion_matrix(y_test, y_test_pred)\n",
    "class_labels = [\"Class 1\", \"Class 2\", \"Class 3\", \"Class 4\", \"Class 5\"]\n",
    "confusion_df = pd.DataFrame(conf_matrix, index=class_labels, columns=class_labels)\n",
    "plt.figure(figsize=(8, 6))\n",
    "confusion_df.plot(kind='bar', stacked=True, cmap='Blues', ax=plt.gca())\n",
    "plt.xlabel('Actual')\n",
    "plt.ylabel('Count')\n",
    "plt.title('Stacked Bar Chart Confusion Matrix')\n",
    "plt.legend(title='Predicted', labels=class_labels)\n",
    "\n"
   ]
  },
  {
   "cell_type": "markdown",
   "metadata": {},
   "source": [
    "This first confusion matrix tells us that this model really only does a good job predicting class 2 and class 5. These subreddits are technology and worldnews. This model does a great job predicting world news. This may be a result of the original dataset inclusing the most posts coming from the world news subreddit section. The second confusion matrix is another way of displaying the count of accurate predictions. Once again, you can see that class 2 and class 5 were accurately predicted the most. \n",
    "\n",
    "## Conclusion\n",
    "\n",
    "Overall, this naive bayes model on text data was a solid attempt, but I did not get the results I wanted. Although, completing this naive bayes classifier on text data was crucial to my understanding of machine learning as a whole. If this model accuracy was improved we could gain insights into the prevalence of discussions related to ocean sustainability and plastic pollution across various subreddits as well as track trends and changes in the discussions related to ocean sustainability and plastic pollution over time. One thing this model does do well is predicting worldnews subreddit posts.\n"
   ]
  }
 ],
 "metadata": {
  "kernelspec": {
   "display_name": "base",
   "language": "python",
   "name": "python3"
  },
  "language_info": {
   "codemirror_mode": {
    "name": "ipython",
    "version": 3
   },
   "file_extension": ".py",
   "mimetype": "text/x-python",
   "name": "python",
   "nbconvert_exporter": "python",
   "pygments_lexer": "ipython3",
   "version": "3.11.5"
  }
 },
 "nbformat": 4,
 "nbformat_minor": 2
}

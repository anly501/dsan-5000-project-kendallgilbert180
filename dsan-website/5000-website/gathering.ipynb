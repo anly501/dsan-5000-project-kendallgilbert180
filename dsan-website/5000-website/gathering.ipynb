{
 "cells": [
  {
   "cell_type": "markdown",
   "metadata": {},
   "source": [
    "# Data Gathering\n",
    "<center>\n",
    "![ ](images/oecd.png){width=50%}</center>\n"
   ]
  },
  {
   "cell_type": "markdown",
   "metadata": {},
   "source": [
    "Data gathering is crucial for any project. Within this tab, I will go over all the sources of my data as well as the methods I used to extract this data. \n",
    "\n",
    "The data that I have chosen to use for this project comes from the OECD. OECD stands for Organization for Economic Co-operation and Development. This organization, founded in 1961 has 38 member countries and was created in attempt to stimulate economic progress and world trade."
   ]
  },
  {
   "cell_type": "markdown",
   "metadata": {},
   "source": [
    "Within this tab I will summarize the dataset I found and what questions it could possibly answer, provide a link to the dataset, a link to the cleaned data and the data extraction method and a pictute of the data before extracted."
   ]
  },
  {
   "cell_type": "markdown",
   "metadata": {},
   "source": [
    "## Data Sources\n",
    "### **Plastic Leakage by Region**\n",
    "[Source](https://stats.oecd.org/viewhtml.aspx?datasetcode=PLASTIC_LEAKAGE_V2_2&lang=en)\n",
    "\n",
    "- This data set provides estimates of plastics leakage for the 15 different global regions.\n",
    "- Extraction Method: Exporting as CSV\n",
    "- Link to Cleaned Data: [Here](data/01-modified-data/cleandata1a.csv)\n",
    "\n",
    "\n",
    "<center> ![ ](images/data1.png){width=50%} </center>\n",
    "\n",
    "\n",
    "### **Marine Pollution Act Numbers**\n",
    "\n",
    "- Gives the numbers for the total MPA in a country\n",
    "- Extraction Method: Export as XLS\n",
    "\n",
    "![ ](images/mpa.png){width=40%}\n",
    "\n",
    "### **Aquaculture Production**\n",
    "\n",
    "- This data set provides the Aquaculture Production by Country from 2000 to 2021. \n",
    "- Extraction Method: Exporting as XLS\n",
    "\n",
    "![ ](images/a_p.png){width=43%}\n",
    "\n",
    "\n",
    "### **Ocean Related ENVTECH Inventions**\n",
    "\n",
    "- This data set provides the number of ocean related inventions by Country from 2000 to 2021. \n",
    "- Extraction Method: Exporting as XLS\n",
    "\n",
    "![ NEED PIC](){width=50%}\n",
    "\n",
    "\n",
    "### **Policy Instruments**\n",
    "\n",
    "- This data set provides the number of policy instruments in each Country from 2000 to 2021. \n",
    "\n",
    "![ ](){width=40%}\n",
    "\n",
    "\n",
    "### **Fishing Exports**\n",
    "\n",
    "- The amount of fishing exports (in millions) by Country from 2000 to 2021\n",
    "- Extraction Method: Export as XLS\n",
    "\n",
    "![ ](){width=40%}\n",
    "\n",
    "## Python API\n",
    "\n",
    "I used the news API that we were introduced to in class. I used this API to pull news about ocean sustainability. I put the title and descriptions into text files and will do text analysis with this data. \n",
    "\n",
    "Link to Code: [Here](codes/01-data-gathering/Python API/apinews_gathering.ipynb)\n",
    "\n",
    "This code also cleans the text data.\n",
    "\n",
    "## R API\n",
    "\n",
    " I used the API on the website [](https://www.data.qld.gov.au/dataset/marine-oil-spills-data/resource/6d5865f0-b7fc-4770-a303-a0b1f85f661f). I used this API in R. \n",
    "\n",
    " Link to Code: [R Code](codes/01-data-gathering/R_API_DATA.Rmd)\n",
    "\n",
    "\n"
   ]
  }
 ],
 "metadata": {
  "language_info": {
   "name": "python"
  },
  "orig_nbformat": 4
 },
 "nbformat": 4,
 "nbformat_minor": 2
}

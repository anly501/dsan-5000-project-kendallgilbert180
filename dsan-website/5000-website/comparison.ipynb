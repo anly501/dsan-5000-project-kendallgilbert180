{
 "cells": [
  {
   "cell_type": "markdown",
   "metadata": {},
   "source": [
    "\n",
    "### PCA vs. T-SNE\n",
    "\n",
    "PCA and T-SNE are two widely used dimensionality reduction techniques used within the data science world. I have built out tabs specifically describing what each dimensionality technique is capable of achieving. This tab will **compare** the two. \n",
    "\n",
    "PCA is a linear technique that works best with data that has a linear structure. The goal of PCA is to identify the principal components in the data by projecting onto lower dimensions, minimizing variance, and preserving large pairwise distances. PCA may not do the best job with non linear structures. \n",
    "\n",
    "T-SNE is a nonlinear technique that focuses on preserving the pairwise similarities between data points in a lower-dimensional space. T-SNE is concerned with preserving small pairwise distances. \n",
    "\n",
    "The difference between the two of these techniques is evident when producing plots. Furthermore, t-sne is often used just as a visualization technique.  \n",
    "\n",
    "**When to USE PCA vs T-SNE**\n",
    "\n",
    "Use PCA when:\n",
    "\n",
    "- The data has a linear structure \n",
    "- You want to capture global trends\n",
    "\n",
    "Use t-SNE when:\n",
    "\n",
    "- Data has non-linear structures.\n",
    "- You want to preserve local relationships and identify clusters\n",
    "- Dataset is moderate in size\n",
    "\n",
    "Soures Used:\n",
    "\n",
    "https://www.geeksforgeeks.org/difference-between-pca-vs-t-sne/\n",
    "\n",
    "https://medium.com/analytics-vidhya/pca-vs-t-sne-17bcd882bf3d"
   ]
  }
 ],
 "metadata": {
  "language_info": {
   "name": "python"
  }
 },
 "nbformat": 4,
 "nbformat_minor": 2
}

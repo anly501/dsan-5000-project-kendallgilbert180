{
 "cells": [
  {
   "cell_type": "markdown",
   "metadata": {},
   "source": [
    "File specifically for stuff that I am taking off website but do not want to delete. "
   ]
  },
  {
   "cell_type": "markdown",
   "metadata": {},
   "source": [
    "## How the Ocean Helps Us\n",
    "**2a. Beach Attendance**\n",
    "[Source](https://catalog.data.gov/dataset/swimming-beach-attendance)\n",
    "\n",
    "- This data set covers the beach attendance in the state of New York\n",
    "- Extraction Method: Exporting as CSV\n",
    "- Link to Cleaned Data: [Here](data/01-modified-data/cleandata2a.csv)\n",
    "\n",
    "\n",
    "![ ](images/data2.png){width=50%}\n",
    "\n",
    "**2b. Employment in Ocean Sectors**\n",
    "[Source](https://opdgig.dos.ny.gov/datasets/e25794dc9cab4fe8bd40d76a18c80f66/explore?showTable=true)\n",
    "\n",
    "- This data illustrates 2013 ocean economy employment (number of jobs) for Northeast coastal counties, which comprise of 33 counties from Maine to New York.\n",
    "- Extraction Method: Exporting as CSV\n",
    "\n",
    "![ ](images/data10.png){width=50%}\n",
    "\n",
    "\n",
    "**3a. Plastic Pollution**\n",
    " [Source](https://ourworldindata.org/plastic-pollution)\n",
    "\n",
    " - This dataset includes global data on plastic waste generation, pollution and trade. This resource also includes data visualiation already created to help readerse understand the dataset. \n",
    " - Extraction Method: Exporting as CSV\n",
    "\n",
    " ![ ](images/data3.png){width=50%}\n",
    "\n",
    "\n",
    " **3b. Mismanaged Plastic Waste**\n",
    " [Source](https://www.kaggle.com/datasets/kkhandekar/mismanaged-plastic-waste-around-the-world/data)\n",
    "\n",
    " - This dataset provides information on mismanaged waste on many countries. Mismanaged waste is material at high risk of entering the ocean.\n",
    " - Extraction Method: Exporting as CSV\n",
    "\n",
    " ![ ](images/data7.png){width=50%}\n",
    "\n",
    " **4b. Marine Landings**\n",
    "[Source](https://data.world/agriculture/aquaculture-data)\n",
    "\n",
    "- Dataset with the total number(in millions) of how much marine landings are bringing in profit wise for 40 different countries\n",
    "- Extraction Method: Exporting as XLS\n",
    "\n",
    "![ ](images/data4b.png){width=40%}\n"
   ]
  }
 ],
 "metadata": {
  "language_info": {
   "name": "python"
  }
 },
 "nbformat": 4,
 "nbformat_minor": 2
}

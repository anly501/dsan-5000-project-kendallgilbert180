{
 "cells": [
  {
   "cell_type": "code",
   "execution_count": 9,
   "metadata": {},
   "outputs": [],
   "source": [
    "import praw\n",
    "import csv\n",
    "\n",
    "reddit = praw.Reddit(\n",
    "    client_id='Apa_fh30Q_VgnSv1ndq89w',\n",
    "    client_secret='U-IKq5PtGR28T7ye_2kq33tvsliI8Q',\n",
    "    user_agent='text api by kendallgilbert18',\n",
    "    username='kendallgilbert18',\n",
    "    password='Hunterdog2001!'\n",
    ")\n",
    "subreddits = ['news', 'technology', 'science', 'worldnews', 'travel']\n",
    "search_query = 'ocean plastic'\n",
    "with open('reddit_data_final.csv', 'w', newline='', encoding='utf-8') as csvfile:\n",
    "    csv_writer = csv.writer(csvfile)\n",
    "    csv_writer.writerow(['Subreddit', 'Title'])  # Write header row\n",
    "\n",
    "    for subreddit_name in subreddits:\n",
    "        subreddit = reddit.subreddit(subreddit_name)\n",
    "        posts = subreddit.search(search_query, limit=500)  # Limit the number of posts to retrieve\n",
    "\n",
    "        for post in posts:\n",
    "            title = post.title\n",
    "            csv_writer.writerow([subreddit_name, title])\n"
   ]
  }
 ],
 "metadata": {
  "kernelspec": {
   "display_name": "base",
   "language": "python",
   "name": "python3"
  },
  "language_info": {
   "codemirror_mode": {
    "name": "ipython",
    "version": 3
   },
   "file_extension": ".py",
   "mimetype": "text/x-python",
   "name": "python",
   "nbconvert_exporter": "python",
   "pygments_lexer": "ipython3",
   "version": "3.11.5"
  }
 },
 "nbformat": 4,
 "nbformat_minor": 2
}

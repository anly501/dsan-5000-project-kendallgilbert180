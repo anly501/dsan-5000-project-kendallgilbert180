{
 "cells": [
  {
   "cell_type": "markdown",
   "metadata": {},
   "source": [
    "## Cleaning and Joining OECD Datasets\n",
    "### Marine Polution Act"
   ]
  },
  {
   "cell_type": "code",
   "execution_count": null,
   "metadata": {},
   "outputs": [],
   "source": [
    "#Importing Data into Python Environment\n",
    "import pandas as pd\n",
    "\n",
    "#Importing in Data\n",
    "mpa = pd.read_csv(\"/Users/kendallgilbert/dsan-5000-project-kendallgilbert180/dsan-website/5000-website/data/00-raw-data/mpa.csv\")\n",
    "\n",
    "#Fixing Headers\n",
    "new_header = mpa.iloc[0] #Grabbing the first row for the header\n",
    "mpa = mpa[1:] #Taking the data less the header row\n",
    "mpa.columns = new_header #Setting the header row as the df header\n",
    "mpa = mpa.rename(columns={'Year': 'Country', 2000.0: 2000, 2005.0: 2005, 2010.0: 2010, 2011.0: 2011, 2012.0: 2012, 2013.0: 2013, 2014.0: 2014, 2015.0: 2015,2016.0: 2016,2017.0: 2017,\n",
    "                          2018.0: 2018,2019.0: 2019,2020.0: 2020,}) #Renaming Columns\n",
    "\n",
    "#Removing Whitespace\n",
    "df_stripped = mpa.applymap(lambda x: x.strip() if isinstance(x, str) else x)\n",
    "print(df_stripped)\n",
    "\n",
    "#Melting Data\n",
    "melted_df = pd.melt(mpa, id_vars=['Country'], var_name='Year', value_name='Value')\n",
    "\n",
    "# Convert the \"Year\" column to a string and then combine \"Country\" and \"Year\" into \"Country_Year\"\n",
    "melted_df['Country_Year'] = melted_df['Country'] + '_' + melted_df['Year'].astype(str)\n",
    "\n",
    "# Drop the original \"Country\" and \"Year\" columns\n",
    "melted_df = melted_df.drop(columns=['Country', 'Year'])"
   ]
  },
  {
   "cell_type": "markdown",
   "metadata": {},
   "source": [
    "## Aquaculture Production"
   ]
  },
  {
   "cell_type": "code",
   "execution_count": 18,
   "metadata": {},
   "outputs": [],
   "source": [
    "#Importing Data\n",
    "a_p = pd.read_csv(\"/Users/kendallgilbert/dsan-5000-project-kendallgilbert180/dsan-website/5000-website/data/00-raw-data/aqua_production.csv\")\n",
    "\n",
    "#Fixing Headers\n",
    "new_header_2 = a_p.iloc[0]\n",
    "a_p = a_p[1:]\n",
    "a_p.columns = new_header_2\n",
    "a_p = a_p.rename(columns={'Year': 'Country', 2000.0: 2000, 2001.0: 2001, 2002.0: 2002, 2003.0: 2003, 2004.0: 2004, 2005.0: 2005, 2006.0: 2006,2007.0: 2007,2008.0: 2008,\n",
    "                          2009.0: 2009,2010.0: 2010,2011.0: 2011,2005.0: 2005, 2010.0: 2010, 2011.0: 2011, 2012.0: 2012, 2013.0: 2013, 2014.0: 2014, 2015.0: 2015,2016.0: 2016,2017.0: 2017,\n",
    "                          2018.0: 2018,2019.0: 2019,2020.0: 2020,}) #Renaming Columns\n",
    "\n",
    "#Removing Whitespace\n",
    "df_stripped = a_p.applymap(lambda x: x.strip() if isinstance(x, str) else x)\n",
    "\n",
    "#Melting Data\n",
    "melted_df_2 = pd.melt(a_p, id_vars=['Country'], var_name='Year', value_name='Value')\n",
    "melted_df_2.columns = melted_df_2.columns.str.strip()\n",
    "\n",
    "# Convert the \"Year\" column to a string and then combine \"Country\" and \"Year\" into \"Country_Year\"\n",
    "melted_df_2['Country_Year'] = melted_df_2['Country'] + '_' + melted_df_2['Year'].astype(str)\n",
    "melted_df_2 = melted_df_2.drop(columns=['Country', 'Year'])"
   ]
  },
  {
   "cell_type": "markdown",
   "metadata": {},
   "source": [
    "## Ocean Environment / Technoloy Inventions"
   ]
  },
  {
   "cell_type": "code",
   "execution_count": 19,
   "metadata": {},
   "outputs": [],
   "source": [
    "#Importing Data\n",
    "inventions = pd.read_csv(\"/Users/kendallgilbert/dsan-5000-project-kendallgilbert180/dsan-website/5000-website/data/00-raw-data/ocean_related_inventions.csv\")\n",
    "\n",
    "#Fixing Headers\n",
    "new_header_3 = inventions.iloc[0]\n",
    "inventions = inventions[1:] \n",
    "inventions.columns = new_header_3\n",
    "\n",
    "#Renaming Columns\n",
    "inventions = inventions.rename(columns={'Year': 'Country'})\n",
    "\n",
    "#Removing Whitespace\n",
    "df_stripped = inventions.applymap(lambda x: x.strip() if isinstance(x, str) else x)\n",
    "\n",
    "#Melting Data\n",
    "melted_df_3 = pd.melt(inventions, id_vars=['Country'], var_name='Year', value_name='Value')\n",
    "\n",
    "# Convert the \"Year\" column to a string and then combine \"Country\" and \"Year\" into \"Country_Year\"\n",
    "melted_df_3['Country_Year'] = melted_df_3['Country'] + '_' + melted_df_3['Year'].astype(str)\n",
    "melted_df_3 = melted_df_3.drop(columns=['Country', 'Year'])"
   ]
  },
  {
   "cell_type": "markdown",
   "metadata": {},
   "source": [
    "## Policy Instruments"
   ]
  },
  {
   "cell_type": "code",
   "execution_count": 21,
   "metadata": {},
   "outputs": [],
   "source": [
    "#Importing Data\n",
    "instruments = pd.read_csv(\"/Users/kendallgilbert/dsan-5000-project-kendallgilbert180/dsan-website/5000-website/data/00-raw-data/policy_instruments.csv\")\n",
    "\n",
    "#Fixing Headers\n",
    "new_header_4 = instruments.iloc[0]\n",
    "instruments = instruments[1:]\n",
    "instruments.columns = new_header_4\n",
    "\n",
    "#Renaming Columns\n",
    "instruments = instruments.rename(columns={'Year': 'Country', 2000.0: 2000, 2001.0: 2001, 2002.0: 2002, 2003.0: 2003, 2004.0: 2004, 2005.0: 2005, 2006.0: 2006,2007.0: 2007,2008.0: 2008,\n",
    "                          2009.0: 2009,2010.0: 2010,2011.0: 2011,2005.0: 2005, 2010.0: 2010, 2011.0: 2011, 2012.0: 2012, 2013.0: 2013, 2014.0: 2014, 2015.0: 2015,2016.0: 2016,2017.0: 2017,\n",
    "                          2018.0: 2018,2019.0: 2019,2020.0: 2020, 2021.0:2021, '2022': 2022})\n",
    "\n",
    "#Removing Whitespace\n",
    "df_stripped = instruments.applymap(lambda x: x.strip() if isinstance(x, str) else x)\n",
    "\n",
    "#Melting Data\n",
    "melted_df_4 = pd.melt(instruments, id_vars=['Country'], var_name='Year', value_name='Value')\n",
    "\n",
    "# Convert the \"Year\" column to a string and then combine \"Country\" and \"Year\" into \"Country_Year\"\n",
    "melted_df_4['Country_Year'] = melted_df_4['Country'] + '_' + melted_df_4['Year'].astype(str)\n",
    "melted_df_4 = melted_df_4.drop(columns=['Country', 'Year'])\n"
   ]
  },
  {
   "cell_type": "markdown",
   "metadata": {},
   "source": [
    "## Fishing Exports"
   ]
  },
  {
   "cell_type": "code",
   "execution_count": 28,
   "metadata": {},
   "outputs": [],
   "source": [
    "#Importing Data\n",
    "fishing = pd.read_csv(\"/Users/kendallgilbert/dsan-5000-project-kendallgilbert180/dsan-website/5000-website/data/00-raw-data/fishing_exports.csv\")\n",
    "\n",
    "#Fixing Heasers\n",
    "new_header_5 = fishing.iloc[0]\n",
    "fishing = fishing[1:]\n",
    "fishing.columns = new_header_5\n",
    "\n",
    "#Renaming Columns\n",
    "fishing = fishing.rename(columns={'Year': 'Country', 2000.0: 2000, 2001.0: 2001, 2002.0: 2002, 2003.0: 2003, 2004.0: 2004, 2005.0: 2005, 2006.0: 2006,2007.0: 2007,2008.0: 2008,\n",
    "                          2009.0: 2009,2010.0: 2010,2011.0: 2011,2005.0: 2005, 2010.0: 2010, 2011.0: 2011, 2012.0: 2012, 2013.0: 2013, 2014.0: 2014, 2015.0: 2015,2016.0: 2016,2017.0: 2017,\n",
    "                          2018.0: 2018,2019.0: 2019,2020.0: 2020, 2021.0:2021, '2022': 2022})\n",
    "\n",
    "#Removing Whitespace\n",
    "df_stripped = fishing.applymap(lambda x: x.strip() if isinstance(x, str) else x)\n",
    "\n",
    "#Melting Data\n",
    "melted_df_5 = pd.melt(fishing, id_vars=['Country'], var_name='Year', value_name='Value')\n",
    "melted_df_5.head\n",
    "\n",
    "# Convert the \"Year\" column to a string and then combine \"Country\" and \"Year\" into \"Country_Year\"\n",
    "melted_df_5['Country_Year'] = melted_df_5['Country'] + '_' + melted_df_5['Year'].astype(str)\n",
    "melted_df_5 = melted_df_5.drop(columns=['Country', 'Year'])"
   ]
  },
  {
   "cell_type": "markdown",
   "metadata": {},
   "source": [
    "## Merging Data"
   ]
  },
  {
   "cell_type": "code",
   "execution_count": 26,
   "metadata": {},
   "outputs": [],
   "source": [
    "merged = pd.merge(melted_df, melted_df_2, on='Country_Year', how='inner')\n",
    "merged = pd.merge(merged, melted_df_3, on='Country_Year', how='inner')\n",
    "merged = merged.rename(columns={'Value_x': 'Aqua Production (Millions)','Value_y': 'Marine Protected Area (sqkm)'})\n",
    "\n",
    "merged = pd.merge(merged, melted_df_4, on='Country_Year', how='inner')\n",
    "merged = pd.merge(merged, melted_df_5, on='Country_Year', how='inner')\n",
    "merged = merged.rename(columns={'Value_y': 'Instruments (number)','Value_x': 'Inventions (number)','Value': 'Fishing Exports (Millions)'})\n",
    "\n"
   ]
  }
 ],
 "metadata": {
  "kernelspec": {
   "display_name": "base",
   "language": "python",
   "name": "python3"
  },
  "language_info": {
   "codemirror_mode": {
    "name": "ipython",
    "version": 3
   },
   "file_extension": ".py",
   "mimetype": "text/x-python",
   "name": "python",
   "nbconvert_exporter": "python",
   "pygments_lexer": "ipython3",
   "version": "3.11.5"
  }
 },
 "nbformat": 4,
 "nbformat_minor": 2
}

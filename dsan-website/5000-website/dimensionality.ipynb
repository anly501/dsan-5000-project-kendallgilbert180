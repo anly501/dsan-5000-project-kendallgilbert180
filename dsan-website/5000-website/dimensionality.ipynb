{
 "cells": [
  {
   "cell_type": "markdown",
   "metadata": {},
   "source": [
    "---\n",
    "format: html\n",
    "bibliography: project_reference.bib\n",
    "---\n",
    "\n",
    "## Dimensionality Reduction\n",
    "\n",
    "Within this dimensionality reduction I will build out three different sections. These sections will include dimensionality reduction with PCA, dimensionality reduction with t-SNE and a tab that compares these two techniques. \n",
    "\n",
    "### What is dimensionality reduction?\n",
    "\n",
    "Dimensionality reduction is the process of reducing the number of features or dimensions in a dataset while retaining as much information as possible. This can be done for a variety of reasons. This can be done to reduce the complexity of a model, to improve the performance of a learning algorithm, or to make it easier to visualize the data [@noauthor_introduction_2017].\n",
    "\n",
    "There are many dimensionality reduction techniques and the two I will be using are PCA and T-SNE. PCA stands for principal component analysis and T-SNE stands for t-distributed Stochastic Neighbor Embedding. To view these dimensionality processes, use the nav bar to navigate to the section you desire.\n",
    "\n"
   ]
  }
 ],
 "metadata": {
  "language_info": {
   "name": "python"
  }
 },
 "nbformat": 4,
 "nbformat_minor": 2
}

{
 "cells": [
  {
   "cell_type": "markdown",
   "metadata": {},
   "source": [
    "# Data Exploration"
   ]
  },
  {
   "cell_type": "markdown",
   "metadata": {},
   "source": [
    "\n",
    "<center>**\"Exploratory Data Analysis refers to the critical process of performing initial investigations on data so as to discover patterns,to spot anomalies,to test hypothesis and to check assumptions with the help of summary statistics and graphical representations.**\"</center>"
   ]
  },
  {
   "cell_type": "markdown",
   "metadata": {},
   "source": [
    "## Overview\n",
    "This tab will explore all the datasets that I have collected. This tab will be split up into the same sections as the other tabs:\n",
    "\n",
    "1. Why Ocean Sustainability is Necessary\n",
    "2. How the Ocean Helps Us\n",
    "3. Negative Impacts on Ocean Sustainability / Human Impact\n",
    "4. Benefits of Investing in Sustainability\n",
    "5. What is Currently Being Done to Help\n",
    "\n",
    "For each data set I will address the following:\n",
    "\n",
    "- Overall Data Understanding: \n",
    "    - Problem you are trying to solve. Familiarize yourself with the characteristics of each feature\n",
    "    - Data types (numerical, categorical)\n",
    "    - Relevance to the project’s objectives.\n",
    "- Descriptive Statistics: \n",
    "    - Summary Statistics such as mean, median, mode, standard deviation, and variance for numerical variables. \n",
    "    - For categorical variables, provide frequency distributions and bar charts to visualize data distribution.\n",
    "- Data Visualizations\n",
    "- Correlation Analysis\n",
    "\n",
    "I will aslo pay attention to data grouping and segmentation as well as outliers.\n",
    "\n",
    "At the end I will update and provide information on:\n",
    "\n",
    "- Hypothesis Generation\n",
    "- Methods and Findings\n",
    "\n",
    "This section will be lengthy. I will remain consistent in the dataset labels that I created in the beginning of this project.\n"
   ]
  },
  {
   "cell_type": "markdown",
   "metadata": {},
   "source": [
    "## Why Ocean Sustainability is Necessary\n",
    "**1a. Plastic Leakage by Region** \n",
    "\n",
    "Link to Code Used in EDA: [Python Code](codes/03-data-exploration/eda_1a.ipynb)\n",
    "\n",
    "*Data Understanding*\n",
    "\n",
    "This dataset gives us predictions of the future plastic leakage for 15 different regions. According to OECD.stat “Plastic leakages to aquatic environments and the subcategory transport to oceans are estimated by applying the methodology adapted from Lebreton and Andrady (2019), on OECD ENV-Linkages model outputs and plastic leakage from mismanaged and litter. I have cleaned this data to only include the ocean data - NOT freshwater. \n",
    "\n",
    "This data consists of categorical and numerical data. The categorical data is location and water source and the numerical data is time and values (tonnes).\n",
    "\n",
    "This data is crucial to my project as it shows what may happen if time is not invested into ocean sustainability. \n",
    "\n",
    "*Descriptive Statistics*\n",
    "\n",
    "![ ](images/1a_sumstats.png){width=30%}\n",
    "\n",
    "\n",
    "*Data Visualization*\n",
    "\n",
    "\n",
    "![Viz 1](images/1a_eda/1a_viz1.png){width=50%}, ![Viz 6](images/1a_eda/1a_viz6.png){width=50%}, \n",
    "![Viz 2](images/1a_eda/1a_viz2.png){width=50%}, ![Viz 3](images/1a_viz3.png){width=40%}\n",
    "![Viz 4](images/1a_eda/1a_viz4.png){width=50%}, ![Viz 5](images/1a_eda/1a_viz5.png){width=40%}\n",
    "\n",
    "\n",
    "*Correlation Analysis*\n",
    "\n",
    "*Identifying Outliers*\n",
    "\n",
    "*Data Set Findings*\n"
   ]
  },
  {
   "cell_type": "markdown",
   "metadata": {},
   "source": [
    "## How the Ocean Helps Us\n",
    "**2a. Beach Attendance**\n",
    "\n",
    "Link to Code Used in EDA: [Python Code](codes/03-data-exploration/eda_2a.ipynb)"
   ]
  }
 ],
 "metadata": {
  "language_info": {
   "name": "python"
  },
  "orig_nbformat": 4
 },
 "nbformat": 4,
 "nbformat_minor": 2
}

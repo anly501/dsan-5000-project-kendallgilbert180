{
 "cells": [
  {
   "cell_type": "markdown",
   "metadata": {},
   "source": [
    "# Data Exploration"
   ]
  },
  {
   "cell_type": "markdown",
   "metadata": {},
   "source": [
    "\n",
    "<center>**\"Exploratory Data Analysis refers to the critical process of performing initial investigations on data so as to discover patterns,to spot anomalies,to test hypothesis and to check assumptions with the help of summary statistics and graphical representations.**\"</center>"
   ]
  },
  {
   "cell_type": "markdown",
   "metadata": {},
   "source": [
    "## Overview\n",
    "This tab will explore all the datasets that I have collected. This tab will be split up into the same sections as the other tabs:\n",
    "\n",
    "1. Why Ocean Sustainability is Necessary\n",
    "2. How the Ocean Helps Us\n",
    "3. Negative Impacts on Ocean Sustainability / Human Impact\n",
    "4. Benefits of Investing in Sustainability\n",
    "5. What is Currently Being Done to Help\n",
    "\n",
    "For each data set I will address the following:\n",
    "\n",
    "- Overall Data Understanding\n",
    "- Descriptive Statistics\n",
    "- Data Visualizations\n",
    "- Correlation Analysis\n",
    "- Identifying Outliers\n",
    "- Methods and Findings\n",
    "\n",
    "I will also pay attention to data grouping and segmentation as well as updating and providing information on Hypothesis Generation\n",
    "\n",
    "\n"
   ]
  },
  {
   "cell_type": "markdown",
   "metadata": {},
   "source": [
    "## Why Ocean Sustainability is Necessary\n",
    "**1a. Plastic Leakage by Region** \n",
    "\n",
    "*Exploratory Data Analysis*: [Python Code and Analysis](codes/03-data-exploration/eda_1a.ipynb)\n"
   ]
  },
  {
   "cell_type": "markdown",
   "metadata": {},
   "source": [
    "## How the Ocean Helps Us\n",
    "**2a. Beach Attendance**\n",
    "\n",
    "*Exploratory Data Analysis:* [Python Code and Analysis](codes/03-data-exploration/eda_2a.ipynb)\n",
    "\n",
    "**2b. Employment in Ocean Sectors**\n",
    "\n",
    "*Exploratory Data Analysis:* [Python Code and Analysis](codes/03-data-exploration/eda_2b.ipynb)\n",
    "\n",
    "**2c. Fishing Vessels**\n",
    "\n",
    "*Exploratory Data Analysis:* [Python Code and Analysis](codes/03-data-exploration/eda_2c.ipynb)\n"
   ]
  },
  {
   "cell_type": "markdown",
   "metadata": {},
   "source": [
    "\n",
    "## Negative Impacts on Ocean Sustainability / Human Impact\n",
    "\n",
    "**3a. Plastic Pollution**\n",
    "\n",
    "**3b. Mismanaged Plastic Waste**\n",
    "\n",
    "*Exploratory Data Analysis:* [Python Code and Analysis](codes/03-data-exploration/eda_3a3b.ipynb)"
   ]
  },
  {
   "cell_type": "markdown",
   "metadata": {},
   "source": [
    "## Benefits of Investing in Sustainability\n",
    "\n",
    "**4a. Aquaculture Production**\n",
    "\n",
    "**4b. Marine Landings**\n",
    "\n",
    "*Exploratory Data Analysis:* [Python Code and Analysis](codes/03-data-exploration/eda_4a4b.ipynb)"
   ]
  },
  {
   "cell_type": "markdown",
   "metadata": {},
   "source": [
    "## What is Currently Being Done\n",
    "\n",
    "**5a. Marine Pollution Act**\n",
    "\n",
    "**5b. Marine Pollution Act Numbers**\n",
    "\n",
    "**5c.Money Going into Ocean Energy Research**\n",
    "\n",
    "*Exploratory Data Analysis:* [Python Code and Analysis](codes/03-data-exploration/eda_5a5b5c.ipynb)"
   ]
  },
  {
   "cell_type": "markdown",
   "metadata": {},
   "source": [
    "## Text Analysis"
   ]
  }
 ],
 "metadata": {
  "language_info": {
   "name": "python"
  },
  "orig_nbformat": 4
 },
 "nbformat": 4,
 "nbformat_minor": 2
}

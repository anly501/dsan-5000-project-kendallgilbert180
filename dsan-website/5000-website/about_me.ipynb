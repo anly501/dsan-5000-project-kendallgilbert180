{
 "cells": [
  {
   "cell_type": "markdown",
   "metadata": {},
   "source": [
    "---\n",
    "title: \"About Me\"\n",
    "format: html\n",
    "---"
   ]
  },
  {
   "cell_type": "markdown",
   "metadata": {},
   "source": [
    "\n",
    "Hi! My name is Kendall Gilbert and I am first year student in the Data Science and Analytics program at Georgetown University. I recently graduated in May from Elon University where I majored in Media Analytics with minors in Statistics and Business Administration. As a media analytics major, I learned a lot about analyzing, visualing and making sense of media data. A few relevant courses from this program included:\n",
    "\n",
    "- Communicating Media Insights\n",
    "\n",
    "- Applied Media Analytics\n",
    "\n",
    "- Measuring Media Impact\n",
    "\n",
    "You can learn more about my undergraduate major [here!](https://www.elon.edu/u/academics/communications/academics/media-analytics-major/) Junior year, in my Applied Media Analytics class I was introduced to R for the first time ever. This is where I fell in love with the idea of data manipulation and data visualization. You can access my portfolio for this class [here!](https://rpubs.com/KendallGilbert)\n",
    "\n",
    "Furthermore, my statistics and business classes provided a basic foundation for my transition into the data science world. A few key classes I completed for these minors included:\n",
    "\n",
    "- Survey Sampling Methods \n",
    "\n",
    "- Statistical Modeling \n",
    "\n",
    "- Statistics in Application\n",
    "\n",
    "To further prepare for Georgetown's DSAN Program I took Introduction to Computer Science, Calculus and Multi-Variable Calculus in order to prepare for my transition. \n",
    "\n",
    " I am originally from Narragansett Rhode Island but I have lived in California and Colorado as well. In my free time I like to spend time outdoors, hang out with my dogs and travel.\n",
    "\n",
    " My dream one day is to work as a data scientist for a company I am passionate about. \n",
    "\n",
    " You can learn more about me on my Linkedin! Click [here!](www.linkedin.com/in/kendall-gilbert)\n"
   ]
  }
 ],
 "metadata": {
  "kernelspec": {
   "display_name": "base",
   "language": "python",
   "name": "python3"
  },
  "language_info": {
   "name": "python",
   "version": "3.10.9"
  },
  "orig_nbformat": 4
 },
 "nbformat": 4,
 "nbformat_minor": 2
}

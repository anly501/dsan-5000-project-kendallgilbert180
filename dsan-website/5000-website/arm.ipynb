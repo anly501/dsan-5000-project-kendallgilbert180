{
 "cells": [
  {
   "cell_type": "markdown",
   "metadata": {},
   "source": [
    "## Association Rule Mining"
   ]
  },
  {
   "cell_type": "code",
   "execution_count": 10,
   "metadata": {},
   "outputs": [
    {
     "ename": "ValueError",
     "evalue": "The allowed values for a DataFrame are True, False, 0, 1. Found value 376896.5",
     "output_type": "error",
     "traceback": [
      "\u001b[0;31m---------------------------------------------------------------------------\u001b[0m",
      "\u001b[0;31mValueError\u001b[0m                                Traceback (most recent call last)",
      "\u001b[1;32m/Users/kendallgilbert/dsan-5000-project-kendallgilbert180/dsan-website/5000-website/arm.ipynb Cell 2\u001b[0m line \u001b[0;36m1\n\u001b[1;32m      <a href='vscode-notebook-cell:/Users/kendallgilbert/dsan-5000-project-kendallgilbert180/dsan-website/5000-website/arm.ipynb#W2sZmlsZQ%3D%3D?line=5'>6</a>\u001b[0m trees \u001b[39m=\u001b[39m pd\u001b[39m.\u001b[39mread_csv(\u001b[39m\"\u001b[39m\u001b[39m/Users/kendallgilbert/dsan-5000-project-kendallgilbert180/dsan-website/5000-website/data/01-modified-data/nb_record.csv\u001b[39m\u001b[39m\"\u001b[39m)\n\u001b[1;32m      <a href='vscode-notebook-cell:/Users/kendallgilbert/dsan-5000-project-kendallgilbert180/dsan-website/5000-website/arm.ipynb#W2sZmlsZQ%3D%3D?line=7'>8</a>\u001b[0m \u001b[39m# Preprocess the data if needed\u001b[39;00m\n\u001b[1;32m      <a href='vscode-notebook-cell:/Users/kendallgilbert/dsan-5000-project-kendallgilbert180/dsan-website/5000-website/arm.ipynb#W2sZmlsZQ%3D%3D?line=8'>9</a>\u001b[0m \n\u001b[1;32m     <a href='vscode-notebook-cell:/Users/kendallgilbert/dsan-5000-project-kendallgilbert180/dsan-website/5000-website/arm.ipynb#W2sZmlsZQ%3D%3D?line=9'>10</a>\u001b[0m \u001b[39m# Perform Apriori algorithm\u001b[39;00m\n\u001b[0;32m---> <a href='vscode-notebook-cell:/Users/kendallgilbert/dsan-5000-project-kendallgilbert180/dsan-website/5000-website/arm.ipynb#W2sZmlsZQ%3D%3D?line=10'>11</a>\u001b[0m frequent_itemsets \u001b[39m=\u001b[39m apriori(trees, min_support\u001b[39m=\u001b[39m\u001b[39m0.1\u001b[39m, use_colnames\u001b[39m=\u001b[39m\u001b[39mTrue\u001b[39;00m)\n\u001b[1;32m     <a href='vscode-notebook-cell:/Users/kendallgilbert/dsan-5000-project-kendallgilbert180/dsan-website/5000-website/arm.ipynb#W2sZmlsZQ%3D%3D?line=12'>13</a>\u001b[0m \u001b[39m# Generate association rules\u001b[39;00m\n\u001b[1;32m     <a href='vscode-notebook-cell:/Users/kendallgilbert/dsan-5000-project-kendallgilbert180/dsan-website/5000-website/arm.ipynb#W2sZmlsZQ%3D%3D?line=13'>14</a>\u001b[0m rules \u001b[39m=\u001b[39m association_rules(frequent_itemsets, metric\u001b[39m=\u001b[39m\u001b[39m\"\u001b[39m\u001b[39mconfidence\u001b[39m\u001b[39m\"\u001b[39m, min_threshold\u001b[39m=\u001b[39m\u001b[39m0.7\u001b[39m)\n",
      "File \u001b[0;32m~/anaconda3/lib/python3.11/site-packages/mlxtend/frequent_patterns/apriori.py:241\u001b[0m, in \u001b[0;36mapriori\u001b[0;34m(df, min_support, use_colnames, max_len, verbose, low_memory)\u001b[0m\n\u001b[1;32m    234\u001b[0m \u001b[39mif\u001b[39;00m min_support \u001b[39m<\u001b[39m\u001b[39m=\u001b[39m \u001b[39m0.0\u001b[39m:\n\u001b[1;32m    235\u001b[0m     \u001b[39mraise\u001b[39;00m \u001b[39mValueError\u001b[39;00m(\n\u001b[1;32m    236\u001b[0m         \u001b[39m\"\u001b[39m\u001b[39m`min_support` must be a positive \u001b[39m\u001b[39m\"\u001b[39m\n\u001b[1;32m    237\u001b[0m         \u001b[39m\"\u001b[39m\u001b[39mnumber within the interval `(0, 1]`. \u001b[39m\u001b[39m\"\u001b[39m\n\u001b[1;32m    238\u001b[0m         \u001b[39m\"\u001b[39m\u001b[39mGot \u001b[39m\u001b[39m%s\u001b[39;00m\u001b[39m.\u001b[39m\u001b[39m\"\u001b[39m \u001b[39m%\u001b[39m min_support\n\u001b[1;32m    239\u001b[0m     )\n\u001b[0;32m--> 241\u001b[0m fpc\u001b[39m.\u001b[39mvalid_input_check(df)\n\u001b[1;32m    243\u001b[0m \u001b[39mif\u001b[39;00m \u001b[39mhasattr\u001b[39m(df, \u001b[39m\"\u001b[39m\u001b[39msparse\u001b[39m\u001b[39m\"\u001b[39m):\n\u001b[1;32m    244\u001b[0m     \u001b[39m# DataFrame with SparseArray (pandas >= 0.24)\u001b[39;00m\n\u001b[1;32m    245\u001b[0m     \u001b[39mif\u001b[39;00m df\u001b[39m.\u001b[39msize \u001b[39m==\u001b[39m \u001b[39m0\u001b[39m:\n",
      "File \u001b[0;32m~/anaconda3/lib/python3.11/site-packages/mlxtend/frequent_patterns/fpcommon.py:132\u001b[0m, in \u001b[0;36mvalid_input_check\u001b[0;34m(df)\u001b[0m\n\u001b[1;32m    127\u001b[0m val \u001b[39m=\u001b[39m values[\u001b[39mtuple\u001b[39m(loc[\u001b[39m0\u001b[39m] \u001b[39mfor\u001b[39;00m loc \u001b[39min\u001b[39;00m idxs)]\n\u001b[1;32m    128\u001b[0m s \u001b[39m=\u001b[39m (\n\u001b[1;32m    129\u001b[0m     \u001b[39m\"\u001b[39m\u001b[39mThe allowed values for a DataFrame\u001b[39m\u001b[39m\"\u001b[39m\n\u001b[1;32m    130\u001b[0m     \u001b[39m\"\u001b[39m\u001b[39m are True, False, 0, 1. Found value \u001b[39m\u001b[39m%s\u001b[39;00m\u001b[39m\"\u001b[39m \u001b[39m%\u001b[39m (val)\n\u001b[1;32m    131\u001b[0m )\n\u001b[0;32m--> 132\u001b[0m \u001b[39mraise\u001b[39;00m \u001b[39mValueError\u001b[39;00m(s)\n",
      "\u001b[0;31mValueError\u001b[0m: The allowed values for a DataFrame are True, False, 0, 1. Found value 376896.5"
     ]
    }
   ],
   "source": [
    "import pandas as pd\n",
    "from mlxtend.frequent_patterns import apriori\n",
    "from mlxtend.frequent_patterns import association_rules\n",
    "\n",
    "# Load your dataset\n",
    "trees = pd.read_csv(\"/Users/kendallgilbert/dsan-5000-project-kendallgilbert180/dsan-website/5000-website/data/01-modified-data/nb_record.csv\")\n",
    "\n",
    "# Preprocess the data if needed\n",
    "\n",
    "# Perform Apriori algorithm\n",
    "frequent_itemsets = apriori(trees, min_support=0.1, use_colnames=True)\n",
    "\n",
    "# Generate association rules\n",
    "rules = association_rules(frequent_itemsets, metric=\"confidence\", min_threshold=0.7)\n",
    "\n",
    "# Display the rules\n",
    "print(rules)\n"
   ]
  },
  {
   "cell_type": "code",
   "execution_count": null,
   "metadata": {},
   "outputs": [],
   "source": []
  }
 ],
 "metadata": {
  "kernelspec": {
   "display_name": "base",
   "language": "python",
   "name": "python3"
  },
  "language_info": {
   "codemirror_mode": {
    "name": "ipython",
    "version": 3
   },
   "file_extension": ".py",
   "mimetype": "text/x-python",
   "name": "python",
   "nbconvert_exporter": "python",
   "pygments_lexer": "ipython3",
   "version": "3.11.5"
  }
 },
 "nbformat": 4,
 "nbformat_minor": 2
}

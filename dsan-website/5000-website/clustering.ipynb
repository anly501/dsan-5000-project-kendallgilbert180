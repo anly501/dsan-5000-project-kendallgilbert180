{
 "cells": [
  {
   "cell_type": "markdown",
   "metadata": {},
   "source": [
    "---\n",
    "title: Clustering\n",
    "format: html\n",
    "bibliography: project_reference.bib\n",
    "---\n",
    "\n",
    "## Introduction \n",
    "\n",
    "Within this tab I will complete three different kinds of clustering on my datset. I will use the same dataset that I have worked with containg the seven features. The three kinds of clustering I will use are k-means, dbscan and hierarchical clustering. I will provide a summary of these clustering techniques as well as walk through the steps I completed to perform these clustering techniques on my data. My goal with this clustering tab is to find patterns within my dataset. I will also include a results and conclusion section to illustrate what these clustering techniques are doing on my data and what my results mean in non-technical wording. \n",
    "\n",
    "Within class we learned about two heuristic goals to determine what makes an optimal cluster. These two goals are:\n",
    "\n",
    "1. To minimize the distance between points within a cluster \n",
    "2. To maximize the distance between clusters \n",
    "\n",
    "If a cluster does a good job at both of these things, then it can be inferred that a cluster is \"good.\"\n",
    "\n",
    "## Learn about Clustering\n",
    "\n",
    "### K-MEANS\n",
    "\n",
    "The goal of k-means is to partition a data set into a set of K clusters a way that the sum of the squared distances between the objects and their assigned cluster mean is minimized.\n",
    "\n",
    "The data scientist will assign k, which is the number of centroids. A centroid represents the center of a cluster. Every data point with the data set is set to a cluster through reducing the in-cluster sum of squares.\n",
    "\n",
    "The K-means algorithm \"identifies k number of centroids, and then allocates every data point to the nearest cluster, while keeping the centroids as small as possible.\"[@ecosystem_ledu_understanding_2018]\n",
    "\n",
    "It is one of the most simple and most popular unsupervised machine learning algorithms.\n",
    "\n",
    "### DBSCAN \n",
    "\n",
    "DBSCAN is based off of the idea of clusters and noise. The main idea is that for each point within a cluster, the neighberhood of a given radius has to contain at least a minimum number of points. DBSCAN works better for data that contains irregularities.\n",
    "\n",
    "The parameters for DBSCAN are EPS and MinPts. EPS is a distance measure used to locate points in the neighberhood of any point. MinPts is the minimum number of points clustered together for a region to be considered dense.\n",
    "\n",
    "So why use DBSCAN over K-Means? Often times k-means may cluster loosely related observations together. Every observation becomes part of a cluster eventually in k-means. This problem is reduced in dbscan as a result of the way dbscan works. \n",
    "\n",
    "Data scientists sometimes prefer dbscan as you do not have to specify the number of clusters. \n",
    "[@noauthor_dbscan_2019]\n",
    "\n",
    "### Hierarchical Clustering \n",
    "\n",
    "Hierarchical clustering can be divided into two types \n",
    "\n",
    "1) **Agglomerative:** Each object is its own cluster. The clusters are merged step by step until a single cluster remains. At the end of the cluster merging process, a cluster containing all the elements is formed.\n",
    "\n",
    "2) **Divisive:** Opposite of the agglomerative method. In the beginning, all objects are considered in a single cluster. The division process is performed until each object forms a different cluster. The cluster division or splitting procedure is carried out according to some principles that maximum distance between neighboring objects in the cluster.\n",
    "\n",
    "Agglomerative is the preffered method.\n",
    "\n",
    "Within hierarchical clustering clusters are visually represeneted in a hierarchical tree called a dendrogram. This method is sometimes preferred as you do not need to specify the number of clusters and the data is easily summarized into a hierarchy using dendrograms. \n",
    "\n",
    "Keep scrolling to see each clustering method on my data set!\n"
   ]
  },
  {
   "cell_type": "markdown",
   "metadata": {},
   "source": [
    "## KMEANS\n",
    "\n",
    "### Importing Libraries and Data \n",
    "\n",
    "Within the code below I have imported the data and encoded the country column. \n"
   ]
  },
  {
   "cell_type": "code",
   "execution_count": 685,
   "metadata": {},
   "outputs": [
    {
     "data": {
      "text/html": [
       "<div>\n",
       "<style scoped>\n",
       "    .dataframe tbody tr th:only-of-type {\n",
       "        vertical-align: middle;\n",
       "    }\n",
       "\n",
       "    .dataframe tbody tr th {\n",
       "        vertical-align: top;\n",
       "    }\n",
       "\n",
       "    .dataframe thead th {\n",
       "        text-align: right;\n",
       "    }\n",
       "</style>\n",
       "<table border=\"1\" class=\"dataframe\">\n",
       "  <thead>\n",
       "    <tr style=\"text-align: right;\">\n",
       "      <th></th>\n",
       "      <th>Aqua Production (Millions)</th>\n",
       "      <th>Marine Protected Area (sqkm)</th>\n",
       "      <th>Inventions (number)</th>\n",
       "      <th>Instruments (number)</th>\n",
       "      <th>Fishing Exports (Millions)</th>\n",
       "      <th>Value</th>\n",
       "      <th>Country</th>\n",
       "      <th>Year</th>\n",
       "    </tr>\n",
       "  </thead>\n",
       "  <tbody>\n",
       "    <tr>\n",
       "      <th>0</th>\n",
       "      <td>376896.50</td>\n",
       "      <td>485.10</td>\n",
       "      <td>12.00</td>\n",
       "      <td>5.0</td>\n",
       "      <td>1963.38</td>\n",
       "      <td>10.64</td>\n",
       "      <td>11</td>\n",
       "      <td>2000</td>\n",
       "    </tr>\n",
       "    <tr>\n",
       "      <th>1</th>\n",
       "      <td>55.25</td>\n",
       "      <td>5.65</td>\n",
       "      <td>0.33</td>\n",
       "      <td>0.0</td>\n",
       "      <td>739.13</td>\n",
       "      <td>0.00</td>\n",
       "      <td>12</td>\n",
       "      <td>2000</td>\n",
       "    </tr>\n",
       "    <tr>\n",
       "      <th>2</th>\n",
       "      <td>24661.75</td>\n",
       "      <td>605.08</td>\n",
       "      <td>23.33</td>\n",
       "      <td>8.0</td>\n",
       "      <td>4431.00</td>\n",
       "      <td>5.23</td>\n",
       "      <td>13</td>\n",
       "      <td>2000</td>\n",
       "    </tr>\n",
       "    <tr>\n",
       "      <th>3</th>\n",
       "      <td>8849.75</td>\n",
       "      <td>2124.58</td>\n",
       "      <td>1.00</td>\n",
       "      <td>4.0</td>\n",
       "      <td>3118.12</td>\n",
       "      <td>19.05</td>\n",
       "      <td>14</td>\n",
       "      <td>2000</td>\n",
       "    </tr>\n",
       "    <tr>\n",
       "      <th>4</th>\n",
       "      <td>29421.75</td>\n",
       "      <td>235.18</td>\n",
       "      <td>0.00</td>\n",
       "      <td>0.0</td>\n",
       "      <td>321.71</td>\n",
       "      <td>0.00</td>\n",
       "      <td>15</td>\n",
       "      <td>2000</td>\n",
       "    </tr>\n",
       "  </tbody>\n",
       "</table>\n",
       "</div>"
      ],
      "text/plain": [
       "   Aqua Production (Millions)  Marine Protected Area (sqkm)  \\\n",
       "0                   376896.50                        485.10   \n",
       "1                       55.25                          5.65   \n",
       "2                    24661.75                        605.08   \n",
       "3                     8849.75                       2124.58   \n",
       "4                    29421.75                        235.18   \n",
       "\n",
       "   Inventions (number)  Instruments (number)  Fishing Exports (Millions)  \\\n",
       "0                12.00                   5.0                     1963.38   \n",
       "1                 0.33                   0.0                      739.13   \n",
       "2                23.33                   8.0                     4431.00   \n",
       "3                 1.00                   4.0                     3118.12   \n",
       "4                 0.00                   0.0                      321.71   \n",
       "\n",
       "   Value  Country  Year  \n",
       "0  10.64       11  2000  \n",
       "1   0.00       12  2000  \n",
       "2   5.23       13  2000  \n",
       "3  19.05       14  2000  \n",
       "4   0.00       15  2000  "
      ]
     },
     "execution_count": 685,
     "metadata": {},
     "output_type": "execute_result"
    }
   ],
   "source": [
    "#| code-fold: true\n",
    "import pandas as pd\n",
    "from sklearn.preprocessing import StandardScaler\n",
    "import matplotlib.pyplot as plt\n",
    "from sklearn.preprocessing import LabelEncoder\n",
    "import numpy as np\n",
    "from sklearn.cluster import KMeans, AgglomerativeClustering, MeanShift, Birch, DBSCAN\n",
    "from sklearn.metrics import silhouette_score\n",
    "from scipy.cluster.hierarchy import linkage, dendrogram\n",
    "\n",
    "\n",
    "data = pd.read_csv(\"/Users/kendallgilbert/dsan-5000-project-kendallgilbert180/dsan-website/5000-website/data/01-modified-data/nb_record.csv\")\n",
    "label_encoder = LabelEncoder()\n",
    "data['Country'] = label_encoder.fit_transform(data['Country'])\n",
    "data.head(5)\n"
   ]
  },
  {
   "cell_type": "markdown",
   "metadata": {},
   "source": [
    "### Standardizing the Data\n",
    "\n",
    "Within the code below I am standardizing the data to ensure that all features have the same scale. "
   ]
  },
  {
   "cell_type": "code",
   "execution_count": 686,
   "metadata": {},
   "outputs": [
    {
     "data": {
      "text/html": [
       "<div>\n",
       "<style scoped>\n",
       "    .dataframe tbody tr th:only-of-type {\n",
       "        vertical-align: middle;\n",
       "    }\n",
       "\n",
       "    .dataframe tbody tr th {\n",
       "        vertical-align: top;\n",
       "    }\n",
       "\n",
       "    .dataframe thead th {\n",
       "        text-align: right;\n",
       "    }\n",
       "</style>\n",
       "<table border=\"1\" class=\"dataframe\">\n",
       "  <thead>\n",
       "    <tr style=\"text-align: right;\">\n",
       "      <th></th>\n",
       "      <th>Aqua Production (Millions)</th>\n",
       "      <th>Marine Protected Area (sqkm)</th>\n",
       "      <th>Inventions (number)</th>\n",
       "      <th>Instruments (number)</th>\n",
       "      <th>Fishing Exports (Millions)</th>\n",
       "      <th>Value</th>\n",
       "      <th>Country</th>\n",
       "    </tr>\n",
       "  </thead>\n",
       "  <tbody>\n",
       "    <tr>\n",
       "      <th>0</th>\n",
       "      <td>0.679748</td>\n",
       "      <td>-0.216403</td>\n",
       "      <td>-0.255849</td>\n",
       "      <td>0.128004</td>\n",
       "      <td>-0.179730</td>\n",
       "      <td>-0.246968</td>\n",
       "      <td>-0.805823</td>\n",
       "    </tr>\n",
       "    <tr>\n",
       "      <th>1</th>\n",
       "      <td>-0.369917</td>\n",
       "      <td>-0.279476</td>\n",
       "      <td>-0.331231</td>\n",
       "      <td>-1.113538</td>\n",
       "      <td>-0.548519</td>\n",
       "      <td>-0.751243</td>\n",
       "      <td>-0.725241</td>\n",
       "    </tr>\n",
       "    <tr>\n",
       "      <th>2</th>\n",
       "      <td>-0.301377</td>\n",
       "      <td>-0.200619</td>\n",
       "      <td>-0.182663</td>\n",
       "      <td>0.872929</td>\n",
       "      <td>0.563609</td>\n",
       "      <td>-0.503371</td>\n",
       "      <td>-0.644658</td>\n",
       "    </tr>\n",
       "    <tr>\n",
       "      <th>3</th>\n",
       "      <td>-0.345421</td>\n",
       "      <td>-0.000724</td>\n",
       "      <td>-0.326903</td>\n",
       "      <td>-0.120304</td>\n",
       "      <td>0.168121</td>\n",
       "      <td>0.151617</td>\n",
       "      <td>-0.564076</td>\n",
       "    </tr>\n",
       "    <tr>\n",
       "      <th>4</th>\n",
       "      <td>-0.288119</td>\n",
       "      <td>-0.249281</td>\n",
       "      <td>-0.333362</td>\n",
       "      <td>-1.113538</td>\n",
       "      <td>-0.674262</td>\n",
       "      <td>-0.751243</td>\n",
       "      <td>-0.483494</td>\n",
       "    </tr>\n",
       "  </tbody>\n",
       "</table>\n",
       "</div>"
      ],
      "text/plain": [
       "   Aqua Production (Millions)  Marine Protected Area (sqkm)  \\\n",
       "0                    0.679748                     -0.216403   \n",
       "1                   -0.369917                     -0.279476   \n",
       "2                   -0.301377                     -0.200619   \n",
       "3                   -0.345421                     -0.000724   \n",
       "4                   -0.288119                     -0.249281   \n",
       "\n",
       "   Inventions (number)  Instruments (number)  Fishing Exports (Millions)  \\\n",
       "0            -0.255849              0.128004                   -0.179730   \n",
       "1            -0.331231             -1.113538                   -0.548519   \n",
       "2            -0.182663              0.872929                    0.563609   \n",
       "3            -0.326903             -0.120304                    0.168121   \n",
       "4            -0.333362             -1.113538                   -0.674262   \n",
       "\n",
       "      Value   Country  \n",
       "0 -0.246968 -0.805823  \n",
       "1 -0.751243 -0.725241  \n",
       "2 -0.503371 -0.644658  \n",
       "3  0.151617 -0.564076  \n",
       "4 -0.751243 -0.483494  "
      ]
     },
     "execution_count": 686,
     "metadata": {},
     "output_type": "execute_result"
    }
   ],
   "source": [
    "#| code-fold: true\n",
    "features_to_standardize = ['Aqua Production (Millions)', 'Marine Protected Area (sqkm)', 'Inventions (number)', 'Instruments (number)', 'Fishing Exports (Millions)', 'Value', 'Country']\n",
    "data_subset = data[features_to_standardize]\n",
    "scaler = StandardScaler()\n",
    "data_standardized = scaler.fit_transform(data_subset)\n",
    "data_standardized = pd.DataFrame(data_standardized, columns=features_to_standardize)\n",
    "data_standardized.head(5)"
   ]
  },
  {
   "cell_type": "markdown",
   "metadata": {},
   "source": [
    "### Performing K-Means Clustering\n",
    "\n",
    "Below I will preform my intial round of k-means clustering. I have chosen to use 7 clusters. I will later on implement code to help me achieve the optimal number of clusters. I have implemented k-means on my dimensionality reduced data (PCA).\n",
    "\n",
    "I have provided comments in my code to help readers understand what is being completed. "
   ]
  },
  {
   "cell_type": "code",
   "execution_count": 687,
   "metadata": {},
   "outputs": [
    {
     "data": {
      "text/plain": [
       "Text(0, 0.5, 'Principal Component 2')"
      ]
     },
     "execution_count": 687,
     "metadata": {},
     "output_type": "execute_result"
    },
    {
     "data": {
      "image/png": "[encoded data removed]",
      "text/plain": [
       "<Figure size 640x480 with 1 Axes>"
      ]
     },
     "metadata": {},
     "output_type": "display_data"
    }
   ],
   "source": [
    "#| code-fold: true\n",
    "from sklearn.decomposition import PCA\n",
    "pca = PCA(n_components=2)\n",
    "reduced_data = pca.fit_transform(data_standardized)\n",
    "data_standardized['PCA1'] = reduced_data[:, 0]\n",
    "data_standardized['PCA2'] = reduced_data[:, 1]\n",
    "\n",
    "# Performing K-means!!\n",
    "kmeans_pca = KMeans(n_clusters=7, random_state=42, n_init=10)\n",
    "kmeans_pca.fit(reduced_data)\n",
    "data_standardized['cluster_number_pca'] = kmeans_pca.labels_\n",
    "\n",
    "# Plot\n",
    "plt.scatter(data_standardized['PCA1'], data_standardized['PCA2'], c=data_standardized['cluster_number_pca'], cmap='viridis', marker='o', s=50)\n",
    "plt.title('K-means Clustering in PCA Space')\n",
    "plt.xlabel('Principal Component 1')\n",
    "plt.ylabel('Principal Component 2')"
   ]
  },
  {
   "cell_type": "markdown",
   "metadata": {},
   "source": [
    "Within the plot above, you can see that the dimensionality reduced data has beed placed into seven different clusters. This plot is not very informative because we do not actually know what country each plot is. Because of this I have utilized plotly to make an interactive plot. "
   ]
  },
  {
   "cell_type": "markdown",
   "metadata": {},
   "source": [
    "**K-Means with 7 Clusters and an Interactive Plot**\n",
    "\n",
    "To see if dots are from the same country you can use your cursor to see each more info on each plot. \n",
    "\n",
    "*Unfortunately I have not been able how to transform the standardized and encoded Country labels back to text** TBD"
   ]
  },
  {
   "cell_type": "code",
   "execution_count": 688,
   "metadata": {},
   "outputs": [
    {
     "data": {
      "text/html": [
       "        <script type=\"text/javascript\">\n",
       "        window.PlotlyConfig = {MathJaxConfig: 'local'};\n",
       "        if (window.MathJax && window.MathJax.Hub && window.MathJax.Hub.Config) {window.MathJax.Hub.Config({SVG: {font: \"STIX-Web\"}});}\n",
       "        if (typeof require !== 'undefined') {\n",
       "        require.undef(\"plotly\");\n",
       "        requirejs.config({\n",
       "            paths: {\n",
       "                'plotly': ['https://cdn.plot.ly/plotly-2.12.1.min']\n",
       "            }\n",
       "        });\n",
       "        require(['plotly'], function(Plotly) {\n",
       "            window._Plotly = Plotly;\n",
       "        });\n",
       "        }\n",
       "        </script>\n",
       "        "
      ]
     },
     "metadata": {},
     "output_type": "display_data"
    },
    {
     "data": {
      "application/vnd.plotly.v1+json": {
       "config": {
        "plotlyServerURL": "https://plot.ly"
       },
       "data": [
        {
         "customdata": [
          [
           "-0.806"
          ],
          [
           "-0.725"
          ],
          [
           "-0.645"
          ],
          [
           "-0.564"
          ],
          [
           "-0.483"
          ],
          [
           "-0.403"
          ],
          [
           "-0.322"
          ],
          [
           "-0.242"
          ],
          [
           "-0.161"
          ],
          [
           "-0.081"
          ],
          [
           "0.000"
          ],
          [
           "0.081"
          ],
          [
           "0.161"
          ],
          [
           "0.242"
          ],
          [
           "0.322"
          ],
          [
           "0.403"
          ],
          [
           "0.483"
          ],
          [
           "0.564"
          ],
          [
           "0.645"
          ],
          [
           "0.725"
          ],
          [
           "0.806"
          ],
          [
           "0.886"
          ],
          [
           "0.967"
          ],
          [
           "1.048"
          ],
          [
           "1.128"
          ],
          [
           "1.209"
          ],
          [
           "1.289"
          ],
          [
           "1.370"
          ],
          [
           "1.450"
          ],
          [
           "1.531"
          ],
          [
           "1.612"
          ],
          [
           "1.692"
          ],
          [
           "-1.692"
          ],
          [
           "-1.612"
          ],
          [
           "-1.531"
          ],
          [
           "-1.450"
          ],
          [
           "-1.370"
          ],
          [
           "-1.289"
          ],
          [
           "-1.209"
          ],
          [
           "-1.128"
          ],
          [
           "-1.048"
          ],
          [
           "-0.967"
          ],
          [
           "-0.886"
          ],
          [
           "-0.806"
          ],
          [
           "-0.725"
          ],
          [
           "-0.645"
          ],
          [
           "-0.564"
          ],
          [
           "-0.483"
          ],
          [
           "-0.403"
          ],
          [
           "-0.322"
          ],
          [
           "-0.242"
          ],
          [
           "-0.161"
          ],
          [
           "-0.081"
          ],
          [
           "0.000"
          ],
          [
           "0.081"
          ],
          [
           "0.161"
          ],
          [
           "0.242"
          ],
          [
           "0.322"
          ],
          [
           "0.403"
          ],
          [
           "0.483"
          ],
          [
           "0.564"
          ],
          [
           "0.645"
          ],
          [
           "0.725"
          ],
          [
           "0.806"
          ],
          [
           "0.886"
          ],
          [
           "0.967"
          ],
          [
           "1.048"
          ],
          [
           "1.128"
          ],
          [
           "1.209"
          ],
          [
           "1.289"
          ],
          [
           "1.370"
          ],
          [
           "1.450"
          ],
          [
           "1.531"
          ],
          [
           "1.612"
          ],
          [
           "1.692"
          ],
          [
           "-1.692"
          ],
          [
           "-1.612"
          ],
          [
           "-1.531"
          ],
          [
           "-1.450"
          ],
          [
           "-1.370"
          ],
          [
           "-1.289"
          ],
          [
           "-1.209"
          ],
          [
           "-1.128"
          ],
          [
           "-1.048"
          ],
          [
           "-0.967"
          ],
          [
           "-0.886"
          ],
          [
           "-0.806"
          ],
          [
           "-0.725"
          ],
          [
           "-0.645"
          ],
          [
           "-0.564"
          ],
          [
           "-0.483"
          ],
          [
           "-0.403"
          ],
          [
           "-0.322"
          ],
          [
           "-0.242"
          ],
          [
           "-0.161"
          ],
          [
           "-0.081"
          ],
          [
           "0.000"
          ],
          [
           "0.081"
          ],
          [
           "0.161"
          ],
          [
           "0.242"
          ],
          [
           "0.322"
          ],
          [
           "0.403"
          ],
          [
           "0.483"
          ],
          [
           "0.564"
          ],
          [
           "0.645"
          ],
          [
           "0.725"
          ],
          [
           "0.806"
          ],
          [
           "0.886"
          ],
          [
           "0.967"
          ],
          [
           "1.048"
          ],
          [
           "1.128"
          ],
          [
           "1.209"
          ],
          [
           "1.289"
          ],
          [
           "1.370"
          ],
          [
           "1.450"
          ],
          [
           "1.531"
          ],
          [
           "1.612"
          ],
          [
           "1.692"
          ],
          [
           "-1.692"
          ],
          [
           "-1.612"
          ],
          [
           "-1.531"
          ],
          [
           "-1.450"
          ],
          [
           "-1.370"
          ],
          [
           "-1.289"
          ],
          [
           "-1.209"
          ],
          [
           "-1.128"
          ],
          [
           "-1.048"
          ],
          [
           "-0.967"
          ],
          [
           "-0.886"
          ],
          [
           "-0.806"
          ],
          [
           "-0.725"
          ],
          [
           "-0.645"
          ],
          [
           "-0.564"
          ],
          [
           "-0.483"
          ],
          [
           "-0.403"
          ],
          [
           "-0.322"
          ],
          [
           "-0.242"
          ],
          [
           "-0.161"
          ],
          [
           "-0.081"
          ],
          [
           "0.000"
          ],
          [
           "0.081"
          ],
          [
           "0.161"
          ],
          [
           "0.242"
          ],
          [
           "0.322"
          ],
          [
           "0.403"
          ],
          [
           "0.483"
          ],
          [
           "0.564"
          ],
          [
           "0.645"
          ],
          [
           "0.725"
          ],
          [
           "0.806"
          ],
          [
           "0.886"
          ],
          [
           "0.967"
          ],
          [
           "1.048"
          ],
          [
           "1.128"
          ],
          [
           "1.209"
          ],
          [
           "1.289"
          ],
          [
           "1.370"
          ],
          [
           "1.450"
          ],
          [
           "1.531"
          ],
          [
           "1.612"
          ],
          [
           "1.692"
          ],
          [
           "-1.692"
          ],
          [
           "-1.612"
          ],
          [
           "-1.531"
          ],
          [
           "-1.450"
          ],
          [
           "-1.370"
          ],
          [
           "-1.289"
          ],
          [
           "-1.209"
          ],
          [
           "-1.128"
          ],
          [
           "-1.048"
          ],
          [
           "-0.967"
          ],
          [
           "-0.886"
          ],
          [
           "-0.806"
          ],
          [
           "-0.725"
          ],
          [
           "-0.645"
          ],
          [
           "-0.564"
          ],
          [
           "-0.483"
          ],
          [
           "-0.403"
          ],
          [
           "-0.322"
          ],
          [
           "-0.242"
          ],
          [
           "-0.161"
          ],
          [
           "-0.081"
          ],
          [
           "0.000"
          ],
          [
           "0.081"
          ],
          [
           "0.161"
          ],
          [
           "0.242"
          ],
          [
           "0.322"
          ],
          [
           "0.403"
          ],
          [
           "0.483"
          ],
          [
           "0.564"
          ],
          [
           "0.645"
          ],
          [
           "0.725"
          ],
          [
           "0.806"
          ],
          [
           "0.886"
          ],
          [
           "0.967"
          ],
          [
           "1.048"
          ],
          [
           "1.128"
          ],
          [
           "1.209"
          ],
          [
           "1.289"
          ],
          [
           "1.370"
          ],
          [
           "1.450"
          ],
          [
           "1.531"
          ],
          [
           "1.612"
          ],
          [
           "1.692"
          ],
          [
           "-1.692"
          ],
          [
           "-1.612"
          ],
          [
           "-1.531"
          ],
          [
           "-1.450"
          ],
          [
           "-1.370"
          ],
          [
           "-1.289"
          ],
          [
           "-1.209"
          ],
          [
           "-1.128"
          ],
          [
           "-1.048"
          ],
          [
           "-0.967"
          ],
          [
           "-0.886"
          ],
          [
           "-0.806"
          ],
          [
           "-0.725"
          ],
          [
           "-0.645"
          ],
          [
           "-0.564"
          ],
          [
           "-0.483"
          ],
          [
           "-0.403"
          ],
          [
           "-0.322"
          ],
          [
           "-0.242"
          ],
          [
           "-0.161"
          ],
          [
           "-0.081"
          ],
          [
           "0.000"
          ],
          [
           "0.081"
          ],
          [
           "0.161"
          ],
          [
           "0.242"
          ],
          [
           "0.322"
          ],
          [
           "0.403"
          ],
          [
           "0.483"
          ],
          [
           "0.564"
          ],
          [
           "0.645"
          ],
          [
           "0.725"
          ],
          [
           "0.806"
          ],
          [
           "0.886"
          ],
          [
           "0.967"
          ],
          [
           "1.048"
          ],
          [
           "1.128"
          ],
          [
           "1.209"
          ],
          [
           "1.289"
          ],
          [
           "1.370"
          ],
          [
           "1.450"
          ],
          [
           "1.531"
          ],
          [
           "1.612"
          ],
          [
           "1.692"
          ],
          [
           "-1.692"
          ],
          [
           "-1.612"
          ],
          [
           "-1.531"
          ],
          [
           "-1.450"
          ],
          [
           "-1.370"
          ],
          [
           "-1.289"
          ],
          [
           "-1.209"
          ],
          [
           "-1.128"
          ],
          [
           "-1.048"
          ],
          [
           "-0.967"
          ],
          [
           "-0.886"
          ],
          [
           "-0.806"
          ],
          [
           "-0.725"
          ],
          [
           "-0.645"
          ],
          [
           "-0.564"
          ],
          [
           "-0.483"
          ],
          [
           "-0.403"
          ],
          [
           "-0.322"
          ],
          [
           "-0.242"
          ],
          [
           "-0.161"
          ],
          [
           "-0.081"
          ],
          [
           "0.000"
          ],
          [
           "0.081"
          ],
          [
           "0.161"
          ],
          [
           "0.242"
          ],
          [
           "0.322"
          ],
          [
           "0.403"
          ],
          [
           "0.483"
          ],
          [
           "0.564"
          ],
          [
           "0.645"
          ],
          [
           "0.725"
          ],
          [
           "0.806"
          ],
          [
           "0.886"
          ],
          [
           "0.967"
          ],
          [
           "1.048"
          ],
          [
           "1.128"
          ],
          [
           "1.209"
          ],
          [
           "1.289"
          ],
          [
           "1.370"
          ],
          [
           "1.450"
          ],
          [
           "1.531"
          ],
          [
           "1.612"
          ],
          [
           "1.692"
          ],
          [
           "-1.692"
          ],
          [
           "-1.612"
          ],
          [
           "-1.531"
          ],
          [
           "-1.450"
          ],
          [
           "-1.370"
          ],
          [
           "-1.289"
          ],
          [
           "-1.209"
          ],
          [
           "-1.128"
          ],
          [
           "-1.048"
          ],
          [
           "-0.967"
          ],
          [
           "-0.886"
          ],
          [
           "-0.806"
          ],
          [
           "-0.725"
          ],
          [
           "-0.645"
          ],
          [
           "-0.564"
          ],
          [
           "-0.483"
          ],
          [
           "-0.403"
          ],
          [
           "-0.322"
          ],
          [
           "-0.242"
          ],
          [
           "-0.161"
          ],
          [
           "-0.081"
          ],
          [
           "0.000"
          ],
          [
           "0.081"
          ],
          [
           "0.161"
          ],
          [
           "0.242"
          ],
          [
           "0.322"
          ],
          [
           "0.403"
          ],
          [
           "0.483"
          ],
          [
           "0.564"
          ],
          [
           "0.645"
          ],
          [
           "0.725"
          ],
          [
           "0.806"
          ],
          [
           "0.886"
          ],
          [
           "0.967"
          ],
          [
           "1.048"
          ],
          [
           "1.128"
          ],
          [
           "1.209"
          ],
          [
           "1.289"
          ],
          [
           "1.370"
          ],
          [
           "1.450"
          ],
          [
           "1.531"
          ],
          [
           "1.612"
          ],
          [
           "1.692"
          ],
          [
           "-1.692"
          ],
          [
           "-1.612"
          ],
          [
           "-1.531"
          ],
          [
           "-1.450"
          ],
          [
           "-1.370"
          ],
          [
           "-1.289"
          ],
          [
           "-1.209"
          ],
          [
           "-1.128"
          ],
          [
           "-1.048"
          ],
          [
           "-0.967"
          ],
          [
           "-0.886"
          ],
          [
           "-0.806"
          ],
          [
           "-0.725"
          ],
          [
           "-0.645"
          ],
          [
           "-0.564"
          ],
          [
           "-0.483"
          ],
          [
           "-0.403"
          ],
          [
           "-0.322"
          ],
          [
           "-0.242"
          ],
          [
           "-0.161"
          ],
          [
           "-0.081"
          ],
          [
           "0.000"
          ],
          [
           "0.081"
          ],
          [
           "0.161"
          ],
          [
           "0.242"
          ],
          [
           "0.322"
          ],
          [
           "0.403"
          ],
          [
           "0.483"
          ],
          [
           "0.564"
          ],
          [
           "0.645"
          ],
          [
           "0.725"
          ],
          [
           "0.806"
          ],
          [
           "0.886"
          ],
          [
           "0.967"
          ],
          [
           "1.048"
          ],
          [
           "1.128"
          ],
          [
           "1.209"
          ],
          [
           "1.289"
          ],
          [
           "1.370"
          ],
          [
           "1.450"
          ],
          [
           "1.531"
          ],
          [
           "1.612"
          ],
          [
           "1.692"
          ],
          [
           "-1.692"
          ],
          [
           "-1.612"
          ],
          [
           "-1.531"
          ],
          [
           "-1.450"
          ],
          [
           "-1.370"
          ],
          [
           "-1.289"
          ],
          [
           "-1.209"
          ],
          [
           "-1.128"
          ],
          [
           "-1.048"
          ],
          [
           "-0.967"
          ],
          [
           "-0.886"
          ],
          [
           "-0.806"
          ],
          [
           "-0.725"
          ],
          [
           "-0.645"
          ],
          [
           "-0.564"
          ],
          [
           "-0.483"
          ],
          [
           "-0.403"
          ],
          [
           "-0.322"
          ],
          [
           "-0.242"
          ],
          [
           "-0.161"
          ],
          [
           "-0.081"
          ],
          [
           "0.000"
          ],
          [
           "0.081"
          ],
          [
           "0.161"
          ],
          [
           "0.242"
          ],
          [
           "0.322"
          ],
          [
           "0.403"
          ],
          [
           "0.483"
          ],
          [
           "0.564"
          ],
          [
           "0.645"
          ],
          [
           "0.725"
          ],
          [
           "0.806"
          ],
          [
           "0.886"
          ],
          [
           "0.967"
          ],
          [
           "1.048"
          ],
          [
           "1.128"
          ],
          [
           "1.209"
          ],
          [
           "1.289"
          ],
          [
           "1.370"
          ],
          [
           "1.450"
          ],
          [
           "1.531"
          ],
          [
           "1.612"
          ],
          [
           "1.692"
          ],
          [
           "-1.692"
          ],
          [
           "-1.612"
          ],
          [
           "-1.531"
          ],
          [
           "-1.450"
          ],
          [
           "-1.370"
          ],
          [
           "-1.289"
          ],
          [
           "-1.209"
          ],
          [
           "-1.128"
          ],
          [
           "-1.048"
          ],
          [
           "-0.967"
          ],
          [
           "-0.886"
          ],
          [
           "-0.806"
          ],
          [
           "-0.725"
          ],
          [
           "-0.645"
          ],
          [
           "-0.564"
          ],
          [
           "-0.483"
          ],
          [
           "-0.403"
          ],
          [
           "-0.322"
          ],
          [
           "-0.242"
          ],
          [
           "-0.161"
          ],
          [
           "-0.081"
          ],
          [
           "0.000"
          ],
          [
           "0.081"
          ],
          [
           "0.161"
          ],
          [
           "0.242"
          ],
          [
           "0.322"
          ],
          [
           "0.403"
          ],
          [
           "0.483"
          ],
          [
           "0.564"
          ],
          [
           "0.645"
          ],
          [
           "0.725"
          ],
          [
           "0.806"
          ],
          [
           "0.886"
          ],
          [
           "0.967"
          ],
          [
           "1.048"
          ],
          [
           "1.128"
          ],
          [
           "1.209"
          ],
          [
           "1.289"
          ],
          [
           "1.370"
          ],
          [
           "1.450"
          ],
          [
           "1.531"
          ],
          [
           "1.612"
          ],
          [
           "1.692"
          ],
          [
           "-1.692"
          ],
          [
           "-1.612"
          ],
          [
           "-1.531"
          ],
          [
           "-1.450"
          ],
          [
           "-1.370"
          ],
          [
           "-1.289"
          ],
          [
           "-1.209"
          ],
          [
           "-1.128"
          ],
          [
           "-1.048"
          ],
          [
           "-0.967"
          ],
          [
           "-0.886"
          ],
          [
           "-0.806"
          ],
          [
           "-0.725"
          ],
          [
           "-0.645"
          ],
          [
           "-0.564"
          ],
          [
           "-0.483"
          ],
          [
           "-0.403"
          ],
          [
           "-0.322"
          ],
          [
           "-0.242"
          ],
          [
           "-0.161"
          ],
          [
           "-0.081"
          ],
          [
           "0.000"
          ],
          [
           "0.081"
          ],
          [
           "0.161"
          ],
          [
           "0.242"
          ],
          [
           "0.322"
          ],
          [
           "0.403"
          ],
          [
           "0.483"
          ],
          [
           "0.564"
          ],
          [
           "0.645"
          ],
          [
           "0.725"
          ],
          [
           "0.806"
          ],
          [
           "0.886"
          ],
          [
           "0.967"
          ],
          [
           "1.048"
          ],
          [
           "1.128"
          ],
          [
           "1.209"
          ],
          [
           "1.289"
          ],
          [
           "1.370"
          ],
          [
           "1.450"
          ],
          [
           "1.531"
          ],
          [
           "1.612"
          ],
          [
           "1.692"
          ],
          [
           "-1.692"
          ],
          [
           "-1.612"
          ],
          [
           "-1.531"
          ],
          [
           "-1.450"
          ],
          [
           "-1.370"
          ],
          [
           "-1.289"
          ],
          [
           "-1.209"
          ],
          [
           "-1.128"
          ],
          [
           "-1.048"
          ],
          [
           "-0.967"
          ],
          [
           "-0.886"
          ]
         ],
         "hovertemplate": "Principal Component 1=%{x}<br>Principal Component 2=%{y}<br>Country=%{customdata[0]}<br>Cluster Number=%{marker.color}<extra></extra>",
         "legendgroup": "",
         "marker": {
          "color": [
           0,
           3,
           0,
           0,
           4,
           2,
           3,
           4,
           0,
           0,
           3,
           4,
           0,
           4,
           0,
           4,
           3,
           3,
           4,
           4,
           4,
           4,
           4,
           3,
           4,
           4,
           4,
           4,
           4,
           4,
           4,
           0,
           0,
           3,
           5,
           3,
           2,
           2,
           3,
           2,
           3,
           6,
           2,
           0,
           3,
           0,
           5,
           4,
           2,
           0,
           0,
           0,
           0,
           3,
           4,
           0,
           4,
           0,
           4,
           3,
           3,
           4,
           4,
           4,
           4,
           4,
           3,
           4,
           4,
           4,
           4,
           4,
           4,
           4,
           0,
           0,
           3,
           1,
           3,
           6,
           2,
           3,
           2,
           3,
           6,
           6,
           0,
           3,
           0,
           0,
           4,
           2,
           0,
           0,
           0,
           0,
           3,
           4,
           0,
           4,
           0,
           4,
           3,
           3,
           4,
           4,
           4,
           0,
           4,
           5,
           4,
           4,
           4,
           4,
           4,
           4,
           4,
           3,
           0,
           3,
           1,
           3,
           6,
           2,
           0,
           2,
           3,
           6,
           6,
           0,
           3,
           0,
           5,
           4,
           2,
           0,
           0,
           0,
           0,
           3,
           4,
           0,
           4,
           0,
           4,
           3,
           3,
           4,
           4,
           4,
           0,
           4,
           5,
           4,
           4,
           4,
           4,
           4,
           4,
           4,
           0,
           0,
           3,
           1,
           3,
           6,
           2,
           0,
           2,
           3,
           6,
           6,
           0,
           3,
           0,
           5,
           4,
           2,
           0,
           0,
           0,
           0,
           3,
           4,
           0,
           4,
           0,
           4,
           3,
           3,
           4,
           4,
           4,
           0,
           4,
           5,
           4,
           4,
           4,
           4,
           4,
           4,
           4,
           0,
           0,
           3,
           1,
           3,
           6,
           2,
           0,
           2,
           3,
           6,
           6,
           0,
           3,
           0,
           5,
           4,
           2,
           0,
           0,
           0,
           0,
           3,
           4,
           0,
           4,
           0,
           4,
           3,
           3,
           4,
           4,
           4,
           0,
           4,
           5,
           4,
           4,
           4,
           0,
           4,
           4,
           4,
           0,
           0,
           3,
           1,
           5,
           6,
           2,
           0,
           2,
           3,
           6,
           6,
           0,
           3,
           0,
           5,
           4,
           2,
           0,
           0,
           0,
           0,
           3,
           4,
           0,
           4,
           0,
           4,
           3,
           3,
           4,
           4,
           4,
           3,
           4,
           5,
           4,
           4,
           4,
           4,
           4,
           4,
           4,
           0,
           0,
           0,
           1,
           5,
           6,
           2,
           0,
           2,
           3,
           6,
           6,
           0,
           3,
           0,
           5,
           4,
           2,
           0,
           0,
           0,
           0,
           3,
           4,
           0,
           4,
           0,
           4,
           3,
           3,
           4,
           4,
           4,
           3,
           4,
           5,
           4,
           4,
           4,
           4,
           4,
           4,
           4,
           0,
           0,
           0,
           1,
           5,
           6,
           2,
           0,
           2,
           3,
           6,
           6,
           0,
           3,
           0,
           5,
           4,
           2,
           0,
           0,
           2,
           0,
           3,
           4,
           0,
           4,
           0,
           4,
           3,
           3,
           4,
           4,
           4,
           3,
           4,
           5,
           4,
           4,
           4,
           4,
           3,
           4,
           4,
           0,
           0,
           0,
           1,
           5,
           6,
           2,
           0,
           2,
           3,
           6,
           6,
           0,
           3,
           0,
           5,
           4,
           2,
           0,
           0,
           0,
           0,
           3,
           4,
           0,
           4,
           0,
           4,
           3,
           3,
           4,
           4,
           4,
           0,
           4,
           5,
           4,
           4,
           4,
           3,
           4,
           4,
           4,
           0,
           0,
           0,
           1,
           5,
           6,
           2,
           0,
           2,
           3,
           6,
           6,
           0,
           3,
           0,
           5,
           4,
           2,
           0,
           0,
           0,
           0,
           3,
           4,
           0,
           4,
           0,
           4,
           3,
           3,
           4,
           4,
           4,
           0,
           4,
           5,
           4,
           4,
           4,
           3,
           3,
           4,
           4,
           0,
           0,
           0,
           1,
           5,
           6,
           2,
           0,
           2,
           5,
           6,
           6,
           0,
           3,
           0,
           5,
           4,
           2,
           0,
           0,
           0,
           0,
           3,
           4,
           0,
           4,
           0,
           4,
           3,
           3,
           4,
           4,
           4,
           0,
           4,
           5,
           4,
           4,
           4,
           3,
           3,
           4,
           4,
           0,
           0,
           0,
           1,
           5,
           6,
           2,
           0,
           2,
           5,
           6,
           6
          ],
          "coloraxis": "coloraxis",
          "symbol": "circle"
         },
         "mode": "markers",
         "name": "",
         "orientation": "v",
         "showlegend": false,
         "type": "scatter",
         "x": [
          -0.007692617028563264,
          -0.587992479576772,
          0.4835233173127545,
          0.37914613951845055,
          -0.7492023721628248,
          0.2507722621405053,
          0.06606534887620341,
          -0.6891150718825501,
          -0.45550660276439114,
          -0.3832268054962345,
          -0.6118308419936761,
          -0.8347886319964914,
          -0.3189563687892951,
          -0.7283829841641608,
          -0.504765043085577,
          -0.9350355304263622,
          -0.829978445092531,
          -0.7257085438982008,
          -1.1524517362855948,
          -0.9976282710096966,
          -0.9412403854468353,
          -0.7222989046623266,
          -0.8706296892055406,
          0.15109045065676688,
          -1.2928542090220656,
          -1.0470655512754532,
          -1.5333984375935266,
          -0.701688455329878,
          -1.159772304504962,
          -1.4307556865702407,
          -0.769748885617859,
          -0.42664767457940805,
          0.15445107282748186,
          -0.2828781193959903,
          3.2156513933334554,
          0.1321641938649586,
          1.5047408505727637,
          0.5821793413177853,
          -0.17712888508688052,
          0.5216811976925575,
          0.1945706970511903,
          2.755141401941436,
          1.3197549911580784,
          -0.19201472536370331,
          -0.537371378761098,
          0.3971348540519937,
          0.799218460866057,
          -0.771703114896728,
          0.1263185178002042,
          0.1282799746497834,
          -0.5229600731162105,
          -0.4159245036814233,
          -0.25289860933409514,
          -0.638165169886574,
          -0.833853951026644,
          -0.36265130120359945,
          -0.8523715195839818,
          -0.567784925293003,
          -0.8836421662675178,
          -0.766360608729537,
          -0.7019778009172033,
          -1.052453412806418,
          -1.008009498569825,
          -0.9825355316152323,
          -0.5254356933370578,
          -0.9703071698598869,
          0.03656114579758993,
          -1.2583567767555393,
          -1.0995961946763373,
          -1.4318132663412748,
          -0.7259874355216858,
          -1.117950860246347,
          -1.4016741505982078,
          -0.851786341515876,
          -0.17171269095907946,
          0.23510216081006985,
          -0.24254447951109662,
          4.803267818466001,
          0.0653995327052745,
          1.969445369438166,
          0.6020997461352274,
          -0.08997855687837039,
          0.9188473882921383,
          -0.13429199164004268,
          2.4448032132756126,
          1.9609586867923616,
          -0.24086339539695129,
          -0.5356592574194537,
          0.3179208594013458,
          0.536188210430264,
          -0.8011579323417087,
          0.020273283426254476,
          0.023033662726933773,
          -0.5300343054784658,
          -0.4068570280407691,
          -0.2731275114155774,
          -0.5175052024505663,
          -0.8050124948851834,
          -0.3120534183974568,
          -0.7914981313586125,
          -0.6051677410167793,
          -0.9137013645583069,
          -0.6911925463723598,
          -0.5112301952430822,
          -0.9974235682419256,
          -0.9865374512136538,
          -0.9839513249488533,
          -0.483926745382439,
          -1.1285268009236065,
          0.7332408993777612,
          -1.1699720761968657,
          -1.1812468725625507,
          -1.3729964770727994,
          -0.7014645978314344,
          -0.7833392493839004,
          -1.394494586148052,
          -0.7846172083935106,
          -0.37294188339281187,
          0.38071835969868395,
          -0.31773186133698905,
          5.670456918733059,
          0.10352518024020115,
          2.012570558162671,
          0.7654247869275224,
          0.3266666702044126,
          0.9682873678180152,
          -0.20313061563395293,
          2.5454795627645908,
          1.8692716161413656,
          -0.2530553084462995,
          -0.5233729454957818,
          0.3199581026143136,
          0.8070161838065811,
          -0.8023612219552475,
          0.023673671442376174,
          0.034148298501293674,
          -0.5282658760629478,
          -0.4116130233955918,
          -0.27923309856445305,
          -0.47558979343403046,
          -0.7919017371820294,
          -0.27222622018696235,
          -0.804839154575716,
          -0.6119377363246356,
          -0.9027408557135059,
          -0.7352832604121173,
          -0.44418733037346836,
          -1.0070395472202902,
          -0.9827506011111524,
          -0.9341682621367531,
          -0.4452036955500104,
          -1.1377954227176392,
          0.6024834319345718,
          -1.1507111759184483,
          -1.1616592098785636,
          -1.3726589933000375,
          -0.5455288849844755,
          -0.7973194393825047,
          -1.3768813477905368,
          -0.6694075857942591,
          -0.1655676010933601,
          0.359068972221106,
          -0.32004247372945605,
          6.208729032317673,
          0.2924557557975206,
          1.9816479265753222,
          0.8318318895321628,
          0.38753982815257526,
          0.9225947406957128,
          -0.2180922759682336,
          2.647200042234573,
          1.9973747812713192,
          -0.31421160357935335,
          -0.5477057220882731,
          0.32422223279286255,
          0.7610686877367492,
          -0.8024806982775189,
          0.032262397183326436,
          0.014064624644630885,
          -0.5139748404774586,
          -0.40797751876161464,
          -0.25898752806232006,
          -0.4703194934204839,
          -0.7940736884086325,
          -0.256306614280719,
          -0.6938371473998901,
          -0.611480006323178,
          -0.9188598185390688,
          -0.7208778036869389,
          -0.45432621932716266,
          -0.9949534995498563,
          -0.9837672841330256,
          -0.942662053353213,
          -0.42759230680668314,
          -1.2122782334188165,
          0.5351900728065441,
          -1.138290046499749,
          -1.1582984218015024,
          -1.3000488865520405,
          -0.5437667518897755,
          -0.7765449712786152,
          -1.366672476700854,
          -0.6629972589296802,
          -0.2650136451789556,
          0.29820050089427236,
          -0.32006748871627033,
          6.647723484631948,
          0.31772720914772207,
          2.0602043385227597,
          0.7887916795828398,
          0.3679818550418488,
          0.9466165981592355,
          -0.23528872201615753,
          2.645704302587078,
          2.0057354762939976,
          -0.30085404767098034,
          -0.5508253603071609,
          0.3569087352045294,
          0.969982427647647,
          -0.8043583035394878,
          0.02564864856683241,
          0.07153279888636617,
          -0.5230139752413381,
          -0.4081213642627865,
          -0.26278226379371,
          -0.46607147002463556,
          -0.8022133111027877,
          -0.24702897654189424,
          -0.7098771048813652,
          -0.6105608434811826,
          -0.9078349686079452,
          -0.6522233783774075,
          -0.5083534770198361,
          -0.9913596579498392,
          -0.9800851171647468,
          -0.9502496914414647,
          -0.4354206438256044,
          -1.2284350245511337,
          0.7989621670977971,
          -1.1129697093875008,
          -1.157844162361467,
          -1.2999083496058133,
          -0.5169139381916573,
          -0.7497119220975955,
          -1.3478887693081207,
          -0.6184631488692913,
          -0.23364647874681543,
          0.32317898249582,
          -0.3235516276759638,
          7.005237110711696,
          0.6446988479798547,
          2.2752575300501268,
          0.7770902594692727,
          0.3143953984788502,
          1.0016847617513944,
          -0.20354358783168428,
          2.3790416505292478,
          2.0996268177094404,
          -0.2789457413972999,
          -0.5370604519454625,
          0.4052522456389519,
          1.4854716405263393,
          -0.7995795049022024,
          0.023892649927595648,
          0.07769887664917463,
          -0.5257456029860625,
          -0.4084341916716944,
          -0.2879259872722834,
          -0.421552127785346,
          -0.7956099199448381,
          -0.30693606314076877,
          -0.6999713933422957,
          -0.6168826850933713,
          -0.9015681168326537,
          -0.6271511720654867,
          -0.5347132626899588,
          -1.011548024912371,
          -0.9654048646493232,
          -0.9341885392169821,
          -0.4187355817336498,
          -1.2160878576134895,
          0.9889077127624747,
          -1.0796143013949753,
          -1.1422578423207013,
          -1.2960843978769971,
          -0.5595328242257894,
          -0.6855494268348318,
          -1.3261772920842871,
          -0.5910331600797754,
          -0.22919289701774734,
          0.3576825537951039,
          -0.12411572404735291,
          7.458593083480699,
          0.8558744359372267,
          2.3746429791938626,
          0.8133985724296742,
          0.34537431012412706,
          0.9794337283734739,
          0.026854343838147266,
          2.338744305469457,
          2.3551431752580774,
          -0.23774676255604207,
          -0.5281380002323056,
          0.5569083151105734,
          1.3273169146255275,
          -0.7979564715282564,
          0.021306045384004713,
          0.1854040803929686,
          -0.5286601151840613,
          -0.3005393858156645,
          -0.2670905851620725,
          -0.42139454838103646,
          -0.7881349712763449,
          -0.29843934370860714,
          -0.6988935851903374,
          -0.6188611243595005,
          -0.8918935768537006,
          -0.5575326074115945,
          -0.5421444761223357,
          -1.021826498830051,
          -0.8757070979958415,
          -0.9262405724981977,
          -0.37601454154167663,
          -1.1909069145954863,
          1.2068900169818637,
          -1.072729515948612,
          -1.1273827906816867,
          -1.295711515079681,
          -0.4896572112193394,
          -0.6004872142685136,
          -1.3019932900520117,
          -0.6730544697140323,
          -0.27260119813793576,
          0.27762518456157004,
          -0.11134018088329513,
          7.42558250282926,
          0.7340934085357637,
          2.259335054666974,
          0.8025779119217218,
          0.2730678641552727,
          0.9378846637130445,
          0.23322427422847164,
          2.2627195949827428,
          2.2651970750646226,
          -0.24621242662602683,
          -0.5170436877077913,
          0.6580760857569387,
          1.4019238447509952,
          -0.7968545076483206,
          0.01769123650855694,
          0.26227155737819974,
          -0.536404239002527,
          -0.23720276782221852,
          -0.2446114081707634,
          -0.39014402662361825,
          -0.7681859741786081,
          -0.3438802021904255,
          -0.7013248588650738,
          -0.6251343538495784,
          -0.886595497982687,
          -0.5575332483988021,
          -0.491782128008638,
          -1.018623033351707,
          -0.8710881820275992,
          -0.9826333242086619,
          -0.2702087748183064,
          -1.1678706038708075,
          1.711438142942086,
          -1.0159276585898238,
          -1.1437811126170785,
          -1.2937059990942799,
          -0.4235259461307586,
          -0.46625939337817573,
          -1.2660954727592795,
          -0.5801726755969003,
          -0.2983815991292106,
          0.3617004296234163,
          -0.11161244884777183,
          8.195748037712072,
          0.8593025091894555,
          2.3784836660095037,
          0.8016490154620443,
          0.2506524093325972,
          0.9957002735899217,
          0.3165424895068269,
          2.319037521794377,
          2.372984788158902,
          -0.24403295371306666,
          -0.5011318074706802,
          0.6604430361177017,
          1.5736708962544377,
          -0.8077955399608662,
          0.020349776551947484,
          0.26852357437854957,
          -0.46375995792964064,
          -0.27654067526616444,
          -0.2372448660671398,
          -0.42366398161714375,
          -0.7628986420486301,
          -0.3730653369100318,
          -0.684628928997567,
          -0.6313609075988555,
          -0.8813164203699891,
          -0.5362795724014681,
          -0.4398107905208841,
          -1.0137658921650392,
          -0.8666855049315546,
          -0.9638600213704254,
          -0.026552605653419527,
          -1.1749393144478562,
          1.680415479060789,
          -0.9935139808671011,
          -1.126485577314447,
          -1.2907819472532291,
          -0.3509114013435123,
          -0.5375039227465712,
          -1.2305963674566383,
          -0.5460667284606429,
          -0.2006263663387506,
          0.3745514894636184,
          -0.1155885475223293,
          8.22834431893937,
          1.142206193302949,
          2.514312630437054,
          1.012849539293941,
          0.33468786715751714,
          1.0393696392449756,
          0.285079201494637,
          2.2917012423679406,
          2.5839149272804245,
          -0.603155903655783,
          -0.531198101970555,
          0.6514448201232134,
          1.516207339755903,
          -0.8042173878242386,
          0.020807062960937792,
          0.25261407127705104,
          -0.46354469852121605,
          -0.27404007401018254,
          -0.24312591443891857,
          -0.43744346467671,
          -0.7643873163214099,
          -0.3273175905842421,
          -0.6931988172936729,
          -0.6371131386259345,
          -0.875177769234346,
          -0.5009466759585716,
          -0.43322917353637813,
          -1.0134905590898209,
          -0.8694372142119321,
          -0.9362419229186637,
          -0.028207008359989967,
          -1.1734001206465003,
          1.6243942250953363,
          -0.9605213235403331,
          -1.1195080256153027,
          -1.2902364670485378,
          -0.3404654903626386,
          -0.4212380881912453,
          -1.161751038638085,
          -0.6137290967463549,
          -0.3016633789716237,
          0.43451581621393265,
          -0.2580841973675986,
          8.100050753522682,
          1.1227968552016019,
          2.632049007974324,
          1.0106282716745076,
          0.41795487453031277,
          1.0513663935040185,
          0.38973496178238254,
          2.2354957132935733,
          2.716617274463172,
          -0.602256756031027,
          -0.5393933293598667,
          0.6408461543060164,
          1.6028464435380643,
          -0.7991349394296036,
          0.01881276262358314,
          0.2556958255246752,
          -0.45523378320259955,
          -0.2810050209564347,
          -0.2429834671716199,
          -0.46396014513873646,
          -0.7679547919155176,
          -0.29477137006646775,
          -0.7009194175246182,
          -0.6363719027150709,
          -0.8843913470358707,
          -0.5395189112461649,
          -0.406769317052386,
          -1.0122068084932827,
          -0.8626984223275069,
          -0.9449798615507573,
          -0.009324619018367945,
          -1.15371386063835,
          1.8411239812805533,
          -0.9472723428100902,
          -1.135394214095414,
          -1.2863602591222216,
          -0.3628643200812754,
          -0.4334712159569142,
          -1.11404080212437,
          -0.5689587266126273,
          -0.3850396912447661,
          0.42128605950269254,
          -0.24663796752391814,
          8.193483308041555,
          1.1369624002268401,
          2.578413323062321,
          1.0942800679477098,
          0.6814684535216965,
          1.0420126824237967,
          0.42874504181276896,
          2.207933359762147,
          2.825433615577927
         ],
         "xaxis": "x",
         "y": [
          -0.26943735129682456,
          0.6128617709513446,
          -0.28678936791100806,
          -0.1842973990177462,
          0.6453735281028659,
          -2.1833888168433124,
          0.6431638544893543,
          0.16209515496934895,
          -0.778879327301917,
          0.1713281994703368,
          0.7226675419502668,
          0.47862946796063205,
          -0.2988719133994495,
          0.18549272407294648,
          -0.9153423663743617,
          0.6685829361996263,
          1.1503974514019824,
          1.0459384089281896,
          0.5935216567185531,
          0.09364707165326079,
          0.4017791898589695,
          0.39910801021433506,
          0.4030979562522765,
          0.9158409646476144,
          0.7375857724830183,
          0.15415770834125544,
          1.000977849409355,
          0.25849353761227917,
          0.14275499738107306,
          0.7146470596580993,
          -0.06480643422735807,
          -0.056138688152965036,
          -0.20302278443652536,
          0.40203650197304913,
          2.3955118680052894,
          0.4760808972195705,
          -1.7218430014564212,
          -2.0359814729233214,
          0.5990853454569903,
          -1.4627341149397035,
          0.8580022702416158,
          -2.745484692953675,
          -1.3248863024146584,
          -0.2539380500876706,
          0.6447832266793735,
          -0.2629867642647813,
          -0.18994346277107949,
          0.6387239045076352,
          -1.9298153047999436,
          0.09785130132247219,
          -0.3025587056573163,
          -0.9163315823987029,
          -0.20962460434132113,
          0.7462934294168565,
          0.5119191654329901,
          -0.2468658081834379,
          0.40592451049182393,
          -0.7831427061577533,
          0.49905334710602345,
          1.2085582933791899,
          0.8069693778823623,
          0.36633785828961507,
          0.19033768431524295,
          0.42718500696511924,
          0.28826738949621505,
          0.4422259954700334,
          0.6522214712663966,
          0.7888199298136261,
          0.25337435476706416,
          0.7468859120468403,
          0.20954182060409351,
          0.38817507602053763,
          0.7569933417965145,
          0.20007735480933594,
          -0.15887010293243137,
          -0.020432645161171343,
          0.4248326204052748,
          3.449666905298288,
          0.4468347870517914,
          -3.439054477365432,
          -1.8495783269890838,
          0.6368014999586903,
          -2.6696888380864574,
          0.7843897312403466,
          -2.9106501185657416,
          -1.4778879438101242,
          -0.34769711363208494,
          0.6507522784027614,
          -0.42040730814409866,
          -0.3326501604165242,
          0.6243618461602346,
          -1.7048342034561337,
          0.298684902297663,
          -0.28477092613944893,
          -0.8920656043010687,
          -0.18369151157437394,
          0.9612243431751428,
          0.5438810438645008,
          -0.11765890365116122,
          0.2494939414096274,
          -0.6958662469179815,
          0.544024501968556,
          1.3425911200895155,
          1.7275523221301463,
          0.18481554245391096,
          0.2007970572339797,
          0.4465246702363958,
          0.15001992671070669,
          0.39310732109103197,
          0.3724239609310123,
          0.851844563227606,
          0.5850949117168274,
          0.5594000971785014,
          0.2971727753947227,
          0.18200139759031436,
          0.7610406795957854,
          0.5409866832519037,
          0.3008903592893053,
          -0.3814215320136828,
          0.4060413706401453,
          3.6396245197958987,
          0.4675592770474962,
          -3.786313390358951,
          -2.2844109876791023,
          -0.05231612756669332,
          -2.642552703824084,
          0.7583985724890107,
          -2.862906651656632,
          -1.530266853992737,
          -0.3787094852606911,
          0.6452269278557888,
          -0.4166219276536978,
          -0.18043416904167658,
          0.6245425774349493,
          -1.703409589200933,
          0.3142573595579447,
          -0.28545986416052427,
          -0.901714435061189,
          -0.18055359200753435,
          0.8857954347529173,
          0.5538345589759421,
          -0.10074034845123853,
          0.30793631213760214,
          -0.6775828628333768,
          0.5436501791311351,
          1.3578037669727643,
          1.8987484682813986,
          0.20871296746658197,
          0.18950634548672193,
          0.4686850841805261,
          0.10059487070202952,
          0.39403029285879354,
          0.2944367743842186,
          0.8545135449975145,
          0.5820002916018248,
          0.5595611541277165,
          0.1868152292343773,
          0.12064222350502536,
          0.7644149238324663,
          0.3534230397893854,
          0.12435921944401786,
          -0.39057824252366774,
          0.4023237104815927,
          3.872883597088211,
          0.5542493797872267,
          -3.6467402795242463,
          -2.4964700935004234,
          -0.02464147787285234,
          -2.5579123568232665,
          0.7591559976653303,
          -2.813265985099306,
          -1.4768481077047924,
          -0.35029351614875676,
          0.6400410147386572,
          -0.4422845595896001,
          -0.19942384162354843,
          0.6244631815081777,
          -1.6997907831285537,
          0.2727385776565661,
          -0.2987770471752918,
          -0.8989201294483739,
          -0.1594733182871854,
          0.8681267376319594,
          0.5518241406141485,
          -0.09320821593506409,
          0.07643515959827668,
          -0.6886437394163862,
          0.5373493742785281,
          1.379226504724164,
          2.3223076770352864,
          0.2059133342306118,
          0.19050356130322987,
          0.47987051308196393,
          0.1294520643657742,
          0.6314491852598418,
          0.2513350240629235,
          0.8723678651776643,
          0.5883101783367357,
          0.35314470553206956,
          0.22669323432101557,
          0.12505329413614688,
          0.7719122322714664,
          0.10842745354908044,
          -0.04628298437372149,
          -0.41244226583550225,
          0.4030934582722397,
          4.144684405467477,
          0.571590454271258,
          -3.6088186451129785,
          -2.4366841991489836,
          -0.038716859460675476,
          -2.546050880639674,
          0.7505970889507052,
          -2.8151925221230956,
          -1.8101138005551864,
          -0.354023523127152,
          0.643475521707043,
          -0.413191594431049,
          -0.10537656696760234,
          0.6222260681472515,
          -1.7025793380414422,
          0.2934680874944708,
          -0.28420465984475995,
          -0.8684887031813423,
          -0.19649087459917947,
          0.8450742606369037,
          0.5497906742970248,
          -0.11396002866322952,
          0.08695691074638676,
          -0.6654610096421225,
          0.5578911708531384,
          1.4095481761799549,
          1.920381017313785,
          0.20742746051857794,
          0.20213653861218622,
          0.47644234061327617,
          0.10406009353362031,
          0.6194556495024929,
          0.37976590146851763,
          0.8875218281048448,
          0.5849467655249291,
          0.35321350781134525,
          0.03979430113956838,
          0.3656917854073793,
          0.7812477106220638,
          0.1023251314024506,
          -0.018783234531550695,
          -0.40402238031190807,
          0.40349487824094166,
          4.371089486822745,
          0.7316056007105187,
          -3.4885178513634454,
          -2.4395109941031827,
          -0.055784737086971715,
          -2.5238793878755597,
          0.7574141822732113,
          -2.9379692510946596,
          -1.766932817086753,
          -0.34520460986033646,
          0.6413366580473631,
          -0.39608176940823525,
          -0.06834774214577923,
          0.6271528232829489,
          -1.703320708861912,
          0.293625917157682,
          -0.2857988806803198,
          -0.9003706369833289,
          -0.14752655448732407,
          0.8394057276117446,
          0.5486046778060978,
          -0.1385905944844726,
          0.09045109715166028,
          -0.6705256561464831,
          0.55371679668504,
          1.3884884212952808,
          2.13539347386594,
          0.2304664404409634,
          0.2083119863316472,
          0.49332019192016513,
          0.3327993899205211,
          0.6252176345392068,
          0.47129620795427596,
          0.9114423800549227,
          0.5893162354136824,
          0.34836214915776254,
          0.23339205525447093,
          0.3716577213407287,
          0.8213815828178507,
          0.13745234810658818,
          0.017593508749965223,
          -0.3894621255379173,
          -0.05832684918868703,
          4.595411853697289,
          0.8211090147084223,
          -3.4527387096218494,
          -2.4234895507511833,
          -0.04388245513546452,
          -2.5322370928143876,
          0.45527631910044913,
          -2.957251306945153,
          -1.6396951198636838,
          -0.3282654009832128,
          0.6468600707473385,
          -0.35077225978720467,
          -0.6465983944159778,
          0.6266056720937078,
          -1.7044260025214326,
          0.13867003762014518,
          -0.2870363956366023,
          -1.2570404272602975,
          -0.1613245441637962,
          0.8060842405855316,
          0.5494680453461794,
          -0.13564374352341801,
          0.09475723397892528,
          -0.6586926026852518,
          0.5586946190173621,
          1.4549781139982398,
          1.9627060040221285,
          0.24585694917774953,
          -0.007020436170129333,
          0.5323927856662316,
          0.34446407004082447,
          0.6354714027888495,
          0.5652218595341875,
          0.9012170793996366,
          0.5991114548712932,
          0.3456879039612623,
          0.2773869751041313,
          0.41159675530639367,
          0.8400521069192682,
          0.06531802205631296,
          -0.06704780943502016,
          -0.35652864756692965,
          -0.04587853548862583,
          4.654426299471108,
          0.7749074651507416,
          -3.5128220509578054,
          -2.4256438104076636,
          -0.07857890057634292,
          -2.544387341480724,
          0.5144277286808918,
          -3.183346702453948,
          -1.6587712389739646,
          -0.3228713353910759,
          0.6522372241142355,
          -0.3145433555424937,
          -0.57171570345487,
          0.6314299000960061,
          -1.7059006856059653,
          0.18251550273853112,
          -0.29028852719425274,
          -1.424312590233836,
          -0.17852141758207205,
          0.8171767650423616,
          0.5566849732572253,
          -0.15426162724137388,
          0.08704517274963253,
          -0.6519493988386388,
          0.551562192599645,
          1.4406955669297041,
          1.924543247612981,
          0.2457766303386829,
          0.005704790960178546,
          0.560679024630613,
          0.387841383028072,
          0.651342070066002,
          1.1106287414646159,
          0.9271085591435007,
          0.6021124399651093,
          0.34796482476456475,
          0.2891258368864545,
          0.45324469051536964,
          0.8533597557344348,
          0.11213697837952093,
          -0.024547385526951678,
          -0.31765977604909984,
          -0.05048605588487782,
          5.079482687968426,
          0.8214721995658294,
          -3.4403397380568816,
          -2.425807712009772,
          -0.08586715760576585,
          -2.753640402493533,
          0.5671486413451906,
          -3.156030406533974,
          -1.6136629839629708,
          -0.3214994768386642,
          0.6610677863254306,
          -0.2982850860953388,
          -0.44462879051454973,
          0.6286810759798768,
          -1.7047983935089763,
          0.1903747056877192,
          -0.49775759790731744,
          -1.2415812234149575,
          -0.1424773387774595,
          0.8358719565079746,
          0.5584920866557006,
          -0.18897892108313877,
          0.09690408947446252,
          -0.6355433536645718,
          0.5659076769817295,
          1.3802323763356579,
          1.5268323355203048,
          0.24137198406981883,
          0.0075462866899562815,
          0.5834848962664976,
          0.2727087899204001,
          0.6502098093666135,
          1.1142295739888985,
          0.9436336723649029,
          0.6175782453129093,
          0.3398817888552401,
          0.3257202934131931,
          0.417768614645521,
          0.8747518953268708,
          0.29906413611969446,
          -0.05167442070302472,
          -0.317222660855712,
          -0.03939808706340356,
          5.146893672618001,
          0.9568129081097657,
          -3.3626053079530047,
          -3.0160827882955767,
          -0.0514058781126848,
          -2.736892143155521,
          0.583545591812891,
          -3.1654871309511554,
          -1.5200763530167212,
          -0.2722938769281635,
          0.6548093991248534,
          -0.3129258904059417,
          -0.38767252812951913,
          0.6325132842940205,
          -1.7046159471510205,
          0.1825535851026966,
          -0.49694682205594737,
          -1.2374207444423655,
          -0.12138198148601005,
          0.8173989517803978,
          0.5703688478927218,
          -0.1701194495416293,
          0.09505636404063986,
          -0.6461016400594832,
          0.5598740573166399,
          1.4067906429635955,
          1.032250435847531,
          0.2414852143683241,
          0.006390646542133527,
          0.5723126961170776,
          0.2461944338941451,
          0.6444784771533165,
          1.0667491323176446,
          0.9602923538962892,
          0.6067624385119591,
          0.3401376819517867,
          0.3088016884260652,
          0.48626547590240915,
          0.9050351619830967,
          0.2680340596886555,
          -0.018102689106393764,
          -0.2224604434664759,
          -0.022081468776731852,
          5.053154821160688,
          0.94430553465199,
          -3.303709616269873,
          -3.0200359963514383,
          -0.015202711930938218,
          -2.724411779030376,
          0.6159705656213789,
          -3.1864158497374935,
          -1.440593543336989,
          -0.2652493769110342,
          0.6392750138695271,
          -0.2971914925081514,
          -0.31490581977391763,
          0.639104380371063,
          -1.7047508477503417,
          0.19007448543841335,
          -0.4948689314213991,
          -1.2482025717501326,
          -0.2003179470305163,
          0.7893847222083087,
          0.5615146363821342,
          -0.15384844873398446,
          0.09033804198531643,
          -0.6352642844388199,
          0.5560382253738274,
          1.3370958265373403,
          0.9818993604454189,
          0.23557182646596345,
          0.00923073843182552,
          0.5589179163529352,
          0.25855065558678275,
          0.6641644806422546,
          1.1377609475112114,
          0.9635537491479503,
          0.618019346152536,
          0.33458849570168636,
          0.3042636538406105,
          0.47026423542828355,
          0.9320068784210989,
          0.28999708970632576,
          -0.22683012997512347,
          -0.23897275540514154,
          -0.02329862207940262,
          5.257985681246013,
          0.9525720589423775,
          -3.335459189087945,
          -2.9750953192177585,
          -0.5371404431370375,
          -2.720059629270019,
          0.6231066493660316,
          -3.3906457766825056,
          -1.3667191218024395
         ],
         "yaxis": "y"
        }
       ],
       "layout": {
        "coloraxis": {
         "colorbar": {
          "title": {
           "text": "Cluster Number"
          }
         },
         "colorscale": [
          [
           0,
           "#0d0887"
          ],
          [
           0.1111111111111111,
           "#46039f"
          ],
          [
           0.2222222222222222,
           "#7201a8"
          ],
          [
           0.3333333333333333,
           "#9c179e"
          ],
          [
           0.4444444444444444,
           "#bd3786"
          ],
          [
           0.5555555555555556,
           "#d8576b"
          ],
          [
           0.6666666666666666,
           "#ed7953"
          ],
          [
           0.7777777777777778,
           "#fb9f3a"
          ],
          [
           0.8888888888888888,
           "#fdca26"
          ],
          [
           1,
           "#f0f921"
          ]
         ]
        },
        "legend": {
         "tracegroupgap": 0
        },
        "margin": {
         "t": 60
        },
        "template": {
         "data": {
          "bar": [
           {
            "error_x": {
             "color": "#2a3f5f"
            },
            "error_y": {
             "color": "#2a3f5f"
            },
            "marker": {
             "line": {
              "color": "#E5ECF6",
              "width": 0.5
             },
             "pattern": {
              "fillmode": "overlay",
              "size": 10,
              "solidity": 0.2
             }
            },
            "type": "bar"
           }
          ],
          "barpolar": [
           {
            "marker": {
             "line": {
              "color": "#E5ECF6",
              "width": 0.5
             },
             "pattern": {
              "fillmode": "overlay",
              "size": 10,
              "solidity": 0.2
             }
            },
            "type": "barpolar"
           }
          ],
          "carpet": [
           {
            "aaxis": {
             "endlinecolor": "#2a3f5f",
             "gridcolor": "white",
             "linecolor": "white",
             "minorgridcolor": "white",
             "startlinecolor": "#2a3f5f"
            },
            "baxis": {
             "endlinecolor": "#2a3f5f",
             "gridcolor": "white",
             "linecolor": "white",
             "minorgridcolor": "white",
             "startlinecolor": "#2a3f5f"
            },
            "type": "carpet"
           }
          ],
          "choropleth": [
           {
            "colorbar": {
             "outlinewidth": 0,
             "ticks": ""
            },
            "type": "choropleth"
           }
          ],
          "contour": [
           {
            "colorbar": {
             "outlinewidth": 0,
             "ticks": ""
            },
            "colorscale": [
             [
              0,
              "#0d0887"
             ],
             [
              0.1111111111111111,
              "#46039f"
             ],
             [
              0.2222222222222222,
              "#7201a8"
             ],
             [
              0.3333333333333333,
              "#9c179e"
             ],
             [
              0.4444444444444444,
              "#bd3786"
             ],
             [
              0.5555555555555556,
              "#d8576b"
             ],
             [
              0.6666666666666666,
              "#ed7953"
             ],
             [
              0.7777777777777778,
              "#fb9f3a"
             ],
             [
              0.8888888888888888,
              "#fdca26"
             ],
             [
              1,
              "#f0f921"
             ]
            ],
            "type": "contour"
           }
          ],
          "contourcarpet": [
           {
            "colorbar": {
             "outlinewidth": 0,
             "ticks": ""
            },
            "type": "contourcarpet"
           }
          ],
          "heatmap": [
           {
            "colorbar": {
             "outlinewidth": 0,
             "ticks": ""
            },
            "colorscale": [
             [
              0,
              "#0d0887"
             ],
             [
              0.1111111111111111,
              "#46039f"
             ],
             [
              0.2222222222222222,
              "#7201a8"
             ],
             [
              0.3333333333333333,
              "#9c179e"
             ],
             [
              0.4444444444444444,
              "#bd3786"
             ],
             [
              0.5555555555555556,
              "#d8576b"
             ],
             [
              0.6666666666666666,
              "#ed7953"
             ],
             [
              0.7777777777777778,
              "#fb9f3a"
             ],
             [
              0.8888888888888888,
              "#fdca26"
             ],
             [
              1,
              "#f0f921"
             ]
            ],
            "type": "heatmap"
           }
          ],
          "heatmapgl": [
           {
            "colorbar": {
             "outlinewidth": 0,
             "ticks": ""
            },
            "colorscale": [
             [
              0,
              "#0d0887"
             ],
             [
              0.1111111111111111,
              "#46039f"
             ],
             [
              0.2222222222222222,
              "#7201a8"
             ],
             [
              0.3333333333333333,
              "#9c179e"
             ],
             [
              0.4444444444444444,
              "#bd3786"
             ],
             [
              0.5555555555555556,
              "#d8576b"
             ],
             [
              0.6666666666666666,
              "#ed7953"
             ],
             [
              0.7777777777777778,
              "#fb9f3a"
             ],
             [
              0.8888888888888888,
              "#fdca26"
             ],
             [
              1,
              "#f0f921"
             ]
            ],
            "type": "heatmapgl"
           }
          ],
          "histogram": [
           {
            "marker": {
             "pattern": {
              "fillmode": "overlay",
              "size": 10,
              "solidity": 0.2
             }
            },
            "type": "histogram"
           }
          ],
          "histogram2d": [
           {
            "colorbar": {
             "outlinewidth": 0,
             "ticks": ""
            },
            "colorscale": [
             [
              0,
              "#0d0887"
             ],
             [
              0.1111111111111111,
              "#46039f"
             ],
             [
              0.2222222222222222,
              "#7201a8"
             ],
             [
              0.3333333333333333,
              "#9c179e"
             ],
             [
              0.4444444444444444,
              "#bd3786"
             ],
             [
              0.5555555555555556,
              "#d8576b"
             ],
             [
              0.6666666666666666,
              "#ed7953"
             ],
             [
              0.7777777777777778,
              "#fb9f3a"
             ],
             [
              0.8888888888888888,
              "#fdca26"
             ],
             [
              1,
              "#f0f921"
             ]
            ],
            "type": "histogram2d"
           }
          ],
          "histogram2dcontour": [
           {
            "colorbar": {
             "outlinewidth": 0,
             "ticks": ""
            },
            "colorscale": [
             [
              0,
              "#0d0887"
             ],
             [
              0.1111111111111111,
              "#46039f"
             ],
             [
              0.2222222222222222,
              "#7201a8"
             ],
             [
              0.3333333333333333,
              "#9c179e"
             ],
             [
              0.4444444444444444,
              "#bd3786"
             ],
             [
              0.5555555555555556,
              "#d8576b"
             ],
             [
              0.6666666666666666,
              "#ed7953"
             ],
             [
              0.7777777777777778,
              "#fb9f3a"
             ],
             [
              0.8888888888888888,
              "#fdca26"
             ],
             [
              1,
              "#f0f921"
             ]
            ],
            "type": "histogram2dcontour"
           }
          ],
          "mesh3d": [
           {
            "colorbar": {
             "outlinewidth": 0,
             "ticks": ""
            },
            "type": "mesh3d"
           }
          ],
          "parcoords": [
           {
            "line": {
             "colorbar": {
              "outlinewidth": 0,
              "ticks": ""
             }
            },
            "type": "parcoords"
           }
          ],
          "pie": [
           {
            "automargin": true,
            "type": "pie"
           }
          ],
          "scatter": [
           {
            "fillpattern": {
             "fillmode": "overlay",
             "size": 10,
             "solidity": 0.2
            },
            "type": "scatter"
           }
          ],
          "scatter3d": [
           {
            "line": {
             "colorbar": {
              "outlinewidth": 0,
              "ticks": ""
             }
            },
            "marker": {
             "colorbar": {
              "outlinewidth": 0,
              "ticks": ""
             }
            },
            "type": "scatter3d"
           }
          ],
          "scattercarpet": [
           {
            "marker": {
             "colorbar": {
              "outlinewidth": 0,
              "ticks": ""
             }
            },
            "type": "scattercarpet"
           }
          ],
          "scattergeo": [
           {
            "marker": {
             "colorbar": {
              "outlinewidth": 0,
              "ticks": ""
             }
            },
            "type": "scattergeo"
           }
          ],
          "scattergl": [
           {
            "marker": {
             "colorbar": {
              "outlinewidth": 0,
              "ticks": ""
             }
            },
            "type": "scattergl"
           }
          ],
          "scattermapbox": [
           {
            "marker": {
             "colorbar": {
              "outlinewidth": 0,
              "ticks": ""
             }
            },
            "type": "scattermapbox"
           }
          ],
          "scatterpolar": [
           {
            "marker": {
             "colorbar": {
              "outlinewidth": 0,
              "ticks": ""
             }
            },
            "type": "scatterpolar"
           }
          ],
          "scatterpolargl": [
           {
            "marker": {
             "colorbar": {
              "outlinewidth": 0,
              "ticks": ""
             }
            },
            "type": "scatterpolargl"
           }
          ],
          "scatterternary": [
           {
            "marker": {
             "colorbar": {
              "outlinewidth": 0,
              "ticks": ""
             }
            },
            "type": "scatterternary"
           }
          ],
          "surface": [
           {
            "colorbar": {
             "outlinewidth": 0,
             "ticks": ""
            },
            "colorscale": [
             [
              0,
              "#0d0887"
             ],
             [
              0.1111111111111111,
              "#46039f"
             ],
             [
              0.2222222222222222,
              "#7201a8"
             ],
             [
              0.3333333333333333,
              "#9c179e"
             ],
             [
              0.4444444444444444,
              "#bd3786"
             ],
             [
              0.5555555555555556,
              "#d8576b"
             ],
             [
              0.6666666666666666,
              "#ed7953"
             ],
             [
              0.7777777777777778,
              "#fb9f3a"
             ],
             [
              0.8888888888888888,
              "#fdca26"
             ],
             [
              1,
              "#f0f921"
             ]
            ],
            "type": "surface"
           }
          ],
          "table": [
           {
            "cells": {
             "fill": {
              "color": "#EBF0F8"
             },
             "line": {
              "color": "white"
             }
            },
            "header": {
             "fill": {
              "color": "#C8D4E3"
             },
             "line": {
              "color": "white"
             }
            },
            "type": "table"
           }
          ]
         },
         "layout": {
          "annotationdefaults": {
           "arrowcolor": "#2a3f5f",
           "arrowhead": 0,
           "arrowwidth": 1
          },
          "autotypenumbers": "strict",
          "coloraxis": {
           "colorbar": {
            "outlinewidth": 0,
            "ticks": ""
           }
          },
          "colorscale": {
           "diverging": [
            [
             0,
             "#8e0152"
            ],
            [
             0.1,
             "#c51b7d"
            ],
            [
             0.2,
             "#de77ae"
            ],
            [
             0.3,
             "#f1b6da"
            ],
            [
             0.4,
             "#fde0ef"
            ],
            [
             0.5,
             "#f7f7f7"
            ],
            [
             0.6,
             "#e6f5d0"
            ],
            [
             0.7,
             "#b8e186"
            ],
            [
             0.8,
             "#7fbc41"
            ],
            [
             0.9,
             "#4d9221"
            ],
            [
             1,
             "#276419"
            ]
           ],
           "sequential": [
            [
             0,
             "#0d0887"
            ],
            [
             0.1111111111111111,
             "#46039f"
            ],
            [
             0.2222222222222222,
             "#7201a8"
            ],
            [
             0.3333333333333333,
             "#9c179e"
            ],
            [
             0.4444444444444444,
             "#bd3786"
            ],
            [
             0.5555555555555556,
             "#d8576b"
            ],
            [
             0.6666666666666666,
             "#ed7953"
            ],
            [
             0.7777777777777778,
             "#fb9f3a"
            ],
            [
             0.8888888888888888,
             "#fdca26"
            ],
            [
             1,
             "#f0f921"
            ]
           ],
           "sequentialminus": [
            [
             0,
             "#0d0887"
            ],
            [
             0.1111111111111111,
             "#46039f"
            ],
            [
             0.2222222222222222,
             "#7201a8"
            ],
            [
             0.3333333333333333,
             "#9c179e"
            ],
            [
             0.4444444444444444,
             "#bd3786"
            ],
            [
             0.5555555555555556,
             "#d8576b"
            ],
            [
             0.6666666666666666,
             "#ed7953"
            ],
            [
             0.7777777777777778,
             "#fb9f3a"
            ],
            [
             0.8888888888888888,
             "#fdca26"
            ],
            [
             1,
             "#f0f921"
            ]
           ]
          },
          "colorway": [
           "#636efa",
           "#EF553B",
           "#00cc96",
           "#ab63fa",
           "#FFA15A",
           "#19d3f3",
           "#FF6692",
           "#B6E880",
           "#FF97FF",
           "#FECB52"
          ],
          "font": {
           "color": "#2a3f5f"
          },
          "geo": {
           "bgcolor": "white",
           "lakecolor": "white",
           "landcolor": "#E5ECF6",
           "showlakes": true,
           "showland": true,
           "subunitcolor": "white"
          },
          "hoverlabel": {
           "align": "left"
          },
          "hovermode": "closest",
          "mapbox": {
           "style": "light"
          },
          "paper_bgcolor": "white",
          "plot_bgcolor": "#E5ECF6",
          "polar": {
           "angularaxis": {
            "gridcolor": "white",
            "linecolor": "white",
            "ticks": ""
           },
           "bgcolor": "#E5ECF6",
           "radialaxis": {
            "gridcolor": "white",
            "linecolor": "white",
            "ticks": ""
           }
          },
          "scene": {
           "xaxis": {
            "backgroundcolor": "#E5ECF6",
            "gridcolor": "white",
            "gridwidth": 2,
            "linecolor": "white",
            "showbackground": true,
            "ticks": "",
            "zerolinecolor": "white"
           },
           "yaxis": {
            "backgroundcolor": "#E5ECF6",
            "gridcolor": "white",
            "gridwidth": 2,
            "linecolor": "white",
            "showbackground": true,
            "ticks": "",
            "zerolinecolor": "white"
           },
           "zaxis": {
            "backgroundcolor": "#E5ECF6",
            "gridcolor": "white",
            "gridwidth": 2,
            "linecolor": "white",
            "showbackground": true,
            "ticks": "",
            "zerolinecolor": "white"
           }
          },
          "shapedefaults": {
           "line": {
            "color": "#2a3f5f"
           }
          },
          "ternary": {
           "aaxis": {
            "gridcolor": "white",
            "linecolor": "white",
            "ticks": ""
           },
           "baxis": {
            "gridcolor": "white",
            "linecolor": "white",
            "ticks": ""
           },
           "bgcolor": "#E5ECF6",
           "caxis": {
            "gridcolor": "white",
            "linecolor": "white",
            "ticks": ""
           }
          },
          "title": {
           "x": 0.05
          },
          "xaxis": {
           "automargin": true,
           "gridcolor": "white",
           "linecolor": "white",
           "ticks": "",
           "title": {
            "standoff": 15
           },
           "zerolinecolor": "white",
           "zerolinewidth": 2
          },
          "yaxis": {
           "automargin": true,
           "gridcolor": "white",
           "linecolor": "white",
           "ticks": "",
           "title": {
            "standoff": 15
           },
           "zerolinecolor": "white",
           "zerolinewidth": 2
          }
         }
        },
        "title": {
         "text": "K-means Clustering in PCA Space with 7 Clusters"
        },
        "xaxis": {
         "anchor": "y",
         "domain": [
          0,
          1
         ],
         "title": {
          "text": "Principal Component 1"
         }
        },
        "yaxis": {
         "anchor": "x",
         "domain": [
          0,
          1
         ],
         "title": {
          "text": "Principal Component 2"
         }
        }
       }
      },
      "text/html": [
       "<div>                            <div id=\"0ba820bd-fc0e-4b64-aa88-2c0ffc9cd0f7\" class=\"plotly-graph-div\" style=\"height:525px; width:100%;\"></div>            <script type=\"text/javascript\">                require([\"plotly\"], function(Plotly) {                    window.PLOTLYENV=window.PLOTLYENV || {};                                    if (document.getElementById(\"0ba820bd-fc0e-4b64-aa88-2c0ffc9cd0f7\")) {                    Plotly.newPlot(                        \"0ba820bd-fc0e-4b64-aa88-2c0ffc9cd0f7\",                        [{\"customdata\":[[\"-0.806\"],[\"-0.725\"],[\"-0.645\"],[\"-0.564\"],[\"-0.483\"],[\"-0.403\"],[\"-0.322\"],[\"-0.242\"],[\"-0.161\"],[\"-0.081\"],[\"0.000\"],[\"0.081\"],[\"0.161\"],[\"0.242\"],[\"0.322\"],[\"0.403\"],[\"0.483\"],[\"0.564\"],[\"0.645\"],[\"0.725\"],[\"0.806\"],[\"0.886\"],[\"0.967\"],[\"1.048\"],[\"1.128\"],[\"1.209\"],[\"1.289\"],[\"1.370\"],[\"1.450\"],[\"1.531\"],[\"1.612\"],[\"1.692\"],[\"-1.692\"],[\"-1.612\"],[\"-1.531\"],[\"-1.450\"],[\"-1.370\"],[\"-1.289\"],[\"-1.209\"],[\"-1.128\"],[\"-1.048\"],[\"-0.967\"],[\"-0.886\"],[\"-0.806\"],[\"-0.725\"],[\"-0.645\"],[\"-0.564\"],[\"-0.483\"],[\"-0.403\"],[\"-0.322\"],[\"-0.242\"],[\"-0.161\"],[\"-0.081\"],[\"0.000\"],[\"0.081\"],[\"0.161\"],[\"0.242\"],[\"0.322\"],[\"0.403\"],[\"0.483\"],[\"0.564\"],[\"0.645\"],[\"0.725\"],[\"0.806\"],[\"0.886\"],[\"0.967\"],[\"1.048\"],[\"1.128\"],[\"1.209\"],[\"1.289\"],[\"1.370\"],[\"1.450\"],[\"1.531\"],[\"1.612\"],[\"1.692\"],[\"-1.692\"],[\"-1.612\"],[\"-1.531\"],[\"-1.450\"],[\"-1.370\"],[\"-1.289\"],[\"-1.209\"],[\"-1.128\"],[\"-1.048\"],[\"-0.967\"],[\"-0.886\"],[\"-0.806\"],[\"-0.725\"],[\"-0.645\"],[\"-0.564\"],[\"-0.483\"],[\"-0.403\"],[\"-0.322\"],[\"-0.242\"],[\"-0.161\"],[\"-0.081\"],[\"0.000\"],[\"0.081\"],[\"0.161\"],[\"0.242\"],[\"0.322\"],[\"0.403\"],[\"0.483\"],[\"0.564\"],[\"0.645\"],[\"0.725\"],[\"0.806\"],[\"0.886\"],[\"0.967\"],[\"1.048\"],[\"1.128\"],[\"1.209\"],[\"1.289\"],[\"1.370\"],[\"1.450\"],[\"1.531\"],[\"1.612\"],[\"1.692\"],[\"-1.692\"],[\"-1.612\"],[\"-1.531\"],[\"-1.450\"],[\"-1.370\"],[\"-1.289\"],[\"-1.209\"],[\"-1.128\"],[\"-1.048\"],[\"-0.967\"],[\"-0.886\"],[\"-0.806\"],[\"-0.725\"],[\"-0.645\"],[\"-0.564\"],[\"-0.483\"],[\"-0.403\"],[\"-0.322\"],[\"-0.242\"],[\"-0.161\"],[\"-0.081\"],[\"0.000\"],[\"0.081\"],[\"0.161\"],[\"0.242\"],[\"0.322\"],[\"0.403\"],[\"0.483\"],[\"0.564\"],[\"0.645\"],[\"0.725\"],[\"0.806\"],[\"0.886\"],[\"0.967\"],[\"1.048\"],[\"1.128\"],[\"1.209\"],[\"1.289\"],[\"1.370\"],[\"1.450\"],[\"1.531\"],[\"1.612\"],[\"1.692\"],[\"-1.692\"],[\"-1.612\"],[\"-1.531\"],[\"-1.450\"],[\"-1.370\"],[\"-1.289\"],[\"-1.209\"],[\"-1.128\"],[\"-1.048\"],[\"-0.967\"],[\"-0.886\"],[\"-0.806\"],[\"-0.725\"],[\"-0.645\"],[\"-0.564\"],[\"-0.483\"],[\"-0.403\"],[\"-0.322\"],[\"-0.242\"],[\"-0.161\"],[\"-0.081\"],[\"0.000\"],[\"0.081\"],[\"0.161\"],[\"0.242\"],[\"0.322\"],[\"0.403\"],[\"0.483\"],[\"0.564\"],[\"0.645\"],[\"0.725\"],[\"0.806\"],[\"0.886\"],[\"0.967\"],[\"1.048\"],[\"1.128\"],[\"1.209\"],[\"1.289\"],[\"1.370\"],[\"1.450\"],[\"1.531\"],[\"1.612\"],[\"1.692\"],[\"-1.692\"],[\"-1.612\"],[\"-1.531\"],[\"-1.450\"],[\"-1.370\"],[\"-1.289\"],[\"-1.209\"],[\"-1.128\"],[\"-1.048\"],[\"-0.967\"],[\"-0.886\"],[\"-0.806\"],[\"-0.725\"],[\"-0.645\"],[\"-0.564\"],[\"-0.483\"],[\"-0.403\"],[\"-0.322\"],[\"-0.242\"],[\"-0.161\"],[\"-0.081\"],[\"0.000\"],[\"0.081\"],[\"0.161\"],[\"0.242\"],[\"0.322\"],[\"0.403\"],[\"0.483\"],[\"0.564\"],[\"0.645\"],[\"0.725\"],[\"0.806\"],[\"0.886\"],[\"0.967\"],[\"1.048\"],[\"1.128\"],[\"1.209\"],[\"1.289\"],[\"1.370\"],[\"1.450\"],[\"1.531\"],[\"1.612\"],[\"1.692\"],[\"-1.692\"],[\"-1.612\"],[\"-1.531\"],[\"-1.450\"],[\"-1.370\"],[\"-1.289\"],[\"-1.209\"],[\"-1.128\"],[\"-1.048\"],[\"-0.967\"],[\"-0.886\"],[\"-0.806\"],[\"-0.725\"],[\"-0.645\"],[\"-0.564\"],[\"-0.483\"],[\"-0.403\"],[\"-0.322\"],[\"-0.242\"],[\"-0.161\"],[\"-0.081\"],[\"0.000\"],[\"0.081\"],[\"0.161\"],[\"0.242\"],[\"0.322\"],[\"0.403\"],[\"0.483\"],[\"0.564\"],[\"0.645\"],[\"0.725\"],[\"0.806\"],[\"0.886\"],[\"0.967\"],[\"1.048\"],[\"1.128\"],[\"1.209\"],[\"1.289\"],[\"1.370\"],[\"1.450\"],[\"1.531\"],[\"1.612\"],[\"1.692\"],[\"-1.692\"],[\"-1.612\"],[\"-1.531\"],[\"-1.450\"],[\"-1.370\"],[\"-1.289\"],[\"-1.209\"],[\"-1.128\"],[\"-1.048\"],[\"-0.967\"],[\"-0.886\"],[\"-0.806\"],[\"-0.725\"],[\"-0.645\"],[\"-0.564\"],[\"-0.483\"],[\"-0.403\"],[\"-0.322\"],[\"-0.242\"],[\"-0.161\"],[\"-0.081\"],[\"0.000\"],[\"0.081\"],[\"0.161\"],[\"0.242\"],[\"0.322\"],[\"0.403\"],[\"0.483\"],[\"0.564\"],[\"0.645\"],[\"0.725\"],[\"0.806\"],[\"0.886\"],[\"0.967\"],[\"1.048\"],[\"1.128\"],[\"1.209\"],[\"1.289\"],[\"1.370\"],[\"1.450\"],[\"1.531\"],[\"1.612\"],[\"1.692\"],[\"-1.692\"],[\"-1.612\"],[\"-1.531\"],[\"-1.450\"],[\"-1.370\"],[\"-1.289\"],[\"-1.209\"],[\"-1.128\"],[\"-1.048\"],[\"-0.967\"],[\"-0.886\"],[\"-0.806\"],[\"-0.725\"],[\"-0.645\"],[\"-0.564\"],[\"-0.483\"],[\"-0.403\"],[\"-0.322\"],[\"-0.242\"],[\"-0.161\"],[\"-0.081\"],[\"0.000\"],[\"0.081\"],[\"0.161\"],[\"0.242\"],[\"0.322\"],[\"0.403\"],[\"0.483\"],[\"0.564\"],[\"0.645\"],[\"0.725\"],[\"0.806\"],[\"0.886\"],[\"0.967\"],[\"1.048\"],[\"1.128\"],[\"1.209\"],[\"1.289\"],[\"1.370\"],[\"1.450\"],[\"1.531\"],[\"1.612\"],[\"1.692\"],[\"-1.692\"],[\"-1.612\"],[\"-1.531\"],[\"-1.450\"],[\"-1.370\"],[\"-1.289\"],[\"-1.209\"],[\"-1.128\"],[\"-1.048\"],[\"-0.967\"],[\"-0.886\"],[\"-0.806\"],[\"-0.725\"],[\"-0.645\"],[\"-0.564\"],[\"-0.483\"],[\"-0.403\"],[\"-0.322\"],[\"-0.242\"],[\"-0.161\"],[\"-0.081\"],[\"0.000\"],[\"0.081\"],[\"0.161\"],[\"0.242\"],[\"0.322\"],[\"0.403\"],[\"0.483\"],[\"0.564\"],[\"0.645\"],[\"0.725\"],[\"0.806\"],[\"0.886\"],[\"0.967\"],[\"1.048\"],[\"1.128\"],[\"1.209\"],[\"1.289\"],[\"1.370\"],[\"1.450\"],[\"1.531\"],[\"1.612\"],[\"1.692\"],[\"-1.692\"],[\"-1.612\"],[\"-1.531\"],[\"-1.450\"],[\"-1.370\"],[\"-1.289\"],[\"-1.209\"],[\"-1.128\"],[\"-1.048\"],[\"-0.967\"],[\"-0.886\"],[\"-0.806\"],[\"-0.725\"],[\"-0.645\"],[\"-0.564\"],[\"-0.483\"],[\"-0.403\"],[\"-0.322\"],[\"-0.242\"],[\"-0.161\"],[\"-0.081\"],[\"0.000\"],[\"0.081\"],[\"0.161\"],[\"0.242\"],[\"0.322\"],[\"0.403\"],[\"0.483\"],[\"0.564\"],[\"0.645\"],[\"0.725\"],[\"0.806\"],[\"0.886\"],[\"0.967\"],[\"1.048\"],[\"1.128\"],[\"1.209\"],[\"1.289\"],[\"1.370\"],[\"1.450\"],[\"1.531\"],[\"1.612\"],[\"1.692\"],[\"-1.692\"],[\"-1.612\"],[\"-1.531\"],[\"-1.450\"],[\"-1.370\"],[\"-1.289\"],[\"-1.209\"],[\"-1.128\"],[\"-1.048\"],[\"-0.967\"],[\"-0.886\"],[\"-0.806\"],[\"-0.725\"],[\"-0.645\"],[\"-0.564\"],[\"-0.483\"],[\"-0.403\"],[\"-0.322\"],[\"-0.242\"],[\"-0.161\"],[\"-0.081\"],[\"0.000\"],[\"0.081\"],[\"0.161\"],[\"0.242\"],[\"0.322\"],[\"0.403\"],[\"0.483\"],[\"0.564\"],[\"0.645\"],[\"0.725\"],[\"0.806\"],[\"0.886\"],[\"0.967\"],[\"1.048\"],[\"1.128\"],[\"1.209\"],[\"1.289\"],[\"1.370\"],[\"1.450\"],[\"1.531\"],[\"1.612\"],[\"1.692\"],[\"-1.692\"],[\"-1.612\"],[\"-1.531\"],[\"-1.450\"],[\"-1.370\"],[\"-1.289\"],[\"-1.209\"],[\"-1.128\"],[\"-1.048\"],[\"-0.967\"],[\"-0.886\"]],\"hovertemplate\":\"Principal Component 1=%{x}<br>Principal Component 2=%{y}<br>Country=%{customdata[0]}<br>Cluster Number=%{marker.color}<extra></extra>\",\"legendgroup\":\"\",\"marker\":{\"color\":[0,3,0,0,4,2,3,4,0,0,3,4,0,4,0,4,3,3,4,4,4,4,4,3,4,4,4,4,4,4,4,0,0,3,5,3,2,2,3,2,3,6,2,0,3,0,5,4,2,0,0,0,0,3,4,0,4,0,4,3,3,4,4,4,4,4,3,4,4,4,4,4,4,4,0,0,3,1,3,6,2,3,2,3,6,6,0,3,0,0,4,2,0,0,0,0,3,4,0,4,0,4,3,3,4,4,4,0,4,5,4,4,4,4,4,4,4,3,0,3,1,3,6,2,0,2,3,6,6,0,3,0,5,4,2,0,0,0,0,3,4,0,4,0,4,3,3,4,4,4,0,4,5,4,4,4,4,4,4,4,0,0,3,1,3,6,2,0,2,3,6,6,0,3,0,5,4,2,0,0,0,0,3,4,0,4,0,4,3,3,4,4,4,0,4,5,4,4,4,4,4,4,4,0,0,3,1,3,6,2,0,2,3,6,6,0,3,0,5,4,2,0,0,0,0,3,4,0,4,0,4,3,3,4,4,4,0,4,5,4,4,4,0,4,4,4,0,0,3,1,5,6,2,0,2,3,6,6,0,3,0,5,4,2,0,0,0,0,3,4,0,4,0,4,3,3,4,4,4,3,4,5,4,4,4,4,4,4,4,0,0,0,1,5,6,2,0,2,3,6,6,0,3,0,5,4,2,0,0,0,0,3,4,0,4,0,4,3,3,4,4,4,3,4,5,4,4,4,4,4,4,4,0,0,0,1,5,6,2,0,2,3,6,6,0,3,0,5,4,2,0,0,2,0,3,4,0,4,0,4,3,3,4,4,4,3,4,5,4,4,4,4,3,4,4,0,0,0,1,5,6,2,0,2,3,6,6,0,3,0,5,4,2,0,0,0,0,3,4,0,4,0,4,3,3,4,4,4,0,4,5,4,4,4,3,4,4,4,0,0,0,1,5,6,2,0,2,3,6,6,0,3,0,5,4,2,0,0,0,0,3,4,0,4,0,4,3,3,4,4,4,0,4,5,4,4,4,3,3,4,4,0,0,0,1,5,6,2,0,2,5,6,6,0,3,0,5,4,2,0,0,0,0,3,4,0,4,0,4,3,3,4,4,4,0,4,5,4,4,4,3,3,4,4,0,0,0,1,5,6,2,0,2,5,6,6],\"coloraxis\":\"coloraxis\",\"symbol\":\"circle\"},\"mode\":\"markers\",\"name\":\"\",\"orientation\":\"v\",\"showlegend\":false,\"x\":[-0.007692617028563264,-0.587992479576772,0.4835233173127545,0.37914613951845055,-0.7492023721628248,0.2507722621405053,0.06606534887620341,-0.6891150718825501,-0.45550660276439114,-0.3832268054962345,-0.6118308419936761,-0.8347886319964914,-0.3189563687892951,-0.7283829841641608,-0.504765043085577,-0.9350355304263622,-0.829978445092531,-0.7257085438982008,-1.1524517362855948,-0.9976282710096966,-0.9412403854468353,-0.7222989046623266,-0.8706296892055406,0.15109045065676688,-1.2928542090220656,-1.0470655512754532,-1.5333984375935266,-0.701688455329878,-1.159772304504962,-1.4307556865702407,-0.769748885617859,-0.42664767457940805,0.15445107282748186,-0.2828781193959903,3.2156513933334554,0.1321641938649586,1.5047408505727637,0.5821793413177853,-0.17712888508688052,0.5216811976925575,0.1945706970511903,2.755141401941436,1.3197549911580784,-0.19201472536370331,-0.537371378761098,0.3971348540519937,0.799218460866057,-0.771703114896728,0.1263185178002042,0.1282799746497834,-0.5229600731162105,-0.4159245036814233,-0.25289860933409514,-0.638165169886574,-0.833853951026644,-0.36265130120359945,-0.8523715195839818,-0.567784925293003,-0.8836421662675178,-0.766360608729537,-0.7019778009172033,-1.052453412806418,-1.008009498569825,-0.9825355316152323,-0.5254356933370578,-0.9703071698598869,0.03656114579758993,-1.2583567767555393,-1.0995961946763373,-1.4318132663412748,-0.7259874355216858,-1.117950860246347,-1.4016741505982078,-0.851786341515876,-0.17171269095907946,0.23510216081006985,-0.24254447951109662,4.803267818466001,0.0653995327052745,1.969445369438166,0.6020997461352274,-0.08997855687837039,0.9188473882921383,-0.13429199164004268,2.4448032132756126,1.9609586867923616,-0.24086339539695129,-0.5356592574194537,0.3179208594013458,0.536188210430264,-0.8011579323417087,0.020273283426254476,0.023033662726933773,-0.5300343054784658,-0.4068570280407691,-0.2731275114155774,-0.5175052024505663,-0.8050124948851834,-0.3120534183974568,-0.7914981313586125,-0.6051677410167793,-0.9137013645583069,-0.6911925463723598,-0.5112301952430822,-0.9974235682419256,-0.9865374512136538,-0.9839513249488533,-0.483926745382439,-1.1285268009236065,0.7332408993777612,-1.1699720761968657,-1.1812468725625507,-1.3729964770727994,-0.7014645978314344,-0.7833392493839004,-1.394494586148052,-0.7846172083935106,-0.37294188339281187,0.38071835969868395,-0.31773186133698905,5.670456918733059,0.10352518024020115,2.012570558162671,0.7654247869275224,0.3266666702044126,0.9682873678180152,-0.20313061563395293,2.5454795627645908,1.8692716161413656,-0.2530553084462995,-0.5233729454957818,0.3199581026143136,0.8070161838065811,-0.8023612219552475,0.023673671442376174,0.034148298501293674,-0.5282658760629478,-0.4116130233955918,-0.27923309856445305,-0.47558979343403046,-0.7919017371820294,-0.27222622018696235,-0.804839154575716,-0.6119377363246356,-0.9027408557135059,-0.7352832604121173,-0.44418733037346836,-1.0070395472202902,-0.9827506011111524,-0.9341682621367531,-0.4452036955500104,-1.1377954227176392,0.6024834319345718,-1.1507111759184483,-1.1616592098785636,-1.3726589933000375,-0.5455288849844755,-0.7973194393825047,-1.3768813477905368,-0.6694075857942591,-0.1655676010933601,0.359068972221106,-0.32004247372945605,6.208729032317673,0.2924557557975206,1.9816479265753222,0.8318318895321628,0.38753982815257526,0.9225947406957128,-0.2180922759682336,2.647200042234573,1.9973747812713192,-0.31421160357935335,-0.5477057220882731,0.32422223279286255,0.7610686877367492,-0.8024806982775189,0.032262397183326436,0.014064624644630885,-0.5139748404774586,-0.40797751876161464,-0.25898752806232006,-0.4703194934204839,-0.7940736884086325,-0.256306614280719,-0.6938371473998901,-0.611480006323178,-0.9188598185390688,-0.7208778036869389,-0.45432621932716266,-0.9949534995498563,-0.9837672841330256,-0.942662053353213,-0.42759230680668314,-1.2122782334188165,0.5351900728065441,-1.138290046499749,-1.1582984218015024,-1.3000488865520405,-0.5437667518897755,-0.7765449712786152,-1.366672476700854,-0.6629972589296802,-0.2650136451789556,0.29820050089427236,-0.32006748871627033,6.647723484631948,0.31772720914772207,2.0602043385227597,0.7887916795828398,0.3679818550418488,0.9466165981592355,-0.23528872201615753,2.645704302587078,2.0057354762939976,-0.30085404767098034,-0.5508253603071609,0.3569087352045294,0.969982427647647,-0.8043583035394878,0.02564864856683241,0.07153279888636617,-0.5230139752413381,-0.4081213642627865,-0.26278226379371,-0.46607147002463556,-0.8022133111027877,-0.24702897654189424,-0.7098771048813652,-0.6105608434811826,-0.9078349686079452,-0.6522233783774075,-0.5083534770198361,-0.9913596579498392,-0.9800851171647468,-0.9502496914414647,-0.4354206438256044,-1.2284350245511337,0.7989621670977971,-1.1129697093875008,-1.157844162361467,-1.2999083496058133,-0.5169139381916573,-0.7497119220975955,-1.3478887693081207,-0.6184631488692913,-0.23364647874681543,0.32317898249582,-0.3235516276759638,7.005237110711696,0.6446988479798547,2.2752575300501268,0.7770902594692727,0.3143953984788502,1.0016847617513944,-0.20354358783168428,2.3790416505292478,2.0996268177094404,-0.2789457413972999,-0.5370604519454625,0.4052522456389519,1.4854716405263393,-0.7995795049022024,0.023892649927595648,0.07769887664917463,-0.5257456029860625,-0.4084341916716944,-0.2879259872722834,-0.421552127785346,-0.7956099199448381,-0.30693606314076877,-0.6999713933422957,-0.6168826850933713,-0.9015681168326537,-0.6271511720654867,-0.5347132626899588,-1.011548024912371,-0.9654048646493232,-0.9341885392169821,-0.4187355817336498,-1.2160878576134895,0.9889077127624747,-1.0796143013949753,-1.1422578423207013,-1.2960843978769971,-0.5595328242257894,-0.6855494268348318,-1.3261772920842871,-0.5910331600797754,-0.22919289701774734,0.3576825537951039,-0.12411572404735291,7.458593083480699,0.8558744359372267,2.3746429791938626,0.8133985724296742,0.34537431012412706,0.9794337283734739,0.026854343838147266,2.338744305469457,2.3551431752580774,-0.23774676255604207,-0.5281380002323056,0.5569083151105734,1.3273169146255275,-0.7979564715282564,0.021306045384004713,0.1854040803929686,-0.5286601151840613,-0.3005393858156645,-0.2670905851620725,-0.42139454838103646,-0.7881349712763449,-0.29843934370860714,-0.6988935851903374,-0.6188611243595005,-0.8918935768537006,-0.5575326074115945,-0.5421444761223357,-1.021826498830051,-0.8757070979958415,-0.9262405724981977,-0.37601454154167663,-1.1909069145954863,1.2068900169818637,-1.072729515948612,-1.1273827906816867,-1.295711515079681,-0.4896572112193394,-0.6004872142685136,-1.3019932900520117,-0.6730544697140323,-0.27260119813793576,0.27762518456157004,-0.11134018088329513,7.42558250282926,0.7340934085357637,2.259335054666974,0.8025779119217218,0.2730678641552727,0.9378846637130445,0.23322427422847164,2.2627195949827428,2.2651970750646226,-0.24621242662602683,-0.5170436877077913,0.6580760857569387,1.4019238447509952,-0.7968545076483206,0.01769123650855694,0.26227155737819974,-0.536404239002527,-0.23720276782221852,-0.2446114081707634,-0.39014402662361825,-0.7681859741786081,-0.3438802021904255,-0.7013248588650738,-0.6251343538495784,-0.886595497982687,-0.5575332483988021,-0.491782128008638,-1.018623033351707,-0.8710881820275992,-0.9826333242086619,-0.2702087748183064,-1.1678706038708075,1.711438142942086,-1.0159276585898238,-1.1437811126170785,-1.2937059990942799,-0.4235259461307586,-0.46625939337817573,-1.2660954727592795,-0.5801726755969003,-0.2983815991292106,0.3617004296234163,-0.11161244884777183,8.195748037712072,0.8593025091894555,2.3784836660095037,0.8016490154620443,0.2506524093325972,0.9957002735899217,0.3165424895068269,2.319037521794377,2.372984788158902,-0.24403295371306666,-0.5011318074706802,0.6604430361177017,1.5736708962544377,-0.8077955399608662,0.020349776551947484,0.26852357437854957,-0.46375995792964064,-0.27654067526616444,-0.2372448660671398,-0.42366398161714375,-0.7628986420486301,-0.3730653369100318,-0.684628928997567,-0.6313609075988555,-0.8813164203699891,-0.5362795724014681,-0.4398107905208841,-1.0137658921650392,-0.8666855049315546,-0.9638600213704254,-0.026552605653419527,-1.1749393144478562,1.680415479060789,-0.9935139808671011,-1.126485577314447,-1.2907819472532291,-0.3509114013435123,-0.5375039227465712,-1.2305963674566383,-0.5460667284606429,-0.2006263663387506,0.3745514894636184,-0.1155885475223293,8.22834431893937,1.142206193302949,2.514312630437054,1.012849539293941,0.33468786715751714,1.0393696392449756,0.285079201494637,2.2917012423679406,2.5839149272804245,-0.603155903655783,-0.531198101970555,0.6514448201232134,1.516207339755903,-0.8042173878242386,0.020807062960937792,0.25261407127705104,-0.46354469852121605,-0.27404007401018254,-0.24312591443891857,-0.43744346467671,-0.7643873163214099,-0.3273175905842421,-0.6931988172936729,-0.6371131386259345,-0.875177769234346,-0.5009466759585716,-0.43322917353637813,-1.0134905590898209,-0.8694372142119321,-0.9362419229186637,-0.028207008359989967,-1.1734001206465003,1.6243942250953363,-0.9605213235403331,-1.1195080256153027,-1.2902364670485378,-0.3404654903626386,-0.4212380881912453,-1.161751038638085,-0.6137290967463549,-0.3016633789716237,0.43451581621393265,-0.2580841973675986,8.100050753522682,1.1227968552016019,2.632049007974324,1.0106282716745076,0.41795487453031277,1.0513663935040185,0.38973496178238254,2.2354957132935733,2.716617274463172,-0.602256756031027,-0.5393933293598667,0.6408461543060164,1.6028464435380643,-0.7991349394296036,0.01881276262358314,0.2556958255246752,-0.45523378320259955,-0.2810050209564347,-0.2429834671716199,-0.46396014513873646,-0.7679547919155176,-0.29477137006646775,-0.7009194175246182,-0.6363719027150709,-0.8843913470358707,-0.5395189112461649,-0.406769317052386,-1.0122068084932827,-0.8626984223275069,-0.9449798615507573,-0.009324619018367945,-1.15371386063835,1.8411239812805533,-0.9472723428100902,-1.135394214095414,-1.2863602591222216,-0.3628643200812754,-0.4334712159569142,-1.11404080212437,-0.5689587266126273,-0.3850396912447661,0.42128605950269254,-0.24663796752391814,8.193483308041555,1.1369624002268401,2.578413323062321,1.0942800679477098,0.6814684535216965,1.0420126824237967,0.42874504181276896,2.207933359762147,2.825433615577927],\"xaxis\":\"x\",\"y\":[-0.26943735129682456,0.6128617709513446,-0.28678936791100806,-0.1842973990177462,0.6453735281028659,-2.1833888168433124,0.6431638544893543,0.16209515496934895,-0.778879327301917,0.1713281994703368,0.7226675419502668,0.47862946796063205,-0.2988719133994495,0.18549272407294648,-0.9153423663743617,0.6685829361996263,1.1503974514019824,1.0459384089281896,0.5935216567185531,0.09364707165326079,0.4017791898589695,0.39910801021433506,0.4030979562522765,0.9158409646476144,0.7375857724830183,0.15415770834125544,1.000977849409355,0.25849353761227917,0.14275499738107306,0.7146470596580993,-0.06480643422735807,-0.056138688152965036,-0.20302278443652536,0.40203650197304913,2.3955118680052894,0.4760808972195705,-1.7218430014564212,-2.0359814729233214,0.5990853454569903,-1.4627341149397035,0.8580022702416158,-2.745484692953675,-1.3248863024146584,-0.2539380500876706,0.6447832266793735,-0.2629867642647813,-0.18994346277107949,0.6387239045076352,-1.9298153047999436,0.09785130132247219,-0.3025587056573163,-0.9163315823987029,-0.20962460434132113,0.7462934294168565,0.5119191654329901,-0.2468658081834379,0.40592451049182393,-0.7831427061577533,0.49905334710602345,1.2085582933791899,0.8069693778823623,0.36633785828961507,0.19033768431524295,0.42718500696511924,0.28826738949621505,0.4422259954700334,0.6522214712663966,0.7888199298136261,0.25337435476706416,0.7468859120468403,0.20954182060409351,0.38817507602053763,0.7569933417965145,0.20007735480933594,-0.15887010293243137,-0.020432645161171343,0.4248326204052748,3.449666905298288,0.4468347870517914,-3.439054477365432,-1.8495783269890838,0.6368014999586903,-2.6696888380864574,0.7843897312403466,-2.9106501185657416,-1.4778879438101242,-0.34769711363208494,0.6507522784027614,-0.42040730814409866,-0.3326501604165242,0.6243618461602346,-1.7048342034561337,0.298684902297663,-0.28477092613944893,-0.8920656043010687,-0.18369151157437394,0.9612243431751428,0.5438810438645008,-0.11765890365116122,0.2494939414096274,-0.6958662469179815,0.544024501968556,1.3425911200895155,1.7275523221301463,0.18481554245391096,0.2007970572339797,0.4465246702363958,0.15001992671070669,0.39310732109103197,0.3724239609310123,0.851844563227606,0.5850949117168274,0.5594000971785014,0.2971727753947227,0.18200139759031436,0.7610406795957854,0.5409866832519037,0.3008903592893053,-0.3814215320136828,0.4060413706401453,3.6396245197958987,0.4675592770474962,-3.786313390358951,-2.2844109876791023,-0.05231612756669332,-2.642552703824084,0.7583985724890107,-2.862906651656632,-1.530266853992737,-0.3787094852606911,0.6452269278557888,-0.4166219276536978,-0.18043416904167658,0.6245425774349493,-1.703409589200933,0.3142573595579447,-0.28545986416052427,-0.901714435061189,-0.18055359200753435,0.8857954347529173,0.5538345589759421,-0.10074034845123853,0.30793631213760214,-0.6775828628333768,0.5436501791311351,1.3578037669727643,1.8987484682813986,0.20871296746658197,0.18950634548672193,0.4686850841805261,0.10059487070202952,0.39403029285879354,0.2944367743842186,0.8545135449975145,0.5820002916018248,0.5595611541277165,0.1868152292343773,0.12064222350502536,0.7644149238324663,0.3534230397893854,0.12435921944401786,-0.39057824252366774,0.4023237104815927,3.872883597088211,0.5542493797872267,-3.6467402795242463,-2.4964700935004234,-0.02464147787285234,-2.5579123568232665,0.7591559976653303,-2.813265985099306,-1.4768481077047924,-0.35029351614875676,0.6400410147386572,-0.4422845595896001,-0.19942384162354843,0.6244631815081777,-1.6997907831285537,0.2727385776565661,-0.2987770471752918,-0.8989201294483739,-0.1594733182871854,0.8681267376319594,0.5518241406141485,-0.09320821593506409,0.07643515959827668,-0.6886437394163862,0.5373493742785281,1.379226504724164,2.3223076770352864,0.2059133342306118,0.19050356130322987,0.47987051308196393,0.1294520643657742,0.6314491852598418,0.2513350240629235,0.8723678651776643,0.5883101783367357,0.35314470553206956,0.22669323432101557,0.12505329413614688,0.7719122322714664,0.10842745354908044,-0.04628298437372149,-0.41244226583550225,0.4030934582722397,4.144684405467477,0.571590454271258,-3.6088186451129785,-2.4366841991489836,-0.038716859460675476,-2.546050880639674,0.7505970889507052,-2.8151925221230956,-1.8101138005551864,-0.354023523127152,0.643475521707043,-0.413191594431049,-0.10537656696760234,0.6222260681472515,-1.7025793380414422,0.2934680874944708,-0.28420465984475995,-0.8684887031813423,-0.19649087459917947,0.8450742606369037,0.5497906742970248,-0.11396002866322952,0.08695691074638676,-0.6654610096421225,0.5578911708531384,1.4095481761799549,1.920381017313785,0.20742746051857794,0.20213653861218622,0.47644234061327617,0.10406009353362031,0.6194556495024929,0.37976590146851763,0.8875218281048448,0.5849467655249291,0.35321350781134525,0.03979430113956838,0.3656917854073793,0.7812477106220638,0.1023251314024506,-0.018783234531550695,-0.40402238031190807,0.40349487824094166,4.371089486822745,0.7316056007105187,-3.4885178513634454,-2.4395109941031827,-0.055784737086971715,-2.5238793878755597,0.7574141822732113,-2.9379692510946596,-1.766932817086753,-0.34520460986033646,0.6413366580473631,-0.39608176940823525,-0.06834774214577923,0.6271528232829489,-1.703320708861912,0.293625917157682,-0.2857988806803198,-0.9003706369833289,-0.14752655448732407,0.8394057276117446,0.5486046778060978,-0.1385905944844726,0.09045109715166028,-0.6705256561464831,0.55371679668504,1.3884884212952808,2.13539347386594,0.2304664404409634,0.2083119863316472,0.49332019192016513,0.3327993899205211,0.6252176345392068,0.47129620795427596,0.9114423800549227,0.5893162354136824,0.34836214915776254,0.23339205525447093,0.3716577213407287,0.8213815828178507,0.13745234810658818,0.017593508749965223,-0.3894621255379173,-0.05832684918868703,4.595411853697289,0.8211090147084223,-3.4527387096218494,-2.4234895507511833,-0.04388245513546452,-2.5322370928143876,0.45527631910044913,-2.957251306945153,-1.6396951198636838,-0.3282654009832128,0.6468600707473385,-0.35077225978720467,-0.6465983944159778,0.6266056720937078,-1.7044260025214326,0.13867003762014518,-0.2870363956366023,-1.2570404272602975,-0.1613245441637962,0.8060842405855316,0.5494680453461794,-0.13564374352341801,0.09475723397892528,-0.6586926026852518,0.5586946190173621,1.4549781139982398,1.9627060040221285,0.24585694917774953,-0.007020436170129333,0.5323927856662316,0.34446407004082447,0.6354714027888495,0.5652218595341875,0.9012170793996366,0.5991114548712932,0.3456879039612623,0.2773869751041313,0.41159675530639367,0.8400521069192682,0.06531802205631296,-0.06704780943502016,-0.35652864756692965,-0.04587853548862583,4.654426299471108,0.7749074651507416,-3.5128220509578054,-2.4256438104076636,-0.07857890057634292,-2.544387341480724,0.5144277286808918,-3.183346702453948,-1.6587712389739646,-0.3228713353910759,0.6522372241142355,-0.3145433555424937,-0.57171570345487,0.6314299000960061,-1.7059006856059653,0.18251550273853112,-0.29028852719425274,-1.424312590233836,-0.17852141758207205,0.8171767650423616,0.5566849732572253,-0.15426162724137388,0.08704517274963253,-0.6519493988386388,0.551562192599645,1.4406955669297041,1.924543247612981,0.2457766303386829,0.005704790960178546,0.560679024630613,0.387841383028072,0.651342070066002,1.1106287414646159,0.9271085591435007,0.6021124399651093,0.34796482476456475,0.2891258368864545,0.45324469051536964,0.8533597557344348,0.11213697837952093,-0.024547385526951678,-0.31765977604909984,-0.05048605588487782,5.079482687968426,0.8214721995658294,-3.4403397380568816,-2.425807712009772,-0.08586715760576585,-2.753640402493533,0.5671486413451906,-3.156030406533974,-1.6136629839629708,-0.3214994768386642,0.6610677863254306,-0.2982850860953388,-0.44462879051454973,0.6286810759798768,-1.7047983935089763,0.1903747056877192,-0.49775759790731744,-1.2415812234149575,-0.1424773387774595,0.8358719565079746,0.5584920866557006,-0.18897892108313877,0.09690408947446252,-0.6355433536645718,0.5659076769817295,1.3802323763356579,1.5268323355203048,0.24137198406981883,0.0075462866899562815,0.5834848962664976,0.2727087899204001,0.6502098093666135,1.1142295739888985,0.9436336723649029,0.6175782453129093,0.3398817888552401,0.3257202934131931,0.417768614645521,0.8747518953268708,0.29906413611969446,-0.05167442070302472,-0.317222660855712,-0.03939808706340356,5.146893672618001,0.9568129081097657,-3.3626053079530047,-3.0160827882955767,-0.0514058781126848,-2.736892143155521,0.583545591812891,-3.1654871309511554,-1.5200763530167212,-0.2722938769281635,0.6548093991248534,-0.3129258904059417,-0.38767252812951913,0.6325132842940205,-1.7046159471510205,0.1825535851026966,-0.49694682205594737,-1.2374207444423655,-0.12138198148601005,0.8173989517803978,0.5703688478927218,-0.1701194495416293,0.09505636404063986,-0.6461016400594832,0.5598740573166399,1.4067906429635955,1.032250435847531,0.2414852143683241,0.006390646542133527,0.5723126961170776,0.2461944338941451,0.6444784771533165,1.0667491323176446,0.9602923538962892,0.6067624385119591,0.3401376819517867,0.3088016884260652,0.48626547590240915,0.9050351619830967,0.2680340596886555,-0.018102689106393764,-0.2224604434664759,-0.022081468776731852,5.053154821160688,0.94430553465199,-3.303709616269873,-3.0200359963514383,-0.015202711930938218,-2.724411779030376,0.6159705656213789,-3.1864158497374935,-1.440593543336989,-0.2652493769110342,0.6392750138695271,-0.2971914925081514,-0.31490581977391763,0.639104380371063,-1.7047508477503417,0.19007448543841335,-0.4948689314213991,-1.2482025717501326,-0.2003179470305163,0.7893847222083087,0.5615146363821342,-0.15384844873398446,0.09033804198531643,-0.6352642844388199,0.5560382253738274,1.3370958265373403,0.9818993604454189,0.23557182646596345,0.00923073843182552,0.5589179163529352,0.25855065558678275,0.6641644806422546,1.1377609475112114,0.9635537491479503,0.618019346152536,0.33458849570168636,0.3042636538406105,0.47026423542828355,0.9320068784210989,0.28999708970632576,-0.22683012997512347,-0.23897275540514154,-0.02329862207940262,5.257985681246013,0.9525720589423775,-3.335459189087945,-2.9750953192177585,-0.5371404431370375,-2.720059629270019,0.6231066493660316,-3.3906457766825056,-1.3667191218024395],\"yaxis\":\"y\",\"type\":\"scatter\"}],                        {\"template\":{\"data\":{\"histogram2dcontour\":[{\"type\":\"histogram2dcontour\",\"colorbar\":{\"outlinewidth\":0,\"ticks\":\"\"},\"colorscale\":[[0.0,\"#0d0887\"],[0.1111111111111111,\"#46039f\"],[0.2222222222222222,\"#7201a8\"],[0.3333333333333333,\"#9c179e\"],[0.4444444444444444,\"#bd3786\"],[0.5555555555555556,\"#d8576b\"],[0.6666666666666666,\"#ed7953\"],[0.7777777777777778,\"#fb9f3a\"],[0.8888888888888888,\"#fdca26\"],[1.0,\"#f0f921\"]]}],\"choropleth\":[{\"type\":\"choropleth\",\"colorbar\":{\"outlinewidth\":0,\"ticks\":\"\"}}],\"histogram2d\":[{\"type\":\"histogram2d\",\"colorbar\":{\"outlinewidth\":0,\"ticks\":\"\"},\"colorscale\":[[0.0,\"#0d0887\"],[0.1111111111111111,\"#46039f\"],[0.2222222222222222,\"#7201a8\"],[0.3333333333333333,\"#9c179e\"],[0.4444444444444444,\"#bd3786\"],[0.5555555555555556,\"#d8576b\"],[0.6666666666666666,\"#ed7953\"],[0.7777777777777778,\"#fb9f3a\"],[0.8888888888888888,\"#fdca26\"],[1.0,\"#f0f921\"]]}],\"heatmap\":[{\"type\":\"heatmap\",\"colorbar\":{\"outlinewidth\":0,\"ticks\":\"\"},\"colorscale\":[[0.0,\"#0d0887\"],[0.1111111111111111,\"#46039f\"],[0.2222222222222222,\"#7201a8\"],[0.3333333333333333,\"#9c179e\"],[0.4444444444444444,\"#bd3786\"],[0.5555555555555556,\"#d8576b\"],[0.6666666666666666,\"#ed7953\"],[0.7777777777777778,\"#fb9f3a\"],[0.8888888888888888,\"#fdca26\"],[1.0,\"#f0f921\"]]}],\"heatmapgl\":[{\"type\":\"heatmapgl\",\"colorbar\":{\"outlinewidth\":0,\"ticks\":\"\"},\"colorscale\":[[0.0,\"#0d0887\"],[0.1111111111111111,\"#46039f\"],[0.2222222222222222,\"#7201a8\"],[0.3333333333333333,\"#9c179e\"],[0.4444444444444444,\"#bd3786\"],[0.5555555555555556,\"#d8576b\"],[0.6666666666666666,\"#ed7953\"],[0.7777777777777778,\"#fb9f3a\"],[0.8888888888888888,\"#fdca26\"],[1.0,\"#f0f921\"]]}],\"contourcarpet\":[{\"type\":\"contourcarpet\",\"colorbar\":{\"outlinewidth\":0,\"ticks\":\"\"}}],\"contour\":[{\"type\":\"contour\",\"colorbar\":{\"outlinewidth\":0,\"ticks\":\"\"},\"colorscale\":[[0.0,\"#0d0887\"],[0.1111111111111111,\"#46039f\"],[0.2222222222222222,\"#7201a8\"],[0.3333333333333333,\"#9c179e\"],[0.4444444444444444,\"#bd3786\"],[0.5555555555555556,\"#d8576b\"],[0.6666666666666666,\"#ed7953\"],[0.7777777777777778,\"#fb9f3a\"],[0.8888888888888888,\"#fdca26\"],[1.0,\"#f0f921\"]]}],\"surface\":[{\"type\":\"surface\",\"colorbar\":{\"outlinewidth\":0,\"ticks\":\"\"},\"colorscale\":[[0.0,\"#0d0887\"],[0.1111111111111111,\"#46039f\"],[0.2222222222222222,\"#7201a8\"],[0.3333333333333333,\"#9c179e\"],[0.4444444444444444,\"#bd3786\"],[0.5555555555555556,\"#d8576b\"],[0.6666666666666666,\"#ed7953\"],[0.7777777777777778,\"#fb9f3a\"],[0.8888888888888888,\"#fdca26\"],[1.0,\"#f0f921\"]]}],\"mesh3d\":[{\"type\":\"mesh3d\",\"colorbar\":{\"outlinewidth\":0,\"ticks\":\"\"}}],\"scatter\":[{\"fillpattern\":{\"fillmode\":\"overlay\",\"size\":10,\"solidity\":0.2},\"type\":\"scatter\"}],\"parcoords\":[{\"type\":\"parcoords\",\"line\":{\"colorbar\":{\"outlinewidth\":0,\"ticks\":\"\"}}}],\"scatterpolargl\":[{\"type\":\"scatterpolargl\",\"marker\":{\"colorbar\":{\"outlinewidth\":0,\"ticks\":\"\"}}}],\"bar\":[{\"error_x\":{\"color\":\"#2a3f5f\"},\"error_y\":{\"color\":\"#2a3f5f\"},\"marker\":{\"line\":{\"color\":\"#E5ECF6\",\"width\":0.5},\"pattern\":{\"fillmode\":\"overlay\",\"size\":10,\"solidity\":0.2}},\"type\":\"bar\"}],\"scattergeo\":[{\"type\":\"scattergeo\",\"marker\":{\"colorbar\":{\"outlinewidth\":0,\"ticks\":\"\"}}}],\"scatterpolar\":[{\"type\":\"scatterpolar\",\"marker\":{\"colorbar\":{\"outlinewidth\":0,\"ticks\":\"\"}}}],\"histogram\":[{\"marker\":{\"pattern\":{\"fillmode\":\"overlay\",\"size\":10,\"solidity\":0.2}},\"type\":\"histogram\"}],\"scattergl\":[{\"type\":\"scattergl\",\"marker\":{\"colorbar\":{\"outlinewidth\":0,\"ticks\":\"\"}}}],\"scatter3d\":[{\"type\":\"scatter3d\",\"line\":{\"colorbar\":{\"outlinewidth\":0,\"ticks\":\"\"}},\"marker\":{\"colorbar\":{\"outlinewidth\":0,\"ticks\":\"\"}}}],\"scattermapbox\":[{\"type\":\"scattermapbox\",\"marker\":{\"colorbar\":{\"outlinewidth\":0,\"ticks\":\"\"}}}],\"scatterternary\":[{\"type\":\"scatterternary\",\"marker\":{\"colorbar\":{\"outlinewidth\":0,\"ticks\":\"\"}}}],\"scattercarpet\":[{\"type\":\"scattercarpet\",\"marker\":{\"colorbar\":{\"outlinewidth\":0,\"ticks\":\"\"}}}],\"carpet\":[{\"aaxis\":{\"endlinecolor\":\"#2a3f5f\",\"gridcolor\":\"white\",\"linecolor\":\"white\",\"minorgridcolor\":\"white\",\"startlinecolor\":\"#2a3f5f\"},\"baxis\":{\"endlinecolor\":\"#2a3f5f\",\"gridcolor\":\"white\",\"linecolor\":\"white\",\"minorgridcolor\":\"white\",\"startlinecolor\":\"#2a3f5f\"},\"type\":\"carpet\"}],\"table\":[{\"cells\":{\"fill\":{\"color\":\"#EBF0F8\"},\"line\":{\"color\":\"white\"}},\"header\":{\"fill\":{\"color\":\"#C8D4E3\"},\"line\":{\"color\":\"white\"}},\"type\":\"table\"}],\"barpolar\":[{\"marker\":{\"line\":{\"color\":\"#E5ECF6\",\"width\":0.5},\"pattern\":{\"fillmode\":\"overlay\",\"size\":10,\"solidity\":0.2}},\"type\":\"barpolar\"}],\"pie\":[{\"automargin\":true,\"type\":\"pie\"}]},\"layout\":{\"autotypenumbers\":\"strict\",\"colorway\":[\"#636efa\",\"#EF553B\",\"#00cc96\",\"#ab63fa\",\"#FFA15A\",\"#19d3f3\",\"#FF6692\",\"#B6E880\",\"#FF97FF\",\"#FECB52\"],\"font\":{\"color\":\"#2a3f5f\"},\"hovermode\":\"closest\",\"hoverlabel\":{\"align\":\"left\"},\"paper_bgcolor\":\"white\",\"plot_bgcolor\":\"#E5ECF6\",\"polar\":{\"bgcolor\":\"#E5ECF6\",\"angularaxis\":{\"gridcolor\":\"white\",\"linecolor\":\"white\",\"ticks\":\"\"},\"radialaxis\":{\"gridcolor\":\"white\",\"linecolor\":\"white\",\"ticks\":\"\"}},\"ternary\":{\"bgcolor\":\"#E5ECF6\",\"aaxis\":{\"gridcolor\":\"white\",\"linecolor\":\"white\",\"ticks\":\"\"},\"baxis\":{\"gridcolor\":\"white\",\"linecolor\":\"white\",\"ticks\":\"\"},\"caxis\":{\"gridcolor\":\"white\",\"linecolor\":\"white\",\"ticks\":\"\"}},\"coloraxis\":{\"colorbar\":{\"outlinewidth\":0,\"ticks\":\"\"}},\"colorscale\":{\"sequential\":[[0.0,\"#0d0887\"],[0.1111111111111111,\"#46039f\"],[0.2222222222222222,\"#7201a8\"],[0.3333333333333333,\"#9c179e\"],[0.4444444444444444,\"#bd3786\"],[0.5555555555555556,\"#d8576b\"],[0.6666666666666666,\"#ed7953\"],[0.7777777777777778,\"#fb9f3a\"],[0.8888888888888888,\"#fdca26\"],[1.0,\"#f0f921\"]],\"sequentialminus\":[[0.0,\"#0d0887\"],[0.1111111111111111,\"#46039f\"],[0.2222222222222222,\"#7201a8\"],[0.3333333333333333,\"#9c179e\"],[0.4444444444444444,\"#bd3786\"],[0.5555555555555556,\"#d8576b\"],[0.6666666666666666,\"#ed7953\"],[0.7777777777777778,\"#fb9f3a\"],[0.8888888888888888,\"#fdca26\"],[1.0,\"#f0f921\"]],\"diverging\":[[0,\"#8e0152\"],[0.1,\"#c51b7d\"],[0.2,\"#de77ae\"],[0.3,\"#f1b6da\"],[0.4,\"#fde0ef\"],[0.5,\"#f7f7f7\"],[0.6,\"#e6f5d0\"],[0.7,\"#b8e186\"],[0.8,\"#7fbc41\"],[0.9,\"#4d9221\"],[1,\"#276419\"]]},\"xaxis\":{\"gridcolor\":\"white\",\"linecolor\":\"white\",\"ticks\":\"\",\"title\":{\"standoff\":15},\"zerolinecolor\":\"white\",\"automargin\":true,\"zerolinewidth\":2},\"yaxis\":{\"gridcolor\":\"white\",\"linecolor\":\"white\",\"ticks\":\"\",\"title\":{\"standoff\":15},\"zerolinecolor\":\"white\",\"automargin\":true,\"zerolinewidth\":2},\"scene\":{\"xaxis\":{\"backgroundcolor\":\"#E5ECF6\",\"gridcolor\":\"white\",\"linecolor\":\"white\",\"showbackground\":true,\"ticks\":\"\",\"zerolinecolor\":\"white\",\"gridwidth\":2},\"yaxis\":{\"backgroundcolor\":\"#E5ECF6\",\"gridcolor\":\"white\",\"linecolor\":\"white\",\"showbackground\":true,\"ticks\":\"\",\"zerolinecolor\":\"white\",\"gridwidth\":2},\"zaxis\":{\"backgroundcolor\":\"#E5ECF6\",\"gridcolor\":\"white\",\"linecolor\":\"white\",\"showbackground\":true,\"ticks\":\"\",\"zerolinecolor\":\"white\",\"gridwidth\":2}},\"shapedefaults\":{\"line\":{\"color\":\"#2a3f5f\"}},\"annotationdefaults\":{\"arrowcolor\":\"#2a3f5f\",\"arrowhead\":0,\"arrowwidth\":1},\"geo\":{\"bgcolor\":\"white\",\"landcolor\":\"#E5ECF6\",\"subunitcolor\":\"white\",\"showland\":true,\"showlakes\":true,\"lakecolor\":\"white\"},\"title\":{\"x\":0.05},\"mapbox\":{\"style\":\"light\"}}},\"xaxis\":{\"anchor\":\"y\",\"domain\":[0.0,1.0],\"title\":{\"text\":\"Principal Component 1\"}},\"yaxis\":{\"anchor\":\"x\",\"domain\":[0.0,1.0],\"title\":{\"text\":\"Principal Component 2\"}},\"coloraxis\":{\"colorbar\":{\"title\":{\"text\":\"Cluster Number\"}},\"colorscale\":[[0.0,\"#0d0887\"],[0.1111111111111111,\"#46039f\"],[0.2222222222222222,\"#7201a8\"],[0.3333333333333333,\"#9c179e\"],[0.4444444444444444,\"#bd3786\"],[0.5555555555555556,\"#d8576b\"],[0.6666666666666666,\"#ed7953\"],[0.7777777777777778,\"#fb9f3a\"],[0.8888888888888888,\"#fdca26\"],[1.0,\"#f0f921\"]]},\"legend\":{\"tracegroupgap\":0},\"margin\":{\"t\":60},\"title\":{\"text\":\"K-means Clustering in PCA Space with 7 Clusters\"}},                        {\"responsive\": true}                    ).then(function(){\n",
       "                            \n",
       "var gd = document.getElementById('0ba820bd-fc0e-4b64-aa88-2c0ffc9cd0f7');\n",
       "var x = new MutationObserver(function (mutations, observer) {{\n",
       "        var display = window.getComputedStyle(gd).display;\n",
       "        if (!display || display === 'none') {{\n",
       "            console.log([gd, 'removed!']);\n",
       "            Plotly.purge(gd);\n",
       "            observer.disconnect();\n",
       "        }}\n",
       "}});\n",
       "\n",
       "// Listen for the removal of the full notebook cells\n",
       "var notebookContainer = gd.closest('#notebook-container');\n",
       "if (notebookContainer) {{\n",
       "    x.observe(notebookContainer, {childList: true});\n",
       "}}\n",
       "\n",
       "// Listen for the clearing of the current output cell\n",
       "var outputEl = gd.closest('.output');\n",
       "if (outputEl) {{\n",
       "    x.observe(outputEl, {childList: true});\n",
       "}}\n",
       "\n",
       "                        })                };                });            </script>        </div>"
      ]
     },
     "metadata": {},
     "output_type": "display_data"
    }
   ],
   "source": [
    "#| code-fold: true\n",
    "import plotly.express as px\n",
    "from plotly.offline import init_notebook_mode, iplot\n",
    "init_notebook_mode(connected=True)\n",
    "\n",
    "hover_data = data_standardized[['Country']] #This can be a way for readers to see if data in clusters are coming from same country \n",
    "\n",
    "data_standardized['Country'] = data_standardized['Country'].apply(lambda x: f'{x:.3f}')\n",
    "\n",
    "fig = px.scatter(data_standardized, x='PCA1', y='PCA2', color='cluster_number_pca', hover_data=hover_data,\n",
    "                 labels={'cluster_number_pca': 'Cluster Number', 'PCA1': 'Principal Component 1', 'PCA2': 'Principal Component 2'})\n",
    "\n",
    "fig.update_layout(title='K-means Clustering in PCA Space with 7 Clusters', xaxis_title='Principal Component 1', yaxis_title='Principal Component 2')\n",
    "fig.show()\n"
   ]
  },
  {
   "cell_type": "markdown",
   "metadata": {},
   "source": [
    "### Improving K-Means \n",
    "\n",
    "K-Means clustering can be improved through hyperparameter tuning. Specifically I will look at inertia and distortion plots to help improve this clustering algorithm. "
   ]
  },
  {
   "cell_type": "markdown",
   "metadata": {},
   "source": [
    "### Inertia and Distortion Table\n",
    "\n",
    "Inertia and distortion can help us find the number of clusters we want to use. **Inertia** measures how well a dataset was clustered by the k-means algorithm. Inertia is calculated by  measuring the distance between each data point and its centroid, squaring this distance, and summing these squares across one cluster. The k-means algorithm tries to minimize distortion. Distoriton is the sum of the squared distances between each observation vector and its dominating centroid.\n",
    "\n",
    "An ideal k-means algorithm has low inertia and distortion."
   ]
  },
  {
   "cell_type": "code",
   "execution_count": 689,
   "metadata": {},
   "outputs": [
    {
     "data": {
      "text/html": [
       "<div>\n",
       "<style scoped>\n",
       "    .dataframe tbody tr th:only-of-type {\n",
       "        vertical-align: middle;\n",
       "    }\n",
       "\n",
       "    .dataframe tbody tr th {\n",
       "        vertical-align: top;\n",
       "    }\n",
       "\n",
       "    .dataframe thead th {\n",
       "        text-align: right;\n",
       "    }\n",
       "</style>\n",
       "<table border=\"1\" class=\"dataframe\">\n",
       "  <thead>\n",
       "    <tr style=\"text-align: right;\">\n",
       "      <th></th>\n",
       "      <th>Cluster</th>\n",
       "      <th>Distortion</th>\n",
       "      <th>Inertia</th>\n",
       "    </tr>\n",
       "  </thead>\n",
       "  <tbody>\n",
       "    <tr>\n",
       "      <th>0</th>\n",
       "      <td>1</td>\n",
       "      <td>3.278359</td>\n",
       "      <td>7428.818752</td>\n",
       "    </tr>\n",
       "    <tr>\n",
       "      <th>1</th>\n",
       "      <td>2</td>\n",
       "      <td>2.574312</td>\n",
       "      <td>5618.145658</td>\n",
       "    </tr>\n",
       "    <tr>\n",
       "      <th>2</th>\n",
       "      <td>3</td>\n",
       "      <td>2.318994</td>\n",
       "      <td>4019.721700</td>\n",
       "    </tr>\n",
       "    <tr>\n",
       "      <th>3</th>\n",
       "      <td>4</td>\n",
       "      <td>1.911911</td>\n",
       "      <td>2670.665313</td>\n",
       "    </tr>\n",
       "    <tr>\n",
       "      <th>4</th>\n",
       "      <td>5</td>\n",
       "      <td>1.714107</td>\n",
       "      <td>2280.490226</td>\n",
       "    </tr>\n",
       "    <tr>\n",
       "      <th>5</th>\n",
       "      <td>6</td>\n",
       "      <td>1.605240</td>\n",
       "      <td>1858.550157</td>\n",
       "    </tr>\n",
       "    <tr>\n",
       "      <th>6</th>\n",
       "      <td>7</td>\n",
       "      <td>1.482697</td>\n",
       "      <td>1471.965095</td>\n",
       "    </tr>\n",
       "    <tr>\n",
       "      <th>7</th>\n",
       "      <td>8</td>\n",
       "      <td>1.369952</td>\n",
       "      <td>1213.225255</td>\n",
       "    </tr>\n",
       "    <tr>\n",
       "      <th>8</th>\n",
       "      <td>9</td>\n",
       "      <td>1.264832</td>\n",
       "      <td>1088.755662</td>\n",
       "    </tr>\n",
       "  </tbody>\n",
       "</table>\n",
       "</div>"
      ],
      "text/plain": [
       "   Cluster  Distortion      Inertia\n",
       "0        1    3.278359  7428.818752\n",
       "1        2    2.574312  5618.145658\n",
       "2        3    2.318994  4019.721700\n",
       "3        4    1.911911  2670.665313\n",
       "4        5    1.714107  2280.490226\n",
       "5        6    1.605240  1858.550157\n",
       "6        7    1.482697  1471.965095\n",
       "7        8    1.369952  1213.225255\n",
       "8        9    1.264832  1088.755662"
      ]
     },
     "execution_count": 689,
     "metadata": {},
     "output_type": "execute_result"
    }
   ],
   "source": [
    "#| code-fold: true\n",
    "# This code find the inertia and distorition for the number of clusters ranging 1 -10\n",
    "num_clusters_list = []\n",
    "inertia_list = []\n",
    "distortion_list = []\n",
    "\n",
    "for num_clusters in range(1, 10):\n",
    "    kmeans = KMeans(n_clusters=num_clusters, random_state=0, n_init=10)\n",
    "    kmeans.fit(data_standardized)\n",
    "    inertia = kmeans.inertia_\n",
    "    num_clusters_list.append(num_clusters)\n",
    "    inertia_list.append(inertia)\n",
    "\n",
    "    distortion = sum(np.min(kmeans.transform(data_standardized), axis=1)) / data_standardized.shape[0]\n",
    "    distortion_list.append(distortion)\n",
    "\n",
    "result_df = pd.DataFrame({'Cluster': num_clusters_list,'Distortion': distortion_list, 'Inertia': inertia_list})\n",
    "result_df"
   ]
  },
  {
   "cell_type": "markdown",
   "metadata": {},
   "source": [
    "### Elbow Plots\n",
    "\n",
    "Within this section you will see two plots. The plot on the left shows how the distortion changes when the clusters increase and the plot on the right shows how the inertia changes when clusters increase. Elbow plots help us figure out how many clusters we should be using. "
   ]
  },
  {
   "cell_type": "code",
   "execution_count": 690,
   "metadata": {},
   "outputs": [
    {
     "data": {
      "image/png": "[encoded data removed]",
      "text/plain": [
       "<Figure size 1200x400 with 2 Axes>"
      ]
     },
     "metadata": {},
     "output_type": "display_data"
    }
   ],
   "source": [
    "#| code-fold: true\n",
    "fig, ax = plt.subplots(1, 2, figsize=(12, 4))\n",
    "\n",
    "# Plot for Distortion\n",
    "ax[0].plot(result_df['Cluster'], result_df['Distortion'], marker='o', color='#A9DFBF')\n",
    "ax[0].set_title('Distortion vs. Number of Clusters')\n",
    "ax[0].set_xlabel('Number of Clusters')\n",
    "ax[0].set_ylabel('Distortion')\n",
    "\n",
    "# Plot for Inertia\n",
    "ax[1].plot(result_df['Cluster'], result_df['Inertia'], marker='o', color='skyblue')\n",
    "ax[1].set_title('Inertia vs. Number of Clusters')\n",
    "ax[1].set_xlabel('Number of Clusters')\n",
    "ax[1].set_ylabel('Inertia')\n",
    "plt.tight_layout()"
   ]
  },
  {
   "cell_type": "markdown",
   "metadata": {},
   "source": [
    "As you can see from the plots above the distortion and inertia is very high when the number of clusters are low. In order to find the optimal number of clusters we must look for the elbow. The elbow appears to be at 3 for distortion and 4 for inertia. Knowing this, I will perform k-means again, although this time I will use 3 clusters. "
   ]
  },
  {
   "cell_type": "markdown",
   "metadata": {},
   "source": [
    "### K-Means - 2\n",
    "\n",
    "I am now going to repeat k-means but when three clusters. This is because I have found the optimal number of clusters above using elbow plots. The table below illustrates how k-means has assigned each row with a cluster number under (cluster_number)."
   ]
  },
  {
   "cell_type": "markdown",
   "metadata": {},
   "source": [
    "### Scatter Plot"
   ]
  },
  {
   "cell_type": "code",
   "execution_count": 691,
   "metadata": {},
   "outputs": [
    {
     "data": {
      "text/html": [
       "<div>\n",
       "<style scoped>\n",
       "    .dataframe tbody tr th:only-of-type {\n",
       "        vertical-align: middle;\n",
       "    }\n",
       "\n",
       "    .dataframe tbody tr th {\n",
       "        vertical-align: top;\n",
       "    }\n",
       "\n",
       "    .dataframe thead th {\n",
       "        text-align: right;\n",
       "    }\n",
       "</style>\n",
       "<table border=\"1\" class=\"dataframe\">\n",
       "  <thead>\n",
       "    <tr style=\"text-align: right;\">\n",
       "      <th></th>\n",
       "      <th>Aqua Production (Millions)</th>\n",
       "      <th>Marine Protected Area (sqkm)</th>\n",
       "      <th>Inventions (number)</th>\n",
       "      <th>Instruments (number)</th>\n",
       "      <th>Fishing Exports (Millions)</th>\n",
       "      <th>Value</th>\n",
       "      <th>Country</th>\n",
       "      <th>PCA1</th>\n",
       "      <th>PCA2</th>\n",
       "      <th>cluster_number_pca</th>\n",
       "    </tr>\n",
       "  </thead>\n",
       "  <tbody>\n",
       "    <tr>\n",
       "      <th>511</th>\n",
       "      <td>-0.358976</td>\n",
       "      <td>-0.218847</td>\n",
       "      <td>-0.326903</td>\n",
       "      <td>-0.616921</td>\n",
       "      <td>0.228323</td>\n",
       "      <td>0.828407</td>\n",
       "      <td>-1.209</td>\n",
       "      <td>0.681468</td>\n",
       "      <td>-0.537140</td>\n",
       "      <td>0</td>\n",
       "    </tr>\n",
       "    <tr>\n",
       "      <th>512</th>\n",
       "      <td>-0.281627</td>\n",
       "      <td>-0.028119</td>\n",
       "      <td>-0.278457</td>\n",
       "      <td>1.866162</td>\n",
       "      <td>-0.505692</td>\n",
       "      <td>1.956863</td>\n",
       "      <td>-1.128</td>\n",
       "      <td>1.042013</td>\n",
       "      <td>-2.720060</td>\n",
       "      <td>1</td>\n",
       "    </tr>\n",
       "    <tr>\n",
       "      <th>513</th>\n",
       "      <td>0.096134</td>\n",
       "      <td>-0.211732</td>\n",
       "      <td>0.098324</td>\n",
       "      <td>-0.865229</td>\n",
       "      <td>0.653408</td>\n",
       "      <td>-0.412848</td>\n",
       "      <td>-1.048</td>\n",
       "      <td>0.428745</td>\n",
       "      <td>0.623107</td>\n",
       "      <td>0</td>\n",
       "    </tr>\n",
       "    <tr>\n",
       "      <th>514</th>\n",
       "      <td>-0.332200</td>\n",
       "      <td>-0.017895</td>\n",
       "      <td>-0.326903</td>\n",
       "      <td>2.114471</td>\n",
       "      <td>0.723741</td>\n",
       "      <td>3.356415</td>\n",
       "      <td>-0.967</td>\n",
       "      <td>2.207933</td>\n",
       "      <td>-3.390646</td>\n",
       "      <td>1</td>\n",
       "    </tr>\n",
       "    <tr>\n",
       "      <th>515</th>\n",
       "      <td>-0.360655</td>\n",
       "      <td>0.834997</td>\n",
       "      <td>-0.333362</td>\n",
       "      <td>-0.120304</td>\n",
       "      <td>1.695861</td>\n",
       "      <td>3.040295</td>\n",
       "      <td>-0.886</td>\n",
       "      <td>2.825434</td>\n",
       "      <td>-1.366719</td>\n",
       "      <td>1</td>\n",
       "    </tr>\n",
       "  </tbody>\n",
       "</table>\n",
       "</div>"
      ],
      "text/plain": [
       "     Aqua Production (Millions)  Marine Protected Area (sqkm)  \\\n",
       "511                   -0.358976                     -0.218847   \n",
       "512                   -0.281627                     -0.028119   \n",
       "513                    0.096134                     -0.211732   \n",
       "514                   -0.332200                     -0.017895   \n",
       "515                   -0.360655                      0.834997   \n",
       "\n",
       "     Inventions (number)  Instruments (number)  Fishing Exports (Millions)  \\\n",
       "511            -0.326903             -0.616921                    0.228323   \n",
       "512            -0.278457              1.866162                   -0.505692   \n",
       "513             0.098324             -0.865229                    0.653408   \n",
       "514            -0.326903              2.114471                    0.723741   \n",
       "515            -0.333362             -0.120304                    1.695861   \n",
       "\n",
       "        Value Country      PCA1      PCA2  cluster_number_pca  \n",
       "511  0.828407  -1.209  0.681468 -0.537140                   0  \n",
       "512  1.956863  -1.128  1.042013 -2.720060                   1  \n",
       "513 -0.412848  -1.048  0.428745  0.623107                   0  \n",
       "514  3.356415  -0.967  2.207933 -3.390646                   1  \n",
       "515  3.040295  -0.886  2.825434 -1.366719                   1  "
      ]
     },
     "execution_count": 691,
     "metadata": {},
     "output_type": "execute_result"
    }
   ],
   "source": [
    "#| code-fold: true\n",
    "pca = PCA(n_components=2)\n",
    "data_standardized['PCA1'] = reduced_data[:, 0]\n",
    "data_standardized['PCA2'] = reduced_data[:, 1]\n",
    "\n",
    "kmeans_pca = KMeans(n_clusters=3, random_state=42, n_init=10)\n",
    "kmeans_pca.fit(reduced_data)\n",
    "data_standardized['cluster_number_pca'] = kmeans_pca.labels_\n",
    "data_standardized.tail(5)\n"
   ]
  },
  {
   "cell_type": "code",
   "execution_count": 692,
   "metadata": {},
   "outputs": [
    {
     "data": {
      "application/vnd.plotly.v1+json": {
       "config": {
        "plotlyServerURL": "https://plot.ly"
       },
       "data": [
        {
         "customdata": [
          [
           "-0.806"
          ],
          [
           "-0.725"
          ],
          [
           "-0.645"
          ],
          [
           "-0.564"
          ],
          [
           "-0.483"
          ],
          [
           "-0.403"
          ],
          [
           "-0.322"
          ],
          [
           "-0.242"
          ],
          [
           "-0.161"
          ],
          [
           "-0.081"
          ],
          [
           "0.000"
          ],
          [
           "0.081"
          ],
          [
           "0.161"
          ],
          [
           "0.242"
          ],
          [
           "0.322"
          ],
          [
           "0.403"
          ],
          [
           "0.483"
          ],
          [
           "0.564"
          ],
          [
           "0.645"
          ],
          [
           "0.725"
          ],
          [
           "0.806"
          ],
          [
           "0.886"
          ],
          [
           "0.967"
          ],
          [
           "1.048"
          ],
          [
           "1.128"
          ],
          [
           "1.209"
          ],
          [
           "1.289"
          ],
          [
           "1.370"
          ],
          [
           "1.450"
          ],
          [
           "1.531"
          ],
          [
           "1.612"
          ],
          [
           "1.692"
          ],
          [
           "-1.692"
          ],
          [
           "-1.612"
          ],
          [
           "-1.531"
          ],
          [
           "-1.450"
          ],
          [
           "-1.370"
          ],
          [
           "-1.289"
          ],
          [
           "-1.209"
          ],
          [
           "-1.128"
          ],
          [
           "-1.048"
          ],
          [
           "-0.967"
          ],
          [
           "-0.886"
          ],
          [
           "-0.806"
          ],
          [
           "-0.725"
          ],
          [
           "-0.645"
          ],
          [
           "-0.564"
          ],
          [
           "-0.483"
          ],
          [
           "-0.403"
          ],
          [
           "-0.322"
          ],
          [
           "-0.242"
          ],
          [
           "-0.161"
          ],
          [
           "-0.081"
          ],
          [
           "0.000"
          ],
          [
           "0.081"
          ],
          [
           "0.161"
          ],
          [
           "0.242"
          ],
          [
           "0.322"
          ],
          [
           "0.403"
          ],
          [
           "0.483"
          ],
          [
           "0.564"
          ],
          [
           "0.645"
          ],
          [
           "0.725"
          ],
          [
           "0.806"
          ],
          [
           "0.886"
          ],
          [
           "0.967"
          ],
          [
           "1.048"
          ],
          [
           "1.128"
          ],
          [
           "1.209"
          ],
          [
           "1.289"
          ],
          [
           "1.370"
          ],
          [
           "1.450"
          ],
          [
           "1.531"
          ],
          [
           "1.612"
          ],
          [
           "1.692"
          ],
          [
           "-1.692"
          ],
          [
           "-1.612"
          ],
          [
           "-1.531"
          ],
          [
           "-1.450"
          ],
          [
           "-1.370"
          ],
          [
           "-1.289"
          ],
          [
           "-1.209"
          ],
          [
           "-1.128"
          ],
          [
           "-1.048"
          ],
          [
           "-0.967"
          ],
          [
           "-0.886"
          ],
          [
           "-0.806"
          ],
          [
           "-0.725"
          ],
          [
           "-0.645"
          ],
          [
           "-0.564"
          ],
          [
           "-0.483"
          ],
          [
           "-0.403"
          ],
          [
           "-0.322"
          ],
          [
           "-0.242"
          ],
          [
           "-0.161"
          ],
          [
           "-0.081"
          ],
          [
           "0.000"
          ],
          [
           "0.081"
          ],
          [
           "0.161"
          ],
          [
           "0.242"
          ],
          [
           "0.322"
          ],
          [
           "0.403"
          ],
          [
           "0.483"
          ],
          [
           "0.564"
          ],
          [
           "0.645"
          ],
          [
           "0.725"
          ],
          [
           "0.806"
          ],
          [
           "0.886"
          ],
          [
           "0.967"
          ],
          [
           "1.048"
          ],
          [
           "1.128"
          ],
          [
           "1.209"
          ],
          [
           "1.289"
          ],
          [
           "1.370"
          ],
          [
           "1.450"
          ],
          [
           "1.531"
          ],
          [
           "1.612"
          ],
          [
           "1.692"
          ],
          [
           "-1.692"
          ],
          [
           "-1.612"
          ],
          [
           "-1.531"
          ],
          [
           "-1.450"
          ],
          [
           "-1.370"
          ],
          [
           "-1.289"
          ],
          [
           "-1.209"
          ],
          [
           "-1.128"
          ],
          [
           "-1.048"
          ],
          [
           "-0.967"
          ],
          [
           "-0.886"
          ],
          [
           "-0.806"
          ],
          [
           "-0.725"
          ],
          [
           "-0.645"
          ],
          [
           "-0.564"
          ],
          [
           "-0.483"
          ],
          [
           "-0.403"
          ],
          [
           "-0.322"
          ],
          [
           "-0.242"
          ],
          [
           "-0.161"
          ],
          [
           "-0.081"
          ],
          [
           "0.000"
          ],
          [
           "0.081"
          ],
          [
           "0.161"
          ],
          [
           "0.242"
          ],
          [
           "0.322"
          ],
          [
           "0.403"
          ],
          [
           "0.483"
          ],
          [
           "0.564"
          ],
          [
           "0.645"
          ],
          [
           "0.725"
          ],
          [
           "0.806"
          ],
          [
           "0.886"
          ],
          [
           "0.967"
          ],
          [
           "1.048"
          ],
          [
           "1.128"
          ],
          [
           "1.209"
          ],
          [
           "1.289"
          ],
          [
           "1.370"
          ],
          [
           "1.450"
          ],
          [
           "1.531"
          ],
          [
           "1.612"
          ],
          [
           "1.692"
          ],
          [
           "-1.692"
          ],
          [
           "-1.612"
          ],
          [
           "-1.531"
          ],
          [
           "-1.450"
          ],
          [
           "-1.370"
          ],
          [
           "-1.289"
          ],
          [
           "-1.209"
          ],
          [
           "-1.128"
          ],
          [
           "-1.048"
          ],
          [
           "-0.967"
          ],
          [
           "-0.886"
          ],
          [
           "-0.806"
          ],
          [
           "-0.725"
          ],
          [
           "-0.645"
          ],
          [
           "-0.564"
          ],
          [
           "-0.483"
          ],
          [
           "-0.403"
          ],
          [
           "-0.322"
          ],
          [
           "-0.242"
          ],
          [
           "-0.161"
          ],
          [
           "-0.081"
          ],
          [
           "0.000"
          ],
          [
           "0.081"
          ],
          [
           "0.161"
          ],
          [
           "0.242"
          ],
          [
           "0.322"
          ],
          [
           "0.403"
          ],
          [
           "0.483"
          ],
          [
           "0.564"
          ],
          [
           "0.645"
          ],
          [
           "0.725"
          ],
          [
           "0.806"
          ],
          [
           "0.886"
          ],
          [
           "0.967"
          ],
          [
           "1.048"
          ],
          [
           "1.128"
          ],
          [
           "1.209"
          ],
          [
           "1.289"
          ],
          [
           "1.370"
          ],
          [
           "1.450"
          ],
          [
           "1.531"
          ],
          [
           "1.612"
          ],
          [
           "1.692"
          ],
          [
           "-1.692"
          ],
          [
           "-1.612"
          ],
          [
           "-1.531"
          ],
          [
           "-1.450"
          ],
          [
           "-1.370"
          ],
          [
           "-1.289"
          ],
          [
           "-1.209"
          ],
          [
           "-1.128"
          ],
          [
           "-1.048"
          ],
          [
           "-0.967"
          ],
          [
           "-0.886"
          ],
          [
           "-0.806"
          ],
          [
           "-0.725"
          ],
          [
           "-0.645"
          ],
          [
           "-0.564"
          ],
          [
           "-0.483"
          ],
          [
           "-0.403"
          ],
          [
           "-0.322"
          ],
          [
           "-0.242"
          ],
          [
           "-0.161"
          ],
          [
           "-0.081"
          ],
          [
           "0.000"
          ],
          [
           "0.081"
          ],
          [
           "0.161"
          ],
          [
           "0.242"
          ],
          [
           "0.322"
          ],
          [
           "0.403"
          ],
          [
           "0.483"
          ],
          [
           "0.564"
          ],
          [
           "0.645"
          ],
          [
           "0.725"
          ],
          [
           "0.806"
          ],
          [
           "0.886"
          ],
          [
           "0.967"
          ],
          [
           "1.048"
          ],
          [
           "1.128"
          ],
          [
           "1.209"
          ],
          [
           "1.289"
          ],
          [
           "1.370"
          ],
          [
           "1.450"
          ],
          [
           "1.531"
          ],
          [
           "1.612"
          ],
          [
           "1.692"
          ],
          [
           "-1.692"
          ],
          [
           "-1.612"
          ],
          [
           "-1.531"
          ],
          [
           "-1.450"
          ],
          [
           "-1.370"
          ],
          [
           "-1.289"
          ],
          [
           "-1.209"
          ],
          [
           "-1.128"
          ],
          [
           "-1.048"
          ],
          [
           "-0.967"
          ],
          [
           "-0.886"
          ],
          [
           "-0.806"
          ],
          [
           "-0.725"
          ],
          [
           "-0.645"
          ],
          [
           "-0.564"
          ],
          [
           "-0.483"
          ],
          [
           "-0.403"
          ],
          [
           "-0.322"
          ],
          [
           "-0.242"
          ],
          [
           "-0.161"
          ],
          [
           "-0.081"
          ],
          [
           "0.000"
          ],
          [
           "0.081"
          ],
          [
           "0.161"
          ],
          [
           "0.242"
          ],
          [
           "0.322"
          ],
          [
           "0.403"
          ],
          [
           "0.483"
          ],
          [
           "0.564"
          ],
          [
           "0.645"
          ],
          [
           "0.725"
          ],
          [
           "0.806"
          ],
          [
           "0.886"
          ],
          [
           "0.967"
          ],
          [
           "1.048"
          ],
          [
           "1.128"
          ],
          [
           "1.209"
          ],
          [
           "1.289"
          ],
          [
           "1.370"
          ],
          [
           "1.450"
          ],
          [
           "1.531"
          ],
          [
           "1.612"
          ],
          [
           "1.692"
          ],
          [
           "-1.692"
          ],
          [
           "-1.612"
          ],
          [
           "-1.531"
          ],
          [
           "-1.450"
          ],
          [
           "-1.370"
          ],
          [
           "-1.289"
          ],
          [
           "-1.209"
          ],
          [
           "-1.128"
          ],
          [
           "-1.048"
          ],
          [
           "-0.967"
          ],
          [
           "-0.886"
          ],
          [
           "-0.806"
          ],
          [
           "-0.725"
          ],
          [
           "-0.645"
          ],
          [
           "-0.564"
          ],
          [
           "-0.483"
          ],
          [
           "-0.403"
          ],
          [
           "-0.322"
          ],
          [
           "-0.242"
          ],
          [
           "-0.161"
          ],
          [
           "-0.081"
          ],
          [
           "0.000"
          ],
          [
           "0.081"
          ],
          [
           "0.161"
          ],
          [
           "0.242"
          ],
          [
           "0.322"
          ],
          [
           "0.403"
          ],
          [
           "0.483"
          ],
          [
           "0.564"
          ],
          [
           "0.645"
          ],
          [
           "0.725"
          ],
          [
           "0.806"
          ],
          [
           "0.886"
          ],
          [
           "0.967"
          ],
          [
           "1.048"
          ],
          [
           "1.128"
          ],
          [
           "1.209"
          ],
          [
           "1.289"
          ],
          [
           "1.370"
          ],
          [
           "1.450"
          ],
          [
           "1.531"
          ],
          [
           "1.612"
          ],
          [
           "1.692"
          ],
          [
           "-1.692"
          ],
          [
           "-1.612"
          ],
          [
           "-1.531"
          ],
          [
           "-1.450"
          ],
          [
           "-1.370"
          ],
          [
           "-1.289"
          ],
          [
           "-1.209"
          ],
          [
           "-1.128"
          ],
          [
           "-1.048"
          ],
          [
           "-0.967"
          ],
          [
           "-0.886"
          ],
          [
           "-0.806"
          ],
          [
           "-0.725"
          ],
          [
           "-0.645"
          ],
          [
           "-0.564"
          ],
          [
           "-0.483"
          ],
          [
           "-0.403"
          ],
          [
           "-0.322"
          ],
          [
           "-0.242"
          ],
          [
           "-0.161"
          ],
          [
           "-0.081"
          ],
          [
           "0.000"
          ],
          [
           "0.081"
          ],
          [
           "0.161"
          ],
          [
           "0.242"
          ],
          [
           "0.322"
          ],
          [
           "0.403"
          ],
          [
           "0.483"
          ],
          [
           "0.564"
          ],
          [
           "0.645"
          ],
          [
           "0.725"
          ],
          [
           "0.806"
          ],
          [
           "0.886"
          ],
          [
           "0.967"
          ],
          [
           "1.048"
          ],
          [
           "1.128"
          ],
          [
           "1.209"
          ],
          [
           "1.289"
          ],
          [
           "1.370"
          ],
          [
           "1.450"
          ],
          [
           "1.531"
          ],
          [
           "1.612"
          ],
          [
           "1.692"
          ],
          [
           "-1.692"
          ],
          [
           "-1.612"
          ],
          [
           "-1.531"
          ],
          [
           "-1.450"
          ],
          [
           "-1.370"
          ],
          [
           "-1.289"
          ],
          [
           "-1.209"
          ],
          [
           "-1.128"
          ],
          [
           "-1.048"
          ],
          [
           "-0.967"
          ],
          [
           "-0.886"
          ],
          [
           "-0.806"
          ],
          [
           "-0.725"
          ],
          [
           "-0.645"
          ],
          [
           "-0.564"
          ],
          [
           "-0.483"
          ],
          [
           "-0.403"
          ],
          [
           "-0.322"
          ],
          [
           "-0.242"
          ],
          [
           "-0.161"
          ],
          [
           "-0.081"
          ],
          [
           "0.000"
          ],
          [
           "0.081"
          ],
          [
           "0.161"
          ],
          [
           "0.242"
          ],
          [
           "0.322"
          ],
          [
           "0.403"
          ],
          [
           "0.483"
          ],
          [
           "0.564"
          ],
          [
           "0.645"
          ],
          [
           "0.725"
          ],
          [
           "0.806"
          ],
          [
           "0.886"
          ],
          [
           "0.967"
          ],
          [
           "1.048"
          ],
          [
           "1.128"
          ],
          [
           "1.209"
          ],
          [
           "1.289"
          ],
          [
           "1.370"
          ],
          [
           "1.450"
          ],
          [
           "1.531"
          ],
          [
           "1.612"
          ],
          [
           "1.692"
          ],
          [
           "-1.692"
          ],
          [
           "-1.612"
          ],
          [
           "-1.531"
          ],
          [
           "-1.450"
          ],
          [
           "-1.370"
          ],
          [
           "-1.289"
          ],
          [
           "-1.209"
          ],
          [
           "-1.128"
          ],
          [
           "-1.048"
          ],
          [
           "-0.967"
          ],
          [
           "-0.886"
          ],
          [
           "-0.806"
          ],
          [
           "-0.725"
          ],
          [
           "-0.645"
          ],
          [
           "-0.564"
          ],
          [
           "-0.483"
          ],
          [
           "-0.403"
          ],
          [
           "-0.322"
          ],
          [
           "-0.242"
          ],
          [
           "-0.161"
          ],
          [
           "-0.081"
          ],
          [
           "0.000"
          ],
          [
           "0.081"
          ],
          [
           "0.161"
          ],
          [
           "0.242"
          ],
          [
           "0.322"
          ],
          [
           "0.403"
          ],
          [
           "0.483"
          ],
          [
           "0.564"
          ],
          [
           "0.645"
          ],
          [
           "0.725"
          ],
          [
           "0.806"
          ],
          [
           "0.886"
          ],
          [
           "0.967"
          ],
          [
           "1.048"
          ],
          [
           "1.128"
          ],
          [
           "1.209"
          ],
          [
           "1.289"
          ],
          [
           "1.370"
          ],
          [
           "1.450"
          ],
          [
           "1.531"
          ],
          [
           "1.612"
          ],
          [
           "1.692"
          ],
          [
           "-1.692"
          ],
          [
           "-1.612"
          ],
          [
           "-1.531"
          ],
          [
           "-1.450"
          ],
          [
           "-1.370"
          ],
          [
           "-1.289"
          ],
          [
           "-1.209"
          ],
          [
           "-1.128"
          ],
          [
           "-1.048"
          ],
          [
           "-0.967"
          ],
          [
           "-0.886"
          ],
          [
           "-0.806"
          ],
          [
           "-0.725"
          ],
          [
           "-0.645"
          ],
          [
           "-0.564"
          ],
          [
           "-0.483"
          ],
          [
           "-0.403"
          ],
          [
           "-0.322"
          ],
          [
           "-0.242"
          ],
          [
           "-0.161"
          ],
          [
           "-0.081"
          ],
          [
           "0.000"
          ],
          [
           "0.081"
          ],
          [
           "0.161"
          ],
          [
           "0.242"
          ],
          [
           "0.322"
          ],
          [
           "0.403"
          ],
          [
           "0.483"
          ],
          [
           "0.564"
          ],
          [
           "0.645"
          ],
          [
           "0.725"
          ],
          [
           "0.806"
          ],
          [
           "0.886"
          ],
          [
           "0.967"
          ],
          [
           "1.048"
          ],
          [
           "1.128"
          ],
          [
           "1.209"
          ],
          [
           "1.289"
          ],
          [
           "1.370"
          ],
          [
           "1.450"
          ],
          [
           "1.531"
          ],
          [
           "1.612"
          ],
          [
           "1.692"
          ],
          [
           "-1.692"
          ],
          [
           "-1.612"
          ],
          [
           "-1.531"
          ],
          [
           "-1.450"
          ],
          [
           "-1.370"
          ],
          [
           "-1.289"
          ],
          [
           "-1.209"
          ],
          [
           "-1.128"
          ],
          [
           "-1.048"
          ],
          [
           "-0.967"
          ],
          [
           "-0.886"
          ]
         ],
         "hovertemplate": "Principal Component 1=%{x}<br>Principal Component 2=%{y}<br>Country=%{customdata[0]}<br>Cluster Number=%{marker.color}<extra></extra>",
         "legendgroup": "",
         "marker": {
          "color": [
           0,
           0,
           0,
           0,
           0,
           1,
           0,
           0,
           0,
           0,
           0,
           0,
           0,
           0,
           0,
           0,
           0,
           0,
           0,
           0,
           0,
           0,
           0,
           0,
           0,
           0,
           0,
           0,
           0,
           0,
           0,
           0,
           0,
           0,
           2,
           0,
           1,
           1,
           0,
           1,
           0,
           1,
           1,
           0,
           0,
           0,
           0,
           0,
           1,
           0,
           0,
           0,
           0,
           0,
           0,
           0,
           0,
           0,
           0,
           0,
           0,
           0,
           0,
           0,
           0,
           0,
           0,
           0,
           0,
           0,
           0,
           0,
           0,
           0,
           0,
           0,
           0,
           2,
           0,
           1,
           1,
           0,
           1,
           0,
           1,
           1,
           0,
           0,
           0,
           0,
           0,
           1,
           0,
           0,
           0,
           0,
           0,
           0,
           0,
           0,
           0,
           0,
           0,
           0,
           0,
           0,
           0,
           0,
           0,
           0,
           0,
           0,
           0,
           0,
           0,
           0,
           0,
           0,
           0,
           0,
           2,
           0,
           1,
           1,
           0,
           1,
           0,
           1,
           1,
           0,
           0,
           0,
           0,
           0,
           1,
           0,
           0,
           0,
           0,
           0,
           0,
           0,
           0,
           0,
           0,
           0,
           0,
           0,
           0,
           0,
           0,
           0,
           0,
           0,
           0,
           0,
           0,
           0,
           0,
           0,
           0,
           0,
           0,
           2,
           0,
           1,
           1,
           0,
           1,
           0,
           1,
           1,
           0,
           0,
           0,
           0,
           0,
           1,
           0,
           0,
           0,
           0,
           0,
           0,
           0,
           0,
           0,
           0,
           0,
           0,
           0,
           0,
           0,
           0,
           0,
           0,
           0,
           0,
           0,
           0,
           0,
           0,
           0,
           0,
           0,
           0,
           2,
           0,
           1,
           1,
           0,
           1,
           0,
           1,
           1,
           0,
           0,
           0,
           0,
           0,
           1,
           0,
           0,
           0,
           0,
           0,
           0,
           0,
           0,
           0,
           0,
           0,
           0,
           0,
           0,
           0,
           0,
           0,
           0,
           0,
           0,
           0,
           0,
           0,
           0,
           0,
           0,
           0,
           0,
           2,
           0,
           1,
           1,
           0,
           1,
           0,
           1,
           1,
           0,
           0,
           0,
           0,
           0,
           1,
           0,
           0,
           0,
           0,
           0,
           0,
           0,
           0,
           0,
           0,
           0,
           0,
           0,
           0,
           0,
           0,
           0,
           0,
           0,
           0,
           0,
           0,
           0,
           0,
           0,
           0,
           0,
           0,
           2,
           0,
           1,
           1,
           0,
           1,
           0,
           1,
           1,
           0,
           0,
           0,
           1,
           0,
           1,
           0,
           0,
           0,
           0,
           0,
           0,
           0,
           0,
           0,
           0,
           0,
           0,
           0,
           0,
           0,
           0,
           0,
           0,
           0,
           0,
           0,
           0,
           0,
           0,
           0,
           0,
           0,
           0,
           2,
           0,
           1,
           1,
           0,
           1,
           0,
           1,
           1,
           0,
           0,
           0,
           1,
           0,
           1,
           0,
           0,
           0,
           0,
           0,
           0,
           0,
           0,
           0,
           0,
           0,
           0,
           0,
           0,
           0,
           0,
           0,
           0,
           0,
           0,
           0,
           0,
           0,
           0,
           0,
           0,
           0,
           0,
           2,
           0,
           1,
           1,
           0,
           1,
           0,
           1,
           1,
           0,
           0,
           0,
           1,
           0,
           1,
           0,
           0,
           0,
           0,
           0,
           0,
           0,
           0,
           0,
           0,
           0,
           0,
           0,
           0,
           0,
           0,
           0,
           0,
           0,
           0,
           0,
           0,
           0,
           0,
           0,
           0,
           0,
           0,
           2,
           0,
           1,
           1,
           0,
           1,
           0,
           1,
           1,
           0,
           0,
           0,
           1,
           0,
           1,
           0,
           0,
           0,
           0,
           0,
           0,
           0,
           0,
           0,
           0,
           0,
           0,
           0,
           0,
           0,
           0,
           0,
           0,
           0,
           0,
           0,
           0,
           0,
           0,
           0,
           0,
           0,
           0,
           2,
           0,
           1,
           1,
           0,
           1,
           0,
           1,
           1,
           0,
           0,
           0,
           1,
           0,
           1,
           0,
           0,
           0,
           0,
           0,
           0,
           0,
           0,
           0,
           0,
           0,
           0,
           0,
           0,
           0,
           0,
           0,
           0,
           0,
           0,
           0,
           0,
           0,
           0,
           0,
           0,
           0,
           0,
           2,
           0,
           1,
           1,
           0,
           1,
           0,
           1,
           1
          ],
          "coloraxis": "coloraxis",
          "symbol": "circle"
         },
         "mode": "markers",
         "name": "",
         "orientation": "v",
         "showlegend": false,
         "type": "scatter",
         "x": [
          -0.007692617028563264,
          -0.587992479576772,
          0.4835233173127545,
          0.37914613951845055,
          -0.7492023721628248,
          0.2507722621405053,
          0.06606534887620341,
          -0.6891150718825501,
          -0.45550660276439114,
          -0.3832268054962345,
          -0.6118308419936761,
          -0.8347886319964914,
          -0.3189563687892951,
          -0.7283829841641608,
          -0.504765043085577,
          -0.9350355304263622,
          -0.829978445092531,
          -0.7257085438982008,
          -1.1524517362855948,
          -0.9976282710096966,
          -0.9412403854468353,
          -0.7222989046623266,
          -0.8706296892055406,
          0.15109045065676688,
          -1.2928542090220656,
          -1.0470655512754532,
          -1.5333984375935266,
          -0.701688455329878,
          -1.159772304504962,
          -1.4307556865702407,
          -0.769748885617859,
          -0.42664767457940805,
          0.15445107282748186,
          -0.2828781193959903,
          3.2156513933334554,
          0.1321641938649586,
          1.5047408505727637,
          0.5821793413177853,
          -0.17712888508688052,
          0.5216811976925575,
          0.1945706970511903,
          2.755141401941436,
          1.3197549911580784,
          -0.19201472536370331,
          -0.537371378761098,
          0.3971348540519937,
          0.799218460866057,
          -0.771703114896728,
          0.1263185178002042,
          0.1282799746497834,
          -0.5229600731162105,
          -0.4159245036814233,
          -0.25289860933409514,
          -0.638165169886574,
          -0.833853951026644,
          -0.36265130120359945,
          -0.8523715195839818,
          -0.567784925293003,
          -0.8836421662675178,
          -0.766360608729537,
          -0.7019778009172033,
          -1.052453412806418,
          -1.008009498569825,
          -0.9825355316152323,
          -0.5254356933370578,
          -0.9703071698598869,
          0.03656114579758993,
          -1.2583567767555393,
          -1.0995961946763373,
          -1.4318132663412748,
          -0.7259874355216858,
          -1.117950860246347,
          -1.4016741505982078,
          -0.851786341515876,
          -0.17171269095907946,
          0.23510216081006985,
          -0.24254447951109662,
          4.803267818466001,
          0.0653995327052745,
          1.969445369438166,
          0.6020997461352274,
          -0.08997855687837039,
          0.9188473882921383,
          -0.13429199164004268,
          2.4448032132756126,
          1.9609586867923616,
          -0.24086339539695129,
          -0.5356592574194537,
          0.3179208594013458,
          0.536188210430264,
          -0.8011579323417087,
          0.020273283426254476,
          0.023033662726933773,
          -0.5300343054784658,
          -0.4068570280407691,
          -0.2731275114155774,
          -0.5175052024505663,
          -0.8050124948851834,
          -0.3120534183974568,
          -0.7914981313586125,
          -0.6051677410167793,
          -0.9137013645583069,
          -0.6911925463723598,
          -0.5112301952430822,
          -0.9974235682419256,
          -0.9865374512136538,
          -0.9839513249488533,
          -0.483926745382439,
          -1.1285268009236065,
          0.7332408993777612,
          -1.1699720761968657,
          -1.1812468725625507,
          -1.3729964770727994,
          -0.7014645978314344,
          -0.7833392493839004,
          -1.394494586148052,
          -0.7846172083935106,
          -0.37294188339281187,
          0.38071835969868395,
          -0.31773186133698905,
          5.670456918733059,
          0.10352518024020115,
          2.012570558162671,
          0.7654247869275224,
          0.3266666702044126,
          0.9682873678180152,
          -0.20313061563395293,
          2.5454795627645908,
          1.8692716161413656,
          -0.2530553084462995,
          -0.5233729454957818,
          0.3199581026143136,
          0.8070161838065811,
          -0.8023612219552475,
          0.023673671442376174,
          0.034148298501293674,
          -0.5282658760629478,
          -0.4116130233955918,
          -0.27923309856445305,
          -0.47558979343403046,
          -0.7919017371820294,
          -0.27222622018696235,
          -0.804839154575716,
          -0.6119377363246356,
          -0.9027408557135059,
          -0.7352832604121173,
          -0.44418733037346836,
          -1.0070395472202902,
          -0.9827506011111524,
          -0.9341682621367531,
          -0.4452036955500104,
          -1.1377954227176392,
          0.6024834319345718,
          -1.1507111759184483,
          -1.1616592098785636,
          -1.3726589933000375,
          -0.5455288849844755,
          -0.7973194393825047,
          -1.3768813477905368,
          -0.6694075857942591,
          -0.1655676010933601,
          0.359068972221106,
          -0.32004247372945605,
          6.208729032317673,
          0.2924557557975206,
          1.9816479265753222,
          0.8318318895321628,
          0.38753982815257526,
          0.9225947406957128,
          -0.2180922759682336,
          2.647200042234573,
          1.9973747812713192,
          -0.31421160357935335,
          -0.5477057220882731,
          0.32422223279286255,
          0.7610686877367492,
          -0.8024806982775189,
          0.032262397183326436,
          0.014064624644630885,
          -0.5139748404774586,
          -0.40797751876161464,
          -0.25898752806232006,
          -0.4703194934204839,
          -0.7940736884086325,
          -0.256306614280719,
          -0.6938371473998901,
          -0.611480006323178,
          -0.9188598185390688,
          -0.7208778036869389,
          -0.45432621932716266,
          -0.9949534995498563,
          -0.9837672841330256,
          -0.942662053353213,
          -0.42759230680668314,
          -1.2122782334188165,
          0.5351900728065441,
          -1.138290046499749,
          -1.1582984218015024,
          -1.3000488865520405,
          -0.5437667518897755,
          -0.7765449712786152,
          -1.366672476700854,
          -0.6629972589296802,
          -0.2650136451789556,
          0.29820050089427236,
          -0.32006748871627033,
          6.647723484631948,
          0.31772720914772207,
          2.0602043385227597,
          0.7887916795828398,
          0.3679818550418488,
          0.9466165981592355,
          -0.23528872201615753,
          2.645704302587078,
          2.0057354762939976,
          -0.30085404767098034,
          -0.5508253603071609,
          0.3569087352045294,
          0.969982427647647,
          -0.8043583035394878,
          0.02564864856683241,
          0.07153279888636617,
          -0.5230139752413381,
          -0.4081213642627865,
          -0.26278226379371,
          -0.46607147002463556,
          -0.8022133111027877,
          -0.24702897654189424,
          -0.7098771048813652,
          -0.6105608434811826,
          -0.9078349686079452,
          -0.6522233783774075,
          -0.5083534770198361,
          -0.9913596579498392,
          -0.9800851171647468,
          -0.9502496914414647,
          -0.4354206438256044,
          -1.2284350245511337,
          0.7989621670977971,
          -1.1129697093875008,
          -1.157844162361467,
          -1.2999083496058133,
          -0.5169139381916573,
          -0.7497119220975955,
          -1.3478887693081207,
          -0.6184631488692913,
          -0.23364647874681543,
          0.32317898249582,
          -0.3235516276759638,
          7.005237110711696,
          0.6446988479798547,
          2.2752575300501268,
          0.7770902594692727,
          0.3143953984788502,
          1.0016847617513944,
          -0.20354358783168428,
          2.3790416505292478,
          2.0996268177094404,
          -0.2789457413972999,
          -0.5370604519454625,
          0.4052522456389519,
          1.4854716405263393,
          -0.7995795049022024,
          0.023892649927595648,
          0.07769887664917463,
          -0.5257456029860625,
          -0.4084341916716944,
          -0.2879259872722834,
          -0.421552127785346,
          -0.7956099199448381,
          -0.30693606314076877,
          -0.6999713933422957,
          -0.6168826850933713,
          -0.9015681168326537,
          -0.6271511720654867,
          -0.5347132626899588,
          -1.011548024912371,
          -0.9654048646493232,
          -0.9341885392169821,
          -0.4187355817336498,
          -1.2160878576134895,
          0.9889077127624747,
          -1.0796143013949753,
          -1.1422578423207013,
          -1.2960843978769971,
          -0.5595328242257894,
          -0.6855494268348318,
          -1.3261772920842871,
          -0.5910331600797754,
          -0.22919289701774734,
          0.3576825537951039,
          -0.12411572404735291,
          7.458593083480699,
          0.8558744359372267,
          2.3746429791938626,
          0.8133985724296742,
          0.34537431012412706,
          0.9794337283734739,
          0.026854343838147266,
          2.338744305469457,
          2.3551431752580774,
          -0.23774676255604207,
          -0.5281380002323056,
          0.5569083151105734,
          1.3273169146255275,
          -0.7979564715282564,
          0.021306045384004713,
          0.1854040803929686,
          -0.5286601151840613,
          -0.3005393858156645,
          -0.2670905851620725,
          -0.42139454838103646,
          -0.7881349712763449,
          -0.29843934370860714,
          -0.6988935851903374,
          -0.6188611243595005,
          -0.8918935768537006,
          -0.5575326074115945,
          -0.5421444761223357,
          -1.021826498830051,
          -0.8757070979958415,
          -0.9262405724981977,
          -0.37601454154167663,
          -1.1909069145954863,
          1.2068900169818637,
          -1.072729515948612,
          -1.1273827906816867,
          -1.295711515079681,
          -0.4896572112193394,
          -0.6004872142685136,
          -1.3019932900520117,
          -0.6730544697140323,
          -0.27260119813793576,
          0.27762518456157004,
          -0.11134018088329513,
          7.42558250282926,
          0.7340934085357637,
          2.259335054666974,
          0.8025779119217218,
          0.2730678641552727,
          0.9378846637130445,
          0.23322427422847164,
          2.2627195949827428,
          2.2651970750646226,
          -0.24621242662602683,
          -0.5170436877077913,
          0.6580760857569387,
          1.4019238447509952,
          -0.7968545076483206,
          0.01769123650855694,
          0.26227155737819974,
          -0.536404239002527,
          -0.23720276782221852,
          -0.2446114081707634,
          -0.39014402662361825,
          -0.7681859741786081,
          -0.3438802021904255,
          -0.7013248588650738,
          -0.6251343538495784,
          -0.886595497982687,
          -0.5575332483988021,
          -0.491782128008638,
          -1.018623033351707,
          -0.8710881820275992,
          -0.9826333242086619,
          -0.2702087748183064,
          -1.1678706038708075,
          1.711438142942086,
          -1.0159276585898238,
          -1.1437811126170785,
          -1.2937059990942799,
          -0.4235259461307586,
          -0.46625939337817573,
          -1.2660954727592795,
          -0.5801726755969003,
          -0.2983815991292106,
          0.3617004296234163,
          -0.11161244884777183,
          8.195748037712072,
          0.8593025091894555,
          2.3784836660095037,
          0.8016490154620443,
          0.2506524093325972,
          0.9957002735899217,
          0.3165424895068269,
          2.319037521794377,
          2.372984788158902,
          -0.24403295371306666,
          -0.5011318074706802,
          0.6604430361177017,
          1.5736708962544377,
          -0.8077955399608662,
          0.020349776551947484,
          0.26852357437854957,
          -0.46375995792964064,
          -0.27654067526616444,
          -0.2372448660671398,
          -0.42366398161714375,
          -0.7628986420486301,
          -0.3730653369100318,
          -0.684628928997567,
          -0.6313609075988555,
          -0.8813164203699891,
          -0.5362795724014681,
          -0.4398107905208841,
          -1.0137658921650392,
          -0.8666855049315546,
          -0.9638600213704254,
          -0.026552605653419527,
          -1.1749393144478562,
          1.680415479060789,
          -0.9935139808671011,
          -1.126485577314447,
          -1.2907819472532291,
          -0.3509114013435123,
          -0.5375039227465712,
          -1.2305963674566383,
          -0.5460667284606429,
          -0.2006263663387506,
          0.3745514894636184,
          -0.1155885475223293,
          8.22834431893937,
          1.142206193302949,
          2.514312630437054,
          1.012849539293941,
          0.33468786715751714,
          1.0393696392449756,
          0.285079201494637,
          2.2917012423679406,
          2.5839149272804245,
          -0.603155903655783,
          -0.531198101970555,
          0.6514448201232134,
          1.516207339755903,
          -0.8042173878242386,
          0.020807062960937792,
          0.25261407127705104,
          -0.46354469852121605,
          -0.27404007401018254,
          -0.24312591443891857,
          -0.43744346467671,
          -0.7643873163214099,
          -0.3273175905842421,
          -0.6931988172936729,
          -0.6371131386259345,
          -0.875177769234346,
          -0.5009466759585716,
          -0.43322917353637813,
          -1.0134905590898209,
          -0.8694372142119321,
          -0.9362419229186637,
          -0.028207008359989967,
          -1.1734001206465003,
          1.6243942250953363,
          -0.9605213235403331,
          -1.1195080256153027,
          -1.2902364670485378,
          -0.3404654903626386,
          -0.4212380881912453,
          -1.161751038638085,
          -0.6137290967463549,
          -0.3016633789716237,
          0.43451581621393265,
          -0.2580841973675986,
          8.100050753522682,
          1.1227968552016019,
          2.632049007974324,
          1.0106282716745076,
          0.41795487453031277,
          1.0513663935040185,
          0.38973496178238254,
          2.2354957132935733,
          2.716617274463172,
          -0.602256756031027,
          -0.5393933293598667,
          0.6408461543060164,
          1.6028464435380643,
          -0.7991349394296036,
          0.01881276262358314,
          0.2556958255246752,
          -0.45523378320259955,
          -0.2810050209564347,
          -0.2429834671716199,
          -0.46396014513873646,
          -0.7679547919155176,
          -0.29477137006646775,
          -0.7009194175246182,
          -0.6363719027150709,
          -0.8843913470358707,
          -0.5395189112461649,
          -0.406769317052386,
          -1.0122068084932827,
          -0.8626984223275069,
          -0.9449798615507573,
          -0.009324619018367945,
          -1.15371386063835,
          1.8411239812805533,
          -0.9472723428100902,
          -1.135394214095414,
          -1.2863602591222216,
          -0.3628643200812754,
          -0.4334712159569142,
          -1.11404080212437,
          -0.5689587266126273,
          -0.3850396912447661,
          0.42128605950269254,
          -0.24663796752391814,
          8.193483308041555,
          1.1369624002268401,
          2.578413323062321,
          1.0942800679477098,
          0.6814684535216965,
          1.0420126824237967,
          0.42874504181276896,
          2.207933359762147,
          2.825433615577927
         ],
         "xaxis": "x",
         "y": [
          -0.26943735129682456,
          0.6128617709513446,
          -0.28678936791100806,
          -0.1842973990177462,
          0.6453735281028659,
          -2.1833888168433124,
          0.6431638544893543,
          0.16209515496934895,
          -0.778879327301917,
          0.1713281994703368,
          0.7226675419502668,
          0.47862946796063205,
          -0.2988719133994495,
          0.18549272407294648,
          -0.9153423663743617,
          0.6685829361996263,
          1.1503974514019824,
          1.0459384089281896,
          0.5935216567185531,
          0.09364707165326079,
          0.4017791898589695,
          0.39910801021433506,
          0.4030979562522765,
          0.9158409646476144,
          0.7375857724830183,
          0.15415770834125544,
          1.000977849409355,
          0.25849353761227917,
          0.14275499738107306,
          0.7146470596580993,
          -0.06480643422735807,
          -0.056138688152965036,
          -0.20302278443652536,
          0.40203650197304913,
          2.3955118680052894,
          0.4760808972195705,
          -1.7218430014564212,
          -2.0359814729233214,
          0.5990853454569903,
          -1.4627341149397035,
          0.8580022702416158,
          -2.745484692953675,
          -1.3248863024146584,
          -0.2539380500876706,
          0.6447832266793735,
          -0.2629867642647813,
          -0.18994346277107949,
          0.6387239045076352,
          -1.9298153047999436,
          0.09785130132247219,
          -0.3025587056573163,
          -0.9163315823987029,
          -0.20962460434132113,
          0.7462934294168565,
          0.5119191654329901,
          -0.2468658081834379,
          0.40592451049182393,
          -0.7831427061577533,
          0.49905334710602345,
          1.2085582933791899,
          0.8069693778823623,
          0.36633785828961507,
          0.19033768431524295,
          0.42718500696511924,
          0.28826738949621505,
          0.4422259954700334,
          0.6522214712663966,
          0.7888199298136261,
          0.25337435476706416,
          0.7468859120468403,
          0.20954182060409351,
          0.38817507602053763,
          0.7569933417965145,
          0.20007735480933594,
          -0.15887010293243137,
          -0.020432645161171343,
          0.4248326204052748,
          3.449666905298288,
          0.4468347870517914,
          -3.439054477365432,
          -1.8495783269890838,
          0.6368014999586903,
          -2.6696888380864574,
          0.7843897312403466,
          -2.9106501185657416,
          -1.4778879438101242,
          -0.34769711363208494,
          0.6507522784027614,
          -0.42040730814409866,
          -0.3326501604165242,
          0.6243618461602346,
          -1.7048342034561337,
          0.298684902297663,
          -0.28477092613944893,
          -0.8920656043010687,
          -0.18369151157437394,
          0.9612243431751428,
          0.5438810438645008,
          -0.11765890365116122,
          0.2494939414096274,
          -0.6958662469179815,
          0.544024501968556,
          1.3425911200895155,
          1.7275523221301463,
          0.18481554245391096,
          0.2007970572339797,
          0.4465246702363958,
          0.15001992671070669,
          0.39310732109103197,
          0.3724239609310123,
          0.851844563227606,
          0.5850949117168274,
          0.5594000971785014,
          0.2971727753947227,
          0.18200139759031436,
          0.7610406795957854,
          0.5409866832519037,
          0.3008903592893053,
          -0.3814215320136828,
          0.4060413706401453,
          3.6396245197958987,
          0.4675592770474962,
          -3.786313390358951,
          -2.2844109876791023,
          -0.05231612756669332,
          -2.642552703824084,
          0.7583985724890107,
          -2.862906651656632,
          -1.530266853992737,
          -0.3787094852606911,
          0.6452269278557888,
          -0.4166219276536978,
          -0.18043416904167658,
          0.6245425774349493,
          -1.703409589200933,
          0.3142573595579447,
          -0.28545986416052427,
          -0.901714435061189,
          -0.18055359200753435,
          0.8857954347529173,
          0.5538345589759421,
          -0.10074034845123853,
          0.30793631213760214,
          -0.6775828628333768,
          0.5436501791311351,
          1.3578037669727643,
          1.8987484682813986,
          0.20871296746658197,
          0.18950634548672193,
          0.4686850841805261,
          0.10059487070202952,
          0.39403029285879354,
          0.2944367743842186,
          0.8545135449975145,
          0.5820002916018248,
          0.5595611541277165,
          0.1868152292343773,
          0.12064222350502536,
          0.7644149238324663,
          0.3534230397893854,
          0.12435921944401786,
          -0.39057824252366774,
          0.4023237104815927,
          3.872883597088211,
          0.5542493797872267,
          -3.6467402795242463,
          -2.4964700935004234,
          -0.02464147787285234,
          -2.5579123568232665,
          0.7591559976653303,
          -2.813265985099306,
          -1.4768481077047924,
          -0.35029351614875676,
          0.6400410147386572,
          -0.4422845595896001,
          -0.19942384162354843,
          0.6244631815081777,
          -1.6997907831285537,
          0.2727385776565661,
          -0.2987770471752918,
          -0.8989201294483739,
          -0.1594733182871854,
          0.8681267376319594,
          0.5518241406141485,
          -0.09320821593506409,
          0.07643515959827668,
          -0.6886437394163862,
          0.5373493742785281,
          1.379226504724164,
          2.3223076770352864,
          0.2059133342306118,
          0.19050356130322987,
          0.47987051308196393,
          0.1294520643657742,
          0.6314491852598418,
          0.2513350240629235,
          0.8723678651776643,
          0.5883101783367357,
          0.35314470553206956,
          0.22669323432101557,
          0.12505329413614688,
          0.7719122322714664,
          0.10842745354908044,
          -0.04628298437372149,
          -0.41244226583550225,
          0.4030934582722397,
          4.144684405467477,
          0.571590454271258,
          -3.6088186451129785,
          -2.4366841991489836,
          -0.038716859460675476,
          -2.546050880639674,
          0.7505970889507052,
          -2.8151925221230956,
          -1.8101138005551864,
          -0.354023523127152,
          0.643475521707043,
          -0.413191594431049,
          -0.10537656696760234,
          0.6222260681472515,
          -1.7025793380414422,
          0.2934680874944708,
          -0.28420465984475995,
          -0.8684887031813423,
          -0.19649087459917947,
          0.8450742606369037,
          0.5497906742970248,
          -0.11396002866322952,
          0.08695691074638676,
          -0.6654610096421225,
          0.5578911708531384,
          1.4095481761799549,
          1.920381017313785,
          0.20742746051857794,
          0.20213653861218622,
          0.47644234061327617,
          0.10406009353362031,
          0.6194556495024929,
          0.37976590146851763,
          0.8875218281048448,
          0.5849467655249291,
          0.35321350781134525,
          0.03979430113956838,
          0.3656917854073793,
          0.7812477106220638,
          0.1023251314024506,
          -0.018783234531550695,
          -0.40402238031190807,
          0.40349487824094166,
          4.371089486822745,
          0.7316056007105187,
          -3.4885178513634454,
          -2.4395109941031827,
          -0.055784737086971715,
          -2.5238793878755597,
          0.7574141822732113,
          -2.9379692510946596,
          -1.766932817086753,
          -0.34520460986033646,
          0.6413366580473631,
          -0.39608176940823525,
          -0.06834774214577923,
          0.6271528232829489,
          -1.703320708861912,
          0.293625917157682,
          -0.2857988806803198,
          -0.9003706369833289,
          -0.14752655448732407,
          0.8394057276117446,
          0.5486046778060978,
          -0.1385905944844726,
          0.09045109715166028,
          -0.6705256561464831,
          0.55371679668504,
          1.3884884212952808,
          2.13539347386594,
          0.2304664404409634,
          0.2083119863316472,
          0.49332019192016513,
          0.3327993899205211,
          0.6252176345392068,
          0.47129620795427596,
          0.9114423800549227,
          0.5893162354136824,
          0.34836214915776254,
          0.23339205525447093,
          0.3716577213407287,
          0.8213815828178507,
          0.13745234810658818,
          0.017593508749965223,
          -0.3894621255379173,
          -0.05832684918868703,
          4.595411853697289,
          0.8211090147084223,
          -3.4527387096218494,
          -2.4234895507511833,
          -0.04388245513546452,
          -2.5322370928143876,
          0.45527631910044913,
          -2.957251306945153,
          -1.6396951198636838,
          -0.3282654009832128,
          0.6468600707473385,
          -0.35077225978720467,
          -0.6465983944159778,
          0.6266056720937078,
          -1.7044260025214326,
          0.13867003762014518,
          -0.2870363956366023,
          -1.2570404272602975,
          -0.1613245441637962,
          0.8060842405855316,
          0.5494680453461794,
          -0.13564374352341801,
          0.09475723397892528,
          -0.6586926026852518,
          0.5586946190173621,
          1.4549781139982398,
          1.9627060040221285,
          0.24585694917774953,
          -0.007020436170129333,
          0.5323927856662316,
          0.34446407004082447,
          0.6354714027888495,
          0.5652218595341875,
          0.9012170793996366,
          0.5991114548712932,
          0.3456879039612623,
          0.2773869751041313,
          0.41159675530639367,
          0.8400521069192682,
          0.06531802205631296,
          -0.06704780943502016,
          -0.35652864756692965,
          -0.04587853548862583,
          4.654426299471108,
          0.7749074651507416,
          -3.5128220509578054,
          -2.4256438104076636,
          -0.07857890057634292,
          -2.544387341480724,
          0.5144277286808918,
          -3.183346702453948,
          -1.6587712389739646,
          -0.3228713353910759,
          0.6522372241142355,
          -0.3145433555424937,
          -0.57171570345487,
          0.6314299000960061,
          -1.7059006856059653,
          0.18251550273853112,
          -0.29028852719425274,
          -1.424312590233836,
          -0.17852141758207205,
          0.8171767650423616,
          0.5566849732572253,
          -0.15426162724137388,
          0.08704517274963253,
          -0.6519493988386388,
          0.551562192599645,
          1.4406955669297041,
          1.924543247612981,
          0.2457766303386829,
          0.005704790960178546,
          0.560679024630613,
          0.387841383028072,
          0.651342070066002,
          1.1106287414646159,
          0.9271085591435007,
          0.6021124399651093,
          0.34796482476456475,
          0.2891258368864545,
          0.45324469051536964,
          0.8533597557344348,
          0.11213697837952093,
          -0.024547385526951678,
          -0.31765977604909984,
          -0.05048605588487782,
          5.079482687968426,
          0.8214721995658294,
          -3.4403397380568816,
          -2.425807712009772,
          -0.08586715760576585,
          -2.753640402493533,
          0.5671486413451906,
          -3.156030406533974,
          -1.6136629839629708,
          -0.3214994768386642,
          0.6610677863254306,
          -0.2982850860953388,
          -0.44462879051454973,
          0.6286810759798768,
          -1.7047983935089763,
          0.1903747056877192,
          -0.49775759790731744,
          -1.2415812234149575,
          -0.1424773387774595,
          0.8358719565079746,
          0.5584920866557006,
          -0.18897892108313877,
          0.09690408947446252,
          -0.6355433536645718,
          0.5659076769817295,
          1.3802323763356579,
          1.5268323355203048,
          0.24137198406981883,
          0.0075462866899562815,
          0.5834848962664976,
          0.2727087899204001,
          0.6502098093666135,
          1.1142295739888985,
          0.9436336723649029,
          0.6175782453129093,
          0.3398817888552401,
          0.3257202934131931,
          0.417768614645521,
          0.8747518953268708,
          0.29906413611969446,
          -0.05167442070302472,
          -0.317222660855712,
          -0.03939808706340356,
          5.146893672618001,
          0.9568129081097657,
          -3.3626053079530047,
          -3.0160827882955767,
          -0.0514058781126848,
          -2.736892143155521,
          0.583545591812891,
          -3.1654871309511554,
          -1.5200763530167212,
          -0.2722938769281635,
          0.6548093991248534,
          -0.3129258904059417,
          -0.38767252812951913,
          0.6325132842940205,
          -1.7046159471510205,
          0.1825535851026966,
          -0.49694682205594737,
          -1.2374207444423655,
          -0.12138198148601005,
          0.8173989517803978,
          0.5703688478927218,
          -0.1701194495416293,
          0.09505636404063986,
          -0.6461016400594832,
          0.5598740573166399,
          1.4067906429635955,
          1.032250435847531,
          0.2414852143683241,
          0.006390646542133527,
          0.5723126961170776,
          0.2461944338941451,
          0.6444784771533165,
          1.0667491323176446,
          0.9602923538962892,
          0.6067624385119591,
          0.3401376819517867,
          0.3088016884260652,
          0.48626547590240915,
          0.9050351619830967,
          0.2680340596886555,
          -0.018102689106393764,
          -0.2224604434664759,
          -0.022081468776731852,
          5.053154821160688,
          0.94430553465199,
          -3.303709616269873,
          -3.0200359963514383,
          -0.015202711930938218,
          -2.724411779030376,
          0.6159705656213789,
          -3.1864158497374935,
          -1.440593543336989,
          -0.2652493769110342,
          0.6392750138695271,
          -0.2971914925081514,
          -0.31490581977391763,
          0.639104380371063,
          -1.7047508477503417,
          0.19007448543841335,
          -0.4948689314213991,
          -1.2482025717501326,
          -0.2003179470305163,
          0.7893847222083087,
          0.5615146363821342,
          -0.15384844873398446,
          0.09033804198531643,
          -0.6352642844388199,
          0.5560382253738274,
          1.3370958265373403,
          0.9818993604454189,
          0.23557182646596345,
          0.00923073843182552,
          0.5589179163529352,
          0.25855065558678275,
          0.6641644806422546,
          1.1377609475112114,
          0.9635537491479503,
          0.618019346152536,
          0.33458849570168636,
          0.3042636538406105,
          0.47026423542828355,
          0.9320068784210989,
          0.28999708970632576,
          -0.22683012997512347,
          -0.23897275540514154,
          -0.02329862207940262,
          5.257985681246013,
          0.9525720589423775,
          -3.335459189087945,
          -2.9750953192177585,
          -0.5371404431370375,
          -2.720059629270019,
          0.6231066493660316,
          -3.3906457766825056,
          -1.3667191218024395
         ],
         "yaxis": "y"
        }
       ],
       "layout": {
        "coloraxis": {
         "colorbar": {
          "title": {
           "text": "Cluster Number"
          }
         },
         "colorscale": [
          [
           0,
           "#0d0887"
          ],
          [
           0.1111111111111111,
           "#46039f"
          ],
          [
           0.2222222222222222,
           "#7201a8"
          ],
          [
           0.3333333333333333,
           "#9c179e"
          ],
          [
           0.4444444444444444,
           "#bd3786"
          ],
          [
           0.5555555555555556,
           "#d8576b"
          ],
          [
           0.6666666666666666,
           "#ed7953"
          ],
          [
           0.7777777777777778,
           "#fb9f3a"
          ],
          [
           0.8888888888888888,
           "#fdca26"
          ],
          [
           1,
           "#f0f921"
          ]
         ]
        },
        "legend": {
         "tracegroupgap": 0
        },
        "margin": {
         "t": 60
        },
        "template": {
         "data": {
          "bar": [
           {
            "error_x": {
             "color": "#2a3f5f"
            },
            "error_y": {
             "color": "#2a3f5f"
            },
            "marker": {
             "line": {
              "color": "#E5ECF6",
              "width": 0.5
             },
             "pattern": {
              "fillmode": "overlay",
              "size": 10,
              "solidity": 0.2
             }
            },
            "type": "bar"
           }
          ],
          "barpolar": [
           {
            "marker": {
             "line": {
              "color": "#E5ECF6",
              "width": 0.5
             },
             "pattern": {
              "fillmode": "overlay",
              "size": 10,
              "solidity": 0.2
             }
            },
            "type": "barpolar"
           }
          ],
          "carpet": [
           {
            "aaxis": {
             "endlinecolor": "#2a3f5f",
             "gridcolor": "white",
             "linecolor": "white",
             "minorgridcolor": "white",
             "startlinecolor": "#2a3f5f"
            },
            "baxis": {
             "endlinecolor": "#2a3f5f",
             "gridcolor": "white",
             "linecolor": "white",
             "minorgridcolor": "white",
             "startlinecolor": "#2a3f5f"
            },
            "type": "carpet"
           }
          ],
          "choropleth": [
           {
            "colorbar": {
             "outlinewidth": 0,
             "ticks": ""
            },
            "type": "choropleth"
           }
          ],
          "contour": [
           {
            "colorbar": {
             "outlinewidth": 0,
             "ticks": ""
            },
            "colorscale": [
             [
              0,
              "#0d0887"
             ],
             [
              0.1111111111111111,
              "#46039f"
             ],
             [
              0.2222222222222222,
              "#7201a8"
             ],
             [
              0.3333333333333333,
              "#9c179e"
             ],
             [
              0.4444444444444444,
              "#bd3786"
             ],
             [
              0.5555555555555556,
              "#d8576b"
             ],
             [
              0.6666666666666666,
              "#ed7953"
             ],
             [
              0.7777777777777778,
              "#fb9f3a"
             ],
             [
              0.8888888888888888,
              "#fdca26"
             ],
             [
              1,
              "#f0f921"
             ]
            ],
            "type": "contour"
           }
          ],
          "contourcarpet": [
           {
            "colorbar": {
             "outlinewidth": 0,
             "ticks": ""
            },
            "type": "contourcarpet"
           }
          ],
          "heatmap": [
           {
            "colorbar": {
             "outlinewidth": 0,
             "ticks": ""
            },
            "colorscale": [
             [
              0,
              "#0d0887"
             ],
             [
              0.1111111111111111,
              "#46039f"
             ],
             [
              0.2222222222222222,
              "#7201a8"
             ],
             [
              0.3333333333333333,
              "#9c179e"
             ],
             [
              0.4444444444444444,
              "#bd3786"
             ],
             [
              0.5555555555555556,
              "#d8576b"
             ],
             [
              0.6666666666666666,
              "#ed7953"
             ],
             [
              0.7777777777777778,
              "#fb9f3a"
             ],
             [
              0.8888888888888888,
              "#fdca26"
             ],
             [
              1,
              "#f0f921"
             ]
            ],
            "type": "heatmap"
           }
          ],
          "heatmapgl": [
           {
            "colorbar": {
             "outlinewidth": 0,
             "ticks": ""
            },
            "colorscale": [
             [
              0,
              "#0d0887"
             ],
             [
              0.1111111111111111,
              "#46039f"
             ],
             [
              0.2222222222222222,
              "#7201a8"
             ],
             [
              0.3333333333333333,
              "#9c179e"
             ],
             [
              0.4444444444444444,
              "#bd3786"
             ],
             [
              0.5555555555555556,
              "#d8576b"
             ],
             [
              0.6666666666666666,
              "#ed7953"
             ],
             [
              0.7777777777777778,
              "#fb9f3a"
             ],
             [
              0.8888888888888888,
              "#fdca26"
             ],
             [
              1,
              "#f0f921"
             ]
            ],
            "type": "heatmapgl"
           }
          ],
          "histogram": [
           {
            "marker": {
             "pattern": {
              "fillmode": "overlay",
              "size": 10,
              "solidity": 0.2
             }
            },
            "type": "histogram"
           }
          ],
          "histogram2d": [
           {
            "colorbar": {
             "outlinewidth": 0,
             "ticks": ""
            },
            "colorscale": [
             [
              0,
              "#0d0887"
             ],
             [
              0.1111111111111111,
              "#46039f"
             ],
             [
              0.2222222222222222,
              "#7201a8"
             ],
             [
              0.3333333333333333,
              "#9c179e"
             ],
             [
              0.4444444444444444,
              "#bd3786"
             ],
             [
              0.5555555555555556,
              "#d8576b"
             ],
             [
              0.6666666666666666,
              "#ed7953"
             ],
             [
              0.7777777777777778,
              "#fb9f3a"
             ],
             [
              0.8888888888888888,
              "#fdca26"
             ],
             [
              1,
              "#f0f921"
             ]
            ],
            "type": "histogram2d"
           }
          ],
          "histogram2dcontour": [
           {
            "colorbar": {
             "outlinewidth": 0,
             "ticks": ""
            },
            "colorscale": [
             [
              0,
              "#0d0887"
             ],
             [
              0.1111111111111111,
              "#46039f"
             ],
             [
              0.2222222222222222,
              "#7201a8"
             ],
             [
              0.3333333333333333,
              "#9c179e"
             ],
             [
              0.4444444444444444,
              "#bd3786"
             ],
             [
              0.5555555555555556,
              "#d8576b"
             ],
             [
              0.6666666666666666,
              "#ed7953"
             ],
             [
              0.7777777777777778,
              "#fb9f3a"
             ],
             [
              0.8888888888888888,
              "#fdca26"
             ],
             [
              1,
              "#f0f921"
             ]
            ],
            "type": "histogram2dcontour"
           }
          ],
          "mesh3d": [
           {
            "colorbar": {
             "outlinewidth": 0,
             "ticks": ""
            },
            "type": "mesh3d"
           }
          ],
          "parcoords": [
           {
            "line": {
             "colorbar": {
              "outlinewidth": 0,
              "ticks": ""
             }
            },
            "type": "parcoords"
           }
          ],
          "pie": [
           {
            "automargin": true,
            "type": "pie"
           }
          ],
          "scatter": [
           {
            "fillpattern": {
             "fillmode": "overlay",
             "size": 10,
             "solidity": 0.2
            },
            "type": "scatter"
           }
          ],
          "scatter3d": [
           {
            "line": {
             "colorbar": {
              "outlinewidth": 0,
              "ticks": ""
             }
            },
            "marker": {
             "colorbar": {
              "outlinewidth": 0,
              "ticks": ""
             }
            },
            "type": "scatter3d"
           }
          ],
          "scattercarpet": [
           {
            "marker": {
             "colorbar": {
              "outlinewidth": 0,
              "ticks": ""
             }
            },
            "type": "scattercarpet"
           }
          ],
          "scattergeo": [
           {
            "marker": {
             "colorbar": {
              "outlinewidth": 0,
              "ticks": ""
             }
            },
            "type": "scattergeo"
           }
          ],
          "scattergl": [
           {
            "marker": {
             "colorbar": {
              "outlinewidth": 0,
              "ticks": ""
             }
            },
            "type": "scattergl"
           }
          ],
          "scattermapbox": [
           {
            "marker": {
             "colorbar": {
              "outlinewidth": 0,
              "ticks": ""
             }
            },
            "type": "scattermapbox"
           }
          ],
          "scatterpolar": [
           {
            "marker": {
             "colorbar": {
              "outlinewidth": 0,
              "ticks": ""
             }
            },
            "type": "scatterpolar"
           }
          ],
          "scatterpolargl": [
           {
            "marker": {
             "colorbar": {
              "outlinewidth": 0,
              "ticks": ""
             }
            },
            "type": "scatterpolargl"
           }
          ],
          "scatterternary": [
           {
            "marker": {
             "colorbar": {
              "outlinewidth": 0,
              "ticks": ""
             }
            },
            "type": "scatterternary"
           }
          ],
          "surface": [
           {
            "colorbar": {
             "outlinewidth": 0,
             "ticks": ""
            },
            "colorscale": [
             [
              0,
              "#0d0887"
             ],
             [
              0.1111111111111111,
              "#46039f"
             ],
             [
              0.2222222222222222,
              "#7201a8"
             ],
             [
              0.3333333333333333,
              "#9c179e"
             ],
             [
              0.4444444444444444,
              "#bd3786"
             ],
             [
              0.5555555555555556,
              "#d8576b"
             ],
             [
              0.6666666666666666,
              "#ed7953"
             ],
             [
              0.7777777777777778,
              "#fb9f3a"
             ],
             [
              0.8888888888888888,
              "#fdca26"
             ],
             [
              1,
              "#f0f921"
             ]
            ],
            "type": "surface"
           }
          ],
          "table": [
           {
            "cells": {
             "fill": {
              "color": "#EBF0F8"
             },
             "line": {
              "color": "white"
             }
            },
            "header": {
             "fill": {
              "color": "#C8D4E3"
             },
             "line": {
              "color": "white"
             }
            },
            "type": "table"
           }
          ]
         },
         "layout": {
          "annotationdefaults": {
           "arrowcolor": "#2a3f5f",
           "arrowhead": 0,
           "arrowwidth": 1
          },
          "autotypenumbers": "strict",
          "coloraxis": {
           "colorbar": {
            "outlinewidth": 0,
            "ticks": ""
           }
          },
          "colorscale": {
           "diverging": [
            [
             0,
             "#8e0152"
            ],
            [
             0.1,
             "#c51b7d"
            ],
            [
             0.2,
             "#de77ae"
            ],
            [
             0.3,
             "#f1b6da"
            ],
            [
             0.4,
             "#fde0ef"
            ],
            [
             0.5,
             "#f7f7f7"
            ],
            [
             0.6,
             "#e6f5d0"
            ],
            [
             0.7,
             "#b8e186"
            ],
            [
             0.8,
             "#7fbc41"
            ],
            [
             0.9,
             "#4d9221"
            ],
            [
             1,
             "#276419"
            ]
           ],
           "sequential": [
            [
             0,
             "#0d0887"
            ],
            [
             0.1111111111111111,
             "#46039f"
            ],
            [
             0.2222222222222222,
             "#7201a8"
            ],
            [
             0.3333333333333333,
             "#9c179e"
            ],
            [
             0.4444444444444444,
             "#bd3786"
            ],
            [
             0.5555555555555556,
             "#d8576b"
            ],
            [
             0.6666666666666666,
             "#ed7953"
            ],
            [
             0.7777777777777778,
             "#fb9f3a"
            ],
            [
             0.8888888888888888,
             "#fdca26"
            ],
            [
             1,
             "#f0f921"
            ]
           ],
           "sequentialminus": [
            [
             0,
             "#0d0887"
            ],
            [
             0.1111111111111111,
             "#46039f"
            ],
            [
             0.2222222222222222,
             "#7201a8"
            ],
            [
             0.3333333333333333,
             "#9c179e"
            ],
            [
             0.4444444444444444,
             "#bd3786"
            ],
            [
             0.5555555555555556,
             "#d8576b"
            ],
            [
             0.6666666666666666,
             "#ed7953"
            ],
            [
             0.7777777777777778,
             "#fb9f3a"
            ],
            [
             0.8888888888888888,
             "#fdca26"
            ],
            [
             1,
             "#f0f921"
            ]
           ]
          },
          "colorway": [
           "#636efa",
           "#EF553B",
           "#00cc96",
           "#ab63fa",
           "#FFA15A",
           "#19d3f3",
           "#FF6692",
           "#B6E880",
           "#FF97FF",
           "#FECB52"
          ],
          "font": {
           "color": "#2a3f5f"
          },
          "geo": {
           "bgcolor": "white",
           "lakecolor": "white",
           "landcolor": "#E5ECF6",
           "showlakes": true,
           "showland": true,
           "subunitcolor": "white"
          },
          "hoverlabel": {
           "align": "left"
          },
          "hovermode": "closest",
          "mapbox": {
           "style": "light"
          },
          "paper_bgcolor": "white",
          "plot_bgcolor": "#E5ECF6",
          "polar": {
           "angularaxis": {
            "gridcolor": "white",
            "linecolor": "white",
            "ticks": ""
           },
           "bgcolor": "#E5ECF6",
           "radialaxis": {
            "gridcolor": "white",
            "linecolor": "white",
            "ticks": ""
           }
          },
          "scene": {
           "xaxis": {
            "backgroundcolor": "#E5ECF6",
            "gridcolor": "white",
            "gridwidth": 2,
            "linecolor": "white",
            "showbackground": true,
            "ticks": "",
            "zerolinecolor": "white"
           },
           "yaxis": {
            "backgroundcolor": "#E5ECF6",
            "gridcolor": "white",
            "gridwidth": 2,
            "linecolor": "white",
            "showbackground": true,
            "ticks": "",
            "zerolinecolor": "white"
           },
           "zaxis": {
            "backgroundcolor": "#E5ECF6",
            "gridcolor": "white",
            "gridwidth": 2,
            "linecolor": "white",
            "showbackground": true,
            "ticks": "",
            "zerolinecolor": "white"
           }
          },
          "shapedefaults": {
           "line": {
            "color": "#2a3f5f"
           }
          },
          "ternary": {
           "aaxis": {
            "gridcolor": "white",
            "linecolor": "white",
            "ticks": ""
           },
           "baxis": {
            "gridcolor": "white",
            "linecolor": "white",
            "ticks": ""
           },
           "bgcolor": "#E5ECF6",
           "caxis": {
            "gridcolor": "white",
            "linecolor": "white",
            "ticks": ""
           }
          },
          "title": {
           "x": 0.05
          },
          "xaxis": {
           "automargin": true,
           "gridcolor": "white",
           "linecolor": "white",
           "ticks": "",
           "title": {
            "standoff": 15
           },
           "zerolinecolor": "white",
           "zerolinewidth": 2
          },
          "yaxis": {
           "automargin": true,
           "gridcolor": "white",
           "linecolor": "white",
           "ticks": "",
           "title": {
            "standoff": 15
           },
           "zerolinecolor": "white",
           "zerolinewidth": 2
          }
         }
        },
        "title": {
         "text": "K-means Clustering in PCA Space with 3 Clusters"
        },
        "xaxis": {
         "anchor": "y",
         "domain": [
          0,
          1
         ],
         "title": {
          "text": "Principal Component 1"
         }
        },
        "yaxis": {
         "anchor": "x",
         "domain": [
          0,
          1
         ],
         "title": {
          "text": "Principal Component 2"
         }
        }
       }
      },
      "text/html": [
       "<div>                            <div id=\"059c75ac-0006-4d11-bd00-b09c42f80c33\" class=\"plotly-graph-div\" style=\"height:525px; width:100%;\"></div>            <script type=\"text/javascript\">                require([\"plotly\"], function(Plotly) {                    window.PLOTLYENV=window.PLOTLYENV || {};                                    if (document.getElementById(\"059c75ac-0006-4d11-bd00-b09c42f80c33\")) {                    Plotly.newPlot(                        \"059c75ac-0006-4d11-bd00-b09c42f80c33\",                        [{\"customdata\":[[\"-0.806\"],[\"-0.725\"],[\"-0.645\"],[\"-0.564\"],[\"-0.483\"],[\"-0.403\"],[\"-0.322\"],[\"-0.242\"],[\"-0.161\"],[\"-0.081\"],[\"0.000\"],[\"0.081\"],[\"0.161\"],[\"0.242\"],[\"0.322\"],[\"0.403\"],[\"0.483\"],[\"0.564\"],[\"0.645\"],[\"0.725\"],[\"0.806\"],[\"0.886\"],[\"0.967\"],[\"1.048\"],[\"1.128\"],[\"1.209\"],[\"1.289\"],[\"1.370\"],[\"1.450\"],[\"1.531\"],[\"1.612\"],[\"1.692\"],[\"-1.692\"],[\"-1.612\"],[\"-1.531\"],[\"-1.450\"],[\"-1.370\"],[\"-1.289\"],[\"-1.209\"],[\"-1.128\"],[\"-1.048\"],[\"-0.967\"],[\"-0.886\"],[\"-0.806\"],[\"-0.725\"],[\"-0.645\"],[\"-0.564\"],[\"-0.483\"],[\"-0.403\"],[\"-0.322\"],[\"-0.242\"],[\"-0.161\"],[\"-0.081\"],[\"0.000\"],[\"0.081\"],[\"0.161\"],[\"0.242\"],[\"0.322\"],[\"0.403\"],[\"0.483\"],[\"0.564\"],[\"0.645\"],[\"0.725\"],[\"0.806\"],[\"0.886\"],[\"0.967\"],[\"1.048\"],[\"1.128\"],[\"1.209\"],[\"1.289\"],[\"1.370\"],[\"1.450\"],[\"1.531\"],[\"1.612\"],[\"1.692\"],[\"-1.692\"],[\"-1.612\"],[\"-1.531\"],[\"-1.450\"],[\"-1.370\"],[\"-1.289\"],[\"-1.209\"],[\"-1.128\"],[\"-1.048\"],[\"-0.967\"],[\"-0.886\"],[\"-0.806\"],[\"-0.725\"],[\"-0.645\"],[\"-0.564\"],[\"-0.483\"],[\"-0.403\"],[\"-0.322\"],[\"-0.242\"],[\"-0.161\"],[\"-0.081\"],[\"0.000\"],[\"0.081\"],[\"0.161\"],[\"0.242\"],[\"0.322\"],[\"0.403\"],[\"0.483\"],[\"0.564\"],[\"0.645\"],[\"0.725\"],[\"0.806\"],[\"0.886\"],[\"0.967\"],[\"1.048\"],[\"1.128\"],[\"1.209\"],[\"1.289\"],[\"1.370\"],[\"1.450\"],[\"1.531\"],[\"1.612\"],[\"1.692\"],[\"-1.692\"],[\"-1.612\"],[\"-1.531\"],[\"-1.450\"],[\"-1.370\"],[\"-1.289\"],[\"-1.209\"],[\"-1.128\"],[\"-1.048\"],[\"-0.967\"],[\"-0.886\"],[\"-0.806\"],[\"-0.725\"],[\"-0.645\"],[\"-0.564\"],[\"-0.483\"],[\"-0.403\"],[\"-0.322\"],[\"-0.242\"],[\"-0.161\"],[\"-0.081\"],[\"0.000\"],[\"0.081\"],[\"0.161\"],[\"0.242\"],[\"0.322\"],[\"0.403\"],[\"0.483\"],[\"0.564\"],[\"0.645\"],[\"0.725\"],[\"0.806\"],[\"0.886\"],[\"0.967\"],[\"1.048\"],[\"1.128\"],[\"1.209\"],[\"1.289\"],[\"1.370\"],[\"1.450\"],[\"1.531\"],[\"1.612\"],[\"1.692\"],[\"-1.692\"],[\"-1.612\"],[\"-1.531\"],[\"-1.450\"],[\"-1.370\"],[\"-1.289\"],[\"-1.209\"],[\"-1.128\"],[\"-1.048\"],[\"-0.967\"],[\"-0.886\"],[\"-0.806\"],[\"-0.725\"],[\"-0.645\"],[\"-0.564\"],[\"-0.483\"],[\"-0.403\"],[\"-0.322\"],[\"-0.242\"],[\"-0.161\"],[\"-0.081\"],[\"0.000\"],[\"0.081\"],[\"0.161\"],[\"0.242\"],[\"0.322\"],[\"0.403\"],[\"0.483\"],[\"0.564\"],[\"0.645\"],[\"0.725\"],[\"0.806\"],[\"0.886\"],[\"0.967\"],[\"1.048\"],[\"1.128\"],[\"1.209\"],[\"1.289\"],[\"1.370\"],[\"1.450\"],[\"1.531\"],[\"1.612\"],[\"1.692\"],[\"-1.692\"],[\"-1.612\"],[\"-1.531\"],[\"-1.450\"],[\"-1.370\"],[\"-1.289\"],[\"-1.209\"],[\"-1.128\"],[\"-1.048\"],[\"-0.967\"],[\"-0.886\"],[\"-0.806\"],[\"-0.725\"],[\"-0.645\"],[\"-0.564\"],[\"-0.483\"],[\"-0.403\"],[\"-0.322\"],[\"-0.242\"],[\"-0.161\"],[\"-0.081\"],[\"0.000\"],[\"0.081\"],[\"0.161\"],[\"0.242\"],[\"0.322\"],[\"0.403\"],[\"0.483\"],[\"0.564\"],[\"0.645\"],[\"0.725\"],[\"0.806\"],[\"0.886\"],[\"0.967\"],[\"1.048\"],[\"1.128\"],[\"1.209\"],[\"1.289\"],[\"1.370\"],[\"1.450\"],[\"1.531\"],[\"1.612\"],[\"1.692\"],[\"-1.692\"],[\"-1.612\"],[\"-1.531\"],[\"-1.450\"],[\"-1.370\"],[\"-1.289\"],[\"-1.209\"],[\"-1.128\"],[\"-1.048\"],[\"-0.967\"],[\"-0.886\"],[\"-0.806\"],[\"-0.725\"],[\"-0.645\"],[\"-0.564\"],[\"-0.483\"],[\"-0.403\"],[\"-0.322\"],[\"-0.242\"],[\"-0.161\"],[\"-0.081\"],[\"0.000\"],[\"0.081\"],[\"0.161\"],[\"0.242\"],[\"0.322\"],[\"0.403\"],[\"0.483\"],[\"0.564\"],[\"0.645\"],[\"0.725\"],[\"0.806\"],[\"0.886\"],[\"0.967\"],[\"1.048\"],[\"1.128\"],[\"1.209\"],[\"1.289\"],[\"1.370\"],[\"1.450\"],[\"1.531\"],[\"1.612\"],[\"1.692\"],[\"-1.692\"],[\"-1.612\"],[\"-1.531\"],[\"-1.450\"],[\"-1.370\"],[\"-1.289\"],[\"-1.209\"],[\"-1.128\"],[\"-1.048\"],[\"-0.967\"],[\"-0.886\"],[\"-0.806\"],[\"-0.725\"],[\"-0.645\"],[\"-0.564\"],[\"-0.483\"],[\"-0.403\"],[\"-0.322\"],[\"-0.242\"],[\"-0.161\"],[\"-0.081\"],[\"0.000\"],[\"0.081\"],[\"0.161\"],[\"0.242\"],[\"0.322\"],[\"0.403\"],[\"0.483\"],[\"0.564\"],[\"0.645\"],[\"0.725\"],[\"0.806\"],[\"0.886\"],[\"0.967\"],[\"1.048\"],[\"1.128\"],[\"1.209\"],[\"1.289\"],[\"1.370\"],[\"1.450\"],[\"1.531\"],[\"1.612\"],[\"1.692\"],[\"-1.692\"],[\"-1.612\"],[\"-1.531\"],[\"-1.450\"],[\"-1.370\"],[\"-1.289\"],[\"-1.209\"],[\"-1.128\"],[\"-1.048\"],[\"-0.967\"],[\"-0.886\"],[\"-0.806\"],[\"-0.725\"],[\"-0.645\"],[\"-0.564\"],[\"-0.483\"],[\"-0.403\"],[\"-0.322\"],[\"-0.242\"],[\"-0.161\"],[\"-0.081\"],[\"0.000\"],[\"0.081\"],[\"0.161\"],[\"0.242\"],[\"0.322\"],[\"0.403\"],[\"0.483\"],[\"0.564\"],[\"0.645\"],[\"0.725\"],[\"0.806\"],[\"0.886\"],[\"0.967\"],[\"1.048\"],[\"1.128\"],[\"1.209\"],[\"1.289\"],[\"1.370\"],[\"1.450\"],[\"1.531\"],[\"1.612\"],[\"1.692\"],[\"-1.692\"],[\"-1.612\"],[\"-1.531\"],[\"-1.450\"],[\"-1.370\"],[\"-1.289\"],[\"-1.209\"],[\"-1.128\"],[\"-1.048\"],[\"-0.967\"],[\"-0.886\"],[\"-0.806\"],[\"-0.725\"],[\"-0.645\"],[\"-0.564\"],[\"-0.483\"],[\"-0.403\"],[\"-0.322\"],[\"-0.242\"],[\"-0.161\"],[\"-0.081\"],[\"0.000\"],[\"0.081\"],[\"0.161\"],[\"0.242\"],[\"0.322\"],[\"0.403\"],[\"0.483\"],[\"0.564\"],[\"0.645\"],[\"0.725\"],[\"0.806\"],[\"0.886\"],[\"0.967\"],[\"1.048\"],[\"1.128\"],[\"1.209\"],[\"1.289\"],[\"1.370\"],[\"1.450\"],[\"1.531\"],[\"1.612\"],[\"1.692\"],[\"-1.692\"],[\"-1.612\"],[\"-1.531\"],[\"-1.450\"],[\"-1.370\"],[\"-1.289\"],[\"-1.209\"],[\"-1.128\"],[\"-1.048\"],[\"-0.967\"],[\"-0.886\"],[\"-0.806\"],[\"-0.725\"],[\"-0.645\"],[\"-0.564\"],[\"-0.483\"],[\"-0.403\"],[\"-0.322\"],[\"-0.242\"],[\"-0.161\"],[\"-0.081\"],[\"0.000\"],[\"0.081\"],[\"0.161\"],[\"0.242\"],[\"0.322\"],[\"0.403\"],[\"0.483\"],[\"0.564\"],[\"0.645\"],[\"0.725\"],[\"0.806\"],[\"0.886\"],[\"0.967\"],[\"1.048\"],[\"1.128\"],[\"1.209\"],[\"1.289\"],[\"1.370\"],[\"1.450\"],[\"1.531\"],[\"1.612\"],[\"1.692\"],[\"-1.692\"],[\"-1.612\"],[\"-1.531\"],[\"-1.450\"],[\"-1.370\"],[\"-1.289\"],[\"-1.209\"],[\"-1.128\"],[\"-1.048\"],[\"-0.967\"],[\"-0.886\"],[\"-0.806\"],[\"-0.725\"],[\"-0.645\"],[\"-0.564\"],[\"-0.483\"],[\"-0.403\"],[\"-0.322\"],[\"-0.242\"],[\"-0.161\"],[\"-0.081\"],[\"0.000\"],[\"0.081\"],[\"0.161\"],[\"0.242\"],[\"0.322\"],[\"0.403\"],[\"0.483\"],[\"0.564\"],[\"0.645\"],[\"0.725\"],[\"0.806\"],[\"0.886\"],[\"0.967\"],[\"1.048\"],[\"1.128\"],[\"1.209\"],[\"1.289\"],[\"1.370\"],[\"1.450\"],[\"1.531\"],[\"1.612\"],[\"1.692\"],[\"-1.692\"],[\"-1.612\"],[\"-1.531\"],[\"-1.450\"],[\"-1.370\"],[\"-1.289\"],[\"-1.209\"],[\"-1.128\"],[\"-1.048\"],[\"-0.967\"],[\"-0.886\"]],\"hovertemplate\":\"Principal Component 1=%{x}<br>Principal Component 2=%{y}<br>Country=%{customdata[0]}<br>Cluster Number=%{marker.color}<extra></extra>\",\"legendgroup\":\"\",\"marker\":{\"color\":[0,0,0,0,0,1,0,0,0,0,0,0,0,0,0,0,0,0,0,0,0,0,0,0,0,0,0,0,0,0,0,0,0,0,2,0,1,1,0,1,0,1,1,0,0,0,0,0,1,0,0,0,0,0,0,0,0,0,0,0,0,0,0,0,0,0,0,0,0,0,0,0,0,0,0,0,0,2,0,1,1,0,1,0,1,1,0,0,0,0,0,1,0,0,0,0,0,0,0,0,0,0,0,0,0,0,0,0,0,0,0,0,0,0,0,0,0,0,0,0,2,0,1,1,0,1,0,1,1,0,0,0,0,0,1,0,0,0,0,0,0,0,0,0,0,0,0,0,0,0,0,0,0,0,0,0,0,0,0,0,0,0,0,2,0,1,1,0,1,0,1,1,0,0,0,0,0,1,0,0,0,0,0,0,0,0,0,0,0,0,0,0,0,0,0,0,0,0,0,0,0,0,0,0,0,0,2,0,1,1,0,1,0,1,1,0,0,0,0,0,1,0,0,0,0,0,0,0,0,0,0,0,0,0,0,0,0,0,0,0,0,0,0,0,0,0,0,0,0,2,0,1,1,0,1,0,1,1,0,0,0,0,0,1,0,0,0,0,0,0,0,0,0,0,0,0,0,0,0,0,0,0,0,0,0,0,0,0,0,0,0,0,2,0,1,1,0,1,0,1,1,0,0,0,1,0,1,0,0,0,0,0,0,0,0,0,0,0,0,0,0,0,0,0,0,0,0,0,0,0,0,0,0,0,0,2,0,1,1,0,1,0,1,1,0,0,0,1,0,1,0,0,0,0,0,0,0,0,0,0,0,0,0,0,0,0,0,0,0,0,0,0,0,0,0,0,0,0,2,0,1,1,0,1,0,1,1,0,0,0,1,0,1,0,0,0,0,0,0,0,0,0,0,0,0,0,0,0,0,0,0,0,0,0,0,0,0,0,0,0,0,2,0,1,1,0,1,0,1,1,0,0,0,1,0,1,0,0,0,0,0,0,0,0,0,0,0,0,0,0,0,0,0,0,0,0,0,0,0,0,0,0,0,0,2,0,1,1,0,1,0,1,1,0,0,0,1,0,1,0,0,0,0,0,0,0,0,0,0,0,0,0,0,0,0,0,0,0,0,0,0,0,0,0,0,0,0,2,0,1,1,0,1,0,1,1],\"coloraxis\":\"coloraxis\",\"symbol\":\"circle\"},\"mode\":\"markers\",\"name\":\"\",\"orientation\":\"v\",\"showlegend\":false,\"x\":[-0.007692617028563264,-0.587992479576772,0.4835233173127545,0.37914613951845055,-0.7492023721628248,0.2507722621405053,0.06606534887620341,-0.6891150718825501,-0.45550660276439114,-0.3832268054962345,-0.6118308419936761,-0.8347886319964914,-0.3189563687892951,-0.7283829841641608,-0.504765043085577,-0.9350355304263622,-0.829978445092531,-0.7257085438982008,-1.1524517362855948,-0.9976282710096966,-0.9412403854468353,-0.7222989046623266,-0.8706296892055406,0.15109045065676688,-1.2928542090220656,-1.0470655512754532,-1.5333984375935266,-0.701688455329878,-1.159772304504962,-1.4307556865702407,-0.769748885617859,-0.42664767457940805,0.15445107282748186,-0.2828781193959903,3.2156513933334554,0.1321641938649586,1.5047408505727637,0.5821793413177853,-0.17712888508688052,0.5216811976925575,0.1945706970511903,2.755141401941436,1.3197549911580784,-0.19201472536370331,-0.537371378761098,0.3971348540519937,0.799218460866057,-0.771703114896728,0.1263185178002042,0.1282799746497834,-0.5229600731162105,-0.4159245036814233,-0.25289860933409514,-0.638165169886574,-0.833853951026644,-0.36265130120359945,-0.8523715195839818,-0.567784925293003,-0.8836421662675178,-0.766360608729537,-0.7019778009172033,-1.052453412806418,-1.008009498569825,-0.9825355316152323,-0.5254356933370578,-0.9703071698598869,0.03656114579758993,-1.2583567767555393,-1.0995961946763373,-1.4318132663412748,-0.7259874355216858,-1.117950860246347,-1.4016741505982078,-0.851786341515876,-0.17171269095907946,0.23510216081006985,-0.24254447951109662,4.803267818466001,0.0653995327052745,1.969445369438166,0.6020997461352274,-0.08997855687837039,0.9188473882921383,-0.13429199164004268,2.4448032132756126,1.9609586867923616,-0.24086339539695129,-0.5356592574194537,0.3179208594013458,0.536188210430264,-0.8011579323417087,0.020273283426254476,0.023033662726933773,-0.5300343054784658,-0.4068570280407691,-0.2731275114155774,-0.5175052024505663,-0.8050124948851834,-0.3120534183974568,-0.7914981313586125,-0.6051677410167793,-0.9137013645583069,-0.6911925463723598,-0.5112301952430822,-0.9974235682419256,-0.9865374512136538,-0.9839513249488533,-0.483926745382439,-1.1285268009236065,0.7332408993777612,-1.1699720761968657,-1.1812468725625507,-1.3729964770727994,-0.7014645978314344,-0.7833392493839004,-1.394494586148052,-0.7846172083935106,-0.37294188339281187,0.38071835969868395,-0.31773186133698905,5.670456918733059,0.10352518024020115,2.012570558162671,0.7654247869275224,0.3266666702044126,0.9682873678180152,-0.20313061563395293,2.5454795627645908,1.8692716161413656,-0.2530553084462995,-0.5233729454957818,0.3199581026143136,0.8070161838065811,-0.8023612219552475,0.023673671442376174,0.034148298501293674,-0.5282658760629478,-0.4116130233955918,-0.27923309856445305,-0.47558979343403046,-0.7919017371820294,-0.27222622018696235,-0.804839154575716,-0.6119377363246356,-0.9027408557135059,-0.7352832604121173,-0.44418733037346836,-1.0070395472202902,-0.9827506011111524,-0.9341682621367531,-0.4452036955500104,-1.1377954227176392,0.6024834319345718,-1.1507111759184483,-1.1616592098785636,-1.3726589933000375,-0.5455288849844755,-0.7973194393825047,-1.3768813477905368,-0.6694075857942591,-0.1655676010933601,0.359068972221106,-0.32004247372945605,6.208729032317673,0.2924557557975206,1.9816479265753222,0.8318318895321628,0.38753982815257526,0.9225947406957128,-0.2180922759682336,2.647200042234573,1.9973747812713192,-0.31421160357935335,-0.5477057220882731,0.32422223279286255,0.7610686877367492,-0.8024806982775189,0.032262397183326436,0.014064624644630885,-0.5139748404774586,-0.40797751876161464,-0.25898752806232006,-0.4703194934204839,-0.7940736884086325,-0.256306614280719,-0.6938371473998901,-0.611480006323178,-0.9188598185390688,-0.7208778036869389,-0.45432621932716266,-0.9949534995498563,-0.9837672841330256,-0.942662053353213,-0.42759230680668314,-1.2122782334188165,0.5351900728065441,-1.138290046499749,-1.1582984218015024,-1.3000488865520405,-0.5437667518897755,-0.7765449712786152,-1.366672476700854,-0.6629972589296802,-0.2650136451789556,0.29820050089427236,-0.32006748871627033,6.647723484631948,0.31772720914772207,2.0602043385227597,0.7887916795828398,0.3679818550418488,0.9466165981592355,-0.23528872201615753,2.645704302587078,2.0057354762939976,-0.30085404767098034,-0.5508253603071609,0.3569087352045294,0.969982427647647,-0.8043583035394878,0.02564864856683241,0.07153279888636617,-0.5230139752413381,-0.4081213642627865,-0.26278226379371,-0.46607147002463556,-0.8022133111027877,-0.24702897654189424,-0.7098771048813652,-0.6105608434811826,-0.9078349686079452,-0.6522233783774075,-0.5083534770198361,-0.9913596579498392,-0.9800851171647468,-0.9502496914414647,-0.4354206438256044,-1.2284350245511337,0.7989621670977971,-1.1129697093875008,-1.157844162361467,-1.2999083496058133,-0.5169139381916573,-0.7497119220975955,-1.3478887693081207,-0.6184631488692913,-0.23364647874681543,0.32317898249582,-0.3235516276759638,7.005237110711696,0.6446988479798547,2.2752575300501268,0.7770902594692727,0.3143953984788502,1.0016847617513944,-0.20354358783168428,2.3790416505292478,2.0996268177094404,-0.2789457413972999,-0.5370604519454625,0.4052522456389519,1.4854716405263393,-0.7995795049022024,0.023892649927595648,0.07769887664917463,-0.5257456029860625,-0.4084341916716944,-0.2879259872722834,-0.421552127785346,-0.7956099199448381,-0.30693606314076877,-0.6999713933422957,-0.6168826850933713,-0.9015681168326537,-0.6271511720654867,-0.5347132626899588,-1.011548024912371,-0.9654048646493232,-0.9341885392169821,-0.4187355817336498,-1.2160878576134895,0.9889077127624747,-1.0796143013949753,-1.1422578423207013,-1.2960843978769971,-0.5595328242257894,-0.6855494268348318,-1.3261772920842871,-0.5910331600797754,-0.22919289701774734,0.3576825537951039,-0.12411572404735291,7.458593083480699,0.8558744359372267,2.3746429791938626,0.8133985724296742,0.34537431012412706,0.9794337283734739,0.026854343838147266,2.338744305469457,2.3551431752580774,-0.23774676255604207,-0.5281380002323056,0.5569083151105734,1.3273169146255275,-0.7979564715282564,0.021306045384004713,0.1854040803929686,-0.5286601151840613,-0.3005393858156645,-0.2670905851620725,-0.42139454838103646,-0.7881349712763449,-0.29843934370860714,-0.6988935851903374,-0.6188611243595005,-0.8918935768537006,-0.5575326074115945,-0.5421444761223357,-1.021826498830051,-0.8757070979958415,-0.9262405724981977,-0.37601454154167663,-1.1909069145954863,1.2068900169818637,-1.072729515948612,-1.1273827906816867,-1.295711515079681,-0.4896572112193394,-0.6004872142685136,-1.3019932900520117,-0.6730544697140323,-0.27260119813793576,0.27762518456157004,-0.11134018088329513,7.42558250282926,0.7340934085357637,2.259335054666974,0.8025779119217218,0.2730678641552727,0.9378846637130445,0.23322427422847164,2.2627195949827428,2.2651970750646226,-0.24621242662602683,-0.5170436877077913,0.6580760857569387,1.4019238447509952,-0.7968545076483206,0.01769123650855694,0.26227155737819974,-0.536404239002527,-0.23720276782221852,-0.2446114081707634,-0.39014402662361825,-0.7681859741786081,-0.3438802021904255,-0.7013248588650738,-0.6251343538495784,-0.886595497982687,-0.5575332483988021,-0.491782128008638,-1.018623033351707,-0.8710881820275992,-0.9826333242086619,-0.2702087748183064,-1.1678706038708075,1.711438142942086,-1.0159276585898238,-1.1437811126170785,-1.2937059990942799,-0.4235259461307586,-0.46625939337817573,-1.2660954727592795,-0.5801726755969003,-0.2983815991292106,0.3617004296234163,-0.11161244884777183,8.195748037712072,0.8593025091894555,2.3784836660095037,0.8016490154620443,0.2506524093325972,0.9957002735899217,0.3165424895068269,2.319037521794377,2.372984788158902,-0.24403295371306666,-0.5011318074706802,0.6604430361177017,1.5736708962544377,-0.8077955399608662,0.020349776551947484,0.26852357437854957,-0.46375995792964064,-0.27654067526616444,-0.2372448660671398,-0.42366398161714375,-0.7628986420486301,-0.3730653369100318,-0.684628928997567,-0.6313609075988555,-0.8813164203699891,-0.5362795724014681,-0.4398107905208841,-1.0137658921650392,-0.8666855049315546,-0.9638600213704254,-0.026552605653419527,-1.1749393144478562,1.680415479060789,-0.9935139808671011,-1.126485577314447,-1.2907819472532291,-0.3509114013435123,-0.5375039227465712,-1.2305963674566383,-0.5460667284606429,-0.2006263663387506,0.3745514894636184,-0.1155885475223293,8.22834431893937,1.142206193302949,2.514312630437054,1.012849539293941,0.33468786715751714,1.0393696392449756,0.285079201494637,2.2917012423679406,2.5839149272804245,-0.603155903655783,-0.531198101970555,0.6514448201232134,1.516207339755903,-0.8042173878242386,0.020807062960937792,0.25261407127705104,-0.46354469852121605,-0.27404007401018254,-0.24312591443891857,-0.43744346467671,-0.7643873163214099,-0.3273175905842421,-0.6931988172936729,-0.6371131386259345,-0.875177769234346,-0.5009466759585716,-0.43322917353637813,-1.0134905590898209,-0.8694372142119321,-0.9362419229186637,-0.028207008359989967,-1.1734001206465003,1.6243942250953363,-0.9605213235403331,-1.1195080256153027,-1.2902364670485378,-0.3404654903626386,-0.4212380881912453,-1.161751038638085,-0.6137290967463549,-0.3016633789716237,0.43451581621393265,-0.2580841973675986,8.100050753522682,1.1227968552016019,2.632049007974324,1.0106282716745076,0.41795487453031277,1.0513663935040185,0.38973496178238254,2.2354957132935733,2.716617274463172,-0.602256756031027,-0.5393933293598667,0.6408461543060164,1.6028464435380643,-0.7991349394296036,0.01881276262358314,0.2556958255246752,-0.45523378320259955,-0.2810050209564347,-0.2429834671716199,-0.46396014513873646,-0.7679547919155176,-0.29477137006646775,-0.7009194175246182,-0.6363719027150709,-0.8843913470358707,-0.5395189112461649,-0.406769317052386,-1.0122068084932827,-0.8626984223275069,-0.9449798615507573,-0.009324619018367945,-1.15371386063835,1.8411239812805533,-0.9472723428100902,-1.135394214095414,-1.2863602591222216,-0.3628643200812754,-0.4334712159569142,-1.11404080212437,-0.5689587266126273,-0.3850396912447661,0.42128605950269254,-0.24663796752391814,8.193483308041555,1.1369624002268401,2.578413323062321,1.0942800679477098,0.6814684535216965,1.0420126824237967,0.42874504181276896,2.207933359762147,2.825433615577927],\"xaxis\":\"x\",\"y\":[-0.26943735129682456,0.6128617709513446,-0.28678936791100806,-0.1842973990177462,0.6453735281028659,-2.1833888168433124,0.6431638544893543,0.16209515496934895,-0.778879327301917,0.1713281994703368,0.7226675419502668,0.47862946796063205,-0.2988719133994495,0.18549272407294648,-0.9153423663743617,0.6685829361996263,1.1503974514019824,1.0459384089281896,0.5935216567185531,0.09364707165326079,0.4017791898589695,0.39910801021433506,0.4030979562522765,0.9158409646476144,0.7375857724830183,0.15415770834125544,1.000977849409355,0.25849353761227917,0.14275499738107306,0.7146470596580993,-0.06480643422735807,-0.056138688152965036,-0.20302278443652536,0.40203650197304913,2.3955118680052894,0.4760808972195705,-1.7218430014564212,-2.0359814729233214,0.5990853454569903,-1.4627341149397035,0.8580022702416158,-2.745484692953675,-1.3248863024146584,-0.2539380500876706,0.6447832266793735,-0.2629867642647813,-0.18994346277107949,0.6387239045076352,-1.9298153047999436,0.09785130132247219,-0.3025587056573163,-0.9163315823987029,-0.20962460434132113,0.7462934294168565,0.5119191654329901,-0.2468658081834379,0.40592451049182393,-0.7831427061577533,0.49905334710602345,1.2085582933791899,0.8069693778823623,0.36633785828961507,0.19033768431524295,0.42718500696511924,0.28826738949621505,0.4422259954700334,0.6522214712663966,0.7888199298136261,0.25337435476706416,0.7468859120468403,0.20954182060409351,0.38817507602053763,0.7569933417965145,0.20007735480933594,-0.15887010293243137,-0.020432645161171343,0.4248326204052748,3.449666905298288,0.4468347870517914,-3.439054477365432,-1.8495783269890838,0.6368014999586903,-2.6696888380864574,0.7843897312403466,-2.9106501185657416,-1.4778879438101242,-0.34769711363208494,0.6507522784027614,-0.42040730814409866,-0.3326501604165242,0.6243618461602346,-1.7048342034561337,0.298684902297663,-0.28477092613944893,-0.8920656043010687,-0.18369151157437394,0.9612243431751428,0.5438810438645008,-0.11765890365116122,0.2494939414096274,-0.6958662469179815,0.544024501968556,1.3425911200895155,1.7275523221301463,0.18481554245391096,0.2007970572339797,0.4465246702363958,0.15001992671070669,0.39310732109103197,0.3724239609310123,0.851844563227606,0.5850949117168274,0.5594000971785014,0.2971727753947227,0.18200139759031436,0.7610406795957854,0.5409866832519037,0.3008903592893053,-0.3814215320136828,0.4060413706401453,3.6396245197958987,0.4675592770474962,-3.786313390358951,-2.2844109876791023,-0.05231612756669332,-2.642552703824084,0.7583985724890107,-2.862906651656632,-1.530266853992737,-0.3787094852606911,0.6452269278557888,-0.4166219276536978,-0.18043416904167658,0.6245425774349493,-1.703409589200933,0.3142573595579447,-0.28545986416052427,-0.901714435061189,-0.18055359200753435,0.8857954347529173,0.5538345589759421,-0.10074034845123853,0.30793631213760214,-0.6775828628333768,0.5436501791311351,1.3578037669727643,1.8987484682813986,0.20871296746658197,0.18950634548672193,0.4686850841805261,0.10059487070202952,0.39403029285879354,0.2944367743842186,0.8545135449975145,0.5820002916018248,0.5595611541277165,0.1868152292343773,0.12064222350502536,0.7644149238324663,0.3534230397893854,0.12435921944401786,-0.39057824252366774,0.4023237104815927,3.872883597088211,0.5542493797872267,-3.6467402795242463,-2.4964700935004234,-0.02464147787285234,-2.5579123568232665,0.7591559976653303,-2.813265985099306,-1.4768481077047924,-0.35029351614875676,0.6400410147386572,-0.4422845595896001,-0.19942384162354843,0.6244631815081777,-1.6997907831285537,0.2727385776565661,-0.2987770471752918,-0.8989201294483739,-0.1594733182871854,0.8681267376319594,0.5518241406141485,-0.09320821593506409,0.07643515959827668,-0.6886437394163862,0.5373493742785281,1.379226504724164,2.3223076770352864,0.2059133342306118,0.19050356130322987,0.47987051308196393,0.1294520643657742,0.6314491852598418,0.2513350240629235,0.8723678651776643,0.5883101783367357,0.35314470553206956,0.22669323432101557,0.12505329413614688,0.7719122322714664,0.10842745354908044,-0.04628298437372149,-0.41244226583550225,0.4030934582722397,4.144684405467477,0.571590454271258,-3.6088186451129785,-2.4366841991489836,-0.038716859460675476,-2.546050880639674,0.7505970889507052,-2.8151925221230956,-1.8101138005551864,-0.354023523127152,0.643475521707043,-0.413191594431049,-0.10537656696760234,0.6222260681472515,-1.7025793380414422,0.2934680874944708,-0.28420465984475995,-0.8684887031813423,-0.19649087459917947,0.8450742606369037,0.5497906742970248,-0.11396002866322952,0.08695691074638676,-0.6654610096421225,0.5578911708531384,1.4095481761799549,1.920381017313785,0.20742746051857794,0.20213653861218622,0.47644234061327617,0.10406009353362031,0.6194556495024929,0.37976590146851763,0.8875218281048448,0.5849467655249291,0.35321350781134525,0.03979430113956838,0.3656917854073793,0.7812477106220638,0.1023251314024506,-0.018783234531550695,-0.40402238031190807,0.40349487824094166,4.371089486822745,0.7316056007105187,-3.4885178513634454,-2.4395109941031827,-0.055784737086971715,-2.5238793878755597,0.7574141822732113,-2.9379692510946596,-1.766932817086753,-0.34520460986033646,0.6413366580473631,-0.39608176940823525,-0.06834774214577923,0.6271528232829489,-1.703320708861912,0.293625917157682,-0.2857988806803198,-0.9003706369833289,-0.14752655448732407,0.8394057276117446,0.5486046778060978,-0.1385905944844726,0.09045109715166028,-0.6705256561464831,0.55371679668504,1.3884884212952808,2.13539347386594,0.2304664404409634,0.2083119863316472,0.49332019192016513,0.3327993899205211,0.6252176345392068,0.47129620795427596,0.9114423800549227,0.5893162354136824,0.34836214915776254,0.23339205525447093,0.3716577213407287,0.8213815828178507,0.13745234810658818,0.017593508749965223,-0.3894621255379173,-0.05832684918868703,4.595411853697289,0.8211090147084223,-3.4527387096218494,-2.4234895507511833,-0.04388245513546452,-2.5322370928143876,0.45527631910044913,-2.957251306945153,-1.6396951198636838,-0.3282654009832128,0.6468600707473385,-0.35077225978720467,-0.6465983944159778,0.6266056720937078,-1.7044260025214326,0.13867003762014518,-0.2870363956366023,-1.2570404272602975,-0.1613245441637962,0.8060842405855316,0.5494680453461794,-0.13564374352341801,0.09475723397892528,-0.6586926026852518,0.5586946190173621,1.4549781139982398,1.9627060040221285,0.24585694917774953,-0.007020436170129333,0.5323927856662316,0.34446407004082447,0.6354714027888495,0.5652218595341875,0.9012170793996366,0.5991114548712932,0.3456879039612623,0.2773869751041313,0.41159675530639367,0.8400521069192682,0.06531802205631296,-0.06704780943502016,-0.35652864756692965,-0.04587853548862583,4.654426299471108,0.7749074651507416,-3.5128220509578054,-2.4256438104076636,-0.07857890057634292,-2.544387341480724,0.5144277286808918,-3.183346702453948,-1.6587712389739646,-0.3228713353910759,0.6522372241142355,-0.3145433555424937,-0.57171570345487,0.6314299000960061,-1.7059006856059653,0.18251550273853112,-0.29028852719425274,-1.424312590233836,-0.17852141758207205,0.8171767650423616,0.5566849732572253,-0.15426162724137388,0.08704517274963253,-0.6519493988386388,0.551562192599645,1.4406955669297041,1.924543247612981,0.2457766303386829,0.005704790960178546,0.560679024630613,0.387841383028072,0.651342070066002,1.1106287414646159,0.9271085591435007,0.6021124399651093,0.34796482476456475,0.2891258368864545,0.45324469051536964,0.8533597557344348,0.11213697837952093,-0.024547385526951678,-0.31765977604909984,-0.05048605588487782,5.079482687968426,0.8214721995658294,-3.4403397380568816,-2.425807712009772,-0.08586715760576585,-2.753640402493533,0.5671486413451906,-3.156030406533974,-1.6136629839629708,-0.3214994768386642,0.6610677863254306,-0.2982850860953388,-0.44462879051454973,0.6286810759798768,-1.7047983935089763,0.1903747056877192,-0.49775759790731744,-1.2415812234149575,-0.1424773387774595,0.8358719565079746,0.5584920866557006,-0.18897892108313877,0.09690408947446252,-0.6355433536645718,0.5659076769817295,1.3802323763356579,1.5268323355203048,0.24137198406981883,0.0075462866899562815,0.5834848962664976,0.2727087899204001,0.6502098093666135,1.1142295739888985,0.9436336723649029,0.6175782453129093,0.3398817888552401,0.3257202934131931,0.417768614645521,0.8747518953268708,0.29906413611969446,-0.05167442070302472,-0.317222660855712,-0.03939808706340356,5.146893672618001,0.9568129081097657,-3.3626053079530047,-3.0160827882955767,-0.0514058781126848,-2.736892143155521,0.583545591812891,-3.1654871309511554,-1.5200763530167212,-0.2722938769281635,0.6548093991248534,-0.3129258904059417,-0.38767252812951913,0.6325132842940205,-1.7046159471510205,0.1825535851026966,-0.49694682205594737,-1.2374207444423655,-0.12138198148601005,0.8173989517803978,0.5703688478927218,-0.1701194495416293,0.09505636404063986,-0.6461016400594832,0.5598740573166399,1.4067906429635955,1.032250435847531,0.2414852143683241,0.006390646542133527,0.5723126961170776,0.2461944338941451,0.6444784771533165,1.0667491323176446,0.9602923538962892,0.6067624385119591,0.3401376819517867,0.3088016884260652,0.48626547590240915,0.9050351619830967,0.2680340596886555,-0.018102689106393764,-0.2224604434664759,-0.022081468776731852,5.053154821160688,0.94430553465199,-3.303709616269873,-3.0200359963514383,-0.015202711930938218,-2.724411779030376,0.6159705656213789,-3.1864158497374935,-1.440593543336989,-0.2652493769110342,0.6392750138695271,-0.2971914925081514,-0.31490581977391763,0.639104380371063,-1.7047508477503417,0.19007448543841335,-0.4948689314213991,-1.2482025717501326,-0.2003179470305163,0.7893847222083087,0.5615146363821342,-0.15384844873398446,0.09033804198531643,-0.6352642844388199,0.5560382253738274,1.3370958265373403,0.9818993604454189,0.23557182646596345,0.00923073843182552,0.5589179163529352,0.25855065558678275,0.6641644806422546,1.1377609475112114,0.9635537491479503,0.618019346152536,0.33458849570168636,0.3042636538406105,0.47026423542828355,0.9320068784210989,0.28999708970632576,-0.22683012997512347,-0.23897275540514154,-0.02329862207940262,5.257985681246013,0.9525720589423775,-3.335459189087945,-2.9750953192177585,-0.5371404431370375,-2.720059629270019,0.6231066493660316,-3.3906457766825056,-1.3667191218024395],\"yaxis\":\"y\",\"type\":\"scatter\"}],                        {\"template\":{\"data\":{\"histogram2dcontour\":[{\"type\":\"histogram2dcontour\",\"colorbar\":{\"outlinewidth\":0,\"ticks\":\"\"},\"colorscale\":[[0.0,\"#0d0887\"],[0.1111111111111111,\"#46039f\"],[0.2222222222222222,\"#7201a8\"],[0.3333333333333333,\"#9c179e\"],[0.4444444444444444,\"#bd3786\"],[0.5555555555555556,\"#d8576b\"],[0.6666666666666666,\"#ed7953\"],[0.7777777777777778,\"#fb9f3a\"],[0.8888888888888888,\"#fdca26\"],[1.0,\"#f0f921\"]]}],\"choropleth\":[{\"type\":\"choropleth\",\"colorbar\":{\"outlinewidth\":0,\"ticks\":\"\"}}],\"histogram2d\":[{\"type\":\"histogram2d\",\"colorbar\":{\"outlinewidth\":0,\"ticks\":\"\"},\"colorscale\":[[0.0,\"#0d0887\"],[0.1111111111111111,\"#46039f\"],[0.2222222222222222,\"#7201a8\"],[0.3333333333333333,\"#9c179e\"],[0.4444444444444444,\"#bd3786\"],[0.5555555555555556,\"#d8576b\"],[0.6666666666666666,\"#ed7953\"],[0.7777777777777778,\"#fb9f3a\"],[0.8888888888888888,\"#fdca26\"],[1.0,\"#f0f921\"]]}],\"heatmap\":[{\"type\":\"heatmap\",\"colorbar\":{\"outlinewidth\":0,\"ticks\":\"\"},\"colorscale\":[[0.0,\"#0d0887\"],[0.1111111111111111,\"#46039f\"],[0.2222222222222222,\"#7201a8\"],[0.3333333333333333,\"#9c179e\"],[0.4444444444444444,\"#bd3786\"],[0.5555555555555556,\"#d8576b\"],[0.6666666666666666,\"#ed7953\"],[0.7777777777777778,\"#fb9f3a\"],[0.8888888888888888,\"#fdca26\"],[1.0,\"#f0f921\"]]}],\"heatmapgl\":[{\"type\":\"heatmapgl\",\"colorbar\":{\"outlinewidth\":0,\"ticks\":\"\"},\"colorscale\":[[0.0,\"#0d0887\"],[0.1111111111111111,\"#46039f\"],[0.2222222222222222,\"#7201a8\"],[0.3333333333333333,\"#9c179e\"],[0.4444444444444444,\"#bd3786\"],[0.5555555555555556,\"#d8576b\"],[0.6666666666666666,\"#ed7953\"],[0.7777777777777778,\"#fb9f3a\"],[0.8888888888888888,\"#fdca26\"],[1.0,\"#f0f921\"]]}],\"contourcarpet\":[{\"type\":\"contourcarpet\",\"colorbar\":{\"outlinewidth\":0,\"ticks\":\"\"}}],\"contour\":[{\"type\":\"contour\",\"colorbar\":{\"outlinewidth\":0,\"ticks\":\"\"},\"colorscale\":[[0.0,\"#0d0887\"],[0.1111111111111111,\"#46039f\"],[0.2222222222222222,\"#7201a8\"],[0.3333333333333333,\"#9c179e\"],[0.4444444444444444,\"#bd3786\"],[0.5555555555555556,\"#d8576b\"],[0.6666666666666666,\"#ed7953\"],[0.7777777777777778,\"#fb9f3a\"],[0.8888888888888888,\"#fdca26\"],[1.0,\"#f0f921\"]]}],\"surface\":[{\"type\":\"surface\",\"colorbar\":{\"outlinewidth\":0,\"ticks\":\"\"},\"colorscale\":[[0.0,\"#0d0887\"],[0.1111111111111111,\"#46039f\"],[0.2222222222222222,\"#7201a8\"],[0.3333333333333333,\"#9c179e\"],[0.4444444444444444,\"#bd3786\"],[0.5555555555555556,\"#d8576b\"],[0.6666666666666666,\"#ed7953\"],[0.7777777777777778,\"#fb9f3a\"],[0.8888888888888888,\"#fdca26\"],[1.0,\"#f0f921\"]]}],\"mesh3d\":[{\"type\":\"mesh3d\",\"colorbar\":{\"outlinewidth\":0,\"ticks\":\"\"}}],\"scatter\":[{\"fillpattern\":{\"fillmode\":\"overlay\",\"size\":10,\"solidity\":0.2},\"type\":\"scatter\"}],\"parcoords\":[{\"type\":\"parcoords\",\"line\":{\"colorbar\":{\"outlinewidth\":0,\"ticks\":\"\"}}}],\"scatterpolargl\":[{\"type\":\"scatterpolargl\",\"marker\":{\"colorbar\":{\"outlinewidth\":0,\"ticks\":\"\"}}}],\"bar\":[{\"error_x\":{\"color\":\"#2a3f5f\"},\"error_y\":{\"color\":\"#2a3f5f\"},\"marker\":{\"line\":{\"color\":\"#E5ECF6\",\"width\":0.5},\"pattern\":{\"fillmode\":\"overlay\",\"size\":10,\"solidity\":0.2}},\"type\":\"bar\"}],\"scattergeo\":[{\"type\":\"scattergeo\",\"marker\":{\"colorbar\":{\"outlinewidth\":0,\"ticks\":\"\"}}}],\"scatterpolar\":[{\"type\":\"scatterpolar\",\"marker\":{\"colorbar\":{\"outlinewidth\":0,\"ticks\":\"\"}}}],\"histogram\":[{\"marker\":{\"pattern\":{\"fillmode\":\"overlay\",\"size\":10,\"solidity\":0.2}},\"type\":\"histogram\"}],\"scattergl\":[{\"type\":\"scattergl\",\"marker\":{\"colorbar\":{\"outlinewidth\":0,\"ticks\":\"\"}}}],\"scatter3d\":[{\"type\":\"scatter3d\",\"line\":{\"colorbar\":{\"outlinewidth\":0,\"ticks\":\"\"}},\"marker\":{\"colorbar\":{\"outlinewidth\":0,\"ticks\":\"\"}}}],\"scattermapbox\":[{\"type\":\"scattermapbox\",\"marker\":{\"colorbar\":{\"outlinewidth\":0,\"ticks\":\"\"}}}],\"scatterternary\":[{\"type\":\"scatterternary\",\"marker\":{\"colorbar\":{\"outlinewidth\":0,\"ticks\":\"\"}}}],\"scattercarpet\":[{\"type\":\"scattercarpet\",\"marker\":{\"colorbar\":{\"outlinewidth\":0,\"ticks\":\"\"}}}],\"carpet\":[{\"aaxis\":{\"endlinecolor\":\"#2a3f5f\",\"gridcolor\":\"white\",\"linecolor\":\"white\",\"minorgridcolor\":\"white\",\"startlinecolor\":\"#2a3f5f\"},\"baxis\":{\"endlinecolor\":\"#2a3f5f\",\"gridcolor\":\"white\",\"linecolor\":\"white\",\"minorgridcolor\":\"white\",\"startlinecolor\":\"#2a3f5f\"},\"type\":\"carpet\"}],\"table\":[{\"cells\":{\"fill\":{\"color\":\"#EBF0F8\"},\"line\":{\"color\":\"white\"}},\"header\":{\"fill\":{\"color\":\"#C8D4E3\"},\"line\":{\"color\":\"white\"}},\"type\":\"table\"}],\"barpolar\":[{\"marker\":{\"line\":{\"color\":\"#E5ECF6\",\"width\":0.5},\"pattern\":{\"fillmode\":\"overlay\",\"size\":10,\"solidity\":0.2}},\"type\":\"barpolar\"}],\"pie\":[{\"automargin\":true,\"type\":\"pie\"}]},\"layout\":{\"autotypenumbers\":\"strict\",\"colorway\":[\"#636efa\",\"#EF553B\",\"#00cc96\",\"#ab63fa\",\"#FFA15A\",\"#19d3f3\",\"#FF6692\",\"#B6E880\",\"#FF97FF\",\"#FECB52\"],\"font\":{\"color\":\"#2a3f5f\"},\"hovermode\":\"closest\",\"hoverlabel\":{\"align\":\"left\"},\"paper_bgcolor\":\"white\",\"plot_bgcolor\":\"#E5ECF6\",\"polar\":{\"bgcolor\":\"#E5ECF6\",\"angularaxis\":{\"gridcolor\":\"white\",\"linecolor\":\"white\",\"ticks\":\"\"},\"radialaxis\":{\"gridcolor\":\"white\",\"linecolor\":\"white\",\"ticks\":\"\"}},\"ternary\":{\"bgcolor\":\"#E5ECF6\",\"aaxis\":{\"gridcolor\":\"white\",\"linecolor\":\"white\",\"ticks\":\"\"},\"baxis\":{\"gridcolor\":\"white\",\"linecolor\":\"white\",\"ticks\":\"\"},\"caxis\":{\"gridcolor\":\"white\",\"linecolor\":\"white\",\"ticks\":\"\"}},\"coloraxis\":{\"colorbar\":{\"outlinewidth\":0,\"ticks\":\"\"}},\"colorscale\":{\"sequential\":[[0.0,\"#0d0887\"],[0.1111111111111111,\"#46039f\"],[0.2222222222222222,\"#7201a8\"],[0.3333333333333333,\"#9c179e\"],[0.4444444444444444,\"#bd3786\"],[0.5555555555555556,\"#d8576b\"],[0.6666666666666666,\"#ed7953\"],[0.7777777777777778,\"#fb9f3a\"],[0.8888888888888888,\"#fdca26\"],[1.0,\"#f0f921\"]],\"sequentialminus\":[[0.0,\"#0d0887\"],[0.1111111111111111,\"#46039f\"],[0.2222222222222222,\"#7201a8\"],[0.3333333333333333,\"#9c179e\"],[0.4444444444444444,\"#bd3786\"],[0.5555555555555556,\"#d8576b\"],[0.6666666666666666,\"#ed7953\"],[0.7777777777777778,\"#fb9f3a\"],[0.8888888888888888,\"#fdca26\"],[1.0,\"#f0f921\"]],\"diverging\":[[0,\"#8e0152\"],[0.1,\"#c51b7d\"],[0.2,\"#de77ae\"],[0.3,\"#f1b6da\"],[0.4,\"#fde0ef\"],[0.5,\"#f7f7f7\"],[0.6,\"#e6f5d0\"],[0.7,\"#b8e186\"],[0.8,\"#7fbc41\"],[0.9,\"#4d9221\"],[1,\"#276419\"]]},\"xaxis\":{\"gridcolor\":\"white\",\"linecolor\":\"white\",\"ticks\":\"\",\"title\":{\"standoff\":15},\"zerolinecolor\":\"white\",\"automargin\":true,\"zerolinewidth\":2},\"yaxis\":{\"gridcolor\":\"white\",\"linecolor\":\"white\",\"ticks\":\"\",\"title\":{\"standoff\":15},\"zerolinecolor\":\"white\",\"automargin\":true,\"zerolinewidth\":2},\"scene\":{\"xaxis\":{\"backgroundcolor\":\"#E5ECF6\",\"gridcolor\":\"white\",\"linecolor\":\"white\",\"showbackground\":true,\"ticks\":\"\",\"zerolinecolor\":\"white\",\"gridwidth\":2},\"yaxis\":{\"backgroundcolor\":\"#E5ECF6\",\"gridcolor\":\"white\",\"linecolor\":\"white\",\"showbackground\":true,\"ticks\":\"\",\"zerolinecolor\":\"white\",\"gridwidth\":2},\"zaxis\":{\"backgroundcolor\":\"#E5ECF6\",\"gridcolor\":\"white\",\"linecolor\":\"white\",\"showbackground\":true,\"ticks\":\"\",\"zerolinecolor\":\"white\",\"gridwidth\":2}},\"shapedefaults\":{\"line\":{\"color\":\"#2a3f5f\"}},\"annotationdefaults\":{\"arrowcolor\":\"#2a3f5f\",\"arrowhead\":0,\"arrowwidth\":1},\"geo\":{\"bgcolor\":\"white\",\"landcolor\":\"#E5ECF6\",\"subunitcolor\":\"white\",\"showland\":true,\"showlakes\":true,\"lakecolor\":\"white\"},\"title\":{\"x\":0.05},\"mapbox\":{\"style\":\"light\"}}},\"xaxis\":{\"anchor\":\"y\",\"domain\":[0.0,1.0],\"title\":{\"text\":\"Principal Component 1\"}},\"yaxis\":{\"anchor\":\"x\",\"domain\":[0.0,1.0],\"title\":{\"text\":\"Principal Component 2\"}},\"coloraxis\":{\"colorbar\":{\"title\":{\"text\":\"Cluster Number\"}},\"colorscale\":[[0.0,\"#0d0887\"],[0.1111111111111111,\"#46039f\"],[0.2222222222222222,\"#7201a8\"],[0.3333333333333333,\"#9c179e\"],[0.4444444444444444,\"#bd3786\"],[0.5555555555555556,\"#d8576b\"],[0.6666666666666666,\"#ed7953\"],[0.7777777777777778,\"#fb9f3a\"],[0.8888888888888888,\"#fdca26\"],[1.0,\"#f0f921\"]]},\"legend\":{\"tracegroupgap\":0},\"margin\":{\"t\":60},\"title\":{\"text\":\"K-means Clustering in PCA Space with 3 Clusters\"}},                        {\"responsive\": true}                    ).then(function(){\n",
       "                            \n",
       "var gd = document.getElementById('059c75ac-0006-4d11-bd00-b09c42f80c33');\n",
       "var x = new MutationObserver(function (mutations, observer) {{\n",
       "        var display = window.getComputedStyle(gd).display;\n",
       "        if (!display || display === 'none') {{\n",
       "            console.log([gd, 'removed!']);\n",
       "            Plotly.purge(gd);\n",
       "            observer.disconnect();\n",
       "        }}\n",
       "}});\n",
       "\n",
       "// Listen for the removal of the full notebook cells\n",
       "var notebookContainer = gd.closest('#notebook-container');\n",
       "if (notebookContainer) {{\n",
       "    x.observe(notebookContainer, {childList: true});\n",
       "}}\n",
       "\n",
       "// Listen for the clearing of the current output cell\n",
       "var outputEl = gd.closest('.output');\n",
       "if (outputEl) {{\n",
       "    x.observe(outputEl, {childList: true});\n",
       "}}\n",
       "\n",
       "                        })                };                });            </script>        </div>"
      ]
     },
     "metadata": {},
     "output_type": "display_data"
    }
   ],
   "source": [
    "#| code-fold: true\n",
    "hover_data = data_standardized[['Country']]\n",
    "\n",
    "fig = px.scatter(data_standardized, x='PCA1', y='PCA2', color='cluster_number_pca', hover_data=hover_data,\n",
    "                 labels={'cluster_number_pca': 'Cluster Number', 'PCA1': 'Principal Component 1', 'PCA2': 'Principal Component 2'})\n",
    "\n",
    "fig.update_layout(title='K-means Clustering in PCA Space with 3 Clusters', xaxis_title='Principal Component 1', yaxis_title='Principal Component 2')\n",
    "fig.show()"
   ]
  },
  {
   "cell_type": "markdown",
   "metadata": {},
   "source": [
    "As you can see there are now three well defined clusters. It is interesting to note that the yellow seems to contain outliers within the data set. \n",
    "\n",
    "Below, I ran K-Means again although I changed the X axis to Marine Protected Area and Y axis to Fishing Exports. \n",
    "\n",
    "### Scatter Plot with Features"
   ]
  },
  {
   "cell_type": "code",
   "execution_count": 693,
   "metadata": {},
   "outputs": [
    {
     "data": {
      "application/vnd.plotly.v1+json": {
       "config": {
        "plotlyServerURL": "https://plot.ly"
       },
       "data": [
        {
         "customdata": [
          [
           "-0.806"
          ],
          [
           "-0.725"
          ],
          [
           "-0.645"
          ],
          [
           "-0.564"
          ],
          [
           "-0.483"
          ],
          [
           "-0.403"
          ],
          [
           "-0.322"
          ],
          [
           "-0.242"
          ],
          [
           "-0.161"
          ],
          [
           "-0.081"
          ],
          [
           "0.000"
          ],
          [
           "0.081"
          ],
          [
           "0.161"
          ],
          [
           "0.242"
          ],
          [
           "0.322"
          ],
          [
           "0.403"
          ],
          [
           "0.483"
          ],
          [
           "0.564"
          ],
          [
           "0.645"
          ],
          [
           "0.725"
          ],
          [
           "0.806"
          ],
          [
           "0.886"
          ],
          [
           "0.967"
          ],
          [
           "1.048"
          ],
          [
           "1.128"
          ],
          [
           "1.209"
          ],
          [
           "1.289"
          ],
          [
           "1.370"
          ],
          [
           "1.450"
          ],
          [
           "1.531"
          ],
          [
           "1.612"
          ],
          [
           "1.692"
          ],
          [
           "-1.692"
          ],
          [
           "-1.612"
          ],
          [
           "-1.531"
          ],
          [
           "-1.450"
          ],
          [
           "-1.370"
          ],
          [
           "-1.289"
          ],
          [
           "-1.209"
          ],
          [
           "-1.128"
          ],
          [
           "-1.048"
          ],
          [
           "-0.967"
          ],
          [
           "-0.886"
          ],
          [
           "-0.806"
          ],
          [
           "-0.725"
          ],
          [
           "-0.645"
          ],
          [
           "-0.564"
          ],
          [
           "-0.483"
          ],
          [
           "-0.403"
          ],
          [
           "-0.322"
          ],
          [
           "-0.242"
          ],
          [
           "-0.161"
          ],
          [
           "-0.081"
          ],
          [
           "0.000"
          ],
          [
           "0.081"
          ],
          [
           "0.161"
          ],
          [
           "0.242"
          ],
          [
           "0.322"
          ],
          [
           "0.403"
          ],
          [
           "0.483"
          ],
          [
           "0.564"
          ],
          [
           "0.645"
          ],
          [
           "0.725"
          ],
          [
           "0.806"
          ],
          [
           "0.886"
          ],
          [
           "0.967"
          ],
          [
           "1.048"
          ],
          [
           "1.128"
          ],
          [
           "1.209"
          ],
          [
           "1.289"
          ],
          [
           "1.370"
          ],
          [
           "1.450"
          ],
          [
           "1.531"
          ],
          [
           "1.612"
          ],
          [
           "1.692"
          ],
          [
           "-1.692"
          ],
          [
           "-1.612"
          ],
          [
           "-1.531"
          ],
          [
           "-1.450"
          ],
          [
           "-1.370"
          ],
          [
           "-1.289"
          ],
          [
           "-1.209"
          ],
          [
           "-1.128"
          ],
          [
           "-1.048"
          ],
          [
           "-0.967"
          ],
          [
           "-0.886"
          ],
          [
           "-0.806"
          ],
          [
           "-0.725"
          ],
          [
           "-0.645"
          ],
          [
           "-0.564"
          ],
          [
           "-0.483"
          ],
          [
           "-0.403"
          ],
          [
           "-0.322"
          ],
          [
           "-0.242"
          ],
          [
           "-0.161"
          ],
          [
           "-0.081"
          ],
          [
           "0.000"
          ],
          [
           "0.081"
          ],
          [
           "0.161"
          ],
          [
           "0.242"
          ],
          [
           "0.322"
          ],
          [
           "0.403"
          ],
          [
           "0.483"
          ],
          [
           "0.564"
          ],
          [
           "0.645"
          ],
          [
           "0.725"
          ],
          [
           "0.806"
          ],
          [
           "0.886"
          ],
          [
           "0.967"
          ],
          [
           "1.048"
          ],
          [
           "1.128"
          ],
          [
           "1.209"
          ],
          [
           "1.289"
          ],
          [
           "1.370"
          ],
          [
           "1.450"
          ],
          [
           "1.531"
          ],
          [
           "1.612"
          ],
          [
           "1.692"
          ],
          [
           "-1.692"
          ],
          [
           "-1.612"
          ],
          [
           "-1.531"
          ],
          [
           "-1.450"
          ],
          [
           "-1.370"
          ],
          [
           "-1.289"
          ],
          [
           "-1.209"
          ],
          [
           "-1.128"
          ],
          [
           "-1.048"
          ],
          [
           "-0.967"
          ],
          [
           "-0.886"
          ],
          [
           "-0.806"
          ],
          [
           "-0.725"
          ],
          [
           "-0.645"
          ],
          [
           "-0.564"
          ],
          [
           "-0.483"
          ],
          [
           "-0.403"
          ],
          [
           "-0.322"
          ],
          [
           "-0.242"
          ],
          [
           "-0.161"
          ],
          [
           "-0.081"
          ],
          [
           "0.000"
          ],
          [
           "0.081"
          ],
          [
           "0.161"
          ],
          [
           "0.242"
          ],
          [
           "0.322"
          ],
          [
           "0.403"
          ],
          [
           "0.483"
          ],
          [
           "0.564"
          ],
          [
           "0.645"
          ],
          [
           "0.725"
          ],
          [
           "0.806"
          ],
          [
           "0.886"
          ],
          [
           "0.967"
          ],
          [
           "1.048"
          ],
          [
           "1.128"
          ],
          [
           "1.209"
          ],
          [
           "1.289"
          ],
          [
           "1.370"
          ],
          [
           "1.450"
          ],
          [
           "1.531"
          ],
          [
           "1.612"
          ],
          [
           "1.692"
          ],
          [
           "-1.692"
          ],
          [
           "-1.612"
          ],
          [
           "-1.531"
          ],
          [
           "-1.450"
          ],
          [
           "-1.370"
          ],
          [
           "-1.289"
          ],
          [
           "-1.209"
          ],
          [
           "-1.128"
          ],
          [
           "-1.048"
          ],
          [
           "-0.967"
          ],
          [
           "-0.886"
          ],
          [
           "-0.806"
          ],
          [
           "-0.725"
          ],
          [
           "-0.645"
          ],
          [
           "-0.564"
          ],
          [
           "-0.483"
          ],
          [
           "-0.403"
          ],
          [
           "-0.322"
          ],
          [
           "-0.242"
          ],
          [
           "-0.161"
          ],
          [
           "-0.081"
          ],
          [
           "0.000"
          ],
          [
           "0.081"
          ],
          [
           "0.161"
          ],
          [
           "0.242"
          ],
          [
           "0.322"
          ],
          [
           "0.403"
          ],
          [
           "0.483"
          ],
          [
           "0.564"
          ],
          [
           "0.645"
          ],
          [
           "0.725"
          ],
          [
           "0.806"
          ],
          [
           "0.886"
          ],
          [
           "0.967"
          ],
          [
           "1.048"
          ],
          [
           "1.128"
          ],
          [
           "1.209"
          ],
          [
           "1.289"
          ],
          [
           "1.370"
          ],
          [
           "1.450"
          ],
          [
           "1.531"
          ],
          [
           "1.612"
          ],
          [
           "1.692"
          ],
          [
           "-1.692"
          ],
          [
           "-1.612"
          ],
          [
           "-1.531"
          ],
          [
           "-1.450"
          ],
          [
           "-1.370"
          ],
          [
           "-1.289"
          ],
          [
           "-1.209"
          ],
          [
           "-1.128"
          ],
          [
           "-1.048"
          ],
          [
           "-0.967"
          ],
          [
           "-0.886"
          ],
          [
           "-0.806"
          ],
          [
           "-0.725"
          ],
          [
           "-0.645"
          ],
          [
           "-0.564"
          ],
          [
           "-0.483"
          ],
          [
           "-0.403"
          ],
          [
           "-0.322"
          ],
          [
           "-0.242"
          ],
          [
           "-0.161"
          ],
          [
           "-0.081"
          ],
          [
           "0.000"
          ],
          [
           "0.081"
          ],
          [
           "0.161"
          ],
          [
           "0.242"
          ],
          [
           "0.322"
          ],
          [
           "0.403"
          ],
          [
           "0.483"
          ],
          [
           "0.564"
          ],
          [
           "0.645"
          ],
          [
           "0.725"
          ],
          [
           "0.806"
          ],
          [
           "0.886"
          ],
          [
           "0.967"
          ],
          [
           "1.048"
          ],
          [
           "1.128"
          ],
          [
           "1.209"
          ],
          [
           "1.289"
          ],
          [
           "1.370"
          ],
          [
           "1.450"
          ],
          [
           "1.531"
          ],
          [
           "1.612"
          ],
          [
           "1.692"
          ],
          [
           "-1.692"
          ],
          [
           "-1.612"
          ],
          [
           "-1.531"
          ],
          [
           "-1.450"
          ],
          [
           "-1.370"
          ],
          [
           "-1.289"
          ],
          [
           "-1.209"
          ],
          [
           "-1.128"
          ],
          [
           "-1.048"
          ],
          [
           "-0.967"
          ],
          [
           "-0.886"
          ],
          [
           "-0.806"
          ],
          [
           "-0.725"
          ],
          [
           "-0.645"
          ],
          [
           "-0.564"
          ],
          [
           "-0.483"
          ],
          [
           "-0.403"
          ],
          [
           "-0.322"
          ],
          [
           "-0.242"
          ],
          [
           "-0.161"
          ],
          [
           "-0.081"
          ],
          [
           "0.000"
          ],
          [
           "0.081"
          ],
          [
           "0.161"
          ],
          [
           "0.242"
          ],
          [
           "0.322"
          ],
          [
           "0.403"
          ],
          [
           "0.483"
          ],
          [
           "0.564"
          ],
          [
           "0.645"
          ],
          [
           "0.725"
          ],
          [
           "0.806"
          ],
          [
           "0.886"
          ],
          [
           "0.967"
          ],
          [
           "1.048"
          ],
          [
           "1.128"
          ],
          [
           "1.209"
          ],
          [
           "1.289"
          ],
          [
           "1.370"
          ],
          [
           "1.450"
          ],
          [
           "1.531"
          ],
          [
           "1.612"
          ],
          [
           "1.692"
          ],
          [
           "-1.692"
          ],
          [
           "-1.612"
          ],
          [
           "-1.531"
          ],
          [
           "-1.450"
          ],
          [
           "-1.370"
          ],
          [
           "-1.289"
          ],
          [
           "-1.209"
          ],
          [
           "-1.128"
          ],
          [
           "-1.048"
          ],
          [
           "-0.967"
          ],
          [
           "-0.886"
          ],
          [
           "-0.806"
          ],
          [
           "-0.725"
          ],
          [
           "-0.645"
          ],
          [
           "-0.564"
          ],
          [
           "-0.483"
          ],
          [
           "-0.403"
          ],
          [
           "-0.322"
          ],
          [
           "-0.242"
          ],
          [
           "-0.161"
          ],
          [
           "-0.081"
          ],
          [
           "0.000"
          ],
          [
           "0.081"
          ],
          [
           "0.161"
          ],
          [
           "0.242"
          ],
          [
           "0.322"
          ],
          [
           "0.403"
          ],
          [
           "0.483"
          ],
          [
           "0.564"
          ],
          [
           "0.645"
          ],
          [
           "0.725"
          ],
          [
           "0.806"
          ],
          [
           "0.886"
          ],
          [
           "0.967"
          ],
          [
           "1.048"
          ],
          [
           "1.128"
          ],
          [
           "1.209"
          ],
          [
           "1.289"
          ],
          [
           "1.370"
          ],
          [
           "1.450"
          ],
          [
           "1.531"
          ],
          [
           "1.612"
          ],
          [
           "1.692"
          ],
          [
           "-1.692"
          ],
          [
           "-1.612"
          ],
          [
           "-1.531"
          ],
          [
           "-1.450"
          ],
          [
           "-1.370"
          ],
          [
           "-1.289"
          ],
          [
           "-1.209"
          ],
          [
           "-1.128"
          ],
          [
           "-1.048"
          ],
          [
           "-0.967"
          ],
          [
           "-0.886"
          ],
          [
           "-0.806"
          ],
          [
           "-0.725"
          ],
          [
           "-0.645"
          ],
          [
           "-0.564"
          ],
          [
           "-0.483"
          ],
          [
           "-0.403"
          ],
          [
           "-0.322"
          ],
          [
           "-0.242"
          ],
          [
           "-0.161"
          ],
          [
           "-0.081"
          ],
          [
           "0.000"
          ],
          [
           "0.081"
          ],
          [
           "0.161"
          ],
          [
           "0.242"
          ],
          [
           "0.322"
          ],
          [
           "0.403"
          ],
          [
           "0.483"
          ],
          [
           "0.564"
          ],
          [
           "0.645"
          ],
          [
           "0.725"
          ],
          [
           "0.806"
          ],
          [
           "0.886"
          ],
          [
           "0.967"
          ],
          [
           "1.048"
          ],
          [
           "1.128"
          ],
          [
           "1.209"
          ],
          [
           "1.289"
          ],
          [
           "1.370"
          ],
          [
           "1.450"
          ],
          [
           "1.531"
          ],
          [
           "1.612"
          ],
          [
           "1.692"
          ],
          [
           "-1.692"
          ],
          [
           "-1.612"
          ],
          [
           "-1.531"
          ],
          [
           "-1.450"
          ],
          [
           "-1.370"
          ],
          [
           "-1.289"
          ],
          [
           "-1.209"
          ],
          [
           "-1.128"
          ],
          [
           "-1.048"
          ],
          [
           "-0.967"
          ],
          [
           "-0.886"
          ],
          [
           "-0.806"
          ],
          [
           "-0.725"
          ],
          [
           "-0.645"
          ],
          [
           "-0.564"
          ],
          [
           "-0.483"
          ],
          [
           "-0.403"
          ],
          [
           "-0.322"
          ],
          [
           "-0.242"
          ],
          [
           "-0.161"
          ],
          [
           "-0.081"
          ],
          [
           "0.000"
          ],
          [
           "0.081"
          ],
          [
           "0.161"
          ],
          [
           "0.242"
          ],
          [
           "0.322"
          ],
          [
           "0.403"
          ],
          [
           "0.483"
          ],
          [
           "0.564"
          ],
          [
           "0.645"
          ],
          [
           "0.725"
          ],
          [
           "0.806"
          ],
          [
           "0.886"
          ],
          [
           "0.967"
          ],
          [
           "1.048"
          ],
          [
           "1.128"
          ],
          [
           "1.209"
          ],
          [
           "1.289"
          ],
          [
           "1.370"
          ],
          [
           "1.450"
          ],
          [
           "1.531"
          ],
          [
           "1.612"
          ],
          [
           "1.692"
          ],
          [
           "-1.692"
          ],
          [
           "-1.612"
          ],
          [
           "-1.531"
          ],
          [
           "-1.450"
          ],
          [
           "-1.370"
          ],
          [
           "-1.289"
          ],
          [
           "-1.209"
          ],
          [
           "-1.128"
          ],
          [
           "-1.048"
          ],
          [
           "-0.967"
          ],
          [
           "-0.886"
          ],
          [
           "-0.806"
          ],
          [
           "-0.725"
          ],
          [
           "-0.645"
          ],
          [
           "-0.564"
          ],
          [
           "-0.483"
          ],
          [
           "-0.403"
          ],
          [
           "-0.322"
          ],
          [
           "-0.242"
          ],
          [
           "-0.161"
          ],
          [
           "-0.081"
          ],
          [
           "0.000"
          ],
          [
           "0.081"
          ],
          [
           "0.161"
          ],
          [
           "0.242"
          ],
          [
           "0.322"
          ],
          [
           "0.403"
          ],
          [
           "0.483"
          ],
          [
           "0.564"
          ],
          [
           "0.645"
          ],
          [
           "0.725"
          ],
          [
           "0.806"
          ],
          [
           "0.886"
          ],
          [
           "0.967"
          ],
          [
           "1.048"
          ],
          [
           "1.128"
          ],
          [
           "1.209"
          ],
          [
           "1.289"
          ],
          [
           "1.370"
          ],
          [
           "1.450"
          ],
          [
           "1.531"
          ],
          [
           "1.612"
          ],
          [
           "1.692"
          ],
          [
           "-1.692"
          ],
          [
           "-1.612"
          ],
          [
           "-1.531"
          ],
          [
           "-1.450"
          ],
          [
           "-1.370"
          ],
          [
           "-1.289"
          ],
          [
           "-1.209"
          ],
          [
           "-1.128"
          ],
          [
           "-1.048"
          ],
          [
           "-0.967"
          ],
          [
           "-0.886"
          ],
          [
           "-0.806"
          ],
          [
           "-0.725"
          ],
          [
           "-0.645"
          ],
          [
           "-0.564"
          ],
          [
           "-0.483"
          ],
          [
           "-0.403"
          ],
          [
           "-0.322"
          ],
          [
           "-0.242"
          ],
          [
           "-0.161"
          ],
          [
           "-0.081"
          ],
          [
           "0.000"
          ],
          [
           "0.081"
          ],
          [
           "0.161"
          ],
          [
           "0.242"
          ],
          [
           "0.322"
          ],
          [
           "0.403"
          ],
          [
           "0.483"
          ],
          [
           "0.564"
          ],
          [
           "0.645"
          ],
          [
           "0.725"
          ],
          [
           "0.806"
          ],
          [
           "0.886"
          ],
          [
           "0.967"
          ],
          [
           "1.048"
          ],
          [
           "1.128"
          ],
          [
           "1.209"
          ],
          [
           "1.289"
          ],
          [
           "1.370"
          ],
          [
           "1.450"
          ],
          [
           "1.531"
          ],
          [
           "1.612"
          ],
          [
           "1.692"
          ],
          [
           "-1.692"
          ],
          [
           "-1.612"
          ],
          [
           "-1.531"
          ],
          [
           "-1.450"
          ],
          [
           "-1.370"
          ],
          [
           "-1.289"
          ],
          [
           "-1.209"
          ],
          [
           "-1.128"
          ],
          [
           "-1.048"
          ],
          [
           "-0.967"
          ],
          [
           "-0.886"
          ]
         ],
         "hovertemplate": "Marine Protected Area (sqkm)=%{x}<br>Fishing Exports (Millions)=%{y}<br>Country=%{customdata[0]}<br>Clusters_f=%{marker.color}<extra></extra>",
         "legendgroup": "",
         "marker": {
          "color": [
           0,
           0,
           0,
           0,
           0,
           2,
           0,
           0,
           0,
           0,
           0,
           0,
           0,
           0,
           0,
           0,
           0,
           0,
           0,
           0,
           0,
           0,
           0,
           0,
           0,
           0,
           0,
           0,
           0,
           0,
           0,
           0,
           0,
           0,
           1,
           0,
           2,
           2,
           0,
           2,
           0,
           2,
           2,
           0,
           0,
           0,
           0,
           0,
           2,
           0,
           0,
           0,
           0,
           0,
           0,
           0,
           0,
           0,
           0,
           0,
           0,
           0,
           0,
           0,
           0,
           0,
           0,
           0,
           0,
           0,
           0,
           0,
           0,
           0,
           0,
           0,
           0,
           1,
           0,
           2,
           2,
           0,
           2,
           0,
           2,
           2,
           0,
           0,
           0,
           0,
           0,
           2,
           0,
           0,
           0,
           0,
           0,
           0,
           0,
           0,
           0,
           0,
           0,
           0,
           0,
           0,
           0,
           0,
           0,
           0,
           0,
           0,
           0,
           0,
           0,
           0,
           0,
           0,
           0,
           0,
           1,
           0,
           2,
           2,
           0,
           2,
           0,
           2,
           2,
           0,
           0,
           0,
           0,
           0,
           2,
           0,
           0,
           0,
           0,
           0,
           0,
           0,
           0,
           0,
           0,
           0,
           0,
           0,
           0,
           0,
           0,
           0,
           0,
           0,
           0,
           0,
           0,
           0,
           0,
           0,
           0,
           0,
           0,
           1,
           0,
           2,
           2,
           0,
           2,
           0,
           2,
           2,
           0,
           0,
           0,
           0,
           0,
           2,
           0,
           0,
           0,
           0,
           0,
           0,
           0,
           0,
           0,
           0,
           0,
           0,
           0,
           0,
           0,
           0,
           0,
           0,
           0,
           0,
           0,
           0,
           0,
           0,
           0,
           0,
           0,
           0,
           1,
           0,
           2,
           2,
           0,
           2,
           0,
           2,
           2,
           0,
           0,
           0,
           0,
           0,
           2,
           0,
           0,
           0,
           0,
           0,
           0,
           0,
           0,
           0,
           0,
           0,
           0,
           0,
           0,
           0,
           0,
           0,
           0,
           0,
           0,
           0,
           0,
           0,
           0,
           0,
           0,
           0,
           0,
           1,
           0,
           2,
           2,
           0,
           2,
           0,
           2,
           2,
           0,
           0,
           0,
           0,
           0,
           2,
           0,
           0,
           0,
           0,
           0,
           0,
           0,
           0,
           0,
           0,
           0,
           0,
           0,
           0,
           0,
           0,
           0,
           0,
           0,
           0,
           0,
           0,
           0,
           0,
           0,
           0,
           0,
           0,
           1,
           0,
           2,
           2,
           0,
           2,
           0,
           2,
           2,
           0,
           0,
           0,
           2,
           0,
           2,
           0,
           0,
           0,
           0,
           0,
           0,
           0,
           0,
           0,
           0,
           0,
           0,
           0,
           0,
           0,
           0,
           0,
           0,
           0,
           0,
           0,
           0,
           0,
           0,
           0,
           0,
           0,
           0,
           1,
           0,
           2,
           2,
           0,
           2,
           0,
           2,
           2,
           0,
           0,
           0,
           2,
           0,
           2,
           0,
           0,
           0,
           0,
           0,
           0,
           0,
           0,
           0,
           0,
           0,
           0,
           0,
           0,
           0,
           0,
           0,
           0,
           0,
           0,
           0,
           0,
           0,
           0,
           0,
           0,
           0,
           0,
           1,
           0,
           2,
           2,
           0,
           2,
           0,
           2,
           2,
           0,
           0,
           0,
           2,
           0,
           2,
           0,
           0,
           0,
           0,
           0,
           0,
           0,
           0,
           0,
           0,
           0,
           0,
           0,
           0,
           0,
           0,
           0,
           0,
           0,
           0,
           0,
           0,
           0,
           0,
           0,
           0,
           0,
           0,
           1,
           0,
           2,
           2,
           0,
           2,
           0,
           2,
           2,
           0,
           0,
           0,
           2,
           0,
           2,
           0,
           0,
           0,
           0,
           0,
           0,
           0,
           0,
           0,
           0,
           0,
           0,
           0,
           0,
           0,
           0,
           0,
           0,
           0,
           0,
           0,
           0,
           0,
           0,
           0,
           0,
           0,
           0,
           1,
           0,
           2,
           2,
           0,
           2,
           0,
           2,
           2,
           0,
           0,
           0,
           2,
           0,
           2,
           0,
           0,
           0,
           0,
           0,
           0,
           0,
           0,
           0,
           0,
           0,
           0,
           0,
           0,
           0,
           0,
           0,
           0,
           0,
           0,
           0,
           0,
           0,
           0,
           0,
           0,
           0,
           0,
           1,
           0,
           2,
           2,
           0,
           2,
           0,
           2,
           2
          ],
          "coloraxis": "coloraxis",
          "symbol": "circle"
         },
         "mode": "markers",
         "name": "",
         "orientation": "v",
         "showlegend": false,
         "type": "scatter",
         "x": [
          -0.21640322178311114,
          -0.2794764295505674,
          -0.20061946233386846,
          -0.0007242924461850107,
          -0.24928101109428574,
          -0.27690719449436046,
          -0.2492731178990286,
          -0.28007105025994045,
          -0.26839701447459463,
          -0.20034583156495345,
          -0.26080902276737405,
          -0.2217942741437543,
          -0.27757811609121946,
          -0.2595329562007992,
          -0.27444057097649666,
          -0.18469230983745394,
          0.24128633626864088,
          -0.15858161992675474,
          -0.28021312777456936,
          -0.2802078656443979,
          -0.24661442662990712,
          -0.25973160161477116,
          -0.2535065016219543,
          0.041935796853701815,
          -0.2753693369517563,
          -0.26938629494682587,
          -0.27954878384042475,
          -0.20950588466089248,
          -0.2775294413871336,
          -0.2368373887713664,
          -0.19618743319697074,
          -0.23306312590589903,
          -0.2793343520359385,
          -0.2625086908127501,
          3.238824584584919,
          -0.11070412856188243,
          0.10158467341209171,
          -0.24063664675514812,
          -0.27201472896746154,
          -0.14049567852750586,
          -0.25800036078836647,
          0.24375295978650469,
          -0.10004568389962504,
          -0.22414513079784634,
          -0.2801355113545406,
          -0.20286244531944594,
          0.2957375437501882,
          -0.25122931479026245,
          -0.27143984124623144,
          -0.26311252024992315,
          -0.27977242437271105,
          -0.2729750677237498,
          -0.19310382491650527,
          -0.2649200619638138,
          -0.2248726202940483,
          -0.2763007339921017,
          -0.263161194954009,
          -0.27455107571009696,
          -0.19739246100623112,
          0.20603532625014562,
          -0.07557414753733029,
          -0.28021312777456936,
          -0.28017760839591216,
          -0.2232163648225867,
          -0.2647437806030704,
          -0.2459619224886482,
          0.02701502675257574,
          -0.2740011831071812,
          -0.27444057097649666,
          -0.2798250456744255,
          -0.2348654054896182,
          -0.27732684937553304,
          -0.20937564693914926,
          -0.19697938378777288,
          -0.22884421304094477,
          -0.27738867940504747,
          -0.2517489501446924,
          3.9622109347857037,
          -0.15355102348285546,
          0.08535363289827637,
          -0.23598097708596408,
          -0.2514621640503488,
          -0.12196508712877002,
          -0.26352954406601004,
          -0.030076454542492945,
          0.15334561684348877,
          -0.20221388777581562,
          -0.27987898250868276,
          -0.18047734357012826,
          0.17698705217123842,
          -0.2740656442017813,
          -0.27723213103244704,
          -0.26488059598752794,
          -0.27988950676902563,
          -0.2735065428710655,
          -0.18031290200227065,
          -0.2697835857747698,
          -0.21794634145588673,
          -0.27612971476152975,
          -0.26141285220454713,
          -0.275561404703014,
          -0.2291046884844312,
          0.22853093273306357,
          -0.024548586797392285,
          -0.2801933947864265,
          -0.2801868171237122,
          -0.23527453611044788,
          -0.2646951058989846,
          -0.234574672797646,
          0.2718224776535235,
          -0.27581267141870036,
          -0.27294086387763544,
          -0.2799552833961687,
          -0.2196881065426343,
          -0.2752733030761275,
          -0.20674195078834215,
          -0.16872700689729647,
          -0.22534094987930672,
          -0.2783516492264215,
          -0.23507194409884732,
          4.846018585393093,
          -0.20122197623849863,
          0.17110925276973685,
          -0.2096255981222928,
          -0.193172232608734,
          -0.0717946225416915,
          -0.26168385190837645,
          0.008898828104841026,
          0.02592708133962994,
          -0.19972621573726604,
          -0.28016576860302644,
          -0.1917567195926159,
          0.42571873664753973,
          -0.27427086727846767,
          -0.27728869893179003,
          -0.2640254998346685,
          -0.2799868561771974,
          -0.27346970795986547,
          -0.1779120551115499,
          -0.26930210086408274,
          -0.21412208835379068,
          -0.27485496372749774,
          -0.25982631995785715,
          -0.27529566712935616,
          -0.21931712636554757,
          0.20518286116237186,
          -0.025812813571081436,
          -0.28019076372134083,
          -0.2801539288101407,
          -0.231137186263151,
          -0.26911529524299654,
          -0.2459882331395054,
          0.20666151974054728,
          -0.2765006949386165,
          -0.27131749671974537,
          -0.2797961039584826,
          -0.21463909264313494,
          -0.2738841007108666,
          -0.19889743023526377,
          -0.14079430441473523,
          -0.22119307577166694,
          -0.27874104685910833,
          -0.23425368285718798,
          5.087709539700005,
          -0.10516310549135315,
          0.14631804199952697,
          -0.2209970614227807,
          -0.20017612786692437,
          -0.06916881958614153,
          -0.2621298174404062,
          0.05413604565619192,
          0.03360716032485073,
          -0.18862443660806458,
          -0.2802197054372837,
          -0.18953215406263846,
          0.386967094532492,
          -0.2745155563314397,
          -0.2772597572158471,
          -0.2668460016065618,
          -0.27993686594056866,
          -0.27435769242629643,
          -0.17733322079269118,
          -0.27138064228180264,
          -0.21785293864534364,
          -0.27386042112509507,
          -0.25986315486905726,
          -0.2742879692015248,
          -0.2283943009112864,
          0.23613865742842702,
          -0.04063097213386435,
          -0.2801723462657407,
          -0.28012498709419775,
          -0.23068201200332117,
          -0.26676312305636163,
          -0.23533899720504806,
          0.2094333468083548,
          -0.27555482704029965,
          -0.2719949959793186,
          -0.2798250456744255,
          -0.21802001127828693,
          -0.2737275523382662,
          -0.18399639312228064,
          -0.15602422466343355,
          -0.22069712000300845,
          -0.2788581292554229,
          -0.23367221747324354,
          5.707572687505452,
          -0.0818031941277757,
          0.15645685130735434,
          -0.2218311090549544,
          -0.22828642724277184,
          -0.060463940750032266,
          -0.2613220804590897,
          0.055181894027766215,
          -0.004932681050796363,
          -0.1864314438591158,
          -0.28010788517114055,
          -0.1831741852829927,
          0.5555894248112909,
          -0.27611524390355835,
          -0.2772979076595901,
          -0.2641570530889546,
          -0.2800118512955117,
          -0.2729632279308641,
          -0.17933151472529657,
          -0.2710491280810018,
          -0.21809499663322998,
          -0.2733355236404937,
          -0.2621061378546347,
          -0.2738841007108666,
          -0.22236521526735584,
          0.2274890309591179,
          -0.0391733620763747,
          -0.28016182200539785,
          -0.2800671036623119,
          -0.2326658350779551,
          -0.2649226930288995,
          -0.23583363744116367,
          0.36318752828774203,
          -0.2749431044078694,
          -0.27199762704440433,
          -0.279744798189311,
          -0.21707808997759867,
          -0.27346049923206545,
          -0.18393850969039474,
          -0.11685292766721335,
          -0.1999985309736382,
          -0.2785397703800506,
          -0.24191008225663724,
          6.157622948080813,
          0.07892067876368752,
          0.39348818934745255,
          -0.23404451318287312,
          -0.17931309726969655,
          -0.06296213704892474,
          -0.2556166158207029,
          -0.021128202185954462,
          0.03560413872491325,
          -0.18957162003892428,
          -0.28010788517114055,
          -0.20437004561356428,
          0.9537235091151961,
          -0.27607840899235825,
          -0.2773163251151901,
          -0.2651660665493287,
          -0.27980399715373977,
          -0.2730079560373213,
          -0.18965318305658163,
          -0.27007826506437055,
          -0.2155849605414518,
          -0.2725975098839488,
          -0.26181014303249106,
          -0.2742248236394675,
          -0.2269143268005681,
          0.2642792140527602,
          -0.015216198938338468,
          -0.28013682688708347,
          -0.2801013075084262,
          -0.21719648790645615,
          -0.26661052128138973,
          -0.219417106838805,
          0.422410172302245,
          -0.2736420427229802,
          -0.2724909517479771,
          -0.2797382205265967,
          -0.2107937910203531,
          -0.2734184021906939,
          -0.16763511488672211,
          -0.11249193728763011,
          -0.2110582130614681,
          -0.2782358823626498,
          -0.2415206846239505,
          6.588691389595235,
          0.12573653536647125,
          0.35826217444727154,
          -0.19213427743241693,
          -0.18884939267289377,
          -0.06642330316919123,
          -0.25211729925669346,
          -0.05247602714978209,
          0.18260306059671078,
          -0.17173957642044746,
          -0.2801881326562551,
          -0.18217964268059,
          0.6226829000297295,
          -0.274474774822611,
          -0.27745445603219054,
          -0.26308357853398023,
          -0.2798934533666543,
          -0.27308557245735016,
          -0.19177513704821597,
          -0.27084785160194413,
          -0.21088982489598193,
          -0.2739432996752953,
          -0.2593119467335986,
          -0.27531145351987046,
          -0.22736555446276935,
          0.3077194141505634,
          -0.0034579690702495128,
          -0.2800671036623119,
          -0.2800079046978831,
          -0.20220336351547274,
          -0.26559624569084417,
          -0.19253288379290373,
          0.48429808524858386,
          -0.2743642700890107,
          -0.27235413636351957,
          -0.27963560898825357,
          -0.2050028167666803,
          -0.27416299360995305,
          -0.1560557974444622,
          -0.13185262972091105,
          -0.21180280448072725,
          -0.2782950813270785,
          -0.23981443891586018,
          6.841357831907232,
          0.09964426291137217,
          0.26496592204013353,
          -0.1959822101202845,
          -0.22454373715833315,
          -0.06933457668654198,
          -0.243140105184212,
          -0.0680282528714813,
          0.32215212167828816,
          -0.16574601015517412,
          -0.2802197054372837,
          -0.1440120970145725,
          0.748564893523527,
          -0.27368019316672315,
          -0.27706111180187515,
          -0.2624547539784928,
          -0.2798289922720541,
          -0.2712096230512308,
          -0.17753186620666317,
          -0.26865354332045244,
          -0.20291112002353182,
          -0.2696691344435409,
          -0.2578517056110232,
          -0.2750917595852127,
          -0.22354919455593045,
          0.3369255521346139,
          0.018227269366266233,
          -0.2801263026267406,
          -0.2799460746683687,
          -0.18140874061047363,
          -0.2682917718711657,
          -0.1765399546693462,
          0.7801153104989551,
          -0.2728250970138637,
          -0.2715358751218602,
          -0.2795435217102533,
          -0.1984317317150911,
          -0.2727593203867207,
          -0.1354256161073207,
          -0.11315101909160333,
          -0.20296900345541766,
          -0.2789304835452802,
          -0.24445037559690125,
          7.699408670857953,
          0.07701578764162523,
          0.4376400925509434,
          -0.21284602178721582,
          -0.218463345745231,
          -0.07489664827775702,
          -0.2345562553420459,
          -0.045719452009649546,
          0.3437663213574895,
          -0.1626571397445372,
          -0.2802197054372837,
          -0.14321093769597032,
          0.9593474107359257,
          -0.2713569626960312,
          -0.2772018737839613,
          -0.26237319096083545,
          -0.27983951653239697,
          -0.26989672157345584,
          -0.17153303781121837,
          -0.26780502483030727,
          -0.20046159842872516,
          -0.26526867808767185,
          -0.2522922650848939,
          -0.2744576728995538,
          -0.2236978497332737,
          0.35298952001548584,
          0.08224766056458224,
          -0.2801184094314834,
          -0.28004473960908327,
          -0.17844616132395133,
          -0.2670775353341053,
          -0.17896448114583843,
          0.7549518040191159,
          -0.27297901432137844,
          -0.2684719998295377,
          -0.2796158760001106,
          -0.19684388393585825,
          -0.27241465086049116,
          -0.1171252429035855,
          -0.05976407743723038,
          -0.2062038979783121,
          -0.2789002262967944,
          -0.24473453062615919,
          7.795954288645958,
          0.19726072418926469,
          0.6046259003464235,
          -0.20228229546804435,
          -0.23206858330349636,
          -0.05880505421348494,
          -0.23963421095748824,
          -0.024365727773934663,
          0.3780096334481536,
          -0.159306478357871,
          -0.2802197054372837,
          -0.1421874533776247,
          0.9357875384258333,
          -0.2673077535291059,
          -0.2772913299968758,
          -0.26381106803018217,
          -0.27976584670999677,
          -0.27112279790340194,
          -0.1836661944540226,
          -0.26682100648824747,
          -0.2013232722442989,
          -0.26860092201873803,
          -0.25552452854270263,
          -0.275041769348584,
          -0.2151350484117934,
          0.3431835404410022,
          0.09511225330121702,
          -0.28014077348471206,
          -0.28002237555585463,
          -0.18646038557505873,
          -0.2669946567839051,
          -0.1788092483057809,
          0.7330245075947136,
          -0.2711714726074878,
          -0.26661709894410407,
          -0.27939618206545286,
          -0.19916316780892163,
          -0.2728487765996352,
          -0.08630757755453074,
          -0.09744356052984658,
          -0.1954086379315972,
          -0.2791764881307952,
          -0.24098000074883474,
          7.586058440367447,
          0.2105962775762436,
          0.6807491909390578,
          -0.20374648318824834,
          -0.20453974931159333,
          -0.04397110926018768,
          -0.23122532694352263,
          -0.01984687348920814,
          0.5735780168023681,
          -0.16317019743625288,
          -0.2802197054372837,
          -0.16251111563227968,
          1.075947006607298,
          -0.2627665351911508,
          -0.2773439512985902,
          -0.26229162794317806,
          -0.27979741949102543,
          -0.27186738932266113,
          -0.17417331162473976,
          -0.26604089569033107,
          -0.20539221439936708,
          -0.25897253933754055,
          -0.2569203085706778,
          -0.2741695712726674,
          -0.21881327740163195,
          0.3166058364775875,
          0.07361250495324462,
          -0.2801710307331979,
          -0.2799934338399117,
          -0.16066016134447467,
          -0.26972701787542674,
          -0.17263940067976422,
          0.7962700501252847,
          -0.2699953865141704,
          -0.26619612853038865,
          -0.2794159150535958,
          -0.19127786574701458,
          -0.2745181873965254,
          -0.046454834701108665,
          -0.06631806056576238,
          -0.2055092967956817,
          -0.27909097851550924,
          -0.23996835622337487,
          8.064208476058312,
          0.2715975215886943,
          0.6098472490090376,
          -0.10655362338915693,
          -0.2188474812477463,
          -0.02811894211871624,
          -0.21173176572341276,
          -0.017894623195602873,
          0.8349966971220179
         ],
         "xaxis": "x",
         "y": [
          -0.1797295601550148,
          -0.5485192350192032,
          0.5636094453490641,
          0.16812111507690097,
          -0.6742616782144735,
          -0.6992071329626894,
          0.5633533937063158,
          -0.7128893278022496,
          -0.7631055735035851,
          -0.27072730161547964,
          -0.2840660860165303,
          -0.6694418825862708,
          -0.28168932429737287,
          -0.6226687783868324,
          -0.7676542556277014,
          -0.5870956742784297,
          -0.5700396224991278,
          -0.14853343295147356,
          -0.7410610332490937,
          -0.7511886288128543,
          -0.5061472067027672,
          -0.14270750498588367,
          -0.34004801223810327,
          1.120316927012336,
          -0.6516086387619213,
          -0.6305732432170845,
          -0.7681753960300008,
          0.018499596916154572,
          -0.5720518871739023,
          -0.7291952988869125,
          -0.24128738744396472,
          0.4894237535142233,
          -0.43295559771624337,
          -0.6392006773915673,
          1.7820477554141427,
          -0.08969879019245816,
          0.28662784008533204,
          -0.6757046045306666,
          -0.20069567113769607,
          -0.5367468841973184,
          0.5117333825282662,
          1.5429527561603502,
          0.5703360726226743,
          -0.41750212798331887,
          -0.46453730857004083,
          0.4552062169262527,
          0.466981580120405,
          -0.7007946531477286,
          -0.7034244541373667,
          0.4110689384609875,
          -0.7165342982460777,
          -0.7655124589454189,
          -0.2827466669633098,
          -0.30349588714272197,
          -0.6446711454295772,
          -0.30645403670953125,
          -0.6399597952030092,
          -0.764705143177695,
          -0.5815559216782643,
          -0.4308921227129192,
          -0.3913969099120666,
          -0.7156155247044517,
          -0.7003427973075846,
          -0.5695395687027018,
          0.08781127042197541,
          -0.4405558129474653,
          0.8496221426711408,
          -0.5676056257068854,
          -0.6316275735107538,
          -0.760590242660117,
          0.004597498901057851,
          -0.3931952961558397,
          -0.6944174610571631,
          -0.18947759681305457,
          0.7738368811621904,
          -0.2011083661383609,
          -0.5818692083940975,
          3.699314258356849,
          -0.15622703172299193,
          0.10953047447156329,
          -0.5281164376505681,
          -0.07754688046485235,
          -0.5799864757268308,
          -0.01713074226533296,
          1.2968961645960733,
          1.1157863191218256,
          -0.5318909401019043,
          -0.4618472601350503,
          0.23890282624932363,
          0.20400750590113687,
          -0.7270203661096859,
          -0.7311864769558135,
          0.34654693686069304,
          -0.715862539230397,
          -0.7579694787872818,
          -0.3385568879656281,
          -0.08511998434566576,
          -0.5984221940047058,
          -0.15022036142134446,
          -0.6258377940123756,
          -0.7612710387926006,
          -0.5795677559816308,
          -0.32671826495385553,
          -0.20269287395113247,
          -0.7210317700416443,
          -0.6650890046595505,
          -0.5479589337774247,
          0.0761142289067813,
          -0.4312927682245135,
          1.4313805121119954,
          -0.413555920312728,
          -0.5296045495507757,
          -0.764608747265131,
          0.0756593606943696,
          -0.03512364181986674,
          -0.6851544163342113,
          0.011604276795557289,
          0.7947096086045752,
          -0.20472321285951284,
          -0.7170765252542506,
          4.266275855219122,
          -0.04654956983097458,
          -0.057842953462306695,
          -0.5437416126027474,
          0.005630742588853731,
          -0.5461213866941724,
          -0.1142948097576295,
          1.4246056868821033,
          1.087747158054757,
          -0.5496970725758452,
          -0.44168846492009295,
          0.2531965326592119,
          0.40962902451706207,
          -0.7287765791417122,
          -0.7255563531876195,
          0.3642205249548584,
          -0.7129043896635877,
          -0.7574694249908559,
          -0.3346408040177135,
          -0.015205836386319591,
          -0.5793267662002206,
          -0.0861321414275882,
          -0.6089293484741873,
          -0.761671684304195,
          -0.5711391383768115,
          -0.3756934132809291,
          -0.08801186172258728,
          -0.7184893278477674,
          -0.6666494134941809,
          -0.47027889011213714,
          0.1209112168986567,
          -0.42958776552103684,
          1.279123168217076,
          -0.3835285935490259,
          -0.49780896026597676,
          -0.7642081017535366,
          0.24749411195659474,
          -0.06733493847759824,
          -0.6639232165919788,
          0.08052434190658661,
          1.1245011120920694,
          -0.23984144875550395,
          -0.7217185909186631,
          4.916442186485509,
          0.17143171219902267,
          0.020689591554719118,
          -0.5441934684428914,
          0.11235909203086478,
          -0.5539957278017484,
          -0.13822509505165537,
          1.5480346281758361,
          1.2904014899870697,
          -0.5503356954965821,
          -0.481171628231875,
          0.2573716806221424,
          0.3715948122660084,
          -0.7287374183022332,
          -0.7115006241868737,
          0.333187065853769,
          -0.701589919426382,
          -0.7547944384172034,
          -0.29728437552687587,
          -0.003198520527559863,
          -0.5746816881635404,
          -0.06096075875930022,
          -0.5673555988086725,
          -0.7621687257283534,
          -0.5862702842771,
          -0.3813536607717995,
          -0.07980013492103706,
          -0.7044486607083598,
          -0.6683092306136433,
          -0.47562886325944204,
          0.15547517629740443,
          -0.4263645271946763,
          1.1658820699324561,
          -0.35796259011367876,
          -0.4915251517157077,
          -0.7641719532863251,
          0.2608871190584627,
          -0.04093149555185092,
          -0.6614470465879898,
          0.014743168698424243,
          0.958227200035883,
          -0.33884607570332026,
          -0.722299978766315,
          5.04179000891372,
          0.19101514431086325,
          0.1407778120036542,
          -0.5617224626682107,
          0.10720191070868791,
          -0.5229411820947857,
          -0.16721917812756146,
          1.5445432887176573,
          1.1577757761602732,
          -0.5376174597826625,
          -0.4862775992255021,
          0.305587711137774,
          0.5397183208945173,
          -0.7298550084135227,
          -0.7223090158831179,
          0.4235883576052437,
          -0.7042920173504432,
          -0.755619828418533,
          -0.2971126703076211,
          0.0028352611244961716,
          -0.5877614085495751,
          -0.06239766033095811,
          -0.5811010534658527,
          -0.7604878220030178,
          -0.5726754482333011,
          -0.25169212125634705,
          -0.1791481723073629,
          -0.6985654976696849,
          -0.6545728130732659,
          -0.4861601167070647,
          0.11690174941044569,
          -0.4559881960745165,
          1.4508464617053989,
          -0.313442740370425,
          -0.49086544218909745,
          -0.7640183223006761,
          0.2362338644202064,
          0.09618265295370977,
          -0.630666626757381,
          0.04602665469772662,
          0.9907216596867714,
          -0.29824532228024875,
          -0.7200166005874541,
          5.196857896134335,
          0.5730200963131296,
          0.26747517720776204,
          -0.5690967499793607,
          -0.02767103282975856,
          -0.4302625369089852,
          -0.11918388994798751,
          1.1804740011968398,
          1.2728092359441305,
          -0.49329642660907214,
          -0.4639016980215716,
          0.40518276305004514,
          0.8959554405195058,
          -0.7217969125976215,
          -0.7251707695373633,
          0.43461062773248954,
          -0.7089822809711379,
          -0.7568669505373306,
          -0.317000352018492,
          0.07430078080167007,
          -0.5794472610909257,
          -0.1612456439208579,
          -0.5651595794255727,
          -0.7606143416382579,
          -0.5570291866752484,
          -0.24608308409402632,
          -0.2370610291524846,
          -0.7105095537108245,
          -0.6304678101877177,
          -0.466811649632099,
          0.2587995450769973,
          -0.4514545758117385,
          1.7055937472617788,
          -0.2597562418167835,
          -0.46488674375308553,
          -0.7630152023355564,
          0.26507431651046354,
          0.20093488618815777,
          -0.5893549534791496,
          0.10314123289192723,
          1.0090579696798145,
          -0.24195914645964547,
          -0.7233693709213225,
          5.5261583829422065,
          0.874251298331256,
          0.4688914241380803,
          -0.5498778149119029,
          0.032278187668278786,
          -0.4633926071083427,
          0.007923157884517624,
          1.144512301065913,
          1.550802998289785,
          -0.44639077802985805,
          -0.4491501110270041,
          0.6324572135256704,
          0.7241628624690274,
          -0.7207094462090082,
          -0.7292796453104059,
          0.5191257440730218,
          -0.7136755569641001,
          -0.758508693423187,
          -0.27644177180716734,
          0.07447851076546008,
          -0.5717657118084778,
          -0.14603316396934357,
          -0.5657018064337455,
          -0.7625000866777922,
          -0.5406900794956417,
          -0.17278905445040307,
          -0.2647477426642408,
          -0.7141906726218643,
          -0.6142522102710836,
          -0.4536475828225706,
          0.3277226225602944,
          -0.4360493040350959,
          2.003517364530051,
          -0.24809534876880085,
          -0.4345129941786064,
          -0.7625723836122152,
          0.37563741584916327,
          0.3375339190359543,
          -0.5606349962795976,
          -0.013479747076969535,
          0.9369598518264394,
          -0.3293299917098878,
          -0.7038883594665811,
          5.230719972794726,
          0.6997987955684635,
          0.3701548983220829,
          -0.5638130490219435,
          -0.052035099730322526,
          -0.5285893800965855,
          0.3369977167723167,
          0.9464187007467868,
          1.2694534532379946,
          -0.46315462969920024,
          -0.43091019694652494,
          0.7620615179680379,
          0.806789221397758,
          -0.7195587200027748,
          -0.7355845404665485,
          0.6449585584363209,
          -0.7264359658897664,
          -0.7519567837410991,
          -0.25342724768249997,
          0.12365850040673214,
          -0.546763021987177,
          -0.2246470430375953,
          -0.5705818495073006,
          -0.7634911571538414,
          -0.5347316071502762,
          -0.2012439228904041,
          -0.20447921070583508,
          -0.70891600878125,
          -0.5976600638209962,
          -0.4232437095254152,
          0.4970239687454454,
          -0.41351675947324884,
          2.667757499030791,
          -0.15476301880092544,
          -0.45580444136619125,
          -0.7593370957967843,
          0.4796365560167045,
          0.5624948676100423,
          -0.5216729733701149,
          0.12372176022435231,
          0.8954734609566855,
          -0.19076990451586637,
          -0.6997523723431298,
          5.670185925801969,
          0.9267418850946498,
          0.4007003531158167,
          -0.5468443560384029,
          -0.09459088275508372,
          -0.5427595792435012,
          0.4785490896280914,
          1.018034839037342,
          1.4253889036716862,
          -0.46034709874577223,
          -0.40476581803579353,
          0.7955922336789899,
          0.9084387111965504,
          -0.7314184296204209,
          -0.7310900810432496,
          0.6552608715916038,
          -0.7266197205980917,
          -0.7220921250798489,
          -0.246278888291422,
          0.0686977683838846,
          -0.540461139203302,
          -0.2939888402660924,
          -0.5483897030116953,
          -0.7647985267179914,
          -0.5254775995441273,
          -0.18356431005170348,
          -0.1912307974728132,
          -0.7052921249432953,
          -0.5903460239551989,
          -0.35680282679064257,
          0.7721770640427281,
          -0.422728593867651,
          2.6415197365797627,
          -0.117686740930977,
          -0.4301902399745621,
          -0.7598040134982665,
          0.600342312780503,
          0.4486874433391087,
          -0.4809185889613944,
          0.23916791500887466,
          1.0569667382241485,
          -0.1698489791171995,
          -0.7056837333380866,
          5.632031218660211,
          1.27529745543719,
          0.46494220409522197,
          -0.5445820644654152,
          0.05628076989672761,
          -0.4866812571093641,
          0.4329869590802388,
          0.9532929342615106,
          1.7384225802343736,
          -0.46033806162896934,
          -0.4539096592098541,
          0.7826420453004629,
          1.0673413483138545,
          -0.7292103607482505,
          -0.7302526415528493,
          0.6305292952743893,
          -0.726318483371329,
          -0.7123290265604709,
          -0.24081143262567975,
          0.04485785425788746,
          -0.537590348432254,
          -0.2157756067094349,
          -0.5592523174087569,
          -0.7652895433976145,
          -0.5227755016200661,
          -0.11589136705947153,
          -0.2048286458888798,
          -0.7048191824972778,
          -0.5948796442179769,
          -0.31711783453692954,
          0.7687610338912394,
          -0.42051148787867787,
          2.5701777241655615,
          -0.059924502699236645,
          -0.42086996017852535,
          -0.7591202049935152,
          0.6298484991419059,
          0.6437566219015379,
          -0.3976596318564623,
          0.1650906685756686,
          0.8830082645132465,
          -0.015470925145870767,
          -0.6952729747811691,
          5.622713951236442,
          1.2305275787957235,
          0.5876120275775131,
          -0.5468895416224172,
          0.1663498401835365,
          -0.4753005146822707,
          0.6084214952022777,
          0.857008479471361,
          1.7683625482023149,
          -0.4519124563964177,
          -0.4676460767502315,
          0.8735855640601106,
          1.1205157435819992,
          -0.7251376334424193,
          -0.7334547932733364,
          0.6342736740030492,
          -0.7126814741157833,
          -0.7185887361325991,
          -0.25162584906645924,
          0.0002144972516610707,
          -0.5397050337641278,
          -0.1716112168937611,
          -0.5702745875360027,
          -0.7646539328491453,
          -0.5301889497706953,
          -0.15487748894709522,
          -0.14224359965666916,
          -0.7070182142526453,
          -0.583857374090731,
          -0.3565196637974856,
          0.8205497379162763,
          -0.3938881417773938,
          2.864188269858187,
          -0.0368376816401463,
          -0.4371427951682444,
          -0.7584876068173135,
          0.5884464546956455,
          0.6250648519809148,
          -0.35761616730290174,
          0.23749906077260954,
          0.751509177914542,
          -0.036358714449593627,
          -0.6776264980374124,
          5.320169354909631,
          1.1950960561838992,
          0.5676821726548954,
          -0.5003514024598537,
          0.22832337484541884,
          -0.5056923384903557,
          0.6534082626470137,
          0.7237411303515597,
          1.6958607724650774
         ],
         "yaxis": "y"
        }
       ],
       "layout": {
        "coloraxis": {
         "colorbar": {
          "title": {
           "text": "Clusters_f"
          }
         },
         "colorscale": [
          [
           0,
           "#0d0887"
          ],
          [
           0.1111111111111111,
           "#46039f"
          ],
          [
           0.2222222222222222,
           "#7201a8"
          ],
          [
           0.3333333333333333,
           "#9c179e"
          ],
          [
           0.4444444444444444,
           "#bd3786"
          ],
          [
           0.5555555555555556,
           "#d8576b"
          ],
          [
           0.6666666666666666,
           "#ed7953"
          ],
          [
           0.7777777777777778,
           "#fb9f3a"
          ],
          [
           0.8888888888888888,
           "#fdca26"
          ],
          [
           1,
           "#f0f921"
          ]
         ]
        },
        "legend": {
         "tracegroupgap": 0
        },
        "margin": {
         "t": 60
        },
        "template": {
         "data": {
          "bar": [
           {
            "error_x": {
             "color": "#2a3f5f"
            },
            "error_y": {
             "color": "#2a3f5f"
            },
            "marker": {
             "line": {
              "color": "#E5ECF6",
              "width": 0.5
             },
             "pattern": {
              "fillmode": "overlay",
              "size": 10,
              "solidity": 0.2
             }
            },
            "type": "bar"
           }
          ],
          "barpolar": [
           {
            "marker": {
             "line": {
              "color": "#E5ECF6",
              "width": 0.5
             },
             "pattern": {
              "fillmode": "overlay",
              "size": 10,
              "solidity": 0.2
             }
            },
            "type": "barpolar"
           }
          ],
          "carpet": [
           {
            "aaxis": {
             "endlinecolor": "#2a3f5f",
             "gridcolor": "white",
             "linecolor": "white",
             "minorgridcolor": "white",
             "startlinecolor": "#2a3f5f"
            },
            "baxis": {
             "endlinecolor": "#2a3f5f",
             "gridcolor": "white",
             "linecolor": "white",
             "minorgridcolor": "white",
             "startlinecolor": "#2a3f5f"
            },
            "type": "carpet"
           }
          ],
          "choropleth": [
           {
            "colorbar": {
             "outlinewidth": 0,
             "ticks": ""
            },
            "type": "choropleth"
           }
          ],
          "contour": [
           {
            "colorbar": {
             "outlinewidth": 0,
             "ticks": ""
            },
            "colorscale": [
             [
              0,
              "#0d0887"
             ],
             [
              0.1111111111111111,
              "#46039f"
             ],
             [
              0.2222222222222222,
              "#7201a8"
             ],
             [
              0.3333333333333333,
              "#9c179e"
             ],
             [
              0.4444444444444444,
              "#bd3786"
             ],
             [
              0.5555555555555556,
              "#d8576b"
             ],
             [
              0.6666666666666666,
              "#ed7953"
             ],
             [
              0.7777777777777778,
              "#fb9f3a"
             ],
             [
              0.8888888888888888,
              "#fdca26"
             ],
             [
              1,
              "#f0f921"
             ]
            ],
            "type": "contour"
           }
          ],
          "contourcarpet": [
           {
            "colorbar": {
             "outlinewidth": 0,
             "ticks": ""
            },
            "type": "contourcarpet"
           }
          ],
          "heatmap": [
           {
            "colorbar": {
             "outlinewidth": 0,
             "ticks": ""
            },
            "colorscale": [
             [
              0,
              "#0d0887"
             ],
             [
              0.1111111111111111,
              "#46039f"
             ],
             [
              0.2222222222222222,
              "#7201a8"
             ],
             [
              0.3333333333333333,
              "#9c179e"
             ],
             [
              0.4444444444444444,
              "#bd3786"
             ],
             [
              0.5555555555555556,
              "#d8576b"
             ],
             [
              0.6666666666666666,
              "#ed7953"
             ],
             [
              0.7777777777777778,
              "#fb9f3a"
             ],
             [
              0.8888888888888888,
              "#fdca26"
             ],
             [
              1,
              "#f0f921"
             ]
            ],
            "type": "heatmap"
           }
          ],
          "heatmapgl": [
           {
            "colorbar": {
             "outlinewidth": 0,
             "ticks": ""
            },
            "colorscale": [
             [
              0,
              "#0d0887"
             ],
             [
              0.1111111111111111,
              "#46039f"
             ],
             [
              0.2222222222222222,
              "#7201a8"
             ],
             [
              0.3333333333333333,
              "#9c179e"
             ],
             [
              0.4444444444444444,
              "#bd3786"
             ],
             [
              0.5555555555555556,
              "#d8576b"
             ],
             [
              0.6666666666666666,
              "#ed7953"
             ],
             [
              0.7777777777777778,
              "#fb9f3a"
             ],
             [
              0.8888888888888888,
              "#fdca26"
             ],
             [
              1,
              "#f0f921"
             ]
            ],
            "type": "heatmapgl"
           }
          ],
          "histogram": [
           {
            "marker": {
             "pattern": {
              "fillmode": "overlay",
              "size": 10,
              "solidity": 0.2
             }
            },
            "type": "histogram"
           }
          ],
          "histogram2d": [
           {
            "colorbar": {
             "outlinewidth": 0,
             "ticks": ""
            },
            "colorscale": [
             [
              0,
              "#0d0887"
             ],
             [
              0.1111111111111111,
              "#46039f"
             ],
             [
              0.2222222222222222,
              "#7201a8"
             ],
             [
              0.3333333333333333,
              "#9c179e"
             ],
             [
              0.4444444444444444,
              "#bd3786"
             ],
             [
              0.5555555555555556,
              "#d8576b"
             ],
             [
              0.6666666666666666,
              "#ed7953"
             ],
             [
              0.7777777777777778,
              "#fb9f3a"
             ],
             [
              0.8888888888888888,
              "#fdca26"
             ],
             [
              1,
              "#f0f921"
             ]
            ],
            "type": "histogram2d"
           }
          ],
          "histogram2dcontour": [
           {
            "colorbar": {
             "outlinewidth": 0,
             "ticks": ""
            },
            "colorscale": [
             [
              0,
              "#0d0887"
             ],
             [
              0.1111111111111111,
              "#46039f"
             ],
             [
              0.2222222222222222,
              "#7201a8"
             ],
             [
              0.3333333333333333,
              "#9c179e"
             ],
             [
              0.4444444444444444,
              "#bd3786"
             ],
             [
              0.5555555555555556,
              "#d8576b"
             ],
             [
              0.6666666666666666,
              "#ed7953"
             ],
             [
              0.7777777777777778,
              "#fb9f3a"
             ],
             [
              0.8888888888888888,
              "#fdca26"
             ],
             [
              1,
              "#f0f921"
             ]
            ],
            "type": "histogram2dcontour"
           }
          ],
          "mesh3d": [
           {
            "colorbar": {
             "outlinewidth": 0,
             "ticks": ""
            },
            "type": "mesh3d"
           }
          ],
          "parcoords": [
           {
            "line": {
             "colorbar": {
              "outlinewidth": 0,
              "ticks": ""
             }
            },
            "type": "parcoords"
           }
          ],
          "pie": [
           {
            "automargin": true,
            "type": "pie"
           }
          ],
          "scatter": [
           {
            "fillpattern": {
             "fillmode": "overlay",
             "size": 10,
             "solidity": 0.2
            },
            "type": "scatter"
           }
          ],
          "scatter3d": [
           {
            "line": {
             "colorbar": {
              "outlinewidth": 0,
              "ticks": ""
             }
            },
            "marker": {
             "colorbar": {
              "outlinewidth": 0,
              "ticks": ""
             }
            },
            "type": "scatter3d"
           }
          ],
          "scattercarpet": [
           {
            "marker": {
             "colorbar": {
              "outlinewidth": 0,
              "ticks": ""
             }
            },
            "type": "scattercarpet"
           }
          ],
          "scattergeo": [
           {
            "marker": {
             "colorbar": {
              "outlinewidth": 0,
              "ticks": ""
             }
            },
            "type": "scattergeo"
           }
          ],
          "scattergl": [
           {
            "marker": {
             "colorbar": {
              "outlinewidth": 0,
              "ticks": ""
             }
            },
            "type": "scattergl"
           }
          ],
          "scattermapbox": [
           {
            "marker": {
             "colorbar": {
              "outlinewidth": 0,
              "ticks": ""
             }
            },
            "type": "scattermapbox"
           }
          ],
          "scatterpolar": [
           {
            "marker": {
             "colorbar": {
              "outlinewidth": 0,
              "ticks": ""
             }
            },
            "type": "scatterpolar"
           }
          ],
          "scatterpolargl": [
           {
            "marker": {
             "colorbar": {
              "outlinewidth": 0,
              "ticks": ""
             }
            },
            "type": "scatterpolargl"
           }
          ],
          "scatterternary": [
           {
            "marker": {
             "colorbar": {
              "outlinewidth": 0,
              "ticks": ""
             }
            },
            "type": "scatterternary"
           }
          ],
          "surface": [
           {
            "colorbar": {
             "outlinewidth": 0,
             "ticks": ""
            },
            "colorscale": [
             [
              0,
              "#0d0887"
             ],
             [
              0.1111111111111111,
              "#46039f"
             ],
             [
              0.2222222222222222,
              "#7201a8"
             ],
             [
              0.3333333333333333,
              "#9c179e"
             ],
             [
              0.4444444444444444,
              "#bd3786"
             ],
             [
              0.5555555555555556,
              "#d8576b"
             ],
             [
              0.6666666666666666,
              "#ed7953"
             ],
             [
              0.7777777777777778,
              "#fb9f3a"
             ],
             [
              0.8888888888888888,
              "#fdca26"
             ],
             [
              1,
              "#f0f921"
             ]
            ],
            "type": "surface"
           }
          ],
          "table": [
           {
            "cells": {
             "fill": {
              "color": "#EBF0F8"
             },
             "line": {
              "color": "white"
             }
            },
            "header": {
             "fill": {
              "color": "#C8D4E3"
             },
             "line": {
              "color": "white"
             }
            },
            "type": "table"
           }
          ]
         },
         "layout": {
          "annotationdefaults": {
           "arrowcolor": "#2a3f5f",
           "arrowhead": 0,
           "arrowwidth": 1
          },
          "autotypenumbers": "strict",
          "coloraxis": {
           "colorbar": {
            "outlinewidth": 0,
            "ticks": ""
           }
          },
          "colorscale": {
           "diverging": [
            [
             0,
             "#8e0152"
            ],
            [
             0.1,
             "#c51b7d"
            ],
            [
             0.2,
             "#de77ae"
            ],
            [
             0.3,
             "#f1b6da"
            ],
            [
             0.4,
             "#fde0ef"
            ],
            [
             0.5,
             "#f7f7f7"
            ],
            [
             0.6,
             "#e6f5d0"
            ],
            [
             0.7,
             "#b8e186"
            ],
            [
             0.8,
             "#7fbc41"
            ],
            [
             0.9,
             "#4d9221"
            ],
            [
             1,
             "#276419"
            ]
           ],
           "sequential": [
            [
             0,
             "#0d0887"
            ],
            [
             0.1111111111111111,
             "#46039f"
            ],
            [
             0.2222222222222222,
             "#7201a8"
            ],
            [
             0.3333333333333333,
             "#9c179e"
            ],
            [
             0.4444444444444444,
             "#bd3786"
            ],
            [
             0.5555555555555556,
             "#d8576b"
            ],
            [
             0.6666666666666666,
             "#ed7953"
            ],
            [
             0.7777777777777778,
             "#fb9f3a"
            ],
            [
             0.8888888888888888,
             "#fdca26"
            ],
            [
             1,
             "#f0f921"
            ]
           ],
           "sequentialminus": [
            [
             0,
             "#0d0887"
            ],
            [
             0.1111111111111111,
             "#46039f"
            ],
            [
             0.2222222222222222,
             "#7201a8"
            ],
            [
             0.3333333333333333,
             "#9c179e"
            ],
            [
             0.4444444444444444,
             "#bd3786"
            ],
            [
             0.5555555555555556,
             "#d8576b"
            ],
            [
             0.6666666666666666,
             "#ed7953"
            ],
            [
             0.7777777777777778,
             "#fb9f3a"
            ],
            [
             0.8888888888888888,
             "#fdca26"
            ],
            [
             1,
             "#f0f921"
            ]
           ]
          },
          "colorway": [
           "#636efa",
           "#EF553B",
           "#00cc96",
           "#ab63fa",
           "#FFA15A",
           "#19d3f3",
           "#FF6692",
           "#B6E880",
           "#FF97FF",
           "#FECB52"
          ],
          "font": {
           "color": "#2a3f5f"
          },
          "geo": {
           "bgcolor": "white",
           "lakecolor": "white",
           "landcolor": "#E5ECF6",
           "showlakes": true,
           "showland": true,
           "subunitcolor": "white"
          },
          "hoverlabel": {
           "align": "left"
          },
          "hovermode": "closest",
          "mapbox": {
           "style": "light"
          },
          "paper_bgcolor": "white",
          "plot_bgcolor": "#E5ECF6",
          "polar": {
           "angularaxis": {
            "gridcolor": "white",
            "linecolor": "white",
            "ticks": ""
           },
           "bgcolor": "#E5ECF6",
           "radialaxis": {
            "gridcolor": "white",
            "linecolor": "white",
            "ticks": ""
           }
          },
          "scene": {
           "xaxis": {
            "backgroundcolor": "#E5ECF6",
            "gridcolor": "white",
            "gridwidth": 2,
            "linecolor": "white",
            "showbackground": true,
            "ticks": "",
            "zerolinecolor": "white"
           },
           "yaxis": {
            "backgroundcolor": "#E5ECF6",
            "gridcolor": "white",
            "gridwidth": 2,
            "linecolor": "white",
            "showbackground": true,
            "ticks": "",
            "zerolinecolor": "white"
           },
           "zaxis": {
            "backgroundcolor": "#E5ECF6",
            "gridcolor": "white",
            "gridwidth": 2,
            "linecolor": "white",
            "showbackground": true,
            "ticks": "",
            "zerolinecolor": "white"
           }
          },
          "shapedefaults": {
           "line": {
            "color": "#2a3f5f"
           }
          },
          "ternary": {
           "aaxis": {
            "gridcolor": "white",
            "linecolor": "white",
            "ticks": ""
           },
           "baxis": {
            "gridcolor": "white",
            "linecolor": "white",
            "ticks": ""
           },
           "bgcolor": "#E5ECF6",
           "caxis": {
            "gridcolor": "white",
            "linecolor": "white",
            "ticks": ""
           }
          },
          "title": {
           "x": 0.05
          },
          "xaxis": {
           "automargin": true,
           "gridcolor": "white",
           "linecolor": "white",
           "ticks": "",
           "title": {
            "standoff": 15
           },
           "zerolinecolor": "white",
           "zerolinewidth": 2
          },
          "yaxis": {
           "automargin": true,
           "gridcolor": "white",
           "linecolor": "white",
           "ticks": "",
           "title": {
            "standoff": 15
           },
           "zerolinecolor": "white",
           "zerolinewidth": 2
          }
         }
        },
        "title": {
         "text": "K-means Clustering with 2 Features"
        },
        "xaxis": {
         "anchor": "y",
         "domain": [
          0,
          1
         ],
         "title": {
          "text": "Marine Protected Area"
         }
        },
        "yaxis": {
         "anchor": "x",
         "domain": [
          0,
          1
         ],
         "title": {
          "text": "Fishing Exports"
         }
        }
       }
      },
      "text/html": [
       "<div>                            <div id=\"9855167d-eaaa-4246-b117-45ab893b1c3b\" class=\"plotly-graph-div\" style=\"height:525px; width:100%;\"></div>            <script type=\"text/javascript\">                require([\"plotly\"], function(Plotly) {                    window.PLOTLYENV=window.PLOTLYENV || {};                                    if (document.getElementById(\"9855167d-eaaa-4246-b117-45ab893b1c3b\")) {                    Plotly.newPlot(                        \"9855167d-eaaa-4246-b117-45ab893b1c3b\",                        [{\"customdata\":[[\"-0.806\"],[\"-0.725\"],[\"-0.645\"],[\"-0.564\"],[\"-0.483\"],[\"-0.403\"],[\"-0.322\"],[\"-0.242\"],[\"-0.161\"],[\"-0.081\"],[\"0.000\"],[\"0.081\"],[\"0.161\"],[\"0.242\"],[\"0.322\"],[\"0.403\"],[\"0.483\"],[\"0.564\"],[\"0.645\"],[\"0.725\"],[\"0.806\"],[\"0.886\"],[\"0.967\"],[\"1.048\"],[\"1.128\"],[\"1.209\"],[\"1.289\"],[\"1.370\"],[\"1.450\"],[\"1.531\"],[\"1.612\"],[\"1.692\"],[\"-1.692\"],[\"-1.612\"],[\"-1.531\"],[\"-1.450\"],[\"-1.370\"],[\"-1.289\"],[\"-1.209\"],[\"-1.128\"],[\"-1.048\"],[\"-0.967\"],[\"-0.886\"],[\"-0.806\"],[\"-0.725\"],[\"-0.645\"],[\"-0.564\"],[\"-0.483\"],[\"-0.403\"],[\"-0.322\"],[\"-0.242\"],[\"-0.161\"],[\"-0.081\"],[\"0.000\"],[\"0.081\"],[\"0.161\"],[\"0.242\"],[\"0.322\"],[\"0.403\"],[\"0.483\"],[\"0.564\"],[\"0.645\"],[\"0.725\"],[\"0.806\"],[\"0.886\"],[\"0.967\"],[\"1.048\"],[\"1.128\"],[\"1.209\"],[\"1.289\"],[\"1.370\"],[\"1.450\"],[\"1.531\"],[\"1.612\"],[\"1.692\"],[\"-1.692\"],[\"-1.612\"],[\"-1.531\"],[\"-1.450\"],[\"-1.370\"],[\"-1.289\"],[\"-1.209\"],[\"-1.128\"],[\"-1.048\"],[\"-0.967\"],[\"-0.886\"],[\"-0.806\"],[\"-0.725\"],[\"-0.645\"],[\"-0.564\"],[\"-0.483\"],[\"-0.403\"],[\"-0.322\"],[\"-0.242\"],[\"-0.161\"],[\"-0.081\"],[\"0.000\"],[\"0.081\"],[\"0.161\"],[\"0.242\"],[\"0.322\"],[\"0.403\"],[\"0.483\"],[\"0.564\"],[\"0.645\"],[\"0.725\"],[\"0.806\"],[\"0.886\"],[\"0.967\"],[\"1.048\"],[\"1.128\"],[\"1.209\"],[\"1.289\"],[\"1.370\"],[\"1.450\"],[\"1.531\"],[\"1.612\"],[\"1.692\"],[\"-1.692\"],[\"-1.612\"],[\"-1.531\"],[\"-1.450\"],[\"-1.370\"],[\"-1.289\"],[\"-1.209\"],[\"-1.128\"],[\"-1.048\"],[\"-0.967\"],[\"-0.886\"],[\"-0.806\"],[\"-0.725\"],[\"-0.645\"],[\"-0.564\"],[\"-0.483\"],[\"-0.403\"],[\"-0.322\"],[\"-0.242\"],[\"-0.161\"],[\"-0.081\"],[\"0.000\"],[\"0.081\"],[\"0.161\"],[\"0.242\"],[\"0.322\"],[\"0.403\"],[\"0.483\"],[\"0.564\"],[\"0.645\"],[\"0.725\"],[\"0.806\"],[\"0.886\"],[\"0.967\"],[\"1.048\"],[\"1.128\"],[\"1.209\"],[\"1.289\"],[\"1.370\"],[\"1.450\"],[\"1.531\"],[\"1.612\"],[\"1.692\"],[\"-1.692\"],[\"-1.612\"],[\"-1.531\"],[\"-1.450\"],[\"-1.370\"],[\"-1.289\"],[\"-1.209\"],[\"-1.128\"],[\"-1.048\"],[\"-0.967\"],[\"-0.886\"],[\"-0.806\"],[\"-0.725\"],[\"-0.645\"],[\"-0.564\"],[\"-0.483\"],[\"-0.403\"],[\"-0.322\"],[\"-0.242\"],[\"-0.161\"],[\"-0.081\"],[\"0.000\"],[\"0.081\"],[\"0.161\"],[\"0.242\"],[\"0.322\"],[\"0.403\"],[\"0.483\"],[\"0.564\"],[\"0.645\"],[\"0.725\"],[\"0.806\"],[\"0.886\"],[\"0.967\"],[\"1.048\"],[\"1.128\"],[\"1.209\"],[\"1.289\"],[\"1.370\"],[\"1.450\"],[\"1.531\"],[\"1.612\"],[\"1.692\"],[\"-1.692\"],[\"-1.612\"],[\"-1.531\"],[\"-1.450\"],[\"-1.370\"],[\"-1.289\"],[\"-1.209\"],[\"-1.128\"],[\"-1.048\"],[\"-0.967\"],[\"-0.886\"],[\"-0.806\"],[\"-0.725\"],[\"-0.645\"],[\"-0.564\"],[\"-0.483\"],[\"-0.403\"],[\"-0.322\"],[\"-0.242\"],[\"-0.161\"],[\"-0.081\"],[\"0.000\"],[\"0.081\"],[\"0.161\"],[\"0.242\"],[\"0.322\"],[\"0.403\"],[\"0.483\"],[\"0.564\"],[\"0.645\"],[\"0.725\"],[\"0.806\"],[\"0.886\"],[\"0.967\"],[\"1.048\"],[\"1.128\"],[\"1.209\"],[\"1.289\"],[\"1.370\"],[\"1.450\"],[\"1.531\"],[\"1.612\"],[\"1.692\"],[\"-1.692\"],[\"-1.612\"],[\"-1.531\"],[\"-1.450\"],[\"-1.370\"],[\"-1.289\"],[\"-1.209\"],[\"-1.128\"],[\"-1.048\"],[\"-0.967\"],[\"-0.886\"],[\"-0.806\"],[\"-0.725\"],[\"-0.645\"],[\"-0.564\"],[\"-0.483\"],[\"-0.403\"],[\"-0.322\"],[\"-0.242\"],[\"-0.161\"],[\"-0.081\"],[\"0.000\"],[\"0.081\"],[\"0.161\"],[\"0.242\"],[\"0.322\"],[\"0.403\"],[\"0.483\"],[\"0.564\"],[\"0.645\"],[\"0.725\"],[\"0.806\"],[\"0.886\"],[\"0.967\"],[\"1.048\"],[\"1.128\"],[\"1.209\"],[\"1.289\"],[\"1.370\"],[\"1.450\"],[\"1.531\"],[\"1.612\"],[\"1.692\"],[\"-1.692\"],[\"-1.612\"],[\"-1.531\"],[\"-1.450\"],[\"-1.370\"],[\"-1.289\"],[\"-1.209\"],[\"-1.128\"],[\"-1.048\"],[\"-0.967\"],[\"-0.886\"],[\"-0.806\"],[\"-0.725\"],[\"-0.645\"],[\"-0.564\"],[\"-0.483\"],[\"-0.403\"],[\"-0.322\"],[\"-0.242\"],[\"-0.161\"],[\"-0.081\"],[\"0.000\"],[\"0.081\"],[\"0.161\"],[\"0.242\"],[\"0.322\"],[\"0.403\"],[\"0.483\"],[\"0.564\"],[\"0.645\"],[\"0.725\"],[\"0.806\"],[\"0.886\"],[\"0.967\"],[\"1.048\"],[\"1.128\"],[\"1.209\"],[\"1.289\"],[\"1.370\"],[\"1.450\"],[\"1.531\"],[\"1.612\"],[\"1.692\"],[\"-1.692\"],[\"-1.612\"],[\"-1.531\"],[\"-1.450\"],[\"-1.370\"],[\"-1.289\"],[\"-1.209\"],[\"-1.128\"],[\"-1.048\"],[\"-0.967\"],[\"-0.886\"],[\"-0.806\"],[\"-0.725\"],[\"-0.645\"],[\"-0.564\"],[\"-0.483\"],[\"-0.403\"],[\"-0.322\"],[\"-0.242\"],[\"-0.161\"],[\"-0.081\"],[\"0.000\"],[\"0.081\"],[\"0.161\"],[\"0.242\"],[\"0.322\"],[\"0.403\"],[\"0.483\"],[\"0.564\"],[\"0.645\"],[\"0.725\"],[\"0.806\"],[\"0.886\"],[\"0.967\"],[\"1.048\"],[\"1.128\"],[\"1.209\"],[\"1.289\"],[\"1.370\"],[\"1.450\"],[\"1.531\"],[\"1.612\"],[\"1.692\"],[\"-1.692\"],[\"-1.612\"],[\"-1.531\"],[\"-1.450\"],[\"-1.370\"],[\"-1.289\"],[\"-1.209\"],[\"-1.128\"],[\"-1.048\"],[\"-0.967\"],[\"-0.886\"],[\"-0.806\"],[\"-0.725\"],[\"-0.645\"],[\"-0.564\"],[\"-0.483\"],[\"-0.403\"],[\"-0.322\"],[\"-0.242\"],[\"-0.161\"],[\"-0.081\"],[\"0.000\"],[\"0.081\"],[\"0.161\"],[\"0.242\"],[\"0.322\"],[\"0.403\"],[\"0.483\"],[\"0.564\"],[\"0.645\"],[\"0.725\"],[\"0.806\"],[\"0.886\"],[\"0.967\"],[\"1.048\"],[\"1.128\"],[\"1.209\"],[\"1.289\"],[\"1.370\"],[\"1.450\"],[\"1.531\"],[\"1.612\"],[\"1.692\"],[\"-1.692\"],[\"-1.612\"],[\"-1.531\"],[\"-1.450\"],[\"-1.370\"],[\"-1.289\"],[\"-1.209\"],[\"-1.128\"],[\"-1.048\"],[\"-0.967\"],[\"-0.886\"],[\"-0.806\"],[\"-0.725\"],[\"-0.645\"],[\"-0.564\"],[\"-0.483\"],[\"-0.403\"],[\"-0.322\"],[\"-0.242\"],[\"-0.161\"],[\"-0.081\"],[\"0.000\"],[\"0.081\"],[\"0.161\"],[\"0.242\"],[\"0.322\"],[\"0.403\"],[\"0.483\"],[\"0.564\"],[\"0.645\"],[\"0.725\"],[\"0.806\"],[\"0.886\"],[\"0.967\"],[\"1.048\"],[\"1.128\"],[\"1.209\"],[\"1.289\"],[\"1.370\"],[\"1.450\"],[\"1.531\"],[\"1.612\"],[\"1.692\"],[\"-1.692\"],[\"-1.612\"],[\"-1.531\"],[\"-1.450\"],[\"-1.370\"],[\"-1.289\"],[\"-1.209\"],[\"-1.128\"],[\"-1.048\"],[\"-0.967\"],[\"-0.886\"],[\"-0.806\"],[\"-0.725\"],[\"-0.645\"],[\"-0.564\"],[\"-0.483\"],[\"-0.403\"],[\"-0.322\"],[\"-0.242\"],[\"-0.161\"],[\"-0.081\"],[\"0.000\"],[\"0.081\"],[\"0.161\"],[\"0.242\"],[\"0.322\"],[\"0.403\"],[\"0.483\"],[\"0.564\"],[\"0.645\"],[\"0.725\"],[\"0.806\"],[\"0.886\"],[\"0.967\"],[\"1.048\"],[\"1.128\"],[\"1.209\"],[\"1.289\"],[\"1.370\"],[\"1.450\"],[\"1.531\"],[\"1.612\"],[\"1.692\"],[\"-1.692\"],[\"-1.612\"],[\"-1.531\"],[\"-1.450\"],[\"-1.370\"],[\"-1.289\"],[\"-1.209\"],[\"-1.128\"],[\"-1.048\"],[\"-0.967\"],[\"-0.886\"]],\"hovertemplate\":\"Marine Protected Area (sqkm)=%{x}<br>Fishing Exports (Millions)=%{y}<br>Country=%{customdata[0]}<br>Clusters_f=%{marker.color}<extra></extra>\",\"legendgroup\":\"\",\"marker\":{\"color\":[0,0,0,0,0,2,0,0,0,0,0,0,0,0,0,0,0,0,0,0,0,0,0,0,0,0,0,0,0,0,0,0,0,0,1,0,2,2,0,2,0,2,2,0,0,0,0,0,2,0,0,0,0,0,0,0,0,0,0,0,0,0,0,0,0,0,0,0,0,0,0,0,0,0,0,0,0,1,0,2,2,0,2,0,2,2,0,0,0,0,0,2,0,0,0,0,0,0,0,0,0,0,0,0,0,0,0,0,0,0,0,0,0,0,0,0,0,0,0,0,1,0,2,2,0,2,0,2,2,0,0,0,0,0,2,0,0,0,0,0,0,0,0,0,0,0,0,0,0,0,0,0,0,0,0,0,0,0,0,0,0,0,0,1,0,2,2,0,2,0,2,2,0,0,0,0,0,2,0,0,0,0,0,0,0,0,0,0,0,0,0,0,0,0,0,0,0,0,0,0,0,0,0,0,0,0,1,0,2,2,0,2,0,2,2,0,0,0,0,0,2,0,0,0,0,0,0,0,0,0,0,0,0,0,0,0,0,0,0,0,0,0,0,0,0,0,0,0,0,1,0,2,2,0,2,0,2,2,0,0,0,0,0,2,0,0,0,0,0,0,0,0,0,0,0,0,0,0,0,0,0,0,0,0,0,0,0,0,0,0,0,0,1,0,2,2,0,2,0,2,2,0,0,0,2,0,2,0,0,0,0,0,0,0,0,0,0,0,0,0,0,0,0,0,0,0,0,0,0,0,0,0,0,0,0,1,0,2,2,0,2,0,2,2,0,0,0,2,0,2,0,0,0,0,0,0,0,0,0,0,0,0,0,0,0,0,0,0,0,0,0,0,0,0,0,0,0,0,1,0,2,2,0,2,0,2,2,0,0,0,2,0,2,0,0,0,0,0,0,0,0,0,0,0,0,0,0,0,0,0,0,0,0,0,0,0,0,0,0,0,0,1,0,2,2,0,2,0,2,2,0,0,0,2,0,2,0,0,0,0,0,0,0,0,0,0,0,0,0,0,0,0,0,0,0,0,0,0,0,0,0,0,0,0,1,0,2,2,0,2,0,2,2,0,0,0,2,0,2,0,0,0,0,0,0,0,0,0,0,0,0,0,0,0,0,0,0,0,0,0,0,0,0,0,0,0,0,1,0,2,2,0,2,0,2,2],\"coloraxis\":\"coloraxis\",\"symbol\":\"circle\"},\"mode\":\"markers\",\"name\":\"\",\"orientation\":\"v\",\"showlegend\":false,\"x\":[-0.21640322178311114,-0.2794764295505674,-0.20061946233386846,-0.0007242924461850107,-0.24928101109428574,-0.27690719449436046,-0.2492731178990286,-0.28007105025994045,-0.26839701447459463,-0.20034583156495345,-0.26080902276737405,-0.2217942741437543,-0.27757811609121946,-0.2595329562007992,-0.27444057097649666,-0.18469230983745394,0.24128633626864088,-0.15858161992675474,-0.28021312777456936,-0.2802078656443979,-0.24661442662990712,-0.25973160161477116,-0.2535065016219543,0.041935796853701815,-0.2753693369517563,-0.26938629494682587,-0.27954878384042475,-0.20950588466089248,-0.2775294413871336,-0.2368373887713664,-0.19618743319697074,-0.23306312590589903,-0.2793343520359385,-0.2625086908127501,3.238824584584919,-0.11070412856188243,0.10158467341209171,-0.24063664675514812,-0.27201472896746154,-0.14049567852750586,-0.25800036078836647,0.24375295978650469,-0.10004568389962504,-0.22414513079784634,-0.2801355113545406,-0.20286244531944594,0.2957375437501882,-0.25122931479026245,-0.27143984124623144,-0.26311252024992315,-0.27977242437271105,-0.2729750677237498,-0.19310382491650527,-0.2649200619638138,-0.2248726202940483,-0.2763007339921017,-0.263161194954009,-0.27455107571009696,-0.19739246100623112,0.20603532625014562,-0.07557414753733029,-0.28021312777456936,-0.28017760839591216,-0.2232163648225867,-0.2647437806030704,-0.2459619224886482,0.02701502675257574,-0.2740011831071812,-0.27444057097649666,-0.2798250456744255,-0.2348654054896182,-0.27732684937553304,-0.20937564693914926,-0.19697938378777288,-0.22884421304094477,-0.27738867940504747,-0.2517489501446924,3.9622109347857037,-0.15355102348285546,0.08535363289827637,-0.23598097708596408,-0.2514621640503488,-0.12196508712877002,-0.26352954406601004,-0.030076454542492945,0.15334561684348877,-0.20221388777581562,-0.27987898250868276,-0.18047734357012826,0.17698705217123842,-0.2740656442017813,-0.27723213103244704,-0.26488059598752794,-0.27988950676902563,-0.2735065428710655,-0.18031290200227065,-0.2697835857747698,-0.21794634145588673,-0.27612971476152975,-0.26141285220454713,-0.275561404703014,-0.2291046884844312,0.22853093273306357,-0.024548586797392285,-0.2801933947864265,-0.2801868171237122,-0.23527453611044788,-0.2646951058989846,-0.234574672797646,0.2718224776535235,-0.27581267141870036,-0.27294086387763544,-0.2799552833961687,-0.2196881065426343,-0.2752733030761275,-0.20674195078834215,-0.16872700689729647,-0.22534094987930672,-0.2783516492264215,-0.23507194409884732,4.846018585393093,-0.20122197623849863,0.17110925276973685,-0.2096255981222928,-0.193172232608734,-0.0717946225416915,-0.26168385190837645,0.008898828104841026,0.02592708133962994,-0.19972621573726604,-0.28016576860302644,-0.1917567195926159,0.42571873664753973,-0.27427086727846767,-0.27728869893179003,-0.2640254998346685,-0.2799868561771974,-0.27346970795986547,-0.1779120551115499,-0.26930210086408274,-0.21412208835379068,-0.27485496372749774,-0.25982631995785715,-0.27529566712935616,-0.21931712636554757,0.20518286116237186,-0.025812813571081436,-0.28019076372134083,-0.2801539288101407,-0.231137186263151,-0.26911529524299654,-0.2459882331395054,0.20666151974054728,-0.2765006949386165,-0.27131749671974537,-0.2797961039584826,-0.21463909264313494,-0.2738841007108666,-0.19889743023526377,-0.14079430441473523,-0.22119307577166694,-0.27874104685910833,-0.23425368285718798,5.087709539700005,-0.10516310549135315,0.14631804199952697,-0.2209970614227807,-0.20017612786692437,-0.06916881958614153,-0.2621298174404062,0.05413604565619192,0.03360716032485073,-0.18862443660806458,-0.2802197054372837,-0.18953215406263846,0.386967094532492,-0.2745155563314397,-0.2772597572158471,-0.2668460016065618,-0.27993686594056866,-0.27435769242629643,-0.17733322079269118,-0.27138064228180264,-0.21785293864534364,-0.27386042112509507,-0.25986315486905726,-0.2742879692015248,-0.2283943009112864,0.23613865742842702,-0.04063097213386435,-0.2801723462657407,-0.28012498709419775,-0.23068201200332117,-0.26676312305636163,-0.23533899720504806,0.2094333468083548,-0.27555482704029965,-0.2719949959793186,-0.2798250456744255,-0.21802001127828693,-0.2737275523382662,-0.18399639312228064,-0.15602422466343355,-0.22069712000300845,-0.2788581292554229,-0.23367221747324354,5.707572687505452,-0.0818031941277757,0.15645685130735434,-0.2218311090549544,-0.22828642724277184,-0.060463940750032266,-0.2613220804590897,0.055181894027766215,-0.004932681050796363,-0.1864314438591158,-0.28010788517114055,-0.1831741852829927,0.5555894248112909,-0.27611524390355835,-0.2772979076595901,-0.2641570530889546,-0.2800118512955117,-0.2729632279308641,-0.17933151472529657,-0.2710491280810018,-0.21809499663322998,-0.2733355236404937,-0.2621061378546347,-0.2738841007108666,-0.22236521526735584,0.2274890309591179,-0.0391733620763747,-0.28016182200539785,-0.2800671036623119,-0.2326658350779551,-0.2649226930288995,-0.23583363744116367,0.36318752828774203,-0.2749431044078694,-0.27199762704440433,-0.279744798189311,-0.21707808997759867,-0.27346049923206545,-0.18393850969039474,-0.11685292766721335,-0.1999985309736382,-0.2785397703800506,-0.24191008225663724,6.157622948080813,0.07892067876368752,0.39348818934745255,-0.23404451318287312,-0.17931309726969655,-0.06296213704892474,-0.2556166158207029,-0.021128202185954462,0.03560413872491325,-0.18957162003892428,-0.28010788517114055,-0.20437004561356428,0.9537235091151961,-0.27607840899235825,-0.2773163251151901,-0.2651660665493287,-0.27980399715373977,-0.2730079560373213,-0.18965318305658163,-0.27007826506437055,-0.2155849605414518,-0.2725975098839488,-0.26181014303249106,-0.2742248236394675,-0.2269143268005681,0.2642792140527602,-0.015216198938338468,-0.28013682688708347,-0.2801013075084262,-0.21719648790645615,-0.26661052128138973,-0.219417106838805,0.422410172302245,-0.2736420427229802,-0.2724909517479771,-0.2797382205265967,-0.2107937910203531,-0.2734184021906939,-0.16763511488672211,-0.11249193728763011,-0.2110582130614681,-0.2782358823626498,-0.2415206846239505,6.588691389595235,0.12573653536647125,0.35826217444727154,-0.19213427743241693,-0.18884939267289377,-0.06642330316919123,-0.25211729925669346,-0.05247602714978209,0.18260306059671078,-0.17173957642044746,-0.2801881326562551,-0.18217964268059,0.6226829000297295,-0.274474774822611,-0.27745445603219054,-0.26308357853398023,-0.2798934533666543,-0.27308557245735016,-0.19177513704821597,-0.27084785160194413,-0.21088982489598193,-0.2739432996752953,-0.2593119467335986,-0.27531145351987046,-0.22736555446276935,0.3077194141505634,-0.0034579690702495128,-0.2800671036623119,-0.2800079046978831,-0.20220336351547274,-0.26559624569084417,-0.19253288379290373,0.48429808524858386,-0.2743642700890107,-0.27235413636351957,-0.27963560898825357,-0.2050028167666803,-0.27416299360995305,-0.1560557974444622,-0.13185262972091105,-0.21180280448072725,-0.2782950813270785,-0.23981443891586018,6.841357831907232,0.09964426291137217,0.26496592204013353,-0.1959822101202845,-0.22454373715833315,-0.06933457668654198,-0.243140105184212,-0.0680282528714813,0.32215212167828816,-0.16574601015517412,-0.2802197054372837,-0.1440120970145725,0.748564893523527,-0.27368019316672315,-0.27706111180187515,-0.2624547539784928,-0.2798289922720541,-0.2712096230512308,-0.17753186620666317,-0.26865354332045244,-0.20291112002353182,-0.2696691344435409,-0.2578517056110232,-0.2750917595852127,-0.22354919455593045,0.3369255521346139,0.018227269366266233,-0.2801263026267406,-0.2799460746683687,-0.18140874061047363,-0.2682917718711657,-0.1765399546693462,0.7801153104989551,-0.2728250970138637,-0.2715358751218602,-0.2795435217102533,-0.1984317317150911,-0.2727593203867207,-0.1354256161073207,-0.11315101909160333,-0.20296900345541766,-0.2789304835452802,-0.24445037559690125,7.699408670857953,0.07701578764162523,0.4376400925509434,-0.21284602178721582,-0.218463345745231,-0.07489664827775702,-0.2345562553420459,-0.045719452009649546,0.3437663213574895,-0.1626571397445372,-0.2802197054372837,-0.14321093769597032,0.9593474107359257,-0.2713569626960312,-0.2772018737839613,-0.26237319096083545,-0.27983951653239697,-0.26989672157345584,-0.17153303781121837,-0.26780502483030727,-0.20046159842872516,-0.26526867808767185,-0.2522922650848939,-0.2744576728995538,-0.2236978497332737,0.35298952001548584,0.08224766056458224,-0.2801184094314834,-0.28004473960908327,-0.17844616132395133,-0.2670775353341053,-0.17896448114583843,0.7549518040191159,-0.27297901432137844,-0.2684719998295377,-0.2796158760001106,-0.19684388393585825,-0.27241465086049116,-0.1171252429035855,-0.05976407743723038,-0.2062038979783121,-0.2789002262967944,-0.24473453062615919,7.795954288645958,0.19726072418926469,0.6046259003464235,-0.20228229546804435,-0.23206858330349636,-0.05880505421348494,-0.23963421095748824,-0.024365727773934663,0.3780096334481536,-0.159306478357871,-0.2802197054372837,-0.1421874533776247,0.9357875384258333,-0.2673077535291059,-0.2772913299968758,-0.26381106803018217,-0.27976584670999677,-0.27112279790340194,-0.1836661944540226,-0.26682100648824747,-0.2013232722442989,-0.26860092201873803,-0.25552452854270263,-0.275041769348584,-0.2151350484117934,0.3431835404410022,0.09511225330121702,-0.28014077348471206,-0.28002237555585463,-0.18646038557505873,-0.2669946567839051,-0.1788092483057809,0.7330245075947136,-0.2711714726074878,-0.26661709894410407,-0.27939618206545286,-0.19916316780892163,-0.2728487765996352,-0.08630757755453074,-0.09744356052984658,-0.1954086379315972,-0.2791764881307952,-0.24098000074883474,7.586058440367447,0.2105962775762436,0.6807491909390578,-0.20374648318824834,-0.20453974931159333,-0.04397110926018768,-0.23122532694352263,-0.01984687348920814,0.5735780168023681,-0.16317019743625288,-0.2802197054372837,-0.16251111563227968,1.075947006607298,-0.2627665351911508,-0.2773439512985902,-0.26229162794317806,-0.27979741949102543,-0.27186738932266113,-0.17417331162473976,-0.26604089569033107,-0.20539221439936708,-0.25897253933754055,-0.2569203085706778,-0.2741695712726674,-0.21881327740163195,0.3166058364775875,0.07361250495324462,-0.2801710307331979,-0.2799934338399117,-0.16066016134447467,-0.26972701787542674,-0.17263940067976422,0.7962700501252847,-0.2699953865141704,-0.26619612853038865,-0.2794159150535958,-0.19127786574701458,-0.2745181873965254,-0.046454834701108665,-0.06631806056576238,-0.2055092967956817,-0.27909097851550924,-0.23996835622337487,8.064208476058312,0.2715975215886943,0.6098472490090376,-0.10655362338915693,-0.2188474812477463,-0.02811894211871624,-0.21173176572341276,-0.017894623195602873,0.8349966971220179],\"xaxis\":\"x\",\"y\":[-0.1797295601550148,-0.5485192350192032,0.5636094453490641,0.16812111507690097,-0.6742616782144735,-0.6992071329626894,0.5633533937063158,-0.7128893278022496,-0.7631055735035851,-0.27072730161547964,-0.2840660860165303,-0.6694418825862708,-0.28168932429737287,-0.6226687783868324,-0.7676542556277014,-0.5870956742784297,-0.5700396224991278,-0.14853343295147356,-0.7410610332490937,-0.7511886288128543,-0.5061472067027672,-0.14270750498588367,-0.34004801223810327,1.120316927012336,-0.6516086387619213,-0.6305732432170845,-0.7681753960300008,0.018499596916154572,-0.5720518871739023,-0.7291952988869125,-0.24128738744396472,0.4894237535142233,-0.43295559771624337,-0.6392006773915673,1.7820477554141427,-0.08969879019245816,0.28662784008533204,-0.6757046045306666,-0.20069567113769607,-0.5367468841973184,0.5117333825282662,1.5429527561603502,0.5703360726226743,-0.41750212798331887,-0.46453730857004083,0.4552062169262527,0.466981580120405,-0.7007946531477286,-0.7034244541373667,0.4110689384609875,-0.7165342982460777,-0.7655124589454189,-0.2827466669633098,-0.30349588714272197,-0.6446711454295772,-0.30645403670953125,-0.6399597952030092,-0.764705143177695,-0.5815559216782643,-0.4308921227129192,-0.3913969099120666,-0.7156155247044517,-0.7003427973075846,-0.5695395687027018,0.08781127042197541,-0.4405558129474653,0.8496221426711408,-0.5676056257068854,-0.6316275735107538,-0.760590242660117,0.004597498901057851,-0.3931952961558397,-0.6944174610571631,-0.18947759681305457,0.7738368811621904,-0.2011083661383609,-0.5818692083940975,3.699314258356849,-0.15622703172299193,0.10953047447156329,-0.5281164376505681,-0.07754688046485235,-0.5799864757268308,-0.01713074226533296,1.2968961645960733,1.1157863191218256,-0.5318909401019043,-0.4618472601350503,0.23890282624932363,0.20400750590113687,-0.7270203661096859,-0.7311864769558135,0.34654693686069304,-0.715862539230397,-0.7579694787872818,-0.3385568879656281,-0.08511998434566576,-0.5984221940047058,-0.15022036142134446,-0.6258377940123756,-0.7612710387926006,-0.5795677559816308,-0.32671826495385553,-0.20269287395113247,-0.7210317700416443,-0.6650890046595505,-0.5479589337774247,0.0761142289067813,-0.4312927682245135,1.4313805121119954,-0.413555920312728,-0.5296045495507757,-0.764608747265131,0.0756593606943696,-0.03512364181986674,-0.6851544163342113,0.011604276795557289,0.7947096086045752,-0.20472321285951284,-0.7170765252542506,4.266275855219122,-0.04654956983097458,-0.057842953462306695,-0.5437416126027474,0.005630742588853731,-0.5461213866941724,-0.1142948097576295,1.4246056868821033,1.087747158054757,-0.5496970725758452,-0.44168846492009295,0.2531965326592119,0.40962902451706207,-0.7287765791417122,-0.7255563531876195,0.3642205249548584,-0.7129043896635877,-0.7574694249908559,-0.3346408040177135,-0.015205836386319591,-0.5793267662002206,-0.0861321414275882,-0.6089293484741873,-0.761671684304195,-0.5711391383768115,-0.3756934132809291,-0.08801186172258728,-0.7184893278477674,-0.6666494134941809,-0.47027889011213714,0.1209112168986567,-0.42958776552103684,1.279123168217076,-0.3835285935490259,-0.49780896026597676,-0.7642081017535366,0.24749411195659474,-0.06733493847759824,-0.6639232165919788,0.08052434190658661,1.1245011120920694,-0.23984144875550395,-0.7217185909186631,4.916442186485509,0.17143171219902267,0.020689591554719118,-0.5441934684428914,0.11235909203086478,-0.5539957278017484,-0.13822509505165537,1.5480346281758361,1.2904014899870697,-0.5503356954965821,-0.481171628231875,0.2573716806221424,0.3715948122660084,-0.7287374183022332,-0.7115006241868737,0.333187065853769,-0.701589919426382,-0.7547944384172034,-0.29728437552687587,-0.003198520527559863,-0.5746816881635404,-0.06096075875930022,-0.5673555988086725,-0.7621687257283534,-0.5862702842771,-0.3813536607717995,-0.07980013492103706,-0.7044486607083598,-0.6683092306136433,-0.47562886325944204,0.15547517629740443,-0.4263645271946763,1.1658820699324561,-0.35796259011367876,-0.4915251517157077,-0.7641719532863251,0.2608871190584627,-0.04093149555185092,-0.6614470465879898,0.014743168698424243,0.958227200035883,-0.33884607570332026,-0.722299978766315,5.04179000891372,0.19101514431086325,0.1407778120036542,-0.5617224626682107,0.10720191070868791,-0.5229411820947857,-0.16721917812756146,1.5445432887176573,1.1577757761602732,-0.5376174597826625,-0.4862775992255021,0.305587711137774,0.5397183208945173,-0.7298550084135227,-0.7223090158831179,0.4235883576052437,-0.7042920173504432,-0.755619828418533,-0.2971126703076211,0.0028352611244961716,-0.5877614085495751,-0.06239766033095811,-0.5811010534658527,-0.7604878220030178,-0.5726754482333011,-0.25169212125634705,-0.1791481723073629,-0.6985654976696849,-0.6545728130732659,-0.4861601167070647,0.11690174941044569,-0.4559881960745165,1.4508464617053989,-0.313442740370425,-0.49086544218909745,-0.7640183223006761,0.2362338644202064,0.09618265295370977,-0.630666626757381,0.04602665469772662,0.9907216596867714,-0.29824532228024875,-0.7200166005874541,5.196857896134335,0.5730200963131296,0.26747517720776204,-0.5690967499793607,-0.02767103282975856,-0.4302625369089852,-0.11918388994798751,1.1804740011968398,1.2728092359441305,-0.49329642660907214,-0.4639016980215716,0.40518276305004514,0.8959554405195058,-0.7217969125976215,-0.7251707695373633,0.43461062773248954,-0.7089822809711379,-0.7568669505373306,-0.317000352018492,0.07430078080167007,-0.5794472610909257,-0.1612456439208579,-0.5651595794255727,-0.7606143416382579,-0.5570291866752484,-0.24608308409402632,-0.2370610291524846,-0.7105095537108245,-0.6304678101877177,-0.466811649632099,0.2587995450769973,-0.4514545758117385,1.7055937472617788,-0.2597562418167835,-0.46488674375308553,-0.7630152023355564,0.26507431651046354,0.20093488618815777,-0.5893549534791496,0.10314123289192723,1.0090579696798145,-0.24195914645964547,-0.7233693709213225,5.5261583829422065,0.874251298331256,0.4688914241380803,-0.5498778149119029,0.032278187668278786,-0.4633926071083427,0.007923157884517624,1.144512301065913,1.550802998289785,-0.44639077802985805,-0.4491501110270041,0.6324572135256704,0.7241628624690274,-0.7207094462090082,-0.7292796453104059,0.5191257440730218,-0.7136755569641001,-0.758508693423187,-0.27644177180716734,0.07447851076546008,-0.5717657118084778,-0.14603316396934357,-0.5657018064337455,-0.7625000866777922,-0.5406900794956417,-0.17278905445040307,-0.2647477426642408,-0.7141906726218643,-0.6142522102710836,-0.4536475828225706,0.3277226225602944,-0.4360493040350959,2.003517364530051,-0.24809534876880085,-0.4345129941786064,-0.7625723836122152,0.37563741584916327,0.3375339190359543,-0.5606349962795976,-0.013479747076969535,0.9369598518264394,-0.3293299917098878,-0.7038883594665811,5.230719972794726,0.6997987955684635,0.3701548983220829,-0.5638130490219435,-0.052035099730322526,-0.5285893800965855,0.3369977167723167,0.9464187007467868,1.2694534532379946,-0.46315462969920024,-0.43091019694652494,0.7620615179680379,0.806789221397758,-0.7195587200027748,-0.7355845404665485,0.6449585584363209,-0.7264359658897664,-0.7519567837410991,-0.25342724768249997,0.12365850040673214,-0.546763021987177,-0.2246470430375953,-0.5705818495073006,-0.7634911571538414,-0.5347316071502762,-0.2012439228904041,-0.20447921070583508,-0.70891600878125,-0.5976600638209962,-0.4232437095254152,0.4970239687454454,-0.41351675947324884,2.667757499030791,-0.15476301880092544,-0.45580444136619125,-0.7593370957967843,0.4796365560167045,0.5624948676100423,-0.5216729733701149,0.12372176022435231,0.8954734609566855,-0.19076990451586637,-0.6997523723431298,5.670185925801969,0.9267418850946498,0.4007003531158167,-0.5468443560384029,-0.09459088275508372,-0.5427595792435012,0.4785490896280914,1.018034839037342,1.4253889036716862,-0.46034709874577223,-0.40476581803579353,0.7955922336789899,0.9084387111965504,-0.7314184296204209,-0.7310900810432496,0.6552608715916038,-0.7266197205980917,-0.7220921250798489,-0.246278888291422,0.0686977683838846,-0.540461139203302,-0.2939888402660924,-0.5483897030116953,-0.7647985267179914,-0.5254775995441273,-0.18356431005170348,-0.1912307974728132,-0.7052921249432953,-0.5903460239551989,-0.35680282679064257,0.7721770640427281,-0.422728593867651,2.6415197365797627,-0.117686740930977,-0.4301902399745621,-0.7598040134982665,0.600342312780503,0.4486874433391087,-0.4809185889613944,0.23916791500887466,1.0569667382241485,-0.1698489791171995,-0.7056837333380866,5.632031218660211,1.27529745543719,0.46494220409522197,-0.5445820644654152,0.05628076989672761,-0.4866812571093641,0.4329869590802388,0.9532929342615106,1.7384225802343736,-0.46033806162896934,-0.4539096592098541,0.7826420453004629,1.0673413483138545,-0.7292103607482505,-0.7302526415528493,0.6305292952743893,-0.726318483371329,-0.7123290265604709,-0.24081143262567975,0.04485785425788746,-0.537590348432254,-0.2157756067094349,-0.5592523174087569,-0.7652895433976145,-0.5227755016200661,-0.11589136705947153,-0.2048286458888798,-0.7048191824972778,-0.5948796442179769,-0.31711783453692954,0.7687610338912394,-0.42051148787867787,2.5701777241655615,-0.059924502699236645,-0.42086996017852535,-0.7591202049935152,0.6298484991419059,0.6437566219015379,-0.3976596318564623,0.1650906685756686,0.8830082645132465,-0.015470925145870767,-0.6952729747811691,5.622713951236442,1.2305275787957235,0.5876120275775131,-0.5468895416224172,0.1663498401835365,-0.4753005146822707,0.6084214952022777,0.857008479471361,1.7683625482023149,-0.4519124563964177,-0.4676460767502315,0.8735855640601106,1.1205157435819992,-0.7251376334424193,-0.7334547932733364,0.6342736740030492,-0.7126814741157833,-0.7185887361325991,-0.25162584906645924,0.0002144972516610707,-0.5397050337641278,-0.1716112168937611,-0.5702745875360027,-0.7646539328491453,-0.5301889497706953,-0.15487748894709522,-0.14224359965666916,-0.7070182142526453,-0.583857374090731,-0.3565196637974856,0.8205497379162763,-0.3938881417773938,2.864188269858187,-0.0368376816401463,-0.4371427951682444,-0.7584876068173135,0.5884464546956455,0.6250648519809148,-0.35761616730290174,0.23749906077260954,0.751509177914542,-0.036358714449593627,-0.6776264980374124,5.320169354909631,1.1950960561838992,0.5676821726548954,-0.5003514024598537,0.22832337484541884,-0.5056923384903557,0.6534082626470137,0.7237411303515597,1.6958607724650774],\"yaxis\":\"y\",\"type\":\"scatter\"}],                        {\"template\":{\"data\":{\"histogram2dcontour\":[{\"type\":\"histogram2dcontour\",\"colorbar\":{\"outlinewidth\":0,\"ticks\":\"\"},\"colorscale\":[[0.0,\"#0d0887\"],[0.1111111111111111,\"#46039f\"],[0.2222222222222222,\"#7201a8\"],[0.3333333333333333,\"#9c179e\"],[0.4444444444444444,\"#bd3786\"],[0.5555555555555556,\"#d8576b\"],[0.6666666666666666,\"#ed7953\"],[0.7777777777777778,\"#fb9f3a\"],[0.8888888888888888,\"#fdca26\"],[1.0,\"#f0f921\"]]}],\"choropleth\":[{\"type\":\"choropleth\",\"colorbar\":{\"outlinewidth\":0,\"ticks\":\"\"}}],\"histogram2d\":[{\"type\":\"histogram2d\",\"colorbar\":{\"outlinewidth\":0,\"ticks\":\"\"},\"colorscale\":[[0.0,\"#0d0887\"],[0.1111111111111111,\"#46039f\"],[0.2222222222222222,\"#7201a8\"],[0.3333333333333333,\"#9c179e\"],[0.4444444444444444,\"#bd3786\"],[0.5555555555555556,\"#d8576b\"],[0.6666666666666666,\"#ed7953\"],[0.7777777777777778,\"#fb9f3a\"],[0.8888888888888888,\"#fdca26\"],[1.0,\"#f0f921\"]]}],\"heatmap\":[{\"type\":\"heatmap\",\"colorbar\":{\"outlinewidth\":0,\"ticks\":\"\"},\"colorscale\":[[0.0,\"#0d0887\"],[0.1111111111111111,\"#46039f\"],[0.2222222222222222,\"#7201a8\"],[0.3333333333333333,\"#9c179e\"],[0.4444444444444444,\"#bd3786\"],[0.5555555555555556,\"#d8576b\"],[0.6666666666666666,\"#ed7953\"],[0.7777777777777778,\"#fb9f3a\"],[0.8888888888888888,\"#fdca26\"],[1.0,\"#f0f921\"]]}],\"heatmapgl\":[{\"type\":\"heatmapgl\",\"colorbar\":{\"outlinewidth\":0,\"ticks\":\"\"},\"colorscale\":[[0.0,\"#0d0887\"],[0.1111111111111111,\"#46039f\"],[0.2222222222222222,\"#7201a8\"],[0.3333333333333333,\"#9c179e\"],[0.4444444444444444,\"#bd3786\"],[0.5555555555555556,\"#d8576b\"],[0.6666666666666666,\"#ed7953\"],[0.7777777777777778,\"#fb9f3a\"],[0.8888888888888888,\"#fdca26\"],[1.0,\"#f0f921\"]]}],\"contourcarpet\":[{\"type\":\"contourcarpet\",\"colorbar\":{\"outlinewidth\":0,\"ticks\":\"\"}}],\"contour\":[{\"type\":\"contour\",\"colorbar\":{\"outlinewidth\":0,\"ticks\":\"\"},\"colorscale\":[[0.0,\"#0d0887\"],[0.1111111111111111,\"#46039f\"],[0.2222222222222222,\"#7201a8\"],[0.3333333333333333,\"#9c179e\"],[0.4444444444444444,\"#bd3786\"],[0.5555555555555556,\"#d8576b\"],[0.6666666666666666,\"#ed7953\"],[0.7777777777777778,\"#fb9f3a\"],[0.8888888888888888,\"#fdca26\"],[1.0,\"#f0f921\"]]}],\"surface\":[{\"type\":\"surface\",\"colorbar\":{\"outlinewidth\":0,\"ticks\":\"\"},\"colorscale\":[[0.0,\"#0d0887\"],[0.1111111111111111,\"#46039f\"],[0.2222222222222222,\"#7201a8\"],[0.3333333333333333,\"#9c179e\"],[0.4444444444444444,\"#bd3786\"],[0.5555555555555556,\"#d8576b\"],[0.6666666666666666,\"#ed7953\"],[0.7777777777777778,\"#fb9f3a\"],[0.8888888888888888,\"#fdca26\"],[1.0,\"#f0f921\"]]}],\"mesh3d\":[{\"type\":\"mesh3d\",\"colorbar\":{\"outlinewidth\":0,\"ticks\":\"\"}}],\"scatter\":[{\"fillpattern\":{\"fillmode\":\"overlay\",\"size\":10,\"solidity\":0.2},\"type\":\"scatter\"}],\"parcoords\":[{\"type\":\"parcoords\",\"line\":{\"colorbar\":{\"outlinewidth\":0,\"ticks\":\"\"}}}],\"scatterpolargl\":[{\"type\":\"scatterpolargl\",\"marker\":{\"colorbar\":{\"outlinewidth\":0,\"ticks\":\"\"}}}],\"bar\":[{\"error_x\":{\"color\":\"#2a3f5f\"},\"error_y\":{\"color\":\"#2a3f5f\"},\"marker\":{\"line\":{\"color\":\"#E5ECF6\",\"width\":0.5},\"pattern\":{\"fillmode\":\"overlay\",\"size\":10,\"solidity\":0.2}},\"type\":\"bar\"}],\"scattergeo\":[{\"type\":\"scattergeo\",\"marker\":{\"colorbar\":{\"outlinewidth\":0,\"ticks\":\"\"}}}],\"scatterpolar\":[{\"type\":\"scatterpolar\",\"marker\":{\"colorbar\":{\"outlinewidth\":0,\"ticks\":\"\"}}}],\"histogram\":[{\"marker\":{\"pattern\":{\"fillmode\":\"overlay\",\"size\":10,\"solidity\":0.2}},\"type\":\"histogram\"}],\"scattergl\":[{\"type\":\"scattergl\",\"marker\":{\"colorbar\":{\"outlinewidth\":0,\"ticks\":\"\"}}}],\"scatter3d\":[{\"type\":\"scatter3d\",\"line\":{\"colorbar\":{\"outlinewidth\":0,\"ticks\":\"\"}},\"marker\":{\"colorbar\":{\"outlinewidth\":0,\"ticks\":\"\"}}}],\"scattermapbox\":[{\"type\":\"scattermapbox\",\"marker\":{\"colorbar\":{\"outlinewidth\":0,\"ticks\":\"\"}}}],\"scatterternary\":[{\"type\":\"scatterternary\",\"marker\":{\"colorbar\":{\"outlinewidth\":0,\"ticks\":\"\"}}}],\"scattercarpet\":[{\"type\":\"scattercarpet\",\"marker\":{\"colorbar\":{\"outlinewidth\":0,\"ticks\":\"\"}}}],\"carpet\":[{\"aaxis\":{\"endlinecolor\":\"#2a3f5f\",\"gridcolor\":\"white\",\"linecolor\":\"white\",\"minorgridcolor\":\"white\",\"startlinecolor\":\"#2a3f5f\"},\"baxis\":{\"endlinecolor\":\"#2a3f5f\",\"gridcolor\":\"white\",\"linecolor\":\"white\",\"minorgridcolor\":\"white\",\"startlinecolor\":\"#2a3f5f\"},\"type\":\"carpet\"}],\"table\":[{\"cells\":{\"fill\":{\"color\":\"#EBF0F8\"},\"line\":{\"color\":\"white\"}},\"header\":{\"fill\":{\"color\":\"#C8D4E3\"},\"line\":{\"color\":\"white\"}},\"type\":\"table\"}],\"barpolar\":[{\"marker\":{\"line\":{\"color\":\"#E5ECF6\",\"width\":0.5},\"pattern\":{\"fillmode\":\"overlay\",\"size\":10,\"solidity\":0.2}},\"type\":\"barpolar\"}],\"pie\":[{\"automargin\":true,\"type\":\"pie\"}]},\"layout\":{\"autotypenumbers\":\"strict\",\"colorway\":[\"#636efa\",\"#EF553B\",\"#00cc96\",\"#ab63fa\",\"#FFA15A\",\"#19d3f3\",\"#FF6692\",\"#B6E880\",\"#FF97FF\",\"#FECB52\"],\"font\":{\"color\":\"#2a3f5f\"},\"hovermode\":\"closest\",\"hoverlabel\":{\"align\":\"left\"},\"paper_bgcolor\":\"white\",\"plot_bgcolor\":\"#E5ECF6\",\"polar\":{\"bgcolor\":\"#E5ECF6\",\"angularaxis\":{\"gridcolor\":\"white\",\"linecolor\":\"white\",\"ticks\":\"\"},\"radialaxis\":{\"gridcolor\":\"white\",\"linecolor\":\"white\",\"ticks\":\"\"}},\"ternary\":{\"bgcolor\":\"#E5ECF6\",\"aaxis\":{\"gridcolor\":\"white\",\"linecolor\":\"white\",\"ticks\":\"\"},\"baxis\":{\"gridcolor\":\"white\",\"linecolor\":\"white\",\"ticks\":\"\"},\"caxis\":{\"gridcolor\":\"white\",\"linecolor\":\"white\",\"ticks\":\"\"}},\"coloraxis\":{\"colorbar\":{\"outlinewidth\":0,\"ticks\":\"\"}},\"colorscale\":{\"sequential\":[[0.0,\"#0d0887\"],[0.1111111111111111,\"#46039f\"],[0.2222222222222222,\"#7201a8\"],[0.3333333333333333,\"#9c179e\"],[0.4444444444444444,\"#bd3786\"],[0.5555555555555556,\"#d8576b\"],[0.6666666666666666,\"#ed7953\"],[0.7777777777777778,\"#fb9f3a\"],[0.8888888888888888,\"#fdca26\"],[1.0,\"#f0f921\"]],\"sequentialminus\":[[0.0,\"#0d0887\"],[0.1111111111111111,\"#46039f\"],[0.2222222222222222,\"#7201a8\"],[0.3333333333333333,\"#9c179e\"],[0.4444444444444444,\"#bd3786\"],[0.5555555555555556,\"#d8576b\"],[0.6666666666666666,\"#ed7953\"],[0.7777777777777778,\"#fb9f3a\"],[0.8888888888888888,\"#fdca26\"],[1.0,\"#f0f921\"]],\"diverging\":[[0,\"#8e0152\"],[0.1,\"#c51b7d\"],[0.2,\"#de77ae\"],[0.3,\"#f1b6da\"],[0.4,\"#fde0ef\"],[0.5,\"#f7f7f7\"],[0.6,\"#e6f5d0\"],[0.7,\"#b8e186\"],[0.8,\"#7fbc41\"],[0.9,\"#4d9221\"],[1,\"#276419\"]]},\"xaxis\":{\"gridcolor\":\"white\",\"linecolor\":\"white\",\"ticks\":\"\",\"title\":{\"standoff\":15},\"zerolinecolor\":\"white\",\"automargin\":true,\"zerolinewidth\":2},\"yaxis\":{\"gridcolor\":\"white\",\"linecolor\":\"white\",\"ticks\":\"\",\"title\":{\"standoff\":15},\"zerolinecolor\":\"white\",\"automargin\":true,\"zerolinewidth\":2},\"scene\":{\"xaxis\":{\"backgroundcolor\":\"#E5ECF6\",\"gridcolor\":\"white\",\"linecolor\":\"white\",\"showbackground\":true,\"ticks\":\"\",\"zerolinecolor\":\"white\",\"gridwidth\":2},\"yaxis\":{\"backgroundcolor\":\"#E5ECF6\",\"gridcolor\":\"white\",\"linecolor\":\"white\",\"showbackground\":true,\"ticks\":\"\",\"zerolinecolor\":\"white\",\"gridwidth\":2},\"zaxis\":{\"backgroundcolor\":\"#E5ECF6\",\"gridcolor\":\"white\",\"linecolor\":\"white\",\"showbackground\":true,\"ticks\":\"\",\"zerolinecolor\":\"white\",\"gridwidth\":2}},\"shapedefaults\":{\"line\":{\"color\":\"#2a3f5f\"}},\"annotationdefaults\":{\"arrowcolor\":\"#2a3f5f\",\"arrowhead\":0,\"arrowwidth\":1},\"geo\":{\"bgcolor\":\"white\",\"landcolor\":\"#E5ECF6\",\"subunitcolor\":\"white\",\"showland\":true,\"showlakes\":true,\"lakecolor\":\"white\"},\"title\":{\"x\":0.05},\"mapbox\":{\"style\":\"light\"}}},\"xaxis\":{\"anchor\":\"y\",\"domain\":[0.0,1.0],\"title\":{\"text\":\"Marine Protected Area\"}},\"yaxis\":{\"anchor\":\"x\",\"domain\":[0.0,1.0],\"title\":{\"text\":\"Fishing Exports\"}},\"coloraxis\":{\"colorbar\":{\"title\":{\"text\":\"Clusters_f\"}},\"colorscale\":[[0.0,\"#0d0887\"],[0.1111111111111111,\"#46039f\"],[0.2222222222222222,\"#7201a8\"],[0.3333333333333333,\"#9c179e\"],[0.4444444444444444,\"#bd3786\"],[0.5555555555555556,\"#d8576b\"],[0.6666666666666666,\"#ed7953\"],[0.7777777777777778,\"#fb9f3a\"],[0.8888888888888888,\"#fdca26\"],[1.0,\"#f0f921\"]]},\"legend\":{\"tracegroupgap\":0},\"margin\":{\"t\":60},\"title\":{\"text\":\"K-means Clustering with 2 Features\"}},                        {\"responsive\": true}                    ).then(function(){\n",
       "                            \n",
       "var gd = document.getElementById('9855167d-eaaa-4246-b117-45ab893b1c3b');\n",
       "var x = new MutationObserver(function (mutations, observer) {{\n",
       "        var display = window.getComputedStyle(gd).display;\n",
       "        if (!display || display === 'none') {{\n",
       "            console.log([gd, 'removed!']);\n",
       "            Plotly.purge(gd);\n",
       "            observer.disconnect();\n",
       "        }}\n",
       "}});\n",
       "\n",
       "// Listen for the removal of the full notebook cells\n",
       "var notebookContainer = gd.closest('#notebook-container');\n",
       "if (notebookContainer) {{\n",
       "    x.observe(notebookContainer, {childList: true});\n",
       "}}\n",
       "\n",
       "// Listen for the clearing of the current output cell\n",
       "var outputEl = gd.closest('.output');\n",
       "if (outputEl) {{\n",
       "    x.observe(outputEl, {childList: true});\n",
       "}}\n",
       "\n",
       "                        })                };                });            </script>        </div>"
      ]
     },
     "metadata": {},
     "output_type": "display_data"
    }
   ],
   "source": [
    "#| code-fold: true\n",
    "kmeans_pca = KMeans(n_clusters=3, random_state=42, n_init=10)\n",
    "kmeans_pca.fit(data_standardized)\n",
    "data_standardized['Clusters_f'] = kmeans_pca.labels_\n",
    "\n",
    "\n",
    "hover_data = data_standardized[['Country']]\n",
    "\n",
    "fig = px.scatter(data_standardized, x='Marine Protected Area (sqkm)', y='Fishing Exports (Millions)', color='Clusters_f', hover_data=hover_data\n",
    "                 )\n",
    "\n",
    "fig.update_layout(title='K-means Clustering with 2 Features', xaxis_title='Marine Protected Area', yaxis_title='Fishing Exports')\n",
    "fig.show()"
   ]
  },
  {
   "cell_type": "markdown",
   "metadata": {},
   "source": [
    "Running clustering on specific features has the power to be beneficial in seeing how the data is being grouped together. Similar to the clustering completed on the PCA data the yellow cluster still seems to be an outlier - specifically relating to high marine protected area and fishing exports."
   ]
  },
  {
   "cell_type": "markdown",
   "metadata": {},
   "source": [
    "## DBSCAN Clustering\n",
    "\n",
    "Next, I will be utilizing DBSCAN clustering. \n",
    "Before running dbscan I wanted to look closer into the estimated number of clusters and estimated noise.\n",
    "\n",
    "### Clusters DBSCAN\n",
    "\n",
    "Below I am providing the count of points within each cluster. The cluster labeled -1 stands for noise. "
   ]
  },
  {
   "cell_type": "code",
   "execution_count": 694,
   "metadata": {},
   "outputs": [
    {
     "data": {
      "text/html": [
       "<div>\n",
       "<style scoped>\n",
       "    .dataframe tbody tr th:only-of-type {\n",
       "        vertical-align: middle;\n",
       "    }\n",
       "\n",
       "    .dataframe tbody tr th {\n",
       "        vertical-align: top;\n",
       "    }\n",
       "\n",
       "    .dataframe thead th {\n",
       "        text-align: right;\n",
       "    }\n",
       "</style>\n",
       "<table border=\"1\" class=\"dataframe\">\n",
       "  <thead>\n",
       "    <tr style=\"text-align: right;\">\n",
       "      <th></th>\n",
       "      <th>count</th>\n",
       "    </tr>\n",
       "    <tr>\n",
       "      <th>Cluster_DBSCAN</th>\n",
       "      <th></th>\n",
       "    </tr>\n",
       "  </thead>\n",
       "  <tbody>\n",
       "    <tr>\n",
       "      <th>-1</th>\n",
       "      <td>340</td>\n",
       "    </tr>\n",
       "    <tr>\n",
       "      <th>1</th>\n",
       "      <td>134</td>\n",
       "    </tr>\n",
       "    <tr>\n",
       "      <th>0</th>\n",
       "      <td>24</td>\n",
       "    </tr>\n",
       "    <tr>\n",
       "      <th>2</th>\n",
       "      <td>18</td>\n",
       "    </tr>\n",
       "  </tbody>\n",
       "</table>\n",
       "</div>"
      ],
      "text/plain": [
       "                count\n",
       "Cluster_DBSCAN       \n",
       "-1                340\n",
       " 1                134\n",
       " 0                 24\n",
       " 2                 18"
      ]
     },
     "execution_count": 694,
     "metadata": {},
     "output_type": "execute_result"
    }
   ],
   "source": [
    "#| code-fold: true\n",
    "db = pd.read_csv(\"/Users/kendallgilbert/dsan-5000-project-kendallgilbert180/dsan-website/5000-website/data/01-modified-data/nb_record.csv\")\n",
    "label_encoder = LabelEncoder()\n",
    "db['Country'] = label_encoder.fit_transform(db['Country'])\n",
    "\n",
    "features_to_standardize = ['Aqua Production (Millions)', 'Marine Protected Area (sqkm)', 'Inventions (number)', 'Instruments (number)', 'Fishing Exports (Millions)', 'Value', 'Country']\n",
    "data_subset = db[features_to_standardize]\n",
    "scaler = StandardScaler()\n",
    "db = scaler.fit_transform(data_subset)\n",
    "db = pd.DataFrame(db, columns=features_to_standardize)\n",
    "\n",
    "\n",
    "import seaborn as sns\n",
    "clustering = DBSCAN(eps=0.5, min_samples=15).fit(db)\n",
    "labels = clustering.labels_\n",
    "db.loc[:,'Cluster_DBSCAN'] = clustering.labels_ \n",
    "db.Cluster_DBSCAN.value_counts().to_frame()\n",
    "\n"
   ]
  },
  {
   "cell_type": "markdown",
   "metadata": {},
   "source": [
    "### Estimated number of clusters and noise"
   ]
  },
  {
   "cell_type": "code",
   "execution_count": 695,
   "metadata": {},
   "outputs": [
    {
     "name": "stdout",
     "output_type": "stream",
     "text": [
      "Estimated number of clusters: 3\n",
      "Estimated number of noise points: 340\n"
     ]
    }
   ],
   "source": [
    "#| code-fold: true\n",
    "n_clusters_ = len(set(db['Cluster_DBSCAN'])) - (1 if -1 in db['Cluster_DBSCAN'].values else 0)\n",
    "n_noise_ = (db['Cluster_DBSCAN'] == -1).sum()\n",
    "\n",
    "print(\"Estimated number of clusters: %d\" % n_clusters_)\n",
    "print(\"Estimated number of noise points: %d\" % n_noise_)"
   ]
  },
  {
   "cell_type": "markdown",
   "metadata": {},
   "source": [
    "Below I have printed the table to show how rows are classified into a dbscan cluster or \"noise\""
   ]
  },
  {
   "cell_type": "code",
   "execution_count": 696,
   "metadata": {},
   "outputs": [
    {
     "data": {
      "text/html": [
       "<div>\n",
       "<style scoped>\n",
       "    .dataframe tbody tr th:only-of-type {\n",
       "        vertical-align: middle;\n",
       "    }\n",
       "\n",
       "    .dataframe tbody tr th {\n",
       "        vertical-align: top;\n",
       "    }\n",
       "\n",
       "    .dataframe thead th {\n",
       "        text-align: right;\n",
       "    }\n",
       "</style>\n",
       "<table border=\"1\" class=\"dataframe\">\n",
       "  <thead>\n",
       "    <tr style=\"text-align: right;\">\n",
       "      <th></th>\n",
       "      <th>Aqua Production (Millions)</th>\n",
       "      <th>Marine Protected Area (sqkm)</th>\n",
       "      <th>Inventions (number)</th>\n",
       "      <th>Instruments (number)</th>\n",
       "      <th>Fishing Exports (Millions)</th>\n",
       "      <th>Value</th>\n",
       "      <th>Country</th>\n",
       "      <th>Cluster_DBSCAN</th>\n",
       "    </tr>\n",
       "  </thead>\n",
       "  <tbody>\n",
       "    <tr>\n",
       "      <th>0</th>\n",
       "      <td>0.679748</td>\n",
       "      <td>-0.216403</td>\n",
       "      <td>-0.255849</td>\n",
       "      <td>0.128004</td>\n",
       "      <td>-0.179730</td>\n",
       "      <td>-0.246968</td>\n",
       "      <td>-0.805823</td>\n",
       "      <td>-1</td>\n",
       "    </tr>\n",
       "    <tr>\n",
       "      <th>1</th>\n",
       "      <td>-0.369917</td>\n",
       "      <td>-0.279476</td>\n",
       "      <td>-0.331231</td>\n",
       "      <td>-1.113538</td>\n",
       "      <td>-0.548519</td>\n",
       "      <td>-0.751243</td>\n",
       "      <td>-0.725241</td>\n",
       "      <td>0</td>\n",
       "    </tr>\n",
       "    <tr>\n",
       "      <th>2</th>\n",
       "      <td>-0.301377</td>\n",
       "      <td>-0.200619</td>\n",
       "      <td>-0.182663</td>\n",
       "      <td>0.872929</td>\n",
       "      <td>0.563609</td>\n",
       "      <td>-0.503371</td>\n",
       "      <td>-0.644658</td>\n",
       "      <td>-1</td>\n",
       "    </tr>\n",
       "    <tr>\n",
       "      <th>3</th>\n",
       "      <td>-0.345421</td>\n",
       "      <td>-0.000724</td>\n",
       "      <td>-0.326903</td>\n",
       "      <td>-0.120304</td>\n",
       "      <td>0.168121</td>\n",
       "      <td>0.151617</td>\n",
       "      <td>-0.564076</td>\n",
       "      <td>-1</td>\n",
       "    </tr>\n",
       "    <tr>\n",
       "      <th>4</th>\n",
       "      <td>-0.288119</td>\n",
       "      <td>-0.249281</td>\n",
       "      <td>-0.333362</td>\n",
       "      <td>-1.113538</td>\n",
       "      <td>-0.674262</td>\n",
       "      <td>-0.751243</td>\n",
       "      <td>-0.483494</td>\n",
       "      <td>0</td>\n",
       "    </tr>\n",
       "    <tr>\n",
       "      <th>5</th>\n",
       "      <td>-0.207517</td>\n",
       "      <td>-0.276907</td>\n",
       "      <td>-0.333362</td>\n",
       "      <td>1.617854</td>\n",
       "      <td>-0.699207</td>\n",
       "      <td>1.334103</td>\n",
       "      <td>-0.402911</td>\n",
       "      <td>-1</td>\n",
       "    </tr>\n",
       "    <tr>\n",
       "      <th>6</th>\n",
       "      <td>-0.348684</td>\n",
       "      <td>-0.249273</td>\n",
       "      <td>-0.269866</td>\n",
       "      <td>-0.616921</td>\n",
       "      <td>0.563353</td>\n",
       "      <td>-0.605268</td>\n",
       "      <td>-0.322329</td>\n",
       "      <td>-1</td>\n",
       "    </tr>\n",
       "    <tr>\n",
       "      <th>7</th>\n",
       "      <td>-0.368454</td>\n",
       "      <td>-0.280071</td>\n",
       "      <td>-0.333362</td>\n",
       "      <td>-0.616921</td>\n",
       "      <td>-0.712889</td>\n",
       "      <td>-0.372089</td>\n",
       "      <td>-0.241747</td>\n",
       "      <td>1</td>\n",
       "    </tr>\n",
       "  </tbody>\n",
       "</table>\n",
       "</div>"
      ],
      "text/plain": [
       "   Aqua Production (Millions)  Marine Protected Area (sqkm)  \\\n",
       "0                    0.679748                     -0.216403   \n",
       "1                   -0.369917                     -0.279476   \n",
       "2                   -0.301377                     -0.200619   \n",
       "3                   -0.345421                     -0.000724   \n",
       "4                   -0.288119                     -0.249281   \n",
       "5                   -0.207517                     -0.276907   \n",
       "6                   -0.348684                     -0.249273   \n",
       "7                   -0.368454                     -0.280071   \n",
       "\n",
       "   Inventions (number)  Instruments (number)  Fishing Exports (Millions)  \\\n",
       "0            -0.255849              0.128004                   -0.179730   \n",
       "1            -0.331231             -1.113538                   -0.548519   \n",
       "2            -0.182663              0.872929                    0.563609   \n",
       "3            -0.326903             -0.120304                    0.168121   \n",
       "4            -0.333362             -1.113538                   -0.674262   \n",
       "5            -0.333362              1.617854                   -0.699207   \n",
       "6            -0.269866             -0.616921                    0.563353   \n",
       "7            -0.333362             -0.616921                   -0.712889   \n",
       "\n",
       "      Value   Country  Cluster_DBSCAN  \n",
       "0 -0.246968 -0.805823              -1  \n",
       "1 -0.751243 -0.725241               0  \n",
       "2 -0.503371 -0.644658              -1  \n",
       "3  0.151617 -0.564076              -1  \n",
       "4 -0.751243 -0.483494               0  \n",
       "5  1.334103 -0.402911              -1  \n",
       "6 -0.605268 -0.322329              -1  \n",
       "7 -0.372089 -0.241747               1  "
      ]
     },
     "execution_count": 696,
     "metadata": {},
     "output_type": "execute_result"
    }
   ],
   "source": [
    "#| code-fold: true\n",
    "db.head(8)"
   ]
  },
  {
   "cell_type": "code",
   "execution_count": 697,
   "metadata": {},
   "outputs": [
    {
     "data": {
      "application/vnd.plotly.v1+json": {
       "config": {
        "plotlyServerURL": "https://plot.ly"
       },
       "data": [
        {
         "customdata": [
          [
           -0.7252406676228422
          ],
          [
           -0.48349377841522817
          ],
          [
           -0.24174688920761409
          ],
          [
           -0.08058229640253803
          ],
          [
           0.08058229640253803
          ],
          [
           0.16116459280507606
          ],
          [
           0.24174688920761409
          ],
          [
           0.4029114820126901
          ],
          [
           0.6446583712203042
          ],
          [
           0.7252406676228422
          ],
          [
           0.8058229640253802
          ],
          [
           0.8864052604279183
          ],
          [
           0.9669875568304563
          ],
          [
           1.1281521496355325
          ],
          [
           1.2893167424406085
          ],
          [
           1.5310636316482225
          ],
          [
           -0.7252406676228422
          ],
          [
           -0.48349377841522817
          ],
          [
           -0.08058229640253803
          ],
          [
           0.08058229640253803
          ],
          [
           0.16116459280507606
          ],
          [
           0.24174688920761409
          ],
          [
           0.4029114820126901
          ],
          [
           0.6446583712203042
          ],
          [
           0.7252406676228422
          ],
          [
           0.8058229640253802
          ],
          [
           0.9669875568304563
          ],
          [
           1.1281521496355325
          ],
          [
           1.2087344460380705
          ],
          [
           1.2893167424406085
          ],
          [
           1.4504813352456845
          ],
          [
           1.5310636316482225
          ],
          [
           -1.1281521496355325
          ],
          [
           -0.7252406676228422
          ],
          [
           -0.48349377841522817
          ],
          [
           0.08058229640253803
          ],
          [
           0.16116459280507606
          ],
          [
           0.24174688920761409
          ],
          [
           0.4029114820126901
          ],
          [
           0.6446583712203042
          ],
          [
           0.7252406676228422
          ],
          [
           0.8058229640253802
          ],
          [
           1.1281521496355325
          ],
          [
           1.2087344460380705
          ],
          [
           1.2893167424406085
          ],
          [
           1.5310636316482225
          ],
          [
           -1.2893167424406085
          ],
          [
           -1.1281521496355325
          ],
          [
           -0.7252406676228422
          ],
          [
           -0.48349377841522817
          ],
          [
           0.08058229640253803
          ],
          [
           0.16116459280507606
          ],
          [
           0.24174688920761409
          ],
          [
           0.4029114820126901
          ],
          [
           0.6446583712203042
          ],
          [
           0.7252406676228422
          ],
          [
           0.8058229640253802
          ],
          [
           1.1281521496355325
          ],
          [
           1.2087344460380705
          ],
          [
           1.2893167424406085
          ],
          [
           1.5310636316482225
          ],
          [
           -1.2893167424406085
          ],
          [
           -1.1281521496355325
          ],
          [
           -0.7252406676228422
          ],
          [
           -0.48349377841522817
          ],
          [
           0.08058229640253803
          ],
          [
           0.16116459280507606
          ],
          [
           0.24174688920761409
          ],
          [
           0.4029114820126901
          ],
          [
           0.6446583712203042
          ],
          [
           0.7252406676228422
          ],
          [
           0.8058229640253802
          ],
          [
           1.1281521496355325
          ],
          [
           1.2087344460380705
          ],
          [
           1.2893167424406085
          ],
          [
           1.5310636316482225
          ],
          [
           -1.2893167424406085
          ],
          [
           -1.1281521496355325
          ],
          [
           -0.7252406676228422
          ],
          [
           -0.48349377841522817
          ],
          [
           0.08058229640253803
          ],
          [
           0.16116459280507606
          ],
          [
           0.24174688920761409
          ],
          [
           0.4029114820126901
          ],
          [
           0.6446583712203042
          ],
          [
           0.7252406676228422
          ],
          [
           0.8058229640253802
          ],
          [
           1.1281521496355325
          ],
          [
           1.2087344460380705
          ],
          [
           1.2893167424406085
          ],
          [
           1.5310636316482225
          ],
          [
           -1.2893167424406085
          ],
          [
           -1.1281521496355325
          ],
          [
           -0.7252406676228422
          ],
          [
           -0.48349377841522817
          ],
          [
           0.08058229640253803
          ],
          [
           0.16116459280507606
          ],
          [
           0.24174688920761409
          ],
          [
           0.4029114820126901
          ],
          [
           0.6446583712203042
          ],
          [
           0.7252406676228422
          ],
          [
           0.8058229640253802
          ],
          [
           1.1281521496355325
          ],
          [
           1.2087344460380705
          ],
          [
           1.2893167424406085
          ],
          [
           1.5310636316482225
          ],
          [
           -1.2893167424406085
          ],
          [
           -1.1281521496355325
          ],
          [
           -0.7252406676228422
          ],
          [
           -0.48349377841522817
          ],
          [
           0.08058229640253803
          ],
          [
           0.16116459280507606
          ],
          [
           0.24174688920761409
          ],
          [
           0.4029114820126901
          ],
          [
           0.6446583712203042
          ],
          [
           0.7252406676228422
          ],
          [
           0.8058229640253802
          ],
          [
           1.1281521496355325
          ],
          [
           1.2087344460380705
          ],
          [
           1.2893167424406085
          ],
          [
           1.5310636316482225
          ],
          [
           -1.2893167424406085
          ],
          [
           -1.1281521496355325
          ],
          [
           -0.7252406676228422
          ],
          [
           -0.48349377841522817
          ],
          [
           0.08058229640253803
          ],
          [
           0.16116459280507606
          ],
          [
           0.24174688920761409
          ],
          [
           0.4029114820126901
          ],
          [
           0.6446583712203042
          ],
          [
           0.7252406676228422
          ],
          [
           1.1281521496355325
          ],
          [
           1.2087344460380705
          ],
          [
           1.2893167424406085
          ],
          [
           1.5310636316482225
          ],
          [
           -1.2893167424406085
          ],
          [
           -1.1281521496355325
          ],
          [
           -0.7252406676228422
          ],
          [
           -0.48349377841522817
          ],
          [
           0.08058229640253803
          ],
          [
           0.16116459280507606
          ],
          [
           0.24174688920761409
          ],
          [
           0.4029114820126901
          ],
          [
           0.6446583712203042
          ],
          [
           0.7252406676228422
          ],
          [
           1.1281521496355325
          ],
          [
           1.2087344460380705
          ],
          [
           1.2893167424406085
          ],
          [
           1.5310636316482225
          ],
          [
           -1.1281521496355325
          ],
          [
           -0.7252406676228422
          ],
          [
           -0.48349377841522817
          ],
          [
           0.08058229640253803
          ],
          [
           0.16116459280507606
          ],
          [
           0.24174688920761409
          ],
          [
           0.4029114820126901
          ],
          [
           0.6446583712203042
          ],
          [
           0.7252406676228422
          ],
          [
           1.1281521496355325
          ],
          [
           1.2087344460380705
          ],
          [
           1.2893167424406085
          ],
          [
           1.5310636316482225
          ],
          [
           -1.1281521496355325
          ],
          [
           -0.7252406676228422
          ],
          [
           -0.48349377841522817
          ],
          [
           0.08058229640253803
          ],
          [
           0.16116459280507606
          ],
          [
           0.24174688920761409
          ],
          [
           0.4029114820126901
          ],
          [
           0.6446583712203042
          ],
          [
           0.7252406676228422
          ],
          [
           1.1281521496355325
          ],
          [
           1.2087344460380705
          ],
          [
           1.2893167424406085
          ],
          [
           1.5310636316482225
          ],
          [
           -1.1281521496355325
          ]
         ],
         "hovertemplate": "t-SNE Component 1=%{x}<br>t-SNE Component 2=%{y}<br>Country=%{customdata[0]}<br>DBSCAN Cluster=%{marker.color}<extra></extra>",
         "legendgroup": "",
         "marker": {
          "color": [
           0,
           0,
           1,
           1,
           1,
           1,
           1,
           1,
           1,
           1,
           1,
           1,
           1,
           1,
           1,
           1,
           0,
           0,
           1,
           1,
           1,
           1,
           1,
           1,
           1,
           1,
           1,
           1,
           1,
           1,
           1,
           1,
           2,
           0,
           0,
           1,
           1,
           1,
           1,
           1,
           1,
           1,
           1,
           1,
           1,
           1,
           2,
           2,
           0,
           0,
           1,
           1,
           1,
           1,
           1,
           1,
           1,
           1,
           1,
           1,
           1,
           2,
           2,
           0,
           0,
           1,
           1,
           1,
           1,
           1,
           1,
           1,
           1,
           1,
           1,
           1,
           2,
           2,
           0,
           0,
           1,
           1,
           1,
           1,
           1,
           1,
           1,
           1,
           1,
           1,
           1,
           2,
           2,
           0,
           0,
           1,
           1,
           1,
           1,
           1,
           1,
           1,
           1,
           1,
           1,
           1,
           2,
           2,
           0,
           0,
           1,
           1,
           1,
           1,
           1,
           1,
           1,
           1,
           1,
           1,
           1,
           2,
           2,
           0,
           0,
           1,
           1,
           1,
           1,
           1,
           1,
           1,
           1,
           1,
           1,
           2,
           2,
           0,
           0,
           1,
           1,
           1,
           1,
           1,
           1,
           1,
           1,
           1,
           1,
           2,
           0,
           0,
           1,
           1,
           1,
           1,
           1,
           1,
           1,
           1,
           1,
           1,
           2,
           0,
           0,
           1,
           1,
           1,
           1,
           1,
           1,
           1,
           1,
           1,
           1,
           2
          ],
          "coloraxis": "coloraxis",
          "opacity": 0.7,
          "symbol": "circle"
         },
         "mode": "markers",
         "name": "",
         "orientation": "v",
         "showlegend": false,
         "type": "scatter",
         "x": [
          21.97382926940918,
          21.575742721557617,
          2.7474563121795654,
          1.959341287612915,
          1.8440630435943604,
          2.811741590499878,
          1.7265572547912598,
          0.36014389991760254,
          -0.9146400094032288,
          -4.097238540649414,
          -5.443765163421631,
          -7.024922847747803,
          -6.713411331176758,
          -8.930015563964844,
          -9.372660636901855,
          -11.095380783081055,
          21.48758888244629,
          21.05896759033203,
          1.8155807256698608,
          1.8432140350341797,
          2.726388692855835,
          1.3841454982757568,
          -0.4722188115119934,
          -1.9842339754104614,
          -3.447169303894043,
          -5.156523704528809,
          -6.367324352264404,
          -8.552066802978516,
          -9.178776741027832,
          -9.874788284301758,
          -12.363968849182129,
          -10.912435531616211,
          5.385950088500977,
          21.467182159423828,
          21.461509704589844,
          1.2924264669418335,
          3.414532423019409,
          1.2353559732437134,
          -1.1622785329818726,
          -3.053765058517456,
          -3.4008843898773193,
          -5.245631694793701,
          -7.844087600708008,
          -8.995856285095215,
          -10.665525436401367,
          -10.879484176635742,
          4.819007396697998,
          5.3457159996032715,
          22.299318313598633,
          21.468481063842773,
          1.1104552745819092,
          3.654897451400757,
          1.0852515697479248,
          -0.9306305050849915,
          -2.812635660171509,
          -3.628751754760742,
          -5.602504253387451,
          -7.7280144691467285,
          -8.806717872619629,
          -10.66446590423584,
          -10.7928466796875,
          4.070906639099121,
          4.542983055114746,
          21.655654907226562,
          21.468994140625,
          1.1992294788360596,
          3.6913974285125732,
          1.4825137853622437,
          -0.8730219006538391,
          -2.9353060722351074,
          -3.6278371810913086,
          -5.546181678771973,
          -7.592240810394287,
          -8.76747989654541,
          -11.325531005859375,
          -11.079435348510742,
          4.149887561798096,
          5.035280227661133,
          21.429203033447266,
          21.297948837280273,
          1.2175116539001465,
          3.631873846054077,
          1.3782336711883545,
          -1.2907860279083252,
          -2.9452574253082275,
          -3.424985408782959,
          -5.499558448791504,
          -7.397308349609375,
          -8.766568183898926,
          -11.325060844421387,
          -11.031234741210938,
          4.203811168670654,
          5.270001411437988,
          22.249401092529297,
          20.7495174407959,
          1.7727508544921875,
          3.3325579166412354,
          1.4255932569503784,
          -1.0707368850708008,
          -2.625995397567749,
          -3.5428812503814697,
          -5.549977779388428,
          -7.177494525909424,
          -8.593390464782715,
          -11.302681922912598,
          -10.533079147338867,
          4.619656562805176,
          5.225363254547119,
          22.237709045410156,
          20.757526397705078,
          1.8520032167434692,
          3.424835681915283,
          1.3930972814559937,
          -1.076826810836792,
          -2.364379644393921,
          -4.467968463897705,
          -5.522338390350342,
          -7.099330902099609,
          -8.364373207092285,
          -11.311503410339355,
          -10.557734489440918,
          4.557147026062012,
          4.6331787109375,
          22.122465133666992,
          20.75166893005371,
          1.7527148723602295,
          3.0387301445007324,
          1.4064772129058838,
          -0.6983304619789124,
          -2.364271879196167,
          -4.392701148986816,
          -6.826218605041504,
          -8.351076126098633,
          -11.167994499206543,
          -10.615184783935547,
          4.04587984085083,
          4.442455768585205,
          22.01980972290039,
          20.85529327392578,
          1.608817458152771,
          2.7827110290527344,
          1.5030895471572876,
          -1.097660779953003,
          -2.416459560394287,
          -4.43442964553833,
          -6.7034687995910645,
          -8.175827980041504,
          -11.164632797241211,
          -10.547621726989746,
          4.801250457763672,
          21.615215301513672,
          20.734149932861328,
          1.270932912826538,
          3.0446956157684326,
          1.4753748178482056,
          -0.7490747570991516,
          -2.501269578933716,
          -4.394222259521484,
          -6.54275369644165,
          -8.151890754699707,
          -11.16240406036377,
          -10.302499771118164,
          5.049180030822754,
          22.238920211791992,
          20.57728385925293,
          1.5681766271591187,
          3.2276346683502197,
          1.397215485572815,
          -0.6299051642417908,
          -2.57393741607666,
          -4.488804340362549,
          -6.484697341918945,
          -8.185258865356445,
          -11.158183097839355,
          -10.235755920410156,
          5.033294677734375
         ],
         "xaxis": "x",
         "y": [
          6.95478630065918,
          7.575756072998047,
          6.891496181488037,
          1.9149774312973022,
          7.3364973068237305,
          -0.6010415554046631,
          5.656960487365723,
          9.015064239501953,
          11.319578170776367,
          15.203539848327637,
          17.41656494140625,
          17.32744789123535,
          18.21640968322754,
          23.120485305786133,
          23.811159133911133,
          23.67447853088379,
          6.294297218322754,
          7.536563396453857,
          -3.9864277839660645,
          7.508047103881836,
          -0.30234235525131226,
          6.593081951141357,
          9.18728256225586,
          14.074067115783691,
          15.055412292480469,
          17.501754760742188,
          18.73736572265625,
          23.190841674804688,
          18.7335262298584,
          23.209091186523438,
          19.440763473510742,
          23.805744171142578,
          -25.620513916015625,
          6.173372745513916,
          7.963454723358154,
          7.515261173248291,
          0.04150283709168434,
          5.094750881195068,
          9.062408447265625,
          14.629386901855469,
          15.569930076599121,
          17.683265686035156,
          23.298858642578125,
          21.291189193725586,
          21.682666778564453,
          23.841997146606445,
          -24.375818252563477,
          -25.67150115966797,
          6.392269611358643,
          7.986323833465576,
          7.643367290496826,
          -0.3180863559246063,
          5.399403095245361,
          9.141592979431152,
          14.604432106018066,
          15.18138313293457,
          17.85020637512207,
          23.299968719482422,
          21.23874282836914,
          21.682857513427734,
          23.923290252685547,
          -25.261962890625,
          -25.505136489868164,
          6.562582969665527,
          7.985807418823242,
          7.730569839477539,
          -0.42381173372268677,
          3.428055763244629,
          9.18810749053955,
          14.725793838500977,
          15.199108123779297,
          17.876914978027344,
          23.36115074157715,
          21.26401138305664,
          20.596961975097656,
          24.1300048828125,
          -24.828842163085938,
          -25.304492950439453,
          6.396223068237305,
          8.161673545837402,
          7.657312393188477,
          -0.5071812868118286,
          3.6235899925231934,
          8.900702476501465,
          14.80894947052002,
          15.593942642211914,
          17.858259201049805,
          23.413677215576172,
          21.248626708984375,
          20.596765518188477,
          24.268798828125,
          -24.757396697998047,
          -25.25560188293457,
          6.716928958892822,
          7.488141059875488,
          7.810661792755127,
          0.0015190504491329193,
          3.5304415225982666,
          8.696824073791504,
          15.427167892456055,
          15.634566307067871,
          17.914644241333008,
          23.53362274169922,
          21.35434341430664,
          20.52741050720215,
          24.253480911254883,
          -24.721731185913086,
          -25.23784828186035,
          6.39466667175293,
          7.489303112030029,
          7.936195373535156,
          -0.112357497215271,
          3.5286664962768555,
          8.616829872131348,
          14.871747016906738,
          14.160174369812012,
          18.03296661376953,
          23.39792823791504,
          21.43716049194336,
          20.528894424438477,
          24.417903900146484,
          -24.715532302856445,
          -25.48138999938965,
          6.076392650604248,
          7.473147392272949,
          8.129027366638184,
          0.05859433487057686,
          3.5490264892578125,
          8.758157730102539,
          14.910000801086426,
          14.104287147521973,
          23.60789680480957,
          21.00400733947754,
          20.44392204284668,
          24.624162673950195,
          -24.972618103027344,
          -25.948640823364258,
          5.917866230010986,
          8.225964546203613,
          8.187463760375977,
          -0.047995395958423615,
          3.3968913555145264,
          8.584688186645508,
          15.157242774963379,
          14.123464584350586,
          23.65436363220215,
          21.112131118774414,
          20.36484718322754,
          24.791467666625977,
          -26.074424743652344,
          6.037160396575928,
          8.126694679260254,
          8.10006332397461,
          -0.4010434150695801,
          3.466620445251465,
          8.644343376159668,
          15.380327224731445,
          14.09524917602539,
          23.69036293029785,
          21.113948822021484,
          20.363996505737305,
          24.985849380493164,
          -26.161373138427734,
          6.749443054199219,
          7.946601867675781,
          8.2218599319458,
          -0.5616834163665771,
          3.537306785583496,
          8.971585273742676,
          15.42055892944336,
          14.162376403808594,
          23.707923889160156,
          21.26140022277832,
          20.316999435424805,
          25.10346221923828,
          -26.15620994567871
         ],
         "yaxis": "y"
        }
       ],
       "layout": {
        "coloraxis": {
         "colorbar": {
          "title": {
           "text": "DBSCAN Cluster"
          }
         },
         "colorscale": [
          [
           0,
           "#0d0887"
          ],
          [
           0.1111111111111111,
           "#46039f"
          ],
          [
           0.2222222222222222,
           "#7201a8"
          ],
          [
           0.3333333333333333,
           "#9c179e"
          ],
          [
           0.4444444444444444,
           "#bd3786"
          ],
          [
           0.5555555555555556,
           "#d8576b"
          ],
          [
           0.6666666666666666,
           "#ed7953"
          ],
          [
           0.7777777777777778,
           "#fb9f3a"
          ],
          [
           0.8888888888888888,
           "#fdca26"
          ],
          [
           1,
           "#f0f921"
          ]
         ]
        },
        "legend": {
         "tracegroupgap": 0
        },
        "template": {
         "data": {
          "bar": [
           {
            "error_x": {
             "color": "#2a3f5f"
            },
            "error_y": {
             "color": "#2a3f5f"
            },
            "marker": {
             "line": {
              "color": "#E5ECF6",
              "width": 0.5
             },
             "pattern": {
              "fillmode": "overlay",
              "size": 10,
              "solidity": 0.2
             }
            },
            "type": "bar"
           }
          ],
          "barpolar": [
           {
            "marker": {
             "line": {
              "color": "#E5ECF6",
              "width": 0.5
             },
             "pattern": {
              "fillmode": "overlay",
              "size": 10,
              "solidity": 0.2
             }
            },
            "type": "barpolar"
           }
          ],
          "carpet": [
           {
            "aaxis": {
             "endlinecolor": "#2a3f5f",
             "gridcolor": "white",
             "linecolor": "white",
             "minorgridcolor": "white",
             "startlinecolor": "#2a3f5f"
            },
            "baxis": {
             "endlinecolor": "#2a3f5f",
             "gridcolor": "white",
             "linecolor": "white",
             "minorgridcolor": "white",
             "startlinecolor": "#2a3f5f"
            },
            "type": "carpet"
           }
          ],
          "choropleth": [
           {
            "colorbar": {
             "outlinewidth": 0,
             "ticks": ""
            },
            "type": "choropleth"
           }
          ],
          "contour": [
           {
            "colorbar": {
             "outlinewidth": 0,
             "ticks": ""
            },
            "colorscale": [
             [
              0,
              "#0d0887"
             ],
             [
              0.1111111111111111,
              "#46039f"
             ],
             [
              0.2222222222222222,
              "#7201a8"
             ],
             [
              0.3333333333333333,
              "#9c179e"
             ],
             [
              0.4444444444444444,
              "#bd3786"
             ],
             [
              0.5555555555555556,
              "#d8576b"
             ],
             [
              0.6666666666666666,
              "#ed7953"
             ],
             [
              0.7777777777777778,
              "#fb9f3a"
             ],
             [
              0.8888888888888888,
              "#fdca26"
             ],
             [
              1,
              "#f0f921"
             ]
            ],
            "type": "contour"
           }
          ],
          "contourcarpet": [
           {
            "colorbar": {
             "outlinewidth": 0,
             "ticks": ""
            },
            "type": "contourcarpet"
           }
          ],
          "heatmap": [
           {
            "colorbar": {
             "outlinewidth": 0,
             "ticks": ""
            },
            "colorscale": [
             [
              0,
              "#0d0887"
             ],
             [
              0.1111111111111111,
              "#46039f"
             ],
             [
              0.2222222222222222,
              "#7201a8"
             ],
             [
              0.3333333333333333,
              "#9c179e"
             ],
             [
              0.4444444444444444,
              "#bd3786"
             ],
             [
              0.5555555555555556,
              "#d8576b"
             ],
             [
              0.6666666666666666,
              "#ed7953"
             ],
             [
              0.7777777777777778,
              "#fb9f3a"
             ],
             [
              0.8888888888888888,
              "#fdca26"
             ],
             [
              1,
              "#f0f921"
             ]
            ],
            "type": "heatmap"
           }
          ],
          "heatmapgl": [
           {
            "colorbar": {
             "outlinewidth": 0,
             "ticks": ""
            },
            "colorscale": [
             [
              0,
              "#0d0887"
             ],
             [
              0.1111111111111111,
              "#46039f"
             ],
             [
              0.2222222222222222,
              "#7201a8"
             ],
             [
              0.3333333333333333,
              "#9c179e"
             ],
             [
              0.4444444444444444,
              "#bd3786"
             ],
             [
              0.5555555555555556,
              "#d8576b"
             ],
             [
              0.6666666666666666,
              "#ed7953"
             ],
             [
              0.7777777777777778,
              "#fb9f3a"
             ],
             [
              0.8888888888888888,
              "#fdca26"
             ],
             [
              1,
              "#f0f921"
             ]
            ],
            "type": "heatmapgl"
           }
          ],
          "histogram": [
           {
            "marker": {
             "pattern": {
              "fillmode": "overlay",
              "size": 10,
              "solidity": 0.2
             }
            },
            "type": "histogram"
           }
          ],
          "histogram2d": [
           {
            "colorbar": {
             "outlinewidth": 0,
             "ticks": ""
            },
            "colorscale": [
             [
              0,
              "#0d0887"
             ],
             [
              0.1111111111111111,
              "#46039f"
             ],
             [
              0.2222222222222222,
              "#7201a8"
             ],
             [
              0.3333333333333333,
              "#9c179e"
             ],
             [
              0.4444444444444444,
              "#bd3786"
             ],
             [
              0.5555555555555556,
              "#d8576b"
             ],
             [
              0.6666666666666666,
              "#ed7953"
             ],
             [
              0.7777777777777778,
              "#fb9f3a"
             ],
             [
              0.8888888888888888,
              "#fdca26"
             ],
             [
              1,
              "#f0f921"
             ]
            ],
            "type": "histogram2d"
           }
          ],
          "histogram2dcontour": [
           {
            "colorbar": {
             "outlinewidth": 0,
             "ticks": ""
            },
            "colorscale": [
             [
              0,
              "#0d0887"
             ],
             [
              0.1111111111111111,
              "#46039f"
             ],
             [
              0.2222222222222222,
              "#7201a8"
             ],
             [
              0.3333333333333333,
              "#9c179e"
             ],
             [
              0.4444444444444444,
              "#bd3786"
             ],
             [
              0.5555555555555556,
              "#d8576b"
             ],
             [
              0.6666666666666666,
              "#ed7953"
             ],
             [
              0.7777777777777778,
              "#fb9f3a"
             ],
             [
              0.8888888888888888,
              "#fdca26"
             ],
             [
              1,
              "#f0f921"
             ]
            ],
            "type": "histogram2dcontour"
           }
          ],
          "mesh3d": [
           {
            "colorbar": {
             "outlinewidth": 0,
             "ticks": ""
            },
            "type": "mesh3d"
           }
          ],
          "parcoords": [
           {
            "line": {
             "colorbar": {
              "outlinewidth": 0,
              "ticks": ""
             }
            },
            "type": "parcoords"
           }
          ],
          "pie": [
           {
            "automargin": true,
            "type": "pie"
           }
          ],
          "scatter": [
           {
            "fillpattern": {
             "fillmode": "overlay",
             "size": 10,
             "solidity": 0.2
            },
            "type": "scatter"
           }
          ],
          "scatter3d": [
           {
            "line": {
             "colorbar": {
              "outlinewidth": 0,
              "ticks": ""
             }
            },
            "marker": {
             "colorbar": {
              "outlinewidth": 0,
              "ticks": ""
             }
            },
            "type": "scatter3d"
           }
          ],
          "scattercarpet": [
           {
            "marker": {
             "colorbar": {
              "outlinewidth": 0,
              "ticks": ""
             }
            },
            "type": "scattercarpet"
           }
          ],
          "scattergeo": [
           {
            "marker": {
             "colorbar": {
              "outlinewidth": 0,
              "ticks": ""
             }
            },
            "type": "scattergeo"
           }
          ],
          "scattergl": [
           {
            "marker": {
             "colorbar": {
              "outlinewidth": 0,
              "ticks": ""
             }
            },
            "type": "scattergl"
           }
          ],
          "scattermapbox": [
           {
            "marker": {
             "colorbar": {
              "outlinewidth": 0,
              "ticks": ""
             }
            },
            "type": "scattermapbox"
           }
          ],
          "scatterpolar": [
           {
            "marker": {
             "colorbar": {
              "outlinewidth": 0,
              "ticks": ""
             }
            },
            "type": "scatterpolar"
           }
          ],
          "scatterpolargl": [
           {
            "marker": {
             "colorbar": {
              "outlinewidth": 0,
              "ticks": ""
             }
            },
            "type": "scatterpolargl"
           }
          ],
          "scatterternary": [
           {
            "marker": {
             "colorbar": {
              "outlinewidth": 0,
              "ticks": ""
             }
            },
            "type": "scatterternary"
           }
          ],
          "surface": [
           {
            "colorbar": {
             "outlinewidth": 0,
             "ticks": ""
            },
            "colorscale": [
             [
              0,
              "#0d0887"
             ],
             [
              0.1111111111111111,
              "#46039f"
             ],
             [
              0.2222222222222222,
              "#7201a8"
             ],
             [
              0.3333333333333333,
              "#9c179e"
             ],
             [
              0.4444444444444444,
              "#bd3786"
             ],
             [
              0.5555555555555556,
              "#d8576b"
             ],
             [
              0.6666666666666666,
              "#ed7953"
             ],
             [
              0.7777777777777778,
              "#fb9f3a"
             ],
             [
              0.8888888888888888,
              "#fdca26"
             ],
             [
              1,
              "#f0f921"
             ]
            ],
            "type": "surface"
           }
          ],
          "table": [
           {
            "cells": {
             "fill": {
              "color": "#EBF0F8"
             },
             "line": {
              "color": "white"
             }
            },
            "header": {
             "fill": {
              "color": "#C8D4E3"
             },
             "line": {
              "color": "white"
             }
            },
            "type": "table"
           }
          ]
         },
         "layout": {
          "annotationdefaults": {
           "arrowcolor": "#2a3f5f",
           "arrowhead": 0,
           "arrowwidth": 1
          },
          "autotypenumbers": "strict",
          "coloraxis": {
           "colorbar": {
            "outlinewidth": 0,
            "ticks": ""
           }
          },
          "colorscale": {
           "diverging": [
            [
             0,
             "#8e0152"
            ],
            [
             0.1,
             "#c51b7d"
            ],
            [
             0.2,
             "#de77ae"
            ],
            [
             0.3,
             "#f1b6da"
            ],
            [
             0.4,
             "#fde0ef"
            ],
            [
             0.5,
             "#f7f7f7"
            ],
            [
             0.6,
             "#e6f5d0"
            ],
            [
             0.7,
             "#b8e186"
            ],
            [
             0.8,
             "#7fbc41"
            ],
            [
             0.9,
             "#4d9221"
            ],
            [
             1,
             "#276419"
            ]
           ],
           "sequential": [
            [
             0,
             "#0d0887"
            ],
            [
             0.1111111111111111,
             "#46039f"
            ],
            [
             0.2222222222222222,
             "#7201a8"
            ],
            [
             0.3333333333333333,
             "#9c179e"
            ],
            [
             0.4444444444444444,
             "#bd3786"
            ],
            [
             0.5555555555555556,
             "#d8576b"
            ],
            [
             0.6666666666666666,
             "#ed7953"
            ],
            [
             0.7777777777777778,
             "#fb9f3a"
            ],
            [
             0.8888888888888888,
             "#fdca26"
            ],
            [
             1,
             "#f0f921"
            ]
           ],
           "sequentialminus": [
            [
             0,
             "#0d0887"
            ],
            [
             0.1111111111111111,
             "#46039f"
            ],
            [
             0.2222222222222222,
             "#7201a8"
            ],
            [
             0.3333333333333333,
             "#9c179e"
            ],
            [
             0.4444444444444444,
             "#bd3786"
            ],
            [
             0.5555555555555556,
             "#d8576b"
            ],
            [
             0.6666666666666666,
             "#ed7953"
            ],
            [
             0.7777777777777778,
             "#fb9f3a"
            ],
            [
             0.8888888888888888,
             "#fdca26"
            ],
            [
             1,
             "#f0f921"
            ]
           ]
          },
          "colorway": [
           "#636efa",
           "#EF553B",
           "#00cc96",
           "#ab63fa",
           "#FFA15A",
           "#19d3f3",
           "#FF6692",
           "#B6E880",
           "#FF97FF",
           "#FECB52"
          ],
          "font": {
           "color": "#2a3f5f"
          },
          "geo": {
           "bgcolor": "white",
           "lakecolor": "white",
           "landcolor": "#E5ECF6",
           "showlakes": true,
           "showland": true,
           "subunitcolor": "white"
          },
          "hoverlabel": {
           "align": "left"
          },
          "hovermode": "closest",
          "mapbox": {
           "style": "light"
          },
          "paper_bgcolor": "white",
          "plot_bgcolor": "#E5ECF6",
          "polar": {
           "angularaxis": {
            "gridcolor": "white",
            "linecolor": "white",
            "ticks": ""
           },
           "bgcolor": "#E5ECF6",
           "radialaxis": {
            "gridcolor": "white",
            "linecolor": "white",
            "ticks": ""
           }
          },
          "scene": {
           "xaxis": {
            "backgroundcolor": "#E5ECF6",
            "gridcolor": "white",
            "gridwidth": 2,
            "linecolor": "white",
            "showbackground": true,
            "ticks": "",
            "zerolinecolor": "white"
           },
           "yaxis": {
            "backgroundcolor": "#E5ECF6",
            "gridcolor": "white",
            "gridwidth": 2,
            "linecolor": "white",
            "showbackground": true,
            "ticks": "",
            "zerolinecolor": "white"
           },
           "zaxis": {
            "backgroundcolor": "#E5ECF6",
            "gridcolor": "white",
            "gridwidth": 2,
            "linecolor": "white",
            "showbackground": true,
            "ticks": "",
            "zerolinecolor": "white"
           }
          },
          "shapedefaults": {
           "line": {
            "color": "#2a3f5f"
           }
          },
          "ternary": {
           "aaxis": {
            "gridcolor": "white",
            "linecolor": "white",
            "ticks": ""
           },
           "baxis": {
            "gridcolor": "white",
            "linecolor": "white",
            "ticks": ""
           },
           "bgcolor": "#E5ECF6",
           "caxis": {
            "gridcolor": "white",
            "linecolor": "white",
            "ticks": ""
           }
          },
          "title": {
           "x": 0.05
          },
          "xaxis": {
           "automargin": true,
           "gridcolor": "white",
           "linecolor": "white",
           "ticks": "",
           "title": {
            "standoff": 15
           },
           "zerolinecolor": "white",
           "zerolinewidth": 2
          },
          "yaxis": {
           "automargin": true,
           "gridcolor": "white",
           "linecolor": "white",
           "ticks": "",
           "title": {
            "standoff": 15
           },
           "zerolinecolor": "white",
           "zerolinewidth": 2
          }
         }
        },
        "title": {
         "text": "t-SNE Visualization of DBSCAN Clusters (excluding Noise (-1))"
        },
        "xaxis": {
         "anchor": "y",
         "domain": [
          0,
          1
         ],
         "title": {
          "text": "t-SNE Component 1"
         }
        },
        "yaxis": {
         "anchor": "x",
         "domain": [
          0,
          1
         ],
         "title": {
          "text": "t-SNE Component 2"
         }
        }
       }
      },
      "text/html": [
       "<div>                            <div id=\"58d27cd7-6536-4199-a212-95f2914bd04a\" class=\"plotly-graph-div\" style=\"height:525px; width:100%;\"></div>            <script type=\"text/javascript\">                require([\"plotly\"], function(Plotly) {                    window.PLOTLYENV=window.PLOTLYENV || {};                                    if (document.getElementById(\"58d27cd7-6536-4199-a212-95f2914bd04a\")) {                    Plotly.newPlot(                        \"58d27cd7-6536-4199-a212-95f2914bd04a\",                        [{\"customdata\":[[-0.7252406676228422],[-0.48349377841522817],[-0.24174688920761409],[-0.08058229640253803],[0.08058229640253803],[0.16116459280507606],[0.24174688920761409],[0.4029114820126901],[0.6446583712203042],[0.7252406676228422],[0.8058229640253802],[0.8864052604279183],[0.9669875568304563],[1.1281521496355325],[1.2893167424406085],[1.5310636316482225],[-0.7252406676228422],[-0.48349377841522817],[-0.08058229640253803],[0.08058229640253803],[0.16116459280507606],[0.24174688920761409],[0.4029114820126901],[0.6446583712203042],[0.7252406676228422],[0.8058229640253802],[0.9669875568304563],[1.1281521496355325],[1.2087344460380705],[1.2893167424406085],[1.4504813352456845],[1.5310636316482225],[-1.1281521496355325],[-0.7252406676228422],[-0.48349377841522817],[0.08058229640253803],[0.16116459280507606],[0.24174688920761409],[0.4029114820126901],[0.6446583712203042],[0.7252406676228422],[0.8058229640253802],[1.1281521496355325],[1.2087344460380705],[1.2893167424406085],[1.5310636316482225],[-1.2893167424406085],[-1.1281521496355325],[-0.7252406676228422],[-0.48349377841522817],[0.08058229640253803],[0.16116459280507606],[0.24174688920761409],[0.4029114820126901],[0.6446583712203042],[0.7252406676228422],[0.8058229640253802],[1.1281521496355325],[1.2087344460380705],[1.2893167424406085],[1.5310636316482225],[-1.2893167424406085],[-1.1281521496355325],[-0.7252406676228422],[-0.48349377841522817],[0.08058229640253803],[0.16116459280507606],[0.24174688920761409],[0.4029114820126901],[0.6446583712203042],[0.7252406676228422],[0.8058229640253802],[1.1281521496355325],[1.2087344460380705],[1.2893167424406085],[1.5310636316482225],[-1.2893167424406085],[-1.1281521496355325],[-0.7252406676228422],[-0.48349377841522817],[0.08058229640253803],[0.16116459280507606],[0.24174688920761409],[0.4029114820126901],[0.6446583712203042],[0.7252406676228422],[0.8058229640253802],[1.1281521496355325],[1.2087344460380705],[1.2893167424406085],[1.5310636316482225],[-1.2893167424406085],[-1.1281521496355325],[-0.7252406676228422],[-0.48349377841522817],[0.08058229640253803],[0.16116459280507606],[0.24174688920761409],[0.4029114820126901],[0.6446583712203042],[0.7252406676228422],[0.8058229640253802],[1.1281521496355325],[1.2087344460380705],[1.2893167424406085],[1.5310636316482225],[-1.2893167424406085],[-1.1281521496355325],[-0.7252406676228422],[-0.48349377841522817],[0.08058229640253803],[0.16116459280507606],[0.24174688920761409],[0.4029114820126901],[0.6446583712203042],[0.7252406676228422],[0.8058229640253802],[1.1281521496355325],[1.2087344460380705],[1.2893167424406085],[1.5310636316482225],[-1.2893167424406085],[-1.1281521496355325],[-0.7252406676228422],[-0.48349377841522817],[0.08058229640253803],[0.16116459280507606],[0.24174688920761409],[0.4029114820126901],[0.6446583712203042],[0.7252406676228422],[1.1281521496355325],[1.2087344460380705],[1.2893167424406085],[1.5310636316482225],[-1.2893167424406085],[-1.1281521496355325],[-0.7252406676228422],[-0.48349377841522817],[0.08058229640253803],[0.16116459280507606],[0.24174688920761409],[0.4029114820126901],[0.6446583712203042],[0.7252406676228422],[1.1281521496355325],[1.2087344460380705],[1.2893167424406085],[1.5310636316482225],[-1.1281521496355325],[-0.7252406676228422],[-0.48349377841522817],[0.08058229640253803],[0.16116459280507606],[0.24174688920761409],[0.4029114820126901],[0.6446583712203042],[0.7252406676228422],[1.1281521496355325],[1.2087344460380705],[1.2893167424406085],[1.5310636316482225],[-1.1281521496355325],[-0.7252406676228422],[-0.48349377841522817],[0.08058229640253803],[0.16116459280507606],[0.24174688920761409],[0.4029114820126901],[0.6446583712203042],[0.7252406676228422],[1.1281521496355325],[1.2087344460380705],[1.2893167424406085],[1.5310636316482225],[-1.1281521496355325]],\"hovertemplate\":\"t-SNE Component 1=%{x}<br>t-SNE Component 2=%{y}<br>Country=%{customdata[0]}<br>DBSCAN Cluster=%{marker.color}<extra></extra>\",\"legendgroup\":\"\",\"marker\":{\"color\":[0,0,1,1,1,1,1,1,1,1,1,1,1,1,1,1,0,0,1,1,1,1,1,1,1,1,1,1,1,1,1,1,2,0,0,1,1,1,1,1,1,1,1,1,1,1,2,2,0,0,1,1,1,1,1,1,1,1,1,1,1,2,2,0,0,1,1,1,1,1,1,1,1,1,1,1,2,2,0,0,1,1,1,1,1,1,1,1,1,1,1,2,2,0,0,1,1,1,1,1,1,1,1,1,1,1,2,2,0,0,1,1,1,1,1,1,1,1,1,1,1,2,2,0,0,1,1,1,1,1,1,1,1,1,1,2,2,0,0,1,1,1,1,1,1,1,1,1,1,2,0,0,1,1,1,1,1,1,1,1,1,1,2,0,0,1,1,1,1,1,1,1,1,1,1,2],\"coloraxis\":\"coloraxis\",\"opacity\":0.7,\"symbol\":\"circle\"},\"mode\":\"markers\",\"name\":\"\",\"orientation\":\"v\",\"showlegend\":false,\"x\":[21.97382926940918,21.575742721557617,2.7474563121795654,1.959341287612915,1.8440630435943604,2.811741590499878,1.7265572547912598,0.36014389991760254,-0.9146400094032288,-4.097238540649414,-5.443765163421631,-7.024922847747803,-6.713411331176758,-8.930015563964844,-9.372660636901855,-11.095380783081055,21.48758888244629,21.05896759033203,1.8155807256698608,1.8432140350341797,2.726388692855835,1.3841454982757568,-0.4722188115119934,-1.9842339754104614,-3.447169303894043,-5.156523704528809,-6.367324352264404,-8.552066802978516,-9.178776741027832,-9.874788284301758,-12.363968849182129,-10.912435531616211,5.385950088500977,21.467182159423828,21.461509704589844,1.2924264669418335,3.414532423019409,1.2353559732437134,-1.1622785329818726,-3.053765058517456,-3.4008843898773193,-5.245631694793701,-7.844087600708008,-8.995856285095215,-10.665525436401367,-10.879484176635742,4.819007396697998,5.3457159996032715,22.299318313598633,21.468481063842773,1.1104552745819092,3.654897451400757,1.0852515697479248,-0.9306305050849915,-2.812635660171509,-3.628751754760742,-5.602504253387451,-7.7280144691467285,-8.806717872619629,-10.66446590423584,-10.7928466796875,4.070906639099121,4.542983055114746,21.655654907226562,21.468994140625,1.1992294788360596,3.6913974285125732,1.4825137853622437,-0.8730219006538391,-2.9353060722351074,-3.6278371810913086,-5.546181678771973,-7.592240810394287,-8.76747989654541,-11.325531005859375,-11.079435348510742,4.149887561798096,5.035280227661133,21.429203033447266,21.297948837280273,1.2175116539001465,3.631873846054077,1.3782336711883545,-1.2907860279083252,-2.9452574253082275,-3.424985408782959,-5.499558448791504,-7.397308349609375,-8.766568183898926,-11.325060844421387,-11.031234741210938,4.203811168670654,5.270001411437988,22.249401092529297,20.7495174407959,1.7727508544921875,3.3325579166412354,1.4255932569503784,-1.0707368850708008,-2.625995397567749,-3.5428812503814697,-5.549977779388428,-7.177494525909424,-8.593390464782715,-11.302681922912598,-10.533079147338867,4.619656562805176,5.225363254547119,22.237709045410156,20.757526397705078,1.8520032167434692,3.424835681915283,1.3930972814559937,-1.076826810836792,-2.364379644393921,-4.467968463897705,-5.522338390350342,-7.099330902099609,-8.364373207092285,-11.311503410339355,-10.557734489440918,4.557147026062012,4.6331787109375,22.122465133666992,20.75166893005371,1.7527148723602295,3.0387301445007324,1.4064772129058838,-0.6983304619789124,-2.364271879196167,-4.392701148986816,-6.826218605041504,-8.351076126098633,-11.167994499206543,-10.615184783935547,4.04587984085083,4.442455768585205,22.01980972290039,20.85529327392578,1.608817458152771,2.7827110290527344,1.5030895471572876,-1.097660779953003,-2.416459560394287,-4.43442964553833,-6.7034687995910645,-8.175827980041504,-11.164632797241211,-10.547621726989746,4.801250457763672,21.615215301513672,20.734149932861328,1.270932912826538,3.0446956157684326,1.4753748178482056,-0.7490747570991516,-2.501269578933716,-4.394222259521484,-6.54275369644165,-8.151890754699707,-11.16240406036377,-10.302499771118164,5.049180030822754,22.238920211791992,20.57728385925293,1.5681766271591187,3.2276346683502197,1.397215485572815,-0.6299051642417908,-2.57393741607666,-4.488804340362549,-6.484697341918945,-8.185258865356445,-11.158183097839355,-10.235755920410156,5.033294677734375],\"xaxis\":\"x\",\"y\":[6.95478630065918,7.575756072998047,6.891496181488037,1.9149774312973022,7.3364973068237305,-0.6010415554046631,5.656960487365723,9.015064239501953,11.319578170776367,15.203539848327637,17.41656494140625,17.32744789123535,18.21640968322754,23.120485305786133,23.811159133911133,23.67447853088379,6.294297218322754,7.536563396453857,-3.9864277839660645,7.508047103881836,-0.30234235525131226,6.593081951141357,9.18728256225586,14.074067115783691,15.055412292480469,17.501754760742188,18.73736572265625,23.190841674804688,18.7335262298584,23.209091186523438,19.440763473510742,23.805744171142578,-25.620513916015625,6.173372745513916,7.963454723358154,7.515261173248291,0.04150283709168434,5.094750881195068,9.062408447265625,14.629386901855469,15.569930076599121,17.683265686035156,23.298858642578125,21.291189193725586,21.682666778564453,23.841997146606445,-24.375818252563477,-25.67150115966797,6.392269611358643,7.986323833465576,7.643367290496826,-0.3180863559246063,5.399403095245361,9.141592979431152,14.604432106018066,15.18138313293457,17.85020637512207,23.299968719482422,21.23874282836914,21.682857513427734,23.923290252685547,-25.261962890625,-25.505136489868164,6.562582969665527,7.985807418823242,7.730569839477539,-0.42381173372268677,3.428055763244629,9.18810749053955,14.725793838500977,15.199108123779297,17.876914978027344,23.36115074157715,21.26401138305664,20.596961975097656,24.1300048828125,-24.828842163085938,-25.304492950439453,6.396223068237305,8.161673545837402,7.657312393188477,-0.5071812868118286,3.6235899925231934,8.900702476501465,14.80894947052002,15.593942642211914,17.858259201049805,23.413677215576172,21.248626708984375,20.596765518188477,24.268798828125,-24.757396697998047,-25.25560188293457,6.716928958892822,7.488141059875488,7.810661792755127,0.0015190504491329193,3.5304415225982666,8.696824073791504,15.427167892456055,15.634566307067871,17.914644241333008,23.53362274169922,21.35434341430664,20.52741050720215,24.253480911254883,-24.721731185913086,-25.23784828186035,6.39466667175293,7.489303112030029,7.936195373535156,-0.112357497215271,3.5286664962768555,8.616829872131348,14.871747016906738,14.160174369812012,18.03296661376953,23.39792823791504,21.43716049194336,20.528894424438477,24.417903900146484,-24.715532302856445,-25.48138999938965,6.076392650604248,7.473147392272949,8.129027366638184,0.05859433487057686,3.5490264892578125,8.758157730102539,14.910000801086426,14.104287147521973,23.60789680480957,21.00400733947754,20.44392204284668,24.624162673950195,-24.972618103027344,-25.948640823364258,5.917866230010986,8.225964546203613,8.187463760375977,-0.047995395958423615,3.3968913555145264,8.584688186645508,15.157242774963379,14.123464584350586,23.65436363220215,21.112131118774414,20.36484718322754,24.791467666625977,-26.074424743652344,6.037160396575928,8.126694679260254,8.10006332397461,-0.4010434150695801,3.466620445251465,8.644343376159668,15.380327224731445,14.09524917602539,23.69036293029785,21.113948822021484,20.363996505737305,24.985849380493164,-26.161373138427734,6.749443054199219,7.946601867675781,8.2218599319458,-0.5616834163665771,3.537306785583496,8.971585273742676,15.42055892944336,14.162376403808594,23.707923889160156,21.26140022277832,20.316999435424805,25.10346221923828,-26.15620994567871],\"yaxis\":\"y\",\"type\":\"scatter\"}],                        {\"template\":{\"data\":{\"histogram2dcontour\":[{\"type\":\"histogram2dcontour\",\"colorbar\":{\"outlinewidth\":0,\"ticks\":\"\"},\"colorscale\":[[0.0,\"#0d0887\"],[0.1111111111111111,\"#46039f\"],[0.2222222222222222,\"#7201a8\"],[0.3333333333333333,\"#9c179e\"],[0.4444444444444444,\"#bd3786\"],[0.5555555555555556,\"#d8576b\"],[0.6666666666666666,\"#ed7953\"],[0.7777777777777778,\"#fb9f3a\"],[0.8888888888888888,\"#fdca26\"],[1.0,\"#f0f921\"]]}],\"choropleth\":[{\"type\":\"choropleth\",\"colorbar\":{\"outlinewidth\":0,\"ticks\":\"\"}}],\"histogram2d\":[{\"type\":\"histogram2d\",\"colorbar\":{\"outlinewidth\":0,\"ticks\":\"\"},\"colorscale\":[[0.0,\"#0d0887\"],[0.1111111111111111,\"#46039f\"],[0.2222222222222222,\"#7201a8\"],[0.3333333333333333,\"#9c179e\"],[0.4444444444444444,\"#bd3786\"],[0.5555555555555556,\"#d8576b\"],[0.6666666666666666,\"#ed7953\"],[0.7777777777777778,\"#fb9f3a\"],[0.8888888888888888,\"#fdca26\"],[1.0,\"#f0f921\"]]}],\"heatmap\":[{\"type\":\"heatmap\",\"colorbar\":{\"outlinewidth\":0,\"ticks\":\"\"},\"colorscale\":[[0.0,\"#0d0887\"],[0.1111111111111111,\"#46039f\"],[0.2222222222222222,\"#7201a8\"],[0.3333333333333333,\"#9c179e\"],[0.4444444444444444,\"#bd3786\"],[0.5555555555555556,\"#d8576b\"],[0.6666666666666666,\"#ed7953\"],[0.7777777777777778,\"#fb9f3a\"],[0.8888888888888888,\"#fdca26\"],[1.0,\"#f0f921\"]]}],\"heatmapgl\":[{\"type\":\"heatmapgl\",\"colorbar\":{\"outlinewidth\":0,\"ticks\":\"\"},\"colorscale\":[[0.0,\"#0d0887\"],[0.1111111111111111,\"#46039f\"],[0.2222222222222222,\"#7201a8\"],[0.3333333333333333,\"#9c179e\"],[0.4444444444444444,\"#bd3786\"],[0.5555555555555556,\"#d8576b\"],[0.6666666666666666,\"#ed7953\"],[0.7777777777777778,\"#fb9f3a\"],[0.8888888888888888,\"#fdca26\"],[1.0,\"#f0f921\"]]}],\"contourcarpet\":[{\"type\":\"contourcarpet\",\"colorbar\":{\"outlinewidth\":0,\"ticks\":\"\"}}],\"contour\":[{\"type\":\"contour\",\"colorbar\":{\"outlinewidth\":0,\"ticks\":\"\"},\"colorscale\":[[0.0,\"#0d0887\"],[0.1111111111111111,\"#46039f\"],[0.2222222222222222,\"#7201a8\"],[0.3333333333333333,\"#9c179e\"],[0.4444444444444444,\"#bd3786\"],[0.5555555555555556,\"#d8576b\"],[0.6666666666666666,\"#ed7953\"],[0.7777777777777778,\"#fb9f3a\"],[0.8888888888888888,\"#fdca26\"],[1.0,\"#f0f921\"]]}],\"surface\":[{\"type\":\"surface\",\"colorbar\":{\"outlinewidth\":0,\"ticks\":\"\"},\"colorscale\":[[0.0,\"#0d0887\"],[0.1111111111111111,\"#46039f\"],[0.2222222222222222,\"#7201a8\"],[0.3333333333333333,\"#9c179e\"],[0.4444444444444444,\"#bd3786\"],[0.5555555555555556,\"#d8576b\"],[0.6666666666666666,\"#ed7953\"],[0.7777777777777778,\"#fb9f3a\"],[0.8888888888888888,\"#fdca26\"],[1.0,\"#f0f921\"]]}],\"mesh3d\":[{\"type\":\"mesh3d\",\"colorbar\":{\"outlinewidth\":0,\"ticks\":\"\"}}],\"scatter\":[{\"fillpattern\":{\"fillmode\":\"overlay\",\"size\":10,\"solidity\":0.2},\"type\":\"scatter\"}],\"parcoords\":[{\"type\":\"parcoords\",\"line\":{\"colorbar\":{\"outlinewidth\":0,\"ticks\":\"\"}}}],\"scatterpolargl\":[{\"type\":\"scatterpolargl\",\"marker\":{\"colorbar\":{\"outlinewidth\":0,\"ticks\":\"\"}}}],\"bar\":[{\"error_x\":{\"color\":\"#2a3f5f\"},\"error_y\":{\"color\":\"#2a3f5f\"},\"marker\":{\"line\":{\"color\":\"#E5ECF6\",\"width\":0.5},\"pattern\":{\"fillmode\":\"overlay\",\"size\":10,\"solidity\":0.2}},\"type\":\"bar\"}],\"scattergeo\":[{\"type\":\"scattergeo\",\"marker\":{\"colorbar\":{\"outlinewidth\":0,\"ticks\":\"\"}}}],\"scatterpolar\":[{\"type\":\"scatterpolar\",\"marker\":{\"colorbar\":{\"outlinewidth\":0,\"ticks\":\"\"}}}],\"histogram\":[{\"marker\":{\"pattern\":{\"fillmode\":\"overlay\",\"size\":10,\"solidity\":0.2}},\"type\":\"histogram\"}],\"scattergl\":[{\"type\":\"scattergl\",\"marker\":{\"colorbar\":{\"outlinewidth\":0,\"ticks\":\"\"}}}],\"scatter3d\":[{\"type\":\"scatter3d\",\"line\":{\"colorbar\":{\"outlinewidth\":0,\"ticks\":\"\"}},\"marker\":{\"colorbar\":{\"outlinewidth\":0,\"ticks\":\"\"}}}],\"scattermapbox\":[{\"type\":\"scattermapbox\",\"marker\":{\"colorbar\":{\"outlinewidth\":0,\"ticks\":\"\"}}}],\"scatterternary\":[{\"type\":\"scatterternary\",\"marker\":{\"colorbar\":{\"outlinewidth\":0,\"ticks\":\"\"}}}],\"scattercarpet\":[{\"type\":\"scattercarpet\",\"marker\":{\"colorbar\":{\"outlinewidth\":0,\"ticks\":\"\"}}}],\"carpet\":[{\"aaxis\":{\"endlinecolor\":\"#2a3f5f\",\"gridcolor\":\"white\",\"linecolor\":\"white\",\"minorgridcolor\":\"white\",\"startlinecolor\":\"#2a3f5f\"},\"baxis\":{\"endlinecolor\":\"#2a3f5f\",\"gridcolor\":\"white\",\"linecolor\":\"white\",\"minorgridcolor\":\"white\",\"startlinecolor\":\"#2a3f5f\"},\"type\":\"carpet\"}],\"table\":[{\"cells\":{\"fill\":{\"color\":\"#EBF0F8\"},\"line\":{\"color\":\"white\"}},\"header\":{\"fill\":{\"color\":\"#C8D4E3\"},\"line\":{\"color\":\"white\"}},\"type\":\"table\"}],\"barpolar\":[{\"marker\":{\"line\":{\"color\":\"#E5ECF6\",\"width\":0.5},\"pattern\":{\"fillmode\":\"overlay\",\"size\":10,\"solidity\":0.2}},\"type\":\"barpolar\"}],\"pie\":[{\"automargin\":true,\"type\":\"pie\"}]},\"layout\":{\"autotypenumbers\":\"strict\",\"colorway\":[\"#636efa\",\"#EF553B\",\"#00cc96\",\"#ab63fa\",\"#FFA15A\",\"#19d3f3\",\"#FF6692\",\"#B6E880\",\"#FF97FF\",\"#FECB52\"],\"font\":{\"color\":\"#2a3f5f\"},\"hovermode\":\"closest\",\"hoverlabel\":{\"align\":\"left\"},\"paper_bgcolor\":\"white\",\"plot_bgcolor\":\"#E5ECF6\",\"polar\":{\"bgcolor\":\"#E5ECF6\",\"angularaxis\":{\"gridcolor\":\"white\",\"linecolor\":\"white\",\"ticks\":\"\"},\"radialaxis\":{\"gridcolor\":\"white\",\"linecolor\":\"white\",\"ticks\":\"\"}},\"ternary\":{\"bgcolor\":\"#E5ECF6\",\"aaxis\":{\"gridcolor\":\"white\",\"linecolor\":\"white\",\"ticks\":\"\"},\"baxis\":{\"gridcolor\":\"white\",\"linecolor\":\"white\",\"ticks\":\"\"},\"caxis\":{\"gridcolor\":\"white\",\"linecolor\":\"white\",\"ticks\":\"\"}},\"coloraxis\":{\"colorbar\":{\"outlinewidth\":0,\"ticks\":\"\"}},\"colorscale\":{\"sequential\":[[0.0,\"#0d0887\"],[0.1111111111111111,\"#46039f\"],[0.2222222222222222,\"#7201a8\"],[0.3333333333333333,\"#9c179e\"],[0.4444444444444444,\"#bd3786\"],[0.5555555555555556,\"#d8576b\"],[0.6666666666666666,\"#ed7953\"],[0.7777777777777778,\"#fb9f3a\"],[0.8888888888888888,\"#fdca26\"],[1.0,\"#f0f921\"]],\"sequentialminus\":[[0.0,\"#0d0887\"],[0.1111111111111111,\"#46039f\"],[0.2222222222222222,\"#7201a8\"],[0.3333333333333333,\"#9c179e\"],[0.4444444444444444,\"#bd3786\"],[0.5555555555555556,\"#d8576b\"],[0.6666666666666666,\"#ed7953\"],[0.7777777777777778,\"#fb9f3a\"],[0.8888888888888888,\"#fdca26\"],[1.0,\"#f0f921\"]],\"diverging\":[[0,\"#8e0152\"],[0.1,\"#c51b7d\"],[0.2,\"#de77ae\"],[0.3,\"#f1b6da\"],[0.4,\"#fde0ef\"],[0.5,\"#f7f7f7\"],[0.6,\"#e6f5d0\"],[0.7,\"#b8e186\"],[0.8,\"#7fbc41\"],[0.9,\"#4d9221\"],[1,\"#276419\"]]},\"xaxis\":{\"gridcolor\":\"white\",\"linecolor\":\"white\",\"ticks\":\"\",\"title\":{\"standoff\":15},\"zerolinecolor\":\"white\",\"automargin\":true,\"zerolinewidth\":2},\"yaxis\":{\"gridcolor\":\"white\",\"linecolor\":\"white\",\"ticks\":\"\",\"title\":{\"standoff\":15},\"zerolinecolor\":\"white\",\"automargin\":true,\"zerolinewidth\":2},\"scene\":{\"xaxis\":{\"backgroundcolor\":\"#E5ECF6\",\"gridcolor\":\"white\",\"linecolor\":\"white\",\"showbackground\":true,\"ticks\":\"\",\"zerolinecolor\":\"white\",\"gridwidth\":2},\"yaxis\":{\"backgroundcolor\":\"#E5ECF6\",\"gridcolor\":\"white\",\"linecolor\":\"white\",\"showbackground\":true,\"ticks\":\"\",\"zerolinecolor\":\"white\",\"gridwidth\":2},\"zaxis\":{\"backgroundcolor\":\"#E5ECF6\",\"gridcolor\":\"white\",\"linecolor\":\"white\",\"showbackground\":true,\"ticks\":\"\",\"zerolinecolor\":\"white\",\"gridwidth\":2}},\"shapedefaults\":{\"line\":{\"color\":\"#2a3f5f\"}},\"annotationdefaults\":{\"arrowcolor\":\"#2a3f5f\",\"arrowhead\":0,\"arrowwidth\":1},\"geo\":{\"bgcolor\":\"white\",\"landcolor\":\"#E5ECF6\",\"subunitcolor\":\"white\",\"showland\":true,\"showlakes\":true,\"lakecolor\":\"white\"},\"title\":{\"x\":0.05},\"mapbox\":{\"style\":\"light\"}}},\"xaxis\":{\"anchor\":\"y\",\"domain\":[0.0,1.0],\"title\":{\"text\":\"t-SNE Component 1\"}},\"yaxis\":{\"anchor\":\"x\",\"domain\":[0.0,1.0],\"title\":{\"text\":\"t-SNE Component 2\"}},\"coloraxis\":{\"colorbar\":{\"title\":{\"text\":\"DBSCAN Cluster\"}},\"colorscale\":[[0.0,\"#0d0887\"],[0.1111111111111111,\"#46039f\"],[0.2222222222222222,\"#7201a8\"],[0.3333333333333333,\"#9c179e\"],[0.4444444444444444,\"#bd3786\"],[0.5555555555555556,\"#d8576b\"],[0.6666666666666666,\"#ed7953\"],[0.7777777777777778,\"#fb9f3a\"],[0.8888888888888888,\"#fdca26\"],[1.0,\"#f0f921\"]]},\"legend\":{\"tracegroupgap\":0},\"title\":{\"text\":\"t-SNE Visualization of DBSCAN Clusters (excluding Noise (-1))\"}},                        {\"responsive\": true}                    ).then(function(){\n",
       "                            \n",
       "var gd = document.getElementById('58d27cd7-6536-4199-a212-95f2914bd04a');\n",
       "var x = new MutationObserver(function (mutations, observer) {{\n",
       "        var display = window.getComputedStyle(gd).display;\n",
       "        if (!display || display === 'none') {{\n",
       "            console.log([gd, 'removed!']);\n",
       "            Plotly.purge(gd);\n",
       "            observer.disconnect();\n",
       "        }}\n",
       "}});\n",
       "\n",
       "// Listen for the removal of the full notebook cells\n",
       "var notebookContainer = gd.closest('#notebook-container');\n",
       "if (notebookContainer) {{\n",
       "    x.observe(notebookContainer, {childList: true});\n",
       "}}\n",
       "\n",
       "// Listen for the clearing of the current output cell\n",
       "var outputEl = gd.closest('.output');\n",
       "if (outputEl) {{\n",
       "    x.observe(outputEl, {childList: true});\n",
       "}}\n",
       "\n",
       "                        })                };                });            </script>        </div>"
      ]
     },
     "metadata": {},
     "output_type": "display_data"
    }
   ],
   "source": [
    "#| code-fold: true\n",
    "import pandas as pd\n",
    "from sklearn.manifold import TSNE\n",
    "\n",
    "features = db.drop(['Cluster_DBSCAN'], axis=1)\n",
    "tsne = TSNE(n_components=2, random_state=42)\n",
    "tsne_results = tsne.fit_transform(features)\n",
    "tsne_df = pd.DataFrame(tsne_results, columns=['t-SNE Component 1', 't-SNE Component 2'])\n",
    "tsne_df['Cluster_DBSCAN'] = db['Cluster_DBSCAN']\n",
    "tsne_df['Country'] = db['Country']\n",
    "\n",
    "# Filter out NOISE\n",
    "tsne_df_filtered = tsne_df[tsne_df['Cluster_DBSCAN'] != -1]\n",
    "\n",
    "# PLOTT\n",
    "fig = px.scatter(tsne_df_filtered, x='t-SNE Component 1', y='t-SNE Component 2', color='Cluster_DBSCAN',\n",
    "                 title='t-SNE Visualization of DBSCAN Clusters (excluding Noise (-1))', opacity=0.7,\n",
    "                 labels={'Cluster_DBSCAN': 'DBSCAN Cluster'},\n",
    "                 hover_data={'Country': True})  # Use hover_data with the filtered DataFrame\n",
    "\n",
    "fig.show()"
   ]
  },
  {
   "cell_type": "markdown",
   "metadata": {},
   "source": [
    "Clearly, DBSCAN clustering gives us different results than K-Means. "
   ]
  },
  {
   "cell_type": "markdown",
   "metadata": {},
   "source": [
    "## Hierarchal Clustering\n",
    "\n",
    "Finally, I will complete agglomerative clustering on my dataset."
   ]
  },
  {
   "cell_type": "markdown",
   "metadata": {},
   "source": [
    "### Dendrogram\n",
    "\n",
    "Below I have specified ward as the linkage algorithm with the metric as the euclidean distance. This ward method minimizes the variance within each cluster and is often used to minimize the overall variance. It works well with euclidean distance. "
   ]
  },
  {
   "cell_type": "code",
   "execution_count": 698,
   "metadata": {},
   "outputs": [
    {
     "data": {
      "text/plain": [
       "Text(0, 0.5, 'Distance')"
      ]
     },
     "execution_count": 698,
     "metadata": {},
     "output_type": "execute_result"
    },
    {
     "data": {
      "image/png": "[encoded data removed]",
      "text/plain": [
       "<Figure size 1200x800 with 1 Axes>"
      ]
     },
     "metadata": {},
     "output_type": "display_data"
    }
   ],
   "source": [
    "#| code-fold: true\n",
    "hc = pd.read_csv(\"/Users/kendallgilbert/dsan-5000-project-kendallgilbert180/dsan-website/5000-website/data/01-modified-data/nb_record.csv\")\n",
    "label_encoder = LabelEncoder()\n",
    "hc['Country'] = label_encoder.fit_transform(hc['Country'])\n",
    "\n",
    "features_to_standardize = ['Aqua Production (Millions)', 'Marine Protected Area (sqkm)', 'Inventions (number)', 'Instruments (number)', 'Fishing Exports (Millions)', 'Value', 'Country']\n",
    "data_subset = hc[features_to_standardize]\n",
    "scaler = StandardScaler()\n",
    "hc = scaler.fit_transform(data_subset)\n",
    "hc = pd.DataFrame(hc, columns=features_to_standardize)\n",
    "hc\n",
    "\n",
    "linkage_matrix = linkage(hc, method='ward', metric='euclidean')\n",
    "plt.figure(figsize=(12, 8))\n",
    "dendrogram(linkage_matrix, truncate_mode='level', p=3)\n",
    "plt.title('Dendrogram for Agglomerative Clustering')\n",
    "plt.xlabel('Sample Index')\n",
    "plt.ylabel('Distance')\n"
   ]
  },
  {
   "cell_type": "code",
   "execution_count": 666,
   "metadata": {},
   "outputs": [
    {
     "data": {
      "text/plain": [
       "<matplotlib.legend.Legend at 0x199117510>"
      ]
     },
     "execution_count": 666,
     "metadata": {},
     "output_type": "execute_result"
    },
    {
     "data": {
      "image/png": "[encoded data removed]",
      "text/plain": [
       "<Figure size 1200x800 with 1 Axes>"
      ]
     },
     "metadata": {},
     "output_type": "display_data"
    }
   ],
   "source": [
    "#| code-fold: true\n",
    "plt.figure(figsize=(12, 8))\n",
    "dendrogram(linkage_matrix, truncate_mode='level', p=3)\n",
    "\n",
    "num_clusters = 4\n",
    "plt.axhline(y=linkage_matrix[-num_clusters + 1, 2], color='r', linestyle='--', label=f'Number of Clusters = {num_clusters}')\n",
    "\n",
    "plt.title('Dendrogram for Agglomerative Clustering')\n",
    "plt.xlabel('Sample Index')\n",
    "plt.ylabel('Distance')\n",
    "plt.legend()"
   ]
  },
  {
   "cell_type": "markdown",
   "metadata": {},
   "source": [
    "### Agglomerative Cluster Table"
   ]
  },
  {
   "cell_type": "code",
   "execution_count": 699,
   "metadata": {},
   "outputs": [
    {
     "data": {
      "text/html": [
       "<div>\n",
       "<style scoped>\n",
       "    .dataframe tbody tr th:only-of-type {\n",
       "        vertical-align: middle;\n",
       "    }\n",
       "\n",
       "    .dataframe tbody tr th {\n",
       "        vertical-align: top;\n",
       "    }\n",
       "\n",
       "    .dataframe thead th {\n",
       "        text-align: right;\n",
       "    }\n",
       "</style>\n",
       "<table border=\"1\" class=\"dataframe\">\n",
       "  <thead>\n",
       "    <tr style=\"text-align: right;\">\n",
       "      <th></th>\n",
       "      <th>Aqua Production (Millions)</th>\n",
       "      <th>Marine Protected Area (sqkm)</th>\n",
       "      <th>Inventions (number)</th>\n",
       "      <th>Instruments (number)</th>\n",
       "      <th>Fishing Exports (Millions)</th>\n",
       "      <th>Value</th>\n",
       "      <th>Country</th>\n",
       "      <th>Cluster_Agglomerative</th>\n",
       "    </tr>\n",
       "  </thead>\n",
       "  <tbody>\n",
       "    <tr>\n",
       "      <th>0</th>\n",
       "      <td>0.679748</td>\n",
       "      <td>-0.216403</td>\n",
       "      <td>-0.255849</td>\n",
       "      <td>0.128004</td>\n",
       "      <td>-0.179730</td>\n",
       "      <td>-0.246968</td>\n",
       "      <td>-0.805823</td>\n",
       "      <td>0</td>\n",
       "    </tr>\n",
       "    <tr>\n",
       "      <th>1</th>\n",
       "      <td>-0.369917</td>\n",
       "      <td>-0.279476</td>\n",
       "      <td>-0.331231</td>\n",
       "      <td>-1.113538</td>\n",
       "      <td>-0.548519</td>\n",
       "      <td>-0.751243</td>\n",
       "      <td>-0.725241</td>\n",
       "      <td>1</td>\n",
       "    </tr>\n",
       "    <tr>\n",
       "      <th>2</th>\n",
       "      <td>-0.301377</td>\n",
       "      <td>-0.200619</td>\n",
       "      <td>-0.182663</td>\n",
       "      <td>0.872929</td>\n",
       "      <td>0.563609</td>\n",
       "      <td>-0.503371</td>\n",
       "      <td>-0.644658</td>\n",
       "      <td>1</td>\n",
       "    </tr>\n",
       "    <tr>\n",
       "      <th>3</th>\n",
       "      <td>-0.345421</td>\n",
       "      <td>-0.000724</td>\n",
       "      <td>-0.326903</td>\n",
       "      <td>-0.120304</td>\n",
       "      <td>0.168121</td>\n",
       "      <td>0.151617</td>\n",
       "      <td>-0.564076</td>\n",
       "      <td>1</td>\n",
       "    </tr>\n",
       "    <tr>\n",
       "      <th>4</th>\n",
       "      <td>-0.288119</td>\n",
       "      <td>-0.249281</td>\n",
       "      <td>-0.333362</td>\n",
       "      <td>-1.113538</td>\n",
       "      <td>-0.674262</td>\n",
       "      <td>-0.751243</td>\n",
       "      <td>-0.483494</td>\n",
       "      <td>1</td>\n",
       "    </tr>\n",
       "  </tbody>\n",
       "</table>\n",
       "</div>"
      ],
      "text/plain": [
       "   Aqua Production (Millions)  Marine Protected Area (sqkm)  \\\n",
       "0                    0.679748                     -0.216403   \n",
       "1                   -0.369917                     -0.279476   \n",
       "2                   -0.301377                     -0.200619   \n",
       "3                   -0.345421                     -0.000724   \n",
       "4                   -0.288119                     -0.249281   \n",
       "\n",
       "   Inventions (number)  Instruments (number)  Fishing Exports (Millions)  \\\n",
       "0            -0.255849              0.128004                   -0.179730   \n",
       "1            -0.331231             -1.113538                   -0.548519   \n",
       "2            -0.182663              0.872929                    0.563609   \n",
       "3            -0.326903             -0.120304                    0.168121   \n",
       "4            -0.333362             -1.113538                   -0.674262   \n",
       "\n",
       "      Value   Country  Cluster_Agglomerative  \n",
       "0 -0.246968 -0.805823                      0  \n",
       "1 -0.751243 -0.725241                      1  \n",
       "2 -0.503371 -0.644658                      1  \n",
       "3  0.151617 -0.564076                      1  \n",
       "4 -0.751243 -0.483494                      1  "
      ]
     },
     "execution_count": 699,
     "metadata": {},
     "output_type": "execute_result"
    }
   ],
   "source": [
    "#| code-fold: true\n",
    "agglomerative = AgglomerativeClustering(n_clusters=4, linkage='ward', distance_threshold=None, compute_full_tree=True, metric='euclidean')  \n",
    "agglomerative_labels = agglomerative.fit_predict(hc)\n",
    "agglomerative_dataset = hc.copy()\n",
    "agglomerative_dataset['Cluster_Agglomerative'] = agglomerative_labels\n",
    "agglomerative_dataset.head(5)"
   ]
  },
  {
   "cell_type": "markdown",
   "metadata": {},
   "source": [
    "## Results / Conclusion\n",
    "\n",
    "Within this tab I have completed three different kinds of clustering analysis - k-means, dbscam and hierarchal clustering. Out of these three methods I prefer k-means. It is extremely straight forward and the elbow method helps assure me that 3 clusters will give the best results. I also think that completing k-means on the dimensionality reduced data worked the best. We are able to see three distinctly defined clusters. \n",
    "\n",
    "Unfortunately I do not have the true labels for this data so I was unable to see if the clusters coincided with the ground truth. The absence of true labels limits my ability to validate the clusters.\n",
    "\n",
    "This clustering analysis enhanced my understanding on my data set. Clustering has allowed me to summarize my multidimensional dataset into a small number of clusters, simplifying the data making it more easier to communicate. This data can be classified into three clusters (found in K-Means), which I will continue to explore in this project. \n",
    "\n",
    "Below is a table describing the clusters for each feature."
   ]
  },
  {
   "cell_type": "code",
   "execution_count": 703,
   "metadata": {},
   "outputs": [
    {
     "data": {
      "text/html": [
       "<div>\n",
       "<style scoped>\n",
       "    .dataframe tbody tr th:only-of-type {\n",
       "        vertical-align: middle;\n",
       "    }\n",
       "\n",
       "    .dataframe tbody tr th {\n",
       "        vertical-align: top;\n",
       "    }\n",
       "\n",
       "    .dataframe thead tr th {\n",
       "        text-align: left;\n",
       "    }\n",
       "\n",
       "    .dataframe thead tr:last-of-type th {\n",
       "        text-align: right;\n",
       "    }\n",
       "</style>\n",
       "<table border=\"1\" class=\"dataframe\">\n",
       "  <thead>\n",
       "    <tr>\n",
       "      <th></th>\n",
       "      <th colspan=\"8\" halign=\"left\">Aqua Production (Millions)</th>\n",
       "      <th colspan=\"8\" halign=\"left\">Marine Protected Area (sqkm)</th>\n",
       "      <th colspan=\"8\" halign=\"left\">Inventions (number)</th>\n",
       "      <th colspan=\"8\" halign=\"left\">Instruments (number)</th>\n",
       "      <th colspan=\"8\" halign=\"left\">Fishing Exports (Millions)</th>\n",
       "      <th colspan=\"8\" halign=\"left\">Value</th>\n",
       "      <th colspan=\"8\" halign=\"left\">cluster_number_pca</th>\n",
       "    </tr>\n",
       "    <tr>\n",
       "      <th></th>\n",
       "      <th>count</th>\n",
       "      <th>mean</th>\n",
       "      <th>std</th>\n",
       "      <th>min</th>\n",
       "      <th>25%</th>\n",
       "      <th>50%</th>\n",
       "      <th>75%</th>\n",
       "      <th>max</th>\n",
       "      <th>count</th>\n",
       "      <th>mean</th>\n",
       "      <th>std</th>\n",
       "      <th>min</th>\n",
       "      <th>25%</th>\n",
       "      <th>50%</th>\n",
       "      <th>75%</th>\n",
       "      <th>max</th>\n",
       "      <th>count</th>\n",
       "      <th>mean</th>\n",
       "      <th>std</th>\n",
       "      <th>min</th>\n",
       "      <th>25%</th>\n",
       "      <th>50%</th>\n",
       "      <th>75%</th>\n",
       "      <th>max</th>\n",
       "      <th>count</th>\n",
       "      <th>mean</th>\n",
       "      <th>std</th>\n",
       "      <th>min</th>\n",
       "      <th>25%</th>\n",
       "      <th>50%</th>\n",
       "      <th>75%</th>\n",
       "      <th>max</th>\n",
       "      <th>count</th>\n",
       "      <th>mean</th>\n",
       "      <th>std</th>\n",
       "      <th>min</th>\n",
       "      <th>25%</th>\n",
       "      <th>50%</th>\n",
       "      <th>75%</th>\n",
       "      <th>max</th>\n",
       "      <th>count</th>\n",
       "      <th>mean</th>\n",
       "      <th>std</th>\n",
       "      <th>min</th>\n",
       "      <th>25%</th>\n",
       "      <th>50%</th>\n",
       "      <th>75%</th>\n",
       "      <th>max</th>\n",
       "      <th>count</th>\n",
       "      <th>mean</th>\n",
       "      <th>std</th>\n",
       "      <th>min</th>\n",
       "      <th>25%</th>\n",
       "      <th>50%</th>\n",
       "      <th>75%</th>\n",
       "      <th>max</th>\n",
       "    </tr>\n",
       "    <tr>\n",
       "      <th>Clusters_f</th>\n",
       "      <th></th>\n",
       "      <th></th>\n",
       "      <th></th>\n",
       "      <th></th>\n",
       "      <th></th>\n",
       "      <th></th>\n",
       "      <th></th>\n",
       "      <th></th>\n",
       "      <th></th>\n",
       "      <th></th>\n",
       "      <th></th>\n",
       "      <th></th>\n",
       "      <th></th>\n",
       "      <th></th>\n",
       "      <th></th>\n",
       "      <th></th>\n",
       "      <th></th>\n",
       "      <th></th>\n",
       "      <th></th>\n",
       "      <th></th>\n",
       "      <th></th>\n",
       "      <th></th>\n",
       "      <th></th>\n",
       "      <th></th>\n",
       "      <th></th>\n",
       "      <th></th>\n",
       "      <th></th>\n",
       "      <th></th>\n",
       "      <th></th>\n",
       "      <th></th>\n",
       "      <th></th>\n",
       "      <th></th>\n",
       "      <th></th>\n",
       "      <th></th>\n",
       "      <th></th>\n",
       "      <th></th>\n",
       "      <th></th>\n",
       "      <th></th>\n",
       "      <th></th>\n",
       "      <th></th>\n",
       "      <th></th>\n",
       "      <th></th>\n",
       "      <th></th>\n",
       "      <th></th>\n",
       "      <th></th>\n",
       "      <th></th>\n",
       "      <th></th>\n",
       "      <th></th>\n",
       "      <th></th>\n",
       "      <th></th>\n",
       "      <th></th>\n",
       "      <th></th>\n",
       "      <th></th>\n",
       "      <th></th>\n",
       "      <th></th>\n",
       "      <th></th>\n",
       "    </tr>\n",
       "  </thead>\n",
       "  <tbody>\n",
       "    <tr>\n",
       "      <th>0</th>\n",
       "      <td>427.0</td>\n",
       "      <td>0.033113</td>\n",
       "      <td>1.061094</td>\n",
       "      <td>-0.370071</td>\n",
       "      <td>-0.357156</td>\n",
       "      <td>-0.322285</td>\n",
       "      <td>-0.192280</td>\n",
       "      <td>8.086949</td>\n",
       "      <td>427.0</td>\n",
       "      <td>-0.182958</td>\n",
       "      <td>0.181332</td>\n",
       "      <td>-0.280220</td>\n",
       "      <td>-0.273972</td>\n",
       "      <td>-0.251229</td>\n",
       "      <td>-0.189612</td>\n",
       "      <td>0.953724</td>\n",
       "      <td>427.0</td>\n",
       "      <td>0.048358</td>\n",
       "      <td>1.087514</td>\n",
       "      <td>-0.333362</td>\n",
       "      <td>-0.313984</td>\n",
       "      <td>-0.255849</td>\n",
       "      <td>-0.070688</td>\n",
       "      <td>8.737860</td>\n",
       "      <td>427.0</td>\n",
       "      <td>-0.221489</td>\n",
       "      <td>7.982990e-01</td>\n",
       "      <td>-1.113538</td>\n",
       "      <td>-0.865229</td>\n",
       "      <td>-0.368613</td>\n",
       "      <td>0.128004</td>\n",
       "      <td>2.611087</td>\n",
       "      <td>427.0</td>\n",
       "      <td>-0.175076</td>\n",
       "      <td>0.593872</td>\n",
       "      <td>-0.768175</td>\n",
       "      <td>-0.598041</td>\n",
       "      <td>-0.356520</td>\n",
       "      <td>0.078319</td>\n",
       "      <td>2.864188</td>\n",
       "      <td>427.0</td>\n",
       "      <td>-0.361224</td>\n",
       "      <td>2.816619e-01</td>\n",
       "      <td>-0.751243</td>\n",
       "      <td>-0.596974</td>\n",
       "      <td>-0.412848</td>\n",
       "      <td>-0.176825</td>\n",
       "      <td>0.828407</td>\n",
       "      <td>427.0</td>\n",
       "      <td>0.0</td>\n",
       "      <td>0.0</td>\n",
       "      <td>0.0</td>\n",
       "      <td>0.0</td>\n",
       "      <td>0.0</td>\n",
       "      <td>0.0</td>\n",
       "      <td>0.0</td>\n",
       "    </tr>\n",
       "    <tr>\n",
       "      <th>1</th>\n",
       "      <td>12.0</td>\n",
       "      <td>-0.361520</td>\n",
       "      <td>0.003304</td>\n",
       "      <td>-0.370071</td>\n",
       "      <td>-0.362577</td>\n",
       "      <td>-0.361009</td>\n",
       "      <td>-0.360014</td>\n",
       "      <td>-0.355784</td>\n",
       "      <td>12.0</td>\n",
       "      <td>6.131303</td>\n",
       "      <td>1.589411</td>\n",
       "      <td>3.238825</td>\n",
       "      <td>5.027287</td>\n",
       "      <td>6.373157</td>\n",
       "      <td>7.614396</td>\n",
       "      <td>8.064208</td>\n",
       "      <td>12.0</td>\n",
       "      <td>0.337857</td>\n",
       "      <td>0.410121</td>\n",
       "      <td>-0.000183</td>\n",
       "      <td>0.073342</td>\n",
       "      <td>0.212462</td>\n",
       "      <td>0.406779</td>\n",
       "      <td>1.375166</td>\n",
       "      <td>12.0</td>\n",
       "      <td>-1.113538</td>\n",
       "      <td>2.319180e-16</td>\n",
       "      <td>-1.113538</td>\n",
       "      <td>-1.113538</td>\n",
       "      <td>-1.113538</td>\n",
       "      <td>-1.113538</td>\n",
       "      <td>-1.113538</td>\n",
       "      <td>12.0</td>\n",
       "      <td>4.825392</td>\n",
       "      <td>1.125568</td>\n",
       "      <td>1.782048</td>\n",
       "      <td>4.753901</td>\n",
       "      <td>5.213789</td>\n",
       "      <td>5.550297</td>\n",
       "      <td>5.670186</td>\n",
       "      <td>12.0</td>\n",
       "      <td>-0.751243</td>\n",
       "      <td>2.319180e-16</td>\n",
       "      <td>-0.751243</td>\n",
       "      <td>-0.751243</td>\n",
       "      <td>-0.751243</td>\n",
       "      <td>-0.751243</td>\n",
       "      <td>-0.751243</td>\n",
       "      <td>12.0</td>\n",
       "      <td>2.0</td>\n",
       "      <td>0.0</td>\n",
       "      <td>2.0</td>\n",
       "      <td>2.0</td>\n",
       "      <td>2.0</td>\n",
       "      <td>2.0</td>\n",
       "      <td>2.0</td>\n",
       "    </tr>\n",
       "    <tr>\n",
       "      <th>2</th>\n",
       "      <td>77.0</td>\n",
       "      <td>-0.127284</td>\n",
       "      <td>0.659682</td>\n",
       "      <td>-0.368138</td>\n",
       "      <td>-0.355584</td>\n",
       "      <td>-0.339992</td>\n",
       "      <td>-0.206926</td>\n",
       "      <td>3.833667</td>\n",
       "      <td>77.0</td>\n",
       "      <td>0.059060</td>\n",
       "      <td>0.334970</td>\n",
       "      <td>-0.277454</td>\n",
       "      <td>-0.203746</td>\n",
       "      <td>-0.043971</td>\n",
       "      <td>0.171109</td>\n",
       "      <td>1.075947</td>\n",
       "      <td>77.0</td>\n",
       "      <td>-0.320819</td>\n",
       "      <td>0.020406</td>\n",
       "      <td>-0.333362</td>\n",
       "      <td>-0.333362</td>\n",
       "      <td>-0.326903</td>\n",
       "      <td>-0.320443</td>\n",
       "      <td>-0.233241</td>\n",
       "      <td>77.0</td>\n",
       "      <td>1.401793</td>\n",
       "      <td>8.689397e-01</td>\n",
       "      <td>-0.616921</td>\n",
       "      <td>1.121237</td>\n",
       "      <td>1.617854</td>\n",
       "      <td>1.866162</td>\n",
       "      <td>2.611087</td>\n",
       "      <td>77.0</td>\n",
       "      <td>0.218867</td>\n",
       "      <td>0.855564</td>\n",
       "      <td>-0.735585</td>\n",
       "      <td>-0.546890</td>\n",
       "      <td>0.109530</td>\n",
       "      <td>1.067341</td>\n",
       "      <td>1.768363</td>\n",
       "      <td>77.0</td>\n",
       "      <td>2.120226</td>\n",
       "      <td>9.839036e-01</td>\n",
       "      <td>0.371053</td>\n",
       "      <td>1.479130</td>\n",
       "      <td>1.956863</td>\n",
       "      <td>3.040295</td>\n",
       "      <td>3.356415</td>\n",
       "      <td>77.0</td>\n",
       "      <td>1.0</td>\n",
       "      <td>0.0</td>\n",
       "      <td>1.0</td>\n",
       "      <td>1.0</td>\n",
       "      <td>1.0</td>\n",
       "      <td>1.0</td>\n",
       "      <td>1.0</td>\n",
       "    </tr>\n",
       "  </tbody>\n",
       "</table>\n",
       "</div>"
      ],
      "text/plain": [
       "           Aqua Production (Millions)                                          \\\n",
       "                                count      mean       std       min       25%   \n",
       "Clusters_f                                                                      \n",
       "0                               427.0  0.033113  1.061094 -0.370071 -0.357156   \n",
       "1                                12.0 -0.361520  0.003304 -0.370071 -0.362577   \n",
       "2                                77.0 -0.127284  0.659682 -0.368138 -0.355584   \n",
       "\n",
       "                                         Marine Protected Area (sqkm)  \\\n",
       "                 50%       75%       max                        count   \n",
       "Clusters_f                                                              \n",
       "0          -0.322285 -0.192280  8.086949                        427.0   \n",
       "1          -0.361009 -0.360014 -0.355784                         12.0   \n",
       "2          -0.339992 -0.206926  3.833667                         77.0   \n",
       "\n",
       "                                                                        \\\n",
       "                mean       std       min       25%       50%       75%   \n",
       "Clusters_f                                                               \n",
       "0          -0.182958  0.181332 -0.280220 -0.273972 -0.251229 -0.189612   \n",
       "1           6.131303  1.589411  3.238825  5.027287  6.373157  7.614396   \n",
       "2           0.059060  0.334970 -0.277454 -0.203746 -0.043971  0.171109   \n",
       "\n",
       "                     Inventions (number)                                \\\n",
       "                 max               count      mean       std       min   \n",
       "Clusters_f                                                               \n",
       "0           0.953724               427.0  0.048358  1.087514 -0.333362   \n",
       "1           8.064208                12.0  0.337857  0.410121 -0.000183   \n",
       "2           1.075947                77.0 -0.320819  0.020406 -0.333362   \n",
       "\n",
       "                                                   Instruments (number)  \\\n",
       "                 25%       50%       75%       max                count   \n",
       "Clusters_f                                                                \n",
       "0          -0.313984 -0.255849 -0.070688  8.737860                427.0   \n",
       "1           0.073342  0.212462  0.406779  1.375166                 12.0   \n",
       "2          -0.333362 -0.326903 -0.320443 -0.233241                 77.0   \n",
       "\n",
       "                                                                            \\\n",
       "                mean           std       min       25%       50%       75%   \n",
       "Clusters_f                                                                   \n",
       "0          -0.221489  7.982990e-01 -1.113538 -0.865229 -0.368613  0.128004   \n",
       "1          -1.113538  2.319180e-16 -1.113538 -1.113538 -1.113538 -1.113538   \n",
       "2           1.401793  8.689397e-01 -0.616921  1.121237  1.617854  1.866162   \n",
       "\n",
       "                     Fishing Exports (Millions)                                \\\n",
       "                 max                      count      mean       std       min   \n",
       "Clusters_f                                                                      \n",
       "0           2.611087                      427.0 -0.175076  0.593872 -0.768175   \n",
       "1          -1.113538                       12.0  4.825392  1.125568  1.782048   \n",
       "2           2.611087                       77.0  0.218867  0.855564 -0.735585   \n",
       "\n",
       "                                                    Value            \\\n",
       "                 25%       50%       75%       max  count      mean   \n",
       "Clusters_f                                                            \n",
       "0          -0.598041 -0.356520  0.078319  2.864188  427.0 -0.361224   \n",
       "1           4.753901  5.213789  5.550297  5.670186   12.0 -0.751243   \n",
       "2          -0.546890  0.109530  1.067341  1.768363   77.0  2.120226   \n",
       "\n",
       "                                                                            \\\n",
       "                     std       min       25%       50%       75%       max   \n",
       "Clusters_f                                                                   \n",
       "0           2.816619e-01 -0.751243 -0.596974 -0.412848 -0.176825  0.828407   \n",
       "1           2.319180e-16 -0.751243 -0.751243 -0.751243 -0.751243 -0.751243   \n",
       "2           9.839036e-01  0.371053  1.479130  1.956863  3.040295  3.356415   \n",
       "\n",
       "           cluster_number_pca                                     \n",
       "                        count mean  std  min  25%  50%  75%  max  \n",
       "Clusters_f                                                        \n",
       "0                       427.0  0.0  0.0  0.0  0.0  0.0  0.0  0.0  \n",
       "1                        12.0  2.0  0.0  2.0  2.0  2.0  2.0  2.0  \n",
       "2                        77.0  1.0  0.0  1.0  1.0  1.0  1.0  1.0  "
      ]
     },
     "execution_count": 703,
     "metadata": {},
     "output_type": "execute_result"
    }
   ],
   "source": [
    "#| code-fold: true\n",
    "columns_to_exclude = ['PCA1', 'PCA2']\n",
    "data_for_clustering = data_standardized.drop(columns=columns_to_exclude)\n",
    "clustered_data = data_for_clustering.groupby('Clusters_f')\n",
    "cluster_describe = clustered_data.describe()\n",
    "cluster_describe\n"
   ]
  },
  {
   "cell_type": "markdown",
   "metadata": {},
   "source": [
    "Below I have created a bar chart to establish the max value for each feature in each cluster based off of the clustering completed on the **ORIGINAL FEATURES**. This will give us an understanding on which cluster includes countries that are innovative. "
   ]
  },
  {
   "cell_type": "code",
   "execution_count": 704,
   "metadata": {},
   "outputs": [
    {
     "data": {
      "text/plain": [
       "<matplotlib.legend.Legend at 0x19a47a450>"
      ]
     },
     "execution_count": 704,
     "metadata": {},
     "output_type": "execute_result"
    },
    {
     "data": {
      "text/plain": [
       "<Figure size 1200x800 with 0 Axes>"
      ]
     },
     "metadata": {},
     "output_type": "display_data"
    },
    {
     "data": {
      "image/png": "[encoded data removed]",
      "text/plain": [
       "<Figure size 640x480 with 1 Axes>"
      ]
     },
     "metadata": {},
     "output_type": "display_data"
    }
   ],
   "source": [
    "#| code-fold: true\n",
    "max_values = cluster_describe.xs('max', level=1, axis=1)\n",
    "max_values = max_values.T\n",
    "plt.figure(figsize=(12, 8))\n",
    "max_values.plot(kind='bar', colormap='viridis')\n",
    "plt.title('Maximum Values for Each Variable within Each Cluster')\n",
    "plt.xlabel('Variables')\n",
    "plt.ylabel('Maximum Value')\n",
    "plt.legend(title='Cluster', bbox_to_anchor=(1.05, 1), loc='upper left')\n",
    "\n"
   ]
  },
  {
   "cell_type": "markdown",
   "metadata": {},
   "source": [
    "Based on the bar chart above, it is safe to say that the countries within cluster 0 are the most innovative. This is because they have the highest values for a majority of the features - all which have positive impacts on a country. Furthermore, the cluster 2 seems to be countries that are not as innovative. The lower values across multiple features may indicate areas where improvement or development could be considered.\n",
    "\n",
    "If I had more time I would do more EDA on the clusters. \n",
    "\n",
    "*Will expand as I understand my data better*"
   ]
  }
 ],
 "metadata": {
  "kernelspec": {
   "display_name": "base",
   "language": "python",
   "name": "python3"
  },
  "language_info": {
   "codemirror_mode": {
    "name": "ipython",
    "version": 3
   },
   "file_extension": ".py",
   "mimetype": "text/x-python",
   "name": "python",
   "nbconvert_exporter": "python",
   "pygments_lexer": "ipython3",
   "version": "3.11.5"
  },
  "orig_nbformat": 4
 },
 "nbformat": 4,
 "nbformat_minor": 2
}

{
 "cells": [
  {
   "cell_type": "markdown",
   "metadata": {},
   "source": [
    "---\n",
    "title: Clustering\n",
    "format: html\n",
    "bibliography: project_reference.bib\n",
    "---\n",
    "\n",
    "## Introduction \n",
    "\n",
    "Within this tab I will complete three different kinds of clustering on my datset. I will use the same dataset that I have worked with containg the seven features. The three kinds of clustering I will use are k-means, dbscan and hierarchical clustering. I will provide a summary of these clustering techniques as well as walk through the steps I completed to perform these clustering techniques on my data. My goal with this clustering tab is to find patterns within my dataset. I will also include a results and conclusion section to illustrate what these clustering techniques are doing on my data and what my results mean in non-technical wording. \n",
    "\n",
    "## Learn about Clustering\n",
    "\n",
    "### K-MEANS\n",
    "\n",
    "The goal of k-means is to partition a data set into a set of K clusters a way that the sum of the squared distances between the objects and their assigned cluster mean is minimized.\n",
    "\n",
    "The data scientist will assign k, which is the number of centroids. A centroid represents the center of a cluster. Every data point with the data set is set to a cluster through reducing the in-cluster sum of squares.\n",
    "\n",
    "The K-means algorithm \"identifies k number of centroids, and then allocates every data point to the nearest cluster, while keeping the centroids as small as possible.\"[@ecosystem_ledu_understanding_2018]\n",
    "\n",
    "It is one of the most simple and most popular unsupervised machine learning algorithms.\n",
    "\n",
    "### DBSCAN \n",
    "\n",
    "DBSCAN is based off of the idea of clusters and noise. The main idea is that for each point within a cluster, the neighberhood of a given radius has to contain at least a minimum number of points. DBSCAN works better for data that contains irregularities.\n",
    "\n",
    "The parameters for DBSCAN are EPS and MinPts. EPS is a distance measure used to locate points in the neighberhood of any point. MinPts is the minimum number of points clustered together for a region to be considered dense.\n",
    "\n",
    "So why use DBSCAN over K-Means? Often times k-means may cluster loosely related observations together. Every observation becomes part of a cluster eventually in k-means. This problem is reduced in dbscan as a result of the way dbscan works. \n",
    "\n",
    "Data scientists sometimes prefer dbscan as you do not have to specify the number of clusters. \n",
    "[@noauthor_dbscan_2019]\n",
    "\n",
    "### Hierarchical Clustering \n",
    "\n",
    "Hierarchical clustering can be divided into two types \n",
    "\n",
    "1) **Agglomerative:** Each object is its own cluster. The clusters are merged step by step until a single cluster remains. At the end of the cluster merging process, a cluster containing all the elements is formed.\n",
    "\n",
    "2) **Divisive:** Opposite of the agglomerative method. In the beginning, all objects are considered in a single cluster. The division process is performed until each object forms a different cluster. The cluster division or splitting procedure is carried out according to some principles that maximum distance between neighboring objects in the cluster.\n",
    "\n",
    "Agglomerative is the preffered method.\n",
    "\n",
    "Within hierarchical clustering clusters are visually represeneted in a hierarchical tree called a dendrogram. This method is sometimes preferred as you do not need to specify the number of clusters and the data is easily summarized into a hierarchy using dendrograms. \n",
    "\n",
    "Keep scrolling to see each clustering method on my data set!\n"
   ]
  },
  {
   "cell_type": "markdown",
   "metadata": {},
   "source": [
    "## KMEANS\n",
    "\n",
    "### Importing Libraries and Data \n",
    "\n",
    "Within the code below I have imported the data and encoded the country column. \n"
   ]
  },
  {
   "cell_type": "code",
   "execution_count": 652,
   "metadata": {},
   "outputs": [
    {
     "data": {
      "text/html": [
       "<div>\n",
       "<style scoped>\n",
       "    .dataframe tbody tr th:only-of-type {\n",
       "        vertical-align: middle;\n",
       "    }\n",
       "\n",
       "    .dataframe tbody tr th {\n",
       "        vertical-align: top;\n",
       "    }\n",
       "\n",
       "    .dataframe thead th {\n",
       "        text-align: right;\n",
       "    }\n",
       "</style>\n",
       "<table border=\"1\" class=\"dataframe\">\n",
       "  <thead>\n",
       "    <tr style=\"text-align: right;\">\n",
       "      <th></th>\n",
       "      <th>Aqua Production (Millions)</th>\n",
       "      <th>Marine Protected Area (sqkm)</th>\n",
       "      <th>Inventions (number)</th>\n",
       "      <th>Instruments (number)</th>\n",
       "      <th>Fishing Exports (Millions)</th>\n",
       "      <th>Value</th>\n",
       "      <th>Country</th>\n",
       "      <th>Year</th>\n",
       "    </tr>\n",
       "  </thead>\n",
       "  <tbody>\n",
       "    <tr>\n",
       "      <th>0</th>\n",
       "      <td>376896.50</td>\n",
       "      <td>485.10</td>\n",
       "      <td>12.00</td>\n",
       "      <td>5.0</td>\n",
       "      <td>1963.38</td>\n",
       "      <td>10.64</td>\n",
       "      <td>11</td>\n",
       "      <td>2000</td>\n",
       "    </tr>\n",
       "    <tr>\n",
       "      <th>1</th>\n",
       "      <td>55.25</td>\n",
       "      <td>5.65</td>\n",
       "      <td>0.33</td>\n",
       "      <td>0.0</td>\n",
       "      <td>739.13</td>\n",
       "      <td>0.00</td>\n",
       "      <td>12</td>\n",
       "      <td>2000</td>\n",
       "    </tr>\n",
       "    <tr>\n",
       "      <th>2</th>\n",
       "      <td>24661.75</td>\n",
       "      <td>605.08</td>\n",
       "      <td>23.33</td>\n",
       "      <td>8.0</td>\n",
       "      <td>4431.00</td>\n",
       "      <td>5.23</td>\n",
       "      <td>13</td>\n",
       "      <td>2000</td>\n",
       "    </tr>\n",
       "    <tr>\n",
       "      <th>3</th>\n",
       "      <td>8849.75</td>\n",
       "      <td>2124.58</td>\n",
       "      <td>1.00</td>\n",
       "      <td>4.0</td>\n",
       "      <td>3118.12</td>\n",
       "      <td>19.05</td>\n",
       "      <td>14</td>\n",
       "      <td>2000</td>\n",
       "    </tr>\n",
       "    <tr>\n",
       "      <th>4</th>\n",
       "      <td>29421.75</td>\n",
       "      <td>235.18</td>\n",
       "      <td>0.00</td>\n",
       "      <td>0.0</td>\n",
       "      <td>321.71</td>\n",
       "      <td>0.00</td>\n",
       "      <td>15</td>\n",
       "      <td>2000</td>\n",
       "    </tr>\n",
       "  </tbody>\n",
       "</table>\n",
       "</div>"
      ],
      "text/plain": [
       "   Aqua Production (Millions)  Marine Protected Area (sqkm)  \\\n",
       "0                   376896.50                        485.10   \n",
       "1                       55.25                          5.65   \n",
       "2                    24661.75                        605.08   \n",
       "3                     8849.75                       2124.58   \n",
       "4                    29421.75                        235.18   \n",
       "\n",
       "   Inventions (number)  Instruments (number)  Fishing Exports (Millions)  \\\n",
       "0                12.00                   5.0                     1963.38   \n",
       "1                 0.33                   0.0                      739.13   \n",
       "2                23.33                   8.0                     4431.00   \n",
       "3                 1.00                   4.0                     3118.12   \n",
       "4                 0.00                   0.0                      321.71   \n",
       "\n",
       "   Value  Country  Year  \n",
       "0  10.64       11  2000  \n",
       "1   0.00       12  2000  \n",
       "2   5.23       13  2000  \n",
       "3  19.05       14  2000  \n",
       "4   0.00       15  2000  "
      ]
     },
     "execution_count": 652,
     "metadata": {},
     "output_type": "execute_result"
    }
   ],
   "source": [
    "#| code-fold: true\n",
    "import pandas as pd\n",
    "from sklearn.preprocessing import StandardScaler\n",
    "import matplotlib.pyplot as plt\n",
    "from sklearn.preprocessing import LabelEncoder\n",
    "import numpy as np\n",
    "from sklearn.cluster import KMeans, AgglomerativeClustering, MeanShift, Birch, DBSCAN\n",
    "from sklearn.metrics import silhouette_score\n",
    "from scipy.cluster.hierarchy import linkage, dendrogram\n",
    "\n",
    "\n",
    "data = pd.read_csv(\"/Users/kendallgilbert/dsan-5000-project-kendallgilbert180/dsan-website/5000-website/data/01-modified-data/nb_record.csv\")\n",
    "label_encoder = LabelEncoder()\n",
    "data['Country'] = label_encoder.fit_transform(data['Country'])\n",
    "data.head(5)\n"
   ]
  },
  {
   "cell_type": "markdown",
   "metadata": {},
   "source": [
    "### Standardizing the Data\n",
    "\n",
    "Within the code below I am standardizing the data to ensure that all features have the same scale. "
   ]
  },
  {
   "cell_type": "code",
   "execution_count": 653,
   "metadata": {},
   "outputs": [
    {
     "data": {
      "text/html": [
       "<div>\n",
       "<style scoped>\n",
       "    .dataframe tbody tr th:only-of-type {\n",
       "        vertical-align: middle;\n",
       "    }\n",
       "\n",
       "    .dataframe tbody tr th {\n",
       "        vertical-align: top;\n",
       "    }\n",
       "\n",
       "    .dataframe thead th {\n",
       "        text-align: right;\n",
       "    }\n",
       "</style>\n",
       "<table border=\"1\" class=\"dataframe\">\n",
       "  <thead>\n",
       "    <tr style=\"text-align: right;\">\n",
       "      <th></th>\n",
       "      <th>Aqua Production (Millions)</th>\n",
       "      <th>Marine Protected Area (sqkm)</th>\n",
       "      <th>Inventions (number)</th>\n",
       "      <th>Instruments (number)</th>\n",
       "      <th>Fishing Exports (Millions)</th>\n",
       "      <th>Value</th>\n",
       "      <th>Country</th>\n",
       "    </tr>\n",
       "  </thead>\n",
       "  <tbody>\n",
       "    <tr>\n",
       "      <th>0</th>\n",
       "      <td>0.679748</td>\n",
       "      <td>-0.216403</td>\n",
       "      <td>-0.255849</td>\n",
       "      <td>0.128004</td>\n",
       "      <td>-0.179730</td>\n",
       "      <td>-0.246968</td>\n",
       "      <td>-0.805823</td>\n",
       "    </tr>\n",
       "    <tr>\n",
       "      <th>1</th>\n",
       "      <td>-0.369917</td>\n",
       "      <td>-0.279476</td>\n",
       "      <td>-0.331231</td>\n",
       "      <td>-1.113538</td>\n",
       "      <td>-0.548519</td>\n",
       "      <td>-0.751243</td>\n",
       "      <td>-0.725241</td>\n",
       "    </tr>\n",
       "    <tr>\n",
       "      <th>2</th>\n",
       "      <td>-0.301377</td>\n",
       "      <td>-0.200619</td>\n",
       "      <td>-0.182663</td>\n",
       "      <td>0.872929</td>\n",
       "      <td>0.563609</td>\n",
       "      <td>-0.503371</td>\n",
       "      <td>-0.644658</td>\n",
       "    </tr>\n",
       "    <tr>\n",
       "      <th>3</th>\n",
       "      <td>-0.345421</td>\n",
       "      <td>-0.000724</td>\n",
       "      <td>-0.326903</td>\n",
       "      <td>-0.120304</td>\n",
       "      <td>0.168121</td>\n",
       "      <td>0.151617</td>\n",
       "      <td>-0.564076</td>\n",
       "    </tr>\n",
       "    <tr>\n",
       "      <th>4</th>\n",
       "      <td>-0.288119</td>\n",
       "      <td>-0.249281</td>\n",
       "      <td>-0.333362</td>\n",
       "      <td>-1.113538</td>\n",
       "      <td>-0.674262</td>\n",
       "      <td>-0.751243</td>\n",
       "      <td>-0.483494</td>\n",
       "    </tr>\n",
       "  </tbody>\n",
       "</table>\n",
       "</div>"
      ],
      "text/plain": [
       "   Aqua Production (Millions)  Marine Protected Area (sqkm)  \\\n",
       "0                    0.679748                     -0.216403   \n",
       "1                   -0.369917                     -0.279476   \n",
       "2                   -0.301377                     -0.200619   \n",
       "3                   -0.345421                     -0.000724   \n",
       "4                   -0.288119                     -0.249281   \n",
       "\n",
       "   Inventions (number)  Instruments (number)  Fishing Exports (Millions)  \\\n",
       "0            -0.255849              0.128004                   -0.179730   \n",
       "1            -0.331231             -1.113538                   -0.548519   \n",
       "2            -0.182663              0.872929                    0.563609   \n",
       "3            -0.326903             -0.120304                    0.168121   \n",
       "4            -0.333362             -1.113538                   -0.674262   \n",
       "\n",
       "      Value   Country  \n",
       "0 -0.246968 -0.805823  \n",
       "1 -0.751243 -0.725241  \n",
       "2 -0.503371 -0.644658  \n",
       "3  0.151617 -0.564076  \n",
       "4 -0.751243 -0.483494  "
      ]
     },
     "execution_count": 653,
     "metadata": {},
     "output_type": "execute_result"
    }
   ],
   "source": [
    "#| code-fold: true\n",
    "features_to_standardize = ['Aqua Production (Millions)', 'Marine Protected Area (sqkm)', 'Inventions (number)', 'Instruments (number)', 'Fishing Exports (Millions)', 'Value', 'Country']\n",
    "data_subset = data[features_to_standardize]\n",
    "scaler = StandardScaler()\n",
    "data_standardized = scaler.fit_transform(data_subset)\n",
    "data_standardized = pd.DataFrame(data_standardized, columns=features_to_standardize)\n",
    "data_standardized.head(5)"
   ]
  },
  {
   "cell_type": "markdown",
   "metadata": {},
   "source": [
    "### Performing K-Means Clustering\n",
    "\n",
    "Below I will preform my intial round of k-means clustering. I have chosen to use 7 clusters. I will later on implement code to help me achieve the optimal number of clusters. I have implemented k-means on my dimensionality reduced data (PCA).\n",
    "\n",
    "I have provided comments in my code to help readers understand what is being completed. "
   ]
  },
  {
   "cell_type": "code",
   "execution_count": 654,
   "metadata": {},
   "outputs": [
    {
     "data": {
      "text/plain": [
       "Text(0, 0.5, 'Principal Component 2')"
      ]
     },
     "execution_count": 654,
     "metadata": {},
     "output_type": "execute_result"
    },
    {
     "data": {
      "image/png": "[encoded data removed]",
      "text/plain": [
       "<Figure size 640x480 with 1 Axes>"
      ]
     },
     "metadata": {},
     "output_type": "display_data"
    }
   ],
   "source": [
    "#| code-fold: true\n",
    "from sklearn.decomposition import PCA\n",
    "pca = PCA(n_components=2)\n",
    "reduced_data = pca.fit_transform(data_standardized)\n",
    "data_standardized['PCA1'] = reduced_data[:, 0]\n",
    "data_standardized['PCA2'] = reduced_data[:, 1]\n",
    "\n",
    "# Performing K-means!!\n",
    "kmeans_pca = KMeans(n_clusters=7, random_state=42, n_init=10)\n",
    "kmeans_pca.fit(reduced_data)\n",
    "data_standardized['cluster_number_pca'] = kmeans_pca.labels_\n",
    "\n",
    "# Plot\n",
    "plt.scatter(data_standardized['PCA1'], data_standardized['PCA2'], c=data_standardized['cluster_number_pca'], cmap='viridis', marker='o', s=50)\n",
    "plt.title('K-means Clustering in PCA Space')\n",
    "plt.xlabel('Principal Component 1')\n",
    "plt.ylabel('Principal Component 2')"
   ]
  },
  {
   "cell_type": "markdown",
   "metadata": {},
   "source": [
    "Within the plot above, you can see that the dimensionality reduced data has beed placed into seven different clusters. This plot is not very informative because we do not actually know what country each plot is. Because of this I have utilized plotly to make an interactive plot. "
   ]
  },
  {
   "cell_type": "markdown",
   "metadata": {},
   "source": [
    "**K-Means with 7 Clusters and an Interactive Plot**\n",
    "\n",
    "To see if dots are from the same country you can use your cursor to see each more info on each plot. \n",
    "\n",
    "*Unfortunately I have not been able how to transform the standardized and encoded Country labels back to text** TBD"
   ]
  },
  {
   "cell_type": "code",
   "execution_count": 655,
   "metadata": {},
   "outputs": [
    {
     "data": {
      "text/html": [
       "        <script type=\"text/javascript\">\n",
       "        window.PlotlyConfig = {MathJaxConfig: 'local'};\n",
       "        if (window.MathJax && window.MathJax.Hub && window.MathJax.Hub.Config) {window.MathJax.Hub.Config({SVG: {font: \"STIX-Web\"}});}\n",
       "        if (typeof require !== 'undefined') {\n",
       "        require.undef(\"plotly\");\n",
       "        requirejs.config({\n",
       "            paths: {\n",
       "                'plotly': ['https://cdn.plot.ly/plotly-2.12.1.min']\n",
       "            }\n",
       "        });\n",
       "        require(['plotly'], function(Plotly) {\n",
       "            window._Plotly = Plotly;\n",
       "        });\n",
       "        }\n",
       "        </script>\n",
       "        "
      ]
     },
     "metadata": {},
     "output_type": "display_data"
    },
    {
     "data": {
      "application/vnd.plotly.v1+json": {
       "config": {
        "plotlyServerURL": "https://plot.ly"
       },
       "data": [
        {
         "customdata": [
          [
           "-0.806"
          ],
          [
           "-0.725"
          ],
          [
           "-0.645"
          ],
          [
           "-0.564"
          ],
          [
           "-0.483"
          ],
          [
           "-0.403"
          ],
          [
           "-0.322"
          ],
          [
           "-0.242"
          ],
          [
           "-0.161"
          ],
          [
           "-0.081"
          ],
          [
           "0.000"
          ],
          [
           "0.081"
          ],
          [
           "0.161"
          ],
          [
           "0.242"
          ],
          [
           "0.322"
          ],
          [
           "0.403"
          ],
          [
           "0.483"
          ],
          [
           "0.564"
          ],
          [
           "0.645"
          ],
          [
           "0.725"
          ],
          [
           "0.806"
          ],
          [
           "0.886"
          ],
          [
           "0.967"
          ],
          [
           "1.048"
          ],
          [
           "1.128"
          ],
          [
           "1.209"
          ],
          [
           "1.289"
          ],
          [
           "1.370"
          ],
          [
           "1.450"
          ],
          [
           "1.531"
          ],
          [
           "1.612"
          ],
          [
           "1.692"
          ],
          [
           "-1.692"
          ],
          [
           "-1.612"
          ],
          [
           "-1.531"
          ],
          [
           "-1.450"
          ],
          [
           "-1.370"
          ],
          [
           "-1.289"
          ],
          [
           "-1.209"
          ],
          [
           "-1.128"
          ],
          [
           "-1.048"
          ],
          [
           "-0.967"
          ],
          [
           "-0.886"
          ],
          [
           "-0.806"
          ],
          [
           "-0.725"
          ],
          [
           "-0.645"
          ],
          [
           "-0.564"
          ],
          [
           "-0.483"
          ],
          [
           "-0.403"
          ],
          [
           "-0.322"
          ],
          [
           "-0.242"
          ],
          [
           "-0.161"
          ],
          [
           "-0.081"
          ],
          [
           "0.000"
          ],
          [
           "0.081"
          ],
          [
           "0.161"
          ],
          [
           "0.242"
          ],
          [
           "0.322"
          ],
          [
           "0.403"
          ],
          [
           "0.483"
          ],
          [
           "0.564"
          ],
          [
           "0.645"
          ],
          [
           "0.725"
          ],
          [
           "0.806"
          ],
          [
           "0.886"
          ],
          [
           "0.967"
          ],
          [
           "1.048"
          ],
          [
           "1.128"
          ],
          [
           "1.209"
          ],
          [
           "1.289"
          ],
          [
           "1.370"
          ],
          [
           "1.450"
          ],
          [
           "1.531"
          ],
          [
           "1.612"
          ],
          [
           "1.692"
          ],
          [
           "-1.692"
          ],
          [
           "-1.612"
          ],
          [
           "-1.531"
          ],
          [
           "-1.450"
          ],
          [
           "-1.370"
          ],
          [
           "-1.289"
          ],
          [
           "-1.209"
          ],
          [
           "-1.128"
          ],
          [
           "-1.048"
          ],
          [
           "-0.967"
          ],
          [
           "-0.886"
          ],
          [
           "-0.806"
          ],
          [
           "-0.725"
          ],
          [
           "-0.645"
          ],
          [
           "-0.564"
          ],
          [
           "-0.483"
          ],
          [
           "-0.403"
          ],
          [
           "-0.322"
          ],
          [
           "-0.242"
          ],
          [
           "-0.161"
          ],
          [
           "-0.081"
          ],
          [
           "0.000"
          ],
          [
           "0.081"
          ],
          [
           "0.161"
          ],
          [
           "0.242"
          ],
          [
           "0.322"
          ],
          [
           "0.403"
          ],
          [
           "0.483"
          ],
          [
           "0.564"
          ],
          [
           "0.645"
          ],
          [
           "0.725"
          ],
          [
           "0.806"
          ],
          [
           "0.886"
          ],
          [
           "0.967"
          ],
          [
           "1.048"
          ],
          [
           "1.128"
          ],
          [
           "1.209"
          ],
          [
           "1.289"
          ],
          [
           "1.370"
          ],
          [
           "1.450"
          ],
          [
           "1.531"
          ],
          [
           "1.612"
          ],
          [
           "1.692"
          ],
          [
           "-1.692"
          ],
          [
           "-1.612"
          ],
          [
           "-1.531"
          ],
          [
           "-1.450"
          ],
          [
           "-1.370"
          ],
          [
           "-1.289"
          ],
          [
           "-1.209"
          ],
          [
           "-1.128"
          ],
          [
           "-1.048"
          ],
          [
           "-0.967"
          ],
          [
           "-0.886"
          ],
          [
           "-0.806"
          ],
          [
           "-0.725"
          ],
          [
           "-0.645"
          ],
          [
           "-0.564"
          ],
          [
           "-0.483"
          ],
          [
           "-0.403"
          ],
          [
           "-0.322"
          ],
          [
           "-0.242"
          ],
          [
           "-0.161"
          ],
          [
           "-0.081"
          ],
          [
           "0.000"
          ],
          [
           "0.081"
          ],
          [
           "0.161"
          ],
          [
           "0.242"
          ],
          [
           "0.322"
          ],
          [
           "0.403"
          ],
          [
           "0.483"
          ],
          [
           "0.564"
          ],
          [
           "0.645"
          ],
          [
           "0.725"
          ],
          [
           "0.806"
          ],
          [
           "0.886"
          ],
          [
           "0.967"
          ],
          [
           "1.048"
          ],
          [
           "1.128"
          ],
          [
           "1.209"
          ],
          [
           "1.289"
          ],
          [
           "1.370"
          ],
          [
           "1.450"
          ],
          [
           "1.531"
          ],
          [
           "1.612"
          ],
          [
           "1.692"
          ],
          [
           "-1.692"
          ],
          [
           "-1.612"
          ],
          [
           "-1.531"
          ],
          [
           "-1.450"
          ],
          [
           "-1.370"
          ],
          [
           "-1.289"
          ],
          [
           "-1.209"
          ],
          [
           "-1.128"
          ],
          [
           "-1.048"
          ],
          [
           "-0.967"
          ],
          [
           "-0.886"
          ],
          [
           "-0.806"
          ],
          [
           "-0.725"
          ],
          [
           "-0.645"
          ],
          [
           "-0.564"
          ],
          [
           "-0.483"
          ],
          [
           "-0.403"
          ],
          [
           "-0.322"
          ],
          [
           "-0.242"
          ],
          [
           "-0.161"
          ],
          [
           "-0.081"
          ],
          [
           "0.000"
          ],
          [
           "0.081"
          ],
          [
           "0.161"
          ],
          [
           "0.242"
          ],
          [
           "0.322"
          ],
          [
           "0.403"
          ],
          [
           "0.483"
          ],
          [
           "0.564"
          ],
          [
           "0.645"
          ],
          [
           "0.725"
          ],
          [
           "0.806"
          ],
          [
           "0.886"
          ],
          [
           "0.967"
          ],
          [
           "1.048"
          ],
          [
           "1.128"
          ],
          [
           "1.209"
          ],
          [
           "1.289"
          ],
          [
           "1.370"
          ],
          [
           "1.450"
          ],
          [
           "1.531"
          ],
          [
           "1.612"
          ],
          [
           "1.692"
          ],
          [
           "-1.692"
          ],
          [
           "-1.612"
          ],
          [
           "-1.531"
          ],
          [
           "-1.450"
          ],
          [
           "-1.370"
          ],
          [
           "-1.289"
          ],
          [
           "-1.209"
          ],
          [
           "-1.128"
          ],
          [
           "-1.048"
          ],
          [
           "-0.967"
          ],
          [
           "-0.886"
          ],
          [
           "-0.806"
          ],
          [
           "-0.725"
          ],
          [
           "-0.645"
          ],
          [
           "-0.564"
          ],
          [
           "-0.483"
          ],
          [
           "-0.403"
          ],
          [
           "-0.322"
          ],
          [
           "-0.242"
          ],
          [
           "-0.161"
          ],
          [
           "-0.081"
          ],
          [
           "0.000"
          ],
          [
           "0.081"
          ],
          [
           "0.161"
          ],
          [
           "0.242"
          ],
          [
           "0.322"
          ],
          [
           "0.403"
          ],
          [
           "0.483"
          ],
          [
           "0.564"
          ],
          [
           "0.645"
          ],
          [
           "0.725"
          ],
          [
           "0.806"
          ],
          [
           "0.886"
          ],
          [
           "0.967"
          ],
          [
           "1.048"
          ],
          [
           "1.128"
          ],
          [
           "1.209"
          ],
          [
           "1.289"
          ],
          [
           "1.370"
          ],
          [
           "1.450"
          ],
          [
           "1.531"
          ],
          [
           "1.612"
          ],
          [
           "1.692"
          ],
          [
           "-1.692"
          ],
          [
           "-1.612"
          ],
          [
           "-1.531"
          ],
          [
           "-1.450"
          ],
          [
           "-1.370"
          ],
          [
           "-1.289"
          ],
          [
           "-1.209"
          ],
          [
           "-1.128"
          ],
          [
           "-1.048"
          ],
          [
           "-0.967"
          ],
          [
           "-0.886"
          ],
          [
           "-0.806"
          ],
          [
           "-0.725"
          ],
          [
           "-0.645"
          ],
          [
           "-0.564"
          ],
          [
           "-0.483"
          ],
          [
           "-0.403"
          ],
          [
           "-0.322"
          ],
          [
           "-0.242"
          ],
          [
           "-0.161"
          ],
          [
           "-0.081"
          ],
          [
           "0.000"
          ],
          [
           "0.081"
          ],
          [
           "0.161"
          ],
          [
           "0.242"
          ],
          [
           "0.322"
          ],
          [
           "0.403"
          ],
          [
           "0.483"
          ],
          [
           "0.564"
          ],
          [
           "0.645"
          ],
          [
           "0.725"
          ],
          [
           "0.806"
          ],
          [
           "0.886"
          ],
          [
           "0.967"
          ],
          [
           "1.048"
          ],
          [
           "1.128"
          ],
          [
           "1.209"
          ],
          [
           "1.289"
          ],
          [
           "1.370"
          ],
          [
           "1.450"
          ],
          [
           "1.531"
          ],
          [
           "1.612"
          ],
          [
           "1.692"
          ],
          [
           "-1.692"
          ],
          [
           "-1.612"
          ],
          [
           "-1.531"
          ],
          [
           "-1.450"
          ],
          [
           "-1.370"
          ],
          [
           "-1.289"
          ],
          [
           "-1.209"
          ],
          [
           "-1.128"
          ],
          [
           "-1.048"
          ],
          [
           "-0.967"
          ],
          [
           "-0.886"
          ],
          [
           "-0.806"
          ],
          [
           "-0.725"
          ],
          [
           "-0.645"
          ],
          [
           "-0.564"
          ],
          [
           "-0.483"
          ],
          [
           "-0.403"
          ],
          [
           "-0.322"
          ],
          [
           "-0.242"
          ],
          [
           "-0.161"
          ],
          [
           "-0.081"
          ],
          [
           "0.000"
          ],
          [
           "0.081"
          ],
          [
           "0.161"
          ],
          [
           "0.242"
          ],
          [
           "0.322"
          ],
          [
           "0.403"
          ],
          [
           "0.483"
          ],
          [
           "0.564"
          ],
          [
           "0.645"
          ],
          [
           "0.725"
          ],
          [
           "0.806"
          ],
          [
           "0.886"
          ],
          [
           "0.967"
          ],
          [
           "1.048"
          ],
          [
           "1.128"
          ],
          [
           "1.209"
          ],
          [
           "1.289"
          ],
          [
           "1.370"
          ],
          [
           "1.450"
          ],
          [
           "1.531"
          ],
          [
           "1.612"
          ],
          [
           "1.692"
          ],
          [
           "-1.692"
          ],
          [
           "-1.612"
          ],
          [
           "-1.531"
          ],
          [
           "-1.450"
          ],
          [
           "-1.370"
          ],
          [
           "-1.289"
          ],
          [
           "-1.209"
          ],
          [
           "-1.128"
          ],
          [
           "-1.048"
          ],
          [
           "-0.967"
          ],
          [
           "-0.886"
          ],
          [
           "-0.806"
          ],
          [
           "-0.725"
          ],
          [
           "-0.645"
          ],
          [
           "-0.564"
          ],
          [
           "-0.483"
          ],
          [
           "-0.403"
          ],
          [
           "-0.322"
          ],
          [
           "-0.242"
          ],
          [
           "-0.161"
          ],
          [
           "-0.081"
          ],
          [
           "0.000"
          ],
          [
           "0.081"
          ],
          [
           "0.161"
          ],
          [
           "0.242"
          ],
          [
           "0.322"
          ],
          [
           "0.403"
          ],
          [
           "0.483"
          ],
          [
           "0.564"
          ],
          [
           "0.645"
          ],
          [
           "0.725"
          ],
          [
           "0.806"
          ],
          [
           "0.886"
          ],
          [
           "0.967"
          ],
          [
           "1.048"
          ],
          [
           "1.128"
          ],
          [
           "1.209"
          ],
          [
           "1.289"
          ],
          [
           "1.370"
          ],
          [
           "1.450"
          ],
          [
           "1.531"
          ],
          [
           "1.612"
          ],
          [
           "1.692"
          ],
          [
           "-1.692"
          ],
          [
           "-1.612"
          ],
          [
           "-1.531"
          ],
          [
           "-1.450"
          ],
          [
           "-1.370"
          ],
          [
           "-1.289"
          ],
          [
           "-1.209"
          ],
          [
           "-1.128"
          ],
          [
           "-1.048"
          ],
          [
           "-0.967"
          ],
          [
           "-0.886"
          ],
          [
           "-0.806"
          ],
          [
           "-0.725"
          ],
          [
           "-0.645"
          ],
          [
           "-0.564"
          ],
          [
           "-0.483"
          ],
          [
           "-0.403"
          ],
          [
           "-0.322"
          ],
          [
           "-0.242"
          ],
          [
           "-0.161"
          ],
          [
           "-0.081"
          ],
          [
           "0.000"
          ],
          [
           "0.081"
          ],
          [
           "0.161"
          ],
          [
           "0.242"
          ],
          [
           "0.322"
          ],
          [
           "0.403"
          ],
          [
           "0.483"
          ],
          [
           "0.564"
          ],
          [
           "0.645"
          ],
          [
           "0.725"
          ],
          [
           "0.806"
          ],
          [
           "0.886"
          ],
          [
           "0.967"
          ],
          [
           "1.048"
          ],
          [
           "1.128"
          ],
          [
           "1.209"
          ],
          [
           "1.289"
          ],
          [
           "1.370"
          ],
          [
           "1.450"
          ],
          [
           "1.531"
          ],
          [
           "1.612"
          ],
          [
           "1.692"
          ],
          [
           "-1.692"
          ],
          [
           "-1.612"
          ],
          [
           "-1.531"
          ],
          [
           "-1.450"
          ],
          [
           "-1.370"
          ],
          [
           "-1.289"
          ],
          [
           "-1.209"
          ],
          [
           "-1.128"
          ],
          [
           "-1.048"
          ],
          [
           "-0.967"
          ],
          [
           "-0.886"
          ],
          [
           "-0.806"
          ],
          [
           "-0.725"
          ],
          [
           "-0.645"
          ],
          [
           "-0.564"
          ],
          [
           "-0.483"
          ],
          [
           "-0.403"
          ],
          [
           "-0.322"
          ],
          [
           "-0.242"
          ],
          [
           "-0.161"
          ],
          [
           "-0.081"
          ],
          [
           "0.000"
          ],
          [
           "0.081"
          ],
          [
           "0.161"
          ],
          [
           "0.242"
          ],
          [
           "0.322"
          ],
          [
           "0.403"
          ],
          [
           "0.483"
          ],
          [
           "0.564"
          ],
          [
           "0.645"
          ],
          [
           "0.725"
          ],
          [
           "0.806"
          ],
          [
           "0.886"
          ],
          [
           "0.967"
          ],
          [
           "1.048"
          ],
          [
           "1.128"
          ],
          [
           "1.209"
          ],
          [
           "1.289"
          ],
          [
           "1.370"
          ],
          [
           "1.450"
          ],
          [
           "1.531"
          ],
          [
           "1.612"
          ],
          [
           "1.692"
          ],
          [
           "-1.692"
          ],
          [
           "-1.612"
          ],
          [
           "-1.531"
          ],
          [
           "-1.450"
          ],
          [
           "-1.370"
          ],
          [
           "-1.289"
          ],
          [
           "-1.209"
          ],
          [
           "-1.128"
          ],
          [
           "-1.048"
          ],
          [
           "-0.967"
          ],
          [
           "-0.886"
          ],
          [
           "-0.806"
          ],
          [
           "-0.725"
          ],
          [
           "-0.645"
          ],
          [
           "-0.564"
          ],
          [
           "-0.483"
          ],
          [
           "-0.403"
          ],
          [
           "-0.322"
          ],
          [
           "-0.242"
          ],
          [
           "-0.161"
          ],
          [
           "-0.081"
          ],
          [
           "0.000"
          ],
          [
           "0.081"
          ],
          [
           "0.161"
          ],
          [
           "0.242"
          ],
          [
           "0.322"
          ],
          [
           "0.403"
          ],
          [
           "0.483"
          ],
          [
           "0.564"
          ],
          [
           "0.645"
          ],
          [
           "0.725"
          ],
          [
           "0.806"
          ],
          [
           "0.886"
          ],
          [
           "0.967"
          ],
          [
           "1.048"
          ],
          [
           "1.128"
          ],
          [
           "1.209"
          ],
          [
           "1.289"
          ],
          [
           "1.370"
          ],
          [
           "1.450"
          ],
          [
           "1.531"
          ],
          [
           "1.612"
          ],
          [
           "1.692"
          ],
          [
           "-1.692"
          ],
          [
           "-1.612"
          ],
          [
           "-1.531"
          ],
          [
           "-1.450"
          ],
          [
           "-1.370"
          ],
          [
           "-1.289"
          ],
          [
           "-1.209"
          ],
          [
           "-1.128"
          ],
          [
           "-1.048"
          ],
          [
           "-0.967"
          ],
          [
           "-0.886"
          ]
         ],
         "hovertemplate": "Principal Component 1=%{x}<br>Principal Component 2=%{y}<br>Country=%{customdata[0]}<br>Cluster Number=%{marker.color}<extra></extra>",
         "legendgroup": "",
         "marker": {
          "color": [
           0,
           3,
           0,
           0,
           4,
           2,
           3,
           4,
           0,
           0,
           3,
           4,
           0,
           4,
           0,
           4,
           3,
           3,
           4,
           4,
           4,
           4,
           4,
           3,
           4,
           4,
           4,
           4,
           4,
           4,
           4,
           0,
           0,
           3,
           5,
           3,
           2,
           2,
           3,
           2,
           3,
           6,
           2,
           0,
           3,
           0,
           5,
           4,
           2,
           0,
           0,
           0,
           0,
           3,
           4,
           0,
           4,
           0,
           4,
           3,
           3,
           4,
           4,
           4,
           4,
           4,
           3,
           4,
           4,
           4,
           4,
           4,
           4,
           4,
           0,
           0,
           3,
           1,
           3,
           6,
           2,
           3,
           2,
           3,
           6,
           6,
           0,
           3,
           0,
           0,
           4,
           2,
           0,
           0,
           0,
           0,
           3,
           4,
           0,
           4,
           0,
           4,
           3,
           3,
           4,
           4,
           4,
           0,
           4,
           5,
           4,
           4,
           4,
           4,
           4,
           4,
           4,
           3,
           0,
           3,
           1,
           3,
           6,
           2,
           0,
           2,
           3,
           6,
           6,
           0,
           3,
           0,
           5,
           4,
           2,
           0,
           0,
           0,
           0,
           3,
           4,
           0,
           4,
           0,
           4,
           3,
           3,
           4,
           4,
           4,
           0,
           4,
           5,
           4,
           4,
           4,
           4,
           4,
           4,
           4,
           0,
           0,
           3,
           1,
           3,
           6,
           2,
           0,
           2,
           3,
           6,
           6,
           0,
           3,
           0,
           5,
           4,
           2,
           0,
           0,
           0,
           0,
           3,
           4,
           0,
           4,
           0,
           4,
           3,
           3,
           4,
           4,
           4,
           0,
           4,
           5,
           4,
           4,
           4,
           4,
           4,
           4,
           4,
           0,
           0,
           3,
           1,
           3,
           6,
           2,
           0,
           2,
           3,
           6,
           6,
           0,
           3,
           0,
           5,
           4,
           2,
           0,
           0,
           0,
           0,
           3,
           4,
           0,
           4,
           0,
           4,
           3,
           3,
           4,
           4,
           4,
           0,
           4,
           5,
           4,
           4,
           4,
           0,
           4,
           4,
           4,
           0,
           0,
           3,
           1,
           5,
           6,
           2,
           0,
           2,
           3,
           6,
           6,
           0,
           3,
           0,
           5,
           4,
           2,
           0,
           0,
           0,
           0,
           3,
           4,
           0,
           4,
           0,
           4,
           3,
           3,
           4,
           4,
           4,
           3,
           4,
           5,
           4,
           4,
           4,
           4,
           4,
           4,
           4,
           0,
           0,
           0,
           1,
           5,
           6,
           2,
           0,
           2,
           3,
           6,
           6,
           0,
           3,
           0,
           5,
           4,
           2,
           0,
           0,
           0,
           0,
           3,
           4,
           0,
           4,
           0,
           4,
           3,
           3,
           4,
           4,
           4,
           3,
           4,
           5,
           4,
           4,
           4,
           4,
           4,
           4,
           4,
           0,
           0,
           0,
           1,
           5,
           6,
           2,
           0,
           2,
           3,
           6,
           6,
           0,
           3,
           0,
           5,
           4,
           2,
           0,
           0,
           2,
           0,
           3,
           4,
           0,
           4,
           0,
           4,
           3,
           3,
           4,
           4,
           4,
           3,
           4,
           5,
           4,
           4,
           4,
           4,
           3,
           4,
           4,
           0,
           0,
           0,
           1,
           5,
           6,
           2,
           0,
           2,
           3,
           6,
           6,
           0,
           3,
           0,
           5,
           4,
           2,
           0,
           0,
           0,
           0,
           3,
           4,
           0,
           4,
           0,
           4,
           3,
           3,
           4,
           4,
           4,
           0,
           4,
           5,
           4,
           4,
           4,
           3,
           4,
           4,
           4,
           0,
           0,
           0,
           1,
           5,
           6,
           2,
           0,
           2,
           3,
           6,
           6,
           0,
           3,
           0,
           5,
           4,
           2,
           0,
           0,
           0,
           0,
           3,
           4,
           0,
           4,
           0,
           4,
           3,
           3,
           4,
           4,
           4,
           0,
           4,
           5,
           4,
           4,
           4,
           3,
           3,
           4,
           4,
           0,
           0,
           0,
           1,
           5,
           6,
           2,
           0,
           2,
           5,
           6,
           6,
           0,
           3,
           0,
           5,
           4,
           2,
           0,
           0,
           0,
           0,
           3,
           4,
           0,
           4,
           0,
           4,
           3,
           3,
           4,
           4,
           4,
           0,
           4,
           5,
           4,
           4,
           4,
           3,
           3,
           4,
           4,
           0,
           0,
           0,
           1,
           5,
           6,
           2,
           0,
           2,
           5,
           6,
           6
          ],
          "coloraxis": "coloraxis",
          "symbol": "circle"
         },
         "mode": "markers",
         "name": "",
         "orientation": "v",
         "showlegend": false,
         "type": "scatter",
         "x": [
          -0.0076926170285675066,
          -0.5879924795767708,
          0.4835233173127524,
          0.3791461395184513,
          -0.7492023721628268,
          0.2507722621405069,
          0.06606534887620316,
          -0.6891150718825513,
          -0.45550660276439164,
          -0.3832268054962351,
          -0.6118308419936769,
          -0.8347886319964927,
          -0.31895636878929484,
          -0.7283829841641616,
          -0.5047650430855767,
          -0.9350355304263639,
          -0.8299784450925332,
          -0.7257085438982014,
          -1.1524517362855964,
          -0.9976282710096972,
          -0.9412403854468357,
          -0.7222989046623268,
          -0.870629689205541,
          0.15109045065676777,
          -1.2928542090220667,
          -1.0470655512754534,
          -1.5333984375935286,
          -0.7016884553298776,
          -1.1597723045049622,
          -1.4307556865702415,
          -0.7697488856178584,
          -0.4266476745794059,
          0.15445107282748097,
          -0.2828781193959927,
          3.2156513933334523,
          0.13216419386495717,
          1.504740850572765,
          0.5821793413177861,
          -0.17712888508688193,
          0.5216811976925578,
          0.1945706970511894,
          2.7551414019414397,
          1.31975499115808,
          -0.19201472536370415,
          -0.5373713787610996,
          0.3971348540519942,
          0.7992184608660573,
          -0.7717031148967297,
          0.12631851780020498,
          0.12827997464978363,
          -0.5229600731162112,
          -0.4159245036814234,
          -0.2528986093340954,
          -0.638165169886575,
          -0.8338539510266457,
          -0.36265130120359956,
          -0.852371519583983,
          -0.5677849252930028,
          -0.883642166267519,
          -0.766360608729539,
          -0.7019778009172035,
          -1.0524534128064191,
          -1.0080094985698256,
          -0.982535531615233,
          -0.5254356933370576,
          -0.9703071698598874,
          0.03656114579759073,
          -1.2583567767555404,
          -1.0995961946763373,
          -1.4318132663412757,
          -0.7259874355216855,
          -1.1179508602463477,
          -1.401674150598209,
          -0.8517863415158756,
          -0.17171269095907693,
          0.23510216081006854,
          -0.24254447951109886,
          4.803267818466,
          0.06539953270527286,
          1.9694453694381695,
          0.602099746135228,
          -0.08997855687837222,
          0.9188473882921404,
          -0.13429199164004407,
          2.444803213275617,
          1.9609586867923636,
          -0.24086339539695242,
          -0.5356592574194561,
          0.31792085940134646,
          0.5361882104302642,
          -0.8011579323417107,
          0.020273283426255506,
          0.023033662726933836,
          -0.5300343054784667,
          -0.4068570280407692,
          -0.27312751141557734,
          -0.517505202450567,
          -0.805012494885185,
          -0.3120534183974569,
          -0.7914981313586136,
          -0.6051677410167794,
          -0.9137013645583082,
          -0.6911925463723612,
          -0.5112301952430801,
          -0.9974235682419266,
          -0.9865374512136544,
          -0.9839513249488542,
          -0.4839267453824383,
          -1.1285268009236078,
          0.733240899377763,
          -1.1699720761968666,
          -1.1812468725625516,
          -1.3729964770727998,
          -0.701464597831434,
          -0.7833392493839,
          -1.394494586148053,
          -0.7846172083935097,
          -0.37294188339280826,
          0.3807183596986834,
          -0.3177318613369916,
          5.6704569187330565,
          0.10352518024019927,
          2.012570558162675,
          0.7654247869275236,
          0.326666670204412,
          0.9682873678180168,
          -0.2031306156339546,
          2.545479562764596,
          1.869271616141369,
          -0.2530553084463004,
          -0.5233729454957835,
          0.3199581026143142,
          0.8070161838065815,
          -0.8023612219552496,
          0.023673671442377118,
          0.03414829850129367,
          -0.5282658760629485,
          -0.411613023395592,
          -0.279233098564453,
          -0.4755897934340312,
          -0.7919017371820307,
          -0.27222622018696235,
          -0.8048391545757173,
          -0.6119377363246357,
          -0.9027408557135072,
          -0.7352832604121187,
          -0.4441873303734671,
          -1.0070395472202915,
          -0.9827506011111533,
          -0.934168262136754,
          -0.44520369555000977,
          -1.1377954227176403,
          0.6024834319345733,
          -1.1507111759184492,
          -1.1616592098785647,
          -1.3726589933000384,
          -0.5455288849844744,
          -0.7973194393825045,
          -1.376881347790538,
          -0.6694075857942581,
          -0.16556760109335678,
          0.3590689722211051,
          -0.3200424737294585,
          6.208729032317671,
          0.2924557557975197,
          1.9816479265753255,
          0.8318318895321646,
          0.3875398281525745,
          0.9225947406957146,
          -0.21809227596823533,
          2.647200042234578,
          1.997374781271322,
          -0.3142116035793548,
          -0.5477057220882745,
          0.32422223279286305,
          0.7610686877367492,
          -0.8024806982775209,
          0.032262397183327136,
          0.014064624644630843,
          -0.5139748404774594,
          -0.4079775187616147,
          -0.25898752806231995,
          -0.4703194934204846,
          -0.7940736884086338,
          -0.256306614280719,
          -0.6938371473998906,
          -0.6114800063231778,
          -0.91885981853907,
          -0.7208778036869407,
          -0.4543262193271606,
          -0.9949534995498572,
          -0.9837672841330267,
          -0.9426620533532138,
          -0.42759230680668253,
          -1.2122782334188185,
          0.5351900728065458,
          -1.1382900464997496,
          -1.1582984218015033,
          -1.3000488865520412,
          -0.5437667518897746,
          -0.7765449712786142,
          -1.3666724767008547,
          -0.6629972589296791,
          -0.2650136451789535,
          0.2982005008942712,
          -0.32006748871627255,
          6.647723484631949,
          0.31772720914772123,
          2.060204338522763,
          0.7887916795828416,
          0.36798185504184805,
          0.9466165981592372,
          -0.23528872201615939,
          2.645704302587083,
          2.0057354762940007,
          -0.3008540476709816,
          -0.5508253603071628,
          0.35690873520453,
          0.9699824276476471,
          -0.8043583035394901,
          0.025648648566833594,
          0.07153279888636627,
          -0.523013975241339,
          -0.40812136426278645,
          -0.26278226379371006,
          -0.4660714700246362,
          -0.8022133111027894,
          -0.24702897654189418,
          -0.7098771048813658,
          -0.6105608434811826,
          -0.9078349686079465,
          -0.652223378377409,
          -0.5083534770198338,
          -0.9913596579498402,
          -0.9800851171647474,
          -0.9502496914414655,
          -0.43542064382560386,
          -1.2284350245511355,
          0.7989621670977989,
          -1.1129697093875015,
          -1.1578441623614675,
          -1.299908349605814,
          -0.5169139381916563,
          -0.749711922097595,
          -1.3478887693081214,
          -0.61846314886929,
          -0.2336464787468124,
          0.32317898249581906,
          -0.3235516276759663,
          7.005237110711693,
          0.6446988479798536,
          2.275257530050131,
          0.7770902594692745,
          0.31439539847884945,
          1.0016847617513962,
          -0.20354358783168586,
          2.3790416505292526,
          2.099626817709444,
          -0.2789457413973013,
          -0.5370604519454644,
          0.40525224563895235,
          1.4854716405263395,
          -0.7995795049022042,
          0.023892649927596602,
          0.07769887664917476,
          -0.5257456029860633,
          -0.4084341916716944,
          -0.28792598727228347,
          -0.42155212778534673,
          -0.7956099199448396,
          -0.306936063140769,
          -0.6999713933422963,
          -0.6168826850933712,
          -0.9015681168326546,
          -0.6271511720654883,
          -0.5347132626899551,
          -1.0115480249123718,
          -0.965404864649324,
          -0.9341885392169829,
          -0.4187355817336493,
          -1.2160878576134901,
          0.9889077127624769,
          -1.0796143013949762,
          -1.142257842320702,
          -1.296084397876998,
          -0.5595328242257883,
          -0.6855494268348311,
          -1.3261772920842876,
          -0.5910331600797742,
          -0.2291928970177443,
          0.3576825537951034,
          -0.12411572404735446,
          7.458593083480697,
          0.8558744359372255,
          2.374642979193867,
          0.8133985724296765,
          0.34537431012412645,
          0.9794337283734755,
          0.026854343838146395,
          2.3387443054694614,
          2.355143175258081,
          -0.23774676255604296,
          -0.5281380002323075,
          0.5569083151105743,
          1.3273169146255286,
          -0.7979564715282588,
          0.02130604538400577,
          0.18540408039296888,
          -0.5286601151840623,
          -0.3005393858156641,
          -0.2670905851620726,
          -0.421394548381037,
          -0.7881349712763465,
          -0.29843934370860736,
          -0.698893585190338,
          -0.6188611243595006,
          -0.8918935768537017,
          -0.557532607411596,
          -0.5421444761223323,
          -1.021826498830052,
          -0.8757070979958421,
          -0.9262405724981982,
          -0.37601454154167613,
          -1.190906914595488,
          1.206890016981866,
          -1.0727295159486128,
          -1.1273827906816873,
          -1.2957115150796823,
          -0.48965721121933836,
          -0.6004872142685127,
          -1.3019932900520124,
          -0.6730544697140315,
          -0.2726011981379327,
          0.27762518456156887,
          -0.11134018088329699,
          7.425582502829259,
          0.734093408535763,
          2.2593350546669773,
          0.8025779119217235,
          0.27306786415527223,
          0.9378846637130465,
          0.233224274228471,
          2.2627195949827468,
          2.2651970750646258,
          -0.24621242662602771,
          -0.517043687707793,
          0.6580760857569395,
          1.4019238447509963,
          -0.7968545076483227,
          0.017691236508557202,
          0.2622715573782002,
          -0.536404239002528,
          -0.23720276782221814,
          -0.2446114081707635,
          -0.3901440266236191,
          -0.7681859741786095,
          -0.3438802021904255,
          -0.7013248588650743,
          -0.6251343538495782,
          -0.8865954979826884,
          -0.5575332483988036,
          -0.49178212800863513,
          -1.0186230333517081,
          -0.8710881820275997,
          -0.9826333242086629,
          -0.2702087748183057,
          -1.1678706038708087,
          1.7114381429420884,
          -1.0159276585898243,
          -1.1437811126170792,
          -1.2937059990942805,
          -0.42352594613075734,
          -0.4662593933781749,
          -1.2660954727592806,
          -0.5801726755968996,
          -0.2983815991292072,
          0.3617004296234155,
          -0.11161244884777341,
          8.195748037712072,
          0.8593025091894546,
          2.3784836660095077,
          0.8016490154620459,
          0.2506524093325964,
          0.995700273589924,
          0.31654248950682634,
          2.3190375217943813,
          2.3729847881589055,
          -0.2440329537130676,
          -0.5011318074706819,
          0.6604430361177026,
          1.5736708962544388,
          -0.8077955399608683,
          0.020349776551948393,
          0.26852357437855,
          -0.4637599579296412,
          -0.276540675266164,
          -0.2372448660671399,
          -0.4236639816171444,
          -0.7628986420486316,
          -0.3730653369100319,
          -0.6846289289975677,
          -0.6313609075988555,
          -0.8813164203699904,
          -0.5362795724014695,
          -0.4398107905208828,
          -1.0137658921650403,
          -0.866685504931555,
          -0.963860021370426,
          -0.026552605653418236,
          -1.1749393144478573,
          1.6804154790607917,
          -0.9935139808671016,
          -1.1264855773144473,
          -1.29078194725323,
          -0.3509114013435111,
          -0.5375039227465704,
          -1.2305963674566391,
          -0.5460667284606419,
          -0.20062636633874825,
          0.3745514894636176,
          -0.11558854752233108,
          8.228344318939369,
          1.1422061933029481,
          2.514312630437057,
          1.012849539293944,
          0.33468786715751675,
          1.0393696392449774,
          0.28507920149463667,
          2.2917012423679446,
          2.5839149272804276,
          -0.6031559036557848,
          -0.5311981019705565,
          0.6514448201232141,
          1.5162073397559033,
          -0.8042173878242408,
          0.020807062960938826,
          0.2526140712770515,
          -0.4635446985212163,
          -0.27404007401018227,
          -0.24312591443891848,
          -0.43744346467671086,
          -0.7643873163214113,
          -0.3273175905842422,
          -0.6931988172936736,
          -0.6371131386259347,
          -0.8751777692343472,
          -0.5009466759585731,
          -0.43322917353637785,
          -1.013490559089822,
          -0.8694372142119329,
          -0.9362419229186647,
          -0.028207008359988767,
          -1.173400120646502,
          1.6243942250953383,
          -0.960521323540334,
          -1.1195080256153032,
          -1.2902364670485384,
          -0.3404654903626372,
          -0.4212380881912443,
          -1.1617510386380858,
          -0.613729096746354,
          -0.3016633789716214,
          0.43451581621393165,
          -0.25808419736760063,
          8.100050753522682,
          1.1227968552016014,
          2.632049007974328,
          1.0106282716745099,
          0.41795487453031255,
          1.051366393504021,
          0.38973496178238176,
          2.2354957132935773,
          2.7166172744631756,
          -0.6022567560310284,
          -0.5393933293598684,
          0.6408461543060172,
          1.602846443538066,
          -0.7991349394296057,
          0.018812762623584254,
          0.2556958255246755,
          -0.4552337832026,
          -0.28100502095643454,
          -0.24298346717161987,
          -0.4639601451387374,
          -0.7679547919155189,
          -0.2947713700664677,
          -0.7009194175246188,
          -0.6363719027150707,
          -0.8843913470358715,
          -0.5395189112461666,
          -0.4067693170523853,
          -1.012206808493284,
          -0.8626984223275074,
          -0.9449798615507584,
          -0.009324619018366726,
          -1.153713860638351,
          1.841123981280556,
          -0.947272342810091,
          -1.1353942140954147,
          -1.2863602591222218,
          -0.3628643200812743,
          -0.4334712159569132,
          -1.114040802124371,
          -0.5689587266126266,
          -0.38503969124476395,
          0.4212860595026916,
          -0.24663796752392012,
          8.193483308041552,
          1.1369624002268395,
          2.5784133230623256,
          1.094280067947712,
          0.6814684535216967,
          1.0420126824237985,
          0.42874504181276857,
          2.2079333597621513,
          2.8254336155779303
         ],
         "xaxis": "x",
         "y": [
          -0.26943735129682844,
          0.6128617709513402,
          -0.2867893679110059,
          -0.1842973990177477,
          0.6453735281028645,
          -2.183388816843312,
          0.6431638544893536,
          0.16209515496934865,
          -0.7788793273019166,
          0.1713281994703365,
          0.7226675419502668,
          0.4786294679606315,
          -0.29887191339944985,
          0.18549272407294576,
          -0.9153423663743615,
          0.6685829361996259,
          1.1503974514019821,
          1.0459384089281898,
          0.5935216567185527,
          0.0936470716532608,
          0.40177918985896927,
          0.3991080102143349,
          0.4030979562522761,
          0.9158409646476146,
          0.7375857724830182,
          0.15415770834125533,
          1.0009778494093549,
          0.2584935376122796,
          0.1427549973810735,
          0.714647059658099,
          -0.06480643422735752,
          -0.056138688152962406,
          -0.20302278443652644,
          0.402036501973048,
          2.395511868005289,
          0.4760808972195695,
          -1.7218430014564219,
          -2.0359814729233214,
          0.5990853454569891,
          -1.4627341149397035,
          0.8580022702416148,
          -2.7454846929536747,
          -1.324886302414659,
          -0.2539380500876714,
          0.6447832266793725,
          -0.2629867642647812,
          -0.1899434627710797,
          0.6387239045076344,
          -1.9298153047999431,
          0.0978513013224719,
          -0.3025587056573165,
          -0.9163315823987026,
          -0.20962460434132113,
          0.7462934294168565,
          0.5119191654329897,
          -0.24686580818343798,
          0.40592451049182343,
          -0.783142706157753,
          0.4990533471060233,
          1.2085582933791892,
          0.8069693778823639,
          0.3663378582896149,
          0.1903376843152427,
          0.42718500696511885,
          0.28826738949621517,
          0.44222599547003305,
          0.6522214712663967,
          0.7888199298136263,
          0.25337435476706405,
          0.74688591204684,
          0.20954182060409404,
          0.38817507602053786,
          0.7569933417965138,
          0.20007735480933678,
          -0.15887010293242848,
          -0.020432645161172443,
          0.4248326204052738,
          3.4496669052982885,
          0.4468347870517903,
          -3.439054477365432,
          -1.8495783269890844,
          0.6368014999586894,
          -2.669688838086456,
          0.784389731240346,
          -2.910650118565741,
          -1.4778879438101251,
          -0.3476971136320854,
          0.6507522784027606,
          -0.4204073081440983,
          -0.33265016041652434,
          0.6243618461602337,
          -1.7048342034561332,
          0.2986849022976628,
          -0.28477092613944915,
          -0.8920656043010681,
          -0.18369151157437322,
          0.9612243431751437,
          0.5438810438645003,
          -0.11765890365116137,
          0.24949394140962708,
          -0.6958662469179812,
          0.5440245019685557,
          1.3425911200895158,
          1.7275523221301536,
          0.18481554245391116,
          0.20079705723397953,
          0.44652467023639547,
          0.15001992671070702,
          0.3931073210910301,
          0.37242396093101293,
          0.8518445632276057,
          0.5850949117168274,
          0.5594000971785013,
          0.29717277539472314,
          0.1820013975903151,
          0.761040679595785,
          0.5409866832519054,
          0.30089035928931107,
          -0.3814215320136835,
          0.40604137064014423,
          3.6396245197958974,
          0.4675592770474952,
          -3.78631339035895,
          -2.2844109876791023,
          -0.052316127566694216,
          -2.6425527038240837,
          0.7583985724890098,
          -2.862906651656632,
          -1.5302668539927375,
          -0.3787094852606917,
          0.6452269278557881,
          -0.4166219276536972,
          -0.1804341690416769,
          0.6245425774349487,
          -1.7034095892009324,
          0.31425735955794454,
          -0.2854598641605245,
          -0.9017144350611884,
          -0.18055359200753374,
          0.8857954347529174,
          0.5538345589759418,
          -0.10074034845123879,
          0.3079363121376019,
          -0.6775828628333763,
          0.543650179131135,
          1.3578037669727643,
          1.8987484682814046,
          0.20871296746658194,
          0.18950634548672196,
          0.46868508418052574,
          0.10059487070202965,
          0.39403029285879115,
          0.29443677438421917,
          0.8545135449975142,
          0.5820002916018244,
          0.5595611541277165,
          0.1868152292343781,
          0.12064222350502604,
          0.764414923832466,
          0.35342303978938666,
          0.1243592194440198,
          -0.3905782425236685,
          0.40232371048159166,
          3.8728835970882116,
          0.5542493797872252,
          -3.646740279524245,
          -2.496470093500423,
          -0.024641477872853135,
          -2.5579123568232656,
          0.7591559976653296,
          -2.813265985099305,
          -1.4768481077047926,
          -0.35029351614875764,
          0.6400410147386563,
          -0.44228455958959967,
          -0.19942384162354862,
          0.6244631815081768,
          -1.6997907831285526,
          0.27273857765656584,
          -0.2987770471752921,
          -0.8989201294483733,
          -0.15947331828718486,
          0.8681267376319595,
          0.551824140614148,
          -0.09320821593506422,
          0.07643515959827644,
          -0.6886437394163855,
          0.5373493742785281,
          1.3792265047241645,
          2.322307677035295,
          0.20591333423061184,
          0.19050356130322996,
          0.47987051308196377,
          0.1294520643657744,
          0.63144918525984,
          0.2513350240629241,
          0.8723678651776642,
          0.5883101783367356,
          0.35314470553206945,
          0.22669323432101632,
          0.12505329413614755,
          0.7719122322714663,
          0.10842745354908159,
          -0.046282984373719825,
          -0.41244226583550336,
          0.4030934582722383,
          4.144684405467476,
          0.5715904542712571,
          -3.6088186451129776,
          -2.4366841991489827,
          -0.03871685946067644,
          -2.546050880639673,
          0.7505970889507045,
          -2.8151925221230947,
          -1.8101138005551864,
          -0.354023523127153,
          0.6434755217070424,
          -0.4131915944310486,
          -0.1053765669676025,
          0.6222260681472507,
          -1.702579338041442,
          0.29346808749447045,
          -0.2842046598447602,
          -0.8684887031813413,
          -0.1964908745991791,
          0.8450742606369038,
          0.5497906742970243,
          -0.11396002866322968,
          0.08695691074638653,
          -0.6654610096421218,
          0.5578911708531383,
          1.409548176179955,
          1.9203810173137927,
          0.20742746051857797,
          0.20213653861218622,
          0.476442340613276,
          0.10406009353362064,
          0.6194556495024908,
          0.379765901468518,
          0.8875218281048444,
          0.5849467655249289,
          0.3532135078113453,
          0.03979430113956924,
          0.3656917854073798,
          0.7812477106220637,
          0.10232513140245166,
          -0.018783234531550935,
          -0.40402238031190896,
          0.4034948782409407,
          4.371089486822744,
          0.7316056007105175,
          -3.488517851363444,
          -2.4395109941031827,
          -0.05578473708697284,
          -2.5238793878755588,
          0.7574141822732107,
          -2.9379692510946596,
          -1.7669328170867524,
          -0.34520460986033746,
          0.6413366580473622,
          -0.3960817694082347,
          -0.06834774214577952,
          0.6271528232829477,
          -1.7033207088619118,
          0.2936259171576816,
          -0.2857988806803201,
          -0.9003706369833283,
          -0.14752655448732352,
          0.8394057276117446,
          0.5486046778060972,
          -0.1385905944844728,
          0.09045109715166008,
          -0.6705256561464827,
          0.5537167966850397,
          1.388488421295281,
          2.135393473865949,
          0.23046644044096332,
          0.20831198633164724,
          0.49332019192016485,
          0.33279938992052105,
          0.6252176345392048,
          0.47129620795427646,
          0.911442380054923,
          0.5893162354136817,
          0.3483621491577628,
          0.23339205525447146,
          0.3716577213407289,
          0.8213815828178506,
          0.13745234810658935,
          0.017593508749967148,
          -0.38946212553791826,
          -0.05832684918868779,
          4.595411853697286,
          0.8211090147084209,
          -3.452738709621848,
          -2.423489550751183,
          -0.043882455135465376,
          -2.5322370928143862,
          0.4552763191004485,
          -2.957251306945153,
          -1.6396951198636844,
          -0.328265400983214,
          0.6468600707473376,
          -0.3507722597872043,
          -0.6465983944159777,
          0.6266056720937073,
          -1.7044260025214315,
          0.13867003762014493,
          -0.2870363956366025,
          -1.2570404272602969,
          -0.1613245441637958,
          0.8060842405855312,
          0.5494680453461791,
          -0.1356437435234182,
          0.09475723397892512,
          -0.6586926026852512,
          0.5586946190173617,
          1.4549781139982398,
          1.9627060040221376,
          0.2458569491777495,
          -0.007020436170129248,
          0.5323927856662314,
          0.3444640700408246,
          0.6354714027888476,
          0.5652218595341879,
          0.9012170793996361,
          0.5991114548712931,
          0.34568790396126237,
          0.27738697510413196,
          0.411596755306394,
          0.8400521069192682,
          0.06531802205631393,
          -0.06704780943501816,
          -0.3565286475669305,
          -0.045878535488626644,
          4.65442629947111,
          0.7749074651507404,
          -3.512822050957805,
          -2.425643810407663,
          -0.07857890057634398,
          -2.544387341480724,
          0.5144277286808909,
          -3.1833467024539477,
          -1.658771238973965,
          -0.32287133539107704,
          0.6522372241142343,
          -0.31454335554249346,
          -0.5717157034548705,
          0.6314299000960054,
          -1.7059006856059642,
          0.18251550273853095,
          -0.2902885271942529,
          -1.4243125902338354,
          -0.1785214175820718,
          0.8171767650423614,
          0.5566849732572251,
          -0.15426162724137418,
          0.08704517274963232,
          -0.6519493988386382,
          0.5515621925996449,
          1.4406955669297044,
          1.9245432476129882,
          0.24577663033868288,
          0.005704790960178592,
          0.5606790246306119,
          0.38784138302807203,
          0.6513420700659992,
          1.1106287414646163,
          0.9271085591435004,
          0.6021124399651092,
          0.34796482476456475,
          0.28912583688645505,
          0.45324469051536975,
          0.8533597557344349,
          0.11213697837952193,
          -0.024547385526951262,
          -0.3176597760491008,
          -0.050486055884878867,
          5.079482687968424,
          0.8214721995658275,
          -3.4403397380568816,
          -2.425807712009772,
          -0.08586715760576695,
          -2.7536404024935313,
          0.5671486413451897,
          -3.1560304065339744,
          -1.6136629839629713,
          -0.3214994768386654,
          0.6610677863254294,
          -0.2982850860953387,
          -0.44462879051454984,
          0.6286810759798758,
          -1.7047983935089757,
          0.1903747056877191,
          -0.49775759790731744,
          -1.2415812234149564,
          -0.14247733877745913,
          0.8358719565079745,
          0.5584920866557002,
          -0.18897892108313888,
          0.09690408947446237,
          -0.6355433536645714,
          0.5659076769817295,
          1.380232376335658,
          1.5268323355203104,
          0.2413719840698187,
          0.007546286689956614,
          0.5834848962664961,
          0.2727087899204002,
          0.6502098093666119,
          1.1142295739888992,
          0.9436336723649027,
          0.617578245312909,
          0.3398817888552403,
          0.32572029341319353,
          0.4177686146455213,
          0.8747518953268708,
          0.29906413611969507,
          -0.05167442070302277,
          -0.3172226608557127,
          -0.03939808706340438,
          5.146893672618,
          0.9568129081097644,
          -3.3626053079530043,
          -3.0160827882955754,
          -0.0514058781126859,
          -2.73689214315552,
          0.5835455918128902,
          -3.165487130951155,
          -1.5200763530167216,
          -0.27229387692816825,
          0.6548093991248524,
          -0.3129258904059419,
          -0.38767252812952097,
          0.6325132842940197,
          -1.70461594715102,
          0.18255358510269645,
          -0.4969468220559475,
          -1.2374207444423648,
          -0.12138198148600958,
          0.8173989517803979,
          0.5703688478927214,
          -0.17011944954162941,
          0.09505636404063963,
          -0.6461016400594829,
          0.5598740573166399,
          1.4067906429635955,
          1.0322504358475342,
          0.241485214368324,
          0.0063906465421337075,
          0.5723126961170766,
          0.24619443389414528,
          0.6444784771533141,
          1.0667491323176452,
          0.9602923538962892,
          0.6067624385119584,
          0.3401376819517866,
          0.3088016884260656,
          0.48626547590240937,
          0.9050351619830965,
          0.26803405968865596,
          -0.018102689106391585,
          -0.22246044346647695,
          -0.022081468776734055,
          5.053154821160689,
          0.9443055346519885,
          -3.3037096162698734,
          -3.020035996351437,
          -0.015202711930939266,
          -2.7244117790303757,
          0.6159705656213781,
          -3.1864158497374926,
          -1.4405935433369892,
          -0.2652493769110387,
          0.6392750138695262,
          -0.2971914925081519,
          -0.31490581977392046,
          0.639104380371062,
          -1.7047508477503412,
          0.19007448543841327,
          -0.4948689314213991,
          -1.2482025717501324,
          -0.20031794703051609,
          0.7893847222083084,
          0.5615146363821337,
          -0.15384844873398468,
          0.09033804198531623,
          -0.6352642844388194,
          0.5560382253738272,
          1.3370958265373403,
          0.9818993604454218,
          0.23557182646596336,
          0.009230738431825565,
          0.5589179163529339,
          0.25855065558678286,
          0.664164480642253,
          1.1377609475112116,
          0.96355374914795,
          0.6180193461525357,
          0.3345884957016866,
          0.30426365384061066,
          0.4702642354282839,
          0.932006878421099,
          0.2899970897063259,
          -0.22683012997512284,
          -0.2389727554051426,
          -0.02329862207940523,
          5.257985681246013,
          0.9525720589423758,
          -3.335459189087945,
          -2.9750953192177585,
          -0.5371404431370381,
          -2.7200596292700183,
          0.6231066493660307,
          -3.3906457766825056,
          -1.3667191218024395
         ],
         "yaxis": "y"
        }
       ],
       "layout": {
        "coloraxis": {
         "colorbar": {
          "title": {
           "text": "Cluster Number"
          }
         },
         "colorscale": [
          [
           0,
           "#0d0887"
          ],
          [
           0.1111111111111111,
           "#46039f"
          ],
          [
           0.2222222222222222,
           "#7201a8"
          ],
          [
           0.3333333333333333,
           "#9c179e"
          ],
          [
           0.4444444444444444,
           "#bd3786"
          ],
          [
           0.5555555555555556,
           "#d8576b"
          ],
          [
           0.6666666666666666,
           "#ed7953"
          ],
          [
           0.7777777777777778,
           "#fb9f3a"
          ],
          [
           0.8888888888888888,
           "#fdca26"
          ],
          [
           1,
           "#f0f921"
          ]
         ]
        },
        "legend": {
         "tracegroupgap": 0
        },
        "margin": {
         "t": 60
        },
        "template": {
         "data": {
          "bar": [
           {
            "error_x": {
             "color": "#2a3f5f"
            },
            "error_y": {
             "color": "#2a3f5f"
            },
            "marker": {
             "line": {
              "color": "#E5ECF6",
              "width": 0.5
             },
             "pattern": {
              "fillmode": "overlay",
              "size": 10,
              "solidity": 0.2
             }
            },
            "type": "bar"
           }
          ],
          "barpolar": [
           {
            "marker": {
             "line": {
              "color": "#E5ECF6",
              "width": 0.5
             },
             "pattern": {
              "fillmode": "overlay",
              "size": 10,
              "solidity": 0.2
             }
            },
            "type": "barpolar"
           }
          ],
          "carpet": [
           {
            "aaxis": {
             "endlinecolor": "#2a3f5f",
             "gridcolor": "white",
             "linecolor": "white",
             "minorgridcolor": "white",
             "startlinecolor": "#2a3f5f"
            },
            "baxis": {
             "endlinecolor": "#2a3f5f",
             "gridcolor": "white",
             "linecolor": "white",
             "minorgridcolor": "white",
             "startlinecolor": "#2a3f5f"
            },
            "type": "carpet"
           }
          ],
          "choropleth": [
           {
            "colorbar": {
             "outlinewidth": 0,
             "ticks": ""
            },
            "type": "choropleth"
           }
          ],
          "contour": [
           {
            "colorbar": {
             "outlinewidth": 0,
             "ticks": ""
            },
            "colorscale": [
             [
              0,
              "#0d0887"
             ],
             [
              0.1111111111111111,
              "#46039f"
             ],
             [
              0.2222222222222222,
              "#7201a8"
             ],
             [
              0.3333333333333333,
              "#9c179e"
             ],
             [
              0.4444444444444444,
              "#bd3786"
             ],
             [
              0.5555555555555556,
              "#d8576b"
             ],
             [
              0.6666666666666666,
              "#ed7953"
             ],
             [
              0.7777777777777778,
              "#fb9f3a"
             ],
             [
              0.8888888888888888,
              "#fdca26"
             ],
             [
              1,
              "#f0f921"
             ]
            ],
            "type": "contour"
           }
          ],
          "contourcarpet": [
           {
            "colorbar": {
             "outlinewidth": 0,
             "ticks": ""
            },
            "type": "contourcarpet"
           }
          ],
          "heatmap": [
           {
            "colorbar": {
             "outlinewidth": 0,
             "ticks": ""
            },
            "colorscale": [
             [
              0,
              "#0d0887"
             ],
             [
              0.1111111111111111,
              "#46039f"
             ],
             [
              0.2222222222222222,
              "#7201a8"
             ],
             [
              0.3333333333333333,
              "#9c179e"
             ],
             [
              0.4444444444444444,
              "#bd3786"
             ],
             [
              0.5555555555555556,
              "#d8576b"
             ],
             [
              0.6666666666666666,
              "#ed7953"
             ],
             [
              0.7777777777777778,
              "#fb9f3a"
             ],
             [
              0.8888888888888888,
              "#fdca26"
             ],
             [
              1,
              "#f0f921"
             ]
            ],
            "type": "heatmap"
           }
          ],
          "heatmapgl": [
           {
            "colorbar": {
             "outlinewidth": 0,
             "ticks": ""
            },
            "colorscale": [
             [
              0,
              "#0d0887"
             ],
             [
              0.1111111111111111,
              "#46039f"
             ],
             [
              0.2222222222222222,
              "#7201a8"
             ],
             [
              0.3333333333333333,
              "#9c179e"
             ],
             [
              0.4444444444444444,
              "#bd3786"
             ],
             [
              0.5555555555555556,
              "#d8576b"
             ],
             [
              0.6666666666666666,
              "#ed7953"
             ],
             [
              0.7777777777777778,
              "#fb9f3a"
             ],
             [
              0.8888888888888888,
              "#fdca26"
             ],
             [
              1,
              "#f0f921"
             ]
            ],
            "type": "heatmapgl"
           }
          ],
          "histogram": [
           {
            "marker": {
             "pattern": {
              "fillmode": "overlay",
              "size": 10,
              "solidity": 0.2
             }
            },
            "type": "histogram"
           }
          ],
          "histogram2d": [
           {
            "colorbar": {
             "outlinewidth": 0,
             "ticks": ""
            },
            "colorscale": [
             [
              0,
              "#0d0887"
             ],
             [
              0.1111111111111111,
              "#46039f"
             ],
             [
              0.2222222222222222,
              "#7201a8"
             ],
             [
              0.3333333333333333,
              "#9c179e"
             ],
             [
              0.4444444444444444,
              "#bd3786"
             ],
             [
              0.5555555555555556,
              "#d8576b"
             ],
             [
              0.6666666666666666,
              "#ed7953"
             ],
             [
              0.7777777777777778,
              "#fb9f3a"
             ],
             [
              0.8888888888888888,
              "#fdca26"
             ],
             [
              1,
              "#f0f921"
             ]
            ],
            "type": "histogram2d"
           }
          ],
          "histogram2dcontour": [
           {
            "colorbar": {
             "outlinewidth": 0,
             "ticks": ""
            },
            "colorscale": [
             [
              0,
              "#0d0887"
             ],
             [
              0.1111111111111111,
              "#46039f"
             ],
             [
              0.2222222222222222,
              "#7201a8"
             ],
             [
              0.3333333333333333,
              "#9c179e"
             ],
             [
              0.4444444444444444,
              "#bd3786"
             ],
             [
              0.5555555555555556,
              "#d8576b"
             ],
             [
              0.6666666666666666,
              "#ed7953"
             ],
             [
              0.7777777777777778,
              "#fb9f3a"
             ],
             [
              0.8888888888888888,
              "#fdca26"
             ],
             [
              1,
              "#f0f921"
             ]
            ],
            "type": "histogram2dcontour"
           }
          ],
          "mesh3d": [
           {
            "colorbar": {
             "outlinewidth": 0,
             "ticks": ""
            },
            "type": "mesh3d"
           }
          ],
          "parcoords": [
           {
            "line": {
             "colorbar": {
              "outlinewidth": 0,
              "ticks": ""
             }
            },
            "type": "parcoords"
           }
          ],
          "pie": [
           {
            "automargin": true,
            "type": "pie"
           }
          ],
          "scatter": [
           {
            "fillpattern": {
             "fillmode": "overlay",
             "size": 10,
             "solidity": 0.2
            },
            "type": "scatter"
           }
          ],
          "scatter3d": [
           {
            "line": {
             "colorbar": {
              "outlinewidth": 0,
              "ticks": ""
             }
            },
            "marker": {
             "colorbar": {
              "outlinewidth": 0,
              "ticks": ""
             }
            },
            "type": "scatter3d"
           }
          ],
          "scattercarpet": [
           {
            "marker": {
             "colorbar": {
              "outlinewidth": 0,
              "ticks": ""
             }
            },
            "type": "scattercarpet"
           }
          ],
          "scattergeo": [
           {
            "marker": {
             "colorbar": {
              "outlinewidth": 0,
              "ticks": ""
             }
            },
            "type": "scattergeo"
           }
          ],
          "scattergl": [
           {
            "marker": {
             "colorbar": {
              "outlinewidth": 0,
              "ticks": ""
             }
            },
            "type": "scattergl"
           }
          ],
          "scattermapbox": [
           {
            "marker": {
             "colorbar": {
              "outlinewidth": 0,
              "ticks": ""
             }
            },
            "type": "scattermapbox"
           }
          ],
          "scatterpolar": [
           {
            "marker": {
             "colorbar": {
              "outlinewidth": 0,
              "ticks": ""
             }
            },
            "type": "scatterpolar"
           }
          ],
          "scatterpolargl": [
           {
            "marker": {
             "colorbar": {
              "outlinewidth": 0,
              "ticks": ""
             }
            },
            "type": "scatterpolargl"
           }
          ],
          "scatterternary": [
           {
            "marker": {
             "colorbar": {
              "outlinewidth": 0,
              "ticks": ""
             }
            },
            "type": "scatterternary"
           }
          ],
          "surface": [
           {
            "colorbar": {
             "outlinewidth": 0,
             "ticks": ""
            },
            "colorscale": [
             [
              0,
              "#0d0887"
             ],
             [
              0.1111111111111111,
              "#46039f"
             ],
             [
              0.2222222222222222,
              "#7201a8"
             ],
             [
              0.3333333333333333,
              "#9c179e"
             ],
             [
              0.4444444444444444,
              "#bd3786"
             ],
             [
              0.5555555555555556,
              "#d8576b"
             ],
             [
              0.6666666666666666,
              "#ed7953"
             ],
             [
              0.7777777777777778,
              "#fb9f3a"
             ],
             [
              0.8888888888888888,
              "#fdca26"
             ],
             [
              1,
              "#f0f921"
             ]
            ],
            "type": "surface"
           }
          ],
          "table": [
           {
            "cells": {
             "fill": {
              "color": "#EBF0F8"
             },
             "line": {
              "color": "white"
             }
            },
            "header": {
             "fill": {
              "color": "#C8D4E3"
             },
             "line": {
              "color": "white"
             }
            },
            "type": "table"
           }
          ]
         },
         "layout": {
          "annotationdefaults": {
           "arrowcolor": "#2a3f5f",
           "arrowhead": 0,
           "arrowwidth": 1
          },
          "autotypenumbers": "strict",
          "coloraxis": {
           "colorbar": {
            "outlinewidth": 0,
            "ticks": ""
           }
          },
          "colorscale": {
           "diverging": [
            [
             0,
             "#8e0152"
            ],
            [
             0.1,
             "#c51b7d"
            ],
            [
             0.2,
             "#de77ae"
            ],
            [
             0.3,
             "#f1b6da"
            ],
            [
             0.4,
             "#fde0ef"
            ],
            [
             0.5,
             "#f7f7f7"
            ],
            [
             0.6,
             "#e6f5d0"
            ],
            [
             0.7,
             "#b8e186"
            ],
            [
             0.8,
             "#7fbc41"
            ],
            [
             0.9,
             "#4d9221"
            ],
            [
             1,
             "#276419"
            ]
           ],
           "sequential": [
            [
             0,
             "#0d0887"
            ],
            [
             0.1111111111111111,
             "#46039f"
            ],
            [
             0.2222222222222222,
             "#7201a8"
            ],
            [
             0.3333333333333333,
             "#9c179e"
            ],
            [
             0.4444444444444444,
             "#bd3786"
            ],
            [
             0.5555555555555556,
             "#d8576b"
            ],
            [
             0.6666666666666666,
             "#ed7953"
            ],
            [
             0.7777777777777778,
             "#fb9f3a"
            ],
            [
             0.8888888888888888,
             "#fdca26"
            ],
            [
             1,
             "#f0f921"
            ]
           ],
           "sequentialminus": [
            [
             0,
             "#0d0887"
            ],
            [
             0.1111111111111111,
             "#46039f"
            ],
            [
             0.2222222222222222,
             "#7201a8"
            ],
            [
             0.3333333333333333,
             "#9c179e"
            ],
            [
             0.4444444444444444,
             "#bd3786"
            ],
            [
             0.5555555555555556,
             "#d8576b"
            ],
            [
             0.6666666666666666,
             "#ed7953"
            ],
            [
             0.7777777777777778,
             "#fb9f3a"
            ],
            [
             0.8888888888888888,
             "#fdca26"
            ],
            [
             1,
             "#f0f921"
            ]
           ]
          },
          "colorway": [
           "#636efa",
           "#EF553B",
           "#00cc96",
           "#ab63fa",
           "#FFA15A",
           "#19d3f3",
           "#FF6692",
           "#B6E880",
           "#FF97FF",
           "#FECB52"
          ],
          "font": {
           "color": "#2a3f5f"
          },
          "geo": {
           "bgcolor": "white",
           "lakecolor": "white",
           "landcolor": "#E5ECF6",
           "showlakes": true,
           "showland": true,
           "subunitcolor": "white"
          },
          "hoverlabel": {
           "align": "left"
          },
          "hovermode": "closest",
          "mapbox": {
           "style": "light"
          },
          "paper_bgcolor": "white",
          "plot_bgcolor": "#E5ECF6",
          "polar": {
           "angularaxis": {
            "gridcolor": "white",
            "linecolor": "white",
            "ticks": ""
           },
           "bgcolor": "#E5ECF6",
           "radialaxis": {
            "gridcolor": "white",
            "linecolor": "white",
            "ticks": ""
           }
          },
          "scene": {
           "xaxis": {
            "backgroundcolor": "#E5ECF6",
            "gridcolor": "white",
            "gridwidth": 2,
            "linecolor": "white",
            "showbackground": true,
            "ticks": "",
            "zerolinecolor": "white"
           },
           "yaxis": {
            "backgroundcolor": "#E5ECF6",
            "gridcolor": "white",
            "gridwidth": 2,
            "linecolor": "white",
            "showbackground": true,
            "ticks": "",
            "zerolinecolor": "white"
           },
           "zaxis": {
            "backgroundcolor": "#E5ECF6",
            "gridcolor": "white",
            "gridwidth": 2,
            "linecolor": "white",
            "showbackground": true,
            "ticks": "",
            "zerolinecolor": "white"
           }
          },
          "shapedefaults": {
           "line": {
            "color": "#2a3f5f"
           }
          },
          "ternary": {
           "aaxis": {
            "gridcolor": "white",
            "linecolor": "white",
            "ticks": ""
           },
           "baxis": {
            "gridcolor": "white",
            "linecolor": "white",
            "ticks": ""
           },
           "bgcolor": "#E5ECF6",
           "caxis": {
            "gridcolor": "white",
            "linecolor": "white",
            "ticks": ""
           }
          },
          "title": {
           "x": 0.05
          },
          "xaxis": {
           "automargin": true,
           "gridcolor": "white",
           "linecolor": "white",
           "ticks": "",
           "title": {
            "standoff": 15
           },
           "zerolinecolor": "white",
           "zerolinewidth": 2
          },
          "yaxis": {
           "automargin": true,
           "gridcolor": "white",
           "linecolor": "white",
           "ticks": "",
           "title": {
            "standoff": 15
           },
           "zerolinecolor": "white",
           "zerolinewidth": 2
          }
         }
        },
        "title": {
         "text": "K-means Clustering in PCA Space with 7 Clusters"
        },
        "xaxis": {
         "anchor": "y",
         "domain": [
          0,
          1
         ],
         "title": {
          "text": "Principal Component 1"
         }
        },
        "yaxis": {
         "anchor": "x",
         "domain": [
          0,
          1
         ],
         "title": {
          "text": "Principal Component 2"
         }
        }
       }
      },
      "text/html": [
       "<div>                            <div id=\"8ea8c1ef-a30d-404f-b88f-e9212ad20a69\" class=\"plotly-graph-div\" style=\"height:525px; width:100%;\"></div>            <script type=\"text/javascript\">                require([\"plotly\"], function(Plotly) {                    window.PLOTLYENV=window.PLOTLYENV || {};                                    if (document.getElementById(\"8ea8c1ef-a30d-404f-b88f-e9212ad20a69\")) {                    Plotly.newPlot(                        \"8ea8c1ef-a30d-404f-b88f-e9212ad20a69\",                        [{\"customdata\":[[\"-0.806\"],[\"-0.725\"],[\"-0.645\"],[\"-0.564\"],[\"-0.483\"],[\"-0.403\"],[\"-0.322\"],[\"-0.242\"],[\"-0.161\"],[\"-0.081\"],[\"0.000\"],[\"0.081\"],[\"0.161\"],[\"0.242\"],[\"0.322\"],[\"0.403\"],[\"0.483\"],[\"0.564\"],[\"0.645\"],[\"0.725\"],[\"0.806\"],[\"0.886\"],[\"0.967\"],[\"1.048\"],[\"1.128\"],[\"1.209\"],[\"1.289\"],[\"1.370\"],[\"1.450\"],[\"1.531\"],[\"1.612\"],[\"1.692\"],[\"-1.692\"],[\"-1.612\"],[\"-1.531\"],[\"-1.450\"],[\"-1.370\"],[\"-1.289\"],[\"-1.209\"],[\"-1.128\"],[\"-1.048\"],[\"-0.967\"],[\"-0.886\"],[\"-0.806\"],[\"-0.725\"],[\"-0.645\"],[\"-0.564\"],[\"-0.483\"],[\"-0.403\"],[\"-0.322\"],[\"-0.242\"],[\"-0.161\"],[\"-0.081\"],[\"0.000\"],[\"0.081\"],[\"0.161\"],[\"0.242\"],[\"0.322\"],[\"0.403\"],[\"0.483\"],[\"0.564\"],[\"0.645\"],[\"0.725\"],[\"0.806\"],[\"0.886\"],[\"0.967\"],[\"1.048\"],[\"1.128\"],[\"1.209\"],[\"1.289\"],[\"1.370\"],[\"1.450\"],[\"1.531\"],[\"1.612\"],[\"1.692\"],[\"-1.692\"],[\"-1.612\"],[\"-1.531\"],[\"-1.450\"],[\"-1.370\"],[\"-1.289\"],[\"-1.209\"],[\"-1.128\"],[\"-1.048\"],[\"-0.967\"],[\"-0.886\"],[\"-0.806\"],[\"-0.725\"],[\"-0.645\"],[\"-0.564\"],[\"-0.483\"],[\"-0.403\"],[\"-0.322\"],[\"-0.242\"],[\"-0.161\"],[\"-0.081\"],[\"0.000\"],[\"0.081\"],[\"0.161\"],[\"0.242\"],[\"0.322\"],[\"0.403\"],[\"0.483\"],[\"0.564\"],[\"0.645\"],[\"0.725\"],[\"0.806\"],[\"0.886\"],[\"0.967\"],[\"1.048\"],[\"1.128\"],[\"1.209\"],[\"1.289\"],[\"1.370\"],[\"1.450\"],[\"1.531\"],[\"1.612\"],[\"1.692\"],[\"-1.692\"],[\"-1.612\"],[\"-1.531\"],[\"-1.450\"],[\"-1.370\"],[\"-1.289\"],[\"-1.209\"],[\"-1.128\"],[\"-1.048\"],[\"-0.967\"],[\"-0.886\"],[\"-0.806\"],[\"-0.725\"],[\"-0.645\"],[\"-0.564\"],[\"-0.483\"],[\"-0.403\"],[\"-0.322\"],[\"-0.242\"],[\"-0.161\"],[\"-0.081\"],[\"0.000\"],[\"0.081\"],[\"0.161\"],[\"0.242\"],[\"0.322\"],[\"0.403\"],[\"0.483\"],[\"0.564\"],[\"0.645\"],[\"0.725\"],[\"0.806\"],[\"0.886\"],[\"0.967\"],[\"1.048\"],[\"1.128\"],[\"1.209\"],[\"1.289\"],[\"1.370\"],[\"1.450\"],[\"1.531\"],[\"1.612\"],[\"1.692\"],[\"-1.692\"],[\"-1.612\"],[\"-1.531\"],[\"-1.450\"],[\"-1.370\"],[\"-1.289\"],[\"-1.209\"],[\"-1.128\"],[\"-1.048\"],[\"-0.967\"],[\"-0.886\"],[\"-0.806\"],[\"-0.725\"],[\"-0.645\"],[\"-0.564\"],[\"-0.483\"],[\"-0.403\"],[\"-0.322\"],[\"-0.242\"],[\"-0.161\"],[\"-0.081\"],[\"0.000\"],[\"0.081\"],[\"0.161\"],[\"0.242\"],[\"0.322\"],[\"0.403\"],[\"0.483\"],[\"0.564\"],[\"0.645\"],[\"0.725\"],[\"0.806\"],[\"0.886\"],[\"0.967\"],[\"1.048\"],[\"1.128\"],[\"1.209\"],[\"1.289\"],[\"1.370\"],[\"1.450\"],[\"1.531\"],[\"1.612\"],[\"1.692\"],[\"-1.692\"],[\"-1.612\"],[\"-1.531\"],[\"-1.450\"],[\"-1.370\"],[\"-1.289\"],[\"-1.209\"],[\"-1.128\"],[\"-1.048\"],[\"-0.967\"],[\"-0.886\"],[\"-0.806\"],[\"-0.725\"],[\"-0.645\"],[\"-0.564\"],[\"-0.483\"],[\"-0.403\"],[\"-0.322\"],[\"-0.242\"],[\"-0.161\"],[\"-0.081\"],[\"0.000\"],[\"0.081\"],[\"0.161\"],[\"0.242\"],[\"0.322\"],[\"0.403\"],[\"0.483\"],[\"0.564\"],[\"0.645\"],[\"0.725\"],[\"0.806\"],[\"0.886\"],[\"0.967\"],[\"1.048\"],[\"1.128\"],[\"1.209\"],[\"1.289\"],[\"1.370\"],[\"1.450\"],[\"1.531\"],[\"1.612\"],[\"1.692\"],[\"-1.692\"],[\"-1.612\"],[\"-1.531\"],[\"-1.450\"],[\"-1.370\"],[\"-1.289\"],[\"-1.209\"],[\"-1.128\"],[\"-1.048\"],[\"-0.967\"],[\"-0.886\"],[\"-0.806\"],[\"-0.725\"],[\"-0.645\"],[\"-0.564\"],[\"-0.483\"],[\"-0.403\"],[\"-0.322\"],[\"-0.242\"],[\"-0.161\"],[\"-0.081\"],[\"0.000\"],[\"0.081\"],[\"0.161\"],[\"0.242\"],[\"0.322\"],[\"0.403\"],[\"0.483\"],[\"0.564\"],[\"0.645\"],[\"0.725\"],[\"0.806\"],[\"0.886\"],[\"0.967\"],[\"1.048\"],[\"1.128\"],[\"1.209\"],[\"1.289\"],[\"1.370\"],[\"1.450\"],[\"1.531\"],[\"1.612\"],[\"1.692\"],[\"-1.692\"],[\"-1.612\"],[\"-1.531\"],[\"-1.450\"],[\"-1.370\"],[\"-1.289\"],[\"-1.209\"],[\"-1.128\"],[\"-1.048\"],[\"-0.967\"],[\"-0.886\"],[\"-0.806\"],[\"-0.725\"],[\"-0.645\"],[\"-0.564\"],[\"-0.483\"],[\"-0.403\"],[\"-0.322\"],[\"-0.242\"],[\"-0.161\"],[\"-0.081\"],[\"0.000\"],[\"0.081\"],[\"0.161\"],[\"0.242\"],[\"0.322\"],[\"0.403\"],[\"0.483\"],[\"0.564\"],[\"0.645\"],[\"0.725\"],[\"0.806\"],[\"0.886\"],[\"0.967\"],[\"1.048\"],[\"1.128\"],[\"1.209\"],[\"1.289\"],[\"1.370\"],[\"1.450\"],[\"1.531\"],[\"1.612\"],[\"1.692\"],[\"-1.692\"],[\"-1.612\"],[\"-1.531\"],[\"-1.450\"],[\"-1.370\"],[\"-1.289\"],[\"-1.209\"],[\"-1.128\"],[\"-1.048\"],[\"-0.967\"],[\"-0.886\"],[\"-0.806\"],[\"-0.725\"],[\"-0.645\"],[\"-0.564\"],[\"-0.483\"],[\"-0.403\"],[\"-0.322\"],[\"-0.242\"],[\"-0.161\"],[\"-0.081\"],[\"0.000\"],[\"0.081\"],[\"0.161\"],[\"0.242\"],[\"0.322\"],[\"0.403\"],[\"0.483\"],[\"0.564\"],[\"0.645\"],[\"0.725\"],[\"0.806\"],[\"0.886\"],[\"0.967\"],[\"1.048\"],[\"1.128\"],[\"1.209\"],[\"1.289\"],[\"1.370\"],[\"1.450\"],[\"1.531\"],[\"1.612\"],[\"1.692\"],[\"-1.692\"],[\"-1.612\"],[\"-1.531\"],[\"-1.450\"],[\"-1.370\"],[\"-1.289\"],[\"-1.209\"],[\"-1.128\"],[\"-1.048\"],[\"-0.967\"],[\"-0.886\"],[\"-0.806\"],[\"-0.725\"],[\"-0.645\"],[\"-0.564\"],[\"-0.483\"],[\"-0.403\"],[\"-0.322\"],[\"-0.242\"],[\"-0.161\"],[\"-0.081\"],[\"0.000\"],[\"0.081\"],[\"0.161\"],[\"0.242\"],[\"0.322\"],[\"0.403\"],[\"0.483\"],[\"0.564\"],[\"0.645\"],[\"0.725\"],[\"0.806\"],[\"0.886\"],[\"0.967\"],[\"1.048\"],[\"1.128\"],[\"1.209\"],[\"1.289\"],[\"1.370\"],[\"1.450\"],[\"1.531\"],[\"1.612\"],[\"1.692\"],[\"-1.692\"],[\"-1.612\"],[\"-1.531\"],[\"-1.450\"],[\"-1.370\"],[\"-1.289\"],[\"-1.209\"],[\"-1.128\"],[\"-1.048\"],[\"-0.967\"],[\"-0.886\"],[\"-0.806\"],[\"-0.725\"],[\"-0.645\"],[\"-0.564\"],[\"-0.483\"],[\"-0.403\"],[\"-0.322\"],[\"-0.242\"],[\"-0.161\"],[\"-0.081\"],[\"0.000\"],[\"0.081\"],[\"0.161\"],[\"0.242\"],[\"0.322\"],[\"0.403\"],[\"0.483\"],[\"0.564\"],[\"0.645\"],[\"0.725\"],[\"0.806\"],[\"0.886\"],[\"0.967\"],[\"1.048\"],[\"1.128\"],[\"1.209\"],[\"1.289\"],[\"1.370\"],[\"1.450\"],[\"1.531\"],[\"1.612\"],[\"1.692\"],[\"-1.692\"],[\"-1.612\"],[\"-1.531\"],[\"-1.450\"],[\"-1.370\"],[\"-1.289\"],[\"-1.209\"],[\"-1.128\"],[\"-1.048\"],[\"-0.967\"],[\"-0.886\"],[\"-0.806\"],[\"-0.725\"],[\"-0.645\"],[\"-0.564\"],[\"-0.483\"],[\"-0.403\"],[\"-0.322\"],[\"-0.242\"],[\"-0.161\"],[\"-0.081\"],[\"0.000\"],[\"0.081\"],[\"0.161\"],[\"0.242\"],[\"0.322\"],[\"0.403\"],[\"0.483\"],[\"0.564\"],[\"0.645\"],[\"0.725\"],[\"0.806\"],[\"0.886\"],[\"0.967\"],[\"1.048\"],[\"1.128\"],[\"1.209\"],[\"1.289\"],[\"1.370\"],[\"1.450\"],[\"1.531\"],[\"1.612\"],[\"1.692\"],[\"-1.692\"],[\"-1.612\"],[\"-1.531\"],[\"-1.450\"],[\"-1.370\"],[\"-1.289\"],[\"-1.209\"],[\"-1.128\"],[\"-1.048\"],[\"-0.967\"],[\"-0.886\"]],\"hovertemplate\":\"Principal Component 1=%{x}<br>Principal Component 2=%{y}<br>Country=%{customdata[0]}<br>Cluster Number=%{marker.color}<extra></extra>\",\"legendgroup\":\"\",\"marker\":{\"color\":[0,3,0,0,4,2,3,4,0,0,3,4,0,4,0,4,3,3,4,4,4,4,4,3,4,4,4,4,4,4,4,0,0,3,5,3,2,2,3,2,3,6,2,0,3,0,5,4,2,0,0,0,0,3,4,0,4,0,4,3,3,4,4,4,4,4,3,4,4,4,4,4,4,4,0,0,3,1,3,6,2,3,2,3,6,6,0,3,0,0,4,2,0,0,0,0,3,4,0,4,0,4,3,3,4,4,4,0,4,5,4,4,4,4,4,4,4,3,0,3,1,3,6,2,0,2,3,6,6,0,3,0,5,4,2,0,0,0,0,3,4,0,4,0,4,3,3,4,4,4,0,4,5,4,4,4,4,4,4,4,0,0,3,1,3,6,2,0,2,3,6,6,0,3,0,5,4,2,0,0,0,0,3,4,0,4,0,4,3,3,4,4,4,0,4,5,4,4,4,4,4,4,4,0,0,3,1,3,6,2,0,2,3,6,6,0,3,0,5,4,2,0,0,0,0,3,4,0,4,0,4,3,3,4,4,4,0,4,5,4,4,4,0,4,4,4,0,0,3,1,5,6,2,0,2,3,6,6,0,3,0,5,4,2,0,0,0,0,3,4,0,4,0,4,3,3,4,4,4,3,4,5,4,4,4,4,4,4,4,0,0,0,1,5,6,2,0,2,3,6,6,0,3,0,5,4,2,0,0,0,0,3,4,0,4,0,4,3,3,4,4,4,3,4,5,4,4,4,4,4,4,4,0,0,0,1,5,6,2,0,2,3,6,6,0,3,0,5,4,2,0,0,2,0,3,4,0,4,0,4,3,3,4,4,4,3,4,5,4,4,4,4,3,4,4,0,0,0,1,5,6,2,0,2,3,6,6,0,3,0,5,4,2,0,0,0,0,3,4,0,4,0,4,3,3,4,4,4,0,4,5,4,4,4,3,4,4,4,0,0,0,1,5,6,2,0,2,3,6,6,0,3,0,5,4,2,0,0,0,0,3,4,0,4,0,4,3,3,4,4,4,0,4,5,4,4,4,3,3,4,4,0,0,0,1,5,6,2,0,2,5,6,6,0,3,0,5,4,2,0,0,0,0,3,4,0,4,0,4,3,3,4,4,4,0,4,5,4,4,4,3,3,4,4,0,0,0,1,5,6,2,0,2,5,6,6],\"coloraxis\":\"coloraxis\",\"symbol\":\"circle\"},\"mode\":\"markers\",\"name\":\"\",\"orientation\":\"v\",\"showlegend\":false,\"x\":[-0.0076926170285675066,-0.5879924795767708,0.4835233173127524,0.3791461395184513,-0.7492023721628268,0.2507722621405069,0.06606534887620316,-0.6891150718825513,-0.45550660276439164,-0.3832268054962351,-0.6118308419936769,-0.8347886319964927,-0.31895636878929484,-0.7283829841641616,-0.5047650430855767,-0.9350355304263639,-0.8299784450925332,-0.7257085438982014,-1.1524517362855964,-0.9976282710096972,-0.9412403854468357,-0.7222989046623268,-0.870629689205541,0.15109045065676777,-1.2928542090220667,-1.0470655512754534,-1.5333984375935286,-0.7016884553298776,-1.1597723045049622,-1.4307556865702415,-0.7697488856178584,-0.4266476745794059,0.15445107282748097,-0.2828781193959927,3.2156513933334523,0.13216419386495717,1.504740850572765,0.5821793413177861,-0.17712888508688193,0.5216811976925578,0.1945706970511894,2.7551414019414397,1.31975499115808,-0.19201472536370415,-0.5373713787610996,0.3971348540519942,0.7992184608660573,-0.7717031148967297,0.12631851780020498,0.12827997464978363,-0.5229600731162112,-0.4159245036814234,-0.2528986093340954,-0.638165169886575,-0.8338539510266457,-0.36265130120359956,-0.852371519583983,-0.5677849252930028,-0.883642166267519,-0.766360608729539,-0.7019778009172035,-1.0524534128064191,-1.0080094985698256,-0.982535531615233,-0.5254356933370576,-0.9703071698598874,0.03656114579759073,-1.2583567767555404,-1.0995961946763373,-1.4318132663412757,-0.7259874355216855,-1.1179508602463477,-1.401674150598209,-0.8517863415158756,-0.17171269095907693,0.23510216081006854,-0.24254447951109886,4.803267818466,0.06539953270527286,1.9694453694381695,0.602099746135228,-0.08997855687837222,0.9188473882921404,-0.13429199164004407,2.444803213275617,1.9609586867923636,-0.24086339539695242,-0.5356592574194561,0.31792085940134646,0.5361882104302642,-0.8011579323417107,0.020273283426255506,0.023033662726933836,-0.5300343054784667,-0.4068570280407692,-0.27312751141557734,-0.517505202450567,-0.805012494885185,-0.3120534183974569,-0.7914981313586136,-0.6051677410167794,-0.9137013645583082,-0.6911925463723612,-0.5112301952430801,-0.9974235682419266,-0.9865374512136544,-0.9839513249488542,-0.4839267453824383,-1.1285268009236078,0.733240899377763,-1.1699720761968666,-1.1812468725625516,-1.3729964770727998,-0.701464597831434,-0.7833392493839,-1.394494586148053,-0.7846172083935097,-0.37294188339280826,0.3807183596986834,-0.3177318613369916,5.6704569187330565,0.10352518024019927,2.012570558162675,0.7654247869275236,0.326666670204412,0.9682873678180168,-0.2031306156339546,2.545479562764596,1.869271616141369,-0.2530553084463004,-0.5233729454957835,0.3199581026143142,0.8070161838065815,-0.8023612219552496,0.023673671442377118,0.03414829850129367,-0.5282658760629485,-0.411613023395592,-0.279233098564453,-0.4755897934340312,-0.7919017371820307,-0.27222622018696235,-0.8048391545757173,-0.6119377363246357,-0.9027408557135072,-0.7352832604121187,-0.4441873303734671,-1.0070395472202915,-0.9827506011111533,-0.934168262136754,-0.44520369555000977,-1.1377954227176403,0.6024834319345733,-1.1507111759184492,-1.1616592098785647,-1.3726589933000384,-0.5455288849844744,-0.7973194393825045,-1.376881347790538,-0.6694075857942581,-0.16556760109335678,0.3590689722211051,-0.3200424737294585,6.208729032317671,0.2924557557975197,1.9816479265753255,0.8318318895321646,0.3875398281525745,0.9225947406957146,-0.21809227596823533,2.647200042234578,1.997374781271322,-0.3142116035793548,-0.5477057220882745,0.32422223279286305,0.7610686877367492,-0.8024806982775209,0.032262397183327136,0.014064624644630843,-0.5139748404774594,-0.4079775187616147,-0.25898752806231995,-0.4703194934204846,-0.7940736884086338,-0.256306614280719,-0.6938371473998906,-0.6114800063231778,-0.91885981853907,-0.7208778036869407,-0.4543262193271606,-0.9949534995498572,-0.9837672841330267,-0.9426620533532138,-0.42759230680668253,-1.2122782334188185,0.5351900728065458,-1.1382900464997496,-1.1582984218015033,-1.3000488865520412,-0.5437667518897746,-0.7765449712786142,-1.3666724767008547,-0.6629972589296791,-0.2650136451789535,0.2982005008942712,-0.32006748871627255,6.647723484631949,0.31772720914772123,2.060204338522763,0.7887916795828416,0.36798185504184805,0.9466165981592372,-0.23528872201615939,2.645704302587083,2.0057354762940007,-0.3008540476709816,-0.5508253603071628,0.35690873520453,0.9699824276476471,-0.8043583035394901,0.025648648566833594,0.07153279888636627,-0.523013975241339,-0.40812136426278645,-0.26278226379371006,-0.4660714700246362,-0.8022133111027894,-0.24702897654189418,-0.7098771048813658,-0.6105608434811826,-0.9078349686079465,-0.652223378377409,-0.5083534770198338,-0.9913596579498402,-0.9800851171647474,-0.9502496914414655,-0.43542064382560386,-1.2284350245511355,0.7989621670977989,-1.1129697093875015,-1.1578441623614675,-1.299908349605814,-0.5169139381916563,-0.749711922097595,-1.3478887693081214,-0.61846314886929,-0.2336464787468124,0.32317898249581906,-0.3235516276759663,7.005237110711693,0.6446988479798536,2.275257530050131,0.7770902594692745,0.31439539847884945,1.0016847617513962,-0.20354358783168586,2.3790416505292526,2.099626817709444,-0.2789457413973013,-0.5370604519454644,0.40525224563895235,1.4854716405263395,-0.7995795049022042,0.023892649927596602,0.07769887664917476,-0.5257456029860633,-0.4084341916716944,-0.28792598727228347,-0.42155212778534673,-0.7956099199448396,-0.306936063140769,-0.6999713933422963,-0.6168826850933712,-0.9015681168326546,-0.6271511720654883,-0.5347132626899551,-1.0115480249123718,-0.965404864649324,-0.9341885392169829,-0.4187355817336493,-1.2160878576134901,0.9889077127624769,-1.0796143013949762,-1.142257842320702,-1.296084397876998,-0.5595328242257883,-0.6855494268348311,-1.3261772920842876,-0.5910331600797742,-0.2291928970177443,0.3576825537951034,-0.12411572404735446,7.458593083480697,0.8558744359372255,2.374642979193867,0.8133985724296765,0.34537431012412645,0.9794337283734755,0.026854343838146395,2.3387443054694614,2.355143175258081,-0.23774676255604296,-0.5281380002323075,0.5569083151105743,1.3273169146255286,-0.7979564715282588,0.02130604538400577,0.18540408039296888,-0.5286601151840623,-0.3005393858156641,-0.2670905851620726,-0.421394548381037,-0.7881349712763465,-0.29843934370860736,-0.698893585190338,-0.6188611243595006,-0.8918935768537017,-0.557532607411596,-0.5421444761223323,-1.021826498830052,-0.8757070979958421,-0.9262405724981982,-0.37601454154167613,-1.190906914595488,1.206890016981866,-1.0727295159486128,-1.1273827906816873,-1.2957115150796823,-0.48965721121933836,-0.6004872142685127,-1.3019932900520124,-0.6730544697140315,-0.2726011981379327,0.27762518456156887,-0.11134018088329699,7.425582502829259,0.734093408535763,2.2593350546669773,0.8025779119217235,0.27306786415527223,0.9378846637130465,0.233224274228471,2.2627195949827468,2.2651970750646258,-0.24621242662602771,-0.517043687707793,0.6580760857569395,1.4019238447509963,-0.7968545076483227,0.017691236508557202,0.2622715573782002,-0.536404239002528,-0.23720276782221814,-0.2446114081707635,-0.3901440266236191,-0.7681859741786095,-0.3438802021904255,-0.7013248588650743,-0.6251343538495782,-0.8865954979826884,-0.5575332483988036,-0.49178212800863513,-1.0186230333517081,-0.8710881820275997,-0.9826333242086629,-0.2702087748183057,-1.1678706038708087,1.7114381429420884,-1.0159276585898243,-1.1437811126170792,-1.2937059990942805,-0.42352594613075734,-0.4662593933781749,-1.2660954727592806,-0.5801726755968996,-0.2983815991292072,0.3617004296234155,-0.11161244884777341,8.195748037712072,0.8593025091894546,2.3784836660095077,0.8016490154620459,0.2506524093325964,0.995700273589924,0.31654248950682634,2.3190375217943813,2.3729847881589055,-0.2440329537130676,-0.5011318074706819,0.6604430361177026,1.5736708962544388,-0.8077955399608683,0.020349776551948393,0.26852357437855,-0.4637599579296412,-0.276540675266164,-0.2372448660671399,-0.4236639816171444,-0.7628986420486316,-0.3730653369100319,-0.6846289289975677,-0.6313609075988555,-0.8813164203699904,-0.5362795724014695,-0.4398107905208828,-1.0137658921650403,-0.866685504931555,-0.963860021370426,-0.026552605653418236,-1.1749393144478573,1.6804154790607917,-0.9935139808671016,-1.1264855773144473,-1.29078194725323,-0.3509114013435111,-0.5375039227465704,-1.2305963674566391,-0.5460667284606419,-0.20062636633874825,0.3745514894636176,-0.11558854752233108,8.228344318939369,1.1422061933029481,2.514312630437057,1.012849539293944,0.33468786715751675,1.0393696392449774,0.28507920149463667,2.2917012423679446,2.5839149272804276,-0.6031559036557848,-0.5311981019705565,0.6514448201232141,1.5162073397559033,-0.8042173878242408,0.020807062960938826,0.2526140712770515,-0.4635446985212163,-0.27404007401018227,-0.24312591443891848,-0.43744346467671086,-0.7643873163214113,-0.3273175905842422,-0.6931988172936736,-0.6371131386259347,-0.8751777692343472,-0.5009466759585731,-0.43322917353637785,-1.013490559089822,-0.8694372142119329,-0.9362419229186647,-0.028207008359988767,-1.173400120646502,1.6243942250953383,-0.960521323540334,-1.1195080256153032,-1.2902364670485384,-0.3404654903626372,-0.4212380881912443,-1.1617510386380858,-0.613729096746354,-0.3016633789716214,0.43451581621393165,-0.25808419736760063,8.100050753522682,1.1227968552016014,2.632049007974328,1.0106282716745099,0.41795487453031255,1.051366393504021,0.38973496178238176,2.2354957132935773,2.7166172744631756,-0.6022567560310284,-0.5393933293598684,0.6408461543060172,1.602846443538066,-0.7991349394296057,0.018812762623584254,0.2556958255246755,-0.4552337832026,-0.28100502095643454,-0.24298346717161987,-0.4639601451387374,-0.7679547919155189,-0.2947713700664677,-0.7009194175246188,-0.6363719027150707,-0.8843913470358715,-0.5395189112461666,-0.4067693170523853,-1.012206808493284,-0.8626984223275074,-0.9449798615507584,-0.009324619018366726,-1.153713860638351,1.841123981280556,-0.947272342810091,-1.1353942140954147,-1.2863602591222218,-0.3628643200812743,-0.4334712159569132,-1.114040802124371,-0.5689587266126266,-0.38503969124476395,0.4212860595026916,-0.24663796752392012,8.193483308041552,1.1369624002268395,2.5784133230623256,1.094280067947712,0.6814684535216967,1.0420126824237985,0.42874504181276857,2.2079333597621513,2.8254336155779303],\"xaxis\":\"x\",\"y\":[-0.26943735129682844,0.6128617709513402,-0.2867893679110059,-0.1842973990177477,0.6453735281028645,-2.183388816843312,0.6431638544893536,0.16209515496934865,-0.7788793273019166,0.1713281994703365,0.7226675419502668,0.4786294679606315,-0.29887191339944985,0.18549272407294576,-0.9153423663743615,0.6685829361996259,1.1503974514019821,1.0459384089281898,0.5935216567185527,0.0936470716532608,0.40177918985896927,0.3991080102143349,0.4030979562522761,0.9158409646476146,0.7375857724830182,0.15415770834125533,1.0009778494093549,0.2584935376122796,0.1427549973810735,0.714647059658099,-0.06480643422735752,-0.056138688152962406,-0.20302278443652644,0.402036501973048,2.395511868005289,0.4760808972195695,-1.7218430014564219,-2.0359814729233214,0.5990853454569891,-1.4627341149397035,0.8580022702416148,-2.7454846929536747,-1.324886302414659,-0.2539380500876714,0.6447832266793725,-0.2629867642647812,-0.1899434627710797,0.6387239045076344,-1.9298153047999431,0.0978513013224719,-0.3025587056573165,-0.9163315823987026,-0.20962460434132113,0.7462934294168565,0.5119191654329897,-0.24686580818343798,0.40592451049182343,-0.783142706157753,0.4990533471060233,1.2085582933791892,0.8069693778823639,0.3663378582896149,0.1903376843152427,0.42718500696511885,0.28826738949621517,0.44222599547003305,0.6522214712663967,0.7888199298136263,0.25337435476706405,0.74688591204684,0.20954182060409404,0.38817507602053786,0.7569933417965138,0.20007735480933678,-0.15887010293242848,-0.020432645161172443,0.4248326204052738,3.4496669052982885,0.4468347870517903,-3.439054477365432,-1.8495783269890844,0.6368014999586894,-2.669688838086456,0.784389731240346,-2.910650118565741,-1.4778879438101251,-0.3476971136320854,0.6507522784027606,-0.4204073081440983,-0.33265016041652434,0.6243618461602337,-1.7048342034561332,0.2986849022976628,-0.28477092613944915,-0.8920656043010681,-0.18369151157437322,0.9612243431751437,0.5438810438645003,-0.11765890365116137,0.24949394140962708,-0.6958662469179812,0.5440245019685557,1.3425911200895158,1.7275523221301536,0.18481554245391116,0.20079705723397953,0.44652467023639547,0.15001992671070702,0.3931073210910301,0.37242396093101293,0.8518445632276057,0.5850949117168274,0.5594000971785013,0.29717277539472314,0.1820013975903151,0.761040679595785,0.5409866832519054,0.30089035928931107,-0.3814215320136835,0.40604137064014423,3.6396245197958974,0.4675592770474952,-3.78631339035895,-2.2844109876791023,-0.052316127566694216,-2.6425527038240837,0.7583985724890098,-2.862906651656632,-1.5302668539927375,-0.3787094852606917,0.6452269278557881,-0.4166219276536972,-0.1804341690416769,0.6245425774349487,-1.7034095892009324,0.31425735955794454,-0.2854598641605245,-0.9017144350611884,-0.18055359200753374,0.8857954347529174,0.5538345589759418,-0.10074034845123879,0.3079363121376019,-0.6775828628333763,0.543650179131135,1.3578037669727643,1.8987484682814046,0.20871296746658194,0.18950634548672196,0.46868508418052574,0.10059487070202965,0.39403029285879115,0.29443677438421917,0.8545135449975142,0.5820002916018244,0.5595611541277165,0.1868152292343781,0.12064222350502604,0.764414923832466,0.35342303978938666,0.1243592194440198,-0.3905782425236685,0.40232371048159166,3.8728835970882116,0.5542493797872252,-3.646740279524245,-2.496470093500423,-0.024641477872853135,-2.5579123568232656,0.7591559976653296,-2.813265985099305,-1.4768481077047926,-0.35029351614875764,0.6400410147386563,-0.44228455958959967,-0.19942384162354862,0.6244631815081768,-1.6997907831285526,0.27273857765656584,-0.2987770471752921,-0.8989201294483733,-0.15947331828718486,0.8681267376319595,0.551824140614148,-0.09320821593506422,0.07643515959827644,-0.6886437394163855,0.5373493742785281,1.3792265047241645,2.322307677035295,0.20591333423061184,0.19050356130322996,0.47987051308196377,0.1294520643657744,0.63144918525984,0.2513350240629241,0.8723678651776642,0.5883101783367356,0.35314470553206945,0.22669323432101632,0.12505329413614755,0.7719122322714663,0.10842745354908159,-0.046282984373719825,-0.41244226583550336,0.4030934582722383,4.144684405467476,0.5715904542712571,-3.6088186451129776,-2.4366841991489827,-0.03871685946067644,-2.546050880639673,0.7505970889507045,-2.8151925221230947,-1.8101138005551864,-0.354023523127153,0.6434755217070424,-0.4131915944310486,-0.1053765669676025,0.6222260681472507,-1.702579338041442,0.29346808749447045,-0.2842046598447602,-0.8684887031813413,-0.1964908745991791,0.8450742606369038,0.5497906742970243,-0.11396002866322968,0.08695691074638653,-0.6654610096421218,0.5578911708531383,1.409548176179955,1.9203810173137927,0.20742746051857797,0.20213653861218622,0.476442340613276,0.10406009353362064,0.6194556495024908,0.379765901468518,0.8875218281048444,0.5849467655249289,0.3532135078113453,0.03979430113956924,0.3656917854073798,0.7812477106220637,0.10232513140245166,-0.018783234531550935,-0.40402238031190896,0.4034948782409407,4.371089486822744,0.7316056007105175,-3.488517851363444,-2.4395109941031827,-0.05578473708697284,-2.5238793878755588,0.7574141822732107,-2.9379692510946596,-1.7669328170867524,-0.34520460986033746,0.6413366580473622,-0.3960817694082347,-0.06834774214577952,0.6271528232829477,-1.7033207088619118,0.2936259171576816,-0.2857988806803201,-0.9003706369833283,-0.14752655448732352,0.8394057276117446,0.5486046778060972,-0.1385905944844728,0.09045109715166008,-0.6705256561464827,0.5537167966850397,1.388488421295281,2.135393473865949,0.23046644044096332,0.20831198633164724,0.49332019192016485,0.33279938992052105,0.6252176345392048,0.47129620795427646,0.911442380054923,0.5893162354136817,0.3483621491577628,0.23339205525447146,0.3716577213407289,0.8213815828178506,0.13745234810658935,0.017593508749967148,-0.38946212553791826,-0.05832684918868779,4.595411853697286,0.8211090147084209,-3.452738709621848,-2.423489550751183,-0.043882455135465376,-2.5322370928143862,0.4552763191004485,-2.957251306945153,-1.6396951198636844,-0.328265400983214,0.6468600707473376,-0.3507722597872043,-0.6465983944159777,0.6266056720937073,-1.7044260025214315,0.13867003762014493,-0.2870363956366025,-1.2570404272602969,-0.1613245441637958,0.8060842405855312,0.5494680453461791,-0.1356437435234182,0.09475723397892512,-0.6586926026852512,0.5586946190173617,1.4549781139982398,1.9627060040221376,0.2458569491777495,-0.007020436170129248,0.5323927856662314,0.3444640700408246,0.6354714027888476,0.5652218595341879,0.9012170793996361,0.5991114548712931,0.34568790396126237,0.27738697510413196,0.411596755306394,0.8400521069192682,0.06531802205631393,-0.06704780943501816,-0.3565286475669305,-0.045878535488626644,4.65442629947111,0.7749074651507404,-3.512822050957805,-2.425643810407663,-0.07857890057634398,-2.544387341480724,0.5144277286808909,-3.1833467024539477,-1.658771238973965,-0.32287133539107704,0.6522372241142343,-0.31454335554249346,-0.5717157034548705,0.6314299000960054,-1.7059006856059642,0.18251550273853095,-0.2902885271942529,-1.4243125902338354,-0.1785214175820718,0.8171767650423614,0.5566849732572251,-0.15426162724137418,0.08704517274963232,-0.6519493988386382,0.5515621925996449,1.4406955669297044,1.9245432476129882,0.24577663033868288,0.005704790960178592,0.5606790246306119,0.38784138302807203,0.6513420700659992,1.1106287414646163,0.9271085591435004,0.6021124399651092,0.34796482476456475,0.28912583688645505,0.45324469051536975,0.8533597557344349,0.11213697837952193,-0.024547385526951262,-0.3176597760491008,-0.050486055884878867,5.079482687968424,0.8214721995658275,-3.4403397380568816,-2.425807712009772,-0.08586715760576695,-2.7536404024935313,0.5671486413451897,-3.1560304065339744,-1.6136629839629713,-0.3214994768386654,0.6610677863254294,-0.2982850860953387,-0.44462879051454984,0.6286810759798758,-1.7047983935089757,0.1903747056877191,-0.49775759790731744,-1.2415812234149564,-0.14247733877745913,0.8358719565079745,0.5584920866557002,-0.18897892108313888,0.09690408947446237,-0.6355433536645714,0.5659076769817295,1.380232376335658,1.5268323355203104,0.2413719840698187,0.007546286689956614,0.5834848962664961,0.2727087899204002,0.6502098093666119,1.1142295739888992,0.9436336723649027,0.617578245312909,0.3398817888552403,0.32572029341319353,0.4177686146455213,0.8747518953268708,0.29906413611969507,-0.05167442070302277,-0.3172226608557127,-0.03939808706340438,5.146893672618,0.9568129081097644,-3.3626053079530043,-3.0160827882955754,-0.0514058781126859,-2.73689214315552,0.5835455918128902,-3.165487130951155,-1.5200763530167216,-0.27229387692816825,0.6548093991248524,-0.3129258904059419,-0.38767252812952097,0.6325132842940197,-1.70461594715102,0.18255358510269645,-0.4969468220559475,-1.2374207444423648,-0.12138198148600958,0.8173989517803979,0.5703688478927214,-0.17011944954162941,0.09505636404063963,-0.6461016400594829,0.5598740573166399,1.4067906429635955,1.0322504358475342,0.241485214368324,0.0063906465421337075,0.5723126961170766,0.24619443389414528,0.6444784771533141,1.0667491323176452,0.9602923538962892,0.6067624385119584,0.3401376819517866,0.3088016884260656,0.48626547590240937,0.9050351619830965,0.26803405968865596,-0.018102689106391585,-0.22246044346647695,-0.022081468776734055,5.053154821160689,0.9443055346519885,-3.3037096162698734,-3.020035996351437,-0.015202711930939266,-2.7244117790303757,0.6159705656213781,-3.1864158497374926,-1.4405935433369892,-0.2652493769110387,0.6392750138695262,-0.2971914925081519,-0.31490581977392046,0.639104380371062,-1.7047508477503412,0.19007448543841327,-0.4948689314213991,-1.2482025717501324,-0.20031794703051609,0.7893847222083084,0.5615146363821337,-0.15384844873398468,0.09033804198531623,-0.6352642844388194,0.5560382253738272,1.3370958265373403,0.9818993604454218,0.23557182646596336,0.009230738431825565,0.5589179163529339,0.25855065558678286,0.664164480642253,1.1377609475112116,0.96355374914795,0.6180193461525357,0.3345884957016866,0.30426365384061066,0.4702642354282839,0.932006878421099,0.2899970897063259,-0.22683012997512284,-0.2389727554051426,-0.02329862207940523,5.257985681246013,0.9525720589423758,-3.335459189087945,-2.9750953192177585,-0.5371404431370381,-2.7200596292700183,0.6231066493660307,-3.3906457766825056,-1.3667191218024395],\"yaxis\":\"y\",\"type\":\"scatter\"}],                        {\"template\":{\"data\":{\"histogram2dcontour\":[{\"type\":\"histogram2dcontour\",\"colorbar\":{\"outlinewidth\":0,\"ticks\":\"\"},\"colorscale\":[[0.0,\"#0d0887\"],[0.1111111111111111,\"#46039f\"],[0.2222222222222222,\"#7201a8\"],[0.3333333333333333,\"#9c179e\"],[0.4444444444444444,\"#bd3786\"],[0.5555555555555556,\"#d8576b\"],[0.6666666666666666,\"#ed7953\"],[0.7777777777777778,\"#fb9f3a\"],[0.8888888888888888,\"#fdca26\"],[1.0,\"#f0f921\"]]}],\"choropleth\":[{\"type\":\"choropleth\",\"colorbar\":{\"outlinewidth\":0,\"ticks\":\"\"}}],\"histogram2d\":[{\"type\":\"histogram2d\",\"colorbar\":{\"outlinewidth\":0,\"ticks\":\"\"},\"colorscale\":[[0.0,\"#0d0887\"],[0.1111111111111111,\"#46039f\"],[0.2222222222222222,\"#7201a8\"],[0.3333333333333333,\"#9c179e\"],[0.4444444444444444,\"#bd3786\"],[0.5555555555555556,\"#d8576b\"],[0.6666666666666666,\"#ed7953\"],[0.7777777777777778,\"#fb9f3a\"],[0.8888888888888888,\"#fdca26\"],[1.0,\"#f0f921\"]]}],\"heatmap\":[{\"type\":\"heatmap\",\"colorbar\":{\"outlinewidth\":0,\"ticks\":\"\"},\"colorscale\":[[0.0,\"#0d0887\"],[0.1111111111111111,\"#46039f\"],[0.2222222222222222,\"#7201a8\"],[0.3333333333333333,\"#9c179e\"],[0.4444444444444444,\"#bd3786\"],[0.5555555555555556,\"#d8576b\"],[0.6666666666666666,\"#ed7953\"],[0.7777777777777778,\"#fb9f3a\"],[0.8888888888888888,\"#fdca26\"],[1.0,\"#f0f921\"]]}],\"heatmapgl\":[{\"type\":\"heatmapgl\",\"colorbar\":{\"outlinewidth\":0,\"ticks\":\"\"},\"colorscale\":[[0.0,\"#0d0887\"],[0.1111111111111111,\"#46039f\"],[0.2222222222222222,\"#7201a8\"],[0.3333333333333333,\"#9c179e\"],[0.4444444444444444,\"#bd3786\"],[0.5555555555555556,\"#d8576b\"],[0.6666666666666666,\"#ed7953\"],[0.7777777777777778,\"#fb9f3a\"],[0.8888888888888888,\"#fdca26\"],[1.0,\"#f0f921\"]]}],\"contourcarpet\":[{\"type\":\"contourcarpet\",\"colorbar\":{\"outlinewidth\":0,\"ticks\":\"\"}}],\"contour\":[{\"type\":\"contour\",\"colorbar\":{\"outlinewidth\":0,\"ticks\":\"\"},\"colorscale\":[[0.0,\"#0d0887\"],[0.1111111111111111,\"#46039f\"],[0.2222222222222222,\"#7201a8\"],[0.3333333333333333,\"#9c179e\"],[0.4444444444444444,\"#bd3786\"],[0.5555555555555556,\"#d8576b\"],[0.6666666666666666,\"#ed7953\"],[0.7777777777777778,\"#fb9f3a\"],[0.8888888888888888,\"#fdca26\"],[1.0,\"#f0f921\"]]}],\"surface\":[{\"type\":\"surface\",\"colorbar\":{\"outlinewidth\":0,\"ticks\":\"\"},\"colorscale\":[[0.0,\"#0d0887\"],[0.1111111111111111,\"#46039f\"],[0.2222222222222222,\"#7201a8\"],[0.3333333333333333,\"#9c179e\"],[0.4444444444444444,\"#bd3786\"],[0.5555555555555556,\"#d8576b\"],[0.6666666666666666,\"#ed7953\"],[0.7777777777777778,\"#fb9f3a\"],[0.8888888888888888,\"#fdca26\"],[1.0,\"#f0f921\"]]}],\"mesh3d\":[{\"type\":\"mesh3d\",\"colorbar\":{\"outlinewidth\":0,\"ticks\":\"\"}}],\"scatter\":[{\"fillpattern\":{\"fillmode\":\"overlay\",\"size\":10,\"solidity\":0.2},\"type\":\"scatter\"}],\"parcoords\":[{\"type\":\"parcoords\",\"line\":{\"colorbar\":{\"outlinewidth\":0,\"ticks\":\"\"}}}],\"scatterpolargl\":[{\"type\":\"scatterpolargl\",\"marker\":{\"colorbar\":{\"outlinewidth\":0,\"ticks\":\"\"}}}],\"bar\":[{\"error_x\":{\"color\":\"#2a3f5f\"},\"error_y\":{\"color\":\"#2a3f5f\"},\"marker\":{\"line\":{\"color\":\"#E5ECF6\",\"width\":0.5},\"pattern\":{\"fillmode\":\"overlay\",\"size\":10,\"solidity\":0.2}},\"type\":\"bar\"}],\"scattergeo\":[{\"type\":\"scattergeo\",\"marker\":{\"colorbar\":{\"outlinewidth\":0,\"ticks\":\"\"}}}],\"scatterpolar\":[{\"type\":\"scatterpolar\",\"marker\":{\"colorbar\":{\"outlinewidth\":0,\"ticks\":\"\"}}}],\"histogram\":[{\"marker\":{\"pattern\":{\"fillmode\":\"overlay\",\"size\":10,\"solidity\":0.2}},\"type\":\"histogram\"}],\"scattergl\":[{\"type\":\"scattergl\",\"marker\":{\"colorbar\":{\"outlinewidth\":0,\"ticks\":\"\"}}}],\"scatter3d\":[{\"type\":\"scatter3d\",\"line\":{\"colorbar\":{\"outlinewidth\":0,\"ticks\":\"\"}},\"marker\":{\"colorbar\":{\"outlinewidth\":0,\"ticks\":\"\"}}}],\"scattermapbox\":[{\"type\":\"scattermapbox\",\"marker\":{\"colorbar\":{\"outlinewidth\":0,\"ticks\":\"\"}}}],\"scatterternary\":[{\"type\":\"scatterternary\",\"marker\":{\"colorbar\":{\"outlinewidth\":0,\"ticks\":\"\"}}}],\"scattercarpet\":[{\"type\":\"scattercarpet\",\"marker\":{\"colorbar\":{\"outlinewidth\":0,\"ticks\":\"\"}}}],\"carpet\":[{\"aaxis\":{\"endlinecolor\":\"#2a3f5f\",\"gridcolor\":\"white\",\"linecolor\":\"white\",\"minorgridcolor\":\"white\",\"startlinecolor\":\"#2a3f5f\"},\"baxis\":{\"endlinecolor\":\"#2a3f5f\",\"gridcolor\":\"white\",\"linecolor\":\"white\",\"minorgridcolor\":\"white\",\"startlinecolor\":\"#2a3f5f\"},\"type\":\"carpet\"}],\"table\":[{\"cells\":{\"fill\":{\"color\":\"#EBF0F8\"},\"line\":{\"color\":\"white\"}},\"header\":{\"fill\":{\"color\":\"#C8D4E3\"},\"line\":{\"color\":\"white\"}},\"type\":\"table\"}],\"barpolar\":[{\"marker\":{\"line\":{\"color\":\"#E5ECF6\",\"width\":0.5},\"pattern\":{\"fillmode\":\"overlay\",\"size\":10,\"solidity\":0.2}},\"type\":\"barpolar\"}],\"pie\":[{\"automargin\":true,\"type\":\"pie\"}]},\"layout\":{\"autotypenumbers\":\"strict\",\"colorway\":[\"#636efa\",\"#EF553B\",\"#00cc96\",\"#ab63fa\",\"#FFA15A\",\"#19d3f3\",\"#FF6692\",\"#B6E880\",\"#FF97FF\",\"#FECB52\"],\"font\":{\"color\":\"#2a3f5f\"},\"hovermode\":\"closest\",\"hoverlabel\":{\"align\":\"left\"},\"paper_bgcolor\":\"white\",\"plot_bgcolor\":\"#E5ECF6\",\"polar\":{\"bgcolor\":\"#E5ECF6\",\"angularaxis\":{\"gridcolor\":\"white\",\"linecolor\":\"white\",\"ticks\":\"\"},\"radialaxis\":{\"gridcolor\":\"white\",\"linecolor\":\"white\",\"ticks\":\"\"}},\"ternary\":{\"bgcolor\":\"#E5ECF6\",\"aaxis\":{\"gridcolor\":\"white\",\"linecolor\":\"white\",\"ticks\":\"\"},\"baxis\":{\"gridcolor\":\"white\",\"linecolor\":\"white\",\"ticks\":\"\"},\"caxis\":{\"gridcolor\":\"white\",\"linecolor\":\"white\",\"ticks\":\"\"}},\"coloraxis\":{\"colorbar\":{\"outlinewidth\":0,\"ticks\":\"\"}},\"colorscale\":{\"sequential\":[[0.0,\"#0d0887\"],[0.1111111111111111,\"#46039f\"],[0.2222222222222222,\"#7201a8\"],[0.3333333333333333,\"#9c179e\"],[0.4444444444444444,\"#bd3786\"],[0.5555555555555556,\"#d8576b\"],[0.6666666666666666,\"#ed7953\"],[0.7777777777777778,\"#fb9f3a\"],[0.8888888888888888,\"#fdca26\"],[1.0,\"#f0f921\"]],\"sequentialminus\":[[0.0,\"#0d0887\"],[0.1111111111111111,\"#46039f\"],[0.2222222222222222,\"#7201a8\"],[0.3333333333333333,\"#9c179e\"],[0.4444444444444444,\"#bd3786\"],[0.5555555555555556,\"#d8576b\"],[0.6666666666666666,\"#ed7953\"],[0.7777777777777778,\"#fb9f3a\"],[0.8888888888888888,\"#fdca26\"],[1.0,\"#f0f921\"]],\"diverging\":[[0,\"#8e0152\"],[0.1,\"#c51b7d\"],[0.2,\"#de77ae\"],[0.3,\"#f1b6da\"],[0.4,\"#fde0ef\"],[0.5,\"#f7f7f7\"],[0.6,\"#e6f5d0\"],[0.7,\"#b8e186\"],[0.8,\"#7fbc41\"],[0.9,\"#4d9221\"],[1,\"#276419\"]]},\"xaxis\":{\"gridcolor\":\"white\",\"linecolor\":\"white\",\"ticks\":\"\",\"title\":{\"standoff\":15},\"zerolinecolor\":\"white\",\"automargin\":true,\"zerolinewidth\":2},\"yaxis\":{\"gridcolor\":\"white\",\"linecolor\":\"white\",\"ticks\":\"\",\"title\":{\"standoff\":15},\"zerolinecolor\":\"white\",\"automargin\":true,\"zerolinewidth\":2},\"scene\":{\"xaxis\":{\"backgroundcolor\":\"#E5ECF6\",\"gridcolor\":\"white\",\"linecolor\":\"white\",\"showbackground\":true,\"ticks\":\"\",\"zerolinecolor\":\"white\",\"gridwidth\":2},\"yaxis\":{\"backgroundcolor\":\"#E5ECF6\",\"gridcolor\":\"white\",\"linecolor\":\"white\",\"showbackground\":true,\"ticks\":\"\",\"zerolinecolor\":\"white\",\"gridwidth\":2},\"zaxis\":{\"backgroundcolor\":\"#E5ECF6\",\"gridcolor\":\"white\",\"linecolor\":\"white\",\"showbackground\":true,\"ticks\":\"\",\"zerolinecolor\":\"white\",\"gridwidth\":2}},\"shapedefaults\":{\"line\":{\"color\":\"#2a3f5f\"}},\"annotationdefaults\":{\"arrowcolor\":\"#2a3f5f\",\"arrowhead\":0,\"arrowwidth\":1},\"geo\":{\"bgcolor\":\"white\",\"landcolor\":\"#E5ECF6\",\"subunitcolor\":\"white\",\"showland\":true,\"showlakes\":true,\"lakecolor\":\"white\"},\"title\":{\"x\":0.05},\"mapbox\":{\"style\":\"light\"}}},\"xaxis\":{\"anchor\":\"y\",\"domain\":[0.0,1.0],\"title\":{\"text\":\"Principal Component 1\"}},\"yaxis\":{\"anchor\":\"x\",\"domain\":[0.0,1.0],\"title\":{\"text\":\"Principal Component 2\"}},\"coloraxis\":{\"colorbar\":{\"title\":{\"text\":\"Cluster Number\"}},\"colorscale\":[[0.0,\"#0d0887\"],[0.1111111111111111,\"#46039f\"],[0.2222222222222222,\"#7201a8\"],[0.3333333333333333,\"#9c179e\"],[0.4444444444444444,\"#bd3786\"],[0.5555555555555556,\"#d8576b\"],[0.6666666666666666,\"#ed7953\"],[0.7777777777777778,\"#fb9f3a\"],[0.8888888888888888,\"#fdca26\"],[1.0,\"#f0f921\"]]},\"legend\":{\"tracegroupgap\":0},\"margin\":{\"t\":60},\"title\":{\"text\":\"K-means Clustering in PCA Space with 7 Clusters\"}},                        {\"responsive\": true}                    ).then(function(){\n",
       "                            \n",
       "var gd = document.getElementById('8ea8c1ef-a30d-404f-b88f-e9212ad20a69');\n",
       "var x = new MutationObserver(function (mutations, observer) {{\n",
       "        var display = window.getComputedStyle(gd).display;\n",
       "        if (!display || display === 'none') {{\n",
       "            console.log([gd, 'removed!']);\n",
       "            Plotly.purge(gd);\n",
       "            observer.disconnect();\n",
       "        }}\n",
       "}});\n",
       "\n",
       "// Listen for the removal of the full notebook cells\n",
       "var notebookContainer = gd.closest('#notebook-container');\n",
       "if (notebookContainer) {{\n",
       "    x.observe(notebookContainer, {childList: true});\n",
       "}}\n",
       "\n",
       "// Listen for the clearing of the current output cell\n",
       "var outputEl = gd.closest('.output');\n",
       "if (outputEl) {{\n",
       "    x.observe(outputEl, {childList: true});\n",
       "}}\n",
       "\n",
       "                        })                };                });            </script>        </div>"
      ]
     },
     "metadata": {},
     "output_type": "display_data"
    }
   ],
   "source": [
    "#| code-fold: true\n",
    "import plotly.express as px\n",
    "from plotly.offline import init_notebook_mode, iplot\n",
    "init_notebook_mode(connected=True)\n",
    "\n",
    "hover_data = data_standardized[['Country']] #This can be a way for readers to see if data in clusters are coming from same country \n",
    "\n",
    "data_standardized['Country'] = data_standardized['Country'].apply(lambda x: f'{x:.3f}')\n",
    "\n",
    "fig = px.scatter(data_standardized, x='PCA1', y='PCA2', color='cluster_number_pca', hover_data=hover_data,\n",
    "                 labels={'cluster_number_pca': 'Cluster Number', 'PCA1': 'Principal Component 1', 'PCA2': 'Principal Component 2'})\n",
    "\n",
    "fig.update_layout(title='K-means Clustering in PCA Space with 7 Clusters', xaxis_title='Principal Component 1', yaxis_title='Principal Component 2')\n",
    "fig.show()\n"
   ]
  },
  {
   "cell_type": "markdown",
   "metadata": {},
   "source": [
    "### Improoving K-Means \n",
    "\n",
    "K-Means clustering can be improoved through hyperparameter tuning. Specifically I will look at inertia and distortion plots to help improve this clustering algorithm. "
   ]
  },
  {
   "cell_type": "markdown",
   "metadata": {},
   "source": [
    "### Inertia and Distortion Table\n",
    "\n",
    "Inertia and distortion can help us find the number of clusters we want to use. **Inertia** measures how well a dataset was clustered by the k-means algorithm. Inertia is calculated by  measuring the distance between each data point and its centroid, squaring this distance, and summing these squares across one cluster. The k-means algorithm tries to minimize distortion. Distoriton is the sum of the squared distances between each observation vector and its dominating centroid.\n",
    "\n",
    "An ideal k-means algorithm has low inertia and distortion."
   ]
  },
  {
   "cell_type": "code",
   "execution_count": 656,
   "metadata": {},
   "outputs": [
    {
     "data": {
      "text/html": [
       "<div>\n",
       "<style scoped>\n",
       "    .dataframe tbody tr th:only-of-type {\n",
       "        vertical-align: middle;\n",
       "    }\n",
       "\n",
       "    .dataframe tbody tr th {\n",
       "        vertical-align: top;\n",
       "    }\n",
       "\n",
       "    .dataframe thead th {\n",
       "        text-align: right;\n",
       "    }\n",
       "</style>\n",
       "<table border=\"1\" class=\"dataframe\">\n",
       "  <thead>\n",
       "    <tr style=\"text-align: right;\">\n",
       "      <th></th>\n",
       "      <th>Cluster</th>\n",
       "      <th>Distortion</th>\n",
       "      <th>Inertia</th>\n",
       "    </tr>\n",
       "  </thead>\n",
       "  <tbody>\n",
       "    <tr>\n",
       "      <th>0</th>\n",
       "      <td>1</td>\n",
       "      <td>3.278359</td>\n",
       "      <td>7428.818752</td>\n",
       "    </tr>\n",
       "    <tr>\n",
       "      <th>1</th>\n",
       "      <td>2</td>\n",
       "      <td>2.574312</td>\n",
       "      <td>5618.145658</td>\n",
       "    </tr>\n",
       "    <tr>\n",
       "      <th>2</th>\n",
       "      <td>3</td>\n",
       "      <td>2.318994</td>\n",
       "      <td>4019.721700</td>\n",
       "    </tr>\n",
       "    <tr>\n",
       "      <th>3</th>\n",
       "      <td>4</td>\n",
       "      <td>1.911911</td>\n",
       "      <td>2670.665313</td>\n",
       "    </tr>\n",
       "    <tr>\n",
       "      <th>4</th>\n",
       "      <td>5</td>\n",
       "      <td>1.714107</td>\n",
       "      <td>2280.490226</td>\n",
       "    </tr>\n",
       "    <tr>\n",
       "      <th>5</th>\n",
       "      <td>6</td>\n",
       "      <td>1.605240</td>\n",
       "      <td>1858.550157</td>\n",
       "    </tr>\n",
       "    <tr>\n",
       "      <th>6</th>\n",
       "      <td>7</td>\n",
       "      <td>1.482697</td>\n",
       "      <td>1471.965095</td>\n",
       "    </tr>\n",
       "    <tr>\n",
       "      <th>7</th>\n",
       "      <td>8</td>\n",
       "      <td>1.369952</td>\n",
       "      <td>1213.225255</td>\n",
       "    </tr>\n",
       "    <tr>\n",
       "      <th>8</th>\n",
       "      <td>9</td>\n",
       "      <td>1.264832</td>\n",
       "      <td>1088.755662</td>\n",
       "    </tr>\n",
       "  </tbody>\n",
       "</table>\n",
       "</div>"
      ],
      "text/plain": [
       "   Cluster  Distortion      Inertia\n",
       "0        1    3.278359  7428.818752\n",
       "1        2    2.574312  5618.145658\n",
       "2        3    2.318994  4019.721700\n",
       "3        4    1.911911  2670.665313\n",
       "4        5    1.714107  2280.490226\n",
       "5        6    1.605240  1858.550157\n",
       "6        7    1.482697  1471.965095\n",
       "7        8    1.369952  1213.225255\n",
       "8        9    1.264832  1088.755662"
      ]
     },
     "execution_count": 656,
     "metadata": {},
     "output_type": "execute_result"
    }
   ],
   "source": [
    "#| code-fold: true\n",
    "# This code find the inertia and distorition for the number of clusters ranging 1 -10\n",
    "num_clusters_list = []\n",
    "inertia_list = []\n",
    "distortion_list = []\n",
    "\n",
    "for num_clusters in range(1, 10):\n",
    "    kmeans = KMeans(n_clusters=num_clusters, random_state=0, n_init=10)\n",
    "    kmeans.fit(data_standardized)\n",
    "    inertia = kmeans.inertia_\n",
    "    num_clusters_list.append(num_clusters)\n",
    "    inertia_list.append(inertia)\n",
    "\n",
    "    distortion = sum(np.min(kmeans.transform(data_standardized), axis=1)) / data_standardized.shape[0]\n",
    "    distortion_list.append(distortion)\n",
    "\n",
    "result_df = pd.DataFrame({'Cluster': num_clusters_list,'Distortion': distortion_list, 'Inertia': inertia_list})\n",
    "result_df"
   ]
  },
  {
   "cell_type": "markdown",
   "metadata": {},
   "source": [
    "### Elbow Plots\n",
    "\n",
    "Within this section you will see two plots. The plot on the left shows how the distortion changes when the clusters increase and the plot on the right shows how the inertia changes when clusters increase. Elbow plots help us figure out how many clusters we should be using. "
   ]
  },
  {
   "cell_type": "code",
   "execution_count": 657,
   "metadata": {},
   "outputs": [
    {
     "data": {
      "image/png": "[encoded data removed]",
      "text/plain": [
       "<Figure size 1200x400 with 2 Axes>"
      ]
     },
     "metadata": {},
     "output_type": "display_data"
    }
   ],
   "source": [
    "#| code-fold: true\n",
    "fig, ax = plt.subplots(1, 2, figsize=(12, 4))\n",
    "\n",
    "# Plot for Distortion\n",
    "ax[0].plot(result_df['Cluster'], result_df['Distortion'], marker='o', color='#A9DFBF')\n",
    "ax[0].set_title('Distortion vs. Number of Clusters')\n",
    "ax[0].set_xlabel('Number of Clusters')\n",
    "ax[0].set_ylabel('Distortion')\n",
    "\n",
    "# Plot for Inertia\n",
    "ax[1].plot(result_df['Cluster'], result_df['Inertia'], marker='o', color='skyblue')\n",
    "ax[1].set_title('Inertia vs. Number of Clusters')\n",
    "ax[1].set_xlabel('Number of Clusters')\n",
    "ax[1].set_ylabel('Inertia')\n",
    "plt.tight_layout()"
   ]
  },
  {
   "cell_type": "markdown",
   "metadata": {},
   "source": [
    "As you can see from the plots above the distortion and inertia is very high when the number of clusters are low. In order to find the optimal number of clusters we must look for the elbow. The elbow appears to be at 3 for distortion and 4 for inertia. Knowing this, I will perform k-means again, although this time I will use 3 clusters. "
   ]
  },
  {
   "cell_type": "markdown",
   "metadata": {},
   "source": [
    "### K-Means - 2\n",
    "\n",
    "I am now going to repeat k-means but when three clusters. This is because I have found the optimal number of clusters above using elbow plots. The table below illustrates how k-means has assigned each row with a cluster number under (cluster_number)."
   ]
  },
  {
   "cell_type": "markdown",
   "metadata": {},
   "source": [
    "### Scatter Plot"
   ]
  },
  {
   "cell_type": "code",
   "execution_count": 658,
   "metadata": {},
   "outputs": [
    {
     "data": {
      "text/html": [
       "<div>\n",
       "<style scoped>\n",
       "    .dataframe tbody tr th:only-of-type {\n",
       "        vertical-align: middle;\n",
       "    }\n",
       "\n",
       "    .dataframe tbody tr th {\n",
       "        vertical-align: top;\n",
       "    }\n",
       "\n",
       "    .dataframe thead th {\n",
       "        text-align: right;\n",
       "    }\n",
       "</style>\n",
       "<table border=\"1\" class=\"dataframe\">\n",
       "  <thead>\n",
       "    <tr style=\"text-align: right;\">\n",
       "      <th></th>\n",
       "      <th>Aqua Production (Millions)</th>\n",
       "      <th>Marine Protected Area (sqkm)</th>\n",
       "      <th>Inventions (number)</th>\n",
       "      <th>Instruments (number)</th>\n",
       "      <th>Fishing Exports (Millions)</th>\n",
       "      <th>Value</th>\n",
       "      <th>Country</th>\n",
       "      <th>PCA1</th>\n",
       "      <th>PCA2</th>\n",
       "      <th>cluster_number_pca</th>\n",
       "    </tr>\n",
       "  </thead>\n",
       "  <tbody>\n",
       "    <tr>\n",
       "      <th>511</th>\n",
       "      <td>-0.358976</td>\n",
       "      <td>-0.218847</td>\n",
       "      <td>-0.326903</td>\n",
       "      <td>-0.616921</td>\n",
       "      <td>0.228323</td>\n",
       "      <td>0.828407</td>\n",
       "      <td>-1.209</td>\n",
       "      <td>0.681468</td>\n",
       "      <td>-0.537140</td>\n",
       "      <td>0</td>\n",
       "    </tr>\n",
       "    <tr>\n",
       "      <th>512</th>\n",
       "      <td>-0.281627</td>\n",
       "      <td>-0.028119</td>\n",
       "      <td>-0.278457</td>\n",
       "      <td>1.866162</td>\n",
       "      <td>-0.505692</td>\n",
       "      <td>1.956863</td>\n",
       "      <td>-1.128</td>\n",
       "      <td>1.042013</td>\n",
       "      <td>-2.720060</td>\n",
       "      <td>1</td>\n",
       "    </tr>\n",
       "    <tr>\n",
       "      <th>513</th>\n",
       "      <td>0.096134</td>\n",
       "      <td>-0.211732</td>\n",
       "      <td>0.098324</td>\n",
       "      <td>-0.865229</td>\n",
       "      <td>0.653408</td>\n",
       "      <td>-0.412848</td>\n",
       "      <td>-1.048</td>\n",
       "      <td>0.428745</td>\n",
       "      <td>0.623107</td>\n",
       "      <td>0</td>\n",
       "    </tr>\n",
       "    <tr>\n",
       "      <th>514</th>\n",
       "      <td>-0.332200</td>\n",
       "      <td>-0.017895</td>\n",
       "      <td>-0.326903</td>\n",
       "      <td>2.114471</td>\n",
       "      <td>0.723741</td>\n",
       "      <td>3.356415</td>\n",
       "      <td>-0.967</td>\n",
       "      <td>2.207933</td>\n",
       "      <td>-3.390646</td>\n",
       "      <td>1</td>\n",
       "    </tr>\n",
       "    <tr>\n",
       "      <th>515</th>\n",
       "      <td>-0.360655</td>\n",
       "      <td>0.834997</td>\n",
       "      <td>-0.333362</td>\n",
       "      <td>-0.120304</td>\n",
       "      <td>1.695861</td>\n",
       "      <td>3.040295</td>\n",
       "      <td>-0.886</td>\n",
       "      <td>2.825434</td>\n",
       "      <td>-1.366719</td>\n",
       "      <td>1</td>\n",
       "    </tr>\n",
       "  </tbody>\n",
       "</table>\n",
       "</div>"
      ],
      "text/plain": [
       "     Aqua Production (Millions)  Marine Protected Area (sqkm)  \\\n",
       "511                   -0.358976                     -0.218847   \n",
       "512                   -0.281627                     -0.028119   \n",
       "513                    0.096134                     -0.211732   \n",
       "514                   -0.332200                     -0.017895   \n",
       "515                   -0.360655                      0.834997   \n",
       "\n",
       "     Inventions (number)  Instruments (number)  Fishing Exports (Millions)  \\\n",
       "511            -0.326903             -0.616921                    0.228323   \n",
       "512            -0.278457              1.866162                   -0.505692   \n",
       "513             0.098324             -0.865229                    0.653408   \n",
       "514            -0.326903              2.114471                    0.723741   \n",
       "515            -0.333362             -0.120304                    1.695861   \n",
       "\n",
       "        Value Country      PCA1      PCA2  cluster_number_pca  \n",
       "511  0.828407  -1.209  0.681468 -0.537140                   0  \n",
       "512  1.956863  -1.128  1.042013 -2.720060                   1  \n",
       "513 -0.412848  -1.048  0.428745  0.623107                   0  \n",
       "514  3.356415  -0.967  2.207933 -3.390646                   1  \n",
       "515  3.040295  -0.886  2.825434 -1.366719                   1  "
      ]
     },
     "execution_count": 658,
     "metadata": {},
     "output_type": "execute_result"
    }
   ],
   "source": [
    "#| code-fold: true\n",
    "pca = PCA(n_components=2)\n",
    "data_standardized['PCA1'] = reduced_data[:, 0]\n",
    "data_standardized['PCA2'] = reduced_data[:, 1]\n",
    "\n",
    "kmeans_pca = KMeans(n_clusters=3, random_state=42, n_init=10)\n",
    "kmeans_pca.fit(reduced_data)\n",
    "data_standardized['cluster_number_pca'] = kmeans_pca.labels_\n",
    "data_standardized.tail(5)\n"
   ]
  },
  {
   "cell_type": "code",
   "execution_count": 659,
   "metadata": {},
   "outputs": [
    {
     "data": {
      "application/vnd.plotly.v1+json": {
       "config": {
        "plotlyServerURL": "https://plot.ly"
       },
       "data": [
        {
         "customdata": [
          [
           "-0.806"
          ],
          [
           "-0.725"
          ],
          [
           "-0.645"
          ],
          [
           "-0.564"
          ],
          [
           "-0.483"
          ],
          [
           "-0.403"
          ],
          [
           "-0.322"
          ],
          [
           "-0.242"
          ],
          [
           "-0.161"
          ],
          [
           "-0.081"
          ],
          [
           "0.000"
          ],
          [
           "0.081"
          ],
          [
           "0.161"
          ],
          [
           "0.242"
          ],
          [
           "0.322"
          ],
          [
           "0.403"
          ],
          [
           "0.483"
          ],
          [
           "0.564"
          ],
          [
           "0.645"
          ],
          [
           "0.725"
          ],
          [
           "0.806"
          ],
          [
           "0.886"
          ],
          [
           "0.967"
          ],
          [
           "1.048"
          ],
          [
           "1.128"
          ],
          [
           "1.209"
          ],
          [
           "1.289"
          ],
          [
           "1.370"
          ],
          [
           "1.450"
          ],
          [
           "1.531"
          ],
          [
           "1.612"
          ],
          [
           "1.692"
          ],
          [
           "-1.692"
          ],
          [
           "-1.612"
          ],
          [
           "-1.531"
          ],
          [
           "-1.450"
          ],
          [
           "-1.370"
          ],
          [
           "-1.289"
          ],
          [
           "-1.209"
          ],
          [
           "-1.128"
          ],
          [
           "-1.048"
          ],
          [
           "-0.967"
          ],
          [
           "-0.886"
          ],
          [
           "-0.806"
          ],
          [
           "-0.725"
          ],
          [
           "-0.645"
          ],
          [
           "-0.564"
          ],
          [
           "-0.483"
          ],
          [
           "-0.403"
          ],
          [
           "-0.322"
          ],
          [
           "-0.242"
          ],
          [
           "-0.161"
          ],
          [
           "-0.081"
          ],
          [
           "0.000"
          ],
          [
           "0.081"
          ],
          [
           "0.161"
          ],
          [
           "0.242"
          ],
          [
           "0.322"
          ],
          [
           "0.403"
          ],
          [
           "0.483"
          ],
          [
           "0.564"
          ],
          [
           "0.645"
          ],
          [
           "0.725"
          ],
          [
           "0.806"
          ],
          [
           "0.886"
          ],
          [
           "0.967"
          ],
          [
           "1.048"
          ],
          [
           "1.128"
          ],
          [
           "1.209"
          ],
          [
           "1.289"
          ],
          [
           "1.370"
          ],
          [
           "1.450"
          ],
          [
           "1.531"
          ],
          [
           "1.612"
          ],
          [
           "1.692"
          ],
          [
           "-1.692"
          ],
          [
           "-1.612"
          ],
          [
           "-1.531"
          ],
          [
           "-1.450"
          ],
          [
           "-1.370"
          ],
          [
           "-1.289"
          ],
          [
           "-1.209"
          ],
          [
           "-1.128"
          ],
          [
           "-1.048"
          ],
          [
           "-0.967"
          ],
          [
           "-0.886"
          ],
          [
           "-0.806"
          ],
          [
           "-0.725"
          ],
          [
           "-0.645"
          ],
          [
           "-0.564"
          ],
          [
           "-0.483"
          ],
          [
           "-0.403"
          ],
          [
           "-0.322"
          ],
          [
           "-0.242"
          ],
          [
           "-0.161"
          ],
          [
           "-0.081"
          ],
          [
           "0.000"
          ],
          [
           "0.081"
          ],
          [
           "0.161"
          ],
          [
           "0.242"
          ],
          [
           "0.322"
          ],
          [
           "0.403"
          ],
          [
           "0.483"
          ],
          [
           "0.564"
          ],
          [
           "0.645"
          ],
          [
           "0.725"
          ],
          [
           "0.806"
          ],
          [
           "0.886"
          ],
          [
           "0.967"
          ],
          [
           "1.048"
          ],
          [
           "1.128"
          ],
          [
           "1.209"
          ],
          [
           "1.289"
          ],
          [
           "1.370"
          ],
          [
           "1.450"
          ],
          [
           "1.531"
          ],
          [
           "1.612"
          ],
          [
           "1.692"
          ],
          [
           "-1.692"
          ],
          [
           "-1.612"
          ],
          [
           "-1.531"
          ],
          [
           "-1.450"
          ],
          [
           "-1.370"
          ],
          [
           "-1.289"
          ],
          [
           "-1.209"
          ],
          [
           "-1.128"
          ],
          [
           "-1.048"
          ],
          [
           "-0.967"
          ],
          [
           "-0.886"
          ],
          [
           "-0.806"
          ],
          [
           "-0.725"
          ],
          [
           "-0.645"
          ],
          [
           "-0.564"
          ],
          [
           "-0.483"
          ],
          [
           "-0.403"
          ],
          [
           "-0.322"
          ],
          [
           "-0.242"
          ],
          [
           "-0.161"
          ],
          [
           "-0.081"
          ],
          [
           "0.000"
          ],
          [
           "0.081"
          ],
          [
           "0.161"
          ],
          [
           "0.242"
          ],
          [
           "0.322"
          ],
          [
           "0.403"
          ],
          [
           "0.483"
          ],
          [
           "0.564"
          ],
          [
           "0.645"
          ],
          [
           "0.725"
          ],
          [
           "0.806"
          ],
          [
           "0.886"
          ],
          [
           "0.967"
          ],
          [
           "1.048"
          ],
          [
           "1.128"
          ],
          [
           "1.209"
          ],
          [
           "1.289"
          ],
          [
           "1.370"
          ],
          [
           "1.450"
          ],
          [
           "1.531"
          ],
          [
           "1.612"
          ],
          [
           "1.692"
          ],
          [
           "-1.692"
          ],
          [
           "-1.612"
          ],
          [
           "-1.531"
          ],
          [
           "-1.450"
          ],
          [
           "-1.370"
          ],
          [
           "-1.289"
          ],
          [
           "-1.209"
          ],
          [
           "-1.128"
          ],
          [
           "-1.048"
          ],
          [
           "-0.967"
          ],
          [
           "-0.886"
          ],
          [
           "-0.806"
          ],
          [
           "-0.725"
          ],
          [
           "-0.645"
          ],
          [
           "-0.564"
          ],
          [
           "-0.483"
          ],
          [
           "-0.403"
          ],
          [
           "-0.322"
          ],
          [
           "-0.242"
          ],
          [
           "-0.161"
          ],
          [
           "-0.081"
          ],
          [
           "0.000"
          ],
          [
           "0.081"
          ],
          [
           "0.161"
          ],
          [
           "0.242"
          ],
          [
           "0.322"
          ],
          [
           "0.403"
          ],
          [
           "0.483"
          ],
          [
           "0.564"
          ],
          [
           "0.645"
          ],
          [
           "0.725"
          ],
          [
           "0.806"
          ],
          [
           "0.886"
          ],
          [
           "0.967"
          ],
          [
           "1.048"
          ],
          [
           "1.128"
          ],
          [
           "1.209"
          ],
          [
           "1.289"
          ],
          [
           "1.370"
          ],
          [
           "1.450"
          ],
          [
           "1.531"
          ],
          [
           "1.612"
          ],
          [
           "1.692"
          ],
          [
           "-1.692"
          ],
          [
           "-1.612"
          ],
          [
           "-1.531"
          ],
          [
           "-1.450"
          ],
          [
           "-1.370"
          ],
          [
           "-1.289"
          ],
          [
           "-1.209"
          ],
          [
           "-1.128"
          ],
          [
           "-1.048"
          ],
          [
           "-0.967"
          ],
          [
           "-0.886"
          ],
          [
           "-0.806"
          ],
          [
           "-0.725"
          ],
          [
           "-0.645"
          ],
          [
           "-0.564"
          ],
          [
           "-0.483"
          ],
          [
           "-0.403"
          ],
          [
           "-0.322"
          ],
          [
           "-0.242"
          ],
          [
           "-0.161"
          ],
          [
           "-0.081"
          ],
          [
           "0.000"
          ],
          [
           "0.081"
          ],
          [
           "0.161"
          ],
          [
           "0.242"
          ],
          [
           "0.322"
          ],
          [
           "0.403"
          ],
          [
           "0.483"
          ],
          [
           "0.564"
          ],
          [
           "0.645"
          ],
          [
           "0.725"
          ],
          [
           "0.806"
          ],
          [
           "0.886"
          ],
          [
           "0.967"
          ],
          [
           "1.048"
          ],
          [
           "1.128"
          ],
          [
           "1.209"
          ],
          [
           "1.289"
          ],
          [
           "1.370"
          ],
          [
           "1.450"
          ],
          [
           "1.531"
          ],
          [
           "1.612"
          ],
          [
           "1.692"
          ],
          [
           "-1.692"
          ],
          [
           "-1.612"
          ],
          [
           "-1.531"
          ],
          [
           "-1.450"
          ],
          [
           "-1.370"
          ],
          [
           "-1.289"
          ],
          [
           "-1.209"
          ],
          [
           "-1.128"
          ],
          [
           "-1.048"
          ],
          [
           "-0.967"
          ],
          [
           "-0.886"
          ],
          [
           "-0.806"
          ],
          [
           "-0.725"
          ],
          [
           "-0.645"
          ],
          [
           "-0.564"
          ],
          [
           "-0.483"
          ],
          [
           "-0.403"
          ],
          [
           "-0.322"
          ],
          [
           "-0.242"
          ],
          [
           "-0.161"
          ],
          [
           "-0.081"
          ],
          [
           "0.000"
          ],
          [
           "0.081"
          ],
          [
           "0.161"
          ],
          [
           "0.242"
          ],
          [
           "0.322"
          ],
          [
           "0.403"
          ],
          [
           "0.483"
          ],
          [
           "0.564"
          ],
          [
           "0.645"
          ],
          [
           "0.725"
          ],
          [
           "0.806"
          ],
          [
           "0.886"
          ],
          [
           "0.967"
          ],
          [
           "1.048"
          ],
          [
           "1.128"
          ],
          [
           "1.209"
          ],
          [
           "1.289"
          ],
          [
           "1.370"
          ],
          [
           "1.450"
          ],
          [
           "1.531"
          ],
          [
           "1.612"
          ],
          [
           "1.692"
          ],
          [
           "-1.692"
          ],
          [
           "-1.612"
          ],
          [
           "-1.531"
          ],
          [
           "-1.450"
          ],
          [
           "-1.370"
          ],
          [
           "-1.289"
          ],
          [
           "-1.209"
          ],
          [
           "-1.128"
          ],
          [
           "-1.048"
          ],
          [
           "-0.967"
          ],
          [
           "-0.886"
          ],
          [
           "-0.806"
          ],
          [
           "-0.725"
          ],
          [
           "-0.645"
          ],
          [
           "-0.564"
          ],
          [
           "-0.483"
          ],
          [
           "-0.403"
          ],
          [
           "-0.322"
          ],
          [
           "-0.242"
          ],
          [
           "-0.161"
          ],
          [
           "-0.081"
          ],
          [
           "0.000"
          ],
          [
           "0.081"
          ],
          [
           "0.161"
          ],
          [
           "0.242"
          ],
          [
           "0.322"
          ],
          [
           "0.403"
          ],
          [
           "0.483"
          ],
          [
           "0.564"
          ],
          [
           "0.645"
          ],
          [
           "0.725"
          ],
          [
           "0.806"
          ],
          [
           "0.886"
          ],
          [
           "0.967"
          ],
          [
           "1.048"
          ],
          [
           "1.128"
          ],
          [
           "1.209"
          ],
          [
           "1.289"
          ],
          [
           "1.370"
          ],
          [
           "1.450"
          ],
          [
           "1.531"
          ],
          [
           "1.612"
          ],
          [
           "1.692"
          ],
          [
           "-1.692"
          ],
          [
           "-1.612"
          ],
          [
           "-1.531"
          ],
          [
           "-1.450"
          ],
          [
           "-1.370"
          ],
          [
           "-1.289"
          ],
          [
           "-1.209"
          ],
          [
           "-1.128"
          ],
          [
           "-1.048"
          ],
          [
           "-0.967"
          ],
          [
           "-0.886"
          ],
          [
           "-0.806"
          ],
          [
           "-0.725"
          ],
          [
           "-0.645"
          ],
          [
           "-0.564"
          ],
          [
           "-0.483"
          ],
          [
           "-0.403"
          ],
          [
           "-0.322"
          ],
          [
           "-0.242"
          ],
          [
           "-0.161"
          ],
          [
           "-0.081"
          ],
          [
           "0.000"
          ],
          [
           "0.081"
          ],
          [
           "0.161"
          ],
          [
           "0.242"
          ],
          [
           "0.322"
          ],
          [
           "0.403"
          ],
          [
           "0.483"
          ],
          [
           "0.564"
          ],
          [
           "0.645"
          ],
          [
           "0.725"
          ],
          [
           "0.806"
          ],
          [
           "0.886"
          ],
          [
           "0.967"
          ],
          [
           "1.048"
          ],
          [
           "1.128"
          ],
          [
           "1.209"
          ],
          [
           "1.289"
          ],
          [
           "1.370"
          ],
          [
           "1.450"
          ],
          [
           "1.531"
          ],
          [
           "1.612"
          ],
          [
           "1.692"
          ],
          [
           "-1.692"
          ],
          [
           "-1.612"
          ],
          [
           "-1.531"
          ],
          [
           "-1.450"
          ],
          [
           "-1.370"
          ],
          [
           "-1.289"
          ],
          [
           "-1.209"
          ],
          [
           "-1.128"
          ],
          [
           "-1.048"
          ],
          [
           "-0.967"
          ],
          [
           "-0.886"
          ],
          [
           "-0.806"
          ],
          [
           "-0.725"
          ],
          [
           "-0.645"
          ],
          [
           "-0.564"
          ],
          [
           "-0.483"
          ],
          [
           "-0.403"
          ],
          [
           "-0.322"
          ],
          [
           "-0.242"
          ],
          [
           "-0.161"
          ],
          [
           "-0.081"
          ],
          [
           "0.000"
          ],
          [
           "0.081"
          ],
          [
           "0.161"
          ],
          [
           "0.242"
          ],
          [
           "0.322"
          ],
          [
           "0.403"
          ],
          [
           "0.483"
          ],
          [
           "0.564"
          ],
          [
           "0.645"
          ],
          [
           "0.725"
          ],
          [
           "0.806"
          ],
          [
           "0.886"
          ],
          [
           "0.967"
          ],
          [
           "1.048"
          ],
          [
           "1.128"
          ],
          [
           "1.209"
          ],
          [
           "1.289"
          ],
          [
           "1.370"
          ],
          [
           "1.450"
          ],
          [
           "1.531"
          ],
          [
           "1.612"
          ],
          [
           "1.692"
          ],
          [
           "-1.692"
          ],
          [
           "-1.612"
          ],
          [
           "-1.531"
          ],
          [
           "-1.450"
          ],
          [
           "-1.370"
          ],
          [
           "-1.289"
          ],
          [
           "-1.209"
          ],
          [
           "-1.128"
          ],
          [
           "-1.048"
          ],
          [
           "-0.967"
          ],
          [
           "-0.886"
          ],
          [
           "-0.806"
          ],
          [
           "-0.725"
          ],
          [
           "-0.645"
          ],
          [
           "-0.564"
          ],
          [
           "-0.483"
          ],
          [
           "-0.403"
          ],
          [
           "-0.322"
          ],
          [
           "-0.242"
          ],
          [
           "-0.161"
          ],
          [
           "-0.081"
          ],
          [
           "0.000"
          ],
          [
           "0.081"
          ],
          [
           "0.161"
          ],
          [
           "0.242"
          ],
          [
           "0.322"
          ],
          [
           "0.403"
          ],
          [
           "0.483"
          ],
          [
           "0.564"
          ],
          [
           "0.645"
          ],
          [
           "0.725"
          ],
          [
           "0.806"
          ],
          [
           "0.886"
          ],
          [
           "0.967"
          ],
          [
           "1.048"
          ],
          [
           "1.128"
          ],
          [
           "1.209"
          ],
          [
           "1.289"
          ],
          [
           "1.370"
          ],
          [
           "1.450"
          ],
          [
           "1.531"
          ],
          [
           "1.612"
          ],
          [
           "1.692"
          ],
          [
           "-1.692"
          ],
          [
           "-1.612"
          ],
          [
           "-1.531"
          ],
          [
           "-1.450"
          ],
          [
           "-1.370"
          ],
          [
           "-1.289"
          ],
          [
           "-1.209"
          ],
          [
           "-1.128"
          ],
          [
           "-1.048"
          ],
          [
           "-0.967"
          ],
          [
           "-0.886"
          ],
          [
           "-0.806"
          ],
          [
           "-0.725"
          ],
          [
           "-0.645"
          ],
          [
           "-0.564"
          ],
          [
           "-0.483"
          ],
          [
           "-0.403"
          ],
          [
           "-0.322"
          ],
          [
           "-0.242"
          ],
          [
           "-0.161"
          ],
          [
           "-0.081"
          ],
          [
           "0.000"
          ],
          [
           "0.081"
          ],
          [
           "0.161"
          ],
          [
           "0.242"
          ],
          [
           "0.322"
          ],
          [
           "0.403"
          ],
          [
           "0.483"
          ],
          [
           "0.564"
          ],
          [
           "0.645"
          ],
          [
           "0.725"
          ],
          [
           "0.806"
          ],
          [
           "0.886"
          ],
          [
           "0.967"
          ],
          [
           "1.048"
          ],
          [
           "1.128"
          ],
          [
           "1.209"
          ],
          [
           "1.289"
          ],
          [
           "1.370"
          ],
          [
           "1.450"
          ],
          [
           "1.531"
          ],
          [
           "1.612"
          ],
          [
           "1.692"
          ],
          [
           "-1.692"
          ],
          [
           "-1.612"
          ],
          [
           "-1.531"
          ],
          [
           "-1.450"
          ],
          [
           "-1.370"
          ],
          [
           "-1.289"
          ],
          [
           "-1.209"
          ],
          [
           "-1.128"
          ],
          [
           "-1.048"
          ],
          [
           "-0.967"
          ],
          [
           "-0.886"
          ]
         ],
         "hovertemplate": "Principal Component 1=%{x}<br>Principal Component 2=%{y}<br>Country=%{customdata[0]}<br>Cluster Number=%{marker.color}<extra></extra>",
         "legendgroup": "",
         "marker": {
          "color": [
           0,
           0,
           0,
           0,
           0,
           1,
           0,
           0,
           0,
           0,
           0,
           0,
           0,
           0,
           0,
           0,
           0,
           0,
           0,
           0,
           0,
           0,
           0,
           0,
           0,
           0,
           0,
           0,
           0,
           0,
           0,
           0,
           0,
           0,
           2,
           0,
           1,
           1,
           0,
           1,
           0,
           1,
           1,
           0,
           0,
           0,
           0,
           0,
           1,
           0,
           0,
           0,
           0,
           0,
           0,
           0,
           0,
           0,
           0,
           0,
           0,
           0,
           0,
           0,
           0,
           0,
           0,
           0,
           0,
           0,
           0,
           0,
           0,
           0,
           0,
           0,
           0,
           2,
           0,
           1,
           1,
           0,
           1,
           0,
           1,
           1,
           0,
           0,
           0,
           0,
           0,
           1,
           0,
           0,
           0,
           0,
           0,
           0,
           0,
           0,
           0,
           0,
           0,
           0,
           0,
           0,
           0,
           0,
           0,
           0,
           0,
           0,
           0,
           0,
           0,
           0,
           0,
           0,
           0,
           0,
           2,
           0,
           1,
           1,
           0,
           1,
           0,
           1,
           1,
           0,
           0,
           0,
           0,
           0,
           1,
           0,
           0,
           0,
           0,
           0,
           0,
           0,
           0,
           0,
           0,
           0,
           0,
           0,
           0,
           0,
           0,
           0,
           0,
           0,
           0,
           0,
           0,
           0,
           0,
           0,
           0,
           0,
           0,
           2,
           0,
           1,
           1,
           0,
           1,
           0,
           1,
           1,
           0,
           0,
           0,
           0,
           0,
           1,
           0,
           0,
           0,
           0,
           0,
           0,
           0,
           0,
           0,
           0,
           0,
           0,
           0,
           0,
           0,
           0,
           0,
           0,
           0,
           0,
           0,
           0,
           0,
           0,
           0,
           0,
           0,
           0,
           2,
           0,
           1,
           1,
           0,
           1,
           0,
           1,
           1,
           0,
           0,
           0,
           0,
           0,
           1,
           0,
           0,
           0,
           0,
           0,
           0,
           0,
           0,
           0,
           0,
           0,
           0,
           0,
           0,
           0,
           0,
           0,
           0,
           0,
           0,
           0,
           0,
           0,
           0,
           0,
           0,
           0,
           0,
           2,
           0,
           1,
           1,
           0,
           1,
           0,
           1,
           1,
           0,
           0,
           0,
           0,
           0,
           1,
           0,
           0,
           0,
           0,
           0,
           0,
           0,
           0,
           0,
           0,
           0,
           0,
           0,
           0,
           0,
           0,
           0,
           0,
           0,
           0,
           0,
           0,
           0,
           0,
           0,
           0,
           0,
           0,
           2,
           0,
           1,
           1,
           0,
           1,
           0,
           1,
           1,
           0,
           0,
           0,
           1,
           0,
           1,
           0,
           0,
           0,
           0,
           0,
           0,
           0,
           0,
           0,
           0,
           0,
           0,
           0,
           0,
           0,
           0,
           0,
           0,
           0,
           0,
           0,
           0,
           0,
           0,
           0,
           0,
           0,
           0,
           2,
           0,
           1,
           1,
           0,
           1,
           0,
           1,
           1,
           0,
           0,
           0,
           1,
           0,
           1,
           0,
           0,
           0,
           0,
           0,
           0,
           0,
           0,
           0,
           0,
           0,
           0,
           0,
           0,
           0,
           0,
           0,
           0,
           0,
           0,
           0,
           0,
           0,
           0,
           0,
           0,
           0,
           0,
           2,
           0,
           1,
           1,
           0,
           1,
           0,
           1,
           1,
           0,
           0,
           0,
           1,
           0,
           1,
           0,
           0,
           0,
           0,
           0,
           0,
           0,
           0,
           0,
           0,
           0,
           0,
           0,
           0,
           0,
           0,
           0,
           0,
           0,
           0,
           0,
           0,
           0,
           0,
           0,
           0,
           0,
           0,
           2,
           0,
           1,
           1,
           0,
           1,
           0,
           1,
           1,
           0,
           0,
           0,
           1,
           0,
           1,
           0,
           0,
           0,
           0,
           0,
           0,
           0,
           0,
           0,
           0,
           0,
           0,
           0,
           0,
           0,
           0,
           0,
           0,
           0,
           0,
           0,
           0,
           0,
           0,
           0,
           0,
           0,
           0,
           2,
           0,
           1,
           1,
           0,
           1,
           0,
           1,
           1,
           0,
           0,
           0,
           1,
           0,
           1,
           0,
           0,
           0,
           0,
           0,
           0,
           0,
           0,
           0,
           0,
           0,
           0,
           0,
           0,
           0,
           0,
           0,
           0,
           0,
           0,
           0,
           0,
           0,
           0,
           0,
           0,
           0,
           0,
           2,
           0,
           1,
           1,
           0,
           1,
           0,
           1,
           1
          ],
          "coloraxis": "coloraxis",
          "symbol": "circle"
         },
         "mode": "markers",
         "name": "",
         "orientation": "v",
         "showlegend": false,
         "type": "scatter",
         "x": [
          -0.0076926170285675066,
          -0.5879924795767708,
          0.4835233173127524,
          0.3791461395184513,
          -0.7492023721628268,
          0.2507722621405069,
          0.06606534887620316,
          -0.6891150718825513,
          -0.45550660276439164,
          -0.3832268054962351,
          -0.6118308419936769,
          -0.8347886319964927,
          -0.31895636878929484,
          -0.7283829841641616,
          -0.5047650430855767,
          -0.9350355304263639,
          -0.8299784450925332,
          -0.7257085438982014,
          -1.1524517362855964,
          -0.9976282710096972,
          -0.9412403854468357,
          -0.7222989046623268,
          -0.870629689205541,
          0.15109045065676777,
          -1.2928542090220667,
          -1.0470655512754534,
          -1.5333984375935286,
          -0.7016884553298776,
          -1.1597723045049622,
          -1.4307556865702415,
          -0.7697488856178584,
          -0.4266476745794059,
          0.15445107282748097,
          -0.2828781193959927,
          3.2156513933334523,
          0.13216419386495717,
          1.504740850572765,
          0.5821793413177861,
          -0.17712888508688193,
          0.5216811976925578,
          0.1945706970511894,
          2.7551414019414397,
          1.31975499115808,
          -0.19201472536370415,
          -0.5373713787610996,
          0.3971348540519942,
          0.7992184608660573,
          -0.7717031148967297,
          0.12631851780020498,
          0.12827997464978363,
          -0.5229600731162112,
          -0.4159245036814234,
          -0.2528986093340954,
          -0.638165169886575,
          -0.8338539510266457,
          -0.36265130120359956,
          -0.852371519583983,
          -0.5677849252930028,
          -0.883642166267519,
          -0.766360608729539,
          -0.7019778009172035,
          -1.0524534128064191,
          -1.0080094985698256,
          -0.982535531615233,
          -0.5254356933370576,
          -0.9703071698598874,
          0.03656114579759073,
          -1.2583567767555404,
          -1.0995961946763373,
          -1.4318132663412757,
          -0.7259874355216855,
          -1.1179508602463477,
          -1.401674150598209,
          -0.8517863415158756,
          -0.17171269095907693,
          0.23510216081006854,
          -0.24254447951109886,
          4.803267818466,
          0.06539953270527286,
          1.9694453694381695,
          0.602099746135228,
          -0.08997855687837222,
          0.9188473882921404,
          -0.13429199164004407,
          2.444803213275617,
          1.9609586867923636,
          -0.24086339539695242,
          -0.5356592574194561,
          0.31792085940134646,
          0.5361882104302642,
          -0.8011579323417107,
          0.020273283426255506,
          0.023033662726933836,
          -0.5300343054784667,
          -0.4068570280407692,
          -0.27312751141557734,
          -0.517505202450567,
          -0.805012494885185,
          -0.3120534183974569,
          -0.7914981313586136,
          -0.6051677410167794,
          -0.9137013645583082,
          -0.6911925463723612,
          -0.5112301952430801,
          -0.9974235682419266,
          -0.9865374512136544,
          -0.9839513249488542,
          -0.4839267453824383,
          -1.1285268009236078,
          0.733240899377763,
          -1.1699720761968666,
          -1.1812468725625516,
          -1.3729964770727998,
          -0.701464597831434,
          -0.7833392493839,
          -1.394494586148053,
          -0.7846172083935097,
          -0.37294188339280826,
          0.3807183596986834,
          -0.3177318613369916,
          5.6704569187330565,
          0.10352518024019927,
          2.012570558162675,
          0.7654247869275236,
          0.326666670204412,
          0.9682873678180168,
          -0.2031306156339546,
          2.545479562764596,
          1.869271616141369,
          -0.2530553084463004,
          -0.5233729454957835,
          0.3199581026143142,
          0.8070161838065815,
          -0.8023612219552496,
          0.023673671442377118,
          0.03414829850129367,
          -0.5282658760629485,
          -0.411613023395592,
          -0.279233098564453,
          -0.4755897934340312,
          -0.7919017371820307,
          -0.27222622018696235,
          -0.8048391545757173,
          -0.6119377363246357,
          -0.9027408557135072,
          -0.7352832604121187,
          -0.4441873303734671,
          -1.0070395472202915,
          -0.9827506011111533,
          -0.934168262136754,
          -0.44520369555000977,
          -1.1377954227176403,
          0.6024834319345733,
          -1.1507111759184492,
          -1.1616592098785647,
          -1.3726589933000384,
          -0.5455288849844744,
          -0.7973194393825045,
          -1.376881347790538,
          -0.6694075857942581,
          -0.16556760109335678,
          0.3590689722211051,
          -0.3200424737294585,
          6.208729032317671,
          0.2924557557975197,
          1.9816479265753255,
          0.8318318895321646,
          0.3875398281525745,
          0.9225947406957146,
          -0.21809227596823533,
          2.647200042234578,
          1.997374781271322,
          -0.3142116035793548,
          -0.5477057220882745,
          0.32422223279286305,
          0.7610686877367492,
          -0.8024806982775209,
          0.032262397183327136,
          0.014064624644630843,
          -0.5139748404774594,
          -0.4079775187616147,
          -0.25898752806231995,
          -0.4703194934204846,
          -0.7940736884086338,
          -0.256306614280719,
          -0.6938371473998906,
          -0.6114800063231778,
          -0.91885981853907,
          -0.7208778036869407,
          -0.4543262193271606,
          -0.9949534995498572,
          -0.9837672841330267,
          -0.9426620533532138,
          -0.42759230680668253,
          -1.2122782334188185,
          0.5351900728065458,
          -1.1382900464997496,
          -1.1582984218015033,
          -1.3000488865520412,
          -0.5437667518897746,
          -0.7765449712786142,
          -1.3666724767008547,
          -0.6629972589296791,
          -0.2650136451789535,
          0.2982005008942712,
          -0.32006748871627255,
          6.647723484631949,
          0.31772720914772123,
          2.060204338522763,
          0.7887916795828416,
          0.36798185504184805,
          0.9466165981592372,
          -0.23528872201615939,
          2.645704302587083,
          2.0057354762940007,
          -0.3008540476709816,
          -0.5508253603071628,
          0.35690873520453,
          0.9699824276476471,
          -0.8043583035394901,
          0.025648648566833594,
          0.07153279888636627,
          -0.523013975241339,
          -0.40812136426278645,
          -0.26278226379371006,
          -0.4660714700246362,
          -0.8022133111027894,
          -0.24702897654189418,
          -0.7098771048813658,
          -0.6105608434811826,
          -0.9078349686079465,
          -0.652223378377409,
          -0.5083534770198338,
          -0.9913596579498402,
          -0.9800851171647474,
          -0.9502496914414655,
          -0.43542064382560386,
          -1.2284350245511355,
          0.7989621670977989,
          -1.1129697093875015,
          -1.1578441623614675,
          -1.299908349605814,
          -0.5169139381916563,
          -0.749711922097595,
          -1.3478887693081214,
          -0.61846314886929,
          -0.2336464787468124,
          0.32317898249581906,
          -0.3235516276759663,
          7.005237110711693,
          0.6446988479798536,
          2.275257530050131,
          0.7770902594692745,
          0.31439539847884945,
          1.0016847617513962,
          -0.20354358783168586,
          2.3790416505292526,
          2.099626817709444,
          -0.2789457413973013,
          -0.5370604519454644,
          0.40525224563895235,
          1.4854716405263395,
          -0.7995795049022042,
          0.023892649927596602,
          0.07769887664917476,
          -0.5257456029860633,
          -0.4084341916716944,
          -0.28792598727228347,
          -0.42155212778534673,
          -0.7956099199448396,
          -0.306936063140769,
          -0.6999713933422963,
          -0.6168826850933712,
          -0.9015681168326546,
          -0.6271511720654883,
          -0.5347132626899551,
          -1.0115480249123718,
          -0.965404864649324,
          -0.9341885392169829,
          -0.4187355817336493,
          -1.2160878576134901,
          0.9889077127624769,
          -1.0796143013949762,
          -1.142257842320702,
          -1.296084397876998,
          -0.5595328242257883,
          -0.6855494268348311,
          -1.3261772920842876,
          -0.5910331600797742,
          -0.2291928970177443,
          0.3576825537951034,
          -0.12411572404735446,
          7.458593083480697,
          0.8558744359372255,
          2.374642979193867,
          0.8133985724296765,
          0.34537431012412645,
          0.9794337283734755,
          0.026854343838146395,
          2.3387443054694614,
          2.355143175258081,
          -0.23774676255604296,
          -0.5281380002323075,
          0.5569083151105743,
          1.3273169146255286,
          -0.7979564715282588,
          0.02130604538400577,
          0.18540408039296888,
          -0.5286601151840623,
          -0.3005393858156641,
          -0.2670905851620726,
          -0.421394548381037,
          -0.7881349712763465,
          -0.29843934370860736,
          -0.698893585190338,
          -0.6188611243595006,
          -0.8918935768537017,
          -0.557532607411596,
          -0.5421444761223323,
          -1.021826498830052,
          -0.8757070979958421,
          -0.9262405724981982,
          -0.37601454154167613,
          -1.190906914595488,
          1.206890016981866,
          -1.0727295159486128,
          -1.1273827906816873,
          -1.2957115150796823,
          -0.48965721121933836,
          -0.6004872142685127,
          -1.3019932900520124,
          -0.6730544697140315,
          -0.2726011981379327,
          0.27762518456156887,
          -0.11134018088329699,
          7.425582502829259,
          0.734093408535763,
          2.2593350546669773,
          0.8025779119217235,
          0.27306786415527223,
          0.9378846637130465,
          0.233224274228471,
          2.2627195949827468,
          2.2651970750646258,
          -0.24621242662602771,
          -0.517043687707793,
          0.6580760857569395,
          1.4019238447509963,
          -0.7968545076483227,
          0.017691236508557202,
          0.2622715573782002,
          -0.536404239002528,
          -0.23720276782221814,
          -0.2446114081707635,
          -0.3901440266236191,
          -0.7681859741786095,
          -0.3438802021904255,
          -0.7013248588650743,
          -0.6251343538495782,
          -0.8865954979826884,
          -0.5575332483988036,
          -0.49178212800863513,
          -1.0186230333517081,
          -0.8710881820275997,
          -0.9826333242086629,
          -0.2702087748183057,
          -1.1678706038708087,
          1.7114381429420884,
          -1.0159276585898243,
          -1.1437811126170792,
          -1.2937059990942805,
          -0.42352594613075734,
          -0.4662593933781749,
          -1.2660954727592806,
          -0.5801726755968996,
          -0.2983815991292072,
          0.3617004296234155,
          -0.11161244884777341,
          8.195748037712072,
          0.8593025091894546,
          2.3784836660095077,
          0.8016490154620459,
          0.2506524093325964,
          0.995700273589924,
          0.31654248950682634,
          2.3190375217943813,
          2.3729847881589055,
          -0.2440329537130676,
          -0.5011318074706819,
          0.6604430361177026,
          1.5736708962544388,
          -0.8077955399608683,
          0.020349776551948393,
          0.26852357437855,
          -0.4637599579296412,
          -0.276540675266164,
          -0.2372448660671399,
          -0.4236639816171444,
          -0.7628986420486316,
          -0.3730653369100319,
          -0.6846289289975677,
          -0.6313609075988555,
          -0.8813164203699904,
          -0.5362795724014695,
          -0.4398107905208828,
          -1.0137658921650403,
          -0.866685504931555,
          -0.963860021370426,
          -0.026552605653418236,
          -1.1749393144478573,
          1.6804154790607917,
          -0.9935139808671016,
          -1.1264855773144473,
          -1.29078194725323,
          -0.3509114013435111,
          -0.5375039227465704,
          -1.2305963674566391,
          -0.5460667284606419,
          -0.20062636633874825,
          0.3745514894636176,
          -0.11558854752233108,
          8.228344318939369,
          1.1422061933029481,
          2.514312630437057,
          1.012849539293944,
          0.33468786715751675,
          1.0393696392449774,
          0.28507920149463667,
          2.2917012423679446,
          2.5839149272804276,
          -0.6031559036557848,
          -0.5311981019705565,
          0.6514448201232141,
          1.5162073397559033,
          -0.8042173878242408,
          0.020807062960938826,
          0.2526140712770515,
          -0.4635446985212163,
          -0.27404007401018227,
          -0.24312591443891848,
          -0.43744346467671086,
          -0.7643873163214113,
          -0.3273175905842422,
          -0.6931988172936736,
          -0.6371131386259347,
          -0.8751777692343472,
          -0.5009466759585731,
          -0.43322917353637785,
          -1.013490559089822,
          -0.8694372142119329,
          -0.9362419229186647,
          -0.028207008359988767,
          -1.173400120646502,
          1.6243942250953383,
          -0.960521323540334,
          -1.1195080256153032,
          -1.2902364670485384,
          -0.3404654903626372,
          -0.4212380881912443,
          -1.1617510386380858,
          -0.613729096746354,
          -0.3016633789716214,
          0.43451581621393165,
          -0.25808419736760063,
          8.100050753522682,
          1.1227968552016014,
          2.632049007974328,
          1.0106282716745099,
          0.41795487453031255,
          1.051366393504021,
          0.38973496178238176,
          2.2354957132935773,
          2.7166172744631756,
          -0.6022567560310284,
          -0.5393933293598684,
          0.6408461543060172,
          1.602846443538066,
          -0.7991349394296057,
          0.018812762623584254,
          0.2556958255246755,
          -0.4552337832026,
          -0.28100502095643454,
          -0.24298346717161987,
          -0.4639601451387374,
          -0.7679547919155189,
          -0.2947713700664677,
          -0.7009194175246188,
          -0.6363719027150707,
          -0.8843913470358715,
          -0.5395189112461666,
          -0.4067693170523853,
          -1.012206808493284,
          -0.8626984223275074,
          -0.9449798615507584,
          -0.009324619018366726,
          -1.153713860638351,
          1.841123981280556,
          -0.947272342810091,
          -1.1353942140954147,
          -1.2863602591222218,
          -0.3628643200812743,
          -0.4334712159569132,
          -1.114040802124371,
          -0.5689587266126266,
          -0.38503969124476395,
          0.4212860595026916,
          -0.24663796752392012,
          8.193483308041552,
          1.1369624002268395,
          2.5784133230623256,
          1.094280067947712,
          0.6814684535216967,
          1.0420126824237985,
          0.42874504181276857,
          2.2079333597621513,
          2.8254336155779303
         ],
         "xaxis": "x",
         "y": [
          -0.26943735129682844,
          0.6128617709513402,
          -0.2867893679110059,
          -0.1842973990177477,
          0.6453735281028645,
          -2.183388816843312,
          0.6431638544893536,
          0.16209515496934865,
          -0.7788793273019166,
          0.1713281994703365,
          0.7226675419502668,
          0.4786294679606315,
          -0.29887191339944985,
          0.18549272407294576,
          -0.9153423663743615,
          0.6685829361996259,
          1.1503974514019821,
          1.0459384089281898,
          0.5935216567185527,
          0.0936470716532608,
          0.40177918985896927,
          0.3991080102143349,
          0.4030979562522761,
          0.9158409646476146,
          0.7375857724830182,
          0.15415770834125533,
          1.0009778494093549,
          0.2584935376122796,
          0.1427549973810735,
          0.714647059658099,
          -0.06480643422735752,
          -0.056138688152962406,
          -0.20302278443652644,
          0.402036501973048,
          2.395511868005289,
          0.4760808972195695,
          -1.7218430014564219,
          -2.0359814729233214,
          0.5990853454569891,
          -1.4627341149397035,
          0.8580022702416148,
          -2.7454846929536747,
          -1.324886302414659,
          -0.2539380500876714,
          0.6447832266793725,
          -0.2629867642647812,
          -0.1899434627710797,
          0.6387239045076344,
          -1.9298153047999431,
          0.0978513013224719,
          -0.3025587056573165,
          -0.9163315823987026,
          -0.20962460434132113,
          0.7462934294168565,
          0.5119191654329897,
          -0.24686580818343798,
          0.40592451049182343,
          -0.783142706157753,
          0.4990533471060233,
          1.2085582933791892,
          0.8069693778823639,
          0.3663378582896149,
          0.1903376843152427,
          0.42718500696511885,
          0.28826738949621517,
          0.44222599547003305,
          0.6522214712663967,
          0.7888199298136263,
          0.25337435476706405,
          0.74688591204684,
          0.20954182060409404,
          0.38817507602053786,
          0.7569933417965138,
          0.20007735480933678,
          -0.15887010293242848,
          -0.020432645161172443,
          0.4248326204052738,
          3.4496669052982885,
          0.4468347870517903,
          -3.439054477365432,
          -1.8495783269890844,
          0.6368014999586894,
          -2.669688838086456,
          0.784389731240346,
          -2.910650118565741,
          -1.4778879438101251,
          -0.3476971136320854,
          0.6507522784027606,
          -0.4204073081440983,
          -0.33265016041652434,
          0.6243618461602337,
          -1.7048342034561332,
          0.2986849022976628,
          -0.28477092613944915,
          -0.8920656043010681,
          -0.18369151157437322,
          0.9612243431751437,
          0.5438810438645003,
          -0.11765890365116137,
          0.24949394140962708,
          -0.6958662469179812,
          0.5440245019685557,
          1.3425911200895158,
          1.7275523221301536,
          0.18481554245391116,
          0.20079705723397953,
          0.44652467023639547,
          0.15001992671070702,
          0.3931073210910301,
          0.37242396093101293,
          0.8518445632276057,
          0.5850949117168274,
          0.5594000971785013,
          0.29717277539472314,
          0.1820013975903151,
          0.761040679595785,
          0.5409866832519054,
          0.30089035928931107,
          -0.3814215320136835,
          0.40604137064014423,
          3.6396245197958974,
          0.4675592770474952,
          -3.78631339035895,
          -2.2844109876791023,
          -0.052316127566694216,
          -2.6425527038240837,
          0.7583985724890098,
          -2.862906651656632,
          -1.5302668539927375,
          -0.3787094852606917,
          0.6452269278557881,
          -0.4166219276536972,
          -0.1804341690416769,
          0.6245425774349487,
          -1.7034095892009324,
          0.31425735955794454,
          -0.2854598641605245,
          -0.9017144350611884,
          -0.18055359200753374,
          0.8857954347529174,
          0.5538345589759418,
          -0.10074034845123879,
          0.3079363121376019,
          -0.6775828628333763,
          0.543650179131135,
          1.3578037669727643,
          1.8987484682814046,
          0.20871296746658194,
          0.18950634548672196,
          0.46868508418052574,
          0.10059487070202965,
          0.39403029285879115,
          0.29443677438421917,
          0.8545135449975142,
          0.5820002916018244,
          0.5595611541277165,
          0.1868152292343781,
          0.12064222350502604,
          0.764414923832466,
          0.35342303978938666,
          0.1243592194440198,
          -0.3905782425236685,
          0.40232371048159166,
          3.8728835970882116,
          0.5542493797872252,
          -3.646740279524245,
          -2.496470093500423,
          -0.024641477872853135,
          -2.5579123568232656,
          0.7591559976653296,
          -2.813265985099305,
          -1.4768481077047926,
          -0.35029351614875764,
          0.6400410147386563,
          -0.44228455958959967,
          -0.19942384162354862,
          0.6244631815081768,
          -1.6997907831285526,
          0.27273857765656584,
          -0.2987770471752921,
          -0.8989201294483733,
          -0.15947331828718486,
          0.8681267376319595,
          0.551824140614148,
          -0.09320821593506422,
          0.07643515959827644,
          -0.6886437394163855,
          0.5373493742785281,
          1.3792265047241645,
          2.322307677035295,
          0.20591333423061184,
          0.19050356130322996,
          0.47987051308196377,
          0.1294520643657744,
          0.63144918525984,
          0.2513350240629241,
          0.8723678651776642,
          0.5883101783367356,
          0.35314470553206945,
          0.22669323432101632,
          0.12505329413614755,
          0.7719122322714663,
          0.10842745354908159,
          -0.046282984373719825,
          -0.41244226583550336,
          0.4030934582722383,
          4.144684405467476,
          0.5715904542712571,
          -3.6088186451129776,
          -2.4366841991489827,
          -0.03871685946067644,
          -2.546050880639673,
          0.7505970889507045,
          -2.8151925221230947,
          -1.8101138005551864,
          -0.354023523127153,
          0.6434755217070424,
          -0.4131915944310486,
          -0.1053765669676025,
          0.6222260681472507,
          -1.702579338041442,
          0.29346808749447045,
          -0.2842046598447602,
          -0.8684887031813413,
          -0.1964908745991791,
          0.8450742606369038,
          0.5497906742970243,
          -0.11396002866322968,
          0.08695691074638653,
          -0.6654610096421218,
          0.5578911708531383,
          1.409548176179955,
          1.9203810173137927,
          0.20742746051857797,
          0.20213653861218622,
          0.476442340613276,
          0.10406009353362064,
          0.6194556495024908,
          0.379765901468518,
          0.8875218281048444,
          0.5849467655249289,
          0.3532135078113453,
          0.03979430113956924,
          0.3656917854073798,
          0.7812477106220637,
          0.10232513140245166,
          -0.018783234531550935,
          -0.40402238031190896,
          0.4034948782409407,
          4.371089486822744,
          0.7316056007105175,
          -3.488517851363444,
          -2.4395109941031827,
          -0.05578473708697284,
          -2.5238793878755588,
          0.7574141822732107,
          -2.9379692510946596,
          -1.7669328170867524,
          -0.34520460986033746,
          0.6413366580473622,
          -0.3960817694082347,
          -0.06834774214577952,
          0.6271528232829477,
          -1.7033207088619118,
          0.2936259171576816,
          -0.2857988806803201,
          -0.9003706369833283,
          -0.14752655448732352,
          0.8394057276117446,
          0.5486046778060972,
          -0.1385905944844728,
          0.09045109715166008,
          -0.6705256561464827,
          0.5537167966850397,
          1.388488421295281,
          2.135393473865949,
          0.23046644044096332,
          0.20831198633164724,
          0.49332019192016485,
          0.33279938992052105,
          0.6252176345392048,
          0.47129620795427646,
          0.911442380054923,
          0.5893162354136817,
          0.3483621491577628,
          0.23339205525447146,
          0.3716577213407289,
          0.8213815828178506,
          0.13745234810658935,
          0.017593508749967148,
          -0.38946212553791826,
          -0.05832684918868779,
          4.595411853697286,
          0.8211090147084209,
          -3.452738709621848,
          -2.423489550751183,
          -0.043882455135465376,
          -2.5322370928143862,
          0.4552763191004485,
          -2.957251306945153,
          -1.6396951198636844,
          -0.328265400983214,
          0.6468600707473376,
          -0.3507722597872043,
          -0.6465983944159777,
          0.6266056720937073,
          -1.7044260025214315,
          0.13867003762014493,
          -0.2870363956366025,
          -1.2570404272602969,
          -0.1613245441637958,
          0.8060842405855312,
          0.5494680453461791,
          -0.1356437435234182,
          0.09475723397892512,
          -0.6586926026852512,
          0.5586946190173617,
          1.4549781139982398,
          1.9627060040221376,
          0.2458569491777495,
          -0.007020436170129248,
          0.5323927856662314,
          0.3444640700408246,
          0.6354714027888476,
          0.5652218595341879,
          0.9012170793996361,
          0.5991114548712931,
          0.34568790396126237,
          0.27738697510413196,
          0.411596755306394,
          0.8400521069192682,
          0.06531802205631393,
          -0.06704780943501816,
          -0.3565286475669305,
          -0.045878535488626644,
          4.65442629947111,
          0.7749074651507404,
          -3.512822050957805,
          -2.425643810407663,
          -0.07857890057634398,
          -2.544387341480724,
          0.5144277286808909,
          -3.1833467024539477,
          -1.658771238973965,
          -0.32287133539107704,
          0.6522372241142343,
          -0.31454335554249346,
          -0.5717157034548705,
          0.6314299000960054,
          -1.7059006856059642,
          0.18251550273853095,
          -0.2902885271942529,
          -1.4243125902338354,
          -0.1785214175820718,
          0.8171767650423614,
          0.5566849732572251,
          -0.15426162724137418,
          0.08704517274963232,
          -0.6519493988386382,
          0.5515621925996449,
          1.4406955669297044,
          1.9245432476129882,
          0.24577663033868288,
          0.005704790960178592,
          0.5606790246306119,
          0.38784138302807203,
          0.6513420700659992,
          1.1106287414646163,
          0.9271085591435004,
          0.6021124399651092,
          0.34796482476456475,
          0.28912583688645505,
          0.45324469051536975,
          0.8533597557344349,
          0.11213697837952193,
          -0.024547385526951262,
          -0.3176597760491008,
          -0.050486055884878867,
          5.079482687968424,
          0.8214721995658275,
          -3.4403397380568816,
          -2.425807712009772,
          -0.08586715760576695,
          -2.7536404024935313,
          0.5671486413451897,
          -3.1560304065339744,
          -1.6136629839629713,
          -0.3214994768386654,
          0.6610677863254294,
          -0.2982850860953387,
          -0.44462879051454984,
          0.6286810759798758,
          -1.7047983935089757,
          0.1903747056877191,
          -0.49775759790731744,
          -1.2415812234149564,
          -0.14247733877745913,
          0.8358719565079745,
          0.5584920866557002,
          -0.18897892108313888,
          0.09690408947446237,
          -0.6355433536645714,
          0.5659076769817295,
          1.380232376335658,
          1.5268323355203104,
          0.2413719840698187,
          0.007546286689956614,
          0.5834848962664961,
          0.2727087899204002,
          0.6502098093666119,
          1.1142295739888992,
          0.9436336723649027,
          0.617578245312909,
          0.3398817888552403,
          0.32572029341319353,
          0.4177686146455213,
          0.8747518953268708,
          0.29906413611969507,
          -0.05167442070302277,
          -0.3172226608557127,
          -0.03939808706340438,
          5.146893672618,
          0.9568129081097644,
          -3.3626053079530043,
          -3.0160827882955754,
          -0.0514058781126859,
          -2.73689214315552,
          0.5835455918128902,
          -3.165487130951155,
          -1.5200763530167216,
          -0.27229387692816825,
          0.6548093991248524,
          -0.3129258904059419,
          -0.38767252812952097,
          0.6325132842940197,
          -1.70461594715102,
          0.18255358510269645,
          -0.4969468220559475,
          -1.2374207444423648,
          -0.12138198148600958,
          0.8173989517803979,
          0.5703688478927214,
          -0.17011944954162941,
          0.09505636404063963,
          -0.6461016400594829,
          0.5598740573166399,
          1.4067906429635955,
          1.0322504358475342,
          0.241485214368324,
          0.0063906465421337075,
          0.5723126961170766,
          0.24619443389414528,
          0.6444784771533141,
          1.0667491323176452,
          0.9602923538962892,
          0.6067624385119584,
          0.3401376819517866,
          0.3088016884260656,
          0.48626547590240937,
          0.9050351619830965,
          0.26803405968865596,
          -0.018102689106391585,
          -0.22246044346647695,
          -0.022081468776734055,
          5.053154821160689,
          0.9443055346519885,
          -3.3037096162698734,
          -3.020035996351437,
          -0.015202711930939266,
          -2.7244117790303757,
          0.6159705656213781,
          -3.1864158497374926,
          -1.4405935433369892,
          -0.2652493769110387,
          0.6392750138695262,
          -0.2971914925081519,
          -0.31490581977392046,
          0.639104380371062,
          -1.7047508477503412,
          0.19007448543841327,
          -0.4948689314213991,
          -1.2482025717501324,
          -0.20031794703051609,
          0.7893847222083084,
          0.5615146363821337,
          -0.15384844873398468,
          0.09033804198531623,
          -0.6352642844388194,
          0.5560382253738272,
          1.3370958265373403,
          0.9818993604454218,
          0.23557182646596336,
          0.009230738431825565,
          0.5589179163529339,
          0.25855065558678286,
          0.664164480642253,
          1.1377609475112116,
          0.96355374914795,
          0.6180193461525357,
          0.3345884957016866,
          0.30426365384061066,
          0.4702642354282839,
          0.932006878421099,
          0.2899970897063259,
          -0.22683012997512284,
          -0.2389727554051426,
          -0.02329862207940523,
          5.257985681246013,
          0.9525720589423758,
          -3.335459189087945,
          -2.9750953192177585,
          -0.5371404431370381,
          -2.7200596292700183,
          0.6231066493660307,
          -3.3906457766825056,
          -1.3667191218024395
         ],
         "yaxis": "y"
        }
       ],
       "layout": {
        "coloraxis": {
         "colorbar": {
          "title": {
           "text": "Cluster Number"
          }
         },
         "colorscale": [
          [
           0,
           "#0d0887"
          ],
          [
           0.1111111111111111,
           "#46039f"
          ],
          [
           0.2222222222222222,
           "#7201a8"
          ],
          [
           0.3333333333333333,
           "#9c179e"
          ],
          [
           0.4444444444444444,
           "#bd3786"
          ],
          [
           0.5555555555555556,
           "#d8576b"
          ],
          [
           0.6666666666666666,
           "#ed7953"
          ],
          [
           0.7777777777777778,
           "#fb9f3a"
          ],
          [
           0.8888888888888888,
           "#fdca26"
          ],
          [
           1,
           "#f0f921"
          ]
         ]
        },
        "legend": {
         "tracegroupgap": 0
        },
        "margin": {
         "t": 60
        },
        "template": {
         "data": {
          "bar": [
           {
            "error_x": {
             "color": "#2a3f5f"
            },
            "error_y": {
             "color": "#2a3f5f"
            },
            "marker": {
             "line": {
              "color": "#E5ECF6",
              "width": 0.5
             },
             "pattern": {
              "fillmode": "overlay",
              "size": 10,
              "solidity": 0.2
             }
            },
            "type": "bar"
           }
          ],
          "barpolar": [
           {
            "marker": {
             "line": {
              "color": "#E5ECF6",
              "width": 0.5
             },
             "pattern": {
              "fillmode": "overlay",
              "size": 10,
              "solidity": 0.2
             }
            },
            "type": "barpolar"
           }
          ],
          "carpet": [
           {
            "aaxis": {
             "endlinecolor": "#2a3f5f",
             "gridcolor": "white",
             "linecolor": "white",
             "minorgridcolor": "white",
             "startlinecolor": "#2a3f5f"
            },
            "baxis": {
             "endlinecolor": "#2a3f5f",
             "gridcolor": "white",
             "linecolor": "white",
             "minorgridcolor": "white",
             "startlinecolor": "#2a3f5f"
            },
            "type": "carpet"
           }
          ],
          "choropleth": [
           {
            "colorbar": {
             "outlinewidth": 0,
             "ticks": ""
            },
            "type": "choropleth"
           }
          ],
          "contour": [
           {
            "colorbar": {
             "outlinewidth": 0,
             "ticks": ""
            },
            "colorscale": [
             [
              0,
              "#0d0887"
             ],
             [
              0.1111111111111111,
              "#46039f"
             ],
             [
              0.2222222222222222,
              "#7201a8"
             ],
             [
              0.3333333333333333,
              "#9c179e"
             ],
             [
              0.4444444444444444,
              "#bd3786"
             ],
             [
              0.5555555555555556,
              "#d8576b"
             ],
             [
              0.6666666666666666,
              "#ed7953"
             ],
             [
              0.7777777777777778,
              "#fb9f3a"
             ],
             [
              0.8888888888888888,
              "#fdca26"
             ],
             [
              1,
              "#f0f921"
             ]
            ],
            "type": "contour"
           }
          ],
          "contourcarpet": [
           {
            "colorbar": {
             "outlinewidth": 0,
             "ticks": ""
            },
            "type": "contourcarpet"
           }
          ],
          "heatmap": [
           {
            "colorbar": {
             "outlinewidth": 0,
             "ticks": ""
            },
            "colorscale": [
             [
              0,
              "#0d0887"
             ],
             [
              0.1111111111111111,
              "#46039f"
             ],
             [
              0.2222222222222222,
              "#7201a8"
             ],
             [
              0.3333333333333333,
              "#9c179e"
             ],
             [
              0.4444444444444444,
              "#bd3786"
             ],
             [
              0.5555555555555556,
              "#d8576b"
             ],
             [
              0.6666666666666666,
              "#ed7953"
             ],
             [
              0.7777777777777778,
              "#fb9f3a"
             ],
             [
              0.8888888888888888,
              "#fdca26"
             ],
             [
              1,
              "#f0f921"
             ]
            ],
            "type": "heatmap"
           }
          ],
          "heatmapgl": [
           {
            "colorbar": {
             "outlinewidth": 0,
             "ticks": ""
            },
            "colorscale": [
             [
              0,
              "#0d0887"
             ],
             [
              0.1111111111111111,
              "#46039f"
             ],
             [
              0.2222222222222222,
              "#7201a8"
             ],
             [
              0.3333333333333333,
              "#9c179e"
             ],
             [
              0.4444444444444444,
              "#bd3786"
             ],
             [
              0.5555555555555556,
              "#d8576b"
             ],
             [
              0.6666666666666666,
              "#ed7953"
             ],
             [
              0.7777777777777778,
              "#fb9f3a"
             ],
             [
              0.8888888888888888,
              "#fdca26"
             ],
             [
              1,
              "#f0f921"
             ]
            ],
            "type": "heatmapgl"
           }
          ],
          "histogram": [
           {
            "marker": {
             "pattern": {
              "fillmode": "overlay",
              "size": 10,
              "solidity": 0.2
             }
            },
            "type": "histogram"
           }
          ],
          "histogram2d": [
           {
            "colorbar": {
             "outlinewidth": 0,
             "ticks": ""
            },
            "colorscale": [
             [
              0,
              "#0d0887"
             ],
             [
              0.1111111111111111,
              "#46039f"
             ],
             [
              0.2222222222222222,
              "#7201a8"
             ],
             [
              0.3333333333333333,
              "#9c179e"
             ],
             [
              0.4444444444444444,
              "#bd3786"
             ],
             [
              0.5555555555555556,
              "#d8576b"
             ],
             [
              0.6666666666666666,
              "#ed7953"
             ],
             [
              0.7777777777777778,
              "#fb9f3a"
             ],
             [
              0.8888888888888888,
              "#fdca26"
             ],
             [
              1,
              "#f0f921"
             ]
            ],
            "type": "histogram2d"
           }
          ],
          "histogram2dcontour": [
           {
            "colorbar": {
             "outlinewidth": 0,
             "ticks": ""
            },
            "colorscale": [
             [
              0,
              "#0d0887"
             ],
             [
              0.1111111111111111,
              "#46039f"
             ],
             [
              0.2222222222222222,
              "#7201a8"
             ],
             [
              0.3333333333333333,
              "#9c179e"
             ],
             [
              0.4444444444444444,
              "#bd3786"
             ],
             [
              0.5555555555555556,
              "#d8576b"
             ],
             [
              0.6666666666666666,
              "#ed7953"
             ],
             [
              0.7777777777777778,
              "#fb9f3a"
             ],
             [
              0.8888888888888888,
              "#fdca26"
             ],
             [
              1,
              "#f0f921"
             ]
            ],
            "type": "histogram2dcontour"
           }
          ],
          "mesh3d": [
           {
            "colorbar": {
             "outlinewidth": 0,
             "ticks": ""
            },
            "type": "mesh3d"
           }
          ],
          "parcoords": [
           {
            "line": {
             "colorbar": {
              "outlinewidth": 0,
              "ticks": ""
             }
            },
            "type": "parcoords"
           }
          ],
          "pie": [
           {
            "automargin": true,
            "type": "pie"
           }
          ],
          "scatter": [
           {
            "fillpattern": {
             "fillmode": "overlay",
             "size": 10,
             "solidity": 0.2
            },
            "type": "scatter"
           }
          ],
          "scatter3d": [
           {
            "line": {
             "colorbar": {
              "outlinewidth": 0,
              "ticks": ""
             }
            },
            "marker": {
             "colorbar": {
              "outlinewidth": 0,
              "ticks": ""
             }
            },
            "type": "scatter3d"
           }
          ],
          "scattercarpet": [
           {
            "marker": {
             "colorbar": {
              "outlinewidth": 0,
              "ticks": ""
             }
            },
            "type": "scattercarpet"
           }
          ],
          "scattergeo": [
           {
            "marker": {
             "colorbar": {
              "outlinewidth": 0,
              "ticks": ""
             }
            },
            "type": "scattergeo"
           }
          ],
          "scattergl": [
           {
            "marker": {
             "colorbar": {
              "outlinewidth": 0,
              "ticks": ""
             }
            },
            "type": "scattergl"
           }
          ],
          "scattermapbox": [
           {
            "marker": {
             "colorbar": {
              "outlinewidth": 0,
              "ticks": ""
             }
            },
            "type": "scattermapbox"
           }
          ],
          "scatterpolar": [
           {
            "marker": {
             "colorbar": {
              "outlinewidth": 0,
              "ticks": ""
             }
            },
            "type": "scatterpolar"
           }
          ],
          "scatterpolargl": [
           {
            "marker": {
             "colorbar": {
              "outlinewidth": 0,
              "ticks": ""
             }
            },
            "type": "scatterpolargl"
           }
          ],
          "scatterternary": [
           {
            "marker": {
             "colorbar": {
              "outlinewidth": 0,
              "ticks": ""
             }
            },
            "type": "scatterternary"
           }
          ],
          "surface": [
           {
            "colorbar": {
             "outlinewidth": 0,
             "ticks": ""
            },
            "colorscale": [
             [
              0,
              "#0d0887"
             ],
             [
              0.1111111111111111,
              "#46039f"
             ],
             [
              0.2222222222222222,
              "#7201a8"
             ],
             [
              0.3333333333333333,
              "#9c179e"
             ],
             [
              0.4444444444444444,
              "#bd3786"
             ],
             [
              0.5555555555555556,
              "#d8576b"
             ],
             [
              0.6666666666666666,
              "#ed7953"
             ],
             [
              0.7777777777777778,
              "#fb9f3a"
             ],
             [
              0.8888888888888888,
              "#fdca26"
             ],
             [
              1,
              "#f0f921"
             ]
            ],
            "type": "surface"
           }
          ],
          "table": [
           {
            "cells": {
             "fill": {
              "color": "#EBF0F8"
             },
             "line": {
              "color": "white"
             }
            },
            "header": {
             "fill": {
              "color": "#C8D4E3"
             },
             "line": {
              "color": "white"
             }
            },
            "type": "table"
           }
          ]
         },
         "layout": {
          "annotationdefaults": {
           "arrowcolor": "#2a3f5f",
           "arrowhead": 0,
           "arrowwidth": 1
          },
          "autotypenumbers": "strict",
          "coloraxis": {
           "colorbar": {
            "outlinewidth": 0,
            "ticks": ""
           }
          },
          "colorscale": {
           "diverging": [
            [
             0,
             "#8e0152"
            ],
            [
             0.1,
             "#c51b7d"
            ],
            [
             0.2,
             "#de77ae"
            ],
            [
             0.3,
             "#f1b6da"
            ],
            [
             0.4,
             "#fde0ef"
            ],
            [
             0.5,
             "#f7f7f7"
            ],
            [
             0.6,
             "#e6f5d0"
            ],
            [
             0.7,
             "#b8e186"
            ],
            [
             0.8,
             "#7fbc41"
            ],
            [
             0.9,
             "#4d9221"
            ],
            [
             1,
             "#276419"
            ]
           ],
           "sequential": [
            [
             0,
             "#0d0887"
            ],
            [
             0.1111111111111111,
             "#46039f"
            ],
            [
             0.2222222222222222,
             "#7201a8"
            ],
            [
             0.3333333333333333,
             "#9c179e"
            ],
            [
             0.4444444444444444,
             "#bd3786"
            ],
            [
             0.5555555555555556,
             "#d8576b"
            ],
            [
             0.6666666666666666,
             "#ed7953"
            ],
            [
             0.7777777777777778,
             "#fb9f3a"
            ],
            [
             0.8888888888888888,
             "#fdca26"
            ],
            [
             1,
             "#f0f921"
            ]
           ],
           "sequentialminus": [
            [
             0,
             "#0d0887"
            ],
            [
             0.1111111111111111,
             "#46039f"
            ],
            [
             0.2222222222222222,
             "#7201a8"
            ],
            [
             0.3333333333333333,
             "#9c179e"
            ],
            [
             0.4444444444444444,
             "#bd3786"
            ],
            [
             0.5555555555555556,
             "#d8576b"
            ],
            [
             0.6666666666666666,
             "#ed7953"
            ],
            [
             0.7777777777777778,
             "#fb9f3a"
            ],
            [
             0.8888888888888888,
             "#fdca26"
            ],
            [
             1,
             "#f0f921"
            ]
           ]
          },
          "colorway": [
           "#636efa",
           "#EF553B",
           "#00cc96",
           "#ab63fa",
           "#FFA15A",
           "#19d3f3",
           "#FF6692",
           "#B6E880",
           "#FF97FF",
           "#FECB52"
          ],
          "font": {
           "color": "#2a3f5f"
          },
          "geo": {
           "bgcolor": "white",
           "lakecolor": "white",
           "landcolor": "#E5ECF6",
           "showlakes": true,
           "showland": true,
           "subunitcolor": "white"
          },
          "hoverlabel": {
           "align": "left"
          },
          "hovermode": "closest",
          "mapbox": {
           "style": "light"
          },
          "paper_bgcolor": "white",
          "plot_bgcolor": "#E5ECF6",
          "polar": {
           "angularaxis": {
            "gridcolor": "white",
            "linecolor": "white",
            "ticks": ""
           },
           "bgcolor": "#E5ECF6",
           "radialaxis": {
            "gridcolor": "white",
            "linecolor": "white",
            "ticks": ""
           }
          },
          "scene": {
           "xaxis": {
            "backgroundcolor": "#E5ECF6",
            "gridcolor": "white",
            "gridwidth": 2,
            "linecolor": "white",
            "showbackground": true,
            "ticks": "",
            "zerolinecolor": "white"
           },
           "yaxis": {
            "backgroundcolor": "#E5ECF6",
            "gridcolor": "white",
            "gridwidth": 2,
            "linecolor": "white",
            "showbackground": true,
            "ticks": "",
            "zerolinecolor": "white"
           },
           "zaxis": {
            "backgroundcolor": "#E5ECF6",
            "gridcolor": "white",
            "gridwidth": 2,
            "linecolor": "white",
            "showbackground": true,
            "ticks": "",
            "zerolinecolor": "white"
           }
          },
          "shapedefaults": {
           "line": {
            "color": "#2a3f5f"
           }
          },
          "ternary": {
           "aaxis": {
            "gridcolor": "white",
            "linecolor": "white",
            "ticks": ""
           },
           "baxis": {
            "gridcolor": "white",
            "linecolor": "white",
            "ticks": ""
           },
           "bgcolor": "#E5ECF6",
           "caxis": {
            "gridcolor": "white",
            "linecolor": "white",
            "ticks": ""
           }
          },
          "title": {
           "x": 0.05
          },
          "xaxis": {
           "automargin": true,
           "gridcolor": "white",
           "linecolor": "white",
           "ticks": "",
           "title": {
            "standoff": 15
           },
           "zerolinecolor": "white",
           "zerolinewidth": 2
          },
          "yaxis": {
           "automargin": true,
           "gridcolor": "white",
           "linecolor": "white",
           "ticks": "",
           "title": {
            "standoff": 15
           },
           "zerolinecolor": "white",
           "zerolinewidth": 2
          }
         }
        },
        "title": {
         "text": "K-means Clustering in PCA Space with 3 Clusters"
        },
        "xaxis": {
         "anchor": "y",
         "domain": [
          0,
          1
         ],
         "title": {
          "text": "Principal Component 1"
         }
        },
        "yaxis": {
         "anchor": "x",
         "domain": [
          0,
          1
         ],
         "title": {
          "text": "Principal Component 2"
         }
        }
       }
      },
      "text/html": [
       "<div>                            <div id=\"2982761d-654e-4fed-a96a-528542861f2b\" class=\"plotly-graph-div\" style=\"height:525px; width:100%;\"></div>            <script type=\"text/javascript\">                require([\"plotly\"], function(Plotly) {                    window.PLOTLYENV=window.PLOTLYENV || {};                                    if (document.getElementById(\"2982761d-654e-4fed-a96a-528542861f2b\")) {                    Plotly.newPlot(                        \"2982761d-654e-4fed-a96a-528542861f2b\",                        [{\"customdata\":[[\"-0.806\"],[\"-0.725\"],[\"-0.645\"],[\"-0.564\"],[\"-0.483\"],[\"-0.403\"],[\"-0.322\"],[\"-0.242\"],[\"-0.161\"],[\"-0.081\"],[\"0.000\"],[\"0.081\"],[\"0.161\"],[\"0.242\"],[\"0.322\"],[\"0.403\"],[\"0.483\"],[\"0.564\"],[\"0.645\"],[\"0.725\"],[\"0.806\"],[\"0.886\"],[\"0.967\"],[\"1.048\"],[\"1.128\"],[\"1.209\"],[\"1.289\"],[\"1.370\"],[\"1.450\"],[\"1.531\"],[\"1.612\"],[\"1.692\"],[\"-1.692\"],[\"-1.612\"],[\"-1.531\"],[\"-1.450\"],[\"-1.370\"],[\"-1.289\"],[\"-1.209\"],[\"-1.128\"],[\"-1.048\"],[\"-0.967\"],[\"-0.886\"],[\"-0.806\"],[\"-0.725\"],[\"-0.645\"],[\"-0.564\"],[\"-0.483\"],[\"-0.403\"],[\"-0.322\"],[\"-0.242\"],[\"-0.161\"],[\"-0.081\"],[\"0.000\"],[\"0.081\"],[\"0.161\"],[\"0.242\"],[\"0.322\"],[\"0.403\"],[\"0.483\"],[\"0.564\"],[\"0.645\"],[\"0.725\"],[\"0.806\"],[\"0.886\"],[\"0.967\"],[\"1.048\"],[\"1.128\"],[\"1.209\"],[\"1.289\"],[\"1.370\"],[\"1.450\"],[\"1.531\"],[\"1.612\"],[\"1.692\"],[\"-1.692\"],[\"-1.612\"],[\"-1.531\"],[\"-1.450\"],[\"-1.370\"],[\"-1.289\"],[\"-1.209\"],[\"-1.128\"],[\"-1.048\"],[\"-0.967\"],[\"-0.886\"],[\"-0.806\"],[\"-0.725\"],[\"-0.645\"],[\"-0.564\"],[\"-0.483\"],[\"-0.403\"],[\"-0.322\"],[\"-0.242\"],[\"-0.161\"],[\"-0.081\"],[\"0.000\"],[\"0.081\"],[\"0.161\"],[\"0.242\"],[\"0.322\"],[\"0.403\"],[\"0.483\"],[\"0.564\"],[\"0.645\"],[\"0.725\"],[\"0.806\"],[\"0.886\"],[\"0.967\"],[\"1.048\"],[\"1.128\"],[\"1.209\"],[\"1.289\"],[\"1.370\"],[\"1.450\"],[\"1.531\"],[\"1.612\"],[\"1.692\"],[\"-1.692\"],[\"-1.612\"],[\"-1.531\"],[\"-1.450\"],[\"-1.370\"],[\"-1.289\"],[\"-1.209\"],[\"-1.128\"],[\"-1.048\"],[\"-0.967\"],[\"-0.886\"],[\"-0.806\"],[\"-0.725\"],[\"-0.645\"],[\"-0.564\"],[\"-0.483\"],[\"-0.403\"],[\"-0.322\"],[\"-0.242\"],[\"-0.161\"],[\"-0.081\"],[\"0.000\"],[\"0.081\"],[\"0.161\"],[\"0.242\"],[\"0.322\"],[\"0.403\"],[\"0.483\"],[\"0.564\"],[\"0.645\"],[\"0.725\"],[\"0.806\"],[\"0.886\"],[\"0.967\"],[\"1.048\"],[\"1.128\"],[\"1.209\"],[\"1.289\"],[\"1.370\"],[\"1.450\"],[\"1.531\"],[\"1.612\"],[\"1.692\"],[\"-1.692\"],[\"-1.612\"],[\"-1.531\"],[\"-1.450\"],[\"-1.370\"],[\"-1.289\"],[\"-1.209\"],[\"-1.128\"],[\"-1.048\"],[\"-0.967\"],[\"-0.886\"],[\"-0.806\"],[\"-0.725\"],[\"-0.645\"],[\"-0.564\"],[\"-0.483\"],[\"-0.403\"],[\"-0.322\"],[\"-0.242\"],[\"-0.161\"],[\"-0.081\"],[\"0.000\"],[\"0.081\"],[\"0.161\"],[\"0.242\"],[\"0.322\"],[\"0.403\"],[\"0.483\"],[\"0.564\"],[\"0.645\"],[\"0.725\"],[\"0.806\"],[\"0.886\"],[\"0.967\"],[\"1.048\"],[\"1.128\"],[\"1.209\"],[\"1.289\"],[\"1.370\"],[\"1.450\"],[\"1.531\"],[\"1.612\"],[\"1.692\"],[\"-1.692\"],[\"-1.612\"],[\"-1.531\"],[\"-1.450\"],[\"-1.370\"],[\"-1.289\"],[\"-1.209\"],[\"-1.128\"],[\"-1.048\"],[\"-0.967\"],[\"-0.886\"],[\"-0.806\"],[\"-0.725\"],[\"-0.645\"],[\"-0.564\"],[\"-0.483\"],[\"-0.403\"],[\"-0.322\"],[\"-0.242\"],[\"-0.161\"],[\"-0.081\"],[\"0.000\"],[\"0.081\"],[\"0.161\"],[\"0.242\"],[\"0.322\"],[\"0.403\"],[\"0.483\"],[\"0.564\"],[\"0.645\"],[\"0.725\"],[\"0.806\"],[\"0.886\"],[\"0.967\"],[\"1.048\"],[\"1.128\"],[\"1.209\"],[\"1.289\"],[\"1.370\"],[\"1.450\"],[\"1.531\"],[\"1.612\"],[\"1.692\"],[\"-1.692\"],[\"-1.612\"],[\"-1.531\"],[\"-1.450\"],[\"-1.370\"],[\"-1.289\"],[\"-1.209\"],[\"-1.128\"],[\"-1.048\"],[\"-0.967\"],[\"-0.886\"],[\"-0.806\"],[\"-0.725\"],[\"-0.645\"],[\"-0.564\"],[\"-0.483\"],[\"-0.403\"],[\"-0.322\"],[\"-0.242\"],[\"-0.161\"],[\"-0.081\"],[\"0.000\"],[\"0.081\"],[\"0.161\"],[\"0.242\"],[\"0.322\"],[\"0.403\"],[\"0.483\"],[\"0.564\"],[\"0.645\"],[\"0.725\"],[\"0.806\"],[\"0.886\"],[\"0.967\"],[\"1.048\"],[\"1.128\"],[\"1.209\"],[\"1.289\"],[\"1.370\"],[\"1.450\"],[\"1.531\"],[\"1.612\"],[\"1.692\"],[\"-1.692\"],[\"-1.612\"],[\"-1.531\"],[\"-1.450\"],[\"-1.370\"],[\"-1.289\"],[\"-1.209\"],[\"-1.128\"],[\"-1.048\"],[\"-0.967\"],[\"-0.886\"],[\"-0.806\"],[\"-0.725\"],[\"-0.645\"],[\"-0.564\"],[\"-0.483\"],[\"-0.403\"],[\"-0.322\"],[\"-0.242\"],[\"-0.161\"],[\"-0.081\"],[\"0.000\"],[\"0.081\"],[\"0.161\"],[\"0.242\"],[\"0.322\"],[\"0.403\"],[\"0.483\"],[\"0.564\"],[\"0.645\"],[\"0.725\"],[\"0.806\"],[\"0.886\"],[\"0.967\"],[\"1.048\"],[\"1.128\"],[\"1.209\"],[\"1.289\"],[\"1.370\"],[\"1.450\"],[\"1.531\"],[\"1.612\"],[\"1.692\"],[\"-1.692\"],[\"-1.612\"],[\"-1.531\"],[\"-1.450\"],[\"-1.370\"],[\"-1.289\"],[\"-1.209\"],[\"-1.128\"],[\"-1.048\"],[\"-0.967\"],[\"-0.886\"],[\"-0.806\"],[\"-0.725\"],[\"-0.645\"],[\"-0.564\"],[\"-0.483\"],[\"-0.403\"],[\"-0.322\"],[\"-0.242\"],[\"-0.161\"],[\"-0.081\"],[\"0.000\"],[\"0.081\"],[\"0.161\"],[\"0.242\"],[\"0.322\"],[\"0.403\"],[\"0.483\"],[\"0.564\"],[\"0.645\"],[\"0.725\"],[\"0.806\"],[\"0.886\"],[\"0.967\"],[\"1.048\"],[\"1.128\"],[\"1.209\"],[\"1.289\"],[\"1.370\"],[\"1.450\"],[\"1.531\"],[\"1.612\"],[\"1.692\"],[\"-1.692\"],[\"-1.612\"],[\"-1.531\"],[\"-1.450\"],[\"-1.370\"],[\"-1.289\"],[\"-1.209\"],[\"-1.128\"],[\"-1.048\"],[\"-0.967\"],[\"-0.886\"],[\"-0.806\"],[\"-0.725\"],[\"-0.645\"],[\"-0.564\"],[\"-0.483\"],[\"-0.403\"],[\"-0.322\"],[\"-0.242\"],[\"-0.161\"],[\"-0.081\"],[\"0.000\"],[\"0.081\"],[\"0.161\"],[\"0.242\"],[\"0.322\"],[\"0.403\"],[\"0.483\"],[\"0.564\"],[\"0.645\"],[\"0.725\"],[\"0.806\"],[\"0.886\"],[\"0.967\"],[\"1.048\"],[\"1.128\"],[\"1.209\"],[\"1.289\"],[\"1.370\"],[\"1.450\"],[\"1.531\"],[\"1.612\"],[\"1.692\"],[\"-1.692\"],[\"-1.612\"],[\"-1.531\"],[\"-1.450\"],[\"-1.370\"],[\"-1.289\"],[\"-1.209\"],[\"-1.128\"],[\"-1.048\"],[\"-0.967\"],[\"-0.886\"],[\"-0.806\"],[\"-0.725\"],[\"-0.645\"],[\"-0.564\"],[\"-0.483\"],[\"-0.403\"],[\"-0.322\"],[\"-0.242\"],[\"-0.161\"],[\"-0.081\"],[\"0.000\"],[\"0.081\"],[\"0.161\"],[\"0.242\"],[\"0.322\"],[\"0.403\"],[\"0.483\"],[\"0.564\"],[\"0.645\"],[\"0.725\"],[\"0.806\"],[\"0.886\"],[\"0.967\"],[\"1.048\"],[\"1.128\"],[\"1.209\"],[\"1.289\"],[\"1.370\"],[\"1.450\"],[\"1.531\"],[\"1.612\"],[\"1.692\"],[\"-1.692\"],[\"-1.612\"],[\"-1.531\"],[\"-1.450\"],[\"-1.370\"],[\"-1.289\"],[\"-1.209\"],[\"-1.128\"],[\"-1.048\"],[\"-0.967\"],[\"-0.886\"],[\"-0.806\"],[\"-0.725\"],[\"-0.645\"],[\"-0.564\"],[\"-0.483\"],[\"-0.403\"],[\"-0.322\"],[\"-0.242\"],[\"-0.161\"],[\"-0.081\"],[\"0.000\"],[\"0.081\"],[\"0.161\"],[\"0.242\"],[\"0.322\"],[\"0.403\"],[\"0.483\"],[\"0.564\"],[\"0.645\"],[\"0.725\"],[\"0.806\"],[\"0.886\"],[\"0.967\"],[\"1.048\"],[\"1.128\"],[\"1.209\"],[\"1.289\"],[\"1.370\"],[\"1.450\"],[\"1.531\"],[\"1.612\"],[\"1.692\"],[\"-1.692\"],[\"-1.612\"],[\"-1.531\"],[\"-1.450\"],[\"-1.370\"],[\"-1.289\"],[\"-1.209\"],[\"-1.128\"],[\"-1.048\"],[\"-0.967\"],[\"-0.886\"]],\"hovertemplate\":\"Principal Component 1=%{x}<br>Principal Component 2=%{y}<br>Country=%{customdata[0]}<br>Cluster Number=%{marker.color}<extra></extra>\",\"legendgroup\":\"\",\"marker\":{\"color\":[0,0,0,0,0,1,0,0,0,0,0,0,0,0,0,0,0,0,0,0,0,0,0,0,0,0,0,0,0,0,0,0,0,0,2,0,1,1,0,1,0,1,1,0,0,0,0,0,1,0,0,0,0,0,0,0,0,0,0,0,0,0,0,0,0,0,0,0,0,0,0,0,0,0,0,0,0,2,0,1,1,0,1,0,1,1,0,0,0,0,0,1,0,0,0,0,0,0,0,0,0,0,0,0,0,0,0,0,0,0,0,0,0,0,0,0,0,0,0,0,2,0,1,1,0,1,0,1,1,0,0,0,0,0,1,0,0,0,0,0,0,0,0,0,0,0,0,0,0,0,0,0,0,0,0,0,0,0,0,0,0,0,0,2,0,1,1,0,1,0,1,1,0,0,0,0,0,1,0,0,0,0,0,0,0,0,0,0,0,0,0,0,0,0,0,0,0,0,0,0,0,0,0,0,0,0,2,0,1,1,0,1,0,1,1,0,0,0,0,0,1,0,0,0,0,0,0,0,0,0,0,0,0,0,0,0,0,0,0,0,0,0,0,0,0,0,0,0,0,2,0,1,1,0,1,0,1,1,0,0,0,0,0,1,0,0,0,0,0,0,0,0,0,0,0,0,0,0,0,0,0,0,0,0,0,0,0,0,0,0,0,0,2,0,1,1,0,1,0,1,1,0,0,0,1,0,1,0,0,0,0,0,0,0,0,0,0,0,0,0,0,0,0,0,0,0,0,0,0,0,0,0,0,0,0,2,0,1,1,0,1,0,1,1,0,0,0,1,0,1,0,0,0,0,0,0,0,0,0,0,0,0,0,0,0,0,0,0,0,0,0,0,0,0,0,0,0,0,2,0,1,1,0,1,0,1,1,0,0,0,1,0,1,0,0,0,0,0,0,0,0,0,0,0,0,0,0,0,0,0,0,0,0,0,0,0,0,0,0,0,0,2,0,1,1,0,1,0,1,1,0,0,0,1,0,1,0,0,0,0,0,0,0,0,0,0,0,0,0,0,0,0,0,0,0,0,0,0,0,0,0,0,0,0,2,0,1,1,0,1,0,1,1,0,0,0,1,0,1,0,0,0,0,0,0,0,0,0,0,0,0,0,0,0,0,0,0,0,0,0,0,0,0,0,0,0,0,2,0,1,1,0,1,0,1,1],\"coloraxis\":\"coloraxis\",\"symbol\":\"circle\"},\"mode\":\"markers\",\"name\":\"\",\"orientation\":\"v\",\"showlegend\":false,\"x\":[-0.0076926170285675066,-0.5879924795767708,0.4835233173127524,0.3791461395184513,-0.7492023721628268,0.2507722621405069,0.06606534887620316,-0.6891150718825513,-0.45550660276439164,-0.3832268054962351,-0.6118308419936769,-0.8347886319964927,-0.31895636878929484,-0.7283829841641616,-0.5047650430855767,-0.9350355304263639,-0.8299784450925332,-0.7257085438982014,-1.1524517362855964,-0.9976282710096972,-0.9412403854468357,-0.7222989046623268,-0.870629689205541,0.15109045065676777,-1.2928542090220667,-1.0470655512754534,-1.5333984375935286,-0.7016884553298776,-1.1597723045049622,-1.4307556865702415,-0.7697488856178584,-0.4266476745794059,0.15445107282748097,-0.2828781193959927,3.2156513933334523,0.13216419386495717,1.504740850572765,0.5821793413177861,-0.17712888508688193,0.5216811976925578,0.1945706970511894,2.7551414019414397,1.31975499115808,-0.19201472536370415,-0.5373713787610996,0.3971348540519942,0.7992184608660573,-0.7717031148967297,0.12631851780020498,0.12827997464978363,-0.5229600731162112,-0.4159245036814234,-0.2528986093340954,-0.638165169886575,-0.8338539510266457,-0.36265130120359956,-0.852371519583983,-0.5677849252930028,-0.883642166267519,-0.766360608729539,-0.7019778009172035,-1.0524534128064191,-1.0080094985698256,-0.982535531615233,-0.5254356933370576,-0.9703071698598874,0.03656114579759073,-1.2583567767555404,-1.0995961946763373,-1.4318132663412757,-0.7259874355216855,-1.1179508602463477,-1.401674150598209,-0.8517863415158756,-0.17171269095907693,0.23510216081006854,-0.24254447951109886,4.803267818466,0.06539953270527286,1.9694453694381695,0.602099746135228,-0.08997855687837222,0.9188473882921404,-0.13429199164004407,2.444803213275617,1.9609586867923636,-0.24086339539695242,-0.5356592574194561,0.31792085940134646,0.5361882104302642,-0.8011579323417107,0.020273283426255506,0.023033662726933836,-0.5300343054784667,-0.4068570280407692,-0.27312751141557734,-0.517505202450567,-0.805012494885185,-0.3120534183974569,-0.7914981313586136,-0.6051677410167794,-0.9137013645583082,-0.6911925463723612,-0.5112301952430801,-0.9974235682419266,-0.9865374512136544,-0.9839513249488542,-0.4839267453824383,-1.1285268009236078,0.733240899377763,-1.1699720761968666,-1.1812468725625516,-1.3729964770727998,-0.701464597831434,-0.7833392493839,-1.394494586148053,-0.7846172083935097,-0.37294188339280826,0.3807183596986834,-0.3177318613369916,5.6704569187330565,0.10352518024019927,2.012570558162675,0.7654247869275236,0.326666670204412,0.9682873678180168,-0.2031306156339546,2.545479562764596,1.869271616141369,-0.2530553084463004,-0.5233729454957835,0.3199581026143142,0.8070161838065815,-0.8023612219552496,0.023673671442377118,0.03414829850129367,-0.5282658760629485,-0.411613023395592,-0.279233098564453,-0.4755897934340312,-0.7919017371820307,-0.27222622018696235,-0.8048391545757173,-0.6119377363246357,-0.9027408557135072,-0.7352832604121187,-0.4441873303734671,-1.0070395472202915,-0.9827506011111533,-0.934168262136754,-0.44520369555000977,-1.1377954227176403,0.6024834319345733,-1.1507111759184492,-1.1616592098785647,-1.3726589933000384,-0.5455288849844744,-0.7973194393825045,-1.376881347790538,-0.6694075857942581,-0.16556760109335678,0.3590689722211051,-0.3200424737294585,6.208729032317671,0.2924557557975197,1.9816479265753255,0.8318318895321646,0.3875398281525745,0.9225947406957146,-0.21809227596823533,2.647200042234578,1.997374781271322,-0.3142116035793548,-0.5477057220882745,0.32422223279286305,0.7610686877367492,-0.8024806982775209,0.032262397183327136,0.014064624644630843,-0.5139748404774594,-0.4079775187616147,-0.25898752806231995,-0.4703194934204846,-0.7940736884086338,-0.256306614280719,-0.6938371473998906,-0.6114800063231778,-0.91885981853907,-0.7208778036869407,-0.4543262193271606,-0.9949534995498572,-0.9837672841330267,-0.9426620533532138,-0.42759230680668253,-1.2122782334188185,0.5351900728065458,-1.1382900464997496,-1.1582984218015033,-1.3000488865520412,-0.5437667518897746,-0.7765449712786142,-1.3666724767008547,-0.6629972589296791,-0.2650136451789535,0.2982005008942712,-0.32006748871627255,6.647723484631949,0.31772720914772123,2.060204338522763,0.7887916795828416,0.36798185504184805,0.9466165981592372,-0.23528872201615939,2.645704302587083,2.0057354762940007,-0.3008540476709816,-0.5508253603071628,0.35690873520453,0.9699824276476471,-0.8043583035394901,0.025648648566833594,0.07153279888636627,-0.523013975241339,-0.40812136426278645,-0.26278226379371006,-0.4660714700246362,-0.8022133111027894,-0.24702897654189418,-0.7098771048813658,-0.6105608434811826,-0.9078349686079465,-0.652223378377409,-0.5083534770198338,-0.9913596579498402,-0.9800851171647474,-0.9502496914414655,-0.43542064382560386,-1.2284350245511355,0.7989621670977989,-1.1129697093875015,-1.1578441623614675,-1.299908349605814,-0.5169139381916563,-0.749711922097595,-1.3478887693081214,-0.61846314886929,-0.2336464787468124,0.32317898249581906,-0.3235516276759663,7.005237110711693,0.6446988479798536,2.275257530050131,0.7770902594692745,0.31439539847884945,1.0016847617513962,-0.20354358783168586,2.3790416505292526,2.099626817709444,-0.2789457413973013,-0.5370604519454644,0.40525224563895235,1.4854716405263395,-0.7995795049022042,0.023892649927596602,0.07769887664917476,-0.5257456029860633,-0.4084341916716944,-0.28792598727228347,-0.42155212778534673,-0.7956099199448396,-0.306936063140769,-0.6999713933422963,-0.6168826850933712,-0.9015681168326546,-0.6271511720654883,-0.5347132626899551,-1.0115480249123718,-0.965404864649324,-0.9341885392169829,-0.4187355817336493,-1.2160878576134901,0.9889077127624769,-1.0796143013949762,-1.142257842320702,-1.296084397876998,-0.5595328242257883,-0.6855494268348311,-1.3261772920842876,-0.5910331600797742,-0.2291928970177443,0.3576825537951034,-0.12411572404735446,7.458593083480697,0.8558744359372255,2.374642979193867,0.8133985724296765,0.34537431012412645,0.9794337283734755,0.026854343838146395,2.3387443054694614,2.355143175258081,-0.23774676255604296,-0.5281380002323075,0.5569083151105743,1.3273169146255286,-0.7979564715282588,0.02130604538400577,0.18540408039296888,-0.5286601151840623,-0.3005393858156641,-0.2670905851620726,-0.421394548381037,-0.7881349712763465,-0.29843934370860736,-0.698893585190338,-0.6188611243595006,-0.8918935768537017,-0.557532607411596,-0.5421444761223323,-1.021826498830052,-0.8757070979958421,-0.9262405724981982,-0.37601454154167613,-1.190906914595488,1.206890016981866,-1.0727295159486128,-1.1273827906816873,-1.2957115150796823,-0.48965721121933836,-0.6004872142685127,-1.3019932900520124,-0.6730544697140315,-0.2726011981379327,0.27762518456156887,-0.11134018088329699,7.425582502829259,0.734093408535763,2.2593350546669773,0.8025779119217235,0.27306786415527223,0.9378846637130465,0.233224274228471,2.2627195949827468,2.2651970750646258,-0.24621242662602771,-0.517043687707793,0.6580760857569395,1.4019238447509963,-0.7968545076483227,0.017691236508557202,0.2622715573782002,-0.536404239002528,-0.23720276782221814,-0.2446114081707635,-0.3901440266236191,-0.7681859741786095,-0.3438802021904255,-0.7013248588650743,-0.6251343538495782,-0.8865954979826884,-0.5575332483988036,-0.49178212800863513,-1.0186230333517081,-0.8710881820275997,-0.9826333242086629,-0.2702087748183057,-1.1678706038708087,1.7114381429420884,-1.0159276585898243,-1.1437811126170792,-1.2937059990942805,-0.42352594613075734,-0.4662593933781749,-1.2660954727592806,-0.5801726755968996,-0.2983815991292072,0.3617004296234155,-0.11161244884777341,8.195748037712072,0.8593025091894546,2.3784836660095077,0.8016490154620459,0.2506524093325964,0.995700273589924,0.31654248950682634,2.3190375217943813,2.3729847881589055,-0.2440329537130676,-0.5011318074706819,0.6604430361177026,1.5736708962544388,-0.8077955399608683,0.020349776551948393,0.26852357437855,-0.4637599579296412,-0.276540675266164,-0.2372448660671399,-0.4236639816171444,-0.7628986420486316,-0.3730653369100319,-0.6846289289975677,-0.6313609075988555,-0.8813164203699904,-0.5362795724014695,-0.4398107905208828,-1.0137658921650403,-0.866685504931555,-0.963860021370426,-0.026552605653418236,-1.1749393144478573,1.6804154790607917,-0.9935139808671016,-1.1264855773144473,-1.29078194725323,-0.3509114013435111,-0.5375039227465704,-1.2305963674566391,-0.5460667284606419,-0.20062636633874825,0.3745514894636176,-0.11558854752233108,8.228344318939369,1.1422061933029481,2.514312630437057,1.012849539293944,0.33468786715751675,1.0393696392449774,0.28507920149463667,2.2917012423679446,2.5839149272804276,-0.6031559036557848,-0.5311981019705565,0.6514448201232141,1.5162073397559033,-0.8042173878242408,0.020807062960938826,0.2526140712770515,-0.4635446985212163,-0.27404007401018227,-0.24312591443891848,-0.43744346467671086,-0.7643873163214113,-0.3273175905842422,-0.6931988172936736,-0.6371131386259347,-0.8751777692343472,-0.5009466759585731,-0.43322917353637785,-1.013490559089822,-0.8694372142119329,-0.9362419229186647,-0.028207008359988767,-1.173400120646502,1.6243942250953383,-0.960521323540334,-1.1195080256153032,-1.2902364670485384,-0.3404654903626372,-0.4212380881912443,-1.1617510386380858,-0.613729096746354,-0.3016633789716214,0.43451581621393165,-0.25808419736760063,8.100050753522682,1.1227968552016014,2.632049007974328,1.0106282716745099,0.41795487453031255,1.051366393504021,0.38973496178238176,2.2354957132935773,2.7166172744631756,-0.6022567560310284,-0.5393933293598684,0.6408461543060172,1.602846443538066,-0.7991349394296057,0.018812762623584254,0.2556958255246755,-0.4552337832026,-0.28100502095643454,-0.24298346717161987,-0.4639601451387374,-0.7679547919155189,-0.2947713700664677,-0.7009194175246188,-0.6363719027150707,-0.8843913470358715,-0.5395189112461666,-0.4067693170523853,-1.012206808493284,-0.8626984223275074,-0.9449798615507584,-0.009324619018366726,-1.153713860638351,1.841123981280556,-0.947272342810091,-1.1353942140954147,-1.2863602591222218,-0.3628643200812743,-0.4334712159569132,-1.114040802124371,-0.5689587266126266,-0.38503969124476395,0.4212860595026916,-0.24663796752392012,8.193483308041552,1.1369624002268395,2.5784133230623256,1.094280067947712,0.6814684535216967,1.0420126824237985,0.42874504181276857,2.2079333597621513,2.8254336155779303],\"xaxis\":\"x\",\"y\":[-0.26943735129682844,0.6128617709513402,-0.2867893679110059,-0.1842973990177477,0.6453735281028645,-2.183388816843312,0.6431638544893536,0.16209515496934865,-0.7788793273019166,0.1713281994703365,0.7226675419502668,0.4786294679606315,-0.29887191339944985,0.18549272407294576,-0.9153423663743615,0.6685829361996259,1.1503974514019821,1.0459384089281898,0.5935216567185527,0.0936470716532608,0.40177918985896927,0.3991080102143349,0.4030979562522761,0.9158409646476146,0.7375857724830182,0.15415770834125533,1.0009778494093549,0.2584935376122796,0.1427549973810735,0.714647059658099,-0.06480643422735752,-0.056138688152962406,-0.20302278443652644,0.402036501973048,2.395511868005289,0.4760808972195695,-1.7218430014564219,-2.0359814729233214,0.5990853454569891,-1.4627341149397035,0.8580022702416148,-2.7454846929536747,-1.324886302414659,-0.2539380500876714,0.6447832266793725,-0.2629867642647812,-0.1899434627710797,0.6387239045076344,-1.9298153047999431,0.0978513013224719,-0.3025587056573165,-0.9163315823987026,-0.20962460434132113,0.7462934294168565,0.5119191654329897,-0.24686580818343798,0.40592451049182343,-0.783142706157753,0.4990533471060233,1.2085582933791892,0.8069693778823639,0.3663378582896149,0.1903376843152427,0.42718500696511885,0.28826738949621517,0.44222599547003305,0.6522214712663967,0.7888199298136263,0.25337435476706405,0.74688591204684,0.20954182060409404,0.38817507602053786,0.7569933417965138,0.20007735480933678,-0.15887010293242848,-0.020432645161172443,0.4248326204052738,3.4496669052982885,0.4468347870517903,-3.439054477365432,-1.8495783269890844,0.6368014999586894,-2.669688838086456,0.784389731240346,-2.910650118565741,-1.4778879438101251,-0.3476971136320854,0.6507522784027606,-0.4204073081440983,-0.33265016041652434,0.6243618461602337,-1.7048342034561332,0.2986849022976628,-0.28477092613944915,-0.8920656043010681,-0.18369151157437322,0.9612243431751437,0.5438810438645003,-0.11765890365116137,0.24949394140962708,-0.6958662469179812,0.5440245019685557,1.3425911200895158,1.7275523221301536,0.18481554245391116,0.20079705723397953,0.44652467023639547,0.15001992671070702,0.3931073210910301,0.37242396093101293,0.8518445632276057,0.5850949117168274,0.5594000971785013,0.29717277539472314,0.1820013975903151,0.761040679595785,0.5409866832519054,0.30089035928931107,-0.3814215320136835,0.40604137064014423,3.6396245197958974,0.4675592770474952,-3.78631339035895,-2.2844109876791023,-0.052316127566694216,-2.6425527038240837,0.7583985724890098,-2.862906651656632,-1.5302668539927375,-0.3787094852606917,0.6452269278557881,-0.4166219276536972,-0.1804341690416769,0.6245425774349487,-1.7034095892009324,0.31425735955794454,-0.2854598641605245,-0.9017144350611884,-0.18055359200753374,0.8857954347529174,0.5538345589759418,-0.10074034845123879,0.3079363121376019,-0.6775828628333763,0.543650179131135,1.3578037669727643,1.8987484682814046,0.20871296746658194,0.18950634548672196,0.46868508418052574,0.10059487070202965,0.39403029285879115,0.29443677438421917,0.8545135449975142,0.5820002916018244,0.5595611541277165,0.1868152292343781,0.12064222350502604,0.764414923832466,0.35342303978938666,0.1243592194440198,-0.3905782425236685,0.40232371048159166,3.8728835970882116,0.5542493797872252,-3.646740279524245,-2.496470093500423,-0.024641477872853135,-2.5579123568232656,0.7591559976653296,-2.813265985099305,-1.4768481077047926,-0.35029351614875764,0.6400410147386563,-0.44228455958959967,-0.19942384162354862,0.6244631815081768,-1.6997907831285526,0.27273857765656584,-0.2987770471752921,-0.8989201294483733,-0.15947331828718486,0.8681267376319595,0.551824140614148,-0.09320821593506422,0.07643515959827644,-0.6886437394163855,0.5373493742785281,1.3792265047241645,2.322307677035295,0.20591333423061184,0.19050356130322996,0.47987051308196377,0.1294520643657744,0.63144918525984,0.2513350240629241,0.8723678651776642,0.5883101783367356,0.35314470553206945,0.22669323432101632,0.12505329413614755,0.7719122322714663,0.10842745354908159,-0.046282984373719825,-0.41244226583550336,0.4030934582722383,4.144684405467476,0.5715904542712571,-3.6088186451129776,-2.4366841991489827,-0.03871685946067644,-2.546050880639673,0.7505970889507045,-2.8151925221230947,-1.8101138005551864,-0.354023523127153,0.6434755217070424,-0.4131915944310486,-0.1053765669676025,0.6222260681472507,-1.702579338041442,0.29346808749447045,-0.2842046598447602,-0.8684887031813413,-0.1964908745991791,0.8450742606369038,0.5497906742970243,-0.11396002866322968,0.08695691074638653,-0.6654610096421218,0.5578911708531383,1.409548176179955,1.9203810173137927,0.20742746051857797,0.20213653861218622,0.476442340613276,0.10406009353362064,0.6194556495024908,0.379765901468518,0.8875218281048444,0.5849467655249289,0.3532135078113453,0.03979430113956924,0.3656917854073798,0.7812477106220637,0.10232513140245166,-0.018783234531550935,-0.40402238031190896,0.4034948782409407,4.371089486822744,0.7316056007105175,-3.488517851363444,-2.4395109941031827,-0.05578473708697284,-2.5238793878755588,0.7574141822732107,-2.9379692510946596,-1.7669328170867524,-0.34520460986033746,0.6413366580473622,-0.3960817694082347,-0.06834774214577952,0.6271528232829477,-1.7033207088619118,0.2936259171576816,-0.2857988806803201,-0.9003706369833283,-0.14752655448732352,0.8394057276117446,0.5486046778060972,-0.1385905944844728,0.09045109715166008,-0.6705256561464827,0.5537167966850397,1.388488421295281,2.135393473865949,0.23046644044096332,0.20831198633164724,0.49332019192016485,0.33279938992052105,0.6252176345392048,0.47129620795427646,0.911442380054923,0.5893162354136817,0.3483621491577628,0.23339205525447146,0.3716577213407289,0.8213815828178506,0.13745234810658935,0.017593508749967148,-0.38946212553791826,-0.05832684918868779,4.595411853697286,0.8211090147084209,-3.452738709621848,-2.423489550751183,-0.043882455135465376,-2.5322370928143862,0.4552763191004485,-2.957251306945153,-1.6396951198636844,-0.328265400983214,0.6468600707473376,-0.3507722597872043,-0.6465983944159777,0.6266056720937073,-1.7044260025214315,0.13867003762014493,-0.2870363956366025,-1.2570404272602969,-0.1613245441637958,0.8060842405855312,0.5494680453461791,-0.1356437435234182,0.09475723397892512,-0.6586926026852512,0.5586946190173617,1.4549781139982398,1.9627060040221376,0.2458569491777495,-0.007020436170129248,0.5323927856662314,0.3444640700408246,0.6354714027888476,0.5652218595341879,0.9012170793996361,0.5991114548712931,0.34568790396126237,0.27738697510413196,0.411596755306394,0.8400521069192682,0.06531802205631393,-0.06704780943501816,-0.3565286475669305,-0.045878535488626644,4.65442629947111,0.7749074651507404,-3.512822050957805,-2.425643810407663,-0.07857890057634398,-2.544387341480724,0.5144277286808909,-3.1833467024539477,-1.658771238973965,-0.32287133539107704,0.6522372241142343,-0.31454335554249346,-0.5717157034548705,0.6314299000960054,-1.7059006856059642,0.18251550273853095,-0.2902885271942529,-1.4243125902338354,-0.1785214175820718,0.8171767650423614,0.5566849732572251,-0.15426162724137418,0.08704517274963232,-0.6519493988386382,0.5515621925996449,1.4406955669297044,1.9245432476129882,0.24577663033868288,0.005704790960178592,0.5606790246306119,0.38784138302807203,0.6513420700659992,1.1106287414646163,0.9271085591435004,0.6021124399651092,0.34796482476456475,0.28912583688645505,0.45324469051536975,0.8533597557344349,0.11213697837952193,-0.024547385526951262,-0.3176597760491008,-0.050486055884878867,5.079482687968424,0.8214721995658275,-3.4403397380568816,-2.425807712009772,-0.08586715760576695,-2.7536404024935313,0.5671486413451897,-3.1560304065339744,-1.6136629839629713,-0.3214994768386654,0.6610677863254294,-0.2982850860953387,-0.44462879051454984,0.6286810759798758,-1.7047983935089757,0.1903747056877191,-0.49775759790731744,-1.2415812234149564,-0.14247733877745913,0.8358719565079745,0.5584920866557002,-0.18897892108313888,0.09690408947446237,-0.6355433536645714,0.5659076769817295,1.380232376335658,1.5268323355203104,0.2413719840698187,0.007546286689956614,0.5834848962664961,0.2727087899204002,0.6502098093666119,1.1142295739888992,0.9436336723649027,0.617578245312909,0.3398817888552403,0.32572029341319353,0.4177686146455213,0.8747518953268708,0.29906413611969507,-0.05167442070302277,-0.3172226608557127,-0.03939808706340438,5.146893672618,0.9568129081097644,-3.3626053079530043,-3.0160827882955754,-0.0514058781126859,-2.73689214315552,0.5835455918128902,-3.165487130951155,-1.5200763530167216,-0.27229387692816825,0.6548093991248524,-0.3129258904059419,-0.38767252812952097,0.6325132842940197,-1.70461594715102,0.18255358510269645,-0.4969468220559475,-1.2374207444423648,-0.12138198148600958,0.8173989517803979,0.5703688478927214,-0.17011944954162941,0.09505636404063963,-0.6461016400594829,0.5598740573166399,1.4067906429635955,1.0322504358475342,0.241485214368324,0.0063906465421337075,0.5723126961170766,0.24619443389414528,0.6444784771533141,1.0667491323176452,0.9602923538962892,0.6067624385119584,0.3401376819517866,0.3088016884260656,0.48626547590240937,0.9050351619830965,0.26803405968865596,-0.018102689106391585,-0.22246044346647695,-0.022081468776734055,5.053154821160689,0.9443055346519885,-3.3037096162698734,-3.020035996351437,-0.015202711930939266,-2.7244117790303757,0.6159705656213781,-3.1864158497374926,-1.4405935433369892,-0.2652493769110387,0.6392750138695262,-0.2971914925081519,-0.31490581977392046,0.639104380371062,-1.7047508477503412,0.19007448543841327,-0.4948689314213991,-1.2482025717501324,-0.20031794703051609,0.7893847222083084,0.5615146363821337,-0.15384844873398468,0.09033804198531623,-0.6352642844388194,0.5560382253738272,1.3370958265373403,0.9818993604454218,0.23557182646596336,0.009230738431825565,0.5589179163529339,0.25855065558678286,0.664164480642253,1.1377609475112116,0.96355374914795,0.6180193461525357,0.3345884957016866,0.30426365384061066,0.4702642354282839,0.932006878421099,0.2899970897063259,-0.22683012997512284,-0.2389727554051426,-0.02329862207940523,5.257985681246013,0.9525720589423758,-3.335459189087945,-2.9750953192177585,-0.5371404431370381,-2.7200596292700183,0.6231066493660307,-3.3906457766825056,-1.3667191218024395],\"yaxis\":\"y\",\"type\":\"scatter\"}],                        {\"template\":{\"data\":{\"histogram2dcontour\":[{\"type\":\"histogram2dcontour\",\"colorbar\":{\"outlinewidth\":0,\"ticks\":\"\"},\"colorscale\":[[0.0,\"#0d0887\"],[0.1111111111111111,\"#46039f\"],[0.2222222222222222,\"#7201a8\"],[0.3333333333333333,\"#9c179e\"],[0.4444444444444444,\"#bd3786\"],[0.5555555555555556,\"#d8576b\"],[0.6666666666666666,\"#ed7953\"],[0.7777777777777778,\"#fb9f3a\"],[0.8888888888888888,\"#fdca26\"],[1.0,\"#f0f921\"]]}],\"choropleth\":[{\"type\":\"choropleth\",\"colorbar\":{\"outlinewidth\":0,\"ticks\":\"\"}}],\"histogram2d\":[{\"type\":\"histogram2d\",\"colorbar\":{\"outlinewidth\":0,\"ticks\":\"\"},\"colorscale\":[[0.0,\"#0d0887\"],[0.1111111111111111,\"#46039f\"],[0.2222222222222222,\"#7201a8\"],[0.3333333333333333,\"#9c179e\"],[0.4444444444444444,\"#bd3786\"],[0.5555555555555556,\"#d8576b\"],[0.6666666666666666,\"#ed7953\"],[0.7777777777777778,\"#fb9f3a\"],[0.8888888888888888,\"#fdca26\"],[1.0,\"#f0f921\"]]}],\"heatmap\":[{\"type\":\"heatmap\",\"colorbar\":{\"outlinewidth\":0,\"ticks\":\"\"},\"colorscale\":[[0.0,\"#0d0887\"],[0.1111111111111111,\"#46039f\"],[0.2222222222222222,\"#7201a8\"],[0.3333333333333333,\"#9c179e\"],[0.4444444444444444,\"#bd3786\"],[0.5555555555555556,\"#d8576b\"],[0.6666666666666666,\"#ed7953\"],[0.7777777777777778,\"#fb9f3a\"],[0.8888888888888888,\"#fdca26\"],[1.0,\"#f0f921\"]]}],\"heatmapgl\":[{\"type\":\"heatmapgl\",\"colorbar\":{\"outlinewidth\":0,\"ticks\":\"\"},\"colorscale\":[[0.0,\"#0d0887\"],[0.1111111111111111,\"#46039f\"],[0.2222222222222222,\"#7201a8\"],[0.3333333333333333,\"#9c179e\"],[0.4444444444444444,\"#bd3786\"],[0.5555555555555556,\"#d8576b\"],[0.6666666666666666,\"#ed7953\"],[0.7777777777777778,\"#fb9f3a\"],[0.8888888888888888,\"#fdca26\"],[1.0,\"#f0f921\"]]}],\"contourcarpet\":[{\"type\":\"contourcarpet\",\"colorbar\":{\"outlinewidth\":0,\"ticks\":\"\"}}],\"contour\":[{\"type\":\"contour\",\"colorbar\":{\"outlinewidth\":0,\"ticks\":\"\"},\"colorscale\":[[0.0,\"#0d0887\"],[0.1111111111111111,\"#46039f\"],[0.2222222222222222,\"#7201a8\"],[0.3333333333333333,\"#9c179e\"],[0.4444444444444444,\"#bd3786\"],[0.5555555555555556,\"#d8576b\"],[0.6666666666666666,\"#ed7953\"],[0.7777777777777778,\"#fb9f3a\"],[0.8888888888888888,\"#fdca26\"],[1.0,\"#f0f921\"]]}],\"surface\":[{\"type\":\"surface\",\"colorbar\":{\"outlinewidth\":0,\"ticks\":\"\"},\"colorscale\":[[0.0,\"#0d0887\"],[0.1111111111111111,\"#46039f\"],[0.2222222222222222,\"#7201a8\"],[0.3333333333333333,\"#9c179e\"],[0.4444444444444444,\"#bd3786\"],[0.5555555555555556,\"#d8576b\"],[0.6666666666666666,\"#ed7953\"],[0.7777777777777778,\"#fb9f3a\"],[0.8888888888888888,\"#fdca26\"],[1.0,\"#f0f921\"]]}],\"mesh3d\":[{\"type\":\"mesh3d\",\"colorbar\":{\"outlinewidth\":0,\"ticks\":\"\"}}],\"scatter\":[{\"fillpattern\":{\"fillmode\":\"overlay\",\"size\":10,\"solidity\":0.2},\"type\":\"scatter\"}],\"parcoords\":[{\"type\":\"parcoords\",\"line\":{\"colorbar\":{\"outlinewidth\":0,\"ticks\":\"\"}}}],\"scatterpolargl\":[{\"type\":\"scatterpolargl\",\"marker\":{\"colorbar\":{\"outlinewidth\":0,\"ticks\":\"\"}}}],\"bar\":[{\"error_x\":{\"color\":\"#2a3f5f\"},\"error_y\":{\"color\":\"#2a3f5f\"},\"marker\":{\"line\":{\"color\":\"#E5ECF6\",\"width\":0.5},\"pattern\":{\"fillmode\":\"overlay\",\"size\":10,\"solidity\":0.2}},\"type\":\"bar\"}],\"scattergeo\":[{\"type\":\"scattergeo\",\"marker\":{\"colorbar\":{\"outlinewidth\":0,\"ticks\":\"\"}}}],\"scatterpolar\":[{\"type\":\"scatterpolar\",\"marker\":{\"colorbar\":{\"outlinewidth\":0,\"ticks\":\"\"}}}],\"histogram\":[{\"marker\":{\"pattern\":{\"fillmode\":\"overlay\",\"size\":10,\"solidity\":0.2}},\"type\":\"histogram\"}],\"scattergl\":[{\"type\":\"scattergl\",\"marker\":{\"colorbar\":{\"outlinewidth\":0,\"ticks\":\"\"}}}],\"scatter3d\":[{\"type\":\"scatter3d\",\"line\":{\"colorbar\":{\"outlinewidth\":0,\"ticks\":\"\"}},\"marker\":{\"colorbar\":{\"outlinewidth\":0,\"ticks\":\"\"}}}],\"scattermapbox\":[{\"type\":\"scattermapbox\",\"marker\":{\"colorbar\":{\"outlinewidth\":0,\"ticks\":\"\"}}}],\"scatterternary\":[{\"type\":\"scatterternary\",\"marker\":{\"colorbar\":{\"outlinewidth\":0,\"ticks\":\"\"}}}],\"scattercarpet\":[{\"type\":\"scattercarpet\",\"marker\":{\"colorbar\":{\"outlinewidth\":0,\"ticks\":\"\"}}}],\"carpet\":[{\"aaxis\":{\"endlinecolor\":\"#2a3f5f\",\"gridcolor\":\"white\",\"linecolor\":\"white\",\"minorgridcolor\":\"white\",\"startlinecolor\":\"#2a3f5f\"},\"baxis\":{\"endlinecolor\":\"#2a3f5f\",\"gridcolor\":\"white\",\"linecolor\":\"white\",\"minorgridcolor\":\"white\",\"startlinecolor\":\"#2a3f5f\"},\"type\":\"carpet\"}],\"table\":[{\"cells\":{\"fill\":{\"color\":\"#EBF0F8\"},\"line\":{\"color\":\"white\"}},\"header\":{\"fill\":{\"color\":\"#C8D4E3\"},\"line\":{\"color\":\"white\"}},\"type\":\"table\"}],\"barpolar\":[{\"marker\":{\"line\":{\"color\":\"#E5ECF6\",\"width\":0.5},\"pattern\":{\"fillmode\":\"overlay\",\"size\":10,\"solidity\":0.2}},\"type\":\"barpolar\"}],\"pie\":[{\"automargin\":true,\"type\":\"pie\"}]},\"layout\":{\"autotypenumbers\":\"strict\",\"colorway\":[\"#636efa\",\"#EF553B\",\"#00cc96\",\"#ab63fa\",\"#FFA15A\",\"#19d3f3\",\"#FF6692\",\"#B6E880\",\"#FF97FF\",\"#FECB52\"],\"font\":{\"color\":\"#2a3f5f\"},\"hovermode\":\"closest\",\"hoverlabel\":{\"align\":\"left\"},\"paper_bgcolor\":\"white\",\"plot_bgcolor\":\"#E5ECF6\",\"polar\":{\"bgcolor\":\"#E5ECF6\",\"angularaxis\":{\"gridcolor\":\"white\",\"linecolor\":\"white\",\"ticks\":\"\"},\"radialaxis\":{\"gridcolor\":\"white\",\"linecolor\":\"white\",\"ticks\":\"\"}},\"ternary\":{\"bgcolor\":\"#E5ECF6\",\"aaxis\":{\"gridcolor\":\"white\",\"linecolor\":\"white\",\"ticks\":\"\"},\"baxis\":{\"gridcolor\":\"white\",\"linecolor\":\"white\",\"ticks\":\"\"},\"caxis\":{\"gridcolor\":\"white\",\"linecolor\":\"white\",\"ticks\":\"\"}},\"coloraxis\":{\"colorbar\":{\"outlinewidth\":0,\"ticks\":\"\"}},\"colorscale\":{\"sequential\":[[0.0,\"#0d0887\"],[0.1111111111111111,\"#46039f\"],[0.2222222222222222,\"#7201a8\"],[0.3333333333333333,\"#9c179e\"],[0.4444444444444444,\"#bd3786\"],[0.5555555555555556,\"#d8576b\"],[0.6666666666666666,\"#ed7953\"],[0.7777777777777778,\"#fb9f3a\"],[0.8888888888888888,\"#fdca26\"],[1.0,\"#f0f921\"]],\"sequentialminus\":[[0.0,\"#0d0887\"],[0.1111111111111111,\"#46039f\"],[0.2222222222222222,\"#7201a8\"],[0.3333333333333333,\"#9c179e\"],[0.4444444444444444,\"#bd3786\"],[0.5555555555555556,\"#d8576b\"],[0.6666666666666666,\"#ed7953\"],[0.7777777777777778,\"#fb9f3a\"],[0.8888888888888888,\"#fdca26\"],[1.0,\"#f0f921\"]],\"diverging\":[[0,\"#8e0152\"],[0.1,\"#c51b7d\"],[0.2,\"#de77ae\"],[0.3,\"#f1b6da\"],[0.4,\"#fde0ef\"],[0.5,\"#f7f7f7\"],[0.6,\"#e6f5d0\"],[0.7,\"#b8e186\"],[0.8,\"#7fbc41\"],[0.9,\"#4d9221\"],[1,\"#276419\"]]},\"xaxis\":{\"gridcolor\":\"white\",\"linecolor\":\"white\",\"ticks\":\"\",\"title\":{\"standoff\":15},\"zerolinecolor\":\"white\",\"automargin\":true,\"zerolinewidth\":2},\"yaxis\":{\"gridcolor\":\"white\",\"linecolor\":\"white\",\"ticks\":\"\",\"title\":{\"standoff\":15},\"zerolinecolor\":\"white\",\"automargin\":true,\"zerolinewidth\":2},\"scene\":{\"xaxis\":{\"backgroundcolor\":\"#E5ECF6\",\"gridcolor\":\"white\",\"linecolor\":\"white\",\"showbackground\":true,\"ticks\":\"\",\"zerolinecolor\":\"white\",\"gridwidth\":2},\"yaxis\":{\"backgroundcolor\":\"#E5ECF6\",\"gridcolor\":\"white\",\"linecolor\":\"white\",\"showbackground\":true,\"ticks\":\"\",\"zerolinecolor\":\"white\",\"gridwidth\":2},\"zaxis\":{\"backgroundcolor\":\"#E5ECF6\",\"gridcolor\":\"white\",\"linecolor\":\"white\",\"showbackground\":true,\"ticks\":\"\",\"zerolinecolor\":\"white\",\"gridwidth\":2}},\"shapedefaults\":{\"line\":{\"color\":\"#2a3f5f\"}},\"annotationdefaults\":{\"arrowcolor\":\"#2a3f5f\",\"arrowhead\":0,\"arrowwidth\":1},\"geo\":{\"bgcolor\":\"white\",\"landcolor\":\"#E5ECF6\",\"subunitcolor\":\"white\",\"showland\":true,\"showlakes\":true,\"lakecolor\":\"white\"},\"title\":{\"x\":0.05},\"mapbox\":{\"style\":\"light\"}}},\"xaxis\":{\"anchor\":\"y\",\"domain\":[0.0,1.0],\"title\":{\"text\":\"Principal Component 1\"}},\"yaxis\":{\"anchor\":\"x\",\"domain\":[0.0,1.0],\"title\":{\"text\":\"Principal Component 2\"}},\"coloraxis\":{\"colorbar\":{\"title\":{\"text\":\"Cluster Number\"}},\"colorscale\":[[0.0,\"#0d0887\"],[0.1111111111111111,\"#46039f\"],[0.2222222222222222,\"#7201a8\"],[0.3333333333333333,\"#9c179e\"],[0.4444444444444444,\"#bd3786\"],[0.5555555555555556,\"#d8576b\"],[0.6666666666666666,\"#ed7953\"],[0.7777777777777778,\"#fb9f3a\"],[0.8888888888888888,\"#fdca26\"],[1.0,\"#f0f921\"]]},\"legend\":{\"tracegroupgap\":0},\"margin\":{\"t\":60},\"title\":{\"text\":\"K-means Clustering in PCA Space with 3 Clusters\"}},                        {\"responsive\": true}                    ).then(function(){\n",
       "                            \n",
       "var gd = document.getElementById('2982761d-654e-4fed-a96a-528542861f2b');\n",
       "var x = new MutationObserver(function (mutations, observer) {{\n",
       "        var display = window.getComputedStyle(gd).display;\n",
       "        if (!display || display === 'none') {{\n",
       "            console.log([gd, 'removed!']);\n",
       "            Plotly.purge(gd);\n",
       "            observer.disconnect();\n",
       "        }}\n",
       "}});\n",
       "\n",
       "// Listen for the removal of the full notebook cells\n",
       "var notebookContainer = gd.closest('#notebook-container');\n",
       "if (notebookContainer) {{\n",
       "    x.observe(notebookContainer, {childList: true});\n",
       "}}\n",
       "\n",
       "// Listen for the clearing of the current output cell\n",
       "var outputEl = gd.closest('.output');\n",
       "if (outputEl) {{\n",
       "    x.observe(outputEl, {childList: true});\n",
       "}}\n",
       "\n",
       "                        })                };                });            </script>        </div>"
      ]
     },
     "metadata": {},
     "output_type": "display_data"
    }
   ],
   "source": [
    "#| code-fold: true\n",
    "hover_data = data_standardized[['Country']]\n",
    "\n",
    "fig = px.scatter(data_standardized, x='PCA1', y='PCA2', color='cluster_number_pca', hover_data=hover_data,\n",
    "                 labels={'cluster_number_pca': 'Cluster Number', 'PCA1': 'Principal Component 1', 'PCA2': 'Principal Component 2'})\n",
    "\n",
    "fig.update_layout(title='K-means Clustering in PCA Space with 3 Clusters', xaxis_title='Principal Component 1', yaxis_title='Principal Component 2')\n",
    "fig.show()"
   ]
  },
  {
   "cell_type": "markdown",
   "metadata": {},
   "source": [
    "As you can see there are now three well defined clusters. It is interesting to note that the yellow seems to contain outliers within the data set. \n",
    "\n",
    "Below, I ran K-Means again although I changed the X axis to Marine Protected Area and Y axis to Fishing Exports. \n",
    "\n",
    "### Scatter Plot with Features"
   ]
  },
  {
   "cell_type": "code",
   "execution_count": 660,
   "metadata": {},
   "outputs": [
    {
     "data": {
      "application/vnd.plotly.v1+json": {
       "config": {
        "plotlyServerURL": "https://plot.ly"
       },
       "data": [
        {
         "customdata": [
          [
           "-0.806"
          ],
          [
           "-0.725"
          ],
          [
           "-0.645"
          ],
          [
           "-0.564"
          ],
          [
           "-0.483"
          ],
          [
           "-0.403"
          ],
          [
           "-0.322"
          ],
          [
           "-0.242"
          ],
          [
           "-0.161"
          ],
          [
           "-0.081"
          ],
          [
           "0.000"
          ],
          [
           "0.081"
          ],
          [
           "0.161"
          ],
          [
           "0.242"
          ],
          [
           "0.322"
          ],
          [
           "0.403"
          ],
          [
           "0.483"
          ],
          [
           "0.564"
          ],
          [
           "0.645"
          ],
          [
           "0.725"
          ],
          [
           "0.806"
          ],
          [
           "0.886"
          ],
          [
           "0.967"
          ],
          [
           "1.048"
          ],
          [
           "1.128"
          ],
          [
           "1.209"
          ],
          [
           "1.289"
          ],
          [
           "1.370"
          ],
          [
           "1.450"
          ],
          [
           "1.531"
          ],
          [
           "1.612"
          ],
          [
           "1.692"
          ],
          [
           "-1.692"
          ],
          [
           "-1.612"
          ],
          [
           "-1.531"
          ],
          [
           "-1.450"
          ],
          [
           "-1.370"
          ],
          [
           "-1.289"
          ],
          [
           "-1.209"
          ],
          [
           "-1.128"
          ],
          [
           "-1.048"
          ],
          [
           "-0.967"
          ],
          [
           "-0.886"
          ],
          [
           "-0.806"
          ],
          [
           "-0.725"
          ],
          [
           "-0.645"
          ],
          [
           "-0.564"
          ],
          [
           "-0.483"
          ],
          [
           "-0.403"
          ],
          [
           "-0.322"
          ],
          [
           "-0.242"
          ],
          [
           "-0.161"
          ],
          [
           "-0.081"
          ],
          [
           "0.000"
          ],
          [
           "0.081"
          ],
          [
           "0.161"
          ],
          [
           "0.242"
          ],
          [
           "0.322"
          ],
          [
           "0.403"
          ],
          [
           "0.483"
          ],
          [
           "0.564"
          ],
          [
           "0.645"
          ],
          [
           "0.725"
          ],
          [
           "0.806"
          ],
          [
           "0.886"
          ],
          [
           "0.967"
          ],
          [
           "1.048"
          ],
          [
           "1.128"
          ],
          [
           "1.209"
          ],
          [
           "1.289"
          ],
          [
           "1.370"
          ],
          [
           "1.450"
          ],
          [
           "1.531"
          ],
          [
           "1.612"
          ],
          [
           "1.692"
          ],
          [
           "-1.692"
          ],
          [
           "-1.612"
          ],
          [
           "-1.531"
          ],
          [
           "-1.450"
          ],
          [
           "-1.370"
          ],
          [
           "-1.289"
          ],
          [
           "-1.209"
          ],
          [
           "-1.128"
          ],
          [
           "-1.048"
          ],
          [
           "-0.967"
          ],
          [
           "-0.886"
          ],
          [
           "-0.806"
          ],
          [
           "-0.725"
          ],
          [
           "-0.645"
          ],
          [
           "-0.564"
          ],
          [
           "-0.483"
          ],
          [
           "-0.403"
          ],
          [
           "-0.322"
          ],
          [
           "-0.242"
          ],
          [
           "-0.161"
          ],
          [
           "-0.081"
          ],
          [
           "0.000"
          ],
          [
           "0.081"
          ],
          [
           "0.161"
          ],
          [
           "0.242"
          ],
          [
           "0.322"
          ],
          [
           "0.403"
          ],
          [
           "0.483"
          ],
          [
           "0.564"
          ],
          [
           "0.645"
          ],
          [
           "0.725"
          ],
          [
           "0.806"
          ],
          [
           "0.886"
          ],
          [
           "0.967"
          ],
          [
           "1.048"
          ],
          [
           "1.128"
          ],
          [
           "1.209"
          ],
          [
           "1.289"
          ],
          [
           "1.370"
          ],
          [
           "1.450"
          ],
          [
           "1.531"
          ],
          [
           "1.612"
          ],
          [
           "1.692"
          ],
          [
           "-1.692"
          ],
          [
           "-1.612"
          ],
          [
           "-1.531"
          ],
          [
           "-1.450"
          ],
          [
           "-1.370"
          ],
          [
           "-1.289"
          ],
          [
           "-1.209"
          ],
          [
           "-1.128"
          ],
          [
           "-1.048"
          ],
          [
           "-0.967"
          ],
          [
           "-0.886"
          ],
          [
           "-0.806"
          ],
          [
           "-0.725"
          ],
          [
           "-0.645"
          ],
          [
           "-0.564"
          ],
          [
           "-0.483"
          ],
          [
           "-0.403"
          ],
          [
           "-0.322"
          ],
          [
           "-0.242"
          ],
          [
           "-0.161"
          ],
          [
           "-0.081"
          ],
          [
           "0.000"
          ],
          [
           "0.081"
          ],
          [
           "0.161"
          ],
          [
           "0.242"
          ],
          [
           "0.322"
          ],
          [
           "0.403"
          ],
          [
           "0.483"
          ],
          [
           "0.564"
          ],
          [
           "0.645"
          ],
          [
           "0.725"
          ],
          [
           "0.806"
          ],
          [
           "0.886"
          ],
          [
           "0.967"
          ],
          [
           "1.048"
          ],
          [
           "1.128"
          ],
          [
           "1.209"
          ],
          [
           "1.289"
          ],
          [
           "1.370"
          ],
          [
           "1.450"
          ],
          [
           "1.531"
          ],
          [
           "1.612"
          ],
          [
           "1.692"
          ],
          [
           "-1.692"
          ],
          [
           "-1.612"
          ],
          [
           "-1.531"
          ],
          [
           "-1.450"
          ],
          [
           "-1.370"
          ],
          [
           "-1.289"
          ],
          [
           "-1.209"
          ],
          [
           "-1.128"
          ],
          [
           "-1.048"
          ],
          [
           "-0.967"
          ],
          [
           "-0.886"
          ],
          [
           "-0.806"
          ],
          [
           "-0.725"
          ],
          [
           "-0.645"
          ],
          [
           "-0.564"
          ],
          [
           "-0.483"
          ],
          [
           "-0.403"
          ],
          [
           "-0.322"
          ],
          [
           "-0.242"
          ],
          [
           "-0.161"
          ],
          [
           "-0.081"
          ],
          [
           "0.000"
          ],
          [
           "0.081"
          ],
          [
           "0.161"
          ],
          [
           "0.242"
          ],
          [
           "0.322"
          ],
          [
           "0.403"
          ],
          [
           "0.483"
          ],
          [
           "0.564"
          ],
          [
           "0.645"
          ],
          [
           "0.725"
          ],
          [
           "0.806"
          ],
          [
           "0.886"
          ],
          [
           "0.967"
          ],
          [
           "1.048"
          ],
          [
           "1.128"
          ],
          [
           "1.209"
          ],
          [
           "1.289"
          ],
          [
           "1.370"
          ],
          [
           "1.450"
          ],
          [
           "1.531"
          ],
          [
           "1.612"
          ],
          [
           "1.692"
          ],
          [
           "-1.692"
          ],
          [
           "-1.612"
          ],
          [
           "-1.531"
          ],
          [
           "-1.450"
          ],
          [
           "-1.370"
          ],
          [
           "-1.289"
          ],
          [
           "-1.209"
          ],
          [
           "-1.128"
          ],
          [
           "-1.048"
          ],
          [
           "-0.967"
          ],
          [
           "-0.886"
          ],
          [
           "-0.806"
          ],
          [
           "-0.725"
          ],
          [
           "-0.645"
          ],
          [
           "-0.564"
          ],
          [
           "-0.483"
          ],
          [
           "-0.403"
          ],
          [
           "-0.322"
          ],
          [
           "-0.242"
          ],
          [
           "-0.161"
          ],
          [
           "-0.081"
          ],
          [
           "0.000"
          ],
          [
           "0.081"
          ],
          [
           "0.161"
          ],
          [
           "0.242"
          ],
          [
           "0.322"
          ],
          [
           "0.403"
          ],
          [
           "0.483"
          ],
          [
           "0.564"
          ],
          [
           "0.645"
          ],
          [
           "0.725"
          ],
          [
           "0.806"
          ],
          [
           "0.886"
          ],
          [
           "0.967"
          ],
          [
           "1.048"
          ],
          [
           "1.128"
          ],
          [
           "1.209"
          ],
          [
           "1.289"
          ],
          [
           "1.370"
          ],
          [
           "1.450"
          ],
          [
           "1.531"
          ],
          [
           "1.612"
          ],
          [
           "1.692"
          ],
          [
           "-1.692"
          ],
          [
           "-1.612"
          ],
          [
           "-1.531"
          ],
          [
           "-1.450"
          ],
          [
           "-1.370"
          ],
          [
           "-1.289"
          ],
          [
           "-1.209"
          ],
          [
           "-1.128"
          ],
          [
           "-1.048"
          ],
          [
           "-0.967"
          ],
          [
           "-0.886"
          ],
          [
           "-0.806"
          ],
          [
           "-0.725"
          ],
          [
           "-0.645"
          ],
          [
           "-0.564"
          ],
          [
           "-0.483"
          ],
          [
           "-0.403"
          ],
          [
           "-0.322"
          ],
          [
           "-0.242"
          ],
          [
           "-0.161"
          ],
          [
           "-0.081"
          ],
          [
           "0.000"
          ],
          [
           "0.081"
          ],
          [
           "0.161"
          ],
          [
           "0.242"
          ],
          [
           "0.322"
          ],
          [
           "0.403"
          ],
          [
           "0.483"
          ],
          [
           "0.564"
          ],
          [
           "0.645"
          ],
          [
           "0.725"
          ],
          [
           "0.806"
          ],
          [
           "0.886"
          ],
          [
           "0.967"
          ],
          [
           "1.048"
          ],
          [
           "1.128"
          ],
          [
           "1.209"
          ],
          [
           "1.289"
          ],
          [
           "1.370"
          ],
          [
           "1.450"
          ],
          [
           "1.531"
          ],
          [
           "1.612"
          ],
          [
           "1.692"
          ],
          [
           "-1.692"
          ],
          [
           "-1.612"
          ],
          [
           "-1.531"
          ],
          [
           "-1.450"
          ],
          [
           "-1.370"
          ],
          [
           "-1.289"
          ],
          [
           "-1.209"
          ],
          [
           "-1.128"
          ],
          [
           "-1.048"
          ],
          [
           "-0.967"
          ],
          [
           "-0.886"
          ],
          [
           "-0.806"
          ],
          [
           "-0.725"
          ],
          [
           "-0.645"
          ],
          [
           "-0.564"
          ],
          [
           "-0.483"
          ],
          [
           "-0.403"
          ],
          [
           "-0.322"
          ],
          [
           "-0.242"
          ],
          [
           "-0.161"
          ],
          [
           "-0.081"
          ],
          [
           "0.000"
          ],
          [
           "0.081"
          ],
          [
           "0.161"
          ],
          [
           "0.242"
          ],
          [
           "0.322"
          ],
          [
           "0.403"
          ],
          [
           "0.483"
          ],
          [
           "0.564"
          ],
          [
           "0.645"
          ],
          [
           "0.725"
          ],
          [
           "0.806"
          ],
          [
           "0.886"
          ],
          [
           "0.967"
          ],
          [
           "1.048"
          ],
          [
           "1.128"
          ],
          [
           "1.209"
          ],
          [
           "1.289"
          ],
          [
           "1.370"
          ],
          [
           "1.450"
          ],
          [
           "1.531"
          ],
          [
           "1.612"
          ],
          [
           "1.692"
          ],
          [
           "-1.692"
          ],
          [
           "-1.612"
          ],
          [
           "-1.531"
          ],
          [
           "-1.450"
          ],
          [
           "-1.370"
          ],
          [
           "-1.289"
          ],
          [
           "-1.209"
          ],
          [
           "-1.128"
          ],
          [
           "-1.048"
          ],
          [
           "-0.967"
          ],
          [
           "-0.886"
          ],
          [
           "-0.806"
          ],
          [
           "-0.725"
          ],
          [
           "-0.645"
          ],
          [
           "-0.564"
          ],
          [
           "-0.483"
          ],
          [
           "-0.403"
          ],
          [
           "-0.322"
          ],
          [
           "-0.242"
          ],
          [
           "-0.161"
          ],
          [
           "-0.081"
          ],
          [
           "0.000"
          ],
          [
           "0.081"
          ],
          [
           "0.161"
          ],
          [
           "0.242"
          ],
          [
           "0.322"
          ],
          [
           "0.403"
          ],
          [
           "0.483"
          ],
          [
           "0.564"
          ],
          [
           "0.645"
          ],
          [
           "0.725"
          ],
          [
           "0.806"
          ],
          [
           "0.886"
          ],
          [
           "0.967"
          ],
          [
           "1.048"
          ],
          [
           "1.128"
          ],
          [
           "1.209"
          ],
          [
           "1.289"
          ],
          [
           "1.370"
          ],
          [
           "1.450"
          ],
          [
           "1.531"
          ],
          [
           "1.612"
          ],
          [
           "1.692"
          ],
          [
           "-1.692"
          ],
          [
           "-1.612"
          ],
          [
           "-1.531"
          ],
          [
           "-1.450"
          ],
          [
           "-1.370"
          ],
          [
           "-1.289"
          ],
          [
           "-1.209"
          ],
          [
           "-1.128"
          ],
          [
           "-1.048"
          ],
          [
           "-0.967"
          ],
          [
           "-0.886"
          ],
          [
           "-0.806"
          ],
          [
           "-0.725"
          ],
          [
           "-0.645"
          ],
          [
           "-0.564"
          ],
          [
           "-0.483"
          ],
          [
           "-0.403"
          ],
          [
           "-0.322"
          ],
          [
           "-0.242"
          ],
          [
           "-0.161"
          ],
          [
           "-0.081"
          ],
          [
           "0.000"
          ],
          [
           "0.081"
          ],
          [
           "0.161"
          ],
          [
           "0.242"
          ],
          [
           "0.322"
          ],
          [
           "0.403"
          ],
          [
           "0.483"
          ],
          [
           "0.564"
          ],
          [
           "0.645"
          ],
          [
           "0.725"
          ],
          [
           "0.806"
          ],
          [
           "0.886"
          ],
          [
           "0.967"
          ],
          [
           "1.048"
          ],
          [
           "1.128"
          ],
          [
           "1.209"
          ],
          [
           "1.289"
          ],
          [
           "1.370"
          ],
          [
           "1.450"
          ],
          [
           "1.531"
          ],
          [
           "1.612"
          ],
          [
           "1.692"
          ],
          [
           "-1.692"
          ],
          [
           "-1.612"
          ],
          [
           "-1.531"
          ],
          [
           "-1.450"
          ],
          [
           "-1.370"
          ],
          [
           "-1.289"
          ],
          [
           "-1.209"
          ],
          [
           "-1.128"
          ],
          [
           "-1.048"
          ],
          [
           "-0.967"
          ],
          [
           "-0.886"
          ],
          [
           "-0.806"
          ],
          [
           "-0.725"
          ],
          [
           "-0.645"
          ],
          [
           "-0.564"
          ],
          [
           "-0.483"
          ],
          [
           "-0.403"
          ],
          [
           "-0.322"
          ],
          [
           "-0.242"
          ],
          [
           "-0.161"
          ],
          [
           "-0.081"
          ],
          [
           "0.000"
          ],
          [
           "0.081"
          ],
          [
           "0.161"
          ],
          [
           "0.242"
          ],
          [
           "0.322"
          ],
          [
           "0.403"
          ],
          [
           "0.483"
          ],
          [
           "0.564"
          ],
          [
           "0.645"
          ],
          [
           "0.725"
          ],
          [
           "0.806"
          ],
          [
           "0.886"
          ],
          [
           "0.967"
          ],
          [
           "1.048"
          ],
          [
           "1.128"
          ],
          [
           "1.209"
          ],
          [
           "1.289"
          ],
          [
           "1.370"
          ],
          [
           "1.450"
          ],
          [
           "1.531"
          ],
          [
           "1.612"
          ],
          [
           "1.692"
          ],
          [
           "-1.692"
          ],
          [
           "-1.612"
          ],
          [
           "-1.531"
          ],
          [
           "-1.450"
          ],
          [
           "-1.370"
          ],
          [
           "-1.289"
          ],
          [
           "-1.209"
          ],
          [
           "-1.128"
          ],
          [
           "-1.048"
          ],
          [
           "-0.967"
          ],
          [
           "-0.886"
          ],
          [
           "-0.806"
          ],
          [
           "-0.725"
          ],
          [
           "-0.645"
          ],
          [
           "-0.564"
          ],
          [
           "-0.483"
          ],
          [
           "-0.403"
          ],
          [
           "-0.322"
          ],
          [
           "-0.242"
          ],
          [
           "-0.161"
          ],
          [
           "-0.081"
          ],
          [
           "0.000"
          ],
          [
           "0.081"
          ],
          [
           "0.161"
          ],
          [
           "0.242"
          ],
          [
           "0.322"
          ],
          [
           "0.403"
          ],
          [
           "0.483"
          ],
          [
           "0.564"
          ],
          [
           "0.645"
          ],
          [
           "0.725"
          ],
          [
           "0.806"
          ],
          [
           "0.886"
          ],
          [
           "0.967"
          ],
          [
           "1.048"
          ],
          [
           "1.128"
          ],
          [
           "1.209"
          ],
          [
           "1.289"
          ],
          [
           "1.370"
          ],
          [
           "1.450"
          ],
          [
           "1.531"
          ],
          [
           "1.612"
          ],
          [
           "1.692"
          ],
          [
           "-1.692"
          ],
          [
           "-1.612"
          ],
          [
           "-1.531"
          ],
          [
           "-1.450"
          ],
          [
           "-1.370"
          ],
          [
           "-1.289"
          ],
          [
           "-1.209"
          ],
          [
           "-1.128"
          ],
          [
           "-1.048"
          ],
          [
           "-0.967"
          ],
          [
           "-0.886"
          ]
         ],
         "hovertemplate": "Marine Protected Area (sqkm)=%{x}<br>Fishing Exports (Millions)=%{y}<br>Country=%{customdata[0]}<br>Clusters_f=%{marker.color}<extra></extra>",
         "legendgroup": "",
         "marker": {
          "color": [
           0,
           0,
           0,
           0,
           0,
           2,
           0,
           0,
           0,
           0,
           0,
           0,
           0,
           0,
           0,
           0,
           0,
           0,
           0,
           0,
           0,
           0,
           0,
           0,
           0,
           0,
           0,
           0,
           0,
           0,
           0,
           0,
           0,
           0,
           1,
           0,
           2,
           2,
           0,
           2,
           0,
           2,
           2,
           0,
           0,
           0,
           0,
           0,
           2,
           0,
           0,
           0,
           0,
           0,
           0,
           0,
           0,
           0,
           0,
           0,
           0,
           0,
           0,
           0,
           0,
           0,
           0,
           0,
           0,
           0,
           0,
           0,
           0,
           0,
           0,
           0,
           0,
           1,
           0,
           2,
           2,
           0,
           2,
           0,
           2,
           2,
           0,
           0,
           0,
           0,
           0,
           2,
           0,
           0,
           0,
           0,
           0,
           0,
           0,
           0,
           0,
           0,
           0,
           0,
           0,
           0,
           0,
           0,
           0,
           0,
           0,
           0,
           0,
           0,
           0,
           0,
           0,
           0,
           0,
           0,
           1,
           0,
           2,
           2,
           0,
           2,
           0,
           2,
           2,
           0,
           0,
           0,
           0,
           0,
           2,
           0,
           0,
           0,
           0,
           0,
           0,
           0,
           0,
           0,
           0,
           0,
           0,
           0,
           0,
           0,
           0,
           0,
           0,
           0,
           0,
           0,
           0,
           0,
           0,
           0,
           0,
           0,
           0,
           1,
           0,
           2,
           2,
           0,
           2,
           0,
           2,
           2,
           0,
           0,
           0,
           0,
           0,
           2,
           0,
           0,
           0,
           0,
           0,
           0,
           0,
           0,
           0,
           0,
           0,
           0,
           0,
           0,
           0,
           0,
           0,
           0,
           0,
           0,
           0,
           0,
           0,
           0,
           0,
           0,
           0,
           0,
           1,
           0,
           2,
           2,
           0,
           2,
           0,
           2,
           2,
           0,
           0,
           0,
           0,
           0,
           2,
           0,
           0,
           0,
           0,
           0,
           0,
           0,
           0,
           0,
           0,
           0,
           0,
           0,
           0,
           0,
           0,
           0,
           0,
           0,
           0,
           0,
           0,
           0,
           0,
           0,
           0,
           0,
           0,
           1,
           0,
           2,
           2,
           0,
           2,
           0,
           2,
           2,
           0,
           0,
           0,
           0,
           0,
           2,
           0,
           0,
           0,
           0,
           0,
           0,
           0,
           0,
           0,
           0,
           0,
           0,
           0,
           0,
           0,
           0,
           0,
           0,
           0,
           0,
           0,
           0,
           0,
           0,
           0,
           0,
           0,
           0,
           1,
           0,
           2,
           2,
           0,
           2,
           0,
           2,
           2,
           0,
           0,
           0,
           2,
           0,
           2,
           0,
           0,
           0,
           0,
           0,
           0,
           0,
           0,
           0,
           0,
           0,
           0,
           0,
           0,
           0,
           0,
           0,
           0,
           0,
           0,
           0,
           0,
           0,
           0,
           0,
           0,
           0,
           0,
           1,
           0,
           2,
           2,
           0,
           2,
           0,
           2,
           2,
           0,
           0,
           0,
           2,
           0,
           2,
           0,
           0,
           0,
           0,
           0,
           0,
           0,
           0,
           0,
           0,
           0,
           0,
           0,
           0,
           0,
           0,
           0,
           0,
           0,
           0,
           0,
           0,
           0,
           0,
           0,
           0,
           0,
           0,
           1,
           0,
           2,
           2,
           0,
           2,
           0,
           2,
           2,
           0,
           0,
           0,
           2,
           0,
           2,
           0,
           0,
           0,
           0,
           0,
           0,
           0,
           0,
           0,
           0,
           0,
           0,
           0,
           0,
           0,
           0,
           0,
           0,
           0,
           0,
           0,
           0,
           0,
           0,
           0,
           0,
           0,
           0,
           1,
           0,
           2,
           2,
           0,
           2,
           0,
           2,
           2,
           0,
           0,
           0,
           2,
           0,
           2,
           0,
           0,
           0,
           0,
           0,
           0,
           0,
           0,
           0,
           0,
           0,
           0,
           0,
           0,
           0,
           0,
           0,
           0,
           0,
           0,
           0,
           0,
           0,
           0,
           0,
           0,
           0,
           0,
           1,
           0,
           2,
           2,
           0,
           2,
           0,
           2,
           2,
           0,
           0,
           0,
           2,
           0,
           2,
           0,
           0,
           0,
           0,
           0,
           0,
           0,
           0,
           0,
           0,
           0,
           0,
           0,
           0,
           0,
           0,
           0,
           0,
           0,
           0,
           0,
           0,
           0,
           0,
           0,
           0,
           0,
           0,
           1,
           0,
           2,
           2,
           0,
           2,
           0,
           2,
           2
          ],
          "coloraxis": "coloraxis",
          "symbol": "circle"
         },
         "mode": "markers",
         "name": "",
         "orientation": "v",
         "showlegend": false,
         "type": "scatter",
         "x": [
          -0.21640322178311114,
          -0.2794764295505674,
          -0.20061946233386846,
          -0.0007242924461850107,
          -0.24928101109428574,
          -0.27690719449436046,
          -0.2492731178990286,
          -0.28007105025994045,
          -0.26839701447459463,
          -0.20034583156495345,
          -0.26080902276737405,
          -0.2217942741437543,
          -0.27757811609121946,
          -0.2595329562007992,
          -0.27444057097649666,
          -0.18469230983745394,
          0.24128633626864088,
          -0.15858161992675474,
          -0.28021312777456936,
          -0.2802078656443979,
          -0.24661442662990712,
          -0.25973160161477116,
          -0.2535065016219543,
          0.041935796853701815,
          -0.2753693369517563,
          -0.26938629494682587,
          -0.27954878384042475,
          -0.20950588466089248,
          -0.2775294413871336,
          -0.2368373887713664,
          -0.19618743319697074,
          -0.23306312590589903,
          -0.2793343520359385,
          -0.2625086908127501,
          3.238824584584919,
          -0.11070412856188243,
          0.10158467341209171,
          -0.24063664675514812,
          -0.27201472896746154,
          -0.14049567852750586,
          -0.25800036078836647,
          0.24375295978650469,
          -0.10004568389962504,
          -0.22414513079784634,
          -0.2801355113545406,
          -0.20286244531944594,
          0.2957375437501882,
          -0.25122931479026245,
          -0.27143984124623144,
          -0.26311252024992315,
          -0.27977242437271105,
          -0.2729750677237498,
          -0.19310382491650527,
          -0.2649200619638138,
          -0.2248726202940483,
          -0.2763007339921017,
          -0.263161194954009,
          -0.27455107571009696,
          -0.19739246100623112,
          0.20603532625014562,
          -0.07557414753733029,
          -0.28021312777456936,
          -0.28017760839591216,
          -0.2232163648225867,
          -0.2647437806030704,
          -0.2459619224886482,
          0.02701502675257574,
          -0.2740011831071812,
          -0.27444057097649666,
          -0.2798250456744255,
          -0.2348654054896182,
          -0.27732684937553304,
          -0.20937564693914926,
          -0.19697938378777288,
          -0.22884421304094477,
          -0.27738867940504747,
          -0.2517489501446924,
          3.9622109347857037,
          -0.15355102348285546,
          0.08535363289827637,
          -0.23598097708596408,
          -0.2514621640503488,
          -0.12196508712877002,
          -0.26352954406601004,
          -0.030076454542492945,
          0.15334561684348877,
          -0.20221388777581562,
          -0.27987898250868276,
          -0.18047734357012826,
          0.17698705217123842,
          -0.2740656442017813,
          -0.27723213103244704,
          -0.26488059598752794,
          -0.27988950676902563,
          -0.2735065428710655,
          -0.18031290200227065,
          -0.2697835857747698,
          -0.21794634145588673,
          -0.27612971476152975,
          -0.26141285220454713,
          -0.275561404703014,
          -0.2291046884844312,
          0.22853093273306357,
          -0.024548586797392285,
          -0.2801933947864265,
          -0.2801868171237122,
          -0.23527453611044788,
          -0.2646951058989846,
          -0.234574672797646,
          0.2718224776535235,
          -0.27581267141870036,
          -0.27294086387763544,
          -0.2799552833961687,
          -0.2196881065426343,
          -0.2752733030761275,
          -0.20674195078834215,
          -0.16872700689729647,
          -0.22534094987930672,
          -0.2783516492264215,
          -0.23507194409884732,
          4.846018585393093,
          -0.20122197623849863,
          0.17110925276973685,
          -0.2096255981222928,
          -0.193172232608734,
          -0.0717946225416915,
          -0.26168385190837645,
          0.008898828104841026,
          0.02592708133962994,
          -0.19972621573726604,
          -0.28016576860302644,
          -0.1917567195926159,
          0.42571873664753973,
          -0.27427086727846767,
          -0.27728869893179003,
          -0.2640254998346685,
          -0.2799868561771974,
          -0.27346970795986547,
          -0.1779120551115499,
          -0.26930210086408274,
          -0.21412208835379068,
          -0.27485496372749774,
          -0.25982631995785715,
          -0.27529566712935616,
          -0.21931712636554757,
          0.20518286116237186,
          -0.025812813571081436,
          -0.28019076372134083,
          -0.2801539288101407,
          -0.231137186263151,
          -0.26911529524299654,
          -0.2459882331395054,
          0.20666151974054728,
          -0.2765006949386165,
          -0.27131749671974537,
          -0.2797961039584826,
          -0.21463909264313494,
          -0.2738841007108666,
          -0.19889743023526377,
          -0.14079430441473523,
          -0.22119307577166694,
          -0.27874104685910833,
          -0.23425368285718798,
          5.087709539700005,
          -0.10516310549135315,
          0.14631804199952697,
          -0.2209970614227807,
          -0.20017612786692437,
          -0.06916881958614153,
          -0.2621298174404062,
          0.05413604565619192,
          0.03360716032485073,
          -0.18862443660806458,
          -0.2802197054372837,
          -0.18953215406263846,
          0.386967094532492,
          -0.2745155563314397,
          -0.2772597572158471,
          -0.2668460016065618,
          -0.27993686594056866,
          -0.27435769242629643,
          -0.17733322079269118,
          -0.27138064228180264,
          -0.21785293864534364,
          -0.27386042112509507,
          -0.25986315486905726,
          -0.2742879692015248,
          -0.2283943009112864,
          0.23613865742842702,
          -0.04063097213386435,
          -0.2801723462657407,
          -0.28012498709419775,
          -0.23068201200332117,
          -0.26676312305636163,
          -0.23533899720504806,
          0.2094333468083548,
          -0.27555482704029965,
          -0.2719949959793186,
          -0.2798250456744255,
          -0.21802001127828693,
          -0.2737275523382662,
          -0.18399639312228064,
          -0.15602422466343355,
          -0.22069712000300845,
          -0.2788581292554229,
          -0.23367221747324354,
          5.707572687505452,
          -0.0818031941277757,
          0.15645685130735434,
          -0.2218311090549544,
          -0.22828642724277184,
          -0.060463940750032266,
          -0.2613220804590897,
          0.055181894027766215,
          -0.004932681050796363,
          -0.1864314438591158,
          -0.28010788517114055,
          -0.1831741852829927,
          0.5555894248112909,
          -0.27611524390355835,
          -0.2772979076595901,
          -0.2641570530889546,
          -0.2800118512955117,
          -0.2729632279308641,
          -0.17933151472529657,
          -0.2710491280810018,
          -0.21809499663322998,
          -0.2733355236404937,
          -0.2621061378546347,
          -0.2738841007108666,
          -0.22236521526735584,
          0.2274890309591179,
          -0.0391733620763747,
          -0.28016182200539785,
          -0.2800671036623119,
          -0.2326658350779551,
          -0.2649226930288995,
          -0.23583363744116367,
          0.36318752828774203,
          -0.2749431044078694,
          -0.27199762704440433,
          -0.279744798189311,
          -0.21707808997759867,
          -0.27346049923206545,
          -0.18393850969039474,
          -0.11685292766721335,
          -0.1999985309736382,
          -0.2785397703800506,
          -0.24191008225663724,
          6.157622948080813,
          0.07892067876368752,
          0.39348818934745255,
          -0.23404451318287312,
          -0.17931309726969655,
          -0.06296213704892474,
          -0.2556166158207029,
          -0.021128202185954462,
          0.03560413872491325,
          -0.18957162003892428,
          -0.28010788517114055,
          -0.20437004561356428,
          0.9537235091151961,
          -0.27607840899235825,
          -0.2773163251151901,
          -0.2651660665493287,
          -0.27980399715373977,
          -0.2730079560373213,
          -0.18965318305658163,
          -0.27007826506437055,
          -0.2155849605414518,
          -0.2725975098839488,
          -0.26181014303249106,
          -0.2742248236394675,
          -0.2269143268005681,
          0.2642792140527602,
          -0.015216198938338468,
          -0.28013682688708347,
          -0.2801013075084262,
          -0.21719648790645615,
          -0.26661052128138973,
          -0.219417106838805,
          0.422410172302245,
          -0.2736420427229802,
          -0.2724909517479771,
          -0.2797382205265967,
          -0.2107937910203531,
          -0.2734184021906939,
          -0.16763511488672211,
          -0.11249193728763011,
          -0.2110582130614681,
          -0.2782358823626498,
          -0.2415206846239505,
          6.588691389595235,
          0.12573653536647125,
          0.35826217444727154,
          -0.19213427743241693,
          -0.18884939267289377,
          -0.06642330316919123,
          -0.25211729925669346,
          -0.05247602714978209,
          0.18260306059671078,
          -0.17173957642044746,
          -0.2801881326562551,
          -0.18217964268059,
          0.6226829000297295,
          -0.274474774822611,
          -0.27745445603219054,
          -0.26308357853398023,
          -0.2798934533666543,
          -0.27308557245735016,
          -0.19177513704821597,
          -0.27084785160194413,
          -0.21088982489598193,
          -0.2739432996752953,
          -0.2593119467335986,
          -0.27531145351987046,
          -0.22736555446276935,
          0.3077194141505634,
          -0.0034579690702495128,
          -0.2800671036623119,
          -0.2800079046978831,
          -0.20220336351547274,
          -0.26559624569084417,
          -0.19253288379290373,
          0.48429808524858386,
          -0.2743642700890107,
          -0.27235413636351957,
          -0.27963560898825357,
          -0.2050028167666803,
          -0.27416299360995305,
          -0.1560557974444622,
          -0.13185262972091105,
          -0.21180280448072725,
          -0.2782950813270785,
          -0.23981443891586018,
          6.841357831907232,
          0.09964426291137217,
          0.26496592204013353,
          -0.1959822101202845,
          -0.22454373715833315,
          -0.06933457668654198,
          -0.243140105184212,
          -0.0680282528714813,
          0.32215212167828816,
          -0.16574601015517412,
          -0.2802197054372837,
          -0.1440120970145725,
          0.748564893523527,
          -0.27368019316672315,
          -0.27706111180187515,
          -0.2624547539784928,
          -0.2798289922720541,
          -0.2712096230512308,
          -0.17753186620666317,
          -0.26865354332045244,
          -0.20291112002353182,
          -0.2696691344435409,
          -0.2578517056110232,
          -0.2750917595852127,
          -0.22354919455593045,
          0.3369255521346139,
          0.018227269366266233,
          -0.2801263026267406,
          -0.2799460746683687,
          -0.18140874061047363,
          -0.2682917718711657,
          -0.1765399546693462,
          0.7801153104989551,
          -0.2728250970138637,
          -0.2715358751218602,
          -0.2795435217102533,
          -0.1984317317150911,
          -0.2727593203867207,
          -0.1354256161073207,
          -0.11315101909160333,
          -0.20296900345541766,
          -0.2789304835452802,
          -0.24445037559690125,
          7.699408670857953,
          0.07701578764162523,
          0.4376400925509434,
          -0.21284602178721582,
          -0.218463345745231,
          -0.07489664827775702,
          -0.2345562553420459,
          -0.045719452009649546,
          0.3437663213574895,
          -0.1626571397445372,
          -0.2802197054372837,
          -0.14321093769597032,
          0.9593474107359257,
          -0.2713569626960312,
          -0.2772018737839613,
          -0.26237319096083545,
          -0.27983951653239697,
          -0.26989672157345584,
          -0.17153303781121837,
          -0.26780502483030727,
          -0.20046159842872516,
          -0.26526867808767185,
          -0.2522922650848939,
          -0.2744576728995538,
          -0.2236978497332737,
          0.35298952001548584,
          0.08224766056458224,
          -0.2801184094314834,
          -0.28004473960908327,
          -0.17844616132395133,
          -0.2670775353341053,
          -0.17896448114583843,
          0.7549518040191159,
          -0.27297901432137844,
          -0.2684719998295377,
          -0.2796158760001106,
          -0.19684388393585825,
          -0.27241465086049116,
          -0.1171252429035855,
          -0.05976407743723038,
          -0.2062038979783121,
          -0.2789002262967944,
          -0.24473453062615919,
          7.795954288645958,
          0.19726072418926469,
          0.6046259003464235,
          -0.20228229546804435,
          -0.23206858330349636,
          -0.05880505421348494,
          -0.23963421095748824,
          -0.024365727773934663,
          0.3780096334481536,
          -0.159306478357871,
          -0.2802197054372837,
          -0.1421874533776247,
          0.9357875384258333,
          -0.2673077535291059,
          -0.2772913299968758,
          -0.26381106803018217,
          -0.27976584670999677,
          -0.27112279790340194,
          -0.1836661944540226,
          -0.26682100648824747,
          -0.2013232722442989,
          -0.26860092201873803,
          -0.25552452854270263,
          -0.275041769348584,
          -0.2151350484117934,
          0.3431835404410022,
          0.09511225330121702,
          -0.28014077348471206,
          -0.28002237555585463,
          -0.18646038557505873,
          -0.2669946567839051,
          -0.1788092483057809,
          0.7330245075947136,
          -0.2711714726074878,
          -0.26661709894410407,
          -0.27939618206545286,
          -0.19916316780892163,
          -0.2728487765996352,
          -0.08630757755453074,
          -0.09744356052984658,
          -0.1954086379315972,
          -0.2791764881307952,
          -0.24098000074883474,
          7.586058440367447,
          0.2105962775762436,
          0.6807491909390578,
          -0.20374648318824834,
          -0.20453974931159333,
          -0.04397110926018768,
          -0.23122532694352263,
          -0.01984687348920814,
          0.5735780168023681,
          -0.16317019743625288,
          -0.2802197054372837,
          -0.16251111563227968,
          1.075947006607298,
          -0.2627665351911508,
          -0.2773439512985902,
          -0.26229162794317806,
          -0.27979741949102543,
          -0.27186738932266113,
          -0.17417331162473976,
          -0.26604089569033107,
          -0.20539221439936708,
          -0.25897253933754055,
          -0.2569203085706778,
          -0.2741695712726674,
          -0.21881327740163195,
          0.3166058364775875,
          0.07361250495324462,
          -0.2801710307331979,
          -0.2799934338399117,
          -0.16066016134447467,
          -0.26972701787542674,
          -0.17263940067976422,
          0.7962700501252847,
          -0.2699953865141704,
          -0.26619612853038865,
          -0.2794159150535958,
          -0.19127786574701458,
          -0.2745181873965254,
          -0.046454834701108665,
          -0.06631806056576238,
          -0.2055092967956817,
          -0.27909097851550924,
          -0.23996835622337487,
          8.064208476058312,
          0.2715975215886943,
          0.6098472490090376,
          -0.10655362338915693,
          -0.2188474812477463,
          -0.02811894211871624,
          -0.21173176572341276,
          -0.017894623195602873,
          0.8349966971220179
         ],
         "xaxis": "x",
         "y": [
          -0.1797295601550148,
          -0.5485192350192032,
          0.5636094453490641,
          0.16812111507690097,
          -0.6742616782144735,
          -0.6992071329626894,
          0.5633533937063158,
          -0.7128893278022496,
          -0.7631055735035851,
          -0.27072730161547964,
          -0.2840660860165303,
          -0.6694418825862708,
          -0.28168932429737287,
          -0.6226687783868324,
          -0.7676542556277014,
          -0.5870956742784297,
          -0.5700396224991278,
          -0.14853343295147356,
          -0.7410610332490937,
          -0.7511886288128543,
          -0.5061472067027672,
          -0.14270750498588367,
          -0.34004801223810327,
          1.120316927012336,
          -0.6516086387619213,
          -0.6305732432170845,
          -0.7681753960300008,
          0.018499596916154572,
          -0.5720518871739023,
          -0.7291952988869125,
          -0.24128738744396472,
          0.4894237535142233,
          -0.43295559771624337,
          -0.6392006773915673,
          1.7820477554141427,
          -0.08969879019245816,
          0.28662784008533204,
          -0.6757046045306666,
          -0.20069567113769607,
          -0.5367468841973184,
          0.5117333825282662,
          1.5429527561603502,
          0.5703360726226743,
          -0.41750212798331887,
          -0.46453730857004083,
          0.4552062169262527,
          0.466981580120405,
          -0.7007946531477286,
          -0.7034244541373667,
          0.4110689384609875,
          -0.7165342982460777,
          -0.7655124589454189,
          -0.2827466669633098,
          -0.30349588714272197,
          -0.6446711454295772,
          -0.30645403670953125,
          -0.6399597952030092,
          -0.764705143177695,
          -0.5815559216782643,
          -0.4308921227129192,
          -0.3913969099120666,
          -0.7156155247044517,
          -0.7003427973075846,
          -0.5695395687027018,
          0.08781127042197541,
          -0.4405558129474653,
          0.8496221426711408,
          -0.5676056257068854,
          -0.6316275735107538,
          -0.760590242660117,
          0.004597498901057851,
          -0.3931952961558397,
          -0.6944174610571631,
          -0.18947759681305457,
          0.7738368811621904,
          -0.2011083661383609,
          -0.5818692083940975,
          3.699314258356849,
          -0.15622703172299193,
          0.10953047447156329,
          -0.5281164376505681,
          -0.07754688046485235,
          -0.5799864757268308,
          -0.01713074226533296,
          1.2968961645960733,
          1.1157863191218256,
          -0.5318909401019043,
          -0.4618472601350503,
          0.23890282624932363,
          0.20400750590113687,
          -0.7270203661096859,
          -0.7311864769558135,
          0.34654693686069304,
          -0.715862539230397,
          -0.7579694787872818,
          -0.3385568879656281,
          -0.08511998434566576,
          -0.5984221940047058,
          -0.15022036142134446,
          -0.6258377940123756,
          -0.7612710387926006,
          -0.5795677559816308,
          -0.32671826495385553,
          -0.20269287395113247,
          -0.7210317700416443,
          -0.6650890046595505,
          -0.5479589337774247,
          0.0761142289067813,
          -0.4312927682245135,
          1.4313805121119954,
          -0.413555920312728,
          -0.5296045495507757,
          -0.764608747265131,
          0.0756593606943696,
          -0.03512364181986674,
          -0.6851544163342113,
          0.011604276795557289,
          0.7947096086045752,
          -0.20472321285951284,
          -0.7170765252542506,
          4.266275855219122,
          -0.04654956983097458,
          -0.057842953462306695,
          -0.5437416126027474,
          0.005630742588853731,
          -0.5461213866941724,
          -0.1142948097576295,
          1.4246056868821033,
          1.087747158054757,
          -0.5496970725758452,
          -0.44168846492009295,
          0.2531965326592119,
          0.40962902451706207,
          -0.7287765791417122,
          -0.7255563531876195,
          0.3642205249548584,
          -0.7129043896635877,
          -0.7574694249908559,
          -0.3346408040177135,
          -0.015205836386319591,
          -0.5793267662002206,
          -0.0861321414275882,
          -0.6089293484741873,
          -0.761671684304195,
          -0.5711391383768115,
          -0.3756934132809291,
          -0.08801186172258728,
          -0.7184893278477674,
          -0.6666494134941809,
          -0.47027889011213714,
          0.1209112168986567,
          -0.42958776552103684,
          1.279123168217076,
          -0.3835285935490259,
          -0.49780896026597676,
          -0.7642081017535366,
          0.24749411195659474,
          -0.06733493847759824,
          -0.6639232165919788,
          0.08052434190658661,
          1.1245011120920694,
          -0.23984144875550395,
          -0.7217185909186631,
          4.916442186485509,
          0.17143171219902267,
          0.020689591554719118,
          -0.5441934684428914,
          0.11235909203086478,
          -0.5539957278017484,
          -0.13822509505165537,
          1.5480346281758361,
          1.2904014899870697,
          -0.5503356954965821,
          -0.481171628231875,
          0.2573716806221424,
          0.3715948122660084,
          -0.7287374183022332,
          -0.7115006241868737,
          0.333187065853769,
          -0.701589919426382,
          -0.7547944384172034,
          -0.29728437552687587,
          -0.003198520527559863,
          -0.5746816881635404,
          -0.06096075875930022,
          -0.5673555988086725,
          -0.7621687257283534,
          -0.5862702842771,
          -0.3813536607717995,
          -0.07980013492103706,
          -0.7044486607083598,
          -0.6683092306136433,
          -0.47562886325944204,
          0.15547517629740443,
          -0.4263645271946763,
          1.1658820699324561,
          -0.35796259011367876,
          -0.4915251517157077,
          -0.7641719532863251,
          0.2608871190584627,
          -0.04093149555185092,
          -0.6614470465879898,
          0.014743168698424243,
          0.958227200035883,
          -0.33884607570332026,
          -0.722299978766315,
          5.04179000891372,
          0.19101514431086325,
          0.1407778120036542,
          -0.5617224626682107,
          0.10720191070868791,
          -0.5229411820947857,
          -0.16721917812756146,
          1.5445432887176573,
          1.1577757761602732,
          -0.5376174597826625,
          -0.4862775992255021,
          0.305587711137774,
          0.5397183208945173,
          -0.7298550084135227,
          -0.7223090158831179,
          0.4235883576052437,
          -0.7042920173504432,
          -0.755619828418533,
          -0.2971126703076211,
          0.0028352611244961716,
          -0.5877614085495751,
          -0.06239766033095811,
          -0.5811010534658527,
          -0.7604878220030178,
          -0.5726754482333011,
          -0.25169212125634705,
          -0.1791481723073629,
          -0.6985654976696849,
          -0.6545728130732659,
          -0.4861601167070647,
          0.11690174941044569,
          -0.4559881960745165,
          1.4508464617053989,
          -0.313442740370425,
          -0.49086544218909745,
          -0.7640183223006761,
          0.2362338644202064,
          0.09618265295370977,
          -0.630666626757381,
          0.04602665469772662,
          0.9907216596867714,
          -0.29824532228024875,
          -0.7200166005874541,
          5.196857896134335,
          0.5730200963131296,
          0.26747517720776204,
          -0.5690967499793607,
          -0.02767103282975856,
          -0.4302625369089852,
          -0.11918388994798751,
          1.1804740011968398,
          1.2728092359441305,
          -0.49329642660907214,
          -0.4639016980215716,
          0.40518276305004514,
          0.8959554405195058,
          -0.7217969125976215,
          -0.7251707695373633,
          0.43461062773248954,
          -0.7089822809711379,
          -0.7568669505373306,
          -0.317000352018492,
          0.07430078080167007,
          -0.5794472610909257,
          -0.1612456439208579,
          -0.5651595794255727,
          -0.7606143416382579,
          -0.5570291866752484,
          -0.24608308409402632,
          -0.2370610291524846,
          -0.7105095537108245,
          -0.6304678101877177,
          -0.466811649632099,
          0.2587995450769973,
          -0.4514545758117385,
          1.7055937472617788,
          -0.2597562418167835,
          -0.46488674375308553,
          -0.7630152023355564,
          0.26507431651046354,
          0.20093488618815777,
          -0.5893549534791496,
          0.10314123289192723,
          1.0090579696798145,
          -0.24195914645964547,
          -0.7233693709213225,
          5.5261583829422065,
          0.874251298331256,
          0.4688914241380803,
          -0.5498778149119029,
          0.032278187668278786,
          -0.4633926071083427,
          0.007923157884517624,
          1.144512301065913,
          1.550802998289785,
          -0.44639077802985805,
          -0.4491501110270041,
          0.6324572135256704,
          0.7241628624690274,
          -0.7207094462090082,
          -0.7292796453104059,
          0.5191257440730218,
          -0.7136755569641001,
          -0.758508693423187,
          -0.27644177180716734,
          0.07447851076546008,
          -0.5717657118084778,
          -0.14603316396934357,
          -0.5657018064337455,
          -0.7625000866777922,
          -0.5406900794956417,
          -0.17278905445040307,
          -0.2647477426642408,
          -0.7141906726218643,
          -0.6142522102710836,
          -0.4536475828225706,
          0.3277226225602944,
          -0.4360493040350959,
          2.003517364530051,
          -0.24809534876880085,
          -0.4345129941786064,
          -0.7625723836122152,
          0.37563741584916327,
          0.3375339190359543,
          -0.5606349962795976,
          -0.013479747076969535,
          0.9369598518264394,
          -0.3293299917098878,
          -0.7038883594665811,
          5.230719972794726,
          0.6997987955684635,
          0.3701548983220829,
          -0.5638130490219435,
          -0.052035099730322526,
          -0.5285893800965855,
          0.3369977167723167,
          0.9464187007467868,
          1.2694534532379946,
          -0.46315462969920024,
          -0.43091019694652494,
          0.7620615179680379,
          0.806789221397758,
          -0.7195587200027748,
          -0.7355845404665485,
          0.6449585584363209,
          -0.7264359658897664,
          -0.7519567837410991,
          -0.25342724768249997,
          0.12365850040673214,
          -0.546763021987177,
          -0.2246470430375953,
          -0.5705818495073006,
          -0.7634911571538414,
          -0.5347316071502762,
          -0.2012439228904041,
          -0.20447921070583508,
          -0.70891600878125,
          -0.5976600638209962,
          -0.4232437095254152,
          0.4970239687454454,
          -0.41351675947324884,
          2.667757499030791,
          -0.15476301880092544,
          -0.45580444136619125,
          -0.7593370957967843,
          0.4796365560167045,
          0.5624948676100423,
          -0.5216729733701149,
          0.12372176022435231,
          0.8954734609566855,
          -0.19076990451586637,
          -0.6997523723431298,
          5.670185925801969,
          0.9267418850946498,
          0.4007003531158167,
          -0.5468443560384029,
          -0.09459088275508372,
          -0.5427595792435012,
          0.4785490896280914,
          1.018034839037342,
          1.4253889036716862,
          -0.46034709874577223,
          -0.40476581803579353,
          0.7955922336789899,
          0.9084387111965504,
          -0.7314184296204209,
          -0.7310900810432496,
          0.6552608715916038,
          -0.7266197205980917,
          -0.7220921250798489,
          -0.246278888291422,
          0.0686977683838846,
          -0.540461139203302,
          -0.2939888402660924,
          -0.5483897030116953,
          -0.7647985267179914,
          -0.5254775995441273,
          -0.18356431005170348,
          -0.1912307974728132,
          -0.7052921249432953,
          -0.5903460239551989,
          -0.35680282679064257,
          0.7721770640427281,
          -0.422728593867651,
          2.6415197365797627,
          -0.117686740930977,
          -0.4301902399745621,
          -0.7598040134982665,
          0.600342312780503,
          0.4486874433391087,
          -0.4809185889613944,
          0.23916791500887466,
          1.0569667382241485,
          -0.1698489791171995,
          -0.7056837333380866,
          5.632031218660211,
          1.27529745543719,
          0.46494220409522197,
          -0.5445820644654152,
          0.05628076989672761,
          -0.4866812571093641,
          0.4329869590802388,
          0.9532929342615106,
          1.7384225802343736,
          -0.46033806162896934,
          -0.4539096592098541,
          0.7826420453004629,
          1.0673413483138545,
          -0.7292103607482505,
          -0.7302526415528493,
          0.6305292952743893,
          -0.726318483371329,
          -0.7123290265604709,
          -0.24081143262567975,
          0.04485785425788746,
          -0.537590348432254,
          -0.2157756067094349,
          -0.5592523174087569,
          -0.7652895433976145,
          -0.5227755016200661,
          -0.11589136705947153,
          -0.2048286458888798,
          -0.7048191824972778,
          -0.5948796442179769,
          -0.31711783453692954,
          0.7687610338912394,
          -0.42051148787867787,
          2.5701777241655615,
          -0.059924502699236645,
          -0.42086996017852535,
          -0.7591202049935152,
          0.6298484991419059,
          0.6437566219015379,
          -0.3976596318564623,
          0.1650906685756686,
          0.8830082645132465,
          -0.015470925145870767,
          -0.6952729747811691,
          5.622713951236442,
          1.2305275787957235,
          0.5876120275775131,
          -0.5468895416224172,
          0.1663498401835365,
          -0.4753005146822707,
          0.6084214952022777,
          0.857008479471361,
          1.7683625482023149,
          -0.4519124563964177,
          -0.4676460767502315,
          0.8735855640601106,
          1.1205157435819992,
          -0.7251376334424193,
          -0.7334547932733364,
          0.6342736740030492,
          -0.7126814741157833,
          -0.7185887361325991,
          -0.25162584906645924,
          0.0002144972516610707,
          -0.5397050337641278,
          -0.1716112168937611,
          -0.5702745875360027,
          -0.7646539328491453,
          -0.5301889497706953,
          -0.15487748894709522,
          -0.14224359965666916,
          -0.7070182142526453,
          -0.583857374090731,
          -0.3565196637974856,
          0.8205497379162763,
          -0.3938881417773938,
          2.864188269858187,
          -0.0368376816401463,
          -0.4371427951682444,
          -0.7584876068173135,
          0.5884464546956455,
          0.6250648519809148,
          -0.35761616730290174,
          0.23749906077260954,
          0.751509177914542,
          -0.036358714449593627,
          -0.6776264980374124,
          5.320169354909631,
          1.1950960561838992,
          0.5676821726548954,
          -0.5003514024598537,
          0.22832337484541884,
          -0.5056923384903557,
          0.6534082626470137,
          0.7237411303515597,
          1.6958607724650774
         ],
         "yaxis": "y"
        }
       ],
       "layout": {
        "coloraxis": {
         "colorbar": {
          "title": {
           "text": "Clusters_f"
          }
         },
         "colorscale": [
          [
           0,
           "#0d0887"
          ],
          [
           0.1111111111111111,
           "#46039f"
          ],
          [
           0.2222222222222222,
           "#7201a8"
          ],
          [
           0.3333333333333333,
           "#9c179e"
          ],
          [
           0.4444444444444444,
           "#bd3786"
          ],
          [
           0.5555555555555556,
           "#d8576b"
          ],
          [
           0.6666666666666666,
           "#ed7953"
          ],
          [
           0.7777777777777778,
           "#fb9f3a"
          ],
          [
           0.8888888888888888,
           "#fdca26"
          ],
          [
           1,
           "#f0f921"
          ]
         ]
        },
        "legend": {
         "tracegroupgap": 0
        },
        "margin": {
         "t": 60
        },
        "template": {
         "data": {
          "bar": [
           {
            "error_x": {
             "color": "#2a3f5f"
            },
            "error_y": {
             "color": "#2a3f5f"
            },
            "marker": {
             "line": {
              "color": "#E5ECF6",
              "width": 0.5
             },
             "pattern": {
              "fillmode": "overlay",
              "size": 10,
              "solidity": 0.2
             }
            },
            "type": "bar"
           }
          ],
          "barpolar": [
           {
            "marker": {
             "line": {
              "color": "#E5ECF6",
              "width": 0.5
             },
             "pattern": {
              "fillmode": "overlay",
              "size": 10,
              "solidity": 0.2
             }
            },
            "type": "barpolar"
           }
          ],
          "carpet": [
           {
            "aaxis": {
             "endlinecolor": "#2a3f5f",
             "gridcolor": "white",
             "linecolor": "white",
             "minorgridcolor": "white",
             "startlinecolor": "#2a3f5f"
            },
            "baxis": {
             "endlinecolor": "#2a3f5f",
             "gridcolor": "white",
             "linecolor": "white",
             "minorgridcolor": "white",
             "startlinecolor": "#2a3f5f"
            },
            "type": "carpet"
           }
          ],
          "choropleth": [
           {
            "colorbar": {
             "outlinewidth": 0,
             "ticks": ""
            },
            "type": "choropleth"
           }
          ],
          "contour": [
           {
            "colorbar": {
             "outlinewidth": 0,
             "ticks": ""
            },
            "colorscale": [
             [
              0,
              "#0d0887"
             ],
             [
              0.1111111111111111,
              "#46039f"
             ],
             [
              0.2222222222222222,
              "#7201a8"
             ],
             [
              0.3333333333333333,
              "#9c179e"
             ],
             [
              0.4444444444444444,
              "#bd3786"
             ],
             [
              0.5555555555555556,
              "#d8576b"
             ],
             [
              0.6666666666666666,
              "#ed7953"
             ],
             [
              0.7777777777777778,
              "#fb9f3a"
             ],
             [
              0.8888888888888888,
              "#fdca26"
             ],
             [
              1,
              "#f0f921"
             ]
            ],
            "type": "contour"
           }
          ],
          "contourcarpet": [
           {
            "colorbar": {
             "outlinewidth": 0,
             "ticks": ""
            },
            "type": "contourcarpet"
           }
          ],
          "heatmap": [
           {
            "colorbar": {
             "outlinewidth": 0,
             "ticks": ""
            },
            "colorscale": [
             [
              0,
              "#0d0887"
             ],
             [
              0.1111111111111111,
              "#46039f"
             ],
             [
              0.2222222222222222,
              "#7201a8"
             ],
             [
              0.3333333333333333,
              "#9c179e"
             ],
             [
              0.4444444444444444,
              "#bd3786"
             ],
             [
              0.5555555555555556,
              "#d8576b"
             ],
             [
              0.6666666666666666,
              "#ed7953"
             ],
             [
              0.7777777777777778,
              "#fb9f3a"
             ],
             [
              0.8888888888888888,
              "#fdca26"
             ],
             [
              1,
              "#f0f921"
             ]
            ],
            "type": "heatmap"
           }
          ],
          "heatmapgl": [
           {
            "colorbar": {
             "outlinewidth": 0,
             "ticks": ""
            },
            "colorscale": [
             [
              0,
              "#0d0887"
             ],
             [
              0.1111111111111111,
              "#46039f"
             ],
             [
              0.2222222222222222,
              "#7201a8"
             ],
             [
              0.3333333333333333,
              "#9c179e"
             ],
             [
              0.4444444444444444,
              "#bd3786"
             ],
             [
              0.5555555555555556,
              "#d8576b"
             ],
             [
              0.6666666666666666,
              "#ed7953"
             ],
             [
              0.7777777777777778,
              "#fb9f3a"
             ],
             [
              0.8888888888888888,
              "#fdca26"
             ],
             [
              1,
              "#f0f921"
             ]
            ],
            "type": "heatmapgl"
           }
          ],
          "histogram": [
           {
            "marker": {
             "pattern": {
              "fillmode": "overlay",
              "size": 10,
              "solidity": 0.2
             }
            },
            "type": "histogram"
           }
          ],
          "histogram2d": [
           {
            "colorbar": {
             "outlinewidth": 0,
             "ticks": ""
            },
            "colorscale": [
             [
              0,
              "#0d0887"
             ],
             [
              0.1111111111111111,
              "#46039f"
             ],
             [
              0.2222222222222222,
              "#7201a8"
             ],
             [
              0.3333333333333333,
              "#9c179e"
             ],
             [
              0.4444444444444444,
              "#bd3786"
             ],
             [
              0.5555555555555556,
              "#d8576b"
             ],
             [
              0.6666666666666666,
              "#ed7953"
             ],
             [
              0.7777777777777778,
              "#fb9f3a"
             ],
             [
              0.8888888888888888,
              "#fdca26"
             ],
             [
              1,
              "#f0f921"
             ]
            ],
            "type": "histogram2d"
           }
          ],
          "histogram2dcontour": [
           {
            "colorbar": {
             "outlinewidth": 0,
             "ticks": ""
            },
            "colorscale": [
             [
              0,
              "#0d0887"
             ],
             [
              0.1111111111111111,
              "#46039f"
             ],
             [
              0.2222222222222222,
              "#7201a8"
             ],
             [
              0.3333333333333333,
              "#9c179e"
             ],
             [
              0.4444444444444444,
              "#bd3786"
             ],
             [
              0.5555555555555556,
              "#d8576b"
             ],
             [
              0.6666666666666666,
              "#ed7953"
             ],
             [
              0.7777777777777778,
              "#fb9f3a"
             ],
             [
              0.8888888888888888,
              "#fdca26"
             ],
             [
              1,
              "#f0f921"
             ]
            ],
            "type": "histogram2dcontour"
           }
          ],
          "mesh3d": [
           {
            "colorbar": {
             "outlinewidth": 0,
             "ticks": ""
            },
            "type": "mesh3d"
           }
          ],
          "parcoords": [
           {
            "line": {
             "colorbar": {
              "outlinewidth": 0,
              "ticks": ""
             }
            },
            "type": "parcoords"
           }
          ],
          "pie": [
           {
            "automargin": true,
            "type": "pie"
           }
          ],
          "scatter": [
           {
            "fillpattern": {
             "fillmode": "overlay",
             "size": 10,
             "solidity": 0.2
            },
            "type": "scatter"
           }
          ],
          "scatter3d": [
           {
            "line": {
             "colorbar": {
              "outlinewidth": 0,
              "ticks": ""
             }
            },
            "marker": {
             "colorbar": {
              "outlinewidth": 0,
              "ticks": ""
             }
            },
            "type": "scatter3d"
           }
          ],
          "scattercarpet": [
           {
            "marker": {
             "colorbar": {
              "outlinewidth": 0,
              "ticks": ""
             }
            },
            "type": "scattercarpet"
           }
          ],
          "scattergeo": [
           {
            "marker": {
             "colorbar": {
              "outlinewidth": 0,
              "ticks": ""
             }
            },
            "type": "scattergeo"
           }
          ],
          "scattergl": [
           {
            "marker": {
             "colorbar": {
              "outlinewidth": 0,
              "ticks": ""
             }
            },
            "type": "scattergl"
           }
          ],
          "scattermapbox": [
           {
            "marker": {
             "colorbar": {
              "outlinewidth": 0,
              "ticks": ""
             }
            },
            "type": "scattermapbox"
           }
          ],
          "scatterpolar": [
           {
            "marker": {
             "colorbar": {
              "outlinewidth": 0,
              "ticks": ""
             }
            },
            "type": "scatterpolar"
           }
          ],
          "scatterpolargl": [
           {
            "marker": {
             "colorbar": {
              "outlinewidth": 0,
              "ticks": ""
             }
            },
            "type": "scatterpolargl"
           }
          ],
          "scatterternary": [
           {
            "marker": {
             "colorbar": {
              "outlinewidth": 0,
              "ticks": ""
             }
            },
            "type": "scatterternary"
           }
          ],
          "surface": [
           {
            "colorbar": {
             "outlinewidth": 0,
             "ticks": ""
            },
            "colorscale": [
             [
              0,
              "#0d0887"
             ],
             [
              0.1111111111111111,
              "#46039f"
             ],
             [
              0.2222222222222222,
              "#7201a8"
             ],
             [
              0.3333333333333333,
              "#9c179e"
             ],
             [
              0.4444444444444444,
              "#bd3786"
             ],
             [
              0.5555555555555556,
              "#d8576b"
             ],
             [
              0.6666666666666666,
              "#ed7953"
             ],
             [
              0.7777777777777778,
              "#fb9f3a"
             ],
             [
              0.8888888888888888,
              "#fdca26"
             ],
             [
              1,
              "#f0f921"
             ]
            ],
            "type": "surface"
           }
          ],
          "table": [
           {
            "cells": {
             "fill": {
              "color": "#EBF0F8"
             },
             "line": {
              "color": "white"
             }
            },
            "header": {
             "fill": {
              "color": "#C8D4E3"
             },
             "line": {
              "color": "white"
             }
            },
            "type": "table"
           }
          ]
         },
         "layout": {
          "annotationdefaults": {
           "arrowcolor": "#2a3f5f",
           "arrowhead": 0,
           "arrowwidth": 1
          },
          "autotypenumbers": "strict",
          "coloraxis": {
           "colorbar": {
            "outlinewidth": 0,
            "ticks": ""
           }
          },
          "colorscale": {
           "diverging": [
            [
             0,
             "#8e0152"
            ],
            [
             0.1,
             "#c51b7d"
            ],
            [
             0.2,
             "#de77ae"
            ],
            [
             0.3,
             "#f1b6da"
            ],
            [
             0.4,
             "#fde0ef"
            ],
            [
             0.5,
             "#f7f7f7"
            ],
            [
             0.6,
             "#e6f5d0"
            ],
            [
             0.7,
             "#b8e186"
            ],
            [
             0.8,
             "#7fbc41"
            ],
            [
             0.9,
             "#4d9221"
            ],
            [
             1,
             "#276419"
            ]
           ],
           "sequential": [
            [
             0,
             "#0d0887"
            ],
            [
             0.1111111111111111,
             "#46039f"
            ],
            [
             0.2222222222222222,
             "#7201a8"
            ],
            [
             0.3333333333333333,
             "#9c179e"
            ],
            [
             0.4444444444444444,
             "#bd3786"
            ],
            [
             0.5555555555555556,
             "#d8576b"
            ],
            [
             0.6666666666666666,
             "#ed7953"
            ],
            [
             0.7777777777777778,
             "#fb9f3a"
            ],
            [
             0.8888888888888888,
             "#fdca26"
            ],
            [
             1,
             "#f0f921"
            ]
           ],
           "sequentialminus": [
            [
             0,
             "#0d0887"
            ],
            [
             0.1111111111111111,
             "#46039f"
            ],
            [
             0.2222222222222222,
             "#7201a8"
            ],
            [
             0.3333333333333333,
             "#9c179e"
            ],
            [
             0.4444444444444444,
             "#bd3786"
            ],
            [
             0.5555555555555556,
             "#d8576b"
            ],
            [
             0.6666666666666666,
             "#ed7953"
            ],
            [
             0.7777777777777778,
             "#fb9f3a"
            ],
            [
             0.8888888888888888,
             "#fdca26"
            ],
            [
             1,
             "#f0f921"
            ]
           ]
          },
          "colorway": [
           "#636efa",
           "#EF553B",
           "#00cc96",
           "#ab63fa",
           "#FFA15A",
           "#19d3f3",
           "#FF6692",
           "#B6E880",
           "#FF97FF",
           "#FECB52"
          ],
          "font": {
           "color": "#2a3f5f"
          },
          "geo": {
           "bgcolor": "white",
           "lakecolor": "white",
           "landcolor": "#E5ECF6",
           "showlakes": true,
           "showland": true,
           "subunitcolor": "white"
          },
          "hoverlabel": {
           "align": "left"
          },
          "hovermode": "closest",
          "mapbox": {
           "style": "light"
          },
          "paper_bgcolor": "white",
          "plot_bgcolor": "#E5ECF6",
          "polar": {
           "angularaxis": {
            "gridcolor": "white",
            "linecolor": "white",
            "ticks": ""
           },
           "bgcolor": "#E5ECF6",
           "radialaxis": {
            "gridcolor": "white",
            "linecolor": "white",
            "ticks": ""
           }
          },
          "scene": {
           "xaxis": {
            "backgroundcolor": "#E5ECF6",
            "gridcolor": "white",
            "gridwidth": 2,
            "linecolor": "white",
            "showbackground": true,
            "ticks": "",
            "zerolinecolor": "white"
           },
           "yaxis": {
            "backgroundcolor": "#E5ECF6",
            "gridcolor": "white",
            "gridwidth": 2,
            "linecolor": "white",
            "showbackground": true,
            "ticks": "",
            "zerolinecolor": "white"
           },
           "zaxis": {
            "backgroundcolor": "#E5ECF6",
            "gridcolor": "white",
            "gridwidth": 2,
            "linecolor": "white",
            "showbackground": true,
            "ticks": "",
            "zerolinecolor": "white"
           }
          },
          "shapedefaults": {
           "line": {
            "color": "#2a3f5f"
           }
          },
          "ternary": {
           "aaxis": {
            "gridcolor": "white",
            "linecolor": "white",
            "ticks": ""
           },
           "baxis": {
            "gridcolor": "white",
            "linecolor": "white",
            "ticks": ""
           },
           "bgcolor": "#E5ECF6",
           "caxis": {
            "gridcolor": "white",
            "linecolor": "white",
            "ticks": ""
           }
          },
          "title": {
           "x": 0.05
          },
          "xaxis": {
           "automargin": true,
           "gridcolor": "white",
           "linecolor": "white",
           "ticks": "",
           "title": {
            "standoff": 15
           },
           "zerolinecolor": "white",
           "zerolinewidth": 2
          },
          "yaxis": {
           "automargin": true,
           "gridcolor": "white",
           "linecolor": "white",
           "ticks": "",
           "title": {
            "standoff": 15
           },
           "zerolinecolor": "white",
           "zerolinewidth": 2
          }
         }
        },
        "title": {
         "text": "K-means Clustering with 2 Features"
        },
        "xaxis": {
         "anchor": "y",
         "domain": [
          0,
          1
         ],
         "title": {
          "text": "Marine Protected Area"
         }
        },
        "yaxis": {
         "anchor": "x",
         "domain": [
          0,
          1
         ],
         "title": {
          "text": "Fishing Exports"
         }
        }
       }
      },
      "text/html": [
       "<div>                            <div id=\"fc827837-a432-4bfa-9c5f-28761a6d3f23\" class=\"plotly-graph-div\" style=\"height:525px; width:100%;\"></div>            <script type=\"text/javascript\">                require([\"plotly\"], function(Plotly) {                    window.PLOTLYENV=window.PLOTLYENV || {};                                    if (document.getElementById(\"fc827837-a432-4bfa-9c5f-28761a6d3f23\")) {                    Plotly.newPlot(                        \"fc827837-a432-4bfa-9c5f-28761a6d3f23\",                        [{\"customdata\":[[\"-0.806\"],[\"-0.725\"],[\"-0.645\"],[\"-0.564\"],[\"-0.483\"],[\"-0.403\"],[\"-0.322\"],[\"-0.242\"],[\"-0.161\"],[\"-0.081\"],[\"0.000\"],[\"0.081\"],[\"0.161\"],[\"0.242\"],[\"0.322\"],[\"0.403\"],[\"0.483\"],[\"0.564\"],[\"0.645\"],[\"0.725\"],[\"0.806\"],[\"0.886\"],[\"0.967\"],[\"1.048\"],[\"1.128\"],[\"1.209\"],[\"1.289\"],[\"1.370\"],[\"1.450\"],[\"1.531\"],[\"1.612\"],[\"1.692\"],[\"-1.692\"],[\"-1.612\"],[\"-1.531\"],[\"-1.450\"],[\"-1.370\"],[\"-1.289\"],[\"-1.209\"],[\"-1.128\"],[\"-1.048\"],[\"-0.967\"],[\"-0.886\"],[\"-0.806\"],[\"-0.725\"],[\"-0.645\"],[\"-0.564\"],[\"-0.483\"],[\"-0.403\"],[\"-0.322\"],[\"-0.242\"],[\"-0.161\"],[\"-0.081\"],[\"0.000\"],[\"0.081\"],[\"0.161\"],[\"0.242\"],[\"0.322\"],[\"0.403\"],[\"0.483\"],[\"0.564\"],[\"0.645\"],[\"0.725\"],[\"0.806\"],[\"0.886\"],[\"0.967\"],[\"1.048\"],[\"1.128\"],[\"1.209\"],[\"1.289\"],[\"1.370\"],[\"1.450\"],[\"1.531\"],[\"1.612\"],[\"1.692\"],[\"-1.692\"],[\"-1.612\"],[\"-1.531\"],[\"-1.450\"],[\"-1.370\"],[\"-1.289\"],[\"-1.209\"],[\"-1.128\"],[\"-1.048\"],[\"-0.967\"],[\"-0.886\"],[\"-0.806\"],[\"-0.725\"],[\"-0.645\"],[\"-0.564\"],[\"-0.483\"],[\"-0.403\"],[\"-0.322\"],[\"-0.242\"],[\"-0.161\"],[\"-0.081\"],[\"0.000\"],[\"0.081\"],[\"0.161\"],[\"0.242\"],[\"0.322\"],[\"0.403\"],[\"0.483\"],[\"0.564\"],[\"0.645\"],[\"0.725\"],[\"0.806\"],[\"0.886\"],[\"0.967\"],[\"1.048\"],[\"1.128\"],[\"1.209\"],[\"1.289\"],[\"1.370\"],[\"1.450\"],[\"1.531\"],[\"1.612\"],[\"1.692\"],[\"-1.692\"],[\"-1.612\"],[\"-1.531\"],[\"-1.450\"],[\"-1.370\"],[\"-1.289\"],[\"-1.209\"],[\"-1.128\"],[\"-1.048\"],[\"-0.967\"],[\"-0.886\"],[\"-0.806\"],[\"-0.725\"],[\"-0.645\"],[\"-0.564\"],[\"-0.483\"],[\"-0.403\"],[\"-0.322\"],[\"-0.242\"],[\"-0.161\"],[\"-0.081\"],[\"0.000\"],[\"0.081\"],[\"0.161\"],[\"0.242\"],[\"0.322\"],[\"0.403\"],[\"0.483\"],[\"0.564\"],[\"0.645\"],[\"0.725\"],[\"0.806\"],[\"0.886\"],[\"0.967\"],[\"1.048\"],[\"1.128\"],[\"1.209\"],[\"1.289\"],[\"1.370\"],[\"1.450\"],[\"1.531\"],[\"1.612\"],[\"1.692\"],[\"-1.692\"],[\"-1.612\"],[\"-1.531\"],[\"-1.450\"],[\"-1.370\"],[\"-1.289\"],[\"-1.209\"],[\"-1.128\"],[\"-1.048\"],[\"-0.967\"],[\"-0.886\"],[\"-0.806\"],[\"-0.725\"],[\"-0.645\"],[\"-0.564\"],[\"-0.483\"],[\"-0.403\"],[\"-0.322\"],[\"-0.242\"],[\"-0.161\"],[\"-0.081\"],[\"0.000\"],[\"0.081\"],[\"0.161\"],[\"0.242\"],[\"0.322\"],[\"0.403\"],[\"0.483\"],[\"0.564\"],[\"0.645\"],[\"0.725\"],[\"0.806\"],[\"0.886\"],[\"0.967\"],[\"1.048\"],[\"1.128\"],[\"1.209\"],[\"1.289\"],[\"1.370\"],[\"1.450\"],[\"1.531\"],[\"1.612\"],[\"1.692\"],[\"-1.692\"],[\"-1.612\"],[\"-1.531\"],[\"-1.450\"],[\"-1.370\"],[\"-1.289\"],[\"-1.209\"],[\"-1.128\"],[\"-1.048\"],[\"-0.967\"],[\"-0.886\"],[\"-0.806\"],[\"-0.725\"],[\"-0.645\"],[\"-0.564\"],[\"-0.483\"],[\"-0.403\"],[\"-0.322\"],[\"-0.242\"],[\"-0.161\"],[\"-0.081\"],[\"0.000\"],[\"0.081\"],[\"0.161\"],[\"0.242\"],[\"0.322\"],[\"0.403\"],[\"0.483\"],[\"0.564\"],[\"0.645\"],[\"0.725\"],[\"0.806\"],[\"0.886\"],[\"0.967\"],[\"1.048\"],[\"1.128\"],[\"1.209\"],[\"1.289\"],[\"1.370\"],[\"1.450\"],[\"1.531\"],[\"1.612\"],[\"1.692\"],[\"-1.692\"],[\"-1.612\"],[\"-1.531\"],[\"-1.450\"],[\"-1.370\"],[\"-1.289\"],[\"-1.209\"],[\"-1.128\"],[\"-1.048\"],[\"-0.967\"],[\"-0.886\"],[\"-0.806\"],[\"-0.725\"],[\"-0.645\"],[\"-0.564\"],[\"-0.483\"],[\"-0.403\"],[\"-0.322\"],[\"-0.242\"],[\"-0.161\"],[\"-0.081\"],[\"0.000\"],[\"0.081\"],[\"0.161\"],[\"0.242\"],[\"0.322\"],[\"0.403\"],[\"0.483\"],[\"0.564\"],[\"0.645\"],[\"0.725\"],[\"0.806\"],[\"0.886\"],[\"0.967\"],[\"1.048\"],[\"1.128\"],[\"1.209\"],[\"1.289\"],[\"1.370\"],[\"1.450\"],[\"1.531\"],[\"1.612\"],[\"1.692\"],[\"-1.692\"],[\"-1.612\"],[\"-1.531\"],[\"-1.450\"],[\"-1.370\"],[\"-1.289\"],[\"-1.209\"],[\"-1.128\"],[\"-1.048\"],[\"-0.967\"],[\"-0.886\"],[\"-0.806\"],[\"-0.725\"],[\"-0.645\"],[\"-0.564\"],[\"-0.483\"],[\"-0.403\"],[\"-0.322\"],[\"-0.242\"],[\"-0.161\"],[\"-0.081\"],[\"0.000\"],[\"0.081\"],[\"0.161\"],[\"0.242\"],[\"0.322\"],[\"0.403\"],[\"0.483\"],[\"0.564\"],[\"0.645\"],[\"0.725\"],[\"0.806\"],[\"0.886\"],[\"0.967\"],[\"1.048\"],[\"1.128\"],[\"1.209\"],[\"1.289\"],[\"1.370\"],[\"1.450\"],[\"1.531\"],[\"1.612\"],[\"1.692\"],[\"-1.692\"],[\"-1.612\"],[\"-1.531\"],[\"-1.450\"],[\"-1.370\"],[\"-1.289\"],[\"-1.209\"],[\"-1.128\"],[\"-1.048\"],[\"-0.967\"],[\"-0.886\"],[\"-0.806\"],[\"-0.725\"],[\"-0.645\"],[\"-0.564\"],[\"-0.483\"],[\"-0.403\"],[\"-0.322\"],[\"-0.242\"],[\"-0.161\"],[\"-0.081\"],[\"0.000\"],[\"0.081\"],[\"0.161\"],[\"0.242\"],[\"0.322\"],[\"0.403\"],[\"0.483\"],[\"0.564\"],[\"0.645\"],[\"0.725\"],[\"0.806\"],[\"0.886\"],[\"0.967\"],[\"1.048\"],[\"1.128\"],[\"1.209\"],[\"1.289\"],[\"1.370\"],[\"1.450\"],[\"1.531\"],[\"1.612\"],[\"1.692\"],[\"-1.692\"],[\"-1.612\"],[\"-1.531\"],[\"-1.450\"],[\"-1.370\"],[\"-1.289\"],[\"-1.209\"],[\"-1.128\"],[\"-1.048\"],[\"-0.967\"],[\"-0.886\"],[\"-0.806\"],[\"-0.725\"],[\"-0.645\"],[\"-0.564\"],[\"-0.483\"],[\"-0.403\"],[\"-0.322\"],[\"-0.242\"],[\"-0.161\"],[\"-0.081\"],[\"0.000\"],[\"0.081\"],[\"0.161\"],[\"0.242\"],[\"0.322\"],[\"0.403\"],[\"0.483\"],[\"0.564\"],[\"0.645\"],[\"0.725\"],[\"0.806\"],[\"0.886\"],[\"0.967\"],[\"1.048\"],[\"1.128\"],[\"1.209\"],[\"1.289\"],[\"1.370\"],[\"1.450\"],[\"1.531\"],[\"1.612\"],[\"1.692\"],[\"-1.692\"],[\"-1.612\"],[\"-1.531\"],[\"-1.450\"],[\"-1.370\"],[\"-1.289\"],[\"-1.209\"],[\"-1.128\"],[\"-1.048\"],[\"-0.967\"],[\"-0.886\"],[\"-0.806\"],[\"-0.725\"],[\"-0.645\"],[\"-0.564\"],[\"-0.483\"],[\"-0.403\"],[\"-0.322\"],[\"-0.242\"],[\"-0.161\"],[\"-0.081\"],[\"0.000\"],[\"0.081\"],[\"0.161\"],[\"0.242\"],[\"0.322\"],[\"0.403\"],[\"0.483\"],[\"0.564\"],[\"0.645\"],[\"0.725\"],[\"0.806\"],[\"0.886\"],[\"0.967\"],[\"1.048\"],[\"1.128\"],[\"1.209\"],[\"1.289\"],[\"1.370\"],[\"1.450\"],[\"1.531\"],[\"1.612\"],[\"1.692\"],[\"-1.692\"],[\"-1.612\"],[\"-1.531\"],[\"-1.450\"],[\"-1.370\"],[\"-1.289\"],[\"-1.209\"],[\"-1.128\"],[\"-1.048\"],[\"-0.967\"],[\"-0.886\"],[\"-0.806\"],[\"-0.725\"],[\"-0.645\"],[\"-0.564\"],[\"-0.483\"],[\"-0.403\"],[\"-0.322\"],[\"-0.242\"],[\"-0.161\"],[\"-0.081\"],[\"0.000\"],[\"0.081\"],[\"0.161\"],[\"0.242\"],[\"0.322\"],[\"0.403\"],[\"0.483\"],[\"0.564\"],[\"0.645\"],[\"0.725\"],[\"0.806\"],[\"0.886\"],[\"0.967\"],[\"1.048\"],[\"1.128\"],[\"1.209\"],[\"1.289\"],[\"1.370\"],[\"1.450\"],[\"1.531\"],[\"1.612\"],[\"1.692\"],[\"-1.692\"],[\"-1.612\"],[\"-1.531\"],[\"-1.450\"],[\"-1.370\"],[\"-1.289\"],[\"-1.209\"],[\"-1.128\"],[\"-1.048\"],[\"-0.967\"],[\"-0.886\"]],\"hovertemplate\":\"Marine Protected Area (sqkm)=%{x}<br>Fishing Exports (Millions)=%{y}<br>Country=%{customdata[0]}<br>Clusters_f=%{marker.color}<extra></extra>\",\"legendgroup\":\"\",\"marker\":{\"color\":[0,0,0,0,0,2,0,0,0,0,0,0,0,0,0,0,0,0,0,0,0,0,0,0,0,0,0,0,0,0,0,0,0,0,1,0,2,2,0,2,0,2,2,0,0,0,0,0,2,0,0,0,0,0,0,0,0,0,0,0,0,0,0,0,0,0,0,0,0,0,0,0,0,0,0,0,0,1,0,2,2,0,2,0,2,2,0,0,0,0,0,2,0,0,0,0,0,0,0,0,0,0,0,0,0,0,0,0,0,0,0,0,0,0,0,0,0,0,0,0,1,0,2,2,0,2,0,2,2,0,0,0,0,0,2,0,0,0,0,0,0,0,0,0,0,0,0,0,0,0,0,0,0,0,0,0,0,0,0,0,0,0,0,1,0,2,2,0,2,0,2,2,0,0,0,0,0,2,0,0,0,0,0,0,0,0,0,0,0,0,0,0,0,0,0,0,0,0,0,0,0,0,0,0,0,0,1,0,2,2,0,2,0,2,2,0,0,0,0,0,2,0,0,0,0,0,0,0,0,0,0,0,0,0,0,0,0,0,0,0,0,0,0,0,0,0,0,0,0,1,0,2,2,0,2,0,2,2,0,0,0,0,0,2,0,0,0,0,0,0,0,0,0,0,0,0,0,0,0,0,0,0,0,0,0,0,0,0,0,0,0,0,1,0,2,2,0,2,0,2,2,0,0,0,2,0,2,0,0,0,0,0,0,0,0,0,0,0,0,0,0,0,0,0,0,0,0,0,0,0,0,0,0,0,0,1,0,2,2,0,2,0,2,2,0,0,0,2,0,2,0,0,0,0,0,0,0,0,0,0,0,0,0,0,0,0,0,0,0,0,0,0,0,0,0,0,0,0,1,0,2,2,0,2,0,2,2,0,0,0,2,0,2,0,0,0,0,0,0,0,0,0,0,0,0,0,0,0,0,0,0,0,0,0,0,0,0,0,0,0,0,1,0,2,2,0,2,0,2,2,0,0,0,2,0,2,0,0,0,0,0,0,0,0,0,0,0,0,0,0,0,0,0,0,0,0,0,0,0,0,0,0,0,0,1,0,2,2,0,2,0,2,2,0,0,0,2,0,2,0,0,0,0,0,0,0,0,0,0,0,0,0,0,0,0,0,0,0,0,0,0,0,0,0,0,0,0,1,0,2,2,0,2,0,2,2],\"coloraxis\":\"coloraxis\",\"symbol\":\"circle\"},\"mode\":\"markers\",\"name\":\"\",\"orientation\":\"v\",\"showlegend\":false,\"x\":[-0.21640322178311114,-0.2794764295505674,-0.20061946233386846,-0.0007242924461850107,-0.24928101109428574,-0.27690719449436046,-0.2492731178990286,-0.28007105025994045,-0.26839701447459463,-0.20034583156495345,-0.26080902276737405,-0.2217942741437543,-0.27757811609121946,-0.2595329562007992,-0.27444057097649666,-0.18469230983745394,0.24128633626864088,-0.15858161992675474,-0.28021312777456936,-0.2802078656443979,-0.24661442662990712,-0.25973160161477116,-0.2535065016219543,0.041935796853701815,-0.2753693369517563,-0.26938629494682587,-0.27954878384042475,-0.20950588466089248,-0.2775294413871336,-0.2368373887713664,-0.19618743319697074,-0.23306312590589903,-0.2793343520359385,-0.2625086908127501,3.238824584584919,-0.11070412856188243,0.10158467341209171,-0.24063664675514812,-0.27201472896746154,-0.14049567852750586,-0.25800036078836647,0.24375295978650469,-0.10004568389962504,-0.22414513079784634,-0.2801355113545406,-0.20286244531944594,0.2957375437501882,-0.25122931479026245,-0.27143984124623144,-0.26311252024992315,-0.27977242437271105,-0.2729750677237498,-0.19310382491650527,-0.2649200619638138,-0.2248726202940483,-0.2763007339921017,-0.263161194954009,-0.27455107571009696,-0.19739246100623112,0.20603532625014562,-0.07557414753733029,-0.28021312777456936,-0.28017760839591216,-0.2232163648225867,-0.2647437806030704,-0.2459619224886482,0.02701502675257574,-0.2740011831071812,-0.27444057097649666,-0.2798250456744255,-0.2348654054896182,-0.27732684937553304,-0.20937564693914926,-0.19697938378777288,-0.22884421304094477,-0.27738867940504747,-0.2517489501446924,3.9622109347857037,-0.15355102348285546,0.08535363289827637,-0.23598097708596408,-0.2514621640503488,-0.12196508712877002,-0.26352954406601004,-0.030076454542492945,0.15334561684348877,-0.20221388777581562,-0.27987898250868276,-0.18047734357012826,0.17698705217123842,-0.2740656442017813,-0.27723213103244704,-0.26488059598752794,-0.27988950676902563,-0.2735065428710655,-0.18031290200227065,-0.2697835857747698,-0.21794634145588673,-0.27612971476152975,-0.26141285220454713,-0.275561404703014,-0.2291046884844312,0.22853093273306357,-0.024548586797392285,-0.2801933947864265,-0.2801868171237122,-0.23527453611044788,-0.2646951058989846,-0.234574672797646,0.2718224776535235,-0.27581267141870036,-0.27294086387763544,-0.2799552833961687,-0.2196881065426343,-0.2752733030761275,-0.20674195078834215,-0.16872700689729647,-0.22534094987930672,-0.2783516492264215,-0.23507194409884732,4.846018585393093,-0.20122197623849863,0.17110925276973685,-0.2096255981222928,-0.193172232608734,-0.0717946225416915,-0.26168385190837645,0.008898828104841026,0.02592708133962994,-0.19972621573726604,-0.28016576860302644,-0.1917567195926159,0.42571873664753973,-0.27427086727846767,-0.27728869893179003,-0.2640254998346685,-0.2799868561771974,-0.27346970795986547,-0.1779120551115499,-0.26930210086408274,-0.21412208835379068,-0.27485496372749774,-0.25982631995785715,-0.27529566712935616,-0.21931712636554757,0.20518286116237186,-0.025812813571081436,-0.28019076372134083,-0.2801539288101407,-0.231137186263151,-0.26911529524299654,-0.2459882331395054,0.20666151974054728,-0.2765006949386165,-0.27131749671974537,-0.2797961039584826,-0.21463909264313494,-0.2738841007108666,-0.19889743023526377,-0.14079430441473523,-0.22119307577166694,-0.27874104685910833,-0.23425368285718798,5.087709539700005,-0.10516310549135315,0.14631804199952697,-0.2209970614227807,-0.20017612786692437,-0.06916881958614153,-0.2621298174404062,0.05413604565619192,0.03360716032485073,-0.18862443660806458,-0.2802197054372837,-0.18953215406263846,0.386967094532492,-0.2745155563314397,-0.2772597572158471,-0.2668460016065618,-0.27993686594056866,-0.27435769242629643,-0.17733322079269118,-0.27138064228180264,-0.21785293864534364,-0.27386042112509507,-0.25986315486905726,-0.2742879692015248,-0.2283943009112864,0.23613865742842702,-0.04063097213386435,-0.2801723462657407,-0.28012498709419775,-0.23068201200332117,-0.26676312305636163,-0.23533899720504806,0.2094333468083548,-0.27555482704029965,-0.2719949959793186,-0.2798250456744255,-0.21802001127828693,-0.2737275523382662,-0.18399639312228064,-0.15602422466343355,-0.22069712000300845,-0.2788581292554229,-0.23367221747324354,5.707572687505452,-0.0818031941277757,0.15645685130735434,-0.2218311090549544,-0.22828642724277184,-0.060463940750032266,-0.2613220804590897,0.055181894027766215,-0.004932681050796363,-0.1864314438591158,-0.28010788517114055,-0.1831741852829927,0.5555894248112909,-0.27611524390355835,-0.2772979076595901,-0.2641570530889546,-0.2800118512955117,-0.2729632279308641,-0.17933151472529657,-0.2710491280810018,-0.21809499663322998,-0.2733355236404937,-0.2621061378546347,-0.2738841007108666,-0.22236521526735584,0.2274890309591179,-0.0391733620763747,-0.28016182200539785,-0.2800671036623119,-0.2326658350779551,-0.2649226930288995,-0.23583363744116367,0.36318752828774203,-0.2749431044078694,-0.27199762704440433,-0.279744798189311,-0.21707808997759867,-0.27346049923206545,-0.18393850969039474,-0.11685292766721335,-0.1999985309736382,-0.2785397703800506,-0.24191008225663724,6.157622948080813,0.07892067876368752,0.39348818934745255,-0.23404451318287312,-0.17931309726969655,-0.06296213704892474,-0.2556166158207029,-0.021128202185954462,0.03560413872491325,-0.18957162003892428,-0.28010788517114055,-0.20437004561356428,0.9537235091151961,-0.27607840899235825,-0.2773163251151901,-0.2651660665493287,-0.27980399715373977,-0.2730079560373213,-0.18965318305658163,-0.27007826506437055,-0.2155849605414518,-0.2725975098839488,-0.26181014303249106,-0.2742248236394675,-0.2269143268005681,0.2642792140527602,-0.015216198938338468,-0.28013682688708347,-0.2801013075084262,-0.21719648790645615,-0.26661052128138973,-0.219417106838805,0.422410172302245,-0.2736420427229802,-0.2724909517479771,-0.2797382205265967,-0.2107937910203531,-0.2734184021906939,-0.16763511488672211,-0.11249193728763011,-0.2110582130614681,-0.2782358823626498,-0.2415206846239505,6.588691389595235,0.12573653536647125,0.35826217444727154,-0.19213427743241693,-0.18884939267289377,-0.06642330316919123,-0.25211729925669346,-0.05247602714978209,0.18260306059671078,-0.17173957642044746,-0.2801881326562551,-0.18217964268059,0.6226829000297295,-0.274474774822611,-0.27745445603219054,-0.26308357853398023,-0.2798934533666543,-0.27308557245735016,-0.19177513704821597,-0.27084785160194413,-0.21088982489598193,-0.2739432996752953,-0.2593119467335986,-0.27531145351987046,-0.22736555446276935,0.3077194141505634,-0.0034579690702495128,-0.2800671036623119,-0.2800079046978831,-0.20220336351547274,-0.26559624569084417,-0.19253288379290373,0.48429808524858386,-0.2743642700890107,-0.27235413636351957,-0.27963560898825357,-0.2050028167666803,-0.27416299360995305,-0.1560557974444622,-0.13185262972091105,-0.21180280448072725,-0.2782950813270785,-0.23981443891586018,6.841357831907232,0.09964426291137217,0.26496592204013353,-0.1959822101202845,-0.22454373715833315,-0.06933457668654198,-0.243140105184212,-0.0680282528714813,0.32215212167828816,-0.16574601015517412,-0.2802197054372837,-0.1440120970145725,0.748564893523527,-0.27368019316672315,-0.27706111180187515,-0.2624547539784928,-0.2798289922720541,-0.2712096230512308,-0.17753186620666317,-0.26865354332045244,-0.20291112002353182,-0.2696691344435409,-0.2578517056110232,-0.2750917595852127,-0.22354919455593045,0.3369255521346139,0.018227269366266233,-0.2801263026267406,-0.2799460746683687,-0.18140874061047363,-0.2682917718711657,-0.1765399546693462,0.7801153104989551,-0.2728250970138637,-0.2715358751218602,-0.2795435217102533,-0.1984317317150911,-0.2727593203867207,-0.1354256161073207,-0.11315101909160333,-0.20296900345541766,-0.2789304835452802,-0.24445037559690125,7.699408670857953,0.07701578764162523,0.4376400925509434,-0.21284602178721582,-0.218463345745231,-0.07489664827775702,-0.2345562553420459,-0.045719452009649546,0.3437663213574895,-0.1626571397445372,-0.2802197054372837,-0.14321093769597032,0.9593474107359257,-0.2713569626960312,-0.2772018737839613,-0.26237319096083545,-0.27983951653239697,-0.26989672157345584,-0.17153303781121837,-0.26780502483030727,-0.20046159842872516,-0.26526867808767185,-0.2522922650848939,-0.2744576728995538,-0.2236978497332737,0.35298952001548584,0.08224766056458224,-0.2801184094314834,-0.28004473960908327,-0.17844616132395133,-0.2670775353341053,-0.17896448114583843,0.7549518040191159,-0.27297901432137844,-0.2684719998295377,-0.2796158760001106,-0.19684388393585825,-0.27241465086049116,-0.1171252429035855,-0.05976407743723038,-0.2062038979783121,-0.2789002262967944,-0.24473453062615919,7.795954288645958,0.19726072418926469,0.6046259003464235,-0.20228229546804435,-0.23206858330349636,-0.05880505421348494,-0.23963421095748824,-0.024365727773934663,0.3780096334481536,-0.159306478357871,-0.2802197054372837,-0.1421874533776247,0.9357875384258333,-0.2673077535291059,-0.2772913299968758,-0.26381106803018217,-0.27976584670999677,-0.27112279790340194,-0.1836661944540226,-0.26682100648824747,-0.2013232722442989,-0.26860092201873803,-0.25552452854270263,-0.275041769348584,-0.2151350484117934,0.3431835404410022,0.09511225330121702,-0.28014077348471206,-0.28002237555585463,-0.18646038557505873,-0.2669946567839051,-0.1788092483057809,0.7330245075947136,-0.2711714726074878,-0.26661709894410407,-0.27939618206545286,-0.19916316780892163,-0.2728487765996352,-0.08630757755453074,-0.09744356052984658,-0.1954086379315972,-0.2791764881307952,-0.24098000074883474,7.586058440367447,0.2105962775762436,0.6807491909390578,-0.20374648318824834,-0.20453974931159333,-0.04397110926018768,-0.23122532694352263,-0.01984687348920814,0.5735780168023681,-0.16317019743625288,-0.2802197054372837,-0.16251111563227968,1.075947006607298,-0.2627665351911508,-0.2773439512985902,-0.26229162794317806,-0.27979741949102543,-0.27186738932266113,-0.17417331162473976,-0.26604089569033107,-0.20539221439936708,-0.25897253933754055,-0.2569203085706778,-0.2741695712726674,-0.21881327740163195,0.3166058364775875,0.07361250495324462,-0.2801710307331979,-0.2799934338399117,-0.16066016134447467,-0.26972701787542674,-0.17263940067976422,0.7962700501252847,-0.2699953865141704,-0.26619612853038865,-0.2794159150535958,-0.19127786574701458,-0.2745181873965254,-0.046454834701108665,-0.06631806056576238,-0.2055092967956817,-0.27909097851550924,-0.23996835622337487,8.064208476058312,0.2715975215886943,0.6098472490090376,-0.10655362338915693,-0.2188474812477463,-0.02811894211871624,-0.21173176572341276,-0.017894623195602873,0.8349966971220179],\"xaxis\":\"x\",\"y\":[-0.1797295601550148,-0.5485192350192032,0.5636094453490641,0.16812111507690097,-0.6742616782144735,-0.6992071329626894,0.5633533937063158,-0.7128893278022496,-0.7631055735035851,-0.27072730161547964,-0.2840660860165303,-0.6694418825862708,-0.28168932429737287,-0.6226687783868324,-0.7676542556277014,-0.5870956742784297,-0.5700396224991278,-0.14853343295147356,-0.7410610332490937,-0.7511886288128543,-0.5061472067027672,-0.14270750498588367,-0.34004801223810327,1.120316927012336,-0.6516086387619213,-0.6305732432170845,-0.7681753960300008,0.018499596916154572,-0.5720518871739023,-0.7291952988869125,-0.24128738744396472,0.4894237535142233,-0.43295559771624337,-0.6392006773915673,1.7820477554141427,-0.08969879019245816,0.28662784008533204,-0.6757046045306666,-0.20069567113769607,-0.5367468841973184,0.5117333825282662,1.5429527561603502,0.5703360726226743,-0.41750212798331887,-0.46453730857004083,0.4552062169262527,0.466981580120405,-0.7007946531477286,-0.7034244541373667,0.4110689384609875,-0.7165342982460777,-0.7655124589454189,-0.2827466669633098,-0.30349588714272197,-0.6446711454295772,-0.30645403670953125,-0.6399597952030092,-0.764705143177695,-0.5815559216782643,-0.4308921227129192,-0.3913969099120666,-0.7156155247044517,-0.7003427973075846,-0.5695395687027018,0.08781127042197541,-0.4405558129474653,0.8496221426711408,-0.5676056257068854,-0.6316275735107538,-0.760590242660117,0.004597498901057851,-0.3931952961558397,-0.6944174610571631,-0.18947759681305457,0.7738368811621904,-0.2011083661383609,-0.5818692083940975,3.699314258356849,-0.15622703172299193,0.10953047447156329,-0.5281164376505681,-0.07754688046485235,-0.5799864757268308,-0.01713074226533296,1.2968961645960733,1.1157863191218256,-0.5318909401019043,-0.4618472601350503,0.23890282624932363,0.20400750590113687,-0.7270203661096859,-0.7311864769558135,0.34654693686069304,-0.715862539230397,-0.7579694787872818,-0.3385568879656281,-0.08511998434566576,-0.5984221940047058,-0.15022036142134446,-0.6258377940123756,-0.7612710387926006,-0.5795677559816308,-0.32671826495385553,-0.20269287395113247,-0.7210317700416443,-0.6650890046595505,-0.5479589337774247,0.0761142289067813,-0.4312927682245135,1.4313805121119954,-0.413555920312728,-0.5296045495507757,-0.764608747265131,0.0756593606943696,-0.03512364181986674,-0.6851544163342113,0.011604276795557289,0.7947096086045752,-0.20472321285951284,-0.7170765252542506,4.266275855219122,-0.04654956983097458,-0.057842953462306695,-0.5437416126027474,0.005630742588853731,-0.5461213866941724,-0.1142948097576295,1.4246056868821033,1.087747158054757,-0.5496970725758452,-0.44168846492009295,0.2531965326592119,0.40962902451706207,-0.7287765791417122,-0.7255563531876195,0.3642205249548584,-0.7129043896635877,-0.7574694249908559,-0.3346408040177135,-0.015205836386319591,-0.5793267662002206,-0.0861321414275882,-0.6089293484741873,-0.761671684304195,-0.5711391383768115,-0.3756934132809291,-0.08801186172258728,-0.7184893278477674,-0.6666494134941809,-0.47027889011213714,0.1209112168986567,-0.42958776552103684,1.279123168217076,-0.3835285935490259,-0.49780896026597676,-0.7642081017535366,0.24749411195659474,-0.06733493847759824,-0.6639232165919788,0.08052434190658661,1.1245011120920694,-0.23984144875550395,-0.7217185909186631,4.916442186485509,0.17143171219902267,0.020689591554719118,-0.5441934684428914,0.11235909203086478,-0.5539957278017484,-0.13822509505165537,1.5480346281758361,1.2904014899870697,-0.5503356954965821,-0.481171628231875,0.2573716806221424,0.3715948122660084,-0.7287374183022332,-0.7115006241868737,0.333187065853769,-0.701589919426382,-0.7547944384172034,-0.29728437552687587,-0.003198520527559863,-0.5746816881635404,-0.06096075875930022,-0.5673555988086725,-0.7621687257283534,-0.5862702842771,-0.3813536607717995,-0.07980013492103706,-0.7044486607083598,-0.6683092306136433,-0.47562886325944204,0.15547517629740443,-0.4263645271946763,1.1658820699324561,-0.35796259011367876,-0.4915251517157077,-0.7641719532863251,0.2608871190584627,-0.04093149555185092,-0.6614470465879898,0.014743168698424243,0.958227200035883,-0.33884607570332026,-0.722299978766315,5.04179000891372,0.19101514431086325,0.1407778120036542,-0.5617224626682107,0.10720191070868791,-0.5229411820947857,-0.16721917812756146,1.5445432887176573,1.1577757761602732,-0.5376174597826625,-0.4862775992255021,0.305587711137774,0.5397183208945173,-0.7298550084135227,-0.7223090158831179,0.4235883576052437,-0.7042920173504432,-0.755619828418533,-0.2971126703076211,0.0028352611244961716,-0.5877614085495751,-0.06239766033095811,-0.5811010534658527,-0.7604878220030178,-0.5726754482333011,-0.25169212125634705,-0.1791481723073629,-0.6985654976696849,-0.6545728130732659,-0.4861601167070647,0.11690174941044569,-0.4559881960745165,1.4508464617053989,-0.313442740370425,-0.49086544218909745,-0.7640183223006761,0.2362338644202064,0.09618265295370977,-0.630666626757381,0.04602665469772662,0.9907216596867714,-0.29824532228024875,-0.7200166005874541,5.196857896134335,0.5730200963131296,0.26747517720776204,-0.5690967499793607,-0.02767103282975856,-0.4302625369089852,-0.11918388994798751,1.1804740011968398,1.2728092359441305,-0.49329642660907214,-0.4639016980215716,0.40518276305004514,0.8959554405195058,-0.7217969125976215,-0.7251707695373633,0.43461062773248954,-0.7089822809711379,-0.7568669505373306,-0.317000352018492,0.07430078080167007,-0.5794472610909257,-0.1612456439208579,-0.5651595794255727,-0.7606143416382579,-0.5570291866752484,-0.24608308409402632,-0.2370610291524846,-0.7105095537108245,-0.6304678101877177,-0.466811649632099,0.2587995450769973,-0.4514545758117385,1.7055937472617788,-0.2597562418167835,-0.46488674375308553,-0.7630152023355564,0.26507431651046354,0.20093488618815777,-0.5893549534791496,0.10314123289192723,1.0090579696798145,-0.24195914645964547,-0.7233693709213225,5.5261583829422065,0.874251298331256,0.4688914241380803,-0.5498778149119029,0.032278187668278786,-0.4633926071083427,0.007923157884517624,1.144512301065913,1.550802998289785,-0.44639077802985805,-0.4491501110270041,0.6324572135256704,0.7241628624690274,-0.7207094462090082,-0.7292796453104059,0.5191257440730218,-0.7136755569641001,-0.758508693423187,-0.27644177180716734,0.07447851076546008,-0.5717657118084778,-0.14603316396934357,-0.5657018064337455,-0.7625000866777922,-0.5406900794956417,-0.17278905445040307,-0.2647477426642408,-0.7141906726218643,-0.6142522102710836,-0.4536475828225706,0.3277226225602944,-0.4360493040350959,2.003517364530051,-0.24809534876880085,-0.4345129941786064,-0.7625723836122152,0.37563741584916327,0.3375339190359543,-0.5606349962795976,-0.013479747076969535,0.9369598518264394,-0.3293299917098878,-0.7038883594665811,5.230719972794726,0.6997987955684635,0.3701548983220829,-0.5638130490219435,-0.052035099730322526,-0.5285893800965855,0.3369977167723167,0.9464187007467868,1.2694534532379946,-0.46315462969920024,-0.43091019694652494,0.7620615179680379,0.806789221397758,-0.7195587200027748,-0.7355845404665485,0.6449585584363209,-0.7264359658897664,-0.7519567837410991,-0.25342724768249997,0.12365850040673214,-0.546763021987177,-0.2246470430375953,-0.5705818495073006,-0.7634911571538414,-0.5347316071502762,-0.2012439228904041,-0.20447921070583508,-0.70891600878125,-0.5976600638209962,-0.4232437095254152,0.4970239687454454,-0.41351675947324884,2.667757499030791,-0.15476301880092544,-0.45580444136619125,-0.7593370957967843,0.4796365560167045,0.5624948676100423,-0.5216729733701149,0.12372176022435231,0.8954734609566855,-0.19076990451586637,-0.6997523723431298,5.670185925801969,0.9267418850946498,0.4007003531158167,-0.5468443560384029,-0.09459088275508372,-0.5427595792435012,0.4785490896280914,1.018034839037342,1.4253889036716862,-0.46034709874577223,-0.40476581803579353,0.7955922336789899,0.9084387111965504,-0.7314184296204209,-0.7310900810432496,0.6552608715916038,-0.7266197205980917,-0.7220921250798489,-0.246278888291422,0.0686977683838846,-0.540461139203302,-0.2939888402660924,-0.5483897030116953,-0.7647985267179914,-0.5254775995441273,-0.18356431005170348,-0.1912307974728132,-0.7052921249432953,-0.5903460239551989,-0.35680282679064257,0.7721770640427281,-0.422728593867651,2.6415197365797627,-0.117686740930977,-0.4301902399745621,-0.7598040134982665,0.600342312780503,0.4486874433391087,-0.4809185889613944,0.23916791500887466,1.0569667382241485,-0.1698489791171995,-0.7056837333380866,5.632031218660211,1.27529745543719,0.46494220409522197,-0.5445820644654152,0.05628076989672761,-0.4866812571093641,0.4329869590802388,0.9532929342615106,1.7384225802343736,-0.46033806162896934,-0.4539096592098541,0.7826420453004629,1.0673413483138545,-0.7292103607482505,-0.7302526415528493,0.6305292952743893,-0.726318483371329,-0.7123290265604709,-0.24081143262567975,0.04485785425788746,-0.537590348432254,-0.2157756067094349,-0.5592523174087569,-0.7652895433976145,-0.5227755016200661,-0.11589136705947153,-0.2048286458888798,-0.7048191824972778,-0.5948796442179769,-0.31711783453692954,0.7687610338912394,-0.42051148787867787,2.5701777241655615,-0.059924502699236645,-0.42086996017852535,-0.7591202049935152,0.6298484991419059,0.6437566219015379,-0.3976596318564623,0.1650906685756686,0.8830082645132465,-0.015470925145870767,-0.6952729747811691,5.622713951236442,1.2305275787957235,0.5876120275775131,-0.5468895416224172,0.1663498401835365,-0.4753005146822707,0.6084214952022777,0.857008479471361,1.7683625482023149,-0.4519124563964177,-0.4676460767502315,0.8735855640601106,1.1205157435819992,-0.7251376334424193,-0.7334547932733364,0.6342736740030492,-0.7126814741157833,-0.7185887361325991,-0.25162584906645924,0.0002144972516610707,-0.5397050337641278,-0.1716112168937611,-0.5702745875360027,-0.7646539328491453,-0.5301889497706953,-0.15487748894709522,-0.14224359965666916,-0.7070182142526453,-0.583857374090731,-0.3565196637974856,0.8205497379162763,-0.3938881417773938,2.864188269858187,-0.0368376816401463,-0.4371427951682444,-0.7584876068173135,0.5884464546956455,0.6250648519809148,-0.35761616730290174,0.23749906077260954,0.751509177914542,-0.036358714449593627,-0.6776264980374124,5.320169354909631,1.1950960561838992,0.5676821726548954,-0.5003514024598537,0.22832337484541884,-0.5056923384903557,0.6534082626470137,0.7237411303515597,1.6958607724650774],\"yaxis\":\"y\",\"type\":\"scatter\"}],                        {\"template\":{\"data\":{\"histogram2dcontour\":[{\"type\":\"histogram2dcontour\",\"colorbar\":{\"outlinewidth\":0,\"ticks\":\"\"},\"colorscale\":[[0.0,\"#0d0887\"],[0.1111111111111111,\"#46039f\"],[0.2222222222222222,\"#7201a8\"],[0.3333333333333333,\"#9c179e\"],[0.4444444444444444,\"#bd3786\"],[0.5555555555555556,\"#d8576b\"],[0.6666666666666666,\"#ed7953\"],[0.7777777777777778,\"#fb9f3a\"],[0.8888888888888888,\"#fdca26\"],[1.0,\"#f0f921\"]]}],\"choropleth\":[{\"type\":\"choropleth\",\"colorbar\":{\"outlinewidth\":0,\"ticks\":\"\"}}],\"histogram2d\":[{\"type\":\"histogram2d\",\"colorbar\":{\"outlinewidth\":0,\"ticks\":\"\"},\"colorscale\":[[0.0,\"#0d0887\"],[0.1111111111111111,\"#46039f\"],[0.2222222222222222,\"#7201a8\"],[0.3333333333333333,\"#9c179e\"],[0.4444444444444444,\"#bd3786\"],[0.5555555555555556,\"#d8576b\"],[0.6666666666666666,\"#ed7953\"],[0.7777777777777778,\"#fb9f3a\"],[0.8888888888888888,\"#fdca26\"],[1.0,\"#f0f921\"]]}],\"heatmap\":[{\"type\":\"heatmap\",\"colorbar\":{\"outlinewidth\":0,\"ticks\":\"\"},\"colorscale\":[[0.0,\"#0d0887\"],[0.1111111111111111,\"#46039f\"],[0.2222222222222222,\"#7201a8\"],[0.3333333333333333,\"#9c179e\"],[0.4444444444444444,\"#bd3786\"],[0.5555555555555556,\"#d8576b\"],[0.6666666666666666,\"#ed7953\"],[0.7777777777777778,\"#fb9f3a\"],[0.8888888888888888,\"#fdca26\"],[1.0,\"#f0f921\"]]}],\"heatmapgl\":[{\"type\":\"heatmapgl\",\"colorbar\":{\"outlinewidth\":0,\"ticks\":\"\"},\"colorscale\":[[0.0,\"#0d0887\"],[0.1111111111111111,\"#46039f\"],[0.2222222222222222,\"#7201a8\"],[0.3333333333333333,\"#9c179e\"],[0.4444444444444444,\"#bd3786\"],[0.5555555555555556,\"#d8576b\"],[0.6666666666666666,\"#ed7953\"],[0.7777777777777778,\"#fb9f3a\"],[0.8888888888888888,\"#fdca26\"],[1.0,\"#f0f921\"]]}],\"contourcarpet\":[{\"type\":\"contourcarpet\",\"colorbar\":{\"outlinewidth\":0,\"ticks\":\"\"}}],\"contour\":[{\"type\":\"contour\",\"colorbar\":{\"outlinewidth\":0,\"ticks\":\"\"},\"colorscale\":[[0.0,\"#0d0887\"],[0.1111111111111111,\"#46039f\"],[0.2222222222222222,\"#7201a8\"],[0.3333333333333333,\"#9c179e\"],[0.4444444444444444,\"#bd3786\"],[0.5555555555555556,\"#d8576b\"],[0.6666666666666666,\"#ed7953\"],[0.7777777777777778,\"#fb9f3a\"],[0.8888888888888888,\"#fdca26\"],[1.0,\"#f0f921\"]]}],\"surface\":[{\"type\":\"surface\",\"colorbar\":{\"outlinewidth\":0,\"ticks\":\"\"},\"colorscale\":[[0.0,\"#0d0887\"],[0.1111111111111111,\"#46039f\"],[0.2222222222222222,\"#7201a8\"],[0.3333333333333333,\"#9c179e\"],[0.4444444444444444,\"#bd3786\"],[0.5555555555555556,\"#d8576b\"],[0.6666666666666666,\"#ed7953\"],[0.7777777777777778,\"#fb9f3a\"],[0.8888888888888888,\"#fdca26\"],[1.0,\"#f0f921\"]]}],\"mesh3d\":[{\"type\":\"mesh3d\",\"colorbar\":{\"outlinewidth\":0,\"ticks\":\"\"}}],\"scatter\":[{\"fillpattern\":{\"fillmode\":\"overlay\",\"size\":10,\"solidity\":0.2},\"type\":\"scatter\"}],\"parcoords\":[{\"type\":\"parcoords\",\"line\":{\"colorbar\":{\"outlinewidth\":0,\"ticks\":\"\"}}}],\"scatterpolargl\":[{\"type\":\"scatterpolargl\",\"marker\":{\"colorbar\":{\"outlinewidth\":0,\"ticks\":\"\"}}}],\"bar\":[{\"error_x\":{\"color\":\"#2a3f5f\"},\"error_y\":{\"color\":\"#2a3f5f\"},\"marker\":{\"line\":{\"color\":\"#E5ECF6\",\"width\":0.5},\"pattern\":{\"fillmode\":\"overlay\",\"size\":10,\"solidity\":0.2}},\"type\":\"bar\"}],\"scattergeo\":[{\"type\":\"scattergeo\",\"marker\":{\"colorbar\":{\"outlinewidth\":0,\"ticks\":\"\"}}}],\"scatterpolar\":[{\"type\":\"scatterpolar\",\"marker\":{\"colorbar\":{\"outlinewidth\":0,\"ticks\":\"\"}}}],\"histogram\":[{\"marker\":{\"pattern\":{\"fillmode\":\"overlay\",\"size\":10,\"solidity\":0.2}},\"type\":\"histogram\"}],\"scattergl\":[{\"type\":\"scattergl\",\"marker\":{\"colorbar\":{\"outlinewidth\":0,\"ticks\":\"\"}}}],\"scatter3d\":[{\"type\":\"scatter3d\",\"line\":{\"colorbar\":{\"outlinewidth\":0,\"ticks\":\"\"}},\"marker\":{\"colorbar\":{\"outlinewidth\":0,\"ticks\":\"\"}}}],\"scattermapbox\":[{\"type\":\"scattermapbox\",\"marker\":{\"colorbar\":{\"outlinewidth\":0,\"ticks\":\"\"}}}],\"scatterternary\":[{\"type\":\"scatterternary\",\"marker\":{\"colorbar\":{\"outlinewidth\":0,\"ticks\":\"\"}}}],\"scattercarpet\":[{\"type\":\"scattercarpet\",\"marker\":{\"colorbar\":{\"outlinewidth\":0,\"ticks\":\"\"}}}],\"carpet\":[{\"aaxis\":{\"endlinecolor\":\"#2a3f5f\",\"gridcolor\":\"white\",\"linecolor\":\"white\",\"minorgridcolor\":\"white\",\"startlinecolor\":\"#2a3f5f\"},\"baxis\":{\"endlinecolor\":\"#2a3f5f\",\"gridcolor\":\"white\",\"linecolor\":\"white\",\"minorgridcolor\":\"white\",\"startlinecolor\":\"#2a3f5f\"},\"type\":\"carpet\"}],\"table\":[{\"cells\":{\"fill\":{\"color\":\"#EBF0F8\"},\"line\":{\"color\":\"white\"}},\"header\":{\"fill\":{\"color\":\"#C8D4E3\"},\"line\":{\"color\":\"white\"}},\"type\":\"table\"}],\"barpolar\":[{\"marker\":{\"line\":{\"color\":\"#E5ECF6\",\"width\":0.5},\"pattern\":{\"fillmode\":\"overlay\",\"size\":10,\"solidity\":0.2}},\"type\":\"barpolar\"}],\"pie\":[{\"automargin\":true,\"type\":\"pie\"}]},\"layout\":{\"autotypenumbers\":\"strict\",\"colorway\":[\"#636efa\",\"#EF553B\",\"#00cc96\",\"#ab63fa\",\"#FFA15A\",\"#19d3f3\",\"#FF6692\",\"#B6E880\",\"#FF97FF\",\"#FECB52\"],\"font\":{\"color\":\"#2a3f5f\"},\"hovermode\":\"closest\",\"hoverlabel\":{\"align\":\"left\"},\"paper_bgcolor\":\"white\",\"plot_bgcolor\":\"#E5ECF6\",\"polar\":{\"bgcolor\":\"#E5ECF6\",\"angularaxis\":{\"gridcolor\":\"white\",\"linecolor\":\"white\",\"ticks\":\"\"},\"radialaxis\":{\"gridcolor\":\"white\",\"linecolor\":\"white\",\"ticks\":\"\"}},\"ternary\":{\"bgcolor\":\"#E5ECF6\",\"aaxis\":{\"gridcolor\":\"white\",\"linecolor\":\"white\",\"ticks\":\"\"},\"baxis\":{\"gridcolor\":\"white\",\"linecolor\":\"white\",\"ticks\":\"\"},\"caxis\":{\"gridcolor\":\"white\",\"linecolor\":\"white\",\"ticks\":\"\"}},\"coloraxis\":{\"colorbar\":{\"outlinewidth\":0,\"ticks\":\"\"}},\"colorscale\":{\"sequential\":[[0.0,\"#0d0887\"],[0.1111111111111111,\"#46039f\"],[0.2222222222222222,\"#7201a8\"],[0.3333333333333333,\"#9c179e\"],[0.4444444444444444,\"#bd3786\"],[0.5555555555555556,\"#d8576b\"],[0.6666666666666666,\"#ed7953\"],[0.7777777777777778,\"#fb9f3a\"],[0.8888888888888888,\"#fdca26\"],[1.0,\"#f0f921\"]],\"sequentialminus\":[[0.0,\"#0d0887\"],[0.1111111111111111,\"#46039f\"],[0.2222222222222222,\"#7201a8\"],[0.3333333333333333,\"#9c179e\"],[0.4444444444444444,\"#bd3786\"],[0.5555555555555556,\"#d8576b\"],[0.6666666666666666,\"#ed7953\"],[0.7777777777777778,\"#fb9f3a\"],[0.8888888888888888,\"#fdca26\"],[1.0,\"#f0f921\"]],\"diverging\":[[0,\"#8e0152\"],[0.1,\"#c51b7d\"],[0.2,\"#de77ae\"],[0.3,\"#f1b6da\"],[0.4,\"#fde0ef\"],[0.5,\"#f7f7f7\"],[0.6,\"#e6f5d0\"],[0.7,\"#b8e186\"],[0.8,\"#7fbc41\"],[0.9,\"#4d9221\"],[1,\"#276419\"]]},\"xaxis\":{\"gridcolor\":\"white\",\"linecolor\":\"white\",\"ticks\":\"\",\"title\":{\"standoff\":15},\"zerolinecolor\":\"white\",\"automargin\":true,\"zerolinewidth\":2},\"yaxis\":{\"gridcolor\":\"white\",\"linecolor\":\"white\",\"ticks\":\"\",\"title\":{\"standoff\":15},\"zerolinecolor\":\"white\",\"automargin\":true,\"zerolinewidth\":2},\"scene\":{\"xaxis\":{\"backgroundcolor\":\"#E5ECF6\",\"gridcolor\":\"white\",\"linecolor\":\"white\",\"showbackground\":true,\"ticks\":\"\",\"zerolinecolor\":\"white\",\"gridwidth\":2},\"yaxis\":{\"backgroundcolor\":\"#E5ECF6\",\"gridcolor\":\"white\",\"linecolor\":\"white\",\"showbackground\":true,\"ticks\":\"\",\"zerolinecolor\":\"white\",\"gridwidth\":2},\"zaxis\":{\"backgroundcolor\":\"#E5ECF6\",\"gridcolor\":\"white\",\"linecolor\":\"white\",\"showbackground\":true,\"ticks\":\"\",\"zerolinecolor\":\"white\",\"gridwidth\":2}},\"shapedefaults\":{\"line\":{\"color\":\"#2a3f5f\"}},\"annotationdefaults\":{\"arrowcolor\":\"#2a3f5f\",\"arrowhead\":0,\"arrowwidth\":1},\"geo\":{\"bgcolor\":\"white\",\"landcolor\":\"#E5ECF6\",\"subunitcolor\":\"white\",\"showland\":true,\"showlakes\":true,\"lakecolor\":\"white\"},\"title\":{\"x\":0.05},\"mapbox\":{\"style\":\"light\"}}},\"xaxis\":{\"anchor\":\"y\",\"domain\":[0.0,1.0],\"title\":{\"text\":\"Marine Protected Area\"}},\"yaxis\":{\"anchor\":\"x\",\"domain\":[0.0,1.0],\"title\":{\"text\":\"Fishing Exports\"}},\"coloraxis\":{\"colorbar\":{\"title\":{\"text\":\"Clusters_f\"}},\"colorscale\":[[0.0,\"#0d0887\"],[0.1111111111111111,\"#46039f\"],[0.2222222222222222,\"#7201a8\"],[0.3333333333333333,\"#9c179e\"],[0.4444444444444444,\"#bd3786\"],[0.5555555555555556,\"#d8576b\"],[0.6666666666666666,\"#ed7953\"],[0.7777777777777778,\"#fb9f3a\"],[0.8888888888888888,\"#fdca26\"],[1.0,\"#f0f921\"]]},\"legend\":{\"tracegroupgap\":0},\"margin\":{\"t\":60},\"title\":{\"text\":\"K-means Clustering with 2 Features\"}},                        {\"responsive\": true}                    ).then(function(){\n",
       "                            \n",
       "var gd = document.getElementById('fc827837-a432-4bfa-9c5f-28761a6d3f23');\n",
       "var x = new MutationObserver(function (mutations, observer) {{\n",
       "        var display = window.getComputedStyle(gd).display;\n",
       "        if (!display || display === 'none') {{\n",
       "            console.log([gd, 'removed!']);\n",
       "            Plotly.purge(gd);\n",
       "            observer.disconnect();\n",
       "        }}\n",
       "}});\n",
       "\n",
       "// Listen for the removal of the full notebook cells\n",
       "var notebookContainer = gd.closest('#notebook-container');\n",
       "if (notebookContainer) {{\n",
       "    x.observe(notebookContainer, {childList: true});\n",
       "}}\n",
       "\n",
       "// Listen for the clearing of the current output cell\n",
       "var outputEl = gd.closest('.output');\n",
       "if (outputEl) {{\n",
       "    x.observe(outputEl, {childList: true});\n",
       "}}\n",
       "\n",
       "                        })                };                });            </script>        </div>"
      ]
     },
     "metadata": {},
     "output_type": "display_data"
    }
   ],
   "source": [
    "#| code-fold: true\n",
    "kmeans_pca = KMeans(n_clusters=3, random_state=42, n_init=10)\n",
    "kmeans_pca.fit(data_standardized)\n",
    "data_standardized['Clusters_f'] = kmeans_pca.labels_\n",
    "\n",
    "\n",
    "hover_data = data_standardized[['Country']]\n",
    "\n",
    "fig = px.scatter(data_standardized, x='Marine Protected Area (sqkm)', y='Fishing Exports (Millions)', color='Clusters_f', hover_data=hover_data\n",
    "                 )\n",
    "\n",
    "fig.update_layout(title='K-means Clustering with 2 Features', xaxis_title='Marine Protected Area', yaxis_title='Fishing Exports')\n",
    "fig.show()"
   ]
  },
  {
   "cell_type": "markdown",
   "metadata": {},
   "source": [
    "Running clustering on specific features has the power to be beneficial in seeing how the data is being grouped together. Similar to the clustering completed on the PCA data the yellow cluster still seems to be an outlier - specifically relating to high marine protected area and fishing exports."
   ]
  },
  {
   "cell_type": "markdown",
   "metadata": {},
   "source": [
    "## DBSCAN Clustering\n",
    "\n",
    "Next, I will be utilizing DBSCAN clustering. \n",
    "Before running dbscan I wanted to look closer into the estimated number of clusters and estimated noise.\n",
    "\n",
    "### Clusters DBSCAN\n",
    "\n",
    "Below I am providing the count of points within each cluster. The cluster labeled -1 stands for noise. "
   ]
  },
  {
   "cell_type": "code",
   "execution_count": 661,
   "metadata": {},
   "outputs": [
    {
     "data": {
      "text/html": [
       "<div>\n",
       "<style scoped>\n",
       "    .dataframe tbody tr th:only-of-type {\n",
       "        vertical-align: middle;\n",
       "    }\n",
       "\n",
       "    .dataframe tbody tr th {\n",
       "        vertical-align: top;\n",
       "    }\n",
       "\n",
       "    .dataframe thead th {\n",
       "        text-align: right;\n",
       "    }\n",
       "</style>\n",
       "<table border=\"1\" class=\"dataframe\">\n",
       "  <thead>\n",
       "    <tr style=\"text-align: right;\">\n",
       "      <th></th>\n",
       "      <th>count</th>\n",
       "    </tr>\n",
       "    <tr>\n",
       "      <th>Cluster_DBSCAN</th>\n",
       "      <th></th>\n",
       "    </tr>\n",
       "  </thead>\n",
       "  <tbody>\n",
       "    <tr>\n",
       "      <th>-1</th>\n",
       "      <td>340</td>\n",
       "    </tr>\n",
       "    <tr>\n",
       "      <th>1</th>\n",
       "      <td>134</td>\n",
       "    </tr>\n",
       "    <tr>\n",
       "      <th>0</th>\n",
       "      <td>24</td>\n",
       "    </tr>\n",
       "    <tr>\n",
       "      <th>2</th>\n",
       "      <td>18</td>\n",
       "    </tr>\n",
       "  </tbody>\n",
       "</table>\n",
       "</div>"
      ],
      "text/plain": [
       "                count\n",
       "Cluster_DBSCAN       \n",
       "-1                340\n",
       " 1                134\n",
       " 0                 24\n",
       " 2                 18"
      ]
     },
     "execution_count": 661,
     "metadata": {},
     "output_type": "execute_result"
    }
   ],
   "source": [
    "#| code-fold: true\n",
    "db = pd.read_csv(\"/Users/kendallgilbert/dsan-5000-project-kendallgilbert180/dsan-website/5000-website/data/01-modified-data/nb_record.csv\")\n",
    "label_encoder = LabelEncoder()\n",
    "db['Country'] = label_encoder.fit_transform(db['Country'])\n",
    "\n",
    "features_to_standardize = ['Aqua Production (Millions)', 'Marine Protected Area (sqkm)', 'Inventions (number)', 'Instruments (number)', 'Fishing Exports (Millions)', 'Value', 'Country']\n",
    "data_subset = db[features_to_standardize]\n",
    "scaler = StandardScaler()\n",
    "db = scaler.fit_transform(data_subset)\n",
    "db = pd.DataFrame(db, columns=features_to_standardize)\n",
    "\n",
    "\n",
    "import seaborn as sns\n",
    "clustering = DBSCAN(eps=0.5, min_samples=15).fit(db)\n",
    "labels = clustering.labels_\n",
    "db.loc[:,'Cluster_DBSCAN'] = clustering.labels_ \n",
    "db.Cluster_DBSCAN.value_counts().to_frame()\n",
    "\n"
   ]
  },
  {
   "cell_type": "markdown",
   "metadata": {},
   "source": [
    "### Estimated number of clusters and noise"
   ]
  },
  {
   "cell_type": "code",
   "execution_count": 662,
   "metadata": {},
   "outputs": [
    {
     "name": "stdout",
     "output_type": "stream",
     "text": [
      "Estimated number of clusters: 3\n",
      "Estimated number of noise points: 340\n"
     ]
    }
   ],
   "source": [
    "#| code-fold: true\n",
    "n_clusters_ = len(set(db['Cluster_DBSCAN'])) - (1 if -1 in db['Cluster_DBSCAN'].values else 0)\n",
    "n_noise_ = (db['Cluster_DBSCAN'] == -1).sum()\n",
    "\n",
    "print(\"Estimated number of clusters: %d\" % n_clusters_)\n",
    "print(\"Estimated number of noise points: %d\" % n_noise_)"
   ]
  },
  {
   "cell_type": "markdown",
   "metadata": {},
   "source": [
    "Below I have printed the table to show how rows are classified into a dbscan cluster or \"noise\""
   ]
  },
  {
   "cell_type": "code",
   "execution_count": 663,
   "metadata": {},
   "outputs": [
    {
     "data": {
      "text/html": [
       "<div>\n",
       "<style scoped>\n",
       "    .dataframe tbody tr th:only-of-type {\n",
       "        vertical-align: middle;\n",
       "    }\n",
       "\n",
       "    .dataframe tbody tr th {\n",
       "        vertical-align: top;\n",
       "    }\n",
       "\n",
       "    .dataframe thead th {\n",
       "        text-align: right;\n",
       "    }\n",
       "</style>\n",
       "<table border=\"1\" class=\"dataframe\">\n",
       "  <thead>\n",
       "    <tr style=\"text-align: right;\">\n",
       "      <th></th>\n",
       "      <th>Aqua Production (Millions)</th>\n",
       "      <th>Marine Protected Area (sqkm)</th>\n",
       "      <th>Inventions (number)</th>\n",
       "      <th>Instruments (number)</th>\n",
       "      <th>Fishing Exports (Millions)</th>\n",
       "      <th>Value</th>\n",
       "      <th>Country</th>\n",
       "      <th>Cluster_DBSCAN</th>\n",
       "    </tr>\n",
       "  </thead>\n",
       "  <tbody>\n",
       "    <tr>\n",
       "      <th>0</th>\n",
       "      <td>0.679748</td>\n",
       "      <td>-0.216403</td>\n",
       "      <td>-0.255849</td>\n",
       "      <td>0.128004</td>\n",
       "      <td>-0.179730</td>\n",
       "      <td>-0.246968</td>\n",
       "      <td>-0.805823</td>\n",
       "      <td>-1</td>\n",
       "    </tr>\n",
       "    <tr>\n",
       "      <th>1</th>\n",
       "      <td>-0.369917</td>\n",
       "      <td>-0.279476</td>\n",
       "      <td>-0.331231</td>\n",
       "      <td>-1.113538</td>\n",
       "      <td>-0.548519</td>\n",
       "      <td>-0.751243</td>\n",
       "      <td>-0.725241</td>\n",
       "      <td>0</td>\n",
       "    </tr>\n",
       "    <tr>\n",
       "      <th>2</th>\n",
       "      <td>-0.301377</td>\n",
       "      <td>-0.200619</td>\n",
       "      <td>-0.182663</td>\n",
       "      <td>0.872929</td>\n",
       "      <td>0.563609</td>\n",
       "      <td>-0.503371</td>\n",
       "      <td>-0.644658</td>\n",
       "      <td>-1</td>\n",
       "    </tr>\n",
       "    <tr>\n",
       "      <th>3</th>\n",
       "      <td>-0.345421</td>\n",
       "      <td>-0.000724</td>\n",
       "      <td>-0.326903</td>\n",
       "      <td>-0.120304</td>\n",
       "      <td>0.168121</td>\n",
       "      <td>0.151617</td>\n",
       "      <td>-0.564076</td>\n",
       "      <td>-1</td>\n",
       "    </tr>\n",
       "    <tr>\n",
       "      <th>4</th>\n",
       "      <td>-0.288119</td>\n",
       "      <td>-0.249281</td>\n",
       "      <td>-0.333362</td>\n",
       "      <td>-1.113538</td>\n",
       "      <td>-0.674262</td>\n",
       "      <td>-0.751243</td>\n",
       "      <td>-0.483494</td>\n",
       "      <td>0</td>\n",
       "    </tr>\n",
       "    <tr>\n",
       "      <th>5</th>\n",
       "      <td>-0.207517</td>\n",
       "      <td>-0.276907</td>\n",
       "      <td>-0.333362</td>\n",
       "      <td>1.617854</td>\n",
       "      <td>-0.699207</td>\n",
       "      <td>1.334103</td>\n",
       "      <td>-0.402911</td>\n",
       "      <td>-1</td>\n",
       "    </tr>\n",
       "    <tr>\n",
       "      <th>6</th>\n",
       "      <td>-0.348684</td>\n",
       "      <td>-0.249273</td>\n",
       "      <td>-0.269866</td>\n",
       "      <td>-0.616921</td>\n",
       "      <td>0.563353</td>\n",
       "      <td>-0.605268</td>\n",
       "      <td>-0.322329</td>\n",
       "      <td>-1</td>\n",
       "    </tr>\n",
       "    <tr>\n",
       "      <th>7</th>\n",
       "      <td>-0.368454</td>\n",
       "      <td>-0.280071</td>\n",
       "      <td>-0.333362</td>\n",
       "      <td>-0.616921</td>\n",
       "      <td>-0.712889</td>\n",
       "      <td>-0.372089</td>\n",
       "      <td>-0.241747</td>\n",
       "      <td>1</td>\n",
       "    </tr>\n",
       "  </tbody>\n",
       "</table>\n",
       "</div>"
      ],
      "text/plain": [
       "   Aqua Production (Millions)  Marine Protected Area (sqkm)  \\\n",
       "0                    0.679748                     -0.216403   \n",
       "1                   -0.369917                     -0.279476   \n",
       "2                   -0.301377                     -0.200619   \n",
       "3                   -0.345421                     -0.000724   \n",
       "4                   -0.288119                     -0.249281   \n",
       "5                   -0.207517                     -0.276907   \n",
       "6                   -0.348684                     -0.249273   \n",
       "7                   -0.368454                     -0.280071   \n",
       "\n",
       "   Inventions (number)  Instruments (number)  Fishing Exports (Millions)  \\\n",
       "0            -0.255849              0.128004                   -0.179730   \n",
       "1            -0.331231             -1.113538                   -0.548519   \n",
       "2            -0.182663              0.872929                    0.563609   \n",
       "3            -0.326903             -0.120304                    0.168121   \n",
       "4            -0.333362             -1.113538                   -0.674262   \n",
       "5            -0.333362              1.617854                   -0.699207   \n",
       "6            -0.269866             -0.616921                    0.563353   \n",
       "7            -0.333362             -0.616921                   -0.712889   \n",
       "\n",
       "      Value   Country  Cluster_DBSCAN  \n",
       "0 -0.246968 -0.805823              -1  \n",
       "1 -0.751243 -0.725241               0  \n",
       "2 -0.503371 -0.644658              -1  \n",
       "3  0.151617 -0.564076              -1  \n",
       "4 -0.751243 -0.483494               0  \n",
       "5  1.334103 -0.402911              -1  \n",
       "6 -0.605268 -0.322329              -1  \n",
       "7 -0.372089 -0.241747               1  "
      ]
     },
     "execution_count": 663,
     "metadata": {},
     "output_type": "execute_result"
    }
   ],
   "source": [
    "#| code-fold: true\n",
    "db.head(8)"
   ]
  },
  {
   "cell_type": "code",
   "execution_count": 664,
   "metadata": {},
   "outputs": [
    {
     "data": {
      "application/vnd.plotly.v1+json": {
       "config": {
        "plotlyServerURL": "https://plot.ly"
       },
       "data": [
        {
         "customdata": [
          [
           -0.7252406676228422
          ],
          [
           -0.48349377841522817
          ],
          [
           -0.24174688920761409
          ],
          [
           -0.08058229640253803
          ],
          [
           0.08058229640253803
          ],
          [
           0.16116459280507606
          ],
          [
           0.24174688920761409
          ],
          [
           0.4029114820126901
          ],
          [
           0.6446583712203042
          ],
          [
           0.7252406676228422
          ],
          [
           0.8058229640253802
          ],
          [
           0.8864052604279183
          ],
          [
           0.9669875568304563
          ],
          [
           1.1281521496355325
          ],
          [
           1.2893167424406085
          ],
          [
           1.5310636316482225
          ],
          [
           -0.7252406676228422
          ],
          [
           -0.48349377841522817
          ],
          [
           -0.08058229640253803
          ],
          [
           0.08058229640253803
          ],
          [
           0.16116459280507606
          ],
          [
           0.24174688920761409
          ],
          [
           0.4029114820126901
          ],
          [
           0.6446583712203042
          ],
          [
           0.7252406676228422
          ],
          [
           0.8058229640253802
          ],
          [
           0.9669875568304563
          ],
          [
           1.1281521496355325
          ],
          [
           1.2087344460380705
          ],
          [
           1.2893167424406085
          ],
          [
           1.4504813352456845
          ],
          [
           1.5310636316482225
          ],
          [
           -1.1281521496355325
          ],
          [
           -0.7252406676228422
          ],
          [
           -0.48349377841522817
          ],
          [
           0.08058229640253803
          ],
          [
           0.16116459280507606
          ],
          [
           0.24174688920761409
          ],
          [
           0.4029114820126901
          ],
          [
           0.6446583712203042
          ],
          [
           0.7252406676228422
          ],
          [
           0.8058229640253802
          ],
          [
           1.1281521496355325
          ],
          [
           1.2087344460380705
          ],
          [
           1.2893167424406085
          ],
          [
           1.5310636316482225
          ],
          [
           -1.2893167424406085
          ],
          [
           -1.1281521496355325
          ],
          [
           -0.7252406676228422
          ],
          [
           -0.48349377841522817
          ],
          [
           0.08058229640253803
          ],
          [
           0.16116459280507606
          ],
          [
           0.24174688920761409
          ],
          [
           0.4029114820126901
          ],
          [
           0.6446583712203042
          ],
          [
           0.7252406676228422
          ],
          [
           0.8058229640253802
          ],
          [
           1.1281521496355325
          ],
          [
           1.2087344460380705
          ],
          [
           1.2893167424406085
          ],
          [
           1.5310636316482225
          ],
          [
           -1.2893167424406085
          ],
          [
           -1.1281521496355325
          ],
          [
           -0.7252406676228422
          ],
          [
           -0.48349377841522817
          ],
          [
           0.08058229640253803
          ],
          [
           0.16116459280507606
          ],
          [
           0.24174688920761409
          ],
          [
           0.4029114820126901
          ],
          [
           0.6446583712203042
          ],
          [
           0.7252406676228422
          ],
          [
           0.8058229640253802
          ],
          [
           1.1281521496355325
          ],
          [
           1.2087344460380705
          ],
          [
           1.2893167424406085
          ],
          [
           1.5310636316482225
          ],
          [
           -1.2893167424406085
          ],
          [
           -1.1281521496355325
          ],
          [
           -0.7252406676228422
          ],
          [
           -0.48349377841522817
          ],
          [
           0.08058229640253803
          ],
          [
           0.16116459280507606
          ],
          [
           0.24174688920761409
          ],
          [
           0.4029114820126901
          ],
          [
           0.6446583712203042
          ],
          [
           0.7252406676228422
          ],
          [
           0.8058229640253802
          ],
          [
           1.1281521496355325
          ],
          [
           1.2087344460380705
          ],
          [
           1.2893167424406085
          ],
          [
           1.5310636316482225
          ],
          [
           -1.2893167424406085
          ],
          [
           -1.1281521496355325
          ],
          [
           -0.7252406676228422
          ],
          [
           -0.48349377841522817
          ],
          [
           0.08058229640253803
          ],
          [
           0.16116459280507606
          ],
          [
           0.24174688920761409
          ],
          [
           0.4029114820126901
          ],
          [
           0.6446583712203042
          ],
          [
           0.7252406676228422
          ],
          [
           0.8058229640253802
          ],
          [
           1.1281521496355325
          ],
          [
           1.2087344460380705
          ],
          [
           1.2893167424406085
          ],
          [
           1.5310636316482225
          ],
          [
           -1.2893167424406085
          ],
          [
           -1.1281521496355325
          ],
          [
           -0.7252406676228422
          ],
          [
           -0.48349377841522817
          ],
          [
           0.08058229640253803
          ],
          [
           0.16116459280507606
          ],
          [
           0.24174688920761409
          ],
          [
           0.4029114820126901
          ],
          [
           0.6446583712203042
          ],
          [
           0.7252406676228422
          ],
          [
           0.8058229640253802
          ],
          [
           1.1281521496355325
          ],
          [
           1.2087344460380705
          ],
          [
           1.2893167424406085
          ],
          [
           1.5310636316482225
          ],
          [
           -1.2893167424406085
          ],
          [
           -1.1281521496355325
          ],
          [
           -0.7252406676228422
          ],
          [
           -0.48349377841522817
          ],
          [
           0.08058229640253803
          ],
          [
           0.16116459280507606
          ],
          [
           0.24174688920761409
          ],
          [
           0.4029114820126901
          ],
          [
           0.6446583712203042
          ],
          [
           0.7252406676228422
          ],
          [
           1.1281521496355325
          ],
          [
           1.2087344460380705
          ],
          [
           1.2893167424406085
          ],
          [
           1.5310636316482225
          ],
          [
           -1.2893167424406085
          ],
          [
           -1.1281521496355325
          ],
          [
           -0.7252406676228422
          ],
          [
           -0.48349377841522817
          ],
          [
           0.08058229640253803
          ],
          [
           0.16116459280507606
          ],
          [
           0.24174688920761409
          ],
          [
           0.4029114820126901
          ],
          [
           0.6446583712203042
          ],
          [
           0.7252406676228422
          ],
          [
           1.1281521496355325
          ],
          [
           1.2087344460380705
          ],
          [
           1.2893167424406085
          ],
          [
           1.5310636316482225
          ],
          [
           -1.1281521496355325
          ],
          [
           -0.7252406676228422
          ],
          [
           -0.48349377841522817
          ],
          [
           0.08058229640253803
          ],
          [
           0.16116459280507606
          ],
          [
           0.24174688920761409
          ],
          [
           0.4029114820126901
          ],
          [
           0.6446583712203042
          ],
          [
           0.7252406676228422
          ],
          [
           1.1281521496355325
          ],
          [
           1.2087344460380705
          ],
          [
           1.2893167424406085
          ],
          [
           1.5310636316482225
          ],
          [
           -1.1281521496355325
          ],
          [
           -0.7252406676228422
          ],
          [
           -0.48349377841522817
          ],
          [
           0.08058229640253803
          ],
          [
           0.16116459280507606
          ],
          [
           0.24174688920761409
          ],
          [
           0.4029114820126901
          ],
          [
           0.6446583712203042
          ],
          [
           0.7252406676228422
          ],
          [
           1.1281521496355325
          ],
          [
           1.2087344460380705
          ],
          [
           1.2893167424406085
          ],
          [
           1.5310636316482225
          ],
          [
           -1.1281521496355325
          ]
         ],
         "hovertemplate": "t-SNE Component 1=%{x}<br>t-SNE Component 2=%{y}<br>Country=%{customdata[0]}<br>DBSCAN Cluster=%{marker.color}<extra></extra>",
         "legendgroup": "",
         "marker": {
          "color": [
           0,
           0,
           1,
           1,
           1,
           1,
           1,
           1,
           1,
           1,
           1,
           1,
           1,
           1,
           1,
           1,
           0,
           0,
           1,
           1,
           1,
           1,
           1,
           1,
           1,
           1,
           1,
           1,
           1,
           1,
           1,
           1,
           2,
           0,
           0,
           1,
           1,
           1,
           1,
           1,
           1,
           1,
           1,
           1,
           1,
           1,
           2,
           2,
           0,
           0,
           1,
           1,
           1,
           1,
           1,
           1,
           1,
           1,
           1,
           1,
           1,
           2,
           2,
           0,
           0,
           1,
           1,
           1,
           1,
           1,
           1,
           1,
           1,
           1,
           1,
           1,
           2,
           2,
           0,
           0,
           1,
           1,
           1,
           1,
           1,
           1,
           1,
           1,
           1,
           1,
           1,
           2,
           2,
           0,
           0,
           1,
           1,
           1,
           1,
           1,
           1,
           1,
           1,
           1,
           1,
           1,
           2,
           2,
           0,
           0,
           1,
           1,
           1,
           1,
           1,
           1,
           1,
           1,
           1,
           1,
           1,
           2,
           2,
           0,
           0,
           1,
           1,
           1,
           1,
           1,
           1,
           1,
           1,
           1,
           1,
           2,
           2,
           0,
           0,
           1,
           1,
           1,
           1,
           1,
           1,
           1,
           1,
           1,
           1,
           2,
           0,
           0,
           1,
           1,
           1,
           1,
           1,
           1,
           1,
           1,
           1,
           1,
           2,
           0,
           0,
           1,
           1,
           1,
           1,
           1,
           1,
           1,
           1,
           1,
           1,
           2
          ],
          "coloraxis": "coloraxis",
          "opacity": 0.7,
          "symbol": "circle"
         },
         "mode": "markers",
         "name": "",
         "orientation": "v",
         "showlegend": false,
         "type": "scatter",
         "x": [
          21.97382926940918,
          21.575742721557617,
          2.7474563121795654,
          1.959341287612915,
          1.8440630435943604,
          2.811741590499878,
          1.7265572547912598,
          0.36014389991760254,
          -0.9146400094032288,
          -4.097238540649414,
          -5.443765163421631,
          -7.024922847747803,
          -6.713411331176758,
          -8.930015563964844,
          -9.372660636901855,
          -11.095380783081055,
          21.48758888244629,
          21.05896759033203,
          1.8155807256698608,
          1.8432140350341797,
          2.726388692855835,
          1.3841454982757568,
          -0.4722188115119934,
          -1.9842339754104614,
          -3.447169303894043,
          -5.156523704528809,
          -6.367324352264404,
          -8.552066802978516,
          -9.178776741027832,
          -9.874788284301758,
          -12.363968849182129,
          -10.912435531616211,
          5.385950088500977,
          21.467182159423828,
          21.461509704589844,
          1.2924264669418335,
          3.414532423019409,
          1.2353559732437134,
          -1.1622785329818726,
          -3.053765058517456,
          -3.4008843898773193,
          -5.245631694793701,
          -7.844087600708008,
          -8.995856285095215,
          -10.665525436401367,
          -10.879484176635742,
          4.819007396697998,
          5.3457159996032715,
          22.299318313598633,
          21.468481063842773,
          1.1104552745819092,
          3.654897451400757,
          1.0852515697479248,
          -0.9306305050849915,
          -2.812635660171509,
          -3.628751754760742,
          -5.602504253387451,
          -7.7280144691467285,
          -8.806717872619629,
          -10.66446590423584,
          -10.7928466796875,
          4.070906639099121,
          4.542983055114746,
          21.655654907226562,
          21.468994140625,
          1.1992294788360596,
          3.6913974285125732,
          1.4825137853622437,
          -0.8730219006538391,
          -2.9353060722351074,
          -3.6278371810913086,
          -5.546181678771973,
          -7.592240810394287,
          -8.76747989654541,
          -11.325531005859375,
          -11.079435348510742,
          4.149887561798096,
          5.035280227661133,
          21.429203033447266,
          21.297948837280273,
          1.2175116539001465,
          3.631873846054077,
          1.3782336711883545,
          -1.2907860279083252,
          -2.9452574253082275,
          -3.424985408782959,
          -5.499558448791504,
          -7.397308349609375,
          -8.766568183898926,
          -11.325060844421387,
          -11.031234741210938,
          4.203811168670654,
          5.270001411437988,
          22.249401092529297,
          20.7495174407959,
          1.7727508544921875,
          3.3325579166412354,
          1.4255932569503784,
          -1.0707368850708008,
          -2.625995397567749,
          -3.5428812503814697,
          -5.549977779388428,
          -7.177494525909424,
          -8.593390464782715,
          -11.302681922912598,
          -10.533079147338867,
          4.619656562805176,
          5.225363254547119,
          22.237709045410156,
          20.757526397705078,
          1.8520032167434692,
          3.424835681915283,
          1.3930972814559937,
          -1.076826810836792,
          -2.364379644393921,
          -4.467968463897705,
          -5.522338390350342,
          -7.099330902099609,
          -8.364373207092285,
          -11.311503410339355,
          -10.557734489440918,
          4.557147026062012,
          4.6331787109375,
          22.122465133666992,
          20.75166893005371,
          1.7527148723602295,
          3.0387301445007324,
          1.4064772129058838,
          -0.6983304619789124,
          -2.364271879196167,
          -4.392701148986816,
          -6.826218605041504,
          -8.351076126098633,
          -11.167994499206543,
          -10.615184783935547,
          4.04587984085083,
          4.442455768585205,
          22.01980972290039,
          20.85529327392578,
          1.608817458152771,
          2.7827110290527344,
          1.5030895471572876,
          -1.097660779953003,
          -2.416459560394287,
          -4.43442964553833,
          -6.7034687995910645,
          -8.175827980041504,
          -11.164632797241211,
          -10.547621726989746,
          4.801250457763672,
          21.615215301513672,
          20.734149932861328,
          1.270932912826538,
          3.0446956157684326,
          1.4753748178482056,
          -0.7490747570991516,
          -2.501269578933716,
          -4.394222259521484,
          -6.54275369644165,
          -8.151890754699707,
          -11.16240406036377,
          -10.302499771118164,
          5.049180030822754,
          22.238920211791992,
          20.57728385925293,
          1.5681766271591187,
          3.2276346683502197,
          1.397215485572815,
          -0.6299051642417908,
          -2.57393741607666,
          -4.488804340362549,
          -6.484697341918945,
          -8.185258865356445,
          -11.158183097839355,
          -10.235755920410156,
          5.033294677734375
         ],
         "xaxis": "x",
         "y": [
          6.95478630065918,
          7.575756072998047,
          6.891496181488037,
          1.9149774312973022,
          7.3364973068237305,
          -0.6010415554046631,
          5.656960487365723,
          9.015064239501953,
          11.319578170776367,
          15.203539848327637,
          17.41656494140625,
          17.32744789123535,
          18.21640968322754,
          23.120485305786133,
          23.811159133911133,
          23.67447853088379,
          6.294297218322754,
          7.536563396453857,
          -3.9864277839660645,
          7.508047103881836,
          -0.30234235525131226,
          6.593081951141357,
          9.18728256225586,
          14.074067115783691,
          15.055412292480469,
          17.501754760742188,
          18.73736572265625,
          23.190841674804688,
          18.7335262298584,
          23.209091186523438,
          19.440763473510742,
          23.805744171142578,
          -25.620513916015625,
          6.173372745513916,
          7.963454723358154,
          7.515261173248291,
          0.04150283709168434,
          5.094750881195068,
          9.062408447265625,
          14.629386901855469,
          15.569930076599121,
          17.683265686035156,
          23.298858642578125,
          21.291189193725586,
          21.682666778564453,
          23.841997146606445,
          -24.375818252563477,
          -25.67150115966797,
          6.392269611358643,
          7.986323833465576,
          7.643367290496826,
          -0.3180863559246063,
          5.399403095245361,
          9.141592979431152,
          14.604432106018066,
          15.18138313293457,
          17.85020637512207,
          23.299968719482422,
          21.23874282836914,
          21.682857513427734,
          23.923290252685547,
          -25.261962890625,
          -25.505136489868164,
          6.562582969665527,
          7.985807418823242,
          7.730569839477539,
          -0.42381173372268677,
          3.428055763244629,
          9.18810749053955,
          14.725793838500977,
          15.199108123779297,
          17.876914978027344,
          23.36115074157715,
          21.26401138305664,
          20.596961975097656,
          24.1300048828125,
          -24.828842163085938,
          -25.304492950439453,
          6.396223068237305,
          8.161673545837402,
          7.657312393188477,
          -0.5071812868118286,
          3.6235899925231934,
          8.900702476501465,
          14.80894947052002,
          15.593942642211914,
          17.858259201049805,
          23.413677215576172,
          21.248626708984375,
          20.596765518188477,
          24.268798828125,
          -24.757396697998047,
          -25.25560188293457,
          6.716928958892822,
          7.488141059875488,
          7.810661792755127,
          0.0015190504491329193,
          3.5304415225982666,
          8.696824073791504,
          15.427167892456055,
          15.634566307067871,
          17.914644241333008,
          23.53362274169922,
          21.35434341430664,
          20.52741050720215,
          24.253480911254883,
          -24.721731185913086,
          -25.23784828186035,
          6.39466667175293,
          7.489303112030029,
          7.936195373535156,
          -0.112357497215271,
          3.5286664962768555,
          8.616829872131348,
          14.871747016906738,
          14.160174369812012,
          18.03296661376953,
          23.39792823791504,
          21.43716049194336,
          20.528894424438477,
          24.417903900146484,
          -24.715532302856445,
          -25.48138999938965,
          6.076392650604248,
          7.473147392272949,
          8.129027366638184,
          0.05859433487057686,
          3.5490264892578125,
          8.758157730102539,
          14.910000801086426,
          14.104287147521973,
          23.60789680480957,
          21.00400733947754,
          20.44392204284668,
          24.624162673950195,
          -24.972618103027344,
          -25.948640823364258,
          5.917866230010986,
          8.225964546203613,
          8.187463760375977,
          -0.047995395958423615,
          3.3968913555145264,
          8.584688186645508,
          15.157242774963379,
          14.123464584350586,
          23.65436363220215,
          21.112131118774414,
          20.36484718322754,
          24.791467666625977,
          -26.074424743652344,
          6.037160396575928,
          8.126694679260254,
          8.10006332397461,
          -0.4010434150695801,
          3.466620445251465,
          8.644343376159668,
          15.380327224731445,
          14.09524917602539,
          23.69036293029785,
          21.113948822021484,
          20.363996505737305,
          24.985849380493164,
          -26.161373138427734,
          6.749443054199219,
          7.946601867675781,
          8.2218599319458,
          -0.5616834163665771,
          3.537306785583496,
          8.971585273742676,
          15.42055892944336,
          14.162376403808594,
          23.707923889160156,
          21.26140022277832,
          20.316999435424805,
          25.10346221923828,
          -26.15620994567871
         ],
         "yaxis": "y"
        }
       ],
       "layout": {
        "coloraxis": {
         "colorbar": {
          "title": {
           "text": "DBSCAN Cluster"
          }
         },
         "colorscale": [
          [
           0,
           "#0d0887"
          ],
          [
           0.1111111111111111,
           "#46039f"
          ],
          [
           0.2222222222222222,
           "#7201a8"
          ],
          [
           0.3333333333333333,
           "#9c179e"
          ],
          [
           0.4444444444444444,
           "#bd3786"
          ],
          [
           0.5555555555555556,
           "#d8576b"
          ],
          [
           0.6666666666666666,
           "#ed7953"
          ],
          [
           0.7777777777777778,
           "#fb9f3a"
          ],
          [
           0.8888888888888888,
           "#fdca26"
          ],
          [
           1,
           "#f0f921"
          ]
         ]
        },
        "legend": {
         "tracegroupgap": 0
        },
        "template": {
         "data": {
          "bar": [
           {
            "error_x": {
             "color": "#2a3f5f"
            },
            "error_y": {
             "color": "#2a3f5f"
            },
            "marker": {
             "line": {
              "color": "#E5ECF6",
              "width": 0.5
             },
             "pattern": {
              "fillmode": "overlay",
              "size": 10,
              "solidity": 0.2
             }
            },
            "type": "bar"
           }
          ],
          "barpolar": [
           {
            "marker": {
             "line": {
              "color": "#E5ECF6",
              "width": 0.5
             },
             "pattern": {
              "fillmode": "overlay",
              "size": 10,
              "solidity": 0.2
             }
            },
            "type": "barpolar"
           }
          ],
          "carpet": [
           {
            "aaxis": {
             "endlinecolor": "#2a3f5f",
             "gridcolor": "white",
             "linecolor": "white",
             "minorgridcolor": "white",
             "startlinecolor": "#2a3f5f"
            },
            "baxis": {
             "endlinecolor": "#2a3f5f",
             "gridcolor": "white",
             "linecolor": "white",
             "minorgridcolor": "white",
             "startlinecolor": "#2a3f5f"
            },
            "type": "carpet"
           }
          ],
          "choropleth": [
           {
            "colorbar": {
             "outlinewidth": 0,
             "ticks": ""
            },
            "type": "choropleth"
           }
          ],
          "contour": [
           {
            "colorbar": {
             "outlinewidth": 0,
             "ticks": ""
            },
            "colorscale": [
             [
              0,
              "#0d0887"
             ],
             [
              0.1111111111111111,
              "#46039f"
             ],
             [
              0.2222222222222222,
              "#7201a8"
             ],
             [
              0.3333333333333333,
              "#9c179e"
             ],
             [
              0.4444444444444444,
              "#bd3786"
             ],
             [
              0.5555555555555556,
              "#d8576b"
             ],
             [
              0.6666666666666666,
              "#ed7953"
             ],
             [
              0.7777777777777778,
              "#fb9f3a"
             ],
             [
              0.8888888888888888,
              "#fdca26"
             ],
             [
              1,
              "#f0f921"
             ]
            ],
            "type": "contour"
           }
          ],
          "contourcarpet": [
           {
            "colorbar": {
             "outlinewidth": 0,
             "ticks": ""
            },
            "type": "contourcarpet"
           }
          ],
          "heatmap": [
           {
            "colorbar": {
             "outlinewidth": 0,
             "ticks": ""
            },
            "colorscale": [
             [
              0,
              "#0d0887"
             ],
             [
              0.1111111111111111,
              "#46039f"
             ],
             [
              0.2222222222222222,
              "#7201a8"
             ],
             [
              0.3333333333333333,
              "#9c179e"
             ],
             [
              0.4444444444444444,
              "#bd3786"
             ],
             [
              0.5555555555555556,
              "#d8576b"
             ],
             [
              0.6666666666666666,
              "#ed7953"
             ],
             [
              0.7777777777777778,
              "#fb9f3a"
             ],
             [
              0.8888888888888888,
              "#fdca26"
             ],
             [
              1,
              "#f0f921"
             ]
            ],
            "type": "heatmap"
           }
          ],
          "heatmapgl": [
           {
            "colorbar": {
             "outlinewidth": 0,
             "ticks": ""
            },
            "colorscale": [
             [
              0,
              "#0d0887"
             ],
             [
              0.1111111111111111,
              "#46039f"
             ],
             [
              0.2222222222222222,
              "#7201a8"
             ],
             [
              0.3333333333333333,
              "#9c179e"
             ],
             [
              0.4444444444444444,
              "#bd3786"
             ],
             [
              0.5555555555555556,
              "#d8576b"
             ],
             [
              0.6666666666666666,
              "#ed7953"
             ],
             [
              0.7777777777777778,
              "#fb9f3a"
             ],
             [
              0.8888888888888888,
              "#fdca26"
             ],
             [
              1,
              "#f0f921"
             ]
            ],
            "type": "heatmapgl"
           }
          ],
          "histogram": [
           {
            "marker": {
             "pattern": {
              "fillmode": "overlay",
              "size": 10,
              "solidity": 0.2
             }
            },
            "type": "histogram"
           }
          ],
          "histogram2d": [
           {
            "colorbar": {
             "outlinewidth": 0,
             "ticks": ""
            },
            "colorscale": [
             [
              0,
              "#0d0887"
             ],
             [
              0.1111111111111111,
              "#46039f"
             ],
             [
              0.2222222222222222,
              "#7201a8"
             ],
             [
              0.3333333333333333,
              "#9c179e"
             ],
             [
              0.4444444444444444,
              "#bd3786"
             ],
             [
              0.5555555555555556,
              "#d8576b"
             ],
             [
              0.6666666666666666,
              "#ed7953"
             ],
             [
              0.7777777777777778,
              "#fb9f3a"
             ],
             [
              0.8888888888888888,
              "#fdca26"
             ],
             [
              1,
              "#f0f921"
             ]
            ],
            "type": "histogram2d"
           }
          ],
          "histogram2dcontour": [
           {
            "colorbar": {
             "outlinewidth": 0,
             "ticks": ""
            },
            "colorscale": [
             [
              0,
              "#0d0887"
             ],
             [
              0.1111111111111111,
              "#46039f"
             ],
             [
              0.2222222222222222,
              "#7201a8"
             ],
             [
              0.3333333333333333,
              "#9c179e"
             ],
             [
              0.4444444444444444,
              "#bd3786"
             ],
             [
              0.5555555555555556,
              "#d8576b"
             ],
             [
              0.6666666666666666,
              "#ed7953"
             ],
             [
              0.7777777777777778,
              "#fb9f3a"
             ],
             [
              0.8888888888888888,
              "#fdca26"
             ],
             [
              1,
              "#f0f921"
             ]
            ],
            "type": "histogram2dcontour"
           }
          ],
          "mesh3d": [
           {
            "colorbar": {
             "outlinewidth": 0,
             "ticks": ""
            },
            "type": "mesh3d"
           }
          ],
          "parcoords": [
           {
            "line": {
             "colorbar": {
              "outlinewidth": 0,
              "ticks": ""
             }
            },
            "type": "parcoords"
           }
          ],
          "pie": [
           {
            "automargin": true,
            "type": "pie"
           }
          ],
          "scatter": [
           {
            "fillpattern": {
             "fillmode": "overlay",
             "size": 10,
             "solidity": 0.2
            },
            "type": "scatter"
           }
          ],
          "scatter3d": [
           {
            "line": {
             "colorbar": {
              "outlinewidth": 0,
              "ticks": ""
             }
            },
            "marker": {
             "colorbar": {
              "outlinewidth": 0,
              "ticks": ""
             }
            },
            "type": "scatter3d"
           }
          ],
          "scattercarpet": [
           {
            "marker": {
             "colorbar": {
              "outlinewidth": 0,
              "ticks": ""
             }
            },
            "type": "scattercarpet"
           }
          ],
          "scattergeo": [
           {
            "marker": {
             "colorbar": {
              "outlinewidth": 0,
              "ticks": ""
             }
            },
            "type": "scattergeo"
           }
          ],
          "scattergl": [
           {
            "marker": {
             "colorbar": {
              "outlinewidth": 0,
              "ticks": ""
             }
            },
            "type": "scattergl"
           }
          ],
          "scattermapbox": [
           {
            "marker": {
             "colorbar": {
              "outlinewidth": 0,
              "ticks": ""
             }
            },
            "type": "scattermapbox"
           }
          ],
          "scatterpolar": [
           {
            "marker": {
             "colorbar": {
              "outlinewidth": 0,
              "ticks": ""
             }
            },
            "type": "scatterpolar"
           }
          ],
          "scatterpolargl": [
           {
            "marker": {
             "colorbar": {
              "outlinewidth": 0,
              "ticks": ""
             }
            },
            "type": "scatterpolargl"
           }
          ],
          "scatterternary": [
           {
            "marker": {
             "colorbar": {
              "outlinewidth": 0,
              "ticks": ""
             }
            },
            "type": "scatterternary"
           }
          ],
          "surface": [
           {
            "colorbar": {
             "outlinewidth": 0,
             "ticks": ""
            },
            "colorscale": [
             [
              0,
              "#0d0887"
             ],
             [
              0.1111111111111111,
              "#46039f"
             ],
             [
              0.2222222222222222,
              "#7201a8"
             ],
             [
              0.3333333333333333,
              "#9c179e"
             ],
             [
              0.4444444444444444,
              "#bd3786"
             ],
             [
              0.5555555555555556,
              "#d8576b"
             ],
             [
              0.6666666666666666,
              "#ed7953"
             ],
             [
              0.7777777777777778,
              "#fb9f3a"
             ],
             [
              0.8888888888888888,
              "#fdca26"
             ],
             [
              1,
              "#f0f921"
             ]
            ],
            "type": "surface"
           }
          ],
          "table": [
           {
            "cells": {
             "fill": {
              "color": "#EBF0F8"
             },
             "line": {
              "color": "white"
             }
            },
            "header": {
             "fill": {
              "color": "#C8D4E3"
             },
             "line": {
              "color": "white"
             }
            },
            "type": "table"
           }
          ]
         },
         "layout": {
          "annotationdefaults": {
           "arrowcolor": "#2a3f5f",
           "arrowhead": 0,
           "arrowwidth": 1
          },
          "autotypenumbers": "strict",
          "coloraxis": {
           "colorbar": {
            "outlinewidth": 0,
            "ticks": ""
           }
          },
          "colorscale": {
           "diverging": [
            [
             0,
             "#8e0152"
            ],
            [
             0.1,
             "#c51b7d"
            ],
            [
             0.2,
             "#de77ae"
            ],
            [
             0.3,
             "#f1b6da"
            ],
            [
             0.4,
             "#fde0ef"
            ],
            [
             0.5,
             "#f7f7f7"
            ],
            [
             0.6,
             "#e6f5d0"
            ],
            [
             0.7,
             "#b8e186"
            ],
            [
             0.8,
             "#7fbc41"
            ],
            [
             0.9,
             "#4d9221"
            ],
            [
             1,
             "#276419"
            ]
           ],
           "sequential": [
            [
             0,
             "#0d0887"
            ],
            [
             0.1111111111111111,
             "#46039f"
            ],
            [
             0.2222222222222222,
             "#7201a8"
            ],
            [
             0.3333333333333333,
             "#9c179e"
            ],
            [
             0.4444444444444444,
             "#bd3786"
            ],
            [
             0.5555555555555556,
             "#d8576b"
            ],
            [
             0.6666666666666666,
             "#ed7953"
            ],
            [
             0.7777777777777778,
             "#fb9f3a"
            ],
            [
             0.8888888888888888,
             "#fdca26"
            ],
            [
             1,
             "#f0f921"
            ]
           ],
           "sequentialminus": [
            [
             0,
             "#0d0887"
            ],
            [
             0.1111111111111111,
             "#46039f"
            ],
            [
             0.2222222222222222,
             "#7201a8"
            ],
            [
             0.3333333333333333,
             "#9c179e"
            ],
            [
             0.4444444444444444,
             "#bd3786"
            ],
            [
             0.5555555555555556,
             "#d8576b"
            ],
            [
             0.6666666666666666,
             "#ed7953"
            ],
            [
             0.7777777777777778,
             "#fb9f3a"
            ],
            [
             0.8888888888888888,
             "#fdca26"
            ],
            [
             1,
             "#f0f921"
            ]
           ]
          },
          "colorway": [
           "#636efa",
           "#EF553B",
           "#00cc96",
           "#ab63fa",
           "#FFA15A",
           "#19d3f3",
           "#FF6692",
           "#B6E880",
           "#FF97FF",
           "#FECB52"
          ],
          "font": {
           "color": "#2a3f5f"
          },
          "geo": {
           "bgcolor": "white",
           "lakecolor": "white",
           "landcolor": "#E5ECF6",
           "showlakes": true,
           "showland": true,
           "subunitcolor": "white"
          },
          "hoverlabel": {
           "align": "left"
          },
          "hovermode": "closest",
          "mapbox": {
           "style": "light"
          },
          "paper_bgcolor": "white",
          "plot_bgcolor": "#E5ECF6",
          "polar": {
           "angularaxis": {
            "gridcolor": "white",
            "linecolor": "white",
            "ticks": ""
           },
           "bgcolor": "#E5ECF6",
           "radialaxis": {
            "gridcolor": "white",
            "linecolor": "white",
            "ticks": ""
           }
          },
          "scene": {
           "xaxis": {
            "backgroundcolor": "#E5ECF6",
            "gridcolor": "white",
            "gridwidth": 2,
            "linecolor": "white",
            "showbackground": true,
            "ticks": "",
            "zerolinecolor": "white"
           },
           "yaxis": {
            "backgroundcolor": "#E5ECF6",
            "gridcolor": "white",
            "gridwidth": 2,
            "linecolor": "white",
            "showbackground": true,
            "ticks": "",
            "zerolinecolor": "white"
           },
           "zaxis": {
            "backgroundcolor": "#E5ECF6",
            "gridcolor": "white",
            "gridwidth": 2,
            "linecolor": "white",
            "showbackground": true,
            "ticks": "",
            "zerolinecolor": "white"
           }
          },
          "shapedefaults": {
           "line": {
            "color": "#2a3f5f"
           }
          },
          "ternary": {
           "aaxis": {
            "gridcolor": "white",
            "linecolor": "white",
            "ticks": ""
           },
           "baxis": {
            "gridcolor": "white",
            "linecolor": "white",
            "ticks": ""
           },
           "bgcolor": "#E5ECF6",
           "caxis": {
            "gridcolor": "white",
            "linecolor": "white",
            "ticks": ""
           }
          },
          "title": {
           "x": 0.05
          },
          "xaxis": {
           "automargin": true,
           "gridcolor": "white",
           "linecolor": "white",
           "ticks": "",
           "title": {
            "standoff": 15
           },
           "zerolinecolor": "white",
           "zerolinewidth": 2
          },
          "yaxis": {
           "automargin": true,
           "gridcolor": "white",
           "linecolor": "white",
           "ticks": "",
           "title": {
            "standoff": 15
           },
           "zerolinecolor": "white",
           "zerolinewidth": 2
          }
         }
        },
        "title": {
         "text": "t-SNE Visualization of DBSCAN Clusters (excluding Noise (-1))"
        },
        "xaxis": {
         "anchor": "y",
         "domain": [
          0,
          1
         ],
         "title": {
          "text": "t-SNE Component 1"
         }
        },
        "yaxis": {
         "anchor": "x",
         "domain": [
          0,
          1
         ],
         "title": {
          "text": "t-SNE Component 2"
         }
        }
       }
      },
      "text/html": [
       "<div>                            <div id=\"7ed1613a-d194-47a1-89b9-7ec44b24f4c6\" class=\"plotly-graph-div\" style=\"height:525px; width:100%;\"></div>            <script type=\"text/javascript\">                require([\"plotly\"], function(Plotly) {                    window.PLOTLYENV=window.PLOTLYENV || {};                                    if (document.getElementById(\"7ed1613a-d194-47a1-89b9-7ec44b24f4c6\")) {                    Plotly.newPlot(                        \"7ed1613a-d194-47a1-89b9-7ec44b24f4c6\",                        [{\"customdata\":[[-0.7252406676228422],[-0.48349377841522817],[-0.24174688920761409],[-0.08058229640253803],[0.08058229640253803],[0.16116459280507606],[0.24174688920761409],[0.4029114820126901],[0.6446583712203042],[0.7252406676228422],[0.8058229640253802],[0.8864052604279183],[0.9669875568304563],[1.1281521496355325],[1.2893167424406085],[1.5310636316482225],[-0.7252406676228422],[-0.48349377841522817],[-0.08058229640253803],[0.08058229640253803],[0.16116459280507606],[0.24174688920761409],[0.4029114820126901],[0.6446583712203042],[0.7252406676228422],[0.8058229640253802],[0.9669875568304563],[1.1281521496355325],[1.2087344460380705],[1.2893167424406085],[1.4504813352456845],[1.5310636316482225],[-1.1281521496355325],[-0.7252406676228422],[-0.48349377841522817],[0.08058229640253803],[0.16116459280507606],[0.24174688920761409],[0.4029114820126901],[0.6446583712203042],[0.7252406676228422],[0.8058229640253802],[1.1281521496355325],[1.2087344460380705],[1.2893167424406085],[1.5310636316482225],[-1.2893167424406085],[-1.1281521496355325],[-0.7252406676228422],[-0.48349377841522817],[0.08058229640253803],[0.16116459280507606],[0.24174688920761409],[0.4029114820126901],[0.6446583712203042],[0.7252406676228422],[0.8058229640253802],[1.1281521496355325],[1.2087344460380705],[1.2893167424406085],[1.5310636316482225],[-1.2893167424406085],[-1.1281521496355325],[-0.7252406676228422],[-0.48349377841522817],[0.08058229640253803],[0.16116459280507606],[0.24174688920761409],[0.4029114820126901],[0.6446583712203042],[0.7252406676228422],[0.8058229640253802],[1.1281521496355325],[1.2087344460380705],[1.2893167424406085],[1.5310636316482225],[-1.2893167424406085],[-1.1281521496355325],[-0.7252406676228422],[-0.48349377841522817],[0.08058229640253803],[0.16116459280507606],[0.24174688920761409],[0.4029114820126901],[0.6446583712203042],[0.7252406676228422],[0.8058229640253802],[1.1281521496355325],[1.2087344460380705],[1.2893167424406085],[1.5310636316482225],[-1.2893167424406085],[-1.1281521496355325],[-0.7252406676228422],[-0.48349377841522817],[0.08058229640253803],[0.16116459280507606],[0.24174688920761409],[0.4029114820126901],[0.6446583712203042],[0.7252406676228422],[0.8058229640253802],[1.1281521496355325],[1.2087344460380705],[1.2893167424406085],[1.5310636316482225],[-1.2893167424406085],[-1.1281521496355325],[-0.7252406676228422],[-0.48349377841522817],[0.08058229640253803],[0.16116459280507606],[0.24174688920761409],[0.4029114820126901],[0.6446583712203042],[0.7252406676228422],[0.8058229640253802],[1.1281521496355325],[1.2087344460380705],[1.2893167424406085],[1.5310636316482225],[-1.2893167424406085],[-1.1281521496355325],[-0.7252406676228422],[-0.48349377841522817],[0.08058229640253803],[0.16116459280507606],[0.24174688920761409],[0.4029114820126901],[0.6446583712203042],[0.7252406676228422],[1.1281521496355325],[1.2087344460380705],[1.2893167424406085],[1.5310636316482225],[-1.2893167424406085],[-1.1281521496355325],[-0.7252406676228422],[-0.48349377841522817],[0.08058229640253803],[0.16116459280507606],[0.24174688920761409],[0.4029114820126901],[0.6446583712203042],[0.7252406676228422],[1.1281521496355325],[1.2087344460380705],[1.2893167424406085],[1.5310636316482225],[-1.1281521496355325],[-0.7252406676228422],[-0.48349377841522817],[0.08058229640253803],[0.16116459280507606],[0.24174688920761409],[0.4029114820126901],[0.6446583712203042],[0.7252406676228422],[1.1281521496355325],[1.2087344460380705],[1.2893167424406085],[1.5310636316482225],[-1.1281521496355325],[-0.7252406676228422],[-0.48349377841522817],[0.08058229640253803],[0.16116459280507606],[0.24174688920761409],[0.4029114820126901],[0.6446583712203042],[0.7252406676228422],[1.1281521496355325],[1.2087344460380705],[1.2893167424406085],[1.5310636316482225],[-1.1281521496355325]],\"hovertemplate\":\"t-SNE Component 1=%{x}<br>t-SNE Component 2=%{y}<br>Country=%{customdata[0]}<br>DBSCAN Cluster=%{marker.color}<extra></extra>\",\"legendgroup\":\"\",\"marker\":{\"color\":[0,0,1,1,1,1,1,1,1,1,1,1,1,1,1,1,0,0,1,1,1,1,1,1,1,1,1,1,1,1,1,1,2,0,0,1,1,1,1,1,1,1,1,1,1,1,2,2,0,0,1,1,1,1,1,1,1,1,1,1,1,2,2,0,0,1,1,1,1,1,1,1,1,1,1,1,2,2,0,0,1,1,1,1,1,1,1,1,1,1,1,2,2,0,0,1,1,1,1,1,1,1,1,1,1,1,2,2,0,0,1,1,1,1,1,1,1,1,1,1,1,2,2,0,0,1,1,1,1,1,1,1,1,1,1,2,2,0,0,1,1,1,1,1,1,1,1,1,1,2,0,0,1,1,1,1,1,1,1,1,1,1,2,0,0,1,1,1,1,1,1,1,1,1,1,2],\"coloraxis\":\"coloraxis\",\"opacity\":0.7,\"symbol\":\"circle\"},\"mode\":\"markers\",\"name\":\"\",\"orientation\":\"v\",\"showlegend\":false,\"x\":[21.97382926940918,21.575742721557617,2.7474563121795654,1.959341287612915,1.8440630435943604,2.811741590499878,1.7265572547912598,0.36014389991760254,-0.9146400094032288,-4.097238540649414,-5.443765163421631,-7.024922847747803,-6.713411331176758,-8.930015563964844,-9.372660636901855,-11.095380783081055,21.48758888244629,21.05896759033203,1.8155807256698608,1.8432140350341797,2.726388692855835,1.3841454982757568,-0.4722188115119934,-1.9842339754104614,-3.447169303894043,-5.156523704528809,-6.367324352264404,-8.552066802978516,-9.178776741027832,-9.874788284301758,-12.363968849182129,-10.912435531616211,5.385950088500977,21.467182159423828,21.461509704589844,1.2924264669418335,3.414532423019409,1.2353559732437134,-1.1622785329818726,-3.053765058517456,-3.4008843898773193,-5.245631694793701,-7.844087600708008,-8.995856285095215,-10.665525436401367,-10.879484176635742,4.819007396697998,5.3457159996032715,22.299318313598633,21.468481063842773,1.1104552745819092,3.654897451400757,1.0852515697479248,-0.9306305050849915,-2.812635660171509,-3.628751754760742,-5.602504253387451,-7.7280144691467285,-8.806717872619629,-10.66446590423584,-10.7928466796875,4.070906639099121,4.542983055114746,21.655654907226562,21.468994140625,1.1992294788360596,3.6913974285125732,1.4825137853622437,-0.8730219006538391,-2.9353060722351074,-3.6278371810913086,-5.546181678771973,-7.592240810394287,-8.76747989654541,-11.325531005859375,-11.079435348510742,4.149887561798096,5.035280227661133,21.429203033447266,21.297948837280273,1.2175116539001465,3.631873846054077,1.3782336711883545,-1.2907860279083252,-2.9452574253082275,-3.424985408782959,-5.499558448791504,-7.397308349609375,-8.766568183898926,-11.325060844421387,-11.031234741210938,4.203811168670654,5.270001411437988,22.249401092529297,20.7495174407959,1.7727508544921875,3.3325579166412354,1.4255932569503784,-1.0707368850708008,-2.625995397567749,-3.5428812503814697,-5.549977779388428,-7.177494525909424,-8.593390464782715,-11.302681922912598,-10.533079147338867,4.619656562805176,5.225363254547119,22.237709045410156,20.757526397705078,1.8520032167434692,3.424835681915283,1.3930972814559937,-1.076826810836792,-2.364379644393921,-4.467968463897705,-5.522338390350342,-7.099330902099609,-8.364373207092285,-11.311503410339355,-10.557734489440918,4.557147026062012,4.6331787109375,22.122465133666992,20.75166893005371,1.7527148723602295,3.0387301445007324,1.4064772129058838,-0.6983304619789124,-2.364271879196167,-4.392701148986816,-6.826218605041504,-8.351076126098633,-11.167994499206543,-10.615184783935547,4.04587984085083,4.442455768585205,22.01980972290039,20.85529327392578,1.608817458152771,2.7827110290527344,1.5030895471572876,-1.097660779953003,-2.416459560394287,-4.43442964553833,-6.7034687995910645,-8.175827980041504,-11.164632797241211,-10.547621726989746,4.801250457763672,21.615215301513672,20.734149932861328,1.270932912826538,3.0446956157684326,1.4753748178482056,-0.7490747570991516,-2.501269578933716,-4.394222259521484,-6.54275369644165,-8.151890754699707,-11.16240406036377,-10.302499771118164,5.049180030822754,22.238920211791992,20.57728385925293,1.5681766271591187,3.2276346683502197,1.397215485572815,-0.6299051642417908,-2.57393741607666,-4.488804340362549,-6.484697341918945,-8.185258865356445,-11.158183097839355,-10.235755920410156,5.033294677734375],\"xaxis\":\"x\",\"y\":[6.95478630065918,7.575756072998047,6.891496181488037,1.9149774312973022,7.3364973068237305,-0.6010415554046631,5.656960487365723,9.015064239501953,11.319578170776367,15.203539848327637,17.41656494140625,17.32744789123535,18.21640968322754,23.120485305786133,23.811159133911133,23.67447853088379,6.294297218322754,7.536563396453857,-3.9864277839660645,7.508047103881836,-0.30234235525131226,6.593081951141357,9.18728256225586,14.074067115783691,15.055412292480469,17.501754760742188,18.73736572265625,23.190841674804688,18.7335262298584,23.209091186523438,19.440763473510742,23.805744171142578,-25.620513916015625,6.173372745513916,7.963454723358154,7.515261173248291,0.04150283709168434,5.094750881195068,9.062408447265625,14.629386901855469,15.569930076599121,17.683265686035156,23.298858642578125,21.291189193725586,21.682666778564453,23.841997146606445,-24.375818252563477,-25.67150115966797,6.392269611358643,7.986323833465576,7.643367290496826,-0.3180863559246063,5.399403095245361,9.141592979431152,14.604432106018066,15.18138313293457,17.85020637512207,23.299968719482422,21.23874282836914,21.682857513427734,23.923290252685547,-25.261962890625,-25.505136489868164,6.562582969665527,7.985807418823242,7.730569839477539,-0.42381173372268677,3.428055763244629,9.18810749053955,14.725793838500977,15.199108123779297,17.876914978027344,23.36115074157715,21.26401138305664,20.596961975097656,24.1300048828125,-24.828842163085938,-25.304492950439453,6.396223068237305,8.161673545837402,7.657312393188477,-0.5071812868118286,3.6235899925231934,8.900702476501465,14.80894947052002,15.593942642211914,17.858259201049805,23.413677215576172,21.248626708984375,20.596765518188477,24.268798828125,-24.757396697998047,-25.25560188293457,6.716928958892822,7.488141059875488,7.810661792755127,0.0015190504491329193,3.5304415225982666,8.696824073791504,15.427167892456055,15.634566307067871,17.914644241333008,23.53362274169922,21.35434341430664,20.52741050720215,24.253480911254883,-24.721731185913086,-25.23784828186035,6.39466667175293,7.489303112030029,7.936195373535156,-0.112357497215271,3.5286664962768555,8.616829872131348,14.871747016906738,14.160174369812012,18.03296661376953,23.39792823791504,21.43716049194336,20.528894424438477,24.417903900146484,-24.715532302856445,-25.48138999938965,6.076392650604248,7.473147392272949,8.129027366638184,0.05859433487057686,3.5490264892578125,8.758157730102539,14.910000801086426,14.104287147521973,23.60789680480957,21.00400733947754,20.44392204284668,24.624162673950195,-24.972618103027344,-25.948640823364258,5.917866230010986,8.225964546203613,8.187463760375977,-0.047995395958423615,3.3968913555145264,8.584688186645508,15.157242774963379,14.123464584350586,23.65436363220215,21.112131118774414,20.36484718322754,24.791467666625977,-26.074424743652344,6.037160396575928,8.126694679260254,8.10006332397461,-0.4010434150695801,3.466620445251465,8.644343376159668,15.380327224731445,14.09524917602539,23.69036293029785,21.113948822021484,20.363996505737305,24.985849380493164,-26.161373138427734,6.749443054199219,7.946601867675781,8.2218599319458,-0.5616834163665771,3.537306785583496,8.971585273742676,15.42055892944336,14.162376403808594,23.707923889160156,21.26140022277832,20.316999435424805,25.10346221923828,-26.15620994567871],\"yaxis\":\"y\",\"type\":\"scatter\"}],                        {\"template\":{\"data\":{\"histogram2dcontour\":[{\"type\":\"histogram2dcontour\",\"colorbar\":{\"outlinewidth\":0,\"ticks\":\"\"},\"colorscale\":[[0.0,\"#0d0887\"],[0.1111111111111111,\"#46039f\"],[0.2222222222222222,\"#7201a8\"],[0.3333333333333333,\"#9c179e\"],[0.4444444444444444,\"#bd3786\"],[0.5555555555555556,\"#d8576b\"],[0.6666666666666666,\"#ed7953\"],[0.7777777777777778,\"#fb9f3a\"],[0.8888888888888888,\"#fdca26\"],[1.0,\"#f0f921\"]]}],\"choropleth\":[{\"type\":\"choropleth\",\"colorbar\":{\"outlinewidth\":0,\"ticks\":\"\"}}],\"histogram2d\":[{\"type\":\"histogram2d\",\"colorbar\":{\"outlinewidth\":0,\"ticks\":\"\"},\"colorscale\":[[0.0,\"#0d0887\"],[0.1111111111111111,\"#46039f\"],[0.2222222222222222,\"#7201a8\"],[0.3333333333333333,\"#9c179e\"],[0.4444444444444444,\"#bd3786\"],[0.5555555555555556,\"#d8576b\"],[0.6666666666666666,\"#ed7953\"],[0.7777777777777778,\"#fb9f3a\"],[0.8888888888888888,\"#fdca26\"],[1.0,\"#f0f921\"]]}],\"heatmap\":[{\"type\":\"heatmap\",\"colorbar\":{\"outlinewidth\":0,\"ticks\":\"\"},\"colorscale\":[[0.0,\"#0d0887\"],[0.1111111111111111,\"#46039f\"],[0.2222222222222222,\"#7201a8\"],[0.3333333333333333,\"#9c179e\"],[0.4444444444444444,\"#bd3786\"],[0.5555555555555556,\"#d8576b\"],[0.6666666666666666,\"#ed7953\"],[0.7777777777777778,\"#fb9f3a\"],[0.8888888888888888,\"#fdca26\"],[1.0,\"#f0f921\"]]}],\"heatmapgl\":[{\"type\":\"heatmapgl\",\"colorbar\":{\"outlinewidth\":0,\"ticks\":\"\"},\"colorscale\":[[0.0,\"#0d0887\"],[0.1111111111111111,\"#46039f\"],[0.2222222222222222,\"#7201a8\"],[0.3333333333333333,\"#9c179e\"],[0.4444444444444444,\"#bd3786\"],[0.5555555555555556,\"#d8576b\"],[0.6666666666666666,\"#ed7953\"],[0.7777777777777778,\"#fb9f3a\"],[0.8888888888888888,\"#fdca26\"],[1.0,\"#f0f921\"]]}],\"contourcarpet\":[{\"type\":\"contourcarpet\",\"colorbar\":{\"outlinewidth\":0,\"ticks\":\"\"}}],\"contour\":[{\"type\":\"contour\",\"colorbar\":{\"outlinewidth\":0,\"ticks\":\"\"},\"colorscale\":[[0.0,\"#0d0887\"],[0.1111111111111111,\"#46039f\"],[0.2222222222222222,\"#7201a8\"],[0.3333333333333333,\"#9c179e\"],[0.4444444444444444,\"#bd3786\"],[0.5555555555555556,\"#d8576b\"],[0.6666666666666666,\"#ed7953\"],[0.7777777777777778,\"#fb9f3a\"],[0.8888888888888888,\"#fdca26\"],[1.0,\"#f0f921\"]]}],\"surface\":[{\"type\":\"surface\",\"colorbar\":{\"outlinewidth\":0,\"ticks\":\"\"},\"colorscale\":[[0.0,\"#0d0887\"],[0.1111111111111111,\"#46039f\"],[0.2222222222222222,\"#7201a8\"],[0.3333333333333333,\"#9c179e\"],[0.4444444444444444,\"#bd3786\"],[0.5555555555555556,\"#d8576b\"],[0.6666666666666666,\"#ed7953\"],[0.7777777777777778,\"#fb9f3a\"],[0.8888888888888888,\"#fdca26\"],[1.0,\"#f0f921\"]]}],\"mesh3d\":[{\"type\":\"mesh3d\",\"colorbar\":{\"outlinewidth\":0,\"ticks\":\"\"}}],\"scatter\":[{\"fillpattern\":{\"fillmode\":\"overlay\",\"size\":10,\"solidity\":0.2},\"type\":\"scatter\"}],\"parcoords\":[{\"type\":\"parcoords\",\"line\":{\"colorbar\":{\"outlinewidth\":0,\"ticks\":\"\"}}}],\"scatterpolargl\":[{\"type\":\"scatterpolargl\",\"marker\":{\"colorbar\":{\"outlinewidth\":0,\"ticks\":\"\"}}}],\"bar\":[{\"error_x\":{\"color\":\"#2a3f5f\"},\"error_y\":{\"color\":\"#2a3f5f\"},\"marker\":{\"line\":{\"color\":\"#E5ECF6\",\"width\":0.5},\"pattern\":{\"fillmode\":\"overlay\",\"size\":10,\"solidity\":0.2}},\"type\":\"bar\"}],\"scattergeo\":[{\"type\":\"scattergeo\",\"marker\":{\"colorbar\":{\"outlinewidth\":0,\"ticks\":\"\"}}}],\"scatterpolar\":[{\"type\":\"scatterpolar\",\"marker\":{\"colorbar\":{\"outlinewidth\":0,\"ticks\":\"\"}}}],\"histogram\":[{\"marker\":{\"pattern\":{\"fillmode\":\"overlay\",\"size\":10,\"solidity\":0.2}},\"type\":\"histogram\"}],\"scattergl\":[{\"type\":\"scattergl\",\"marker\":{\"colorbar\":{\"outlinewidth\":0,\"ticks\":\"\"}}}],\"scatter3d\":[{\"type\":\"scatter3d\",\"line\":{\"colorbar\":{\"outlinewidth\":0,\"ticks\":\"\"}},\"marker\":{\"colorbar\":{\"outlinewidth\":0,\"ticks\":\"\"}}}],\"scattermapbox\":[{\"type\":\"scattermapbox\",\"marker\":{\"colorbar\":{\"outlinewidth\":0,\"ticks\":\"\"}}}],\"scatterternary\":[{\"type\":\"scatterternary\",\"marker\":{\"colorbar\":{\"outlinewidth\":0,\"ticks\":\"\"}}}],\"scattercarpet\":[{\"type\":\"scattercarpet\",\"marker\":{\"colorbar\":{\"outlinewidth\":0,\"ticks\":\"\"}}}],\"carpet\":[{\"aaxis\":{\"endlinecolor\":\"#2a3f5f\",\"gridcolor\":\"white\",\"linecolor\":\"white\",\"minorgridcolor\":\"white\",\"startlinecolor\":\"#2a3f5f\"},\"baxis\":{\"endlinecolor\":\"#2a3f5f\",\"gridcolor\":\"white\",\"linecolor\":\"white\",\"minorgridcolor\":\"white\",\"startlinecolor\":\"#2a3f5f\"},\"type\":\"carpet\"}],\"table\":[{\"cells\":{\"fill\":{\"color\":\"#EBF0F8\"},\"line\":{\"color\":\"white\"}},\"header\":{\"fill\":{\"color\":\"#C8D4E3\"},\"line\":{\"color\":\"white\"}},\"type\":\"table\"}],\"barpolar\":[{\"marker\":{\"line\":{\"color\":\"#E5ECF6\",\"width\":0.5},\"pattern\":{\"fillmode\":\"overlay\",\"size\":10,\"solidity\":0.2}},\"type\":\"barpolar\"}],\"pie\":[{\"automargin\":true,\"type\":\"pie\"}]},\"layout\":{\"autotypenumbers\":\"strict\",\"colorway\":[\"#636efa\",\"#EF553B\",\"#00cc96\",\"#ab63fa\",\"#FFA15A\",\"#19d3f3\",\"#FF6692\",\"#B6E880\",\"#FF97FF\",\"#FECB52\"],\"font\":{\"color\":\"#2a3f5f\"},\"hovermode\":\"closest\",\"hoverlabel\":{\"align\":\"left\"},\"paper_bgcolor\":\"white\",\"plot_bgcolor\":\"#E5ECF6\",\"polar\":{\"bgcolor\":\"#E5ECF6\",\"angularaxis\":{\"gridcolor\":\"white\",\"linecolor\":\"white\",\"ticks\":\"\"},\"radialaxis\":{\"gridcolor\":\"white\",\"linecolor\":\"white\",\"ticks\":\"\"}},\"ternary\":{\"bgcolor\":\"#E5ECF6\",\"aaxis\":{\"gridcolor\":\"white\",\"linecolor\":\"white\",\"ticks\":\"\"},\"baxis\":{\"gridcolor\":\"white\",\"linecolor\":\"white\",\"ticks\":\"\"},\"caxis\":{\"gridcolor\":\"white\",\"linecolor\":\"white\",\"ticks\":\"\"}},\"coloraxis\":{\"colorbar\":{\"outlinewidth\":0,\"ticks\":\"\"}},\"colorscale\":{\"sequential\":[[0.0,\"#0d0887\"],[0.1111111111111111,\"#46039f\"],[0.2222222222222222,\"#7201a8\"],[0.3333333333333333,\"#9c179e\"],[0.4444444444444444,\"#bd3786\"],[0.5555555555555556,\"#d8576b\"],[0.6666666666666666,\"#ed7953\"],[0.7777777777777778,\"#fb9f3a\"],[0.8888888888888888,\"#fdca26\"],[1.0,\"#f0f921\"]],\"sequentialminus\":[[0.0,\"#0d0887\"],[0.1111111111111111,\"#46039f\"],[0.2222222222222222,\"#7201a8\"],[0.3333333333333333,\"#9c179e\"],[0.4444444444444444,\"#bd3786\"],[0.5555555555555556,\"#d8576b\"],[0.6666666666666666,\"#ed7953\"],[0.7777777777777778,\"#fb9f3a\"],[0.8888888888888888,\"#fdca26\"],[1.0,\"#f0f921\"]],\"diverging\":[[0,\"#8e0152\"],[0.1,\"#c51b7d\"],[0.2,\"#de77ae\"],[0.3,\"#f1b6da\"],[0.4,\"#fde0ef\"],[0.5,\"#f7f7f7\"],[0.6,\"#e6f5d0\"],[0.7,\"#b8e186\"],[0.8,\"#7fbc41\"],[0.9,\"#4d9221\"],[1,\"#276419\"]]},\"xaxis\":{\"gridcolor\":\"white\",\"linecolor\":\"white\",\"ticks\":\"\",\"title\":{\"standoff\":15},\"zerolinecolor\":\"white\",\"automargin\":true,\"zerolinewidth\":2},\"yaxis\":{\"gridcolor\":\"white\",\"linecolor\":\"white\",\"ticks\":\"\",\"title\":{\"standoff\":15},\"zerolinecolor\":\"white\",\"automargin\":true,\"zerolinewidth\":2},\"scene\":{\"xaxis\":{\"backgroundcolor\":\"#E5ECF6\",\"gridcolor\":\"white\",\"linecolor\":\"white\",\"showbackground\":true,\"ticks\":\"\",\"zerolinecolor\":\"white\",\"gridwidth\":2},\"yaxis\":{\"backgroundcolor\":\"#E5ECF6\",\"gridcolor\":\"white\",\"linecolor\":\"white\",\"showbackground\":true,\"ticks\":\"\",\"zerolinecolor\":\"white\",\"gridwidth\":2},\"zaxis\":{\"backgroundcolor\":\"#E5ECF6\",\"gridcolor\":\"white\",\"linecolor\":\"white\",\"showbackground\":true,\"ticks\":\"\",\"zerolinecolor\":\"white\",\"gridwidth\":2}},\"shapedefaults\":{\"line\":{\"color\":\"#2a3f5f\"}},\"annotationdefaults\":{\"arrowcolor\":\"#2a3f5f\",\"arrowhead\":0,\"arrowwidth\":1},\"geo\":{\"bgcolor\":\"white\",\"landcolor\":\"#E5ECF6\",\"subunitcolor\":\"white\",\"showland\":true,\"showlakes\":true,\"lakecolor\":\"white\"},\"title\":{\"x\":0.05},\"mapbox\":{\"style\":\"light\"}}},\"xaxis\":{\"anchor\":\"y\",\"domain\":[0.0,1.0],\"title\":{\"text\":\"t-SNE Component 1\"}},\"yaxis\":{\"anchor\":\"x\",\"domain\":[0.0,1.0],\"title\":{\"text\":\"t-SNE Component 2\"}},\"coloraxis\":{\"colorbar\":{\"title\":{\"text\":\"DBSCAN Cluster\"}},\"colorscale\":[[0.0,\"#0d0887\"],[0.1111111111111111,\"#46039f\"],[0.2222222222222222,\"#7201a8\"],[0.3333333333333333,\"#9c179e\"],[0.4444444444444444,\"#bd3786\"],[0.5555555555555556,\"#d8576b\"],[0.6666666666666666,\"#ed7953\"],[0.7777777777777778,\"#fb9f3a\"],[0.8888888888888888,\"#fdca26\"],[1.0,\"#f0f921\"]]},\"legend\":{\"tracegroupgap\":0},\"title\":{\"text\":\"t-SNE Visualization of DBSCAN Clusters (excluding Noise (-1))\"}},                        {\"responsive\": true}                    ).then(function(){\n",
       "                            \n",
       "var gd = document.getElementById('7ed1613a-d194-47a1-89b9-7ec44b24f4c6');\n",
       "var x = new MutationObserver(function (mutations, observer) {{\n",
       "        var display = window.getComputedStyle(gd).display;\n",
       "        if (!display || display === 'none') {{\n",
       "            console.log([gd, 'removed!']);\n",
       "            Plotly.purge(gd);\n",
       "            observer.disconnect();\n",
       "        }}\n",
       "}});\n",
       "\n",
       "// Listen for the removal of the full notebook cells\n",
       "var notebookContainer = gd.closest('#notebook-container');\n",
       "if (notebookContainer) {{\n",
       "    x.observe(notebookContainer, {childList: true});\n",
       "}}\n",
       "\n",
       "// Listen for the clearing of the current output cell\n",
       "var outputEl = gd.closest('.output');\n",
       "if (outputEl) {{\n",
       "    x.observe(outputEl, {childList: true});\n",
       "}}\n",
       "\n",
       "                        })                };                });            </script>        </div>"
      ]
     },
     "metadata": {},
     "output_type": "display_data"
    }
   ],
   "source": [
    "#| code-fold: true\n",
    "import pandas as pd\n",
    "from sklearn.manifold import TSNE\n",
    "\n",
    "features = db.drop(['Cluster_DBSCAN'], axis=1)\n",
    "tsne = TSNE(n_components=2, random_state=42)\n",
    "tsne_results = tsne.fit_transform(features)\n",
    "tsne_df = pd.DataFrame(tsne_results, columns=['t-SNE Component 1', 't-SNE Component 2'])\n",
    "tsne_df['Cluster_DBSCAN'] = db['Cluster_DBSCAN']\n",
    "tsne_df['Country'] = db['Country']\n",
    "\n",
    "# Filter out NOISE\n",
    "tsne_df_filtered = tsne_df[tsne_df['Cluster_DBSCAN'] != -1]\n",
    "\n",
    "# PLOTT\n",
    "fig = px.scatter(tsne_df_filtered, x='t-SNE Component 1', y='t-SNE Component 2', color='Cluster_DBSCAN',\n",
    "                 title='t-SNE Visualization of DBSCAN Clusters (excluding Noise (-1))', opacity=0.7,\n",
    "                 labels={'Cluster_DBSCAN': 'DBSCAN Cluster'},\n",
    "                 hover_data={'Country': True})  # Use hover_data with the filtered DataFrame\n",
    "\n",
    "fig.show()"
   ]
  },
  {
   "cell_type": "markdown",
   "metadata": {},
   "source": [
    "Clearly, DBSCAN clustering gives us different results than K-Means. "
   ]
  },
  {
   "cell_type": "markdown",
   "metadata": {},
   "source": [
    "## Hierarchal Clustering\n",
    "\n",
    "Finally, I will complete agglomerative clustering on my dataset."
   ]
  },
  {
   "cell_type": "markdown",
   "metadata": {},
   "source": [
    "### Dendrogram\n",
    "\n",
    "Below I have specified ward as the linkage algorithm with the metric as the euclidean distance. This ward method minimizes the variance within each cluster and is often used to minimize the overall variance. It works well with euclidean distance. "
   ]
  },
  {
   "cell_type": "code",
   "execution_count": 665,
   "metadata": {},
   "outputs": [
    {
     "data": {
      "text/plain": [
       "Text(0, 0.5, 'Distance')"
      ]
     },
     "execution_count": 665,
     "metadata": {},
     "output_type": "execute_result"
    },
    {
     "data": {
      "image/png": "[encoded data removed]",
      "text/plain": [
       "<Figure size 1200x800 with 1 Axes>"
      ]
     },
     "metadata": {},
     "output_type": "display_data"
    }
   ],
   "source": [
    "#| code-fold: true\n",
    "hc = pd.read_csv(\"/Users/kendallgilbert/dsan-5000-project-kendallgilbert180/dsan-website/5000-website/data/01-modified-data/nb_record.csv\")\n",
    "label_encoder = LabelEncoder()\n",
    "hc['Country'] = label_encoder.fit_transform(hc['Country'])\n",
    "\n",
    "features_to_standardize = ['Aqua Production (Millions)', 'Marine Protected Area (sqkm)', 'Inventions (number)', 'Instruments (number)', 'Fishing Exports (Millions)', 'Value', 'Country']\n",
    "data_subset = hc[features_to_standardize]\n",
    "scaler = StandardScaler()\n",
    "hc = scaler.fit_transform(data_subset)\n",
    "hc = pd.DataFrame(hc, columns=features_to_standardize)\n",
    "hc\n",
    "\n",
    "linkage_matrix = linkage(hc, method='ward', metric='euclidean')\n",
    "plt.figure(figsize=(12, 8))\n",
    "dendrogram(linkage_matrix, truncate_mode='level', p=3)\n",
    "plt.title('Dendrogram for Agglomerative Clustering')\n",
    "plt.xlabel('Sample Index')\n",
    "plt.ylabel('Distance')\n"
   ]
  },
  {
   "cell_type": "code",
   "execution_count": 666,
   "metadata": {},
   "outputs": [
    {
     "data": {
      "text/plain": [
       "<matplotlib.legend.Legend at 0x199117510>"
      ]
     },
     "execution_count": 666,
     "metadata": {},
     "output_type": "execute_result"
    },
    {
     "data": {
      "image/png": "[encoded data removed]",
      "text/plain": [
       "<Figure size 1200x800 with 1 Axes>"
      ]
     },
     "metadata": {},
     "output_type": "display_data"
    }
   ],
   "source": [
    "#| code-fold: true\n",
    "plt.figure(figsize=(12, 8))\n",
    "dendrogram(linkage_matrix, truncate_mode='level', p=3)\n",
    "\n",
    "num_clusters = 4\n",
    "plt.axhline(y=linkage_matrix[-num_clusters + 1, 2], color='r', linestyle='--', label=f'Number of Clusters = {num_clusters}')\n",
    "\n",
    "plt.title('Dendrogram for Agglomerative Clustering')\n",
    "plt.xlabel('Sample Index')\n",
    "plt.ylabel('Distance')\n",
    "plt.legend()"
   ]
  },
  {
   "cell_type": "markdown",
   "metadata": {},
   "source": [
    "### Agglomerative Cluster Table"
   ]
  },
  {
   "cell_type": "code",
   "execution_count": 667,
   "metadata": {},
   "outputs": [
    {
     "data": {
      "text/html": [
       "<div>\n",
       "<style scoped>\n",
       "    .dataframe tbody tr th:only-of-type {\n",
       "        vertical-align: middle;\n",
       "    }\n",
       "\n",
       "    .dataframe tbody tr th {\n",
       "        vertical-align: top;\n",
       "    }\n",
       "\n",
       "    .dataframe thead th {\n",
       "        text-align: right;\n",
       "    }\n",
       "</style>\n",
       "<table border=\"1\" class=\"dataframe\">\n",
       "  <thead>\n",
       "    <tr style=\"text-align: right;\">\n",
       "      <th></th>\n",
       "      <th>Aqua Production (Millions)</th>\n",
       "      <th>Marine Protected Area (sqkm)</th>\n",
       "      <th>Inventions (number)</th>\n",
       "      <th>Instruments (number)</th>\n",
       "      <th>Fishing Exports (Millions)</th>\n",
       "      <th>Value</th>\n",
       "      <th>Country</th>\n",
       "      <th>Cluster_Agglomerative</th>\n",
       "    </tr>\n",
       "  </thead>\n",
       "  <tbody>\n",
       "    <tr>\n",
       "      <th>0</th>\n",
       "      <td>0.679748</td>\n",
       "      <td>-0.216403</td>\n",
       "      <td>-0.255849</td>\n",
       "      <td>0.128004</td>\n",
       "      <td>-0.179730</td>\n",
       "      <td>-0.246968</td>\n",
       "      <td>-0.805823</td>\n",
       "      <td>0</td>\n",
       "    </tr>\n",
       "    <tr>\n",
       "      <th>1</th>\n",
       "      <td>-0.369917</td>\n",
       "      <td>-0.279476</td>\n",
       "      <td>-0.331231</td>\n",
       "      <td>-1.113538</td>\n",
       "      <td>-0.548519</td>\n",
       "      <td>-0.751243</td>\n",
       "      <td>-0.725241</td>\n",
       "      <td>1</td>\n",
       "    </tr>\n",
       "    <tr>\n",
       "      <th>2</th>\n",
       "      <td>-0.301377</td>\n",
       "      <td>-0.200619</td>\n",
       "      <td>-0.182663</td>\n",
       "      <td>0.872929</td>\n",
       "      <td>0.563609</td>\n",
       "      <td>-0.503371</td>\n",
       "      <td>-0.644658</td>\n",
       "      <td>1</td>\n",
       "    </tr>\n",
       "    <tr>\n",
       "      <th>3</th>\n",
       "      <td>-0.345421</td>\n",
       "      <td>-0.000724</td>\n",
       "      <td>-0.326903</td>\n",
       "      <td>-0.120304</td>\n",
       "      <td>0.168121</td>\n",
       "      <td>0.151617</td>\n",
       "      <td>-0.564076</td>\n",
       "      <td>1</td>\n",
       "    </tr>\n",
       "    <tr>\n",
       "      <th>4</th>\n",
       "      <td>-0.288119</td>\n",
       "      <td>-0.249281</td>\n",
       "      <td>-0.333362</td>\n",
       "      <td>-1.113538</td>\n",
       "      <td>-0.674262</td>\n",
       "      <td>-0.751243</td>\n",
       "      <td>-0.483494</td>\n",
       "      <td>1</td>\n",
       "    </tr>\n",
       "  </tbody>\n",
       "</table>\n",
       "</div>"
      ],
      "text/plain": [
       "   Aqua Production (Millions)  Marine Protected Area (sqkm)  \\\n",
       "0                    0.679748                     -0.216403   \n",
       "1                   -0.369917                     -0.279476   \n",
       "2                   -0.301377                     -0.200619   \n",
       "3                   -0.345421                     -0.000724   \n",
       "4                   -0.288119                     -0.249281   \n",
       "\n",
       "   Inventions (number)  Instruments (number)  Fishing Exports (Millions)  \\\n",
       "0            -0.255849              0.128004                   -0.179730   \n",
       "1            -0.331231             -1.113538                   -0.548519   \n",
       "2            -0.182663              0.872929                    0.563609   \n",
       "3            -0.326903             -0.120304                    0.168121   \n",
       "4            -0.333362             -1.113538                   -0.674262   \n",
       "\n",
       "      Value   Country  Cluster_Agglomerative  \n",
       "0 -0.246968 -0.805823                      0  \n",
       "1 -0.751243 -0.725241                      1  \n",
       "2 -0.503371 -0.644658                      1  \n",
       "3  0.151617 -0.564076                      1  \n",
       "4 -0.751243 -0.483494                      1  "
      ]
     },
     "execution_count": 667,
     "metadata": {},
     "output_type": "execute_result"
    }
   ],
   "source": [
    "#| code-fold: true\n",
    "agglomerative = AgglomerativeClustering(n_clusters=4, linkage='ward', distance_threshold=None, compute_full_tree=True, metric='euclidean')  \n",
    "agglomerative_labels = agglomerative.fit_predict(hc)\n",
    "agglomerative_dataset = hc.copy()\n",
    "agglomerative_dataset['Cluster_Agglomerative'] = agglomerative_labels\n",
    "agglomerative_dataset.head(5)"
   ]
  },
  {
   "cell_type": "markdown",
   "metadata": {},
   "source": [
    "## Results / Conclusion\n",
    "\n",
    "Within this tab I have completed three different kinds of clustering analysis - k-means, dbscam and hierarchal clustering. Out of these three methods I prefer k-means. It is extremely straight forward and the elbow method helps assure me that 3 clusters will give the best results. I also think that completing k-means on the dimensionality reduced data worked the best. We are able to see three distinctly defined clusters. \n",
    "\n",
    "Unfortunately I do not have the true labels for this data so I was unable to see if the clusters coincided with the ground truth.The absence of true labels limits my ability to validate the clusters.\n",
    "\n",
    "This clustering analysis enhanced my understanding on my data set. Clustering has allowed me to summarize my multidimensional dataset into a small number of clusters, simplifying the data making it more easier to communicate. This data can be classified into three clusters (found in K-Means), which I will continue to explore in this project. \n",
    "\n",
    "Below is a table describing the clusters for each feature."
   ]
  },
  {
   "cell_type": "code",
   "execution_count": 678,
   "metadata": {},
   "outputs": [
    {
     "data": {
      "text/html": [
       "<div>\n",
       "<style scoped>\n",
       "    .dataframe tbody tr th:only-of-type {\n",
       "        vertical-align: middle;\n",
       "    }\n",
       "\n",
       "    .dataframe tbody tr th {\n",
       "        vertical-align: top;\n",
       "    }\n",
       "\n",
       "    .dataframe thead tr th {\n",
       "        text-align: left;\n",
       "    }\n",
       "\n",
       "    .dataframe thead tr:last-of-type th {\n",
       "        text-align: right;\n",
       "    }\n",
       "</style>\n",
       "<table border=\"1\" class=\"dataframe\">\n",
       "  <thead>\n",
       "    <tr>\n",
       "      <th></th>\n",
       "      <th colspan=\"8\" halign=\"left\">Aqua Production (Millions)</th>\n",
       "      <th colspan=\"8\" halign=\"left\">Marine Protected Area (sqkm)</th>\n",
       "      <th colspan=\"8\" halign=\"left\">Inventions (number)</th>\n",
       "      <th colspan=\"8\" halign=\"left\">Instruments (number)</th>\n",
       "      <th colspan=\"8\" halign=\"left\">Fishing Exports (Millions)</th>\n",
       "      <th colspan=\"8\" halign=\"left\">Value</th>\n",
       "    </tr>\n",
       "    <tr>\n",
       "      <th></th>\n",
       "      <th>count</th>\n",
       "      <th>mean</th>\n",
       "      <th>std</th>\n",
       "      <th>min</th>\n",
       "      <th>25%</th>\n",
       "      <th>50%</th>\n",
       "      <th>75%</th>\n",
       "      <th>max</th>\n",
       "      <th>count</th>\n",
       "      <th>mean</th>\n",
       "      <th>std</th>\n",
       "      <th>min</th>\n",
       "      <th>25%</th>\n",
       "      <th>50%</th>\n",
       "      <th>75%</th>\n",
       "      <th>max</th>\n",
       "      <th>count</th>\n",
       "      <th>mean</th>\n",
       "      <th>std</th>\n",
       "      <th>min</th>\n",
       "      <th>25%</th>\n",
       "      <th>50%</th>\n",
       "      <th>75%</th>\n",
       "      <th>max</th>\n",
       "      <th>count</th>\n",
       "      <th>mean</th>\n",
       "      <th>std</th>\n",
       "      <th>min</th>\n",
       "      <th>25%</th>\n",
       "      <th>50%</th>\n",
       "      <th>75%</th>\n",
       "      <th>max</th>\n",
       "      <th>count</th>\n",
       "      <th>mean</th>\n",
       "      <th>std</th>\n",
       "      <th>min</th>\n",
       "      <th>25%</th>\n",
       "      <th>50%</th>\n",
       "      <th>75%</th>\n",
       "      <th>max</th>\n",
       "      <th>count</th>\n",
       "      <th>mean</th>\n",
       "      <th>std</th>\n",
       "      <th>min</th>\n",
       "      <th>25%</th>\n",
       "      <th>50%</th>\n",
       "      <th>75%</th>\n",
       "      <th>max</th>\n",
       "    </tr>\n",
       "    <tr>\n",
       "      <th>cluster_number_pca</th>\n",
       "      <th></th>\n",
       "      <th></th>\n",
       "      <th></th>\n",
       "      <th></th>\n",
       "      <th></th>\n",
       "      <th></th>\n",
       "      <th></th>\n",
       "      <th></th>\n",
       "      <th></th>\n",
       "      <th></th>\n",
       "      <th></th>\n",
       "      <th></th>\n",
       "      <th></th>\n",
       "      <th></th>\n",
       "      <th></th>\n",
       "      <th></th>\n",
       "      <th></th>\n",
       "      <th></th>\n",
       "      <th></th>\n",
       "      <th></th>\n",
       "      <th></th>\n",
       "      <th></th>\n",
       "      <th></th>\n",
       "      <th></th>\n",
       "      <th></th>\n",
       "      <th></th>\n",
       "      <th></th>\n",
       "      <th></th>\n",
       "      <th></th>\n",
       "      <th></th>\n",
       "      <th></th>\n",
       "      <th></th>\n",
       "      <th></th>\n",
       "      <th></th>\n",
       "      <th></th>\n",
       "      <th></th>\n",
       "      <th></th>\n",
       "      <th></th>\n",
       "      <th></th>\n",
       "      <th></th>\n",
       "      <th></th>\n",
       "      <th></th>\n",
       "      <th></th>\n",
       "      <th></th>\n",
       "      <th></th>\n",
       "      <th></th>\n",
       "      <th></th>\n",
       "      <th></th>\n",
       "    </tr>\n",
       "  </thead>\n",
       "  <tbody>\n",
       "    <tr>\n",
       "      <th>0</th>\n",
       "      <td>427.0</td>\n",
       "      <td>0.033113</td>\n",
       "      <td>1.061094</td>\n",
       "      <td>-0.370071</td>\n",
       "      <td>-0.357156</td>\n",
       "      <td>-0.322285</td>\n",
       "      <td>-0.192280</td>\n",
       "      <td>8.086949</td>\n",
       "      <td>427.0</td>\n",
       "      <td>-0.182958</td>\n",
       "      <td>0.181332</td>\n",
       "      <td>-0.280220</td>\n",
       "      <td>-0.273972</td>\n",
       "      <td>-0.251229</td>\n",
       "      <td>-0.189612</td>\n",
       "      <td>0.953724</td>\n",
       "      <td>427.0</td>\n",
       "      <td>0.048358</td>\n",
       "      <td>1.087514</td>\n",
       "      <td>-0.333362</td>\n",
       "      <td>-0.313984</td>\n",
       "      <td>-0.255849</td>\n",
       "      <td>-0.070688</td>\n",
       "      <td>8.737860</td>\n",
       "      <td>427.0</td>\n",
       "      <td>-0.221489</td>\n",
       "      <td>7.982990e-01</td>\n",
       "      <td>-1.113538</td>\n",
       "      <td>-0.865229</td>\n",
       "      <td>-0.368613</td>\n",
       "      <td>0.128004</td>\n",
       "      <td>2.611087</td>\n",
       "      <td>427.0</td>\n",
       "      <td>-0.175076</td>\n",
       "      <td>0.593872</td>\n",
       "      <td>-0.768175</td>\n",
       "      <td>-0.598041</td>\n",
       "      <td>-0.356520</td>\n",
       "      <td>0.078319</td>\n",
       "      <td>2.864188</td>\n",
       "      <td>427.0</td>\n",
       "      <td>-0.361224</td>\n",
       "      <td>2.816619e-01</td>\n",
       "      <td>-0.751243</td>\n",
       "      <td>-0.596974</td>\n",
       "      <td>-0.412848</td>\n",
       "      <td>-0.176825</td>\n",
       "      <td>0.828407</td>\n",
       "    </tr>\n",
       "    <tr>\n",
       "      <th>1</th>\n",
       "      <td>77.0</td>\n",
       "      <td>-0.127284</td>\n",
       "      <td>0.659682</td>\n",
       "      <td>-0.368138</td>\n",
       "      <td>-0.355584</td>\n",
       "      <td>-0.339992</td>\n",
       "      <td>-0.206926</td>\n",
       "      <td>3.833667</td>\n",
       "      <td>77.0</td>\n",
       "      <td>0.059060</td>\n",
       "      <td>0.334970</td>\n",
       "      <td>-0.277454</td>\n",
       "      <td>-0.203746</td>\n",
       "      <td>-0.043971</td>\n",
       "      <td>0.171109</td>\n",
       "      <td>1.075947</td>\n",
       "      <td>77.0</td>\n",
       "      <td>-0.320819</td>\n",
       "      <td>0.020406</td>\n",
       "      <td>-0.333362</td>\n",
       "      <td>-0.333362</td>\n",
       "      <td>-0.326903</td>\n",
       "      <td>-0.320443</td>\n",
       "      <td>-0.233241</td>\n",
       "      <td>77.0</td>\n",
       "      <td>1.401793</td>\n",
       "      <td>8.689397e-01</td>\n",
       "      <td>-0.616921</td>\n",
       "      <td>1.121237</td>\n",
       "      <td>1.617854</td>\n",
       "      <td>1.866162</td>\n",
       "      <td>2.611087</td>\n",
       "      <td>77.0</td>\n",
       "      <td>0.218867</td>\n",
       "      <td>0.855564</td>\n",
       "      <td>-0.735585</td>\n",
       "      <td>-0.546890</td>\n",
       "      <td>0.109530</td>\n",
       "      <td>1.067341</td>\n",
       "      <td>1.768363</td>\n",
       "      <td>77.0</td>\n",
       "      <td>2.120226</td>\n",
       "      <td>9.839036e-01</td>\n",
       "      <td>0.371053</td>\n",
       "      <td>1.479130</td>\n",
       "      <td>1.956863</td>\n",
       "      <td>3.040295</td>\n",
       "      <td>3.356415</td>\n",
       "    </tr>\n",
       "    <tr>\n",
       "      <th>2</th>\n",
       "      <td>12.0</td>\n",
       "      <td>-0.361520</td>\n",
       "      <td>0.003304</td>\n",
       "      <td>-0.370071</td>\n",
       "      <td>-0.362577</td>\n",
       "      <td>-0.361009</td>\n",
       "      <td>-0.360014</td>\n",
       "      <td>-0.355784</td>\n",
       "      <td>12.0</td>\n",
       "      <td>6.131303</td>\n",
       "      <td>1.589411</td>\n",
       "      <td>3.238825</td>\n",
       "      <td>5.027287</td>\n",
       "      <td>6.373157</td>\n",
       "      <td>7.614396</td>\n",
       "      <td>8.064208</td>\n",
       "      <td>12.0</td>\n",
       "      <td>0.337857</td>\n",
       "      <td>0.410121</td>\n",
       "      <td>-0.000183</td>\n",
       "      <td>0.073342</td>\n",
       "      <td>0.212462</td>\n",
       "      <td>0.406779</td>\n",
       "      <td>1.375166</td>\n",
       "      <td>12.0</td>\n",
       "      <td>-1.113538</td>\n",
       "      <td>2.319180e-16</td>\n",
       "      <td>-1.113538</td>\n",
       "      <td>-1.113538</td>\n",
       "      <td>-1.113538</td>\n",
       "      <td>-1.113538</td>\n",
       "      <td>-1.113538</td>\n",
       "      <td>12.0</td>\n",
       "      <td>4.825392</td>\n",
       "      <td>1.125568</td>\n",
       "      <td>1.782048</td>\n",
       "      <td>4.753901</td>\n",
       "      <td>5.213789</td>\n",
       "      <td>5.550297</td>\n",
       "      <td>5.670186</td>\n",
       "      <td>12.0</td>\n",
       "      <td>-0.751243</td>\n",
       "      <td>2.319180e-16</td>\n",
       "      <td>-0.751243</td>\n",
       "      <td>-0.751243</td>\n",
       "      <td>-0.751243</td>\n",
       "      <td>-0.751243</td>\n",
       "      <td>-0.751243</td>\n",
       "    </tr>\n",
       "  </tbody>\n",
       "</table>\n",
       "</div>"
      ],
      "text/plain": [
       "                   Aqua Production (Millions)                                \\\n",
       "                                        count      mean       std       min   \n",
       "cluster_number_pca                                                            \n",
       "0                                       427.0  0.033113  1.061094 -0.370071   \n",
       "1                                        77.0 -0.127284  0.659682 -0.368138   \n",
       "2                                        12.0 -0.361520  0.003304 -0.370071   \n",
       "\n",
       "                                                            \\\n",
       "                         25%       50%       75%       max   \n",
       "cluster_number_pca                                           \n",
       "0                  -0.357156 -0.322285 -0.192280  8.086949   \n",
       "1                  -0.355584 -0.339992 -0.206926  3.833667   \n",
       "2                  -0.362577 -0.361009 -0.360014 -0.355784   \n",
       "\n",
       "                   Marine Protected Area (sqkm)                                \\\n",
       "                                          count      mean       std       min   \n",
       "cluster_number_pca                                                              \n",
       "0                                         427.0 -0.182958  0.181332 -0.280220   \n",
       "1                                          77.0  0.059060  0.334970 -0.277454   \n",
       "2                                          12.0  6.131303  1.589411  3.238825   \n",
       "\n",
       "                                                            \\\n",
       "                         25%       50%       75%       max   \n",
       "cluster_number_pca                                           \n",
       "0                  -0.273972 -0.251229 -0.189612  0.953724   \n",
       "1                  -0.203746 -0.043971  0.171109  1.075947   \n",
       "2                   5.027287  6.373157  7.614396  8.064208   \n",
       "\n",
       "                   Inventions (number)                                \\\n",
       "                                 count      mean       std       min   \n",
       "cluster_number_pca                                                     \n",
       "0                                427.0  0.048358  1.087514 -0.333362   \n",
       "1                                 77.0 -0.320819  0.020406 -0.333362   \n",
       "2                                 12.0  0.337857  0.410121 -0.000183   \n",
       "\n",
       "                                                            \\\n",
       "                         25%       50%       75%       max   \n",
       "cluster_number_pca                                           \n",
       "0                  -0.313984 -0.255849 -0.070688  8.737860   \n",
       "1                  -0.333362 -0.326903 -0.320443 -0.233241   \n",
       "2                   0.073342  0.212462  0.406779  1.375166   \n",
       "\n",
       "                   Instruments (number)                                    \\\n",
       "                                  count      mean           std       min   \n",
       "cluster_number_pca                                                          \n",
       "0                                 427.0 -0.221489  7.982990e-01 -1.113538   \n",
       "1                                  77.0  1.401793  8.689397e-01 -0.616921   \n",
       "2                                  12.0 -1.113538  2.319180e-16 -1.113538   \n",
       "\n",
       "                                                            \\\n",
       "                         25%       50%       75%       max   \n",
       "cluster_number_pca                                           \n",
       "0                  -0.865229 -0.368613  0.128004  2.611087   \n",
       "1                   1.121237  1.617854  1.866162  2.611087   \n",
       "2                  -1.113538 -1.113538 -1.113538 -1.113538   \n",
       "\n",
       "                   Fishing Exports (Millions)                                \\\n",
       "                                        count      mean       std       min   \n",
       "cluster_number_pca                                                            \n",
       "0                                       427.0 -0.175076  0.593872 -0.768175   \n",
       "1                                        77.0  0.218867  0.855564 -0.735585   \n",
       "2                                        12.0  4.825392  1.125568  1.782048   \n",
       "\n",
       "                                                            Value            \\\n",
       "                         25%       50%       75%       max  count      mean   \n",
       "cluster_number_pca                                                            \n",
       "0                  -0.598041 -0.356520  0.078319  2.864188  427.0 -0.361224   \n",
       "1                  -0.546890  0.109530  1.067341  1.768363   77.0  2.120226   \n",
       "2                   4.753901  5.213789  5.550297  5.670186   12.0 -0.751243   \n",
       "\n",
       "                                                                          \\\n",
       "                             std       min       25%       50%       75%   \n",
       "cluster_number_pca                                                         \n",
       "0                   2.816619e-01 -0.751243 -0.596974 -0.412848 -0.176825   \n",
       "1                   9.839036e-01  0.371053  1.479130  1.956863  3.040295   \n",
       "2                   2.319180e-16 -0.751243 -0.751243 -0.751243 -0.751243   \n",
       "\n",
       "                              \n",
       "                         max  \n",
       "cluster_number_pca            \n",
       "0                   0.828407  \n",
       "1                   3.356415  \n",
       "2                  -0.751243  "
      ]
     },
     "execution_count": 678,
     "metadata": {},
     "output_type": "execute_result"
    }
   ],
   "source": [
    "#| code-fold: true\n",
    "columns_to_exclude = ['PCA1', 'PCA2', 'Clusters_f']\n",
    "data_for_clustering = data_standardized.drop(columns=columns_to_exclude)\n",
    "clustered_data = data_for_clustering.groupby('cluster_number_pca')\n",
    "cluster_describe = clustered_data.describe()\n",
    "cluster_describe\n"
   ]
  },
  {
   "cell_type": "markdown",
   "metadata": {},
   "source": [
    "Below I have created a bar chart to establish the max value for each feature in each cluster. This will give us an understanding on which cluster includes countries that are innovative. "
   ]
  },
  {
   "cell_type": "code",
   "execution_count": 676,
   "metadata": {},
   "outputs": [
    {
     "data": {
      "text/plain": [
       "<matplotlib.legend.Legend at 0x199f80190>"
      ]
     },
     "execution_count": 676,
     "metadata": {},
     "output_type": "execute_result"
    },
    {
     "data": {
      "text/plain": [
       "<Figure size 1200x800 with 0 Axes>"
      ]
     },
     "metadata": {},
     "output_type": "display_data"
    },
    {
     "data": {
      "image/png": "[encoded data removed]",
      "text/plain": [
       "<Figure size 640x480 with 1 Axes>"
      ]
     },
     "metadata": {},
     "output_type": "display_data"
    }
   ],
   "source": [
    "#| code-fold: true\n",
    "columns_to_exclude = ['PCA1', 'PCA2', 'Clusters_f']\n",
    "max_values = cluster_describe.drop(columns=columns_to_exclude).xs('max', level=1, axis=1)\n",
    "max_values = max_values.T\n",
    "plt.figure(figsize=(12, 8))\n",
    "max_values.plot(kind='bar', colormap='viridis')\n",
    "plt.title('Maximum Values for Each Variable within Each Cluster')\n",
    "plt.xlabel('Variables')\n",
    "plt.ylabel('Maximum Value')\n",
    "plt.legend(title='Cluster', bbox_to_anchor=(1.05, 1), loc='upper left')\n"
   ]
  },
  {
   "cell_type": "markdown",
   "metadata": {},
   "source": [
    "Based on the bar chart above, it is safe to say that the countries within cluster 0 are the most innovative. This is because they have the highest values for a majority of the features - all which have positive impacts on a country. Furthermore, the cluster 1 (the outlier in the scatter plot) seem to be countries that are not innovative. \n",
    "\n",
    "If I had more time I would do more EDA on the clusters. "
   ]
  }
 ],
 "metadata": {
  "kernelspec": {
   "display_name": "base",
   "language": "python",
   "name": "python3"
  },
  "language_info": {
   "codemirror_mode": {
    "name": "ipython",
    "version": 3
   },
   "file_extension": ".py",
   "mimetype": "text/x-python",
   "name": "python",
   "nbconvert_exporter": "python",
   "pygments_lexer": "ipython3",
   "version": "3.11.5"
  },
  "orig_nbformat": 4
 },
 "nbformat": 4,
 "nbformat_minor": 2
}

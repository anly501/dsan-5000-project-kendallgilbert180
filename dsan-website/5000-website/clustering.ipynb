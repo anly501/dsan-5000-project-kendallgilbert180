{
 "cells": [
  {
   "cell_type": "markdown",
   "metadata": {},
   "source": [
    "---\n",
    "title: Clustering\n",
    "format: html\n",
    "bibliography: project_reference.bib\n",
    "---\n",
    "\n",
    "## Introduction \n",
    "\n",
    "Within this tab I will complete three different kinds of clustering on my datset. I will use the same dataset that I have worked with containg the seven features. Three three kinds of clustering I will use or k-means, dbscan and hierarchical clustering. I will provide a summary of these clustering techniques as well as walk through the steps I completed to perform these clustering techniques on my data. My goal with this clustering tab is to find patterns within my dataset. I will also include a results and conclusion section to illustrate what these clustering techniques are doing on my data and what my results mean in non-technical wording. \n",
    "\n",
    "## Learn about Clustering\n",
    "\n",
    "### K-MEANS\n",
    "\n",
    "The goal of k-means is to partition a data set into a set of K clusters a way that the sum of the squared distances between the objects and their assigned cluster mean is minimized.\n",
    "\n",
    "The data scientist will assign k, which is the number of centroids. A centroid represents the center of a cluster. Every data point with the data set is set to a cluster through reducing the in-cluster sum of squares.\n",
    "\n",
    "Tthe K-means algorithm \"identifies k number of centroids, and then allocates every data point to the nearest cluster, while keeping the centroids as small as possible.\"[@ecosystem_ledu_understanding_2018]\n",
    "\n",
    "It is one of the most simple and most popular unsupervised machine learning algorithms.\n",
    "\n",
    "### DBSCAN \n",
    "\n",
    "DBSCAN is based off of the idea of clusters and noise. The main idea is that for each point within a cluster, the neighberhood of a given radius has to contain at least a minimum number of points. DBSCAN works better for data that contains irregularities.\n",
    "\n",
    "The parameters for DBSCAN are EPS and MinPts.[@noauthor_dbscan_2019]\n",
    "\n",
    "\n",
    "### Hierarchical Clustering \n",
    "\n",
    "Hierarchical clustering can be divided into two types \n",
    "\n",
    "1) Agglomerative \n",
    "2) Divisive\n",
    "\n",
    "\n",
    "FINISH 11/15\n"
   ]
  },
  {
   "cell_type": "markdown",
   "metadata": {},
   "source": [
    "## KMEANS\n",
    "\n",
    "### Importing Libraries and Data \n",
    "\n",
    "Within the code below I have imported the data and encoded the country column. \n"
   ]
  },
  {
   "cell_type": "code",
   "execution_count": 568,
   "metadata": {},
   "outputs": [
    {
     "data": {
      "text/html": [
       "<div>\n",
       "<style scoped>\n",
       "    .dataframe tbody tr th:only-of-type {\n",
       "        vertical-align: middle;\n",
       "    }\n",
       "\n",
       "    .dataframe tbody tr th {\n",
       "        vertical-align: top;\n",
       "    }\n",
       "\n",
       "    .dataframe thead th {\n",
       "        text-align: right;\n",
       "    }\n",
       "</style>\n",
       "<table border=\"1\" class=\"dataframe\">\n",
       "  <thead>\n",
       "    <tr style=\"text-align: right;\">\n",
       "      <th></th>\n",
       "      <th>Aqua Production (Millions)</th>\n",
       "      <th>Marine Protected Area (sqkm)</th>\n",
       "      <th>Inventions (number)</th>\n",
       "      <th>Instruments (number)</th>\n",
       "      <th>Fishing Exports (Millions)</th>\n",
       "      <th>Value</th>\n",
       "      <th>Country</th>\n",
       "      <th>Year</th>\n",
       "    </tr>\n",
       "  </thead>\n",
       "  <tbody>\n",
       "    <tr>\n",
       "      <th>0</th>\n",
       "      <td>376896.50</td>\n",
       "      <td>485.10</td>\n",
       "      <td>12.00</td>\n",
       "      <td>5.0</td>\n",
       "      <td>1963.38</td>\n",
       "      <td>10.64</td>\n",
       "      <td>11</td>\n",
       "      <td>2000</td>\n",
       "    </tr>\n",
       "    <tr>\n",
       "      <th>1</th>\n",
       "      <td>55.25</td>\n",
       "      <td>5.65</td>\n",
       "      <td>0.33</td>\n",
       "      <td>0.0</td>\n",
       "      <td>739.13</td>\n",
       "      <td>0.00</td>\n",
       "      <td>12</td>\n",
       "      <td>2000</td>\n",
       "    </tr>\n",
       "    <tr>\n",
       "      <th>2</th>\n",
       "      <td>24661.75</td>\n",
       "      <td>605.08</td>\n",
       "      <td>23.33</td>\n",
       "      <td>8.0</td>\n",
       "      <td>4431.00</td>\n",
       "      <td>5.23</td>\n",
       "      <td>13</td>\n",
       "      <td>2000</td>\n",
       "    </tr>\n",
       "    <tr>\n",
       "      <th>3</th>\n",
       "      <td>8849.75</td>\n",
       "      <td>2124.58</td>\n",
       "      <td>1.00</td>\n",
       "      <td>4.0</td>\n",
       "      <td>3118.12</td>\n",
       "      <td>19.05</td>\n",
       "      <td>14</td>\n",
       "      <td>2000</td>\n",
       "    </tr>\n",
       "    <tr>\n",
       "      <th>4</th>\n",
       "      <td>29421.75</td>\n",
       "      <td>235.18</td>\n",
       "      <td>0.00</td>\n",
       "      <td>0.0</td>\n",
       "      <td>321.71</td>\n",
       "      <td>0.00</td>\n",
       "      <td>15</td>\n",
       "      <td>2000</td>\n",
       "    </tr>\n",
       "  </tbody>\n",
       "</table>\n",
       "</div>"
      ],
      "text/plain": [
       "   Aqua Production (Millions)  Marine Protected Area (sqkm)  \\\n",
       "0                   376896.50                        485.10   \n",
       "1                       55.25                          5.65   \n",
       "2                    24661.75                        605.08   \n",
       "3                     8849.75                       2124.58   \n",
       "4                    29421.75                        235.18   \n",
       "\n",
       "   Inventions (number)  Instruments (number)  Fishing Exports (Millions)  \\\n",
       "0                12.00                   5.0                     1963.38   \n",
       "1                 0.33                   0.0                      739.13   \n",
       "2                23.33                   8.0                     4431.00   \n",
       "3                 1.00                   4.0                     3118.12   \n",
       "4                 0.00                   0.0                      321.71   \n",
       "\n",
       "   Value  Country  Year  \n",
       "0  10.64       11  2000  \n",
       "1   0.00       12  2000  \n",
       "2   5.23       13  2000  \n",
       "3  19.05       14  2000  \n",
       "4   0.00       15  2000  "
      ]
     },
     "execution_count": 568,
     "metadata": {},
     "output_type": "execute_result"
    }
   ],
   "source": [
    "#| code-fold: true\n",
    "import pandas as pd\n",
    "from sklearn.preprocessing import StandardScaler\n",
    "import matplotlib.pyplot as plt\n",
    "from sklearn.preprocessing import LabelEncoder\n",
    "import numpy as np\n",
    "from sklearn.cluster import KMeans, AgglomerativeClustering, MeanShift, Birch, DBSCAN\n",
    "from sklearn.metrics import silhouette_score\n",
    "\n",
    "data = pd.read_csv(\"/Users/kendallgilbert/dsan-5000-project-kendallgilbert180/dsan-website/5000-website/data/01-modified-data/nb_record.csv\")\n",
    "label_encoder = LabelEncoder()\n",
    "data['Country'] = label_encoder.fit_transform(data['Country'])\n",
    "data.head(5)\n"
   ]
  },
  {
   "cell_type": "markdown",
   "metadata": {},
   "source": [
    "### Standardizing the Data\n",
    "\n",
    "Within the code below I am standardizing the data to ensure that all features have the same scale. "
   ]
  },
  {
   "cell_type": "code",
   "execution_count": 569,
   "metadata": {},
   "outputs": [
    {
     "data": {
      "text/html": [
       "<div>\n",
       "<style scoped>\n",
       "    .dataframe tbody tr th:only-of-type {\n",
       "        vertical-align: middle;\n",
       "    }\n",
       "\n",
       "    .dataframe tbody tr th {\n",
       "        vertical-align: top;\n",
       "    }\n",
       "\n",
       "    .dataframe thead th {\n",
       "        text-align: right;\n",
       "    }\n",
       "</style>\n",
       "<table border=\"1\" class=\"dataframe\">\n",
       "  <thead>\n",
       "    <tr style=\"text-align: right;\">\n",
       "      <th></th>\n",
       "      <th>Aqua Production (Millions)</th>\n",
       "      <th>Marine Protected Area (sqkm)</th>\n",
       "      <th>Inventions (number)</th>\n",
       "      <th>Instruments (number)</th>\n",
       "      <th>Fishing Exports (Millions)</th>\n",
       "      <th>Value</th>\n",
       "      <th>Country</th>\n",
       "    </tr>\n",
       "  </thead>\n",
       "  <tbody>\n",
       "    <tr>\n",
       "      <th>0</th>\n",
       "      <td>0.679748</td>\n",
       "      <td>-0.216403</td>\n",
       "      <td>-0.255849</td>\n",
       "      <td>0.128004</td>\n",
       "      <td>-0.179730</td>\n",
       "      <td>-0.246968</td>\n",
       "      <td>-0.805823</td>\n",
       "    </tr>\n",
       "    <tr>\n",
       "      <th>1</th>\n",
       "      <td>-0.369917</td>\n",
       "      <td>-0.279476</td>\n",
       "      <td>-0.331231</td>\n",
       "      <td>-1.113538</td>\n",
       "      <td>-0.548519</td>\n",
       "      <td>-0.751243</td>\n",
       "      <td>-0.725241</td>\n",
       "    </tr>\n",
       "    <tr>\n",
       "      <th>2</th>\n",
       "      <td>-0.301377</td>\n",
       "      <td>-0.200619</td>\n",
       "      <td>-0.182663</td>\n",
       "      <td>0.872929</td>\n",
       "      <td>0.563609</td>\n",
       "      <td>-0.503371</td>\n",
       "      <td>-0.644658</td>\n",
       "    </tr>\n",
       "    <tr>\n",
       "      <th>3</th>\n",
       "      <td>-0.345421</td>\n",
       "      <td>-0.000724</td>\n",
       "      <td>-0.326903</td>\n",
       "      <td>-0.120304</td>\n",
       "      <td>0.168121</td>\n",
       "      <td>0.151617</td>\n",
       "      <td>-0.564076</td>\n",
       "    </tr>\n",
       "    <tr>\n",
       "      <th>4</th>\n",
       "      <td>-0.288119</td>\n",
       "      <td>-0.249281</td>\n",
       "      <td>-0.333362</td>\n",
       "      <td>-1.113538</td>\n",
       "      <td>-0.674262</td>\n",
       "      <td>-0.751243</td>\n",
       "      <td>-0.483494</td>\n",
       "    </tr>\n",
       "  </tbody>\n",
       "</table>\n",
       "</div>"
      ],
      "text/plain": [
       "   Aqua Production (Millions)  Marine Protected Area (sqkm)  \\\n",
       "0                    0.679748                     -0.216403   \n",
       "1                   -0.369917                     -0.279476   \n",
       "2                   -0.301377                     -0.200619   \n",
       "3                   -0.345421                     -0.000724   \n",
       "4                   -0.288119                     -0.249281   \n",
       "\n",
       "   Inventions (number)  Instruments (number)  Fishing Exports (Millions)  \\\n",
       "0            -0.255849              0.128004                   -0.179730   \n",
       "1            -0.331231             -1.113538                   -0.548519   \n",
       "2            -0.182663              0.872929                    0.563609   \n",
       "3            -0.326903             -0.120304                    0.168121   \n",
       "4            -0.333362             -1.113538                   -0.674262   \n",
       "\n",
       "      Value   Country  \n",
       "0 -0.246968 -0.805823  \n",
       "1 -0.751243 -0.725241  \n",
       "2 -0.503371 -0.644658  \n",
       "3  0.151617 -0.564076  \n",
       "4 -0.751243 -0.483494  "
      ]
     },
     "execution_count": 569,
     "metadata": {},
     "output_type": "execute_result"
    }
   ],
   "source": [
    "#| code-fold: true\n",
    "features_to_standardize = ['Aqua Production (Millions)', 'Marine Protected Area (sqkm)', 'Inventions (number)', 'Instruments (number)', 'Fishing Exports (Millions)', 'Value', 'Country']\n",
    "data_subset = data[features_to_standardize]\n",
    "scaler = StandardScaler()\n",
    "data_standardized = scaler.fit_transform(data_subset)\n",
    "data_standardized = pd.DataFrame(data_standardized, columns=features_to_standardize)\n",
    "data_standardized.head(5)"
   ]
  },
  {
   "cell_type": "markdown",
   "metadata": {},
   "source": [
    "### Performing K-Means Clustering\n",
    "\n",
    "Below I will preform my intial round of k-means clustering. I have chosen to use 7 clusters. I will later on implement code to help me achieve the optimal number of clusters. I have implemented k-means on my dimensionality reduced data (PCA).\n",
    "\n",
    "I have provided comments in my code to help readers understand what is being completed. "
   ]
  },
  {
   "cell_type": "code",
   "execution_count": 570,
   "metadata": {},
   "outputs": [
    {
     "name": "stderr",
     "output_type": "stream",
     "text": [
      "/Users/kendallgilbert/anaconda3/lib/python3.11/site-packages/sklearn/cluster/_kmeans.py:1412: FutureWarning:\n",
      "\n",
      "The default value of `n_init` will change from 10 to 'auto' in 1.4. Set the value of `n_init` explicitly to suppress the warning\n",
      "\n"
     ]
    },
    {
     "data": {
      "text/plain": [
       "Text(0, 0.5, 'Principal Component 2')"
      ]
     },
     "execution_count": 570,
     "metadata": {},
     "output_type": "execute_result"
    },
    {
     "data": {
      "image/png": "[encoded data removed]",
      "text/plain": [
       "<Figure size 640x480 with 1 Axes>"
      ]
     },
     "metadata": {},
     "output_type": "display_data"
    }
   ],
   "source": [
    "#| code-fold: true\n",
    "from sklearn.decomposition import PCA\n",
    "pca = PCA(n_components=2)\n",
    "reduced_data = pca.fit_transform(data_standardized)\n",
    "data_standardized['PCA1'] = reduced_data[:, 0]\n",
    "data_standardized['PCA2'] = reduced_data[:, 1]\n",
    "\n",
    "# Performing K-means!!\n",
    "kmeans_pca = KMeans(n_clusters=7, random_state=42)\n",
    "kmeans_pca.fit(reduced_data)\n",
    "data_standardized['cluster_number_pca'] = kmeans_pca.labels_\n",
    "\n",
    "# Plot\n",
    "plt.scatter(data_standardized['PCA1'], data_standardized['PCA2'], c=data_standardized['cluster_number_pca'], cmap='viridis', marker='o', s=50)\n",
    "plt.title('K-means Clustering in PCA Space')\n",
    "plt.xlabel('Principal Component 1')\n",
    "plt.ylabel('Principal Component 2')"
   ]
  },
  {
   "cell_type": "markdown",
   "metadata": {},
   "source": [
    "Within the plot above, you can see that the dimensionality reduced data has beed placed into seven different clusters. This plot is not very informative because we do not actually know what country each plot is. Because of this I have utilized plotly to make an interactive plot. "
   ]
  },
  {
   "cell_type": "markdown",
   "metadata": {},
   "source": [
    "**K-Means with 7 Clusters and an Interactive Plot**\n",
    "\n",
    "To see if dots are from the same country you can use your cursor to see each more info on each plot. \n",
    "\n",
    "*Unfortunately I have not been able how to transform the standardized and encoded Country labels back to text** TBD"
   ]
  },
  {
   "cell_type": "code",
   "execution_count": 446,
   "metadata": {},
   "outputs": [
    {
     "data": {
      "text/html": [
       "        <script type=\"text/javascript\">\n",
       "        window.PlotlyConfig = {MathJaxConfig: 'local'};\n",
       "        if (window.MathJax && window.MathJax.Hub && window.MathJax.Hub.Config) {window.MathJax.Hub.Config({SVG: {font: \"STIX-Web\"}});}\n",
       "        if (typeof require !== 'undefined') {\n",
       "        require.undef(\"plotly\");\n",
       "        requirejs.config({\n",
       "            paths: {\n",
       "                'plotly': ['https://cdn.plot.ly/plotly-2.12.1.min']\n",
       "            }\n",
       "        });\n",
       "        require(['plotly'], function(Plotly) {\n",
       "            window._Plotly = Plotly;\n",
       "        });\n",
       "        }\n",
       "        </script>\n",
       "        "
      ]
     },
     "metadata": {},
     "output_type": "display_data"
    },
    {
     "data": {
      "application/vnd.plotly.v1+json": {
       "config": {
        "plotlyServerURL": "https://plot.ly"
       },
       "data": [
        {
         "customdata": [
          [
           "-0.806"
          ],
          [
           "-0.725"
          ],
          [
           "-0.645"
          ],
          [
           "-0.564"
          ],
          [
           "-0.483"
          ],
          [
           "-0.403"
          ],
          [
           "-0.322"
          ],
          [
           "-0.242"
          ],
          [
           "-0.161"
          ],
          [
           "-0.081"
          ],
          [
           "0.000"
          ],
          [
           "0.081"
          ],
          [
           "0.161"
          ],
          [
           "0.242"
          ],
          [
           "0.322"
          ],
          [
           "0.403"
          ],
          [
           "0.483"
          ],
          [
           "0.564"
          ],
          [
           "0.645"
          ],
          [
           "0.725"
          ],
          [
           "0.806"
          ],
          [
           "0.886"
          ],
          [
           "0.967"
          ],
          [
           "1.048"
          ],
          [
           "1.128"
          ],
          [
           "1.209"
          ],
          [
           "1.289"
          ],
          [
           "1.370"
          ],
          [
           "1.450"
          ],
          [
           "1.531"
          ],
          [
           "1.612"
          ],
          [
           "1.692"
          ],
          [
           "-1.692"
          ],
          [
           "-1.612"
          ],
          [
           "-1.531"
          ],
          [
           "-1.450"
          ],
          [
           "-1.370"
          ],
          [
           "-1.289"
          ],
          [
           "-1.209"
          ],
          [
           "-1.128"
          ],
          [
           "-1.048"
          ],
          [
           "-0.967"
          ],
          [
           "-0.886"
          ],
          [
           "-0.806"
          ],
          [
           "-0.725"
          ],
          [
           "-0.645"
          ],
          [
           "-0.564"
          ],
          [
           "-0.483"
          ],
          [
           "-0.403"
          ],
          [
           "-0.322"
          ],
          [
           "-0.242"
          ],
          [
           "-0.161"
          ],
          [
           "-0.081"
          ],
          [
           "0.000"
          ],
          [
           "0.081"
          ],
          [
           "0.161"
          ],
          [
           "0.242"
          ],
          [
           "0.322"
          ],
          [
           "0.403"
          ],
          [
           "0.483"
          ],
          [
           "0.564"
          ],
          [
           "0.645"
          ],
          [
           "0.725"
          ],
          [
           "0.806"
          ],
          [
           "0.886"
          ],
          [
           "0.967"
          ],
          [
           "1.048"
          ],
          [
           "1.128"
          ],
          [
           "1.209"
          ],
          [
           "1.289"
          ],
          [
           "1.370"
          ],
          [
           "1.450"
          ],
          [
           "1.531"
          ],
          [
           "1.612"
          ],
          [
           "1.692"
          ],
          [
           "-1.692"
          ],
          [
           "-1.612"
          ],
          [
           "-1.531"
          ],
          [
           "-1.450"
          ],
          [
           "-1.370"
          ],
          [
           "-1.289"
          ],
          [
           "-1.209"
          ],
          [
           "-1.128"
          ],
          [
           "-1.048"
          ],
          [
           "-0.967"
          ],
          [
           "-0.886"
          ],
          [
           "-0.806"
          ],
          [
           "-0.725"
          ],
          [
           "-0.645"
          ],
          [
           "-0.564"
          ],
          [
           "-0.483"
          ],
          [
           "-0.403"
          ],
          [
           "-0.322"
          ],
          [
           "-0.242"
          ],
          [
           "-0.161"
          ],
          [
           "-0.081"
          ],
          [
           "0.000"
          ],
          [
           "0.081"
          ],
          [
           "0.161"
          ],
          [
           "0.242"
          ],
          [
           "0.322"
          ],
          [
           "0.403"
          ],
          [
           "0.483"
          ],
          [
           "0.564"
          ],
          [
           "0.645"
          ],
          [
           "0.725"
          ],
          [
           "0.806"
          ],
          [
           "0.886"
          ],
          [
           "0.967"
          ],
          [
           "1.048"
          ],
          [
           "1.128"
          ],
          [
           "1.209"
          ],
          [
           "1.289"
          ],
          [
           "1.370"
          ],
          [
           "1.450"
          ],
          [
           "1.531"
          ],
          [
           "1.612"
          ],
          [
           "1.692"
          ],
          [
           "-1.692"
          ],
          [
           "-1.612"
          ],
          [
           "-1.531"
          ],
          [
           "-1.450"
          ],
          [
           "-1.370"
          ],
          [
           "-1.289"
          ],
          [
           "-1.209"
          ],
          [
           "-1.128"
          ],
          [
           "-1.048"
          ],
          [
           "-0.967"
          ],
          [
           "-0.886"
          ],
          [
           "-0.806"
          ],
          [
           "-0.725"
          ],
          [
           "-0.645"
          ],
          [
           "-0.564"
          ],
          [
           "-0.483"
          ],
          [
           "-0.403"
          ],
          [
           "-0.322"
          ],
          [
           "-0.242"
          ],
          [
           "-0.161"
          ],
          [
           "-0.081"
          ],
          [
           "0.000"
          ],
          [
           "0.081"
          ],
          [
           "0.161"
          ],
          [
           "0.242"
          ],
          [
           "0.322"
          ],
          [
           "0.403"
          ],
          [
           "0.483"
          ],
          [
           "0.564"
          ],
          [
           "0.645"
          ],
          [
           "0.725"
          ],
          [
           "0.806"
          ],
          [
           "0.886"
          ],
          [
           "0.967"
          ],
          [
           "1.048"
          ],
          [
           "1.128"
          ],
          [
           "1.209"
          ],
          [
           "1.289"
          ],
          [
           "1.370"
          ],
          [
           "1.450"
          ],
          [
           "1.531"
          ],
          [
           "1.612"
          ],
          [
           "1.692"
          ],
          [
           "-1.692"
          ],
          [
           "-1.612"
          ],
          [
           "-1.531"
          ],
          [
           "-1.450"
          ],
          [
           "-1.370"
          ],
          [
           "-1.289"
          ],
          [
           "-1.209"
          ],
          [
           "-1.128"
          ],
          [
           "-1.048"
          ],
          [
           "-0.967"
          ],
          [
           "-0.886"
          ],
          [
           "-0.806"
          ],
          [
           "-0.725"
          ],
          [
           "-0.645"
          ],
          [
           "-0.564"
          ],
          [
           "-0.483"
          ],
          [
           "-0.403"
          ],
          [
           "-0.322"
          ],
          [
           "-0.242"
          ],
          [
           "-0.161"
          ],
          [
           "-0.081"
          ],
          [
           "0.000"
          ],
          [
           "0.081"
          ],
          [
           "0.161"
          ],
          [
           "0.242"
          ],
          [
           "0.322"
          ],
          [
           "0.403"
          ],
          [
           "0.483"
          ],
          [
           "0.564"
          ],
          [
           "0.645"
          ],
          [
           "0.725"
          ],
          [
           "0.806"
          ],
          [
           "0.886"
          ],
          [
           "0.967"
          ],
          [
           "1.048"
          ],
          [
           "1.128"
          ],
          [
           "1.209"
          ],
          [
           "1.289"
          ],
          [
           "1.370"
          ],
          [
           "1.450"
          ],
          [
           "1.531"
          ],
          [
           "1.612"
          ],
          [
           "1.692"
          ],
          [
           "-1.692"
          ],
          [
           "-1.612"
          ],
          [
           "-1.531"
          ],
          [
           "-1.450"
          ],
          [
           "-1.370"
          ],
          [
           "-1.289"
          ],
          [
           "-1.209"
          ],
          [
           "-1.128"
          ],
          [
           "-1.048"
          ],
          [
           "-0.967"
          ],
          [
           "-0.886"
          ],
          [
           "-0.806"
          ],
          [
           "-0.725"
          ],
          [
           "-0.645"
          ],
          [
           "-0.564"
          ],
          [
           "-0.483"
          ],
          [
           "-0.403"
          ],
          [
           "-0.322"
          ],
          [
           "-0.242"
          ],
          [
           "-0.161"
          ],
          [
           "-0.081"
          ],
          [
           "0.000"
          ],
          [
           "0.081"
          ],
          [
           "0.161"
          ],
          [
           "0.242"
          ],
          [
           "0.322"
          ],
          [
           "0.403"
          ],
          [
           "0.483"
          ],
          [
           "0.564"
          ],
          [
           "0.645"
          ],
          [
           "0.725"
          ],
          [
           "0.806"
          ],
          [
           "0.886"
          ],
          [
           "0.967"
          ],
          [
           "1.048"
          ],
          [
           "1.128"
          ],
          [
           "1.209"
          ],
          [
           "1.289"
          ],
          [
           "1.370"
          ],
          [
           "1.450"
          ],
          [
           "1.531"
          ],
          [
           "1.612"
          ],
          [
           "1.692"
          ],
          [
           "-1.692"
          ],
          [
           "-1.612"
          ],
          [
           "-1.531"
          ],
          [
           "-1.450"
          ],
          [
           "-1.370"
          ],
          [
           "-1.289"
          ],
          [
           "-1.209"
          ],
          [
           "-1.128"
          ],
          [
           "-1.048"
          ],
          [
           "-0.967"
          ],
          [
           "-0.886"
          ],
          [
           "-0.806"
          ],
          [
           "-0.725"
          ],
          [
           "-0.645"
          ],
          [
           "-0.564"
          ],
          [
           "-0.483"
          ],
          [
           "-0.403"
          ],
          [
           "-0.322"
          ],
          [
           "-0.242"
          ],
          [
           "-0.161"
          ],
          [
           "-0.081"
          ],
          [
           "0.000"
          ],
          [
           "0.081"
          ],
          [
           "0.161"
          ],
          [
           "0.242"
          ],
          [
           "0.322"
          ],
          [
           "0.403"
          ],
          [
           "0.483"
          ],
          [
           "0.564"
          ],
          [
           "0.645"
          ],
          [
           "0.725"
          ],
          [
           "0.806"
          ],
          [
           "0.886"
          ],
          [
           "0.967"
          ],
          [
           "1.048"
          ],
          [
           "1.128"
          ],
          [
           "1.209"
          ],
          [
           "1.289"
          ],
          [
           "1.370"
          ],
          [
           "1.450"
          ],
          [
           "1.531"
          ],
          [
           "1.612"
          ],
          [
           "1.692"
          ],
          [
           "-1.692"
          ],
          [
           "-1.612"
          ],
          [
           "-1.531"
          ],
          [
           "-1.450"
          ],
          [
           "-1.370"
          ],
          [
           "-1.289"
          ],
          [
           "-1.209"
          ],
          [
           "-1.128"
          ],
          [
           "-1.048"
          ],
          [
           "-0.967"
          ],
          [
           "-0.886"
          ],
          [
           "-0.806"
          ],
          [
           "-0.725"
          ],
          [
           "-0.645"
          ],
          [
           "-0.564"
          ],
          [
           "-0.483"
          ],
          [
           "-0.403"
          ],
          [
           "-0.322"
          ],
          [
           "-0.242"
          ],
          [
           "-0.161"
          ],
          [
           "-0.081"
          ],
          [
           "0.000"
          ],
          [
           "0.081"
          ],
          [
           "0.161"
          ],
          [
           "0.242"
          ],
          [
           "0.322"
          ],
          [
           "0.403"
          ],
          [
           "0.483"
          ],
          [
           "0.564"
          ],
          [
           "0.645"
          ],
          [
           "0.725"
          ],
          [
           "0.806"
          ],
          [
           "0.886"
          ],
          [
           "0.967"
          ],
          [
           "1.048"
          ],
          [
           "1.128"
          ],
          [
           "1.209"
          ],
          [
           "1.289"
          ],
          [
           "1.370"
          ],
          [
           "1.450"
          ],
          [
           "1.531"
          ],
          [
           "1.612"
          ],
          [
           "1.692"
          ],
          [
           "-1.692"
          ],
          [
           "-1.612"
          ],
          [
           "-1.531"
          ],
          [
           "-1.450"
          ],
          [
           "-1.370"
          ],
          [
           "-1.289"
          ],
          [
           "-1.209"
          ],
          [
           "-1.128"
          ],
          [
           "-1.048"
          ],
          [
           "-0.967"
          ],
          [
           "-0.886"
          ],
          [
           "-0.806"
          ],
          [
           "-0.725"
          ],
          [
           "-0.645"
          ],
          [
           "-0.564"
          ],
          [
           "-0.483"
          ],
          [
           "-0.403"
          ],
          [
           "-0.322"
          ],
          [
           "-0.242"
          ],
          [
           "-0.161"
          ],
          [
           "-0.081"
          ],
          [
           "0.000"
          ],
          [
           "0.081"
          ],
          [
           "0.161"
          ],
          [
           "0.242"
          ],
          [
           "0.322"
          ],
          [
           "0.403"
          ],
          [
           "0.483"
          ],
          [
           "0.564"
          ],
          [
           "0.645"
          ],
          [
           "0.725"
          ],
          [
           "0.806"
          ],
          [
           "0.886"
          ],
          [
           "0.967"
          ],
          [
           "1.048"
          ],
          [
           "1.128"
          ],
          [
           "1.209"
          ],
          [
           "1.289"
          ],
          [
           "1.370"
          ],
          [
           "1.450"
          ],
          [
           "1.531"
          ],
          [
           "1.612"
          ],
          [
           "1.692"
          ],
          [
           "-1.692"
          ],
          [
           "-1.612"
          ],
          [
           "-1.531"
          ],
          [
           "-1.450"
          ],
          [
           "-1.370"
          ],
          [
           "-1.289"
          ],
          [
           "-1.209"
          ],
          [
           "-1.128"
          ],
          [
           "-1.048"
          ],
          [
           "-0.967"
          ],
          [
           "-0.886"
          ],
          [
           "-0.806"
          ],
          [
           "-0.725"
          ],
          [
           "-0.645"
          ],
          [
           "-0.564"
          ],
          [
           "-0.483"
          ],
          [
           "-0.403"
          ],
          [
           "-0.322"
          ],
          [
           "-0.242"
          ],
          [
           "-0.161"
          ],
          [
           "-0.081"
          ],
          [
           "0.000"
          ],
          [
           "0.081"
          ],
          [
           "0.161"
          ],
          [
           "0.242"
          ],
          [
           "0.322"
          ],
          [
           "0.403"
          ],
          [
           "0.483"
          ],
          [
           "0.564"
          ],
          [
           "0.645"
          ],
          [
           "0.725"
          ],
          [
           "0.806"
          ],
          [
           "0.886"
          ],
          [
           "0.967"
          ],
          [
           "1.048"
          ],
          [
           "1.128"
          ],
          [
           "1.209"
          ],
          [
           "1.289"
          ],
          [
           "1.370"
          ],
          [
           "1.450"
          ],
          [
           "1.531"
          ],
          [
           "1.612"
          ],
          [
           "1.692"
          ],
          [
           "-1.692"
          ],
          [
           "-1.612"
          ],
          [
           "-1.531"
          ],
          [
           "-1.450"
          ],
          [
           "-1.370"
          ],
          [
           "-1.289"
          ],
          [
           "-1.209"
          ],
          [
           "-1.128"
          ],
          [
           "-1.048"
          ],
          [
           "-0.967"
          ],
          [
           "-0.886"
          ],
          [
           "-0.806"
          ],
          [
           "-0.725"
          ],
          [
           "-0.645"
          ],
          [
           "-0.564"
          ],
          [
           "-0.483"
          ],
          [
           "-0.403"
          ],
          [
           "-0.322"
          ],
          [
           "-0.242"
          ],
          [
           "-0.161"
          ],
          [
           "-0.081"
          ],
          [
           "0.000"
          ],
          [
           "0.081"
          ],
          [
           "0.161"
          ],
          [
           "0.242"
          ],
          [
           "0.322"
          ],
          [
           "0.403"
          ],
          [
           "0.483"
          ],
          [
           "0.564"
          ],
          [
           "0.645"
          ],
          [
           "0.725"
          ],
          [
           "0.806"
          ],
          [
           "0.886"
          ],
          [
           "0.967"
          ],
          [
           "1.048"
          ],
          [
           "1.128"
          ],
          [
           "1.209"
          ],
          [
           "1.289"
          ],
          [
           "1.370"
          ],
          [
           "1.450"
          ],
          [
           "1.531"
          ],
          [
           "1.612"
          ],
          [
           "1.692"
          ],
          [
           "-1.692"
          ],
          [
           "-1.612"
          ],
          [
           "-1.531"
          ],
          [
           "-1.450"
          ],
          [
           "-1.370"
          ],
          [
           "-1.289"
          ],
          [
           "-1.209"
          ],
          [
           "-1.128"
          ],
          [
           "-1.048"
          ],
          [
           "-0.967"
          ],
          [
           "-0.886"
          ],
          [
           "-0.806"
          ],
          [
           "-0.725"
          ],
          [
           "-0.645"
          ],
          [
           "-0.564"
          ],
          [
           "-0.483"
          ],
          [
           "-0.403"
          ],
          [
           "-0.322"
          ],
          [
           "-0.242"
          ],
          [
           "-0.161"
          ],
          [
           "-0.081"
          ],
          [
           "0.000"
          ],
          [
           "0.081"
          ],
          [
           "0.161"
          ],
          [
           "0.242"
          ],
          [
           "0.322"
          ],
          [
           "0.403"
          ],
          [
           "0.483"
          ],
          [
           "0.564"
          ],
          [
           "0.645"
          ],
          [
           "0.725"
          ],
          [
           "0.806"
          ],
          [
           "0.886"
          ],
          [
           "0.967"
          ],
          [
           "1.048"
          ],
          [
           "1.128"
          ],
          [
           "1.209"
          ],
          [
           "1.289"
          ],
          [
           "1.370"
          ],
          [
           "1.450"
          ],
          [
           "1.531"
          ],
          [
           "1.612"
          ],
          [
           "1.692"
          ],
          [
           "-1.692"
          ],
          [
           "-1.612"
          ],
          [
           "-1.531"
          ],
          [
           "-1.450"
          ],
          [
           "-1.370"
          ],
          [
           "-1.289"
          ],
          [
           "-1.209"
          ],
          [
           "-1.128"
          ],
          [
           "-1.048"
          ],
          [
           "-0.967"
          ],
          [
           "-0.886"
          ]
         ],
         "hovertemplate": "Principal Component 1=%{x}<br>Principal Component 2=%{y}<br>Country=%{customdata[0]}<br>Cluster Number=%{marker.color}<extra></extra>",
         "legendgroup": "",
         "marker": {
          "color": [
           6,
           5,
           6,
           6,
           2,
           5,
           5,
           2,
           0,
           0,
           5,
           2,
           0,
           2,
           0,
           2,
           5,
           5,
           2,
           2,
           2,
           2,
           2,
           5,
           2,
           2,
           2,
           2,
           2,
           2,
           2,
           0,
           6,
           5,
           4,
           5,
           4,
           4,
           5,
           4,
           5,
           1,
           4,
           0,
           5,
           6,
           4,
           2,
           5,
           6,
           0,
           0,
           0,
           5,
           2,
           0,
           2,
           0,
           2,
           5,
           5,
           2,
           2,
           2,
           2,
           2,
           5,
           2,
           2,
           2,
           2,
           2,
           2,
           2,
           0,
           6,
           5,
           3,
           5,
           1,
           4,
           5,
           4,
           5,
           1,
           1,
           0,
           5,
           6,
           6,
           2,
           5,
           6,
           0,
           0,
           0,
           5,
           2,
           0,
           2,
           0,
           2,
           5,
           5,
           2,
           2,
           2,
           0,
           2,
           4,
           2,
           2,
           2,
           2,
           2,
           2,
           2,
           5,
           6,
           5,
           3,
           5,
           1,
           4,
           6,
           4,
           5,
           1,
           1,
           0,
           5,
           6,
           4,
           2,
           5,
           6,
           0,
           0,
           0,
           5,
           2,
           0,
           2,
           0,
           2,
           5,
           0,
           2,
           2,
           2,
           0,
           2,
           4,
           2,
           2,
           2,
           2,
           2,
           2,
           2,
           0,
           6,
           5,
           3,
           5,
           1,
           4,
           6,
           4,
           5,
           1,
           1,
           0,
           5,
           6,
           4,
           2,
           5,
           6,
           0,
           0,
           0,
           5,
           2,
           0,
           2,
           0,
           2,
           5,
           0,
           2,
           2,
           2,
           0,
           2,
           4,
           2,
           2,
           2,
           2,
           2,
           2,
           2,
           0,
           6,
           5,
           3,
           5,
           1,
           4,
           6,
           4,
           5,
           1,
           1,
           0,
           5,
           6,
           4,
           2,
           5,
           6,
           0,
           0,
           0,
           5,
           2,
           0,
           2,
           0,
           2,
           5,
           0,
           2,
           2,
           2,
           0,
           2,
           4,
           2,
           2,
           2,
           0,
           2,
           2,
           2,
           0,
           6,
           5,
           3,
           4,
           1,
           4,
           6,
           4,
           5,
           1,
           1,
           0,
           5,
           6,
           4,
           2,
           5,
           6,
           0,
           0,
           0,
           5,
           2,
           0,
           2,
           0,
           2,
           5,
           0,
           2,
           2,
           2,
           5,
           2,
           4,
           2,
           2,
           2,
           2,
           2,
           2,
           2,
           0,
           6,
           0,
           3,
           4,
           1,
           4,
           6,
           4,
           5,
           1,
           1,
           0,
           5,
           6,
           4,
           2,
           5,
           6,
           0,
           0,
           0,
           5,
           2,
           0,
           2,
           0,
           2,
           5,
           0,
           2,
           2,
           2,
           5,
           2,
           4,
           2,
           2,
           2,
           2,
           2,
           2,
           2,
           0,
           6,
           0,
           3,
           4,
           1,
           4,
           6,
           4,
           5,
           1,
           1,
           0,
           5,
           6,
           4,
           2,
           5,
           6,
           0,
           5,
           0,
           5,
           2,
           0,
           2,
           0,
           2,
           5,
           0,
           2,
           2,
           2,
           5,
           2,
           4,
           2,
           2,
           2,
           2,
           5,
           2,
           2,
           0,
           6,
           0,
           3,
           4,
           1,
           4,
           6,
           4,
           5,
           1,
           1,
           0,
           5,
           6,
           4,
           2,
           5,
           6,
           0,
           0,
           0,
           5,
           2,
           0,
           2,
           0,
           2,
           5,
           5,
           2,
           2,
           2,
           0,
           2,
           4,
           2,
           2,
           2,
           5,
           2,
           2,
           2,
           0,
           6,
           0,
           3,
           4,
           1,
           4,
           6,
           4,
           5,
           1,
           1,
           0,
           5,
           6,
           4,
           2,
           5,
           6,
           0,
           0,
           0,
           5,
           2,
           0,
           2,
           0,
           2,
           5,
           5,
           2,
           2,
           2,
           0,
           2,
           4,
           2,
           2,
           2,
           5,
           5,
           2,
           2,
           0,
           6,
           0,
           3,
           4,
           1,
           4,
           6,
           4,
           4,
           1,
           1,
           0,
           5,
           6,
           4,
           2,
           5,
           6,
           0,
           0,
           0,
           5,
           2,
           0,
           2,
           0,
           2,
           5,
           5,
           2,
           2,
           2,
           6,
           2,
           4,
           2,
           2,
           2,
           5,
           5,
           2,
           2,
           0,
           6,
           0,
           3,
           4,
           1,
           4,
           6,
           4,
           4,
           1,
           1
          ],
          "coloraxis": "coloraxis",
          "symbol": "circle"
         },
         "mode": "markers",
         "name": "",
         "orientation": "v",
         "showlegend": false,
         "type": "scatter",
         "x": [
          -0.36773856291610335,
          -0.9896706761856496,
          0.47922303057398435,
          0.3238066223133159,
          -1.1806991217093896,
          0.46004622396063727,
          0.13723504576211182,
          -1.0558820375828106,
          -1.1009383318404595,
          -0.9932370842416569,
          -1.0220361966592575,
          -1.3084529225043158,
          -0.8530412091648093,
          -1.1031857202396913,
          -1.1564322956402622,
          -1.4826626419958655,
          -1.4110313585614422,
          -1.2191544752140744,
          -1.845489457665155,
          -1.5622198362330533,
          -1.4732666816337232,
          -1.0983322957455128,
          -1.3459401864890579,
          0.30442416633021324,
          -2.0809424828135823,
          -1.6304030408709265,
          -2.498921099498451,
          -1.0555399550019553,
          -1.8365902472425195,
          -2.3055434440546625,
          -1.1468216657664263,
          -1.065134256472752,
          -0.0769784509263415,
          -0.4800164234346195,
          5.7485643428411874,
          0.23240825283032457,
          2.6129576211423164,
          1.020009177729575,
          -0.29402500455270975,
          0.9099753315324491,
          0.33789905378901713,
          5.262113541771906,
          2.309988196299662,
          -0.6882437967343188,
          -0.9039662261973123,
          0.3283137434390541,
          1.5857826620712647,
          -1.2203823378468648,
          0.23121167727084915,
          -0.1241032044123481,
          -1.2180312862824763,
          -1.0320672880709778,
          -0.7613613376292232,
          -1.069155385791536,
          -1.3087763703971858,
          -0.9313697572795917,
          -1.3294083363367117,
          -1.27250986331025,
          -1.3917625438727712,
          -1.3043031495719826,
          -1.179793307065958,
          -1.667305844084502,
          -1.5854051835325316,
          -1.546723076999218,
          -0.7590868518476284,
          -1.5234510626156363,
          0.11383085847408746,
          -2.0243536680657153,
          -1.7265615243423402,
          -2.316531429235353,
          -1.1018681365076362,
          -1.7707625774704254,
          -2.257668140378217,
          -1.303375712049502,
          -0.6332381635142708,
          0.05234178496696631,
          -0.4117814634224591,
          8.100560415783452,
          0.11868716365990412,
          3.9139790941618617,
          1.0442838717427272,
          -0.14550292993800504,
          1.620014691004022,
          -0.22709804975111794,
          4.735338555262392,
          3.879182165369377,
          -0.7759647500298061,
          -0.9013484892957191,
          0.19215716241256028,
          0.5833446588841016,
          -1.2704784799684707,
          0.04269389348967057,
          -0.3102609512782529,
          -1.2312371970321823,
          -1.0178206729840649,
          -0.8056481469389006,
          -0.8730482418743571,
          -1.2607558356013928,
          -0.8509390454091441,
          -1.2227902600379092,
          -1.3418703334510846,
          -1.446292628170129,
          -1.1820461233919066,
          -0.9105044389566902,
          -1.5694473232328288,
          -1.548870769762681,
          -1.5505952948603274,
          -1.147494046568578,
          -1.8424848402453589,
          1.477320728669627,
          -1.8750805060898579,
          -1.8859495789115224,
          -2.2116538046750707,
          -1.064426019095726,
          -1.1955570326650125,
          -2.2454883221491886,
          -1.2063971145756178,
          -0.6925173159835051,
          0.31659413729849845,
          -0.5412887781932997,
          9.587902025063274,
          0.18352204978771705,
          3.990502965172898,
          1.3361129363494237,
          0.2273422178433653,
          1.7037467618962265,
          -0.3470508120172724,
          4.906644722750248,
          3.7238408091956186,
          -0.7954615575253313,
          -0.879781747209273,
          0.19547927306972113,
          1.5859094386093637,
          -1.2725698946304527,
          0.04849303511715052,
          -0.29193485186299023,
          -1.2281390020836718,
          -1.025474363366412,
          -0.816358878793226,
          -0.7962050174125594,
          -1.2388197092325655,
          -0.783033619258824,
          -1.2490316413435458,
          -1.3545777745818162,
          -1.427332126565199,
          -1.2591356340343198,
          -0.8043879246499979,
          -1.5873631592522957,
          -1.5417098331847578,
          -1.4657769775200273,
          -1.077782808670411,
          -1.8585193348839426,
          1.2557716740808045,
          -1.8419321830674396,
          -1.8521065031389736,
          -2.2110796623123927,
          -0.7959941390841098,
          -1.216299082350215,
          -2.2152340806361726,
          -1.005205498285448,
          -0.7011649794125759,
          0.2796776846383184,
          -0.5450730688950151,
          10.50501230624705,
          0.5051289312725286,
          3.9295465605187427,
          1.4554543916196763,
          0.3310268216357346,
          1.6201887427526953,
          -0.37296934159309,
          5.079637059038961,
          3.942309928605946,
          -0.916836171509556,
          -0.9215995719920324,
          0.2043240713746024,
          1.5076022648145797,
          -1.272771578880013,
          0.06313907617293285,
          -0.324279138200538,
          -1.20271570647811,
          -1.0193667954529009,
          -0.7831606877024517,
          -0.7860624248334848,
          -1.2424317291534652,
          -0.7559359972914115,
          -1.0515628174186884,
          -1.353152499399068,
          -1.4548191849425811,
          -1.2355244647237504,
          -0.9747788656040759,
          -1.5663275097539318,
          -1.543525493540423,
          -1.4810773457204924,
          -1.048949279127694,
          -1.9932104911447128,
          1.1418420161924725,
          -1.8214486470936957,
          -1.8466554069187389,
          -2.0813482516809243,
          -0.7952035171708554,
          -1.18066292626172,
          -2.1980345296505646,
          -0.9879219619656137,
          -0.8633813115490717,
          0.17558119846224085,
          -0.545161562851794,
          11.247557275041792,
          0.5478010372585218,
          4.063086644022569,
          1.377834139016011,
          0.2980589400042661,
          1.6610374899453202,
          -0.40222180511195166,
          5.077159079373207,
          3.9679695333395695,
          -0.8935742246533231,
          -0.9271923885574378,
          0.2591230286816666,
          1.8631581769363963,
          -1.2759502526292812,
          0.05186102779837024,
          -0.22609066689415552,
          -1.2191280416333539,
          -1.0213661476933436,
          -0.7876346250060532,
          -0.7773919219607016,
          -1.2563917591046123,
          -0.7387765582548096,
          -1.079854517496489,
          -1.3528952448704652,
          -1.4369378292496846,
          -1.119711369281272,
          -0.9165840018212568,
          -1.5601990806994823,
          -1.5378004462777033,
          -1.4940005600298023,
          -1.0611491120116128,
          -2.0204806865066764,
          1.5903847177312824,
          -1.778512095499852,
          -1.8456765640186383,
          -2.081109313393191,
          -1.2058696197697316,
          -1.1405046576356106,
          -2.1660849814510548,
          -0.9109725892333149,
          -0.8108674538296509,
          0.21829658810429242,
          -0.5511990142030281,
          11.852063762885557,
          1.2697403764352615,
          4.427492485315204,
          1.3577795665703816,
          0.20627845586532562,
          1.7550070915380946,
          -0.347944927398305,
          4.623157430927473,
          4.127801299389176,
          -0.8561660074716726,
          -0.9032635383189512,
          0.34178545706658797,
          2.8727715241285585,
          -1.267993960618231,
          0.048866694587466654,
          -0.21543396091939004,
          -1.2237610987160734,
          -1.0200765057326313,
          -0.8339596580525379,
          -0.7000730944347401,
          -1.2449075783777144,
          -0.8409818240073551,
          -1.062924087454236,
          -1.3634876607809716,
          -1.4258460674274598,
          -1.0752978787467935,
          -0.9745526571125097,
          -1.5963364855744966,
          -1.5127660284431816,
          -1.467181485419422,
          -0.6603310548666028,
          -1.9994962128337437,
          1.9135302489330404,
          -1.7222011585878645,
          -1.8189705905123301,
          -2.0742425537718394,
          -0.823809825196781,
          -1.0298938965703441,
          -2.130766701557085,
          -0.8677181459114394,
          -0.8052380114764315,
          0.2771326607479978,
          -0.565930736135291,
          12.622500086890748,
          1.629740561266097,
          4.596739471142609,
          1.4195805148990006,
          0.25918840755963884,
          1.717010607429824,
          0.05954833071065987,
          4.554626048059358,
          4.562144999234703,
          -0.7859348064501102,
          -0.8881495472953557,
          0.6013731872812886,
          2.6176606199435386,
          -1.2651583073615753,
          0.044456962827336674,
          -0.027826948544762344,
          -1.2287304266917032,
          -0.8281337233248469,
          -0.7972089812935831,
          -0.6978854276519162,
          -1.2320375611267067,
          -0.826453930690188,
          -1.0613117255213733,
          -1.3675871826429613,
          -1.409401908653399,
          -0.9587932692266244,
          -0.977505153856823,
          -1.6149337132434551,
          -1.3530315586273691,
          -1.455638146032938,
          -0.5871183590536764,
          -1.9565819444857764,
          2.4135704146658914,
          -1.7097054833619783,
          -1.79387606279891,
          -2.0734442201293626,
          -0.7054985830815784,
          -0.8850936445936033,
          -2.090033635894654,
          -1.0054175633484448,
          -0.8754483511205029,
          0.13699342985421833,
          -0.5445538087906617,
          12.561569569853571,
          1.421822628166202,
          4.400817091174474,
          1.4009906898489934,
          0.13619112011525106,
          1.6458556059651686,
          0.41304603601037565,
          4.4284820682958985,
          4.407440387411288,
          -0.8015252152720812,
          -0.8692710635782838,
          0.7741097406376899,
          2.7311515457493205,
          -1.263531124814612,
          0.03828928049297151,
          0.10257845967519678,
          -1.2419369760791206,
          -0.4221125476319795,
          -0.7574400885657104,
          -0.6444931153063775,
          -1.1979646595323235,
          -0.9039805687032724,
          -1.0651689100348323,
          -1.378778241371391,
          -1.3998323140104396,
          -0.9580258634343384,
          -0.8882533058301021,
          -1.6093886895141538,
          -1.3457306073893969,
          -1.5733539131653715,
          -0.40677740391988887,
          -1.9176805684980773,
          3.2620055819836407,
          -1.6129501103381079,
          -1.8232523024269804,
          -2.0701066891883144,
          -0.5918612641116222,
          -0.7386797422009057,
          -2.0287494089881406,
          -0.8478740196356664,
          -0.9235847903775961,
          0.2801677606534224,
          -0.5447836743949466,
          13.867650937425147,
          1.6357326197876585,
          4.602306245652265,
          1.399113696949258,
          0.09783235768225532,
          1.7501621200552433,
          0.5541623597668368,
          4.524185304666031,
          4.591227797782085,
          -0.7981410493833239,
          -0.8422591588719706,
          0.7731488670811724,
          3.0196713299498996,
          -1.2834334909950218,
          0.04282407695517058,
          0.11293954818823042,
          -1.1120871780957613,
          -0.7875223594320996,
          -0.7467848956656261,
          -0.7035419529461266,
          -1.1889284001103353,
          -0.952551678146915,
          -1.036882864733809,
          -1.390445518016814,
          -1.391547399500404,
          -0.9178231511015725,
          -0.775634991237384,
          -1.6007561136458626,
          -1.3382219084238958,
          -1.547430402591512,
          -0.36392374312841563,
          -1.92983648376456,
          3.208189328267163,
          -1.575135263386343,
          -1.7942339536156675,
          -2.064610504550068,
          -0.5513263982638216,
          -0.776881331496479,
          -1.9686151270208188,
          -0.7939824583488803,
          -0.7529570447197957,
          0.3023681618753331,
          -0.5522966983027944,
          13.919986181854572,
          2.1170246901380754,
          4.832226590057076,
          1.7752707686917581,
          0.2412133260040975,
          1.8246972279713145,
          0.4987579301566449,
          4.477333870537593,
          4.950590645896913,
          -1.5018115187352021,
          -0.8938985000974158,
          0.7580067366219851,
          2.885737448588955,
          -1.2774971078014312,
          0.04360437716873982,
          0.08587625182575842,
          -1.1117617869658223,
          -0.7834126352690531,
          -0.7585377000979824,
          -0.7263157935362348,
          -1.192163058274196,
          -0.874509790763406,
          -1.0515973822847133,
          -1.3997437182980867,
          -1.3806167458188467,
          -0.8582256657892219,
          -0.7358997244887561,
          -1.6002863982797146,
          -1.342914569519879,
          -1.4990733537424075,
          -0.3652638944918259,
          -1.92684552525247,
          3.114066971264444,
          -1.5190089398340945,
          -1.7815488398107908,
          -2.0636822130046713,
          -0.5338793671921662,
          -0.6626852672843508,
          -1.8513418129259516,
          -0.9092466813115361,
          -0.9296438480717354,
          0.39819325952620505,
          -0.8334370141907037,
          13.70385323926484,
          2.0841522017020595,
          5.031970240753321,
          1.7716587643870176,
          0.3830941630616022,
          1.8439070118086254,
          0.8421270981605393,
          4.381300174722079,
          5.175192135789866,
          -1.500844446265933,
          -0.9071795643944,
          0.726772804256651,
          3.0249690993429517,
          -1.2690936149782048,
          0.040163128400184316,
          0.09077140570045854,
          -1.0975094698880377,
          -0.794814707924271,
          -0.7537785824181656,
          -0.7705683856108332,
          -1.1978172590484457,
          -0.8191733569420632,
          -1.0647218050282088,
          -1.3990858214471054,
          -1.3963340419487549,
          -0.9208858326212227,
          -0.6872112878258522,
          -1.5977471710954252,
          -1.3314232067652414,
          -1.5134604982339237,
          -0.3332225633060957,
          -1.8939401728826657,
          3.484706787732199,
          -1.4962718962804618,
          -1.8096225843374578,
          -2.0566872491063073,
          -0.5723585056892174,
          -0.682923985158269,
          -1.7704464516626186,
          -0.8370922342782501,
          -1.0618360991935174,
          0.37610234446757757,
          -0.8135728957516879,
          13.852794321159658,
          2.10807089312778,
          4.9411550706583816,
          1.9132151986708859,
          0.8598708785023355,
          1.8274526301031049,
          0.9091487524646258,
          4.337814737296658,
          5.358691838348342
         ],
         "xaxis": "x",
         "y": [
          2.64439820548488,
          0.09860797489659127,
          2.64966500261499,
          2.403170812487773,
          -0.791827825377744,
          -0.7899300065273003,
          0.147749705938654,
          -1.1664336283341836,
          2.0328826082212834,
          2.5068918222679093,
          0.04162225787857855,
          -1.0620628508613568,
          2.043027924131123,
          -1.384899008733549,
          1.6664087658302595,
          -0.9932722307320382,
          0.3125128123589383,
          0.14559784221155259,
          -1.1589683053260487,
          -1.479634477824327,
          -1.2933266549021878,
          -1.255974234067323,
          -1.3513718726770412,
          0.01220925895405853,
          -1.1939365393214432,
          -1.649498175588668,
          -1.0909309876007214,
          -1.3729339484558407,
          -1.5266169092597104,
          -1.350947336542452,
          -1.7585047907516633,
          2.421690033305943,
          2.529460989143064,
          0.22981092575247403,
          0.17634691211503836,
          0.3054063354725191,
          -0.499507306921084,
          -0.6106227562623637,
          0.2520813025703782,
          -0.380052117382187,
          0.4468684206045782,
          -4.712328499699535,
          -0.5690718765535653,
          2.6724629058901805,
          0.12806718142738518,
          2.675467075661148,
          -1.9705627913910626,
          -0.7838457648197004,
          -0.5629681348257056,
          2.64578102183603,
          2.1781256202697596,
          1.9878419083709635,
          2.3218451208710427,
          0.06698457833857739,
          -1.030546548876399,
          2.0894707610390792,
          -1.187700517550452,
          1.7846999853838785,
          -1.065794081447706,
          0.36631968762049466,
          0.10054336684847973,
          -1.285300694891081,
          -1.3931244626815127,
          -1.26171326879887,
          -1.2774395642162684,
          -1.278634379401276,
          -0.14674199844729782,
          -1.1452522999389865,
          -1.5607084072420756,
          -1.2412742833679806,
          -1.3385264734260562,
          -1.3829229818103603,
          -1.3116824964332177,
          -1.515620102565004,
          2.4915899171588722,
          2.694605637482475,
          0.25316417787857515,
          4.568850633204117,
          0.27825306629867985,
          -5.02408011640066,
          -0.443359147035524,
          0.28634522997010037,
          -0.9969137843803013,
          0.3912427542928288,
          -4.86821340935993,
          -4.224145583489318,
          2.683531875139496,
          0.13379636021316055,
          2.623265714902,
          2.4975976407238045,
          -0.7970897266082411,
          -0.4386510895809468,
          2.7534815601888027,
          2.1943270555407612,
          2.0119896123676875,
          2.4378536554635786,
          0.273437051881462,
          -1.0004730353554903,
          2.205032159165096,
          -1.2491145392225507,
          1.8633565036325732,
          -1.0228389297479825,
          0.49426319795176366,
          1.0791059388635003,
          -1.3690764013185202,
          -1.3836578470261789,
          -1.2397139721476265,
          2.2842570095575687,
          -0.7487084949126055,
          -1.8564318238768096,
          -1.0877388013293947,
          -1.259905171708358,
          -1.332253440660022,
          -1.257537661814847,
          -1.4073528673538442,
          -1.3079303535270292,
          -1.1983846845201727,
          0.9324235192824587,
          2.4489539269577385,
          0.2438685249981288,
          4.744599482394708,
          0.29601921813935045,
          -5.145065437797774,
          -0.6770336678849491,
          2.5018727719337033,
          -0.9695972679471948,
          0.39672482235886886,
          -4.824264029745072,
          -4.2746861688785955,
          2.655994345291939,
          0.128068437183941,
          2.6266707077203915,
          -1.813216256303299,
          -0.7968784290706413,
          -0.43737753919966904,
          2.768233130732891,
          2.1936043545429595,
          2.0021410926751915,
          2.4398830910989364,
          0.19873123271538348,
          -0.9892505674004252,
          2.2202209937461834,
          -1.1964887927170522,
          1.880081518313314,
          -1.0233319495755862,
          0.5098710379354283,
          1.2426981519325402,
          -1.347650046452998,
          -1.3938596872091646,
          -1.2197036589619252,
          2.2375681187058274,
          -0.7484237280898699,
          -1.9292628292196858,
          -1.0855179558807448,
          -1.2609797144922021,
          -1.3321045790340895,
          -1.278173241743321,
          -1.4648723067410048,
          -1.3050396049156299,
          -1.2765694877017115,
          3.508046077489062,
          2.440759201252123,
          0.2403621359204662,
          4.958916962322088,
          0.3760866713846841,
          -5.020985742301109,
          -0.7901081890501938,
          2.5268418389585903,
          -0.8938188358247416,
          0.3979053627023509,
          -4.778382278710407,
          -4.226745958387119,
          2.8517158604947843,
          0.1241850280114398,
          2.6017564178294483,
          -1.830996354671021,
          -0.7969562703658123,
          -0.4341373745439701,
          2.728610873310599,
          2.181593003037299,
          2.005190168866383,
          2.4668827420504886,
          0.1812198839127695,
          -0.9917239403632635,
          2.2270503749092434,
          -1.3273267597999379,
          1.8693851712551057,
          -1.0294139056107434,
          0.5310282076888523,
          1.8518005304350664,
          -1.3500987168949534,
          -1.3928630541069618,
          -1.2094631590705918,
          2.2641648962366894,
          -0.6122290977292005,
          -1.968634904690637,
          -1.069255708974601,
          -1.2549905219663142,
          -1.439803022448874,
          -1.2403791574218683,
          -1.4603695881256473,
          -1.2977859393591977,
          -1.418911770154344,
          3.346295676036496,
          2.4224396925829854,
          0.24111999080765767,
          5.221440675782277,
          0.3925297559771011,
          -4.9849833638617325,
          -0.7366425057615404,
          2.513233021651978,
          -0.8828929600372558,
          0.3901881625131617,
          -4.78017908121585,
          -4.449034452770648,
          2.848715839947938,
          0.12760611836638222,
          2.629631116982488,
          -1.7414661018091748,
          -0.7983492333090397,
          -0.43663462592489793,
          2.747102532214059,
          2.19465808837954,
          2.0346720800858797,
          2.431362430938598,
          0.1587897009445025,
          -0.9934481614793019,
          2.208453344814671,
          -1.317829259491424,
          1.891798925780596,
          -1.0098518818912146,
          0.5723631557930244,
          1.2653467298639796,
          -1.3487427293173544,
          -1.382417051504769,
          -1.212578771855415,
          2.2425196545465806,
          -0.6229586684086501,
          -1.8491968092439475,
          -1.0557452538157324,
          -1.2582591479921563,
          -1.4397387574992762,
          2.270395641133299,
          -1.319683643703723,
          -1.2893246024547074,
          -1.4208245263174857,
          3.3738164727280933,
          2.429831286016659,
          0.24147777873856843,
          5.43923263745323,
          -1.161591063297012,
          -4.86777980172831,
          -0.7392659692164945,
          2.499373479639445,
          -0.8631717780287553,
          0.39860721888522693,
          -4.892429434727776,
          -4.409268672962296,
          2.855994933504106,
          0.1251167018149478,
          2.6442715851312153,
          -1.8193565799613636,
          -0.7934234217393065,
          -0.4372987942285948,
          2.747046381868866,
          2.1932031432060146,
          2.003839331041445,
          2.4793317477107313,
          0.15196664807208557,
          -0.9947451806693762,
          2.1865970234807204,
          -1.3147443400075682,
          1.8859566835272674,
          -1.0143085517081332,
          0.5531115770404024,
          1.474414602396961,
          -1.3281383365250354,
          -1.37689021586959,
          -1.1972797364932353,
          -0.3829292683703916,
          -0.6172954377509516,
          -1.7651915854022642,
          -1.0335893472996427,
          -1.2545171505607273,
          -1.4439732120135784,
          -1.223572446720941,
          -1.3157046968125463,
          -1.2531444518700032,
          -1.3618128585937375,
          3.4087043289102894,
          2.4428736060116285,
          2.658909557589041,
          5.651440736063552,
          -1.080454000023558,
          -4.829253881738184,
          -0.7239912191506838,
          2.50974636811725,
          -0.8706519646771583,
          0.20762700365160652,
          -4.910510759540438,
          -4.290860253453828,
          2.8718955274754734,
          0.13018744587226572,
          2.684619090268275,
          -2.1932503839029436,
          -0.7939690415997334,
          -0.4382922521439537,
          2.6849454312809296,
          2.192092765151863,
          1.8377398406445116,
          2.466027699963646,
          0.11970517381932594,
          -0.9940401681153365,
          2.189161121547514,
          -1.3105582551553208,
          1.8974450427410163,
          -1.0097662653990827,
          0.616282978280532,
          1.3077808002848115,
          -1.314371788235376,
          -1.4923900156708547,
          -1.1609471052765135,
          -0.37292058509741044,
          -0.6075815259410102,
          -1.878871585440835,
          -1.0437093215359932,
          -1.2449588765274548,
          -1.4465702683711845,
          -1.1830811013829172,
          -1.2792364387088409,
          -1.235574679893888,
          -1.4292409175606189,
          3.328112375964904,
          2.4724149421488324,
          2.670600929368232,
          5.714975964838094,
          -1.1219869390426767,
          -4.884469171829018,
          -0.7257518472822506,
          2.477635800310417,
          -0.8812013462733054,
          0.2587531751472658,
          -5.0349090875508145,
          -4.303665806082319,
          2.8851038744070467,
          0.13505134945384212,
          2.718376846107042,
          -1.9889530169014955,
          -0.7893162002184441,
          -0.43960068900851834,
          2.725219334268508,
          2.1891835773038757,
          -0.13582901085535717,
          2.449850023656364,
          0.12969324365813384,
          -0.9874994725538733,
          2.17262169557616,
          -1.3168085241519778,
          1.9031178295290152,
          -1.0168555848751286,
          0.6030882804020097,
          1.2698042386455761,
          -1.3145485693046892,
          -1.4812120334027372,
          -0.9107281441644972,
          -0.33190991961017974,
          -0.5925941151430584,
          -1.4542551250677,
          -1.0205407274392126,
          -1.2314912415597021,
          -1.4444262674632364,
          -1.1731164477833733,
          -0.3875716701161429,
          -1.2233635902166244,
          -1.3819526373396536,
          3.383254337182795,
          2.50744506581207,
          2.666431921153022,
          6.120650872979436,
          -1.0812222547301915,
          -4.81302014215664,
          -0.7225462201473118,
          2.4713942981320005,
          -0.9914173908562758,
          0.3059661266157125,
          -5.008664024707107,
          -4.262856799761905,
          2.8900208798103724,
          0.14311058208343627,
          2.783200209845187,
          -1.8575126582592714,
          -0.778063230749694,
          -0.4386181426250446,
          2.732635289103039,
          2.0804920902309503,
          1.8520354626348918,
          2.4846786729787627,
          0.14884426316301885,
          -0.9858611981254586,
          2.1418969452756205,
          -1.3075050945982891,
          1.9181745547970583,
          -1.002883958749577,
          0.5442705976353571,
          0.8846991360358687,
          -1.318487134077025,
          -1.4795665603092232,
          -0.8267798538157313,
          2.396745890176874,
          -0.5935244305797355,
          -1.4503474641213032,
          -1.005237403428514,
          -1.2169884513494655,
          -1.4517621077588985,
          -0.28906622327775555,
          -1.2712658537240733,
          -1.2033656817197955,
          -1.2707071066566904,
          3.353978195207635,
          2.507476246803967,
          2.6772772186708327,
          6.186898944214338,
          -0.9563900706843707,
          -4.735623379310403,
          -1.0197223220836444,
          2.501892053675442,
          -0.9762087749817417,
          0.32336075489821164,
          -5.015575928070792,
          -4.178022931697134,
          3.899836514622331,
          0.137972622525515,
          2.774330541786609,
          -1.4274343411394175,
          -0.7740838803410186,
          -0.4384545770058036,
          2.7255228421709674,
          2.0812739185731837,
          1.8554614730217303,
          2.5096822000854924,
          0.1314342514790158,
          -0.9748126855734163,
          2.158680402254427,
          -1.3090408647750584,
          1.9071510661596418,
          -1.0085693384771524,
          0.5687006552796858,
          0.4066015569488294,
          -1.3183864374806804,
          -1.4806003519030444,
          -0.8371594541807097,
          2.3711629955933886,
          -0.5991142813412208,
          -1.4950338405535653,
          -0.9906898559077617,
          -1.2276234085772444,
          -1.4515262949292815,
          -0.2867277547334481,
          -0.3577036671566353,
          -1.1755215529610163,
          -1.298360556321735,
          3.3897488877042075,
          2.624549382179866,
          3.100506637461821,
          6.095734850698528,
          -0.967622644298422,
          -4.6763033092360855,
          -1.0235104256837708,
          2.5349558211200356,
          -0.9546950643804532,
          -1.3306464987794004,
          -5.033753156668636,
          -4.101087212298998,
          3.9087248175444724,
          0.12319060489631412,
          2.9330249562368724,
          -1.282936253919066,
          -0.7677664191864115,
          -0.4385253131392051,
          2.732738196025929,
          2.083052622852487,
          1.8447016716640856,
          2.433553843057863,
          0.10515883609605613,
          -0.9833565369336387,
          2.17363308072013,
          -1.3128594664209614,
          1.917633668405519,
          -1.0121768629156545,
          0.5018827266956475,
          0.3566541864306314,
          -1.3236766510962403,
          -1.4780572396675673,
          -0.8493169452621152,
          2.3804415150637057,
          -0.5805372014215605,
          -1.4316178981279906,
          -0.9882023285495659,
          -1.2173374952377403,
          -1.456385735260295,
          -0.2905634044662883,
          -0.37280221109086925,
          -1.1500482988279015,
          -1.2305869416663617,
          3.190149568541401,
          2.610871199592376,
          3.09900036504405,
          6.301717863102663,
          -0.958785029683016,
          -4.7068659002979905,
          -0.9761657433664376,
          2.144643980912952,
          -0.9498676959566864,
          -1.3245067416787049,
          -5.139826957947846,
          -4.027477309241313
         ],
         "yaxis": "y"
        }
       ],
       "layout": {
        "coloraxis": {
         "colorbar": {
          "title": {
           "text": "Cluster Number"
          }
         },
         "colorscale": [
          [
           0,
           "#0d0887"
          ],
          [
           0.1111111111111111,
           "#46039f"
          ],
          [
           0.2222222222222222,
           "#7201a8"
          ],
          [
           0.3333333333333333,
           "#9c179e"
          ],
          [
           0.4444444444444444,
           "#bd3786"
          ],
          [
           0.5555555555555556,
           "#d8576b"
          ],
          [
           0.6666666666666666,
           "#ed7953"
          ],
          [
           0.7777777777777778,
           "#fb9f3a"
          ],
          [
           0.8888888888888888,
           "#fdca26"
          ],
          [
           1,
           "#f0f921"
          ]
         ]
        },
        "legend": {
         "tracegroupgap": 0
        },
        "margin": {
         "t": 60
        },
        "template": {
         "data": {
          "bar": [
           {
            "error_x": {
             "color": "#2a3f5f"
            },
            "error_y": {
             "color": "#2a3f5f"
            },
            "marker": {
             "line": {
              "color": "#E5ECF6",
              "width": 0.5
             },
             "pattern": {
              "fillmode": "overlay",
              "size": 10,
              "solidity": 0.2
             }
            },
            "type": "bar"
           }
          ],
          "barpolar": [
           {
            "marker": {
             "line": {
              "color": "#E5ECF6",
              "width": 0.5
             },
             "pattern": {
              "fillmode": "overlay",
              "size": 10,
              "solidity": 0.2
             }
            },
            "type": "barpolar"
           }
          ],
          "carpet": [
           {
            "aaxis": {
             "endlinecolor": "#2a3f5f",
             "gridcolor": "white",
             "linecolor": "white",
             "minorgridcolor": "white",
             "startlinecolor": "#2a3f5f"
            },
            "baxis": {
             "endlinecolor": "#2a3f5f",
             "gridcolor": "white",
             "linecolor": "white",
             "minorgridcolor": "white",
             "startlinecolor": "#2a3f5f"
            },
            "type": "carpet"
           }
          ],
          "choropleth": [
           {
            "colorbar": {
             "outlinewidth": 0,
             "ticks": ""
            },
            "type": "choropleth"
           }
          ],
          "contour": [
           {
            "colorbar": {
             "outlinewidth": 0,
             "ticks": ""
            },
            "colorscale": [
             [
              0,
              "#0d0887"
             ],
             [
              0.1111111111111111,
              "#46039f"
             ],
             [
              0.2222222222222222,
              "#7201a8"
             ],
             [
              0.3333333333333333,
              "#9c179e"
             ],
             [
              0.4444444444444444,
              "#bd3786"
             ],
             [
              0.5555555555555556,
              "#d8576b"
             ],
             [
              0.6666666666666666,
              "#ed7953"
             ],
             [
              0.7777777777777778,
              "#fb9f3a"
             ],
             [
              0.8888888888888888,
              "#fdca26"
             ],
             [
              1,
              "#f0f921"
             ]
            ],
            "type": "contour"
           }
          ],
          "contourcarpet": [
           {
            "colorbar": {
             "outlinewidth": 0,
             "ticks": ""
            },
            "type": "contourcarpet"
           }
          ],
          "heatmap": [
           {
            "colorbar": {
             "outlinewidth": 0,
             "ticks": ""
            },
            "colorscale": [
             [
              0,
              "#0d0887"
             ],
             [
              0.1111111111111111,
              "#46039f"
             ],
             [
              0.2222222222222222,
              "#7201a8"
             ],
             [
              0.3333333333333333,
              "#9c179e"
             ],
             [
              0.4444444444444444,
              "#bd3786"
             ],
             [
              0.5555555555555556,
              "#d8576b"
             ],
             [
              0.6666666666666666,
              "#ed7953"
             ],
             [
              0.7777777777777778,
              "#fb9f3a"
             ],
             [
              0.8888888888888888,
              "#fdca26"
             ],
             [
              1,
              "#f0f921"
             ]
            ],
            "type": "heatmap"
           }
          ],
          "heatmapgl": [
           {
            "colorbar": {
             "outlinewidth": 0,
             "ticks": ""
            },
            "colorscale": [
             [
              0,
              "#0d0887"
             ],
             [
              0.1111111111111111,
              "#46039f"
             ],
             [
              0.2222222222222222,
              "#7201a8"
             ],
             [
              0.3333333333333333,
              "#9c179e"
             ],
             [
              0.4444444444444444,
              "#bd3786"
             ],
             [
              0.5555555555555556,
              "#d8576b"
             ],
             [
              0.6666666666666666,
              "#ed7953"
             ],
             [
              0.7777777777777778,
              "#fb9f3a"
             ],
             [
              0.8888888888888888,
              "#fdca26"
             ],
             [
              1,
              "#f0f921"
             ]
            ],
            "type": "heatmapgl"
           }
          ],
          "histogram": [
           {
            "marker": {
             "pattern": {
              "fillmode": "overlay",
              "size": 10,
              "solidity": 0.2
             }
            },
            "type": "histogram"
           }
          ],
          "histogram2d": [
           {
            "colorbar": {
             "outlinewidth": 0,
             "ticks": ""
            },
            "colorscale": [
             [
              0,
              "#0d0887"
             ],
             [
              0.1111111111111111,
              "#46039f"
             ],
             [
              0.2222222222222222,
              "#7201a8"
             ],
             [
              0.3333333333333333,
              "#9c179e"
             ],
             [
              0.4444444444444444,
              "#bd3786"
             ],
             [
              0.5555555555555556,
              "#d8576b"
             ],
             [
              0.6666666666666666,
              "#ed7953"
             ],
             [
              0.7777777777777778,
              "#fb9f3a"
             ],
             [
              0.8888888888888888,
              "#fdca26"
             ],
             [
              1,
              "#f0f921"
             ]
            ],
            "type": "histogram2d"
           }
          ],
          "histogram2dcontour": [
           {
            "colorbar": {
             "outlinewidth": 0,
             "ticks": ""
            },
            "colorscale": [
             [
              0,
              "#0d0887"
             ],
             [
              0.1111111111111111,
              "#46039f"
             ],
             [
              0.2222222222222222,
              "#7201a8"
             ],
             [
              0.3333333333333333,
              "#9c179e"
             ],
             [
              0.4444444444444444,
              "#bd3786"
             ],
             [
              0.5555555555555556,
              "#d8576b"
             ],
             [
              0.6666666666666666,
              "#ed7953"
             ],
             [
              0.7777777777777778,
              "#fb9f3a"
             ],
             [
              0.8888888888888888,
              "#fdca26"
             ],
             [
              1,
              "#f0f921"
             ]
            ],
            "type": "histogram2dcontour"
           }
          ],
          "mesh3d": [
           {
            "colorbar": {
             "outlinewidth": 0,
             "ticks": ""
            },
            "type": "mesh3d"
           }
          ],
          "parcoords": [
           {
            "line": {
             "colorbar": {
              "outlinewidth": 0,
              "ticks": ""
             }
            },
            "type": "parcoords"
           }
          ],
          "pie": [
           {
            "automargin": true,
            "type": "pie"
           }
          ],
          "scatter": [
           {
            "fillpattern": {
             "fillmode": "overlay",
             "size": 10,
             "solidity": 0.2
            },
            "type": "scatter"
           }
          ],
          "scatter3d": [
           {
            "line": {
             "colorbar": {
              "outlinewidth": 0,
              "ticks": ""
             }
            },
            "marker": {
             "colorbar": {
              "outlinewidth": 0,
              "ticks": ""
             }
            },
            "type": "scatter3d"
           }
          ],
          "scattercarpet": [
           {
            "marker": {
             "colorbar": {
              "outlinewidth": 0,
              "ticks": ""
             }
            },
            "type": "scattercarpet"
           }
          ],
          "scattergeo": [
           {
            "marker": {
             "colorbar": {
              "outlinewidth": 0,
              "ticks": ""
             }
            },
            "type": "scattergeo"
           }
          ],
          "scattergl": [
           {
            "marker": {
             "colorbar": {
              "outlinewidth": 0,
              "ticks": ""
             }
            },
            "type": "scattergl"
           }
          ],
          "scattermapbox": [
           {
            "marker": {
             "colorbar": {
              "outlinewidth": 0,
              "ticks": ""
             }
            },
            "type": "scattermapbox"
           }
          ],
          "scatterpolar": [
           {
            "marker": {
             "colorbar": {
              "outlinewidth": 0,
              "ticks": ""
             }
            },
            "type": "scatterpolar"
           }
          ],
          "scatterpolargl": [
           {
            "marker": {
             "colorbar": {
              "outlinewidth": 0,
              "ticks": ""
             }
            },
            "type": "scatterpolargl"
           }
          ],
          "scatterternary": [
           {
            "marker": {
             "colorbar": {
              "outlinewidth": 0,
              "ticks": ""
             }
            },
            "type": "scatterternary"
           }
          ],
          "surface": [
           {
            "colorbar": {
             "outlinewidth": 0,
             "ticks": ""
            },
            "colorscale": [
             [
              0,
              "#0d0887"
             ],
             [
              0.1111111111111111,
              "#46039f"
             ],
             [
              0.2222222222222222,
              "#7201a8"
             ],
             [
              0.3333333333333333,
              "#9c179e"
             ],
             [
              0.4444444444444444,
              "#bd3786"
             ],
             [
              0.5555555555555556,
              "#d8576b"
             ],
             [
              0.6666666666666666,
              "#ed7953"
             ],
             [
              0.7777777777777778,
              "#fb9f3a"
             ],
             [
              0.8888888888888888,
              "#fdca26"
             ],
             [
              1,
              "#f0f921"
             ]
            ],
            "type": "surface"
           }
          ],
          "table": [
           {
            "cells": {
             "fill": {
              "color": "#EBF0F8"
             },
             "line": {
              "color": "white"
             }
            },
            "header": {
             "fill": {
              "color": "#C8D4E3"
             },
             "line": {
              "color": "white"
             }
            },
            "type": "table"
           }
          ]
         },
         "layout": {
          "annotationdefaults": {
           "arrowcolor": "#2a3f5f",
           "arrowhead": 0,
           "arrowwidth": 1
          },
          "autotypenumbers": "strict",
          "coloraxis": {
           "colorbar": {
            "outlinewidth": 0,
            "ticks": ""
           }
          },
          "colorscale": {
           "diverging": [
            [
             0,
             "#8e0152"
            ],
            [
             0.1,
             "#c51b7d"
            ],
            [
             0.2,
             "#de77ae"
            ],
            [
             0.3,
             "#f1b6da"
            ],
            [
             0.4,
             "#fde0ef"
            ],
            [
             0.5,
             "#f7f7f7"
            ],
            [
             0.6,
             "#e6f5d0"
            ],
            [
             0.7,
             "#b8e186"
            ],
            [
             0.8,
             "#7fbc41"
            ],
            [
             0.9,
             "#4d9221"
            ],
            [
             1,
             "#276419"
            ]
           ],
           "sequential": [
            [
             0,
             "#0d0887"
            ],
            [
             0.1111111111111111,
             "#46039f"
            ],
            [
             0.2222222222222222,
             "#7201a8"
            ],
            [
             0.3333333333333333,
             "#9c179e"
            ],
            [
             0.4444444444444444,
             "#bd3786"
            ],
            [
             0.5555555555555556,
             "#d8576b"
            ],
            [
             0.6666666666666666,
             "#ed7953"
            ],
            [
             0.7777777777777778,
             "#fb9f3a"
            ],
            [
             0.8888888888888888,
             "#fdca26"
            ],
            [
             1,
             "#f0f921"
            ]
           ],
           "sequentialminus": [
            [
             0,
             "#0d0887"
            ],
            [
             0.1111111111111111,
             "#46039f"
            ],
            [
             0.2222222222222222,
             "#7201a8"
            ],
            [
             0.3333333333333333,
             "#9c179e"
            ],
            [
             0.4444444444444444,
             "#bd3786"
            ],
            [
             0.5555555555555556,
             "#d8576b"
            ],
            [
             0.6666666666666666,
             "#ed7953"
            ],
            [
             0.7777777777777778,
             "#fb9f3a"
            ],
            [
             0.8888888888888888,
             "#fdca26"
            ],
            [
             1,
             "#f0f921"
            ]
           ]
          },
          "colorway": [
           "#636efa",
           "#EF553B",
           "#00cc96",
           "#ab63fa",
           "#FFA15A",
           "#19d3f3",
           "#FF6692",
           "#B6E880",
           "#FF97FF",
           "#FECB52"
          ],
          "font": {
           "color": "#2a3f5f"
          },
          "geo": {
           "bgcolor": "white",
           "lakecolor": "white",
           "landcolor": "#E5ECF6",
           "showlakes": true,
           "showland": true,
           "subunitcolor": "white"
          },
          "hoverlabel": {
           "align": "left"
          },
          "hovermode": "closest",
          "mapbox": {
           "style": "light"
          },
          "paper_bgcolor": "white",
          "plot_bgcolor": "#E5ECF6",
          "polar": {
           "angularaxis": {
            "gridcolor": "white",
            "linecolor": "white",
            "ticks": ""
           },
           "bgcolor": "#E5ECF6",
           "radialaxis": {
            "gridcolor": "white",
            "linecolor": "white",
            "ticks": ""
           }
          },
          "scene": {
           "xaxis": {
            "backgroundcolor": "#E5ECF6",
            "gridcolor": "white",
            "gridwidth": 2,
            "linecolor": "white",
            "showbackground": true,
            "ticks": "",
            "zerolinecolor": "white"
           },
           "yaxis": {
            "backgroundcolor": "#E5ECF6",
            "gridcolor": "white",
            "gridwidth": 2,
            "linecolor": "white",
            "showbackground": true,
            "ticks": "",
            "zerolinecolor": "white"
           },
           "zaxis": {
            "backgroundcolor": "#E5ECF6",
            "gridcolor": "white",
            "gridwidth": 2,
            "linecolor": "white",
            "showbackground": true,
            "ticks": "",
            "zerolinecolor": "white"
           }
          },
          "shapedefaults": {
           "line": {
            "color": "#2a3f5f"
           }
          },
          "ternary": {
           "aaxis": {
            "gridcolor": "white",
            "linecolor": "white",
            "ticks": ""
           },
           "baxis": {
            "gridcolor": "white",
            "linecolor": "white",
            "ticks": ""
           },
           "bgcolor": "#E5ECF6",
           "caxis": {
            "gridcolor": "white",
            "linecolor": "white",
            "ticks": ""
           }
          },
          "title": {
           "x": 0.05
          },
          "xaxis": {
           "automargin": true,
           "gridcolor": "white",
           "linecolor": "white",
           "ticks": "",
           "title": {
            "standoff": 15
           },
           "zerolinecolor": "white",
           "zerolinewidth": 2
          },
          "yaxis": {
           "automargin": true,
           "gridcolor": "white",
           "linecolor": "white",
           "ticks": "",
           "title": {
            "standoff": 15
           },
           "zerolinecolor": "white",
           "zerolinewidth": 2
          }
         }
        },
        "title": {
         "text": "K-means Clustering in PCA Space with 7 Clusters"
        },
        "xaxis": {
         "anchor": "y",
         "domain": [
          0,
          1
         ],
         "title": {
          "text": "Principal Component 1"
         }
        },
        "yaxis": {
         "anchor": "x",
         "domain": [
          0,
          1
         ],
         "title": {
          "text": "Principal Component 2"
         }
        }
       }
      },
      "text/html": [
       "<div>                            <div id=\"be4eb8bd-962b-4e9c-8bc8-a7736bb6b442\" class=\"plotly-graph-div\" style=\"height:525px; width:100%;\"></div>            <script type=\"text/javascript\">                require([\"plotly\"], function(Plotly) {                    window.PLOTLYENV=window.PLOTLYENV || {};                                    if (document.getElementById(\"be4eb8bd-962b-4e9c-8bc8-a7736bb6b442\")) {                    Plotly.newPlot(                        \"be4eb8bd-962b-4e9c-8bc8-a7736bb6b442\",                        [{\"customdata\":[[\"-0.806\"],[\"-0.725\"],[\"-0.645\"],[\"-0.564\"],[\"-0.483\"],[\"-0.403\"],[\"-0.322\"],[\"-0.242\"],[\"-0.161\"],[\"-0.081\"],[\"0.000\"],[\"0.081\"],[\"0.161\"],[\"0.242\"],[\"0.322\"],[\"0.403\"],[\"0.483\"],[\"0.564\"],[\"0.645\"],[\"0.725\"],[\"0.806\"],[\"0.886\"],[\"0.967\"],[\"1.048\"],[\"1.128\"],[\"1.209\"],[\"1.289\"],[\"1.370\"],[\"1.450\"],[\"1.531\"],[\"1.612\"],[\"1.692\"],[\"-1.692\"],[\"-1.612\"],[\"-1.531\"],[\"-1.450\"],[\"-1.370\"],[\"-1.289\"],[\"-1.209\"],[\"-1.128\"],[\"-1.048\"],[\"-0.967\"],[\"-0.886\"],[\"-0.806\"],[\"-0.725\"],[\"-0.645\"],[\"-0.564\"],[\"-0.483\"],[\"-0.403\"],[\"-0.322\"],[\"-0.242\"],[\"-0.161\"],[\"-0.081\"],[\"0.000\"],[\"0.081\"],[\"0.161\"],[\"0.242\"],[\"0.322\"],[\"0.403\"],[\"0.483\"],[\"0.564\"],[\"0.645\"],[\"0.725\"],[\"0.806\"],[\"0.886\"],[\"0.967\"],[\"1.048\"],[\"1.128\"],[\"1.209\"],[\"1.289\"],[\"1.370\"],[\"1.450\"],[\"1.531\"],[\"1.612\"],[\"1.692\"],[\"-1.692\"],[\"-1.612\"],[\"-1.531\"],[\"-1.450\"],[\"-1.370\"],[\"-1.289\"],[\"-1.209\"],[\"-1.128\"],[\"-1.048\"],[\"-0.967\"],[\"-0.886\"],[\"-0.806\"],[\"-0.725\"],[\"-0.645\"],[\"-0.564\"],[\"-0.483\"],[\"-0.403\"],[\"-0.322\"],[\"-0.242\"],[\"-0.161\"],[\"-0.081\"],[\"0.000\"],[\"0.081\"],[\"0.161\"],[\"0.242\"],[\"0.322\"],[\"0.403\"],[\"0.483\"],[\"0.564\"],[\"0.645\"],[\"0.725\"],[\"0.806\"],[\"0.886\"],[\"0.967\"],[\"1.048\"],[\"1.128\"],[\"1.209\"],[\"1.289\"],[\"1.370\"],[\"1.450\"],[\"1.531\"],[\"1.612\"],[\"1.692\"],[\"-1.692\"],[\"-1.612\"],[\"-1.531\"],[\"-1.450\"],[\"-1.370\"],[\"-1.289\"],[\"-1.209\"],[\"-1.128\"],[\"-1.048\"],[\"-0.967\"],[\"-0.886\"],[\"-0.806\"],[\"-0.725\"],[\"-0.645\"],[\"-0.564\"],[\"-0.483\"],[\"-0.403\"],[\"-0.322\"],[\"-0.242\"],[\"-0.161\"],[\"-0.081\"],[\"0.000\"],[\"0.081\"],[\"0.161\"],[\"0.242\"],[\"0.322\"],[\"0.403\"],[\"0.483\"],[\"0.564\"],[\"0.645\"],[\"0.725\"],[\"0.806\"],[\"0.886\"],[\"0.967\"],[\"1.048\"],[\"1.128\"],[\"1.209\"],[\"1.289\"],[\"1.370\"],[\"1.450\"],[\"1.531\"],[\"1.612\"],[\"1.692\"],[\"-1.692\"],[\"-1.612\"],[\"-1.531\"],[\"-1.450\"],[\"-1.370\"],[\"-1.289\"],[\"-1.209\"],[\"-1.128\"],[\"-1.048\"],[\"-0.967\"],[\"-0.886\"],[\"-0.806\"],[\"-0.725\"],[\"-0.645\"],[\"-0.564\"],[\"-0.483\"],[\"-0.403\"],[\"-0.322\"],[\"-0.242\"],[\"-0.161\"],[\"-0.081\"],[\"0.000\"],[\"0.081\"],[\"0.161\"],[\"0.242\"],[\"0.322\"],[\"0.403\"],[\"0.483\"],[\"0.564\"],[\"0.645\"],[\"0.725\"],[\"0.806\"],[\"0.886\"],[\"0.967\"],[\"1.048\"],[\"1.128\"],[\"1.209\"],[\"1.289\"],[\"1.370\"],[\"1.450\"],[\"1.531\"],[\"1.612\"],[\"1.692\"],[\"-1.692\"],[\"-1.612\"],[\"-1.531\"],[\"-1.450\"],[\"-1.370\"],[\"-1.289\"],[\"-1.209\"],[\"-1.128\"],[\"-1.048\"],[\"-0.967\"],[\"-0.886\"],[\"-0.806\"],[\"-0.725\"],[\"-0.645\"],[\"-0.564\"],[\"-0.483\"],[\"-0.403\"],[\"-0.322\"],[\"-0.242\"],[\"-0.161\"],[\"-0.081\"],[\"0.000\"],[\"0.081\"],[\"0.161\"],[\"0.242\"],[\"0.322\"],[\"0.403\"],[\"0.483\"],[\"0.564\"],[\"0.645\"],[\"0.725\"],[\"0.806\"],[\"0.886\"],[\"0.967\"],[\"1.048\"],[\"1.128\"],[\"1.209\"],[\"1.289\"],[\"1.370\"],[\"1.450\"],[\"1.531\"],[\"1.612\"],[\"1.692\"],[\"-1.692\"],[\"-1.612\"],[\"-1.531\"],[\"-1.450\"],[\"-1.370\"],[\"-1.289\"],[\"-1.209\"],[\"-1.128\"],[\"-1.048\"],[\"-0.967\"],[\"-0.886\"],[\"-0.806\"],[\"-0.725\"],[\"-0.645\"],[\"-0.564\"],[\"-0.483\"],[\"-0.403\"],[\"-0.322\"],[\"-0.242\"],[\"-0.161\"],[\"-0.081\"],[\"0.000\"],[\"0.081\"],[\"0.161\"],[\"0.242\"],[\"0.322\"],[\"0.403\"],[\"0.483\"],[\"0.564\"],[\"0.645\"],[\"0.725\"],[\"0.806\"],[\"0.886\"],[\"0.967\"],[\"1.048\"],[\"1.128\"],[\"1.209\"],[\"1.289\"],[\"1.370\"],[\"1.450\"],[\"1.531\"],[\"1.612\"],[\"1.692\"],[\"-1.692\"],[\"-1.612\"],[\"-1.531\"],[\"-1.450\"],[\"-1.370\"],[\"-1.289\"],[\"-1.209\"],[\"-1.128\"],[\"-1.048\"],[\"-0.967\"],[\"-0.886\"],[\"-0.806\"],[\"-0.725\"],[\"-0.645\"],[\"-0.564\"],[\"-0.483\"],[\"-0.403\"],[\"-0.322\"],[\"-0.242\"],[\"-0.161\"],[\"-0.081\"],[\"0.000\"],[\"0.081\"],[\"0.161\"],[\"0.242\"],[\"0.322\"],[\"0.403\"],[\"0.483\"],[\"0.564\"],[\"0.645\"],[\"0.725\"],[\"0.806\"],[\"0.886\"],[\"0.967\"],[\"1.048\"],[\"1.128\"],[\"1.209\"],[\"1.289\"],[\"1.370\"],[\"1.450\"],[\"1.531\"],[\"1.612\"],[\"1.692\"],[\"-1.692\"],[\"-1.612\"],[\"-1.531\"],[\"-1.450\"],[\"-1.370\"],[\"-1.289\"],[\"-1.209\"],[\"-1.128\"],[\"-1.048\"],[\"-0.967\"],[\"-0.886\"],[\"-0.806\"],[\"-0.725\"],[\"-0.645\"],[\"-0.564\"],[\"-0.483\"],[\"-0.403\"],[\"-0.322\"],[\"-0.242\"],[\"-0.161\"],[\"-0.081\"],[\"0.000\"],[\"0.081\"],[\"0.161\"],[\"0.242\"],[\"0.322\"],[\"0.403\"],[\"0.483\"],[\"0.564\"],[\"0.645\"],[\"0.725\"],[\"0.806\"],[\"0.886\"],[\"0.967\"],[\"1.048\"],[\"1.128\"],[\"1.209\"],[\"1.289\"],[\"1.370\"],[\"1.450\"],[\"1.531\"],[\"1.612\"],[\"1.692\"],[\"-1.692\"],[\"-1.612\"],[\"-1.531\"],[\"-1.450\"],[\"-1.370\"],[\"-1.289\"],[\"-1.209\"],[\"-1.128\"],[\"-1.048\"],[\"-0.967\"],[\"-0.886\"],[\"-0.806\"],[\"-0.725\"],[\"-0.645\"],[\"-0.564\"],[\"-0.483\"],[\"-0.403\"],[\"-0.322\"],[\"-0.242\"],[\"-0.161\"],[\"-0.081\"],[\"0.000\"],[\"0.081\"],[\"0.161\"],[\"0.242\"],[\"0.322\"],[\"0.403\"],[\"0.483\"],[\"0.564\"],[\"0.645\"],[\"0.725\"],[\"0.806\"],[\"0.886\"],[\"0.967\"],[\"1.048\"],[\"1.128\"],[\"1.209\"],[\"1.289\"],[\"1.370\"],[\"1.450\"],[\"1.531\"],[\"1.612\"],[\"1.692\"],[\"-1.692\"],[\"-1.612\"],[\"-1.531\"],[\"-1.450\"],[\"-1.370\"],[\"-1.289\"],[\"-1.209\"],[\"-1.128\"],[\"-1.048\"],[\"-0.967\"],[\"-0.886\"],[\"-0.806\"],[\"-0.725\"],[\"-0.645\"],[\"-0.564\"],[\"-0.483\"],[\"-0.403\"],[\"-0.322\"],[\"-0.242\"],[\"-0.161\"],[\"-0.081\"],[\"0.000\"],[\"0.081\"],[\"0.161\"],[\"0.242\"],[\"0.322\"],[\"0.403\"],[\"0.483\"],[\"0.564\"],[\"0.645\"],[\"0.725\"],[\"0.806\"],[\"0.886\"],[\"0.967\"],[\"1.048\"],[\"1.128\"],[\"1.209\"],[\"1.289\"],[\"1.370\"],[\"1.450\"],[\"1.531\"],[\"1.612\"],[\"1.692\"],[\"-1.692\"],[\"-1.612\"],[\"-1.531\"],[\"-1.450\"],[\"-1.370\"],[\"-1.289\"],[\"-1.209\"],[\"-1.128\"],[\"-1.048\"],[\"-0.967\"],[\"-0.886\"],[\"-0.806\"],[\"-0.725\"],[\"-0.645\"],[\"-0.564\"],[\"-0.483\"],[\"-0.403\"],[\"-0.322\"],[\"-0.242\"],[\"-0.161\"],[\"-0.081\"],[\"0.000\"],[\"0.081\"],[\"0.161\"],[\"0.242\"],[\"0.322\"],[\"0.403\"],[\"0.483\"],[\"0.564\"],[\"0.645\"],[\"0.725\"],[\"0.806\"],[\"0.886\"],[\"0.967\"],[\"1.048\"],[\"1.128\"],[\"1.209\"],[\"1.289\"],[\"1.370\"],[\"1.450\"],[\"1.531\"],[\"1.612\"],[\"1.692\"],[\"-1.692\"],[\"-1.612\"],[\"-1.531\"],[\"-1.450\"],[\"-1.370\"],[\"-1.289\"],[\"-1.209\"],[\"-1.128\"],[\"-1.048\"],[\"-0.967\"],[\"-0.886\"]],\"hovertemplate\":\"Principal Component 1=%{x}<br>Principal Component 2=%{y}<br>Country=%{customdata[0]}<br>Cluster Number=%{marker.color}<extra></extra>\",\"legendgroup\":\"\",\"marker\":{\"color\":[6,5,6,6,2,5,5,2,0,0,5,2,0,2,0,2,5,5,2,2,2,2,2,5,2,2,2,2,2,2,2,0,6,5,4,5,4,4,5,4,5,1,4,0,5,6,4,2,5,6,0,0,0,5,2,0,2,0,2,5,5,2,2,2,2,2,5,2,2,2,2,2,2,2,0,6,5,3,5,1,4,5,4,5,1,1,0,5,6,6,2,5,6,0,0,0,5,2,0,2,0,2,5,5,2,2,2,0,2,4,2,2,2,2,2,2,2,5,6,5,3,5,1,4,6,4,5,1,1,0,5,6,4,2,5,6,0,0,0,5,2,0,2,0,2,5,0,2,2,2,0,2,4,2,2,2,2,2,2,2,0,6,5,3,5,1,4,6,4,5,1,1,0,5,6,4,2,5,6,0,0,0,5,2,0,2,0,2,5,0,2,2,2,0,2,4,2,2,2,2,2,2,2,0,6,5,3,5,1,4,6,4,5,1,1,0,5,6,4,2,5,6,0,0,0,5,2,0,2,0,2,5,0,2,2,2,0,2,4,2,2,2,0,2,2,2,0,6,5,3,4,1,4,6,4,5,1,1,0,5,6,4,2,5,6,0,0,0,5,2,0,2,0,2,5,0,2,2,2,5,2,4,2,2,2,2,2,2,2,0,6,0,3,4,1,4,6,4,5,1,1,0,5,6,4,2,5,6,0,0,0,5,2,0,2,0,2,5,0,2,2,2,5,2,4,2,2,2,2,2,2,2,0,6,0,3,4,1,4,6,4,5,1,1,0,5,6,4,2,5,6,0,5,0,5,2,0,2,0,2,5,0,2,2,2,5,2,4,2,2,2,2,5,2,2,0,6,0,3,4,1,4,6,4,5,1,1,0,5,6,4,2,5,6,0,0,0,5,2,0,2,0,2,5,5,2,2,2,0,2,4,2,2,2,5,2,2,2,0,6,0,3,4,1,4,6,4,5,1,1,0,5,6,4,2,5,6,0,0,0,5,2,0,2,0,2,5,5,2,2,2,0,2,4,2,2,2,5,5,2,2,0,6,0,3,4,1,4,6,4,4,1,1,0,5,6,4,2,5,6,0,0,0,5,2,0,2,0,2,5,5,2,2,2,6,2,4,2,2,2,5,5,2,2,0,6,0,3,4,1,4,6,4,4,1,1],\"coloraxis\":\"coloraxis\",\"symbol\":\"circle\"},\"mode\":\"markers\",\"name\":\"\",\"orientation\":\"v\",\"showlegend\":false,\"x\":[-0.36773856291610335,-0.9896706761856496,0.47922303057398435,0.3238066223133159,-1.1806991217093896,0.46004622396063727,0.13723504576211182,-1.0558820375828106,-1.1009383318404595,-0.9932370842416569,-1.0220361966592575,-1.3084529225043158,-0.8530412091648093,-1.1031857202396913,-1.1564322956402622,-1.4826626419958655,-1.4110313585614422,-1.2191544752140744,-1.845489457665155,-1.5622198362330533,-1.4732666816337232,-1.0983322957455128,-1.3459401864890579,0.30442416633021324,-2.0809424828135823,-1.6304030408709265,-2.498921099498451,-1.0555399550019553,-1.8365902472425195,-2.3055434440546625,-1.1468216657664263,-1.065134256472752,-0.0769784509263415,-0.4800164234346195,5.7485643428411874,0.23240825283032457,2.6129576211423164,1.020009177729575,-0.29402500455270975,0.9099753315324491,0.33789905378901713,5.262113541771906,2.309988196299662,-0.6882437967343188,-0.9039662261973123,0.3283137434390541,1.5857826620712647,-1.2203823378468648,0.23121167727084915,-0.1241032044123481,-1.2180312862824763,-1.0320672880709778,-0.7613613376292232,-1.069155385791536,-1.3087763703971858,-0.9313697572795917,-1.3294083363367117,-1.27250986331025,-1.3917625438727712,-1.3043031495719826,-1.179793307065958,-1.667305844084502,-1.5854051835325316,-1.546723076999218,-0.7590868518476284,-1.5234510626156363,0.11383085847408746,-2.0243536680657153,-1.7265615243423402,-2.316531429235353,-1.1018681365076362,-1.7707625774704254,-2.257668140378217,-1.303375712049502,-0.6332381635142708,0.05234178496696631,-0.4117814634224591,8.100560415783452,0.11868716365990412,3.9139790941618617,1.0442838717427272,-0.14550292993800504,1.620014691004022,-0.22709804975111794,4.735338555262392,3.879182165369377,-0.7759647500298061,-0.9013484892957191,0.19215716241256028,0.5833446588841016,-1.2704784799684707,0.04269389348967057,-0.3102609512782529,-1.2312371970321823,-1.0178206729840649,-0.8056481469389006,-0.8730482418743571,-1.2607558356013928,-0.8509390454091441,-1.2227902600379092,-1.3418703334510846,-1.446292628170129,-1.1820461233919066,-0.9105044389566902,-1.5694473232328288,-1.548870769762681,-1.5505952948603274,-1.147494046568578,-1.8424848402453589,1.477320728669627,-1.8750805060898579,-1.8859495789115224,-2.2116538046750707,-1.064426019095726,-1.1955570326650125,-2.2454883221491886,-1.2063971145756178,-0.6925173159835051,0.31659413729849845,-0.5412887781932997,9.587902025063274,0.18352204978771705,3.990502965172898,1.3361129363494237,0.2273422178433653,1.7037467618962265,-0.3470508120172724,4.906644722750248,3.7238408091956186,-0.7954615575253313,-0.879781747209273,0.19547927306972113,1.5859094386093637,-1.2725698946304527,0.04849303511715052,-0.29193485186299023,-1.2281390020836718,-1.025474363366412,-0.816358878793226,-0.7962050174125594,-1.2388197092325655,-0.783033619258824,-1.2490316413435458,-1.3545777745818162,-1.427332126565199,-1.2591356340343198,-0.8043879246499979,-1.5873631592522957,-1.5417098331847578,-1.4657769775200273,-1.077782808670411,-1.8585193348839426,1.2557716740808045,-1.8419321830674396,-1.8521065031389736,-2.2110796623123927,-0.7959941390841098,-1.216299082350215,-2.2152340806361726,-1.005205498285448,-0.7011649794125759,0.2796776846383184,-0.5450730688950151,10.50501230624705,0.5051289312725286,3.9295465605187427,1.4554543916196763,0.3310268216357346,1.6201887427526953,-0.37296934159309,5.079637059038961,3.942309928605946,-0.916836171509556,-0.9215995719920324,0.2043240713746024,1.5076022648145797,-1.272771578880013,0.06313907617293285,-0.324279138200538,-1.20271570647811,-1.0193667954529009,-0.7831606877024517,-0.7860624248334848,-1.2424317291534652,-0.7559359972914115,-1.0515628174186884,-1.353152499399068,-1.4548191849425811,-1.2355244647237504,-0.9747788656040759,-1.5663275097539318,-1.543525493540423,-1.4810773457204924,-1.048949279127694,-1.9932104911447128,1.1418420161924725,-1.8214486470936957,-1.8466554069187389,-2.0813482516809243,-0.7952035171708554,-1.18066292626172,-2.1980345296505646,-0.9879219619656137,-0.8633813115490717,0.17558119846224085,-0.545161562851794,11.247557275041792,0.5478010372585218,4.063086644022569,1.377834139016011,0.2980589400042661,1.6610374899453202,-0.40222180511195166,5.077159079373207,3.9679695333395695,-0.8935742246533231,-0.9271923885574378,0.2591230286816666,1.8631581769363963,-1.2759502526292812,0.05186102779837024,-0.22609066689415552,-1.2191280416333539,-1.0213661476933436,-0.7876346250060532,-0.7773919219607016,-1.2563917591046123,-0.7387765582548096,-1.079854517496489,-1.3528952448704652,-1.4369378292496846,-1.119711369281272,-0.9165840018212568,-1.5601990806994823,-1.5378004462777033,-1.4940005600298023,-1.0611491120116128,-2.0204806865066764,1.5903847177312824,-1.778512095499852,-1.8456765640186383,-2.081109313393191,-1.2058696197697316,-1.1405046576356106,-2.1660849814510548,-0.9109725892333149,-0.8108674538296509,0.21829658810429242,-0.5511990142030281,11.852063762885557,1.2697403764352615,4.427492485315204,1.3577795665703816,0.20627845586532562,1.7550070915380946,-0.347944927398305,4.623157430927473,4.127801299389176,-0.8561660074716726,-0.9032635383189512,0.34178545706658797,2.8727715241285585,-1.267993960618231,0.048866694587466654,-0.21543396091939004,-1.2237610987160734,-1.0200765057326313,-0.8339596580525379,-0.7000730944347401,-1.2449075783777144,-0.8409818240073551,-1.062924087454236,-1.3634876607809716,-1.4258460674274598,-1.0752978787467935,-0.9745526571125097,-1.5963364855744966,-1.5127660284431816,-1.467181485419422,-0.6603310548666028,-1.9994962128337437,1.9135302489330404,-1.7222011585878645,-1.8189705905123301,-2.0742425537718394,-0.823809825196781,-1.0298938965703441,-2.130766701557085,-0.8677181459114394,-0.8052380114764315,0.2771326607479978,-0.565930736135291,12.622500086890748,1.629740561266097,4.596739471142609,1.4195805148990006,0.25918840755963884,1.717010607429824,0.05954833071065987,4.554626048059358,4.562144999234703,-0.7859348064501102,-0.8881495472953557,0.6013731872812886,2.6176606199435386,-1.2651583073615753,0.044456962827336674,-0.027826948544762344,-1.2287304266917032,-0.8281337233248469,-0.7972089812935831,-0.6978854276519162,-1.2320375611267067,-0.826453930690188,-1.0613117255213733,-1.3675871826429613,-1.409401908653399,-0.9587932692266244,-0.977505153856823,-1.6149337132434551,-1.3530315586273691,-1.455638146032938,-0.5871183590536764,-1.9565819444857764,2.4135704146658914,-1.7097054833619783,-1.79387606279891,-2.0734442201293626,-0.7054985830815784,-0.8850936445936033,-2.090033635894654,-1.0054175633484448,-0.8754483511205029,0.13699342985421833,-0.5445538087906617,12.561569569853571,1.421822628166202,4.400817091174474,1.4009906898489934,0.13619112011525106,1.6458556059651686,0.41304603601037565,4.4284820682958985,4.407440387411288,-0.8015252152720812,-0.8692710635782838,0.7741097406376899,2.7311515457493205,-1.263531124814612,0.03828928049297151,0.10257845967519678,-1.2419369760791206,-0.4221125476319795,-0.7574400885657104,-0.6444931153063775,-1.1979646595323235,-0.9039805687032724,-1.0651689100348323,-1.378778241371391,-1.3998323140104396,-0.9580258634343384,-0.8882533058301021,-1.6093886895141538,-1.3457306073893969,-1.5733539131653715,-0.40677740391988887,-1.9176805684980773,3.2620055819836407,-1.6129501103381079,-1.8232523024269804,-2.0701066891883144,-0.5918612641116222,-0.7386797422009057,-2.0287494089881406,-0.8478740196356664,-0.9235847903775961,0.2801677606534224,-0.5447836743949466,13.867650937425147,1.6357326197876585,4.602306245652265,1.399113696949258,0.09783235768225532,1.7501621200552433,0.5541623597668368,4.524185304666031,4.591227797782085,-0.7981410493833239,-0.8422591588719706,0.7731488670811724,3.0196713299498996,-1.2834334909950218,0.04282407695517058,0.11293954818823042,-1.1120871780957613,-0.7875223594320996,-0.7467848956656261,-0.7035419529461266,-1.1889284001103353,-0.952551678146915,-1.036882864733809,-1.390445518016814,-1.391547399500404,-0.9178231511015725,-0.775634991237384,-1.6007561136458626,-1.3382219084238958,-1.547430402591512,-0.36392374312841563,-1.92983648376456,3.208189328267163,-1.575135263386343,-1.7942339536156675,-2.064610504550068,-0.5513263982638216,-0.776881331496479,-1.9686151270208188,-0.7939824583488803,-0.7529570447197957,0.3023681618753331,-0.5522966983027944,13.919986181854572,2.1170246901380754,4.832226590057076,1.7752707686917581,0.2412133260040975,1.8246972279713145,0.4987579301566449,4.477333870537593,4.950590645896913,-1.5018115187352021,-0.8938985000974158,0.7580067366219851,2.885737448588955,-1.2774971078014312,0.04360437716873982,0.08587625182575842,-1.1117617869658223,-0.7834126352690531,-0.7585377000979824,-0.7263157935362348,-1.192163058274196,-0.874509790763406,-1.0515973822847133,-1.3997437182980867,-1.3806167458188467,-0.8582256657892219,-0.7358997244887561,-1.6002863982797146,-1.342914569519879,-1.4990733537424075,-0.3652638944918259,-1.92684552525247,3.114066971264444,-1.5190089398340945,-1.7815488398107908,-2.0636822130046713,-0.5338793671921662,-0.6626852672843508,-1.8513418129259516,-0.9092466813115361,-0.9296438480717354,0.39819325952620505,-0.8334370141907037,13.70385323926484,2.0841522017020595,5.031970240753321,1.7716587643870176,0.3830941630616022,1.8439070118086254,0.8421270981605393,4.381300174722079,5.175192135789866,-1.500844446265933,-0.9071795643944,0.726772804256651,3.0249690993429517,-1.2690936149782048,0.040163128400184316,0.09077140570045854,-1.0975094698880377,-0.794814707924271,-0.7537785824181656,-0.7705683856108332,-1.1978172590484457,-0.8191733569420632,-1.0647218050282088,-1.3990858214471054,-1.3963340419487549,-0.9208858326212227,-0.6872112878258522,-1.5977471710954252,-1.3314232067652414,-1.5134604982339237,-0.3332225633060957,-1.8939401728826657,3.484706787732199,-1.4962718962804618,-1.8096225843374578,-2.0566872491063073,-0.5723585056892174,-0.682923985158269,-1.7704464516626186,-0.8370922342782501,-1.0618360991935174,0.37610234446757757,-0.8135728957516879,13.852794321159658,2.10807089312778,4.9411550706583816,1.9132151986708859,0.8598708785023355,1.8274526301031049,0.9091487524646258,4.337814737296658,5.358691838348342],\"xaxis\":\"x\",\"y\":[2.64439820548488,0.09860797489659127,2.64966500261499,2.403170812487773,-0.791827825377744,-0.7899300065273003,0.147749705938654,-1.1664336283341836,2.0328826082212834,2.5068918222679093,0.04162225787857855,-1.0620628508613568,2.043027924131123,-1.384899008733549,1.6664087658302595,-0.9932722307320382,0.3125128123589383,0.14559784221155259,-1.1589683053260487,-1.479634477824327,-1.2933266549021878,-1.255974234067323,-1.3513718726770412,0.01220925895405853,-1.1939365393214432,-1.649498175588668,-1.0909309876007214,-1.3729339484558407,-1.5266169092597104,-1.350947336542452,-1.7585047907516633,2.421690033305943,2.529460989143064,0.22981092575247403,0.17634691211503836,0.3054063354725191,-0.499507306921084,-0.6106227562623637,0.2520813025703782,-0.380052117382187,0.4468684206045782,-4.712328499699535,-0.5690718765535653,2.6724629058901805,0.12806718142738518,2.675467075661148,-1.9705627913910626,-0.7838457648197004,-0.5629681348257056,2.64578102183603,2.1781256202697596,1.9878419083709635,2.3218451208710427,0.06698457833857739,-1.030546548876399,2.0894707610390792,-1.187700517550452,1.7846999853838785,-1.065794081447706,0.36631968762049466,0.10054336684847973,-1.285300694891081,-1.3931244626815127,-1.26171326879887,-1.2774395642162684,-1.278634379401276,-0.14674199844729782,-1.1452522999389865,-1.5607084072420756,-1.2412742833679806,-1.3385264734260562,-1.3829229818103603,-1.3116824964332177,-1.515620102565004,2.4915899171588722,2.694605637482475,0.25316417787857515,4.568850633204117,0.27825306629867985,-5.02408011640066,-0.443359147035524,0.28634522997010037,-0.9969137843803013,0.3912427542928288,-4.86821340935993,-4.224145583489318,2.683531875139496,0.13379636021316055,2.623265714902,2.4975976407238045,-0.7970897266082411,-0.4386510895809468,2.7534815601888027,2.1943270555407612,2.0119896123676875,2.4378536554635786,0.273437051881462,-1.0004730353554903,2.205032159165096,-1.2491145392225507,1.8633565036325732,-1.0228389297479825,0.49426319795176366,1.0791059388635003,-1.3690764013185202,-1.3836578470261789,-1.2397139721476265,2.2842570095575687,-0.7487084949126055,-1.8564318238768096,-1.0877388013293947,-1.259905171708358,-1.332253440660022,-1.257537661814847,-1.4073528673538442,-1.3079303535270292,-1.1983846845201727,0.9324235192824587,2.4489539269577385,0.2438685249981288,4.744599482394708,0.29601921813935045,-5.145065437797774,-0.6770336678849491,2.5018727719337033,-0.9695972679471948,0.39672482235886886,-4.824264029745072,-4.2746861688785955,2.655994345291939,0.128068437183941,2.6266707077203915,-1.813216256303299,-0.7968784290706413,-0.43737753919966904,2.768233130732891,2.1936043545429595,2.0021410926751915,2.4398830910989364,0.19873123271538348,-0.9892505674004252,2.2202209937461834,-1.1964887927170522,1.880081518313314,-1.0233319495755862,0.5098710379354283,1.2426981519325402,-1.347650046452998,-1.3938596872091646,-1.2197036589619252,2.2375681187058274,-0.7484237280898699,-1.9292628292196858,-1.0855179558807448,-1.2609797144922021,-1.3321045790340895,-1.278173241743321,-1.4648723067410048,-1.3050396049156299,-1.2765694877017115,3.508046077489062,2.440759201252123,0.2403621359204662,4.958916962322088,0.3760866713846841,-5.020985742301109,-0.7901081890501938,2.5268418389585903,-0.8938188358247416,0.3979053627023509,-4.778382278710407,-4.226745958387119,2.8517158604947843,0.1241850280114398,2.6017564178294483,-1.830996354671021,-0.7969562703658123,-0.4341373745439701,2.728610873310599,2.181593003037299,2.005190168866383,2.4668827420504886,0.1812198839127695,-0.9917239403632635,2.2270503749092434,-1.3273267597999379,1.8693851712551057,-1.0294139056107434,0.5310282076888523,1.8518005304350664,-1.3500987168949534,-1.3928630541069618,-1.2094631590705918,2.2641648962366894,-0.6122290977292005,-1.968634904690637,-1.069255708974601,-1.2549905219663142,-1.439803022448874,-1.2403791574218683,-1.4603695881256473,-1.2977859393591977,-1.418911770154344,3.346295676036496,2.4224396925829854,0.24111999080765767,5.221440675782277,0.3925297559771011,-4.9849833638617325,-0.7366425057615404,2.513233021651978,-0.8828929600372558,0.3901881625131617,-4.78017908121585,-4.449034452770648,2.848715839947938,0.12760611836638222,2.629631116982488,-1.7414661018091748,-0.7983492333090397,-0.43663462592489793,2.747102532214059,2.19465808837954,2.0346720800858797,2.431362430938598,0.1587897009445025,-0.9934481614793019,2.208453344814671,-1.317829259491424,1.891798925780596,-1.0098518818912146,0.5723631557930244,1.2653467298639796,-1.3487427293173544,-1.382417051504769,-1.212578771855415,2.2425196545465806,-0.6229586684086501,-1.8491968092439475,-1.0557452538157324,-1.2582591479921563,-1.4397387574992762,2.270395641133299,-1.319683643703723,-1.2893246024547074,-1.4208245263174857,3.3738164727280933,2.429831286016659,0.24147777873856843,5.43923263745323,-1.161591063297012,-4.86777980172831,-0.7392659692164945,2.499373479639445,-0.8631717780287553,0.39860721888522693,-4.892429434727776,-4.409268672962296,2.855994933504106,0.1251167018149478,2.6442715851312153,-1.8193565799613636,-0.7934234217393065,-0.4372987942285948,2.747046381868866,2.1932031432060146,2.003839331041445,2.4793317477107313,0.15196664807208557,-0.9947451806693762,2.1865970234807204,-1.3147443400075682,1.8859566835272674,-1.0143085517081332,0.5531115770404024,1.474414602396961,-1.3281383365250354,-1.37689021586959,-1.1972797364932353,-0.3829292683703916,-0.6172954377509516,-1.7651915854022642,-1.0335893472996427,-1.2545171505607273,-1.4439732120135784,-1.223572446720941,-1.3157046968125463,-1.2531444518700032,-1.3618128585937375,3.4087043289102894,2.4428736060116285,2.658909557589041,5.651440736063552,-1.080454000023558,-4.829253881738184,-0.7239912191506838,2.50974636811725,-0.8706519646771583,0.20762700365160652,-4.910510759540438,-4.290860253453828,2.8718955274754734,0.13018744587226572,2.684619090268275,-2.1932503839029436,-0.7939690415997334,-0.4382922521439537,2.6849454312809296,2.192092765151863,1.8377398406445116,2.466027699963646,0.11970517381932594,-0.9940401681153365,2.189161121547514,-1.3105582551553208,1.8974450427410163,-1.0097662653990827,0.616282978280532,1.3077808002848115,-1.314371788235376,-1.4923900156708547,-1.1609471052765135,-0.37292058509741044,-0.6075815259410102,-1.878871585440835,-1.0437093215359932,-1.2449588765274548,-1.4465702683711845,-1.1830811013829172,-1.2792364387088409,-1.235574679893888,-1.4292409175606189,3.328112375964904,2.4724149421488324,2.670600929368232,5.714975964838094,-1.1219869390426767,-4.884469171829018,-0.7257518472822506,2.477635800310417,-0.8812013462733054,0.2587531751472658,-5.0349090875508145,-4.303665806082319,2.8851038744070467,0.13505134945384212,2.718376846107042,-1.9889530169014955,-0.7893162002184441,-0.43960068900851834,2.725219334268508,2.1891835773038757,-0.13582901085535717,2.449850023656364,0.12969324365813384,-0.9874994725538733,2.17262169557616,-1.3168085241519778,1.9031178295290152,-1.0168555848751286,0.6030882804020097,1.2698042386455761,-1.3145485693046892,-1.4812120334027372,-0.9107281441644972,-0.33190991961017974,-0.5925941151430584,-1.4542551250677,-1.0205407274392126,-1.2314912415597021,-1.4444262674632364,-1.1731164477833733,-0.3875716701161429,-1.2233635902166244,-1.3819526373396536,3.383254337182795,2.50744506581207,2.666431921153022,6.120650872979436,-1.0812222547301915,-4.81302014215664,-0.7225462201473118,2.4713942981320005,-0.9914173908562758,0.3059661266157125,-5.008664024707107,-4.262856799761905,2.8900208798103724,0.14311058208343627,2.783200209845187,-1.8575126582592714,-0.778063230749694,-0.4386181426250446,2.732635289103039,2.0804920902309503,1.8520354626348918,2.4846786729787627,0.14884426316301885,-0.9858611981254586,2.1418969452756205,-1.3075050945982891,1.9181745547970583,-1.002883958749577,0.5442705976353571,0.8846991360358687,-1.318487134077025,-1.4795665603092232,-0.8267798538157313,2.396745890176874,-0.5935244305797355,-1.4503474641213032,-1.005237403428514,-1.2169884513494655,-1.4517621077588985,-0.28906622327775555,-1.2712658537240733,-1.2033656817197955,-1.2707071066566904,3.353978195207635,2.507476246803967,2.6772772186708327,6.186898944214338,-0.9563900706843707,-4.735623379310403,-1.0197223220836444,2.501892053675442,-0.9762087749817417,0.32336075489821164,-5.015575928070792,-4.178022931697134,3.899836514622331,0.137972622525515,2.774330541786609,-1.4274343411394175,-0.7740838803410186,-0.4384545770058036,2.7255228421709674,2.0812739185731837,1.8554614730217303,2.5096822000854924,0.1314342514790158,-0.9748126855734163,2.158680402254427,-1.3090408647750584,1.9071510661596418,-1.0085693384771524,0.5687006552796858,0.4066015569488294,-1.3183864374806804,-1.4806003519030444,-0.8371594541807097,2.3711629955933886,-0.5991142813412208,-1.4950338405535653,-0.9906898559077617,-1.2276234085772444,-1.4515262949292815,-0.2867277547334481,-0.3577036671566353,-1.1755215529610163,-1.298360556321735,3.3897488877042075,2.624549382179866,3.100506637461821,6.095734850698528,-0.967622644298422,-4.6763033092360855,-1.0235104256837708,2.5349558211200356,-0.9546950643804532,-1.3306464987794004,-5.033753156668636,-4.101087212298998,3.9087248175444724,0.12319060489631412,2.9330249562368724,-1.282936253919066,-0.7677664191864115,-0.4385253131392051,2.732738196025929,2.083052622852487,1.8447016716640856,2.433553843057863,0.10515883609605613,-0.9833565369336387,2.17363308072013,-1.3128594664209614,1.917633668405519,-1.0121768629156545,0.5018827266956475,0.3566541864306314,-1.3236766510962403,-1.4780572396675673,-0.8493169452621152,2.3804415150637057,-0.5805372014215605,-1.4316178981279906,-0.9882023285495659,-1.2173374952377403,-1.456385735260295,-0.2905634044662883,-0.37280221109086925,-1.1500482988279015,-1.2305869416663617,3.190149568541401,2.610871199592376,3.09900036504405,6.301717863102663,-0.958785029683016,-4.7068659002979905,-0.9761657433664376,2.144643980912952,-0.9498676959566864,-1.3245067416787049,-5.139826957947846,-4.027477309241313],\"yaxis\":\"y\",\"type\":\"scatter\"}],                        {\"template\":{\"data\":{\"histogram2dcontour\":[{\"type\":\"histogram2dcontour\",\"colorbar\":{\"outlinewidth\":0,\"ticks\":\"\"},\"colorscale\":[[0.0,\"#0d0887\"],[0.1111111111111111,\"#46039f\"],[0.2222222222222222,\"#7201a8\"],[0.3333333333333333,\"#9c179e\"],[0.4444444444444444,\"#bd3786\"],[0.5555555555555556,\"#d8576b\"],[0.6666666666666666,\"#ed7953\"],[0.7777777777777778,\"#fb9f3a\"],[0.8888888888888888,\"#fdca26\"],[1.0,\"#f0f921\"]]}],\"choropleth\":[{\"type\":\"choropleth\",\"colorbar\":{\"outlinewidth\":0,\"ticks\":\"\"}}],\"histogram2d\":[{\"type\":\"histogram2d\",\"colorbar\":{\"outlinewidth\":0,\"ticks\":\"\"},\"colorscale\":[[0.0,\"#0d0887\"],[0.1111111111111111,\"#46039f\"],[0.2222222222222222,\"#7201a8\"],[0.3333333333333333,\"#9c179e\"],[0.4444444444444444,\"#bd3786\"],[0.5555555555555556,\"#d8576b\"],[0.6666666666666666,\"#ed7953\"],[0.7777777777777778,\"#fb9f3a\"],[0.8888888888888888,\"#fdca26\"],[1.0,\"#f0f921\"]]}],\"heatmap\":[{\"type\":\"heatmap\",\"colorbar\":{\"outlinewidth\":0,\"ticks\":\"\"},\"colorscale\":[[0.0,\"#0d0887\"],[0.1111111111111111,\"#46039f\"],[0.2222222222222222,\"#7201a8\"],[0.3333333333333333,\"#9c179e\"],[0.4444444444444444,\"#bd3786\"],[0.5555555555555556,\"#d8576b\"],[0.6666666666666666,\"#ed7953\"],[0.7777777777777778,\"#fb9f3a\"],[0.8888888888888888,\"#fdca26\"],[1.0,\"#f0f921\"]]}],\"heatmapgl\":[{\"type\":\"heatmapgl\",\"colorbar\":{\"outlinewidth\":0,\"ticks\":\"\"},\"colorscale\":[[0.0,\"#0d0887\"],[0.1111111111111111,\"#46039f\"],[0.2222222222222222,\"#7201a8\"],[0.3333333333333333,\"#9c179e\"],[0.4444444444444444,\"#bd3786\"],[0.5555555555555556,\"#d8576b\"],[0.6666666666666666,\"#ed7953\"],[0.7777777777777778,\"#fb9f3a\"],[0.8888888888888888,\"#fdca26\"],[1.0,\"#f0f921\"]]}],\"contourcarpet\":[{\"type\":\"contourcarpet\",\"colorbar\":{\"outlinewidth\":0,\"ticks\":\"\"}}],\"contour\":[{\"type\":\"contour\",\"colorbar\":{\"outlinewidth\":0,\"ticks\":\"\"},\"colorscale\":[[0.0,\"#0d0887\"],[0.1111111111111111,\"#46039f\"],[0.2222222222222222,\"#7201a8\"],[0.3333333333333333,\"#9c179e\"],[0.4444444444444444,\"#bd3786\"],[0.5555555555555556,\"#d8576b\"],[0.6666666666666666,\"#ed7953\"],[0.7777777777777778,\"#fb9f3a\"],[0.8888888888888888,\"#fdca26\"],[1.0,\"#f0f921\"]]}],\"surface\":[{\"type\":\"surface\",\"colorbar\":{\"outlinewidth\":0,\"ticks\":\"\"},\"colorscale\":[[0.0,\"#0d0887\"],[0.1111111111111111,\"#46039f\"],[0.2222222222222222,\"#7201a8\"],[0.3333333333333333,\"#9c179e\"],[0.4444444444444444,\"#bd3786\"],[0.5555555555555556,\"#d8576b\"],[0.6666666666666666,\"#ed7953\"],[0.7777777777777778,\"#fb9f3a\"],[0.8888888888888888,\"#fdca26\"],[1.0,\"#f0f921\"]]}],\"mesh3d\":[{\"type\":\"mesh3d\",\"colorbar\":{\"outlinewidth\":0,\"ticks\":\"\"}}],\"scatter\":[{\"fillpattern\":{\"fillmode\":\"overlay\",\"size\":10,\"solidity\":0.2},\"type\":\"scatter\"}],\"parcoords\":[{\"type\":\"parcoords\",\"line\":{\"colorbar\":{\"outlinewidth\":0,\"ticks\":\"\"}}}],\"scatterpolargl\":[{\"type\":\"scatterpolargl\",\"marker\":{\"colorbar\":{\"outlinewidth\":0,\"ticks\":\"\"}}}],\"bar\":[{\"error_x\":{\"color\":\"#2a3f5f\"},\"error_y\":{\"color\":\"#2a3f5f\"},\"marker\":{\"line\":{\"color\":\"#E5ECF6\",\"width\":0.5},\"pattern\":{\"fillmode\":\"overlay\",\"size\":10,\"solidity\":0.2}},\"type\":\"bar\"}],\"scattergeo\":[{\"type\":\"scattergeo\",\"marker\":{\"colorbar\":{\"outlinewidth\":0,\"ticks\":\"\"}}}],\"scatterpolar\":[{\"type\":\"scatterpolar\",\"marker\":{\"colorbar\":{\"outlinewidth\":0,\"ticks\":\"\"}}}],\"histogram\":[{\"marker\":{\"pattern\":{\"fillmode\":\"overlay\",\"size\":10,\"solidity\":0.2}},\"type\":\"histogram\"}],\"scattergl\":[{\"type\":\"scattergl\",\"marker\":{\"colorbar\":{\"outlinewidth\":0,\"ticks\":\"\"}}}],\"scatter3d\":[{\"type\":\"scatter3d\",\"line\":{\"colorbar\":{\"outlinewidth\":0,\"ticks\":\"\"}},\"marker\":{\"colorbar\":{\"outlinewidth\":0,\"ticks\":\"\"}}}],\"scattermapbox\":[{\"type\":\"scattermapbox\",\"marker\":{\"colorbar\":{\"outlinewidth\":0,\"ticks\":\"\"}}}],\"scatterternary\":[{\"type\":\"scatterternary\",\"marker\":{\"colorbar\":{\"outlinewidth\":0,\"ticks\":\"\"}}}],\"scattercarpet\":[{\"type\":\"scattercarpet\",\"marker\":{\"colorbar\":{\"outlinewidth\":0,\"ticks\":\"\"}}}],\"carpet\":[{\"aaxis\":{\"endlinecolor\":\"#2a3f5f\",\"gridcolor\":\"white\",\"linecolor\":\"white\",\"minorgridcolor\":\"white\",\"startlinecolor\":\"#2a3f5f\"},\"baxis\":{\"endlinecolor\":\"#2a3f5f\",\"gridcolor\":\"white\",\"linecolor\":\"white\",\"minorgridcolor\":\"white\",\"startlinecolor\":\"#2a3f5f\"},\"type\":\"carpet\"}],\"table\":[{\"cells\":{\"fill\":{\"color\":\"#EBF0F8\"},\"line\":{\"color\":\"white\"}},\"header\":{\"fill\":{\"color\":\"#C8D4E3\"},\"line\":{\"color\":\"white\"}},\"type\":\"table\"}],\"barpolar\":[{\"marker\":{\"line\":{\"color\":\"#E5ECF6\",\"width\":0.5},\"pattern\":{\"fillmode\":\"overlay\",\"size\":10,\"solidity\":0.2}},\"type\":\"barpolar\"}],\"pie\":[{\"automargin\":true,\"type\":\"pie\"}]},\"layout\":{\"autotypenumbers\":\"strict\",\"colorway\":[\"#636efa\",\"#EF553B\",\"#00cc96\",\"#ab63fa\",\"#FFA15A\",\"#19d3f3\",\"#FF6692\",\"#B6E880\",\"#FF97FF\",\"#FECB52\"],\"font\":{\"color\":\"#2a3f5f\"},\"hovermode\":\"closest\",\"hoverlabel\":{\"align\":\"left\"},\"paper_bgcolor\":\"white\",\"plot_bgcolor\":\"#E5ECF6\",\"polar\":{\"bgcolor\":\"#E5ECF6\",\"angularaxis\":{\"gridcolor\":\"white\",\"linecolor\":\"white\",\"ticks\":\"\"},\"radialaxis\":{\"gridcolor\":\"white\",\"linecolor\":\"white\",\"ticks\":\"\"}},\"ternary\":{\"bgcolor\":\"#E5ECF6\",\"aaxis\":{\"gridcolor\":\"white\",\"linecolor\":\"white\",\"ticks\":\"\"},\"baxis\":{\"gridcolor\":\"white\",\"linecolor\":\"white\",\"ticks\":\"\"},\"caxis\":{\"gridcolor\":\"white\",\"linecolor\":\"white\",\"ticks\":\"\"}},\"coloraxis\":{\"colorbar\":{\"outlinewidth\":0,\"ticks\":\"\"}},\"colorscale\":{\"sequential\":[[0.0,\"#0d0887\"],[0.1111111111111111,\"#46039f\"],[0.2222222222222222,\"#7201a8\"],[0.3333333333333333,\"#9c179e\"],[0.4444444444444444,\"#bd3786\"],[0.5555555555555556,\"#d8576b\"],[0.6666666666666666,\"#ed7953\"],[0.7777777777777778,\"#fb9f3a\"],[0.8888888888888888,\"#fdca26\"],[1.0,\"#f0f921\"]],\"sequentialminus\":[[0.0,\"#0d0887\"],[0.1111111111111111,\"#46039f\"],[0.2222222222222222,\"#7201a8\"],[0.3333333333333333,\"#9c179e\"],[0.4444444444444444,\"#bd3786\"],[0.5555555555555556,\"#d8576b\"],[0.6666666666666666,\"#ed7953\"],[0.7777777777777778,\"#fb9f3a\"],[0.8888888888888888,\"#fdca26\"],[1.0,\"#f0f921\"]],\"diverging\":[[0,\"#8e0152\"],[0.1,\"#c51b7d\"],[0.2,\"#de77ae\"],[0.3,\"#f1b6da\"],[0.4,\"#fde0ef\"],[0.5,\"#f7f7f7\"],[0.6,\"#e6f5d0\"],[0.7,\"#b8e186\"],[0.8,\"#7fbc41\"],[0.9,\"#4d9221\"],[1,\"#276419\"]]},\"xaxis\":{\"gridcolor\":\"white\",\"linecolor\":\"white\",\"ticks\":\"\",\"title\":{\"standoff\":15},\"zerolinecolor\":\"white\",\"automargin\":true,\"zerolinewidth\":2},\"yaxis\":{\"gridcolor\":\"white\",\"linecolor\":\"white\",\"ticks\":\"\",\"title\":{\"standoff\":15},\"zerolinecolor\":\"white\",\"automargin\":true,\"zerolinewidth\":2},\"scene\":{\"xaxis\":{\"backgroundcolor\":\"#E5ECF6\",\"gridcolor\":\"white\",\"linecolor\":\"white\",\"showbackground\":true,\"ticks\":\"\",\"zerolinecolor\":\"white\",\"gridwidth\":2},\"yaxis\":{\"backgroundcolor\":\"#E5ECF6\",\"gridcolor\":\"white\",\"linecolor\":\"white\",\"showbackground\":true,\"ticks\":\"\",\"zerolinecolor\":\"white\",\"gridwidth\":2},\"zaxis\":{\"backgroundcolor\":\"#E5ECF6\",\"gridcolor\":\"white\",\"linecolor\":\"white\",\"showbackground\":true,\"ticks\":\"\",\"zerolinecolor\":\"white\",\"gridwidth\":2}},\"shapedefaults\":{\"line\":{\"color\":\"#2a3f5f\"}},\"annotationdefaults\":{\"arrowcolor\":\"#2a3f5f\",\"arrowhead\":0,\"arrowwidth\":1},\"geo\":{\"bgcolor\":\"white\",\"landcolor\":\"#E5ECF6\",\"subunitcolor\":\"white\",\"showland\":true,\"showlakes\":true,\"lakecolor\":\"white\"},\"title\":{\"x\":0.05},\"mapbox\":{\"style\":\"light\"}}},\"xaxis\":{\"anchor\":\"y\",\"domain\":[0.0,1.0],\"title\":{\"text\":\"Principal Component 1\"}},\"yaxis\":{\"anchor\":\"x\",\"domain\":[0.0,1.0],\"title\":{\"text\":\"Principal Component 2\"}},\"coloraxis\":{\"colorbar\":{\"title\":{\"text\":\"Cluster Number\"}},\"colorscale\":[[0.0,\"#0d0887\"],[0.1111111111111111,\"#46039f\"],[0.2222222222222222,\"#7201a8\"],[0.3333333333333333,\"#9c179e\"],[0.4444444444444444,\"#bd3786\"],[0.5555555555555556,\"#d8576b\"],[0.6666666666666666,\"#ed7953\"],[0.7777777777777778,\"#fb9f3a\"],[0.8888888888888888,\"#fdca26\"],[1.0,\"#f0f921\"]]},\"legend\":{\"tracegroupgap\":0},\"margin\":{\"t\":60},\"title\":{\"text\":\"K-means Clustering in PCA Space with 7 Clusters\"}},                        {\"responsive\": true}                    ).then(function(){\n",
       "                            \n",
       "var gd = document.getElementById('be4eb8bd-962b-4e9c-8bc8-a7736bb6b442');\n",
       "var x = new MutationObserver(function (mutations, observer) {{\n",
       "        var display = window.getComputedStyle(gd).display;\n",
       "        if (!display || display === 'none') {{\n",
       "            console.log([gd, 'removed!']);\n",
       "            Plotly.purge(gd);\n",
       "            observer.disconnect();\n",
       "        }}\n",
       "}});\n",
       "\n",
       "// Listen for the removal of the full notebook cells\n",
       "var notebookContainer = gd.closest('#notebook-container');\n",
       "if (notebookContainer) {{\n",
       "    x.observe(notebookContainer, {childList: true});\n",
       "}}\n",
       "\n",
       "// Listen for the clearing of the current output cell\n",
       "var outputEl = gd.closest('.output');\n",
       "if (outputEl) {{\n",
       "    x.observe(outputEl, {childList: true});\n",
       "}}\n",
       "\n",
       "                        })                };                });            </script>        </div>"
      ]
     },
     "metadata": {},
     "output_type": "display_data"
    }
   ],
   "source": [
    "#| code-fold: true\n",
    "import plotly.express as px\n",
    "from plotly.offline import init_notebook_mode, iplot\n",
    "init_notebook_mode(connected=True)\n",
    "\n",
    "hover_data = data_standardized[['Country']] #This can be a way for readers to see if data in clusters are coming from same country \n",
    "\n",
    "data_standardized['Country'] = data_standardized['Country'].apply(lambda x: f'{x:.3f}')\n",
    "\n",
    "fig = px.scatter(data_standardized, x='PCA1', y='PCA2', color='cluster_number_pca', hover_data=hover_data,\n",
    "                 labels={'cluster_number_pca': 'Cluster Number', 'PCA1': 'Principal Component 1', 'PCA2': 'Principal Component 2'})\n",
    "\n",
    "fig.update_layout(title='K-means Clustering in PCA Space with 7 Clusters', xaxis_title='Principal Component 1', yaxis_title='Principal Component 2')\n",
    "fig.show()\n"
   ]
  },
  {
   "cell_type": "markdown",
   "metadata": {},
   "source": [
    "### Improoving K-Means \n",
    "\n",
    "K-Means clustering can be improoved through hyperparameter tuning. Specifically I will look at inertia and distortion plots to help improve this clustering algorithm. "
   ]
  },
  {
   "cell_type": "markdown",
   "metadata": {},
   "source": [
    "### Inertia and Distortion Table\n",
    "\n",
    "Inertia and distortion can help us find the number of clusters we want to use. **Inertia** measures how well a dataset was clustered by the k-means algorithm. Inertia is calculated by  measuring the distance between each data point and its centroid, squaring this distance, and summing these squares across one cluster. The k-means algorithm tries to minimize distortion. Distoriton is the sum of the squared distances between each observation vector and its dominating centroid.\n",
    "\n",
    "An ideal k-means algorithm has low inertia and distortion."
   ]
  },
  {
   "cell_type": "code",
   "execution_count": 571,
   "metadata": {},
   "outputs": [
    {
     "data": {
      "text/html": [
       "<div>\n",
       "<style scoped>\n",
       "    .dataframe tbody tr th:only-of-type {\n",
       "        vertical-align: middle;\n",
       "    }\n",
       "\n",
       "    .dataframe tbody tr th {\n",
       "        vertical-align: top;\n",
       "    }\n",
       "\n",
       "    .dataframe thead th {\n",
       "        text-align: right;\n",
       "    }\n",
       "</style>\n",
       "<table border=\"1\" class=\"dataframe\">\n",
       "  <thead>\n",
       "    <tr style=\"text-align: right;\">\n",
       "      <th></th>\n",
       "      <th>Cluster</th>\n",
       "      <th>Distortion</th>\n",
       "      <th>Inertia</th>\n",
       "    </tr>\n",
       "  </thead>\n",
       "  <tbody>\n",
       "    <tr>\n",
       "      <th>0</th>\n",
       "      <td>1</td>\n",
       "      <td>3.278368</td>\n",
       "      <td>7428.853456</td>\n",
       "    </tr>\n",
       "    <tr>\n",
       "      <th>1</th>\n",
       "      <td>2</td>\n",
       "      <td>2.574338</td>\n",
       "      <td>5618.204302</td>\n",
       "    </tr>\n",
       "    <tr>\n",
       "      <th>2</th>\n",
       "      <td>3</td>\n",
       "      <td>2.319021</td>\n",
       "      <td>4019.776723</td>\n",
       "    </tr>\n",
       "    <tr>\n",
       "      <th>3</th>\n",
       "      <td>4</td>\n",
       "      <td>1.911938</td>\n",
       "      <td>2670.702230</td>\n",
       "    </tr>\n",
       "    <tr>\n",
       "      <th>4</th>\n",
       "      <td>5</td>\n",
       "      <td>1.714138</td>\n",
       "      <td>2280.528928</td>\n",
       "    </tr>\n",
       "    <tr>\n",
       "      <th>5</th>\n",
       "      <td>6</td>\n",
       "      <td>1.605272</td>\n",
       "      <td>1858.588267</td>\n",
       "    </tr>\n",
       "    <tr>\n",
       "      <th>6</th>\n",
       "      <td>7</td>\n",
       "      <td>1.482730</td>\n",
       "      <td>1472.000526</td>\n",
       "    </tr>\n",
       "    <tr>\n",
       "      <th>7</th>\n",
       "      <td>8</td>\n",
       "      <td>1.369983</td>\n",
       "      <td>1213.250800</td>\n",
       "    </tr>\n",
       "    <tr>\n",
       "      <th>8</th>\n",
       "      <td>9</td>\n",
       "      <td>1.264855</td>\n",
       "      <td>1088.774512</td>\n",
       "    </tr>\n",
       "  </tbody>\n",
       "</table>\n",
       "</div>"
      ],
      "text/plain": [
       "   Cluster  Distortion      Inertia\n",
       "0        1    3.278368  7428.853456\n",
       "1        2    2.574338  5618.204302\n",
       "2        3    2.319021  4019.776723\n",
       "3        4    1.911938  2670.702230\n",
       "4        5    1.714138  2280.528928\n",
       "5        6    1.605272  1858.588267\n",
       "6        7    1.482730  1472.000526\n",
       "7        8    1.369983  1213.250800\n",
       "8        9    1.264855  1088.774512"
      ]
     },
     "execution_count": 571,
     "metadata": {},
     "output_type": "execute_result"
    }
   ],
   "source": [
    "#| code-fold: true\n",
    "# This code find the inertia and distorition for the number of clusters ranging 1 -10\n",
    "num_clusters_list = []\n",
    "inertia_list = []\n",
    "distortion_list = []\n",
    "\n",
    "for num_clusters in range(1, 10):\n",
    "    kmeans = KMeans(n_clusters=num_clusters, random_state=0, n_init=10)\n",
    "    kmeans.fit(data_standardized)\n",
    "    inertia = kmeans.inertia_\n",
    "    num_clusters_list.append(num_clusters)\n",
    "    inertia_list.append(inertia)\n",
    "\n",
    "    distortion = sum(np.min(kmeans.transform(data_standardized), axis=1)) / data_standardized.shape[0]\n",
    "    distortion_list.append(distortion)\n",
    "\n",
    "result_df = pd.DataFrame({'Cluster': num_clusters_list,'Distortion': distortion_list, 'Inertia': inertia_list})\n",
    "result_df"
   ]
  },
  {
   "cell_type": "markdown",
   "metadata": {},
   "source": [
    "### Elbow Plots\n",
    "\n",
    "Within this section you will see two plots. The plot on the left shows how the distortion changes when the clusters increase and the plot on the right shows how the inertia changes when clusters increase. Elbow plots help us figure out how many clusters we should be using. "
   ]
  },
  {
   "cell_type": "code",
   "execution_count": 572,
   "metadata": {},
   "outputs": [
    {
     "data": {
      "image/png": "[encoded data removed]",
      "text/plain": [
       "<Figure size 1200x400 with 2 Axes>"
      ]
     },
     "metadata": {},
     "output_type": "display_data"
    }
   ],
   "source": [
    "#| code-fold: true\n",
    "fig, ax = plt.subplots(1, 2, figsize=(12, 4))\n",
    "# Plot for Distortion\n",
    "ax[0].plot(result_df['Cluster'], result_df['Distortion'], marker='o', color='#A9DFBF')\n",
    "ax[0].set_title('Distortion vs. Number of Clusters')\n",
    "ax[0].set_xlabel('Number of Clusters')\n",
    "ax[0].set_ylabel('Distortion')\n",
    "\n",
    "# Plot for Inertia\n",
    "ax[1].plot(result_df['Cluster'], result_df['Inertia'], marker='o', color='skyblue')\n",
    "ax[1].set_title('Inertia vs. Number of Clusters')\n",
    "ax[1].set_xlabel('Number of Clusters')\n",
    "ax[1].set_ylabel('Inertia')\n",
    "plt.tight_layout()"
   ]
  },
  {
   "cell_type": "markdown",
   "metadata": {},
   "source": [
    "As you can see from the plots above the distortion and inertia is very high when the number of clusters are low. In order to find the optimal number of clusters we must look for the elbow. The elbow appears to be at 3 for distortion and 4 for inertia. Knowing this, I will perform k-means again, although this time I will use 3 clusters. "
   ]
  },
  {
   "cell_type": "markdown",
   "metadata": {},
   "source": [
    "### K-Means (2)\n",
    "\n",
    "I am now going to repeat k-means but when three clusters. This is because I have found the optimal number of clusters above using elbow plots. The table below illustrates how k-means has assigned each row with a cluster number under (cluster_number)."
   ]
  },
  {
   "cell_type": "code",
   "execution_count": 576,
   "metadata": {},
   "outputs": [
    {
     "name": "stderr",
     "output_type": "stream",
     "text": [
      "/Users/kendallgilbert/anaconda3/lib/python3.11/site-packages/sklearn/cluster/_kmeans.py:1412: FutureWarning:\n",
      "\n",
      "The default value of `n_init` will change from 10 to 'auto' in 1.4. Set the value of `n_init` explicitly to suppress the warning\n",
      "\n"
     ]
    },
    {
     "data": {
      "text/html": [
       "<div>\n",
       "<style scoped>\n",
       "    .dataframe tbody tr th:only-of-type {\n",
       "        vertical-align: middle;\n",
       "    }\n",
       "\n",
       "    .dataframe tbody tr th {\n",
       "        vertical-align: top;\n",
       "    }\n",
       "\n",
       "    .dataframe thead th {\n",
       "        text-align: right;\n",
       "    }\n",
       "</style>\n",
       "<table border=\"1\" class=\"dataframe\">\n",
       "  <thead>\n",
       "    <tr style=\"text-align: right;\">\n",
       "      <th></th>\n",
       "      <th>Aqua Production (Millions)</th>\n",
       "      <th>Marine Protected Area (sqkm)</th>\n",
       "      <th>Inventions (number)</th>\n",
       "      <th>Instruments (number)</th>\n",
       "      <th>Fishing Exports (Millions)</th>\n",
       "      <th>Value</th>\n",
       "      <th>Country</th>\n",
       "      <th>PCA1</th>\n",
       "      <th>PCA2</th>\n",
       "      <th>cluster_number_pca</th>\n",
       "      <th>cluster_number</th>\n",
       "    </tr>\n",
       "  </thead>\n",
       "  <tbody>\n",
       "    <tr>\n",
       "      <th>0</th>\n",
       "      <td>0.679748</td>\n",
       "      <td>-0.216403</td>\n",
       "      <td>-0.255849</td>\n",
       "      <td>0.128004</td>\n",
       "      <td>-0.179730</td>\n",
       "      <td>-0.246968</td>\n",
       "      <td>-0.805823</td>\n",
       "      <td>-0.007693</td>\n",
       "      <td>-0.269437</td>\n",
       "      <td>0</td>\n",
       "      <td>2</td>\n",
       "    </tr>\n",
       "    <tr>\n",
       "      <th>1</th>\n",
       "      <td>-0.369917</td>\n",
       "      <td>-0.279476</td>\n",
       "      <td>-0.331231</td>\n",
       "      <td>-1.113538</td>\n",
       "      <td>-0.548519</td>\n",
       "      <td>-0.751243</td>\n",
       "      <td>-0.725241</td>\n",
       "      <td>-0.587992</td>\n",
       "      <td>0.612862</td>\n",
       "      <td>0</td>\n",
       "      <td>0</td>\n",
       "    </tr>\n",
       "    <tr>\n",
       "      <th>2</th>\n",
       "      <td>-0.301377</td>\n",
       "      <td>-0.200619</td>\n",
       "      <td>-0.182663</td>\n",
       "      <td>0.872929</td>\n",
       "      <td>0.563609</td>\n",
       "      <td>-0.503371</td>\n",
       "      <td>-0.644658</td>\n",
       "      <td>0.483523</td>\n",
       "      <td>-0.286789</td>\n",
       "      <td>0</td>\n",
       "      <td>2</td>\n",
       "    </tr>\n",
       "    <tr>\n",
       "      <th>3</th>\n",
       "      <td>-0.345421</td>\n",
       "      <td>-0.000724</td>\n",
       "      <td>-0.326903</td>\n",
       "      <td>-0.120304</td>\n",
       "      <td>0.168121</td>\n",
       "      <td>0.151617</td>\n",
       "      <td>-0.564076</td>\n",
       "      <td>0.379146</td>\n",
       "      <td>-0.184297</td>\n",
       "      <td>0</td>\n",
       "      <td>2</td>\n",
       "    </tr>\n",
       "    <tr>\n",
       "      <th>4</th>\n",
       "      <td>-0.288119</td>\n",
       "      <td>-0.249281</td>\n",
       "      <td>-0.333362</td>\n",
       "      <td>-1.113538</td>\n",
       "      <td>-0.674262</td>\n",
       "      <td>-0.751243</td>\n",
       "      <td>-0.483494</td>\n",
       "      <td>-0.749202</td>\n",
       "      <td>0.645374</td>\n",
       "      <td>0</td>\n",
       "      <td>0</td>\n",
       "    </tr>\n",
       "    <tr>\n",
       "      <th>...</th>\n",
       "      <td>...</td>\n",
       "      <td>...</td>\n",
       "      <td>...</td>\n",
       "      <td>...</td>\n",
       "      <td>...</td>\n",
       "      <td>...</td>\n",
       "      <td>...</td>\n",
       "      <td>...</td>\n",
       "      <td>...</td>\n",
       "      <td>...</td>\n",
       "      <td>...</td>\n",
       "    </tr>\n",
       "    <tr>\n",
       "      <th>511</th>\n",
       "      <td>-0.358976</td>\n",
       "      <td>-0.218847</td>\n",
       "      <td>-0.326903</td>\n",
       "      <td>-0.616921</td>\n",
       "      <td>0.228323</td>\n",
       "      <td>0.828407</td>\n",
       "      <td>-1.208734</td>\n",
       "      <td>0.681468</td>\n",
       "      <td>-0.537140</td>\n",
       "      <td>0</td>\n",
       "      <td>2</td>\n",
       "    </tr>\n",
       "    <tr>\n",
       "      <th>512</th>\n",
       "      <td>-0.281627</td>\n",
       "      <td>-0.028119</td>\n",
       "      <td>-0.278457</td>\n",
       "      <td>1.866162</td>\n",
       "      <td>-0.505692</td>\n",
       "      <td>1.956863</td>\n",
       "      <td>-1.128152</td>\n",
       "      <td>1.042013</td>\n",
       "      <td>-2.720060</td>\n",
       "      <td>1</td>\n",
       "      <td>2</td>\n",
       "    </tr>\n",
       "    <tr>\n",
       "      <th>513</th>\n",
       "      <td>0.096134</td>\n",
       "      <td>-0.211732</td>\n",
       "      <td>0.098324</td>\n",
       "      <td>-0.865229</td>\n",
       "      <td>0.653408</td>\n",
       "      <td>-0.412848</td>\n",
       "      <td>-1.047570</td>\n",
       "      <td>0.428745</td>\n",
       "      <td>0.623107</td>\n",
       "      <td>0</td>\n",
       "      <td>0</td>\n",
       "    </tr>\n",
       "    <tr>\n",
       "      <th>514</th>\n",
       "      <td>-0.332200</td>\n",
       "      <td>-0.017895</td>\n",
       "      <td>-0.326903</td>\n",
       "      <td>2.114471</td>\n",
       "      <td>0.723741</td>\n",
       "      <td>3.356415</td>\n",
       "      <td>-0.966988</td>\n",
       "      <td>2.207933</td>\n",
       "      <td>-3.390646</td>\n",
       "      <td>1</td>\n",
       "      <td>0</td>\n",
       "    </tr>\n",
       "    <tr>\n",
       "      <th>515</th>\n",
       "      <td>-0.360655</td>\n",
       "      <td>0.834997</td>\n",
       "      <td>-0.333362</td>\n",
       "      <td>-0.120304</td>\n",
       "      <td>1.695861</td>\n",
       "      <td>3.040295</td>\n",
       "      <td>-0.886405</td>\n",
       "      <td>2.825434</td>\n",
       "      <td>-1.366719</td>\n",
       "      <td>1</td>\n",
       "      <td>0</td>\n",
       "    </tr>\n",
       "  </tbody>\n",
       "</table>\n",
       "<p>516 rows × 11 columns</p>\n",
       "</div>"
      ],
      "text/plain": [
       "     Aqua Production (Millions)  Marine Protected Area (sqkm)  \\\n",
       "0                      0.679748                     -0.216403   \n",
       "1                     -0.369917                     -0.279476   \n",
       "2                     -0.301377                     -0.200619   \n",
       "3                     -0.345421                     -0.000724   \n",
       "4                     -0.288119                     -0.249281   \n",
       "..                          ...                           ...   \n",
       "511                   -0.358976                     -0.218847   \n",
       "512                   -0.281627                     -0.028119   \n",
       "513                    0.096134                     -0.211732   \n",
       "514                   -0.332200                     -0.017895   \n",
       "515                   -0.360655                      0.834997   \n",
       "\n",
       "     Inventions (number)  Instruments (number)  Fishing Exports (Millions)  \\\n",
       "0              -0.255849              0.128004                   -0.179730   \n",
       "1              -0.331231             -1.113538                   -0.548519   \n",
       "2              -0.182663              0.872929                    0.563609   \n",
       "3              -0.326903             -0.120304                    0.168121   \n",
       "4              -0.333362             -1.113538                   -0.674262   \n",
       "..                   ...                   ...                         ...   \n",
       "511            -0.326903             -0.616921                    0.228323   \n",
       "512            -0.278457              1.866162                   -0.505692   \n",
       "513             0.098324             -0.865229                    0.653408   \n",
       "514            -0.326903              2.114471                    0.723741   \n",
       "515            -0.333362             -0.120304                    1.695861   \n",
       "\n",
       "        Value   Country      PCA1      PCA2  cluster_number_pca  \\\n",
       "0   -0.246968 -0.805823 -0.007693 -0.269437                   0   \n",
       "1   -0.751243 -0.725241 -0.587992  0.612862                   0   \n",
       "2   -0.503371 -0.644658  0.483523 -0.286789                   0   \n",
       "3    0.151617 -0.564076  0.379146 -0.184297                   0   \n",
       "4   -0.751243 -0.483494 -0.749202  0.645374                   0   \n",
       "..        ...       ...       ...       ...                 ...   \n",
       "511  0.828407 -1.208734  0.681468 -0.537140                   0   \n",
       "512  1.956863 -1.128152  1.042013 -2.720060                   1   \n",
       "513 -0.412848 -1.047570  0.428745  0.623107                   0   \n",
       "514  3.356415 -0.966988  2.207933 -3.390646                   1   \n",
       "515  3.040295 -0.886405  2.825434 -1.366719                   1   \n",
       "\n",
       "     cluster_number  \n",
       "0                 2  \n",
       "1                 0  \n",
       "2                 2  \n",
       "3                 2  \n",
       "4                 0  \n",
       "..              ...  \n",
       "511               2  \n",
       "512               2  \n",
       "513               0  \n",
       "514               0  \n",
       "515               0  \n",
       "\n",
       "[516 rows x 11 columns]"
      ]
     },
     "execution_count": 576,
     "metadata": {},
     "output_type": "execute_result"
    }
   ],
   "source": [
    "#| code-fold: true\n",
    "k = 3 #number of optimal clusters\n",
    "kmeans = KMeans(k, random_state=42)\n",
    "kmeans.fit(data_standardized)\n",
    "data_standardized"
   ]
  },
  {
   "cell_type": "markdown",
   "metadata": {},
   "source": [
    "### Clustering Plot (2)"
   ]
  },
  {
   "cell_type": "code",
   "execution_count": 577,
   "metadata": {},
   "outputs": [
    {
     "name": "stderr",
     "output_type": "stream",
     "text": [
      "/Users/kendallgilbert/anaconda3/lib/python3.11/site-packages/sklearn/cluster/_kmeans.py:1412: FutureWarning:\n",
      "\n",
      "The default value of `n_init` will change from 10 to 'auto' in 1.4. Set the value of `n_init` explicitly to suppress the warning\n",
      "\n"
     ]
    },
    {
     "data": {
      "application/vnd.plotly.v1+json": {
       "config": {
        "plotlyServerURL": "https://plot.ly"
       },
       "data": [
        {
         "customdata": [
          [
           -0.8058229640253802
          ],
          [
           -0.7252406676228422
          ],
          [
           -0.6446583712203042
          ],
          [
           -0.5640760748177662
          ],
          [
           -0.48349377841522817
          ],
          [
           -0.4029114820126901
          ],
          [
           -0.3223291856101521
          ],
          [
           -0.24174688920761409
          ],
          [
           -0.16116459280507606
          ],
          [
           -0.08058229640253803
          ],
          [
           0
          ],
          [
           0.08058229640253803
          ],
          [
           0.16116459280507606
          ],
          [
           0.24174688920761409
          ],
          [
           0.3223291856101521
          ],
          [
           0.4029114820126901
          ],
          [
           0.48349377841522817
          ],
          [
           0.5640760748177662
          ],
          [
           0.6446583712203042
          ],
          [
           0.7252406676228422
          ],
          [
           0.8058229640253802
          ],
          [
           0.8864052604279183
          ],
          [
           0.9669875568304563
          ],
          [
           1.0475698532329945
          ],
          [
           1.1281521496355325
          ],
          [
           1.2087344460380705
          ],
          [
           1.2893167424406085
          ],
          [
           1.3698990388431465
          ],
          [
           1.4504813352456845
          ],
          [
           1.5310636316482225
          ],
          [
           1.6116459280507605
          ],
          [
           1.6922282244532987
          ],
          [
           -1.6922282244532987
          ],
          [
           -1.6116459280507605
          ],
          [
           -1.5310636316482225
          ],
          [
           -1.4504813352456845
          ],
          [
           -1.3698990388431465
          ],
          [
           -1.2893167424406085
          ],
          [
           -1.2087344460380705
          ],
          [
           -1.1281521496355325
          ],
          [
           -1.0475698532329945
          ],
          [
           -0.9669875568304563
          ],
          [
           -0.8864052604279183
          ],
          [
           -0.8058229640253802
          ],
          [
           -0.7252406676228422
          ],
          [
           -0.6446583712203042
          ],
          [
           -0.5640760748177662
          ],
          [
           -0.48349377841522817
          ],
          [
           -0.4029114820126901
          ],
          [
           -0.3223291856101521
          ],
          [
           -0.24174688920761409
          ],
          [
           -0.16116459280507606
          ],
          [
           -0.08058229640253803
          ],
          [
           0
          ],
          [
           0.08058229640253803
          ],
          [
           0.16116459280507606
          ],
          [
           0.24174688920761409
          ],
          [
           0.3223291856101521
          ],
          [
           0.4029114820126901
          ],
          [
           0.48349377841522817
          ],
          [
           0.5640760748177662
          ],
          [
           0.6446583712203042
          ],
          [
           0.7252406676228422
          ],
          [
           0.8058229640253802
          ],
          [
           0.8864052604279183
          ],
          [
           0.9669875568304563
          ],
          [
           1.0475698532329945
          ],
          [
           1.1281521496355325
          ],
          [
           1.2087344460380705
          ],
          [
           1.2893167424406085
          ],
          [
           1.3698990388431465
          ],
          [
           1.4504813352456845
          ],
          [
           1.5310636316482225
          ],
          [
           1.6116459280507605
          ],
          [
           1.6922282244532987
          ],
          [
           -1.6922282244532987
          ],
          [
           -1.6116459280507605
          ],
          [
           -1.5310636316482225
          ],
          [
           -1.4504813352456845
          ],
          [
           -1.3698990388431465
          ],
          [
           -1.2893167424406085
          ],
          [
           -1.2087344460380705
          ],
          [
           -1.1281521496355325
          ],
          [
           -1.0475698532329945
          ],
          [
           -0.9669875568304563
          ],
          [
           -0.8864052604279183
          ],
          [
           -0.8058229640253802
          ],
          [
           -0.7252406676228422
          ],
          [
           -0.6446583712203042
          ],
          [
           -0.5640760748177662
          ],
          [
           -0.48349377841522817
          ],
          [
           -0.4029114820126901
          ],
          [
           -0.3223291856101521
          ],
          [
           -0.24174688920761409
          ],
          [
           -0.16116459280507606
          ],
          [
           -0.08058229640253803
          ],
          [
           0
          ],
          [
           0.08058229640253803
          ],
          [
           0.16116459280507606
          ],
          [
           0.24174688920761409
          ],
          [
           0.3223291856101521
          ],
          [
           0.4029114820126901
          ],
          [
           0.48349377841522817
          ],
          [
           0.5640760748177662
          ],
          [
           0.6446583712203042
          ],
          [
           0.7252406676228422
          ],
          [
           0.8058229640253802
          ],
          [
           0.8864052604279183
          ],
          [
           0.9669875568304563
          ],
          [
           1.0475698532329945
          ],
          [
           1.1281521496355325
          ],
          [
           1.2087344460380705
          ],
          [
           1.2893167424406085
          ],
          [
           1.3698990388431465
          ],
          [
           1.4504813352456845
          ],
          [
           1.5310636316482225
          ],
          [
           1.6116459280507605
          ],
          [
           1.6922282244532987
          ],
          [
           -1.6922282244532987
          ],
          [
           -1.6116459280507605
          ],
          [
           -1.5310636316482225
          ],
          [
           -1.4504813352456845
          ],
          [
           -1.3698990388431465
          ],
          [
           -1.2893167424406085
          ],
          [
           -1.2087344460380705
          ],
          [
           -1.1281521496355325
          ],
          [
           -1.0475698532329945
          ],
          [
           -0.9669875568304563
          ],
          [
           -0.8864052604279183
          ],
          [
           -0.8058229640253802
          ],
          [
           -0.7252406676228422
          ],
          [
           -0.6446583712203042
          ],
          [
           -0.5640760748177662
          ],
          [
           -0.48349377841522817
          ],
          [
           -0.4029114820126901
          ],
          [
           -0.3223291856101521
          ],
          [
           -0.24174688920761409
          ],
          [
           -0.16116459280507606
          ],
          [
           -0.08058229640253803
          ],
          [
           0
          ],
          [
           0.08058229640253803
          ],
          [
           0.16116459280507606
          ],
          [
           0.24174688920761409
          ],
          [
           0.3223291856101521
          ],
          [
           0.4029114820126901
          ],
          [
           0.48349377841522817
          ],
          [
           0.5640760748177662
          ],
          [
           0.6446583712203042
          ],
          [
           0.7252406676228422
          ],
          [
           0.8058229640253802
          ],
          [
           0.8864052604279183
          ],
          [
           0.9669875568304563
          ],
          [
           1.0475698532329945
          ],
          [
           1.1281521496355325
          ],
          [
           1.2087344460380705
          ],
          [
           1.2893167424406085
          ],
          [
           1.3698990388431465
          ],
          [
           1.4504813352456845
          ],
          [
           1.5310636316482225
          ],
          [
           1.6116459280507605
          ],
          [
           1.6922282244532987
          ],
          [
           -1.6922282244532987
          ],
          [
           -1.6116459280507605
          ],
          [
           -1.5310636316482225
          ],
          [
           -1.4504813352456845
          ],
          [
           -1.3698990388431465
          ],
          [
           -1.2893167424406085
          ],
          [
           -1.2087344460380705
          ],
          [
           -1.1281521496355325
          ],
          [
           -1.0475698532329945
          ],
          [
           -0.9669875568304563
          ],
          [
           -0.8864052604279183
          ],
          [
           -0.8058229640253802
          ],
          [
           -0.7252406676228422
          ],
          [
           -0.6446583712203042
          ],
          [
           -0.5640760748177662
          ],
          [
           -0.48349377841522817
          ],
          [
           -0.4029114820126901
          ],
          [
           -0.3223291856101521
          ],
          [
           -0.24174688920761409
          ],
          [
           -0.16116459280507606
          ],
          [
           -0.08058229640253803
          ],
          [
           0
          ],
          [
           0.08058229640253803
          ],
          [
           0.16116459280507606
          ],
          [
           0.24174688920761409
          ],
          [
           0.3223291856101521
          ],
          [
           0.4029114820126901
          ],
          [
           0.48349377841522817
          ],
          [
           0.5640760748177662
          ],
          [
           0.6446583712203042
          ],
          [
           0.7252406676228422
          ],
          [
           0.8058229640253802
          ],
          [
           0.8864052604279183
          ],
          [
           0.9669875568304563
          ],
          [
           1.0475698532329945
          ],
          [
           1.1281521496355325
          ],
          [
           1.2087344460380705
          ],
          [
           1.2893167424406085
          ],
          [
           1.3698990388431465
          ],
          [
           1.4504813352456845
          ],
          [
           1.5310636316482225
          ],
          [
           1.6116459280507605
          ],
          [
           1.6922282244532987
          ],
          [
           -1.6922282244532987
          ],
          [
           -1.6116459280507605
          ],
          [
           -1.5310636316482225
          ],
          [
           -1.4504813352456845
          ],
          [
           -1.3698990388431465
          ],
          [
           -1.2893167424406085
          ],
          [
           -1.2087344460380705
          ],
          [
           -1.1281521496355325
          ],
          [
           -1.0475698532329945
          ],
          [
           -0.9669875568304563
          ],
          [
           -0.8864052604279183
          ],
          [
           -0.8058229640253802
          ],
          [
           -0.7252406676228422
          ],
          [
           -0.6446583712203042
          ],
          [
           -0.5640760748177662
          ],
          [
           -0.48349377841522817
          ],
          [
           -0.4029114820126901
          ],
          [
           -0.3223291856101521
          ],
          [
           -0.24174688920761409
          ],
          [
           -0.16116459280507606
          ],
          [
           -0.08058229640253803
          ],
          [
           0
          ],
          [
           0.08058229640253803
          ],
          [
           0.16116459280507606
          ],
          [
           0.24174688920761409
          ],
          [
           0.3223291856101521
          ],
          [
           0.4029114820126901
          ],
          [
           0.48349377841522817
          ],
          [
           0.5640760748177662
          ],
          [
           0.6446583712203042
          ],
          [
           0.7252406676228422
          ],
          [
           0.8058229640253802
          ],
          [
           0.8864052604279183
          ],
          [
           0.9669875568304563
          ],
          [
           1.0475698532329945
          ],
          [
           1.1281521496355325
          ],
          [
           1.2087344460380705
          ],
          [
           1.2893167424406085
          ],
          [
           1.3698990388431465
          ],
          [
           1.4504813352456845
          ],
          [
           1.5310636316482225
          ],
          [
           1.6116459280507605
          ],
          [
           1.6922282244532987
          ],
          [
           -1.6922282244532987
          ],
          [
           -1.6116459280507605
          ],
          [
           -1.5310636316482225
          ],
          [
           -1.4504813352456845
          ],
          [
           -1.3698990388431465
          ],
          [
           -1.2893167424406085
          ],
          [
           -1.2087344460380705
          ],
          [
           -1.1281521496355325
          ],
          [
           -1.0475698532329945
          ],
          [
           -0.9669875568304563
          ],
          [
           -0.8864052604279183
          ],
          [
           -0.8058229640253802
          ],
          [
           -0.7252406676228422
          ],
          [
           -0.6446583712203042
          ],
          [
           -0.5640760748177662
          ],
          [
           -0.48349377841522817
          ],
          [
           -0.4029114820126901
          ],
          [
           -0.3223291856101521
          ],
          [
           -0.24174688920761409
          ],
          [
           -0.16116459280507606
          ],
          [
           -0.08058229640253803
          ],
          [
           0
          ],
          [
           0.08058229640253803
          ],
          [
           0.16116459280507606
          ],
          [
           0.24174688920761409
          ],
          [
           0.3223291856101521
          ],
          [
           0.4029114820126901
          ],
          [
           0.48349377841522817
          ],
          [
           0.5640760748177662
          ],
          [
           0.6446583712203042
          ],
          [
           0.7252406676228422
          ],
          [
           0.8058229640253802
          ],
          [
           0.8864052604279183
          ],
          [
           0.9669875568304563
          ],
          [
           1.0475698532329945
          ],
          [
           1.1281521496355325
          ],
          [
           1.2087344460380705
          ],
          [
           1.2893167424406085
          ],
          [
           1.3698990388431465
          ],
          [
           1.4504813352456845
          ],
          [
           1.5310636316482225
          ],
          [
           1.6116459280507605
          ],
          [
           1.6922282244532987
          ],
          [
           -1.6922282244532987
          ],
          [
           -1.6116459280507605
          ],
          [
           -1.5310636316482225
          ],
          [
           -1.4504813352456845
          ],
          [
           -1.3698990388431465
          ],
          [
           -1.2893167424406085
          ],
          [
           -1.2087344460380705
          ],
          [
           -1.1281521496355325
          ],
          [
           -1.0475698532329945
          ],
          [
           -0.9669875568304563
          ],
          [
           -0.8864052604279183
          ],
          [
           -0.8058229640253802
          ],
          [
           -0.7252406676228422
          ],
          [
           -0.6446583712203042
          ],
          [
           -0.5640760748177662
          ],
          [
           -0.48349377841522817
          ],
          [
           -0.4029114820126901
          ],
          [
           -0.3223291856101521
          ],
          [
           -0.24174688920761409
          ],
          [
           -0.16116459280507606
          ],
          [
           -0.08058229640253803
          ],
          [
           0
          ],
          [
           0.08058229640253803
          ],
          [
           0.16116459280507606
          ],
          [
           0.24174688920761409
          ],
          [
           0.3223291856101521
          ],
          [
           0.4029114820126901
          ],
          [
           0.48349377841522817
          ],
          [
           0.5640760748177662
          ],
          [
           0.6446583712203042
          ],
          [
           0.7252406676228422
          ],
          [
           0.8058229640253802
          ],
          [
           0.8864052604279183
          ],
          [
           0.9669875568304563
          ],
          [
           1.0475698532329945
          ],
          [
           1.1281521496355325
          ],
          [
           1.2087344460380705
          ],
          [
           1.2893167424406085
          ],
          [
           1.3698990388431465
          ],
          [
           1.4504813352456845
          ],
          [
           1.5310636316482225
          ],
          [
           1.6116459280507605
          ],
          [
           1.6922282244532987
          ],
          [
           -1.6922282244532987
          ],
          [
           -1.6116459280507605
          ],
          [
           -1.5310636316482225
          ],
          [
           -1.4504813352456845
          ],
          [
           -1.3698990388431465
          ],
          [
           -1.2893167424406085
          ],
          [
           -1.2087344460380705
          ],
          [
           -1.1281521496355325
          ],
          [
           -1.0475698532329945
          ],
          [
           -0.9669875568304563
          ],
          [
           -0.8864052604279183
          ],
          [
           -0.8058229640253802
          ],
          [
           -0.7252406676228422
          ],
          [
           -0.6446583712203042
          ],
          [
           -0.5640760748177662
          ],
          [
           -0.48349377841522817
          ],
          [
           -0.4029114820126901
          ],
          [
           -0.3223291856101521
          ],
          [
           -0.24174688920761409
          ],
          [
           -0.16116459280507606
          ],
          [
           -0.08058229640253803
          ],
          [
           0
          ],
          [
           0.08058229640253803
          ],
          [
           0.16116459280507606
          ],
          [
           0.24174688920761409
          ],
          [
           0.3223291856101521
          ],
          [
           0.4029114820126901
          ],
          [
           0.48349377841522817
          ],
          [
           0.5640760748177662
          ],
          [
           0.6446583712203042
          ],
          [
           0.7252406676228422
          ],
          [
           0.8058229640253802
          ],
          [
           0.8864052604279183
          ],
          [
           0.9669875568304563
          ],
          [
           1.0475698532329945
          ],
          [
           1.1281521496355325
          ],
          [
           1.2087344460380705
          ],
          [
           1.2893167424406085
          ],
          [
           1.3698990388431465
          ],
          [
           1.4504813352456845
          ],
          [
           1.5310636316482225
          ],
          [
           1.6116459280507605
          ],
          [
           1.6922282244532987
          ],
          [
           -1.6922282244532987
          ],
          [
           -1.6116459280507605
          ],
          [
           -1.5310636316482225
          ],
          [
           -1.4504813352456845
          ],
          [
           -1.3698990388431465
          ],
          [
           -1.2893167424406085
          ],
          [
           -1.2087344460380705
          ],
          [
           -1.1281521496355325
          ],
          [
           -1.0475698532329945
          ],
          [
           -0.9669875568304563
          ],
          [
           -0.8864052604279183
          ],
          [
           -0.8058229640253802
          ],
          [
           -0.7252406676228422
          ],
          [
           -0.6446583712203042
          ],
          [
           -0.5640760748177662
          ],
          [
           -0.48349377841522817
          ],
          [
           -0.4029114820126901
          ],
          [
           -0.3223291856101521
          ],
          [
           -0.24174688920761409
          ],
          [
           -0.16116459280507606
          ],
          [
           -0.08058229640253803
          ],
          [
           0
          ],
          [
           0.08058229640253803
          ],
          [
           0.16116459280507606
          ],
          [
           0.24174688920761409
          ],
          [
           0.3223291856101521
          ],
          [
           0.4029114820126901
          ],
          [
           0.48349377841522817
          ],
          [
           0.5640760748177662
          ],
          [
           0.6446583712203042
          ],
          [
           0.7252406676228422
          ],
          [
           0.8058229640253802
          ],
          [
           0.8864052604279183
          ],
          [
           0.9669875568304563
          ],
          [
           1.0475698532329945
          ],
          [
           1.1281521496355325
          ],
          [
           1.2087344460380705
          ],
          [
           1.2893167424406085
          ],
          [
           1.3698990388431465
          ],
          [
           1.4504813352456845
          ],
          [
           1.5310636316482225
          ],
          [
           1.6116459280507605
          ],
          [
           1.6922282244532987
          ],
          [
           -1.6922282244532987
          ],
          [
           -1.6116459280507605
          ],
          [
           -1.5310636316482225
          ],
          [
           -1.4504813352456845
          ],
          [
           -1.3698990388431465
          ],
          [
           -1.2893167424406085
          ],
          [
           -1.2087344460380705
          ],
          [
           -1.1281521496355325
          ],
          [
           -1.0475698532329945
          ],
          [
           -0.9669875568304563
          ],
          [
           -0.8864052604279183
          ],
          [
           -0.8058229640253802
          ],
          [
           -0.7252406676228422
          ],
          [
           -0.6446583712203042
          ],
          [
           -0.5640760748177662
          ],
          [
           -0.48349377841522817
          ],
          [
           -0.4029114820126901
          ],
          [
           -0.3223291856101521
          ],
          [
           -0.24174688920761409
          ],
          [
           -0.16116459280507606
          ],
          [
           -0.08058229640253803
          ],
          [
           0
          ],
          [
           0.08058229640253803
          ],
          [
           0.16116459280507606
          ],
          [
           0.24174688920761409
          ],
          [
           0.3223291856101521
          ],
          [
           0.4029114820126901
          ],
          [
           0.48349377841522817
          ],
          [
           0.5640760748177662
          ],
          [
           0.6446583712203042
          ],
          [
           0.7252406676228422
          ],
          [
           0.8058229640253802
          ],
          [
           0.8864052604279183
          ],
          [
           0.9669875568304563
          ],
          [
           1.0475698532329945
          ],
          [
           1.1281521496355325
          ],
          [
           1.2087344460380705
          ],
          [
           1.2893167424406085
          ],
          [
           1.3698990388431465
          ],
          [
           1.4504813352456845
          ],
          [
           1.5310636316482225
          ],
          [
           1.6116459280507605
          ],
          [
           1.6922282244532987
          ],
          [
           -1.6922282244532987
          ],
          [
           -1.6116459280507605
          ],
          [
           -1.5310636316482225
          ],
          [
           -1.4504813352456845
          ],
          [
           -1.3698990388431465
          ],
          [
           -1.2893167424406085
          ],
          [
           -1.2087344460380705
          ],
          [
           -1.1281521496355325
          ],
          [
           -1.0475698532329945
          ],
          [
           -0.9669875568304563
          ],
          [
           -0.8864052604279183
          ],
          [
           -0.8058229640253802
          ],
          [
           -0.7252406676228422
          ],
          [
           -0.6446583712203042
          ],
          [
           -0.5640760748177662
          ],
          [
           -0.48349377841522817
          ],
          [
           -0.4029114820126901
          ],
          [
           -0.3223291856101521
          ],
          [
           -0.24174688920761409
          ],
          [
           -0.16116459280507606
          ],
          [
           -0.08058229640253803
          ],
          [
           0
          ],
          [
           0.08058229640253803
          ],
          [
           0.16116459280507606
          ],
          [
           0.24174688920761409
          ],
          [
           0.3223291856101521
          ],
          [
           0.4029114820126901
          ],
          [
           0.48349377841522817
          ],
          [
           0.5640760748177662
          ],
          [
           0.6446583712203042
          ],
          [
           0.7252406676228422
          ],
          [
           0.8058229640253802
          ],
          [
           0.8864052604279183
          ],
          [
           0.9669875568304563
          ],
          [
           1.0475698532329945
          ],
          [
           1.1281521496355325
          ],
          [
           1.2087344460380705
          ],
          [
           1.2893167424406085
          ],
          [
           1.3698990388431465
          ],
          [
           1.4504813352456845
          ],
          [
           1.5310636316482225
          ],
          [
           1.6116459280507605
          ],
          [
           1.6922282244532987
          ],
          [
           -1.6922282244532987
          ],
          [
           -1.6116459280507605
          ],
          [
           -1.5310636316482225
          ],
          [
           -1.4504813352456845
          ],
          [
           -1.3698990388431465
          ],
          [
           -1.2893167424406085
          ],
          [
           -1.2087344460380705
          ],
          [
           -1.1281521496355325
          ],
          [
           -1.0475698532329945
          ],
          [
           -0.9669875568304563
          ],
          [
           -0.8864052604279183
          ]
         ],
         "hovertemplate": "Principal Component 1=%{x}<br>Principal Component 2=%{y}<br>Country=%{customdata[0]}<br>Cluster Number=%{marker.color}<extra></extra>",
         "legendgroup": "",
         "marker": {
          "color": [
           0,
           0,
           0,
           0,
           0,
           1,
           0,
           0,
           0,
           0,
           0,
           0,
           0,
           0,
           0,
           0,
           0,
           0,
           0,
           0,
           0,
           0,
           0,
           0,
           0,
           0,
           0,
           0,
           0,
           0,
           0,
           0,
           0,
           0,
           2,
           0,
           1,
           1,
           0,
           1,
           0,
           1,
           1,
           0,
           0,
           0,
           0,
           0,
           1,
           0,
           0,
           0,
           0,
           0,
           0,
           0,
           0,
           0,
           0,
           0,
           0,
           0,
           0,
           0,
           0,
           0,
           0,
           0,
           0,
           0,
           0,
           0,
           0,
           0,
           0,
           0,
           0,
           2,
           0,
           1,
           1,
           0,
           1,
           0,
           1,
           1,
           0,
           0,
           0,
           0,
           0,
           1,
           0,
           0,
           0,
           0,
           0,
           0,
           0,
           0,
           0,
           0,
           0,
           0,
           0,
           0,
           0,
           0,
           0,
           0,
           0,
           0,
           0,
           0,
           0,
           0,
           0,
           0,
           0,
           0,
           2,
           0,
           1,
           1,
           0,
           1,
           0,
           1,
           1,
           0,
           0,
           0,
           0,
           0,
           1,
           0,
           0,
           0,
           0,
           0,
           0,
           0,
           0,
           0,
           0,
           0,
           0,
           0,
           0,
           0,
           0,
           0,
           0,
           0,
           0,
           0,
           0,
           0,
           0,
           0,
           0,
           0,
           0,
           2,
           0,
           1,
           1,
           0,
           1,
           0,
           1,
           1,
           0,
           0,
           0,
           0,
           0,
           1,
           0,
           0,
           0,
           0,
           0,
           0,
           0,
           0,
           0,
           0,
           0,
           0,
           0,
           0,
           0,
           0,
           0,
           0,
           0,
           0,
           0,
           0,
           0,
           0,
           0,
           0,
           0,
           0,
           2,
           0,
           1,
           1,
           0,
           1,
           0,
           1,
           1,
           0,
           0,
           0,
           0,
           0,
           1,
           0,
           0,
           0,
           0,
           0,
           0,
           0,
           0,
           0,
           0,
           0,
           0,
           0,
           0,
           0,
           0,
           0,
           0,
           0,
           0,
           0,
           0,
           0,
           0,
           0,
           0,
           0,
           0,
           2,
           0,
           1,
           1,
           0,
           1,
           0,
           1,
           1,
           0,
           0,
           0,
           0,
           0,
           1,
           0,
           0,
           0,
           0,
           0,
           0,
           0,
           0,
           0,
           0,
           0,
           0,
           0,
           0,
           0,
           0,
           0,
           0,
           0,
           0,
           0,
           0,
           0,
           0,
           0,
           0,
           0,
           0,
           2,
           0,
           1,
           1,
           0,
           1,
           0,
           1,
           1,
           0,
           0,
           0,
           1,
           0,
           1,
           0,
           0,
           0,
           0,
           0,
           0,
           0,
           0,
           0,
           0,
           0,
           0,
           0,
           0,
           0,
           0,
           0,
           0,
           0,
           0,
           0,
           0,
           0,
           0,
           0,
           0,
           0,
           0,
           2,
           0,
           1,
           1,
           0,
           1,
           0,
           1,
           1,
           0,
           0,
           0,
           1,
           0,
           1,
           0,
           0,
           0,
           0,
           0,
           0,
           0,
           0,
           0,
           0,
           0,
           0,
           0,
           0,
           0,
           0,
           0,
           0,
           0,
           0,
           0,
           0,
           0,
           0,
           0,
           0,
           0,
           0,
           2,
           0,
           1,
           1,
           0,
           1,
           0,
           1,
           1,
           0,
           0,
           0,
           1,
           0,
           1,
           0,
           0,
           0,
           0,
           0,
           0,
           0,
           0,
           0,
           0,
           0,
           0,
           0,
           0,
           0,
           0,
           0,
           0,
           0,
           0,
           0,
           0,
           0,
           0,
           0,
           0,
           0,
           0,
           2,
           0,
           1,
           1,
           0,
           1,
           0,
           1,
           1,
           0,
           0,
           0,
           1,
           0,
           1,
           0,
           0,
           0,
           0,
           0,
           0,
           0,
           0,
           0,
           0,
           0,
           0,
           0,
           0,
           0,
           0,
           0,
           0,
           0,
           0,
           0,
           0,
           0,
           0,
           0,
           0,
           0,
           0,
           2,
           0,
           1,
           1,
           0,
           1,
           0,
           1,
           1,
           0,
           0,
           0,
           1,
           0,
           1,
           0,
           0,
           0,
           0,
           0,
           0,
           0,
           0,
           0,
           0,
           0,
           0,
           0,
           0,
           0,
           0,
           0,
           0,
           0,
           0,
           0,
           0,
           0,
           0,
           0,
           0,
           0,
           0,
           2,
           0,
           1,
           1,
           0,
           1,
           0,
           1,
           1
          ],
          "coloraxis": "coloraxis",
          "symbol": "circle"
         },
         "mode": "markers",
         "name": "",
         "orientation": "v",
         "showlegend": false,
         "type": "scatter",
         "x": [
          -0.00769261702855789,
          -0.5879924795767757,
          0.4835233173127544,
          0.3791461395184507,
          -0.7492023721628306,
          0.25077226214051046,
          0.06606534887620136,
          -0.6891150718825538,
          -0.45550660276439137,
          -0.3832268054962364,
          -0.611830841993679,
          -0.8347886319964958,
          -0.31895636878929534,
          -0.7283829841641636,
          -0.504765043085576,
          -0.9350355304263666,
          -0.8299784450925358,
          -0.7257085438982033,
          -1.152451736285599,
          -0.9976282710096986,
          -0.9412403854468374,
          -0.7222989046623278,
          -0.8706296892055425,
          0.15109045065676752,
          -1.2928542090220694,
          -1.0470655512754543,
          -1.533398437593532,
          -0.7016884553298776,
          -1.1597723045049628,
          -1.4307556865702442,
          -0.7697488856178578,
          -0.4266476745794024,
          0.15445107282747828,
          -0.2828781193959966,
          3.2156513933334474,
          0.1321641938649538,
          1.5047408505727675,
          0.582179341317788,
          -0.17712888508688565,
          0.5216811976925587,
          0.19457069705118654,
          2.7551414019414473,
          1.3197549911580815,
          -0.1920147253637042,
          -0.5373713787611033,
          0.3971348540519949,
          0.7992184608660574,
          -0.7717031148967337,
          0.12631851780020786,
          0.12827997464978322,
          -0.5229600731162125,
          -0.41592450368142275,
          -0.2528986093340957,
          -0.6381651698865773,
          -0.8338539510266485,
          -0.3626513012036003,
          -0.8523715195839856,
          -0.5677849252930022,
          -0.8836421662675213,
          -0.7663606087295414,
          -0.7019778009172041,
          -1.0524534128064207,
          -1.0080094985698274,
          -0.9825355316152352,
          -0.525435693337058,
          -0.9703071698598891,
          0.03656114579759076,
          -1.2583567767555435,
          -1.099596194676339,
          -1.4318132663412786,
          -0.725987435521685,
          -1.1179508602463488,
          -1.4016741505982115,
          -0.8517863415158748,
          -0.1717126909590716,
          0.23510216081006596,
          -0.24254447951110272,
          4.803267818465998,
          0.06539953270526974,
          1.9694453694381757,
          0.60209974613523,
          -0.08997855687837564,
          0.918847388292144,
          -0.13429199164004707,
          2.4448032132756237,
          1.9609586867923672,
          -0.24086339539695215,
          -0.5356592574194595,
          0.3179208594013475,
          0.5361882104302645,
          -0.8011579323417148,
          0.020273283426257924,
          0.02303366272693295,
          -0.5300343054784679,
          -0.4068570280407681,
          -0.27312751141557684,
          -0.5175052024505684,
          -0.8050124948851878,
          -0.3120534183974575,
          -0.7914981313586157,
          -0.6051677410167791,
          -0.9137013645583103,
          -0.6911925463723632,
          -0.5112301952430759,
          -0.9974235682419283,
          -0.9865374512136559,
          -0.983951324948856,
          -0.48392674538243824,
          -1.1285268009236058,
          0.733240899377765,
          -1.169972076196869,
          -1.1812468725625533,
          -1.3729964770728025,
          -0.7014645978314334,
          -0.7833392493838993,
          -1.3944945861480553,
          -0.7846172083935088,
          -0.37294188339279694,
          0.3807183596986814,
          -0.31773186133699527,
          5.670456918733052,
          0.10352518024019623,
          2.0125705581626825,
          0.7654247869275268,
          0.32666667020441,
          0.968287367818021,
          -0.20313061563395715,
          2.5454795627646014,
          1.8692716161413714,
          -0.2530553084463003,
          -0.5233729454957871,
          0.3199581026143155,
          0.8070161838065819,
          -0.802361221955253,
          0.023673671442379234,
          0.03414829850129289,
          -0.5282658760629498,
          -0.4116130233955913,
          -0.2792330985644526,
          -0.4755897934340329,
          -0.7919017371820335,
          -0.2722262201869629,
          -0.8048391545757192,
          -0.6119377363246349,
          -0.9027408557135094,
          -0.7352832604121202,
          -0.4441873303734613,
          -1.007039547220293,
          -0.9827506011111549,
          -0.9341682621367555,
          -0.44520369555000977,
          -1.1377954227176386,
          0.6024834319345751,
          -1.1507111759184518,
          -1.1616592098785665,
          -1.3726589933000402,
          -0.5455288849844738,
          -0.7973194393825042,
          -1.3768813477905402,
          -0.6694075857942566,
          -0.16556760109334523,
          0.35906897222110334,
          -0.3200424737294623,
          6.2087290323176685,
          0.2924557557975163,
          1.9816479265753333,
          0.8318318895321685,
          0.3875398281525727,
          0.9225947406957182,
          -0.21809227596823785,
          2.6472000422345845,
          1.9973747812713247,
          -0.3142116035793535,
          -0.5477057220882782,
          0.324222232792864,
          0.7610686877367495,
          -0.8024806982775246,
          0.03226239718332956,
          0.01406462464462998,
          -0.5139748404774607,
          -0.4079775187616139,
          -0.25898752806231945,
          -0.4703194934204863,
          -0.7940736884086366,
          -0.25630661428071955,
          -0.6938371473998923,
          -0.6114800063231777,
          -0.9188598185390722,
          -0.7208778036869424,
          -0.45432621932715317,
          -0.9949534995498589,
          -0.983767284133028,
          -0.9426620533532154,
          -0.4275923068066826,
          -1.2122782334188171,
          0.5351900728065476,
          -1.1382900464997523,
          -1.1582984218015047,
          -1.300048886552043,
          -0.5437667518897735,
          -0.7765449712786141,
          -1.3666724767008573,
          -0.6629972589296776,
          -0.26501364517894327,
          0.29820050089426947,
          -0.3200674887162766,
          6.647723484631944,
          0.31772720914771774,
          2.060204338522771,
          0.7887916795828444,
          0.3679818550418463,
          0.946616598159241,
          -0.23528872201616202,
          2.6457043025870894,
          2.0057354762940043,
          -0.3008540476709805,
          -0.5508253603071662,
          0.3569087352045311,
          0.9699824276476476,
          -0.8043583035394938,
          0.025648648566835585,
          0.07153279888636538,
          -0.5230139752413403,
          -0.4081213642627855,
          -0.2627822637937098,
          -0.4660714700246381,
          -0.8022133111027921,
          -0.24702897654189476,
          -0.7098771048813676,
          -0.6105608434811824,
          -0.9078349686079485,
          -0.6522233783774104,
          -0.5083534770198284,
          -0.9913596579498419,
          -0.980085117164749,
          -0.9502496914414674,
          -0.4354206438256037,
          -1.2284350245511348,
          0.7989621670978008,
          -1.1129697093875042,
          -1.1578441623614693,
          -1.2999083496058155,
          -0.5169139381916552,
          -0.7497119220975951,
          -1.3478887693081245,
          -0.6184631488692884,
          -0.23364647874680156,
          0.32317898249581717,
          -0.3235516276759702,
          7.0052371107116915,
          0.6446988479798508,
          2.275257530050138,
          0.7770902594692773,
          0.3143953984788473,
          1.0016847617513998,
          -0.2035435878316888,
          2.379041650529259,
          2.099626817709447,
          -0.27894574139730016,
          -0.5370604519454679,
          0.4052522456389537,
          1.4854716405263408,
          -0.799579504902208,
          0.02389264992759887,
          0.07769887664917373,
          -0.5257456029860647,
          -0.4084341916716935,
          -0.2879259872722829,
          -0.42155212778534856,
          -0.7956099199448424,
          -0.30693606314076943,
          -0.699971393342298,
          -0.6168826850933711,
          -0.9015681168326567,
          -0.6271511720654902,
          -0.5347132626899493,
          -1.0115480249123732,
          -0.9654048646493256,
          -0.9341885392169845,
          -0.4187355817336495,
          -1.2160878576134888,
          0.9889077127624789,
          -1.0796143013949782,
          -1.1422578423207033,
          -1.2960843978769994,
          -0.5595328242257874,
          -0.685549426834831,
          -1.3261772920842907,
          -0.5910331600797725,
          -0.22919289701773332,
          0.3576825537951012,
          -0.12411572404735757,
          7.458593083480695,
          0.8558744359372228,
          2.374642979193873,
          0.8133985724296794,
          0.34537431012412445,
          0.9794337283734795,
          0.026854343838144737,
          2.3387443054694677,
          2.355143175258085,
          -0.2377467625560419,
          -0.5281380002323111,
          0.5569083151105755,
          1.3273169146255306,
          -0.7979564715282625,
          0.021306045384008074,
          0.18540408039296852,
          -0.5286601151840635,
          -0.30053938581566236,
          -0.2670905851620721,
          -0.4213945483810393,
          -0.788134971276349,
          -0.29843934370860786,
          -0.6988935851903396,
          -0.6188611243595,
          -0.891893576853704,
          -0.5575326074115977,
          -0.5421444761223276,
          -1.0218264988300536,
          -0.8757070979958429,
          -0.9262405724982002,
          -0.3760145415416763,
          -1.1909069145954871,
          1.206890016981868,
          -1.0727295159486152,
          -1.1273827906816891,
          -1.2957115150796839,
          -0.4896572112193373,
          -0.6004872142685126,
          -1.3019932900520148,
          -0.6730544697140298,
          -0.27260119813792216,
          0.277625184561567,
          -0.11134018088329965,
          7.425582502829256,
          0.73409340853576,
          2.259335054666985,
          0.8025779119217267,
          0.27306786415527023,
          0.9378846637130505,
          0.23322427422846925,
          2.2627195949827543,
          2.2651970750646284,
          -0.2462124266260266,
          -0.5170436877077967,
          0.6580760857569409,
          1.4019238447509983,
          -0.7968545076483263,
          0.017691236508559912,
          0.26227155737819996,
          -0.5364042390025292,
          -0.2372027678222159,
          -0.24461140817076318,
          -0.3901440266236212,
          -0.7681859741786122,
          -0.34388020219042625,
          -0.7013248588650759,
          -0.625134353849578,
          -0.8865954979826903,
          -0.5575332483988056,
          -0.4917821280086299,
          -1.0186230333517097,
          -0.871088182027601,
          -0.9826333242086632,
          -0.2702087748183055,
          -1.1678706038708075,
          1.7114381429420902,
          -1.0159276585898265,
          -1.1437811126170807,
          -1.293705999094282,
          -0.4235259461307564,
          -0.4662593933781744,
          -1.2660954727592832,
          -0.5801726755968979,
          -0.2983815991291966,
          0.36170042962341376,
          -0.11161244884777603,
          8.195748037712066,
          0.8593025091894521,
          2.3784836660095157,
          0.8016490154620494,
          0.2506524093325945,
          0.9957002735899282,
          0.3165424895068248,
          2.319037521794388,
          2.372984788158908,
          -0.24403295371306644,
          -0.5011318074706855,
          0.6604430361177042,
          1.5736708962544408,
          -0.8077955399608719,
          0.020349776551950662,
          0.2685235743785498,
          -0.463759957929642,
          -0.27654067526616244,
          -0.23724486606713946,
          -0.42366398161714647,
          -0.7628986420486343,
          -0.37306533691003246,
          -0.6846289289975692,
          -0.6313609075988554,
          -0.8813164203699925,
          -0.5362795724014716,
          -0.4398107905208791,
          -1.013765892165042,
          -0.8666855049315564,
          -0.9638600213704264,
          -0.02655260565341732,
          -1.1749393144478566,
          1.680415479060794,
          -0.9935139808671039,
          -1.1264855773144495,
          -1.2907819472532316,
          -0.3509114013435099,
          -0.5375039227465702,
          -1.2305963674566414,
          -0.5460667284606409,
          -0.20062636633873782,
          0.37455148946361566,
          -0.11558854752233369,
          8.228344318939365,
          1.1422061933029461,
          2.514312630437064,
          1.012849539293949,
          0.334687867157515,
          1.039369639244982,
          0.2850792014946351,
          2.2917012423679526,
          2.583914927280431,
          -0.6031559036557788,
          -0.5311981019705604,
          0.6514448201232156,
          1.5162073397559084,
          -0.8042173878242442,
          0.02080706296094075,
          0.2526140712770513,
          -0.46354469852121716,
          -0.2740400740101805,
          -0.243125914438918,
          -0.4374434646767129,
          -0.7643873163214141,
          -0.32731759058424276,
          -0.6931988172936752,
          -0.6371131386259345,
          -0.8751777692343491,
          -0.500946675958575,
          -0.43322917353637613,
          -1.0134905590898238,
          -0.869437214211934,
          -0.9362419229186649,
          -0.028207008359987955,
          -1.1734001206465015,
          1.6243942250953405,
          -0.9605213235403359,
          -1.1195080256153047,
          -1.2902364670485402,
          -0.34046549036263624,
          -0.421238088191244,
          -1.1617510386380878,
          -0.613729096746353,
          -0.30166337897161044,
          0.43451581621393015,
          -0.2580841973676011,
          8.100050753522675,
          1.1227968552015994,
          2.6320490079743353,
          1.0106282716745147,
          0.4179548745303106,
          1.0513663935040245,
          0.3897349617823806,
          2.2354957132935844,
          2.716617274463179,
          -0.6022567560310221,
          -0.539393329359872,
          0.6408461543060198,
          1.6028464435380707,
          -0.7991349394296094,
          0.018812762623586388,
          0.2556958255246754,
          -0.45523378320260094,
          -0.2810050209564327,
          -0.2429834671716197,
          -0.4639601451387396,
          -0.7679547919155219,
          -0.2947713700664683,
          -0.7009194175246206,
          -0.6363719027150706,
          -0.8843913470358742,
          -0.5395189112461687,
          -0.40676931705238417,
          -1.0122068084932856,
          -0.8626984223275085,
          -0.9449798615507585,
          -0.00932461901836603,
          -1.1537138606383497,
          1.8411239812805584,
          -0.9472723428100933,
          -1.1353942140954167,
          -1.2863602591222238,
          -0.3628643200812731,
          -0.43347121595691274,
          -1.1140408021243735,
          -0.5689587266126251,
          -0.38503969124475346,
          0.42128605950268994,
          -0.24663796752392075,
          8.193483308041543,
          1.1369624002268366,
          2.5784133230623327,
          1.0942800679477174,
          0.681468453521696,
          1.0420126824238036,
          0.4287450418127671,
          2.207933359762159,
          2.825433615577934
         ],
         "xaxis": "x",
         "y": [
          -0.26943735129682417,
          0.6128617709513468,
          -0.2867893679110097,
          -0.18429739901774586,
          0.6453735281028672,
          -2.183388816843314,
          0.6431638544893556,
          0.16209515496934981,
          -0.7788793273019179,
          0.17132819947033717,
          0.7226675419502679,
          0.4786294679606328,
          -0.2988719133994496,
          0.18549272407294698,
          -0.9153423663743632,
          0.668582936199627,
          1.1503974514019826,
          1.0459384089281902,
          0.5935216567185532,
          0.09364707165326035,
          0.4017791898589694,
          0.3991080102143349,
          0.4030979562522764,
          0.9158409646476153,
          0.7375857724830183,
          0.1541577083412548,
          1.0009778494093553,
          0.25849353761227817,
          0.14275499738107195,
          0.7146470596580992,
          -0.06480643422735953,
          -0.05613868815296817,
          -0.20302278443652327,
          0.40203650197305124,
          2.3955118680053,
          0.47608089721957314,
          -1.7218430014564203,
          -2.035981472923321,
          0.5990853454569928,
          -1.4627341149397026,
          0.8580022702416182,
          -2.7454846929536743,
          -1.3248863024146569,
          -0.25393805008767184,
          0.6447832266793754,
          -0.2629867642647812,
          -0.18994346277107782,
          0.6387239045076363,
          -1.9298153047999458,
          0.0978513013224728,
          -0.3025587056573161,
          -0.9163315823987043,
          -0.2096246043413214,
          0.7462934294168576,
          0.5119191654329912,
          -0.24686580818343792,
          0.4059245104918247,
          -0.7831427061577544,
          0.49905334710602395,
          1.20855829337919,
          0.8069693778823626,
          0.36633785828961485,
          0.19033768431524256,
          0.4271850069651191,
          0.28826738949621467,
          0.4422259954700328,
          0.6522214712663971,
          0.7888199298136266,
          0.2533743547670634,
          0.74688591204684,
          0.20954182060409215,
          0.38817507602053647,
          0.7569933417965141,
          0.20007735480933478,
          -0.15887010293243514,
          -0.020432645161168765,
          0.42483262040527714,
          3.4496669052982996,
          0.44683478705179364,
          -3.4390544773654326,
          -1.849578326989084,
          0.636801499958693,
          -2.669688838086457,
          0.7843897312403487,
          -2.9106501185657416,
          -1.4778879438101222,
          -0.34769711363208666,
          0.6507522784027632,
          -0.4204073081440991,
          -0.33265016041652384,
          0.624361846160236,
          -1.704834203456135,
          0.2986849022976638,
          -0.28477092613944877,
          -0.89206560430107,
          -0.18369151157437436,
          0.9612243431751442,
          0.5438810438645018,
          -0.11765890365116112,
          0.24949394140962772,
          -0.6958662469179828,
          0.5440245019685563,
          1.3425911200895162,
          1.727552322130146,
          0.1848155424539109,
          0.2007970572339795,
          0.4465246702363954,
          0.15001992671070608,
          0.39310732109102603,
          0.3724239609310124,
          0.8518445632276057,
          0.5850949117168269,
          0.5594000971785006,
          0.2971727753947214,
          0.18200139759031306,
          0.7610406795957848,
          0.540986683251903,
          0.3008903592892946,
          -0.3814215320136808,
          0.4060413706401479,
          3.6396245197959116,
          0.46755927704749883,
          -3.7863133903589525,
          -2.2844109876791023,
          -0.05231612756669116,
          -2.642552703824085,
          0.7583985724890122,
          -2.862906651656632,
          -1.5302668539927353,
          -0.37870948526069287,
          0.6452269278557907,
          -0.4166219276536981,
          -0.18043416904167578,
          0.6245425774349508,
          -1.7034095892009349,
          0.3142573595579455,
          -0.285459864160524,
          -0.9017144350611902,
          -0.18055359200753476,
          0.8857954347529183,
          0.5538345589759431,
          -0.10074034845123839,
          0.3079363121376025,
          -0.6775828628333775,
          0.5436501791311353,
          1.3578037669727645,
          1.8987484682813982,
          0.20871296746658174,
          0.18950634548672168,
          0.4686850841805257,
          0.10059487070202884,
          0.39403029285878727,
          0.29443677438421834,
          0.8545135449975145,
          0.5820002916018243,
          0.5595611541277161,
          0.1868152292343757,
          0.12064222350502421,
          0.7644149238324662,
          0.3534230397893843,
          0.12435921944400716,
          -0.39057824252366563,
          0.4023237104815948,
          3.872883597088227,
          0.5542493797872293,
          -3.646740279524247,
          -2.496470093500424,
          -0.02464147787284987,
          -2.557912356823267,
          0.7591559976653317,
          -2.813265985099306,
          -1.4768481077047901,
          -0.3502935161487601,
          0.6400410147386589,
          -0.44228455958960045,
          -0.1994238416235477,
          0.624463181508179,
          -1.699790783128555,
          0.2727385776565669,
          -0.29877704717529163,
          -0.898920129448375,
          -0.15947331828718606,
          0.8681267376319605,
          0.5518241406141493,
          -0.09320821593506386,
          0.07643515959827693,
          -0.6886437394163871,
          0.5373493742785286,
          1.3792265047241647,
          2.322307677035286,
          0.20591333423061153,
          0.19050356130322968,
          0.47987051308196366,
          0.1294520643657735,
          0.6314491852598365,
          0.2513350240629233,
          0.8723678651776645,
          0.5883101783367352,
          0.3531447055320687,
          0.22669323432101385,
          0.12505329413614547,
          0.7719122322714662,
          0.10842745354907869,
          -0.04628298437373222,
          -0.4124422658355003,
          0.4030934582722417,
          4.144684405467491,
          0.5715904542712605,
          -3.60881864511298,
          -2.436684199148984,
          -0.03871685946067328,
          -2.5460508806396747,
          0.7505970889507071,
          -2.8151925221230947,
          -1.8101138005551842,
          -0.3540235231271554,
          0.6434755217070448,
          -0.41319159443104936,
          -0.10537656696760112,
          0.622226068147253,
          -1.7025793380414445,
          0.29346808749447156,
          -0.2842046598447598,
          -0.8684887031813433,
          -0.19649087459918022,
          0.8450742606369049,
          0.5497906742970257,
          -0.11396002866322939,
          0.08695691074638691,
          -0.6654610096421235,
          0.5578911708531387,
          1.409548176179955,
          1.9203810173137843,
          0.20742746051857772,
          0.20213653861218614,
          0.47644234061327606,
          0.10406009353361964,
          0.6194556495024871,
          0.3797659014685178,
          0.8875218281048449,
          0.5849467655249284,
          0.3532135078113444,
          0.03979430113956632,
          0.36569178540737807,
          0.7812477106220638,
          0.10232513140244888,
          -0.01878323453156214,
          -0.4040223803119059,
          0.40349487824094393,
          4.37108948682276,
          0.7316056007105219,
          -3.4885178513634467,
          -2.4395109941031836,
          -0.055784737086969564,
          -2.5238793878755605,
          0.7574141822732131,
          -2.93796925109466,
          -1.7669328170867507,
          -0.3452046098603398,
          0.6413366580473652,
          -0.39608176940823553,
          -0.0683477421457777,
          0.6271528232829497,
          -1.7033207088619138,
          0.2936259171576826,
          -0.2857988806803198,
          -0.9003706369833299,
          -0.14752655448732474,
          0.8394057276117457,
          0.5486046778060986,
          -0.1385905944844725,
          0.09045109715166041,
          -0.6705256561464842,
          0.5537167966850401,
          1.3884884212952815,
          2.1353934738659395,
          0.23046644044096298,
          0.2083119863316469,
          0.49332019192016496,
          0.33279938992052077,
          0.6252176345392008,
          0.4712962079542765,
          0.9114423800549231,
          0.5893162354136815,
          0.3483621491577618,
          0.23339205525446927,
          0.37165772134072766,
          0.8213815828178507,
          0.13745234810658624,
          0.01759350874995386,
          -0.3894621255379153,
          -0.05832684918868535,
          4.595411853697304,
          0.8211090147084253,
          -3.45273870962185,
          -2.4234895507511847,
          -0.04388245513546242,
          -2.5322370928143885,
          0.45527631910045063,
          -2.957251306945155,
          -1.6396951198636815,
          -0.32826540098321627,
          0.6468600707473405,
          -0.3507722597872048,
          -0.6465983944159776,
          0.6266056720937095,
          -1.704426002521434,
          0.1386700376201458,
          -0.28703639563660194,
          -1.257040427260299,
          -0.16132454416379693,
          0.8060842405855329,
          0.5494680453461802,
          -0.13564374352341785,
          0.09475723397892552,
          -0.6586926026852531,
          0.5586946190173624,
          1.45497811399824,
          1.962706004022128,
          0.24585694917774925,
          -0.007020436170129971,
          0.5323927856662315,
          0.3444640700408242,
          0.6354714027888436,
          0.5652218595341879,
          0.901217079399637,
          0.5991114548712927,
          0.34568790396126153,
          0.2773869751041296,
          0.4115967553063925,
          0.8400521069192681,
          0.06531802205631089,
          -0.06704780943503028,
          -0.3565286475669275,
          -0.04587853548862396,
          4.654426299471127,
          0.7749074651507448,
          -3.5128220509578076,
          -2.425643810407664,
          -0.07857890057634097,
          -2.544387341480725,
          0.5144277286808934,
          -3.183346702453948,
          -1.6587712389739628,
          -0.3228713353910796,
          0.6522372241142373,
          -0.31454335554249374,
          -0.5717157034548709,
          0.6314299000960072,
          -1.7059006856059669,
          0.18251550273853176,
          -0.29028852719425274,
          -1.4243125902338385,
          -0.17852141758207266,
          0.8171767650423627,
          0.5566849732572262,
          -0.15426162724137385,
          0.08704517274963278,
          -0.6519493988386398,
          0.5515621925996452,
          1.4406955669297046,
          1.9245432476129802,
          0.2457766303386827,
          0.005704790960178086,
          0.5606790246306103,
          0.38784138302807175,
          0.651342070065996,
          1.1106287414646174,
          0.9271085591435005,
          0.6021124399651088,
          0.34796482476456386,
          0.28912583688645305,
          0.45324469051536853,
          0.8533597557344351,
          0.11213697837951894,
          -0.024547385526963884,
          -0.31765977604909773,
          -0.05048605588487632,
          5.079482687968443,
          0.8214721995658324,
          -3.4403397380568843,
          -2.4258077120097723,
          -0.08586715760576373,
          -2.753640402493534,
          0.5671486413451925,
          -3.156030406533975,
          -1.6136629839629681,
          -0.3214994768386679,
          0.6610677863254323,
          -0.29828508609533927,
          -0.4446287905145502,
          0.6286810759798779,
          -1.704798393508978,
          0.19037470568771994,
          -0.4977575979073177,
          -1.241581223414959,
          -0.14247733877746022,
          0.835871956507976,
          0.5584920866557015,
          -0.1889789210831387,
          0.0969040894744627,
          -0.635543353664573,
          0.5659076769817295,
          1.3802323763356585,
          1.5268323355203046,
          0.2413719840698185,
          0.00754628668995593,
          0.5834848962664942,
          0.2727087899203997,
          0.6502098093666084,
          1.1142295739889005,
          0.9436336723649034,
          0.6175782453129086,
          0.3398817888552394,
          0.32572029341319164,
          0.4177686146455203,
          0.8747518953268708,
          0.2990641361196927,
          -0.05167442070303537,
          -0.31722266085571,
          -0.03939808706340149,
          5.146893672618016,
          0.9568129081097696,
          -3.3626053079530056,
          -3.016082788295577,
          -0.05140587811268275,
          -2.7368921431555213,
          0.5835455918128927,
          -3.165487130951156,
          -1.5200763530167187,
          -0.27229387692817836,
          0.6548093991248549,
          -0.31292589040594226,
          -0.3876725281295237,
          0.6325132842940216,
          -1.7046159471510218,
          0.18255358510269726,
          -0.49694682205594753,
          -1.237420744442367,
          -0.12138198148601079,
          0.8173989517803989,
          0.5703688478927229,
          -0.17011944954162914,
          0.09505636404064007,
          -0.6461016400594844,
          0.55987405731664,
          1.4067906429635961,
          1.032250435847531,
          0.24148521436832376,
          0.0063906465421330536,
          0.5723126961170745,
          0.24619443389414464,
          0.6444784771533104,
          1.0667491323176463,
          0.9602923538962898,
          0.6067624385119579,
          0.3401376819517859,
          0.3088016884260635,
          0.48626547590240815,
          0.905035161983097,
          0.2680340596886537,
          -0.018102689106404474,
          -0.22246044346647423,
          -0.022081468776734312,
          5.053154821160705,
          0.9443055346519933,
          -3.3037096162698742,
          -3.020035996351439,
          -0.015202711930936093,
          -2.724411779030378,
          0.6159705656213805,
          -3.186415849737494,
          -1.440593543336986,
          -0.26524937691104816,
          0.6392750138695288,
          -0.2971914925081535,
          -0.31490581977392346,
          0.6391043803710643,
          -1.704750847750343,
          0.19007448543841418,
          -0.49486893142139904,
          -1.2482025717501344,
          -0.200317947030517,
          0.7893847222083097,
          0.5615146363821352,
          -0.15384844873398434,
          0.09033804198531667,
          -0.6352642844388211,
          0.5560382253738279,
          1.3370958265373407,
          0.981899360445419,
          0.23557182646596325,
          0.009230738431824972,
          0.5589179163529319,
          0.25855065558678253,
          0.6641644806422491,
          1.1377609475112136,
          0.9635537491479504,
          0.6180193461525352,
          0.33458849570168564,
          0.30426365384060877,
          0.47026423542828266,
          0.9320068784210992,
          0.28999708970632326,
          -0.22683012997513483,
          -0.2389727554051398,
          -0.023298622079405643,
          5.257985681246027,
          0.9525720589423808,
          -3.3354591890879464,
          -2.97509531921776,
          -0.5371404431370354,
          -2.7200596292700205,
          0.6231066493660331,
          -3.390645776682507,
          -1.3667191218024364
         ],
         "yaxis": "y"
        }
       ],
       "layout": {
        "coloraxis": {
         "colorbar": {
          "title": {
           "text": "Cluster Number"
          }
         },
         "colorscale": [
          [
           0,
           "#0d0887"
          ],
          [
           0.1111111111111111,
           "#46039f"
          ],
          [
           0.2222222222222222,
           "#7201a8"
          ],
          [
           0.3333333333333333,
           "#9c179e"
          ],
          [
           0.4444444444444444,
           "#bd3786"
          ],
          [
           0.5555555555555556,
           "#d8576b"
          ],
          [
           0.6666666666666666,
           "#ed7953"
          ],
          [
           0.7777777777777778,
           "#fb9f3a"
          ],
          [
           0.8888888888888888,
           "#fdca26"
          ],
          [
           1,
           "#f0f921"
          ]
         ]
        },
        "legend": {
         "tracegroupgap": 0
        },
        "margin": {
         "t": 60
        },
        "template": {
         "data": {
          "bar": [
           {
            "error_x": {
             "color": "#2a3f5f"
            },
            "error_y": {
             "color": "#2a3f5f"
            },
            "marker": {
             "line": {
              "color": "#E5ECF6",
              "width": 0.5
             },
             "pattern": {
              "fillmode": "overlay",
              "size": 10,
              "solidity": 0.2
             }
            },
            "type": "bar"
           }
          ],
          "barpolar": [
           {
            "marker": {
             "line": {
              "color": "#E5ECF6",
              "width": 0.5
             },
             "pattern": {
              "fillmode": "overlay",
              "size": 10,
              "solidity": 0.2
             }
            },
            "type": "barpolar"
           }
          ],
          "carpet": [
           {
            "aaxis": {
             "endlinecolor": "#2a3f5f",
             "gridcolor": "white",
             "linecolor": "white",
             "minorgridcolor": "white",
             "startlinecolor": "#2a3f5f"
            },
            "baxis": {
             "endlinecolor": "#2a3f5f",
             "gridcolor": "white",
             "linecolor": "white",
             "minorgridcolor": "white",
             "startlinecolor": "#2a3f5f"
            },
            "type": "carpet"
           }
          ],
          "choropleth": [
           {
            "colorbar": {
             "outlinewidth": 0,
             "ticks": ""
            },
            "type": "choropleth"
           }
          ],
          "contour": [
           {
            "colorbar": {
             "outlinewidth": 0,
             "ticks": ""
            },
            "colorscale": [
             [
              0,
              "#0d0887"
             ],
             [
              0.1111111111111111,
              "#46039f"
             ],
             [
              0.2222222222222222,
              "#7201a8"
             ],
             [
              0.3333333333333333,
              "#9c179e"
             ],
             [
              0.4444444444444444,
              "#bd3786"
             ],
             [
              0.5555555555555556,
              "#d8576b"
             ],
             [
              0.6666666666666666,
              "#ed7953"
             ],
             [
              0.7777777777777778,
              "#fb9f3a"
             ],
             [
              0.8888888888888888,
              "#fdca26"
             ],
             [
              1,
              "#f0f921"
             ]
            ],
            "type": "contour"
           }
          ],
          "contourcarpet": [
           {
            "colorbar": {
             "outlinewidth": 0,
             "ticks": ""
            },
            "type": "contourcarpet"
           }
          ],
          "heatmap": [
           {
            "colorbar": {
             "outlinewidth": 0,
             "ticks": ""
            },
            "colorscale": [
             [
              0,
              "#0d0887"
             ],
             [
              0.1111111111111111,
              "#46039f"
             ],
             [
              0.2222222222222222,
              "#7201a8"
             ],
             [
              0.3333333333333333,
              "#9c179e"
             ],
             [
              0.4444444444444444,
              "#bd3786"
             ],
             [
              0.5555555555555556,
              "#d8576b"
             ],
             [
              0.6666666666666666,
              "#ed7953"
             ],
             [
              0.7777777777777778,
              "#fb9f3a"
             ],
             [
              0.8888888888888888,
              "#fdca26"
             ],
             [
              1,
              "#f0f921"
             ]
            ],
            "type": "heatmap"
           }
          ],
          "heatmapgl": [
           {
            "colorbar": {
             "outlinewidth": 0,
             "ticks": ""
            },
            "colorscale": [
             [
              0,
              "#0d0887"
             ],
             [
              0.1111111111111111,
              "#46039f"
             ],
             [
              0.2222222222222222,
              "#7201a8"
             ],
             [
              0.3333333333333333,
              "#9c179e"
             ],
             [
              0.4444444444444444,
              "#bd3786"
             ],
             [
              0.5555555555555556,
              "#d8576b"
             ],
             [
              0.6666666666666666,
              "#ed7953"
             ],
             [
              0.7777777777777778,
              "#fb9f3a"
             ],
             [
              0.8888888888888888,
              "#fdca26"
             ],
             [
              1,
              "#f0f921"
             ]
            ],
            "type": "heatmapgl"
           }
          ],
          "histogram": [
           {
            "marker": {
             "pattern": {
              "fillmode": "overlay",
              "size": 10,
              "solidity": 0.2
             }
            },
            "type": "histogram"
           }
          ],
          "histogram2d": [
           {
            "colorbar": {
             "outlinewidth": 0,
             "ticks": ""
            },
            "colorscale": [
             [
              0,
              "#0d0887"
             ],
             [
              0.1111111111111111,
              "#46039f"
             ],
             [
              0.2222222222222222,
              "#7201a8"
             ],
             [
              0.3333333333333333,
              "#9c179e"
             ],
             [
              0.4444444444444444,
              "#bd3786"
             ],
             [
              0.5555555555555556,
              "#d8576b"
             ],
             [
              0.6666666666666666,
              "#ed7953"
             ],
             [
              0.7777777777777778,
              "#fb9f3a"
             ],
             [
              0.8888888888888888,
              "#fdca26"
             ],
             [
              1,
              "#f0f921"
             ]
            ],
            "type": "histogram2d"
           }
          ],
          "histogram2dcontour": [
           {
            "colorbar": {
             "outlinewidth": 0,
             "ticks": ""
            },
            "colorscale": [
             [
              0,
              "#0d0887"
             ],
             [
              0.1111111111111111,
              "#46039f"
             ],
             [
              0.2222222222222222,
              "#7201a8"
             ],
             [
              0.3333333333333333,
              "#9c179e"
             ],
             [
              0.4444444444444444,
              "#bd3786"
             ],
             [
              0.5555555555555556,
              "#d8576b"
             ],
             [
              0.6666666666666666,
              "#ed7953"
             ],
             [
              0.7777777777777778,
              "#fb9f3a"
             ],
             [
              0.8888888888888888,
              "#fdca26"
             ],
             [
              1,
              "#f0f921"
             ]
            ],
            "type": "histogram2dcontour"
           }
          ],
          "mesh3d": [
           {
            "colorbar": {
             "outlinewidth": 0,
             "ticks": ""
            },
            "type": "mesh3d"
           }
          ],
          "parcoords": [
           {
            "line": {
             "colorbar": {
              "outlinewidth": 0,
              "ticks": ""
             }
            },
            "type": "parcoords"
           }
          ],
          "pie": [
           {
            "automargin": true,
            "type": "pie"
           }
          ],
          "scatter": [
           {
            "fillpattern": {
             "fillmode": "overlay",
             "size": 10,
             "solidity": 0.2
            },
            "type": "scatter"
           }
          ],
          "scatter3d": [
           {
            "line": {
             "colorbar": {
              "outlinewidth": 0,
              "ticks": ""
             }
            },
            "marker": {
             "colorbar": {
              "outlinewidth": 0,
              "ticks": ""
             }
            },
            "type": "scatter3d"
           }
          ],
          "scattercarpet": [
           {
            "marker": {
             "colorbar": {
              "outlinewidth": 0,
              "ticks": ""
             }
            },
            "type": "scattercarpet"
           }
          ],
          "scattergeo": [
           {
            "marker": {
             "colorbar": {
              "outlinewidth": 0,
              "ticks": ""
             }
            },
            "type": "scattergeo"
           }
          ],
          "scattergl": [
           {
            "marker": {
             "colorbar": {
              "outlinewidth": 0,
              "ticks": ""
             }
            },
            "type": "scattergl"
           }
          ],
          "scattermapbox": [
           {
            "marker": {
             "colorbar": {
              "outlinewidth": 0,
              "ticks": ""
             }
            },
            "type": "scattermapbox"
           }
          ],
          "scatterpolar": [
           {
            "marker": {
             "colorbar": {
              "outlinewidth": 0,
              "ticks": ""
             }
            },
            "type": "scatterpolar"
           }
          ],
          "scatterpolargl": [
           {
            "marker": {
             "colorbar": {
              "outlinewidth": 0,
              "ticks": ""
             }
            },
            "type": "scatterpolargl"
           }
          ],
          "scatterternary": [
           {
            "marker": {
             "colorbar": {
              "outlinewidth": 0,
              "ticks": ""
             }
            },
            "type": "scatterternary"
           }
          ],
          "surface": [
           {
            "colorbar": {
             "outlinewidth": 0,
             "ticks": ""
            },
            "colorscale": [
             [
              0,
              "#0d0887"
             ],
             [
              0.1111111111111111,
              "#46039f"
             ],
             [
              0.2222222222222222,
              "#7201a8"
             ],
             [
              0.3333333333333333,
              "#9c179e"
             ],
             [
              0.4444444444444444,
              "#bd3786"
             ],
             [
              0.5555555555555556,
              "#d8576b"
             ],
             [
              0.6666666666666666,
              "#ed7953"
             ],
             [
              0.7777777777777778,
              "#fb9f3a"
             ],
             [
              0.8888888888888888,
              "#fdca26"
             ],
             [
              1,
              "#f0f921"
             ]
            ],
            "type": "surface"
           }
          ],
          "table": [
           {
            "cells": {
             "fill": {
              "color": "#EBF0F8"
             },
             "line": {
              "color": "white"
             }
            },
            "header": {
             "fill": {
              "color": "#C8D4E3"
             },
             "line": {
              "color": "white"
             }
            },
            "type": "table"
           }
          ]
         },
         "layout": {
          "annotationdefaults": {
           "arrowcolor": "#2a3f5f",
           "arrowhead": 0,
           "arrowwidth": 1
          },
          "autotypenumbers": "strict",
          "coloraxis": {
           "colorbar": {
            "outlinewidth": 0,
            "ticks": ""
           }
          },
          "colorscale": {
           "diverging": [
            [
             0,
             "#8e0152"
            ],
            [
             0.1,
             "#c51b7d"
            ],
            [
             0.2,
             "#de77ae"
            ],
            [
             0.3,
             "#f1b6da"
            ],
            [
             0.4,
             "#fde0ef"
            ],
            [
             0.5,
             "#f7f7f7"
            ],
            [
             0.6,
             "#e6f5d0"
            ],
            [
             0.7,
             "#b8e186"
            ],
            [
             0.8,
             "#7fbc41"
            ],
            [
             0.9,
             "#4d9221"
            ],
            [
             1,
             "#276419"
            ]
           ],
           "sequential": [
            [
             0,
             "#0d0887"
            ],
            [
             0.1111111111111111,
             "#46039f"
            ],
            [
             0.2222222222222222,
             "#7201a8"
            ],
            [
             0.3333333333333333,
             "#9c179e"
            ],
            [
             0.4444444444444444,
             "#bd3786"
            ],
            [
             0.5555555555555556,
             "#d8576b"
            ],
            [
             0.6666666666666666,
             "#ed7953"
            ],
            [
             0.7777777777777778,
             "#fb9f3a"
            ],
            [
             0.8888888888888888,
             "#fdca26"
            ],
            [
             1,
             "#f0f921"
            ]
           ],
           "sequentialminus": [
            [
             0,
             "#0d0887"
            ],
            [
             0.1111111111111111,
             "#46039f"
            ],
            [
             0.2222222222222222,
             "#7201a8"
            ],
            [
             0.3333333333333333,
             "#9c179e"
            ],
            [
             0.4444444444444444,
             "#bd3786"
            ],
            [
             0.5555555555555556,
             "#d8576b"
            ],
            [
             0.6666666666666666,
             "#ed7953"
            ],
            [
             0.7777777777777778,
             "#fb9f3a"
            ],
            [
             0.8888888888888888,
             "#fdca26"
            ],
            [
             1,
             "#f0f921"
            ]
           ]
          },
          "colorway": [
           "#636efa",
           "#EF553B",
           "#00cc96",
           "#ab63fa",
           "#FFA15A",
           "#19d3f3",
           "#FF6692",
           "#B6E880",
           "#FF97FF",
           "#FECB52"
          ],
          "font": {
           "color": "#2a3f5f"
          },
          "geo": {
           "bgcolor": "white",
           "lakecolor": "white",
           "landcolor": "#E5ECF6",
           "showlakes": true,
           "showland": true,
           "subunitcolor": "white"
          },
          "hoverlabel": {
           "align": "left"
          },
          "hovermode": "closest",
          "mapbox": {
           "style": "light"
          },
          "paper_bgcolor": "white",
          "plot_bgcolor": "#E5ECF6",
          "polar": {
           "angularaxis": {
            "gridcolor": "white",
            "linecolor": "white",
            "ticks": ""
           },
           "bgcolor": "#E5ECF6",
           "radialaxis": {
            "gridcolor": "white",
            "linecolor": "white",
            "ticks": ""
           }
          },
          "scene": {
           "xaxis": {
            "backgroundcolor": "#E5ECF6",
            "gridcolor": "white",
            "gridwidth": 2,
            "linecolor": "white",
            "showbackground": true,
            "ticks": "",
            "zerolinecolor": "white"
           },
           "yaxis": {
            "backgroundcolor": "#E5ECF6",
            "gridcolor": "white",
            "gridwidth": 2,
            "linecolor": "white",
            "showbackground": true,
            "ticks": "",
            "zerolinecolor": "white"
           },
           "zaxis": {
            "backgroundcolor": "#E5ECF6",
            "gridcolor": "white",
            "gridwidth": 2,
            "linecolor": "white",
            "showbackground": true,
            "ticks": "",
            "zerolinecolor": "white"
           }
          },
          "shapedefaults": {
           "line": {
            "color": "#2a3f5f"
           }
          },
          "ternary": {
           "aaxis": {
            "gridcolor": "white",
            "linecolor": "white",
            "ticks": ""
           },
           "baxis": {
            "gridcolor": "white",
            "linecolor": "white",
            "ticks": ""
           },
           "bgcolor": "#E5ECF6",
           "caxis": {
            "gridcolor": "white",
            "linecolor": "white",
            "ticks": ""
           }
          },
          "title": {
           "x": 0.05
          },
          "xaxis": {
           "automargin": true,
           "gridcolor": "white",
           "linecolor": "white",
           "ticks": "",
           "title": {
            "standoff": 15
           },
           "zerolinecolor": "white",
           "zerolinewidth": 2
          },
          "yaxis": {
           "automargin": true,
           "gridcolor": "white",
           "linecolor": "white",
           "ticks": "",
           "title": {
            "standoff": 15
           },
           "zerolinecolor": "white",
           "zerolinewidth": 2
          }
         }
        },
        "title": {
         "text": "K-means Clustering in PCA Space with 3 Clusters"
        },
        "xaxis": {
         "anchor": "y",
         "domain": [
          0,
          1
         ],
         "title": {
          "text": "Principal Component 1"
         }
        },
        "yaxis": {
         "anchor": "x",
         "domain": [
          0,
          1
         ],
         "title": {
          "text": "Principal Component 2"
         }
        }
       }
      },
      "text/html": [
       "<div>                            <div id=\"4ca8009b-9f5a-4cda-bf7f-889dcaefb2ea\" class=\"plotly-graph-div\" style=\"height:525px; width:100%;\"></div>            <script type=\"text/javascript\">                require([\"plotly\"], function(Plotly) {                    window.PLOTLYENV=window.PLOTLYENV || {};                                    if (document.getElementById(\"4ca8009b-9f5a-4cda-bf7f-889dcaefb2ea\")) {                    Plotly.newPlot(                        \"4ca8009b-9f5a-4cda-bf7f-889dcaefb2ea\",                        [{\"customdata\":[[-0.8058229640253802],[-0.7252406676228422],[-0.6446583712203042],[-0.5640760748177662],[-0.48349377841522817],[-0.4029114820126901],[-0.3223291856101521],[-0.24174688920761409],[-0.16116459280507606],[-0.08058229640253803],[0.0],[0.08058229640253803],[0.16116459280507606],[0.24174688920761409],[0.3223291856101521],[0.4029114820126901],[0.48349377841522817],[0.5640760748177662],[0.6446583712203042],[0.7252406676228422],[0.8058229640253802],[0.8864052604279183],[0.9669875568304563],[1.0475698532329945],[1.1281521496355325],[1.2087344460380705],[1.2893167424406085],[1.3698990388431465],[1.4504813352456845],[1.5310636316482225],[1.6116459280507605],[1.6922282244532987],[-1.6922282244532987],[-1.6116459280507605],[-1.5310636316482225],[-1.4504813352456845],[-1.3698990388431465],[-1.2893167424406085],[-1.2087344460380705],[-1.1281521496355325],[-1.0475698532329945],[-0.9669875568304563],[-0.8864052604279183],[-0.8058229640253802],[-0.7252406676228422],[-0.6446583712203042],[-0.5640760748177662],[-0.48349377841522817],[-0.4029114820126901],[-0.3223291856101521],[-0.24174688920761409],[-0.16116459280507606],[-0.08058229640253803],[0.0],[0.08058229640253803],[0.16116459280507606],[0.24174688920761409],[0.3223291856101521],[0.4029114820126901],[0.48349377841522817],[0.5640760748177662],[0.6446583712203042],[0.7252406676228422],[0.8058229640253802],[0.8864052604279183],[0.9669875568304563],[1.0475698532329945],[1.1281521496355325],[1.2087344460380705],[1.2893167424406085],[1.3698990388431465],[1.4504813352456845],[1.5310636316482225],[1.6116459280507605],[1.6922282244532987],[-1.6922282244532987],[-1.6116459280507605],[-1.5310636316482225],[-1.4504813352456845],[-1.3698990388431465],[-1.2893167424406085],[-1.2087344460380705],[-1.1281521496355325],[-1.0475698532329945],[-0.9669875568304563],[-0.8864052604279183],[-0.8058229640253802],[-0.7252406676228422],[-0.6446583712203042],[-0.5640760748177662],[-0.48349377841522817],[-0.4029114820126901],[-0.3223291856101521],[-0.24174688920761409],[-0.16116459280507606],[-0.08058229640253803],[0.0],[0.08058229640253803],[0.16116459280507606],[0.24174688920761409],[0.3223291856101521],[0.4029114820126901],[0.48349377841522817],[0.5640760748177662],[0.6446583712203042],[0.7252406676228422],[0.8058229640253802],[0.8864052604279183],[0.9669875568304563],[1.0475698532329945],[1.1281521496355325],[1.2087344460380705],[1.2893167424406085],[1.3698990388431465],[1.4504813352456845],[1.5310636316482225],[1.6116459280507605],[1.6922282244532987],[-1.6922282244532987],[-1.6116459280507605],[-1.5310636316482225],[-1.4504813352456845],[-1.3698990388431465],[-1.2893167424406085],[-1.2087344460380705],[-1.1281521496355325],[-1.0475698532329945],[-0.9669875568304563],[-0.8864052604279183],[-0.8058229640253802],[-0.7252406676228422],[-0.6446583712203042],[-0.5640760748177662],[-0.48349377841522817],[-0.4029114820126901],[-0.3223291856101521],[-0.24174688920761409],[-0.16116459280507606],[-0.08058229640253803],[0.0],[0.08058229640253803],[0.16116459280507606],[0.24174688920761409],[0.3223291856101521],[0.4029114820126901],[0.48349377841522817],[0.5640760748177662],[0.6446583712203042],[0.7252406676228422],[0.8058229640253802],[0.8864052604279183],[0.9669875568304563],[1.0475698532329945],[1.1281521496355325],[1.2087344460380705],[1.2893167424406085],[1.3698990388431465],[1.4504813352456845],[1.5310636316482225],[1.6116459280507605],[1.6922282244532987],[-1.6922282244532987],[-1.6116459280507605],[-1.5310636316482225],[-1.4504813352456845],[-1.3698990388431465],[-1.2893167424406085],[-1.2087344460380705],[-1.1281521496355325],[-1.0475698532329945],[-0.9669875568304563],[-0.8864052604279183],[-0.8058229640253802],[-0.7252406676228422],[-0.6446583712203042],[-0.5640760748177662],[-0.48349377841522817],[-0.4029114820126901],[-0.3223291856101521],[-0.24174688920761409],[-0.16116459280507606],[-0.08058229640253803],[0.0],[0.08058229640253803],[0.16116459280507606],[0.24174688920761409],[0.3223291856101521],[0.4029114820126901],[0.48349377841522817],[0.5640760748177662],[0.6446583712203042],[0.7252406676228422],[0.8058229640253802],[0.8864052604279183],[0.9669875568304563],[1.0475698532329945],[1.1281521496355325],[1.2087344460380705],[1.2893167424406085],[1.3698990388431465],[1.4504813352456845],[1.5310636316482225],[1.6116459280507605],[1.6922282244532987],[-1.6922282244532987],[-1.6116459280507605],[-1.5310636316482225],[-1.4504813352456845],[-1.3698990388431465],[-1.2893167424406085],[-1.2087344460380705],[-1.1281521496355325],[-1.0475698532329945],[-0.9669875568304563],[-0.8864052604279183],[-0.8058229640253802],[-0.7252406676228422],[-0.6446583712203042],[-0.5640760748177662],[-0.48349377841522817],[-0.4029114820126901],[-0.3223291856101521],[-0.24174688920761409],[-0.16116459280507606],[-0.08058229640253803],[0.0],[0.08058229640253803],[0.16116459280507606],[0.24174688920761409],[0.3223291856101521],[0.4029114820126901],[0.48349377841522817],[0.5640760748177662],[0.6446583712203042],[0.7252406676228422],[0.8058229640253802],[0.8864052604279183],[0.9669875568304563],[1.0475698532329945],[1.1281521496355325],[1.2087344460380705],[1.2893167424406085],[1.3698990388431465],[1.4504813352456845],[1.5310636316482225],[1.6116459280507605],[1.6922282244532987],[-1.6922282244532987],[-1.6116459280507605],[-1.5310636316482225],[-1.4504813352456845],[-1.3698990388431465],[-1.2893167424406085],[-1.2087344460380705],[-1.1281521496355325],[-1.0475698532329945],[-0.9669875568304563],[-0.8864052604279183],[-0.8058229640253802],[-0.7252406676228422],[-0.6446583712203042],[-0.5640760748177662],[-0.48349377841522817],[-0.4029114820126901],[-0.3223291856101521],[-0.24174688920761409],[-0.16116459280507606],[-0.08058229640253803],[0.0],[0.08058229640253803],[0.16116459280507606],[0.24174688920761409],[0.3223291856101521],[0.4029114820126901],[0.48349377841522817],[0.5640760748177662],[0.6446583712203042],[0.7252406676228422],[0.8058229640253802],[0.8864052604279183],[0.9669875568304563],[1.0475698532329945],[1.1281521496355325],[1.2087344460380705],[1.2893167424406085],[1.3698990388431465],[1.4504813352456845],[1.5310636316482225],[1.6116459280507605],[1.6922282244532987],[-1.6922282244532987],[-1.6116459280507605],[-1.5310636316482225],[-1.4504813352456845],[-1.3698990388431465],[-1.2893167424406085],[-1.2087344460380705],[-1.1281521496355325],[-1.0475698532329945],[-0.9669875568304563],[-0.8864052604279183],[-0.8058229640253802],[-0.7252406676228422],[-0.6446583712203042],[-0.5640760748177662],[-0.48349377841522817],[-0.4029114820126901],[-0.3223291856101521],[-0.24174688920761409],[-0.16116459280507606],[-0.08058229640253803],[0.0],[0.08058229640253803],[0.16116459280507606],[0.24174688920761409],[0.3223291856101521],[0.4029114820126901],[0.48349377841522817],[0.5640760748177662],[0.6446583712203042],[0.7252406676228422],[0.8058229640253802],[0.8864052604279183],[0.9669875568304563],[1.0475698532329945],[1.1281521496355325],[1.2087344460380705],[1.2893167424406085],[1.3698990388431465],[1.4504813352456845],[1.5310636316482225],[1.6116459280507605],[1.6922282244532987],[-1.6922282244532987],[-1.6116459280507605],[-1.5310636316482225],[-1.4504813352456845],[-1.3698990388431465],[-1.2893167424406085],[-1.2087344460380705],[-1.1281521496355325],[-1.0475698532329945],[-0.9669875568304563],[-0.8864052604279183],[-0.8058229640253802],[-0.7252406676228422],[-0.6446583712203042],[-0.5640760748177662],[-0.48349377841522817],[-0.4029114820126901],[-0.3223291856101521],[-0.24174688920761409],[-0.16116459280507606],[-0.08058229640253803],[0.0],[0.08058229640253803],[0.16116459280507606],[0.24174688920761409],[0.3223291856101521],[0.4029114820126901],[0.48349377841522817],[0.5640760748177662],[0.6446583712203042],[0.7252406676228422],[0.8058229640253802],[0.8864052604279183],[0.9669875568304563],[1.0475698532329945],[1.1281521496355325],[1.2087344460380705],[1.2893167424406085],[1.3698990388431465],[1.4504813352456845],[1.5310636316482225],[1.6116459280507605],[1.6922282244532987],[-1.6922282244532987],[-1.6116459280507605],[-1.5310636316482225],[-1.4504813352456845],[-1.3698990388431465],[-1.2893167424406085],[-1.2087344460380705],[-1.1281521496355325],[-1.0475698532329945],[-0.9669875568304563],[-0.8864052604279183],[-0.8058229640253802],[-0.7252406676228422],[-0.6446583712203042],[-0.5640760748177662],[-0.48349377841522817],[-0.4029114820126901],[-0.3223291856101521],[-0.24174688920761409],[-0.16116459280507606],[-0.08058229640253803],[0.0],[0.08058229640253803],[0.16116459280507606],[0.24174688920761409],[0.3223291856101521],[0.4029114820126901],[0.48349377841522817],[0.5640760748177662],[0.6446583712203042],[0.7252406676228422],[0.8058229640253802],[0.8864052604279183],[0.9669875568304563],[1.0475698532329945],[1.1281521496355325],[1.2087344460380705],[1.2893167424406085],[1.3698990388431465],[1.4504813352456845],[1.5310636316482225],[1.6116459280507605],[1.6922282244532987],[-1.6922282244532987],[-1.6116459280507605],[-1.5310636316482225],[-1.4504813352456845],[-1.3698990388431465],[-1.2893167424406085],[-1.2087344460380705],[-1.1281521496355325],[-1.0475698532329945],[-0.9669875568304563],[-0.8864052604279183],[-0.8058229640253802],[-0.7252406676228422],[-0.6446583712203042],[-0.5640760748177662],[-0.48349377841522817],[-0.4029114820126901],[-0.3223291856101521],[-0.24174688920761409],[-0.16116459280507606],[-0.08058229640253803],[0.0],[0.08058229640253803],[0.16116459280507606],[0.24174688920761409],[0.3223291856101521],[0.4029114820126901],[0.48349377841522817],[0.5640760748177662],[0.6446583712203042],[0.7252406676228422],[0.8058229640253802],[0.8864052604279183],[0.9669875568304563],[1.0475698532329945],[1.1281521496355325],[1.2087344460380705],[1.2893167424406085],[1.3698990388431465],[1.4504813352456845],[1.5310636316482225],[1.6116459280507605],[1.6922282244532987],[-1.6922282244532987],[-1.6116459280507605],[-1.5310636316482225],[-1.4504813352456845],[-1.3698990388431465],[-1.2893167424406085],[-1.2087344460380705],[-1.1281521496355325],[-1.0475698532329945],[-0.9669875568304563],[-0.8864052604279183],[-0.8058229640253802],[-0.7252406676228422],[-0.6446583712203042],[-0.5640760748177662],[-0.48349377841522817],[-0.4029114820126901],[-0.3223291856101521],[-0.24174688920761409],[-0.16116459280507606],[-0.08058229640253803],[0.0],[0.08058229640253803],[0.16116459280507606],[0.24174688920761409],[0.3223291856101521],[0.4029114820126901],[0.48349377841522817],[0.5640760748177662],[0.6446583712203042],[0.7252406676228422],[0.8058229640253802],[0.8864052604279183],[0.9669875568304563],[1.0475698532329945],[1.1281521496355325],[1.2087344460380705],[1.2893167424406085],[1.3698990388431465],[1.4504813352456845],[1.5310636316482225],[1.6116459280507605],[1.6922282244532987],[-1.6922282244532987],[-1.6116459280507605],[-1.5310636316482225],[-1.4504813352456845],[-1.3698990388431465],[-1.2893167424406085],[-1.2087344460380705],[-1.1281521496355325],[-1.0475698532329945],[-0.9669875568304563],[-0.8864052604279183]],\"hovertemplate\":\"Principal Component 1=%{x}<br>Principal Component 2=%{y}<br>Country=%{customdata[0]}<br>Cluster Number=%{marker.color}<extra></extra>\",\"legendgroup\":\"\",\"marker\":{\"color\":[0,0,0,0,0,1,0,0,0,0,0,0,0,0,0,0,0,0,0,0,0,0,0,0,0,0,0,0,0,0,0,0,0,0,2,0,1,1,0,1,0,1,1,0,0,0,0,0,1,0,0,0,0,0,0,0,0,0,0,0,0,0,0,0,0,0,0,0,0,0,0,0,0,0,0,0,0,2,0,1,1,0,1,0,1,1,0,0,0,0,0,1,0,0,0,0,0,0,0,0,0,0,0,0,0,0,0,0,0,0,0,0,0,0,0,0,0,0,0,0,2,0,1,1,0,1,0,1,1,0,0,0,0,0,1,0,0,0,0,0,0,0,0,0,0,0,0,0,0,0,0,0,0,0,0,0,0,0,0,0,0,0,0,2,0,1,1,0,1,0,1,1,0,0,0,0,0,1,0,0,0,0,0,0,0,0,0,0,0,0,0,0,0,0,0,0,0,0,0,0,0,0,0,0,0,0,2,0,1,1,0,1,0,1,1,0,0,0,0,0,1,0,0,0,0,0,0,0,0,0,0,0,0,0,0,0,0,0,0,0,0,0,0,0,0,0,0,0,0,2,0,1,1,0,1,0,1,1,0,0,0,0,0,1,0,0,0,0,0,0,0,0,0,0,0,0,0,0,0,0,0,0,0,0,0,0,0,0,0,0,0,0,2,0,1,1,0,1,0,1,1,0,0,0,1,0,1,0,0,0,0,0,0,0,0,0,0,0,0,0,0,0,0,0,0,0,0,0,0,0,0,0,0,0,0,2,0,1,1,0,1,0,1,1,0,0,0,1,0,1,0,0,0,0,0,0,0,0,0,0,0,0,0,0,0,0,0,0,0,0,0,0,0,0,0,0,0,0,2,0,1,1,0,1,0,1,1,0,0,0,1,0,1,0,0,0,0,0,0,0,0,0,0,0,0,0,0,0,0,0,0,0,0,0,0,0,0,0,0,0,0,2,0,1,1,0,1,0,1,1,0,0,0,1,0,1,0,0,0,0,0,0,0,0,0,0,0,0,0,0,0,0,0,0,0,0,0,0,0,0,0,0,0,0,2,0,1,1,0,1,0,1,1,0,0,0,1,0,1,0,0,0,0,0,0,0,0,0,0,0,0,0,0,0,0,0,0,0,0,0,0,0,0,0,0,0,0,2,0,1,1,0,1,0,1,1],\"coloraxis\":\"coloraxis\",\"symbol\":\"circle\"},\"mode\":\"markers\",\"name\":\"\",\"orientation\":\"v\",\"showlegend\":false,\"x\":[-0.00769261702855789,-0.5879924795767757,0.4835233173127544,0.3791461395184507,-0.7492023721628306,0.25077226214051046,0.06606534887620136,-0.6891150718825538,-0.45550660276439137,-0.3832268054962364,-0.611830841993679,-0.8347886319964958,-0.31895636878929534,-0.7283829841641636,-0.504765043085576,-0.9350355304263666,-0.8299784450925358,-0.7257085438982033,-1.152451736285599,-0.9976282710096986,-0.9412403854468374,-0.7222989046623278,-0.8706296892055425,0.15109045065676752,-1.2928542090220694,-1.0470655512754543,-1.533398437593532,-0.7016884553298776,-1.1597723045049628,-1.4307556865702442,-0.7697488856178578,-0.4266476745794024,0.15445107282747828,-0.2828781193959966,3.2156513933334474,0.1321641938649538,1.5047408505727675,0.582179341317788,-0.17712888508688565,0.5216811976925587,0.19457069705118654,2.7551414019414473,1.3197549911580815,-0.1920147253637042,-0.5373713787611033,0.3971348540519949,0.7992184608660574,-0.7717031148967337,0.12631851780020786,0.12827997464978322,-0.5229600731162125,-0.41592450368142275,-0.2528986093340957,-0.6381651698865773,-0.8338539510266485,-0.3626513012036003,-0.8523715195839856,-0.5677849252930022,-0.8836421662675213,-0.7663606087295414,-0.7019778009172041,-1.0524534128064207,-1.0080094985698274,-0.9825355316152352,-0.525435693337058,-0.9703071698598891,0.03656114579759076,-1.2583567767555435,-1.099596194676339,-1.4318132663412786,-0.725987435521685,-1.1179508602463488,-1.4016741505982115,-0.8517863415158748,-0.1717126909590716,0.23510216081006596,-0.24254447951110272,4.803267818465998,0.06539953270526974,1.9694453694381757,0.60209974613523,-0.08997855687837564,0.918847388292144,-0.13429199164004707,2.4448032132756237,1.9609586867923672,-0.24086339539695215,-0.5356592574194595,0.3179208594013475,0.5361882104302645,-0.8011579323417148,0.020273283426257924,0.02303366272693295,-0.5300343054784679,-0.4068570280407681,-0.27312751141557684,-0.5175052024505684,-0.8050124948851878,-0.3120534183974575,-0.7914981313586157,-0.6051677410167791,-0.9137013645583103,-0.6911925463723632,-0.5112301952430759,-0.9974235682419283,-0.9865374512136559,-0.983951324948856,-0.48392674538243824,-1.1285268009236058,0.733240899377765,-1.169972076196869,-1.1812468725625533,-1.3729964770728025,-0.7014645978314334,-0.7833392493838993,-1.3944945861480553,-0.7846172083935088,-0.37294188339279694,0.3807183596986814,-0.31773186133699527,5.670456918733052,0.10352518024019623,2.0125705581626825,0.7654247869275268,0.32666667020441,0.968287367818021,-0.20313061563395715,2.5454795627646014,1.8692716161413714,-0.2530553084463003,-0.5233729454957871,0.3199581026143155,0.8070161838065819,-0.802361221955253,0.023673671442379234,0.03414829850129289,-0.5282658760629498,-0.4116130233955913,-0.2792330985644526,-0.4755897934340329,-0.7919017371820335,-0.2722262201869629,-0.8048391545757192,-0.6119377363246349,-0.9027408557135094,-0.7352832604121202,-0.4441873303734613,-1.007039547220293,-0.9827506011111549,-0.9341682621367555,-0.44520369555000977,-1.1377954227176386,0.6024834319345751,-1.1507111759184518,-1.1616592098785665,-1.3726589933000402,-0.5455288849844738,-0.7973194393825042,-1.3768813477905402,-0.6694075857942566,-0.16556760109334523,0.35906897222110334,-0.3200424737294623,6.2087290323176685,0.2924557557975163,1.9816479265753333,0.8318318895321685,0.3875398281525727,0.9225947406957182,-0.21809227596823785,2.6472000422345845,1.9973747812713247,-0.3142116035793535,-0.5477057220882782,0.324222232792864,0.7610686877367495,-0.8024806982775246,0.03226239718332956,0.01406462464462998,-0.5139748404774607,-0.4079775187616139,-0.25898752806231945,-0.4703194934204863,-0.7940736884086366,-0.25630661428071955,-0.6938371473998923,-0.6114800063231777,-0.9188598185390722,-0.7208778036869424,-0.45432621932715317,-0.9949534995498589,-0.983767284133028,-0.9426620533532154,-0.4275923068066826,-1.2122782334188171,0.5351900728065476,-1.1382900464997523,-1.1582984218015047,-1.300048886552043,-0.5437667518897735,-0.7765449712786141,-1.3666724767008573,-0.6629972589296776,-0.26501364517894327,0.29820050089426947,-0.3200674887162766,6.647723484631944,0.31772720914771774,2.060204338522771,0.7887916795828444,0.3679818550418463,0.946616598159241,-0.23528872201616202,2.6457043025870894,2.0057354762940043,-0.3008540476709805,-0.5508253603071662,0.3569087352045311,0.9699824276476476,-0.8043583035394938,0.025648648566835585,0.07153279888636538,-0.5230139752413403,-0.4081213642627855,-0.2627822637937098,-0.4660714700246381,-0.8022133111027921,-0.24702897654189476,-0.7098771048813676,-0.6105608434811824,-0.9078349686079485,-0.6522233783774104,-0.5083534770198284,-0.9913596579498419,-0.980085117164749,-0.9502496914414674,-0.4354206438256037,-1.2284350245511348,0.7989621670978008,-1.1129697093875042,-1.1578441623614693,-1.2999083496058155,-0.5169139381916552,-0.7497119220975951,-1.3478887693081245,-0.6184631488692884,-0.23364647874680156,0.32317898249581717,-0.3235516276759702,7.0052371107116915,0.6446988479798508,2.275257530050138,0.7770902594692773,0.3143953984788473,1.0016847617513998,-0.2035435878316888,2.379041650529259,2.099626817709447,-0.27894574139730016,-0.5370604519454679,0.4052522456389537,1.4854716405263408,-0.799579504902208,0.02389264992759887,0.07769887664917373,-0.5257456029860647,-0.4084341916716935,-0.2879259872722829,-0.42155212778534856,-0.7956099199448424,-0.30693606314076943,-0.699971393342298,-0.6168826850933711,-0.9015681168326567,-0.6271511720654902,-0.5347132626899493,-1.0115480249123732,-0.9654048646493256,-0.9341885392169845,-0.4187355817336495,-1.2160878576134888,0.9889077127624789,-1.0796143013949782,-1.1422578423207033,-1.2960843978769994,-0.5595328242257874,-0.685549426834831,-1.3261772920842907,-0.5910331600797725,-0.22919289701773332,0.3576825537951012,-0.12411572404735757,7.458593083480695,0.8558744359372228,2.374642979193873,0.8133985724296794,0.34537431012412445,0.9794337283734795,0.026854343838144737,2.3387443054694677,2.355143175258085,-0.2377467625560419,-0.5281380002323111,0.5569083151105755,1.3273169146255306,-0.7979564715282625,0.021306045384008074,0.18540408039296852,-0.5286601151840635,-0.30053938581566236,-0.2670905851620721,-0.4213945483810393,-0.788134971276349,-0.29843934370860786,-0.6988935851903396,-0.6188611243595,-0.891893576853704,-0.5575326074115977,-0.5421444761223276,-1.0218264988300536,-0.8757070979958429,-0.9262405724982002,-0.3760145415416763,-1.1909069145954871,1.206890016981868,-1.0727295159486152,-1.1273827906816891,-1.2957115150796839,-0.4896572112193373,-0.6004872142685126,-1.3019932900520148,-0.6730544697140298,-0.27260119813792216,0.277625184561567,-0.11134018088329965,7.425582502829256,0.73409340853576,2.259335054666985,0.8025779119217267,0.27306786415527023,0.9378846637130505,0.23322427422846925,2.2627195949827543,2.2651970750646284,-0.2462124266260266,-0.5170436877077967,0.6580760857569409,1.4019238447509983,-0.7968545076483263,0.017691236508559912,0.26227155737819996,-0.5364042390025292,-0.2372027678222159,-0.24461140817076318,-0.3901440266236212,-0.7681859741786122,-0.34388020219042625,-0.7013248588650759,-0.625134353849578,-0.8865954979826903,-0.5575332483988056,-0.4917821280086299,-1.0186230333517097,-0.871088182027601,-0.9826333242086632,-0.2702087748183055,-1.1678706038708075,1.7114381429420902,-1.0159276585898265,-1.1437811126170807,-1.293705999094282,-0.4235259461307564,-0.4662593933781744,-1.2660954727592832,-0.5801726755968979,-0.2983815991291966,0.36170042962341376,-0.11161244884777603,8.195748037712066,0.8593025091894521,2.3784836660095157,0.8016490154620494,0.2506524093325945,0.9957002735899282,0.3165424895068248,2.319037521794388,2.372984788158908,-0.24403295371306644,-0.5011318074706855,0.6604430361177042,1.5736708962544408,-0.8077955399608719,0.020349776551950662,0.2685235743785498,-0.463759957929642,-0.27654067526616244,-0.23724486606713946,-0.42366398161714647,-0.7628986420486343,-0.37306533691003246,-0.6846289289975692,-0.6313609075988554,-0.8813164203699925,-0.5362795724014716,-0.4398107905208791,-1.013765892165042,-0.8666855049315564,-0.9638600213704264,-0.02655260565341732,-1.1749393144478566,1.680415479060794,-0.9935139808671039,-1.1264855773144495,-1.2907819472532316,-0.3509114013435099,-0.5375039227465702,-1.2305963674566414,-0.5460667284606409,-0.20062636633873782,0.37455148946361566,-0.11558854752233369,8.228344318939365,1.1422061933029461,2.514312630437064,1.012849539293949,0.334687867157515,1.039369639244982,0.2850792014946351,2.2917012423679526,2.583914927280431,-0.6031559036557788,-0.5311981019705604,0.6514448201232156,1.5162073397559084,-0.8042173878242442,0.02080706296094075,0.2526140712770513,-0.46354469852121716,-0.2740400740101805,-0.243125914438918,-0.4374434646767129,-0.7643873163214141,-0.32731759058424276,-0.6931988172936752,-0.6371131386259345,-0.8751777692343491,-0.500946675958575,-0.43322917353637613,-1.0134905590898238,-0.869437214211934,-0.9362419229186649,-0.028207008359987955,-1.1734001206465015,1.6243942250953405,-0.9605213235403359,-1.1195080256153047,-1.2902364670485402,-0.34046549036263624,-0.421238088191244,-1.1617510386380878,-0.613729096746353,-0.30166337897161044,0.43451581621393015,-0.2580841973676011,8.100050753522675,1.1227968552015994,2.6320490079743353,1.0106282716745147,0.4179548745303106,1.0513663935040245,0.3897349617823806,2.2354957132935844,2.716617274463179,-0.6022567560310221,-0.539393329359872,0.6408461543060198,1.6028464435380707,-0.7991349394296094,0.018812762623586388,0.2556958255246754,-0.45523378320260094,-0.2810050209564327,-0.2429834671716197,-0.4639601451387396,-0.7679547919155219,-0.2947713700664683,-0.7009194175246206,-0.6363719027150706,-0.8843913470358742,-0.5395189112461687,-0.40676931705238417,-1.0122068084932856,-0.8626984223275085,-0.9449798615507585,-0.00932461901836603,-1.1537138606383497,1.8411239812805584,-0.9472723428100933,-1.1353942140954167,-1.2863602591222238,-0.3628643200812731,-0.43347121595691274,-1.1140408021243735,-0.5689587266126251,-0.38503969124475346,0.42128605950268994,-0.24663796752392075,8.193483308041543,1.1369624002268366,2.5784133230623327,1.0942800679477174,0.681468453521696,1.0420126824238036,0.4287450418127671,2.207933359762159,2.825433615577934],\"xaxis\":\"x\",\"y\":[-0.26943735129682417,0.6128617709513468,-0.2867893679110097,-0.18429739901774586,0.6453735281028672,-2.183388816843314,0.6431638544893556,0.16209515496934981,-0.7788793273019179,0.17132819947033717,0.7226675419502679,0.4786294679606328,-0.2988719133994496,0.18549272407294698,-0.9153423663743632,0.668582936199627,1.1503974514019826,1.0459384089281902,0.5935216567185532,0.09364707165326035,0.4017791898589694,0.3991080102143349,0.4030979562522764,0.9158409646476153,0.7375857724830183,0.1541577083412548,1.0009778494093553,0.25849353761227817,0.14275499738107195,0.7146470596580992,-0.06480643422735953,-0.05613868815296817,-0.20302278443652327,0.40203650197305124,2.3955118680053,0.47608089721957314,-1.7218430014564203,-2.035981472923321,0.5990853454569928,-1.4627341149397026,0.8580022702416182,-2.7454846929536743,-1.3248863024146569,-0.25393805008767184,0.6447832266793754,-0.2629867642647812,-0.18994346277107782,0.6387239045076363,-1.9298153047999458,0.0978513013224728,-0.3025587056573161,-0.9163315823987043,-0.2096246043413214,0.7462934294168576,0.5119191654329912,-0.24686580818343792,0.4059245104918247,-0.7831427061577544,0.49905334710602395,1.20855829337919,0.8069693778823626,0.36633785828961485,0.19033768431524256,0.4271850069651191,0.28826738949621467,0.4422259954700328,0.6522214712663971,0.7888199298136266,0.2533743547670634,0.74688591204684,0.20954182060409215,0.38817507602053647,0.7569933417965141,0.20007735480933478,-0.15887010293243514,-0.020432645161168765,0.42483262040527714,3.4496669052982996,0.44683478705179364,-3.4390544773654326,-1.849578326989084,0.636801499958693,-2.669688838086457,0.7843897312403487,-2.9106501185657416,-1.4778879438101222,-0.34769711363208666,0.6507522784027632,-0.4204073081440991,-0.33265016041652384,0.624361846160236,-1.704834203456135,0.2986849022976638,-0.28477092613944877,-0.89206560430107,-0.18369151157437436,0.9612243431751442,0.5438810438645018,-0.11765890365116112,0.24949394140962772,-0.6958662469179828,0.5440245019685563,1.3425911200895162,1.727552322130146,0.1848155424539109,0.2007970572339795,0.4465246702363954,0.15001992671070608,0.39310732109102603,0.3724239609310124,0.8518445632276057,0.5850949117168269,0.5594000971785006,0.2971727753947214,0.18200139759031306,0.7610406795957848,0.540986683251903,0.3008903592892946,-0.3814215320136808,0.4060413706401479,3.6396245197959116,0.46755927704749883,-3.7863133903589525,-2.2844109876791023,-0.05231612756669116,-2.642552703824085,0.7583985724890122,-2.862906651656632,-1.5302668539927353,-0.37870948526069287,0.6452269278557907,-0.4166219276536981,-0.18043416904167578,0.6245425774349508,-1.7034095892009349,0.3142573595579455,-0.285459864160524,-0.9017144350611902,-0.18055359200753476,0.8857954347529183,0.5538345589759431,-0.10074034845123839,0.3079363121376025,-0.6775828628333775,0.5436501791311353,1.3578037669727645,1.8987484682813982,0.20871296746658174,0.18950634548672168,0.4686850841805257,0.10059487070202884,0.39403029285878727,0.29443677438421834,0.8545135449975145,0.5820002916018243,0.5595611541277161,0.1868152292343757,0.12064222350502421,0.7644149238324662,0.3534230397893843,0.12435921944400716,-0.39057824252366563,0.4023237104815948,3.872883597088227,0.5542493797872293,-3.646740279524247,-2.496470093500424,-0.02464147787284987,-2.557912356823267,0.7591559976653317,-2.813265985099306,-1.4768481077047901,-0.3502935161487601,0.6400410147386589,-0.44228455958960045,-0.1994238416235477,0.624463181508179,-1.699790783128555,0.2727385776565669,-0.29877704717529163,-0.898920129448375,-0.15947331828718606,0.8681267376319605,0.5518241406141493,-0.09320821593506386,0.07643515959827693,-0.6886437394163871,0.5373493742785286,1.3792265047241647,2.322307677035286,0.20591333423061153,0.19050356130322968,0.47987051308196366,0.1294520643657735,0.6314491852598365,0.2513350240629233,0.8723678651776645,0.5883101783367352,0.3531447055320687,0.22669323432101385,0.12505329413614547,0.7719122322714662,0.10842745354907869,-0.04628298437373222,-0.4124422658355003,0.4030934582722417,4.144684405467491,0.5715904542712605,-3.60881864511298,-2.436684199148984,-0.03871685946067328,-2.5460508806396747,0.7505970889507071,-2.8151925221230947,-1.8101138005551842,-0.3540235231271554,0.6434755217070448,-0.41319159443104936,-0.10537656696760112,0.622226068147253,-1.7025793380414445,0.29346808749447156,-0.2842046598447598,-0.8684887031813433,-0.19649087459918022,0.8450742606369049,0.5497906742970257,-0.11396002866322939,0.08695691074638691,-0.6654610096421235,0.5578911708531387,1.409548176179955,1.9203810173137843,0.20742746051857772,0.20213653861218614,0.47644234061327606,0.10406009353361964,0.6194556495024871,0.3797659014685178,0.8875218281048449,0.5849467655249284,0.3532135078113444,0.03979430113956632,0.36569178540737807,0.7812477106220638,0.10232513140244888,-0.01878323453156214,-0.4040223803119059,0.40349487824094393,4.37108948682276,0.7316056007105219,-3.4885178513634467,-2.4395109941031836,-0.055784737086969564,-2.5238793878755605,0.7574141822732131,-2.93796925109466,-1.7669328170867507,-0.3452046098603398,0.6413366580473652,-0.39608176940823553,-0.0683477421457777,0.6271528232829497,-1.7033207088619138,0.2936259171576826,-0.2857988806803198,-0.9003706369833299,-0.14752655448732474,0.8394057276117457,0.5486046778060986,-0.1385905944844725,0.09045109715166041,-0.6705256561464842,0.5537167966850401,1.3884884212952815,2.1353934738659395,0.23046644044096298,0.2083119863316469,0.49332019192016496,0.33279938992052077,0.6252176345392008,0.4712962079542765,0.9114423800549231,0.5893162354136815,0.3483621491577618,0.23339205525446927,0.37165772134072766,0.8213815828178507,0.13745234810658624,0.01759350874995386,-0.3894621255379153,-0.05832684918868535,4.595411853697304,0.8211090147084253,-3.45273870962185,-2.4234895507511847,-0.04388245513546242,-2.5322370928143885,0.45527631910045063,-2.957251306945155,-1.6396951198636815,-0.32826540098321627,0.6468600707473405,-0.3507722597872048,-0.6465983944159776,0.6266056720937095,-1.704426002521434,0.1386700376201458,-0.28703639563660194,-1.257040427260299,-0.16132454416379693,0.8060842405855329,0.5494680453461802,-0.13564374352341785,0.09475723397892552,-0.6586926026852531,0.5586946190173624,1.45497811399824,1.962706004022128,0.24585694917774925,-0.007020436170129971,0.5323927856662315,0.3444640700408242,0.6354714027888436,0.5652218595341879,0.901217079399637,0.5991114548712927,0.34568790396126153,0.2773869751041296,0.4115967553063925,0.8400521069192681,0.06531802205631089,-0.06704780943503028,-0.3565286475669275,-0.04587853548862396,4.654426299471127,0.7749074651507448,-3.5128220509578076,-2.425643810407664,-0.07857890057634097,-2.544387341480725,0.5144277286808934,-3.183346702453948,-1.6587712389739628,-0.3228713353910796,0.6522372241142373,-0.31454335554249374,-0.5717157034548709,0.6314299000960072,-1.7059006856059669,0.18251550273853176,-0.29028852719425274,-1.4243125902338385,-0.17852141758207266,0.8171767650423627,0.5566849732572262,-0.15426162724137385,0.08704517274963278,-0.6519493988386398,0.5515621925996452,1.4406955669297046,1.9245432476129802,0.2457766303386827,0.005704790960178086,0.5606790246306103,0.38784138302807175,0.651342070065996,1.1106287414646174,0.9271085591435005,0.6021124399651088,0.34796482476456386,0.28912583688645305,0.45324469051536853,0.8533597557344351,0.11213697837951894,-0.024547385526963884,-0.31765977604909773,-0.05048605588487632,5.079482687968443,0.8214721995658324,-3.4403397380568843,-2.4258077120097723,-0.08586715760576373,-2.753640402493534,0.5671486413451925,-3.156030406533975,-1.6136629839629681,-0.3214994768386679,0.6610677863254323,-0.29828508609533927,-0.4446287905145502,0.6286810759798779,-1.704798393508978,0.19037470568771994,-0.4977575979073177,-1.241581223414959,-0.14247733877746022,0.835871956507976,0.5584920866557015,-0.1889789210831387,0.0969040894744627,-0.635543353664573,0.5659076769817295,1.3802323763356585,1.5268323355203046,0.2413719840698185,0.00754628668995593,0.5834848962664942,0.2727087899203997,0.6502098093666084,1.1142295739889005,0.9436336723649034,0.6175782453129086,0.3398817888552394,0.32572029341319164,0.4177686146455203,0.8747518953268708,0.2990641361196927,-0.05167442070303537,-0.31722266085571,-0.03939808706340149,5.146893672618016,0.9568129081097696,-3.3626053079530056,-3.016082788295577,-0.05140587811268275,-2.7368921431555213,0.5835455918128927,-3.165487130951156,-1.5200763530167187,-0.27229387692817836,0.6548093991248549,-0.31292589040594226,-0.3876725281295237,0.6325132842940216,-1.7046159471510218,0.18255358510269726,-0.49694682205594753,-1.237420744442367,-0.12138198148601079,0.8173989517803989,0.5703688478927229,-0.17011944954162914,0.09505636404064007,-0.6461016400594844,0.55987405731664,1.4067906429635961,1.032250435847531,0.24148521436832376,0.0063906465421330536,0.5723126961170745,0.24619443389414464,0.6444784771533104,1.0667491323176463,0.9602923538962898,0.6067624385119579,0.3401376819517859,0.3088016884260635,0.48626547590240815,0.905035161983097,0.2680340596886537,-0.018102689106404474,-0.22246044346647423,-0.022081468776734312,5.053154821160705,0.9443055346519933,-3.3037096162698742,-3.020035996351439,-0.015202711930936093,-2.724411779030378,0.6159705656213805,-3.186415849737494,-1.440593543336986,-0.26524937691104816,0.6392750138695288,-0.2971914925081535,-0.31490581977392346,0.6391043803710643,-1.704750847750343,0.19007448543841418,-0.49486893142139904,-1.2482025717501344,-0.200317947030517,0.7893847222083097,0.5615146363821352,-0.15384844873398434,0.09033804198531667,-0.6352642844388211,0.5560382253738279,1.3370958265373407,0.981899360445419,0.23557182646596325,0.009230738431824972,0.5589179163529319,0.25855065558678253,0.6641644806422491,1.1377609475112136,0.9635537491479504,0.6180193461525352,0.33458849570168564,0.30426365384060877,0.47026423542828266,0.9320068784210992,0.28999708970632326,-0.22683012997513483,-0.2389727554051398,-0.023298622079405643,5.257985681246027,0.9525720589423808,-3.3354591890879464,-2.97509531921776,-0.5371404431370354,-2.7200596292700205,0.6231066493660331,-3.390645776682507,-1.3667191218024364],\"yaxis\":\"y\",\"type\":\"scatter\"}],                        {\"template\":{\"data\":{\"histogram2dcontour\":[{\"type\":\"histogram2dcontour\",\"colorbar\":{\"outlinewidth\":0,\"ticks\":\"\"},\"colorscale\":[[0.0,\"#0d0887\"],[0.1111111111111111,\"#46039f\"],[0.2222222222222222,\"#7201a8\"],[0.3333333333333333,\"#9c179e\"],[0.4444444444444444,\"#bd3786\"],[0.5555555555555556,\"#d8576b\"],[0.6666666666666666,\"#ed7953\"],[0.7777777777777778,\"#fb9f3a\"],[0.8888888888888888,\"#fdca26\"],[1.0,\"#f0f921\"]]}],\"choropleth\":[{\"type\":\"choropleth\",\"colorbar\":{\"outlinewidth\":0,\"ticks\":\"\"}}],\"histogram2d\":[{\"type\":\"histogram2d\",\"colorbar\":{\"outlinewidth\":0,\"ticks\":\"\"},\"colorscale\":[[0.0,\"#0d0887\"],[0.1111111111111111,\"#46039f\"],[0.2222222222222222,\"#7201a8\"],[0.3333333333333333,\"#9c179e\"],[0.4444444444444444,\"#bd3786\"],[0.5555555555555556,\"#d8576b\"],[0.6666666666666666,\"#ed7953\"],[0.7777777777777778,\"#fb9f3a\"],[0.8888888888888888,\"#fdca26\"],[1.0,\"#f0f921\"]]}],\"heatmap\":[{\"type\":\"heatmap\",\"colorbar\":{\"outlinewidth\":0,\"ticks\":\"\"},\"colorscale\":[[0.0,\"#0d0887\"],[0.1111111111111111,\"#46039f\"],[0.2222222222222222,\"#7201a8\"],[0.3333333333333333,\"#9c179e\"],[0.4444444444444444,\"#bd3786\"],[0.5555555555555556,\"#d8576b\"],[0.6666666666666666,\"#ed7953\"],[0.7777777777777778,\"#fb9f3a\"],[0.8888888888888888,\"#fdca26\"],[1.0,\"#f0f921\"]]}],\"heatmapgl\":[{\"type\":\"heatmapgl\",\"colorbar\":{\"outlinewidth\":0,\"ticks\":\"\"},\"colorscale\":[[0.0,\"#0d0887\"],[0.1111111111111111,\"#46039f\"],[0.2222222222222222,\"#7201a8\"],[0.3333333333333333,\"#9c179e\"],[0.4444444444444444,\"#bd3786\"],[0.5555555555555556,\"#d8576b\"],[0.6666666666666666,\"#ed7953\"],[0.7777777777777778,\"#fb9f3a\"],[0.8888888888888888,\"#fdca26\"],[1.0,\"#f0f921\"]]}],\"contourcarpet\":[{\"type\":\"contourcarpet\",\"colorbar\":{\"outlinewidth\":0,\"ticks\":\"\"}}],\"contour\":[{\"type\":\"contour\",\"colorbar\":{\"outlinewidth\":0,\"ticks\":\"\"},\"colorscale\":[[0.0,\"#0d0887\"],[0.1111111111111111,\"#46039f\"],[0.2222222222222222,\"#7201a8\"],[0.3333333333333333,\"#9c179e\"],[0.4444444444444444,\"#bd3786\"],[0.5555555555555556,\"#d8576b\"],[0.6666666666666666,\"#ed7953\"],[0.7777777777777778,\"#fb9f3a\"],[0.8888888888888888,\"#fdca26\"],[1.0,\"#f0f921\"]]}],\"surface\":[{\"type\":\"surface\",\"colorbar\":{\"outlinewidth\":0,\"ticks\":\"\"},\"colorscale\":[[0.0,\"#0d0887\"],[0.1111111111111111,\"#46039f\"],[0.2222222222222222,\"#7201a8\"],[0.3333333333333333,\"#9c179e\"],[0.4444444444444444,\"#bd3786\"],[0.5555555555555556,\"#d8576b\"],[0.6666666666666666,\"#ed7953\"],[0.7777777777777778,\"#fb9f3a\"],[0.8888888888888888,\"#fdca26\"],[1.0,\"#f0f921\"]]}],\"mesh3d\":[{\"type\":\"mesh3d\",\"colorbar\":{\"outlinewidth\":0,\"ticks\":\"\"}}],\"scatter\":[{\"fillpattern\":{\"fillmode\":\"overlay\",\"size\":10,\"solidity\":0.2},\"type\":\"scatter\"}],\"parcoords\":[{\"type\":\"parcoords\",\"line\":{\"colorbar\":{\"outlinewidth\":0,\"ticks\":\"\"}}}],\"scatterpolargl\":[{\"type\":\"scatterpolargl\",\"marker\":{\"colorbar\":{\"outlinewidth\":0,\"ticks\":\"\"}}}],\"bar\":[{\"error_x\":{\"color\":\"#2a3f5f\"},\"error_y\":{\"color\":\"#2a3f5f\"},\"marker\":{\"line\":{\"color\":\"#E5ECF6\",\"width\":0.5},\"pattern\":{\"fillmode\":\"overlay\",\"size\":10,\"solidity\":0.2}},\"type\":\"bar\"}],\"scattergeo\":[{\"type\":\"scattergeo\",\"marker\":{\"colorbar\":{\"outlinewidth\":0,\"ticks\":\"\"}}}],\"scatterpolar\":[{\"type\":\"scatterpolar\",\"marker\":{\"colorbar\":{\"outlinewidth\":0,\"ticks\":\"\"}}}],\"histogram\":[{\"marker\":{\"pattern\":{\"fillmode\":\"overlay\",\"size\":10,\"solidity\":0.2}},\"type\":\"histogram\"}],\"scattergl\":[{\"type\":\"scattergl\",\"marker\":{\"colorbar\":{\"outlinewidth\":0,\"ticks\":\"\"}}}],\"scatter3d\":[{\"type\":\"scatter3d\",\"line\":{\"colorbar\":{\"outlinewidth\":0,\"ticks\":\"\"}},\"marker\":{\"colorbar\":{\"outlinewidth\":0,\"ticks\":\"\"}}}],\"scattermapbox\":[{\"type\":\"scattermapbox\",\"marker\":{\"colorbar\":{\"outlinewidth\":0,\"ticks\":\"\"}}}],\"scatterternary\":[{\"type\":\"scatterternary\",\"marker\":{\"colorbar\":{\"outlinewidth\":0,\"ticks\":\"\"}}}],\"scattercarpet\":[{\"type\":\"scattercarpet\",\"marker\":{\"colorbar\":{\"outlinewidth\":0,\"ticks\":\"\"}}}],\"carpet\":[{\"aaxis\":{\"endlinecolor\":\"#2a3f5f\",\"gridcolor\":\"white\",\"linecolor\":\"white\",\"minorgridcolor\":\"white\",\"startlinecolor\":\"#2a3f5f\"},\"baxis\":{\"endlinecolor\":\"#2a3f5f\",\"gridcolor\":\"white\",\"linecolor\":\"white\",\"minorgridcolor\":\"white\",\"startlinecolor\":\"#2a3f5f\"},\"type\":\"carpet\"}],\"table\":[{\"cells\":{\"fill\":{\"color\":\"#EBF0F8\"},\"line\":{\"color\":\"white\"}},\"header\":{\"fill\":{\"color\":\"#C8D4E3\"},\"line\":{\"color\":\"white\"}},\"type\":\"table\"}],\"barpolar\":[{\"marker\":{\"line\":{\"color\":\"#E5ECF6\",\"width\":0.5},\"pattern\":{\"fillmode\":\"overlay\",\"size\":10,\"solidity\":0.2}},\"type\":\"barpolar\"}],\"pie\":[{\"automargin\":true,\"type\":\"pie\"}]},\"layout\":{\"autotypenumbers\":\"strict\",\"colorway\":[\"#636efa\",\"#EF553B\",\"#00cc96\",\"#ab63fa\",\"#FFA15A\",\"#19d3f3\",\"#FF6692\",\"#B6E880\",\"#FF97FF\",\"#FECB52\"],\"font\":{\"color\":\"#2a3f5f\"},\"hovermode\":\"closest\",\"hoverlabel\":{\"align\":\"left\"},\"paper_bgcolor\":\"white\",\"plot_bgcolor\":\"#E5ECF6\",\"polar\":{\"bgcolor\":\"#E5ECF6\",\"angularaxis\":{\"gridcolor\":\"white\",\"linecolor\":\"white\",\"ticks\":\"\"},\"radialaxis\":{\"gridcolor\":\"white\",\"linecolor\":\"white\",\"ticks\":\"\"}},\"ternary\":{\"bgcolor\":\"#E5ECF6\",\"aaxis\":{\"gridcolor\":\"white\",\"linecolor\":\"white\",\"ticks\":\"\"},\"baxis\":{\"gridcolor\":\"white\",\"linecolor\":\"white\",\"ticks\":\"\"},\"caxis\":{\"gridcolor\":\"white\",\"linecolor\":\"white\",\"ticks\":\"\"}},\"coloraxis\":{\"colorbar\":{\"outlinewidth\":0,\"ticks\":\"\"}},\"colorscale\":{\"sequential\":[[0.0,\"#0d0887\"],[0.1111111111111111,\"#46039f\"],[0.2222222222222222,\"#7201a8\"],[0.3333333333333333,\"#9c179e\"],[0.4444444444444444,\"#bd3786\"],[0.5555555555555556,\"#d8576b\"],[0.6666666666666666,\"#ed7953\"],[0.7777777777777778,\"#fb9f3a\"],[0.8888888888888888,\"#fdca26\"],[1.0,\"#f0f921\"]],\"sequentialminus\":[[0.0,\"#0d0887\"],[0.1111111111111111,\"#46039f\"],[0.2222222222222222,\"#7201a8\"],[0.3333333333333333,\"#9c179e\"],[0.4444444444444444,\"#bd3786\"],[0.5555555555555556,\"#d8576b\"],[0.6666666666666666,\"#ed7953\"],[0.7777777777777778,\"#fb9f3a\"],[0.8888888888888888,\"#fdca26\"],[1.0,\"#f0f921\"]],\"diverging\":[[0,\"#8e0152\"],[0.1,\"#c51b7d\"],[0.2,\"#de77ae\"],[0.3,\"#f1b6da\"],[0.4,\"#fde0ef\"],[0.5,\"#f7f7f7\"],[0.6,\"#e6f5d0\"],[0.7,\"#b8e186\"],[0.8,\"#7fbc41\"],[0.9,\"#4d9221\"],[1,\"#276419\"]]},\"xaxis\":{\"gridcolor\":\"white\",\"linecolor\":\"white\",\"ticks\":\"\",\"title\":{\"standoff\":15},\"zerolinecolor\":\"white\",\"automargin\":true,\"zerolinewidth\":2},\"yaxis\":{\"gridcolor\":\"white\",\"linecolor\":\"white\",\"ticks\":\"\",\"title\":{\"standoff\":15},\"zerolinecolor\":\"white\",\"automargin\":true,\"zerolinewidth\":2},\"scene\":{\"xaxis\":{\"backgroundcolor\":\"#E5ECF6\",\"gridcolor\":\"white\",\"linecolor\":\"white\",\"showbackground\":true,\"ticks\":\"\",\"zerolinecolor\":\"white\",\"gridwidth\":2},\"yaxis\":{\"backgroundcolor\":\"#E5ECF6\",\"gridcolor\":\"white\",\"linecolor\":\"white\",\"showbackground\":true,\"ticks\":\"\",\"zerolinecolor\":\"white\",\"gridwidth\":2},\"zaxis\":{\"backgroundcolor\":\"#E5ECF6\",\"gridcolor\":\"white\",\"linecolor\":\"white\",\"showbackground\":true,\"ticks\":\"\",\"zerolinecolor\":\"white\",\"gridwidth\":2}},\"shapedefaults\":{\"line\":{\"color\":\"#2a3f5f\"}},\"annotationdefaults\":{\"arrowcolor\":\"#2a3f5f\",\"arrowhead\":0,\"arrowwidth\":1},\"geo\":{\"bgcolor\":\"white\",\"landcolor\":\"#E5ECF6\",\"subunitcolor\":\"white\",\"showland\":true,\"showlakes\":true,\"lakecolor\":\"white\"},\"title\":{\"x\":0.05},\"mapbox\":{\"style\":\"light\"}}},\"xaxis\":{\"anchor\":\"y\",\"domain\":[0.0,1.0],\"title\":{\"text\":\"Principal Component 1\"}},\"yaxis\":{\"anchor\":\"x\",\"domain\":[0.0,1.0],\"title\":{\"text\":\"Principal Component 2\"}},\"coloraxis\":{\"colorbar\":{\"title\":{\"text\":\"Cluster Number\"}},\"colorscale\":[[0.0,\"#0d0887\"],[0.1111111111111111,\"#46039f\"],[0.2222222222222222,\"#7201a8\"],[0.3333333333333333,\"#9c179e\"],[0.4444444444444444,\"#bd3786\"],[0.5555555555555556,\"#d8576b\"],[0.6666666666666666,\"#ed7953\"],[0.7777777777777778,\"#fb9f3a\"],[0.8888888888888888,\"#fdca26\"],[1.0,\"#f0f921\"]]},\"legend\":{\"tracegroupgap\":0},\"margin\":{\"t\":60},\"title\":{\"text\":\"K-means Clustering in PCA Space with 3 Clusters\"}},                        {\"responsive\": true}                    ).then(function(){\n",
       "                            \n",
       "var gd = document.getElementById('4ca8009b-9f5a-4cda-bf7f-889dcaefb2ea');\n",
       "var x = new MutationObserver(function (mutations, observer) {{\n",
       "        var display = window.getComputedStyle(gd).display;\n",
       "        if (!display || display === 'none') {{\n",
       "            console.log([gd, 'removed!']);\n",
       "            Plotly.purge(gd);\n",
       "            observer.disconnect();\n",
       "        }}\n",
       "}});\n",
       "\n",
       "// Listen for the removal of the full notebook cells\n",
       "var notebookContainer = gd.closest('#notebook-container');\n",
       "if (notebookContainer) {{\n",
       "    x.observe(notebookContainer, {childList: true});\n",
       "}}\n",
       "\n",
       "// Listen for the clearing of the current output cell\n",
       "var outputEl = gd.closest('.output');\n",
       "if (outputEl) {{\n",
       "    x.observe(outputEl, {childList: true});\n",
       "}}\n",
       "\n",
       "                        })                };                });            </script>        </div>"
      ]
     },
     "metadata": {},
     "output_type": "display_data"
    }
   ],
   "source": [
    "#| code-fold: true\n",
    "pca = PCA(n_components=2)\n",
    "data_standardized['PCA1'] = reduced_data[:, 0]\n",
    "data_standardized['PCA2'] = reduced_data[:, 1]\n",
    "\n",
    "kmeans_pca = KMeans(n_clusters=3, random_state=42)\n",
    "kmeans_pca.fit(reduced_data)\n",
    "data_standardized['cluster_number_pca'] = kmeans_pca.labels_\n",
    "\n",
    "\n",
    "hover_data = data_standardized[['Country']]\n",
    "\n",
    "fig = px.scatter(data_standardized, x='PCA1', y='PCA2', color='cluster_number_pca', hover_data=hover_data,\n",
    "                 labels={'cluster_number_pca': 'Cluster Number', 'PCA1': 'Principal Component 1', 'PCA2': 'Principal Component 2'})\n",
    "\n",
    "fig.update_layout(title='K-means Clustering in PCA Space with 3 Clusters', xaxis_title='Principal Component 1', yaxis_title='Principal Component 2')\n",
    "fig.show()"
   ]
  },
  {
   "cell_type": "markdown",
   "metadata": {},
   "source": [
    "As you can see there are now three well defined clusters. It is interesting to note that the yellow seems to contain outliers within the data set. \n",
    "\n",
    "Below, I ran K-Means again although I changed the X axis to Marine Protected Area and Y axis to Fishing Exports. "
   ]
  },
  {
   "cell_type": "code",
   "execution_count": 580,
   "metadata": {},
   "outputs": [
    {
     "name": "stderr",
     "output_type": "stream",
     "text": [
      "/Users/kendallgilbert/anaconda3/lib/python3.11/site-packages/sklearn/cluster/_kmeans.py:1412: FutureWarning:\n",
      "\n",
      "The default value of `n_init` will change from 10 to 'auto' in 1.4. Set the value of `n_init` explicitly to suppress the warning\n",
      "\n"
     ]
    },
    {
     "data": {
      "application/vnd.plotly.v1+json": {
       "config": {
        "plotlyServerURL": "https://plot.ly"
       },
       "data": [
        {
         "customdata": [
          [
           -0.8058229640253802
          ],
          [
           -0.7252406676228422
          ],
          [
           -0.6446583712203042
          ],
          [
           -0.5640760748177662
          ],
          [
           -0.48349377841522817
          ],
          [
           -0.4029114820126901
          ],
          [
           -0.3223291856101521
          ],
          [
           -0.24174688920761409
          ],
          [
           -0.16116459280507606
          ],
          [
           -0.08058229640253803
          ],
          [
           0
          ],
          [
           0.08058229640253803
          ],
          [
           0.16116459280507606
          ],
          [
           0.24174688920761409
          ],
          [
           0.3223291856101521
          ],
          [
           0.4029114820126901
          ],
          [
           0.48349377841522817
          ],
          [
           0.5640760748177662
          ],
          [
           0.6446583712203042
          ],
          [
           0.7252406676228422
          ],
          [
           0.8058229640253802
          ],
          [
           0.8864052604279183
          ],
          [
           0.9669875568304563
          ],
          [
           1.0475698532329945
          ],
          [
           1.1281521496355325
          ],
          [
           1.2087344460380705
          ],
          [
           1.2893167424406085
          ],
          [
           1.3698990388431465
          ],
          [
           1.4504813352456845
          ],
          [
           1.5310636316482225
          ],
          [
           1.6116459280507605
          ],
          [
           1.6922282244532987
          ],
          [
           -1.6922282244532987
          ],
          [
           -1.6116459280507605
          ],
          [
           -1.5310636316482225
          ],
          [
           -1.4504813352456845
          ],
          [
           -1.3698990388431465
          ],
          [
           -1.2893167424406085
          ],
          [
           -1.2087344460380705
          ],
          [
           -1.1281521496355325
          ],
          [
           -1.0475698532329945
          ],
          [
           -0.9669875568304563
          ],
          [
           -0.8864052604279183
          ],
          [
           -0.8058229640253802
          ],
          [
           -0.7252406676228422
          ],
          [
           -0.6446583712203042
          ],
          [
           -0.5640760748177662
          ],
          [
           -0.48349377841522817
          ],
          [
           -0.4029114820126901
          ],
          [
           -0.3223291856101521
          ],
          [
           -0.24174688920761409
          ],
          [
           -0.16116459280507606
          ],
          [
           -0.08058229640253803
          ],
          [
           0
          ],
          [
           0.08058229640253803
          ],
          [
           0.16116459280507606
          ],
          [
           0.24174688920761409
          ],
          [
           0.3223291856101521
          ],
          [
           0.4029114820126901
          ],
          [
           0.48349377841522817
          ],
          [
           0.5640760748177662
          ],
          [
           0.6446583712203042
          ],
          [
           0.7252406676228422
          ],
          [
           0.8058229640253802
          ],
          [
           0.8864052604279183
          ],
          [
           0.9669875568304563
          ],
          [
           1.0475698532329945
          ],
          [
           1.1281521496355325
          ],
          [
           1.2087344460380705
          ],
          [
           1.2893167424406085
          ],
          [
           1.3698990388431465
          ],
          [
           1.4504813352456845
          ],
          [
           1.5310636316482225
          ],
          [
           1.6116459280507605
          ],
          [
           1.6922282244532987
          ],
          [
           -1.6922282244532987
          ],
          [
           -1.6116459280507605
          ],
          [
           -1.5310636316482225
          ],
          [
           -1.4504813352456845
          ],
          [
           -1.3698990388431465
          ],
          [
           -1.2893167424406085
          ],
          [
           -1.2087344460380705
          ],
          [
           -1.1281521496355325
          ],
          [
           -1.0475698532329945
          ],
          [
           -0.9669875568304563
          ],
          [
           -0.8864052604279183
          ],
          [
           -0.8058229640253802
          ],
          [
           -0.7252406676228422
          ],
          [
           -0.6446583712203042
          ],
          [
           -0.5640760748177662
          ],
          [
           -0.48349377841522817
          ],
          [
           -0.4029114820126901
          ],
          [
           -0.3223291856101521
          ],
          [
           -0.24174688920761409
          ],
          [
           -0.16116459280507606
          ],
          [
           -0.08058229640253803
          ],
          [
           0
          ],
          [
           0.08058229640253803
          ],
          [
           0.16116459280507606
          ],
          [
           0.24174688920761409
          ],
          [
           0.3223291856101521
          ],
          [
           0.4029114820126901
          ],
          [
           0.48349377841522817
          ],
          [
           0.5640760748177662
          ],
          [
           0.6446583712203042
          ],
          [
           0.7252406676228422
          ],
          [
           0.8058229640253802
          ],
          [
           0.8864052604279183
          ],
          [
           0.9669875568304563
          ],
          [
           1.0475698532329945
          ],
          [
           1.1281521496355325
          ],
          [
           1.2087344460380705
          ],
          [
           1.2893167424406085
          ],
          [
           1.3698990388431465
          ],
          [
           1.4504813352456845
          ],
          [
           1.5310636316482225
          ],
          [
           1.6116459280507605
          ],
          [
           1.6922282244532987
          ],
          [
           -1.6922282244532987
          ],
          [
           -1.6116459280507605
          ],
          [
           -1.5310636316482225
          ],
          [
           -1.4504813352456845
          ],
          [
           -1.3698990388431465
          ],
          [
           -1.2893167424406085
          ],
          [
           -1.2087344460380705
          ],
          [
           -1.1281521496355325
          ],
          [
           -1.0475698532329945
          ],
          [
           -0.9669875568304563
          ],
          [
           -0.8864052604279183
          ],
          [
           -0.8058229640253802
          ],
          [
           -0.7252406676228422
          ],
          [
           -0.6446583712203042
          ],
          [
           -0.5640760748177662
          ],
          [
           -0.48349377841522817
          ],
          [
           -0.4029114820126901
          ],
          [
           -0.3223291856101521
          ],
          [
           -0.24174688920761409
          ],
          [
           -0.16116459280507606
          ],
          [
           -0.08058229640253803
          ],
          [
           0
          ],
          [
           0.08058229640253803
          ],
          [
           0.16116459280507606
          ],
          [
           0.24174688920761409
          ],
          [
           0.3223291856101521
          ],
          [
           0.4029114820126901
          ],
          [
           0.48349377841522817
          ],
          [
           0.5640760748177662
          ],
          [
           0.6446583712203042
          ],
          [
           0.7252406676228422
          ],
          [
           0.8058229640253802
          ],
          [
           0.8864052604279183
          ],
          [
           0.9669875568304563
          ],
          [
           1.0475698532329945
          ],
          [
           1.1281521496355325
          ],
          [
           1.2087344460380705
          ],
          [
           1.2893167424406085
          ],
          [
           1.3698990388431465
          ],
          [
           1.4504813352456845
          ],
          [
           1.5310636316482225
          ],
          [
           1.6116459280507605
          ],
          [
           1.6922282244532987
          ],
          [
           -1.6922282244532987
          ],
          [
           -1.6116459280507605
          ],
          [
           -1.5310636316482225
          ],
          [
           -1.4504813352456845
          ],
          [
           -1.3698990388431465
          ],
          [
           -1.2893167424406085
          ],
          [
           -1.2087344460380705
          ],
          [
           -1.1281521496355325
          ],
          [
           -1.0475698532329945
          ],
          [
           -0.9669875568304563
          ],
          [
           -0.8864052604279183
          ],
          [
           -0.8058229640253802
          ],
          [
           -0.7252406676228422
          ],
          [
           -0.6446583712203042
          ],
          [
           -0.5640760748177662
          ],
          [
           -0.48349377841522817
          ],
          [
           -0.4029114820126901
          ],
          [
           -0.3223291856101521
          ],
          [
           -0.24174688920761409
          ],
          [
           -0.16116459280507606
          ],
          [
           -0.08058229640253803
          ],
          [
           0
          ],
          [
           0.08058229640253803
          ],
          [
           0.16116459280507606
          ],
          [
           0.24174688920761409
          ],
          [
           0.3223291856101521
          ],
          [
           0.4029114820126901
          ],
          [
           0.48349377841522817
          ],
          [
           0.5640760748177662
          ],
          [
           0.6446583712203042
          ],
          [
           0.7252406676228422
          ],
          [
           0.8058229640253802
          ],
          [
           0.8864052604279183
          ],
          [
           0.9669875568304563
          ],
          [
           1.0475698532329945
          ],
          [
           1.1281521496355325
          ],
          [
           1.2087344460380705
          ],
          [
           1.2893167424406085
          ],
          [
           1.3698990388431465
          ],
          [
           1.4504813352456845
          ],
          [
           1.5310636316482225
          ],
          [
           1.6116459280507605
          ],
          [
           1.6922282244532987
          ],
          [
           -1.6922282244532987
          ],
          [
           -1.6116459280507605
          ],
          [
           -1.5310636316482225
          ],
          [
           -1.4504813352456845
          ],
          [
           -1.3698990388431465
          ],
          [
           -1.2893167424406085
          ],
          [
           -1.2087344460380705
          ],
          [
           -1.1281521496355325
          ],
          [
           -1.0475698532329945
          ],
          [
           -0.9669875568304563
          ],
          [
           -0.8864052604279183
          ],
          [
           -0.8058229640253802
          ],
          [
           -0.7252406676228422
          ],
          [
           -0.6446583712203042
          ],
          [
           -0.5640760748177662
          ],
          [
           -0.48349377841522817
          ],
          [
           -0.4029114820126901
          ],
          [
           -0.3223291856101521
          ],
          [
           -0.24174688920761409
          ],
          [
           -0.16116459280507606
          ],
          [
           -0.08058229640253803
          ],
          [
           0
          ],
          [
           0.08058229640253803
          ],
          [
           0.16116459280507606
          ],
          [
           0.24174688920761409
          ],
          [
           0.3223291856101521
          ],
          [
           0.4029114820126901
          ],
          [
           0.48349377841522817
          ],
          [
           0.5640760748177662
          ],
          [
           0.6446583712203042
          ],
          [
           0.7252406676228422
          ],
          [
           0.8058229640253802
          ],
          [
           0.8864052604279183
          ],
          [
           0.9669875568304563
          ],
          [
           1.0475698532329945
          ],
          [
           1.1281521496355325
          ],
          [
           1.2087344460380705
          ],
          [
           1.2893167424406085
          ],
          [
           1.3698990388431465
          ],
          [
           1.4504813352456845
          ],
          [
           1.5310636316482225
          ],
          [
           1.6116459280507605
          ],
          [
           1.6922282244532987
          ],
          [
           -1.6922282244532987
          ],
          [
           -1.6116459280507605
          ],
          [
           -1.5310636316482225
          ],
          [
           -1.4504813352456845
          ],
          [
           -1.3698990388431465
          ],
          [
           -1.2893167424406085
          ],
          [
           -1.2087344460380705
          ],
          [
           -1.1281521496355325
          ],
          [
           -1.0475698532329945
          ],
          [
           -0.9669875568304563
          ],
          [
           -0.8864052604279183
          ],
          [
           -0.8058229640253802
          ],
          [
           -0.7252406676228422
          ],
          [
           -0.6446583712203042
          ],
          [
           -0.5640760748177662
          ],
          [
           -0.48349377841522817
          ],
          [
           -0.4029114820126901
          ],
          [
           -0.3223291856101521
          ],
          [
           -0.24174688920761409
          ],
          [
           -0.16116459280507606
          ],
          [
           -0.08058229640253803
          ],
          [
           0
          ],
          [
           0.08058229640253803
          ],
          [
           0.16116459280507606
          ],
          [
           0.24174688920761409
          ],
          [
           0.3223291856101521
          ],
          [
           0.4029114820126901
          ],
          [
           0.48349377841522817
          ],
          [
           0.5640760748177662
          ],
          [
           0.6446583712203042
          ],
          [
           0.7252406676228422
          ],
          [
           0.8058229640253802
          ],
          [
           0.8864052604279183
          ],
          [
           0.9669875568304563
          ],
          [
           1.0475698532329945
          ],
          [
           1.1281521496355325
          ],
          [
           1.2087344460380705
          ],
          [
           1.2893167424406085
          ],
          [
           1.3698990388431465
          ],
          [
           1.4504813352456845
          ],
          [
           1.5310636316482225
          ],
          [
           1.6116459280507605
          ],
          [
           1.6922282244532987
          ],
          [
           -1.6922282244532987
          ],
          [
           -1.6116459280507605
          ],
          [
           -1.5310636316482225
          ],
          [
           -1.4504813352456845
          ],
          [
           -1.3698990388431465
          ],
          [
           -1.2893167424406085
          ],
          [
           -1.2087344460380705
          ],
          [
           -1.1281521496355325
          ],
          [
           -1.0475698532329945
          ],
          [
           -0.9669875568304563
          ],
          [
           -0.8864052604279183
          ],
          [
           -0.8058229640253802
          ],
          [
           -0.7252406676228422
          ],
          [
           -0.6446583712203042
          ],
          [
           -0.5640760748177662
          ],
          [
           -0.48349377841522817
          ],
          [
           -0.4029114820126901
          ],
          [
           -0.3223291856101521
          ],
          [
           -0.24174688920761409
          ],
          [
           -0.16116459280507606
          ],
          [
           -0.08058229640253803
          ],
          [
           0
          ],
          [
           0.08058229640253803
          ],
          [
           0.16116459280507606
          ],
          [
           0.24174688920761409
          ],
          [
           0.3223291856101521
          ],
          [
           0.4029114820126901
          ],
          [
           0.48349377841522817
          ],
          [
           0.5640760748177662
          ],
          [
           0.6446583712203042
          ],
          [
           0.7252406676228422
          ],
          [
           0.8058229640253802
          ],
          [
           0.8864052604279183
          ],
          [
           0.9669875568304563
          ],
          [
           1.0475698532329945
          ],
          [
           1.1281521496355325
          ],
          [
           1.2087344460380705
          ],
          [
           1.2893167424406085
          ],
          [
           1.3698990388431465
          ],
          [
           1.4504813352456845
          ],
          [
           1.5310636316482225
          ],
          [
           1.6116459280507605
          ],
          [
           1.6922282244532987
          ],
          [
           -1.6922282244532987
          ],
          [
           -1.6116459280507605
          ],
          [
           -1.5310636316482225
          ],
          [
           -1.4504813352456845
          ],
          [
           -1.3698990388431465
          ],
          [
           -1.2893167424406085
          ],
          [
           -1.2087344460380705
          ],
          [
           -1.1281521496355325
          ],
          [
           -1.0475698532329945
          ],
          [
           -0.9669875568304563
          ],
          [
           -0.8864052604279183
          ],
          [
           -0.8058229640253802
          ],
          [
           -0.7252406676228422
          ],
          [
           -0.6446583712203042
          ],
          [
           -0.5640760748177662
          ],
          [
           -0.48349377841522817
          ],
          [
           -0.4029114820126901
          ],
          [
           -0.3223291856101521
          ],
          [
           -0.24174688920761409
          ],
          [
           -0.16116459280507606
          ],
          [
           -0.08058229640253803
          ],
          [
           0
          ],
          [
           0.08058229640253803
          ],
          [
           0.16116459280507606
          ],
          [
           0.24174688920761409
          ],
          [
           0.3223291856101521
          ],
          [
           0.4029114820126901
          ],
          [
           0.48349377841522817
          ],
          [
           0.5640760748177662
          ],
          [
           0.6446583712203042
          ],
          [
           0.7252406676228422
          ],
          [
           0.8058229640253802
          ],
          [
           0.8864052604279183
          ],
          [
           0.9669875568304563
          ],
          [
           1.0475698532329945
          ],
          [
           1.1281521496355325
          ],
          [
           1.2087344460380705
          ],
          [
           1.2893167424406085
          ],
          [
           1.3698990388431465
          ],
          [
           1.4504813352456845
          ],
          [
           1.5310636316482225
          ],
          [
           1.6116459280507605
          ],
          [
           1.6922282244532987
          ],
          [
           -1.6922282244532987
          ],
          [
           -1.6116459280507605
          ],
          [
           -1.5310636316482225
          ],
          [
           -1.4504813352456845
          ],
          [
           -1.3698990388431465
          ],
          [
           -1.2893167424406085
          ],
          [
           -1.2087344460380705
          ],
          [
           -1.1281521496355325
          ],
          [
           -1.0475698532329945
          ],
          [
           -0.9669875568304563
          ],
          [
           -0.8864052604279183
          ],
          [
           -0.8058229640253802
          ],
          [
           -0.7252406676228422
          ],
          [
           -0.6446583712203042
          ],
          [
           -0.5640760748177662
          ],
          [
           -0.48349377841522817
          ],
          [
           -0.4029114820126901
          ],
          [
           -0.3223291856101521
          ],
          [
           -0.24174688920761409
          ],
          [
           -0.16116459280507606
          ],
          [
           -0.08058229640253803
          ],
          [
           0
          ],
          [
           0.08058229640253803
          ],
          [
           0.16116459280507606
          ],
          [
           0.24174688920761409
          ],
          [
           0.3223291856101521
          ],
          [
           0.4029114820126901
          ],
          [
           0.48349377841522817
          ],
          [
           0.5640760748177662
          ],
          [
           0.6446583712203042
          ],
          [
           0.7252406676228422
          ],
          [
           0.8058229640253802
          ],
          [
           0.8864052604279183
          ],
          [
           0.9669875568304563
          ],
          [
           1.0475698532329945
          ],
          [
           1.1281521496355325
          ],
          [
           1.2087344460380705
          ],
          [
           1.2893167424406085
          ],
          [
           1.3698990388431465
          ],
          [
           1.4504813352456845
          ],
          [
           1.5310636316482225
          ],
          [
           1.6116459280507605
          ],
          [
           1.6922282244532987
          ],
          [
           -1.6922282244532987
          ],
          [
           -1.6116459280507605
          ],
          [
           -1.5310636316482225
          ],
          [
           -1.4504813352456845
          ],
          [
           -1.3698990388431465
          ],
          [
           -1.2893167424406085
          ],
          [
           -1.2087344460380705
          ],
          [
           -1.1281521496355325
          ],
          [
           -1.0475698532329945
          ],
          [
           -0.9669875568304563
          ],
          [
           -0.8864052604279183
          ],
          [
           -0.8058229640253802
          ],
          [
           -0.7252406676228422
          ],
          [
           -0.6446583712203042
          ],
          [
           -0.5640760748177662
          ],
          [
           -0.48349377841522817
          ],
          [
           -0.4029114820126901
          ],
          [
           -0.3223291856101521
          ],
          [
           -0.24174688920761409
          ],
          [
           -0.16116459280507606
          ],
          [
           -0.08058229640253803
          ],
          [
           0
          ],
          [
           0.08058229640253803
          ],
          [
           0.16116459280507606
          ],
          [
           0.24174688920761409
          ],
          [
           0.3223291856101521
          ],
          [
           0.4029114820126901
          ],
          [
           0.48349377841522817
          ],
          [
           0.5640760748177662
          ],
          [
           0.6446583712203042
          ],
          [
           0.7252406676228422
          ],
          [
           0.8058229640253802
          ],
          [
           0.8864052604279183
          ],
          [
           0.9669875568304563
          ],
          [
           1.0475698532329945
          ],
          [
           1.1281521496355325
          ],
          [
           1.2087344460380705
          ],
          [
           1.2893167424406085
          ],
          [
           1.3698990388431465
          ],
          [
           1.4504813352456845
          ],
          [
           1.5310636316482225
          ],
          [
           1.6116459280507605
          ],
          [
           1.6922282244532987
          ],
          [
           -1.6922282244532987
          ],
          [
           -1.6116459280507605
          ],
          [
           -1.5310636316482225
          ],
          [
           -1.4504813352456845
          ],
          [
           -1.3698990388431465
          ],
          [
           -1.2893167424406085
          ],
          [
           -1.2087344460380705
          ],
          [
           -1.1281521496355325
          ],
          [
           -1.0475698532329945
          ],
          [
           -0.9669875568304563
          ],
          [
           -0.8864052604279183
          ],
          [
           -0.8058229640253802
          ],
          [
           -0.7252406676228422
          ],
          [
           -0.6446583712203042
          ],
          [
           -0.5640760748177662
          ],
          [
           -0.48349377841522817
          ],
          [
           -0.4029114820126901
          ],
          [
           -0.3223291856101521
          ],
          [
           -0.24174688920761409
          ],
          [
           -0.16116459280507606
          ],
          [
           -0.08058229640253803
          ],
          [
           0
          ],
          [
           0.08058229640253803
          ],
          [
           0.16116459280507606
          ],
          [
           0.24174688920761409
          ],
          [
           0.3223291856101521
          ],
          [
           0.4029114820126901
          ],
          [
           0.48349377841522817
          ],
          [
           0.5640760748177662
          ],
          [
           0.6446583712203042
          ],
          [
           0.7252406676228422
          ],
          [
           0.8058229640253802
          ],
          [
           0.8864052604279183
          ],
          [
           0.9669875568304563
          ],
          [
           1.0475698532329945
          ],
          [
           1.1281521496355325
          ],
          [
           1.2087344460380705
          ],
          [
           1.2893167424406085
          ],
          [
           1.3698990388431465
          ],
          [
           1.4504813352456845
          ],
          [
           1.5310636316482225
          ],
          [
           1.6116459280507605
          ],
          [
           1.6922282244532987
          ],
          [
           -1.6922282244532987
          ],
          [
           -1.6116459280507605
          ],
          [
           -1.5310636316482225
          ],
          [
           -1.4504813352456845
          ],
          [
           -1.3698990388431465
          ],
          [
           -1.2893167424406085
          ],
          [
           -1.2087344460380705
          ],
          [
           -1.1281521496355325
          ],
          [
           -1.0475698532329945
          ],
          [
           -0.9669875568304563
          ],
          [
           -0.8864052604279183
          ]
         ],
         "hovertemplate": "Marine Protected Area (sqkm)=%{x}<br>Fishing Exports (Millions)=%{y}<br>Country=%{customdata[0]}<br>features=%{marker.color}<extra></extra>",
         "legendgroup": "",
         "marker": {
          "color": [
           0,
           0,
           0,
           0,
           0,
           1,
           0,
           0,
           0,
           0,
           0,
           0,
           0,
           0,
           0,
           0,
           0,
           0,
           0,
           0,
           0,
           0,
           0,
           0,
           0,
           0,
           0,
           0,
           0,
           0,
           0,
           0,
           0,
           0,
           2,
           0,
           1,
           1,
           0,
           1,
           0,
           1,
           1,
           0,
           0,
           0,
           0,
           0,
           1,
           0,
           0,
           0,
           0,
           0,
           0,
           0,
           0,
           0,
           0,
           0,
           0,
           0,
           0,
           0,
           0,
           0,
           0,
           0,
           0,
           0,
           0,
           0,
           0,
           0,
           0,
           0,
           0,
           2,
           0,
           1,
           1,
           0,
           1,
           0,
           1,
           1,
           0,
           0,
           0,
           0,
           0,
           1,
           0,
           0,
           0,
           0,
           0,
           0,
           0,
           0,
           0,
           0,
           0,
           0,
           0,
           0,
           0,
           0,
           0,
           0,
           0,
           0,
           0,
           0,
           0,
           0,
           0,
           0,
           0,
           0,
           2,
           0,
           1,
           1,
           0,
           1,
           0,
           1,
           1,
           0,
           0,
           0,
           0,
           0,
           1,
           0,
           0,
           0,
           0,
           0,
           0,
           0,
           0,
           0,
           0,
           0,
           0,
           0,
           0,
           0,
           0,
           0,
           0,
           0,
           0,
           0,
           0,
           0,
           0,
           0,
           0,
           0,
           0,
           2,
           0,
           1,
           1,
           0,
           1,
           0,
           1,
           1,
           0,
           0,
           0,
           0,
           0,
           1,
           0,
           0,
           0,
           0,
           0,
           0,
           0,
           0,
           0,
           0,
           0,
           0,
           0,
           0,
           0,
           0,
           0,
           0,
           0,
           0,
           0,
           0,
           0,
           0,
           0,
           0,
           0,
           0,
           2,
           0,
           1,
           1,
           0,
           1,
           0,
           1,
           1,
           0,
           0,
           0,
           0,
           0,
           1,
           0,
           0,
           0,
           0,
           0,
           0,
           0,
           0,
           0,
           0,
           0,
           0,
           0,
           0,
           0,
           0,
           0,
           0,
           0,
           0,
           0,
           0,
           0,
           0,
           0,
           0,
           0,
           0,
           2,
           0,
           1,
           1,
           0,
           1,
           0,
           1,
           1,
           0,
           0,
           0,
           0,
           0,
           1,
           0,
           0,
           0,
           0,
           0,
           0,
           0,
           0,
           0,
           0,
           0,
           0,
           0,
           0,
           0,
           0,
           0,
           0,
           0,
           0,
           0,
           0,
           0,
           0,
           0,
           0,
           0,
           0,
           2,
           0,
           1,
           1,
           0,
           1,
           0,
           1,
           1,
           0,
           0,
           0,
           1,
           0,
           1,
           0,
           0,
           0,
           0,
           0,
           0,
           0,
           0,
           0,
           0,
           0,
           0,
           0,
           0,
           0,
           0,
           0,
           0,
           0,
           0,
           0,
           0,
           0,
           0,
           0,
           0,
           0,
           0,
           2,
           0,
           1,
           1,
           0,
           1,
           0,
           1,
           1,
           0,
           0,
           0,
           1,
           0,
           1,
           0,
           0,
           0,
           0,
           0,
           0,
           0,
           0,
           0,
           0,
           0,
           0,
           0,
           0,
           0,
           0,
           0,
           0,
           0,
           0,
           0,
           0,
           0,
           0,
           0,
           0,
           0,
           0,
           2,
           0,
           1,
           1,
           0,
           1,
           0,
           1,
           1,
           0,
           0,
           0,
           1,
           0,
           1,
           0,
           0,
           0,
           0,
           0,
           0,
           0,
           0,
           0,
           0,
           0,
           0,
           0,
           0,
           0,
           0,
           0,
           0,
           0,
           0,
           0,
           0,
           0,
           0,
           0,
           0,
           0,
           0,
           2,
           0,
           1,
           1,
           0,
           1,
           0,
           1,
           1,
           0,
           0,
           0,
           1,
           0,
           1,
           0,
           0,
           0,
           0,
           0,
           0,
           0,
           0,
           0,
           0,
           0,
           0,
           0,
           0,
           0,
           0,
           0,
           0,
           0,
           0,
           0,
           0,
           0,
           0,
           0,
           0,
           0,
           0,
           2,
           0,
           1,
           1,
           0,
           1,
           0,
           1,
           1,
           0,
           0,
           0,
           1,
           0,
           1,
           0,
           0,
           0,
           0,
           0,
           0,
           0,
           0,
           0,
           0,
           0,
           0,
           0,
           0,
           0,
           0,
           0,
           0,
           0,
           0,
           0,
           0,
           0,
           0,
           0,
           0,
           0,
           0,
           2,
           0,
           1,
           1,
           0,
           1,
           0,
           1,
           1
          ],
          "coloraxis": "coloraxis",
          "symbol": "circle"
         },
         "mode": "markers",
         "name": "",
         "orientation": "v",
         "showlegend": false,
         "type": "scatter",
         "x": [
          -0.21640322178311114,
          -0.2794764295505674,
          -0.20061946233386846,
          -0.0007242924461850107,
          -0.24928101109428574,
          -0.27690719449436046,
          -0.2492731178990286,
          -0.28007105025994045,
          -0.26839701447459463,
          -0.20034583156495345,
          -0.26080902276737405,
          -0.2217942741437543,
          -0.27757811609121946,
          -0.2595329562007992,
          -0.27444057097649666,
          -0.18469230983745394,
          0.24128633626864088,
          -0.15858161992675474,
          -0.28021312777456936,
          -0.2802078656443979,
          -0.24661442662990712,
          -0.25973160161477116,
          -0.2535065016219543,
          0.041935796853701815,
          -0.2753693369517563,
          -0.26938629494682587,
          -0.27954878384042475,
          -0.20950588466089248,
          -0.2775294413871336,
          -0.2368373887713664,
          -0.19618743319697074,
          -0.23306312590589903,
          -0.2793343520359385,
          -0.2625086908127501,
          3.238824584584919,
          -0.11070412856188243,
          0.10158467341209171,
          -0.24063664675514812,
          -0.27201472896746154,
          -0.14049567852750586,
          -0.25800036078836647,
          0.24375295978650469,
          -0.10004568389962504,
          -0.22414513079784634,
          -0.2801355113545406,
          -0.20286244531944594,
          0.2957375437501882,
          -0.25122931479026245,
          -0.27143984124623144,
          -0.26311252024992315,
          -0.27977242437271105,
          -0.2729750677237498,
          -0.19310382491650527,
          -0.2649200619638138,
          -0.2248726202940483,
          -0.2763007339921017,
          -0.263161194954009,
          -0.27455107571009696,
          -0.19739246100623112,
          0.20603532625014562,
          -0.07557414753733029,
          -0.28021312777456936,
          -0.28017760839591216,
          -0.2232163648225867,
          -0.2647437806030704,
          -0.2459619224886482,
          0.02701502675257574,
          -0.2740011831071812,
          -0.27444057097649666,
          -0.2798250456744255,
          -0.2348654054896182,
          -0.27732684937553304,
          -0.20937564693914926,
          -0.19697938378777288,
          -0.22884421304094477,
          -0.27738867940504747,
          -0.2517489501446924,
          3.9622109347857037,
          -0.15355102348285546,
          0.08535363289827637,
          -0.23598097708596408,
          -0.2514621640503488,
          -0.12196508712877002,
          -0.26352954406601004,
          -0.030076454542492945,
          0.15334561684348877,
          -0.20221388777581562,
          -0.27987898250868276,
          -0.18047734357012826,
          0.17698705217123842,
          -0.2740656442017813,
          -0.27723213103244704,
          -0.26488059598752794,
          -0.27988950676902563,
          -0.2735065428710655,
          -0.18031290200227065,
          -0.2697835857747698,
          -0.21794634145588673,
          -0.27612971476152975,
          -0.26141285220454713,
          -0.275561404703014,
          -0.2291046884844312,
          0.22853093273306357,
          -0.024548586797392285,
          -0.2801933947864265,
          -0.2801868171237122,
          -0.23527453611044788,
          -0.2646951058989846,
          -0.234574672797646,
          0.2718224776535235,
          -0.27581267141870036,
          -0.27294086387763544,
          -0.2799552833961687,
          -0.2196881065426343,
          -0.2752733030761275,
          -0.20674195078834215,
          -0.16872700689729647,
          -0.22534094987930672,
          -0.2783516492264215,
          -0.23507194409884732,
          4.846018585393093,
          -0.20122197623849863,
          0.17110925276973685,
          -0.2096255981222928,
          -0.193172232608734,
          -0.0717946225416915,
          -0.26168385190837645,
          0.008898828104841026,
          0.02592708133962994,
          -0.19972621573726604,
          -0.28016576860302644,
          -0.1917567195926159,
          0.42571873664753973,
          -0.27427086727846767,
          -0.27728869893179003,
          -0.2640254998346685,
          -0.2799868561771974,
          -0.27346970795986547,
          -0.1779120551115499,
          -0.26930210086408274,
          -0.21412208835379068,
          -0.27485496372749774,
          -0.25982631995785715,
          -0.27529566712935616,
          -0.21931712636554757,
          0.20518286116237186,
          -0.025812813571081436,
          -0.28019076372134083,
          -0.2801539288101407,
          -0.231137186263151,
          -0.26911529524299654,
          -0.2459882331395054,
          0.20666151974054728,
          -0.2765006949386165,
          -0.27131749671974537,
          -0.2797961039584826,
          -0.21463909264313494,
          -0.2738841007108666,
          -0.19889743023526377,
          -0.14079430441473523,
          -0.22119307577166694,
          -0.27874104685910833,
          -0.23425368285718798,
          5.087709539700005,
          -0.10516310549135315,
          0.14631804199952697,
          -0.2209970614227807,
          -0.20017612786692437,
          -0.06916881958614153,
          -0.2621298174404062,
          0.05413604565619192,
          0.03360716032485073,
          -0.18862443660806458,
          -0.2802197054372837,
          -0.18953215406263846,
          0.386967094532492,
          -0.2745155563314397,
          -0.2772597572158471,
          -0.2668460016065618,
          -0.27993686594056866,
          -0.27435769242629643,
          -0.17733322079269118,
          -0.27138064228180264,
          -0.21785293864534364,
          -0.27386042112509507,
          -0.25986315486905726,
          -0.2742879692015248,
          -0.2283943009112864,
          0.23613865742842702,
          -0.04063097213386435,
          -0.2801723462657407,
          -0.28012498709419775,
          -0.23068201200332117,
          -0.26676312305636163,
          -0.23533899720504806,
          0.2094333468083548,
          -0.27555482704029965,
          -0.2719949959793186,
          -0.2798250456744255,
          -0.21802001127828693,
          -0.2737275523382662,
          -0.18399639312228064,
          -0.15602422466343355,
          -0.22069712000300845,
          -0.2788581292554229,
          -0.23367221747324354,
          5.707572687505452,
          -0.0818031941277757,
          0.15645685130735434,
          -0.2218311090549544,
          -0.22828642724277184,
          -0.060463940750032266,
          -0.2613220804590897,
          0.055181894027766215,
          -0.004932681050796363,
          -0.1864314438591158,
          -0.28010788517114055,
          -0.1831741852829927,
          0.5555894248112909,
          -0.27611524390355835,
          -0.2772979076595901,
          -0.2641570530889546,
          -0.2800118512955117,
          -0.2729632279308641,
          -0.17933151472529657,
          -0.2710491280810018,
          -0.21809499663322998,
          -0.2733355236404937,
          -0.2621061378546347,
          -0.2738841007108666,
          -0.22236521526735584,
          0.2274890309591179,
          -0.0391733620763747,
          -0.28016182200539785,
          -0.2800671036623119,
          -0.2326658350779551,
          -0.2649226930288995,
          -0.23583363744116367,
          0.36318752828774203,
          -0.2749431044078694,
          -0.27199762704440433,
          -0.279744798189311,
          -0.21707808997759867,
          -0.27346049923206545,
          -0.18393850969039474,
          -0.11685292766721335,
          -0.1999985309736382,
          -0.2785397703800506,
          -0.24191008225663724,
          6.157622948080813,
          0.07892067876368752,
          0.39348818934745255,
          -0.23404451318287312,
          -0.17931309726969655,
          -0.06296213704892474,
          -0.2556166158207029,
          -0.021128202185954462,
          0.03560413872491325,
          -0.18957162003892428,
          -0.28010788517114055,
          -0.20437004561356428,
          0.9537235091151961,
          -0.27607840899235825,
          -0.2773163251151901,
          -0.2651660665493287,
          -0.27980399715373977,
          -0.2730079560373213,
          -0.18965318305658163,
          -0.27007826506437055,
          -0.2155849605414518,
          -0.2725975098839488,
          -0.26181014303249106,
          -0.2742248236394675,
          -0.2269143268005681,
          0.2642792140527602,
          -0.015216198938338468,
          -0.28013682688708347,
          -0.2801013075084262,
          -0.21719648790645615,
          -0.26661052128138973,
          -0.219417106838805,
          0.422410172302245,
          -0.2736420427229802,
          -0.2724909517479771,
          -0.2797382205265967,
          -0.2107937910203531,
          -0.2734184021906939,
          -0.16763511488672211,
          -0.11249193728763011,
          -0.2110582130614681,
          -0.2782358823626498,
          -0.2415206846239505,
          6.588691389595235,
          0.12573653536647125,
          0.35826217444727154,
          -0.19213427743241693,
          -0.18884939267289377,
          -0.06642330316919123,
          -0.25211729925669346,
          -0.05247602714978209,
          0.18260306059671078,
          -0.17173957642044746,
          -0.2801881326562551,
          -0.18217964268059,
          0.6226829000297295,
          -0.274474774822611,
          -0.27745445603219054,
          -0.26308357853398023,
          -0.2798934533666543,
          -0.27308557245735016,
          -0.19177513704821597,
          -0.27084785160194413,
          -0.21088982489598193,
          -0.2739432996752953,
          -0.2593119467335986,
          -0.27531145351987046,
          -0.22736555446276935,
          0.3077194141505634,
          -0.0034579690702495128,
          -0.2800671036623119,
          -0.2800079046978831,
          -0.20220336351547274,
          -0.26559624569084417,
          -0.19253288379290373,
          0.48429808524858386,
          -0.2743642700890107,
          -0.27235413636351957,
          -0.27963560898825357,
          -0.2050028167666803,
          -0.27416299360995305,
          -0.1560557974444622,
          -0.13185262972091105,
          -0.21180280448072725,
          -0.2782950813270785,
          -0.23981443891586018,
          6.841357831907232,
          0.09964426291137217,
          0.26496592204013353,
          -0.1959822101202845,
          -0.22454373715833315,
          -0.06933457668654198,
          -0.243140105184212,
          -0.0680282528714813,
          0.32215212167828816,
          -0.16574601015517412,
          -0.2802197054372837,
          -0.1440120970145725,
          0.748564893523527,
          -0.27368019316672315,
          -0.27706111180187515,
          -0.2624547539784928,
          -0.2798289922720541,
          -0.2712096230512308,
          -0.17753186620666317,
          -0.26865354332045244,
          -0.20291112002353182,
          -0.2696691344435409,
          -0.2578517056110232,
          -0.2750917595852127,
          -0.22354919455593045,
          0.3369255521346139,
          0.018227269366266233,
          -0.2801263026267406,
          -0.2799460746683687,
          -0.18140874061047363,
          -0.2682917718711657,
          -0.1765399546693462,
          0.7801153104989551,
          -0.2728250970138637,
          -0.2715358751218602,
          -0.2795435217102533,
          -0.1984317317150911,
          -0.2727593203867207,
          -0.1354256161073207,
          -0.11315101909160333,
          -0.20296900345541766,
          -0.2789304835452802,
          -0.24445037559690125,
          7.699408670857953,
          0.07701578764162523,
          0.4376400925509434,
          -0.21284602178721582,
          -0.218463345745231,
          -0.07489664827775702,
          -0.2345562553420459,
          -0.045719452009649546,
          0.3437663213574895,
          -0.1626571397445372,
          -0.2802197054372837,
          -0.14321093769597032,
          0.9593474107359257,
          -0.2713569626960312,
          -0.2772018737839613,
          -0.26237319096083545,
          -0.27983951653239697,
          -0.26989672157345584,
          -0.17153303781121837,
          -0.26780502483030727,
          -0.20046159842872516,
          -0.26526867808767185,
          -0.2522922650848939,
          -0.2744576728995538,
          -0.2236978497332737,
          0.35298952001548584,
          0.08224766056458224,
          -0.2801184094314834,
          -0.28004473960908327,
          -0.17844616132395133,
          -0.2670775353341053,
          -0.17896448114583843,
          0.7549518040191159,
          -0.27297901432137844,
          -0.2684719998295377,
          -0.2796158760001106,
          -0.19684388393585825,
          -0.27241465086049116,
          -0.1171252429035855,
          -0.05976407743723038,
          -0.2062038979783121,
          -0.2789002262967944,
          -0.24473453062615919,
          7.795954288645958,
          0.19726072418926469,
          0.6046259003464235,
          -0.20228229546804435,
          -0.23206858330349636,
          -0.05880505421348494,
          -0.23963421095748824,
          -0.024365727773934663,
          0.3780096334481536,
          -0.159306478357871,
          -0.2802197054372837,
          -0.1421874533776247,
          0.9357875384258333,
          -0.2673077535291059,
          -0.2772913299968758,
          -0.26381106803018217,
          -0.27976584670999677,
          -0.27112279790340194,
          -0.1836661944540226,
          -0.26682100648824747,
          -0.2013232722442989,
          -0.26860092201873803,
          -0.25552452854270263,
          -0.275041769348584,
          -0.2151350484117934,
          0.3431835404410022,
          0.09511225330121702,
          -0.28014077348471206,
          -0.28002237555585463,
          -0.18646038557505873,
          -0.2669946567839051,
          -0.1788092483057809,
          0.7330245075947136,
          -0.2711714726074878,
          -0.26661709894410407,
          -0.27939618206545286,
          -0.19916316780892163,
          -0.2728487765996352,
          -0.08630757755453074,
          -0.09744356052984658,
          -0.1954086379315972,
          -0.2791764881307952,
          -0.24098000074883474,
          7.586058440367447,
          0.2105962775762436,
          0.6807491909390578,
          -0.20374648318824834,
          -0.20453974931159333,
          -0.04397110926018768,
          -0.23122532694352263,
          -0.01984687348920814,
          0.5735780168023681,
          -0.16317019743625288,
          -0.2802197054372837,
          -0.16251111563227968,
          1.075947006607298,
          -0.2627665351911508,
          -0.2773439512985902,
          -0.26229162794317806,
          -0.27979741949102543,
          -0.27186738932266113,
          -0.17417331162473976,
          -0.26604089569033107,
          -0.20539221439936708,
          -0.25897253933754055,
          -0.2569203085706778,
          -0.2741695712726674,
          -0.21881327740163195,
          0.3166058364775875,
          0.07361250495324462,
          -0.2801710307331979,
          -0.2799934338399117,
          -0.16066016134447467,
          -0.26972701787542674,
          -0.17263940067976422,
          0.7962700501252847,
          -0.2699953865141704,
          -0.26619612853038865,
          -0.2794159150535958,
          -0.19127786574701458,
          -0.2745181873965254,
          -0.046454834701108665,
          -0.06631806056576238,
          -0.2055092967956817,
          -0.27909097851550924,
          -0.23996835622337487,
          8.064208476058312,
          0.2715975215886943,
          0.6098472490090376,
          -0.10655362338915693,
          -0.2188474812477463,
          -0.02811894211871624,
          -0.21173176572341276,
          -0.017894623195602873,
          0.8349966971220179
         ],
         "xaxis": "x",
         "y": [
          -0.1797295601550148,
          -0.5485192350192032,
          0.5636094453490641,
          0.16812111507690097,
          -0.6742616782144735,
          -0.6992071329626894,
          0.5633533937063158,
          -0.7128893278022496,
          -0.7631055735035851,
          -0.27072730161547964,
          -0.2840660860165303,
          -0.6694418825862708,
          -0.28168932429737287,
          -0.6226687783868324,
          -0.7676542556277014,
          -0.5870956742784297,
          -0.5700396224991278,
          -0.14853343295147356,
          -0.7410610332490937,
          -0.7511886288128543,
          -0.5061472067027672,
          -0.14270750498588367,
          -0.34004801223810327,
          1.120316927012336,
          -0.6516086387619213,
          -0.6305732432170845,
          -0.7681753960300008,
          0.018499596916154572,
          -0.5720518871739023,
          -0.7291952988869125,
          -0.24128738744396472,
          0.4894237535142233,
          -0.43295559771624337,
          -0.6392006773915673,
          1.7820477554141427,
          -0.08969879019245816,
          0.28662784008533204,
          -0.6757046045306666,
          -0.20069567113769607,
          -0.5367468841973184,
          0.5117333825282662,
          1.5429527561603502,
          0.5703360726226743,
          -0.41750212798331887,
          -0.46453730857004083,
          0.4552062169262527,
          0.466981580120405,
          -0.7007946531477286,
          -0.7034244541373667,
          0.4110689384609875,
          -0.7165342982460777,
          -0.7655124589454189,
          -0.2827466669633098,
          -0.30349588714272197,
          -0.6446711454295772,
          -0.30645403670953125,
          -0.6399597952030092,
          -0.764705143177695,
          -0.5815559216782643,
          -0.4308921227129192,
          -0.3913969099120666,
          -0.7156155247044517,
          -0.7003427973075846,
          -0.5695395687027018,
          0.08781127042197541,
          -0.4405558129474653,
          0.8496221426711408,
          -0.5676056257068854,
          -0.6316275735107538,
          -0.760590242660117,
          0.004597498901057851,
          -0.3931952961558397,
          -0.6944174610571631,
          -0.18947759681305457,
          0.7738368811621904,
          -0.2011083661383609,
          -0.5818692083940975,
          3.699314258356849,
          -0.15622703172299193,
          0.10953047447156329,
          -0.5281164376505681,
          -0.07754688046485235,
          -0.5799864757268308,
          -0.01713074226533296,
          1.2968961645960733,
          1.1157863191218256,
          -0.5318909401019043,
          -0.4618472601350503,
          0.23890282624932363,
          0.20400750590113687,
          -0.7270203661096859,
          -0.7311864769558135,
          0.34654693686069304,
          -0.715862539230397,
          -0.7579694787872818,
          -0.3385568879656281,
          -0.08511998434566576,
          -0.5984221940047058,
          -0.15022036142134446,
          -0.6258377940123756,
          -0.7612710387926006,
          -0.5795677559816308,
          -0.32671826495385553,
          -0.20269287395113247,
          -0.7210317700416443,
          -0.6650890046595505,
          -0.5479589337774247,
          0.0761142289067813,
          -0.4312927682245135,
          1.4313805121119954,
          -0.413555920312728,
          -0.5296045495507757,
          -0.764608747265131,
          0.0756593606943696,
          -0.03512364181986674,
          -0.6851544163342113,
          0.011604276795557289,
          0.7947096086045752,
          -0.20472321285951284,
          -0.7170765252542506,
          4.266275855219122,
          -0.04654956983097458,
          -0.057842953462306695,
          -0.5437416126027474,
          0.005630742588853731,
          -0.5461213866941724,
          -0.1142948097576295,
          1.4246056868821033,
          1.087747158054757,
          -0.5496970725758452,
          -0.44168846492009295,
          0.2531965326592119,
          0.40962902451706207,
          -0.7287765791417122,
          -0.7255563531876195,
          0.3642205249548584,
          -0.7129043896635877,
          -0.7574694249908559,
          -0.3346408040177135,
          -0.015205836386319591,
          -0.5793267662002206,
          -0.0861321414275882,
          -0.6089293484741873,
          -0.761671684304195,
          -0.5711391383768115,
          -0.3756934132809291,
          -0.08801186172258728,
          -0.7184893278477674,
          -0.6666494134941809,
          -0.47027889011213714,
          0.1209112168986567,
          -0.42958776552103684,
          1.279123168217076,
          -0.3835285935490259,
          -0.49780896026597676,
          -0.7642081017535366,
          0.24749411195659474,
          -0.06733493847759824,
          -0.6639232165919788,
          0.08052434190658661,
          1.1245011120920694,
          -0.23984144875550395,
          -0.7217185909186631,
          4.916442186485509,
          0.17143171219902267,
          0.020689591554719118,
          -0.5441934684428914,
          0.11235909203086478,
          -0.5539957278017484,
          -0.13822509505165537,
          1.5480346281758361,
          1.2904014899870697,
          -0.5503356954965821,
          -0.481171628231875,
          0.2573716806221424,
          0.3715948122660084,
          -0.7287374183022332,
          -0.7115006241868737,
          0.333187065853769,
          -0.701589919426382,
          -0.7547944384172034,
          -0.29728437552687587,
          -0.003198520527559863,
          -0.5746816881635404,
          -0.06096075875930022,
          -0.5673555988086725,
          -0.7621687257283534,
          -0.5862702842771,
          -0.3813536607717995,
          -0.07980013492103706,
          -0.7044486607083598,
          -0.6683092306136433,
          -0.47562886325944204,
          0.15547517629740443,
          -0.4263645271946763,
          1.1658820699324561,
          -0.35796259011367876,
          -0.4915251517157077,
          -0.7641719532863251,
          0.2608871190584627,
          -0.04093149555185092,
          -0.6614470465879898,
          0.014743168698424243,
          0.958227200035883,
          -0.33884607570332026,
          -0.722299978766315,
          5.04179000891372,
          0.19101514431086325,
          0.1407778120036542,
          -0.5617224626682107,
          0.10720191070868791,
          -0.5229411820947857,
          -0.16721917812756146,
          1.5445432887176573,
          1.1577757761602732,
          -0.5376174597826625,
          -0.4862775992255021,
          0.305587711137774,
          0.5397183208945173,
          -0.7298550084135227,
          -0.7223090158831179,
          0.4235883576052437,
          -0.7042920173504432,
          -0.755619828418533,
          -0.2971126703076211,
          0.0028352611244961716,
          -0.5877614085495751,
          -0.06239766033095811,
          -0.5811010534658527,
          -0.7604878220030178,
          -0.5726754482333011,
          -0.25169212125634705,
          -0.1791481723073629,
          -0.6985654976696849,
          -0.6545728130732659,
          -0.4861601167070647,
          0.11690174941044569,
          -0.4559881960745165,
          1.4508464617053989,
          -0.313442740370425,
          -0.49086544218909745,
          -0.7640183223006761,
          0.2362338644202064,
          0.09618265295370977,
          -0.630666626757381,
          0.04602665469772662,
          0.9907216596867714,
          -0.29824532228024875,
          -0.7200166005874541,
          5.196857896134335,
          0.5730200963131296,
          0.26747517720776204,
          -0.5690967499793607,
          -0.02767103282975856,
          -0.4302625369089852,
          -0.11918388994798751,
          1.1804740011968398,
          1.2728092359441305,
          -0.49329642660907214,
          -0.4639016980215716,
          0.40518276305004514,
          0.8959554405195058,
          -0.7217969125976215,
          -0.7251707695373633,
          0.43461062773248954,
          -0.7089822809711379,
          -0.7568669505373306,
          -0.317000352018492,
          0.07430078080167007,
          -0.5794472610909257,
          -0.1612456439208579,
          -0.5651595794255727,
          -0.7606143416382579,
          -0.5570291866752484,
          -0.24608308409402632,
          -0.2370610291524846,
          -0.7105095537108245,
          -0.6304678101877177,
          -0.466811649632099,
          0.2587995450769973,
          -0.4514545758117385,
          1.7055937472617788,
          -0.2597562418167835,
          -0.46488674375308553,
          -0.7630152023355564,
          0.26507431651046354,
          0.20093488618815777,
          -0.5893549534791496,
          0.10314123289192723,
          1.0090579696798145,
          -0.24195914645964547,
          -0.7233693709213225,
          5.5261583829422065,
          0.874251298331256,
          0.4688914241380803,
          -0.5498778149119029,
          0.032278187668278786,
          -0.4633926071083427,
          0.007923157884517624,
          1.144512301065913,
          1.550802998289785,
          -0.44639077802985805,
          -0.4491501110270041,
          0.6324572135256704,
          0.7241628624690274,
          -0.7207094462090082,
          -0.7292796453104059,
          0.5191257440730218,
          -0.7136755569641001,
          -0.758508693423187,
          -0.27644177180716734,
          0.07447851076546008,
          -0.5717657118084778,
          -0.14603316396934357,
          -0.5657018064337455,
          -0.7625000866777922,
          -0.5406900794956417,
          -0.17278905445040307,
          -0.2647477426642408,
          -0.7141906726218643,
          -0.6142522102710836,
          -0.4536475828225706,
          0.3277226225602944,
          -0.4360493040350959,
          2.003517364530051,
          -0.24809534876880085,
          -0.4345129941786064,
          -0.7625723836122152,
          0.37563741584916327,
          0.3375339190359543,
          -0.5606349962795976,
          -0.013479747076969535,
          0.9369598518264394,
          -0.3293299917098878,
          -0.7038883594665811,
          5.230719972794726,
          0.6997987955684635,
          0.3701548983220829,
          -0.5638130490219435,
          -0.052035099730322526,
          -0.5285893800965855,
          0.3369977167723167,
          0.9464187007467868,
          1.2694534532379946,
          -0.46315462969920024,
          -0.43091019694652494,
          0.7620615179680379,
          0.806789221397758,
          -0.7195587200027748,
          -0.7355845404665485,
          0.6449585584363209,
          -0.7264359658897664,
          -0.7519567837410991,
          -0.25342724768249997,
          0.12365850040673214,
          -0.546763021987177,
          -0.2246470430375953,
          -0.5705818495073006,
          -0.7634911571538414,
          -0.5347316071502762,
          -0.2012439228904041,
          -0.20447921070583508,
          -0.70891600878125,
          -0.5976600638209962,
          -0.4232437095254152,
          0.4970239687454454,
          -0.41351675947324884,
          2.667757499030791,
          -0.15476301880092544,
          -0.45580444136619125,
          -0.7593370957967843,
          0.4796365560167045,
          0.5624948676100423,
          -0.5216729733701149,
          0.12372176022435231,
          0.8954734609566855,
          -0.19076990451586637,
          -0.6997523723431298,
          5.670185925801969,
          0.9267418850946498,
          0.4007003531158167,
          -0.5468443560384029,
          -0.09459088275508372,
          -0.5427595792435012,
          0.4785490896280914,
          1.018034839037342,
          1.4253889036716862,
          -0.46034709874577223,
          -0.40476581803579353,
          0.7955922336789899,
          0.9084387111965504,
          -0.7314184296204209,
          -0.7310900810432496,
          0.6552608715916038,
          -0.7266197205980917,
          -0.7220921250798489,
          -0.246278888291422,
          0.0686977683838846,
          -0.540461139203302,
          -0.2939888402660924,
          -0.5483897030116953,
          -0.7647985267179914,
          -0.5254775995441273,
          -0.18356431005170348,
          -0.1912307974728132,
          -0.7052921249432953,
          -0.5903460239551989,
          -0.35680282679064257,
          0.7721770640427281,
          -0.422728593867651,
          2.6415197365797627,
          -0.117686740930977,
          -0.4301902399745621,
          -0.7598040134982665,
          0.600342312780503,
          0.4486874433391087,
          -0.4809185889613944,
          0.23916791500887466,
          1.0569667382241485,
          -0.1698489791171995,
          -0.7056837333380866,
          5.632031218660211,
          1.27529745543719,
          0.46494220409522197,
          -0.5445820644654152,
          0.05628076989672761,
          -0.4866812571093641,
          0.4329869590802388,
          0.9532929342615106,
          1.7384225802343736,
          -0.46033806162896934,
          -0.4539096592098541,
          0.7826420453004629,
          1.0673413483138545,
          -0.7292103607482505,
          -0.7302526415528493,
          0.6305292952743893,
          -0.726318483371329,
          -0.7123290265604709,
          -0.24081143262567975,
          0.04485785425788746,
          -0.537590348432254,
          -0.2157756067094349,
          -0.5592523174087569,
          -0.7652895433976145,
          -0.5227755016200661,
          -0.11589136705947153,
          -0.2048286458888798,
          -0.7048191824972778,
          -0.5948796442179769,
          -0.31711783453692954,
          0.7687610338912394,
          -0.42051148787867787,
          2.5701777241655615,
          -0.059924502699236645,
          -0.42086996017852535,
          -0.7591202049935152,
          0.6298484991419059,
          0.6437566219015379,
          -0.3976596318564623,
          0.1650906685756686,
          0.8830082645132465,
          -0.015470925145870767,
          -0.6952729747811691,
          5.622713951236442,
          1.2305275787957235,
          0.5876120275775131,
          -0.5468895416224172,
          0.1663498401835365,
          -0.4753005146822707,
          0.6084214952022777,
          0.857008479471361,
          1.7683625482023149,
          -0.4519124563964177,
          -0.4676460767502315,
          0.8735855640601106,
          1.1205157435819992,
          -0.7251376334424193,
          -0.7334547932733364,
          0.6342736740030492,
          -0.7126814741157833,
          -0.7185887361325991,
          -0.25162584906645924,
          0.0002144972516610707,
          -0.5397050337641278,
          -0.1716112168937611,
          -0.5702745875360027,
          -0.7646539328491453,
          -0.5301889497706953,
          -0.15487748894709522,
          -0.14224359965666916,
          -0.7070182142526453,
          -0.583857374090731,
          -0.3565196637974856,
          0.8205497379162763,
          -0.3938881417773938,
          2.864188269858187,
          -0.0368376816401463,
          -0.4371427951682444,
          -0.7584876068173135,
          0.5884464546956455,
          0.6250648519809148,
          -0.35761616730290174,
          0.23749906077260954,
          0.751509177914542,
          -0.036358714449593627,
          -0.6776264980374124,
          5.320169354909631,
          1.1950960561838992,
          0.5676821726548954,
          -0.5003514024598537,
          0.22832337484541884,
          -0.5056923384903557,
          0.6534082626470137,
          0.7237411303515597,
          1.6958607724650774
         ],
         "yaxis": "y"
        }
       ],
       "layout": {
        "coloraxis": {
         "colorbar": {
          "title": {
           "text": "features"
          }
         },
         "colorscale": [
          [
           0,
           "#0d0887"
          ],
          [
           0.1111111111111111,
           "#46039f"
          ],
          [
           0.2222222222222222,
           "#7201a8"
          ],
          [
           0.3333333333333333,
           "#9c179e"
          ],
          [
           0.4444444444444444,
           "#bd3786"
          ],
          [
           0.5555555555555556,
           "#d8576b"
          ],
          [
           0.6666666666666666,
           "#ed7953"
          ],
          [
           0.7777777777777778,
           "#fb9f3a"
          ],
          [
           0.8888888888888888,
           "#fdca26"
          ],
          [
           1,
           "#f0f921"
          ]
         ]
        },
        "legend": {
         "tracegroupgap": 0
        },
        "margin": {
         "t": 60
        },
        "template": {
         "data": {
          "bar": [
           {
            "error_x": {
             "color": "#2a3f5f"
            },
            "error_y": {
             "color": "#2a3f5f"
            },
            "marker": {
             "line": {
              "color": "#E5ECF6",
              "width": 0.5
             },
             "pattern": {
              "fillmode": "overlay",
              "size": 10,
              "solidity": 0.2
             }
            },
            "type": "bar"
           }
          ],
          "barpolar": [
           {
            "marker": {
             "line": {
              "color": "#E5ECF6",
              "width": 0.5
             },
             "pattern": {
              "fillmode": "overlay",
              "size": 10,
              "solidity": 0.2
             }
            },
            "type": "barpolar"
           }
          ],
          "carpet": [
           {
            "aaxis": {
             "endlinecolor": "#2a3f5f",
             "gridcolor": "white",
             "linecolor": "white",
             "minorgridcolor": "white",
             "startlinecolor": "#2a3f5f"
            },
            "baxis": {
             "endlinecolor": "#2a3f5f",
             "gridcolor": "white",
             "linecolor": "white",
             "minorgridcolor": "white",
             "startlinecolor": "#2a3f5f"
            },
            "type": "carpet"
           }
          ],
          "choropleth": [
           {
            "colorbar": {
             "outlinewidth": 0,
             "ticks": ""
            },
            "type": "choropleth"
           }
          ],
          "contour": [
           {
            "colorbar": {
             "outlinewidth": 0,
             "ticks": ""
            },
            "colorscale": [
             [
              0,
              "#0d0887"
             ],
             [
              0.1111111111111111,
              "#46039f"
             ],
             [
              0.2222222222222222,
              "#7201a8"
             ],
             [
              0.3333333333333333,
              "#9c179e"
             ],
             [
              0.4444444444444444,
              "#bd3786"
             ],
             [
              0.5555555555555556,
              "#d8576b"
             ],
             [
              0.6666666666666666,
              "#ed7953"
             ],
             [
              0.7777777777777778,
              "#fb9f3a"
             ],
             [
              0.8888888888888888,
              "#fdca26"
             ],
             [
              1,
              "#f0f921"
             ]
            ],
            "type": "contour"
           }
          ],
          "contourcarpet": [
           {
            "colorbar": {
             "outlinewidth": 0,
             "ticks": ""
            },
            "type": "contourcarpet"
           }
          ],
          "heatmap": [
           {
            "colorbar": {
             "outlinewidth": 0,
             "ticks": ""
            },
            "colorscale": [
             [
              0,
              "#0d0887"
             ],
             [
              0.1111111111111111,
              "#46039f"
             ],
             [
              0.2222222222222222,
              "#7201a8"
             ],
             [
              0.3333333333333333,
              "#9c179e"
             ],
             [
              0.4444444444444444,
              "#bd3786"
             ],
             [
              0.5555555555555556,
              "#d8576b"
             ],
             [
              0.6666666666666666,
              "#ed7953"
             ],
             [
              0.7777777777777778,
              "#fb9f3a"
             ],
             [
              0.8888888888888888,
              "#fdca26"
             ],
             [
              1,
              "#f0f921"
             ]
            ],
            "type": "heatmap"
           }
          ],
          "heatmapgl": [
           {
            "colorbar": {
             "outlinewidth": 0,
             "ticks": ""
            },
            "colorscale": [
             [
              0,
              "#0d0887"
             ],
             [
              0.1111111111111111,
              "#46039f"
             ],
             [
              0.2222222222222222,
              "#7201a8"
             ],
             [
              0.3333333333333333,
              "#9c179e"
             ],
             [
              0.4444444444444444,
              "#bd3786"
             ],
             [
              0.5555555555555556,
              "#d8576b"
             ],
             [
              0.6666666666666666,
              "#ed7953"
             ],
             [
              0.7777777777777778,
              "#fb9f3a"
             ],
             [
              0.8888888888888888,
              "#fdca26"
             ],
             [
              1,
              "#f0f921"
             ]
            ],
            "type": "heatmapgl"
           }
          ],
          "histogram": [
           {
            "marker": {
             "pattern": {
              "fillmode": "overlay",
              "size": 10,
              "solidity": 0.2
             }
            },
            "type": "histogram"
           }
          ],
          "histogram2d": [
           {
            "colorbar": {
             "outlinewidth": 0,
             "ticks": ""
            },
            "colorscale": [
             [
              0,
              "#0d0887"
             ],
             [
              0.1111111111111111,
              "#46039f"
             ],
             [
              0.2222222222222222,
              "#7201a8"
             ],
             [
              0.3333333333333333,
              "#9c179e"
             ],
             [
              0.4444444444444444,
              "#bd3786"
             ],
             [
              0.5555555555555556,
              "#d8576b"
             ],
             [
              0.6666666666666666,
              "#ed7953"
             ],
             [
              0.7777777777777778,
              "#fb9f3a"
             ],
             [
              0.8888888888888888,
              "#fdca26"
             ],
             [
              1,
              "#f0f921"
             ]
            ],
            "type": "histogram2d"
           }
          ],
          "histogram2dcontour": [
           {
            "colorbar": {
             "outlinewidth": 0,
             "ticks": ""
            },
            "colorscale": [
             [
              0,
              "#0d0887"
             ],
             [
              0.1111111111111111,
              "#46039f"
             ],
             [
              0.2222222222222222,
              "#7201a8"
             ],
             [
              0.3333333333333333,
              "#9c179e"
             ],
             [
              0.4444444444444444,
              "#bd3786"
             ],
             [
              0.5555555555555556,
              "#d8576b"
             ],
             [
              0.6666666666666666,
              "#ed7953"
             ],
             [
              0.7777777777777778,
              "#fb9f3a"
             ],
             [
              0.8888888888888888,
              "#fdca26"
             ],
             [
              1,
              "#f0f921"
             ]
            ],
            "type": "histogram2dcontour"
           }
          ],
          "mesh3d": [
           {
            "colorbar": {
             "outlinewidth": 0,
             "ticks": ""
            },
            "type": "mesh3d"
           }
          ],
          "parcoords": [
           {
            "line": {
             "colorbar": {
              "outlinewidth": 0,
              "ticks": ""
             }
            },
            "type": "parcoords"
           }
          ],
          "pie": [
           {
            "automargin": true,
            "type": "pie"
           }
          ],
          "scatter": [
           {
            "fillpattern": {
             "fillmode": "overlay",
             "size": 10,
             "solidity": 0.2
            },
            "type": "scatter"
           }
          ],
          "scatter3d": [
           {
            "line": {
             "colorbar": {
              "outlinewidth": 0,
              "ticks": ""
             }
            },
            "marker": {
             "colorbar": {
              "outlinewidth": 0,
              "ticks": ""
             }
            },
            "type": "scatter3d"
           }
          ],
          "scattercarpet": [
           {
            "marker": {
             "colorbar": {
              "outlinewidth": 0,
              "ticks": ""
             }
            },
            "type": "scattercarpet"
           }
          ],
          "scattergeo": [
           {
            "marker": {
             "colorbar": {
              "outlinewidth": 0,
              "ticks": ""
             }
            },
            "type": "scattergeo"
           }
          ],
          "scattergl": [
           {
            "marker": {
             "colorbar": {
              "outlinewidth": 0,
              "ticks": ""
             }
            },
            "type": "scattergl"
           }
          ],
          "scattermapbox": [
           {
            "marker": {
             "colorbar": {
              "outlinewidth": 0,
              "ticks": ""
             }
            },
            "type": "scattermapbox"
           }
          ],
          "scatterpolar": [
           {
            "marker": {
             "colorbar": {
              "outlinewidth": 0,
              "ticks": ""
             }
            },
            "type": "scatterpolar"
           }
          ],
          "scatterpolargl": [
           {
            "marker": {
             "colorbar": {
              "outlinewidth": 0,
              "ticks": ""
             }
            },
            "type": "scatterpolargl"
           }
          ],
          "scatterternary": [
           {
            "marker": {
             "colorbar": {
              "outlinewidth": 0,
              "ticks": ""
             }
            },
            "type": "scatterternary"
           }
          ],
          "surface": [
           {
            "colorbar": {
             "outlinewidth": 0,
             "ticks": ""
            },
            "colorscale": [
             [
              0,
              "#0d0887"
             ],
             [
              0.1111111111111111,
              "#46039f"
             ],
             [
              0.2222222222222222,
              "#7201a8"
             ],
             [
              0.3333333333333333,
              "#9c179e"
             ],
             [
              0.4444444444444444,
              "#bd3786"
             ],
             [
              0.5555555555555556,
              "#d8576b"
             ],
             [
              0.6666666666666666,
              "#ed7953"
             ],
             [
              0.7777777777777778,
              "#fb9f3a"
             ],
             [
              0.8888888888888888,
              "#fdca26"
             ],
             [
              1,
              "#f0f921"
             ]
            ],
            "type": "surface"
           }
          ],
          "table": [
           {
            "cells": {
             "fill": {
              "color": "#EBF0F8"
             },
             "line": {
              "color": "white"
             }
            },
            "header": {
             "fill": {
              "color": "#C8D4E3"
             },
             "line": {
              "color": "white"
             }
            },
            "type": "table"
           }
          ]
         },
         "layout": {
          "annotationdefaults": {
           "arrowcolor": "#2a3f5f",
           "arrowhead": 0,
           "arrowwidth": 1
          },
          "autotypenumbers": "strict",
          "coloraxis": {
           "colorbar": {
            "outlinewidth": 0,
            "ticks": ""
           }
          },
          "colorscale": {
           "diverging": [
            [
             0,
             "#8e0152"
            ],
            [
             0.1,
             "#c51b7d"
            ],
            [
             0.2,
             "#de77ae"
            ],
            [
             0.3,
             "#f1b6da"
            ],
            [
             0.4,
             "#fde0ef"
            ],
            [
             0.5,
             "#f7f7f7"
            ],
            [
             0.6,
             "#e6f5d0"
            ],
            [
             0.7,
             "#b8e186"
            ],
            [
             0.8,
             "#7fbc41"
            ],
            [
             0.9,
             "#4d9221"
            ],
            [
             1,
             "#276419"
            ]
           ],
           "sequential": [
            [
             0,
             "#0d0887"
            ],
            [
             0.1111111111111111,
             "#46039f"
            ],
            [
             0.2222222222222222,
             "#7201a8"
            ],
            [
             0.3333333333333333,
             "#9c179e"
            ],
            [
             0.4444444444444444,
             "#bd3786"
            ],
            [
             0.5555555555555556,
             "#d8576b"
            ],
            [
             0.6666666666666666,
             "#ed7953"
            ],
            [
             0.7777777777777778,
             "#fb9f3a"
            ],
            [
             0.8888888888888888,
             "#fdca26"
            ],
            [
             1,
             "#f0f921"
            ]
           ],
           "sequentialminus": [
            [
             0,
             "#0d0887"
            ],
            [
             0.1111111111111111,
             "#46039f"
            ],
            [
             0.2222222222222222,
             "#7201a8"
            ],
            [
             0.3333333333333333,
             "#9c179e"
            ],
            [
             0.4444444444444444,
             "#bd3786"
            ],
            [
             0.5555555555555556,
             "#d8576b"
            ],
            [
             0.6666666666666666,
             "#ed7953"
            ],
            [
             0.7777777777777778,
             "#fb9f3a"
            ],
            [
             0.8888888888888888,
             "#fdca26"
            ],
            [
             1,
             "#f0f921"
            ]
           ]
          },
          "colorway": [
           "#636efa",
           "#EF553B",
           "#00cc96",
           "#ab63fa",
           "#FFA15A",
           "#19d3f3",
           "#FF6692",
           "#B6E880",
           "#FF97FF",
           "#FECB52"
          ],
          "font": {
           "color": "#2a3f5f"
          },
          "geo": {
           "bgcolor": "white",
           "lakecolor": "white",
           "landcolor": "#E5ECF6",
           "showlakes": true,
           "showland": true,
           "subunitcolor": "white"
          },
          "hoverlabel": {
           "align": "left"
          },
          "hovermode": "closest",
          "mapbox": {
           "style": "light"
          },
          "paper_bgcolor": "white",
          "plot_bgcolor": "#E5ECF6",
          "polar": {
           "angularaxis": {
            "gridcolor": "white",
            "linecolor": "white",
            "ticks": ""
           },
           "bgcolor": "#E5ECF6",
           "radialaxis": {
            "gridcolor": "white",
            "linecolor": "white",
            "ticks": ""
           }
          },
          "scene": {
           "xaxis": {
            "backgroundcolor": "#E5ECF6",
            "gridcolor": "white",
            "gridwidth": 2,
            "linecolor": "white",
            "showbackground": true,
            "ticks": "",
            "zerolinecolor": "white"
           },
           "yaxis": {
            "backgroundcolor": "#E5ECF6",
            "gridcolor": "white",
            "gridwidth": 2,
            "linecolor": "white",
            "showbackground": true,
            "ticks": "",
            "zerolinecolor": "white"
           },
           "zaxis": {
            "backgroundcolor": "#E5ECF6",
            "gridcolor": "white",
            "gridwidth": 2,
            "linecolor": "white",
            "showbackground": true,
            "ticks": "",
            "zerolinecolor": "white"
           }
          },
          "shapedefaults": {
           "line": {
            "color": "#2a3f5f"
           }
          },
          "ternary": {
           "aaxis": {
            "gridcolor": "white",
            "linecolor": "white",
            "ticks": ""
           },
           "baxis": {
            "gridcolor": "white",
            "linecolor": "white",
            "ticks": ""
           },
           "bgcolor": "#E5ECF6",
           "caxis": {
            "gridcolor": "white",
            "linecolor": "white",
            "ticks": ""
           }
          },
          "title": {
           "x": 0.05
          },
          "xaxis": {
           "automargin": true,
           "gridcolor": "white",
           "linecolor": "white",
           "ticks": "",
           "title": {
            "standoff": 15
           },
           "zerolinecolor": "white",
           "zerolinewidth": 2
          },
          "yaxis": {
           "automargin": true,
           "gridcolor": "white",
           "linecolor": "white",
           "ticks": "",
           "title": {
            "standoff": 15
           },
           "zerolinecolor": "white",
           "zerolinewidth": 2
          }
         }
        },
        "title": {
         "text": "K-means Clustering with 2 Features"
        },
        "xaxis": {
         "anchor": "y",
         "domain": [
          0,
          1
         ],
         "title": {
          "text": "Marine Protected Area"
         }
        },
        "yaxis": {
         "anchor": "x",
         "domain": [
          0,
          1
         ],
         "title": {
          "text": "Fishing Exports"
         }
        }
       }
      },
      "text/html": [
       "<div>                            <div id=\"7f74a793-183e-4678-afc5-13d42a1acdda\" class=\"plotly-graph-div\" style=\"height:525px; width:100%;\"></div>            <script type=\"text/javascript\">                require([\"plotly\"], function(Plotly) {                    window.PLOTLYENV=window.PLOTLYENV || {};                                    if (document.getElementById(\"7f74a793-183e-4678-afc5-13d42a1acdda\")) {                    Plotly.newPlot(                        \"7f74a793-183e-4678-afc5-13d42a1acdda\",                        [{\"customdata\":[[-0.8058229640253802],[-0.7252406676228422],[-0.6446583712203042],[-0.5640760748177662],[-0.48349377841522817],[-0.4029114820126901],[-0.3223291856101521],[-0.24174688920761409],[-0.16116459280507606],[-0.08058229640253803],[0.0],[0.08058229640253803],[0.16116459280507606],[0.24174688920761409],[0.3223291856101521],[0.4029114820126901],[0.48349377841522817],[0.5640760748177662],[0.6446583712203042],[0.7252406676228422],[0.8058229640253802],[0.8864052604279183],[0.9669875568304563],[1.0475698532329945],[1.1281521496355325],[1.2087344460380705],[1.2893167424406085],[1.3698990388431465],[1.4504813352456845],[1.5310636316482225],[1.6116459280507605],[1.6922282244532987],[-1.6922282244532987],[-1.6116459280507605],[-1.5310636316482225],[-1.4504813352456845],[-1.3698990388431465],[-1.2893167424406085],[-1.2087344460380705],[-1.1281521496355325],[-1.0475698532329945],[-0.9669875568304563],[-0.8864052604279183],[-0.8058229640253802],[-0.7252406676228422],[-0.6446583712203042],[-0.5640760748177662],[-0.48349377841522817],[-0.4029114820126901],[-0.3223291856101521],[-0.24174688920761409],[-0.16116459280507606],[-0.08058229640253803],[0.0],[0.08058229640253803],[0.16116459280507606],[0.24174688920761409],[0.3223291856101521],[0.4029114820126901],[0.48349377841522817],[0.5640760748177662],[0.6446583712203042],[0.7252406676228422],[0.8058229640253802],[0.8864052604279183],[0.9669875568304563],[1.0475698532329945],[1.1281521496355325],[1.2087344460380705],[1.2893167424406085],[1.3698990388431465],[1.4504813352456845],[1.5310636316482225],[1.6116459280507605],[1.6922282244532987],[-1.6922282244532987],[-1.6116459280507605],[-1.5310636316482225],[-1.4504813352456845],[-1.3698990388431465],[-1.2893167424406085],[-1.2087344460380705],[-1.1281521496355325],[-1.0475698532329945],[-0.9669875568304563],[-0.8864052604279183],[-0.8058229640253802],[-0.7252406676228422],[-0.6446583712203042],[-0.5640760748177662],[-0.48349377841522817],[-0.4029114820126901],[-0.3223291856101521],[-0.24174688920761409],[-0.16116459280507606],[-0.08058229640253803],[0.0],[0.08058229640253803],[0.16116459280507606],[0.24174688920761409],[0.3223291856101521],[0.4029114820126901],[0.48349377841522817],[0.5640760748177662],[0.6446583712203042],[0.7252406676228422],[0.8058229640253802],[0.8864052604279183],[0.9669875568304563],[1.0475698532329945],[1.1281521496355325],[1.2087344460380705],[1.2893167424406085],[1.3698990388431465],[1.4504813352456845],[1.5310636316482225],[1.6116459280507605],[1.6922282244532987],[-1.6922282244532987],[-1.6116459280507605],[-1.5310636316482225],[-1.4504813352456845],[-1.3698990388431465],[-1.2893167424406085],[-1.2087344460380705],[-1.1281521496355325],[-1.0475698532329945],[-0.9669875568304563],[-0.8864052604279183],[-0.8058229640253802],[-0.7252406676228422],[-0.6446583712203042],[-0.5640760748177662],[-0.48349377841522817],[-0.4029114820126901],[-0.3223291856101521],[-0.24174688920761409],[-0.16116459280507606],[-0.08058229640253803],[0.0],[0.08058229640253803],[0.16116459280507606],[0.24174688920761409],[0.3223291856101521],[0.4029114820126901],[0.48349377841522817],[0.5640760748177662],[0.6446583712203042],[0.7252406676228422],[0.8058229640253802],[0.8864052604279183],[0.9669875568304563],[1.0475698532329945],[1.1281521496355325],[1.2087344460380705],[1.2893167424406085],[1.3698990388431465],[1.4504813352456845],[1.5310636316482225],[1.6116459280507605],[1.6922282244532987],[-1.6922282244532987],[-1.6116459280507605],[-1.5310636316482225],[-1.4504813352456845],[-1.3698990388431465],[-1.2893167424406085],[-1.2087344460380705],[-1.1281521496355325],[-1.0475698532329945],[-0.9669875568304563],[-0.8864052604279183],[-0.8058229640253802],[-0.7252406676228422],[-0.6446583712203042],[-0.5640760748177662],[-0.48349377841522817],[-0.4029114820126901],[-0.3223291856101521],[-0.24174688920761409],[-0.16116459280507606],[-0.08058229640253803],[0.0],[0.08058229640253803],[0.16116459280507606],[0.24174688920761409],[0.3223291856101521],[0.4029114820126901],[0.48349377841522817],[0.5640760748177662],[0.6446583712203042],[0.7252406676228422],[0.8058229640253802],[0.8864052604279183],[0.9669875568304563],[1.0475698532329945],[1.1281521496355325],[1.2087344460380705],[1.2893167424406085],[1.3698990388431465],[1.4504813352456845],[1.5310636316482225],[1.6116459280507605],[1.6922282244532987],[-1.6922282244532987],[-1.6116459280507605],[-1.5310636316482225],[-1.4504813352456845],[-1.3698990388431465],[-1.2893167424406085],[-1.2087344460380705],[-1.1281521496355325],[-1.0475698532329945],[-0.9669875568304563],[-0.8864052604279183],[-0.8058229640253802],[-0.7252406676228422],[-0.6446583712203042],[-0.5640760748177662],[-0.48349377841522817],[-0.4029114820126901],[-0.3223291856101521],[-0.24174688920761409],[-0.16116459280507606],[-0.08058229640253803],[0.0],[0.08058229640253803],[0.16116459280507606],[0.24174688920761409],[0.3223291856101521],[0.4029114820126901],[0.48349377841522817],[0.5640760748177662],[0.6446583712203042],[0.7252406676228422],[0.8058229640253802],[0.8864052604279183],[0.9669875568304563],[1.0475698532329945],[1.1281521496355325],[1.2087344460380705],[1.2893167424406085],[1.3698990388431465],[1.4504813352456845],[1.5310636316482225],[1.6116459280507605],[1.6922282244532987],[-1.6922282244532987],[-1.6116459280507605],[-1.5310636316482225],[-1.4504813352456845],[-1.3698990388431465],[-1.2893167424406085],[-1.2087344460380705],[-1.1281521496355325],[-1.0475698532329945],[-0.9669875568304563],[-0.8864052604279183],[-0.8058229640253802],[-0.7252406676228422],[-0.6446583712203042],[-0.5640760748177662],[-0.48349377841522817],[-0.4029114820126901],[-0.3223291856101521],[-0.24174688920761409],[-0.16116459280507606],[-0.08058229640253803],[0.0],[0.08058229640253803],[0.16116459280507606],[0.24174688920761409],[0.3223291856101521],[0.4029114820126901],[0.48349377841522817],[0.5640760748177662],[0.6446583712203042],[0.7252406676228422],[0.8058229640253802],[0.8864052604279183],[0.9669875568304563],[1.0475698532329945],[1.1281521496355325],[1.2087344460380705],[1.2893167424406085],[1.3698990388431465],[1.4504813352456845],[1.5310636316482225],[1.6116459280507605],[1.6922282244532987],[-1.6922282244532987],[-1.6116459280507605],[-1.5310636316482225],[-1.4504813352456845],[-1.3698990388431465],[-1.2893167424406085],[-1.2087344460380705],[-1.1281521496355325],[-1.0475698532329945],[-0.9669875568304563],[-0.8864052604279183],[-0.8058229640253802],[-0.7252406676228422],[-0.6446583712203042],[-0.5640760748177662],[-0.48349377841522817],[-0.4029114820126901],[-0.3223291856101521],[-0.24174688920761409],[-0.16116459280507606],[-0.08058229640253803],[0.0],[0.08058229640253803],[0.16116459280507606],[0.24174688920761409],[0.3223291856101521],[0.4029114820126901],[0.48349377841522817],[0.5640760748177662],[0.6446583712203042],[0.7252406676228422],[0.8058229640253802],[0.8864052604279183],[0.9669875568304563],[1.0475698532329945],[1.1281521496355325],[1.2087344460380705],[1.2893167424406085],[1.3698990388431465],[1.4504813352456845],[1.5310636316482225],[1.6116459280507605],[1.6922282244532987],[-1.6922282244532987],[-1.6116459280507605],[-1.5310636316482225],[-1.4504813352456845],[-1.3698990388431465],[-1.2893167424406085],[-1.2087344460380705],[-1.1281521496355325],[-1.0475698532329945],[-0.9669875568304563],[-0.8864052604279183],[-0.8058229640253802],[-0.7252406676228422],[-0.6446583712203042],[-0.5640760748177662],[-0.48349377841522817],[-0.4029114820126901],[-0.3223291856101521],[-0.24174688920761409],[-0.16116459280507606],[-0.08058229640253803],[0.0],[0.08058229640253803],[0.16116459280507606],[0.24174688920761409],[0.3223291856101521],[0.4029114820126901],[0.48349377841522817],[0.5640760748177662],[0.6446583712203042],[0.7252406676228422],[0.8058229640253802],[0.8864052604279183],[0.9669875568304563],[1.0475698532329945],[1.1281521496355325],[1.2087344460380705],[1.2893167424406085],[1.3698990388431465],[1.4504813352456845],[1.5310636316482225],[1.6116459280507605],[1.6922282244532987],[-1.6922282244532987],[-1.6116459280507605],[-1.5310636316482225],[-1.4504813352456845],[-1.3698990388431465],[-1.2893167424406085],[-1.2087344460380705],[-1.1281521496355325],[-1.0475698532329945],[-0.9669875568304563],[-0.8864052604279183],[-0.8058229640253802],[-0.7252406676228422],[-0.6446583712203042],[-0.5640760748177662],[-0.48349377841522817],[-0.4029114820126901],[-0.3223291856101521],[-0.24174688920761409],[-0.16116459280507606],[-0.08058229640253803],[0.0],[0.08058229640253803],[0.16116459280507606],[0.24174688920761409],[0.3223291856101521],[0.4029114820126901],[0.48349377841522817],[0.5640760748177662],[0.6446583712203042],[0.7252406676228422],[0.8058229640253802],[0.8864052604279183],[0.9669875568304563],[1.0475698532329945],[1.1281521496355325],[1.2087344460380705],[1.2893167424406085],[1.3698990388431465],[1.4504813352456845],[1.5310636316482225],[1.6116459280507605],[1.6922282244532987],[-1.6922282244532987],[-1.6116459280507605],[-1.5310636316482225],[-1.4504813352456845],[-1.3698990388431465],[-1.2893167424406085],[-1.2087344460380705],[-1.1281521496355325],[-1.0475698532329945],[-0.9669875568304563],[-0.8864052604279183],[-0.8058229640253802],[-0.7252406676228422],[-0.6446583712203042],[-0.5640760748177662],[-0.48349377841522817],[-0.4029114820126901],[-0.3223291856101521],[-0.24174688920761409],[-0.16116459280507606],[-0.08058229640253803],[0.0],[0.08058229640253803],[0.16116459280507606],[0.24174688920761409],[0.3223291856101521],[0.4029114820126901],[0.48349377841522817],[0.5640760748177662],[0.6446583712203042],[0.7252406676228422],[0.8058229640253802],[0.8864052604279183],[0.9669875568304563],[1.0475698532329945],[1.1281521496355325],[1.2087344460380705],[1.2893167424406085],[1.3698990388431465],[1.4504813352456845],[1.5310636316482225],[1.6116459280507605],[1.6922282244532987],[-1.6922282244532987],[-1.6116459280507605],[-1.5310636316482225],[-1.4504813352456845],[-1.3698990388431465],[-1.2893167424406085],[-1.2087344460380705],[-1.1281521496355325],[-1.0475698532329945],[-0.9669875568304563],[-0.8864052604279183],[-0.8058229640253802],[-0.7252406676228422],[-0.6446583712203042],[-0.5640760748177662],[-0.48349377841522817],[-0.4029114820126901],[-0.3223291856101521],[-0.24174688920761409],[-0.16116459280507606],[-0.08058229640253803],[0.0],[0.08058229640253803],[0.16116459280507606],[0.24174688920761409],[0.3223291856101521],[0.4029114820126901],[0.48349377841522817],[0.5640760748177662],[0.6446583712203042],[0.7252406676228422],[0.8058229640253802],[0.8864052604279183],[0.9669875568304563],[1.0475698532329945],[1.1281521496355325],[1.2087344460380705],[1.2893167424406085],[1.3698990388431465],[1.4504813352456845],[1.5310636316482225],[1.6116459280507605],[1.6922282244532987],[-1.6922282244532987],[-1.6116459280507605],[-1.5310636316482225],[-1.4504813352456845],[-1.3698990388431465],[-1.2893167424406085],[-1.2087344460380705],[-1.1281521496355325],[-1.0475698532329945],[-0.9669875568304563],[-0.8864052604279183]],\"hovertemplate\":\"Marine Protected Area (sqkm)=%{x}<br>Fishing Exports (Millions)=%{y}<br>Country=%{customdata[0]}<br>features=%{marker.color}<extra></extra>\",\"legendgroup\":\"\",\"marker\":{\"color\":[0,0,0,0,0,1,0,0,0,0,0,0,0,0,0,0,0,0,0,0,0,0,0,0,0,0,0,0,0,0,0,0,0,0,2,0,1,1,0,1,0,1,1,0,0,0,0,0,1,0,0,0,0,0,0,0,0,0,0,0,0,0,0,0,0,0,0,0,0,0,0,0,0,0,0,0,0,2,0,1,1,0,1,0,1,1,0,0,0,0,0,1,0,0,0,0,0,0,0,0,0,0,0,0,0,0,0,0,0,0,0,0,0,0,0,0,0,0,0,0,2,0,1,1,0,1,0,1,1,0,0,0,0,0,1,0,0,0,0,0,0,0,0,0,0,0,0,0,0,0,0,0,0,0,0,0,0,0,0,0,0,0,0,2,0,1,1,0,1,0,1,1,0,0,0,0,0,1,0,0,0,0,0,0,0,0,0,0,0,0,0,0,0,0,0,0,0,0,0,0,0,0,0,0,0,0,2,0,1,1,0,1,0,1,1,0,0,0,0,0,1,0,0,0,0,0,0,0,0,0,0,0,0,0,0,0,0,0,0,0,0,0,0,0,0,0,0,0,0,2,0,1,1,0,1,0,1,1,0,0,0,0,0,1,0,0,0,0,0,0,0,0,0,0,0,0,0,0,0,0,0,0,0,0,0,0,0,0,0,0,0,0,2,0,1,1,0,1,0,1,1,0,0,0,1,0,1,0,0,0,0,0,0,0,0,0,0,0,0,0,0,0,0,0,0,0,0,0,0,0,0,0,0,0,0,2,0,1,1,0,1,0,1,1,0,0,0,1,0,1,0,0,0,0,0,0,0,0,0,0,0,0,0,0,0,0,0,0,0,0,0,0,0,0,0,0,0,0,2,0,1,1,0,1,0,1,1,0,0,0,1,0,1,0,0,0,0,0,0,0,0,0,0,0,0,0,0,0,0,0,0,0,0,0,0,0,0,0,0,0,0,2,0,1,1,0,1,0,1,1,0,0,0,1,0,1,0,0,0,0,0,0,0,0,0,0,0,0,0,0,0,0,0,0,0,0,0,0,0,0,0,0,0,0,2,0,1,1,0,1,0,1,1,0,0,0,1,0,1,0,0,0,0,0,0,0,0,0,0,0,0,0,0,0,0,0,0,0,0,0,0,0,0,0,0,0,0,2,0,1,1,0,1,0,1,1],\"coloraxis\":\"coloraxis\",\"symbol\":\"circle\"},\"mode\":\"markers\",\"name\":\"\",\"orientation\":\"v\",\"showlegend\":false,\"x\":[-0.21640322178311114,-0.2794764295505674,-0.20061946233386846,-0.0007242924461850107,-0.24928101109428574,-0.27690719449436046,-0.2492731178990286,-0.28007105025994045,-0.26839701447459463,-0.20034583156495345,-0.26080902276737405,-0.2217942741437543,-0.27757811609121946,-0.2595329562007992,-0.27444057097649666,-0.18469230983745394,0.24128633626864088,-0.15858161992675474,-0.28021312777456936,-0.2802078656443979,-0.24661442662990712,-0.25973160161477116,-0.2535065016219543,0.041935796853701815,-0.2753693369517563,-0.26938629494682587,-0.27954878384042475,-0.20950588466089248,-0.2775294413871336,-0.2368373887713664,-0.19618743319697074,-0.23306312590589903,-0.2793343520359385,-0.2625086908127501,3.238824584584919,-0.11070412856188243,0.10158467341209171,-0.24063664675514812,-0.27201472896746154,-0.14049567852750586,-0.25800036078836647,0.24375295978650469,-0.10004568389962504,-0.22414513079784634,-0.2801355113545406,-0.20286244531944594,0.2957375437501882,-0.25122931479026245,-0.27143984124623144,-0.26311252024992315,-0.27977242437271105,-0.2729750677237498,-0.19310382491650527,-0.2649200619638138,-0.2248726202940483,-0.2763007339921017,-0.263161194954009,-0.27455107571009696,-0.19739246100623112,0.20603532625014562,-0.07557414753733029,-0.28021312777456936,-0.28017760839591216,-0.2232163648225867,-0.2647437806030704,-0.2459619224886482,0.02701502675257574,-0.2740011831071812,-0.27444057097649666,-0.2798250456744255,-0.2348654054896182,-0.27732684937553304,-0.20937564693914926,-0.19697938378777288,-0.22884421304094477,-0.27738867940504747,-0.2517489501446924,3.9622109347857037,-0.15355102348285546,0.08535363289827637,-0.23598097708596408,-0.2514621640503488,-0.12196508712877002,-0.26352954406601004,-0.030076454542492945,0.15334561684348877,-0.20221388777581562,-0.27987898250868276,-0.18047734357012826,0.17698705217123842,-0.2740656442017813,-0.27723213103244704,-0.26488059598752794,-0.27988950676902563,-0.2735065428710655,-0.18031290200227065,-0.2697835857747698,-0.21794634145588673,-0.27612971476152975,-0.26141285220454713,-0.275561404703014,-0.2291046884844312,0.22853093273306357,-0.024548586797392285,-0.2801933947864265,-0.2801868171237122,-0.23527453611044788,-0.2646951058989846,-0.234574672797646,0.2718224776535235,-0.27581267141870036,-0.27294086387763544,-0.2799552833961687,-0.2196881065426343,-0.2752733030761275,-0.20674195078834215,-0.16872700689729647,-0.22534094987930672,-0.2783516492264215,-0.23507194409884732,4.846018585393093,-0.20122197623849863,0.17110925276973685,-0.2096255981222928,-0.193172232608734,-0.0717946225416915,-0.26168385190837645,0.008898828104841026,0.02592708133962994,-0.19972621573726604,-0.28016576860302644,-0.1917567195926159,0.42571873664753973,-0.27427086727846767,-0.27728869893179003,-0.2640254998346685,-0.2799868561771974,-0.27346970795986547,-0.1779120551115499,-0.26930210086408274,-0.21412208835379068,-0.27485496372749774,-0.25982631995785715,-0.27529566712935616,-0.21931712636554757,0.20518286116237186,-0.025812813571081436,-0.28019076372134083,-0.2801539288101407,-0.231137186263151,-0.26911529524299654,-0.2459882331395054,0.20666151974054728,-0.2765006949386165,-0.27131749671974537,-0.2797961039584826,-0.21463909264313494,-0.2738841007108666,-0.19889743023526377,-0.14079430441473523,-0.22119307577166694,-0.27874104685910833,-0.23425368285718798,5.087709539700005,-0.10516310549135315,0.14631804199952697,-0.2209970614227807,-0.20017612786692437,-0.06916881958614153,-0.2621298174404062,0.05413604565619192,0.03360716032485073,-0.18862443660806458,-0.2802197054372837,-0.18953215406263846,0.386967094532492,-0.2745155563314397,-0.2772597572158471,-0.2668460016065618,-0.27993686594056866,-0.27435769242629643,-0.17733322079269118,-0.27138064228180264,-0.21785293864534364,-0.27386042112509507,-0.25986315486905726,-0.2742879692015248,-0.2283943009112864,0.23613865742842702,-0.04063097213386435,-0.2801723462657407,-0.28012498709419775,-0.23068201200332117,-0.26676312305636163,-0.23533899720504806,0.2094333468083548,-0.27555482704029965,-0.2719949959793186,-0.2798250456744255,-0.21802001127828693,-0.2737275523382662,-0.18399639312228064,-0.15602422466343355,-0.22069712000300845,-0.2788581292554229,-0.23367221747324354,5.707572687505452,-0.0818031941277757,0.15645685130735434,-0.2218311090549544,-0.22828642724277184,-0.060463940750032266,-0.2613220804590897,0.055181894027766215,-0.004932681050796363,-0.1864314438591158,-0.28010788517114055,-0.1831741852829927,0.5555894248112909,-0.27611524390355835,-0.2772979076595901,-0.2641570530889546,-0.2800118512955117,-0.2729632279308641,-0.17933151472529657,-0.2710491280810018,-0.21809499663322998,-0.2733355236404937,-0.2621061378546347,-0.2738841007108666,-0.22236521526735584,0.2274890309591179,-0.0391733620763747,-0.28016182200539785,-0.2800671036623119,-0.2326658350779551,-0.2649226930288995,-0.23583363744116367,0.36318752828774203,-0.2749431044078694,-0.27199762704440433,-0.279744798189311,-0.21707808997759867,-0.27346049923206545,-0.18393850969039474,-0.11685292766721335,-0.1999985309736382,-0.2785397703800506,-0.24191008225663724,6.157622948080813,0.07892067876368752,0.39348818934745255,-0.23404451318287312,-0.17931309726969655,-0.06296213704892474,-0.2556166158207029,-0.021128202185954462,0.03560413872491325,-0.18957162003892428,-0.28010788517114055,-0.20437004561356428,0.9537235091151961,-0.27607840899235825,-0.2773163251151901,-0.2651660665493287,-0.27980399715373977,-0.2730079560373213,-0.18965318305658163,-0.27007826506437055,-0.2155849605414518,-0.2725975098839488,-0.26181014303249106,-0.2742248236394675,-0.2269143268005681,0.2642792140527602,-0.015216198938338468,-0.28013682688708347,-0.2801013075084262,-0.21719648790645615,-0.26661052128138973,-0.219417106838805,0.422410172302245,-0.2736420427229802,-0.2724909517479771,-0.2797382205265967,-0.2107937910203531,-0.2734184021906939,-0.16763511488672211,-0.11249193728763011,-0.2110582130614681,-0.2782358823626498,-0.2415206846239505,6.588691389595235,0.12573653536647125,0.35826217444727154,-0.19213427743241693,-0.18884939267289377,-0.06642330316919123,-0.25211729925669346,-0.05247602714978209,0.18260306059671078,-0.17173957642044746,-0.2801881326562551,-0.18217964268059,0.6226829000297295,-0.274474774822611,-0.27745445603219054,-0.26308357853398023,-0.2798934533666543,-0.27308557245735016,-0.19177513704821597,-0.27084785160194413,-0.21088982489598193,-0.2739432996752953,-0.2593119467335986,-0.27531145351987046,-0.22736555446276935,0.3077194141505634,-0.0034579690702495128,-0.2800671036623119,-0.2800079046978831,-0.20220336351547274,-0.26559624569084417,-0.19253288379290373,0.48429808524858386,-0.2743642700890107,-0.27235413636351957,-0.27963560898825357,-0.2050028167666803,-0.27416299360995305,-0.1560557974444622,-0.13185262972091105,-0.21180280448072725,-0.2782950813270785,-0.23981443891586018,6.841357831907232,0.09964426291137217,0.26496592204013353,-0.1959822101202845,-0.22454373715833315,-0.06933457668654198,-0.243140105184212,-0.0680282528714813,0.32215212167828816,-0.16574601015517412,-0.2802197054372837,-0.1440120970145725,0.748564893523527,-0.27368019316672315,-0.27706111180187515,-0.2624547539784928,-0.2798289922720541,-0.2712096230512308,-0.17753186620666317,-0.26865354332045244,-0.20291112002353182,-0.2696691344435409,-0.2578517056110232,-0.2750917595852127,-0.22354919455593045,0.3369255521346139,0.018227269366266233,-0.2801263026267406,-0.2799460746683687,-0.18140874061047363,-0.2682917718711657,-0.1765399546693462,0.7801153104989551,-0.2728250970138637,-0.2715358751218602,-0.2795435217102533,-0.1984317317150911,-0.2727593203867207,-0.1354256161073207,-0.11315101909160333,-0.20296900345541766,-0.2789304835452802,-0.24445037559690125,7.699408670857953,0.07701578764162523,0.4376400925509434,-0.21284602178721582,-0.218463345745231,-0.07489664827775702,-0.2345562553420459,-0.045719452009649546,0.3437663213574895,-0.1626571397445372,-0.2802197054372837,-0.14321093769597032,0.9593474107359257,-0.2713569626960312,-0.2772018737839613,-0.26237319096083545,-0.27983951653239697,-0.26989672157345584,-0.17153303781121837,-0.26780502483030727,-0.20046159842872516,-0.26526867808767185,-0.2522922650848939,-0.2744576728995538,-0.2236978497332737,0.35298952001548584,0.08224766056458224,-0.2801184094314834,-0.28004473960908327,-0.17844616132395133,-0.2670775353341053,-0.17896448114583843,0.7549518040191159,-0.27297901432137844,-0.2684719998295377,-0.2796158760001106,-0.19684388393585825,-0.27241465086049116,-0.1171252429035855,-0.05976407743723038,-0.2062038979783121,-0.2789002262967944,-0.24473453062615919,7.795954288645958,0.19726072418926469,0.6046259003464235,-0.20228229546804435,-0.23206858330349636,-0.05880505421348494,-0.23963421095748824,-0.024365727773934663,0.3780096334481536,-0.159306478357871,-0.2802197054372837,-0.1421874533776247,0.9357875384258333,-0.2673077535291059,-0.2772913299968758,-0.26381106803018217,-0.27976584670999677,-0.27112279790340194,-0.1836661944540226,-0.26682100648824747,-0.2013232722442989,-0.26860092201873803,-0.25552452854270263,-0.275041769348584,-0.2151350484117934,0.3431835404410022,0.09511225330121702,-0.28014077348471206,-0.28002237555585463,-0.18646038557505873,-0.2669946567839051,-0.1788092483057809,0.7330245075947136,-0.2711714726074878,-0.26661709894410407,-0.27939618206545286,-0.19916316780892163,-0.2728487765996352,-0.08630757755453074,-0.09744356052984658,-0.1954086379315972,-0.2791764881307952,-0.24098000074883474,7.586058440367447,0.2105962775762436,0.6807491909390578,-0.20374648318824834,-0.20453974931159333,-0.04397110926018768,-0.23122532694352263,-0.01984687348920814,0.5735780168023681,-0.16317019743625288,-0.2802197054372837,-0.16251111563227968,1.075947006607298,-0.2627665351911508,-0.2773439512985902,-0.26229162794317806,-0.27979741949102543,-0.27186738932266113,-0.17417331162473976,-0.26604089569033107,-0.20539221439936708,-0.25897253933754055,-0.2569203085706778,-0.2741695712726674,-0.21881327740163195,0.3166058364775875,0.07361250495324462,-0.2801710307331979,-0.2799934338399117,-0.16066016134447467,-0.26972701787542674,-0.17263940067976422,0.7962700501252847,-0.2699953865141704,-0.26619612853038865,-0.2794159150535958,-0.19127786574701458,-0.2745181873965254,-0.046454834701108665,-0.06631806056576238,-0.2055092967956817,-0.27909097851550924,-0.23996835622337487,8.064208476058312,0.2715975215886943,0.6098472490090376,-0.10655362338915693,-0.2188474812477463,-0.02811894211871624,-0.21173176572341276,-0.017894623195602873,0.8349966971220179],\"xaxis\":\"x\",\"y\":[-0.1797295601550148,-0.5485192350192032,0.5636094453490641,0.16812111507690097,-0.6742616782144735,-0.6992071329626894,0.5633533937063158,-0.7128893278022496,-0.7631055735035851,-0.27072730161547964,-0.2840660860165303,-0.6694418825862708,-0.28168932429737287,-0.6226687783868324,-0.7676542556277014,-0.5870956742784297,-0.5700396224991278,-0.14853343295147356,-0.7410610332490937,-0.7511886288128543,-0.5061472067027672,-0.14270750498588367,-0.34004801223810327,1.120316927012336,-0.6516086387619213,-0.6305732432170845,-0.7681753960300008,0.018499596916154572,-0.5720518871739023,-0.7291952988869125,-0.24128738744396472,0.4894237535142233,-0.43295559771624337,-0.6392006773915673,1.7820477554141427,-0.08969879019245816,0.28662784008533204,-0.6757046045306666,-0.20069567113769607,-0.5367468841973184,0.5117333825282662,1.5429527561603502,0.5703360726226743,-0.41750212798331887,-0.46453730857004083,0.4552062169262527,0.466981580120405,-0.7007946531477286,-0.7034244541373667,0.4110689384609875,-0.7165342982460777,-0.7655124589454189,-0.2827466669633098,-0.30349588714272197,-0.6446711454295772,-0.30645403670953125,-0.6399597952030092,-0.764705143177695,-0.5815559216782643,-0.4308921227129192,-0.3913969099120666,-0.7156155247044517,-0.7003427973075846,-0.5695395687027018,0.08781127042197541,-0.4405558129474653,0.8496221426711408,-0.5676056257068854,-0.6316275735107538,-0.760590242660117,0.004597498901057851,-0.3931952961558397,-0.6944174610571631,-0.18947759681305457,0.7738368811621904,-0.2011083661383609,-0.5818692083940975,3.699314258356849,-0.15622703172299193,0.10953047447156329,-0.5281164376505681,-0.07754688046485235,-0.5799864757268308,-0.01713074226533296,1.2968961645960733,1.1157863191218256,-0.5318909401019043,-0.4618472601350503,0.23890282624932363,0.20400750590113687,-0.7270203661096859,-0.7311864769558135,0.34654693686069304,-0.715862539230397,-0.7579694787872818,-0.3385568879656281,-0.08511998434566576,-0.5984221940047058,-0.15022036142134446,-0.6258377940123756,-0.7612710387926006,-0.5795677559816308,-0.32671826495385553,-0.20269287395113247,-0.7210317700416443,-0.6650890046595505,-0.5479589337774247,0.0761142289067813,-0.4312927682245135,1.4313805121119954,-0.413555920312728,-0.5296045495507757,-0.764608747265131,0.0756593606943696,-0.03512364181986674,-0.6851544163342113,0.011604276795557289,0.7947096086045752,-0.20472321285951284,-0.7170765252542506,4.266275855219122,-0.04654956983097458,-0.057842953462306695,-0.5437416126027474,0.005630742588853731,-0.5461213866941724,-0.1142948097576295,1.4246056868821033,1.087747158054757,-0.5496970725758452,-0.44168846492009295,0.2531965326592119,0.40962902451706207,-0.7287765791417122,-0.7255563531876195,0.3642205249548584,-0.7129043896635877,-0.7574694249908559,-0.3346408040177135,-0.015205836386319591,-0.5793267662002206,-0.0861321414275882,-0.6089293484741873,-0.761671684304195,-0.5711391383768115,-0.3756934132809291,-0.08801186172258728,-0.7184893278477674,-0.6666494134941809,-0.47027889011213714,0.1209112168986567,-0.42958776552103684,1.279123168217076,-0.3835285935490259,-0.49780896026597676,-0.7642081017535366,0.24749411195659474,-0.06733493847759824,-0.6639232165919788,0.08052434190658661,1.1245011120920694,-0.23984144875550395,-0.7217185909186631,4.916442186485509,0.17143171219902267,0.020689591554719118,-0.5441934684428914,0.11235909203086478,-0.5539957278017484,-0.13822509505165537,1.5480346281758361,1.2904014899870697,-0.5503356954965821,-0.481171628231875,0.2573716806221424,0.3715948122660084,-0.7287374183022332,-0.7115006241868737,0.333187065853769,-0.701589919426382,-0.7547944384172034,-0.29728437552687587,-0.003198520527559863,-0.5746816881635404,-0.06096075875930022,-0.5673555988086725,-0.7621687257283534,-0.5862702842771,-0.3813536607717995,-0.07980013492103706,-0.7044486607083598,-0.6683092306136433,-0.47562886325944204,0.15547517629740443,-0.4263645271946763,1.1658820699324561,-0.35796259011367876,-0.4915251517157077,-0.7641719532863251,0.2608871190584627,-0.04093149555185092,-0.6614470465879898,0.014743168698424243,0.958227200035883,-0.33884607570332026,-0.722299978766315,5.04179000891372,0.19101514431086325,0.1407778120036542,-0.5617224626682107,0.10720191070868791,-0.5229411820947857,-0.16721917812756146,1.5445432887176573,1.1577757761602732,-0.5376174597826625,-0.4862775992255021,0.305587711137774,0.5397183208945173,-0.7298550084135227,-0.7223090158831179,0.4235883576052437,-0.7042920173504432,-0.755619828418533,-0.2971126703076211,0.0028352611244961716,-0.5877614085495751,-0.06239766033095811,-0.5811010534658527,-0.7604878220030178,-0.5726754482333011,-0.25169212125634705,-0.1791481723073629,-0.6985654976696849,-0.6545728130732659,-0.4861601167070647,0.11690174941044569,-0.4559881960745165,1.4508464617053989,-0.313442740370425,-0.49086544218909745,-0.7640183223006761,0.2362338644202064,0.09618265295370977,-0.630666626757381,0.04602665469772662,0.9907216596867714,-0.29824532228024875,-0.7200166005874541,5.196857896134335,0.5730200963131296,0.26747517720776204,-0.5690967499793607,-0.02767103282975856,-0.4302625369089852,-0.11918388994798751,1.1804740011968398,1.2728092359441305,-0.49329642660907214,-0.4639016980215716,0.40518276305004514,0.8959554405195058,-0.7217969125976215,-0.7251707695373633,0.43461062773248954,-0.7089822809711379,-0.7568669505373306,-0.317000352018492,0.07430078080167007,-0.5794472610909257,-0.1612456439208579,-0.5651595794255727,-0.7606143416382579,-0.5570291866752484,-0.24608308409402632,-0.2370610291524846,-0.7105095537108245,-0.6304678101877177,-0.466811649632099,0.2587995450769973,-0.4514545758117385,1.7055937472617788,-0.2597562418167835,-0.46488674375308553,-0.7630152023355564,0.26507431651046354,0.20093488618815777,-0.5893549534791496,0.10314123289192723,1.0090579696798145,-0.24195914645964547,-0.7233693709213225,5.5261583829422065,0.874251298331256,0.4688914241380803,-0.5498778149119029,0.032278187668278786,-0.4633926071083427,0.007923157884517624,1.144512301065913,1.550802998289785,-0.44639077802985805,-0.4491501110270041,0.6324572135256704,0.7241628624690274,-0.7207094462090082,-0.7292796453104059,0.5191257440730218,-0.7136755569641001,-0.758508693423187,-0.27644177180716734,0.07447851076546008,-0.5717657118084778,-0.14603316396934357,-0.5657018064337455,-0.7625000866777922,-0.5406900794956417,-0.17278905445040307,-0.2647477426642408,-0.7141906726218643,-0.6142522102710836,-0.4536475828225706,0.3277226225602944,-0.4360493040350959,2.003517364530051,-0.24809534876880085,-0.4345129941786064,-0.7625723836122152,0.37563741584916327,0.3375339190359543,-0.5606349962795976,-0.013479747076969535,0.9369598518264394,-0.3293299917098878,-0.7038883594665811,5.230719972794726,0.6997987955684635,0.3701548983220829,-0.5638130490219435,-0.052035099730322526,-0.5285893800965855,0.3369977167723167,0.9464187007467868,1.2694534532379946,-0.46315462969920024,-0.43091019694652494,0.7620615179680379,0.806789221397758,-0.7195587200027748,-0.7355845404665485,0.6449585584363209,-0.7264359658897664,-0.7519567837410991,-0.25342724768249997,0.12365850040673214,-0.546763021987177,-0.2246470430375953,-0.5705818495073006,-0.7634911571538414,-0.5347316071502762,-0.2012439228904041,-0.20447921070583508,-0.70891600878125,-0.5976600638209962,-0.4232437095254152,0.4970239687454454,-0.41351675947324884,2.667757499030791,-0.15476301880092544,-0.45580444136619125,-0.7593370957967843,0.4796365560167045,0.5624948676100423,-0.5216729733701149,0.12372176022435231,0.8954734609566855,-0.19076990451586637,-0.6997523723431298,5.670185925801969,0.9267418850946498,0.4007003531158167,-0.5468443560384029,-0.09459088275508372,-0.5427595792435012,0.4785490896280914,1.018034839037342,1.4253889036716862,-0.46034709874577223,-0.40476581803579353,0.7955922336789899,0.9084387111965504,-0.7314184296204209,-0.7310900810432496,0.6552608715916038,-0.7266197205980917,-0.7220921250798489,-0.246278888291422,0.0686977683838846,-0.540461139203302,-0.2939888402660924,-0.5483897030116953,-0.7647985267179914,-0.5254775995441273,-0.18356431005170348,-0.1912307974728132,-0.7052921249432953,-0.5903460239551989,-0.35680282679064257,0.7721770640427281,-0.422728593867651,2.6415197365797627,-0.117686740930977,-0.4301902399745621,-0.7598040134982665,0.600342312780503,0.4486874433391087,-0.4809185889613944,0.23916791500887466,1.0569667382241485,-0.1698489791171995,-0.7056837333380866,5.632031218660211,1.27529745543719,0.46494220409522197,-0.5445820644654152,0.05628076989672761,-0.4866812571093641,0.4329869590802388,0.9532929342615106,1.7384225802343736,-0.46033806162896934,-0.4539096592098541,0.7826420453004629,1.0673413483138545,-0.7292103607482505,-0.7302526415528493,0.6305292952743893,-0.726318483371329,-0.7123290265604709,-0.24081143262567975,0.04485785425788746,-0.537590348432254,-0.2157756067094349,-0.5592523174087569,-0.7652895433976145,-0.5227755016200661,-0.11589136705947153,-0.2048286458888798,-0.7048191824972778,-0.5948796442179769,-0.31711783453692954,0.7687610338912394,-0.42051148787867787,2.5701777241655615,-0.059924502699236645,-0.42086996017852535,-0.7591202049935152,0.6298484991419059,0.6437566219015379,-0.3976596318564623,0.1650906685756686,0.8830082645132465,-0.015470925145870767,-0.6952729747811691,5.622713951236442,1.2305275787957235,0.5876120275775131,-0.5468895416224172,0.1663498401835365,-0.4753005146822707,0.6084214952022777,0.857008479471361,1.7683625482023149,-0.4519124563964177,-0.4676460767502315,0.8735855640601106,1.1205157435819992,-0.7251376334424193,-0.7334547932733364,0.6342736740030492,-0.7126814741157833,-0.7185887361325991,-0.25162584906645924,0.0002144972516610707,-0.5397050337641278,-0.1716112168937611,-0.5702745875360027,-0.7646539328491453,-0.5301889497706953,-0.15487748894709522,-0.14224359965666916,-0.7070182142526453,-0.583857374090731,-0.3565196637974856,0.8205497379162763,-0.3938881417773938,2.864188269858187,-0.0368376816401463,-0.4371427951682444,-0.7584876068173135,0.5884464546956455,0.6250648519809148,-0.35761616730290174,0.23749906077260954,0.751509177914542,-0.036358714449593627,-0.6776264980374124,5.320169354909631,1.1950960561838992,0.5676821726548954,-0.5003514024598537,0.22832337484541884,-0.5056923384903557,0.6534082626470137,0.7237411303515597,1.6958607724650774],\"yaxis\":\"y\",\"type\":\"scatter\"}],                        {\"template\":{\"data\":{\"histogram2dcontour\":[{\"type\":\"histogram2dcontour\",\"colorbar\":{\"outlinewidth\":0,\"ticks\":\"\"},\"colorscale\":[[0.0,\"#0d0887\"],[0.1111111111111111,\"#46039f\"],[0.2222222222222222,\"#7201a8\"],[0.3333333333333333,\"#9c179e\"],[0.4444444444444444,\"#bd3786\"],[0.5555555555555556,\"#d8576b\"],[0.6666666666666666,\"#ed7953\"],[0.7777777777777778,\"#fb9f3a\"],[0.8888888888888888,\"#fdca26\"],[1.0,\"#f0f921\"]]}],\"choropleth\":[{\"type\":\"choropleth\",\"colorbar\":{\"outlinewidth\":0,\"ticks\":\"\"}}],\"histogram2d\":[{\"type\":\"histogram2d\",\"colorbar\":{\"outlinewidth\":0,\"ticks\":\"\"},\"colorscale\":[[0.0,\"#0d0887\"],[0.1111111111111111,\"#46039f\"],[0.2222222222222222,\"#7201a8\"],[0.3333333333333333,\"#9c179e\"],[0.4444444444444444,\"#bd3786\"],[0.5555555555555556,\"#d8576b\"],[0.6666666666666666,\"#ed7953\"],[0.7777777777777778,\"#fb9f3a\"],[0.8888888888888888,\"#fdca26\"],[1.0,\"#f0f921\"]]}],\"heatmap\":[{\"type\":\"heatmap\",\"colorbar\":{\"outlinewidth\":0,\"ticks\":\"\"},\"colorscale\":[[0.0,\"#0d0887\"],[0.1111111111111111,\"#46039f\"],[0.2222222222222222,\"#7201a8\"],[0.3333333333333333,\"#9c179e\"],[0.4444444444444444,\"#bd3786\"],[0.5555555555555556,\"#d8576b\"],[0.6666666666666666,\"#ed7953\"],[0.7777777777777778,\"#fb9f3a\"],[0.8888888888888888,\"#fdca26\"],[1.0,\"#f0f921\"]]}],\"heatmapgl\":[{\"type\":\"heatmapgl\",\"colorbar\":{\"outlinewidth\":0,\"ticks\":\"\"},\"colorscale\":[[0.0,\"#0d0887\"],[0.1111111111111111,\"#46039f\"],[0.2222222222222222,\"#7201a8\"],[0.3333333333333333,\"#9c179e\"],[0.4444444444444444,\"#bd3786\"],[0.5555555555555556,\"#d8576b\"],[0.6666666666666666,\"#ed7953\"],[0.7777777777777778,\"#fb9f3a\"],[0.8888888888888888,\"#fdca26\"],[1.0,\"#f0f921\"]]}],\"contourcarpet\":[{\"type\":\"contourcarpet\",\"colorbar\":{\"outlinewidth\":0,\"ticks\":\"\"}}],\"contour\":[{\"type\":\"contour\",\"colorbar\":{\"outlinewidth\":0,\"ticks\":\"\"},\"colorscale\":[[0.0,\"#0d0887\"],[0.1111111111111111,\"#46039f\"],[0.2222222222222222,\"#7201a8\"],[0.3333333333333333,\"#9c179e\"],[0.4444444444444444,\"#bd3786\"],[0.5555555555555556,\"#d8576b\"],[0.6666666666666666,\"#ed7953\"],[0.7777777777777778,\"#fb9f3a\"],[0.8888888888888888,\"#fdca26\"],[1.0,\"#f0f921\"]]}],\"surface\":[{\"type\":\"surface\",\"colorbar\":{\"outlinewidth\":0,\"ticks\":\"\"},\"colorscale\":[[0.0,\"#0d0887\"],[0.1111111111111111,\"#46039f\"],[0.2222222222222222,\"#7201a8\"],[0.3333333333333333,\"#9c179e\"],[0.4444444444444444,\"#bd3786\"],[0.5555555555555556,\"#d8576b\"],[0.6666666666666666,\"#ed7953\"],[0.7777777777777778,\"#fb9f3a\"],[0.8888888888888888,\"#fdca26\"],[1.0,\"#f0f921\"]]}],\"mesh3d\":[{\"type\":\"mesh3d\",\"colorbar\":{\"outlinewidth\":0,\"ticks\":\"\"}}],\"scatter\":[{\"fillpattern\":{\"fillmode\":\"overlay\",\"size\":10,\"solidity\":0.2},\"type\":\"scatter\"}],\"parcoords\":[{\"type\":\"parcoords\",\"line\":{\"colorbar\":{\"outlinewidth\":0,\"ticks\":\"\"}}}],\"scatterpolargl\":[{\"type\":\"scatterpolargl\",\"marker\":{\"colorbar\":{\"outlinewidth\":0,\"ticks\":\"\"}}}],\"bar\":[{\"error_x\":{\"color\":\"#2a3f5f\"},\"error_y\":{\"color\":\"#2a3f5f\"},\"marker\":{\"line\":{\"color\":\"#E5ECF6\",\"width\":0.5},\"pattern\":{\"fillmode\":\"overlay\",\"size\":10,\"solidity\":0.2}},\"type\":\"bar\"}],\"scattergeo\":[{\"type\":\"scattergeo\",\"marker\":{\"colorbar\":{\"outlinewidth\":0,\"ticks\":\"\"}}}],\"scatterpolar\":[{\"type\":\"scatterpolar\",\"marker\":{\"colorbar\":{\"outlinewidth\":0,\"ticks\":\"\"}}}],\"histogram\":[{\"marker\":{\"pattern\":{\"fillmode\":\"overlay\",\"size\":10,\"solidity\":0.2}},\"type\":\"histogram\"}],\"scattergl\":[{\"type\":\"scattergl\",\"marker\":{\"colorbar\":{\"outlinewidth\":0,\"ticks\":\"\"}}}],\"scatter3d\":[{\"type\":\"scatter3d\",\"line\":{\"colorbar\":{\"outlinewidth\":0,\"ticks\":\"\"}},\"marker\":{\"colorbar\":{\"outlinewidth\":0,\"ticks\":\"\"}}}],\"scattermapbox\":[{\"type\":\"scattermapbox\",\"marker\":{\"colorbar\":{\"outlinewidth\":0,\"ticks\":\"\"}}}],\"scatterternary\":[{\"type\":\"scatterternary\",\"marker\":{\"colorbar\":{\"outlinewidth\":0,\"ticks\":\"\"}}}],\"scattercarpet\":[{\"type\":\"scattercarpet\",\"marker\":{\"colorbar\":{\"outlinewidth\":0,\"ticks\":\"\"}}}],\"carpet\":[{\"aaxis\":{\"endlinecolor\":\"#2a3f5f\",\"gridcolor\":\"white\",\"linecolor\":\"white\",\"minorgridcolor\":\"white\",\"startlinecolor\":\"#2a3f5f\"},\"baxis\":{\"endlinecolor\":\"#2a3f5f\",\"gridcolor\":\"white\",\"linecolor\":\"white\",\"minorgridcolor\":\"white\",\"startlinecolor\":\"#2a3f5f\"},\"type\":\"carpet\"}],\"table\":[{\"cells\":{\"fill\":{\"color\":\"#EBF0F8\"},\"line\":{\"color\":\"white\"}},\"header\":{\"fill\":{\"color\":\"#C8D4E3\"},\"line\":{\"color\":\"white\"}},\"type\":\"table\"}],\"barpolar\":[{\"marker\":{\"line\":{\"color\":\"#E5ECF6\",\"width\":0.5},\"pattern\":{\"fillmode\":\"overlay\",\"size\":10,\"solidity\":0.2}},\"type\":\"barpolar\"}],\"pie\":[{\"automargin\":true,\"type\":\"pie\"}]},\"layout\":{\"autotypenumbers\":\"strict\",\"colorway\":[\"#636efa\",\"#EF553B\",\"#00cc96\",\"#ab63fa\",\"#FFA15A\",\"#19d3f3\",\"#FF6692\",\"#B6E880\",\"#FF97FF\",\"#FECB52\"],\"font\":{\"color\":\"#2a3f5f\"},\"hovermode\":\"closest\",\"hoverlabel\":{\"align\":\"left\"},\"paper_bgcolor\":\"white\",\"plot_bgcolor\":\"#E5ECF6\",\"polar\":{\"bgcolor\":\"#E5ECF6\",\"angularaxis\":{\"gridcolor\":\"white\",\"linecolor\":\"white\",\"ticks\":\"\"},\"radialaxis\":{\"gridcolor\":\"white\",\"linecolor\":\"white\",\"ticks\":\"\"}},\"ternary\":{\"bgcolor\":\"#E5ECF6\",\"aaxis\":{\"gridcolor\":\"white\",\"linecolor\":\"white\",\"ticks\":\"\"},\"baxis\":{\"gridcolor\":\"white\",\"linecolor\":\"white\",\"ticks\":\"\"},\"caxis\":{\"gridcolor\":\"white\",\"linecolor\":\"white\",\"ticks\":\"\"}},\"coloraxis\":{\"colorbar\":{\"outlinewidth\":0,\"ticks\":\"\"}},\"colorscale\":{\"sequential\":[[0.0,\"#0d0887\"],[0.1111111111111111,\"#46039f\"],[0.2222222222222222,\"#7201a8\"],[0.3333333333333333,\"#9c179e\"],[0.4444444444444444,\"#bd3786\"],[0.5555555555555556,\"#d8576b\"],[0.6666666666666666,\"#ed7953\"],[0.7777777777777778,\"#fb9f3a\"],[0.8888888888888888,\"#fdca26\"],[1.0,\"#f0f921\"]],\"sequentialminus\":[[0.0,\"#0d0887\"],[0.1111111111111111,\"#46039f\"],[0.2222222222222222,\"#7201a8\"],[0.3333333333333333,\"#9c179e\"],[0.4444444444444444,\"#bd3786\"],[0.5555555555555556,\"#d8576b\"],[0.6666666666666666,\"#ed7953\"],[0.7777777777777778,\"#fb9f3a\"],[0.8888888888888888,\"#fdca26\"],[1.0,\"#f0f921\"]],\"diverging\":[[0,\"#8e0152\"],[0.1,\"#c51b7d\"],[0.2,\"#de77ae\"],[0.3,\"#f1b6da\"],[0.4,\"#fde0ef\"],[0.5,\"#f7f7f7\"],[0.6,\"#e6f5d0\"],[0.7,\"#b8e186\"],[0.8,\"#7fbc41\"],[0.9,\"#4d9221\"],[1,\"#276419\"]]},\"xaxis\":{\"gridcolor\":\"white\",\"linecolor\":\"white\",\"ticks\":\"\",\"title\":{\"standoff\":15},\"zerolinecolor\":\"white\",\"automargin\":true,\"zerolinewidth\":2},\"yaxis\":{\"gridcolor\":\"white\",\"linecolor\":\"white\",\"ticks\":\"\",\"title\":{\"standoff\":15},\"zerolinecolor\":\"white\",\"automargin\":true,\"zerolinewidth\":2},\"scene\":{\"xaxis\":{\"backgroundcolor\":\"#E5ECF6\",\"gridcolor\":\"white\",\"linecolor\":\"white\",\"showbackground\":true,\"ticks\":\"\",\"zerolinecolor\":\"white\",\"gridwidth\":2},\"yaxis\":{\"backgroundcolor\":\"#E5ECF6\",\"gridcolor\":\"white\",\"linecolor\":\"white\",\"showbackground\":true,\"ticks\":\"\",\"zerolinecolor\":\"white\",\"gridwidth\":2},\"zaxis\":{\"backgroundcolor\":\"#E5ECF6\",\"gridcolor\":\"white\",\"linecolor\":\"white\",\"showbackground\":true,\"ticks\":\"\",\"zerolinecolor\":\"white\",\"gridwidth\":2}},\"shapedefaults\":{\"line\":{\"color\":\"#2a3f5f\"}},\"annotationdefaults\":{\"arrowcolor\":\"#2a3f5f\",\"arrowhead\":0,\"arrowwidth\":1},\"geo\":{\"bgcolor\":\"white\",\"landcolor\":\"#E5ECF6\",\"subunitcolor\":\"white\",\"showland\":true,\"showlakes\":true,\"lakecolor\":\"white\"},\"title\":{\"x\":0.05},\"mapbox\":{\"style\":\"light\"}}},\"xaxis\":{\"anchor\":\"y\",\"domain\":[0.0,1.0],\"title\":{\"text\":\"Marine Protected Area\"}},\"yaxis\":{\"anchor\":\"x\",\"domain\":[0.0,1.0],\"title\":{\"text\":\"Fishing Exports\"}},\"coloraxis\":{\"colorbar\":{\"title\":{\"text\":\"features\"}},\"colorscale\":[[0.0,\"#0d0887\"],[0.1111111111111111,\"#46039f\"],[0.2222222222222222,\"#7201a8\"],[0.3333333333333333,\"#9c179e\"],[0.4444444444444444,\"#bd3786\"],[0.5555555555555556,\"#d8576b\"],[0.6666666666666666,\"#ed7953\"],[0.7777777777777778,\"#fb9f3a\"],[0.8888888888888888,\"#fdca26\"],[1.0,\"#f0f921\"]]},\"legend\":{\"tracegroupgap\":0},\"margin\":{\"t\":60},\"title\":{\"text\":\"K-means Clustering with 2 Features\"}},                        {\"responsive\": true}                    ).then(function(){\n",
       "                            \n",
       "var gd = document.getElementById('7f74a793-183e-4678-afc5-13d42a1acdda');\n",
       "var x = new MutationObserver(function (mutations, observer) {{\n",
       "        var display = window.getComputedStyle(gd).display;\n",
       "        if (!display || display === 'none') {{\n",
       "            console.log([gd, 'removed!']);\n",
       "            Plotly.purge(gd);\n",
       "            observer.disconnect();\n",
       "        }}\n",
       "}});\n",
       "\n",
       "// Listen for the removal of the full notebook cells\n",
       "var notebookContainer = gd.closest('#notebook-container');\n",
       "if (notebookContainer) {{\n",
       "    x.observe(notebookContainer, {childList: true});\n",
       "}}\n",
       "\n",
       "// Listen for the clearing of the current output cell\n",
       "var outputEl = gd.closest('.output');\n",
       "if (outputEl) {{\n",
       "    x.observe(outputEl, {childList: true});\n",
       "}}\n",
       "\n",
       "                        })                };                });            </script>        </div>"
      ]
     },
     "metadata": {},
     "output_type": "display_data"
    }
   ],
   "source": [
    "#| code-fold: true\n",
    "kmeans_pca = KMeans(n_clusters=3, random_state=42)\n",
    "kmeans_pca.fit(data_standardized)\n",
    "data_standardized['features'] = kmeans_pca.labels_\n",
    "\n",
    "\n",
    "hover_data = data_standardized[['Country']]\n",
    "\n",
    "fig = px.scatter(data_standardized, x='Marine Protected Area (sqkm)', y='Fishing Exports (Millions)', color='features', hover_data=hover_data\n",
    "                 )\n",
    "\n",
    "fig.update_layout(title='K-means Clustering with 2 Features', xaxis_title='Marine Protected Area', yaxis_title='Fishing Exports')\n",
    "fig.show()"
   ]
  },
  {
   "cell_type": "markdown",
   "metadata": {},
   "source": [
    "## DBSCAN Clustering\n",
    "\n",
    "Next, I will be utilizing DBSCAN clustering. \n",
    "Before running dbscan I wanted to look closer into the estimated number of clusters and estimated noise.\n",
    "\n",
    "### Clusters DBSCAN\n",
    "\n",
    "Below I am providing the count of points within each cluster. The cluster labeled -1 stands for noise. "
   ]
  },
  {
   "cell_type": "code",
   "execution_count": 601,
   "metadata": {},
   "outputs": [
    {
     "data": {
      "text/html": [
       "<div>\n",
       "<style scoped>\n",
       "    .dataframe tbody tr th:only-of-type {\n",
       "        vertical-align: middle;\n",
       "    }\n",
       "\n",
       "    .dataframe tbody tr th {\n",
       "        vertical-align: top;\n",
       "    }\n",
       "\n",
       "    .dataframe thead th {\n",
       "        text-align: right;\n",
       "    }\n",
       "</style>\n",
       "<table border=\"1\" class=\"dataframe\">\n",
       "  <thead>\n",
       "    <tr style=\"text-align: right;\">\n",
       "      <th></th>\n",
       "      <th>count</th>\n",
       "    </tr>\n",
       "    <tr>\n",
       "      <th>Cluster_DBSCAN</th>\n",
       "      <th></th>\n",
       "    </tr>\n",
       "  </thead>\n",
       "  <tbody>\n",
       "    <tr>\n",
       "      <th>-1</th>\n",
       "      <td>340</td>\n",
       "    </tr>\n",
       "    <tr>\n",
       "      <th>1</th>\n",
       "      <td>134</td>\n",
       "    </tr>\n",
       "    <tr>\n",
       "      <th>0</th>\n",
       "      <td>24</td>\n",
       "    </tr>\n",
       "    <tr>\n",
       "      <th>2</th>\n",
       "      <td>18</td>\n",
       "    </tr>\n",
       "  </tbody>\n",
       "</table>\n",
       "</div>"
      ],
      "text/plain": [
       "                count\n",
       "Cluster_DBSCAN       \n",
       "-1                340\n",
       " 1                134\n",
       " 0                 24\n",
       " 2                 18"
      ]
     },
     "execution_count": 601,
     "metadata": {},
     "output_type": "execute_result"
    }
   ],
   "source": [
    "#| code-fold: true\n",
    "db = pd.read_csv(\"/Users/kendallgilbert/dsan-5000-project-kendallgilbert180/dsan-website/5000-website/data/01-modified-data/nb_record.csv\")\n",
    "label_encoder = LabelEncoder()\n",
    "db['Country'] = label_encoder.fit_transform(db['Country'])\n",
    "\n",
    "features_to_standardize = ['Aqua Production (Millions)', 'Marine Protected Area (sqkm)', 'Inventions (number)', 'Instruments (number)', 'Fishing Exports (Millions)', 'Value', 'Country']\n",
    "data_subset = db[features_to_standardize]\n",
    "scaler = StandardScaler()\n",
    "db = scaler.fit_transform(data_subset)\n",
    "db = pd.DataFrame(db, columns=features_to_standardize)\n",
    "\n",
    "\n",
    "import seaborn as sns\n",
    "clustering = DBSCAN(eps=0.5, min_samples=15).fit(db)\n",
    "labels = clustering.labels_\n",
    "db.loc[:,'Cluster_DBSCAN'] = clustering.labels_ \n",
    "db.Cluster_DBSCAN.value_counts().to_frame()\n",
    "\n"
   ]
  },
  {
   "cell_type": "markdown",
   "metadata": {},
   "source": [
    "### Estimated number of clusters and noise"
   ]
  },
  {
   "cell_type": "code",
   "execution_count": 602,
   "metadata": {},
   "outputs": [
    {
     "name": "stdout",
     "output_type": "stream",
     "text": [
      "Estimated number of clusters: 3\n",
      "Estimated number of noise points: 340\n"
     ]
    }
   ],
   "source": [
    "#| code-fold: true\n",
    "n_clusters_ = len(set(db['Cluster_DBSCAN'])) - (1 if -1 in db['Cluster_DBSCAN'].values else 0)\n",
    "n_noise_ = (db['Cluster_DBSCAN'] == -1).sum()\n",
    "\n",
    "print(\"Estimated number of clusters: %d\" % n_clusters_)\n",
    "print(\"Estimated number of noise points: %d\" % n_noise_)"
   ]
  },
  {
   "cell_type": "code",
   "execution_count": 603,
   "metadata": {},
   "outputs": [
    {
     "data": {
      "text/html": [
       "<div>\n",
       "<style scoped>\n",
       "    .dataframe tbody tr th:only-of-type {\n",
       "        vertical-align: middle;\n",
       "    }\n",
       "\n",
       "    .dataframe tbody tr th {\n",
       "        vertical-align: top;\n",
       "    }\n",
       "\n",
       "    .dataframe thead th {\n",
       "        text-align: right;\n",
       "    }\n",
       "</style>\n",
       "<table border=\"1\" class=\"dataframe\">\n",
       "  <thead>\n",
       "    <tr style=\"text-align: right;\">\n",
       "      <th></th>\n",
       "      <th>Aqua Production (Millions)</th>\n",
       "      <th>Marine Protected Area (sqkm)</th>\n",
       "      <th>Inventions (number)</th>\n",
       "      <th>Instruments (number)</th>\n",
       "      <th>Fishing Exports (Millions)</th>\n",
       "      <th>Value</th>\n",
       "      <th>Country</th>\n",
       "      <th>Cluster_DBSCAN</th>\n",
       "    </tr>\n",
       "  </thead>\n",
       "  <tbody>\n",
       "    <tr>\n",
       "      <th>0</th>\n",
       "      <td>0.679748</td>\n",
       "      <td>-0.216403</td>\n",
       "      <td>-0.255849</td>\n",
       "      <td>0.128004</td>\n",
       "      <td>-0.179730</td>\n",
       "      <td>-0.246968</td>\n",
       "      <td>-0.805823</td>\n",
       "      <td>-1</td>\n",
       "    </tr>\n",
       "    <tr>\n",
       "      <th>1</th>\n",
       "      <td>-0.369917</td>\n",
       "      <td>-0.279476</td>\n",
       "      <td>-0.331231</td>\n",
       "      <td>-1.113538</td>\n",
       "      <td>-0.548519</td>\n",
       "      <td>-0.751243</td>\n",
       "      <td>-0.725241</td>\n",
       "      <td>0</td>\n",
       "    </tr>\n",
       "    <tr>\n",
       "      <th>2</th>\n",
       "      <td>-0.301377</td>\n",
       "      <td>-0.200619</td>\n",
       "      <td>-0.182663</td>\n",
       "      <td>0.872929</td>\n",
       "      <td>0.563609</td>\n",
       "      <td>-0.503371</td>\n",
       "      <td>-0.644658</td>\n",
       "      <td>-1</td>\n",
       "    </tr>\n",
       "    <tr>\n",
       "      <th>3</th>\n",
       "      <td>-0.345421</td>\n",
       "      <td>-0.000724</td>\n",
       "      <td>-0.326903</td>\n",
       "      <td>-0.120304</td>\n",
       "      <td>0.168121</td>\n",
       "      <td>0.151617</td>\n",
       "      <td>-0.564076</td>\n",
       "      <td>-1</td>\n",
       "    </tr>\n",
       "    <tr>\n",
       "      <th>4</th>\n",
       "      <td>-0.288119</td>\n",
       "      <td>-0.249281</td>\n",
       "      <td>-0.333362</td>\n",
       "      <td>-1.113538</td>\n",
       "      <td>-0.674262</td>\n",
       "      <td>-0.751243</td>\n",
       "      <td>-0.483494</td>\n",
       "      <td>0</td>\n",
       "    </tr>\n",
       "  </tbody>\n",
       "</table>\n",
       "</div>"
      ],
      "text/plain": [
       "   Aqua Production (Millions)  Marine Protected Area (sqkm)  \\\n",
       "0                    0.679748                     -0.216403   \n",
       "1                   -0.369917                     -0.279476   \n",
       "2                   -0.301377                     -0.200619   \n",
       "3                   -0.345421                     -0.000724   \n",
       "4                   -0.288119                     -0.249281   \n",
       "\n",
       "   Inventions (number)  Instruments (number)  Fishing Exports (Millions)  \\\n",
       "0            -0.255849              0.128004                   -0.179730   \n",
       "1            -0.331231             -1.113538                   -0.548519   \n",
       "2            -0.182663              0.872929                    0.563609   \n",
       "3            -0.326903             -0.120304                    0.168121   \n",
       "4            -0.333362             -1.113538                   -0.674262   \n",
       "\n",
       "      Value   Country  Cluster_DBSCAN  \n",
       "0 -0.246968 -0.805823              -1  \n",
       "1 -0.751243 -0.725241               0  \n",
       "2 -0.503371 -0.644658              -1  \n",
       "3  0.151617 -0.564076              -1  \n",
       "4 -0.751243 -0.483494               0  "
      ]
     },
     "execution_count": 603,
     "metadata": {},
     "output_type": "execute_result"
    }
   ],
   "source": [
    "db.head(5)"
   ]
  },
  {
   "cell_type": "code",
   "execution_count": 604,
   "metadata": {},
   "outputs": [
    {
     "data": {
      "application/vnd.plotly.v1+json": {
       "config": {
        "plotlyServerURL": "https://plot.ly"
       },
       "data": [
        {
         "customdata": [
          [
           -0.7252406676228422
          ],
          [
           -0.48349377841522817
          ],
          [
           -0.24174688920761409
          ],
          [
           -0.08058229640253803
          ],
          [
           0.08058229640253803
          ],
          [
           0.16116459280507606
          ],
          [
           0.24174688920761409
          ],
          [
           0.4029114820126901
          ],
          [
           0.6446583712203042
          ],
          [
           0.7252406676228422
          ],
          [
           0.8058229640253802
          ],
          [
           0.8864052604279183
          ],
          [
           0.9669875568304563
          ],
          [
           1.1281521496355325
          ],
          [
           1.2893167424406085
          ],
          [
           1.5310636316482225
          ],
          [
           -0.7252406676228422
          ],
          [
           -0.48349377841522817
          ],
          [
           -0.08058229640253803
          ],
          [
           0.08058229640253803
          ],
          [
           0.16116459280507606
          ],
          [
           0.24174688920761409
          ],
          [
           0.4029114820126901
          ],
          [
           0.6446583712203042
          ],
          [
           0.7252406676228422
          ],
          [
           0.8058229640253802
          ],
          [
           0.9669875568304563
          ],
          [
           1.1281521496355325
          ],
          [
           1.2087344460380705
          ],
          [
           1.2893167424406085
          ],
          [
           1.4504813352456845
          ],
          [
           1.5310636316482225
          ],
          [
           -1.1281521496355325
          ],
          [
           -0.7252406676228422
          ],
          [
           -0.48349377841522817
          ],
          [
           0.08058229640253803
          ],
          [
           0.16116459280507606
          ],
          [
           0.24174688920761409
          ],
          [
           0.4029114820126901
          ],
          [
           0.6446583712203042
          ],
          [
           0.7252406676228422
          ],
          [
           0.8058229640253802
          ],
          [
           1.1281521496355325
          ],
          [
           1.2087344460380705
          ],
          [
           1.2893167424406085
          ],
          [
           1.5310636316482225
          ],
          [
           -1.2893167424406085
          ],
          [
           -1.1281521496355325
          ],
          [
           -0.7252406676228422
          ],
          [
           -0.48349377841522817
          ],
          [
           0.08058229640253803
          ],
          [
           0.16116459280507606
          ],
          [
           0.24174688920761409
          ],
          [
           0.4029114820126901
          ],
          [
           0.6446583712203042
          ],
          [
           0.7252406676228422
          ],
          [
           0.8058229640253802
          ],
          [
           1.1281521496355325
          ],
          [
           1.2087344460380705
          ],
          [
           1.2893167424406085
          ],
          [
           1.5310636316482225
          ],
          [
           -1.2893167424406085
          ],
          [
           -1.1281521496355325
          ],
          [
           -0.7252406676228422
          ],
          [
           -0.48349377841522817
          ],
          [
           0.08058229640253803
          ],
          [
           0.16116459280507606
          ],
          [
           0.24174688920761409
          ],
          [
           0.4029114820126901
          ],
          [
           0.6446583712203042
          ],
          [
           0.7252406676228422
          ],
          [
           0.8058229640253802
          ],
          [
           1.1281521496355325
          ],
          [
           1.2087344460380705
          ],
          [
           1.2893167424406085
          ],
          [
           1.5310636316482225
          ],
          [
           -1.2893167424406085
          ],
          [
           -1.1281521496355325
          ],
          [
           -0.7252406676228422
          ],
          [
           -0.48349377841522817
          ],
          [
           0.08058229640253803
          ],
          [
           0.16116459280507606
          ],
          [
           0.24174688920761409
          ],
          [
           0.4029114820126901
          ],
          [
           0.6446583712203042
          ],
          [
           0.7252406676228422
          ],
          [
           0.8058229640253802
          ],
          [
           1.1281521496355325
          ],
          [
           1.2087344460380705
          ],
          [
           1.2893167424406085
          ],
          [
           1.5310636316482225
          ],
          [
           -1.2893167424406085
          ],
          [
           -1.1281521496355325
          ],
          [
           -0.7252406676228422
          ],
          [
           -0.48349377841522817
          ],
          [
           0.08058229640253803
          ],
          [
           0.16116459280507606
          ],
          [
           0.24174688920761409
          ],
          [
           0.4029114820126901
          ],
          [
           0.6446583712203042
          ],
          [
           0.7252406676228422
          ],
          [
           0.8058229640253802
          ],
          [
           1.1281521496355325
          ],
          [
           1.2087344460380705
          ],
          [
           1.2893167424406085
          ],
          [
           1.5310636316482225
          ],
          [
           -1.2893167424406085
          ],
          [
           -1.1281521496355325
          ],
          [
           -0.7252406676228422
          ],
          [
           -0.48349377841522817
          ],
          [
           0.08058229640253803
          ],
          [
           0.16116459280507606
          ],
          [
           0.24174688920761409
          ],
          [
           0.4029114820126901
          ],
          [
           0.6446583712203042
          ],
          [
           0.7252406676228422
          ],
          [
           0.8058229640253802
          ],
          [
           1.1281521496355325
          ],
          [
           1.2087344460380705
          ],
          [
           1.2893167424406085
          ],
          [
           1.5310636316482225
          ],
          [
           -1.2893167424406085
          ],
          [
           -1.1281521496355325
          ],
          [
           -0.7252406676228422
          ],
          [
           -0.48349377841522817
          ],
          [
           0.08058229640253803
          ],
          [
           0.16116459280507606
          ],
          [
           0.24174688920761409
          ],
          [
           0.4029114820126901
          ],
          [
           0.6446583712203042
          ],
          [
           0.7252406676228422
          ],
          [
           1.1281521496355325
          ],
          [
           1.2087344460380705
          ],
          [
           1.2893167424406085
          ],
          [
           1.5310636316482225
          ],
          [
           -1.2893167424406085
          ],
          [
           -1.1281521496355325
          ],
          [
           -0.7252406676228422
          ],
          [
           -0.48349377841522817
          ],
          [
           0.08058229640253803
          ],
          [
           0.16116459280507606
          ],
          [
           0.24174688920761409
          ],
          [
           0.4029114820126901
          ],
          [
           0.6446583712203042
          ],
          [
           0.7252406676228422
          ],
          [
           1.1281521496355325
          ],
          [
           1.2087344460380705
          ],
          [
           1.2893167424406085
          ],
          [
           1.5310636316482225
          ],
          [
           -1.1281521496355325
          ],
          [
           -0.7252406676228422
          ],
          [
           -0.48349377841522817
          ],
          [
           0.08058229640253803
          ],
          [
           0.16116459280507606
          ],
          [
           0.24174688920761409
          ],
          [
           0.4029114820126901
          ],
          [
           0.6446583712203042
          ],
          [
           0.7252406676228422
          ],
          [
           1.1281521496355325
          ],
          [
           1.2087344460380705
          ],
          [
           1.2893167424406085
          ],
          [
           1.5310636316482225
          ],
          [
           -1.1281521496355325
          ],
          [
           -0.7252406676228422
          ],
          [
           -0.48349377841522817
          ],
          [
           0.08058229640253803
          ],
          [
           0.16116459280507606
          ],
          [
           0.24174688920761409
          ],
          [
           0.4029114820126901
          ],
          [
           0.6446583712203042
          ],
          [
           0.7252406676228422
          ],
          [
           1.1281521496355325
          ],
          [
           1.2087344460380705
          ],
          [
           1.2893167424406085
          ],
          [
           1.5310636316482225
          ],
          [
           -1.1281521496355325
          ]
         ],
         "hovertemplate": "t-SNE Component 1=%{x}<br>t-SNE Component 2=%{y}<br>Country=%{customdata[0]}<br>DBSCAN Cluster=%{marker.color}<extra></extra>",
         "legendgroup": "",
         "marker": {
          "color": [
           0,
           0,
           1,
           1,
           1,
           1,
           1,
           1,
           1,
           1,
           1,
           1,
           1,
           1,
           1,
           1,
           0,
           0,
           1,
           1,
           1,
           1,
           1,
           1,
           1,
           1,
           1,
           1,
           1,
           1,
           1,
           1,
           2,
           0,
           0,
           1,
           1,
           1,
           1,
           1,
           1,
           1,
           1,
           1,
           1,
           1,
           2,
           2,
           0,
           0,
           1,
           1,
           1,
           1,
           1,
           1,
           1,
           1,
           1,
           1,
           1,
           2,
           2,
           0,
           0,
           1,
           1,
           1,
           1,
           1,
           1,
           1,
           1,
           1,
           1,
           1,
           2,
           2,
           0,
           0,
           1,
           1,
           1,
           1,
           1,
           1,
           1,
           1,
           1,
           1,
           1,
           2,
           2,
           0,
           0,
           1,
           1,
           1,
           1,
           1,
           1,
           1,
           1,
           1,
           1,
           1,
           2,
           2,
           0,
           0,
           1,
           1,
           1,
           1,
           1,
           1,
           1,
           1,
           1,
           1,
           1,
           2,
           2,
           0,
           0,
           1,
           1,
           1,
           1,
           1,
           1,
           1,
           1,
           1,
           1,
           2,
           2,
           0,
           0,
           1,
           1,
           1,
           1,
           1,
           1,
           1,
           1,
           1,
           1,
           2,
           0,
           0,
           1,
           1,
           1,
           1,
           1,
           1,
           1,
           1,
           1,
           1,
           2,
           0,
           0,
           1,
           1,
           1,
           1,
           1,
           1,
           1,
           1,
           1,
           1,
           2
          ],
          "coloraxis": "coloraxis",
          "opacity": 0.7,
          "symbol": "circle"
         },
         "mode": "markers",
         "name": "",
         "orientation": "v",
         "showlegend": false,
         "type": "scatter",
         "x": [
          21.97382926940918,
          21.575742721557617,
          2.7474563121795654,
          1.959341287612915,
          1.8440630435943604,
          2.811741590499878,
          1.7265572547912598,
          0.36014389991760254,
          -0.9146400094032288,
          -4.097238540649414,
          -5.443765163421631,
          -7.024922847747803,
          -6.713411331176758,
          -8.930015563964844,
          -9.372660636901855,
          -11.095380783081055,
          21.48758888244629,
          21.05896759033203,
          1.8155807256698608,
          1.8432140350341797,
          2.726388692855835,
          1.3841454982757568,
          -0.4722188115119934,
          -1.9842339754104614,
          -3.447169303894043,
          -5.156523704528809,
          -6.367324352264404,
          -8.552066802978516,
          -9.178776741027832,
          -9.874788284301758,
          -12.363968849182129,
          -10.912435531616211,
          5.385950088500977,
          21.467182159423828,
          21.461509704589844,
          1.2924264669418335,
          3.414532423019409,
          1.2353559732437134,
          -1.1622785329818726,
          -3.053765058517456,
          -3.4008843898773193,
          -5.245631694793701,
          -7.844087600708008,
          -8.995856285095215,
          -10.665525436401367,
          -10.879484176635742,
          4.819007396697998,
          5.3457159996032715,
          22.299318313598633,
          21.468481063842773,
          1.1104552745819092,
          3.654897451400757,
          1.0852515697479248,
          -0.9306305050849915,
          -2.812635660171509,
          -3.628751754760742,
          -5.602504253387451,
          -7.7280144691467285,
          -8.806717872619629,
          -10.66446590423584,
          -10.7928466796875,
          4.070906639099121,
          4.542983055114746,
          21.655654907226562,
          21.468994140625,
          1.1992294788360596,
          3.6913974285125732,
          1.4825137853622437,
          -0.8730219006538391,
          -2.9353060722351074,
          -3.6278371810913086,
          -5.546181678771973,
          -7.592240810394287,
          -8.76747989654541,
          -11.325531005859375,
          -11.079435348510742,
          4.149887561798096,
          5.035280227661133,
          21.429203033447266,
          21.297948837280273,
          1.2175116539001465,
          3.631873846054077,
          1.3782336711883545,
          -1.2907860279083252,
          -2.9452574253082275,
          -3.424985408782959,
          -5.499558448791504,
          -7.397308349609375,
          -8.766568183898926,
          -11.325060844421387,
          -11.031234741210938,
          4.203811168670654,
          5.270001411437988,
          22.249401092529297,
          20.7495174407959,
          1.7727508544921875,
          3.3325579166412354,
          1.4255932569503784,
          -1.0707368850708008,
          -2.625995397567749,
          -3.5428812503814697,
          -5.549977779388428,
          -7.177494525909424,
          -8.593390464782715,
          -11.302681922912598,
          -10.533079147338867,
          4.619656562805176,
          5.225363254547119,
          22.237709045410156,
          20.757526397705078,
          1.8520032167434692,
          3.424835681915283,
          1.3930972814559937,
          -1.076826810836792,
          -2.364379644393921,
          -4.467968463897705,
          -5.522338390350342,
          -7.099330902099609,
          -8.364373207092285,
          -11.311503410339355,
          -10.557734489440918,
          4.557147026062012,
          4.6331787109375,
          22.122465133666992,
          20.75166893005371,
          1.7527148723602295,
          3.0387301445007324,
          1.4064772129058838,
          -0.6983304619789124,
          -2.364271879196167,
          -4.392701148986816,
          -6.826218605041504,
          -8.351076126098633,
          -11.167994499206543,
          -10.615184783935547,
          4.04587984085083,
          4.442455768585205,
          22.01980972290039,
          20.85529327392578,
          1.608817458152771,
          2.7827110290527344,
          1.5030895471572876,
          -1.097660779953003,
          -2.416459560394287,
          -4.43442964553833,
          -6.7034687995910645,
          -8.175827980041504,
          -11.164632797241211,
          -10.547621726989746,
          4.801250457763672,
          21.615215301513672,
          20.734149932861328,
          1.270932912826538,
          3.0446956157684326,
          1.4753748178482056,
          -0.7490747570991516,
          -2.501269578933716,
          -4.394222259521484,
          -6.54275369644165,
          -8.151890754699707,
          -11.16240406036377,
          -10.302499771118164,
          5.049180030822754,
          22.238920211791992,
          20.57728385925293,
          1.5681766271591187,
          3.2276346683502197,
          1.397215485572815,
          -0.6299051642417908,
          -2.57393741607666,
          -4.488804340362549,
          -6.484697341918945,
          -8.185258865356445,
          -11.158183097839355,
          -10.235755920410156,
          5.033294677734375
         ],
         "xaxis": "x",
         "y": [
          6.95478630065918,
          7.575756072998047,
          6.891496181488037,
          1.9149774312973022,
          7.3364973068237305,
          -0.6010415554046631,
          5.656960487365723,
          9.015064239501953,
          11.319578170776367,
          15.203539848327637,
          17.41656494140625,
          17.32744789123535,
          18.21640968322754,
          23.120485305786133,
          23.811159133911133,
          23.67447853088379,
          6.294297218322754,
          7.536563396453857,
          -3.9864277839660645,
          7.508047103881836,
          -0.30234235525131226,
          6.593081951141357,
          9.18728256225586,
          14.074067115783691,
          15.055412292480469,
          17.501754760742188,
          18.73736572265625,
          23.190841674804688,
          18.7335262298584,
          23.209091186523438,
          19.440763473510742,
          23.805744171142578,
          -25.620513916015625,
          6.173372745513916,
          7.963454723358154,
          7.515261173248291,
          0.04150283709168434,
          5.094750881195068,
          9.062408447265625,
          14.629386901855469,
          15.569930076599121,
          17.683265686035156,
          23.298858642578125,
          21.291189193725586,
          21.682666778564453,
          23.841997146606445,
          -24.375818252563477,
          -25.67150115966797,
          6.392269611358643,
          7.986323833465576,
          7.643367290496826,
          -0.3180863559246063,
          5.399403095245361,
          9.141592979431152,
          14.604432106018066,
          15.18138313293457,
          17.85020637512207,
          23.299968719482422,
          21.23874282836914,
          21.682857513427734,
          23.923290252685547,
          -25.261962890625,
          -25.505136489868164,
          6.562582969665527,
          7.985807418823242,
          7.730569839477539,
          -0.42381173372268677,
          3.428055763244629,
          9.18810749053955,
          14.725793838500977,
          15.199108123779297,
          17.876914978027344,
          23.36115074157715,
          21.26401138305664,
          20.596961975097656,
          24.1300048828125,
          -24.828842163085938,
          -25.304492950439453,
          6.396223068237305,
          8.161673545837402,
          7.657312393188477,
          -0.5071812868118286,
          3.6235899925231934,
          8.900702476501465,
          14.80894947052002,
          15.593942642211914,
          17.858259201049805,
          23.413677215576172,
          21.248626708984375,
          20.596765518188477,
          24.268798828125,
          -24.757396697998047,
          -25.25560188293457,
          6.716928958892822,
          7.488141059875488,
          7.810661792755127,
          0.0015190504491329193,
          3.5304415225982666,
          8.696824073791504,
          15.427167892456055,
          15.634566307067871,
          17.914644241333008,
          23.53362274169922,
          21.35434341430664,
          20.52741050720215,
          24.253480911254883,
          -24.721731185913086,
          -25.23784828186035,
          6.39466667175293,
          7.489303112030029,
          7.936195373535156,
          -0.112357497215271,
          3.5286664962768555,
          8.616829872131348,
          14.871747016906738,
          14.160174369812012,
          18.03296661376953,
          23.39792823791504,
          21.43716049194336,
          20.528894424438477,
          24.417903900146484,
          -24.715532302856445,
          -25.48138999938965,
          6.076392650604248,
          7.473147392272949,
          8.129027366638184,
          0.05859433487057686,
          3.5490264892578125,
          8.758157730102539,
          14.910000801086426,
          14.104287147521973,
          23.60789680480957,
          21.00400733947754,
          20.44392204284668,
          24.624162673950195,
          -24.972618103027344,
          -25.948640823364258,
          5.917866230010986,
          8.225964546203613,
          8.187463760375977,
          -0.047995395958423615,
          3.3968913555145264,
          8.584688186645508,
          15.157242774963379,
          14.123464584350586,
          23.65436363220215,
          21.112131118774414,
          20.36484718322754,
          24.791467666625977,
          -26.074424743652344,
          6.037160396575928,
          8.126694679260254,
          8.10006332397461,
          -0.4010434150695801,
          3.466620445251465,
          8.644343376159668,
          15.380327224731445,
          14.09524917602539,
          23.69036293029785,
          21.113948822021484,
          20.363996505737305,
          24.985849380493164,
          -26.161373138427734,
          6.749443054199219,
          7.946601867675781,
          8.2218599319458,
          -0.5616834163665771,
          3.537306785583496,
          8.971585273742676,
          15.42055892944336,
          14.162376403808594,
          23.707923889160156,
          21.26140022277832,
          20.316999435424805,
          25.10346221923828,
          -26.15620994567871
         ],
         "yaxis": "y"
        }
       ],
       "layout": {
        "coloraxis": {
         "colorbar": {
          "title": {
           "text": "DBSCAN Cluster"
          }
         },
         "colorscale": [
          [
           0,
           "#0d0887"
          ],
          [
           0.1111111111111111,
           "#46039f"
          ],
          [
           0.2222222222222222,
           "#7201a8"
          ],
          [
           0.3333333333333333,
           "#9c179e"
          ],
          [
           0.4444444444444444,
           "#bd3786"
          ],
          [
           0.5555555555555556,
           "#d8576b"
          ],
          [
           0.6666666666666666,
           "#ed7953"
          ],
          [
           0.7777777777777778,
           "#fb9f3a"
          ],
          [
           0.8888888888888888,
           "#fdca26"
          ],
          [
           1,
           "#f0f921"
          ]
         ]
        },
        "legend": {
         "tracegroupgap": 0
        },
        "template": {
         "data": {
          "bar": [
           {
            "error_x": {
             "color": "#2a3f5f"
            },
            "error_y": {
             "color": "#2a3f5f"
            },
            "marker": {
             "line": {
              "color": "#E5ECF6",
              "width": 0.5
             },
             "pattern": {
              "fillmode": "overlay",
              "size": 10,
              "solidity": 0.2
             }
            },
            "type": "bar"
           }
          ],
          "barpolar": [
           {
            "marker": {
             "line": {
              "color": "#E5ECF6",
              "width": 0.5
             },
             "pattern": {
              "fillmode": "overlay",
              "size": 10,
              "solidity": 0.2
             }
            },
            "type": "barpolar"
           }
          ],
          "carpet": [
           {
            "aaxis": {
             "endlinecolor": "#2a3f5f",
             "gridcolor": "white",
             "linecolor": "white",
             "minorgridcolor": "white",
             "startlinecolor": "#2a3f5f"
            },
            "baxis": {
             "endlinecolor": "#2a3f5f",
             "gridcolor": "white",
             "linecolor": "white",
             "minorgridcolor": "white",
             "startlinecolor": "#2a3f5f"
            },
            "type": "carpet"
           }
          ],
          "choropleth": [
           {
            "colorbar": {
             "outlinewidth": 0,
             "ticks": ""
            },
            "type": "choropleth"
           }
          ],
          "contour": [
           {
            "colorbar": {
             "outlinewidth": 0,
             "ticks": ""
            },
            "colorscale": [
             [
              0,
              "#0d0887"
             ],
             [
              0.1111111111111111,
              "#46039f"
             ],
             [
              0.2222222222222222,
              "#7201a8"
             ],
             [
              0.3333333333333333,
              "#9c179e"
             ],
             [
              0.4444444444444444,
              "#bd3786"
             ],
             [
              0.5555555555555556,
              "#d8576b"
             ],
             [
              0.6666666666666666,
              "#ed7953"
             ],
             [
              0.7777777777777778,
              "#fb9f3a"
             ],
             [
              0.8888888888888888,
              "#fdca26"
             ],
             [
              1,
              "#f0f921"
             ]
            ],
            "type": "contour"
           }
          ],
          "contourcarpet": [
           {
            "colorbar": {
             "outlinewidth": 0,
             "ticks": ""
            },
            "type": "contourcarpet"
           }
          ],
          "heatmap": [
           {
            "colorbar": {
             "outlinewidth": 0,
             "ticks": ""
            },
            "colorscale": [
             [
              0,
              "#0d0887"
             ],
             [
              0.1111111111111111,
              "#46039f"
             ],
             [
              0.2222222222222222,
              "#7201a8"
             ],
             [
              0.3333333333333333,
              "#9c179e"
             ],
             [
              0.4444444444444444,
              "#bd3786"
             ],
             [
              0.5555555555555556,
              "#d8576b"
             ],
             [
              0.6666666666666666,
              "#ed7953"
             ],
             [
              0.7777777777777778,
              "#fb9f3a"
             ],
             [
              0.8888888888888888,
              "#fdca26"
             ],
             [
              1,
              "#f0f921"
             ]
            ],
            "type": "heatmap"
           }
          ],
          "heatmapgl": [
           {
            "colorbar": {
             "outlinewidth": 0,
             "ticks": ""
            },
            "colorscale": [
             [
              0,
              "#0d0887"
             ],
             [
              0.1111111111111111,
              "#46039f"
             ],
             [
              0.2222222222222222,
              "#7201a8"
             ],
             [
              0.3333333333333333,
              "#9c179e"
             ],
             [
              0.4444444444444444,
              "#bd3786"
             ],
             [
              0.5555555555555556,
              "#d8576b"
             ],
             [
              0.6666666666666666,
              "#ed7953"
             ],
             [
              0.7777777777777778,
              "#fb9f3a"
             ],
             [
              0.8888888888888888,
              "#fdca26"
             ],
             [
              1,
              "#f0f921"
             ]
            ],
            "type": "heatmapgl"
           }
          ],
          "histogram": [
           {
            "marker": {
             "pattern": {
              "fillmode": "overlay",
              "size": 10,
              "solidity": 0.2
             }
            },
            "type": "histogram"
           }
          ],
          "histogram2d": [
           {
            "colorbar": {
             "outlinewidth": 0,
             "ticks": ""
            },
            "colorscale": [
             [
              0,
              "#0d0887"
             ],
             [
              0.1111111111111111,
              "#46039f"
             ],
             [
              0.2222222222222222,
              "#7201a8"
             ],
             [
              0.3333333333333333,
              "#9c179e"
             ],
             [
              0.4444444444444444,
              "#bd3786"
             ],
             [
              0.5555555555555556,
              "#d8576b"
             ],
             [
              0.6666666666666666,
              "#ed7953"
             ],
             [
              0.7777777777777778,
              "#fb9f3a"
             ],
             [
              0.8888888888888888,
              "#fdca26"
             ],
             [
              1,
              "#f0f921"
             ]
            ],
            "type": "histogram2d"
           }
          ],
          "histogram2dcontour": [
           {
            "colorbar": {
             "outlinewidth": 0,
             "ticks": ""
            },
            "colorscale": [
             [
              0,
              "#0d0887"
             ],
             [
              0.1111111111111111,
              "#46039f"
             ],
             [
              0.2222222222222222,
              "#7201a8"
             ],
             [
              0.3333333333333333,
              "#9c179e"
             ],
             [
              0.4444444444444444,
              "#bd3786"
             ],
             [
              0.5555555555555556,
              "#d8576b"
             ],
             [
              0.6666666666666666,
              "#ed7953"
             ],
             [
              0.7777777777777778,
              "#fb9f3a"
             ],
             [
              0.8888888888888888,
              "#fdca26"
             ],
             [
              1,
              "#f0f921"
             ]
            ],
            "type": "histogram2dcontour"
           }
          ],
          "mesh3d": [
           {
            "colorbar": {
             "outlinewidth": 0,
             "ticks": ""
            },
            "type": "mesh3d"
           }
          ],
          "parcoords": [
           {
            "line": {
             "colorbar": {
              "outlinewidth": 0,
              "ticks": ""
             }
            },
            "type": "parcoords"
           }
          ],
          "pie": [
           {
            "automargin": true,
            "type": "pie"
           }
          ],
          "scatter": [
           {
            "fillpattern": {
             "fillmode": "overlay",
             "size": 10,
             "solidity": 0.2
            },
            "type": "scatter"
           }
          ],
          "scatter3d": [
           {
            "line": {
             "colorbar": {
              "outlinewidth": 0,
              "ticks": ""
             }
            },
            "marker": {
             "colorbar": {
              "outlinewidth": 0,
              "ticks": ""
             }
            },
            "type": "scatter3d"
           }
          ],
          "scattercarpet": [
           {
            "marker": {
             "colorbar": {
              "outlinewidth": 0,
              "ticks": ""
             }
            },
            "type": "scattercarpet"
           }
          ],
          "scattergeo": [
           {
            "marker": {
             "colorbar": {
              "outlinewidth": 0,
              "ticks": ""
             }
            },
            "type": "scattergeo"
           }
          ],
          "scattergl": [
           {
            "marker": {
             "colorbar": {
              "outlinewidth": 0,
              "ticks": ""
             }
            },
            "type": "scattergl"
           }
          ],
          "scattermapbox": [
           {
            "marker": {
             "colorbar": {
              "outlinewidth": 0,
              "ticks": ""
             }
            },
            "type": "scattermapbox"
           }
          ],
          "scatterpolar": [
           {
            "marker": {
             "colorbar": {
              "outlinewidth": 0,
              "ticks": ""
             }
            },
            "type": "scatterpolar"
           }
          ],
          "scatterpolargl": [
           {
            "marker": {
             "colorbar": {
              "outlinewidth": 0,
              "ticks": ""
             }
            },
            "type": "scatterpolargl"
           }
          ],
          "scatterternary": [
           {
            "marker": {
             "colorbar": {
              "outlinewidth": 0,
              "ticks": ""
             }
            },
            "type": "scatterternary"
           }
          ],
          "surface": [
           {
            "colorbar": {
             "outlinewidth": 0,
             "ticks": ""
            },
            "colorscale": [
             [
              0,
              "#0d0887"
             ],
             [
              0.1111111111111111,
              "#46039f"
             ],
             [
              0.2222222222222222,
              "#7201a8"
             ],
             [
              0.3333333333333333,
              "#9c179e"
             ],
             [
              0.4444444444444444,
              "#bd3786"
             ],
             [
              0.5555555555555556,
              "#d8576b"
             ],
             [
              0.6666666666666666,
              "#ed7953"
             ],
             [
              0.7777777777777778,
              "#fb9f3a"
             ],
             [
              0.8888888888888888,
              "#fdca26"
             ],
             [
              1,
              "#f0f921"
             ]
            ],
            "type": "surface"
           }
          ],
          "table": [
           {
            "cells": {
             "fill": {
              "color": "#EBF0F8"
             },
             "line": {
              "color": "white"
             }
            },
            "header": {
             "fill": {
              "color": "#C8D4E3"
             },
             "line": {
              "color": "white"
             }
            },
            "type": "table"
           }
          ]
         },
         "layout": {
          "annotationdefaults": {
           "arrowcolor": "#2a3f5f",
           "arrowhead": 0,
           "arrowwidth": 1
          },
          "autotypenumbers": "strict",
          "coloraxis": {
           "colorbar": {
            "outlinewidth": 0,
            "ticks": ""
           }
          },
          "colorscale": {
           "diverging": [
            [
             0,
             "#8e0152"
            ],
            [
             0.1,
             "#c51b7d"
            ],
            [
             0.2,
             "#de77ae"
            ],
            [
             0.3,
             "#f1b6da"
            ],
            [
             0.4,
             "#fde0ef"
            ],
            [
             0.5,
             "#f7f7f7"
            ],
            [
             0.6,
             "#e6f5d0"
            ],
            [
             0.7,
             "#b8e186"
            ],
            [
             0.8,
             "#7fbc41"
            ],
            [
             0.9,
             "#4d9221"
            ],
            [
             1,
             "#276419"
            ]
           ],
           "sequential": [
            [
             0,
             "#0d0887"
            ],
            [
             0.1111111111111111,
             "#46039f"
            ],
            [
             0.2222222222222222,
             "#7201a8"
            ],
            [
             0.3333333333333333,
             "#9c179e"
            ],
            [
             0.4444444444444444,
             "#bd3786"
            ],
            [
             0.5555555555555556,
             "#d8576b"
            ],
            [
             0.6666666666666666,
             "#ed7953"
            ],
            [
             0.7777777777777778,
             "#fb9f3a"
            ],
            [
             0.8888888888888888,
             "#fdca26"
            ],
            [
             1,
             "#f0f921"
            ]
           ],
           "sequentialminus": [
            [
             0,
             "#0d0887"
            ],
            [
             0.1111111111111111,
             "#46039f"
            ],
            [
             0.2222222222222222,
             "#7201a8"
            ],
            [
             0.3333333333333333,
             "#9c179e"
            ],
            [
             0.4444444444444444,
             "#bd3786"
            ],
            [
             0.5555555555555556,
             "#d8576b"
            ],
            [
             0.6666666666666666,
             "#ed7953"
            ],
            [
             0.7777777777777778,
             "#fb9f3a"
            ],
            [
             0.8888888888888888,
             "#fdca26"
            ],
            [
             1,
             "#f0f921"
            ]
           ]
          },
          "colorway": [
           "#636efa",
           "#EF553B",
           "#00cc96",
           "#ab63fa",
           "#FFA15A",
           "#19d3f3",
           "#FF6692",
           "#B6E880",
           "#FF97FF",
           "#FECB52"
          ],
          "font": {
           "color": "#2a3f5f"
          },
          "geo": {
           "bgcolor": "white",
           "lakecolor": "white",
           "landcolor": "#E5ECF6",
           "showlakes": true,
           "showland": true,
           "subunitcolor": "white"
          },
          "hoverlabel": {
           "align": "left"
          },
          "hovermode": "closest",
          "mapbox": {
           "style": "light"
          },
          "paper_bgcolor": "white",
          "plot_bgcolor": "#E5ECF6",
          "polar": {
           "angularaxis": {
            "gridcolor": "white",
            "linecolor": "white",
            "ticks": ""
           },
           "bgcolor": "#E5ECF6",
           "radialaxis": {
            "gridcolor": "white",
            "linecolor": "white",
            "ticks": ""
           }
          },
          "scene": {
           "xaxis": {
            "backgroundcolor": "#E5ECF6",
            "gridcolor": "white",
            "gridwidth": 2,
            "linecolor": "white",
            "showbackground": true,
            "ticks": "",
            "zerolinecolor": "white"
           },
           "yaxis": {
            "backgroundcolor": "#E5ECF6",
            "gridcolor": "white",
            "gridwidth": 2,
            "linecolor": "white",
            "showbackground": true,
            "ticks": "",
            "zerolinecolor": "white"
           },
           "zaxis": {
            "backgroundcolor": "#E5ECF6",
            "gridcolor": "white",
            "gridwidth": 2,
            "linecolor": "white",
            "showbackground": true,
            "ticks": "",
            "zerolinecolor": "white"
           }
          },
          "shapedefaults": {
           "line": {
            "color": "#2a3f5f"
           }
          },
          "ternary": {
           "aaxis": {
            "gridcolor": "white",
            "linecolor": "white",
            "ticks": ""
           },
           "baxis": {
            "gridcolor": "white",
            "linecolor": "white",
            "ticks": ""
           },
           "bgcolor": "#E5ECF6",
           "caxis": {
            "gridcolor": "white",
            "linecolor": "white",
            "ticks": ""
           }
          },
          "title": {
           "x": 0.05
          },
          "xaxis": {
           "automargin": true,
           "gridcolor": "white",
           "linecolor": "white",
           "ticks": "",
           "title": {
            "standoff": 15
           },
           "zerolinecolor": "white",
           "zerolinewidth": 2
          },
          "yaxis": {
           "automargin": true,
           "gridcolor": "white",
           "linecolor": "white",
           "ticks": "",
           "title": {
            "standoff": 15
           },
           "zerolinecolor": "white",
           "zerolinewidth": 2
          }
         }
        },
        "title": {
         "text": "t-SNE Visualization of DBSCAN Clusters (excluding -1)"
        },
        "xaxis": {
         "anchor": "y",
         "domain": [
          0,
          1
         ],
         "title": {
          "text": "t-SNE Component 1"
         }
        },
        "yaxis": {
         "anchor": "x",
         "domain": [
          0,
          1
         ],
         "title": {
          "text": "t-SNE Component 2"
         }
        }
       }
      },
      "text/html": [
       "<div>                            <div id=\"03603908-197d-4d01-abb6-7fa44c0f073a\" class=\"plotly-graph-div\" style=\"height:525px; width:100%;\"></div>            <script type=\"text/javascript\">                require([\"plotly\"], function(Plotly) {                    window.PLOTLYENV=window.PLOTLYENV || {};                                    if (document.getElementById(\"03603908-197d-4d01-abb6-7fa44c0f073a\")) {                    Plotly.newPlot(                        \"03603908-197d-4d01-abb6-7fa44c0f073a\",                        [{\"customdata\":[[-0.7252406676228422],[-0.48349377841522817],[-0.24174688920761409],[-0.08058229640253803],[0.08058229640253803],[0.16116459280507606],[0.24174688920761409],[0.4029114820126901],[0.6446583712203042],[0.7252406676228422],[0.8058229640253802],[0.8864052604279183],[0.9669875568304563],[1.1281521496355325],[1.2893167424406085],[1.5310636316482225],[-0.7252406676228422],[-0.48349377841522817],[-0.08058229640253803],[0.08058229640253803],[0.16116459280507606],[0.24174688920761409],[0.4029114820126901],[0.6446583712203042],[0.7252406676228422],[0.8058229640253802],[0.9669875568304563],[1.1281521496355325],[1.2087344460380705],[1.2893167424406085],[1.4504813352456845],[1.5310636316482225],[-1.1281521496355325],[-0.7252406676228422],[-0.48349377841522817],[0.08058229640253803],[0.16116459280507606],[0.24174688920761409],[0.4029114820126901],[0.6446583712203042],[0.7252406676228422],[0.8058229640253802],[1.1281521496355325],[1.2087344460380705],[1.2893167424406085],[1.5310636316482225],[-1.2893167424406085],[-1.1281521496355325],[-0.7252406676228422],[-0.48349377841522817],[0.08058229640253803],[0.16116459280507606],[0.24174688920761409],[0.4029114820126901],[0.6446583712203042],[0.7252406676228422],[0.8058229640253802],[1.1281521496355325],[1.2087344460380705],[1.2893167424406085],[1.5310636316482225],[-1.2893167424406085],[-1.1281521496355325],[-0.7252406676228422],[-0.48349377841522817],[0.08058229640253803],[0.16116459280507606],[0.24174688920761409],[0.4029114820126901],[0.6446583712203042],[0.7252406676228422],[0.8058229640253802],[1.1281521496355325],[1.2087344460380705],[1.2893167424406085],[1.5310636316482225],[-1.2893167424406085],[-1.1281521496355325],[-0.7252406676228422],[-0.48349377841522817],[0.08058229640253803],[0.16116459280507606],[0.24174688920761409],[0.4029114820126901],[0.6446583712203042],[0.7252406676228422],[0.8058229640253802],[1.1281521496355325],[1.2087344460380705],[1.2893167424406085],[1.5310636316482225],[-1.2893167424406085],[-1.1281521496355325],[-0.7252406676228422],[-0.48349377841522817],[0.08058229640253803],[0.16116459280507606],[0.24174688920761409],[0.4029114820126901],[0.6446583712203042],[0.7252406676228422],[0.8058229640253802],[1.1281521496355325],[1.2087344460380705],[1.2893167424406085],[1.5310636316482225],[-1.2893167424406085],[-1.1281521496355325],[-0.7252406676228422],[-0.48349377841522817],[0.08058229640253803],[0.16116459280507606],[0.24174688920761409],[0.4029114820126901],[0.6446583712203042],[0.7252406676228422],[0.8058229640253802],[1.1281521496355325],[1.2087344460380705],[1.2893167424406085],[1.5310636316482225],[-1.2893167424406085],[-1.1281521496355325],[-0.7252406676228422],[-0.48349377841522817],[0.08058229640253803],[0.16116459280507606],[0.24174688920761409],[0.4029114820126901],[0.6446583712203042],[0.7252406676228422],[1.1281521496355325],[1.2087344460380705],[1.2893167424406085],[1.5310636316482225],[-1.2893167424406085],[-1.1281521496355325],[-0.7252406676228422],[-0.48349377841522817],[0.08058229640253803],[0.16116459280507606],[0.24174688920761409],[0.4029114820126901],[0.6446583712203042],[0.7252406676228422],[1.1281521496355325],[1.2087344460380705],[1.2893167424406085],[1.5310636316482225],[-1.1281521496355325],[-0.7252406676228422],[-0.48349377841522817],[0.08058229640253803],[0.16116459280507606],[0.24174688920761409],[0.4029114820126901],[0.6446583712203042],[0.7252406676228422],[1.1281521496355325],[1.2087344460380705],[1.2893167424406085],[1.5310636316482225],[-1.1281521496355325],[-0.7252406676228422],[-0.48349377841522817],[0.08058229640253803],[0.16116459280507606],[0.24174688920761409],[0.4029114820126901],[0.6446583712203042],[0.7252406676228422],[1.1281521496355325],[1.2087344460380705],[1.2893167424406085],[1.5310636316482225],[-1.1281521496355325]],\"hovertemplate\":\"t-SNE Component 1=%{x}<br>t-SNE Component 2=%{y}<br>Country=%{customdata[0]}<br>DBSCAN Cluster=%{marker.color}<extra></extra>\",\"legendgroup\":\"\",\"marker\":{\"color\":[0,0,1,1,1,1,1,1,1,1,1,1,1,1,1,1,0,0,1,1,1,1,1,1,1,1,1,1,1,1,1,1,2,0,0,1,1,1,1,1,1,1,1,1,1,1,2,2,0,0,1,1,1,1,1,1,1,1,1,1,1,2,2,0,0,1,1,1,1,1,1,1,1,1,1,1,2,2,0,0,1,1,1,1,1,1,1,1,1,1,1,2,2,0,0,1,1,1,1,1,1,1,1,1,1,1,2,2,0,0,1,1,1,1,1,1,1,1,1,1,1,2,2,0,0,1,1,1,1,1,1,1,1,1,1,2,2,0,0,1,1,1,1,1,1,1,1,1,1,2,0,0,1,1,1,1,1,1,1,1,1,1,2,0,0,1,1,1,1,1,1,1,1,1,1,2],\"coloraxis\":\"coloraxis\",\"opacity\":0.7,\"symbol\":\"circle\"},\"mode\":\"markers\",\"name\":\"\",\"orientation\":\"v\",\"showlegend\":false,\"x\":[21.97382926940918,21.575742721557617,2.7474563121795654,1.959341287612915,1.8440630435943604,2.811741590499878,1.7265572547912598,0.36014389991760254,-0.9146400094032288,-4.097238540649414,-5.443765163421631,-7.024922847747803,-6.713411331176758,-8.930015563964844,-9.372660636901855,-11.095380783081055,21.48758888244629,21.05896759033203,1.8155807256698608,1.8432140350341797,2.726388692855835,1.3841454982757568,-0.4722188115119934,-1.9842339754104614,-3.447169303894043,-5.156523704528809,-6.367324352264404,-8.552066802978516,-9.178776741027832,-9.874788284301758,-12.363968849182129,-10.912435531616211,5.385950088500977,21.467182159423828,21.461509704589844,1.2924264669418335,3.414532423019409,1.2353559732437134,-1.1622785329818726,-3.053765058517456,-3.4008843898773193,-5.245631694793701,-7.844087600708008,-8.995856285095215,-10.665525436401367,-10.879484176635742,4.819007396697998,5.3457159996032715,22.299318313598633,21.468481063842773,1.1104552745819092,3.654897451400757,1.0852515697479248,-0.9306305050849915,-2.812635660171509,-3.628751754760742,-5.602504253387451,-7.7280144691467285,-8.806717872619629,-10.66446590423584,-10.7928466796875,4.070906639099121,4.542983055114746,21.655654907226562,21.468994140625,1.1992294788360596,3.6913974285125732,1.4825137853622437,-0.8730219006538391,-2.9353060722351074,-3.6278371810913086,-5.546181678771973,-7.592240810394287,-8.76747989654541,-11.325531005859375,-11.079435348510742,4.149887561798096,5.035280227661133,21.429203033447266,21.297948837280273,1.2175116539001465,3.631873846054077,1.3782336711883545,-1.2907860279083252,-2.9452574253082275,-3.424985408782959,-5.499558448791504,-7.397308349609375,-8.766568183898926,-11.325060844421387,-11.031234741210938,4.203811168670654,5.270001411437988,22.249401092529297,20.7495174407959,1.7727508544921875,3.3325579166412354,1.4255932569503784,-1.0707368850708008,-2.625995397567749,-3.5428812503814697,-5.549977779388428,-7.177494525909424,-8.593390464782715,-11.302681922912598,-10.533079147338867,4.619656562805176,5.225363254547119,22.237709045410156,20.757526397705078,1.8520032167434692,3.424835681915283,1.3930972814559937,-1.076826810836792,-2.364379644393921,-4.467968463897705,-5.522338390350342,-7.099330902099609,-8.364373207092285,-11.311503410339355,-10.557734489440918,4.557147026062012,4.6331787109375,22.122465133666992,20.75166893005371,1.7527148723602295,3.0387301445007324,1.4064772129058838,-0.6983304619789124,-2.364271879196167,-4.392701148986816,-6.826218605041504,-8.351076126098633,-11.167994499206543,-10.615184783935547,4.04587984085083,4.442455768585205,22.01980972290039,20.85529327392578,1.608817458152771,2.7827110290527344,1.5030895471572876,-1.097660779953003,-2.416459560394287,-4.43442964553833,-6.7034687995910645,-8.175827980041504,-11.164632797241211,-10.547621726989746,4.801250457763672,21.615215301513672,20.734149932861328,1.270932912826538,3.0446956157684326,1.4753748178482056,-0.7490747570991516,-2.501269578933716,-4.394222259521484,-6.54275369644165,-8.151890754699707,-11.16240406036377,-10.302499771118164,5.049180030822754,22.238920211791992,20.57728385925293,1.5681766271591187,3.2276346683502197,1.397215485572815,-0.6299051642417908,-2.57393741607666,-4.488804340362549,-6.484697341918945,-8.185258865356445,-11.158183097839355,-10.235755920410156,5.033294677734375],\"xaxis\":\"x\",\"y\":[6.95478630065918,7.575756072998047,6.891496181488037,1.9149774312973022,7.3364973068237305,-0.6010415554046631,5.656960487365723,9.015064239501953,11.319578170776367,15.203539848327637,17.41656494140625,17.32744789123535,18.21640968322754,23.120485305786133,23.811159133911133,23.67447853088379,6.294297218322754,7.536563396453857,-3.9864277839660645,7.508047103881836,-0.30234235525131226,6.593081951141357,9.18728256225586,14.074067115783691,15.055412292480469,17.501754760742188,18.73736572265625,23.190841674804688,18.7335262298584,23.209091186523438,19.440763473510742,23.805744171142578,-25.620513916015625,6.173372745513916,7.963454723358154,7.515261173248291,0.04150283709168434,5.094750881195068,9.062408447265625,14.629386901855469,15.569930076599121,17.683265686035156,23.298858642578125,21.291189193725586,21.682666778564453,23.841997146606445,-24.375818252563477,-25.67150115966797,6.392269611358643,7.986323833465576,7.643367290496826,-0.3180863559246063,5.399403095245361,9.141592979431152,14.604432106018066,15.18138313293457,17.85020637512207,23.299968719482422,21.23874282836914,21.682857513427734,23.923290252685547,-25.261962890625,-25.505136489868164,6.562582969665527,7.985807418823242,7.730569839477539,-0.42381173372268677,3.428055763244629,9.18810749053955,14.725793838500977,15.199108123779297,17.876914978027344,23.36115074157715,21.26401138305664,20.596961975097656,24.1300048828125,-24.828842163085938,-25.304492950439453,6.396223068237305,8.161673545837402,7.657312393188477,-0.5071812868118286,3.6235899925231934,8.900702476501465,14.80894947052002,15.593942642211914,17.858259201049805,23.413677215576172,21.248626708984375,20.596765518188477,24.268798828125,-24.757396697998047,-25.25560188293457,6.716928958892822,7.488141059875488,7.810661792755127,0.0015190504491329193,3.5304415225982666,8.696824073791504,15.427167892456055,15.634566307067871,17.914644241333008,23.53362274169922,21.35434341430664,20.52741050720215,24.253480911254883,-24.721731185913086,-25.23784828186035,6.39466667175293,7.489303112030029,7.936195373535156,-0.112357497215271,3.5286664962768555,8.616829872131348,14.871747016906738,14.160174369812012,18.03296661376953,23.39792823791504,21.43716049194336,20.528894424438477,24.417903900146484,-24.715532302856445,-25.48138999938965,6.076392650604248,7.473147392272949,8.129027366638184,0.05859433487057686,3.5490264892578125,8.758157730102539,14.910000801086426,14.104287147521973,23.60789680480957,21.00400733947754,20.44392204284668,24.624162673950195,-24.972618103027344,-25.948640823364258,5.917866230010986,8.225964546203613,8.187463760375977,-0.047995395958423615,3.3968913555145264,8.584688186645508,15.157242774963379,14.123464584350586,23.65436363220215,21.112131118774414,20.36484718322754,24.791467666625977,-26.074424743652344,6.037160396575928,8.126694679260254,8.10006332397461,-0.4010434150695801,3.466620445251465,8.644343376159668,15.380327224731445,14.09524917602539,23.69036293029785,21.113948822021484,20.363996505737305,24.985849380493164,-26.161373138427734,6.749443054199219,7.946601867675781,8.2218599319458,-0.5616834163665771,3.537306785583496,8.971585273742676,15.42055892944336,14.162376403808594,23.707923889160156,21.26140022277832,20.316999435424805,25.10346221923828,-26.15620994567871],\"yaxis\":\"y\",\"type\":\"scatter\"}],                        {\"template\":{\"data\":{\"histogram2dcontour\":[{\"type\":\"histogram2dcontour\",\"colorbar\":{\"outlinewidth\":0,\"ticks\":\"\"},\"colorscale\":[[0.0,\"#0d0887\"],[0.1111111111111111,\"#46039f\"],[0.2222222222222222,\"#7201a8\"],[0.3333333333333333,\"#9c179e\"],[0.4444444444444444,\"#bd3786\"],[0.5555555555555556,\"#d8576b\"],[0.6666666666666666,\"#ed7953\"],[0.7777777777777778,\"#fb9f3a\"],[0.8888888888888888,\"#fdca26\"],[1.0,\"#f0f921\"]]}],\"choropleth\":[{\"type\":\"choropleth\",\"colorbar\":{\"outlinewidth\":0,\"ticks\":\"\"}}],\"histogram2d\":[{\"type\":\"histogram2d\",\"colorbar\":{\"outlinewidth\":0,\"ticks\":\"\"},\"colorscale\":[[0.0,\"#0d0887\"],[0.1111111111111111,\"#46039f\"],[0.2222222222222222,\"#7201a8\"],[0.3333333333333333,\"#9c179e\"],[0.4444444444444444,\"#bd3786\"],[0.5555555555555556,\"#d8576b\"],[0.6666666666666666,\"#ed7953\"],[0.7777777777777778,\"#fb9f3a\"],[0.8888888888888888,\"#fdca26\"],[1.0,\"#f0f921\"]]}],\"heatmap\":[{\"type\":\"heatmap\",\"colorbar\":{\"outlinewidth\":0,\"ticks\":\"\"},\"colorscale\":[[0.0,\"#0d0887\"],[0.1111111111111111,\"#46039f\"],[0.2222222222222222,\"#7201a8\"],[0.3333333333333333,\"#9c179e\"],[0.4444444444444444,\"#bd3786\"],[0.5555555555555556,\"#d8576b\"],[0.6666666666666666,\"#ed7953\"],[0.7777777777777778,\"#fb9f3a\"],[0.8888888888888888,\"#fdca26\"],[1.0,\"#f0f921\"]]}],\"heatmapgl\":[{\"type\":\"heatmapgl\",\"colorbar\":{\"outlinewidth\":0,\"ticks\":\"\"},\"colorscale\":[[0.0,\"#0d0887\"],[0.1111111111111111,\"#46039f\"],[0.2222222222222222,\"#7201a8\"],[0.3333333333333333,\"#9c179e\"],[0.4444444444444444,\"#bd3786\"],[0.5555555555555556,\"#d8576b\"],[0.6666666666666666,\"#ed7953\"],[0.7777777777777778,\"#fb9f3a\"],[0.8888888888888888,\"#fdca26\"],[1.0,\"#f0f921\"]]}],\"contourcarpet\":[{\"type\":\"contourcarpet\",\"colorbar\":{\"outlinewidth\":0,\"ticks\":\"\"}}],\"contour\":[{\"type\":\"contour\",\"colorbar\":{\"outlinewidth\":0,\"ticks\":\"\"},\"colorscale\":[[0.0,\"#0d0887\"],[0.1111111111111111,\"#46039f\"],[0.2222222222222222,\"#7201a8\"],[0.3333333333333333,\"#9c179e\"],[0.4444444444444444,\"#bd3786\"],[0.5555555555555556,\"#d8576b\"],[0.6666666666666666,\"#ed7953\"],[0.7777777777777778,\"#fb9f3a\"],[0.8888888888888888,\"#fdca26\"],[1.0,\"#f0f921\"]]}],\"surface\":[{\"type\":\"surface\",\"colorbar\":{\"outlinewidth\":0,\"ticks\":\"\"},\"colorscale\":[[0.0,\"#0d0887\"],[0.1111111111111111,\"#46039f\"],[0.2222222222222222,\"#7201a8\"],[0.3333333333333333,\"#9c179e\"],[0.4444444444444444,\"#bd3786\"],[0.5555555555555556,\"#d8576b\"],[0.6666666666666666,\"#ed7953\"],[0.7777777777777778,\"#fb9f3a\"],[0.8888888888888888,\"#fdca26\"],[1.0,\"#f0f921\"]]}],\"mesh3d\":[{\"type\":\"mesh3d\",\"colorbar\":{\"outlinewidth\":0,\"ticks\":\"\"}}],\"scatter\":[{\"fillpattern\":{\"fillmode\":\"overlay\",\"size\":10,\"solidity\":0.2},\"type\":\"scatter\"}],\"parcoords\":[{\"type\":\"parcoords\",\"line\":{\"colorbar\":{\"outlinewidth\":0,\"ticks\":\"\"}}}],\"scatterpolargl\":[{\"type\":\"scatterpolargl\",\"marker\":{\"colorbar\":{\"outlinewidth\":0,\"ticks\":\"\"}}}],\"bar\":[{\"error_x\":{\"color\":\"#2a3f5f\"},\"error_y\":{\"color\":\"#2a3f5f\"},\"marker\":{\"line\":{\"color\":\"#E5ECF6\",\"width\":0.5},\"pattern\":{\"fillmode\":\"overlay\",\"size\":10,\"solidity\":0.2}},\"type\":\"bar\"}],\"scattergeo\":[{\"type\":\"scattergeo\",\"marker\":{\"colorbar\":{\"outlinewidth\":0,\"ticks\":\"\"}}}],\"scatterpolar\":[{\"type\":\"scatterpolar\",\"marker\":{\"colorbar\":{\"outlinewidth\":0,\"ticks\":\"\"}}}],\"histogram\":[{\"marker\":{\"pattern\":{\"fillmode\":\"overlay\",\"size\":10,\"solidity\":0.2}},\"type\":\"histogram\"}],\"scattergl\":[{\"type\":\"scattergl\",\"marker\":{\"colorbar\":{\"outlinewidth\":0,\"ticks\":\"\"}}}],\"scatter3d\":[{\"type\":\"scatter3d\",\"line\":{\"colorbar\":{\"outlinewidth\":0,\"ticks\":\"\"}},\"marker\":{\"colorbar\":{\"outlinewidth\":0,\"ticks\":\"\"}}}],\"scattermapbox\":[{\"type\":\"scattermapbox\",\"marker\":{\"colorbar\":{\"outlinewidth\":0,\"ticks\":\"\"}}}],\"scatterternary\":[{\"type\":\"scatterternary\",\"marker\":{\"colorbar\":{\"outlinewidth\":0,\"ticks\":\"\"}}}],\"scattercarpet\":[{\"type\":\"scattercarpet\",\"marker\":{\"colorbar\":{\"outlinewidth\":0,\"ticks\":\"\"}}}],\"carpet\":[{\"aaxis\":{\"endlinecolor\":\"#2a3f5f\",\"gridcolor\":\"white\",\"linecolor\":\"white\",\"minorgridcolor\":\"white\",\"startlinecolor\":\"#2a3f5f\"},\"baxis\":{\"endlinecolor\":\"#2a3f5f\",\"gridcolor\":\"white\",\"linecolor\":\"white\",\"minorgridcolor\":\"white\",\"startlinecolor\":\"#2a3f5f\"},\"type\":\"carpet\"}],\"table\":[{\"cells\":{\"fill\":{\"color\":\"#EBF0F8\"},\"line\":{\"color\":\"white\"}},\"header\":{\"fill\":{\"color\":\"#C8D4E3\"},\"line\":{\"color\":\"white\"}},\"type\":\"table\"}],\"barpolar\":[{\"marker\":{\"line\":{\"color\":\"#E5ECF6\",\"width\":0.5},\"pattern\":{\"fillmode\":\"overlay\",\"size\":10,\"solidity\":0.2}},\"type\":\"barpolar\"}],\"pie\":[{\"automargin\":true,\"type\":\"pie\"}]},\"layout\":{\"autotypenumbers\":\"strict\",\"colorway\":[\"#636efa\",\"#EF553B\",\"#00cc96\",\"#ab63fa\",\"#FFA15A\",\"#19d3f3\",\"#FF6692\",\"#B6E880\",\"#FF97FF\",\"#FECB52\"],\"font\":{\"color\":\"#2a3f5f\"},\"hovermode\":\"closest\",\"hoverlabel\":{\"align\":\"left\"},\"paper_bgcolor\":\"white\",\"plot_bgcolor\":\"#E5ECF6\",\"polar\":{\"bgcolor\":\"#E5ECF6\",\"angularaxis\":{\"gridcolor\":\"white\",\"linecolor\":\"white\",\"ticks\":\"\"},\"radialaxis\":{\"gridcolor\":\"white\",\"linecolor\":\"white\",\"ticks\":\"\"}},\"ternary\":{\"bgcolor\":\"#E5ECF6\",\"aaxis\":{\"gridcolor\":\"white\",\"linecolor\":\"white\",\"ticks\":\"\"},\"baxis\":{\"gridcolor\":\"white\",\"linecolor\":\"white\",\"ticks\":\"\"},\"caxis\":{\"gridcolor\":\"white\",\"linecolor\":\"white\",\"ticks\":\"\"}},\"coloraxis\":{\"colorbar\":{\"outlinewidth\":0,\"ticks\":\"\"}},\"colorscale\":{\"sequential\":[[0.0,\"#0d0887\"],[0.1111111111111111,\"#46039f\"],[0.2222222222222222,\"#7201a8\"],[0.3333333333333333,\"#9c179e\"],[0.4444444444444444,\"#bd3786\"],[0.5555555555555556,\"#d8576b\"],[0.6666666666666666,\"#ed7953\"],[0.7777777777777778,\"#fb9f3a\"],[0.8888888888888888,\"#fdca26\"],[1.0,\"#f0f921\"]],\"sequentialminus\":[[0.0,\"#0d0887\"],[0.1111111111111111,\"#46039f\"],[0.2222222222222222,\"#7201a8\"],[0.3333333333333333,\"#9c179e\"],[0.4444444444444444,\"#bd3786\"],[0.5555555555555556,\"#d8576b\"],[0.6666666666666666,\"#ed7953\"],[0.7777777777777778,\"#fb9f3a\"],[0.8888888888888888,\"#fdca26\"],[1.0,\"#f0f921\"]],\"diverging\":[[0,\"#8e0152\"],[0.1,\"#c51b7d\"],[0.2,\"#de77ae\"],[0.3,\"#f1b6da\"],[0.4,\"#fde0ef\"],[0.5,\"#f7f7f7\"],[0.6,\"#e6f5d0\"],[0.7,\"#b8e186\"],[0.8,\"#7fbc41\"],[0.9,\"#4d9221\"],[1,\"#276419\"]]},\"xaxis\":{\"gridcolor\":\"white\",\"linecolor\":\"white\",\"ticks\":\"\",\"title\":{\"standoff\":15},\"zerolinecolor\":\"white\",\"automargin\":true,\"zerolinewidth\":2},\"yaxis\":{\"gridcolor\":\"white\",\"linecolor\":\"white\",\"ticks\":\"\",\"title\":{\"standoff\":15},\"zerolinecolor\":\"white\",\"automargin\":true,\"zerolinewidth\":2},\"scene\":{\"xaxis\":{\"backgroundcolor\":\"#E5ECF6\",\"gridcolor\":\"white\",\"linecolor\":\"white\",\"showbackground\":true,\"ticks\":\"\",\"zerolinecolor\":\"white\",\"gridwidth\":2},\"yaxis\":{\"backgroundcolor\":\"#E5ECF6\",\"gridcolor\":\"white\",\"linecolor\":\"white\",\"showbackground\":true,\"ticks\":\"\",\"zerolinecolor\":\"white\",\"gridwidth\":2},\"zaxis\":{\"backgroundcolor\":\"#E5ECF6\",\"gridcolor\":\"white\",\"linecolor\":\"white\",\"showbackground\":true,\"ticks\":\"\",\"zerolinecolor\":\"white\",\"gridwidth\":2}},\"shapedefaults\":{\"line\":{\"color\":\"#2a3f5f\"}},\"annotationdefaults\":{\"arrowcolor\":\"#2a3f5f\",\"arrowhead\":0,\"arrowwidth\":1},\"geo\":{\"bgcolor\":\"white\",\"landcolor\":\"#E5ECF6\",\"subunitcolor\":\"white\",\"showland\":true,\"showlakes\":true,\"lakecolor\":\"white\"},\"title\":{\"x\":0.05},\"mapbox\":{\"style\":\"light\"}}},\"xaxis\":{\"anchor\":\"y\",\"domain\":[0.0,1.0],\"title\":{\"text\":\"t-SNE Component 1\"}},\"yaxis\":{\"anchor\":\"x\",\"domain\":[0.0,1.0],\"title\":{\"text\":\"t-SNE Component 2\"}},\"coloraxis\":{\"colorbar\":{\"title\":{\"text\":\"DBSCAN Cluster\"}},\"colorscale\":[[0.0,\"#0d0887\"],[0.1111111111111111,\"#46039f\"],[0.2222222222222222,\"#7201a8\"],[0.3333333333333333,\"#9c179e\"],[0.4444444444444444,\"#bd3786\"],[0.5555555555555556,\"#d8576b\"],[0.6666666666666666,\"#ed7953\"],[0.7777777777777778,\"#fb9f3a\"],[0.8888888888888888,\"#fdca26\"],[1.0,\"#f0f921\"]]},\"legend\":{\"tracegroupgap\":0},\"title\":{\"text\":\"t-SNE Visualization of DBSCAN Clusters (excluding -1)\"}},                        {\"responsive\": true}                    ).then(function(){\n",
       "                            \n",
       "var gd = document.getElementById('03603908-197d-4d01-abb6-7fa44c0f073a');\n",
       "var x = new MutationObserver(function (mutations, observer) {{\n",
       "        var display = window.getComputedStyle(gd).display;\n",
       "        if (!display || display === 'none') {{\n",
       "            console.log([gd, 'removed!']);\n",
       "            Plotly.purge(gd);\n",
       "            observer.disconnect();\n",
       "        }}\n",
       "}});\n",
       "\n",
       "// Listen for the removal of the full notebook cells\n",
       "var notebookContainer = gd.closest('#notebook-container');\n",
       "if (notebookContainer) {{\n",
       "    x.observe(notebookContainer, {childList: true});\n",
       "}}\n",
       "\n",
       "// Listen for the clearing of the current output cell\n",
       "var outputEl = gd.closest('.output');\n",
       "if (outputEl) {{\n",
       "    x.observe(outputEl, {childList: true});\n",
       "}}\n",
       "\n",
       "                        })                };                });            </script>        </div>"
      ]
     },
     "metadata": {},
     "output_type": "display_data"
    }
   ],
   "source": [
    "#| code-fold: true\n",
    "import pandas as pd\n",
    "from sklearn.manifold import TSNE\n",
    "\n",
    "features = db.drop(['Cluster_DBSCAN'], axis=1)\n",
    "tsne = TSNE(n_components=2, random_state=42)\n",
    "tsne_results = tsne.fit_transform(features)\n",
    "tsne_df = pd.DataFrame(tsne_results, columns=['t-SNE Component 1', 't-SNE Component 2'])\n",
    "tsne_df['Cluster_DBSCAN'] = db['Cluster_DBSCAN']\n",
    "tsne_df['Country'] = db['Country']\n",
    "\n",
    "# Filter out NOISE\n",
    "tsne_df_filtered = tsne_df[tsne_df['Cluster_DBSCAN'] != -1]\n",
    "\n",
    "# PLOTT\n",
    "fig = px.scatter(tsne_df_filtered, x='t-SNE Component 1', y='t-SNE Component 2', color='Cluster_DBSCAN',\n",
    "                 title='t-SNE Visualization of DBSCAN Clusters (excluding -1)', opacity=0.7,\n",
    "                 labels={'Cluster_DBSCAN': 'DBSCAN Cluster'},\n",
    "                 hover_data={'Country': True})  # Use hover_data with the filtered DataFrame\n",
    "\n",
    "fig.show()"
   ]
  },
  {
   "cell_type": "markdown",
   "metadata": {},
   "source": [
    "Clearly, DBSCAN clustering gives us different results than K-Means. "
   ]
  },
  {
   "cell_type": "markdown",
   "metadata": {},
   "source": [
    "## Hierarchal Clustering"
   ]
  },
  {
   "cell_type": "markdown",
   "metadata": {},
   "source": [
    "## Dendrogram"
   ]
  },
  {
   "cell_type": "code",
   "execution_count": 546,
   "metadata": {},
   "outputs": [
    {
     "data": {
      "image/png": "[encoded data removed]",
      "text/plain": [
       "<Figure size 1200x800 with 1 Axes>"
      ]
     },
     "metadata": {},
     "output_type": "display_data"
    },
    {
     "data": {
      "image/png": "[encoded data removed]",
      "text/plain": [
       "<Figure size 1200x800 with 1 Axes>"
      ]
     },
     "metadata": {},
     "output_type": "display_data"
    }
   ],
   "source": [
    "#| code-fold: true\n",
    "hc = pd.read_csv(\"/Users/kendallgilbert/dsan-5000-project-kendallgilbert180/dsan-website/5000-website/data/01-modified-data/nb_record.csv\")\n",
    "label_encoder = LabelEncoder()\n",
    "hc['Country'] = label_encoder.fit_transform(hc['Country'])\n",
    "\n",
    "features_to_standardize = ['Aqua Production (Millions)', 'Marine Protected Area (sqkm)', 'Inventions (number)', 'Instruments (number)', 'Fishing Exports (Millions)', 'Value', 'Country']\n",
    "data_subset = hc[features_to_standardize]\n",
    "scaler = StandardScaler()\n",
    "hc = scaler.fit_transform(data_subset)\n",
    "hc = pd.DataFrame(hc, columns=features_to_standardize)\n",
    "hc\n",
    "\n",
    "from scipy.cluster.hierarchy import linkage, dendrogram\n",
    "linkage_matrix = linkage(hc, method='ward')\n",
    "plt.figure(figsize=(12, 8))\n",
    "dendrogram(linkage_matrix, truncate_mode='level', p=3)\n",
    "plt.title('Dendrogram for Agglomerative Clustering')\n",
    "plt.xlabel('Sample Index')\n",
    "plt.ylabel('Distance')\n",
    "\n",
    "plt.figure(figsize=(12, 8))\n",
    "dendrogram(linkage_matrix, truncate_mode='level', p=3)\n",
    "\n",
    "# Add a horizontal line to indicate the number of clusters\n",
    "num_clusters = 4  # Change this value as needed\n",
    "plt.axhline(y=linkage_matrix[-num_clusters + 1, 2], color='r', linestyle='--', label=f'Number of Clusters = {num_clusters}')\n",
    "\n",
    "plt.title('Dendrogram for Agglomerative Clustering')\n",
    "plt.xlabel('Sample Index')\n",
    "plt.ylabel('Distance')\n",
    "plt.legend()\n",
    "plt.show()\n"
   ]
  },
  {
   "cell_type": "code",
   "execution_count": 558,
   "metadata": {},
   "outputs": [
    {
     "name": "stderr",
     "output_type": "stream",
     "text": [
      "/Users/kendallgilbert/anaconda3/lib/python3.11/site-packages/sklearn/cluster/_agglomerative.py:1005: FutureWarning:\n",
      "\n",
      "Attribute `affinity` was deprecated in version 1.2 and will be removed in 1.4. Use `metric` instead\n",
      "\n"
     ]
    },
    {
     "data": {
      "text/html": [
       "<div>\n",
       "<style scoped>\n",
       "    .dataframe tbody tr th:only-of-type {\n",
       "        vertical-align: middle;\n",
       "    }\n",
       "\n",
       "    .dataframe tbody tr th {\n",
       "        vertical-align: top;\n",
       "    }\n",
       "\n",
       "    .dataframe thead th {\n",
       "        text-align: right;\n",
       "    }\n",
       "</style>\n",
       "<table border=\"1\" class=\"dataframe\">\n",
       "  <thead>\n",
       "    <tr style=\"text-align: right;\">\n",
       "      <th></th>\n",
       "      <th>Aqua Production (Millions)</th>\n",
       "      <th>Marine Protected Area (sqkm)</th>\n",
       "      <th>Inventions (number)</th>\n",
       "      <th>Instruments (number)</th>\n",
       "      <th>Fishing Exports (Millions)</th>\n",
       "      <th>Value</th>\n",
       "      <th>Country</th>\n",
       "      <th>Cluster_Agglomerative</th>\n",
       "    </tr>\n",
       "  </thead>\n",
       "  <tbody>\n",
       "    <tr>\n",
       "      <th>0</th>\n",
       "      <td>0.679748</td>\n",
       "      <td>-0.216403</td>\n",
       "      <td>-0.255849</td>\n",
       "      <td>0.128004</td>\n",
       "      <td>-0.179730</td>\n",
       "      <td>-0.246968</td>\n",
       "      <td>-0.805823</td>\n",
       "      <td>1</td>\n",
       "    </tr>\n",
       "    <tr>\n",
       "      <th>1</th>\n",
       "      <td>-0.369917</td>\n",
       "      <td>-0.279476</td>\n",
       "      <td>-0.331231</td>\n",
       "      <td>-1.113538</td>\n",
       "      <td>-0.548519</td>\n",
       "      <td>-0.751243</td>\n",
       "      <td>-0.725241</td>\n",
       "      <td>0</td>\n",
       "    </tr>\n",
       "    <tr>\n",
       "      <th>2</th>\n",
       "      <td>-0.301377</td>\n",
       "      <td>-0.200619</td>\n",
       "      <td>-0.182663</td>\n",
       "      <td>0.872929</td>\n",
       "      <td>0.563609</td>\n",
       "      <td>-0.503371</td>\n",
       "      <td>-0.644658</td>\n",
       "      <td>0</td>\n",
       "    </tr>\n",
       "    <tr>\n",
       "      <th>3</th>\n",
       "      <td>-0.345421</td>\n",
       "      <td>-0.000724</td>\n",
       "      <td>-0.326903</td>\n",
       "      <td>-0.120304</td>\n",
       "      <td>0.168121</td>\n",
       "      <td>0.151617</td>\n",
       "      <td>-0.564076</td>\n",
       "      <td>0</td>\n",
       "    </tr>\n",
       "    <tr>\n",
       "      <th>4</th>\n",
       "      <td>-0.288119</td>\n",
       "      <td>-0.249281</td>\n",
       "      <td>-0.333362</td>\n",
       "      <td>-1.113538</td>\n",
       "      <td>-0.674262</td>\n",
       "      <td>-0.751243</td>\n",
       "      <td>-0.483494</td>\n",
       "      <td>0</td>\n",
       "    </tr>\n",
       "    <tr>\n",
       "      <th>...</th>\n",
       "      <td>...</td>\n",
       "      <td>...</td>\n",
       "      <td>...</td>\n",
       "      <td>...</td>\n",
       "      <td>...</td>\n",
       "      <td>...</td>\n",
       "      <td>...</td>\n",
       "      <td>...</td>\n",
       "    </tr>\n",
       "    <tr>\n",
       "      <th>511</th>\n",
       "      <td>-0.358976</td>\n",
       "      <td>-0.218847</td>\n",
       "      <td>-0.326903</td>\n",
       "      <td>-0.616921</td>\n",
       "      <td>0.228323</td>\n",
       "      <td>0.828407</td>\n",
       "      <td>-1.208734</td>\n",
       "      <td>0</td>\n",
       "    </tr>\n",
       "    <tr>\n",
       "      <th>512</th>\n",
       "      <td>-0.281627</td>\n",
       "      <td>-0.028119</td>\n",
       "      <td>-0.278457</td>\n",
       "      <td>1.866162</td>\n",
       "      <td>-0.505692</td>\n",
       "      <td>1.956863</td>\n",
       "      <td>-1.128152</td>\n",
       "      <td>2</td>\n",
       "    </tr>\n",
       "    <tr>\n",
       "      <th>513</th>\n",
       "      <td>0.096134</td>\n",
       "      <td>-0.211732</td>\n",
       "      <td>0.098324</td>\n",
       "      <td>-0.865229</td>\n",
       "      <td>0.653408</td>\n",
       "      <td>-0.412848</td>\n",
       "      <td>-1.047570</td>\n",
       "      <td>0</td>\n",
       "    </tr>\n",
       "    <tr>\n",
       "      <th>514</th>\n",
       "      <td>-0.332200</td>\n",
       "      <td>-0.017895</td>\n",
       "      <td>-0.326903</td>\n",
       "      <td>2.114471</td>\n",
       "      <td>0.723741</td>\n",
       "      <td>3.356415</td>\n",
       "      <td>-0.966988</td>\n",
       "      <td>2</td>\n",
       "    </tr>\n",
       "    <tr>\n",
       "      <th>515</th>\n",
       "      <td>-0.360655</td>\n",
       "      <td>0.834997</td>\n",
       "      <td>-0.333362</td>\n",
       "      <td>-0.120304</td>\n",
       "      <td>1.695861</td>\n",
       "      <td>3.040295</td>\n",
       "      <td>-0.886405</td>\n",
       "      <td>2</td>\n",
       "    </tr>\n",
       "  </tbody>\n",
       "</table>\n",
       "<p>516 rows × 8 columns</p>\n",
       "</div>"
      ],
      "text/plain": [
       "     Aqua Production (Millions)  Marine Protected Area (sqkm)  \\\n",
       "0                      0.679748                     -0.216403   \n",
       "1                     -0.369917                     -0.279476   \n",
       "2                     -0.301377                     -0.200619   \n",
       "3                     -0.345421                     -0.000724   \n",
       "4                     -0.288119                     -0.249281   \n",
       "..                          ...                           ...   \n",
       "511                   -0.358976                     -0.218847   \n",
       "512                   -0.281627                     -0.028119   \n",
       "513                    0.096134                     -0.211732   \n",
       "514                   -0.332200                     -0.017895   \n",
       "515                   -0.360655                      0.834997   \n",
       "\n",
       "     Inventions (number)  Instruments (number)  Fishing Exports (Millions)  \\\n",
       "0              -0.255849              0.128004                   -0.179730   \n",
       "1              -0.331231             -1.113538                   -0.548519   \n",
       "2              -0.182663              0.872929                    0.563609   \n",
       "3              -0.326903             -0.120304                    0.168121   \n",
       "4              -0.333362             -1.113538                   -0.674262   \n",
       "..                   ...                   ...                         ...   \n",
       "511            -0.326903             -0.616921                    0.228323   \n",
       "512            -0.278457              1.866162                   -0.505692   \n",
       "513             0.098324             -0.865229                    0.653408   \n",
       "514            -0.326903              2.114471                    0.723741   \n",
       "515            -0.333362             -0.120304                    1.695861   \n",
       "\n",
       "        Value   Country  Cluster_Agglomerative  \n",
       "0   -0.246968 -0.805823                      1  \n",
       "1   -0.751243 -0.725241                      0  \n",
       "2   -0.503371 -0.644658                      0  \n",
       "3    0.151617 -0.564076                      0  \n",
       "4   -0.751243 -0.483494                      0  \n",
       "..        ...       ...                    ...  \n",
       "511  0.828407 -1.208734                      0  \n",
       "512  1.956863 -1.128152                      2  \n",
       "513 -0.412848 -1.047570                      0  \n",
       "514  3.356415 -0.966988                      2  \n",
       "515  3.040295 -0.886405                      2  \n",
       "\n",
       "[516 rows x 8 columns]"
      ]
     },
     "execution_count": 558,
     "metadata": {},
     "output_type": "execute_result"
    }
   ],
   "source": [
    "#| code-fold: true\n",
    "\n",
    "agglomerative = AgglomerativeClustering(n_clusters=5, affinity='euclidean', linkage='ward')  # You can adjust the number of clusters and linkage method\n",
    "agglomerative_labels = agglomerative.fit_predict(hc)\n",
    "\n",
    "# Create a copy of the standardized data with cluster labels\n",
    "agglomerative_dataset = hc.copy()\n",
    "agglomerative_dataset['Cluster_Agglomerative'] = agglomerative_labels\n",
    "agglomerative_dataset\n"
   ]
  },
  {
   "cell_type": "markdown",
   "metadata": {},
   "source": [
    "### Results \n",
    "\n",
    "Within this tab I have completed three different kinds of clustering analysis - k-means, dbscam and hierarchal clustering. Out of these three methods I prefer k-means. It is extremely straight forward and the elbow method helps assure me that 3 clusters will give the best results. I also think that completing k-means on the dimensionality reduced data worked the best. We are able to see three distinctly defined clusters. \n",
    "\n",
    "\n",
    "Can you make connections between the optimal cluster predictions, after parameter tuning, with any of the labels in the data set. Do they coincide? Why or why not?\n",
    "\n",
    "Unfortunately I do not have the true labels for this data so I was unable to see if the clusters coincided with the ground truth. Although, using metrics like silhouette score I am able to infer that how similar objects are to their own cluster compared to other clusters.\n"
   ]
  },
  {
   "cell_type": "code",
   "execution_count": 557,
   "metadata": {},
   "outputs": [
    {
     "data": {
      "text/html": [
       "<div>\n",
       "<style scoped>\n",
       "    .dataframe tbody tr th:only-of-type {\n",
       "        vertical-align: middle;\n",
       "    }\n",
       "\n",
       "    .dataframe tbody tr th {\n",
       "        vertical-align: top;\n",
       "    }\n",
       "\n",
       "    .dataframe thead tr th {\n",
       "        text-align: left;\n",
       "    }\n",
       "\n",
       "    .dataframe thead tr:last-of-type th {\n",
       "        text-align: right;\n",
       "    }\n",
       "</style>\n",
       "<table border=\"1\" class=\"dataframe\">\n",
       "  <thead>\n",
       "    <tr>\n",
       "      <th></th>\n",
       "      <th colspan=\"8\" halign=\"left\">Aqua Production (Millions)</th>\n",
       "      <th colspan=\"2\" halign=\"left\">Marine Protected Area (sqkm)</th>\n",
       "      <th>...</th>\n",
       "      <th colspan=\"2\" halign=\"left\">Value</th>\n",
       "      <th colspan=\"8\" halign=\"left\">Country</th>\n",
       "    </tr>\n",
       "    <tr>\n",
       "      <th></th>\n",
       "      <th>count</th>\n",
       "      <th>mean</th>\n",
       "      <th>std</th>\n",
       "      <th>min</th>\n",
       "      <th>25%</th>\n",
       "      <th>50%</th>\n",
       "      <th>75%</th>\n",
       "      <th>max</th>\n",
       "      <th>count</th>\n",
       "      <th>mean</th>\n",
       "      <th>...</th>\n",
       "      <th>75%</th>\n",
       "      <th>max</th>\n",
       "      <th>count</th>\n",
       "      <th>mean</th>\n",
       "      <th>std</th>\n",
       "      <th>min</th>\n",
       "      <th>25%</th>\n",
       "      <th>50%</th>\n",
       "      <th>75%</th>\n",
       "      <th>max</th>\n",
       "    </tr>\n",
       "    <tr>\n",
       "      <th>Cluster_Agglomerative</th>\n",
       "      <th></th>\n",
       "      <th></th>\n",
       "      <th></th>\n",
       "      <th></th>\n",
       "      <th></th>\n",
       "      <th></th>\n",
       "      <th></th>\n",
       "      <th></th>\n",
       "      <th></th>\n",
       "      <th></th>\n",
       "      <th></th>\n",
       "      <th></th>\n",
       "      <th></th>\n",
       "      <th></th>\n",
       "      <th></th>\n",
       "      <th></th>\n",
       "      <th></th>\n",
       "      <th></th>\n",
       "      <th></th>\n",
       "      <th></th>\n",
       "      <th></th>\n",
       "    </tr>\n",
       "  </thead>\n",
       "  <tbody>\n",
       "    <tr>\n",
       "      <th>0</th>\n",
       "      <td>396.0</td>\n",
       "      <td>-0.245635</td>\n",
       "      <td>0.205598</td>\n",
       "      <td>-0.370071</td>\n",
       "      <td>-0.358976</td>\n",
       "      <td>-0.333060</td>\n",
       "      <td>-0.206926</td>\n",
       "      <td>1.045474</td>\n",
       "      <td>396.0</td>\n",
       "      <td>-0.180497</td>\n",
       "      <td>...</td>\n",
       "      <td>-0.097676</td>\n",
       "      <td>1.334103</td>\n",
       "      <td>396.0</td>\n",
       "      <td>0.166048</td>\n",
       "      <td>9.302358e-01</td>\n",
       "      <td>-1.692228</td>\n",
       "      <td>-0.483494</td>\n",
       "      <td>0.161165</td>\n",
       "      <td>0.966988</td>\n",
       "      <td>1.692228</td>\n",
       "    </tr>\n",
       "    <tr>\n",
       "      <th>1</th>\n",
       "      <td>40.0</td>\n",
       "      <td>3.022764</td>\n",
       "      <td>1.612378</td>\n",
       "      <td>0.679748</td>\n",
       "      <td>1.943378</td>\n",
       "      <td>3.038647</td>\n",
       "      <td>4.106071</td>\n",
       "      <td>8.086949</td>\n",
       "      <td>40.0</td>\n",
       "      <td>-0.139419</td>\n",
       "      <td>...</td>\n",
       "      <td>-0.406331</td>\n",
       "      <td>0.371053</td>\n",
       "      <td>40.0</td>\n",
       "      <td>0.394853</td>\n",
       "      <td>1.109070e+00</td>\n",
       "      <td>-1.611646</td>\n",
       "      <td>-0.805823</td>\n",
       "      <td>0.886405</td>\n",
       "      <td>1.148298</td>\n",
       "      <td>1.692228</td>\n",
       "    </tr>\n",
       "    <tr>\n",
       "      <th>2</th>\n",
       "      <td>60.0</td>\n",
       "      <td>-0.274873</td>\n",
       "      <td>0.156622</td>\n",
       "      <td>-0.368138</td>\n",
       "      <td>-0.357640</td>\n",
       "      <td>-0.345659</td>\n",
       "      <td>-0.324121</td>\n",
       "      <td>0.133505</td>\n",
       "      <td>60.0</td>\n",
       "      <td>0.058773</td>\n",
       "      <td>...</td>\n",
       "      <td>3.040295</td>\n",
       "      <td>3.356415</td>\n",
       "      <td>60.0</td>\n",
       "      <td>-1.128152</td>\n",
       "      <td>1.853066e-01</td>\n",
       "      <td>-1.369899</td>\n",
       "      <td>-1.289317</td>\n",
       "      <td>-1.128152</td>\n",
       "      <td>-0.966988</td>\n",
       "      <td>-0.886405</td>\n",
       "    </tr>\n",
       "    <tr>\n",
       "      <th>3</th>\n",
       "      <td>12.0</td>\n",
       "      <td>-0.361520</td>\n",
       "      <td>0.003304</td>\n",
       "      <td>-0.370071</td>\n",
       "      <td>-0.362577</td>\n",
       "      <td>-0.361009</td>\n",
       "      <td>-0.360014</td>\n",
       "      <td>-0.355784</td>\n",
       "      <td>12.0</td>\n",
       "      <td>6.131303</td>\n",
       "      <td>...</td>\n",
       "      <td>-0.751243</td>\n",
       "      <td>-0.751243</td>\n",
       "      <td>12.0</td>\n",
       "      <td>-1.531064</td>\n",
       "      <td>4.638361e-16</td>\n",
       "      <td>-1.531064</td>\n",
       "      <td>-1.531064</td>\n",
       "      <td>-1.531064</td>\n",
       "      <td>-1.531064</td>\n",
       "      <td>-1.531064</td>\n",
       "    </tr>\n",
       "    <tr>\n",
       "      <th>4</th>\n",
       "      <td>8.0</td>\n",
       "      <td>-0.351059</td>\n",
       "      <td>0.000227</td>\n",
       "      <td>-0.351351</td>\n",
       "      <td>-0.351188</td>\n",
       "      <td>-0.351064</td>\n",
       "      <td>-0.350952</td>\n",
       "      <td>-0.350740</td>\n",
       "      <td>8.0</td>\n",
       "      <td>-0.006046</td>\n",
       "      <td>...</td>\n",
       "      <td>-0.412848</td>\n",
       "      <td>-0.412848</td>\n",
       "      <td>8.0</td>\n",
       "      <td>0.564076</td>\n",
       "      <td>0.000000e+00</td>\n",
       "      <td>0.564076</td>\n",
       "      <td>0.564076</td>\n",
       "      <td>0.564076</td>\n",
       "      <td>0.564076</td>\n",
       "      <td>0.564076</td>\n",
       "    </tr>\n",
       "  </tbody>\n",
       "</table>\n",
       "<p>5 rows × 56 columns</p>\n",
       "</div>"
      ],
      "text/plain": [
       "                      Aqua Production (Millions)                      \\\n",
       "                                           count      mean       std   \n",
       "Cluster_Agglomerative                                                  \n",
       "0                                          396.0 -0.245635  0.205598   \n",
       "1                                           40.0  3.022764  1.612378   \n",
       "2                                           60.0 -0.274873  0.156622   \n",
       "3                                           12.0 -0.361520  0.003304   \n",
       "4                                            8.0 -0.351059  0.000227   \n",
       "\n",
       "                                                                         \\\n",
       "                            min       25%       50%       75%       max   \n",
       "Cluster_Agglomerative                                                     \n",
       "0                     -0.370071 -0.358976 -0.333060 -0.206926  1.045474   \n",
       "1                      0.679748  1.943378  3.038647  4.106071  8.086949   \n",
       "2                     -0.368138 -0.357640 -0.345659 -0.324121  0.133505   \n",
       "3                     -0.370071 -0.362577 -0.361009 -0.360014 -0.355784   \n",
       "4                     -0.351351 -0.351188 -0.351064 -0.350952 -0.350740   \n",
       "\n",
       "                      Marine Protected Area (sqkm)            ...     Value  \\\n",
       "                                             count      mean  ...       75%   \n",
       "Cluster_Agglomerative                                         ...             \n",
       "0                                            396.0 -0.180497  ... -0.097676   \n",
       "1                                             40.0 -0.139419  ... -0.406331   \n",
       "2                                             60.0  0.058773  ...  3.040295   \n",
       "3                                             12.0  6.131303  ... -0.751243   \n",
       "4                                              8.0 -0.006046  ... -0.412848   \n",
       "\n",
       "                                Country                                    \\\n",
       "                            max   count      mean           std       min   \n",
       "Cluster_Agglomerative                                                       \n",
       "0                      1.334103   396.0  0.166048  9.302358e-01 -1.692228   \n",
       "1                      0.371053    40.0  0.394853  1.109070e+00 -1.611646   \n",
       "2                      3.356415    60.0 -1.128152  1.853066e-01 -1.369899   \n",
       "3                     -0.751243    12.0 -1.531064  4.638361e-16 -1.531064   \n",
       "4                     -0.412848     8.0  0.564076  0.000000e+00  0.564076   \n",
       "\n",
       "                                                               \n",
       "                            25%       50%       75%       max  \n",
       "Cluster_Agglomerative                                          \n",
       "0                     -0.483494  0.161165  0.966988  1.692228  \n",
       "1                     -0.805823  0.886405  1.148298  1.692228  \n",
       "2                     -1.289317 -1.128152 -0.966988 -0.886405  \n",
       "3                     -1.531064 -1.531064 -1.531064 -1.531064  \n",
       "4                      0.564076  0.564076  0.564076  0.564076  \n",
       "\n",
       "[5 rows x 56 columns]"
      ]
     },
     "execution_count": 557,
     "metadata": {},
     "output_type": "execute_result"
    }
   ],
   "source": [
    "clustered_data = agglomerative_dataset.groupby('Cluster_Agglomerative')\n",
    "cluster_describe = clustered_data.describe()\n",
    "cluster_describe"
   ]
  }
 ],
 "metadata": {
  "kernelspec": {
   "display_name": "base",
   "language": "python",
   "name": "python3"
  },
  "language_info": {
   "codemirror_mode": {
    "name": "ipython",
    "version": 3
   },
   "file_extension": ".py",
   "mimetype": "text/x-python",
   "name": "python",
   "nbconvert_exporter": "python",
   "pygments_lexer": "ipython3",
   "version": "3.11.5"
  },
  "orig_nbformat": 4
 },
 "nbformat": 4,
 "nbformat_minor": 2
}

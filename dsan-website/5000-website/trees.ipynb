{
 "cells": [
  {
   "cell_type": "markdown",
   "metadata": {},
   "source": [
    "---\n",
    "title: Decision Trees\n",
    "format: html\n",
    "bibliography: project_reference.bib\n",
    "---\n",
    "\n",
    " <center> ![ ](images/tree.png){width=25%}![ ](images/tree2.png){width=25%} </center>"
   ]
  },
  {
   "cell_type": "markdown",
   "metadata": {},
   "source": [
    "## What are Decision Trees?\n",
    "\n",
    "Decision trees are a method of supervised machine learning used to categorize or make predictions based on how previous sets of questions had been answered. Decision trees provide data scientists with information to make informed decisions and conclusions based off of their data.\n",
    "\n",
    "A few words that I will be referencing throughout this tab are:\n",
    "\n",
    "**Root:** The base or root of the decision tree.\n",
    "**Splitting:** Dividing nodes into subnodes. \n",
    "**Decision Node:** When a sub-node is further split into additional sub-nodes.\n",
    "**Leaf Node:** When a sub-node does not split any further. \n",
    "**Branch:** A subsection of a decision tree.\n",
    "**Pruning:** Removing sub-nodes. \n",
    "\n",
    "The goal of these trees is to have the leaf nodes provided a conclusion about the data. Specifically, I want this tree to classify whether a country is sustainable or not. \n",
    "\n",
    "## Methods\n"
   ]
  },
  {
   "cell_type": "markdown",
   "metadata": {},
   "source": [
    "## Implementing Decision Trees\n",
    "\n",
    "### Importing Libraries "
   ]
  },
  {
   "cell_type": "code",
   "execution_count": 1,
   "metadata": {},
   "outputs": [],
   "source": [
    "import pandas as pd\n",
    "from sklearn.tree import DecisionTreeClassifier\n",
    "from sklearn.model_selection import train_test_split \n",
    "from sklearn import metrics \n",
    "from sklearn.preprocessing import LabelEncoder"
   ]
  },
  {
   "cell_type": "markdown",
   "metadata": {},
   "source": [
    "### Importing Data\n",
    "\n",
    "I will be performing decision tree modeling on the clean merged data with the columns AquaCulture Production, Inventions, Instruments, Value (% of policy related to ocean sustainability) and Fishing Exports.\n",
    "\n"
   ]
  },
  {
   "cell_type": "code",
   "execution_count": null,
   "metadata": {},
   "outputs": [],
   "source": [
    "trees = pd.read_csv(\"/Users/kendallgilbert/dsan-5000-project-kendallgilbert180/dsan-website/5000-website/data/01-modified-data/nb_record.csv\")\n",
    "label_encoder = LabelEncoder()\n",
    "trees['Country'] = label_encoder.fit_transform(trees['Country'])"
   ]
  }
 ],
 "metadata": {
  "kernelspec": {
   "display_name": "base",
   "language": "python",
   "name": "python3"
  },
  "language_info": {
   "codemirror_mode": {
    "name": "ipython",
    "version": 3
   },
   "file_extension": ".py",
   "mimetype": "text/x-python",
   "name": "python",
   "nbconvert_exporter": "python",
   "pygments_lexer": "ipython3",
   "version": "3.11.5"
  }
 },
 "nbformat": 4,
 "nbformat_minor": 2
}

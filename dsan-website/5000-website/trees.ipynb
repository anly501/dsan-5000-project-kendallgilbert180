{
 "cells": [
  {
   "cell_type": "markdown",
   "metadata": {},
   "source": [
    "---\n",
    "title: Decision Trees\n",
    "format: html\n",
    "bibliography: project_reference.bib\n",
    "---\n",
    "\n",
    " <center> ![ ](images/tree.png){width=25%}![ ](images/tree2.png){width=25%} </center>"
   ]
  },
  {
   "cell_type": "markdown",
   "metadata": {},
   "source": [
    "## What are Decision Trees?\n",
    "\n",
    "Decision trees are a method of supervised machine learning used to categorize or make predictions based on how previous sets of questions had been answered. Decision trees provide data scientists with information to make informed decisions and conclusions based off of their data.\n",
    "\n",
    "A few words that I will be referencing throughout this tab are:\n",
    "\n",
    "- **Root:** The base or root of the decision tree.\n",
    "- **Splitting:** Dividing nodes into subnodes. \n",
    "- **Decision Node:** When a sub-node is further split into additional sub-nodes.\n",
    "- **Leaf Node:** When a sub-node does not split any further. \n",
    "- **Branch:** A subsection of a decision tree.\n",
    "- **Pruning:** Removing sub-nodes. \n",
    "\n",
    "Use the navigation bar to view the classification and regression decision trees and random forest modeling that I have completed. "
   ]
  }
 ],
 "metadata": {
  "kernelspec": {
   "display_name": "base",
   "language": "python",
   "name": "python3"
  },
  "language_info": {
   "codemirror_mode": {
    "name": "ipython",
    "version": 3
   },
   "file_extension": ".py",
   "mimetype": "text/x-python",
   "name": "python",
   "nbconvert_exporter": "python",
   "pygments_lexer": "ipython3",
   "version": "3.11.5"
  }
 },
 "nbformat": 4,
 "nbformat_minor": 2
}

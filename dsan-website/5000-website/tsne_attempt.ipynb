{
 "cells": [
  {
   "cell_type": "code",
   "execution_count": 3,
   "metadata": {},
   "outputs": [
    {
     "ename": "ValueError",
     "evalue": "'n_components' should be inferior to 4 for the barnes_hut algorithm as it relies on quad-tree or oct-tree.",
     "output_type": "error",
     "traceback": [
      "\u001b[0;31m---------------------------------------------------------------------------\u001b[0m",
      "\u001b[0;31mValueError\u001b[0m                                Traceback (most recent call last)",
      "\u001b[1;32m/Users/kendallgilbert/dsan-5000-project-kendallgilbert180/dsan-website/5000-website/tsne_attempt.ipynb Cell 1\u001b[0m line \u001b[0;36m2\n\u001b[1;32m     <a href='vscode-notebook-cell:/Users/kendallgilbert/dsan-5000-project-kendallgilbert180/dsan-website/5000-website/tsne_attempt.ipynb#W0sZmlsZQ%3D%3D?line=23'>24</a>\u001b[0m \u001b[39mfor\u001b[39;00m i, perplexity \u001b[39min\u001b[39;00m \u001b[39menumerate\u001b[39m(perplexities):\n\u001b[1;32m     <a href='vscode-notebook-cell:/Users/kendallgilbert/dsan-5000-project-kendallgilbert180/dsan-website/5000-website/tsne_attempt.ipynb#W0sZmlsZQ%3D%3D?line=24'>25</a>\u001b[0m     tsne \u001b[39m=\u001b[39m TSNE(n_components\u001b[39m=\u001b[39m\u001b[39m6\u001b[39m, perplexity\u001b[39m=\u001b[39mperplexity, random_state\u001b[39m=\u001b[39m\u001b[39m42\u001b[39m)\n\u001b[0;32m---> <a href='vscode-notebook-cell:/Users/kendallgilbert/dsan-5000-project-kendallgilbert180/dsan-website/5000-website/tsne_attempt.ipynb#W0sZmlsZQ%3D%3D?line=25'>26</a>\u001b[0m     X_tsne \u001b[39m=\u001b[39m tsne\u001b[39m.\u001b[39mfit_transform(X_scaled)\n\u001b[1;32m     <a href='vscode-notebook-cell:/Users/kendallgilbert/dsan-5000-project-kendallgilbert180/dsan-website/5000-website/tsne_attempt.ipynb#W0sZmlsZQ%3D%3D?line=27'>28</a>\u001b[0m     \u001b[39m# Plot t-SNE results\u001b[39;00m\n\u001b[1;32m     <a href='vscode-notebook-cell:/Users/kendallgilbert/dsan-5000-project-kendallgilbert180/dsan-website/5000-website/tsne_attempt.ipynb#W0sZmlsZQ%3D%3D?line=28'>29</a>\u001b[0m     plt\u001b[39m.\u001b[39msubplot(\u001b[39m1\u001b[39m, \u001b[39mlen\u001b[39m(perplexities), i \u001b[39m+\u001b[39m \u001b[39m1\u001b[39m)\n",
      "File \u001b[0;32m~/anaconda3/lib/python3.11/site-packages/sklearn/utils/_set_output.py:140\u001b[0m, in \u001b[0;36m_wrap_method_output.<locals>.wrapped\u001b[0;34m(self, X, *args, **kwargs)\u001b[0m\n\u001b[1;32m    138\u001b[0m \u001b[39m@wraps\u001b[39m(f)\n\u001b[1;32m    139\u001b[0m \u001b[39mdef\u001b[39;00m \u001b[39mwrapped\u001b[39m(\u001b[39mself\u001b[39m, X, \u001b[39m*\u001b[39margs, \u001b[39m*\u001b[39m\u001b[39m*\u001b[39mkwargs):\n\u001b[0;32m--> 140\u001b[0m     data_to_wrap \u001b[39m=\u001b[39m f(\u001b[39mself\u001b[39m, X, \u001b[39m*\u001b[39margs, \u001b[39m*\u001b[39m\u001b[39m*\u001b[39mkwargs)\n\u001b[1;32m    141\u001b[0m     \u001b[39mif\u001b[39;00m \u001b[39misinstance\u001b[39m(data_to_wrap, \u001b[39mtuple\u001b[39m):\n\u001b[1;32m    142\u001b[0m         \u001b[39m# only wrap the first output for cross decomposition\u001b[39;00m\n\u001b[1;32m    143\u001b[0m         return_tuple \u001b[39m=\u001b[39m (\n\u001b[1;32m    144\u001b[0m             _wrap_data_with_container(method, data_to_wrap[\u001b[39m0\u001b[39m], X, \u001b[39mself\u001b[39m),\n\u001b[1;32m    145\u001b[0m             \u001b[39m*\u001b[39mdata_to_wrap[\u001b[39m1\u001b[39m:],\n\u001b[1;32m    146\u001b[0m         )\n",
      "File \u001b[0;32m~/anaconda3/lib/python3.11/site-packages/sklearn/base.py:1151\u001b[0m, in \u001b[0;36m_fit_context.<locals>.decorator.<locals>.wrapper\u001b[0;34m(estimator, *args, **kwargs)\u001b[0m\n\u001b[1;32m   1144\u001b[0m     estimator\u001b[39m.\u001b[39m_validate_params()\n\u001b[1;32m   1146\u001b[0m \u001b[39mwith\u001b[39;00m config_context(\n\u001b[1;32m   1147\u001b[0m     skip_parameter_validation\u001b[39m=\u001b[39m(\n\u001b[1;32m   1148\u001b[0m         prefer_skip_nested_validation \u001b[39mor\u001b[39;00m global_skip_validation\n\u001b[1;32m   1149\u001b[0m     )\n\u001b[1;32m   1150\u001b[0m ):\n\u001b[0;32m-> 1151\u001b[0m     \u001b[39mreturn\u001b[39;00m fit_method(estimator, \u001b[39m*\u001b[39margs, \u001b[39m*\u001b[39m\u001b[39m*\u001b[39mkwargs)\n",
      "File \u001b[0;32m~/anaconda3/lib/python3.11/site-packages/sklearn/manifold/_t_sne.py:1111\u001b[0m, in \u001b[0;36mTSNE.fit_transform\u001b[0;34m(self, X, y)\u001b[0m\n\u001b[1;32m   1090\u001b[0m \u001b[39m\u001b[39m\u001b[39m\"\"\"Fit X into an embedded space and return that transformed output.\u001b[39;00m\n\u001b[1;32m   1091\u001b[0m \n\u001b[1;32m   1092\u001b[0m \u001b[39mParameters\u001b[39;00m\n\u001b[0;32m   (...)\u001b[0m\n\u001b[1;32m   1108\u001b[0m \u001b[39m    Embedding of the training data in low-dimensional space.\u001b[39;00m\n\u001b[1;32m   1109\u001b[0m \u001b[39m\"\"\"\u001b[39;00m\n\u001b[1;32m   1110\u001b[0m \u001b[39mself\u001b[39m\u001b[39m.\u001b[39m_check_params_vs_input(X)\n\u001b[0;32m-> 1111\u001b[0m embedding \u001b[39m=\u001b[39m \u001b[39mself\u001b[39m\u001b[39m.\u001b[39m_fit(X)\n\u001b[1;32m   1112\u001b[0m \u001b[39mself\u001b[39m\u001b[39m.\u001b[39membedding_ \u001b[39m=\u001b[39m embedding\n\u001b[1;32m   1113\u001b[0m \u001b[39mreturn\u001b[39;00m \u001b[39mself\u001b[39m\u001b[39m.\u001b[39membedding_\n",
      "File \u001b[0;32m~/anaconda3/lib/python3.11/site-packages/sklearn/manifold/_t_sne.py:875\u001b[0m, in \u001b[0;36mTSNE._fit\u001b[0;34m(self, X, skip_num_points)\u001b[0m\n\u001b[1;32m    868\u001b[0m         \u001b[39mraise\u001b[39;00m \u001b[39mTypeError\u001b[39;00m(\n\u001b[1;32m    869\u001b[0m             \u001b[39m'\u001b[39m\u001b[39mTSNE with method=\u001b[39m\u001b[39m\"\u001b[39m\u001b[39mexact\u001b[39m\u001b[39m\"\u001b[39m\u001b[39m does not accept sparse \u001b[39m\u001b[39m'\u001b[39m\n\u001b[1;32m    870\u001b[0m             \u001b[39m'\u001b[39m\u001b[39mprecomputed distance matrix. Use method=\u001b[39m\u001b[39m\"\u001b[39m\u001b[39mbarnes_hut\u001b[39m\u001b[39m\"\u001b[39m\u001b[39m \u001b[39m\u001b[39m'\u001b[39m\n\u001b[1;32m    871\u001b[0m             \u001b[39m\"\u001b[39m\u001b[39mor provide the dense distance matrix.\u001b[39m\u001b[39m\"\u001b[39m\n\u001b[1;32m    872\u001b[0m         )\n\u001b[1;32m    874\u001b[0m \u001b[39mif\u001b[39;00m \u001b[39mself\u001b[39m\u001b[39m.\u001b[39mmethod \u001b[39m==\u001b[39m \u001b[39m\"\u001b[39m\u001b[39mbarnes_hut\u001b[39m\u001b[39m\"\u001b[39m \u001b[39mand\u001b[39;00m \u001b[39mself\u001b[39m\u001b[39m.\u001b[39mn_components \u001b[39m>\u001b[39m \u001b[39m3\u001b[39m:\n\u001b[0;32m--> 875\u001b[0m     \u001b[39mraise\u001b[39;00m \u001b[39mValueError\u001b[39;00m(\n\u001b[1;32m    876\u001b[0m         \u001b[39m\"\u001b[39m\u001b[39m'\u001b[39m\u001b[39mn_components\u001b[39m\u001b[39m'\u001b[39m\u001b[39m should be inferior to 4 for the \u001b[39m\u001b[39m\"\u001b[39m\n\u001b[1;32m    877\u001b[0m         \u001b[39m\"\u001b[39m\u001b[39mbarnes_hut algorithm as it relies on \u001b[39m\u001b[39m\"\u001b[39m\n\u001b[1;32m    878\u001b[0m         \u001b[39m\"\u001b[39m\u001b[39mquad-tree or oct-tree.\u001b[39m\u001b[39m\"\u001b[39m\n\u001b[1;32m    879\u001b[0m     )\n\u001b[1;32m    880\u001b[0m random_state \u001b[39m=\u001b[39m check_random_state(\u001b[39mself\u001b[39m\u001b[39m.\u001b[39mrandom_state)\n\u001b[1;32m    882\u001b[0m n_samples \u001b[39m=\u001b[39m X\u001b[39m.\u001b[39mshape[\u001b[39m0\u001b[39m]\n",
      "\u001b[0;31mValueError\u001b[0m: 'n_components' should be inferior to 4 for the barnes_hut algorithm as it relies on quad-tree or oct-tree."
     ]
    },
    {
     "data": {
      "text/plain": [
       "<Figure size 1500x500 with 0 Axes>"
      ]
     },
     "metadata": {},
     "output_type": "display_data"
    }
   ],
   "source": [
    "import pandas as pd\n",
    "from sklearn.preprocessing import LabelEncoder, StandardScaler\n",
    "from sklearn.decomposition import PCA\n",
    "from sklearn.manifold import TSNE\n",
    "import matplotlib.pyplot as plt\n",
    "\n",
    "# Load the dataset\n",
    "tsne = pd.read_csv(\"/Users/kendallgilbert/dsan-5000-project-kendallgilbert180/dsan-website/5000-website/data/01-modified-data/nb_record.csv\")\n",
    "label_encoder = LabelEncoder()\n",
    "tsne['Country'] = label_encoder.fit_transform(tsne['Country'])\n",
    "X = tsne.drop('Country', axis=1)\n",
    "y = tsne['Country']\n",
    "scaler = StandardScaler()\n",
    "X_scaled = scaler.fit_transform(X)\n",
    "\n",
    "# Apply PCA for comparison\n",
    "pca = PCA(n_components=6)\n",
    "X_pca = pca.fit_transform(X_scaled)\n",
    "\n",
    "# Apply t-SNE with different perplexity values\n",
    "perplexities = [5, 20, 50]\n",
    "plt.figure(figsize=(15, 5))\n",
    "\n",
    "for i, perplexity in enumerate(perplexities):\n",
    "    tsne = TSNE(n_components=6, perplexity=perplexity, random_state=42)\n",
    "    X_tsne = tsne.fit_transform(X_scaled)\n",
    "\n",
    "    # Plot t-SNE results\n",
    "    plt.subplot(1, len(perplexities), i + 1)\n",
    "    plt.scatter(X_tsne[:, 0], X_tsne[:, 1], c=y, cmap='viridis')\n",
    "    plt.title(f't-SNE (Perplexity={perplexity})')\n",
    "\n",
    "# Plot PCA results\n",
    "plt.figure(figsize=(15, 5))\n",
    "plt.subplot(1, 2, 1)\n",
    "plt.scatter(X_pca[:, 0], X_pca[:, 1], c=y, cmap='viridis')\n",
    "plt.title('PCA')\n",
    "\n",
    "# Plot t-SNE with the chosen perplexity for comparison\n",
    "chosen_perplexity = 30\n",
    "tsne = TSNE(n_components=2, perplexity=chosen_perplexity, random_state=42)\n",
    "X_tsne_chosen = tsne.fit_transform(X_scaled)\n",
    "\n",
    "plt.subplot(1, 2, 2)\n",
    "plt.scatter(X_tsne_chosen[:, 0], X_tsne_chosen[:, 1], c=y, cmap='viridis')\n",
    "plt.title(f't-SNE (Perplexity={chosen_perplexity})')\n"
   ]
  },
  {
   "cell_type": "code",
   "execution_count": 2,
   "metadata": {},
   "outputs": [
    {
     "name": "stdout",
     "output_type": "stream",
     "text": [
      "(516, 8)\n"
     ]
    },
    {
     "ename": "NameError",
     "evalue": "name 'LabelEncoder' is not defined",
     "output_type": "error",
     "traceback": [
      "\u001b[0;31m---------------------------------------------------------------------------\u001b[0m",
      "\u001b[0;31mNameError\u001b[0m                                 Traceback (most recent call last)",
      "\u001b[1;32m/Users/kendallgilbert/dsan-5000-project-kendallgilbert180/dsan-website/5000-website/tsne_attempt.ipynb Cell 2\u001b[0m line \u001b[0;36m1\n\u001b[1;32m      <a href='vscode-notebook-cell:/Users/kendallgilbert/dsan-5000-project-kendallgilbert180/dsan-website/5000-website/tsne_attempt.ipynb#W1sZmlsZQ%3D%3D?line=8'>9</a>\u001b[0m \u001b[39mprint\u001b[39m(X\u001b[39m.\u001b[39mshape)\n\u001b[1;32m     <a href='vscode-notebook-cell:/Users/kendallgilbert/dsan-5000-project-kendallgilbert180/dsan-website/5000-website/tsne_attempt.ipynb#W1sZmlsZQ%3D%3D?line=9'>10</a>\u001b[0m \u001b[39m# Encode the 'Country' column\u001b[39;00m\n\u001b[0;32m---> <a href='vscode-notebook-cell:/Users/kendallgilbert/dsan-5000-project-kendallgilbert180/dsan-website/5000-website/tsne_attempt.ipynb#W1sZmlsZQ%3D%3D?line=10'>11</a>\u001b[0m label_encoder \u001b[39m=\u001b[39m LabelEncoder()\n\u001b[1;32m     <a href='vscode-notebook-cell:/Users/kendallgilbert/dsan-5000-project-kendallgilbert180/dsan-website/5000-website/tsne_attempt.ipynb#W1sZmlsZQ%3D%3D?line=11'>12</a>\u001b[0m X[\u001b[39m'\u001b[39m\u001b[39mCountry\u001b[39m\u001b[39m'\u001b[39m] \u001b[39m=\u001b[39m label_encoder\u001b[39m.\u001b[39mfit_transform(X[\u001b[39m'\u001b[39m\u001b[39mCountry\u001b[39m\u001b[39m'\u001b[39m])\n\u001b[1;32m     <a href='vscode-notebook-cell:/Users/kendallgilbert/dsan-5000-project-kendallgilbert180/dsan-website/5000-website/tsne_attempt.ipynb#W1sZmlsZQ%3D%3D?line=13'>14</a>\u001b[0m X_embedded \u001b[39m=\u001b[39m TSNE(n_components\u001b[39m=\u001b[39m\u001b[39m2\u001b[39m, learning_rate\u001b[39m=\u001b[39m\u001b[39m'\u001b[39m\u001b[39mauto\u001b[39m\u001b[39m'\u001b[39m, init\u001b[39m=\u001b[39m\u001b[39m'\u001b[39m\u001b[39mrandom\u001b[39m\u001b[39m'\u001b[39m, perplexity\u001b[39m=\u001b[39m\u001b[39m20\u001b[39m, n_iter\u001b[39m=\u001b[39m\u001b[39m1000\u001b[39m)\u001b[39m.\u001b[39mfit_transform(X)\n",
      "\u001b[0;31mNameError\u001b[0m: name 'LabelEncoder' is not defined"
     ]
    }
   ],
   "source": [
    "from sklearn.datasets import load_digits\n",
    "import numpy as np\n",
    "from sklearn.manifold import TSNE\n",
    "import pandas as pd\n",
    "\n",
    "# LOAD DATA\n",
    "# Load the dataset\n",
    "X = pd.read_csv(\"/Users/kendallgilbert/dsan-5000-project-kendallgilbert180/dsan-website/5000-website/data/01-modified-data/nb_record.csv\")\n",
    "print(X.shape)\n",
    "# Encode the 'Country' column\n",
    "label_encoder = LabelEncoder()\n",
    "X['Country'] = label_encoder.fit_transform(X['Country'])\n",
    "\n",
    "X_embedded = TSNE(n_components=2, learning_rate='auto', init='random', perplexity=20, n_iter=1000).fit_transform(X)\n",
    "X_embedded_2 = TSNE(n_components=2, learning_rate='auto', init='random', perplexity=30, n_iter=1000).fit_transform(X)\n",
    "X_embedded_3 = TSNE(n_components=2, learning_rate='auto', init='random', perplexity=50, n_iter=1000).fit_transform(X)\n",
    "\n",
    "\n",
    "# EXPLORE RESULTS\n",
    "print(\"RESULTS\") \n",
    "print(\"shape : \",X_embedded.shape)\n",
    "print(\"First few points : \\n\",X_embedded[0:2,:])\n",
    "\n",
    "# PLOT \n",
    "plt.scatter(X_embedded[:,0],X_embedded[:,1], alpha=0.5)\n",
    "plt.show()\n",
    "\n",
    "\n",
    "# EXPLORE RESULTS\n",
    "print(\"RESULTS\") \n",
    "print(\"shape : \",X_embedded_2.shape)\n",
    "print(\"First few points : \\n\",X_embedded[0:2,:])\n",
    "\n",
    "# PLOT \n",
    "plt.scatter(X_embedded_2[:,0],X_embedded_2[:,1], alpha=0.5)\n",
    "plt.show()"
   ]
  }
 ],
 "metadata": {
  "kernelspec": {
   "display_name": "base",
   "language": "python",
   "name": "python3"
  },
  "language_info": {
   "codemirror_mode": {
    "name": "ipython",
    "version": 3
   },
   "file_extension": ".py",
   "mimetype": "text/x-python",
   "name": "python",
   "nbconvert_exporter": "python",
   "pygments_lexer": "ipython3",
   "version": "3.11.5"
  }
 },
 "nbformat": 4,
 "nbformat_minor": 2
}

{
 "cells": [
  {
   "cell_type": "markdown",
   "metadata": {},
   "source": [
    "## Naive Bayes - Record Data"
   ]
  },
  {
   "cell_type": "code",
   "execution_count": 17,
   "metadata": {},
   "outputs": [
    {
     "name": "stdout",
     "output_type": "stream",
     "text": [
      "Testing Accuracy: 1.0\n",
      "Testing Classification Report:\n",
      "               precision    recall  f1-score   support\n",
      "\n",
      "           0       1.00      1.00      1.00       129\n",
      "\n",
      "    accuracy                           1.00       129\n",
      "   macro avg       1.00      1.00      1.00       129\n",
      "weighted avg       1.00      1.00      1.00       129\n",
      "\n",
      "Validation Accuracy: 1.0\n",
      "Validation Classification Report:\n",
      "               precision    recall  f1-score   support\n",
      "\n",
      "           0       1.00      1.00      1.00       129\n",
      "\n",
      "    accuracy                           1.00       129\n",
      "   macro avg       1.00      1.00      1.00       129\n",
      "weighted avg       1.00      1.00      1.00       129\n",
      "\n"
     ]
    }
   ],
   "source": [
    "import pandas as pd\n",
    "from sklearn.model_selection import train_test_split\n",
    "from sklearn.preprocessing import LabelEncoder\n",
    "# Loading Merged Data\n",
    "nb_merged = pd.read_csv(\"/Users/kendallgilbert/dsan-5000-project-kendallgilbert180/dsan-website/5000-website/data/01-modified-data/merged.csv\")\n",
    "\n",
    "# Define the target based on specified criteria\n",
    "criteria = (nb_merged['Marine Protected Area (sqkm)'] > 1800) & \\\n",
    "           (nb_merged['Aqua Production (Millions)'] > 105588) & \\\n",
    "           (nb_merged['Fishing Exports (Millions)'] > 2400) & \\\n",
    "           (nb_merged['Inventions (number)'] >= 70) & \\\n",
    "           (nb_merged['Instruments (number)'] >= 100)\n",
    "\n",
    "# Create the \"Innovative\" target variable. Innovative is 0, Non innovative is 1\n",
    "nb_merged['Innovative'] = criteria.astype(int)\n",
    "\n",
    "# Convert all numeric columns to integers\n",
    "numeric_cols = nb_merged.select_dtypes(include=['number'])\n",
    "nb_merged[numeric_cols.columns] = numeric_cols.astype(int)\n",
    "\n",
    "# Encode the \"Country\" column using LabelEncoder\n",
    "label_encoder = LabelEncoder()\n",
    "nb_merged['Country'] = label_encoder.fit_transform(nb_merged['Country'])\n",
    "\n",
    "# Split the data into features (X) and the target (y)\n",
    "X = nb_merged.drop('Innovative', axis=1)\n",
    "y = nb_merged['Innovative']\n",
    "\n",
    "# Split the data into training and the remaining data\n",
    "X_train, X_remaining, y_train, y_remaining = train_test_split(X, y, test_size=0.3, random_state=42)\n",
    "\n",
    "# Split the remaining data into testing and validation sets\n",
    "X_test, X_val, y_test, y_val = train_test_split(X_remaining, y_remaining, test_size=0.5, random_state=42)\n",
    "\n",
    "from sklearn.naive_bayes import GaussianNB\n",
    "from sklearn.metrics import accuracy_score, classification_report\n",
    "\n",
    "# Create a Gaussian Naive Bayes classifier\n",
    "gnb = GaussianNB()\n",
    "\n",
    "gnb.fit(X_train, y_train)\n",
    "\n",
    "# Make predictions on the testing set\n",
    "y_test_pred = gnb.predict(X_test)\n",
    "\n",
    "# Make predictions on the validation set\n",
    "y_val_pred = gnb.predict(X_val)\n",
    "\n",
    "# Evaluate the model's performance on the testing set\n",
    "accuracy_test = accuracy_score(y_test, y_test_pred)\n",
    "print(\"Testing Accuracy:\", accuracy_test)\n",
    "\n",
    "# Generate a classification report for more detailed performance metrics on the testing set\n",
    "classification_report_test = classification_report(y_test, y_test_pred)\n",
    "print(\"Testing Classification Report:\\n\", classification_report_test)\n",
    "\n",
    "# Evaluate the model's performance on the validation set\n",
    "accuracy_val = accuracy_score(y_val, y_val_pred)\n",
    "print(\"Validation Accuracy:\", accuracy_val)\n",
    "\n",
    "# Generate a classification report for more detailed performance metrics on the validation set\n",
    "classification_report_val = classification_report(y_val, y_val_pred)\n",
    "print(\"Validation Classification Report:\\n\", classification_report_val)\n"
   ]
  },
  {
   "cell_type": "markdown",
   "metadata": {},
   "source": [
    "## Confusion Matrix\n",
    "\n",
    "A table with two rows and two columns that reports the number of true positives, false negatives, false positives, and true negatives."
   ]
  },
  {
   "cell_type": "code",
   "execution_count": 13,
   "metadata": {},
   "outputs": [
    {
     "data": {
      "image/png": "[encoded data removed]",
      "text/plain": [
       "<Figure size 800x600 with 2 Axes>"
      ]
     },
     "metadata": {},
     "output_type": "display_data"
    }
   ],
   "source": [
    "from sklearn.metrics import confusion_matrix\n",
    "import seaborn as sns\n",
    "import matplotlib.pyplot as plt\n",
    "\n",
    "# Calculate the confusion matrix\n",
    "cm = confusion_matrix(y_test_pred, y_val_pred)\n",
    "\n",
    "# Plot the confusion matrix as a heatmap\n",
    "plt.figure(figsize=(8, 6))\n",
    "sns.heatmap(cm, annot=True, fmt='d', cmap='Blues')\n",
    "plt.xlabel('Predicted')\n",
    "plt.ylabel('Actual')\n",
    "plt.title('Confusion Matrix')\n",
    "plt.show()\n"
   ]
  },
  {
   "cell_type": "markdown",
   "metadata": {},
   "source": [
    "## ROC Curve \n",
    "\n",
    "An ROC curve (receiver operating characteristic curve) is a graph showing the performance of a classification model at all classification thresholds. This curve plots two parameters: True Positive Rate. False Positive Rate"
   ]
  },
  {
   "cell_type": "code",
   "execution_count": 18,
   "metadata": {},
   "outputs": [
    {
     "ename": "IndexError",
     "evalue": "index 1 is out of bounds for axis 1 with size 1",
     "output_type": "error",
     "traceback": [
      "\u001b[0;31m---------------------------------------------------------------------------\u001b[0m",
      "\u001b[0;31mIndexError\u001b[0m                                Traceback (most recent call last)",
      "\u001b[1;32m/Users/kendallgilbert/dsan-5000-project-kendallgilbert180/dsan-website/5000-website/nb_attempt.ipynb Cell 6\u001b[0m line \u001b[0;36m4\n\u001b[1;32m      <a href='vscode-notebook-cell:/Users/kendallgilbert/dsan-5000-project-kendallgilbert180/dsan-website/5000-website/nb_attempt.ipynb#W2sZmlsZQ%3D%3D?line=0'>1</a>\u001b[0m \u001b[39mfrom\u001b[39;00m \u001b[39msklearn\u001b[39;00m\u001b[39m.\u001b[39;00m\u001b[39mmetrics\u001b[39;00m \u001b[39mimport\u001b[39;00m roc_curve, roc_auc_score\n\u001b[1;32m      <a href='vscode-notebook-cell:/Users/kendallgilbert/dsan-5000-project-kendallgilbert180/dsan-website/5000-website/nb_attempt.ipynb#W2sZmlsZQ%3D%3D?line=2'>3</a>\u001b[0m \u001b[39m# Calculate ROC curve\u001b[39;00m\n\u001b[0;32m----> <a href='vscode-notebook-cell:/Users/kendallgilbert/dsan-5000-project-kendallgilbert180/dsan-website/5000-website/nb_attempt.ipynb#W2sZmlsZQ%3D%3D?line=3'>4</a>\u001b[0m fpr, tpr, thresholds \u001b[39m=\u001b[39m roc_curve(y_test, gnb\u001b[39m.\u001b[39mpredict_proba(X_test)[:, \u001b[39m1\u001b[39m])\n\u001b[1;32m      <a href='vscode-notebook-cell:/Users/kendallgilbert/dsan-5000-project-kendallgilbert180/dsan-website/5000-website/nb_attempt.ipynb#W2sZmlsZQ%3D%3D?line=5'>6</a>\u001b[0m \u001b[39m# Plot ROC curve\u001b[39;00m\n\u001b[1;32m      <a href='vscode-notebook-cell:/Users/kendallgilbert/dsan-5000-project-kendallgilbert180/dsan-website/5000-website/nb_attempt.ipynb#W2sZmlsZQ%3D%3D?line=6'>7</a>\u001b[0m plt\u001b[39m.\u001b[39mfigure(figsize\u001b[39m=\u001b[39m(\u001b[39m8\u001b[39m, \u001b[39m6\u001b[39m))\n",
      "\u001b[0;31mIndexError\u001b[0m: index 1 is out of bounds for axis 1 with size 1"
     ]
    }
   ],
   "source": [
    "from sklearn.metrics import roc_curve, roc_auc_score\n",
    "\n",
    "# Calculate ROC curve\n",
    "fpr, tpr, thresholds = roc_curve(y_test, gnb.predict_proba(X_test)[:, 1])\n",
    "\n",
    "# Plot ROC curve\n",
    "plt.figure(figsize=(8, 6))\n",
    "plt.plot(fpr, tpr, label='ROC curve (area = %0.2f)' % roc_auc_score(y_test, gnb.predict_proba(X_test)[:, 1]))\n",
    "plt.plot([0, 1], [0, 1], 'k--')\n",
    "plt.xlim([0.0, 1.0])\n",
    "plt.ylim([0.0, 1.05])\n",
    "plt.xlabel('False Positive Rate')\n",
    "plt.ylabel('True Positive Rate')\n",
    "plt.title('Receiver Operating Characteristic (ROC) Curve')\n",
    "plt.legend(loc=\"lower right\")\n",
    "plt.show()\n"
   ]
  }
 ],
 "metadata": {
  "kernelspec": {
   "display_name": "base",
   "language": "python",
   "name": "python3"
  },
  "language_info": {
   "codemirror_mode": {
    "name": "ipython",
    "version": 3
   },
   "file_extension": ".py",
   "mimetype": "text/x-python",
   "name": "python",
   "nbconvert_exporter": "python",
   "pygments_lexer": "ipython3",
   "version": "3.11.5"
  }
 },
 "nbformat": 4,
 "nbformat_minor": 2
}

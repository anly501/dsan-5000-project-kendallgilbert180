{
 "cells": [
  {
   "cell_type": "markdown",
   "metadata": {},
   "source": [
    "---\n",
    "title: \"Introduction\"\n",
    "format: html\n",
    "bibliography: project_reference.bib\n",
    "---"
   ]
  },
  {
   "cell_type": "markdown",
   "metadata": {},
   "source": [
    "This project will look at the data behind the impact minor league professional sports teams have on regional areas. Specifically, minor league baseball, basketball, soccer, football and ice hockey data. "
   ]
  },
  {
   "cell_type": "markdown",
   "metadata": {},
   "source": [
    "I will look at the data behind the impact minor league professional sports teams have on regional areas and communities. This project analyzes data from a majority of minor league sports in the United States including minor league baseball, basketball, soccer, football and ice hockey and data about community benefits The analysis seeks to answer questions such as:\n",
    "\n",
    "\n",
    "- “Do minor league sports teams create jobs for a community?”\n",
    "\n",
    "- “Are communities with minor league sports teams healthier and happier?”\n",
    "\n",
    "- “Should local governments invest in minor league team facilities and players? If so, how much?”\n",
    "\n",
    "\n",
    "I will be looking closely at minor league sports' economic impact on an area as well as their impact on the surrounding community as a whole. I will also analyze the challenges and setbacks that come alongside these teams when it comes to the economy and community and if they stand in the way of an overall positive impact these teams could have on a specific region. \n",
    "\n",
    "\n",
    "This is important because minor league sports play a role in numerous people's lives but no one stops to think about the impact these teams are having overall for a community. For example, there are 130 Minor League Baseball teams and only 30 Major League Baseball teams [@noauthor_about_nodate] - this means that there are 75% more Minor League teams than Major League. These teams are in theory impacting the surrounding regions in more ways than one that often goes unquantified and a closer look will help organizations and governments decide whether to invest in local teams, how much and how so. \n",
    "\n",
    "\n",
    "This portfolio will explain, analyze and visualize in a clear and concise manner the impact these minor league teams are having on a specific region with data. Within this website, the raw data, cleaned data, visualizations and analysis will be in one place and easy to explore for investors and decision makers such as a development group deciding whether to place a minor league team in a certain location and the type of facility to provide to players and fans.\n",
    "\n",
    "\n",
    "Significant research has been done analyzing the impact minor league **baseball** has on a region, but I have yet to come across a wealth of research that conveys the impact other minor league sports are having on a community. My project will target all minor league sports team data in the US, not just baseball.\n",
    "\n",
    "\n",
    "**Additional Questions Being Addressed:**\n",
    "\n",
    "\n",
    "**Economic Impact**\n",
    "\n",
    "- How are these teams influencing the economy when it comes to jobs? \n",
    "- How are these teams influencing the economy when it comes to tourism?\n",
    "- Are minor league sports influencing the economy in regards to their overall revenue?\n",
    "- Do these minor league sports impact surrounding local businesses (ex: restaurants, shops, bars)?\n",
    "- Are these teams making enough money to continue to be a part of the community in the future?\n",
    "- Is the cost of having an actual team hindering the positives of minor league sports in a community?\n",
    "\n",
    "\n",
    "**Community Impact**\n",
    "\n",
    "- Do minor league sports foster a sense of community / community pride?\n",
    "- Are these sports providing families and members of the community with an accessible and enjoyable sports game?\n",
    "- Do minor league sports have an impact that contributes to a sports player or fans sense of well being / mental health?\n",
    "- Are the minor league players committed towards providing a positive experience for their fans? Or are they more interested in working their way up to a higher level team?\n",
    "- Are these sports teams improving community members' quality of life?\n",
    "- Does the location of the team / competition have an impact on the teams attendance and impact in the community?\n",
    "- How many people are attending these games and are those attending enjoying the game?\n",
    "- Are these teams negatively impacting the community in any way?\n",
    "\n",
    "**Hypothesis**\n",
    "\n",
    "Although often unnoticed nor quantified, minor league sports teams have an impact either positive or negative on regional areas due to their influence on the economy and community. \n",
    "\n",
    "\n",
    "I want this project to clearly and concisely display both the positive impact these teams have on regional areas in addition to the negative impact these teams could be having on specific locations. By the end of the project, I will be able to support my hypothesis through data exploration and clearly display the impact these teams are having on regions.\n",
    "\n",
    "The analysis will also provide a tool for organizations, local governments and developers to use when deciding if and how to invest in a minor league sports team.\n",
    "\n",
    "**Relevant Academic Publications**\n",
    "\n",
    "The article, “The Economic Impact of Stadiums and Teams: The Case of Minor League Baseball” goes in depth on the impact minor league baseball stadiums have on their surrounding communities. The results of the extensive research is non positive with minimal negative results, and the researcher makes it clear that, “considerable work is still necessary to refine our understanding of the effects of minor league sports on local economies.” The publication also mentions that the positive impact of minor league sports may not be just related to baseball but other sports like hockey and soccer as well[@agha_economic_2013]. My research will aim to further pursue the impact of minor league sports. \n",
    "\n",
    "\n",
    "The article, “MINOR LEAGUE BASEBALL: RISKS AND POTENTIAL BENEFITS FOR COMMUNITIES LARGE AND SMALL” talks about the potential risks of investing in a minor league baseball stadium. The article homes in on the point that the risks can outweigh the benefits if approached correctly. These minor league baseball stadiums are not always bringing in large quantities of money but they are improving the communities quality of life and may be worth it from a public policy standpoint. Furthermore, this article talks about where stadiums will be most beneficial. For example, a team must be playing more than 70 games [@johnson_minor_1998].\n",
    "\n",
    "\n"
   ]
  }
 ],
 "metadata": {
  "language_info": {
   "name": "python"
  },
  "orig_nbformat": 4
 },
 "nbformat": 4,
 "nbformat_minor": 2
}

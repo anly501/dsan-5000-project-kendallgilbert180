{
 "cells": [
  {
   "cell_type": "markdown",
   "metadata": {},
   "source": [
    "---\n",
    "title: \"Introduction\"\n",
    "format: html\n",
    "bibliography: project_reference.bib\n",
    "---"
   ]
  },
  {
   "cell_type": "markdown",
   "metadata": {},
   "source": [
    "*Updates in progress\n",
    "\n",
    "## Overview \n",
    "\n",
    "## **Hypothesis / Goals**\n",
    "\n",
    "\n",
    "## **Additional Questions Being Addressed:**\n",
    "\n",
    "\n",
    "## **Relevant Academic Publications**\n",
    "\n",
    "\n"
   ]
  }
 ],
 "metadata": {
  "language_info": {
   "name": "python"
  },
  "orig_nbformat": 4
 },
 "nbformat": 4,
 "nbformat_minor": 2
}

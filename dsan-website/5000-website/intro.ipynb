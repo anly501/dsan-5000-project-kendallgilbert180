{
 "cells": [
  {
   "cell_type": "markdown",
   "metadata": {},
   "source": [
    "---\n",
    "title: \"Introduction\"\n",
    "format: html\n",
    "bibliography: project_reference.bib\n",
    "---"
   ]
  },
  {
   "cell_type": "markdown",
   "metadata": {},
   "source": [
    "## Overview \n",
    "\n",
    "This project will look at the data behind ocean sustainability. This project will analyze data touching upon the necessity of ocean sustainability, how the ocean benefits us, the negative impacts humans have on ocean sustainability, the benefits of investing in ocean sustainability and what is currently being done to help sustainability.\n",
    "\n",
    "The analysis seeks to answer questions such as:\n",
    "\n",
    "- What is the Importance of Ocean Sustainability?\n",
    "- What Negative Impacts Do Humans Have on Ocean Sustainability?\n",
    "- What Is Currently Being Done for Ocean Sustainability?\n",
    "\n",
    "Ocean sustainability is the approach required to manage our oceans and the services they provide.  Ocean-related industries in many countries have expanded with insufficient consideration for the environment, risking the natural resources and the essential marine ecosystem services on which economies and people’s well-being depend. The ocean is our planet's largest ecosystem, with over a million species and scientists have yet to explore a majority of this ecosystem[]\n",
    "\n",
    "## **Hypothesis / Goals**\n",
    "\n",
    "Ocean sustainability has an impact on our world and is necessary for the future health of our world's oceans. \n",
    "\n",
    "I want this project to clearly and concisely display the need for ocean sustainability in addition to what is being done and how it has helped so far. By the end of the project, I will be able to support my hypothesis through data exploration and clearly display the impact of ocean sustainability. \n",
    "\n",
    "The analysis will also provide a tool for organizations, local governments and developers to use when deciding if and how to invest in ocean sustainability.\n",
    "\n",
    "\n",
    "## **Additional Questions Being Addressed:**\n",
    "\n",
    "- What is the importance of ocean sustainability?\n",
    "- Why is ocean sustainability necessary for the future of our world?\n",
    "- What negative impacts do humans have on ocean sustainability?\n",
    "- What Is currently being done to help ocean sustainability?\n",
    "- What are the benefits of investing in ocean sustainability?\n",
    "- How does the ocean benefit us?\n",
    "- Why is the ocean important to the economy?\n",
    "- Why is the ocean important to marine life?\n",
    "- How does the ocean contribute to the wellness of communities?\n",
    "- What will happen if we do not invest time in ocean sustainability?\n",
    "\n",
    "\n",
    "## **Relevant Academic Publications**\n",
    "\n",
    "\n"
   ]
  }
 ],
 "metadata": {
  "language_info": {
   "name": "python"
  },
  "orig_nbformat": 4
 },
 "nbformat": 4,
 "nbformat_minor": 2
}

{
 "cells": [
  {
   "cell_type": "markdown",
   "metadata": {},
   "source": [
    "## Feature Selection Overview\n",
    "\n",
    "\n",
    "Feature Selection is a crucial component of data science, especially when dealing with large data sets. The primary objective of feature selection is identifying and choosing the most relevant features from the data set for the given task. I used feature selection to improve the overall accuracy of my Naive Bayes model for record data and text data. Feature selection returns a subset of original features. There are many ways to approach feature selection.\n",
    "\n",
    "\n",
    "**Why do we use feature selection?**\n",
    "\n",
    "\n",
    "Data often contains features that are either redundant or irrelevant. This unhelpful data can be removed without incurring much loss of information.\n",
    "\n",
    "\n",
    "Benefits of Feature Selection\n",
    "\n",
    "\n",
    "- Shorter training times\n",
    "- Faster model evaluation\n",
    "- Simple models are easier to interpret\n",
    "- Helps with “curse of dimensionality”\n",
    "- Helps overfitting\n",
    "- Improve data's compatibility with a learning model\n",
    "\n",
    "Main categories of feature selection algorithms that we learned about in class:\n",
    "\n",
    "- **Wrapper:** Algorithms of this type are “wrapped” around a predictive model to score different feature subsets.\n",
    "- **Embedded:** A catch-all group of techniques which perform feature selection as part of the model construction process.\n",
    "- **Filters:** An independent step in the feature selection process, conducted before the actual learning algorithm.\n",
    "\n",
    "Within my naive bayes modeling I ran the model on non-feature selected data, completed feature selection then ran the model on the feature selected data in order to improve the accuracy of the model.\n",
    "\n",
    "To see the specific steps I took in an effort to improve these models you can read through the naive bayes tabs for both record and text data.\n"
   ]
  },
  {
   "cell_type": "markdown",
   "metadata": {},
   "source": []
  }
 ],
 "metadata": {
  "language_info": {
   "name": "python"
  },
  "orig_nbformat": 4
 },
 "nbformat": 4,
 "nbformat_minor": 2
}

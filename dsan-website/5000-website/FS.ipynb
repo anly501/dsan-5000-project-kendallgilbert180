{
 "cells": [
  {
   "cell_type": "markdown",
   "metadata": {},
   "source": [
    "## Feature Selection Overview\n",
    "\n",
    "Feature Selection is a crucial component of data science, especially when dealing with large data sets. The primary objective of feature selection is identifying and choosing the most relevant features from the data set for the given task. I used feature selection to improove the overall accuracy of my Naive Bayes model. Feature selection returns a subset of original features. \n",
    "\n",
    "Why do we use feature selection?\n",
    "\n",
    "Raw data often contains features that are either redundant or irrelevant. This unhelpful data can be removed without incurring much loss of information.\n",
    "\n",
    "Benefits of Feature Selection\n",
    "\n",
    "- shorter training times, faster model evaluation\n",
    "- More simple models are easier to interpret\n",
    "- Reduces effects of the “curse of dimensionality”\n",
    "- More simple models are typically less prone to overfitting\n",
    "- Improve data's compatibility with a learning model\n",
    "\n",
    "Main categories of feature selection algorithms: \n",
    "\n",
    "- Wrapper: Algorithms of this type are “wrapped” around a predictive model to score different feature subsets. As wrapper methods train a new model for each subset, they are very computationally intensive, but usually provide the best performing feature set for that particular type of model or problem.\n",
    "Each new subset is used to train a model, which is tested on a holdout set. Counting the number of mistakes made on that hold-out set (i.e. validation error) gives the score for that subset.\n",
    "- Embedded: A catch-all group of techniques which perform feature selection as part of the model construction process.\n",
    "- Filters: An independent step in the feature selection process, conducted before the actual learning algorithm."
   ]
  },
  {
   "cell_type": "markdown",
   "metadata": {},
   "source": []
  }
 ],
 "metadata": {
  "language_info": {
   "name": "python"
  },
  "orig_nbformat": 4
 },
 "nbformat": 4,
 "nbformat_minor": 2
}

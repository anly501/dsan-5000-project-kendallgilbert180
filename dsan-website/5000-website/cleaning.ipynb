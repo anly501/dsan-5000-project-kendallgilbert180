{
 "cells": [
  {
   "cell_type": "markdown",
   "metadata": {},
   "source": [
    "# Data Cleaning \n",
    "\n",
    "<center> ![ ](images/cleaning.png){width=40%} </center>"
   ]
  },
  {
   "cell_type": "markdown",
   "metadata": {},
   "source": [
    "## Data Cleaning Process\n",
    "\n",
    "Data Cleaning is a key step in any project. Within this tab you will have access to all of my data, descriptions about how it was cleaned, and access to the codes used to clean it.\n",
    "\n",
    "Data cleaning is a non-linear process and takes an exstensive amount of time.\n",
    "\n",
    "I will walk through my data cleaning experience as well as provide links to the clean data and code I wrote to clean the data.\n",
    "\n",
    "If you are looking for a link to the cleaning code without reading how it was completed in detail click [here](codes/02-data-cleaning/newjc.ipynb).\n",
    "\n",
    "*All Raw and Modified Data can be found under the Data tab*"
   ]
  },
  {
   "cell_type": "markdown",
   "metadata": {},
   "source": [
    "## Cleaning Data\n",
    "Within this project I used 6 datasets all from the OECD, therefore the cleaning process was relatively the same for each dataset.\n",
    "\n",
    "I typically followed the same structure for cleaning each indiviual data sets. \n",
    "\n",
    "1. **Importing**: I imported the data into Python to clean\n",
    "\n",
    "2. **Fixing Headers**: For all five data sources that came from the OECD database, the headers were extremely messed up when importing them into Python. To combat this issue I had to grab the first row - which is where the headers were, and set the first row as the new header. \n",
    "\n",
    "3. **Renaming Columns**: The column headers for all these datsets needed to be labeled Country and Individual years (ex: 2001, 2002). This was not the case, therefore I had to manually edit each column header.\n",
    "\n",
    "4. **Getting rid of Whitespace**: Knowing that I was eventually meging multiple datasets, I wanted all the values to be consistent so there would be no issues. \n",
    "\n",
    "5. **Melting Data**: Country column remains the identifier variable and year is the variable column.\n",
    "\n",
    "5. **New Columns**: Creation of new column that combined Year and Column so merging would be easier. \n",
    "\n",
    "6. **Exporting as csv**:\n",
    "\n",
    "## Joining Data\n",
    "\n",
    "After cleaning the the five independant data sets, I joined them into one large dataset. I completed this join using inner join therefore I would have no missing values within my dataset. \n",
    "\n",
    "Inner join is a technique used to combine records from two tables whenever there are matching values in a field common to both tables.\n",
    "\n",
    "After merging this data I split the \"Country_Year\" columns to make data analysis easier in the future. \n",
    "\n",
    "## Clean Data Summary \n",
    "\n",
    "Overall, although this data cleaning process was relatively simple, it was extremely time consuming due to the non-linearity of the process. \n",
    "\n"
   ]
  },
  {
   "cell_type": "markdown",
   "metadata": {},
   "source": [
    "## Cleaning Data for Naive Bayes (added later)\n",
    "\n",
    "To see the cleaning and tidying process for seventh variable I added to the dataset for naive bayes model follow this link [here](codes/02-data-cleaning/cleaning_policy.ipynb)\n",
    "\n",
    "## Preview of Merged Data\n",
    "\n"
   ]
  },
  {
   "cell_type": "markdown",
   "metadata": {},
   "source": []
  },
  {
   "cell_type": "markdown",
   "metadata": {},
   "source": [
    "<center> ![ ](images/exampl.png){width=100%} </center>"
   ]
  }
 ],
 "metadata": {
  "kernelspec": {
   "display_name": "base",
   "language": "python",
   "name": "python3"
  },
  "language_info": {
   "codemirror_mode": {
    "name": "ipython",
    "version": 3
   },
   "file_extension": ".py",
   "mimetype": "text/x-python",
   "name": "python",
   "nbconvert_exporter": "python",
   "pygments_lexer": "ipython3",
   "version": "3.11.5"
  },
  "orig_nbformat": 4
 },
 "nbformat": 4,
 "nbformat_minor": 2
}

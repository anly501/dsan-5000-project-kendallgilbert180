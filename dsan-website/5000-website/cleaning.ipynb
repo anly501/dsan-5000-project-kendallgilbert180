{
 "cells": [
  {
   "cell_type": "markdown",
   "metadata": {},
   "source": [
    "# Data Cleaning \n",
    "\n",
    "![ ](images/cleaning.png){width=30%}"
   ]
  },
  {
   "cell_type": "markdown",
   "metadata": {},
   "source": [
    "Data Cleaning is a key step in any project. Within this tab you will have access to all of my data, descriptions about how it was cleaned, and access to the codes used to clean it.\n",
    "\n",
    "This tab will be split up into the same section as the data cleaning tab:\n",
    "\n",
    "1. Why Ocean Sustainability is Necessary\n",
    "2. How the Ocean Helps Us\n",
    "3. Negative Impacts on Ocean Sustainability / Human Impact\n",
    "4. Benefits of Investing in Sustainability\n",
    "5. What is Currently Being Done to Help\n",
    "\n",
    "I will walk through my data cleaning experience as well as provide links to every step. \n",
    "\n",
    "I will remain consistent in the labeling of all data sources and steps. \n",
    "\n",
    "- **Raw Data:** \"1a\" - In \"00-raw-data\"\n",
    "- **Cleaning Steps:** Cleaning_1a\" - In \"02-data-cleaning\"\n",
    "- **Cleaned Data:** \"Clean_1a\" - In \"1-modified-data\"\n"
   ]
  },
  {
   "cell_type": "markdown",
   "metadata": {},
   "source": [
    "\n",
    "## Why Ocean Sustainability is Necessary\n",
    "**Plastic Leakage by Region (1a)**\n",
    "\n",
    "**Raw Data:** [Here](data/00-raw-data/1a.csv)\n",
    "\n",
    "**Cleaning Steps:** [R Code](codes/02-data-cleaning/cleaning_data1a.R)\n",
    "\n",
    "1. Reading in Dataset as CSV to R Studio\n",
    "2. First look at data\n",
    "3. Viewing Column Names to see duplicates\n",
    "    - Noticed duplicate names for location, water source and time \n",
    "    - Looked into if the duplicates had the same values and if not what was the difference between them\n",
    "4. Getting rid of rows that had numbers for freshwater since my project is only addressing ocean sustainability. \n",
    "5. Removing Unnecessary columns that won’t help me address my question\n",
    "6. Exporting as a CSV dataset to clean data folder\n",
    "\n",
    "**Clean Data:** [Here](data/01-modified-data/1a.csv)\n",
    "\n",
    "**Overview:**\n",
    "\n",
    "- Number of Columns: 4\n",
    "- Number of Rows: 630\n",
    "- Column Names: Location, Water Source, Time, Values(Tonnes of Plastic)\n",
    "\n",
    "## How the Ocean Helps Us\n",
    "**Beach Attendance (2a)**\n",
    "\n",
    "\n",
    "**Employment in Ocean Sectors (2b)**\n",
    "\n",
    "\n",
    "\n",
    "\n",
    "## Negative Impacts on Ocean Sustainability / Human Impact\n",
    "**Plastic Pollution (3a)**\n",
    "\n",
    "\n",
    " **Mismanaged Plastic Waste (3b)**\n",
    "\n",
    "\n",
    "## Benefits of Investing in Sustainability\n",
    "\n",
    "**Aquaculture Production (4a)**\n",
    "\n",
    "\n",
    "**Aquaculture Production - CatFish (4b)**\n",
    "\n",
    "\n",
    "## What is Currently Being Done\n",
    "\n",
    "**Marine Pollution Act (5a)**\n",
    "\n",
    "\n",
    "**Marine Pollution Act Numbers (5b)**\n",
    "\n",
    "\n",
    "\n"
   ]
  }
 ],
 "metadata": {
  "kernelspec": {
   "display_name": "base",
   "language": "python",
   "name": "python3"
  },
  "language_info": {
   "codemirror_mode": {
    "name": "ipython",
    "version": 3
   },
   "file_extension": ".py",
   "mimetype": "text/x-python",
   "name": "python",
   "nbconvert_exporter": "python",
   "pygments_lexer": "ipython3",
   "version": "3.11.5"
  },
  "orig_nbformat": 4
 },
 "nbformat": 4,
 "nbformat_minor": 2
}

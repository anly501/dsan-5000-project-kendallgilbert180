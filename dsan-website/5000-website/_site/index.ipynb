{
  "cells": [
    {
      "cell_type": "raw",
      "metadata": {},
      "source": [
        "---\n",
        "title: \"DSAN-5000 Project\"\n",
        "---"
      ]
    },
    {
      "cell_type": "markdown",
      "metadata": {},
      "source": [
        "Kendall Gilbert \n",
        "\n",
        "**Contact:**\n",
        "\n",
        "- Email: kmg180@georgetown.edu\n",
        "- GU Net ID: G00998695\n",
        "\n",
        "This website will act as a hub for my DSAN Project. You can learn more about me, this project and my goals by toggling through the nav bar. Enjoy!\n",
        "\n",
        "![ ](images/hp.jpeg){width=90%}"
      ]
    }
  ],
  "metadata": {
    "kernelspec": {
      "display_name": "Python 3 (ipykernel)",
      "language": "python",
      "name": "python3"
    }
  },
  "nbformat": 4,
  "nbformat_minor": 4
}

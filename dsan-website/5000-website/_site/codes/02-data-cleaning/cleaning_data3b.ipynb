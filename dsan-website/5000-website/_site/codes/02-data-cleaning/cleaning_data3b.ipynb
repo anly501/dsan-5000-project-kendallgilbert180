#Importing Data into Python Environment
#%%
import pandas as pd
data3b = pd.read_csv("/Users/kendallgilbert/dsan-5000-project-kendallgilbert180/dsan-website/5000-website/data/00-raw-data/3b.csv")
print(data3b.head())
print(len(data3b)) #194 Rows
#This dataset gives us information from 2010 and 2019 - could be used to show us how we have not made any improvement.

# %% Checking for NAN values
nan_count = data3b.isna().sum()
print(nan_count) #No NAN Values


# %% Renaming Columns
data3b.rename(columns = {'Total_MismanagedPlasticWaste_2010 (millionT)':'2010_Mismanaged_Waste'}, inplace = True)
data3b.rename(columns = {'Total_MismanagedPlasticWaste_2019 (millionT)':'2019_Mismanaged_Waste'}, inplace = True)
print(data3b.head()) #Checking Switch

# %%
for col in data3b.columns:
    print(col)

# %% Exporting 
data3b.to_csv('cleandata3b.csv', index=False)

